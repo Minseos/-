{
  "nbformat": 4,
  "nbformat_minor": 0,
  "metadata": {
    "colab": {
      "provenance": []
    },
    "kernelspec": {
      "name": "python3",
      "display_name": "Python 3"
    },
    "language_info": {
      "name": "python"
    }
  },
  "cells": [
    {
      "cell_type": "markdown",
      "source": [
        "# 로컬 개발에서 AWS EC2까지 Docker Compose, Git, GitHub Actions을 사용한 Python 애플리케이션 배포 및 자동 업데이트\n",
        "\n"
      ],
      "metadata": {
        "id": "ZHCL-wWe-0f8"
      }
    },
    {
      "cell_type": "markdown",
      "source": [
        "# 1.로컬 환경에서 Docker Compose로 Python 애플리케이션 실행"
      ],
      "metadata": {
        "id": "gHimjgNGCu4h"
      }
    },
    {
      "cell_type": "markdown",
      "source": [
        "## 1.1 프로젝트 디렉토리 생성"
      ],
      "metadata": {
        "id": "aSUcbTDJ_0KK"
      }
    },
    {
      "cell_type": "markdown",
      "source": [
        "먼저, Python 애플리케이션이 포함된 디렉토리를 생성하고 해당 디렉토리로 이동합니다.\n",
        "```\n",
        "mkdir stock_analysis_app\n",
        "cd stock_analysis_app\n",
        "```"
      ],
      "metadata": {
        "id": "tSduZuTnC4js"
      }
    },
    {
      "cell_type": "markdown",
      "source": [
        "\n",
        "\n",
        "## 1.2 Python 스크립트 작성\n",
        "\n"
      ],
      "metadata": {
        "id": "zdWj4myuC-3v"
      }
    },
    {
      "cell_type": "markdown",
      "source": [
        "Python 애플리케이션 파일을 작성합니다. stock_analysis_autogluon.py 파일을 생성하고 아래 코드를 추가합니다.\n",
        "```\n",
        "nano stock_analysis_autogluon.py\n",
        "```"
      ],
      "metadata": {
        "id": "f4X6sXYgDCBt"
      }
    },
    {
      "cell_type": "markdown",
      "source": [
        "\n",
        "python 코드\n",
        "```\n",
        "import yfinance as yf\n",
        "import pandas as pd\n",
        "import matplotlib.pyplot as plt\n",
        "from autogluon.tabular import TabularPredictor\n",
        "from datetime import datetime, timedelta\n",
        "import numpy as np\n",
        "import gradio as gr\n",
        "import koreanize_matplotlib\n",
        "\n",
        "# 1. 분석할 주식 리스트 (Apple, Microsoft, Amazon, Tesla, Nvidia, AMD)\n",
        "tickers = {'AAPL': 'Apple', 'MSFT': 'Microsoft', 'AMZN': 'Amazon', 'TSLA': 'Tesla', 'NVDA': 'Nvidia', 'AMD': 'AMD'}\n",
        "\n",
        "# 2. 날짜 설정 (2014년 1월 1일부터 전날까지)\n",
        "end_date = datetime.now() - timedelta(days=1)  # 전날까지의 데이터\n",
        "start_date = datetime.strptime(\"2014-01-01\", \"%Y-%m-%d\")  # 2014년 1월 1일부터\n",
        "\n",
        "# 3. 주식 데이터를 불러오는 함수\n",
        "def load_stock_data(selected_ticker):\n",
        "    if selected_ticker not in tickers:\n",
        "        return f\"잘못된 티커를 입력하셨습니다.\"\n",
        "    \n",
        "    # yfinance로 주식 데이터 불러오기\n",
        "    df = yf.download(selected_ticker, start=start_date, end=end_date)\n",
        "    \n",
        "    if df.empty:\n",
        "        return f\"{tickers[selected_ticker]}에 대한 데이터가 없습니다.\"\n",
        "    \n",
        "    return df.head(), df.tail()  # 데이터를 head와 tail로 반환\n",
        "\n",
        "# 4. 분석 및 시각화하는 함수\n",
        "def analyze_stock(selected_ticker):\n",
        "    df = yf.download(selected_ticker, start=start_date, end=end_date)\n",
        "\n",
        "    # 데이터 전처리\n",
        "    df.reset_index(inplace=True)\n",
        "    df['Date'] = pd.to_datetime(df['Date'])\n",
        "    df['Day'] = (df['Date'] - df['Date'].min()).dt.days  # 날짜를 숫자로 변환\n",
        "\n",
        "    # 50일, 200일 이동평균선 계산\n",
        "    df['MA50'] = df['Close'].rolling(window=50).mean()\n",
        "    df['MA200'] = df['Close'].rolling(window=200).mean()\n",
        "\n",
        "    # 매수 및 매도 시점 계산\n",
        "    df['Signal'] = 0\n",
        "    df.loc[50:, 'Signal'] = np.where(df['MA50'][50:] > df['MA200'][50:], 1, 0)\n",
        "    df['Position'] = df['Signal'].diff()\n",
        "\n",
        "    # AutoGluon을 이용한 종가 예측\n",
        "    train_data = df[['Day', 'Close']].copy()\n",
        "    train_data = train_data.rename(columns={'Close': 'label'})\n",
        "    predictor = TabularPredictor(label='label').fit(train_data)\n",
        "\n",
        "    best_model = predictor.model_best\n",
        "    models = predictor.get_model_names()\n",
        "    all_predictions = [predictor.predict(train_data.drop(columns=['label']), model=model) for model in models]\n",
        "    mean_predictions = np.mean(np.array(all_predictions), axis=0)\n",
        "    std_predictions = np.std(np.array(all_predictions), axis=0)\n",
        "\n",
        "    mape = np.mean(np.abs((train_data['label'] - mean_predictions) / train_data['label'])) * 100\n",
        "\n",
        "    # 향후 30일 예측값 계산\n",
        "    future_dates = [end_date + timedelta(days=i) for i in range(1, 31)]\n",
        "    future_days = [(date - df['Date'].min()).days for date in future_dates]\n",
        "    future_df = pd.DataFrame({'Day': future_days})\n",
        "    future_all_predictions = [predictor.predict(future_df, model=model) for model in models]\n",
        "    future_mean_predictions = np.mean(np.array(future_all_predictions), axis=0)\n",
        "    future_std_predictions = np.std(np.array(future_all_predictions), axis=0)\n",
        "\n",
        "    # 시각화 함수\n",
        "    def plot_graph(data_df, future_dates, future_mean_predictions, future_std_predictions, title):\n",
        "        plt.figure(figsize=(14, 8))\n",
        "        plt.plot(data_df['Date'], data_df['Close'], label=f'{selected_ticker} Actual Close Prices', color='#A1C6EA')  # 파스텔 블루\n",
        "        plt.plot(data_df['Date'], data_df['MA50'], label='50-Day Moving Average', color='#F4B3C2', linestyle='--')  # 파스텔 핑크\n",
        "        plt.plot(data_df['Date'], data_df['MA200'], label='200-Day Moving Average', color='#B3D4A7', linestyle='--')  # 파스텔 그린\n",
        "        plt.plot(data_df[data_df['Position'] == 1]['Date'], data_df[data_df['Position'] == 1]['Close'], '^', markersize=10, color='red', lw=0, label='Buy Signal')\n",
        "        plt.plot(data_df[data_df['Position'] == -1]['Date'], data_df[data_df['Position'] == -1]['Close'], 'v', markersize=10, color='blue', lw=0, label='Sell Signal')\n",
        "        plt.plot(future_dates, future_mean_predictions, label='Future Predicted Prices', color='#B3D4A7', linestyle='--')\n",
        "        plt.fill_between(future_dates, future_mean_predictions - future_std_predictions, future_mean_predictions + future_std_predictions, color='#B3D4A7', alpha=0.2)\n",
        "        plt.xlabel('Date')\n",
        "        plt.ylabel('Stock Price')\n",
        "        plt.title(title)\n",
        "        plt.legend()\n",
        "        plt.tight_layout()\n",
        "        \n",
        "        # Gradio에서 그래프를 반환할 수 있도록 설정\n",
        "        return plt.gcf()\n",
        "\n",
        "    # 전체 기간 그래프\n",
        "    total_graph = plot_graph(df, future_dates, future_mean_predictions, future_std_predictions, \"전체 기간 및 예측\")\n",
        "\n",
        "    # 최근 3개월 데이터\n",
        "    last_3_months = df[df['Date'] >= (end_date - timedelta(days=90))]\n",
        "    three_month_graph = plot_graph(last_3_months, future_dates, future_mean_predictions, future_std_predictions, \"최근 3개월 및 예측\")\n",
        "\n",
        "    # 최근 1개월 데이터\n",
        "    last_1_month = df[df['Date'] >= (end_date - timedelta(days=30))]\n",
        "    one_month_graph = plot_graph(last_1_month, future_dates, future_mean_predictions, future_std_predictions, \"최근 1개월 및 예측\")\n",
        "\n",
        "    # MAPE 계산 결과 텍스트와 함께 반환\n",
        "    return total_graph, three_month_graph, one_month_graph, f\"{tickers[selected_ticker]} 분석 완료, MAPE: {mape:.2f}%\"\n",
        "\n",
        "# Gradio 이벤트 정의 수정\n",
        "def stock_analysis(selected_ticker):\n",
        "    total_graph, three_month_graph, one_month_graph, analysis_result = analyze_stock(selected_ticker)\n",
        "    # 각각의 그래프와 텍스트를 개별적으로 반환\n",
        "    return total_graph, three_month_graph, one_month_graph, analysis_result\n",
        "\n",
        "# Gradio UI 수정\n",
        "app = gr.Blocks()\n",
        "\n",
        "with app:\n",
        "    gr.Markdown(\"## 주식 데이터 조회 및 분석\")\n",
        "    \n",
        "    stock_ticker_dropdown = gr.Dropdown(choices=list(tickers.keys()), label=\"주식을 선택하세요\", value=\"AAPL\")\n",
        "    \n",
        "    with gr.Row():\n",
        "        stock_ticker_dropdown\n",
        "    \n",
        "    df_head_output = gr.Dataframe(label=\"Head 데이터\")\n",
        "    df_tail_output = gr.Dataframe(label=\"Tail 데이터\")\n",
        "    \n",
        "    stock_view_button = gr.Button(\"주가 보기\")\n",
        "    \n",
        "    with gr.Row():\n",
        "        stock_view_button\n",
        "    \n",
        "    with gr.Row():\n",
        "        df_head_output\n",
        "        df_tail_output\n",
        "    \n",
        "    total_graph_output = gr.Plot(label=\"전체 기간 그래프\")\n",
        "    three_month_graph_output = gr.Plot(label=\"최근 3개월 그래프\")\n",
        "    one_month_graph_output = gr.Plot(label=\"최근 1개월 그래프\")\n",
        "    analysis_text_output = gr.Textbox(label=\"분석 결과\")\n",
        "    \n",
        "    stock_analysis_button = gr.Button(\"주식 분석하기\")\n",
        "    \n",
        "    with gr.Row():\n",
        "        stock_analysis_button\n",
        "    \n",
        "    with gr.Row():\n",
        "        total_graph_output\n",
        "        three_month_graph_output\n",
        "        one_month_graph_output\n",
        "        analysis_text_output\n",
        "\n",
        "    # Gradio 이벤트 정의\n",
        "    stock_view_button.click(load_stock_data, inputs=stock_ticker_dropdown, outputs=[df_head_output, df_tail_output])\n",
        "    stock_analysis_button.click(stock_analysis, inputs=stock_ticker_dropdown, outputs=[total_graph_output, three_month_graph_output, one_month_graph_output, analysis_text_output])\n",
        "\n",
        "# Gradio 앱 실행\n",
        "app.launch(inline=False, inbrowser=True, server_name=\"0.0.0.0\")\n",
        "\n",
        "```\n",
        "\n"
      ],
      "metadata": {
        "id": "zcHEV9-hDXCh"
      }
    },
    {
      "cell_type": "markdown",
      "source": [
        "## 1.3 requirements.txt 생성"
      ],
      "metadata": {
        "id": "THuhQb_3EFaO"
      }
    },
    {
      "cell_type": "markdown",
      "source": [
        "애플리케이션에서 필요한 라이브러리 목록을 requirements.txt 파일로 정의합니다.\n",
        "```\n",
        "nano requirements.txt\n",
        "```\n",
        "\n",
        "```\n",
        "yfinance==0.2.18\n",
        "pandas\n",
        "matplotlib\n",
        "autogluon.tabular\n",
        "gradio\n",
        "koreanize-matplotlib\n",
        "```"
      ],
      "metadata": {
        "id": "P4sUcopnEE0n"
      }
    },
    {
      "cell_type": "markdown",
      "source": [
        "## 1.4 Dockerfile 생성"
      ],
      "metadata": {
        "id": "ueh6MbjdEgZA"
      }
    },
    {
      "cell_type": "markdown",
      "source": [
        "Dockerfile을 작성하여 Python 3.10 이미지를 기반으로 애플리케이션을 컨테이너로 실행하도록 설정합니다.\n",
        "```\n",
        "nano Dockerfile\n",
        "```\n",
        "\n",
        "```\n",
        "# Python 3.10 slim 이미지를 사용\n",
        "FROM python:3.10-slim\n",
        "\n",
        "# 작업 디렉토리 설정\n",
        "WORKDIR /app\n",
        "\n",
        "# requirements.txt 복사 및 설치\n",
        "COPY requirements.txt .\n",
        "RUN pip install --no-cache-dir -r requirements.txt\n",
        "\n",
        "# 애플리케이션 코드 복사\n",
        "COPY . .\n",
        "\n",
        "# 애플리케이션 실행\n",
        "CMD [\"python\", \"stock_analysis_autogluon.py\"]\n",
        "```"
      ],
      "metadata": {
        "id": "qoCL_hu4EgV8"
      }
    },
    {
      "cell_type": "markdown",
      "source": [
        "## 1.5 docker-compose.yml 생성"
      ],
      "metadata": {
        "id": "JnfFc2FOEgSU"
      }
    },
    {
      "cell_type": "markdown",
      "source": [
        "docker-compose.yml 파일을 생성하여 Docker Compose로 컨테이너를 관리합니다.\n",
        "```\n",
        "nano docker-compose.yml\n",
        "```\n",
        "\n",
        "```\n",
        "version: '3'\n",
        "services:\n",
        "  stock-analysis:\n",
        "    build: .\n",
        "    ports:\n",
        "      - \"7860:7860\"\n",
        "    volumes:\n",
        "      - .:/app\n",
        "    container_name: stock_analysis_app\n",
        "```"
      ],
      "metadata": {
        "id": "1o6ZiV3_EgOk"
      }
    },
    {
      "cell_type": "markdown",
      "source": [
        "## 1.6 Docker Compose로 애플리케이션 실행"
      ],
      "metadata": {
        "id": "XnFcD3qgEgGe"
      }
    },
    {
      "cell_type": "markdown",
      "source": [
        "로컬에서 Docker Compose로 애플리케이션을 빌드하고 실행합니다.\n",
        "```\n",
        "docker-compose up --build\n",
        "```\n",
        "실행이 완료되면 브라우저에서 http://localhost:7860으로 접속하여 애플리케이션을 테스트할 수 있습니다.\n",
        "\n"
      ],
      "metadata": {
        "id": "nKSJpoXDFBEI"
      }
    },
    {
      "cell_type": "markdown",
      "source": [
        "# 2.GitHub에 프로젝트 업로드"
      ],
      "metadata": {
        "id": "eOfCIMSBFBBl"
      }
    },
    {
      "cell_type": "markdown",
      "source": [
        "## 2.1 GitHub에 새로운 리포지토리 생성"
      ],
      "metadata": {
        "id": "-BBC8KKqFA-r"
      }
    },
    {
      "cell_type": "markdown",
      "source": [
        "GitHub에서 새 리포지토리를 생성한 후, 로컬 프로젝트 디렉토리에서 Git 초기화 및 첫 번째 커밋을 진행합니다.\n",
        "```\n",
        "# Git 초기화\n",
        "git init\n",
        "\n",
        "# 모든 파일 추가\n",
        "git add .\n",
        "\n",
        "# 커밋\n",
        "git commit -m \"Initial commit\"\n",
        "\n",
        "# GitHub 리포지토리 연결\n",
        "git remote add origin https://github.com/your_username/your_repository_name.git\n",
        "\n",
        "# 원격 저장소로 푸시\n",
        "git push -u origin master\n",
        "```\n",
        "이제 GitHub에 프로젝트가 업로드되었습니다."
      ],
      "metadata": {
        "id": "11IoGm5OFA7T"
      }
    },
    {
      "cell_type": "markdown",
      "source": [
        "# 3.EC2 인스턴스 설정 및 설치"
      ],
      "metadata": {
        "id": "PxIZCacCFA33"
      }
    },
    {
      "cell_type": "markdown",
      "source": [
        "## 3.1 EC2 인스턴스에 SSH로 접속"
      ],
      "metadata": {
        "id": "ScEPMb1jFA0V"
      }
    },
    {
      "cell_type": "markdown",
      "source": [
        "EC2 인스턴스에 SSH로 접속합니다.\n",
        "```\n",
        "ssh -i \"your-key.pem\" ec2-user@your-ec2-public-ip\n",
        "```\n"
      ],
      "metadata": {
        "id": "AtHMfkgdFAwT"
      }
    },
    {
      "cell_type": "markdown",
      "source": [
        "## 3.2 Git 설치"
      ],
      "metadata": {
        "id": "VCYjhElPFAnm"
      }
    },
    {
      "cell_type": "markdown",
      "source": [
        "EC2 인스턴스에 Git을 설치합니다.\n",
        "```\n",
        "sudo yum install -y git\n",
        "```"
      ],
      "metadata": {
        "id": "ipZ-YXF9FAXx"
      }
    },
    {
      "cell_type": "markdown",
      "source": [
        "## 3.3 Docker 설치"
      ],
      "metadata": {
        "id": "MlXNvrNCE_1W"
      }
    },
    {
      "cell_type": "markdown",
      "source": [
        "EC2 인스턴스에 Docker를 설치합니다.\n",
        "```\n",
        "# Docker 설치\n",
        "sudo yum update -y\n",
        "sudo yum install -y docker\n",
        "\n",
        "# Docker 서비스 시작\n",
        "sudo service docker start\n",
        "\n",
        "# ec2-user에게 Docker 권한 부여\n",
        "sudo usermod -a -G docker ec2-user\n",
        "\n",
        "# 변경 사항을 적용하려면 로그아웃 후 다시 로그인\n",
        "exit\n",
        "```\n",
        "다시 SSH로 접속합니다.\n",
        "```\n",
        "ssh -i \"your-key.pem\" ec2-user@your-ec2-public-ip\n",
        "```\n",
        "Docker가 정상적으로 설치되었는지 확인합니다.\n",
        "```\n",
        "docker --version\n",
        "```"
      ],
      "metadata": {
        "id": "My2Ie6FiGPw8"
      }
    },
    {
      "cell_type": "markdown",
      "source": [
        "## 3.4 Docker Compose 설치"
      ],
      "metadata": {
        "id": "sF4siy8DGPuI"
      }
    },
    {
      "cell_type": "markdown",
      "source": [
        "EC2 인스턴스에 Docker Compose를 설치합니다.\n",
        "```\n",
        "sudo curl -L \"https://github.com/docker/compose/releases/latest/download/docker-compose-$(uname -s)-$(uname -m)\" -o /usr/local/bin/docker-compose\n",
        "```\n",
        "실행 권한 부여\n",
        "```\n",
        "sudo chmod +x /usr/local/bin/docker-compose\n",
        "```\n",
        "Docker Compose 버전 확인\n",
        "```\n",
        "docker-compose --version\n",
        "```\n"
      ],
      "metadata": {
        "id": "UtHw68i0GPrM"
      }
    },
    {
      "cell_type": "markdown",
      "source": [
        "# 4.EC2 인스턴스에서 프로젝트 가져오기 및 실행"
      ],
      "metadata": {
        "id": "ZBR46j9kGPoH"
      }
    },
    {
      "cell_type": "markdown",
      "source": [
        "## 4.1 GitHub 리포지토리 클론"
      ],
      "metadata": {
        "id": "4IY9i2coGPk0"
      }
    },
    {
      "cell_type": "markdown",
      "source": [
        "EC2 인스턴스에서 GitHub 리포지토리를 클론합니다.<br>\n",
        "GitHub 리포지토리 클론\n",
        "```\n",
        "git clone https://github.com/your_username/your_repository_name.git\n",
        "```\n",
        "클론한 디렉토리로 이동\n",
        "```\n",
        "cd your_repository_name\n",
        "```"
      ],
      "metadata": {
        "id": "JHTPdRlJGPhi"
      }
    },
    {
      "cell_type": "markdown",
      "source": [
        "## 4.2 Docker Compose 실행\n",
        "EC2에서 Docker Compose로 애플리케이션을 빌드하고 실행합니다.<br>\n",
        "Docker Compose 빌드 및 실행\n",
        "```\n",
        "docker-compose up --build\n",
        "```\n",
        "이제 EC2 인스턴스에서 애플리케이션이 실행됩니다. 인스턴스의 퍼블릭 IP로 접속하여 애플리케이션에 접근할 수 있습니다.\n",
        "\n",
        "예: http://your-ec2-public-ip:7860"
      ],
      "metadata": {
        "id": "wMrg4HlWGPeU"
      }
    },
    {
      "cell_type": "markdown",
      "source": [
        "# 5.GitHub Actions을 사용한 1주일에 한 번 자동 업데이트"
      ],
      "metadata": {
        "id": "O8VY-0vmGPbC"
      }
    },
    {
      "cell_type": "markdown",
      "source": [
        "## 5.1 GitHub Secrets 설정\n",
        "먼저, EC2 인스턴스에 대한 SSH 접속을 위해 GitHub Secrets에 SSH 비밀번호 또는 SSH 키를 설정해야 합니다.<br>\n",
        "GitHub Repository Settings로 이동합니다.<br>\n",
        "좌측 메뉴에서 Secrets and variables -> Actions로 이동한 후 New repository secret을 클릭합니다.<br>\n",
        "아래와 같은 항목들을 추가합니다:<br>\n",
        "AWS_HOST: EC2 퍼블릭 IP (예: 43.202.33.102)<br>\n",
        "AWS_USER: EC2 접속 사용자 (예: ec2-user)<br>\n",
        "AWS_KEY: SSH 비밀 키 (.pem 파일 내용)<br>\n"
      ],
      "metadata": {
        "id": "HBd1Cfx0GPX8"
      }
    },
    {
      "cell_type": "markdown",
      "source": [
        "## 5.2 GitHub Actions 설정"
      ],
      "metadata": {
        "id": "5Fa2iSg7GPUy"
      }
    },
    {
      "cell_type": "markdown",
      "source": [
        "프로젝트 루트 디렉토리에 .github/workflows 디렉토리를 생성하고, 그 안에 deploy.yml 파일을 만듭니다.\n",
        "```\n",
        "mkdir -p .github/workflows\n",
        "nano .github/workflows/deploy.yml\n",
        "```\n",
        "deploy.yml 파일에 아래 내용을 추가합니다\n",
        "```\n",
        "name: Deploy to EC2\n",
        "\n",
        "on:\n",
        "  schedule:\n",
        "    - cron: '0 0 * * 0' # 매주 일요일 00:00에 실행\n",
        "\n",
        "jobs:\n",
        "  deploy:\n",
        "    runs-on: ubuntu-latest\n",
        "\n",
        "    steps:\n",
        "    - name: Checkout code\n",
        "      uses: actions/checkout@v2\n",
        "\n",
        "    - name: Connect to EC2 and update service\n",
        "      uses: appleboy/ssh-action@v0.1.3\n",
        "      with:\n",
        "        host: ${{ secrets.AWS_HOST }}\n",
        "        username: ${{ secrets.AWS_USER }}\n",
        "        key: ${{ secrets.AWS_KEY }}\n",
        "        script: |\n",
        "          cd your_repository_name  # 프로젝트 디렉토리로 이동\n",
        "          git pull origin master  # 최신 코드 가져오기\n",
        "          docker-compose down  # 기존 컨테이너 중지\n",
        "          docker-compose up --build -d  # 새로운 컨테이너 빌드 및 실행\n",
        "```\n",
        "이 deploy.yml 파일은 GitHub Actions가 설정된 일정(매주 일요일 00:00)에 EC2 서버에 SSH로 연결하여 최신 코드를 가져오고, Docker 컨테이너를 재빌드하여 배포하는 과정을 자동으로 수행합니다."
      ],
      "metadata": {
        "id": "WnPX3Cq4GPRO"
      }
    },
    {
      "cell_type": "markdown",
      "source": [
        "# 6.서비스 테스트 및 관리"
      ],
      "metadata": {
        "id": "o0bHGIBaGPOB"
      }
    },
    {
      "cell_type": "markdown",
      "source": [
        "## 6.1 서비스 확인"
      ],
      "metadata": {
        "id": "BmuWeCR3GPKe"
      }
    },
    {
      "cell_type": "markdown",
      "source": [
        "EC2에서 실행 중인 Docker 컨테이너가 잘 동작하는지 확인하려면 웹 브라우저에서 EC2 인스턴스의 퍼블릭 IP와 포트 7860으로 접속합니다.<br>\n",
        "\n",
        "예: http://your-ec2-public-ip:7860\n",
        "이 주소로 접속하여 Gradio 인터페이스가 정상적으로 작동하는지 확인할 수 있습니다."
      ],
      "metadata": {
        "id": "ifU5qlatGPGd"
      }
    },
    {
      "cell_type": "markdown",
      "source": [
        "## 6.2 서비스 중지"
      ],
      "metadata": {
        "id": "peO_om07GPCK"
      }
    },
    {
      "cell_type": "markdown",
      "source": [
        "서비스를 중지하려면 Docker Compose를 중지합니다.\n",
        "```\n",
        "docker-compose down\n",
        "```\n",
        "이 명령어를 실행하면 실행 중인 컨테이너가 중지되고 제거됩니다."
      ],
      "metadata": {
        "id": "wI4isF17GOk5"
      }
    },
    {
      "cell_type": "markdown",
      "source": [
        "## 6.3 백그라운드에서 실행"
      ],
      "metadata": {
        "id": "Zh6VOhgzKf4l"
      }
    },
    {
      "cell_type": "markdown",
      "source": [
        "Docker Compose를 백그라운드에서 실행하려면 -d 옵션을 사용합니다.\n",
        "```\n",
        "docker-compose up -d --build\n",
        "```\n",
        "이 명령어를 실행하면 Docker가 백그라운드에서 애플리케이션을 실행하게 되며, EC2 인스턴스를 다시 시작하거나 연결을 끊어도 애플리케이션이 계속 작동합니다."
      ],
      "metadata": {
        "id": "9iLE9jZMKf1i"
      }
    }
  ]
}