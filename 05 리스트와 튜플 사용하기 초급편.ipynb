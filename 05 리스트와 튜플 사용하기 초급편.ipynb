{
 "cells": [
  {
   "cell_type": "markdown",
   "id": "5ae6383f-902b-4e81-b5ed-7f991d9837cb",
   "metadata": {},
   "source": [
    "### 리스트와 튜플 사용하기"
   ]
  },
  {
   "cell_type": "code",
   "execution_count": 1,
   "id": "023bb439-68ae-42a9-8cbf-af873b34262d",
   "metadata": {},
   "outputs": [],
   "source": [
    "a = 1\n",
    "b = 2\n",
    "c = 3\n",
    "d = 4\n",
    "e = 5"
   ]
  },
  {
   "cell_type": "code",
   "execution_count": 3,
   "id": "837b35e4-1f8c-4f73-b41b-a48f96e9c079",
   "metadata": {},
   "outputs": [
    {
     "data": {
      "text/plain": [
       "[1, 2, 3]"
      ]
     },
     "execution_count": 3,
     "metadata": {},
     "output_type": "execute_result"
    }
   ],
   "source": [
    "L1 = [1,2,3,4,5][:3]\n",
    "L1"
   ]
  },
  {
   "cell_type": "code",
   "execution_count": 4,
   "id": "b7184b63-1390-4acf-a91b-a9c26e23f1c0",
   "metadata": {},
   "outputs": [
    {
     "data": {
      "text/plain": [
       "['파이썬', 2, 17.2, True]"
      ]
     },
     "execution_count": 4,
     "metadata": {},
     "output_type": "execute_result"
    }
   ],
   "source": [
    "L2 = ['파이썬', 2, 17.2, True]\n",
    "L2"
   ]
  },
  {
   "cell_type": "code",
   "execution_count": 5,
   "id": "03c066a0-5dd9-4a70-8216-61d9176cbeba",
   "metadata": {},
   "outputs": [
    {
     "data": {
      "text/plain": [
       "'파이썬'"
      ]
     },
     "execution_count": 5,
     "metadata": {},
     "output_type": "execute_result"
    }
   ],
   "source": [
    "L2[0]"
   ]
  },
  {
   "cell_type": "code",
   "execution_count": 7,
   "id": "a1d65eab-aa8b-492d-a10d-87c882ea4f3c",
   "metadata": {},
   "outputs": [
    {
     "data": {
      "text/plain": [
       "[2, 17.2]"
      ]
     },
     "execution_count": 7,
     "metadata": {},
     "output_type": "execute_result"
    }
   ],
   "source": [
    "L2[1:3]"
   ]
  },
  {
   "cell_type": "code",
   "execution_count": 8,
   "id": "8e3feb9d-b4e8-48f0-917d-70fd1aa63f49",
   "metadata": {
    "scrolled": true
   },
   "outputs": [
    {
     "name": "stdout",
     "output_type": "stream",
     "text": [
      "<class 'list'>\n"
     ]
    }
   ],
   "source": [
    "print(type(L2))"
   ]
  },
  {
   "cell_type": "markdown",
   "id": "eb392c37-f84e-4b77-8dc6-84346746957a",
   "metadata": {},
   "source": [
    "* 빈리스트 만들기"
   ]
  },
  {
   "cell_type": "code",
   "execution_count": 9,
   "id": "afee51fb-f615-4a78-93c0-4884043edd52",
   "metadata": {},
   "outputs": [
    {
     "data": {
      "text/plain": [
       "[]"
      ]
     },
     "execution_count": 9,
     "metadata": {},
     "output_type": "execute_result"
    }
   ],
   "source": [
    "L3 = []\n",
    "L3"
   ]
  },
  {
   "cell_type": "code",
   "execution_count": 10,
   "id": "a2188a7e-75eb-4357-85d2-b5db6bf898c7",
   "metadata": {},
   "outputs": [
    {
     "data": {
      "text/plain": [
       "[3]"
      ]
     },
     "execution_count": 10,
     "metadata": {},
     "output_type": "execute_result"
    }
   ],
   "source": [
    "L4 = [3]\n",
    "L4"
   ]
  },
  {
   "cell_type": "markdown",
   "id": "b84b1aa8-a851-4510-96ee-ab3edb9e3f1d",
   "metadata": {},
   "source": [
    "## list() 형변환"
   ]
  },
  {
   "cell_type": "code",
   "execution_count": 11,
   "id": "087c210b-e58d-4bcb-af65-c539b9505d0b",
   "metadata": {},
   "outputs": [
    {
     "name": "stdout",
     "output_type": "stream",
     "text": [
      "range(0, 10)\n"
     ]
    }
   ],
   "source": [
    "print(range(10))"
   ]
  },
  {
   "cell_type": "code",
   "execution_count": 13,
   "id": "68053092-3d2f-4d53-a673-2b75e99b0d2d",
   "metadata": {},
   "outputs": [
    {
     "name": "stdout",
     "output_type": "stream",
     "text": [
      "0\n",
      "1\n",
      "2\n",
      "3\n",
      "4\n",
      "5\n",
      "6\n",
      "7\n",
      "8\n",
      "9\n"
     ]
    }
   ],
   "source": [
    "for i in range(10):\n",
    "    print(i)"
   ]
  },
  {
   "cell_type": "code",
   "execution_count": 14,
   "id": "af5f2fc2-eb1a-4771-80cf-05356d632e5c",
   "metadata": {},
   "outputs": [
    {
     "data": {
      "text/plain": [
       "[0, 1, 2, 3, 4, 5, 6, 7, 8, 9]"
      ]
     },
     "execution_count": 14,
     "metadata": {},
     "output_type": "execute_result"
    }
   ],
   "source": [
    "L5 = list(range(10))\n",
    "L5"
   ]
  },
  {
   "cell_type": "markdown",
   "id": "6ba00c63-48fc-412a-a0fc-3b89ac0fa60d",
   "metadata": {},
   "source": [
    "## range() 함수\n",
    "* range(시작, 끝, 증가값)"
   ]
  },
  {
   "cell_type": "code",
   "execution_count": 16,
   "id": "10973594-11b5-4f09-814f-6a56e8f491f8",
   "metadata": {},
   "outputs": [
    {
     "data": {
      "text/plain": [
       "[0, 1, 2, 3, 4, 5, 6, 7, 8, 9]"
      ]
     },
     "execution_count": 16,
     "metadata": {},
     "output_type": "execute_result"
    }
   ],
   "source": [
    "list(range(10))"
   ]
  },
  {
   "cell_type": "code",
   "execution_count": 18,
   "id": "8506c621-5008-4e7f-8409-3c1c42c6a4d3",
   "metadata": {},
   "outputs": [
    {
     "data": {
      "text/plain": [
       "[1, 2, 3, 4, 5, 6, 7, 8, 9, 10]"
      ]
     },
     "execution_count": 18,
     "metadata": {},
     "output_type": "execute_result"
    }
   ],
   "source": [
    "list(range(1,11))"
   ]
  },
  {
   "cell_type": "code",
   "execution_count": 19,
   "id": "6f64178b-1022-49ad-ad71-b24c0fd6c49d",
   "metadata": {},
   "outputs": [
    {
     "data": {
      "text/plain": [
       "[1, 3, 5, 7, 9, 11, 13, 15, 17, 19]"
      ]
     },
     "execution_count": 19,
     "metadata": {},
     "output_type": "execute_result"
    }
   ],
   "source": [
    "list(range(1,20,2))"
   ]
  },
  {
   "cell_type": "code",
   "execution_count": 20,
   "id": "f4fb337e-8bd4-448f-b023-84289fce1782",
   "metadata": {},
   "outputs": [
    {
     "data": {
      "text/plain": [
       "[3,\n",
       " 6,\n",
       " 9,\n",
       " 12,\n",
       " 15,\n",
       " 18,\n",
       " 21,\n",
       " 24,\n",
       " 27,\n",
       " 30,\n",
       " 33,\n",
       " 36,\n",
       " 39,\n",
       " 42,\n",
       " 45,\n",
       " 48,\n",
       " 51,\n",
       " 54,\n",
       " 57,\n",
       " 60,\n",
       " 63,\n",
       " 66,\n",
       " 69,\n",
       " 72,\n",
       " 75,\n",
       " 78,\n",
       " 81,\n",
       " 84,\n",
       " 87,\n",
       " 90,\n",
       " 93,\n",
       " 96,\n",
       " 99]"
      ]
     },
     "execution_count": 20,
     "metadata": {},
     "output_type": "execute_result"
    }
   ],
   "source": [
    "list(range(3, 100, 3))"
   ]
  },
  {
   "cell_type": "code",
   "execution_count": 21,
   "id": "c4aa781d-a781-4f36-9a4a-73e7224c8a6f",
   "metadata": {},
   "outputs": [
    {
     "data": {
      "text/plain": [
       "[99,\n",
       " 96,\n",
       " 93,\n",
       " 90,\n",
       " 87,\n",
       " 84,\n",
       " 81,\n",
       " 78,\n",
       " 75,\n",
       " 72,\n",
       " 69,\n",
       " 66,\n",
       " 63,\n",
       " 60,\n",
       " 57,\n",
       " 54,\n",
       " 51,\n",
       " 48,\n",
       " 45,\n",
       " 42,\n",
       " 39,\n",
       " 36,\n",
       " 33,\n",
       " 30,\n",
       " 27,\n",
       " 24,\n",
       " 21,\n",
       " 18,\n",
       " 15,\n",
       " 12,\n",
       " 9,\n",
       " 6,\n",
       " 3]"
      ]
     },
     "execution_count": 21,
     "metadata": {},
     "output_type": "execute_result"
    }
   ],
   "source": [
    "list(range(99,1,-3))"
   ]
  },
  {
   "cell_type": "markdown",
   "id": "8f3500a5-7a9c-4ce1-9066-5b5bf97f23ac",
   "metadata": {},
   "source": [
    "### .append() 리스트의 끝에 자료 추가"
   ]
  },
  {
   "cell_type": "code",
   "execution_count": 22,
   "id": "ab5e0048-e8c8-4f5c-866d-bd64a6314167",
   "metadata": {},
   "outputs": [],
   "source": [
    "L2.append(3)"
   ]
  },
  {
   "cell_type": "code",
   "execution_count": 23,
   "id": "46dafe0e-eee6-48d1-a295-442dea7b32b9",
   "metadata": {},
   "outputs": [
    {
     "data": {
      "text/plain": [
       "['파이썬', 2, 17.2, True, 3]"
      ]
     },
     "execution_count": 23,
     "metadata": {},
     "output_type": "execute_result"
    }
   ],
   "source": [
    "L2"
   ]
  },
  {
   "cell_type": "code",
   "execution_count": 25,
   "id": "64e148bb-9253-40a1-ad7e-4f7f9cda2803",
   "metadata": {},
   "outputs": [
    {
     "data": {
      "text/plain": [
       "['파이썬', 2, 17.2, True, 3, [1, 2, 3], [1, 2, 3]]"
      ]
     },
     "execution_count": 25,
     "metadata": {},
     "output_type": "execute_result"
    }
   ],
   "source": [
    "L2.append([1,2,3])\n",
    "L2"
   ]
  },
  {
   "cell_type": "markdown",
   "id": "6a080e1e-0374-4478-b04d-eeb27714b79d",
   "metadata": {},
   "source": [
    "* 길이를 재는 함수 len()"
   ]
  },
  {
   "cell_type": "code",
   "execution_count": 26,
   "id": "63307ac8-2634-494d-a181-7ea42439f53b",
   "metadata": {},
   "outputs": [
    {
     "data": {
      "text/plain": [
       "7"
      ]
     },
     "execution_count": 26,
     "metadata": {},
     "output_type": "execute_result"
    }
   ],
   "source": [
    "len(L2)"
   ]
  },
  {
   "cell_type": "code",
   "execution_count": 27,
   "id": "a6400ca4-4def-4a25-b513-c75725acdfdd",
   "metadata": {},
   "outputs": [],
   "source": [
    "L2.append(list(range(100)))"
   ]
  },
  {
   "cell_type": "code",
   "execution_count": 28,
   "id": "196e5b4a-c267-4bf0-9a58-12800e2c6f48",
   "metadata": {},
   "outputs": [
    {
     "data": {
      "text/plain": [
       "8"
      ]
     },
     "execution_count": 28,
     "metadata": {},
     "output_type": "execute_result"
    }
   ],
   "source": [
    "len(L2)"
   ]
  },
  {
   "cell_type": "code",
   "execution_count": 30,
   "id": "1b656cc8-f4a9-463d-a9dc-2b35458fff60",
   "metadata": {},
   "outputs": [
    {
     "data": {
      "text/plain": [
       "[0,\n",
       " 1,\n",
       " 2,\n",
       " 3,\n",
       " 4,\n",
       " 5,\n",
       " 6,\n",
       " 7,\n",
       " 8,\n",
       " 9,\n",
       " 10,\n",
       " 11,\n",
       " 12,\n",
       " 13,\n",
       " 14,\n",
       " 15,\n",
       " 16,\n",
       " 17,\n",
       " 18,\n",
       " 19,\n",
       " 20,\n",
       " 21,\n",
       " 22,\n",
       " 23,\n",
       " 24,\n",
       " 25,\n",
       " 26,\n",
       " 27,\n",
       " 28,\n",
       " 29,\n",
       " 30,\n",
       " 31,\n",
       " 32,\n",
       " 33,\n",
       " 34,\n",
       " 35,\n",
       " 36,\n",
       " 37,\n",
       " 38,\n",
       " 39,\n",
       " 40,\n",
       " 41,\n",
       " 42,\n",
       " 43,\n",
       " 44,\n",
       " 45,\n",
       " 46,\n",
       " 47,\n",
       " 48,\n",
       " 49,\n",
       " 50,\n",
       " 51,\n",
       " 52,\n",
       " 53,\n",
       " 54,\n",
       " 55,\n",
       " 56,\n",
       " 57,\n",
       " 58,\n",
       " 59,\n",
       " 60,\n",
       " 61,\n",
       " 62,\n",
       " 63,\n",
       " 64,\n",
       " 65,\n",
       " 66,\n",
       " 67,\n",
       " 68,\n",
       " 69,\n",
       " 70,\n",
       " 71,\n",
       " 72,\n",
       " 73,\n",
       " 74,\n",
       " 75,\n",
       " 76,\n",
       " 77,\n",
       " 78,\n",
       " 79,\n",
       " 80,\n",
       " 81,\n",
       " 82,\n",
       " 83,\n",
       " 84,\n",
       " 85,\n",
       " 86,\n",
       " 87,\n",
       " 88,\n",
       " 89,\n",
       " 90,\n",
       " 91,\n",
       " 92,\n",
       " 93,\n",
       " 94,\n",
       " 95,\n",
       " 96,\n",
       " 97,\n",
       " 98,\n",
       " 99]"
      ]
     },
     "execution_count": 30,
     "metadata": {},
     "output_type": "execute_result"
    }
   ],
   "source": [
    "L2[7]"
   ]
  },
  {
   "cell_type": "code",
   "execution_count": 31,
   "id": "45dcd82c-c2d5-4d87-b180-ddced6febb12",
   "metadata": {},
   "outputs": [
    {
     "data": {
      "text/plain": [
       "100"
      ]
     },
     "execution_count": 31,
     "metadata": {},
     "output_type": "execute_result"
    }
   ],
   "source": [
    "len(L2[7])"
   ]
  },
  {
   "cell_type": "markdown",
   "id": "247f23a4-b6c6-4ecb-9763-e44f5639110f",
   "metadata": {},
   "source": [
    "## insert()\n",
    "* .insert(추가할 위치, 인덱스, 값)"
   ]
  },
  {
   "cell_type": "code",
   "execution_count": 33,
   "id": "5ce635fb-075e-41f3-a63f-cf8868720494",
   "metadata": {},
   "outputs": [],
   "source": [
    "del L2[7]"
   ]
  },
  {
   "cell_type": "code",
   "execution_count": 45,
   "id": "892912ed-291b-4d88-855b-82120bf14fdd",
   "metadata": {},
   "outputs": [],
   "source": [
    "del L2[6]"
   ]
  },
  {
   "cell_type": "code",
   "execution_count": 39,
   "id": "18f346a8-8f18-49ca-9ddd-1914727d6524",
   "metadata": {},
   "outputs": [],
   "source": [
    "L2.insert(2, \"리스트 함수\")"
   ]
  },
  {
   "cell_type": "code",
   "execution_count": 48,
   "id": "dd98865a-5720-4f5f-ac85-d7b2d295a628",
   "metadata": {},
   "outputs": [
    {
     "data": {
      "text/plain": [
       "['파이썬', 2, '리스트 함수', 17.2, True, 3, [1, 2, 3]]"
      ]
     },
     "execution_count": 48,
     "metadata": {},
     "output_type": "execute_result"
    }
   ],
   "source": [
    "L2"
   ]
  },
  {
   "cell_type": "code",
   "execution_count": 47,
   "id": "1d67edeb-c9ff-4090-a64b-5290cbce3bb5",
   "metadata": {},
   "outputs": [],
   "source": [
    "L2.append([1,2,3])"
   ]
  },
  {
   "cell_type": "markdown",
   "id": "4144a356-f8b4-4f92-84af-c55b7a3fbac4",
   "metadata": {},
   "source": [
    "## 리스트의 자료 삭제\n",
    "* del 변수명[인덱스 번호]\n",
    "* .pop(): 리스트의 가장 끝 자료가 출력되고 삭제됨\n",
    "* .remove(값) : 리스트의 앞부터 일치하는 값 1개를 찾아서 삭제"
   ]
  },
  {
   "cell_type": "code",
   "execution_count": 49,
   "id": "2ec3a516-4c6e-40e3-9a0e-28127b3792ac",
   "metadata": {},
   "outputs": [],
   "source": [
    "del L2[1]"
   ]
  },
  {
   "cell_type": "code",
   "execution_count": 50,
   "id": "d643e377-ed48-4fca-99e4-34bfd4e5281f",
   "metadata": {},
   "outputs": [
    {
     "data": {
      "text/plain": [
       "['파이썬', '리스트 함수', 17.2, True, 3, [1, 2, 3]]"
      ]
     },
     "execution_count": 50,
     "metadata": {},
     "output_type": "execute_result"
    }
   ],
   "source": [
    "L2"
   ]
  },
  {
   "cell_type": "code",
   "execution_count": 51,
   "id": "ebc90529-bc5c-462e-b666-4b4c53d9ce9d",
   "metadata": {},
   "outputs": [
    {
     "data": {
      "text/plain": [
       "[1, 2, 3]"
      ]
     },
     "execution_count": 51,
     "metadata": {},
     "output_type": "execute_result"
    }
   ],
   "source": [
    "L2.pop()"
   ]
  },
  {
   "cell_type": "code",
   "execution_count": 52,
   "id": "15e00c18-9503-48de-93d8-7e12fe45fb2c",
   "metadata": {},
   "outputs": [
    {
     "data": {
      "text/plain": [
       "['파이썬', '리스트 함수', 17.2, True, 3]"
      ]
     },
     "execution_count": 52,
     "metadata": {},
     "output_type": "execute_result"
    }
   ],
   "source": [
    "L2"
   ]
  },
  {
   "cell_type": "code",
   "execution_count": 53,
   "id": "fdfc075f-5a3b-4546-8f4e-02c864dd14c0",
   "metadata": {},
   "outputs": [],
   "source": [
    "L2.append(17.2)"
   ]
  },
  {
   "cell_type": "code",
   "execution_count": 54,
   "id": "c9074e69-d03b-44fe-b59c-e828554b3f77",
   "metadata": {},
   "outputs": [
    {
     "data": {
      "text/plain": [
       "['파이썬', '리스트 함수', 17.2, True, 3, 17.2]"
      ]
     },
     "execution_count": 54,
     "metadata": {},
     "output_type": "execute_result"
    }
   ],
   "source": [
    "L2"
   ]
  },
  {
   "cell_type": "code",
   "execution_count": 55,
   "id": "c2d109f4-d6ad-4f27-9a97-530241d2a373",
   "metadata": {},
   "outputs": [],
   "source": [
    "L2.remove(17.2)"
   ]
  },
  {
   "cell_type": "code",
   "execution_count": 56,
   "id": "658a4571-b55b-4962-8e2a-fc4ac04a1c57",
   "metadata": {},
   "outputs": [
    {
     "data": {
      "text/plain": [
       "['파이썬', '리스트 함수', True, 3, 17.2]"
      ]
     },
     "execution_count": 56,
     "metadata": {},
     "output_type": "execute_result"
    }
   ],
   "source": [
    "L2"
   ]
  },
  {
   "cell_type": "code",
   "execution_count": 57,
   "id": "1727d986-deaf-45f7-886f-a77b87e4b87e",
   "metadata": {},
   "outputs": [
    {
     "data": {
      "text/plain": [
       "['파이썬', '리스트 함수', [17.2, 3, '파이썬'], True, 3, 17.2]"
      ]
     },
     "execution_count": 57,
     "metadata": {},
     "output_type": "execute_result"
    }
   ],
   "source": [
    "L2.insert(2, [17.2, 3, '파이썬'])\n",
    "L2"
   ]
  },
  {
   "cell_type": "code",
   "execution_count": 58,
   "id": "bebe0619-16ee-40e5-8d25-fa985a8bf007",
   "metadata": {},
   "outputs": [],
   "source": [
    "L2.remove(17.2)"
   ]
  },
  {
   "cell_type": "code",
   "execution_count": 59,
   "id": "bc4db72e-9bed-4dbb-a15b-1684bf9d9f34",
   "metadata": {},
   "outputs": [
    {
     "data": {
      "text/plain": [
       "['파이썬', '리스트 함수', [17.2, 3, '파이썬'], True, 3]"
      ]
     },
     "execution_count": 59,
     "metadata": {},
     "output_type": "execute_result"
    }
   ],
   "source": [
    "L2"
   ]
  },
  {
   "cell_type": "code",
   "execution_count": 60,
   "id": "d8c8c936-9c5a-40df-952a-1f6365447984",
   "metadata": {},
   "outputs": [
    {
     "data": {
      "text/plain": [
       "['파이썬', '리스트 함수', [3, '파이썬'], True, 3]"
      ]
     },
     "execution_count": 60,
     "metadata": {},
     "output_type": "execute_result"
    }
   ],
   "source": [
    "L2[2].remove(17.2)\n",
    "L2"
   ]
  },
  {
   "cell_type": "code",
   "execution_count": null,
   "id": "8409fbfc-9437-450f-9f4c-f8fb983063d2",
   "metadata": {},
   "outputs": [],
   "source": []
  },
  {
   "cell_type": "code",
   "execution_count": null,
   "id": "b04d27a3-ad63-4d84-903d-caafe2aeb00b",
   "metadata": {},
   "outputs": [],
   "source": []
  },
  {
   "cell_type": "code",
   "execution_count": null,
   "id": "e7f7da1c-959b-4ece-9d11-3160853fb02f",
   "metadata": {},
   "outputs": [],
   "source": []
  },
  {
   "cell_type": "code",
   "execution_count": null,
   "id": "ffc57904-cf20-4fe4-9ac5-41c5c9d45df7",
   "metadata": {},
   "outputs": [],
   "source": []
  },
  {
   "cell_type": "code",
   "execution_count": null,
   "id": "3a19c088-66d4-47c7-a09f-e82a227232b9",
   "metadata": {},
   "outputs": [],
   "source": []
  },
  {
   "cell_type": "code",
   "execution_count": null,
   "id": "fb24b82a-9fa5-4e46-be64-1019f5dde120",
   "metadata": {},
   "outputs": [],
   "source": []
  },
  {
   "cell_type": "code",
   "execution_count": null,
   "id": "4684d51e-9033-4062-8813-9d5fb51e5a0d",
   "metadata": {},
   "outputs": [],
   "source": []
  },
  {
   "cell_type": "code",
   "execution_count": null,
   "id": "e470bd86-cbc4-4d54-976d-9ba259fb05b7",
   "metadata": {},
   "outputs": [],
   "source": []
  },
  {
   "cell_type": "code",
   "execution_count": null,
   "id": "eca416fb-cc81-4679-835d-5ba2b7ae1cd3",
   "metadata": {},
   "outputs": [],
   "source": []
  },
  {
   "cell_type": "code",
   "execution_count": null,
   "id": "2d500663-a70a-48fb-8ad7-446821da22f7",
   "metadata": {},
   "outputs": [],
   "source": []
  },
  {
   "cell_type": "code",
   "execution_count": null,
   "id": "e5d4cdea-7660-4c5b-a06f-a797ec1822c2",
   "metadata": {},
   "outputs": [],
   "source": []
  }
 ],
 "metadata": {
  "kernelspec": {
   "display_name": "Python 3 (ipykernel)",
   "language": "python",
   "name": "python3"
  },
  "language_info": {
   "codemirror_mode": {
    "name": "ipython",
    "version": 3
   },
   "file_extension": ".py",
   "mimetype": "text/x-python",
   "name": "python",
   "nbconvert_exporter": "python",
   "pygments_lexer": "ipython3",
   "version": "3.10.14"
  }
 },
 "nbformat": 4,
 "nbformat_minor": 5
}
