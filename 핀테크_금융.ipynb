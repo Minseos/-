{
  "nbformat": 4,
  "nbformat_minor": 0,
  "metadata": {
    "colab": {
      "provenance": [],
      "toc_visible": true,
      "include_colab_link": true
    },
    "kernelspec": {
      "name": "python3",
      "display_name": "Python 3"
    },
    "language_info": {
      "name": "python"
    }
  },
  "cells": [
    {
      "cell_type": "markdown",
      "metadata": {
        "id": "view-in-github",
        "colab_type": "text"
      },
      "source": [
        "<a href=\"https://colab.research.google.com/github/Minseos/-/blob/main/%ED%95%80%ED%85%8C%ED%81%AC_%EA%B8%88%EC%9C%B5.ipynb\" target=\"_parent\"><img src=\"https://colab.research.google.com/assets/colab-badge.svg\" alt=\"Open In Colab\"/></a>"
      ]
    },
    {
      "cell_type": "markdown",
      "source": [
        "# PART-1 전통적인 금융 이론"
      ],
      "metadata": {
        "id": "w8jmZdbK8AON"
      }
    },
    {
      "cell_type": "markdown",
      "source": [
        "## 거래자산과 차익거래 예제\n",
        "- 2-기간 금융 모델에서 유러피안 콜 옵션의 초기 가격을 계산하는 방식\n",
        "- 옵션의 미래 가치를 계산하고, 이를 바탕으로 옵션의 현재 가치를 추정\n",
        "- C0는 이 모델에서 행사가 K=14.5인 유러피안 콜 옵션의 시점 0에서의 가격\n",
        "- 주식 및 채권에 대한 비중을 구한 후, 이를 시점 0의 주식 및 채권 가격과 곱하여 옵션의 현재 가치를 계산하는 방식\n",
        "- 차익거래 가격결정 이론(APT : Arbitrage Pricing Theory)"
      ],
      "metadata": {
        "id": "TtRsF15e8Dv5"
      }
    },
    {
      "cell_type": "code",
      "source": [
        "import numpy as np\n",
        "\n",
        "# 시점 0에서 주식과 채권의 가격\n",
        "S0 = 10  # 현재 주식 가격\n",
        "B0 = 10  # 현재 채권(무위험 자산) 가격\n",
        "\n",
        "# 시점 1에서 주식과 채권의 가격 배열 (각각 두 가지 경우)\n",
        "S1 = np.array((20, 5))  # 미래의 주식 가격 (상승 시 20, 하락 시 5)\n",
        "B1 = np.array((11, 11))  # 미래의 채권 가격 (두 경우 모두 11)\n",
        "\n",
        "# 시점 0에서 주식과 채권의 가격 벡터\n",
        "M0 = np.array((S0, B0))\n",
        "\n",
        "# 시점 1에서 주식과 채권의 가격 행렬 (전치하여 두 가지 경우를 행으로)\n",
        "M1 = np.array((S1, B1)).T\n",
        "\n",
        "# 옵션의 행사가\n",
        "K = 14.5\n",
        "\n",
        "# 시점 1에서의 콜 옵션 종가 (max(주식 가격 - 행사가, 0))\n",
        "C1 = np.maximum(S1 - K, 0)\n",
        "\n",
        "# 선형 방정식 M1 * phi = C1 을 풀어 주식과 채권의 비율(phi) 계산\n",
        "phi = np.linalg.solve(M1, C1)\n",
        "\n",
        "# 계산된 phi로부터 실제로 C1을 재구성할 수 있는지 확인\n",
        "np.allclose(C1, np.dot(M1, phi))\n",
        "\n",
        "# 시점 0에서 콜 옵션의 현재 가격 계산 (주식과 채권의 현재 가격과 phi의 내적)\n",
        "C0 = np.dot(M0, phi)\n",
        "\n",
        "# 결과 출력 (C0은 옵션의 현재 가격)\n",
        "print(C0)\n"
      ],
      "metadata": {
        "colab": {
          "base_uri": "https://localhost:8080/"
        },
        "id": "j6fhm25s8IsL",
        "outputId": "a251ecdf-9fe6-42e2-bc75-056fce9c8b68",
        "collapsed": true
      },
      "execution_count": null,
      "outputs": [
        {
          "output_type": "stream",
          "name": "stdout",
          "text": [
            "2.0\n"
          ]
        }
      ]
    },
    {
      "cell_type": "markdown",
      "source": [
        "## 기대효용 이론 수치 예제\n",
        "- 참조 : https://github.com/yhilpisch/aiif\n",
        "- 기대효용함수\n",
        "  + 리스크 회피형 베르누이 효용 함수\n",
        "  + 사람들이 같은 기댓값을 가진 선택지 중에서도 리스크가 적은 선택지를 선호하는 성향을 반영\n",
        "  + 안정적인 보상을 더 가치 있게 여긴다는 가정 반영\n",
        "- 불확실성 하의 의사결정\n",
        "- 리스크 회피\n",
        "- 기대값 계산"
      ],
      "metadata": {
        "id": "PVNRnbCcbXJX"
      }
    },
    {
      "cell_type": "code",
      "source": [
        "# 리스크 회피 베르누이 효용함수\n",
        "def u(x):\n",
        "    return np.sqrt(x)\n",
        "\n",
        "# 서로 다른 가중치를 가진 두 개의 포트폴리오\n",
        "phi_A = np.array((0.75, 0.25))  # A 상태의 확률 분포\n",
        "phi_D = np.array((0.25, 0.75))  # D 상태의 확률 분포\n",
        "\n",
        "# 두 포트폴리오를 만드는 비용은 같음\n",
        "np.dot(M0, phi_A) == np.dot(M0, phi_D)\n",
        "\n",
        "# 한 포트폴리오의 페이오프\n",
        "A1 = np.dot(M1, phi_A)\n",
        "\n",
        "# 다른 포트폴리오의 페이오프\n",
        "D1 = np.dot(M1, phi_D)\n",
        "\n",
        "# 확률 측도\n",
        "P = np.array((0.5, 0.5))\n",
        "\n",
        "# 기대 효용 함수 정의\n",
        "def EUT(x):\n",
        "    return np.dot(P, u(x))\n",
        "\n",
        "# 두 페이오프의 효용치\n",
        "print(EUT(A1))\n",
        "\n",
        "# 두 페이오프의 효용치\n",
        "print(EUT(D1))"
      ],
      "metadata": {
        "colab": {
          "base_uri": "https://localhost:8080/"
        },
        "id": "0ii9UhpNbZvA",
        "outputId": "5f30d944-12a6-4111-b4ea-11772c8c4a2c"
      },
      "execution_count": null,
      "outputs": [
        {
          "output_type": "stream",
          "name": "stdout",
          "text": [
            "3.381292321692286\n",
            "3.3611309730623735\n"
          ]
        }
      ]
    },
    {
      "cell_type": "markdown",
      "source": [
        "- 전형적인 문제 : 고정 비용으로 양의 가중치를 가진 최적의 포트폴리오 찾기"
      ],
      "metadata": {
        "id": "97RR8CjydPsj"
      }
    },
    {
      "cell_type": "code",
      "source": [
        "from scipy.optimize import minimize\n",
        "\n",
        "# 고정된 예산 w\n",
        "w = 10  # 예산 제약 조건으로 포트폴리오가 가질 수 있는 자산 총합이 10으로 고정됨\n",
        "\n",
        "# 함수에 넣을 제한 조건: 포트폴리오가 고정된 예산 w에 맞추어져야 함\n",
        "cons = {'type': 'eq', 'fun': lambda phi: np.dot(M0, phi) - w}\n",
        "# 제한 조건은 M0와 포트폴리오 벡터 phi의 내적이 예산 w와 같아야 함을 의미\n",
        "# 'eq'는 방정식 형태의 제약 조건을 의미하며, 이 경우 np.dot(M0, phi) - w = 0이 되어야 함\n",
        "\n",
        "# 포트폴리오에 대해 정의한 기대 효용 함수\n",
        "def EUT_(phi):\n",
        "    x = np.dot(M1, phi)  # 포트폴리오 phi에 따른 페이오프 x 계산\n",
        "    return EUT(x)  # 계산된 페이오프에 대해 기대 효용을 반환\n",
        "\n",
        "# 최적화 함수 minimize를 사용하여 기대 효용을 최대화하는 최적의 포트폴리오를 찾음\n",
        "# 최적화 대상은 기대 효용을 최대화하는 포트폴리오 구성\n",
        "opt = minimize(lambda phi: -EUT_(phi),  # maximize를 위해 -EUT를 minimize로 전환\n",
        "               x0=phi_A,                # 초기값으로 phi_A (초기 포트폴리오)를 사용\n",
        "               constraints=cons)        # 예산 제약 조건을 추가\n",
        "\n",
        "# 최적 포트폴리오와 최적화 결과 출력\n",
        "print(opt)\n",
        "\n",
        "# 최적 포트폴리오에 대해 얻을 수 있는 기대 효용 출력\n",
        "print(EUT_(opt['x']))"
      ],
      "metadata": {
        "colab": {
          "base_uri": "https://localhost:8080/"
        },
        "id": "8pMZ-h7dbrbB",
        "outputId": "dcf00881-b1cf-4cdf-c91f-4fc6cd128127"
      },
      "execution_count": null,
      "outputs": [
        {
          "output_type": "stream",
          "name": "stdout",
          "text": [
            " message: Optimization terminated successfully\n",
            " success: True\n",
            "  status: 0\n",
            "     fun: -3.385015999493397\n",
            "       x: [ 6.112e-01  3.888e-01]\n",
            "     nit: 4\n",
            "     jac: [-1.692e+00 -1.693e+00]\n",
            "    nfev: 12\n",
            "    njev: 4\n",
            "3.385015999493397\n"
          ]
        }
      ]
    },
    {
      "cell_type": "markdown",
      "source": [
        "## 평균-분산 포트폴리오"
      ],
      "metadata": {
        "id": "P7vKm2dLW3ar"
      }
    },
    {
      "cell_type": "code",
      "source": [
        "import numpy as np\n",
        "\n",
        "# 기대 수익률 함수\n",
        "# rX: 수익률 벡터\n",
        "# P: 확률 측도 (각 시나리오의 확률)\n",
        "# np.dot(P, rX): P와 rX의 내적을 통해 가중 평균 기대 수익률을 계산\n",
        "def mu(rX):\n",
        "    return np.dot(P, rX)\n",
        "\n",
        "# 시점 0에서 주식과 채권의 가격\n",
        "S0 = 10  # 현재 주식 가격\n",
        "B0 = 10  # 현재 채권(무위험 자산) 가격\n",
        "\n",
        "# 시점 1에서 주식과 채권의 가격 배열 (각각 두 가지 경우)\n",
        "S1 = np.array((20, 5))  # 미래의 주식 가격 (상승 시 20, 하락 시 5)\n",
        "B1 = np.array((11, 11))  # 미래의 채권 가격 (두 경우 모두 11)\n",
        "\n",
        "# 확률 측도 (각 시나리오의 확률)\n",
        "P = np.array((0.5, 0.5))\n",
        "\n",
        "# 시점 0에서 주식과 채권의 가격 벡터\n",
        "M0 = np.array((S0, B0))\n",
        "\n",
        "# 시점 1에서 주식과 채권의 가격 행렬 (전치하여 두 가지 경우를 행으로)\n",
        "# S1과 B1이 행렬의 각 행에 위치하게 함\n",
        "M1 = np.array((S1, B1)).T\n",
        "\n",
        "# 위험 자산(주식)의 수익률 벡터\n",
        "# 각 시나리오에서 주식의 수익률 계산\n",
        "rS = S1 / S0 - 1\n",
        "\n",
        "# 무위험 자산(채권)의 수익률 벡터\n",
        "# 각 시나리오에서 채권의 수익률 계산\n",
        "rB = B1 / B0 - 1\n",
        "\n",
        "# 주식과 채권의 수익률 출력\n",
        "print(rS, rB)\n",
        "\n",
        "# 기대 수익률 출력\n",
        "# mu(rS): 주식의 기대 수익률\n",
        "# mu(rB): 채권의 기대 수익률\n",
        "print(mu(rS), mu(rB))\n",
        "\n",
        "# 수익률 행렬\n",
        "# M1 (시점 1의 가격)에서 M0 (시점 0의 가격)을 나누고 1을 뺀 값을 계산\n",
        "rM = M1 / M0 - 1\n",
        "\n",
        "# 기대 수익률 벡터 출력\n",
        "# mu(rM): 수익률 행렬에 대해 각각의 기대 수익률을 계산\n",
        "print(mu(rM))"
      ],
      "metadata": {
        "colab": {
          "base_uri": "https://localhost:8080/"
        },
        "id": "_a-8k-FuX2UG",
        "outputId": "972426fb-d5ff-4a9f-ab68-6b4374bfc681"
      },
      "execution_count": null,
      "outputs": [
        {
          "output_type": "stream",
          "name": "stdout",
          "text": [
            "[ 1.  -0.5] [0.1 0.1]\n",
            "0.25 0.10000000000000009\n",
            "[0.25 0.1 ]\n"
          ]
        }
      ]
    },
    {
      "cell_type": "markdown",
      "source": [
        "- 분산, 변동성, 공분산 행렬"
      ],
      "metadata": {
        "id": "HBlVMv6qZX32"
      }
    },
    {
      "cell_type": "code",
      "source": [
        "# 분산 함수\n",
        "# 수익률 벡터 rX의 분산을 계산합니다.\n",
        "# 수익률에서 기대 수익률(mu(rX))을 뺀 값의 제곱을 계산한 후 평균을 구합니다.\n",
        "def var(rX):\n",
        "    return ((rX - mu(rX)) ** 2).mean()\n",
        "\n",
        "# 변동성 함수\n",
        "# 수익률 벡터 rX의 변동성(표준편차)을 계산합니다.\n",
        "# 분산의 제곱근을 계산하여 변동성을 반환합니다.\n",
        "def sigma(rX):\n",
        "    return np.sqrt(var(rX))\n",
        "\n",
        "# 주식과 채권의 분산 출력\n",
        "# var(rS): 주식의 수익률 분산을 계산하여 출력\n",
        "# var(rB): 채권의 수익률 분산을 계산하여 출력\n",
        "print(var(rS), var(rB))\n",
        "\n",
        "# 주식과 채권의 변동성(표준편차) 출력\n",
        "# sigma(rS): 주식의 변동성(표준편차)을 계산하여 출력\n",
        "# sigma(rB): 채권의 변동성(표준편차)을 계산하여 출력\n",
        "print(sigma(rS), sigma(rB))\n",
        "\n",
        "# 공분산 행렬 출력\n",
        "# np.cov는 공분산 행렬을 계산하는 함수입니다.\n",
        "# rM.T는 자산의 수익률 행렬을 전치하여 공분산을 계산합니다.\n",
        "# aweights=P는 P 확률을 가중치로 사용하여 계산함을 의미합니다.\n",
        "# ddof=0은 자유도 차이를 반영하지 않도록 설정한 것 (표본 공분산이 아닌 모분산을 계산)\n",
        "print(np.cov(rM.T, aweights=P, ddof=0))"
      ],
      "metadata": {
        "colab": {
          "base_uri": "https://localhost:8080/"
        },
        "id": "-6YKXwg7ZbCQ",
        "outputId": "913e9335-3395-43cc-b0b1-ef0623519bd5"
      },
      "execution_count": null,
      "outputs": [
        {
          "output_type": "stream",
          "name": "stdout",
          "text": [
            "0.5625 0.0\n",
            "0.75 0.0\n",
            "[[0.5625 0.    ]\n",
            " [0.     0.    ]]\n"
          ]
        }
      ]
    },
    {
      "cell_type": "markdown",
      "source": [
        "- 모든 가중치가 같은 포트폴리오의 기대 수익률, 분산, 변동성을 구하기"
      ],
      "metadata": {
        "id": "779U2jpxaJLp"
      }
    },
    {
      "cell_type": "code",
      "source": [
        "# 포트폴리오의 기대 수익률 계산 함수\n",
        "# phi: 자산 비율 벡터 (포트폴리오 내 주식과 채권의 비중)\n",
        "# np.dot(phi, mu(rM)): 각 자산의 기대 수익률(mu(rM))과 자산 비율 벡터(phi)의 내적을 통해 포트폴리오의 기대 수익률을 계산\n",
        "def mu_phi(phi):\n",
        "    return np.dot(phi, mu(rM))\n",
        "\n",
        "# 포트폴리오의 분산 계산 함수\n",
        "# cv: 공분산 행렬 (np.cov(rM.T, aweights=P, ddof=0)을 통해 자산 간 공분산을 계산)\n",
        "# np.dot(phi, np.dot(cv, phi)): 포트폴리오 비율 벡터와 공분산 행렬을 이용해 포트폴리오의 분산을 계산\n",
        "def var_phi(phi):\n",
        "    cv = np.cov(rM.T, aweights=P, ddof=0)  # 공분산 행렬 계산\n",
        "    return np.dot(phi, np.dot(cv, phi))  # 포트폴리오 분산 계산\n",
        "\n",
        "# 포트폴리오의 변동성(표준편차) 계산 함수\n",
        "# var_phi(phi) ** 0.5: 포트폴리오의 분산의 제곱근을 계산하여 변동성을 반환\n",
        "def sigma_phi(phi):\n",
        "    return var_phi(phi) ** 0.5\n",
        "\n",
        "# phi: 포트폴리오에서 주식과 채권의 비율을 50:50으로 설정 (즉, 주식과 채권 각각 50%)\n",
        "phi = np.array((0.5, 0.5))\n",
        "\n",
        "# 포트폴리오의 기대 수익률 출력\n",
        "print(mu_phi(phi))\n",
        "\n",
        "# 포트폴리오의 분산 출력\n",
        "print(var_phi(phi))\n",
        "\n",
        "# 포트폴리오의 변동성(표준편차) 출력\n",
        "print(sigma_phi(phi))"
      ],
      "metadata": {
        "colab": {
          "base_uri": "https://localhost:8080/"
        },
        "id": "0T2YlBcvZphJ",
        "outputId": "9f658048-5ec0-4446-b1cd-88c9cdbf8899"
      },
      "execution_count": null,
      "outputs": [
        {
          "output_type": "stream",
          "name": "stdout",
          "text": [
            "0.17500000000000004\n",
            "0.140625\n",
            "0.375\n"
          ]
        }
      ]
    },
    {
      "cell_type": "markdown",
      "source": [
        "## 투자 기회 집합\n",
        "- 포트폴리오 가중치에 대한 몬테카를로 시뮬레이션 기반\n",
        "- 기회집합은 직선이 됨"
      ],
      "metadata": {
        "id": "lsEcFqtuerfF"
      }
    },
    {
      "cell_type": "code",
      "source": [
        "import matplotlib.pyplot as plt\n",
        "\n",
        "# 무작위 포트폴리오 비율을 생성 (몬테카를로 시뮬레이션)\n",
        "# phi_mcs: (2, 200) 크기의 배열을 생성하여 200개의 포트폴리오에 대해 주식과 채권 비율을 무작위로 설정\n",
        "phi_mcs = np.random.random((2, 200))\n",
        "\n",
        "# 각 포트폴리오에 대해 주식과 채권의 비율을 합이 1이 되도록 정규화\n",
        "# phi_mcs.sum(axis=0): 각 열(포트폴리오)마다 주식과 채권의 비율 합을 구함\n",
        "# phi_mcs / phi_mcs.sum(axis=0): 각 포트폴리오의 주식과 채권 비율을 합이 1이 되도록 나눔\n",
        "# .T: 결과를 전치하여 200개의 포트폴리오가 각각 행에 위치하도록 함\n",
        "phi_mcs = (phi_mcs / phi_mcs.sum(axis=0)).T\n",
        "\n",
        "# 몬테카를로 시뮬레이션으로 각 포트폴리오의 변동성과 기대 수익률을 계산\n",
        "# mcs: 200개의 포트폴리오에 대해 sigma_phi (변동성)와 mu_phi (기대 수익률)를 계산하여 저장\n",
        "# 리스트 내포식을 사용하여 각 포트폴리오의 변동성과 기대 수익률을 쌍으로 저장 (각 phi에 대해 sigma_phi, mu_phi 계산)\n",
        "mcs = np.array([(sigma_phi(phi), mu_phi(phi)) for phi in phi_mcs])\n",
        "\n",
        "# 그래프를 그리기 위한 figure 설정 (크기: 10x6)\n",
        "plt.figure(figsize=(10, 6))\n",
        "\n",
        "# 포트폴리오의 변동성(표준편차)과 기대 수익률을 산점도로 플로팅\n",
        "# mcs[:, 0]: 포트폴리오의 변동성 (첫 번째 열)\n",
        "# mcs[:, 1]: 포트폴리오의 기대 수익률 (두 번째 열)\n",
        "# 'ro': 빨간색 원으로 표시\n",
        "plt.plot(mcs[:, 0], mcs[:, 1], 'ro')\n",
        "\n",
        "# x축 라벨 설정 (변동성)\n",
        "plt.xlabel('expected volatility')\n",
        "\n",
        "# y축 라벨 설정 (기대 수익률)\n",
        "plt.ylabel('expected return')"
      ],
      "metadata": {
        "colab": {
          "base_uri": "https://localhost:8080/",
          "height": 560
        },
        "id": "4zhuEAfBe6_h",
        "outputId": "684577e0-76d5-47ba-ab49-3ba5178b098b"
      },
      "execution_count": null,
      "outputs": [
        {
          "output_type": "execute_result",
          "data": {
            "text/plain": [
              "Text(0, 0.5, 'expected return')"
            ]
          },
          "metadata": {},
          "execution_count": 7
        },
        {
          "output_type": "display_data",
          "data": {
            "text/plain": [
              "<Figure size 1000x600 with 1 Axes>"
            ],
            "image/png": "[encoded data removed]"
          },
          "metadata": {}
        }
      ]
    },
    {
      "cell_type": "markdown",
      "source": [
        "- 위험 자산이 2개인 경우의 시뮬레이션"
      ],
      "metadata": {
        "id": "2D7zYmu0fZKE"
      }
    },
    {
      "cell_type": "code",
      "source": [
        "# 새로운 확률 측도 P 설정 (3개의 상태에 대해 각 상태의 확률을 1/3로 설정)\n",
        "P = np.ones(3) / 3  # P = [1/3, 1/3, 1/3]\n",
        "\n",
        "# 시점 1에서 주식 가격 배열 설정 (3개의 상태에서 주식의 미래 가격)\n",
        "S1 = np.array((20, 10, 5))  # 상태 1: 20, 상태 2: 10, 상태 3: 5\n",
        "\n",
        "# 시점 0에서 채권(T)의 가격 설정 (채권의 현재 가격)\n",
        "T0 = 10  # 현재 채권 가격\n",
        "\n",
        "# 시점 1에서 채권(T)의 가격 배열 설정 (3개의 상태에서 채권의 미래 가격)\n",
        "T1 = np.array((1, 12, 13))  # 상태 1: 1, 상태 2: 12, 상태 3: 13\n",
        "\n",
        "# 시점 0에서 주식과 채권의 가격 벡터 설정\n",
        "M0 = np.array((S0, T0))  # 현재 주식 가격 S0와 채권 가격 T0\n",
        "\n",
        "# 시점 1에서 주식과 채권의 가격 행렬 설정 (각 상태에서 주식과 채권의 가격을 전치하여 행렬로 만듦)\n",
        "M1 = np.array((S1, T1)).T  # 미래의 주식(S1)과 채권(T1) 가격을 전치하여 각 상태별로 정리\n",
        "\n",
        "# 수익률 행렬 계산 (미래 가격 M1에서 현재 가격 M0을 나누고 1을 뺀 값으로 수익률을 계산)\n",
        "rM = M1 / M0 - 1  # 자산의 수익률 행렬\n",
        "\n",
        "# 각 포트폴리오 비율에 대해 변동성과 기대 수익률을 계산 (phi_mcs에 대한 몬테카를로 시뮬레이션)\n",
        "mcs = np.array([(sigma_phi(phi), mu_phi(phi)) for phi in phi_mcs])\n",
        "\n",
        "# 포트폴리오 변동성과 기대 수익률을 플롯하기 위한 figure 설정 (크기: 10x6)\n",
        "plt.figure(figsize=(10, 6))\n",
        "\n",
        "# 포트폴리오 변동성(표준편차)과 기대 수익률 산점도\n",
        "# mcs[:, 0]: 포트폴리오의 변동성 (첫 번째 열)\n",
        "# mcs[:, 1]: 포트폴리오의 기대 수익률 (두 번째 열)\n",
        "# 'ro': 빨간색 원으로 표시\n",
        "plt.plot(mcs[:, 0], mcs[:, 1], 'ro')\n",
        "\n",
        "# x축 라벨 설정 (변동성)\n",
        "plt.xlabel('expected volatility')\n",
        "\n",
        "# y축 라벨 설정 (기대 수익률)\n",
        "plt.ylabel('expected return')"
      ],
      "metadata": {
        "colab": {
          "base_uri": "https://localhost:8080/",
          "height": 560
        },
        "id": "bREZVvSmfn4B",
        "outputId": "090c8045-069f-42a1-dbe9-4ae202fc3f21"
      },
      "execution_count": null,
      "outputs": [
        {
          "output_type": "execute_result",
          "data": {
            "text/plain": [
              "Text(0, 0.5, 'expected return')"
            ]
          },
          "metadata": {},
          "execution_count": 8
        },
        {
          "output_type": "display_data",
          "data": {
            "text/plain": [
              "<Figure size 1000x600 with 1 Axes>"
            ],
            "image/png": "[encoded data removed]"
          },
          "metadata": {}
        }
      ]
    },
    {
      "cell_type": "markdown",
      "source": [
        "## 최소 변동성 및 최대 샤프 비율\n",
        "- 리스크-수익률 공간에서 두 포트폴리오의 위치를 보여줌\n",
        "- 위험 자산 T는 기대 수익률이 마이너스이지만, 최대 샤프 비율 포트폴리에서는 비중이 높음\n",
        "- 이는 다변화 효과로 인해 포트폴리오의 예상 수익률보다 포트폴리오 리스크가 더 낮아졌기 때문임"
      ],
      "metadata": {
        "id": "LqUgnlpigIK-"
      }
    },
    {
      "cell_type": "code",
      "source": [
        "from scipy.optimize import minimize\n",
        "\n",
        "# 샤프 비율 함수 정의\n",
        "# 포트폴리오의 샤프 비율을 계산 (기대 수익률 / 변동성)\n",
        "# 샤프 비율은 위험 대비 수익률을 나타내는 지표로, 높을수록 좋음\n",
        "def sharpe(phi):\n",
        "    return mu_phi(phi) / sigma_phi(phi)\n",
        "\n",
        "# 제약 조건 설정\n",
        "# 포트폴리오의 주식과 채권 비율의 합이 1이 되도록 하는 제약 조건\n",
        "cons = {'type': 'eq', 'fun': lambda phi: np.sum(phi) - 1}\n",
        "\n",
        "# 비율의 경계 설정\n",
        "# 주식과 채권의 비율이 각각 0에서 1 사이에 있어야 한다는 경계 설정\n",
        "bnds = ((0, 1), (0, 1))\n",
        "\n",
        "# 포트폴리오 변동성 최소화\n",
        "# sigma_phi: 포트폴리오의 변동성(표준편차)을 최소화하는 최적의 비율을 찾음\n",
        "# 초기 추정치는 주식과 채권을 각각 50%로 설정 (0.5, 0.5)\n",
        "# 제약 조건(cons)과 경계 조건(bnds)을 적용하여 최적화 수행\n",
        "min_var = minimize(sigma_phi, (0.5, 0.5), constraints=cons, bounds=bnds)\n",
        "\n",
        "# 최적화 결과 출력 (변동성을 최소화하는 포트폴리오 비율)\n",
        "print(min_var)\n",
        "\n",
        "# 샤프 비율 최대화\n",
        "# 샤프 비율을 최대화하기 위해 음의 샤프 비율을 최소화하는 방식으로 최적화 수행\n",
        "# 샤프 비율은 기본적으로 높은 것이 유리하므로, 이를 최대화하려면 음수를 최소화하는 방향으로 설정\n",
        "# 초기 추정치는 주식과 채권을 각각 50%로 설정 (0.5, 0.5)\n",
        "# 제약 조건(cons)과 경계 조건(bnds)을 적용하여 최적화 수행\n",
        "max_sharpe = minimize(lambda phi: -sharpe(phi), (0.5, 0.5), constraints=cons, bounds=bnds)\n",
        "\n",
        "# 최적화 결과 출력 (샤프 비율을 최대화하는 포트폴리오 비율)\n",
        "print(max_sharpe)"
      ],
      "metadata": {
        "colab": {
          "base_uri": "https://localhost:8080/"
        },
        "id": "BGuxw8bogdoh",
        "outputId": "22c334d0-619c-42e2-e380-fadaaf47803c"
      },
      "execution_count": null,
      "outputs": [
        {
          "output_type": "stream",
          "name": "stdout",
          "text": [
            " message: Optimization terminated successfully\n",
            " success: True\n",
            "  status: 0\n",
            "     fun: 0.07481322946903253\n",
            "       x: [ 4.651e-01  5.349e-01]\n",
            "     nit: 4\n",
            "     jac: [ 7.427e-02  7.529e-02]\n",
            "    nfev: 13\n",
            "    njev: 4\n",
            " message: Optimization terminated successfully\n",
            " success: True\n",
            "  status: 0\n",
            "     fun: -0.27216540990230487\n",
            "       x: [ 6.673e-01  3.327e-01]\n",
            "     nit: 9\n",
            "     jac: [ 1.205e-04 -2.417e-04]\n",
            "    nfev: 29\n",
            "    njev: 9\n"
          ]
        }
      ]
    },
    {
      "cell_type": "code",
      "source": [
        "plt.figure(figsize=(10, 6))\n",
        "\n",
        "# 기존 포트폴리오의 변동성과 기대 수익률을 산점도로 플롯 (빨간색 원, ms=5는 마커 크기)\n",
        "plt.plot(mcs[:, 0], mcs[:, 1], 'ro', ms=5)\n",
        "\n",
        "# 최소 변동성 포트폴리오의 변동성과 기대 수익률을 플롯 (삼각형 마커 '^', 크기 12.5)\n",
        "plt.plot(sigma_phi(min_var['x']), mu_phi(min_var['x']),\n",
        "         '^', ms=12.5, label='minimum volatility')\n",
        "\n",
        "# 최대 샤프 비율 포트폴리오의 변동성과 기대 수익률을 플롯 (삼각형 마커 'v', 크기 12.5, 다크 초록색)\n",
        "plt.plot(sigma_phi(max_sharpe['x']), mu_phi(max_sharpe['x']),\n",
        "         'v', ms=12.5, color='darkgreen', label='maximum Sharpe ratio')\n",
        "\n",
        "# x축 라벨 설정 (변동성)\n",
        "plt.xlabel('expected volatility')\n",
        "\n",
        "# y축 라벨 설정 (기대 수익률)\n",
        "plt.ylabel('expected return')\n",
        "\n",
        "# 범례 표시\n",
        "plt.legend()"
      ],
      "metadata": {
        "colab": {
          "base_uri": "https://localhost:8080/",
          "height": 560
        },
        "id": "6tn7YhNIg_Jz",
        "outputId": "9edf6909-9826-475b-fc47-a2b95b75970f"
      },
      "execution_count": null,
      "outputs": [
        {
          "output_type": "execute_result",
          "data": {
            "text/plain": [
              "<matplotlib.legend.Legend at 0x7b29ed9b1db0>"
            ]
          },
          "metadata": {},
          "execution_count": 10
        },
        {
          "output_type": "display_data",
          "data": {
            "text/plain": [
              "<Figure size 1000x600 with 1 Axes>"
            ],
            "image/png": "[encoded data removed]"
          },
          "metadata": {}
        }
      ]
    },
    {
      "cell_type": "markdown",
      "source": [
        "## 효율적 투자 경계선\n",
        "- 예상되는 리스크를 고려할 때 최대의 기대수익을 가지는 포트폴리오\n",
        "- 최소 위험 포트폴리오보다 낮은 기대 수익률을 보이는 모든 포트폴리오는 비효율적\n",
        "- 리스크-수익률 공간에서 효율적인 포트폴리오 도출\n",
        "- 효율적인 모든 포트폴리오 집합을 효율적 투자 경계선이라고 하며, 투자자는 효율적 투자 경계선에 있는 포트폴리오만 선택"
      ],
      "metadata": {
        "id": "T_5n_H2qhcpb"
      }
    },
    {
      "cell_type": "code",
      "source": [
        "# 제안 조건으로 기대 수익률 목표값 설정\n",
        "# 첫 번째 제약 조건: 주식과 채권 비율의 합이 1이 되어야 함\n",
        "# 두 번째 제약 조건: 주어진 목표 기대 수익률(target)에 맞춰 포트폴리오의 기대 수익률이 같도록 설정\n",
        "cons = [{'type': 'eq', 'fun': lambda phi: np.sum(phi) - 1},\n",
        "        {'type': 'eq', 'fun': lambda phi: mu_phi(phi) - target}]\n",
        "\n",
        "# 비율 경계 설정: 주식과 채권의 비율이 각각 0에서 1 사이에 있어야 함\n",
        "bnds = ((0, 1), (0, 1))\n",
        "\n",
        "# 목표 기대 수익률 집합 생성\n",
        "# np.linspace를 사용해 최소 변동성 포트폴리오의 기대 수익률부터 0.16까지 목표 기대 수익률(targets)을 생성\n",
        "targets = np.linspace(mu_phi(min_var['x']), 0.16)\n",
        "\n",
        "# 주어진 기대 수익률에 대해 가장 변동성이 작은 포트폴리오 선택\n",
        "frontier = []  # 효율적 프론티어를 저장할 리스트\n",
        "\n",
        "# 각 목표 기대 수익률에 대해 포트폴리오의 최소 변동성을 계산\n",
        "for target in targets:\n",
        "    # 주어진 목표 기대 수익률(target)에 대해 변동성이 최소가 되는 포트폴리오 비율 phi_eff를 계산\n",
        "    phi_eff = minimize(sigma_phi, (0.5, 0.5), constraints=cons, bounds=bnds)['x']\n",
        "    # 계산된 포트폴리오 비율로부터 변동성과 기대 수익률을 구하여 frontier에 추가\n",
        "    frontier.append((sigma_phi(phi_eff), mu_phi(phi_eff)))\n",
        "\n",
        "# frontier 리스트를 배열로 변환하여 사용\n",
        "frontier = np.array(frontier)\n",
        "\n",
        "# 그래프 설정\n",
        "plt.figure(figsize=(10, 6))\n",
        "\n",
        "# 효율적 프론티어를 마젠타색 원으로 플롯 (ms=5: 마커 크기)\n",
        "# frontier[:, 0]: 변동성(표준편차), frontier[:, 1]: 기대 수익률\n",
        "plt.plot(frontier[:, 0], frontier[:, 1], 'mo', ms=5, label='efficient frontier')\n",
        "\n",
        "# 최소 변동성 포트폴리오를 삼각형 마커로 플롯 (ms=12.5: 마커 크기)\n",
        "plt.plot(sigma_phi(min_var['x']), mu_phi(min_var['x']),\n",
        "         '^', ms=12.5, label='minimum volatility')\n",
        "\n",
        "# 최대 샤프 비율 포트폴리오를 역삼각형 마커로 플롯 (ms=12.5: 마커 크기)\n",
        "plt.plot(sigma_phi(max_sharpe['x']), mu_phi(max_sharpe['x']),\n",
        "         'v', ms=12.5, label='maximum Sharpe ratio')\n",
        "\n",
        "# x축 라벨 설정 (expected volatility: 변동성)\n",
        "plt.xlabel('expected volatility')\n",
        "\n",
        "# y축 라벨 설정 (expected return: 기대 수익률)\n",
        "plt.ylabel('expected return')\n",
        "\n",
        "# 범례 표시\n",
        "plt.legend()"
      ],
      "metadata": {
        "colab": {
          "base_uri": "https://localhost:8080/"
        },
        "id": "TUR6f55ph0XS",
        "outputId": "21687390-0f58-41d1-dadf-8f833514653b"
      },
      "execution_count": null,
      "outputs": [
        {
          "output_type": "execute_result",
          "data": {
            "text/plain": [
              "<matplotlib.legend.Legend at 0x7b2a1d812a70>"
            ]
          },
          "metadata": {},
          "execution_count": 11
        }
      ]
    },
    {
      "cell_type": "markdown",
      "source": [
        "## 자본자산 가격결정 모형\n",
        "- 이 그래프는 **자본자산가격결정모형 (CAPM)**에서 **자본시장선 (Capital Market Line, CML)**을 나타낸 것.\n",
        "- 자본시장선은 효율적 자산의 포트폴리오에 대한 기대 수익과 리스크 간의 관계를 보여줌."
      ],
      "metadata": {
        "id": "09XZXL6CmIid"
      }
    },
    {
      "cell_type": "markdown",
      "source": [
        "### Capital Market Line (자본시장선)\n",
        "- 그래프에서 직선으로 나타나며, 무위험 자산과 시장 포트폴리오 간의 결합으로 얻을 수 있는 최적 포트폴리오의 조합을 나타내며, 직선은 무위험 자산에서 시작하여 시장 포트폴리오를 통과함."
      ],
      "metadata": {
        "id": "0jePlkytnECR"
      }
    },
    {
      "cell_type": "markdown",
      "source": [
        "### Risk-free Asset (무위험 자산)\n",
        "- 그래프의 좌하단에 있는 점. 수익률이 $(0, \\bar{r})$로 표시된 무위험 자산을 나타냅니다. 즉, 변동성(리스크)이 0이고, 수익률은 고정된 $\\bar{r}$입니다.\n",
        "- 여기서는 무위험 자산의 수익률이 0.01로 나타나 있음."
      ],
      "metadata": {
        "id": "p9v1lw8HnL1w"
      }
    },
    {
      "cell_type": "markdown",
      "source": [
        "### Market Portfolio (시장 포트폴리오)\n",
        "- 그래프에서 삼각형 모양으로 나타난 점으로, 시장 포트폴리오를 나타내며. 이 점은 변동성(리스크), $\\sigma_M$와 기대수익률 $\\mu_M$의 조합을 보여줌.\n",
        "- 여기서는 변동성이 0.2, 기대 수익률이 0.15임\n",
        "\n"
      ],
      "metadata": {
        "id": "TFg50f0mrjDW"
      }
    },
    {
      "cell_type": "code",
      "source": [
        "import matplotlib.pyplot as plt\n",
        "\n",
        "plt.figure(figsize=(10, 6))\n",
        "plt.plot((0, 0.3), (0.01, 0.22), label='capital market line')\n",
        "plt.plot(0, 0.01, 'o', ms=9, label='risk-less asset')\n",
        "plt.plot(0.2, 0.15, '^', ms=9, label='market portfolio')\n",
        "plt.annotate('$(0, \\\\bar{r})$', (0, 0.01), (-0.01, 0.02))\n",
        "plt.annotate('$(\\sigma_M, \\mu_M)$', (0.2, 0.15), (0.19, 0.16))\n",
        "plt.xlabel('expected volatility')\n",
        "plt.ylabel('expected return')\n",
        "plt.legend();"
      ],
      "metadata": {
        "id": "ICRopmBomMZL"
      },
      "execution_count": null,
      "outputs": []
    },
    {
      "cell_type": "markdown",
      "source": [
        "### 자본자산 가격결졍 모형 - 자본 시장선\n",
        "- 무위험 수익률"
      ],
      "metadata": {
        "id": "AvVJS44hvwvT"
      }
    },
    {
      "cell_type": "code",
      "source": [
        "phi_M = np.array((0.8, 0.2))\n",
        "mu_M = mu_phi(phi_M)\n",
        "mu_M"
      ],
      "metadata": {
        "id": "TU2gtuCVv9NF"
      },
      "execution_count": null,
      "outputs": []
    },
    {
      "cell_type": "code",
      "source": [
        "sigma_M = sigma_phi(phi_M)\n",
        "sigma_M"
      ],
      "metadata": {
        "id": "rD4dFaTdwBvF"
      },
      "execution_count": null,
      "outputs": []
    },
    {
      "cell_type": "code",
      "source": [
        "import matplotlib.pyplot as plt\n",
        "\n",
        "r = 0.0025\n",
        "plt.figure(figsize=(10, 6))\n",
        "plt.plot(frontier[:, 0], frontier[:, 1], 'm.', ms=5,\n",
        "         label='efficient frontier')\n",
        "plt.plot(0, r, 'o', ms=9, label='risk-less asset')\n",
        "plt.plot(sigma_M, mu_M, '^', ms=9, label='market portfolio')\n",
        "plt.plot((0, 0.6), (r, r + ((mu_M - r) / sigma_M) * 0.6),\n",
        "         'r', label='capital market line', lw=2.0)\n",
        "plt.annotate('$(0, \\\\bar{r})$', (0, r), (-0.015, r + 0.01))\n",
        "plt.annotate('$(\\sigma_M, \\mu_M)$', (sigma_M, mu_M),\n",
        "             (sigma_M - 0.025, mu_M + 0.01))\n",
        "plt.xlabel('expected volatility')\n",
        "plt.ylabel('expected return')\n",
        "plt.legend();"
      ],
      "metadata": {
        "id": "DN0P4QWjwr1p"
      },
      "execution_count": null,
      "outputs": []
    },
    {
      "cell_type": "markdown",
      "source": [
        "### 최적 포트폴리오"
      ],
      "metadata": {
        "id": "sEuTe7zew4K1"
      }
    },
    {
      "cell_type": "code",
      "source": [
        "def U(p):\n",
        "    mu, sigma = p\n",
        "    return mu - 1 / 2 * (sigma ** 2 + mu ** 2)\n",
        "\n",
        "cons = {'type': 'eq',\n",
        "        'fun': lambda p: p[0] - (r + (mu_M - r) / sigma_M * p[1])}\n",
        "\n",
        "opt = minimize(lambda p: -U(p), (0.1, 0.3), constraints=cons)\n",
        "opt"
      ],
      "metadata": {
        "id": "WW_gZZTCw94J"
      },
      "execution_count": null,
      "outputs": []
    },
    {
      "cell_type": "markdown",
      "source": [
        "### 무차별 곡선"
      ],
      "metadata": {
        "id": "X2cGGBpFxUX_"
      }
    },
    {
      "cell_type": "code",
      "source": [
        "from sympy import *\n",
        "import numpy as np\n",
        "import matplotlib.pyplot as plt\n",
        "\n",
        "# SymPy의 init_printing을 사용하여 출력을 텍스트 형식으로 설정\n",
        "init_printing(use_unicode=False, use_latex=False)\n",
        "\n",
        "# μ(기대수익), σ(변동성), b, v를 심볼릭 변수로 정의\n",
        "mu, sigma, b, v = symbols('mu sigma b v')\n",
        "\n",
        "# 방정식을 μ에 대해서 풀기\n",
        "# 방정식: mu - (b/2) * (sigma^2 + mu^2) - v = 0\n",
        "# 이는 μ와 σ 사이의 관계를 나타내며, SymPy를 사용해 μ에 대한 해를 구합니다.\n",
        "sol = solve('mu - b / 2 * (sigma ** 2 + mu ** 2) - v', mu)\n",
        "\n",
        "# 해 중 첫 번째 해 선택 후, 특정 값으로 치환 (b = 1, v = 0.1)\n",
        "# 이는 주어진 b와 v의 값에 대해 기대 수익 μ와 변동성 σ 간의 관계를 구하는 단계입니다.\n",
        "u1 = sol[0].subs({'b': 1, 'v': 0.1})\n",
        "\n",
        "# 두 번째 조건 (b = 1, v = 0.125)로 동일한 방정식의 해를 구함\n",
        "u2 = sol[0].subs({'b': 1, 'v': 0.125})\n",
        "\n",
        "# SymPy 식을 lambdify를 사용하여 NumPy의 함수로 변환\n",
        "# lambdify를 사용하면 SymPy로 생성된 수식을 NumPy 함수처럼 사용할 수 있습니다.\n",
        "f1 = lambdify(sigma, u1)  # σ를 입력받아 μ 값을 계산하는 함수 f1\n",
        "f2 = lambdify(sigma, u2)  # σ를 입력받아 μ 값을 계산하는 함수 f2\n",
        "\n",
        "# σ(변동성)의 값을 0.0에서 0.5까지 생성 (100개의 점으로 나누어 생성)\n",
        "sigma_ = np.linspace(0.0, 0.5)\n",
        "\n",
        "# 각각의 f1, f2 함수로 μ 값 계산\n",
        "u1_ = f1(sigma_)  # 첫 번째 경우 (v = 0.1)에 대한 μ 값\n",
        "u2_ = f2(sigma_)  # 두 번째 경우 (v = 0.125)에 대한 μ 값\n",
        "\n",
        "# 결과 시각화를 위해 Matplotlib 사용\n",
        "plt.figure(figsize=(10, 6))  # 그래프의 크기를 설정 (가로 10, 세로 6)\n",
        "plt.plot(sigma_, u1_, label='$v=0.1$')  # 첫 번째 경우를 실선으로 플롯\n",
        "plt.plot(sigma_, u2_, '--', label='$v=0.125$')  # 두 번째 경우를 점선으로 플롯\n",
        "plt.xlabel('expected volatility')  # x축 라벨을 'expected volatility(기대 변동성)'으로 설정\n",
        "plt.ylabel('expected return')  # y축 라벨을 'expected return(기대 수익률)'으로 설정\n",
        "plt.legend()  # 범례를 추가하여 v=0.1과 v=0.125에 해당하는 선을 구분\n",
        "plt.show()  # 그래프를 화면에 출력\n"
      ],
      "metadata": {
        "id": "gQXM1_fNxJF0"
      },
      "execution_count": null,
      "outputs": []
    },
    {
      "cell_type": "markdown",
      "source": [
        "### 자본시장선에 대한 최적 포트폴리오"
      ],
      "metadata": {
        "id": "veyEg9kgzN5g"
      }
    },
    {
      "cell_type": "code",
      "source": [
        "u = sol[0].subs({'b': 1, 'v': -opt['fun']})  # 방정식의 첫 번째 해에 b=1, v에 -opt['fun'] 값을 대입\n",
        "f = lambdify(sigma, u)  # SymPy 식을 NumPy 함수로 변환하여 σ에 대한 μ를 계산할 수 있게 만듦\n",
        "u_ = f(sigma_)  # 주어진 σ 값에 따라 μ 값을 계산\n",
        "\n",
        "plt.figure(figsize=(10, 6))  # 그래프 크기 설정 (가로 10, 세로 6)\n",
        "\n",
        "# 무위험 자산을 그래프에 표시 (점으로 나타냄)\n",
        "plt.plot(0, r, 'o', ms=9, label='risk-less asset')  # 무위험 자산 (리스크 0, 수익 r)\n",
        "\n",
        "# 시장 포트폴리오 (삼각형으로 표시)\n",
        "plt.plot(sigma_M, mu_M, '^', ms=9, label='market portfolio')  # 시장 포트폴리오 (변동성 σ_M, 수익률 μ_M)\n",
        "\n",
        "# 최적 포트폴리오 (역삼각형으로 표시)\n",
        "plt.plot(opt['x'][1], opt['x'][0], 'v', ms=9, label='optimal portfolio')\n",
        "# 최적 포트폴리오 (opt['x'][1] = 변동성, opt['x'][0] = 수익률)\n",
        "\n",
        "# 자본시장선을 그리기\n",
        "plt.plot((0, 0.5), (r, r + (mu_M - r) / sigma_M * 0.5),\n",
        "         label='capital market line', lw=2.0)\n",
        "# 자본시장선(CML)은 무위험 자산에서 시장 포트폴리오를 연결하는 직선\n",
        "# CML의 기울기 = (시장 포트폴리오 수익률 μ_M - 무위험 자산 수익률 r) / 시장 포트폴리오 변동성 σ_M\n",
        "\n",
        "# 특정 v 값에 대한 기대 수익률(μ) 곡선 (점선으로 표시)\n",
        "plt.plot(sigma_, u_, '--', label='$v={}$'.format(-round(opt['fun'], 3)))\n",
        "# 최적해(optimal solution)에서 계산된 v에 대한 곡선\n",
        "\n",
        "plt.xlabel('expected volatility')  # x축 라벨을 \"expected volatility(기대 변동성)\"으로 설정\n",
        "plt.ylabel('expected return')  # y축 라벨을 \"expected return(기대 수익률)\"으로 설정\n",
        "plt.legend()  # 범례를 추가하여 그래프의 각 요소를 설명\n",
        "plt.show()  # 그래프 출력"
      ],
      "metadata": {
        "id": "1ro-UnpTzQ-f"
      },
      "execution_count": null,
      "outputs": []
    },
    {
      "cell_type": "markdown",
      "source": [
        "## 차익거래 가격결정 이론\n",
        "-"
      ],
      "metadata": {
        "id": "oY1SjmI7YoFW"
      }
    },
    {
      "cell_type": "markdown",
      "source": [
        "# PART-2 머신러닝"
      ],
      "metadata": {
        "id": "99fAQ9-xjD3P"
      }
    },
    {
      "cell_type": "code",
      "source": [
        "import lightgbm as lgb\n",
        "\n",
        "lgb.__version__"
      ],
      "metadata": {
        "id": "0Z0mEHfUvRMv"
      },
      "execution_count": null,
      "outputs": []
    },
    {
      "cell_type": "markdown",
      "source": [
        "### 주식 가격 데이터 로드 및 전처리"
      ],
      "metadata": {
        "id": "6N8dw6kAv3pM"
      }
    },
    {
      "cell_type": "code",
      "source": [
        "# yfinance와 pandas, numpy를 가져옵니다.\n",
        "import yfinance as yf  # Yahoo Finance API를 사용하여 금융 데이터를 가져오기 위한 라이브러리\n",
        "import pandas as pd  # 데이터 조작 및 분석을 위한 라이브러리\n",
        "import numpy as np  # 고급 수학 함수와 배열 처리를 위한 라이브러리\n",
        "\n",
        "# 1. TSLA 주식 데이터 가져오기 (최근 1년)\n",
        "def load_data():\n",
        "    # TSLA(테슬라)의 주식 데이터를 Yahoo Finance에서 다운로드합니다.\n",
        "    # 데이터는 2023년 1월 1일부터 2024년 9월 28일까지의 기간으로 설정합니다.\n",
        "    data = yf.download('TSLA', start=\"2023-01-01\", end=\"2024-09-28\")\n",
        "\n",
        "    # 'Close' 열(종가)의 다음 날 값을 'Target' 열로 생성하여 예측의 목표로 설정합니다.\n",
        "    data['Target'] = data['Close'].shift(-1)  # shift(-1)은 한 칸 위로 값을 이동시킵니다.\n",
        "\n",
        "    # 데이터의 결측값을 제거합니다. 'Target' 열이 NaN인 마지막 행이 제거됩니다.\n",
        "    data.dropna(inplace=True)  # 결측값 제거를 위해 in-place 옵션 사용\n",
        "\n",
        "    return data  # 처리된 데이터를 반환합니다.\n",
        "\n",
        "# 데이터 로드\n",
        "data = load_data()  # load_data() 함수를 호출하여 TSLA 데이터를 로드합니다.\n",
        "print(data.head())  # 데이터의 첫 5개 행을 출력하여 로드된 데이터의 구조를 확인합니다."
      ],
      "metadata": {
        "id": "a15anJcpoaaM"
      },
      "execution_count": null,
      "outputs": []
    },
    {
      "cell_type": "markdown",
      "source": [
        "### 특성 생성 (이동 평균, 가격 차분 등)"
      ],
      "metadata": {
        "id": "GXnKnZ6gwA_P"
      }
    },
    {
      "cell_type": "code",
      "source": [
        "# 특성 생성: 이동 평균, 가격 차분 등\n",
        "def feature_engineering(data):\n",
        "    # 5일 이동 평균을 계산하여 'MA_5' 열에 저장합니다.\n",
        "    # rolling(window=5): 5일을 기준으로 이동 평균을 계산\n",
        "    data['MA_5'] = data['Close'].rolling(window=5).mean()\n",
        "\n",
        "    # 20일 이동 평균을 계산하여 'MA_20' 열에 저장합니다.\n",
        "    # rolling(window=20): 20일을 기준으로 이동 평균을 계산\n",
        "    data['MA_20'] = data['Close'].rolling(window=20).mean()\n",
        "\n",
        "    # 현재 종가와 이전 종가 간의 차이를 계산하여 'Price_Diff' 열에 저장합니다.\n",
        "    # diff(): 현재 행과 이전 행의 차이를 계산\n",
        "    data['Price_Diff'] = data['Close'].diff()\n",
        "\n",
        "    # 데이터의 결측값을 제거합니다. 이동 평균 및 차분 연산으로 인해 NaN이 발생할 수 있습니다.\n",
        "    data.dropna(inplace=True)  # 결측값 제거를 위해 in-place 옵션 사용\n",
        "\n",
        "    return data  # 처리된 데이터를 반환합니다.\n",
        "\n",
        "# 특성 엔지니어링\n",
        "data = feature_engineering(data)  # feature_engineering() 함수를 호출하여 특성을 생성하고 데이터에 추가합니다.\n",
        "print(data.head())  # 데이터의 첫 5개 행을 출력하여 생성된 특성을 확인합니다."
      ],
      "metadata": {
        "id": "owoRdKW2qjsg"
      },
      "execution_count": null,
      "outputs": []
    },
    {
      "cell_type": "markdown",
      "source": [
        "### LightGBM 모델 학습"
      ],
      "metadata": {
        "id": "_h6rcFSUwHYd"
      }
    },
    {
      "cell_type": "code",
      "source": [
        "# 필요한 라이브러리를 가져옵니다.\n",
        "import pandas as pd  # 데이터 조작을 위한 라이브러리\n",
        "from lightgbm import LGBMRegressor  # LightGBM 모델을 사용하기 위한 라이브러리\n",
        "from sklearn.model_selection import train_test_split, RandomizedSearchCV  # 데이터 분할 및 하이퍼파라미터 탐색을 위한 함수\n",
        "from sklearn.metrics import mean_squared_error  # 모델 성능 평가를 위한 함수\n",
        "import numpy as np  # 고급 수학 함수와 배열 처리를 위한 라이브러리\n",
        "\n",
        "# LightGBM 모델 학습 및 하이퍼파라미터 튜닝 (RandomizedSearchCV)\n",
        "def train_lightgbm_with_random_tuning(data):\n",
        "    # 입력 변수(X)와 타겟 변수(y) 설정\n",
        "    X = data[['Close', 'Volume', 'MA_5', 'MA_20', 'Price_Diff']]  # 모델에 사용할 입력 변수\n",
        "    y = data['Target']  # 예측할 타겟 변수 (다음 날 종가)\n",
        "\n",
        "    # 데이터셋을 학습용과 테스트용으로 분할 (80% 학습, 20% 테스트)\n",
        "    X_train, X_test, y_train, y_test = train_test_split(X, y, test_size=0.2, shuffle=False)\n",
        "\n",
        "    # 하이퍼파라미터의 랜덤 탐색 범위 설정\n",
        "    param_dist = {\n",
        "        'n_estimators': np.arange(50, 300, 50),  # 트리의 개수\n",
        "        'learning_rate': np.linspace(0.01, 0.3, 10),  # 학습률\n",
        "        'num_leaves': np.arange(20, 150, 10),  # 리프 노드의 개수\n",
        "        'max_depth': np.arange(-1, 20, 5),  # 최대 깊이 (-1은 제한 없음)\n",
        "        'subsample': np.linspace(0.5, 1, 5),  # 샘플링 비율\n",
        "        'colsample_bytree': np.linspace(0.5, 1, 5)  # 각 트리에서 사용할 특성의 비율\n",
        "    }\n",
        "\n",
        "    # LightGBM 모델 인스턴스 생성\n",
        "    model = LGBMRegressor()\n",
        "\n",
        "    # RandomizedSearchCV를 사용하여 하이퍼파라미터 튜닝을 수행\n",
        "    random_search = RandomizedSearchCV(estimator=model, param_distributions=param_dist,\n",
        "                                       n_iter=50, scoring='neg_mean_squared_error', cv=3, verbose=1, random_state=42)\n",
        "\n",
        "    # 학습 데이터로 모델 학습\n",
        "    random_search.fit(X_train, y_train)\n",
        "\n",
        "    # 최적의 모델로 예측 수행\n",
        "    best_model = random_search.best_estimator_  # 최적 하이퍼파라미터로 학습된 모델\n",
        "    y_pred = best_model.predict(X_test)  # 테스트 데이터에 대한 예측 수행\n",
        "\n",
        "    # 성능 평가: RMSE(루트 평균 제곱 오차) 계산\n",
        "    rmse = np.sqrt(mean_squared_error(y_test, y_pred))  # 예측 결과와 실제 값을 기반으로 RMSE 계산\n",
        "    print(f'Best Model RMSE: {rmse:.4f}')  # RMSE 결과 출력\n",
        "\n",
        "    # 결과 DataFrame 생성: RandomizedSearchCV의 결과를 DataFrame으로 변환\n",
        "    results_df = pd.DataFrame(random_search.cv_results_)\n",
        "\n",
        "    return best_model, X_test, y_test, y_pred, results_df  # 최적 모델, 테스트 데이터, 예측 결과, 결과 DataFrame 반환\n",
        "\n",
        "# LightGBM 모델 학습 및 하이퍼파라미터 튜닝 호출\n",
        "model, X_test, y_test, y_pred, results_df = train_lightgbm_with_random_tuning(data)\n",
        "\n",
        "# 결과를 Excel 파일로 저장: 튜닝 결과를 Excel 파일로 저장\n",
        "results_df.to_excel('lightgbm_random_tuning_results.xlsx', index=False)\n",
        "print(\"Hyperparameter tuning results have been saved to 'lightgbm_random_tuning_results.xlsx'.\")"
      ],
      "metadata": {
        "id": "eNU3KwPbwIO5"
      },
      "execution_count": null,
      "outputs": []
    },
    {
      "cell_type": "markdown",
      "source": [
        "#### 주식 가격 예측 비교"
      ],
      "metadata": {
        "id": "6d19AUyewOTc"
      }
    },
    {
      "cell_type": "code",
      "source": [
        "# Matplotlib 라이브러리를 가져옵니다.\n",
        "import matplotlib.pyplot as plt  # 데이터 시각화를 위한 라이브러리\n",
        "\n",
        "# 실제 데이터와 예측 데이터 비교 및 시각화 함수 정의\n",
        "def plot_actual_vs_predicted(y_test, y_pred):\n",
        "    # 그래프의 크기를 설정합니다.\n",
        "    plt.figure(figsize=(14, 7))  # 가로 14, 세로 7 인치의 그래프 크기 설정\n",
        "\n",
        "    # 실제 값과 예측 값 비교\n",
        "    plt.plot(y_test.index, y_test.values, label=\"Actual Price\", color='blue')  # 실제 가격을 파란색 선으로 그립니다.\n",
        "    plt.plot(y_test.index, y_pred, label=\"Predicted Price\", color='red', linestyle='--')  # 예측 가격을 빨간색 점선으로 그립니다.\n",
        "\n",
        "    # 그래프 제목과 축 레이블 설정\n",
        "    plt.title('Actual vs Predicted Stock Prices')  # 그래프 제목\n",
        "    plt.xlabel('Date')  # x축 레이블: 날짜\n",
        "    plt.ylabel('Price')  # y축 레이블: 가격\n",
        "    plt.legend()  # 범례 표시 (각 선의 설명을 표시)\n",
        "\n",
        "    # 그래프를 화면에 표시합니다.\n",
        "    plt.show()\n",
        "\n",
        "# 시각화 실행: 실제 가격과 예측 가격을 비교하여 시각화합니다.\n",
        "plot_actual_vs_predicted(y_test, y_pred)\n"
      ],
      "metadata": {
        "id": "V4BgHFvXwNnf"
      },
      "execution_count": null,
      "outputs": []
    },
    {
      "cell_type": "markdown",
      "source": [
        "## 딥러닝 모델"
      ],
      "metadata": {
        "id": "_M7gOgTjfI_r"
      }
    },
    {
      "cell_type": "code",
      "source": [
        "# !pip install keras-tuner -q"
      ],
      "metadata": {
        "id": "Ra7rdaEogHpe"
      },
      "execution_count": null,
      "outputs": []
    },
    {
      "cell_type": "code",
      "source": [
        "\"\"\"\n",
        "# 데이터 스케일링 (정규화)\n",
        "scaler = MinMaxScaler()\n",
        "scaled_data = scaler.fit_transform(data[['Close']])\n",
        "\n",
        "# 입력 데이터 준비 (LSTM 입력 형태로 변환)\n",
        "def prepare_data(data, time_step=60):\n",
        "    X, y = [], []\n",
        "    for i in range(len(data) - time_step):\n",
        "        X.append(data[i:i + time_step, 0])\n",
        "        y.append(data[i + time_step, 0])\n",
        "    return np.array(X), np.array(y)\n",
        "\n",
        "time_step = 60\n",
        "X, y = prepare_data(scaled_data, time_step)\n",
        "\n",
        "# LSTM 입력 형식으로 변환 (samples, time_steps, features)\n",
        "X = X.reshape((X.shape[0], X.shape[1], 1))\n",
        "\n",
        "# 훈련 데이터와 테스트 데이터 분할\n",
        "X_train, X_test, y_train, y_test = train_test_split(X, y, test_size=0.2, shuffle=False)\n",
        "\n",
        "# Keras Tuner를 사용한 하이퍼파라미터 튜닝\n",
        "def build_model(hp):\n",
        "    model = Sequential()\n",
        "    model.add(LSTM(units=hp.Int('units', min_value=50, max_value=200, step=50),\n",
        "                   return_sequences=True, input_shape=(X_train.shape[1], 1)))\n",
        "    model.add(Dropout(hp.Float('dropout_rate', min_value=0.1, max_value=0.5, step=0.1)))\n",
        "\n",
        "    model.add(LSTM(units=hp.Int('units', min_value=50, max_value=200, step=50), return_sequences=False))\n",
        "    model.add(Dropout(hp.Float('dropout_rate', min_value=0.1, max_value=0.5, step=0.1)))\n",
        "\n",
        "    model.add(Dense(units=hp.Int('dense_units', min_value=25, max_value=100, step=25)))\n",
        "    model.add(Dense(1))  # 다음 날 종가 예측\n",
        "\n",
        "    model.compile(optimizer='adam', loss='mean_squared_error')\n",
        "    return model\n",
        "\n",
        "# Keras Tuner 설정\n",
        "tuner = RandomSearch(\n",
        "    build_model,\n",
        "    objective='val_loss',\n",
        "    max_trials=5,\n",
        "    executions_per_trial=3,\n",
        "    directory='tuner_dir',\n",
        "    project_name='stock_price_prediction'\n",
        ")\n",
        "\n",
        "# 하이퍼파라미터 튜닝 실행\n",
        "tuner.search(X_train, y_train, epochs=10, validation_split=0.2)\n",
        "\n",
        "# 최적의 하이퍼파라미터 선택\n",
        "best_hps = tuner.get_best_hyperparameters(num_trials=1)[0]\n",
        "\n",
        "# 최적의 하이퍼파라미터로 모델 빌드\n",
        "model = tuner.hypermodel.build(best_hps)\n",
        "\n",
        "# 모델 훈련\n",
        "history = model.fit(X_train, y_train, epochs=20, batch_size=32, validation_split=0.1)\n",
        "\n",
        "# 예측 수행\n",
        "y_pred = model.predict(X_test)\n",
        "\n",
        "# 스케일 복원 (예측 값과 실제 값을 스케일에서 원래 값으로 변환)\n",
        "y_test = scaler.inverse_transform(y_test.reshape(-1, 1))\n",
        "y_pred = scaler.inverse_transform(y_pred)\n",
        "\"\"\""
      ],
      "metadata": {
        "id": "LqcdLFN2lIPJ"
      },
      "execution_count": null,
      "outputs": []
    },
    {
      "cell_type": "markdown",
      "source": [
        "- 아래 코드는 실행 시간이 매우 김"
      ],
      "metadata": {
        "id": "bNOrgRrFlmpG"
      }
    },
    {
      "cell_type": "code",
      "source": [
        "\"\"\"\n",
        "\n",
        "# 필요한 라이브러리를 가져옵니다.\n",
        "import tensorflow as tf  # TensorFlow 라이브러리\n",
        "from sklearn.preprocessing import MinMaxScaler  # 데이터 스케일링을 위한 라이브러리\n",
        "from tensorflow.keras.models import Sequential  # Sequential 모델을 생성하기 위한 클래스\n",
        "from tensorflow.keras.layers import LSTM, Dense, Dropout  # LSTM, Dense, Dropout 레이어\n",
        "from kerastuner import RandomSearch  # Keras Tuner를 사용하여 하이퍼파라미터 튜닝을 위한 클래스\n",
        "\n",
        "# 데이터 스케일링\n",
        "scaler = MinMaxScaler()  # MinMaxScaler 인스턴스 생성\n",
        "scaled_data = scaler.fit_transform(data[['Close']])  # 종가 데이터를 0과 1 사이로 스케일링\n",
        "\n",
        "# 입력 데이터 준비 (LSTM 입력 형태로 변환)\n",
        "def prepare_data(data, time_step=60):\n",
        "    X, y = [], []  # 입력(X)와 타겟(y) 리스트 초기화\n",
        "    for i in range(len(data) - time_step):  # time_step 길이만큼 슬라이싱\n",
        "        X.append(data[i:i+time_step, 0])  # 입력 데이터 추가\n",
        "        y.append(data[i + time_step, 0])  # 타겟 데이터 추가\n",
        "    return np.array(X), np.array(y)  # 배열로 변환하여 반환\n",
        "\n",
        "time_step = 60  # 입력으로 사용할 시간 단계 설정\n",
        "X, y = prepare_data(scaled_data, time_step)  # 입력 데이터(X)와 타겟(y) 준비\n",
        "\n",
        "# LSTM 입력 형식으로 변환 (samples, time_steps, features)\n",
        "X = X.reshape((X.shape[0], X.shape[1], 1))  # LSTM 모델 입력에 맞게 데이터 차원 변경\n",
        "\n",
        "# 훈련 데이터와 테스트 데이터 분할\n",
        "X_train, X_test, y_train, y_test = train_test_split(X, y, test_size=0.2, shuffle=False)  # 훈련과 테스트 데이터 분할\n",
        "\n",
        "# 모델 구조 정의\n",
        "def build_model(hp):\n",
        "    model = Sequential()  # Sequential 모델 생성\n",
        "    # 첫 번째 LSTM 레이어 추가\n",
        "    model.add(LSTM(units=hp.Int('units', min_value=32, max_value=512, step=32), return_sequences=True, input_shape=(X_train.shape[1], 1)))\n",
        "    model.add(Dropout(hp.Float('dropout', min_value=0.2, max_value=0.5, step=0.1)))  # 드롭아웃 레이어 추가\n",
        "    # 두 번째 LSTM 레이어 추가\n",
        "    model.add(LSTM(units=hp.Int('units', min_value=32, max_value=512, step=32), return_sequences=False))\n",
        "    model.add(Dropout(hp.Float('dropout', min_value=0.2, max_value=0.5, step=0.1)))  # 드롭아웃 레이어 추가\n",
        "    model.add(Dense(units=hp.Int('dense_units', min_value=10, max_value=100, step=10)))  # Dense 레이어 추가\n",
        "    model.add(Dense(units=1))  # 출력 레이어 추가\n",
        "    model.compile(optimizer='adam', loss='mean_squared_error')  # 모델 컴파일 (손실 함수: 평균 제곱 오차)\n",
        "    return model  # 모델 반환\n",
        "\n",
        "# 하이퍼파라미터 튜닝 설정\n",
        "tuner = RandomSearch(build_model, objective='val_loss', max_trials=5, executions_per_trial=3, directory='my_dir', project_name='LSTM_tuning')\n",
        "tuner.search(X_train, y_train, epochs=20, validation_split=0.1)  # 하이퍼파라미터 탐색 시작\n",
        "\n",
        "# 최적의 하이퍼파라미터 선택\n",
        "best_hps = tuner.get_best_hyperparameters()[0]  # 최적 하이퍼파라미터 가져오기\n",
        "\n",
        "# 최적의 하이퍼파라미터로 모델 빌드\n",
        "model = tuner.hypermodel.build(best_hps)  # 최적 하이퍼파라미터로 모델 생성\n",
        "\n",
        "# 모델 훈련\n",
        "history = model.fit(X_train, y_train, epochs=20, batch_size=32, validation_split=0.1)  # 모델 학습\n",
        "\n",
        "# 예측 수행\n",
        "y_pred = model.predict(X_test)  # 테스트 데이터에 대한 예측 수행\n",
        "\n",
        "# 스케일 복원 (예측 값과 실제 값을 스케일에서 원래 값으로 변환)\n",
        "y_test = scaler.inverse_transform(y_test.reshape(-1, 1))  # 테스트 타겟을 원래 스케일로 복원\n",
        "y_pred = scaler.inverse_transform(y_pred)  # 예측 값을 원래 스케일로 복원\n",
        "\"\"\""
      ],
      "metadata": {
        "id": "LGcDt6bufK2_"
      },
      "execution_count": null,
      "outputs": []
    },
    {
      "cell_type": "markdown",
      "source": [
        "#### 주식 가격 예측 비교"
      ],
      "metadata": {
        "id": "NDHHAlJRf3vG"
      }
    },
    {
      "cell_type": "code",
      "source": [
        "\"\"\"\n",
        "# Matplotlib 라이브러리를 가져옵니다.\n",
        "import matplotlib.pyplot as plt  # 데이터 시각화를 위한 라이브러리\n",
        "\n",
        "# 실제 데이터와 예측 데이터 비교 및 시각화 함수 정의\n",
        "def plot_actual_vs_predicted(y_test, y_pred):\n",
        "    # 그래프의 크기를 설정합니다.\n",
        "    plt.figure(figsize=(14, 7))  # 가로 14인치, 세로 7인치 크기의 그래프 생성\n",
        "\n",
        "    # 실제 값과 예측 값 비교\n",
        "    plt.plot(y_test, label=\"Actual Price\", color='blue')  # 실제 가격을 파란색 선으로 그립니다.\n",
        "    plt.plot(y_pred, label=\"Predicted Price\", color='red', linestyle='--')  # 예측 가격을 빨간색 점선으로 그립니다.\n",
        "\n",
        "    # 그래프 제목과 축 레이블 설정\n",
        "    plt.title('Actual vs Predicted Stock Prices')  # 그래프 제목 설정\n",
        "    plt.xlabel('Time')  # x축 레이블: 시간 (또는 날짜)\n",
        "    plt.ylabel('Price')  # y축 레이블: 가격\n",
        "    plt.legend()  # 범례 추가 (각 선의 설명을 표시)\n",
        "\n",
        "    # 그래프를 화면에 표시합니다.\n",
        "    plt.show()  # 생성한 그래프를 화면에 출력\n",
        "\n",
        "# 시각화 실행: 실제 가격과 예측 가격을 비교하여 시각화합니다.\n",
        "plot_actual_vs_predicted(y_test, y_pred)\n",
        "\"\"\""
      ],
      "metadata": {
        "id": "uz_iqjN5f7CS"
      },
      "execution_count": null,
      "outputs": []
    },
    {
      "cell_type": "markdown",
      "source": [
        "# PART-3 매수 매도 시뮬레이션"
      ],
      "metadata": {
        "id": "DEsQyVP7wYQu"
      }
    },
    {
      "cell_type": "markdown",
      "source": [
        "### 매수/매도 시뮬레이션 함수 정의"
      ],
      "metadata": {
        "id": "YVJGq9Lvw754"
      }
    },
    {
      "cell_type": "code",
      "source": [
        "# 필요한 라이브러리 가져오기\n",
        "import numpy as np  # 수치 계산을 위한 라이브러리\n",
        "import pandas as pd  # 데이터 조작 및 분석을 위한 라이브러리\n",
        "\n",
        "def simulate_trading(data, y_test, y_pred, buy_threshold=-0.1, sell_threshold=0.1):\n",
        "    # y_test가 NumPy 배열일 경우, Series로 변환\n",
        "    if isinstance(y_test, np.ndarray):  # TensorFlow 예측값이 NumPy 배열일 경우\n",
        "        y_test = pd.Series(y_test.flatten(), index=data.index[-len(y_test):])\n",
        "\n",
        "    # y_pred가 NumPy 배열일 경우, Series로 변환\n",
        "    if isinstance(y_pred, np.ndarray):  # TensorFlow 예측값이 NumPy 배열일 경우\n",
        "        y_pred = pd.Series(y_pred.flatten(), index=y_test.index)\n",
        "\n",
        "    # 예측된 주가를 데이터프레임에 추가\n",
        "    data['Predicted'] = np.nan  # 'Predicted' 열 초기화 (NaN 값으로)\n",
        "    data.loc[y_test.index, 'Predicted'] = y_pred  # 예측된 주가를 해당 인덱스에 추가\n",
        "\n",
        "    # 신호 열 초기화\n",
        "    data['Signal_Actual'] = 0  # 실제 주가 기반 매수/매도 신호\n",
        "    data['Signal_Predicted'] = 0  # 예측 주가 기반 매수/매도 신호\n",
        "\n",
        "    # 초기 매수 가격 및 포지션 설정\n",
        "    initial_buy_price_actual = None  # 실제 주가 기준 최초 매수 가격 (초기값은 None)\n",
        "    initial_buy_price_predicted = y_pred[0]  # 예측 주가 시작점에서 최초 매수 가격\n",
        "    position_open_actual = False  # 실제 주가 포지션 여부 (초기값은 False)\n",
        "    position_open_predicted = True  # 예측 주가 포지션은 최초 매수 후 열림 (True로 설정)\n",
        "\n",
        "    # 매수 시점은 예측 구간의 첫 번째 시점으로 설정\n",
        "    data.loc[y_test.index[0], 'Signal_Predicted'] = 1  # 첫 매수 신호\n",
        "\n",
        "    # 매수/매도 신호 발생 (실제 주가 및 예측 주가 기준)\n",
        "    for i in range(1, len(y_test)):  # y_test의 두 번째 인덱스부터 마지막까지 반복\n",
        "        # 실제 및 예측 주가의 변화율 계산\n",
        "        actual_price_change = (y_test.iloc[i] - y_test.iloc[i-1]) / y_test.iloc[i-1]  # 실제 주가 변화율\n",
        "        predicted_price_change = (y_pred[i] - y_pred[i-1]) / y_pred[i-1]  # 예측 주가 변화율\n",
        "\n",
        "        # ---------------------\n",
        "        # 실제 주가 기준 매수/매도 신호\n",
        "        # ---------------------\n",
        "        # 실제 주가 최초 매수 신호: 가격 하락 시\n",
        "        if not position_open_actual and actual_price_change <= buy_threshold:  # 포지션이 열려 있지 않고 매수 임계값 이하일 경우\n",
        "            initial_buy_price_actual = y_test.iloc[i]  # 최초 매수 가격 기록\n",
        "            data.loc[y_test.index[i], 'Signal_Actual'] = 1  # 매수 신호\n",
        "            position_open_actual = True  # 포지션 열림 (매수됨)\n",
        "\n",
        "        # 실제 주가 기준 매도 신호: 매수 후 10% 상승 시\n",
        "        elif position_open_actual and (y_test.iloc[i] / initial_buy_price_actual - 1) >= sell_threshold:  # 포지션이 열려 있고 매도 임계값 이상일 경우\n",
        "            data.loc[y_test.index[i], 'Signal_Actual'] = -1  # 매도 신호\n",
        "            position_open_actual = False  # 포지션 닫음 (매도됨)\n",
        "\n",
        "        # 실제 주가 기준 추가 매수 신호: 매수 후 10% 하락 시\n",
        "        elif position_open_actual and (y_test.iloc[i] / initial_buy_price_actual - 1) <= buy_threshold:  # 포지션이 열려 있고 매수 임계값 이하일 경우\n",
        "            data.loc[y_test.index[i], 'Signal_Actual'] = 1  # 추가 매수 신호\n",
        "\n",
        "        # ---------------------\n",
        "        # 예측 주가 기준 매수/매도 신호\n",
        "        # ---------------------\n",
        "        # 예측 주가 기준 매도 신호: 매수 후 10% 상승 시\n",
        "        if position_open_predicted and (y_pred[i] / initial_buy_price_predicted - 1) >= sell_threshold:  # 포지션이 열려 있고 매도 임계값 이상일 경우\n",
        "            data.loc[y_test.index[i], 'Signal_Predicted'] = -1  # 매도 신호\n",
        "            position_open_predicted = False  # 포지션 닫음 (매도됨)\n",
        "\n",
        "        # 예측 주가 기준 추가 매수 신호: 매수 후 10% 하락 시\n",
        "        elif position_open_predicted and (y_pred[i] / initial_buy_price_predicted - 1) <= buy_threshold:  # 포지션이 열려 있고 매수 임계값 이하일 경우\n",
        "            data.loc[y_test.index[i], 'Signal_Predicted'] = 1  # 추가 매수 신호\n",
        "\n",
        "    return data  # 매수/매도 신호가 포함된 데이터프레임 반환\n"
      ],
      "metadata": {
        "id": "xsDPgRbwwePw"
      },
      "execution_count": 1,
      "outputs": []
    },
    {
      "cell_type": "markdown",
      "source": [
        "### 매수/매도 시뮬레이션 실행"
      ],
      "metadata": {
        "id": "0o1MfFCew_xP"
      }
    },
    {
      "cell_type": "code",
      "source": [
        "# 시뮬레이션 실행\n",
        "data = simulate_trading(data, y_test, y_pred)  # 이전에 정의한 simulate_trading() 함수를 호출하여 매수/매도 신호를 추가한 데이터를 생성\n",
        "\n",
        "# 매수/매도 기록 저장\n",
        "trades_actual = data[data['Signal_Actual'] != 0][['Close', 'Signal_Actual']]  # 실제 주가 기반 매수/매도 신호가 있는 행을 필터링하여 'Close'와 'Signal_Actual' 열만 선택\n",
        "trades_predicted = data[data['Signal_Predicted'] != 0][['Close', 'Signal_Predicted']]  # 예측 주가 기반 매수/매도 신호가 있는 행을 필터링하여 'Close'와 'Signal_Predicted' 열만 선택\n",
        "\n",
        "# 매매 기록 출력\n",
        "print(\"Actual Price-based Trades:\")  # 실제 주가 기반 매매 기록 제목 출력\n",
        "print(trades_actual)  # 실제 주가 기반 매매 기록 출력\n",
        "\n",
        "print(\"\\nPredicted Price-based Trades:\")  # 예측 주가 기반 매매 기록 제목 출력\n",
        "print(trades_predicted)  # 예측 주가 기반 매매 기록 출력\n"
      ],
      "metadata": {
        "id": "ioS3xQdzxDFY",
        "colab": {
          "base_uri": "https://localhost:8080/",
          "height": 257
        },
        "outputId": "2c02c2cd-a679-4d2a-ce31-4f4b34333c9a"
      },
      "execution_count": 2,
      "outputs": [
        {
          "output_type": "error",
          "ename": "NameError",
          "evalue": "name 'data' is not defined",
          "traceback": [
            "\u001b[0;31m---------------------------------------------------------------------------\u001b[0m",
            "\u001b[0;31mNameError\u001b[0m                                 Traceback (most recent call last)",
            "\u001b[0;32m<ipython-input-2-097a5310aecb>\u001b[0m in \u001b[0;36m<cell line: 2>\u001b[0;34m()\u001b[0m\n\u001b[1;32m      1\u001b[0m \u001b[0;31m# 시뮬레이션 실행\u001b[0m\u001b[0;34m\u001b[0m\u001b[0;34m\u001b[0m\u001b[0m\n\u001b[0;32m----> 2\u001b[0;31m \u001b[0mdata\u001b[0m \u001b[0;34m=\u001b[0m \u001b[0msimulate_trading\u001b[0m\u001b[0;34m(\u001b[0m\u001b[0mdata\u001b[0m\u001b[0;34m,\u001b[0m \u001b[0my_test\u001b[0m\u001b[0;34m,\u001b[0m \u001b[0my_pred\u001b[0m\u001b[0;34m)\u001b[0m  \u001b[0;31m# 이전에 정의한 simulate_trading() 함수를 호출하여 매수/매도 신호를 추가한 데이터를 생성\u001b[0m\u001b[0;34m\u001b[0m\u001b[0;34m\u001b[0m\u001b[0m\n\u001b[0m\u001b[1;32m      3\u001b[0m \u001b[0;34m\u001b[0m\u001b[0m\n\u001b[1;32m      4\u001b[0m \u001b[0;31m# 매수/매도 기록 저장\u001b[0m\u001b[0;34m\u001b[0m\u001b[0;34m\u001b[0m\u001b[0m\n\u001b[1;32m      5\u001b[0m \u001b[0mtrades_actual\u001b[0m \u001b[0;34m=\u001b[0m \u001b[0mdata\u001b[0m\u001b[0;34m[\u001b[0m\u001b[0mdata\u001b[0m\u001b[0;34m[\u001b[0m\u001b[0;34m'Signal_Actual'\u001b[0m\u001b[0;34m]\u001b[0m \u001b[0;34m!=\u001b[0m \u001b[0;36m0\u001b[0m\u001b[0;34m]\u001b[0m\u001b[0;34m[\u001b[0m\u001b[0;34m[\u001b[0m\u001b[0;34m'Close'\u001b[0m\u001b[0;34m,\u001b[0m \u001b[0;34m'Signal_Actual'\u001b[0m\u001b[0;34m]\u001b[0m\u001b[0;34m]\u001b[0m  \u001b[0;31m# 실제 주가 기반 매수/매도 신호가 있는 행을 필터링하여 'Close'와 'Signal_Actual' 열만 선택\u001b[0m\u001b[0;34m\u001b[0m\u001b[0;34m\u001b[0m\u001b[0m\n",
            "\u001b[0;31mNameError\u001b[0m: name 'data' is not defined"
          ]
        }
      ]
    },
    {
      "cell_type": "markdown",
      "source": [
        "### 포트폴리오 시뮬레이션 (실제 및 예측 주가 기반)"
      ],
      "metadata": {
        "id": "pJ4-AYKUxFpE"
      }
    },
    {
      "cell_type": "code",
      "source": [
        "def portfolio_simulation(data, signal_column):\n",
        "    capital = 10000  # 초기 자본 ($10,000)\n",
        "    num_stocks = 0  # 보유 주식 수\n",
        "    portfolio_value = []  # 포트폴리오 가치 저장 리스트\n",
        "\n",
        "    # 데이터 인덱스를 통해 각 날짜에 대해 반복\n",
        "    for i in data.index:\n",
        "        actual_price = data.loc[i, 'Close']  # 현재 날짜의 종가\n",
        "        signal = data.loc[i, signal_column]  # 해당 날짜의 매수/매도 신호\n",
        "\n",
        "        # 매수 신호가 발생했을 때\n",
        "        if signal == 1 and capital > 0:  # 매수 신호가 1이고 자본이 남아있을 경우\n",
        "            num_stocks_to_buy = capital // actual_price  # 구매할 수 있는 주식 수 계산\n",
        "            if num_stocks_to_buy > 0:  # 구매할 수 있는 주식 수가 0보다 큰 경우\n",
        "                capital -= num_stocks_to_buy * actual_price  # 자본에서 구매 금액 차감\n",
        "                num_stocks += num_stocks_to_buy  # 보유 주식 수 증가\n",
        "\n",
        "        # 매도 신호가 발생했을 때\n",
        "        elif signal == -1 and num_stocks > 0:  # 매도 신호가 -1이고 보유 주식이 있는 경우\n",
        "            capital += num_stocks * actual_price  # 자본에 보유 주식의 판매 금액 추가\n",
        "            num_stocks = 0  # 주식 초기화 (모두 매도)\n",
        "\n",
        "        # 포트폴리오 가치 업데이트\n",
        "        portfolio_value.append(capital + num_stocks * actual_price)  # 현재 자본과 보유 주식의 가치를 합산하여 포트폴리오 가치에 추가\n",
        "\n",
        "    return portfolio_value  # 최종 포트폴리오 가치 리스트 반환\n",
        "\n",
        "# 실제 및 예측 주가 기반 포트폴리오 시뮬레이션 실행\n",
        "portfolio_actual = portfolio_simulation(data, 'Signal_Actual')  # 실제 주가 기반 포트폴리오 시뮬레이션 실행\n",
        "portfolio_predicted = portfolio_simulation(data, 'Signal_Predicted')  # 예측 주가 기반 포트폴리오 시뮬레이션 실행\n"
      ],
      "metadata": {
        "id": "sBzaEq9dxIN_"
      },
      "execution_count": null,
      "outputs": []
    },
    {
      "cell_type": "markdown",
      "source": [
        "### 시각화"
      ],
      "metadata": {
        "id": "BCh5cn1exNip"
      }
    },
    {
      "cell_type": "code",
      "source": [
        "import matplotlib.pyplot as plt  # 데이터 시각화를 위한 라이브러리\n",
        "\n",
        "# 예측 구간 동안의 실제 값을 삭제하고 예측 값으로 대체하는 함수\n",
        "def merge_actual_and_predicted(data, y_test, y_pred):\n",
        "    data['Merged'] = data['Close'].copy()  # 실제 주가를 'Merged' 열에 복사\n",
        "    # y_test가 NumPy 배열일 경우, Series로 변환\n",
        "    if isinstance(y_test, np.ndarray):  # TensorFlow 예측값이 NumPy 배열일 경우\n",
        "        y_test = pd.Series(y_test.flatten(), index=data.index[-len(y_test):])\n",
        "\n",
        "    # y_pred가 NumPy 배열일 경우, Series로 변환\n",
        "    if isinstance(y_pred, np.ndarray):  # TensorFlow 예측값이 NumPy 배열일 경우\n",
        "        y_pred = pd.Series(y_pred.flatten(), index=y_test.index)\n",
        "    # 예측 구간에서 실제 주가를 삭제하고 예측 주가로 대체\n",
        "    data.loc[y_test.index, 'Merged'] = y_pred  # y_test 인덱스에 해당하는 행을 예측 값으로 대체\n",
        "\n",
        "    return data  # 변경된 데이터프레임 반환\n",
        "\n",
        "# 데이터 병합 (예측 구간 대체)\n",
        "data = merge_actual_and_predicted(data, y_test, y_pred)  # 실제 주가와 예측 주가 병합\n",
        "\n",
        "# 시각화 함수 (1x2 레이아웃)\n",
        "def plot_trading_simulation_1x2(data, y_test):\n",
        "\n",
        "    # y_test가 NumPy 배열일 경우, Series로 변환\n",
        "    if isinstance(y_test, np.ndarray):  # TensorFlow 예측값이 NumPy 배열일 경우\n",
        "        y_test = pd.Series(y_test.flatten(), index=data.index[-len(y_test):])\n",
        "\n",
        "\n",
        "    fig, (ax1, ax2) = plt.subplots(1, 2, figsize=(18, 6))  # 1x2 레이아웃 설정 (가로로 2개의 서브플롯)\n",
        "\n",
        "    # 실제 주가 및 매수/매도 신호 시각화 (Actual)\n",
        "    ax1.plot(data.index, data['Close'], label='Actual Price', color='blue')  # 실제 가격을 파란색 선으로 그립니다.\n",
        "\n",
        "    # 실제 기반 매수/매도 신호 시각화\n",
        "    buy_signals_actual = data[data['Signal_Actual'] == 1]  # 실제 매수 신호 데이터 필터링\n",
        "    sell_signals_actual = data[data['Signal_Actual'] == -1]  # 실제 매도 신호 데이터 필터링\n",
        "\n",
        "    ax1.scatter(buy_signals_actual.index, buy_signals_actual['Close'], marker='^', color='green', label='Buy Signal (Actual)', s=100)  # 매수 신호 표시\n",
        "    ax1.scatter(sell_signals_actual.index, sell_signals_actual['Close'], marker='v', color='red', label='Sell Signal (Actual)', s=100)  # 매도 신호 표시\n",
        "\n",
        "    # 초기 매수 시점에 대해 vline 추가 (녹색 수직선)\n",
        "    if len(buy_signals_actual) > 0:\n",
        "        first_buy_signal_actual = buy_signals_actual.index[0]  # 최초 매수 시점\n",
        "        ax1.axvline(x=first_buy_signal_actual, color='green', linestyle='--', linewidth=2, label='First Buy (Actual)')  # 수직선 추가\n",
        "\n",
        "    ax1.set_title('Actual Stock Prices with Buy/Sell Signals')  # 제목 설정\n",
        "    ax1.set_xlabel('Date')  # x축 레이블 설정\n",
        "    ax1.set_ylabel('Price')  # y축 레이블 설정\n",
        "    ax1.legend()  # 범례 추가\n",
        "\n",
        "    # 예측 구간의 첫 번째 인덱스\n",
        "    first_predicted_idx = y_test.index[0]  # 예측 구간의 첫 번째 인덱스 가져옴\n",
        "\n",
        "    # 실제 구간(예측 이전 구간)과 예측 구간을 나눠서 그리기\n",
        "    # 예측 구간 이전 실제 구간은 파란색 실선으로\n",
        "    ax2.plot(data.loc[:first_predicted_idx].index, data['Close'][:first_predicted_idx], label='Actual Price', color='blue')  # 실제 가격\n",
        "\n",
        "    # 예측 구간은 빨간색 점선으로\n",
        "    ax2.plot(data.loc[first_predicted_idx:].index, data['Merged'][first_predicted_idx:], label='Predicted Price', color='red', linestyle='--')  # 예측 가격\n",
        "\n",
        "    # 예측 기반 매수/매도 신호 시각화\n",
        "    buy_signals_predicted = data[data['Signal_Predicted'] == 1]  # 예측 매수 신호 데이터 필터링\n",
        "    sell_signals_predicted = data[data['Signal_Predicted'] == -1]  # 예측 매도 신호 데이터 필터링\n",
        "\n",
        "    ax2.scatter(buy_signals_predicted.index, buy_signals_predicted['Merged'], marker='^', color='orange', label='Buy Signal (Predicted)', s=100)  # 매수 신호 표시\n",
        "    ax2.scatter(sell_signals_predicted.index, sell_signals_predicted['Merged'], marker='v', color='purple', label='Sell Signal (Predicted)', s=100)  # 매도 신호 표시\n",
        "\n",
        "    # 예측 구간에서 초기 매수 시점에 대해 vline 추가 (주황색 수직선)\n",
        "    if len(buy_signals_predicted) > 0:\n",
        "        first_buy_signal_predicted = buy_signals_predicted.index[0]  # 최초 매수 시점\n",
        "        ax2.axvline(x=first_buy_signal_predicted, color='orange', linestyle='--', linewidth=2, label='First Buy (Predicted)')  # 수직선 추가\n",
        "\n",
        "    ax2.set_title('Merged Stock Prices (Actual + Predicted) with Buy/Sell Signals')  # 제목 설정\n",
        "    ax2.set_xlabel('Date')  # x축 레이블 설정\n",
        "    ax2.set_ylabel('Price')  # y축 레이블 설정\n",
        "    ax2.legend()  # 범례 추가\n",
        "\n",
        "    # 레이아웃 조정 및 출력\n",
        "    plt.xticks(rotation=45)  # x축 레이블 회전\n",
        "    plt.tight_layout()  # 레이아웃 조정\n",
        "    plt.show()  # 그래프 표시\n",
        "\n",
        "# 시각화 실행 (1x2 레이아웃)\n",
        "plot_trading_simulation_1x2(data, y_test)  # 함수 호출하여 시각화 실행\n"
      ],
      "metadata": {
        "id": "0fyuNB4ZxOKw"
      },
      "execution_count": null,
      "outputs": []
    }
  ]
}