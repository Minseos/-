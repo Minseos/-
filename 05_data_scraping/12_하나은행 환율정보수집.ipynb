{
 "cells": [
  {
   "cell_type": "code",
   "execution_count": 38,
   "id": "0f6c4b3e-81b3-4db0-ace5-ccdd6766be36",
   "metadata": {},
   "outputs": [],
   "source": [
    "# selenium 4\n",
    "from selenium import webdriver\n",
    "from selenium.webdriver.chrome.service import Service as ChromeService\n",
    "from webdriver_manager.chrome import ChromeDriverManager\n",
    "from selenium.webdriver.common.keys import Keys\n",
    "from selenium.webdriver.common.by import By\n",
    "from bs4 import BeautifulSoup as bs\n",
    "import time\n",
    "import pandas as pd\n"
   ]
  },
  {
   "cell_type": "code",
   "execution_count": 39,
   "id": "ab2ab68f-724f-4645-b3c9-8ae6f73ef7a1",
   "metadata": {},
   "outputs": [
    {
     "name": "stdout",
     "output_type": "stream",
     "text": [
      "Requirement already satisfied: html5lib in c:\\users\\5-04\\miniforge3\\envs\\fintech\\lib\\site-packages (1.1)\n",
      "Requirement already satisfied: six>=1.9 in c:\\users\\5-04\\miniforge3\\envs\\fintech\\lib\\site-packages (from html5lib) (1.16.0)\n",
      "Requirement already satisfied: webencodings in c:\\users\\5-04\\miniforge3\\envs\\fintech\\lib\\site-packages (from html5lib) (0.5.1)\n"
     ]
    }
   ],
   "source": [
    "!pip install html5lib"
   ]
  },
  {
   "cell_type": "code",
   "execution_count": 40,
   "id": "473933b7-abe0-4104-8055-298a879f3119",
   "metadata": {},
   "outputs": [],
   "source": [
    "# # 우리가 찾은 url이 아닌 그냥 한화은행 환율정보 바로 들어갔을 때 url임\n",
    "# # 크롬 옵션즈에 정보를 담아 사람인 것 처럼 만들기\n",
    "# options = webdriver.ChromeOptions()\n",
    "# options.add_experimental_option(\"excludeSwitches\", ['enable-logging'])\n",
    "# options.add_argument(\"Mozilla/5.0 (Windows NT 10.0; Win64; x64) AppleWebKit/537.36 (KHTML, like Gecko) Chrome/126.0.0.0 Safari/537.36\")\n",
    "# options.add_argument('lang=ko_KR')\n",
    "\n",
    "# # 크롬 웹브라우저 드라이버 자동 다운로드\n",
    "# driver = webdriver.Chrome(service=ChromeService(ChromeDriverManager().install()))\n",
    "# driver.set_window_size(1920, 1080) # 웹브라우저 해상도 조절\n",
    "# driver.get(\"https://www.kebhana.com/cont/mall/mall15/mall1501/index.jsp\")\n",
    "# page_html = driver.page_source\n",
    "# df = pd.read_html(page_html)"
   ]
  },
  {
   "cell_type": "code",
   "execution_count": 41,
   "id": "7d5df097-b26d-4c17-9ce7-2c4fe71f3130",
   "metadata": {},
   "outputs": [],
   "source": [
    "# 크롬 옵션즈에 정보를 담아 사람인 것 처럼 만들기\n",
    "options = webdriver.ChromeOptions()\n",
    "options.add_experimental_option(\"excludeSwitches\", ['enable-logging'])\n",
    "options.add_argument(\"Mozilla/5.0 (Windows NT 10.0; Win64; x64) AppleWebKit/537.36 (KHTML, like Gecko) Chrome/126.0.0.0 Safari/537.36\")\n",
    "options.add_argument('lang=ko_KR')\n",
    "\n",
    "# 크롬 웹브라우저 드라이버 자동 다운로드\n",
    "driver = webdriver.Chrome(service=ChromeService(ChromeDriverManager().install()))\n",
    "driver.set_window_size(1920, 1080) # 웹브라우저 해상도 조절\n",
    "driver.get(\"https://www.kebhana.com/cms/rate/index.do?contentUrl=/cms/rate/wpfxd651_01i.do#//HanaBank\")"
   ]
  },
  {
   "cell_type": "code",
   "execution_count": 42,
   "id": "f3e3e27f-bd0d-4b9d-8671-f471d1850cf7",
   "metadata": {},
   "outputs": [],
   "source": [
    "page_html = driver.page_source"
   ]
  },
  {
   "cell_type": "code",
   "execution_count": 43,
   "id": "9d397ac7-3dc9-4c03-bde3-e4b9fb69f38c",
   "metadata": {
    "scrolled": true
   },
   "outputs": [
    {
     "data": {
      "text/plain": [
       "'<html xmlns=\"http://www.w3.org/1999/xhtml\" lang=\"ko\" xml:lang=\"ko\"><head>\\n<title>하나은행 개인뱅킹</title>\\n<meta http-equiv=\"Content-Type\" content=\"text/html; charset=utf-8\">\\n<meta http-equiv=\"Cache-control\" content=\"No-cache\">\\n<meta http-equiv=\"Expires\" content=\"0\">\\n<meta http-equiv=\"Pragma\" content=\"No-cache\">\\n<meta name=\"Description\" content=\"\">\\n<meta name=\"Keywords\" content=\"\">\\n<meta http-equiv=\"X-UA-Compatible\" content=\"IE=edge\">\\n\\n<link rel=\"shortcut icon\" href=\"/favicon.ico\">\\n<script async=\"\" charset=\"utf-8\" src=\"https://logcol.kebhana.com:8443/static/96580/ntm.js?ver=1722470400000\"></script><script async=\"\" charset=\"utf-8\" src=\"https://logcol.kebhana.com:8443/static/96580/install.js?ver=1722470400000\"></script><script type=\"text/javascript\">\\nvar TNK_SR = \\'67e0d1db4042503730933c41a122b031\\';\\nvar _W_L_M_ = \\'P\\';\\nvar DOMAIN_HOST_NM = \\'pbk.prdhostNm\\';\\nvar isTransKey       = false;  // 마우스입력기 사용여부\\n\\n \\nwindow._P1_CAUTH_LOG = \\'SZSb1AqKBIUmIJWchl3gfg==:39713bea-7ae0-4398-9863-9628d1c2d0a9:1722497778512\\'; \\n</script>\\n\\n \\n<script type=\"text/javascript\" src=\"https://image.kebhana.com/pbk/resource/js/lib/wc_tagging_script.js?t=1722328722479\"> </script>  \\n\\n\\n\\n<script type=\"text/javascript\" src=\"https://image.kebhana.com/pbk/resource/js/JMap.js?t=1722328722479\"> </script>\\n\\n<script type=\"text/javascript\" src=\"https://image.kebhana.com/pbk/resource/js/lib/jquery.js?t=1722328722479\"></script>\\n<script type=\"text/javascript\" src=\"https://image.kebhana.com/pbk/resource/js/lib/json2.js?t=1722328722479\"></script>\\n<script type=\"text/javascript\" src=\"https://image.kebhana.com/pbk/resource/js/lib/jquery-ui.js?t=1722328722479\"></script>\\n\\n<script type=\"text/javascript\" src=\"/cont/common/js/ui.js\"></script>\\n<script type=\"text/javascript\" src=\"/cont/common/js/form.js\"></script>\\n\\n<script type=\"text/javascript\" src=\"/interezen/IPinside_v6_config.js?t=20151231\"></script>\\n<script type=\"text/javascript\" src=\"/interezen/IPinside_v6_engine.min.js?t=20151231\"></script>\\n\\n<script type=\"text/javascript\" src=\"/softcamp/WebSecurityStandard/js/SCWSCONTROL.js\"></script>\\n\\n\\n\\n\\n\\n<link rel=\"stylesheet\" type=\"text/css\" href=\"https://image.kebhana.com/pbk/resource/css/blank.css\">\\n<link rel=\"stylesheet\" type=\"text/css\" href=\"https://image.kebhana.com/pbk/resource/css/blank.css\">\\n<link rel=\"stylesheet\" type=\"text/css\" href=\"https://image.kebhana.com/pbk/resource/css/blank.css\">\\n<link rel=\"stylesheet\" type=\"text/css\" href=\"https://image.kebhana.com/pbk/resource/css/blank.css\">\\n<link rel=\"stylesheet\" type=\"text/css\" href=\"https://image.kebhana.com/pbk/resource/css/blank.css\">\\n\\n<link rel=\"stylesheet\" type=\"text/css\" href=\"/resource/css/blank.css\">\\n<link rel=\"stylesheet\" type=\"text/css\" href=\"/resource/css/blank.css\">\\n<link rel=\"stylesheet\" type=\"text/css\" href=\"/resource/css/blank.css\">\\n<link rel=\"stylesheet\" type=\"text/css\" href=\"/resource/css/blank.css\">\\n<link rel=\"stylesheet\" type=\"text/css\" href=\"/resource/css/blank.css\">\\n\\n<link rel=\"stylesheet\" type=\"text/css\" href=\"/cont/common/css/real/default.css\">\\n<link rel=\"stylesheet\" type=\"text/css\" href=\"/cont/common/css/real/common.css\">\\n<link rel=\"stylesheet\" type=\"text/css\" href=\"/cont/common/css/real/layout.css\">\\n<link rel=\"stylesheet\" type=\"text/css\" href=\"/cont/common/css/real/cust.css\">\\n<link rel=\"stylesheet\" type=\"text/css\" href=\"/cont/common/css/real/form.css\">\\n<link rel=\"stylesheet\" type=\"text/css\" href=\"/cont/common/css/real/blank.css\">\\n\\n<link rel=\"stylesheet\" type=\"text/css\" href=\"https://image.kebhana.com/pbk/resource/css/hn_cms_layer_popup.css\">\\n<link rel=\"stylesheet\" type=\"text/css\" href=\"/resource/simple/css/font_family.css\">\\n\\n\\n\\n\\n\\n\\n<script type=\"text/javascript\" src=\"https://image.kebhana.com/pbk/resource/js/lib/prototype.js?t=1722328722479\"></script>\\n\\n\\n\\n\\n\\n\\n\\n<script type=\"text/javascript\">var $j = jQuery.noConflict();</script>\\n\\n\\n<script type=\"text/javascript\" src=\"/softforum/TouchEnUP.js\"></script><script type=\"text/javascript\" charset=\"utf-8\" src=\"/TouchEn/nxKey/js/TouchEnNxKey.js?t=20190808\"></script><script type=\"text/javascript\" charset=\"utf-8\" src=\"/TouchEn/nxKey/js/TouchEnNxKey_Install.js?t=20190808\"></script><script type=\"text/javascript\" charset=\"utf-8\" src=\"/TouchEn/cmn/exproto.js?t=20190808\"></script><script type=\"text/javascript\" charset=\"utf-8\" src=\"/TouchEn/nxKey/js/TouchEnNxKey_Interface.js?t=20190808\"></script><script type=\"text/javascript\" src=\"https://www.kebhana.com/TouchEn/cmn/TouchEnNx_daemon.js?t=20190808\"></script>\\n<script type=\"text/javascript\" src=\"https://image.kebhana.com/pbk/resource/js/opb/opb-transkey.js?t=1722328722479\"></script><script type=\"text/javascript\" src=\"/servlet/transkeyServlet?op=getJsConfig\"></script><script type=\"text/javascript\" src=\"/softforum/TransKey/transkey/TranskeyLibPack_op.js?version=1722497778664\"></script><script type=\"text/javascript\" src=\"/softforum/TransKey/transkey/transkey.js?t=20240102\"></script>\\n<script type=\"text/javascript\" src=\"https://image.kebhana.com/pbk/resource/js/opb/opb-base-namespace.js?t=1722328722479\"></script>\\n<script type=\"text/javascript\" src=\"https://image.kebhana.com/pbk/resource/js/opb/opb-base-constants.js?t=1722328722479\"></script>\\n\\n\\n\\n<script type=\"text/javascript\">\\n\\t\\n\\topb.base.IMG_SVR_DOMAIN = \\'https://image.kebhana.com/pbk\\';\\n\\topb.base.IMG_SVR_ROOT_DOMAIN = \\'https://image.kebhana.com\\';\\n\\topb.base.APPLICATION_CONTEXT_ROOT = \\'\\';\\n\\tpbk.APPLICATION_CONTEXT_ROOT = \\'\\'; // 이 라인은 AS-IS 호환 오류방지용입니다. pbk를 사용하는 소스가 사라지면 제거합니다.\\n\\topb.base.SYSTEM_TODAY = \\'08/01/2024 16:36:18\\';\\n\\topb.base.SYSTEM_LOCAL_SECONDS = 0;\\n</script>\\n<script type=\"text/javascript\" src=\"https://image.kebhana.com/pbk/resource/js/opb/opb-core-prototype.js?t=1722328722479\"></script>\\n<script type=\"text/javascript\" src=\"https://image.kebhana.com/pbk/resource/js/opb/opb-common-util.js?t=1722328722479\"></script>\\n\\n<script type=\"text/javascript\" src=\"https://image.kebhana.com/pbk/resource/js/opb/opb-common-ajax.js?t=1722328722479\"></script>\\n<script type=\"text/javascript\" src=\"https://image.kebhana.com/pbk/resource/js/opb/opb-common-layerpopup.js?t=1722328722479\"></script>\\n\\n<script type=\"text/javascript\" src=\"https://image.kebhana.com/pbk/resource/js/design.js?t=1722328722479\"></script>\\n\\n<script type=\"text/javascript\" src=\"https://image.kebhana.com/pbk/resource/js/sorttable/JHanaSortTable.js?t=1722328722479\"> </script>\\n<script type=\"text/javascript\" src=\"https://image.kebhana.com/pbk/resource/js/JHanaUtils.js?t=1722328722479\"> </script>\\n<script type=\"text/javascript\" src=\"https://image.kebhana.com/pbk/resource/js/JHanaAjax.js?t=1722328722479\"> </script>\\n<script type=\"text/javascript\" src=\"https://image.kebhana.com/pbk/resource/js/niceforms/JHanaNiceForm.js?t=1722328722479\"> </script>\\n<script type=\"text/javascript\" src=\"https://image.kebhana.com/pbk/resource/js/JHanaValidation.js?t=1722328722479\"> </script>\\n<script type=\"text/javascript\" src=\"https://image.kebhana.com/pbk/resource/js/tag/JHanaTag.js?t=1722328722479\"> </script>\\n\\n\\n\\n\\n<script type=\"text/javascript\">\\n//<![CDATA[\\n    var _W_L_M_ = \\'P\\';\\n    var _SITE_SystemMode = \"real\"; //\"real\", \"test\"\\n    var _SITE_SystemLang = \"KOR\"; //\"KOR\", \"ENG\", \"CHN\", \"JPN\", \"VNM\"\\n    var _SITE_SiteName = \"delfino\";     //\"pc\", \"mobile\", \"tablet\"\\n    var _SITE_ModuleType = \"\"; //\"\", \"G2\", \"G3\", \"G4\"\\n//]]>\\n</script>\\n<!-- <script type=\"text/javascript\" src=\"/wizvera/delfino/jquery/jquery-1.6.4.min.js\"></script> -->\\n<script type=\"text/javascript\" src=\"/wizvera/delfino/delfino_config.js?t=20240801163618\"></script>\\n<script type=\"text/javascript\" src=\"/wizvera/delfino/delfino_internal.min.js?t=20240801163618\"></script>\\n<script type=\"text/javascript\" src=\"/wizvera/delfino/delfino.js?t=20240801163618\"></script>\\n<script type=\"text/javascript\" src=\"/wizvera/delfino/delfino_site.js?t=20240801163618\"></script>\\n<!-- WizIN-Delfino 추가  -->\\n<script type=\"text/javascript\" src=\"/wizvera/certgate/certgate_config.js?t=20240801163618\" charset=\"utf-8\"></script>\\n<script type=\"text/javascript\" src=\"/wizvera/certgate/certgate_common.js?t=20240801163618\" charset=\"utf-8\"></script>\\n<script type=\"text/javascript\" src=\"/wizvera/certgate/certgate.js?t=20240801163618\" charset=\"utf-8\"></script>\\n\\n<script type=\"text/javascript\" src=\"https://image.kebhana.com/pbk/resource/js/pbk-util.js?t=1722328722479\"> </script>\\n<script type=\"text/javascript\" src=\"https://image.kebhana.com/pbk/resource/js/opb/opb-top.js?t=1722328722479\"> </script>\\n<script type=\"text/javascript\" src=\"https://image.kebhana.com/pbk/resource/js/opb/menu/opb-menu.js?t=1722328722479\"></script>\\t\\n<script type=\"text/javascript\" src=\"https://image.kebhana.com/pbk/resource/js/ncg_print_m.js?t=1722328722479\"></script>\\n<script type=\"text/javascript\" src=\"https://image.kebhana.com/pbk/resource/js/opb/util/opb-util-calendar.js?t=1722328722479\"></script>\\n<script type=\"text/javascript\" src=\"https://image.kebhana.com/pbk/resource/js/opb/apps/common/opb-apps-common-util.js?t=1722328722479\"></script>\\n\\n<script type=\"text/javascript\">\\n\\t/* 서버의 세션타임아웃을 설정한다. session에서 정보 수신. */\\n\\topb.common.util.loadMultiLanguage(\\'KO\\');\\n\\topb.common.util.auto_logout_timer.DEFAULT_TIMEOUT_SEC = \\'600\\';\\n</script>\\n\\n<script type=\"text/javascript\" src=\"https://image.kebhana.com/pbk/resource/js/common/opb-common-charge.js?t=1722328722479\"></script>\\n<script type=\"text/javascript\" src=\"https://image.kebhana.com/pbk/resource/js/common/opb-common-cashbag.js?t=1722328722479\"></script>\\n<script type=\"text/javascript\" src=\"https://image.kebhana.com/pbk/resource/js/common/opb-common-biz.js?t=1722328722479\"></script>\\n<script type=\"text/javascript\" src=\"https://image.kebhana.com/pbk/resource/js/common/opb-common-base.js?t=1722328722479\"></script>\\n<script type=\"text/javascript\" src=\"https://image.kebhana.com/pbk/resource/js/common/opb-common-nickname-pop.js?t=1722328722479\"></script>\\n<script type=\"text/javascript\" src=\"https://image.kebhana.com/pbk/resource/js/common/opb-common-popup-address.js?t=1722328722479\"></script>\\n<script type=\"text/javascript\" src=\"https://image.kebhana.com/pbk/resource/js/common/opb-common-popup-phone.js?t=1722328722479\"> </script>\\n<script type=\"text/javascript\" src=\"https://image.kebhana.com/pbk/resource/js/common/opb-common-popup-address.js?t=1722328722479\"> </script>\\n<script type=\"text/javascript\" src=\"https://image.kebhana.com/pbk/resource/js/common/opb-common-popup-phone.js?t=1722328722479\"> </script>\\n<script type=\"text/javascript\" src=\"https://image.kebhana.com/pbk/resource/js/common/opb-common-popup-job.js?t=1722328722479\"> </script>\\n<script type=\"text/javascript\" src=\"https://image.kebhana.com/pbk/resource/js/common/opb-common-popup-company.js?t=1722328722479\"> </script>\\n<script type=\"text/javascript\" src=\"https://image.kebhana.com/pbk/resource/js/common/opb-common-popup-business.js?t=1722328722479\"> </script>\\n<script type=\"text/javascript\" src=\"https://image.kebhana.com/pbk/resource/js/common/opb-common-popup-find.js?t=1722328722479\"> </script>\\n<script type=\"text/javascript\" src=\"https://image.kebhana.com/pbk/resource/js/common/opb-common-popup-taxprim.js?t=1722328722479\"> </script>\\n<script type=\"text/javascript\" src=\"https://image.kebhana.com/pbk/resource/js/common/opb-common-popup-branch.js?t=1722328722479\"> </script>\\n<script type=\"text/javascript\" src=\"https://image.kebhana.com/pbk/resource/js/common/opb-common-popup-etc.js?t=1722328722479\"> </script>\\n<script type=\"text/javascript\" src=\"https://image.kebhana.com/pbk/resource/js/common/opb-common-popup-calculator.js?t=1722328722479\"> </script>\\n\\n\\n<script type=\"text/javascript\" src=\"https://image.kebhana.com/pbk/resource/js/blank.js?t=1722328722479\"> </script>\\n<script type=\"text/javascript\" src=\"https://image.kebhana.com/pbk/resource/js/blank.js?t=1722328722479\"> </script>\\n<script type=\"text/javascript\" src=\"https://image.kebhana.com/pbk/resource/js/blank.js?t=1722328722479\"> </script>\\n<script type=\"text/javascript\" src=\"https://image.kebhana.com/pbk/resource/js/blank.js?t=1722328722479\"> </script>\\n<script type=\"text/javascript\" src=\"https://image.kebhana.com/pbk/resource/js/blank.js?t=1722328722479\"> </script>\\n\\n<script type=\"text/javascript\" src=\"/resource/js/blank.js\"> </script>\\n<script type=\"text/javascript\" src=\"/resource/js/blank.js\"> </script>\\n<script type=\"text/javascript\" src=\"/resource/js/blank.js\"> </script>\\n<script type=\"text/javascript\" src=\"/resource/js/blank.js\"> </script>\\n<script type=\"text/javascript\" src=\"/resource/js/blank.js\"> </script>\\n\\n\\n\\n<script type=\"text/javascript\">\\n\\n\\t\\n\\n\\n</script>\\n\\n</head>\\n\\n\\n\\n\\n\\n<body>\\n\\n<div id=\"HANA_MASK_WRAP_DIV\">\\n\\t\\n\\t<div id=\"HANA_WRAP_DIV\" class=\"banking\">\\n\\t\\n        \\n        \\n\\n\\n\\n\\n\\n\\n<script type=\"text/javascript\">\\n//<![CDATA[\\n\\n\\t$j(document).ready(function(){\\n\\t\\n\\t\\t//alert(\\'/cms/rate/wpfxd651_01i.do\\');\\n\\t\\tvar contentUrl = \\'\\';\\n\\t\\t\\n\\t\\t\\tcontentUrl = \\'/cms/rate/wpfxd651_01i.do\\';\\n\\t\\t\\tvar data = new Array(); //[{id: \\'acctNo\\', value: acctNo}];\\n\\t\\t\\t\\n\\t\\t\\t\\ttry {\\n\\t\\t\\t\\t\\tdata[0] = {id:\\'contentUrl\\', value:\\'/cms/rate/wpfxd651_01i.do\\'};\\n\\t\\t\\t\\t} catch(e) {};\\n\\t\\t\\t\\n\\t\\t\\tpbk.web.util.goAjaxMenu(contentUrl, data);\\n\\t\\t\\n\\t\\n\\t});\\n\\n//]]>\\t\\n</script>\\n\\n        \\n\\t\\n\\t\\t<!-- HANA_CONTENTS_DIV -->\\n\\t\\t<div id=\"HANA_CONTENTS_DIV\">\\n\\t\\t\\n\\n \\n\\n\\n\\n\\n\\n\\n\\n\\n\\n\\n\\t\\t</div>\\n\\t\\t<!-- //HANA_CONTENTS_DIV -->\\n\\t\\n\\t</div>\\n\\n</div>\\t\\n\\n\\n\\n\\n<div id=\"OPB_loadingLayerID_generatedByJS\" style=\"position: absolute; z-index: 16777271; background-image: url(&quot;https://image.kebhana.com/pbk/resource/img/common/Loading.gif&quot;); background-position: center center; height: 146px; width: 315px; left: 786px; top: 419.5px;\"></div><div id=\"OPB_loadingLayerID_generatedByJSOPB_modalMaskID_generatedByJS\" style=\"position: absolute; background-color: rgb(0, 0, 0); opacity: 0.2; z-index: 99991; width: 100%; height: 100%; left: 0px; top: 0px;\"></div></body></html>'"
      ]
     },
     "execution_count": 43,
     "metadata": {},
     "output_type": "execute_result"
    }
   ],
   "source": [
    "page_html"
   ]
  },
  {
   "cell_type": "code",
   "execution_count": 44,
   "id": "a788a783-036a-4990-8cab-20fff89a9708",
   "metadata": {},
   "outputs": [
    {
     "ename": "ValueError",
     "evalue": "No tables found",
     "output_type": "error",
     "traceback": [
      "\u001b[1;31m---------------------------------------------------------------------------\u001b[0m",
      "\u001b[1;31mValueError\u001b[0m                                Traceback (most recent call last)",
      "Cell \u001b[1;32mIn[44], line 1\u001b[0m\n\u001b[1;32m----> 1\u001b[0m \u001b[43mpd\u001b[49m\u001b[38;5;241;43m.\u001b[39;49m\u001b[43mread_html\u001b[49m\u001b[43m(\u001b[49m\u001b[43mpage_html\u001b[49m\u001b[43m)\u001b[49m[\u001b[38;5;241m0\u001b[39m]\n",
      "File \u001b[1;32m~\\miniforge3\\envs\\fintech\\lib\\site-packages\\pandas\\io\\html.py:1240\u001b[0m, in \u001b[0;36mread_html\u001b[1;34m(io, match, flavor, header, index_col, skiprows, attrs, parse_dates, thousands, encoding, decimal, converters, na_values, keep_default_na, displayed_only, extract_links, dtype_backend, storage_options)\u001b[0m\n\u001b[0;32m   1224\u001b[0m \u001b[38;5;28;01mif\u001b[39;00m \u001b[38;5;28misinstance\u001b[39m(io, \u001b[38;5;28mstr\u001b[39m) \u001b[38;5;129;01mand\u001b[39;00m \u001b[38;5;129;01mnot\u001b[39;00m \u001b[38;5;28many\u001b[39m(\n\u001b[0;32m   1225\u001b[0m     [\n\u001b[0;32m   1226\u001b[0m         is_file_like(io),\n\u001b[1;32m   (...)\u001b[0m\n\u001b[0;32m   1230\u001b[0m     ]\n\u001b[0;32m   1231\u001b[0m ):\n\u001b[0;32m   1232\u001b[0m     warnings\u001b[38;5;241m.\u001b[39mwarn(\n\u001b[0;32m   1233\u001b[0m         \u001b[38;5;124m\"\u001b[39m\u001b[38;5;124mPassing literal html to \u001b[39m\u001b[38;5;124m'\u001b[39m\u001b[38;5;124mread_html\u001b[39m\u001b[38;5;124m'\u001b[39m\u001b[38;5;124m is deprecated and \u001b[39m\u001b[38;5;124m\"\u001b[39m\n\u001b[0;32m   1234\u001b[0m         \u001b[38;5;124m\"\u001b[39m\u001b[38;5;124mwill be removed in a future version. To read from a \u001b[39m\u001b[38;5;124m\"\u001b[39m\n\u001b[1;32m   (...)\u001b[0m\n\u001b[0;32m   1237\u001b[0m         stacklevel\u001b[38;5;241m=\u001b[39mfind_stack_level(),\n\u001b[0;32m   1238\u001b[0m     )\n\u001b[1;32m-> 1240\u001b[0m \u001b[38;5;28;01mreturn\u001b[39;00m \u001b[43m_parse\u001b[49m\u001b[43m(\u001b[49m\n\u001b[0;32m   1241\u001b[0m \u001b[43m    \u001b[49m\u001b[43mflavor\u001b[49m\u001b[38;5;241;43m=\u001b[39;49m\u001b[43mflavor\u001b[49m\u001b[43m,\u001b[49m\n\u001b[0;32m   1242\u001b[0m \u001b[43m    \u001b[49m\u001b[43mio\u001b[49m\u001b[38;5;241;43m=\u001b[39;49m\u001b[43mio\u001b[49m\u001b[43m,\u001b[49m\n\u001b[0;32m   1243\u001b[0m \u001b[43m    \u001b[49m\u001b[43mmatch\u001b[49m\u001b[38;5;241;43m=\u001b[39;49m\u001b[43mmatch\u001b[49m\u001b[43m,\u001b[49m\n\u001b[0;32m   1244\u001b[0m \u001b[43m    \u001b[49m\u001b[43mheader\u001b[49m\u001b[38;5;241;43m=\u001b[39;49m\u001b[43mheader\u001b[49m\u001b[43m,\u001b[49m\n\u001b[0;32m   1245\u001b[0m \u001b[43m    \u001b[49m\u001b[43mindex_col\u001b[49m\u001b[38;5;241;43m=\u001b[39;49m\u001b[43mindex_col\u001b[49m\u001b[43m,\u001b[49m\n\u001b[0;32m   1246\u001b[0m \u001b[43m    \u001b[49m\u001b[43mskiprows\u001b[49m\u001b[38;5;241;43m=\u001b[39;49m\u001b[43mskiprows\u001b[49m\u001b[43m,\u001b[49m\n\u001b[0;32m   1247\u001b[0m \u001b[43m    \u001b[49m\u001b[43mparse_dates\u001b[49m\u001b[38;5;241;43m=\u001b[39;49m\u001b[43mparse_dates\u001b[49m\u001b[43m,\u001b[49m\n\u001b[0;32m   1248\u001b[0m \u001b[43m    \u001b[49m\u001b[43mthousands\u001b[49m\u001b[38;5;241;43m=\u001b[39;49m\u001b[43mthousands\u001b[49m\u001b[43m,\u001b[49m\n\u001b[0;32m   1249\u001b[0m \u001b[43m    \u001b[49m\u001b[43mattrs\u001b[49m\u001b[38;5;241;43m=\u001b[39;49m\u001b[43mattrs\u001b[49m\u001b[43m,\u001b[49m\n\u001b[0;32m   1250\u001b[0m \u001b[43m    \u001b[49m\u001b[43mencoding\u001b[49m\u001b[38;5;241;43m=\u001b[39;49m\u001b[43mencoding\u001b[49m\u001b[43m,\u001b[49m\n\u001b[0;32m   1251\u001b[0m \u001b[43m    \u001b[49m\u001b[43mdecimal\u001b[49m\u001b[38;5;241;43m=\u001b[39;49m\u001b[43mdecimal\u001b[49m\u001b[43m,\u001b[49m\n\u001b[0;32m   1252\u001b[0m \u001b[43m    \u001b[49m\u001b[43mconverters\u001b[49m\u001b[38;5;241;43m=\u001b[39;49m\u001b[43mconverters\u001b[49m\u001b[43m,\u001b[49m\n\u001b[0;32m   1253\u001b[0m \u001b[43m    \u001b[49m\u001b[43mna_values\u001b[49m\u001b[38;5;241;43m=\u001b[39;49m\u001b[43mna_values\u001b[49m\u001b[43m,\u001b[49m\n\u001b[0;32m   1254\u001b[0m \u001b[43m    \u001b[49m\u001b[43mkeep_default_na\u001b[49m\u001b[38;5;241;43m=\u001b[39;49m\u001b[43mkeep_default_na\u001b[49m\u001b[43m,\u001b[49m\n\u001b[0;32m   1255\u001b[0m \u001b[43m    \u001b[49m\u001b[43mdisplayed_only\u001b[49m\u001b[38;5;241;43m=\u001b[39;49m\u001b[43mdisplayed_only\u001b[49m\u001b[43m,\u001b[49m\n\u001b[0;32m   1256\u001b[0m \u001b[43m    \u001b[49m\u001b[43mextract_links\u001b[49m\u001b[38;5;241;43m=\u001b[39;49m\u001b[43mextract_links\u001b[49m\u001b[43m,\u001b[49m\n\u001b[0;32m   1257\u001b[0m \u001b[43m    \u001b[49m\u001b[43mdtype_backend\u001b[49m\u001b[38;5;241;43m=\u001b[39;49m\u001b[43mdtype_backend\u001b[49m\u001b[43m,\u001b[49m\n\u001b[0;32m   1258\u001b[0m \u001b[43m    \u001b[49m\u001b[43mstorage_options\u001b[49m\u001b[38;5;241;43m=\u001b[39;49m\u001b[43mstorage_options\u001b[49m\u001b[43m,\u001b[49m\n\u001b[0;32m   1259\u001b[0m \u001b[43m\u001b[49m\u001b[43m)\u001b[49m\n",
      "File \u001b[1;32m~\\miniforge3\\envs\\fintech\\lib\\site-packages\\pandas\\io\\html.py:1003\u001b[0m, in \u001b[0;36m_parse\u001b[1;34m(flavor, io, match, attrs, encoding, displayed_only, extract_links, storage_options, **kwargs)\u001b[0m\n\u001b[0;32m   1001\u001b[0m \u001b[38;5;28;01melse\u001b[39;00m:\n\u001b[0;32m   1002\u001b[0m     \u001b[38;5;28;01massert\u001b[39;00m retained \u001b[38;5;129;01mis\u001b[39;00m \u001b[38;5;129;01mnot\u001b[39;00m \u001b[38;5;28;01mNone\u001b[39;00m  \u001b[38;5;66;03m# for mypy\u001b[39;00m\n\u001b[1;32m-> 1003\u001b[0m     \u001b[38;5;28;01mraise\u001b[39;00m retained\n\u001b[0;32m   1005\u001b[0m ret \u001b[38;5;241m=\u001b[39m []\n\u001b[0;32m   1006\u001b[0m \u001b[38;5;28;01mfor\u001b[39;00m table \u001b[38;5;129;01min\u001b[39;00m tables:\n",
      "File \u001b[1;32m~\\miniforge3\\envs\\fintech\\lib\\site-packages\\pandas\\io\\html.py:983\u001b[0m, in \u001b[0;36m_parse\u001b[1;34m(flavor, io, match, attrs, encoding, displayed_only, extract_links, storage_options, **kwargs)\u001b[0m\n\u001b[0;32m    972\u001b[0m p \u001b[38;5;241m=\u001b[39m parser(\n\u001b[0;32m    973\u001b[0m     io,\n\u001b[0;32m    974\u001b[0m     compiled_match,\n\u001b[1;32m   (...)\u001b[0m\n\u001b[0;32m    979\u001b[0m     storage_options,\n\u001b[0;32m    980\u001b[0m )\n\u001b[0;32m    982\u001b[0m \u001b[38;5;28;01mtry\u001b[39;00m:\n\u001b[1;32m--> 983\u001b[0m     tables \u001b[38;5;241m=\u001b[39m \u001b[43mp\u001b[49m\u001b[38;5;241;43m.\u001b[39;49m\u001b[43mparse_tables\u001b[49m\u001b[43m(\u001b[49m\u001b[43m)\u001b[49m\n\u001b[0;32m    984\u001b[0m \u001b[38;5;28;01mexcept\u001b[39;00m \u001b[38;5;167;01mValueError\u001b[39;00m \u001b[38;5;28;01mas\u001b[39;00m caught:\n\u001b[0;32m    985\u001b[0m     \u001b[38;5;66;03m# if `io` is an io-like object, check if it's seekable\u001b[39;00m\n\u001b[0;32m    986\u001b[0m     \u001b[38;5;66;03m# and try to rewind it before trying the next parser\u001b[39;00m\n\u001b[0;32m    987\u001b[0m     \u001b[38;5;28;01mif\u001b[39;00m \u001b[38;5;28mhasattr\u001b[39m(io, \u001b[38;5;124m\"\u001b[39m\u001b[38;5;124mseekable\u001b[39m\u001b[38;5;124m\"\u001b[39m) \u001b[38;5;129;01mand\u001b[39;00m io\u001b[38;5;241m.\u001b[39mseekable():\n",
      "File \u001b[1;32m~\\miniforge3\\envs\\fintech\\lib\\site-packages\\pandas\\io\\html.py:249\u001b[0m, in \u001b[0;36m_HtmlFrameParser.parse_tables\u001b[1;34m(self)\u001b[0m\n\u001b[0;32m    241\u001b[0m \u001b[38;5;28;01mdef\u001b[39;00m \u001b[38;5;21mparse_tables\u001b[39m(\u001b[38;5;28mself\u001b[39m):\n\u001b[0;32m    242\u001b[0m \u001b[38;5;250m    \u001b[39m\u001b[38;5;124;03m\"\"\"\u001b[39;00m\n\u001b[0;32m    243\u001b[0m \u001b[38;5;124;03m    Parse and return all tables from the DOM.\u001b[39;00m\n\u001b[0;32m    244\u001b[0m \n\u001b[1;32m   (...)\u001b[0m\n\u001b[0;32m    247\u001b[0m \u001b[38;5;124;03m    list of parsed (header, body, footer) tuples from tables.\u001b[39;00m\n\u001b[0;32m    248\u001b[0m \u001b[38;5;124;03m    \"\"\"\u001b[39;00m\n\u001b[1;32m--> 249\u001b[0m     tables \u001b[38;5;241m=\u001b[39m \u001b[38;5;28;43mself\u001b[39;49m\u001b[38;5;241;43m.\u001b[39;49m\u001b[43m_parse_tables\u001b[49m\u001b[43m(\u001b[49m\u001b[38;5;28;43mself\u001b[39;49m\u001b[38;5;241;43m.\u001b[39;49m\u001b[43m_build_doc\u001b[49m\u001b[43m(\u001b[49m\u001b[43m)\u001b[49m\u001b[43m,\u001b[49m\u001b[43m \u001b[49m\u001b[38;5;28;43mself\u001b[39;49m\u001b[38;5;241;43m.\u001b[39;49m\u001b[43mmatch\u001b[49m\u001b[43m,\u001b[49m\u001b[43m \u001b[49m\u001b[38;5;28;43mself\u001b[39;49m\u001b[38;5;241;43m.\u001b[39;49m\u001b[43mattrs\u001b[49m\u001b[43m)\u001b[49m\n\u001b[0;32m    250\u001b[0m     \u001b[38;5;28;01mreturn\u001b[39;00m (\u001b[38;5;28mself\u001b[39m\u001b[38;5;241m.\u001b[39m_parse_thead_tbody_tfoot(table) \u001b[38;5;28;01mfor\u001b[39;00m table \u001b[38;5;129;01min\u001b[39;00m tables)\n",
      "File \u001b[1;32m~\\miniforge3\\envs\\fintech\\lib\\site-packages\\pandas\\io\\html.py:598\u001b[0m, in \u001b[0;36m_BeautifulSoupHtml5LibFrameParser._parse_tables\u001b[1;34m(self, document, match, attrs)\u001b[0m\n\u001b[0;32m    596\u001b[0m tables \u001b[38;5;241m=\u001b[39m document\u001b[38;5;241m.\u001b[39mfind_all(element_name, attrs\u001b[38;5;241m=\u001b[39mattrs)\n\u001b[0;32m    597\u001b[0m \u001b[38;5;28;01mif\u001b[39;00m \u001b[38;5;129;01mnot\u001b[39;00m tables:\n\u001b[1;32m--> 598\u001b[0m     \u001b[38;5;28;01mraise\u001b[39;00m \u001b[38;5;167;01mValueError\u001b[39;00m(\u001b[38;5;124m\"\u001b[39m\u001b[38;5;124mNo tables found\u001b[39m\u001b[38;5;124m\"\u001b[39m)\n\u001b[0;32m    600\u001b[0m result \u001b[38;5;241m=\u001b[39m []\n\u001b[0;32m    601\u001b[0m unique_tables \u001b[38;5;241m=\u001b[39m \u001b[38;5;28mset\u001b[39m()\n",
      "\u001b[1;31mValueError\u001b[0m: No tables found"
     ]
    }
   ],
   "source": [
    "pd.read_html(page_html)[0]"
   ]
  },
  {
   "cell_type": "code",
   "execution_count": null,
   "id": "ada639ae-b800-4007-bfd7-f31dc1d32638",
   "metadata": {
    "scrolled": true
   },
   "outputs": [],
   "source": [
    "df = pd.read_html(page_html)[1]\n",
    "df"
   ]
  },
  {
   "cell_type": "code",
   "execution_count": null,
   "id": "45139e95-81d4-48e5-b94c-f086c17fd0bd",
   "metadata": {},
   "outputs": [],
   "source": [
    "search_box = driver.find_element(By.CSS_SELECTOR, \"#tmpInqStrDt\") # 얘는 id이므로 유일함 무조건 저거 하나만 쳐도 나옴\n",
    "search_box.clear()\n",
    "search_box.send_keys(\"2024-07-31\"+Keys.ENTER)"
   ]
  },
  {
   "cell_type": "code",
   "execution_count": null,
   "id": "de5c982f-7b6c-4372-b7b0-f2c8b94b3116",
   "metadata": {},
   "outputs": [],
   "source": [
    "search_button = driver.find_element(By.CSS_SELECTOR, \"#HANA_CONTENTS_DIV > div.btnBoxCenter > a\")\n",
    "search_button.click()"
   ]
  },
  {
   "cell_type": "code",
   "execution_count": null,
   "id": "5b9cb2ef-b292-4e5b-9067-9e004a5a4663",
   "metadata": {},
   "outputs": [],
   "source": [
    "# 얘는 selenium에서 필요 없는 애임\n",
    "#table = soup.select_one(\"#searchContentDiv > div.printdiv > table\")\n",
    "#table_html = str(table)"
   ]
  },
  {
   "cell_type": "code",
   "execution_count": null,
   "id": "f73ab46d-98a3-44de-9a71-720e49fd7fe9",
   "metadata": {},
   "outputs": [],
   "source": [
    "from sqlalchemy import create_engine, text\n",
    "import pymysql\n",
    "from exdbinfo import db, dbtype, id, pw, host, database\n",
    "# pymysql을 MySQLdb로 설치\n",
    "pymysql.install_as_MySQLdb()\n",
    "\n",
    "\n",
    "# 데이터베이스 엔진 생성\n",
    "engine = create_engine(\"%s+%s://%s:%s@%s\" % (db, dbtype, id, pw, host))\n",
    "conn = engine.connect()\n",
    "\n",
    "# 데이터베이스가 없으면 생성\n",
    "conn.execute(text('CREATE DATABASE IF NOT EXISTS korea_exchange_rate'))\n",
    "conn.close()"
   ]
  },
  {
   "cell_type": "code",
   "execution_count": null,
   "id": "09b360e0-2636-4bbe-a1e6-70e765e38d00",
   "metadata": {},
   "outputs": [],
   "source": [
    "# DB에 접속해서 저장하는 함수\n",
    "def bank_info_to_db(df):\n",
    "    from sqlalchemy import create_engine\n",
    "    import pymysql\n",
    "    from exdbinfo import db, dbtype, id, pw, host, database\n",
    "    from datetime import date\n",
    "    pymysql.install_as_MySQLdb()\n",
    "\n",
    "    today = str(date.today()).replace(\"-\",\"_\")\n",
    "    print(db, dbtype, id, pw, host, database)\n",
    "    # bank_info 데이터 베이스 연결\n",
    "    engine = create_engine(\"%s+%s://%s:%s@%s/%s\" % (db, dbtype, id, pw, host, database))\n",
    "    conn = engine.connect()\n",
    "    df.to_sql(f\"bank_info\", con=conn, if_exists='append', index=False)\n",
    "    conn.close()\n",
    "    \n",
    "    return print(f\"{'저장완료':<30s}\", end=\"\\r\")\n",
    "bank_info_to_db(df)"
   ]
  },
  {
   "cell_type": "code",
   "execution_count": null,
   "id": "10652beb-5233-4647-9c90-2a05332d858a",
   "metadata": {},
   "outputs": [],
   "source": []
  },
  {
   "cell_type": "markdown",
   "id": "b0261082-12ae-4ce0-8229-9e6fd57fc39f",
   "metadata": {},
   "source": [
    "# 매일 수집하기\n",
    "* 강사님"
   ]
  },
  {
   "cell_type": "code",
   "execution_count": 6,
   "id": "07791fe2-58f5-4def-9890-14787abf64a2",
   "metadata": {},
   "outputs": [],
   "source": [
    "from selenium import webdriver\n",
    "from selenium.webdriver.chrome.service import Service as ChromeService\n",
    "from webdriver_manager.chrome import ChromeDriverManager\n",
    "from selenium.webdriver.common.keys import Keys\n",
    "from selenium.webdriver.common.by import By\n",
    "from bs4 import BeautifulSoup as bs\n",
    "from datetime import date\n",
    "from selenium.webdriver.support.ui import WebDriverWait\n",
    "from selenium.webdriver.support import expected_conditions as EC\n",
    "\n",
    "import time\n",
    "import pandas as pd\n",
    "import dbio\n",
    "import warnings\n",
    "warnings.simplefilter(action = 'ignore', category = FutureWarning)"
   ]
  },
  {
   "cell_type": "code",
   "execution_count": 8,
   "id": "c0daec7a-6a63-4af7-813c-ef108fd2a8bf",
   "metadata": {},
   "outputs": [
    {
     "name": "stdout",
     "output_type": "stream",
     "text": [
      "exchange_rate_2024-08-01, 저장완료                          \r"
     ]
    }
   ],
   "source": [
    "# 하루 수집하기\n",
    "today = str(date.today())\n",
    "\n",
    "## 위에 있는거 합쳐서 한번에\n",
    "# 크롬 옵션즈에 정보를 담아 사람인 것 처럼 만들기\n",
    "options = webdriver.ChromeOptions()\n",
    "options.add_argument('--headless') # Headless 모드 (창이 안뜨게 하는거임 - 12시간 이렇게 창을 계속 띄워놓으면 작업하는데 불편하기 때문)\n",
    "# options.add_experimental_option(\"excludeSwitches\", ['enable-logging'])\n",
    "# options.add_argument(\"Mozilla/5.0 (Windows NT 10.0; Win64; x64) AppleWebKit/537.36 (KHTML, like Gecko) Chrome/126.0.0.0 Safari/537.36\")\n",
    "# options.add_argument('lang=ko_KR')\n",
    "options.add_argument('--no-sandbox')\n",
    "options.add_argument('--disable-dev-shm-usage')\n",
    "\n",
    "# 크롬 웹브라우저 드라이버 자동 다운로드\n",
    "driver = webdriver.Chrome(service=ChromeService(ChromeDriverManager().install()), options=options)\n",
    "driver.set_window_size(1920, 1080) # 웹브라우저 해상도 조절\n",
    "driver.get(\"https://www.kebhana.com/cms/rate/index.do?contentUrl=/cms/rate/wpfxd651_01i.do#//HanaBank\")\n",
    "\n",
    "wait = WebDriverWait(driver, 10) # 웹요소가 나타날 때까지 최대 10초 대기\n",
    "\n",
    "# 날짜 변경\n",
    "# 얘는 id이므로 유일함 무조건 저거 하나만 쳐도 나옴\n",
    "# #tmpInqStrDt이 요소가 나오면 바로 실행됨 -> 안나오면 10초동안 대기\n",
    "search_box = wait.until(EC.presence_of_element_located((By.CSS_SELECTOR, \"#tmpInqStrDt\")))\n",
    "search_box.clear()\n",
    "search_box.send_keys(today+Keys.ENTER)\n",
    "\n",
    "# 조회하기 버튼\n",
    "search_button = wait.until(EC.presence_of_element_located((By.CSS_SELECTOR, \"#HANA_CONTENTS_DIV > div.btnBoxCenter > a\")))\n",
    "search_button.click()\n",
    "\n",
    "# 환율정보 테이블이 뜰 때까지 기다림\n",
    "#searchContentDiv > div.printdiv > table\n",
    "exchange_rate_table = wait.until(EC.presence_of_element_located((By.CSS_SELECTOR, \"#searchContentDiv > div.printdiv > table\")))\n",
    "\n",
    "# html 소스를 읽어서 데이터프레임으로 만들고 DB저장\n",
    "page_html = driver.page_source\n",
    "df = pd.read_html(page_html)[1]\n",
    "df['date'] = today\n",
    "cols = ('통화', '현찰_사실때_환율', '현찰_살때_Spread', '현찰_팔때_환율', '현찰_팔때_Spread', '송금_보낼때', '송금_받을때', 'T/C_살때', '외화_수표_팔때', '매매기준율', '환가_료율', '미화환산율', 'date')\n",
    "df.columns = cols\n",
    "sorted_cols = ('date','통화', '현찰_사실때_환율', '현찰_살때_Spread', '현찰_팔때_환율', '현찰_팔때_Spread', '송금_보낼때', '송금_받을때', 'T/C_살때', '외화_수표_팔때', '매매기준율', '환가_료율', '미화환산율')\n",
    "df = df[[*sorted_cols]]\n",
    "\n",
    "\n",
    "\n",
    "# db에 저장\n",
    "dbio.exi_to_db(\"exchange_rate\", today, df)\n"
   ]
  },
  {
   "cell_type": "code",
   "execution_count": 11,
   "id": "0d447eba-4af4-40bb-a40f-17d0fb851258",
   "metadata": {},
   "outputs": [],
   "source": [
    "df['date'] = date"
   ]
  },
  {
   "cell_type": "code",
   "execution_count": null,
   "id": "81ad5964-4122-4f95-b889-ea15b7d7fab8",
   "metadata": {},
   "outputs": [],
   "source": [
    "df"
   ]
  },
  {
   "cell_type": "code",
   "execution_count": 17,
   "id": "42d9e011-dd26-48e9-a1f6-3a81632fb08c",
   "metadata": {},
   "outputs": [
    {
     "data": {
      "text/plain": [
       "MultiIndex([(       '통화',        '통화',        '통화'),\n",
       "            (       '현찰',      '사실 때',        '환율'),\n",
       "            (       '현찰',      '사실 때',    'Spread'),\n",
       "            (       '현찰',      '파실 때',        '환율'),\n",
       "            (       '현찰',      '파실 때',    'Spread'),\n",
       "            (       '송금',      '보낼 때',      '보낼 때'),\n",
       "            (       '송금',      '받을 때',      '받을 때'),\n",
       "            (  'T/C 사실때',   'T/C 사실때',   'T/C 사실때'),\n",
       "            ('외화 수표 파실때', '외화 수표 파실때', '외화 수표 파실때'),\n",
       "            (   '매매 기준율',    '매매 기준율',    '매매 기준율'),\n",
       "            (    '환가 료율',     '환가 료율',     '환가 료율'),\n",
       "            (   '미화 환산율',    '미화 환산율',    '미화 환산율'),\n",
       "            (     'date',          '',          '')],\n",
       "           )"
      ]
     },
     "execution_count": 17,
     "metadata": {},
     "output_type": "execute_result"
    }
   ],
   "source": [
    "# 컬럼만 뽑을 때\n",
    "df.columns"
   ]
  },
  {
   "cell_type": "code",
   "execution_count": 24,
   "id": "57268454-c5c5-4cd7-a2b6-ce7c0ee97bd7",
   "metadata": {
    "jupyter": {
     "source_hidden": true
    }
   },
   "outputs": [],
   "source": [
    "cols = ('통화', '현찰_사실때_환율', '현찰_살때_Spread', '현찰_팔때_환율', '현찰_팔때_Spread', '송금_보낼때', '송금_받을때', 'T/C_살때', '외화_수표_팔때', '매매기준율', '환가_료율', '미화환산율', 'date')\n",
    "# sorted_cols = ('date','통화', '현찰_사실때_환율', '현찰_살때_Spread', '현찰_팔때_환율', '현찰_팔때_Spread', '송금_보낼때', '송금_받을때', 'T/C_살때', '외화_수표_팔때', '매매기준율', '환가_료율', '미화환산율')"
   ]
  },
  {
   "cell_type": "code",
   "execution_count": null,
   "id": "114c77eb-0648-485b-8c7d-10dfe98e4565",
   "metadata": {},
   "outputs": [],
   "source": []
  },
  {
   "cell_type": "markdown",
   "id": "aa4d3255-225b-443c-a7f4-f2c01a13b899",
   "metadata": {},
   "source": [
    "# 1995년 1월 3일 ~ 2024년 7월 31일까지 평일 환율 정보 수집"
   ]
  },
  {
   "cell_type": "code",
   "execution_count": 24,
   "id": "dc6c7470-8bb3-4635-8b14-63f31bbdf36f",
   "metadata": {},
   "outputs": [],
   "source": [
    "from selenium import webdriver\n",
    "from selenium.webdriver.chrome.service import Service as ChromeService\n",
    "from webdriver_manager.chrome import ChromeDriverManager\n",
    "from selenium.webdriver.common.keys import Keys\n",
    "from selenium.webdriver.common.by import By\n",
    "from bs4 import BeautifulSoup as bs\n",
    "from datetime import date\n",
    "from selenium.webdriver.support.ui import WebDriverWait\n",
    "from selenium.webdriver.support import expected_conditions as EC\n",
    "\n",
    "import time\n",
    "import pandas as pd\n",
    "import dbio\n",
    "import warnings\n",
    "warnings.simplefilter(action = 'ignore', category = FutureWarning)"
   ]
  },
  {
   "cell_type": "markdown",
   "id": "432cfd6e-e8cf-4a4f-a6ab-1d2ea33d48fc",
   "metadata": {},
   "source": [
    "## 날짜 리스트 생성하기"
   ]
  },
  {
   "cell_type": "code",
   "execution_count": 25,
   "id": "29b6ca90-a164-4af1-a553-0351a2ac8965",
   "metadata": {},
   "outputs": [
    {
     "name": "stdout",
     "output_type": "stream",
     "text": [
      "<class 'list'>\n",
      "7717\n"
     ]
    }
   ],
   "source": [
    "import pandas as pd\n",
    "\n",
    "# 시작 날짜와 끝 날짜 설정\n",
    "start_date = '1995-01-03'\n",
    "end_date = '2024-07-31'\n",
    "\n",
    "# 날짜 범위 생성\n",
    "date_range = pd.date_range(start=start_date, end=end_date, freq='B')\n",
    "\n",
    "# 리스트로 변환\n",
    "date_list = date_range.strftime('%Y-%m-%d').tolist()\n",
    "\n",
    "# print(date_list)\n",
    "print(type(date_list))\n",
    "print(len(date_list))"
   ]
  },
  {
   "cell_type": "code",
   "execution_count": 13,
   "id": "829fb203-e311-45cf-a891-24573277f668",
   "metadata": {},
   "outputs": [
    {
     "data": {
      "text/plain": [
       "'1995-01-03'"
      ]
     },
     "execution_count": 13,
     "metadata": {},
     "output_type": "execute_result"
    }
   ],
   "source": [
    "str(date_list[0])"
   ]
  },
  {
   "cell_type": "code",
   "execution_count": 15,
   "id": "25e59b07-4d00-4b4a-a3bb-b1bbd84ab555",
   "metadata": {},
   "outputs": [
    {
     "name": "stdout",
     "output_type": "stream",
     "text": [
      "1995-01-03\n",
      "1995-01-04\n",
      "1995-01-05\n",
      "1995-01-06\n",
      "1995-01-09\n"
     ]
    }
   ],
   "source": [
    "for weekday in date_list[:5]:\n",
    "    print(str(weekday))"
   ]
  },
  {
   "cell_type": "code",
   "execution_count": null,
   "id": "9513ca2a-4ca5-4ef5-9716-d4780052a471",
   "metadata": {},
   "outputs": [
    {
     "name": "stdout",
     "output_type": "stream",
     "text": [
      "exchange_rate_1995_2024_1995-01-31, 저장완료                          \r"
     ]
    }
   ],
   "source": [
    "for weekday in date_list:\n",
    "    today = (str(weekday))\n",
    "        \n",
    "    \n",
    "    ## 위에 있는거 합쳐서 한번에\n",
    "    # 크롬 옵션즈에 정보를 담아 사람인 것 처럼 만들기\n",
    "    options = webdriver.ChromeOptions()\n",
    "    options.add_argument('--headless') # Headless 모드 (창이 안뜨게 하는거임 - 12시간 이렇게 창을 계속 띄워놓으면 작업하는데 불편하기 때문)\n",
    "    # options.add_experimental_option(\"excludeSwitches\", ['enable-logging'])\n",
    "    # options.add_argument(\"Mozilla/5.0 (Windows NT 10.0; Win64; x64) AppleWebKit/537.36 (KHTML, like Gecko) Chrome/126.0.0.0 Safari/537.36\")\n",
    "    # options.add_argument('lang=ko_KR')\n",
    "    options.add_argument('--no-sandbox')\n",
    "    options.add_argument('--disable-dev-shm-usage')\n",
    "    \n",
    "    # 크롬 웹브라우저 드라이버 자동 다운로드\n",
    "    driver = webdriver.Chrome(service=ChromeService(ChromeDriverManager().install()), options=options)\n",
    "    driver.set_window_size(1920, 1080) # 웹브라우저 해상도 조절\n",
    "    driver.get(\"https://www.kebhana.com/cms/rate/index.do?contentUrl=/cms/rate/wpfxd651_01i.do#//HanaBank\")\n",
    "    time.sleep(3)\n",
    "    wait = WebDriverWait(driver, 30) # 웹요소가 나타날 때까지 최대 10초 대기\n",
    "    \n",
    "    # 날짜 변경\n",
    "    # 얘는 id이므로 유일함 무조건 저거 하나만 쳐도 나옴\n",
    "    # #tmpInqStrDt이 요소가 나오면 바로 실행됨 -> 안나오면 10초동안 대기\n",
    "    search_box = wait.until(EC.presence_of_element_located((By.CSS_SELECTOR, \"#tmpInqStrDt\")))\n",
    "    search_box.clear()\n",
    "    search_box.send_keys(today+Keys.ENTER)\n",
    "    \n",
    "    # 조회하기 버튼\n",
    "    search_button = wait.until(EC.presence_of_element_located((By.CSS_SELECTOR, \"#HANA_CONTENTS_DIV > div.btnBoxCenter > a\")))\n",
    "    search_button.click()\n",
    "    time.sleep(5)\n",
    "    \n",
    "    # 환율정보 테이블이 뜰 때까지 기다림\n",
    "    #searchContentDiv > div.printdiv > table\n",
    "    exchange_rate_table = wait.until(EC.presence_of_element_located((By.CSS_SELECTOR, \"#searchContentDiv > div.printdiv > table\")))\n",
    "    \n",
    "    # html 소스를 읽어서 데이터프레임으로 만들고 DB저장\n",
    "    page_html = driver.page_source\n",
    "    df = pd.read_html(page_html)[1]\n",
    "    df['date'] = today\n",
    "    cols = ('통화', '현찰_사실때_환율', '현찰_살때_Spread', '현찰_팔때_환율', '현찰_팔때_Spread', '송금_보낼때', '송금_받을때', 'T/C_살때', '외화_수표_팔때', '매매기준율', '환가_료율', '미화환산율', 'date')\n",
    "    df.columns = cols\n",
    "    sorted_cols = ('date','통화', '현찰_사실때_환율', '현찰_살때_Spread', '현찰_팔때_환율', '현찰_팔때_Spread', '송금_보낼때', '송금_받을때', 'T/C_살때', '외화_수표_팔때', '매매기준율', '환가_료율', '미화환산율')\n",
    "    df = df[[*sorted_cols]]\n",
    "    \n",
    "    \n",
    "    \n",
    "    # db에 저장\n",
    "    dbio.exi_to_db(\"exchange_rate_1995_2024\", today, df)\n"
   ]
  },
  {
   "cell_type": "code",
   "execution_count": null,
   "id": "7187b1c0-cbb6-466c-8ba1-ef9643f27d35",
   "metadata": {},
   "outputs": [],
   "source": []
  },
  {
   "cell_type": "code",
   "execution_count": null,
   "id": "f08a4130-4d7d-48e0-9ca8-85011d5be051",
   "metadata": {},
   "outputs": [],
   "source": []
  },
  {
   "cell_type": "code",
   "execution_count": null,
   "id": "24d809f1-a2d3-4970-993a-4087fc3de604",
   "metadata": {},
   "outputs": [],
   "source": []
  },
  {
   "cell_type": "code",
   "execution_count": null,
   "id": "a0d9809e-36a8-44ae-86a0-17797844c83c",
   "metadata": {},
   "outputs": [],
   "source": []
  },
  {
   "cell_type": "code",
   "execution_count": null,
   "id": "6da2d07b-9420-4c0f-b460-2ee31be2aaaf",
   "metadata": {},
   "outputs": [],
   "source": []
  },
  {
   "cell_type": "code",
   "execution_count": null,
   "id": "3750538d-f7c6-41c6-85f2-181da8235532",
   "metadata": {},
   "outputs": [],
   "source": []
  },
  {
   "cell_type": "code",
   "execution_count": null,
   "id": "5a16146b-a8fb-4d3a-8a09-144d213670a1",
   "metadata": {},
   "outputs": [],
   "source": []
  },
  {
   "cell_type": "code",
   "execution_count": null,
   "id": "94288906-e165-4001-98b4-1d6c1698029f",
   "metadata": {},
   "outputs": [],
   "source": []
  },
  {
   "cell_type": "code",
   "execution_count": null,
   "id": "9d108164-3c76-472d-b349-3c0d301dde9a",
   "metadata": {},
   "outputs": [],
   "source": []
  },
  {
   "cell_type": "code",
   "execution_count": null,
   "id": "4aed17f1-5e58-4a0a-8b99-ac5a358ad7d5",
   "metadata": {},
   "outputs": [],
   "source": []
  },
  {
   "cell_type": "code",
   "execution_count": null,
   "id": "1e60cc6e-1e72-4c24-8e10-fb51872fdc3d",
   "metadata": {},
   "outputs": [],
   "source": []
  },
  {
   "cell_type": "code",
   "execution_count": null,
   "id": "09e15ccf-cfdf-4af4-a5ad-b49267fe4ec0",
   "metadata": {},
   "outputs": [],
   "source": []
  },
  {
   "cell_type": "code",
   "execution_count": null,
   "id": "6010a2d5-3c79-4513-94bd-a73474ada860",
   "metadata": {},
   "outputs": [],
   "source": []
  },
  {
   "cell_type": "code",
   "execution_count": null,
   "id": "58e66748-7a4a-447a-8307-59cb73fa8e99",
   "metadata": {},
   "outputs": [],
   "source": []
  },
  {
   "cell_type": "code",
   "execution_count": null,
   "id": "bc5b114e-83ba-4574-ba8d-896ec94dc039",
   "metadata": {},
   "outputs": [],
   "source": []
  },
  {
   "cell_type": "code",
   "execution_count": null,
   "id": "86863ec0-23a7-4c5a-a8d7-ffb74ebc98eb",
   "metadata": {},
   "outputs": [],
   "source": []
  },
  {
   "cell_type": "code",
   "execution_count": null,
   "id": "ef5b710c-d13f-4066-8a5d-f65bcf8ab8b7",
   "metadata": {},
   "outputs": [],
   "source": []
  },
  {
   "cell_type": "code",
   "execution_count": null,
   "id": "94a6c5eb-4038-46f6-9731-2a17d86d03d4",
   "metadata": {},
   "outputs": [],
   "source": []
  },
  {
   "cell_type": "code",
   "execution_count": null,
   "id": "be75b342-9e82-4492-a79b-eb0d41222645",
   "metadata": {},
   "outputs": [],
   "source": []
  },
  {
   "cell_type": "code",
   "execution_count": null,
   "id": "a94bc0c4-a405-4f6e-95db-e4b0aa14c9c9",
   "metadata": {},
   "outputs": [],
   "source": []
  },
  {
   "cell_type": "code",
   "execution_count": null,
   "id": "1ad1dfca-b4bc-4375-8c12-c4a67c4cac35",
   "metadata": {},
   "outputs": [],
   "source": []
  }
 ],
 "metadata": {
  "kernelspec": {
   "display_name": "Python 3 (ipykernel)",
   "language": "python",
   "name": "python3"
  },
  "language_info": {
   "codemirror_mode": {
    "name": "ipython",
    "version": 3
   },
   "file_extension": ".py",
   "mimetype": "text/x-python",
   "name": "python",
   "nbconvert_exporter": "python",
   "pygments_lexer": "ipython3",
   "version": "3.10.14"
  }
 },
 "nbformat": 4,
 "nbformat_minor": 5
}
