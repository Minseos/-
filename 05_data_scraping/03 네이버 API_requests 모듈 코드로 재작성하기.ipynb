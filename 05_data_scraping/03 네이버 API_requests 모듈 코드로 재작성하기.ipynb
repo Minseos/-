{
 "cells": [
  {
   "cell_type": "markdown",
   "id": "8d2c3a5e-c2f8-46f4-a40f-a8fe6b8d72d8",
   "metadata": {},
   "source": [
    "# 1. requests 모듈 : HTTP프로토콜을 사용할 수 있게 해주는 라이브러리\n",
    "## requests 모듈 사용 설명서:\n",
    "https://requests.readthedocs.io/en/latest/user/quickstart/#make-a-request"
   ]
  },
  {
   "cell_type": "markdown",
   "id": "314b29a0-a6b8-4b4a-9881-13de76c35f13",
   "metadata": {},
   "source": [
    "# 2. requests 모듈 설치\n",
    "## conda install requests \n",
    "## pip install requests"
   ]
  },
  {
   "cell_type": "markdown",
   "id": "489b55d4-04f6-494f-8216-739f374a5256",
   "metadata": {},
   "source": [
    "# 3. requests 모듈 사용법"
   ]
  },
  {
   "cell_type": "markdown",
   "id": "51aa5b39-e80f-4164-87b5-e8f2092f0c21",
   "metadata": {},
   "source": [
    "## 1) 모듈 불러오기 : import requests"
   ]
  },
  {
   "cell_type": "code",
   "execution_count": 6,
   "id": "dae7db30-e831-419e-bb51-229b7ade8c9f",
   "metadata": {},
   "outputs": [],
   "source": [
    "import requests"
   ]
  },
  {
   "cell_type": "markdown",
   "id": "0499971e-b38b-4624-8e84-38d316c70cc0",
   "metadata": {},
   "source": [
    "## 2) HTTP 접근 요청 get, post\n",
    "### r = requests.get(URL, parameters)\n",
    "### r = requests.post(URL, data={key:value}"
   ]
  },
  {
   "cell_type": "markdown",
   "id": "fcc5d701-cf2b-439a-bfbb-cbde04ac4716",
   "metadata": {},
   "source": [
    "## 3) URL 파라미터\n",
    "### params = {파라미터1 : value, 파라미터2 : value, 파라미터3 : value}\n",
    "### payload = {'key1' : 'value1', 'key2' : 'value2'}\n",
    "### r = requests.get(URL, params = payload)"
   ]
  },
  {
   "cell_type": "markdown",
   "id": "ae06d96f-5957-47f1-911d-2620f7a837d8",
   "metadata": {},
   "source": [
    "## 4) 만들어진 URL 확인 : print(r.url)"
   ]
  },
  {
   "cell_type": "markdown",
   "id": "27d091d2-45e3-4d9a-a9ca-1fb1628712a0",
   "metadata": {},
   "source": [
    "## 5) header 값 넣기 : \n",
    "### r = requests.head(user-agent값)\n",
    "### headers = {'key1' :'value1', 'key2' :'value2'}\n",
    "### r = requests.get(URL, params = payload, headers = headers)"
   ]
  },
  {
   "cell_type": "markdown",
   "id": "53d2fce3-f1b0-414a-afaf-4550a5ff906b",
   "metadata": {},
   "source": [
    "## 6) 응답요소 reponse content: r.text, r.json()\n",
    "### response = r.text\n",
    "### response = r.json()"
   ]
  },
  {
   "cell_type": "markdown",
   "id": "eda4fb4f-893e-49c1-9237-9546cf5be569",
   "metadata": {},
   "source": [
    "## 7) 응답코드 r.status_code"
   ]
  },
  {
   "cell_type": "markdown",
   "id": "64fc0093-bf6a-4a61-aa73-4548b87b302f",
   "metadata": {},
   "source": [
    "## 네이버 검색 API코드를 urllib에서 requests로 변경하기"
   ]
  },
  {
   "cell_type": "code",
   "execution_count": 7,
   "id": "31ec2a9e-aa66-4a3b-a498-4134a0694091",
   "metadata": {},
   "outputs": [
    {
     "ename": "HTTPError",
     "evalue": "HTTP Error 401: Unauthorized",
     "output_type": "error",
     "traceback": [
      "\u001b[1;31m---------------------------------------------------------------------------\u001b[0m",
      "\u001b[1;31mHTTPError\u001b[0m                                 Traceback (most recent call last)",
      "Cell \u001b[1;32mIn[7], line 13\u001b[0m\n\u001b[0;32m     11\u001b[0m request\u001b[38;5;241m.\u001b[39madd_header(\u001b[38;5;124m\"\u001b[39m\u001b[38;5;124mX-Naver-Client-Id\u001b[39m\u001b[38;5;124m\"\u001b[39m,client_id)\n\u001b[0;32m     12\u001b[0m request\u001b[38;5;241m.\u001b[39madd_header(\u001b[38;5;124m\"\u001b[39m\u001b[38;5;124mX-Naver-Client-Secret\u001b[39m\u001b[38;5;124m\"\u001b[39m,client_secret)\n\u001b[1;32m---> 13\u001b[0m response \u001b[38;5;241m=\u001b[39m \u001b[43murllib\u001b[49m\u001b[38;5;241;43m.\u001b[39;49m\u001b[43mrequest\u001b[49m\u001b[38;5;241;43m.\u001b[39;49m\u001b[43murlopen\u001b[49m\u001b[43m(\u001b[49m\u001b[43mrequest\u001b[49m\u001b[43m)\u001b[49m\n\u001b[0;32m     14\u001b[0m rescode \u001b[38;5;241m=\u001b[39m response\u001b[38;5;241m.\u001b[39mgetcode()\n\u001b[0;32m     15\u001b[0m \u001b[38;5;28;01mif\u001b[39;00m(rescode\u001b[38;5;241m==\u001b[39m\u001b[38;5;241m200\u001b[39m):\n",
      "File \u001b[1;32m~\\miniforge3\\envs\\fintech\\lib\\urllib\\request.py:216\u001b[0m, in \u001b[0;36murlopen\u001b[1;34m(url, data, timeout, cafile, capath, cadefault, context)\u001b[0m\n\u001b[0;32m    214\u001b[0m \u001b[38;5;28;01melse\u001b[39;00m:\n\u001b[0;32m    215\u001b[0m     opener \u001b[38;5;241m=\u001b[39m _opener\n\u001b[1;32m--> 216\u001b[0m \u001b[38;5;28;01mreturn\u001b[39;00m \u001b[43mopener\u001b[49m\u001b[38;5;241;43m.\u001b[39;49m\u001b[43mopen\u001b[49m\u001b[43m(\u001b[49m\u001b[43murl\u001b[49m\u001b[43m,\u001b[49m\u001b[43m \u001b[49m\u001b[43mdata\u001b[49m\u001b[43m,\u001b[49m\u001b[43m \u001b[49m\u001b[43mtimeout\u001b[49m\u001b[43m)\u001b[49m\n",
      "File \u001b[1;32m~\\miniforge3\\envs\\fintech\\lib\\urllib\\request.py:525\u001b[0m, in \u001b[0;36mOpenerDirector.open\u001b[1;34m(self, fullurl, data, timeout)\u001b[0m\n\u001b[0;32m    523\u001b[0m \u001b[38;5;28;01mfor\u001b[39;00m processor \u001b[38;5;129;01min\u001b[39;00m \u001b[38;5;28mself\u001b[39m\u001b[38;5;241m.\u001b[39mprocess_response\u001b[38;5;241m.\u001b[39mget(protocol, []):\n\u001b[0;32m    524\u001b[0m     meth \u001b[38;5;241m=\u001b[39m \u001b[38;5;28mgetattr\u001b[39m(processor, meth_name)\n\u001b[1;32m--> 525\u001b[0m     response \u001b[38;5;241m=\u001b[39m \u001b[43mmeth\u001b[49m\u001b[43m(\u001b[49m\u001b[43mreq\u001b[49m\u001b[43m,\u001b[49m\u001b[43m \u001b[49m\u001b[43mresponse\u001b[49m\u001b[43m)\u001b[49m\n\u001b[0;32m    527\u001b[0m \u001b[38;5;28;01mreturn\u001b[39;00m response\n",
      "File \u001b[1;32m~\\miniforge3\\envs\\fintech\\lib\\urllib\\request.py:634\u001b[0m, in \u001b[0;36mHTTPErrorProcessor.http_response\u001b[1;34m(self, request, response)\u001b[0m\n\u001b[0;32m    631\u001b[0m \u001b[38;5;66;03m# According to RFC 2616, \"2xx\" code indicates that the client's\u001b[39;00m\n\u001b[0;32m    632\u001b[0m \u001b[38;5;66;03m# request was successfully received, understood, and accepted.\u001b[39;00m\n\u001b[0;32m    633\u001b[0m \u001b[38;5;28;01mif\u001b[39;00m \u001b[38;5;129;01mnot\u001b[39;00m (\u001b[38;5;241m200\u001b[39m \u001b[38;5;241m<\u001b[39m\u001b[38;5;241m=\u001b[39m code \u001b[38;5;241m<\u001b[39m \u001b[38;5;241m300\u001b[39m):\n\u001b[1;32m--> 634\u001b[0m     response \u001b[38;5;241m=\u001b[39m \u001b[38;5;28;43mself\u001b[39;49m\u001b[38;5;241;43m.\u001b[39;49m\u001b[43mparent\u001b[49m\u001b[38;5;241;43m.\u001b[39;49m\u001b[43merror\u001b[49m\u001b[43m(\u001b[49m\n\u001b[0;32m    635\u001b[0m \u001b[43m        \u001b[49m\u001b[38;5;124;43m'\u001b[39;49m\u001b[38;5;124;43mhttp\u001b[39;49m\u001b[38;5;124;43m'\u001b[39;49m\u001b[43m,\u001b[49m\u001b[43m \u001b[49m\u001b[43mrequest\u001b[49m\u001b[43m,\u001b[49m\u001b[43m \u001b[49m\u001b[43mresponse\u001b[49m\u001b[43m,\u001b[49m\u001b[43m \u001b[49m\u001b[43mcode\u001b[49m\u001b[43m,\u001b[49m\u001b[43m \u001b[49m\u001b[43mmsg\u001b[49m\u001b[43m,\u001b[49m\u001b[43m \u001b[49m\u001b[43mhdrs\u001b[49m\u001b[43m)\u001b[49m\n\u001b[0;32m    637\u001b[0m \u001b[38;5;28;01mreturn\u001b[39;00m response\n",
      "File \u001b[1;32m~\\miniforge3\\envs\\fintech\\lib\\urllib\\request.py:563\u001b[0m, in \u001b[0;36mOpenerDirector.error\u001b[1;34m(self, proto, *args)\u001b[0m\n\u001b[0;32m    561\u001b[0m \u001b[38;5;28;01mif\u001b[39;00m http_err:\n\u001b[0;32m    562\u001b[0m     args \u001b[38;5;241m=\u001b[39m (\u001b[38;5;28mdict\u001b[39m, \u001b[38;5;124m'\u001b[39m\u001b[38;5;124mdefault\u001b[39m\u001b[38;5;124m'\u001b[39m, \u001b[38;5;124m'\u001b[39m\u001b[38;5;124mhttp_error_default\u001b[39m\u001b[38;5;124m'\u001b[39m) \u001b[38;5;241m+\u001b[39m orig_args\n\u001b[1;32m--> 563\u001b[0m     \u001b[38;5;28;01mreturn\u001b[39;00m \u001b[38;5;28;43mself\u001b[39;49m\u001b[38;5;241;43m.\u001b[39;49m\u001b[43m_call_chain\u001b[49m\u001b[43m(\u001b[49m\u001b[38;5;241;43m*\u001b[39;49m\u001b[43margs\u001b[49m\u001b[43m)\u001b[49m\n",
      "File \u001b[1;32m~\\miniforge3\\envs\\fintech\\lib\\urllib\\request.py:496\u001b[0m, in \u001b[0;36mOpenerDirector._call_chain\u001b[1;34m(self, chain, kind, meth_name, *args)\u001b[0m\n\u001b[0;32m    494\u001b[0m \u001b[38;5;28;01mfor\u001b[39;00m handler \u001b[38;5;129;01min\u001b[39;00m handlers:\n\u001b[0;32m    495\u001b[0m     func \u001b[38;5;241m=\u001b[39m \u001b[38;5;28mgetattr\u001b[39m(handler, meth_name)\n\u001b[1;32m--> 496\u001b[0m     result \u001b[38;5;241m=\u001b[39m \u001b[43mfunc\u001b[49m\u001b[43m(\u001b[49m\u001b[38;5;241;43m*\u001b[39;49m\u001b[43margs\u001b[49m\u001b[43m)\u001b[49m\n\u001b[0;32m    497\u001b[0m     \u001b[38;5;28;01mif\u001b[39;00m result \u001b[38;5;129;01mis\u001b[39;00m \u001b[38;5;129;01mnot\u001b[39;00m \u001b[38;5;28;01mNone\u001b[39;00m:\n\u001b[0;32m    498\u001b[0m         \u001b[38;5;28;01mreturn\u001b[39;00m result\n",
      "File \u001b[1;32m~\\miniforge3\\envs\\fintech\\lib\\urllib\\request.py:643\u001b[0m, in \u001b[0;36mHTTPDefaultErrorHandler.http_error_default\u001b[1;34m(self, req, fp, code, msg, hdrs)\u001b[0m\n\u001b[0;32m    642\u001b[0m \u001b[38;5;28;01mdef\u001b[39;00m \u001b[38;5;21mhttp_error_default\u001b[39m(\u001b[38;5;28mself\u001b[39m, req, fp, code, msg, hdrs):\n\u001b[1;32m--> 643\u001b[0m     \u001b[38;5;28;01mraise\u001b[39;00m HTTPError(req\u001b[38;5;241m.\u001b[39mfull_url, code, msg, hdrs, fp)\n",
      "\u001b[1;31mHTTPError\u001b[0m: HTTP Error 401: Unauthorized"
     ]
    }
   ],
   "source": [
    "# 네이버 검색 API 예제 - 블로그 검색\n",
    "import os\n",
    "import sys\n",
    "import urllib.request\n",
    "client_id = \"YOUR_CLIENT_ID\"\n",
    "client_secret = \"YOUR_CLIENT_SECRET\"\n",
    "encText = urllib.parse.quote(\"검색할 단어\")\n",
    "url = \"https://openapi.naver.com/v1/search/blog?query=\" + encText # JSON 결과\n",
    "# url = \"https://openapi.naver.com/v1/search/blog.xml?query=\" + encText # XML 결과\n",
    "request = urllib.request.Request(url)\n",
    "request.add_header(\"X-Naver-Client-Id\",client_id)\n",
    "request.add_header(\"X-Naver-Client-Secret\",client_secret)\n",
    "response = urllib.request.urlopen(request)\n",
    "rescode = response.getcode()\n",
    "if(rescode==200):\n",
    "    response_body = response.read()\n",
    "    print(response_body.decode('utf-8'))\n",
    "else:\n",
    "    print(\"Error Code:\" + rescode)"
   ]
  },
  {
   "cell_type": "code",
   "execution_count": 9,
   "id": "b81ddb5a-e43b-4b16-bf57-ac8e6a5a0311",
   "metadata": {},
   "outputs": [],
   "source": [
    "import requests\n",
    "import time\n",
    "import pandas as pd\n",
    "from dotenv import load_dotenv"
   ]
  },
  {
   "cell_type": "code",
   "execution_count": 10,
   "id": "d0768587-4c10-4db0-bb01-f936b348302d",
   "metadata": {},
   "outputs": [
    {
     "ename": "NameError",
     "evalue": "name 'data' is not defined",
     "output_type": "error",
     "traceback": [
      "\u001b[1;31m---------------------------------------------------------------------------\u001b[0m",
      "\u001b[1;31mNameError\u001b[0m                                 Traceback (most recent call last)",
      "Cell \u001b[1;32mIn[10], line 1\u001b[0m\n\u001b[1;32m----> 1\u001b[0m df \u001b[38;5;241m=\u001b[39m pd\u001b[38;5;241m.\u001b[39mjson_normalize(\u001b[43mdata\u001b[49m[\u001b[38;5;124m'\u001b[39m\u001b[38;5;124mitems\u001b[39m\u001b[38;5;124m'\u001b[39m])\n\u001b[0;32m      2\u001b[0m df\n",
      "\u001b[1;31mNameError\u001b[0m: name 'data' is not defined"
     ]
    }
   ],
   "source": [
    "df = pd.json_normalize(data['items'])\n",
    "df"
   ]
  },
  {
   "cell_type": "code",
   "execution_count": 11,
   "id": "406ca538-923d-4737-8047-2d1ac55e3ca1",
   "metadata": {},
   "outputs": [
    {
     "name": "stdout",
     "output_type": "stream",
     "text": [
      "https://openapi.naver.com/v1/search/blog?query=%ED%95%80%ED%85%8C%ED%81%AC&display=10&start=1&sort=sim\n",
      "<class 'dict'>\n"
     ]
    }
   ],
   "source": [
    "load_dotenv()\n",
    "client_id = os.getenv(\"client_id\") # 네이버 api에 접속 가능한 id \n",
    "client_secret = os.getenv(\"client_secret\")       # 네이버 api에 접속 가능한 pw \n",
    "\n",
    "url = \"https://openapi.naver.com/v1/search/blog\"\n",
    "payload = {'query' : '핀테크', 'display': 10, 'start' : 1, 'sort' : 'sim'}\n",
    "headers = {'X-Naver-Client-Id' : client_id, 'X-Naver-Client-Secret' : client_secret}\n",
    "r = requests.get(url, params = payload, headers = headers)\n",
    "print(r.url)\n",
    "if(r.status_code == 200):\n",
    "    data = r.json()\n",
    "    print(type(data))\n",
    "else:\n",
    "    print(\"Error Code:\" + rescode)\n",
    "\n",
    "#print(r.status_code)\n",
    "#print(r.text)"
   ]
  },
  {
   "cell_type": "code",
   "execution_count": 12,
   "id": "c1b8a5a7-5a69-4bc0-82bf-eb5241c6ff1e",
   "metadata": {},
   "outputs": [],
   "source": [
    "import requests\n",
    "import time\n",
    "import pandas as pd\n",
    "from dotenv import load_dotenv"
   ]
  },
  {
   "cell_type": "code",
   "execution_count": 13,
   "id": "eadbb914-ae27-493f-b2d7-f6db53fb5ea5",
   "metadata": {},
   "outputs": [],
   "source": [
    "# 강사님\n",
    "def naver_search():\n",
    "    \n",
    "    service = input('''검색 서비스 번호를 입력하세요:\n",
    "    1 블로그\n",
    "    2 책\n",
    "    3 뉴스\n",
    "    4 전문자료\n",
    "    ''')\n",
    "    query = input(\"검색어를 입력하세요: \")\n",
    "    \n",
    "    if service == '1':\n",
    "        service = 'blog'\n",
    "    elif service =='2':\n",
    "        service = 'book'\n",
    "    elif service =='3':\n",
    "        service = 'news'\n",
    "    elif service =='4':\n",
    "        service = 'doc'\n",
    "    \n",
    "    \n",
    "    book_lists = []\n",
    "    page = 1\n",
    "    start = 1\n",
    "    \n",
    "    while True:\n",
    "        load_dotenv()\n",
    "        client_id = os.getenv(\"client_id\") # 네이버 api에 접속 가능한 id \n",
    "        client_secret = os.getenv(\"client_secret\")       # 네이버 api에 접속 가능한 pw \n",
    "        url = f\"https://openapi.naver.com/v1/search/{service}.json\"\n",
    "        payload = {'query' : query, 'display': 10, 'start' : start, 'sort' : 'sim'}\n",
    "        headers = {'X-Naver-Client-Id' : client_id, 'X-Naver-Client-Secret' : client_secret}\n",
    "        r=requests.get(url, params = payload, headers = headers)\n",
    "        #r = requests.post(url, data={key:value}\n",
    "\n",
    "        try:\n",
    "            if(rescode==200):\n",
    "                data = r.json()\n",
    "                book_lists.append(data)\n",
    "                total_page = data['total'] // 10 + 1\n",
    "\n",
    "            else:\n",
    "                print(\"Error Code:\" + rescode)\n",
    "                break\n",
    "\n",
    "            if page < total_page:\n",
    "                page += 1\n",
    "                if start != 991:\n",
    "                    start += 10\n",
    "                elif start == 991:\n",
    "                    start += 9\n",
    "                print(f\"{page:03d}/{total_page:03d}, start: {start} 추출중\", end=\"\\r\")\n",
    "            else:\n",
    "                break\n",
    "            time.sleep(0.5)\n",
    "        except Exception as e:\n",
    "            print(e)\n",
    "            break\n",
    "\n",
    "\n",
    "    print(len(book_lists))\n",
    "    result = pd.DataFrame()\n",
    "    for book_list in book_lists:\n",
    "        temp = pd.json_normalize(book_list['items'])\n",
    "        result = pd.concat([result, temp])\n",
    "   # result\n",
    "    result.to_csv(f\"naver_{service}_api_fintech_{query}_result.csv\", encoding=\"utf-8\")"
   ]
  },
  {
   "cell_type": "code",
   "execution_count": 14,
   "id": "7f0f90d3-f6f1-4fb0-bec6-0ec43bf3aca2",
   "metadata": {},
   "outputs": [
    {
     "name": "stdin",
     "output_type": "stream",
     "text": [
      "검색 서비스 번호를 입력하세요:\n",
      "    1 블로그\n",
      "    2 책\n",
      "    3 뉴스\n",
      "    4 전문자료\n",
      "     3\n",
      "검색어를 입력하세요:  뉴스\n"
     ]
    },
    {
     "name": "stdout",
     "output_type": "stream",
     "text": [
      "name 'rescode' is not defined\n",
      "0\n"
     ]
    }
   ],
   "source": [
    "naver_search()"
   ]
  },
  {
   "cell_type": "code",
   "execution_count": null,
   "id": "2105dc9d-4fb1-4eaf-b206-d8a1eaf8e434",
   "metadata": {},
   "outputs": [],
   "source": []
  },
  {
   "cell_type": "code",
   "execution_count": null,
   "id": "c397ca40-f81a-470c-958c-2cfdea634df8",
   "metadata": {},
   "outputs": [],
   "source": []
  },
  {
   "cell_type": "code",
   "execution_count": null,
   "id": "9dcb96b4-398f-4f6c-aaf5-32031f2cdceb",
   "metadata": {},
   "outputs": [],
   "source": []
  },
  {
   "cell_type": "code",
   "execution_count": null,
   "id": "3487790e-3938-42a2-a409-ac010d4b6682",
   "metadata": {},
   "outputs": [],
   "source": []
  },
  {
   "cell_type": "code",
   "execution_count": null,
   "id": "b2743b49-5c01-4523-a990-7c7b76cb2755",
   "metadata": {},
   "outputs": [],
   "source": []
  },
  {
   "cell_type": "code",
   "execution_count": null,
   "id": "0905ae00-69cc-4e26-9386-8c3f2e9b2e4d",
   "metadata": {},
   "outputs": [],
   "source": []
  },
  {
   "cell_type": "code",
   "execution_count": null,
   "id": "d41273d4-7cd4-4fb0-a8a2-ad0e4145a95f",
   "metadata": {},
   "outputs": [],
   "source": []
  },
  {
   "cell_type": "code",
   "execution_count": null,
   "id": "e52a8070-bb58-4691-9373-078293815a90",
   "metadata": {},
   "outputs": [],
   "source": []
  },
  {
   "cell_type": "code",
   "execution_count": null,
   "id": "b6a20acc-5723-4b31-99bb-c6b54cd71021",
   "metadata": {},
   "outputs": [],
   "source": []
  },
  {
   "cell_type": "code",
   "execution_count": null,
   "id": "7a132a83-eb7a-43a1-9898-20bd2b6a1d77",
   "metadata": {},
   "outputs": [],
   "source": []
  },
  {
   "cell_type": "code",
   "execution_count": null,
   "id": "094afef3-895f-4294-8d34-c45f19c8f641",
   "metadata": {},
   "outputs": [],
   "source": []
  },
  {
   "cell_type": "code",
   "execution_count": null,
   "id": "b84ecf55-8351-4618-bee0-b108ba40f5a6",
   "metadata": {},
   "outputs": [],
   "source": []
  },
  {
   "cell_type": "code",
   "execution_count": null,
   "id": "56e44c0f-4733-44f5-8bc7-2c26d0972de6",
   "metadata": {},
   "outputs": [],
   "source": []
  },
  {
   "cell_type": "code",
   "execution_count": null,
   "id": "4f4a3844-12ea-4ac5-a849-a09590e65e47",
   "metadata": {},
   "outputs": [],
   "source": []
  },
  {
   "cell_type": "code",
   "execution_count": null,
   "id": "bc4aac91-0f72-4c6a-88d2-116d00f39808",
   "metadata": {},
   "outputs": [],
   "source": []
  },
  {
   "cell_type": "code",
   "execution_count": null,
   "id": "d44f1e23-c037-4e70-8923-9e021fbafbe9",
   "metadata": {},
   "outputs": [],
   "source": []
  },
  {
   "cell_type": "code",
   "execution_count": null,
   "id": "fc00a903-b7fd-4258-86a8-0edf31429e63",
   "metadata": {},
   "outputs": [],
   "source": []
  },
  {
   "cell_type": "code",
   "execution_count": null,
   "id": "d8364ccd-c6d5-4b87-b7b8-0065cb1b2a7d",
   "metadata": {},
   "outputs": [],
   "source": []
  },
  {
   "cell_type": "code",
   "execution_count": null,
   "id": "0095fd82-edd9-4a43-864e-3b268f400891",
   "metadata": {},
   "outputs": [],
   "source": []
  },
  {
   "cell_type": "code",
   "execution_count": null,
   "id": "08ccb239-e96a-4e04-9092-5b9806bae2fb",
   "metadata": {},
   "outputs": [],
   "source": []
  },
  {
   "cell_type": "code",
   "execution_count": null,
   "id": "f7d29e67-5c60-4fd0-a04f-8a2cc688c673",
   "metadata": {},
   "outputs": [],
   "source": []
  },
  {
   "cell_type": "code",
   "execution_count": null,
   "id": "d93976d0-80b5-4732-b1df-dfb6b781b9e4",
   "metadata": {},
   "outputs": [],
   "source": []
  },
  {
   "cell_type": "code",
   "execution_count": null,
   "id": "df4cf1ac-a652-4f74-8f5d-3ad21b833e06",
   "metadata": {},
   "outputs": [],
   "source": []
  },
  {
   "cell_type": "code",
   "execution_count": null,
   "id": "e0ab7307-7e2f-4b66-9d4a-d1f5dd9fce45",
   "metadata": {},
   "outputs": [],
   "source": []
  },
  {
   "cell_type": "code",
   "execution_count": null,
   "id": "e63e5311-ff8e-476c-94b2-ce53c9e78ce6",
   "metadata": {},
   "outputs": [],
   "source": []
  },
  {
   "cell_type": "code",
   "execution_count": null,
   "id": "3f93c659-085c-43c2-ab5c-5bf7445e53c3",
   "metadata": {},
   "outputs": [],
   "source": []
  }
 ],
 "metadata": {
  "kernelspec": {
   "display_name": "Python 3 (ipykernel)",
   "language": "python",
   "name": "python3"
  },
  "language_info": {
   "codemirror_mode": {
    "name": "ipython",
    "version": 3
   },
   "file_extension": ".py",
   "mimetype": "text/x-python",
   "name": "python",
   "nbconvert_exporter": "python",
   "pygments_lexer": "ipython3",
   "version": "3.10.14"
  }
 },
 "nbformat": 4,
 "nbformat_minor": 5
}
