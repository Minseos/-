{
 "cells": [
  {
   "cell_type": "code",
   "execution_count": 1,
   "id": "3249ed04-422e-4453-af65-67e06e76efc9",
   "metadata": {},
   "outputs": [
    {
     "name": "stdin",
     "output_type": "stream",
     "text": [
      "검색 서비스 번호를 입력하세요:\n",
      "    1 블로그\n",
      "    2 책\n",
      "    3 뉴스\n",
      "    4 전문자료\n",
      "     \n",
      "검색어를 입력하세요:  \n"
     ]
    },
    {
     "name": "stdout",
     "output_type": "stream",
     "text": [
      "HTTP Error 404: Not Found\n",
      "0\n"
     ]
    }
   ],
   "source": [
    "import naversearch"
   ]
  },
  {
   "cell_type": "code",
   "execution_count": 2,
   "id": "ab0a998e-3bd1-4553-b127-fdaf3f6b9585",
   "metadata": {},
   "outputs": [],
   "source": [
    "import naversearch as ns"
   ]
  },
  {
   "cell_type": "code",
   "execution_count": 3,
   "id": "b5783656-d1a9-472b-9b14-c53e8a7413d7",
   "metadata": {},
   "outputs": [
    {
     "name": "stdin",
     "output_type": "stream",
     "text": [
      "검색 서비스 번호를 입력하세요:\n",
      "    1 블로그\n",
      "    2 책\n",
      "    3 뉴스\n",
      "    4 전문자료\n",
      "     1\n",
      "검색어를 입력하세요:  핀테크\n"
     ]
    },
    {
     "name": "stdout",
     "output_type": "stream",
     "text": [
      "HTTP Error 400: Bad Request\n",
      "101\n"
     ]
    }
   ],
   "source": [
    "ns.naver_search()"
   ]
  },
  {
   "cell_type": "code",
   "execution_count": null,
   "id": "691ed38b-ac8f-4f78-85dd-7cacd52dbd08",
   "metadata": {},
   "outputs": [],
   "source": []
  },
  {
   "cell_type": "code",
   "execution_count": 4,
   "id": "14bc0274-71eb-421d-ac6b-1d979b00b4d9",
   "metadata": {},
   "outputs": [],
   "source": [
    "from naversearch import naver_search"
   ]
  },
  {
   "cell_type": "code",
   "execution_count": 5,
   "id": "d34eef72-65dd-4f35-ba0d-88432413b5eb",
   "metadata": {},
   "outputs": [
    {
     "name": "stdin",
     "output_type": "stream",
     "text": [
      "검색 서비스 번호를 입력하세요:\n",
      "    1 블로그\n",
      "    2 책\n",
      "    3 뉴스\n",
      "    4 전문자료\n",
      "     \n",
      "검색어를 입력하세요:  \n"
     ]
    },
    {
     "name": "stdout",
     "output_type": "stream",
     "text": [
      "HTTP Error 404: Not Found\n",
      "0\n"
     ]
    }
   ],
   "source": [
    "naver_search()"
   ]
  },
  {
   "cell_type": "code",
   "execution_count": null,
   "id": "46bf4b97-d29a-4fcf-8aeb-2cb22fa0f83a",
   "metadata": {},
   "outputs": [],
   "source": []
  },
  {
   "cell_type": "code",
   "execution_count": null,
   "id": "3fe39a91-2830-40f6-a898-e3c2e0dde6b2",
   "metadata": {},
   "outputs": [],
   "source": []
  },
  {
   "cell_type": "code",
   "execution_count": null,
   "id": "cea12391-6eb9-4ac9-8a75-6d56c58fd288",
   "metadata": {},
   "outputs": [],
   "source": []
  },
  {
   "cell_type": "code",
   "execution_count": null,
   "id": "95784561-1317-4a5d-892e-d888bcf26885",
   "metadata": {},
   "outputs": [],
   "source": []
  },
  {
   "cell_type": "code",
   "execution_count": null,
   "id": "e369f425-ea21-46cc-a4e0-e19780bd3ff5",
   "metadata": {},
   "outputs": [],
   "source": []
  },
  {
   "cell_type": "code",
   "execution_count": null,
   "id": "e9fd8190-08ad-4c88-b28d-c0e8035ebf22",
   "metadata": {},
   "outputs": [],
   "source": []
  },
  {
   "cell_type": "code",
   "execution_count": null,
   "id": "3685e1ad-f003-4ef9-934b-a8c68a932a99",
   "metadata": {},
   "outputs": [],
   "source": []
  },
  {
   "cell_type": "code",
   "execution_count": null,
   "id": "22ac7484-2a5e-410a-a475-275a1241dd88",
   "metadata": {},
   "outputs": [],
   "source": []
  },
  {
   "cell_type": "code",
   "execution_count": null,
   "id": "97042042-cedd-4758-8599-43c520041678",
   "metadata": {},
   "outputs": [],
   "source": []
  }
 ],
 "metadata": {
  "kernelspec": {
   "display_name": "Python 3 (ipykernel)",
   "language": "python",
   "name": "python3"
  },
  "language_info": {
   "codemirror_mode": {
    "name": "ipython",
    "version": 3
   },
   "file_extension": ".py",
   "mimetype": "text/x-python",
   "name": "python",
   "nbconvert_exporter": "python",
   "pygments_lexer": "ipython3",
   "version": "3.10.14"
  }
 },
 "nbformat": 4,
 "nbformat_minor": 5
}
