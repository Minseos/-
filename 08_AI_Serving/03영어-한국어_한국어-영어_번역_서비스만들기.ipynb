{
 "cells": [
  {
   "cell_type": "markdown",
   "id": "f661bfcf",
   "metadata": {},
   "source": [
    "# 한영 번역 서비스 만들기 M2M100"
   ]
  },
  {
   "cell_type": "code",
   "execution_count": 2,
   "id": "51e7edeb",
   "metadata": {},
   "outputs": [
    {
     "name": "stdout",
     "output_type": "stream",
     "text": [
      "Collecting sentencepiece\n",
      "  Downloading sentencepiece-0.2.0-cp311-cp311-manylinux_2_17_x86_64.manylinux2014_x86_64.whl.metadata (7.7 kB)\n",
      "Downloading sentencepiece-0.2.0-cp311-cp311-manylinux_2_17_x86_64.manylinux2014_x86_64.whl (1.3 MB)\n",
      "\u001b[2K   \u001b[90m━━━━━━━━━━━━━━━━━━━━━━━━━━━━━━━━━━━━━━━━\u001b[0m \u001b[32m1.3/1.3 MB\u001b[0m \u001b[31m37.6 MB/s\u001b[0m eta \u001b[36m0:00:00\u001b[0m\n",
      "\u001b[?25hInstalling collected packages: sentencepiece\n",
      "Successfully installed sentencepiece-0.2.0\n"
     ]
    }
   ],
   "source": [
    "# !pip install sentencepiece"
   ]
  },
  {
   "cell_type": "code",
   "execution_count": 2,
   "id": "0019277c",
   "metadata": {
    "scrolled": true
   },
   "outputs": [],
   "source": [
    "# !pip install g2pk"
   ]
  },
  {
   "cell_type": "code",
   "execution_count": 4,
   "id": "5f9a6d06",
   "metadata": {
    "scrolled": true
   },
   "outputs": [],
   "source": [
    "# !pip install datasets"
   ]
  },
  {
   "cell_type": "code",
   "execution_count": 7,
   "id": "b584862e",
   "metadata": {
    "scrolled": true
   },
   "outputs": [
    {
     "name": "stdout",
     "output_type": "stream",
     "text": [
      "Collecting soundfile\n",
      "  Downloading soundfile-0.12.1-py2.py3-none-manylinux_2_31_x86_64.whl.metadata (14 kB)\n",
      "Requirement already satisfied: cffi>=1.0 in /home/user/miniforge3/envs/torch/lib/python3.11/site-packages (from soundfile) (1.17.1)\n",
      "Requirement already satisfied: pycparser in /home/user/miniforge3/envs/torch/lib/python3.11/site-packages (from cffi>=1.0->soundfile) (2.22)\n",
      "Downloading soundfile-0.12.1-py2.py3-none-manylinux_2_31_x86_64.whl (1.2 MB)\n",
      "\u001b[2K   \u001b[90m━━━━━━━━━━━━━━━━━━━━━━━━━━━━━━━━━━━━━━━━\u001b[0m \u001b[32m1.2/1.2 MB\u001b[0m \u001b[31m37.9 MB/s\u001b[0m eta \u001b[36m0:00:00\u001b[0m\n",
      "\u001b[?25hInstalling collected packages: soundfile\n",
      "Successfully installed soundfile-0.12.1\n"
     ]
    }
   ],
   "source": [
    "# !pip install soundfile"
   ]
  },
  {
   "cell_type": "code",
   "execution_count": 3,
   "id": "a5d34d5e",
   "metadata": {},
   "outputs": [
    {
     "name": "stdout",
     "output_type": "stream",
     "text": [
      "This is one/sing translator. made with m2m100 model\n",
      "이것은 한국어에서 영어로 번역가입니다. m2m100_418m를 사용하여 만들었습니다.\n"
     ]
    }
   ],
   "source": [
    "from transformers import M2M100ForConditionalGeneration, M2M100Tokenizer\n",
    "\n",
    "ko_text = \"이것은 한/영 번역기 입니다. m2m100모델로 만들었어요\"\n",
    "en_text = \"This is a Korean to English translator. I made it using m2m100_418m.\"\n",
    "\n",
    "model = M2M100ForConditionalGeneration.from_pretrained(\"facebook/m2m100_418M\")\n",
    "tokenizer = M2M100Tokenizer.from_pretrained(\"facebook/m2m100_418M\")\n",
    "\n",
    "# translate Hindi to French\n",
    "tokenizer.src_lang = \"ko\"\n",
    "encoded_ko = tokenizer(ko_text, return_tensors=\"pt\")\n",
    "generated_tokens = model.generate(**encoded_ko, forced_bos_token_id=tokenizer.get_lang_id(\"en\"))\n",
    "translated_text = tokenizer.batch_decode(generated_tokens, skip_special_tokens=True)[0]\n",
    "# => \"La vie est comme une boîte de chocolat.\"\n",
    "print(translated_text)\n",
    "\n",
    "# translate Chinese to English\n",
    "tokenizer.src_lang = \"en\"\n",
    "encoded_en = tokenizer(en_text, return_tensors=\"pt\")\n",
    "generated_tokens = model.generate(**encoded_en, forced_bos_token_id=tokenizer.get_lang_id(\"ko\"))\n",
    "translated_text2 = tokenizer.batch_decode(generated_tokens, skip_special_tokens=True)[0]\n",
    "# => \"Life is like a box of chocolate.\"\n",
    "\n",
    "print(translated_text2)"
   ]
  },
  {
   "cell_type": "code",
   "execution_count": null,
   "id": "73f939eb",
   "metadata": {},
   "outputs": [],
   "source": []
  },
  {
   "cell_type": "markdown",
   "id": "58c7b25f",
   "metadata": {},
   "source": [
    "### 다국어 번역기"
   ]
  },
  {
   "cell_type": "code",
   "execution_count": 3,
   "id": "c7365654",
   "metadata": {},
   "outputs": [
    {
     "name": "stderr",
     "output_type": "stream",
     "text": [
      "/home/user/miniforge3/envs/torch/lib/python3.11/site-packages/tqdm/auto.py:21: TqdmWarning: IProgress not found. Please update jupyter and ipywidgets. See https://ipywidgets.readthedocs.io/en/stable/user_install.html\n",
      "  from .autonotebook import tqdm as notebook_tqdm\n",
      "/home/user/miniforge3/envs/torch/lib/python3.11/site-packages/gradio_client/documentation.py:106: UserWarning: Could not get documentation group for <class 'gradio.mix.Parallel'>: No known documentation group for module 'gradio.mix'\n",
      "  warnings.warn(f\"Could not get documentation group for {cls}: {exc}\")\n",
      "/home/user/miniforge3/envs/torch/lib/python3.11/site-packages/gradio_client/documentation.py:106: UserWarning: Could not get documentation group for <class 'gradio.mix.Series'>: No known documentation group for module 'gradio.mix'\n",
      "  warnings.warn(f\"Could not get documentation group for {cls}: {exc}\")\n",
      "/home/user/miniforge3/envs/torch/lib/python3.11/site-packages/transformers/tokenization_utils_base.py:1601: FutureWarning: `clean_up_tokenization_spaces` was not set. It will be set to `True` by default. This behavior will be depracted in transformers v4.45, and will be then set to `False` by default. For more details check this issue: https://github.com/huggingface/transformers/issues/31884\n",
      "  warnings.warn(\n"
     ]
    },
    {
     "name": "stdout",
     "output_type": "stream",
     "text": [
      "Running on local URL:  http://127.0.0.1:7860\n",
      "IMPORTANT: You are using gradio version 3.40.0, however version 4.29.0 is available, please upgrade.\n",
      "--------\n",
      "Running on public URL: https://b443b838471f5fb246.gradio.live\n",
      "\n",
      "This share link expires in 72 hours. For free permanent hosting and GPU upgrades, run `gradio deploy` from Terminal to deploy to Spaces (https://huggingface.co/spaces)\n"
     ]
    },
    {
     "data": {
      "text/plain": []
     },
     "execution_count": 3,
     "metadata": {},
     "output_type": "execute_result"
    }
   ],
   "source": [
    "import gradio as gr\n",
    "from transformers import M2M100ForConditionalGeneration, M2M100Tokenizer\n",
    "import torch_directml  # Import torch-directml for DirectML device\n",
    "import torch  # Import PyTorch\n",
    "\n",
    "#Initialize the DirectML device\n",
    "dml_device = torch_directml.device()\n",
    "\n",
    "#Initialize the model and tokenizer\n",
    "model = M2M100ForConditionalGeneration.from_pretrained(\"facebook/m2m100_418M\").to(dml_device)\n",
    "tokenizer = M2M100Tokenizer.from_pretrained(\"facebook/m2m100_418M\")\n",
    "\n",
    "#List of available languages with their language codes\n",
    "languages = {\n",
    "    \"Korean\": \"ko\",\n",
    "    \"English\": \"en\",\n",
    "    \"French\": \"fr\",\n",
    "    \"Spanish\": \"es\",\n",
    "    \"German\": \"de\",\n",
    "    \"Japanese\": \"ja\",\n",
    "    \"Chinese (Simplified)\": \"zh\",\n",
    "    \"Russian\": \"ru\",\n",
    "    # Add more languages as needed\n",
    "}\n",
    "\n",
    "def translate(text, source_lang, target_lang):\n",
    "    tokenizer.src_lang = languages[source_lang]\n",
    "    encoded_text = tokenizer(text, return_tensors=\"pt\").to(dml_device)  # Send input tensors to DirectML device\n",
    "    generated_tokens = model.generate(**encoded_text, forced_bos_token_id=tokenizer.get_lang_id(languages[target_lang]))\n",
    "    translated_text = tokenizer.batch_decode(generated_tokens, skip_special_tokens=True)[0]\n",
    "    return translated_text\n",
    "\n",
    "with gr.Blocks() as app:\n",
    "    gr.Markdown(\"# Multilingual Translation Service\")\n",
    "\n",
    "    with gr.Row():\n",
    "        source_lang = gr.Dropdown(label=\"Source Language\", choices=list(languages.keys()), value=\"Korean\")\n",
    "        target_lang = gr.Dropdown(label=\"Target Language\", choices=list(languages.keys()), value=\"English\")\n",
    "\n",
    "    input_text = gr.Textbox(label=\"Input Text\")\n",
    "    output_text = gr.Textbox(label=\"Translated Text\")\n",
    "    translate_btn = gr.Button(\"Translate\")\n",
    "\n",
    "    translate_btn.click(fn=translate, inputs=[input_text, source_lang, target_lang], outputs=output_text)\n",
    "\n",
    "app.launch(inline=False, share=True)"
   ]
  },
  {
   "cell_type": "code",
   "execution_count": null,
   "id": "c3fa2d3d",
   "metadata": {},
   "outputs": [],
   "source": []
  },
  {
   "cell_type": "markdown",
   "id": "6ac5e885",
   "metadata": {},
   "source": [
    "### 번역된 곳 발음도 같이 나오게"
   ]
  },
  {
   "cell_type": "code",
   "execution_count": 8,
   "id": "0e892e69",
   "metadata": {},
   "outputs": [
    {
     "name": "stderr",
     "output_type": "stream",
     "text": [
      "/home/user/miniforge3/envs/torch/lib/python3.11/site-packages/transformers/tokenization_utils_base.py:1601: FutureWarning: `clean_up_tokenization_spaces` was not set. It will be set to `True` by default. This behavior will be depracted in transformers v4.45, and will be then set to `False` by default. For more details check this issue: https://github.com/huggingface/transformers/issues/31884\n",
      "  warnings.warn(\n",
      "Generating validation split: 100%|███████████████████████████| 7931/7931 [00:00<00:00, 125382.20 examples/s]\n"
     ]
    },
    {
     "name": "stdout",
     "output_type": "stream",
     "text": [
      "Running on local URL:  http://127.0.0.1:7860\n",
      "IMPORTANT: You are using gradio version 3.40.0, however version 4.29.0 is available, please upgrade.\n",
      "--------\n",
      "Running on public URL: https://28931016c641ec60e5.gradio.live\n",
      "\n",
      "This share link expires in 72 hours. For free permanent hosting and GPU upgrades, run `gradio deploy` from Terminal to deploy to Spaces (https://huggingface.co/spaces)\n"
     ]
    },
    {
     "data": {
      "text/plain": []
     },
     "execution_count": 8,
     "metadata": {},
     "output_type": "execute_result"
    }
   ],
   "source": [
    "import gradio as gr\n",
    "from transformers import M2M100ForConditionalGeneration, M2M100Tokenizer, SpeechT5Processor, SpeechT5ForTextToSpeech, SpeechT5HifiGan\n",
    "from datasets import load_dataset\n",
    "import torch_directml  # Import torch-directml for DirectML device\n",
    "import torch  # Import PyTorch\n",
    "import soundfile as sf\n",
    "\n",
    "# Initialize the DirectML device\n",
    "dml_device = torch_directml.device()\n",
    "\n",
    "# Initialize the translation model and tokenizer\n",
    "model = M2M100ForConditionalGeneration.from_pretrained(\"facebook/m2m100_418M\").to(dml_device)\n",
    "tokenizer = M2M100Tokenizer.from_pretrained(\"facebook/m2m100_418M\")\n",
    "\n",
    "# List of available languages with their language codes\n",
    "languages = {\n",
    "    \"Korean\": \"ko\",\n",
    "    \"English\": \"en\",\n",
    "    \"French\": \"fr\",\n",
    "    \"Spanish\": \"es\",\n",
    "    \"German\": \"de\",\n",
    "    \"Japanese\": \"ja\",\n",
    "    \"Chinese (Simplified)\": \"zh\",\n",
    "    \"Russian\": \"ru\",\n",
    "}\n",
    "\n",
    "# Load the Microsoft SpeechT5 TTS model\n",
    "processor = SpeechT5Processor.from_pretrained(\"microsoft/speecht5_tts\")\n",
    "speech_model = SpeechT5ForTextToSpeech.from_pretrained(\"microsoft/speecht5_tts\")\n",
    "vocoder = SpeechT5HifiGan.from_pretrained(\"microsoft/speecht5_hifigan\")\n",
    "\n",
    "# Load speaker embeddings dataset for voice characteristics\n",
    "embeddings_dataset = load_dataset(\"Matthijs/cmu-arctic-xvectors\", split=\"validation\")\n",
    "\n",
    "# Translation function with TTS integration\n",
    "def translate_and_tts(text, source_lang, target_lang):\n",
    "    tokenizer.src_lang = languages[source_lang]\n",
    "    encoded_text = tokenizer(text, return_tensors=\"pt\").to(dml_device)  # Send input tensors to DirectML device\n",
    "    generated_tokens = model.generate(**encoded_text, forced_bos_token_id=tokenizer.get_lang_id(languages[target_lang]))\n",
    "    translated_text = tokenizer.batch_decode(generated_tokens, skip_special_tokens=True)[0]\n",
    "    \n",
    "    # If target language is English, perform TTS\n",
    "    tts_output_file = None\n",
    "    if target_lang == \"English\":\n",
    "        tts_output_file = convert_text_to_speech(translated_text)\n",
    "    \n",
    "    return translated_text, tts_output_file\n",
    "\n",
    "# Text-to-speech conversion using Microsoft SpeechT5 TTS\n",
    "def convert_text_to_speech(text):\n",
    "    inputs = processor(text=text, return_tensors=\"pt\")\n",
    "    \n",
    "    # Choose a speaker embedding by index or select randomly\n",
    "    speaker_embeddings = torch.tensor(embeddings_dataset[7306][\"xvector\"]).unsqueeze(0)\n",
    "    \n",
    "    # Generate the speech using the TTS model and vocoder\n",
    "    speech = speech_model.generate_speech(inputs[\"input_ids\"], speaker_embeddings, vocoder=vocoder)\n",
    "    \n",
    "    # Save the generated speech to a file\n",
    "    temp_audio_file = \"output_speech.wav\"\n",
    "    sf.write(temp_audio_file, speech.numpy(), samplerate=16000)\n",
    "    \n",
    "    return temp_audio_file\n",
    "\n",
    "with gr.Blocks() as app:\n",
    "    gr.Markdown(\"# Multilingual Translation Service with Microsoft SpeechT5 TTS\")\n",
    "\n",
    "    with gr.Row():\n",
    "        source_lang = gr.Dropdown(label=\"Source Language\", choices=list(languages.keys()), value=\"Korean\")\n",
    "        target_lang = gr.Dropdown(label=\"Target Language\", choices=list(languages.keys()), value=\"English\")\n",
    "\n",
    "    input_text = gr.Textbox(label=\"Input Text\")\n",
    "    output_text = gr.Textbox(label=\"Translated Text\")\n",
    "    tts_audio = gr.Audio(label=\"Text-to-Speech Output\")  # Audio player for speech output\n",
    "    translate_btn = gr.Button(\"Translate and Speak\")\n",
    "\n",
    "    # Connect the button click event to the translation and TTS function\n",
    "    translate_btn.click(fn=translate_and_tts, inputs=[input_text, source_lang, target_lang], outputs=[output_text, tts_audio])\n",
    "\n",
    "app.launch(inline=False, share=True)\n"
   ]
  },
  {
   "cell_type": "code",
   "execution_count": 4,
   "id": "90ea59c5",
   "metadata": {},
   "outputs": [
    {
     "name": "stdout",
     "output_type": "stream",
     "text": [
      "Closing server running on port: 7861\n"
     ]
    }
   ],
   "source": [
    "app.close()"
   ]
  },
  {
   "cell_type": "code",
   "execution_count": null,
   "id": "e1c78bed",
   "metadata": {},
   "outputs": [],
   "source": []
  },
  {
   "cell_type": "code",
   "execution_count": null,
   "id": "6dcf786a",
   "metadata": {},
   "outputs": [],
   "source": []
  },
  {
   "cell_type": "code",
   "execution_count": null,
   "id": "5d76dd45",
   "metadata": {},
   "outputs": [],
   "source": []
  },
  {
   "cell_type": "code",
   "execution_count": null,
   "id": "7439c85f",
   "metadata": {},
   "outputs": [],
   "source": []
  },
  {
   "cell_type": "code",
   "execution_count": null,
   "id": "bb79531e",
   "metadata": {},
   "outputs": [],
   "source": []
  },
  {
   "cell_type": "code",
   "execution_count": null,
   "id": "f2e1b3be",
   "metadata": {},
   "outputs": [],
   "source": []
  },
  {
   "cell_type": "code",
   "execution_count": null,
   "id": "2cf10212",
   "metadata": {},
   "outputs": [],
   "source": []
  },
  {
   "cell_type": "code",
   "execution_count": null,
   "id": "9225feb3",
   "metadata": {},
   "outputs": [],
   "source": []
  },
  {
   "cell_type": "code",
   "execution_count": null,
   "id": "0c563ee2",
   "metadata": {},
   "outputs": [],
   "source": []
  },
  {
   "cell_type": "code",
   "execution_count": null,
   "id": "57d1bf69",
   "metadata": {},
   "outputs": [],
   "source": []
  }
 ],
 "metadata": {
  "kernelspec": {
   "display_name": "Python 3 (ipykernel)",
   "language": "python",
   "name": "python3"
  },
  "language_info": {
   "codemirror_mode": {
    "name": "ipython",
    "version": 3
   },
   "file_extension": ".py",
   "mimetype": "text/x-python",
   "name": "python",
   "nbconvert_exporter": "python",
   "pygments_lexer": "ipython3",
   "version": "3.11.10"
  }
 },
 "nbformat": 4,
 "nbformat_minor": 5
}
