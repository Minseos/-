{
 "cells": [
  {
   "cell_type": "code",
   "execution_count": 6,
   "id": "edb515d7",
   "metadata": {
    "scrolled": true
   },
   "outputs": [],
   "source": [
    "# !pip install google-generativeai"
   ]
  },
  {
   "cell_type": "code",
   "execution_count": 7,
   "id": "0f53b608",
   "metadata": {},
   "outputs": [],
   "source": [
    "# !pip install python-dotenv"
   ]
  },
  {
   "cell_type": "code",
   "execution_count": 1,
   "id": "72722bfe",
   "metadata": {},
   "outputs": [
    {
     "name": "stderr",
     "output_type": "stream",
     "text": [
      "/home/user/miniforge3/envs/torch/lib/python3.11/site-packages/tqdm/auto.py:21: TqdmWarning: IProgress not found. Please update jupyter and ipywidgets. See https://ipywidgets.readthedocs.io/en/stable/user_install.html\n",
      "  from .autonotebook import tqdm as notebook_tqdm\n"
     ]
    },
    {
     "data": {
      "text/plain": [
       "True"
      ]
     },
     "execution_count": 1,
     "metadata": {},
     "output_type": "execute_result"
    }
   ],
   "source": [
    "import os\n",
    "import google.generativeai as genai\n",
    "from dotenv import load_dotenv\n",
    "load_dotenv(\".chatenv\")"
   ]
  },
  {
   "cell_type": "code",
   "execution_count": 2,
   "id": "9e2c9c3a",
   "metadata": {},
   "outputs": [],
   "source": [
    "GOOGLE_API_KEY=os.getenv('GOOGLE_API_KEY')\n",
    "genai.configure(api_key=GOOGLE_API_KEY)"
   ]
  },
  {
   "cell_type": "code",
   "execution_count": 3,
   "id": "835b360a",
   "metadata": {},
   "outputs": [],
   "source": [
    "model = genai.GenerativeModel('gemini-1.5-flash')"
   ]
  },
  {
   "cell_type": "code",
   "execution_count": 4,
   "id": "53693e61",
   "metadata": {
    "scrolled": true
   },
   "outputs": [
    {
     "name": "stdout",
     "output_type": "stream",
     "text": [
      "Elara, a girl with eyes like storm clouds and hair the color of sun-bleached wheat, had always felt out of place. While other children dreamt of becoming doctors or astronauts, Elara yearned for adventure, for a life beyond the predictable walls of her small town. Her only companion was a battered, leather backpack she found tucked away in her grandmother's attic.\n",
      "\n",
      "One stormy afternoon, while rummaging through the dusty attic, Elara stumbled upon a faded inscription on the backpack's worn leather strap. It read, \"To the seeker, may your journey be filled with wonder.\" A prickle of excitement ran up her spine. That night, she dreamt of vast, unexplored lands, of mythical creatures and forgotten cities. \n",
      "\n",
      "The next day, Elara decided to take the backpack on a hike to the nearby Whispering Woods. As she walked, the backpack felt lighter than it should have been, almost weightless. As she approached a clearing bathed in dappled sunlight, she felt an urge to open it. Inside, instead of her usual books and snacks, she found a shimmering, emerald-green compass. \n",
      "\n",
      "\"Where to?\" a voice whispered from the compass. Elara, startled, realized the compass was speaking. She hesitated, then whispered, \"To the most wondrous place you know.\" \n",
      "\n",
      "The compass spun, its needle pointing toward the Whispering Woods. Elara, with a newfound sense of purpose, followed. The woods seemed to transform as she walked, becoming vibrant and alive. She saw fantastical creatures flitting through the trees, and heard whispers of forgotten languages on the wind. \n",
      "\n",
      "The compass led her to a hidden waterfall, its water cascading into a shimmering pool. She dipped her hand in the water, and found herself transported to a bustling city made entirely of crystal, its inhabitants humming with a strange, ethereal energy. \n",
      "\n",
      "Elara spent days exploring this magical city, meeting its inhabitants and learning their ways. She learned to speak the language of the wind, to read the stars, and to dance with the spirits of the forest. But eventually, she felt a pull back to her own world. \n",
      "\n",
      "She returned to the waterfall, dipped her hand in the water, and found herself back in the clearing. The emerald compass was gone, replaced by a single, white feather. Elara knew this was a token from her journey, a reminder of the magic she had found. \n",
      "\n",
      "From that day on, Elara wasn't the same. The whispers of the woods stayed with her, the memories of the crystal city forever etched in her heart. The backpack, though seemingly ordinary, was now a portal to a world of wonder, its magic waiting to be discovered by those who dared to seek it. Elara, no longer feeling out of place, embraced the unknown, knowing that adventure awaited her, a whisper away, in the worn leather of her magical backpack. \n",
      "\n"
     ]
    }
   ],
   "source": [
    "response = model.generate_content(\"Write a story about a magic backpack.\")\n",
    "print(response.text)"
   ]
  },
  {
   "cell_type": "code",
   "execution_count": 16,
   "id": "d5ccc6fe",
   "metadata": {},
   "outputs": [
    {
     "name": "stdout",
     "output_type": "stream",
     "text": [
      "Running on local URL:  http://127.0.0.1:7861\n",
      "IMPORTANT: You are using gradio version 3.40.0, however version 4.29.0 is available, please upgrade.\n",
      "--------\n",
      "Running on public URL: https://d65664104b2109c7ee.gradio.live\n",
      "\n",
      "This share link expires in 72 hours. For free permanent hosting and GPU upgrades, run `gradio deploy` from Terminal to deploy to Spaces (https://huggingface.co/spaces)\n"
     ]
    },
    {
     "data": {
      "text/plain": []
     },
     "execution_count": 16,
     "metadata": {},
     "output_type": "execute_result"
    }
   ],
   "source": [
    "import gradio as gr\n",
    "import os\n",
    "import google.generativeai as genai\n",
    "from dotenv import load_dotenv\n",
    "\n",
    "# Load API key from the environment\n",
    "load_dotenv(\".chatenv\")\n",
    "\n",
    "GOOGLE_API_KEY = os.getenv('GOOGLE_API_KEY')\n",
    "genai.configure(api_key=GOOGLE_API_KEY)\n",
    "\n",
    "# Function to process user input and generate a response\n",
    "def generate_answer(prompt):\n",
    "    model = genai.GenerativeModel('gemini-1.5-flash')\n",
    "    response = model.generate_content(prompt)\n",
    "    return response.text\n",
    "\n",
    "# Gradio interface for asking questions\n",
    "with gr.Blocks() as app:\n",
    "    gr.Markdown(\"## Ask a Question to the Generative AI\")\n",
    "\n",
    "    with gr.Row():\n",
    "        question = gr.Textbox(label=\"Your Question\", placeholder=\"Type your question here\")\n",
    "\n",
    "    result = gr.Textbox(label=\"AI Response\")\n",
    "    ask_button = gr.Button(\"Ask\")\n",
    "\n",
    "    # Action for generating answer\n",
    "    ask_button.click(fn=generate_answer, inputs=question, outputs=result)\n",
    "\n",
    "# Launch the app\n",
    "app.launch(inline=False, share=True)\n"
   ]
  },
  {
   "cell_type": "code",
   "execution_count": 14,
   "id": "822d04a3",
   "metadata": {},
   "outputs": [
    {
     "name": "stdout",
     "output_type": "stream",
     "text": [
      "Closing server running on port: 7860\n"
     ]
    }
   ],
   "source": [
    "app.close()"
   ]
  },
  {
   "cell_type": "code",
   "execution_count": null,
   "id": "1c4ce704",
   "metadata": {},
   "outputs": [],
   "source": []
  },
  {
   "cell_type": "code",
   "execution_count": null,
   "id": "05ebeb06",
   "metadata": {},
   "outputs": [],
   "source": []
  },
  {
   "cell_type": "code",
   "execution_count": null,
   "id": "1575c971",
   "metadata": {},
   "outputs": [],
   "source": []
  },
  {
   "cell_type": "markdown",
   "id": "5492cb07",
   "metadata": {},
   "source": [
    "### 네이버 뉴스"
   ]
  },
  {
   "cell_type": "code",
   "execution_count": 19,
   "id": "4066e28b",
   "metadata": {
    "scrolled": true
   },
   "outputs": [],
   "source": [
    "# !pip install sqlalchemy"
   ]
  },
  {
   "cell_type": "code",
   "execution_count": 21,
   "id": "b6c64d4c",
   "metadata": {},
   "outputs": [
    {
     "data": {
      "text/plain": [
       "True"
      ]
     },
     "execution_count": 21,
     "metadata": {},
     "output_type": "execute_result"
    }
   ],
   "source": [
    "import os\n",
    "import sys\n",
    "import urllib.request\n",
    "import requests\n",
    "import time\n",
    "import pandas as pd\n",
    "import sqlalchemy\n",
    "\n",
    "from dotenv import load_dotenv\n",
    "from datetime import date\n",
    "from sqlalchemy import create_engine\n",
    "from datetime import datetime\n",
    "load_dotenv(\".chatenv\")"
   ]
  },
  {
   "cell_type": "code",
   "execution_count": 22,
   "id": "3e331352",
   "metadata": {},
   "outputs": [],
   "source": [
    "# news_lists = []\n",
    "page = 1\n",
    "start = 1\n",
    "\n",
    "load_dotenv()\n",
    "client_id = os.getenv(\"client_id\") # 네이버 api에 접속 가능한 id \n",
    "client_secret = os.getenv(\"client_secret\")       # 네이버 api에 접속 가능한 pw \n",
    "\n",
    "url = f\"https://openapi.naver.com/v1/search/news.json\"\n",
    "payload = {'query' : '핀테크', 'display': 100, 'start' : 1, 'sort' : 'date'}\n",
    "headers = {'X-Naver-Client-Id' : client_id, 'X-Naver-Client-Secret' : client_secret}\n",
    "r = requests.get(url, params = payload, headers = headers)\n",
    "if(r.status_code==200):\n",
    "    data = r.json()\n",
    "\n",
    "\n",
    "    for item in data['items']:\n",
    "        pub_date_str = item['pubDate']\n",
    "        # print(pub_date_str)"
   ]
  },
  {
   "cell_type": "code",
   "execution_count": 34,
   "id": "5818099c",
   "metadata": {
    "scrolled": true
   },
   "outputs": [
    {
     "name": "stdout",
     "output_type": "stream",
     "text": [
      "Running on local URL:  http://127.0.0.1:7866\n",
      "IMPORTANT: You are using gradio version 3.40.0, however version 4.29.0 is available, please upgrade.\n",
      "--------\n",
      "Running on public URL: https://57b62eddd4ceec4a6b.gradio.live\n",
      "\n",
      "This share link expires in 72 hours. For free permanent hosting and GPU upgrades, run `gradio deploy` from Terminal to deploy to Spaces (https://huggingface.co/spaces)\n"
     ]
    },
    {
     "data": {
      "text/plain": []
     },
     "execution_count": 34,
     "metadata": {},
     "output_type": "execute_result"
    }
   ],
   "source": [
    "import os\n",
    "import requests\n",
    "import gradio as gr\n",
    "from dotenv import load_dotenv\n",
    "\n",
    "# .env 파일에서 네이버 API 정보 로드\n",
    "load_dotenv()\n",
    "client_id = os.getenv(\"client_id\")  # 네이버 API 클라이언트 ID\n",
    "client_secret = os.getenv(\"client_secret\")  # 네이버 API 클라이언트 시크릿\n",
    "\n",
    "# 네이버 뉴스 API에서 뉴스 검색을 수행하는 함수\n",
    "def search_naver_news(query):\n",
    "    url = \"https://openapi.naver.com/v1/search/news.json\"\n",
    "    payload = {'query': query, 'display': 5, 'start': 1, 'sort': 'date'}  # 5개의 뉴스 검색\n",
    "    headers = {\n",
    "        'X-Naver-Client-Id': client_id,\n",
    "        'X-Naver-Client-Secret': client_secret\n",
    "    }\n",
    "    \n",
    "    # API 요청\n",
    "    response = requests.get(url, params=payload, headers=headers)\n",
    "    \n",
    "    if response.status_code == 200:\n",
    "        data = response.json()\n",
    "        news_list = []\n",
    "        \n",
    "        # 뉴스 아이템을 리스트에 추가 (HTML 형식으로)\n",
    "        for item in data['items']:\n",
    "            title = item['title']\n",
    "#             description = item['description']\n",
    "            pub_date = item['pubDate']\n",
    "            link = item['link']\n",
    "            \n",
    "            # HTML 형식으로 링크 포함한 뉴스 아이템\n",
    "            news_item = f\"<a href='{link}' target='_blank'>{title}</a><br>Published on: {pub_date}<br><br>\"\n",
    "            news_list.append(news_item)\n",
    "        \n",
    "        # HTML로 출력\n",
    "        return \"\\n\".join(news_list)\n",
    "    else:\n",
    "        return \"뉴스를 불러오는데 실패했습니다.\"\n",
    "\n",
    "# Gradio 인터페이스 생성\n",
    "with gr.Blocks() as app:\n",
    "    gr.Markdown(\"## 네이버 뉴스 검색 챗봇\")\n",
    "    \n",
    "    with gr.Row():\n",
    "        user_input = gr.Textbox(label=\"검색어\", placeholder=\"검색할 키워드를 입력하세요\")\n",
    "    \n",
    "    result = gr.HTML(label=\"뉴스 결과\")\n",
    "    search_button = gr.Button(\"검색하기\")\n",
    "    \n",
    "    # 버튼 클릭 시 뉴스 검색 함수 호출\n",
    "    search_button.click(fn=search_naver_news, inputs=user_input, outputs=result)\n",
    "\n",
    "# 앱 실행\n",
    "app.launch(inline=False, share=True)"
   ]
  },
  {
   "cell_type": "code",
   "execution_count": 32,
   "id": "2bc79c16",
   "metadata": {},
   "outputs": [
    {
     "name": "stdout",
     "output_type": "stream",
     "text": [
      "Closing server running on port: 7865\n"
     ]
    }
   ],
   "source": [
    "app.close()"
   ]
  },
  {
   "cell_type": "code",
   "execution_count": null,
   "id": "556e3d32",
   "metadata": {},
   "outputs": [],
   "source": [
    "app.launch(inline=False, share=True)"
   ]
  },
  {
   "cell_type": "markdown",
   "id": "9f3ae930",
   "metadata": {},
   "source": [
    "### 네이버뉴스 질문"
   ]
  },
  {
   "cell_type": "code",
   "execution_count": 39,
   "id": "6f121fca",
   "metadata": {},
   "outputs": [
    {
     "name": "stdout",
     "output_type": "stream",
     "text": [
      "Running on local URL:  http://127.0.0.1:7871\n",
      "\n",
      "Thanks for being a Gradio user! If you have questions or feedback, please join our Discord server and chat with us: https://discord.gg/feTf9x3ZSB\n",
      "IMPORTANT: You are using gradio version 3.40.0, however version 4.29.0 is available, please upgrade.\n",
      "--------\n",
      "Running on public URL: https://ba418b3b7b38bcc265.gradio.live\n",
      "\n",
      "This share link expires in 72 hours. For free permanent hosting and GPU upgrades, run `gradio deploy` from Terminal to deploy to Spaces (https://huggingface.co/spaces)\n"
     ]
    },
    {
     "data": {
      "text/plain": []
     },
     "execution_count": 39,
     "metadata": {},
     "output_type": "execute_result"
    }
   ],
   "source": [
    "import os\n",
    "import requests\n",
    "import gradio as gr\n",
    "import google.generativeai as genai\n",
    "from dotenv import load_dotenv\n",
    "\n",
    "# .env 파일에서 네이버 API 및 Google API 정보 로드\n",
    "load_dotenv()\n",
    "\n",
    "# 네이버 API 정보\n",
    "client_id = os.getenv(\"client_id\")  # 네이버 API 클라이언트 ID\n",
    "client_secret = os.getenv(\"client_secret\")  # 네이버 API 클라이언트 시크릿\n",
    "\n",
    "# Google API 정보\n",
    "GOOGLE_API_KEY = os.getenv('GOOGLE_API_KEY')\n",
    "genai.configure(api_key=GOOGLE_API_KEY)\n",
    "\n",
    "# 네이버 뉴스 API에서 뉴스 검색을 수행하는 함수\n",
    "def search_naver_news(query):\n",
    "    url = \"https://openapi.naver.com/v1/search/news.json\"\n",
    "    payload = {'query': query, 'display': 5, 'start': 1, 'sort': 'date'}  # 5개의 뉴스 검색\n",
    "    headers = {\n",
    "        'X-Naver-Client-Id': client_id,\n",
    "        'X-Naver-Client-Secret': client_secret\n",
    "    }\n",
    "    \n",
    "    # API 요청\n",
    "    response = requests.get(url, params=payload, headers=headers)\n",
    "    \n",
    "    if response.status_code == 200:\n",
    "        data = response.json()\n",
    "        news_list = []\n",
    "        \n",
    "        # 뉴스 아이템을 리스트에 추가 (HTML 형식으로)\n",
    "        for item in data['items']:\n",
    "            title = item['title']\n",
    "            pub_date = item['pubDate']\n",
    "            link = item['link']\n",
    "            \n",
    "            # HTML 형식으로 링크 포함한 뉴스 아이템\n",
    "            news_item = f\"<a href='{link}' target='_blank'>{title}</a><br>Published on: {pub_date}<br><br>\"\n",
    "            news_list.append(news_item)\n",
    "        \n",
    "        # 뉴스 리스트를 HTML로 결합해서 반환\n",
    "        news_summary = \"\\n\".join(news_list)\n",
    "        return news_summary\n",
    "    else:\n",
    "        return \"뉴스를 불러오는데 실패했습니다.\"\n",
    "\n",
    "# Google Generative AI에서 질문에 대한 답변을 생성하는 함수 (뉴스 내용을 포함)\n",
    "def generate_answer_with_news(prompt, news_summary):\n",
    "    model = genai.GenerativeModel('gemini-1.5-flash')\n",
    "    combined_prompt = f\"Here is some recent news that may help answer your question:\\n{news_summary}\\n\\nUser's question: {prompt}\"\n",
    "    response = model.generate_content(combined_prompt)\n",
    "    return response.text\n",
    "\n",
    "# Gradio 인터페이스 생성\n",
    "with gr.Blocks() as app:\n",
    "    gr.Markdown(\"## 뉴스 기반 AI 질문 챗봇\")\n",
    "\n",
    "    # 첫 번째 탭: 네이버 뉴스 검색\n",
    "    with gr.Tab(\"네이버 뉴스 검색\"):\n",
    "        news_input = gr.Textbox(label=\"검색어\", placeholder=\"검색할 키워드를 입력하세요\")\n",
    "        news_result = gr.HTML(label=\"뉴스 결과\")\n",
    "        search_button = gr.Button(\"뉴스 검색하기\")\n",
    "    \n",
    "        # 뉴스 검색 버튼 클릭 시 뉴스 검색 결과를 보여줌\n",
    "        def search_and_display_news(query):\n",
    "            news_summary = search_naver_news(query)  # 뉴스 검색\n",
    "            return news_summary\n",
    "        \n",
    "        search_button.click(fn=search_and_display_news, inputs=news_input, outputs=news_result)\n",
    "\n",
    "    # 두 번째 탭: AI 질문하기 (뉴스 내용을 바탕으로)\n",
    "    with gr.Tab(\"AI 질문하기\"):\n",
    "        question_input = gr.Textbox(label=\"Your Question\", placeholder=\"Ask a question based on the news\")\n",
    "        ai_result = gr.Textbox(label=\"AI Response\")\n",
    "        ask_button = gr.Button(\"Ask AI\")\n",
    "        \n",
    "        # AI 질문 버튼 클릭 시 뉴스 내용을 바탕으로 AI 답변 생성\n",
    "        def ask_ai_with_news(user_question, news_summary):\n",
    "            if news_summary:  # 뉴스 요약이 있다면 AI에 질문을 넘김\n",
    "                return generate_answer_with_news(user_question, news_summary)\n",
    "            else:\n",
    "                return \"먼저 뉴스 검색을 해주세요.\"\n",
    "\n",
    "        ask_button.click(fn=ask_ai_with_news, inputs=[question_input, news_result], outputs=ai_result)\n",
    "\n",
    "# 앱 실행\n",
    "app.launch(inline=False, share=True)\n"
   ]
  },
  {
   "cell_type": "markdown",
   "id": "c2eccd5e",
   "metadata": {},
   "source": [
    "#### 질문 후 키워드 뉴스 뽑기"
   ]
  },
  {
   "cell_type": "code",
   "execution_count": 40,
   "id": "2abd4c0c",
   "metadata": {},
   "outputs": [
    {
     "name": "stdout",
     "output_type": "stream",
     "text": [
      "Running on local URL:  http://127.0.0.1:7872\n",
      "IMPORTANT: You are using gradio version 3.40.0, however version 4.29.0 is available, please upgrade.\n",
      "--------\n",
      "Running on public URL: https://2670c9beb2a3dc1212.gradio.live\n",
      "\n",
      "This share link expires in 72 hours. For free permanent hosting and GPU upgrades, run `gradio deploy` from Terminal to deploy to Spaces (https://huggingface.co/spaces)\n"
     ]
    },
    {
     "data": {
      "text/plain": []
     },
     "execution_count": 40,
     "metadata": {},
     "output_type": "execute_result"
    }
   ],
   "source": [
    "import os\n",
    "import requests\n",
    "import gradio as gr\n",
    "import google.generativeai as genai\n",
    "from dotenv import load_dotenv\n",
    "\n",
    "# .env 파일에서 네이버 API 및 Google API 정보 로드\n",
    "load_dotenv()\n",
    "\n",
    "# 네이버 API 정보\n",
    "client_id = os.getenv(\"client_id\")  # 네이버 API 클라이언트 ID\n",
    "client_secret = os.getenv(\"client_secret\")  # 네이버 API 클라이언트 시크릿\n",
    "\n",
    "# Google API 정보\n",
    "GOOGLE_API_KEY = os.getenv('GOOGLE_API_KEY')\n",
    "genai.configure(api_key=GOOGLE_API_KEY)\n",
    "\n",
    "# 네이버 뉴스 API에서 뉴스 검색을 수행하는 함수\n",
    "def search_naver_news(query):\n",
    "    url = \"https://openapi.naver.com/v1/search/news.json\"\n",
    "    payload = {'query': query, 'display': 5, 'start': 1, 'sort': 'date'}  # 5개의 뉴스 검색\n",
    "    headers = {\n",
    "        'X-Naver-Client-Id': client_id,\n",
    "        'X-Naver-Client-Secret': client_secret\n",
    "    }\n",
    "    \n",
    "    # API 요청\n",
    "    response = requests.get(url, params=payload, headers=headers)\n",
    "    \n",
    "    if response.status_code == 200:\n",
    "        data = response.json()\n",
    "        news_list = []\n",
    "        \n",
    "        # 뉴스 아이템을 리스트에 추가 (HTML 형식으로)\n",
    "        for item in data['items']:\n",
    "            title = item['title']\n",
    "            pub_date = item['pubDate']\n",
    "            link = item['link']\n",
    "            \n",
    "            # HTML 형식으로 링크 포함한 뉴스 아이템\n",
    "            news_item = f\"<a href='{link}' target='_blank'>{title}</a><br>Published on: {pub_date}<br><br>\"\n",
    "            news_list.append(news_item)\n",
    "        \n",
    "        # 뉴스 리스트를 HTML로 결합해서 반환\n",
    "        news_summary = \"\\n\".join(news_list)\n",
    "        return news_summary\n",
    "    else:\n",
    "        return \"뉴스를 불러오는데 실패했습니다.\"\n",
    "\n",
    "# Google Generative AI에서 질문에 대한 답변을 생성하는 함수\n",
    "def generate_answer(prompt):\n",
    "    model = genai.GenerativeModel('gemini-1.5-flash')\n",
    "    response = model.generate_content(prompt)\n",
    "    return response.text\n",
    "\n",
    "# 뉴스 요약을 생성하는 함수\n",
    "def summarize_news(query):\n",
    "    news_summary = search_naver_news(query)\n",
    "    return news_summary\n",
    "\n",
    "# Gradio 인터페이스 생성\n",
    "with gr.Blocks() as app:\n",
    "    gr.Markdown(\"## 질문하고 뉴스 보기\")\n",
    "\n",
    "    question_input = gr.Textbox(label=\"Your Question\", placeholder=\"Ask any question\")\n",
    "    ai_result = gr.Textbox(label=\"AI Response\")\n",
    "    news_result = gr.HTML(label=\"Related News Articles\")\n",
    "    ask_button = gr.Button(\"Ask and Show News\")\n",
    "\n",
    "    # 질문과 관련된 답변을 생성하고 뉴스 기사를 보여주는 함수\n",
    "    def ask_and_show_news(user_question):\n",
    "        # AI가 질문에 대한 답변 생성\n",
    "        ai_answer = generate_answer(user_question)\n",
    "\n",
    "        # 질문을 기반으로 키워드를 사용해 관련 뉴스 검색 및 요약\n",
    "        news_summary = summarize_news(user_question)\n",
    "\n",
    "        return ai_answer, news_summary\n",
    "\n",
    "    # 버튼 클릭 시 AI 질문과 뉴스 검색을 동시에 수행\n",
    "    ask_button.click(fn=ask_and_show_news, inputs=question_input, outputs=[ai_result, news_result])\n",
    "\n",
    "# 앱 실행\n",
    "app.launch(inline=False, share=True)\n"
   ]
  },
  {
   "cell_type": "markdown",
   "id": "54cc286e",
   "metadata": {},
   "source": [
    "#### 질문 후 키워드 뉴스 뽑고 그 중 하나 선택해서 요약하기"
   ]
  },
  {
   "cell_type": "code",
   "execution_count": 47,
   "id": "0da415b2",
   "metadata": {
    "scrolled": true
   },
   "outputs": [
    {
     "name": "stdout",
     "output_type": "stream",
     "text": [
      "Running on local URL:  http://127.0.0.1:7879\n",
      "IMPORTANT: You are using gradio version 3.40.0, however version 4.29.0 is available, please upgrade.\n",
      "--------\n",
      "Running on public URL: https://c3ef9860703fc07456.gradio.live\n",
      "\n",
      "This share link expires in 72 hours. For free permanent hosting and GPU upgrades, run `gradio deploy` from Terminal to deploy to Spaces (https://huggingface.co/spaces)\n"
     ]
    },
    {
     "data": {
      "text/plain": []
     },
     "execution_count": 47,
     "metadata": {},
     "output_type": "execute_result"
    }
   ],
   "source": [
    "import os\n",
    "import requests\n",
    "import gradio as gr\n",
    "import google.generativeai as genai\n",
    "from dotenv import load_dotenv\n",
    "\n",
    "# .env 파일에서 네이버 API 및 Google API 정보 로드\n",
    "load_dotenv()\n",
    "\n",
    "# 네이버 API 정보\n",
    "client_id = os.getenv(\"client_id\")  # 네이버 API 클라이언트 ID\n",
    "client_secret = os.getenv(\"client_secret\")  # 네이버 API 클라이언트 시크릿\n",
    "\n",
    "# Google API 정보\n",
    "GOOGLE_API_KEY = os.getenv('GOOGLE_API_KEY')\n",
    "genai.configure(api_key=GOOGLE_API_KEY)\n",
    "\n",
    "# 전역 변수로 뉴스 링크 저장\n",
    "links_list = []\n",
    "\n",
    "# 네이버 뉴스 API에서 뉴스 검색을 수행하는 함수\n",
    "def search_naver_news(query):\n",
    "    global links_list  # 전역 변수로 설정하여 저장\n",
    "    url = \"https://openapi.naver.com/v1/search/news.json\"\n",
    "    payload = {'query': query, 'display': 10, 'start': 1, 'sort': 'date'}  # 10개의 뉴스 검색\n",
    "    headers = {\n",
    "        'X-Naver-Client-Id': client_id,\n",
    "        'X-Naver-Client-Secret': client_secret\n",
    "    }\n",
    "    \n",
    "    # API 요청\n",
    "    response = requests.get(url, params=payload, headers=headers)\n",
    "    \n",
    "    if response.status_code == 200:\n",
    "        data = response.json()\n",
    "        news_list = []\n",
    "        links_list = []  # 선택할 기사를 저장하는 리스트 초기화\n",
    "\n",
    "        # 뉴스 아이템을 리스트에 추가 (HTML 형식으로)\n",
    "        for item in data['items']:\n",
    "            title = item['title']\n",
    "            description = item['description']  # 기사 내용 가져오기\n",
    "            pub_date = item['pubDate']\n",
    "            link = item['link']\n",
    "            \n",
    "            # 뉴스 항목을 HTML 형식으로 변환하고, CSS 스타일 적용 (파란색 제목, border, padding)\n",
    "            news_item = f\"\"\"\n",
    "            <div style='border: 1px solid #ccc; padding: 10px; margin-bottom: 10px;'>\n",
    "                <a href='{link}' target='_blank' style='text-decoration: none; color: blue;'>\n",
    "                    <strong>{title}</strong>\n",
    "                </a><br>\n",
    "                <span>Published on: {pub_date}</span><br>\n",
    "                <a href='{link}' target='_blank' style='color: blue;'>Read more</a><br>\n",
    "            </div>\n",
    "            \"\"\"\n",
    "            news_list.append(news_item)\n",
    "            # 기사 내용과 링크를 저장\n",
    "            links_list.append((title, link, description))\n",
    "        \n",
    "        # 뉴스 리스트를 HTML로 결합해서 반환\n",
    "        news_summary = \"\\n\".join(news_list)\n",
    "        return news_summary, links_list\n",
    "    else:\n",
    "        return \"뉴스를 불러오는데 실패했습니다.\", []\n",
    "\n",
    "# Google Generative AI에서 질문에 대한 답변을 생성하는 함수\n",
    "def generate_answer(prompt):\n",
    "    model = genai.GenerativeModel('gemini-1.5-flash')\n",
    "    response = model.generate_content(prompt)\n",
    "    return response.text\n",
    "\n",
    "# 선택한 뉴스 기사의 요약을 제공하는 함수 (한국어 요약, 더 긴 요약 요청)\n",
    "def summarize_selected_article(description):\n",
    "    # 기사 내용을 한국어로 길게 요약 요청\n",
    "    prompt = f\"다음 기사를 3~4문단 정도로 자세히 한국어로 요약해 주세요:\\n\\n{description}\"\n",
    "    model = genai.GenerativeModel('gemini-1.5-flash')\n",
    "    response = model.generate_content(prompt)\n",
    "    return response.text\n",
    "\n",
    "# Gradio 인터페이스 생성\n",
    "with gr.Blocks() as app:\n",
    "    gr.Markdown(\"## 질문하고 뉴스 보기\")\n",
    "\n",
    "    # 질문 입력과 관련 뉴스 표시\n",
    "    question_input = gr.Textbox(label=\"질문\", placeholder=\"질문을 입력하세요.\")\n",
    "    ai_result = gr.Textbox(label=\"AI 답변\")\n",
    "    news_result = gr.HTML(label=\"Related News Articles\")\n",
    "    ask_button = gr.Button(\"질문하고 뉴스보기\")\n",
    "\n",
    "    # 선택한 뉴스 요약을 위한 텍스트박스\n",
    "    news_dropdown = gr.Dropdown(label=\"요약할 뉴스를 선택하세요\", choices=[])\n",
    "    article_summary = gr.Textbox(label=\"요약한 뉴스 내용\")\n",
    "    summarize_button = gr.Button(\"선택한 기사 요약보기\")\n",
    "\n",
    "    # CSS로 스크롤 가능한 영역 설정\n",
    "    def style_html(news_summary):\n",
    "        return f\"<div style='height: 300px; overflow-y: scroll;'>{news_summary}</div>\"\n",
    "\n",
    "    # 질문과 관련된 답변을 생성하고 뉴스 기사를 보여주는 함수\n",
    "    def ask_and_show_news(user_question):\n",
    "        # AI가 질문에 대한 답변 생성\n",
    "        ai_answer = generate_answer(user_question)\n",
    "\n",
    "        # 질문을 기반으로 키워드를 사용해 관련 뉴스 검색 및 요약\n",
    "        news_summary, links_list = search_naver_news(user_question)\n",
    "\n",
    "        # 뉴스 기사 선택 드롭다운을 위한 리스트 제공\n",
    "        if links_list:\n",
    "            news_choices = [title for title, link, description in links_list]\n",
    "            return ai_answer, style_html(news_summary), gr.update(choices=news_choices)\n",
    "        else:\n",
    "            return ai_answer, style_html(news_summary), gr.update(choices=[])\n",
    "\n",
    "    # 뉴스 요약 생성 함수\n",
    "    def summarize_article(selected_title):\n",
    "        # 선택된 기사의 링크와 설명 찾기\n",
    "        for title, link, description in links_list:\n",
    "            if title == selected_title:\n",
    "                # 해당 기사의 내용을 요약\n",
    "                return summarize_selected_article(description)\n",
    "        return \"기사를 요약할 수 없습니다.\"\n",
    "\n",
    "    # 버튼 클릭 시 AI 질문과 뉴스 검색을 동시에 수행\n",
    "    ask_button.click(fn=ask_and_show_news, inputs=question_input, outputs=[ai_result, news_result, news_dropdown])\n",
    "\n",
    "    # 선택한 뉴스를 요약하는 기능 추가\n",
    "    summarize_button.click(fn=summarize_article, inputs=news_dropdown, outputs=article_summary)\n",
    "\n",
    "# 앱 실행\n",
    "app.launch(inline=False, share=True)\n"
   ]
  },
  {
   "cell_type": "code",
   "execution_count": null,
   "id": "c80876db",
   "metadata": {},
   "outputs": [],
   "source": []
  },
  {
   "cell_type": "code",
   "execution_count": null,
   "id": "d1f0ef6e",
   "metadata": {},
   "outputs": [],
   "source": []
  },
  {
   "cell_type": "code",
   "execution_count": null,
   "id": "0c008420",
   "metadata": {},
   "outputs": [],
   "source": []
  },
  {
   "cell_type": "code",
   "execution_count": null,
   "id": "ea6f9aee",
   "metadata": {},
   "outputs": [],
   "source": []
  },
  {
   "cell_type": "code",
   "execution_count": null,
   "id": "845337c1",
   "metadata": {},
   "outputs": [],
   "source": []
  },
  {
   "cell_type": "code",
   "execution_count": null,
   "id": "abd45c65",
   "metadata": {},
   "outputs": [],
   "source": []
  },
  {
   "cell_type": "code",
   "execution_count": null,
   "id": "b2dc5268",
   "metadata": {},
   "outputs": [],
   "source": []
  },
  {
   "cell_type": "code",
   "execution_count": null,
   "id": "2bcc49fa",
   "metadata": {},
   "outputs": [],
   "source": []
  },
  {
   "cell_type": "code",
   "execution_count": null,
   "id": "e4c32dce",
   "metadata": {},
   "outputs": [],
   "source": []
  },
  {
   "cell_type": "code",
   "execution_count": null,
   "id": "f9add86d",
   "metadata": {},
   "outputs": [],
   "source": []
  },
  {
   "cell_type": "code",
   "execution_count": null,
   "id": "e212617f",
   "metadata": {},
   "outputs": [],
   "source": []
  },
  {
   "cell_type": "code",
   "execution_count": null,
   "id": "e713b9cf",
   "metadata": {},
   "outputs": [],
   "source": []
  },
  {
   "cell_type": "code",
   "execution_count": null,
   "id": "46a65ef4",
   "metadata": {},
   "outputs": [],
   "source": []
  },
  {
   "cell_type": "code",
   "execution_count": null,
   "id": "f3db15ce",
   "metadata": {},
   "outputs": [],
   "source": []
  },
  {
   "cell_type": "code",
   "execution_count": null,
   "id": "fd345328",
   "metadata": {},
   "outputs": [],
   "source": []
  },
  {
   "cell_type": "code",
   "execution_count": null,
   "id": "2f9dcead",
   "metadata": {},
   "outputs": [],
   "source": []
  },
  {
   "cell_type": "code",
   "execution_count": null,
   "id": "e6843b72",
   "metadata": {},
   "outputs": [],
   "source": []
  },
  {
   "cell_type": "code",
   "execution_count": null,
   "id": "ae73dea8",
   "metadata": {},
   "outputs": [],
   "source": []
  },
  {
   "cell_type": "code",
   "execution_count": null,
   "id": "13961f3d",
   "metadata": {},
   "outputs": [],
   "source": []
  },
  {
   "cell_type": "code",
   "execution_count": null,
   "id": "3bf6ffb1",
   "metadata": {},
   "outputs": [],
   "source": []
  },
  {
   "cell_type": "code",
   "execution_count": null,
   "id": "f32c0bb0",
   "metadata": {},
   "outputs": [],
   "source": []
  },
  {
   "cell_type": "code",
   "execution_count": null,
   "id": "0726bbcc",
   "metadata": {},
   "outputs": [],
   "source": []
  },
  {
   "cell_type": "code",
   "execution_count": null,
   "id": "62bb52bb",
   "metadata": {},
   "outputs": [],
   "source": []
  },
  {
   "cell_type": "code",
   "execution_count": null,
   "id": "70374d5e",
   "metadata": {},
   "outputs": [],
   "source": []
  },
  {
   "cell_type": "code",
   "execution_count": null,
   "id": "56d96d4a",
   "metadata": {},
   "outputs": [],
   "source": []
  },
  {
   "cell_type": "code",
   "execution_count": null,
   "id": "3526ecc8",
   "metadata": {},
   "outputs": [],
   "source": []
  },
  {
   "cell_type": "code",
   "execution_count": null,
   "id": "fc80bf60",
   "metadata": {},
   "outputs": [],
   "source": []
  },
  {
   "cell_type": "code",
   "execution_count": null,
   "id": "51dc581e",
   "metadata": {},
   "outputs": [],
   "source": []
  },
  {
   "cell_type": "code",
   "execution_count": null,
   "id": "e2774e02",
   "metadata": {},
   "outputs": [],
   "source": []
  },
  {
   "cell_type": "code",
   "execution_count": null,
   "id": "abb62ccd",
   "metadata": {},
   "outputs": [],
   "source": []
  },
  {
   "cell_type": "code",
   "execution_count": null,
   "id": "43de2b3b",
   "metadata": {},
   "outputs": [],
   "source": []
  },
  {
   "cell_type": "code",
   "execution_count": null,
   "id": "9cbae50e",
   "metadata": {},
   "outputs": [],
   "source": []
  },
  {
   "cell_type": "code",
   "execution_count": null,
   "id": "9c1dca30",
   "metadata": {},
   "outputs": [],
   "source": []
  },
  {
   "cell_type": "code",
   "execution_count": null,
   "id": "e1cfe0a1",
   "metadata": {},
   "outputs": [],
   "source": []
  },
  {
   "cell_type": "code",
   "execution_count": null,
   "id": "cb693ee9",
   "metadata": {},
   "outputs": [],
   "source": []
  },
  {
   "cell_type": "code",
   "execution_count": null,
   "id": "9c36318f",
   "metadata": {},
   "outputs": [],
   "source": []
  },
  {
   "cell_type": "code",
   "execution_count": null,
   "id": "400cc086",
   "metadata": {},
   "outputs": [],
   "source": []
  },
  {
   "cell_type": "code",
   "execution_count": null,
   "id": "b48c2665",
   "metadata": {},
   "outputs": [],
   "source": []
  },
  {
   "cell_type": "code",
   "execution_count": null,
   "id": "a6414478",
   "metadata": {},
   "outputs": [],
   "source": []
  },
  {
   "cell_type": "code",
   "execution_count": null,
   "id": "b49669f2",
   "metadata": {},
   "outputs": [],
   "source": []
  },
  {
   "cell_type": "code",
   "execution_count": null,
   "id": "d7afd0b7",
   "metadata": {},
   "outputs": [],
   "source": []
  },
  {
   "cell_type": "code",
   "execution_count": null,
   "id": "12b59496",
   "metadata": {},
   "outputs": [],
   "source": []
  },
  {
   "cell_type": "code",
   "execution_count": null,
   "id": "74ae8b6d",
   "metadata": {},
   "outputs": [],
   "source": []
  },
  {
   "cell_type": "code",
   "execution_count": null,
   "id": "f4d113ef",
   "metadata": {},
   "outputs": [],
   "source": []
  },
  {
   "cell_type": "code",
   "execution_count": null,
   "id": "38e04b39",
   "metadata": {},
   "outputs": [],
   "source": []
  },
  {
   "cell_type": "code",
   "execution_count": null,
   "id": "0deaf969",
   "metadata": {},
   "outputs": [],
   "source": []
  },
  {
   "cell_type": "code",
   "execution_count": null,
   "id": "6ff11597",
   "metadata": {},
   "outputs": [],
   "source": []
  }
 ],
 "metadata": {
  "kernelspec": {
   "display_name": "Python 3 (ipykernel)",
   "language": "python",
   "name": "python3"
  },
  "language_info": {
   "codemirror_mode": {
    "name": "ipython",
    "version": 3
   },
   "file_extension": ".py",
   "mimetype": "text/x-python",
   "name": "python",
   "nbconvert_exporter": "python",
   "pygments_lexer": "ipython3",
   "version": "3.11.10"
  }
 },
 "nbformat": 4,
 "nbformat_minor": 5
}
