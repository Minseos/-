{
 "cells": [
  {
   "cell_type": "markdown",
   "id": "4702258d-9315-4cb3-bdf5-d5bcdc2c305e",
   "metadata": {},
   "source": [
    "### 문자열 사용하기, 문자열 함수"
   ]
  },
  {
   "cell_type": "markdown",
   "id": "6e732141-6518-41d5-bf9e-664326c5cfcb",
   "metadata": {},
   "source": [
    "\"따옴표 안에 문자를 넣어서 문자열을 만든다. <br>\n",
    "'도 가능"
   ]
  },
  {
   "cell_type": "code",
   "execution_count": 1,
   "id": "08cd8ea7-3e7e-45b1-814c-016502de2ea5",
   "metadata": {},
   "outputs": [
    {
     "data": {
      "text/plain": [
       "'hello world'"
      ]
     },
     "execution_count": 1,
     "metadata": {},
     "output_type": "execute_result"
    }
   ],
   "source": [
    "hello = 'hello world'\n",
    "hello"
   ]
  },
  {
   "cell_type": "code",
   "execution_count": 2,
   "id": "80162c01-a860-4b85-98a5-d7c01d88cd40",
   "metadata": {},
   "outputs": [
    {
     "data": {
      "text/plain": [
       "'hello world'"
      ]
     },
     "execution_count": 2,
     "metadata": {},
     "output_type": "execute_result"
    }
   ],
   "source": [
    "hello = \"hello world\"\n",
    "hello"
   ]
  },
  {
   "cell_type": "code",
   "execution_count": 3,
   "id": "86ae7b22-8ec5-42b7-8ace-267290ef0c39",
   "metadata": {},
   "outputs": [
    {
     "data": {
      "text/plain": [
       "\"hello 'world'\""
      ]
     },
     "execution_count": 3,
     "metadata": {},
     "output_type": "execute_result"
    }
   ],
   "source": [
    "hello = \"hello 'world'\"\n",
    "hello"
   ]
  },
  {
   "cell_type": "code",
   "execution_count": 4,
   "id": "70d01009-6698-4868-a49f-1ce214475c14",
   "metadata": {},
   "outputs": [
    {
     "data": {
      "text/plain": [
       "'\"hello\" world'"
      ]
     },
     "execution_count": 4,
     "metadata": {},
     "output_type": "execute_result"
    }
   ],
   "source": [
    "hello = '\"hello\" world'\n",
    "hello"
   ]
  },
  {
   "cell_type": "markdown",
   "id": "d5e2ccd4-fa01-4f5b-9ba6-13282853e9a9",
   "metadata": {},
   "source": [
    "여러 줄로 된 문자열 사용하기 <br>\n",
    "'''내용''' <br>\n",
    "\"\"\"내용\"\"\""
   ]
  },
  {
   "cell_type": "code",
   "execution_count": 7,
   "id": "1fd63871-999f-4255-8003-b88ed38644f3",
   "metadata": {},
   "outputs": [
    {
     "name": "stdout",
     "output_type": "stream",
     "text": [
      "\n",
      "안녕하세요.\n",
      "python 수업입니다.\n",
      "\n"
     ]
    },
    {
     "data": {
      "text/plain": [
       "'\\n안녕하세요.\\npython 수업입니다.\\n'"
      ]
     },
     "execution_count": 7,
     "metadata": {},
     "output_type": "execute_result"
    }
   ],
   "source": [
    "hello5 = '''\n",
    "안녕하세요.\n",
    "python 수업입니다.\n",
    "'''\n",
    "print(hello5)\n",
    "hello5"
   ]
  },
  {
   "cell_type": "code",
   "execution_count": 8,
   "id": "0568d4a2-bbac-49e0-84a6-c864a5c9198f",
   "metadata": {},
   "outputs": [
    {
     "name": "stdout",
     "output_type": "stream",
     "text": [
      "\n",
      "'안녕하세요.'\n",
      "python 수업입니다.\n",
      "\n"
     ]
    },
    {
     "data": {
      "text/plain": [
       "\"\\n'안녕하세요.'\\npython 수업입니다.\\n\""
      ]
     },
     "execution_count": 8,
     "metadata": {},
     "output_type": "execute_result"
    }
   ],
   "source": [
    "hello6 = \"\"\"\n",
    "'안녕하세요.'\n",
    "python 수업입니다.\n",
    "\"\"\"\n",
    "print(hello6)\n",
    "hello6"
   ]
  },
  {
   "cell_type": "markdown",
   "id": "5c14ba6f-42e9-4ca2-8fd4-062c8b97c0e2",
   "metadata": {},
   "source": [
    "문자열에서 이스케이프 문자(\\n, \\t, \\r) <br>\n",
    "\\n : 줄바꿈 new line <br>\n",
    "\\t : 탭 tap 4 ~ 8 칸 공백 <br>\n",
    "\\r : 캐리지리턴 현재 줄의 제일 왼쪽 끝으로 커서 이동"
   ]
  },
  {
   "cell_type": "code",
   "execution_count": 12,
   "id": "48fc74d8-e147-4d8b-ac1a-7c9736d54c1e",
   "metadata": {},
   "outputs": [
    {
     "name": "stdout",
     "output_type": "stream",
     "text": [
      "파이썬에서 줄바꿈은  \\n으로 합니다. \n",
      "\n",
      "\n",
      "3줄 줄바꿈 끝\n"
     ]
    }
   ],
   "source": [
    "h1 = \"파이썬에서 줄바꿈은  \\\\n으로 합니다. \\n\\n\\n3줄 줄바꿈 끝\"\n",
    "print(h1)"
   ]
  },
  {
   "cell_type": "code",
   "execution_count": 13,
   "id": "c31dfa8f-f4d3-4483-870a-755204666a30",
   "metadata": {},
   "outputs": [
    {
     "name": "stdout",
     "output_type": "stream",
     "text": [
      "탭으로 공간을 띄우는 것은 \t \\t로 합니다.\n"
     ]
    }
   ],
   "source": [
    "h2 = \"탭으로 공간을 띄우는 것은 \\t \\\\t로 합니다.\"\n",
    "print(h2)"
   ]
  },
  {
   "cell_type": "code",
   "execution_count": 15,
   "id": "2e8e0910-82fb-48e8-99fc-7731385d260a",
   "metadata": {},
   "outputs": [
    {
     "name": "stdout",
     "output_type": "stream",
     "text": [
      "캐리지 리턴은 \\r입니다. \n",
      "글자가 겹쳐져서 지워졌습니다. 이동하기 때문에\n"
     ]
    }
   ],
   "source": [
    "h3 = \"캐리지 리턴은 \\\\r입니다. \\n커서가 같은 줄 가장 앞으로 이동하기 때문에 \\r글자가 겹쳐져서 지워졌습니다. 이동하기 때문에\"\n",
    "print(h3)"
   ]
  },
  {
   "cell_type": "markdown",
   "id": "9954f175-4730-4e74-afa3-873f01d7d802",
   "metadata": {},
   "source": [
    "### 인덱스와 문자열\n",
    "* 문자 : 글자 1개\n",
    "* 문자열 : 글자가 여러 개, 순서가 있는 자료, 번호, 인덱스"
   ]
  },
  {
   "cell_type": "code",
   "execution_count": 16,
   "id": "fcd88754-0a9f-43a9-af0f-f28562ec1f99",
   "metadata": {},
   "outputs": [
    {
     "name": "stdout",
     "output_type": "stream",
     "text": [
      "문자열은 왼쪽부터 번호를 매길 수 있으며 시작은 0번부터 입니다.\n"
     ]
    }
   ],
   "source": [
    "h4 = \"문자열은 왼쪽부터 번호를 매길 수 있으며 시작은 0번부터 입니다.\"\n",
    "print(h4)"
   ]
  },
  {
   "cell_type": "code",
   "execution_count": 18,
   "id": "f5644ea1-b916-4546-8594-d45724879c97",
   "metadata": {},
   "outputs": [
    {
     "data": {
      "text/plain": [
       "'열'"
      ]
     },
     "execution_count": 18,
     "metadata": {},
     "output_type": "execute_result"
    }
   ],
   "source": [
    "h4[2] #인덱싱을해서 가져올 수 있음)"
   ]
  },
  {
   "cell_type": "code",
   "execution_count": 19,
   "id": "5ad5bece-5f7c-4bcd-b7ed-787cfc4cb96b",
   "metadata": {},
   "outputs": [
    {
     "data": {
      "text/plain": [
       "'문자열은 '"
      ]
     },
     "execution_count": 19,
     "metadata": {},
     "output_type": "execute_result"
    }
   ],
   "source": [
    "h4[0:5]"
   ]
  },
  {
   "cell_type": "code",
   "execution_count": 20,
   "id": "224a9fd6-6eec-4dcb-959b-4c4bca85d3b9",
   "metadata": {},
   "outputs": [
    {
     "data": {
      "text/plain": [
       "'.'"
      ]
     },
     "execution_count": 20,
     "metadata": {},
     "output_type": "execute_result"
    }
   ],
   "source": [
    "h4[-1]"
   ]
  },
  {
   "cell_type": "code",
   "execution_count": 21,
   "id": "4e905870-00bb-42f1-bdf1-afb4b916b00d",
   "metadata": {},
   "outputs": [
    {
     "data": {
      "text/plain": [
       "' 입니다.'"
      ]
     },
     "execution_count": 21,
     "metadata": {},
     "output_type": "execute_result"
    }
   ],
   "source": [
    "h4[-5:]"
   ]
  },
  {
   "cell_type": "code",
   "execution_count": 23,
   "id": "340543a8-38c0-4bcc-8d99-bc8665de9885",
   "metadata": {},
   "outputs": [
    {
     "data": {
      "text/plain": [
       "'문자열은 '"
      ]
     },
     "execution_count": 23,
     "metadata": {},
     "output_type": "execute_result"
    }
   ],
   "source": [
    "h4[:5] # 0번부터 4번까지"
   ]
  },
  {
   "cell_type": "code",
   "execution_count": 24,
   "id": "04c4dc81-d3f5-4382-ab71-6a2cdae09394",
   "metadata": {},
   "outputs": [
    {
     "data": {
      "text/plain": [
       "'부터 번호를 매길 수 있으며 시작은 0번부터 입니다.'"
      ]
     },
     "execution_count": 24,
     "metadata": {},
     "output_type": "execute_result"
    }
   ],
   "source": [
    "h4[7:] # 7번부터끝까지"
   ]
  },
  {
   "cell_type": "code",
   "execution_count": 25,
   "id": "cbd673ea-2757-45cf-9343-d1f13a8f51e3",
   "metadata": {},
   "outputs": [
    {
     "data": {
      "text/plain": [
       "'자은왼부 '"
      ]
     },
     "execution_count": 25,
     "metadata": {},
     "output_type": "execute_result"
    }
   ],
   "source": [
    "h4[1:11:2]"
   ]
  },
  {
   "cell_type": "code",
   "execution_count": 27,
   "id": "1006843c-764d-42c5-b9d6-b79ce20c8f53",
   "metadata": {},
   "outputs": [
    {
     "data": {
      "text/plain": [
       "'.다니입 터부번0 은작시 며으있 수 길매 를호번 터부쪽왼 은열자문'"
      ]
     },
     "execution_count": 27,
     "metadata": {},
     "output_type": "execute_result"
    }
   ],
   "source": [
    "h4[::-1] # 전체를 역순으로 "
   ]
  },
  {
   "cell_type": "markdown",
   "id": "565c2090-0d46-4c11-8e60-8d592f72f971",
   "metadata": {},
   "source": [
    "### 문자열 함수\n",
    "* .replace()\n",
    "* .split()\n",
    "* .join()\n",
    "* .strip()"
   ]
  },
  {
   "cell_type": "markdown",
   "id": "ad7a855f-ad03-4b91-b32e-2d441e1584a1",
   "metadata": {},
   "source": [
    "1. 문자열 바꾸기 replace(찾을 값, 바꿀 값)\n",
    "* replace 함수는 사용 후 결과를 재할당 해야됨"
   ]
  },
  {
   "cell_type": "code",
   "execution_count": 28,
   "id": "49a5cc09-3562-4fa9-b91b-f8bc6a45de45",
   "metadata": {},
   "outputs": [
    {
     "data": {
      "text/plain": [
       "'Hello, Python'"
      ]
     },
     "execution_count": 28,
     "metadata": {},
     "output_type": "execute_result"
    }
   ],
   "source": [
    "h5 = \"Hello, Python\"\n",
    "h5"
   ]
  },
  {
   "cell_type": "code",
   "execution_count": 30,
   "id": "92e02a38-d1fe-404f-87b2-9550bc67ef52",
   "metadata": {},
   "outputs": [
    {
     "data": {
      "text/plain": [
       "'Hello, World'"
      ]
     },
     "execution_count": 30,
     "metadata": {},
     "output_type": "execute_result"
    }
   ],
   "source": [
    "h5.replace(\"Python\", \"World\")"
   ]
  },
  {
   "cell_type": "code",
   "execution_count": 33,
   "id": "3bc4d586-8580-4b11-af17-42a41e6ff9e9",
   "metadata": {},
   "outputs": [
    {
     "data": {
      "text/plain": [
       "'Hello, World'"
      ]
     },
     "execution_count": 33,
     "metadata": {},
     "output_type": "execute_result"
    }
   ],
   "source": [
    "h5 = h5.replace(\"Python\", \"World\")\n",
    "h5"
   ]
  },
  {
   "cell_type": "markdown",
   "id": "974d9978-8a83-457e-aa68-2df85a57be93",
   "metadata": {},
   "source": [
    "* str maketrans('찾을문자', '바꿀문자', '추가로 없앨문자')로 변환테이블 생성\n",
    "* translate로 문자를 찾아서 바꿈"
   ]
  },
  {
   "cell_type": "code",
   "execution_count": 34,
   "id": "0121b324-693c-4886-aa5b-dc99fe4f5cfe",
   "metadata": {},
   "outputs": [],
   "source": [
    "table = str.maketrans('abcdefg', '1234567')"
   ]
  },
  {
   "cell_type": "code",
   "execution_count": 35,
   "id": "b404f8a8-db89-48b4-a7fb-a55edfa97c34",
   "metadata": {},
   "outputs": [
    {
     "data": {
      "text/plain": [
       "'H5llo, Worl4'"
      ]
     },
     "execution_count": 35,
     "metadata": {},
     "output_type": "execute_result"
    }
   ],
   "source": [
    "h5.translate(table)"
   ]
  },
  {
   "cell_type": "code",
   "execution_count": 36,
   "id": "908bad13-780b-4d5b-a160-596f494f64d8",
   "metadata": {},
   "outputs": [],
   "source": [
    "table = str.maketrans('abcdefg', '1234567', 'lor')"
   ]
  },
  {
   "cell_type": "code",
   "execution_count": 37,
   "id": "88a09847-3a87-48c7-a69e-02ab31c63517",
   "metadata": {},
   "outputs": [
    {
     "data": {
      "text/plain": [
       "'H5, W4'"
      ]
     },
     "execution_count": 37,
     "metadata": {},
     "output_type": "execute_result"
    }
   ],
   "source": [
    "h5.translate(table)"
   ]
  },
  {
   "cell_type": "code",
   "execution_count": 39,
   "id": "49a8cb94-c007-4800-9620-5245a19c1a1b",
   "metadata": {},
   "outputs": [
    {
     "data": {
      "text/plain": [
       "'He, Wd'"
      ]
     },
     "execution_count": 39,
     "metadata": {},
     "output_type": "execute_result"
    }
   ],
   "source": [
    "h5.translate(str.maketrans('','','lor'))"
   ]
  },
  {
   "cell_type": "code",
   "execution_count": 40,
   "id": "faec11da-202c-4b08-b5c2-58a4a85ec932",
   "metadata": {},
   "outputs": [
    {
     "data": {
      "text/plain": [
       "'문자열은 왼쪽부터 번호를 매길 수 있으며 시작은 0번부터 입니다.'"
      ]
     },
     "execution_count": 40,
     "metadata": {},
     "output_type": "execute_result"
    }
   ],
   "source": [
    "h4"
   ]
  },
  {
   "cell_type": "code",
   "execution_count": 41,
   "id": "0a438b1c-6ad0-48ae-9635-da47d1674a92",
   "metadata": {},
   "outputs": [
    {
     "data": {
      "text/plain": [
       "'문자열은 왼쪽부터 번호를 매길 수 있으며 시작은 번부터 입니다'"
      ]
     },
     "execution_count": 41,
     "metadata": {},
     "output_type": "execute_result"
    }
   ],
   "source": [
    "h4.translate(str.maketrans('','','0.'))"
   ]
  },
  {
   "cell_type": "markdown",
   "id": "8fd2741d-a79c-4577-853e-1e41164b74f5",
   "metadata": {},
   "source": [
    "2) 문자열 분리하기 .split()\n",
    "* 기본이 공백을 기준으로 문자열을 분리해 ***리스트***로 만들어 줌\n",
    "* 괄호 안에 분리 기준으로 지정해서 "
   ]
  },
  {
   "cell_type": "code",
   "execution_count": 42,
   "id": "35936c22-dd94-431e-a410-8ed77a5ca928",
   "metadata": {},
   "outputs": [
    {
     "data": {
      "text/plain": [
       "'문자열은 왼쪽부터 번호를 매길 수 있으며 시작은 0번부터 입니다.'"
      ]
     },
     "execution_count": 42,
     "metadata": {},
     "output_type": "execute_result"
    }
   ],
   "source": [
    "h4"
   ]
  },
  {
   "cell_type": "code",
   "execution_count": 44,
   "id": "be6edea0-ba3c-4072-8d1f-6eb2b42ffb68",
   "metadata": {},
   "outputs": [],
   "source": [
    "h4_1 = h4.split()"
   ]
  },
  {
   "cell_type": "code",
   "execution_count": 46,
   "id": "bb3976e1-b6e9-494a-9b15-c1b5e032caff",
   "metadata": {},
   "outputs": [
    {
     "data": {
      "text/plain": [
       "['문자열은', '왼쪽부터', '번호를', '매길', '수', '있으며', '시작은', '0번부터', '입니다.']"
      ]
     },
     "execution_count": 46,
     "metadata": {},
     "output_type": "execute_result"
    }
   ],
   "source": [
    "h4_1"
   ]
  },
  {
   "cell_type": "code",
   "execution_count": 48,
   "id": "ecdb58d6-3457-4a91-8012-19c9d5ffbbca",
   "metadata": {},
   "outputs": [
    {
     "name": "stdout",
     "output_type": "stream",
     "text": [
      "<class 'list'>\n"
     ]
    }
   ],
   "source": [
    "print(type(h4_1))"
   ]
  },
  {
   "cell_type": "code",
   "execution_count": 49,
   "id": "2277b82d-d5dc-4c9f-8a5d-60fabb983bfe",
   "metadata": {},
   "outputs": [
    {
     "data": {
      "text/plain": [
       "['문자열은', '왼쪽부터', '번호를', '매길', '수', '있으며', '시작은', '0번부터', '입니다.']"
      ]
     },
     "execution_count": 49,
     "metadata": {},
     "output_type": "execute_result"
    }
   ],
   "source": [
    "h4.split()"
   ]
  },
  {
   "cell_type": "code",
   "execution_count": 51,
   "id": "108ea933-a168-427b-9d7b-6491c3addb0c",
   "metadata": {},
   "outputs": [
    {
     "name": "stdout",
     "output_type": "stream",
     "text": [
      "\"문자열은\", \"왼쪽부터\", \"번호를\", \"매길\", \"수\", \"있으며\", \"시작은\", \"0번부터\", \"입니다\"\n"
     ]
    },
    {
     "data": {
      "text/plain": [
       "str"
      ]
     },
     "execution_count": 51,
     "metadata": {},
     "output_type": "execute_result"
    }
   ],
   "source": [
    "h6 = '\"문자열은\", \"왼쪽부터\", \"번호를\", \"매길\", \"수\", \"있으며\", \"시작은\", \"0번부터\", \"입니다\"'\n",
    "print(h6)\n",
    "type(h6)"
   ]
  },
  {
   "cell_type": "code",
   "execution_count": 56,
   "id": "10c8671c-5cb8-4ecf-9d1f-8ea940d85517",
   "metadata": {},
   "outputs": [
    {
     "data": {
      "text/plain": [
       "['\"문자열은\"',\n",
       " '\"왼쪽부터\"',\n",
       " '\"번호를\"',\n",
       " '\"매길\"',\n",
       " '\"수\"',\n",
       " '\"있으며\"',\n",
       " '\"시작은\"',\n",
       " '\"0번부터\"',\n",
       " '\"입니다\"']"
      ]
     },
     "execution_count": 56,
     "metadata": {},
     "output_type": "execute_result"
    }
   ],
   "source": [
    "h6.split(\", \")"
   ]
  },
  {
   "cell_type": "code",
   "execution_count": 58,
   "id": "a76dff97-427d-4ffd-9bd3-fde366afd64a",
   "metadata": {},
   "outputs": [],
   "source": [
    "h7 = \"사과, 배, 포도, 파인애플, 망고, 오렌지\""
   ]
  },
  {
   "cell_type": "code",
   "execution_count": 62,
   "id": "0391858e-f352-4618-a6b5-bd60df01d12a",
   "metadata": {},
   "outputs": [
    {
     "data": {
      "text/plain": [
       "['사과', '배', '포도', '파인애플', '망고', '오렌지']"
      ]
     },
     "execution_count": 62,
     "metadata": {},
     "output_type": "execute_result"
    }
   ],
   "source": [
    "# h7를 split을 이용해 list로 변환\n",
    "h7_1 = h7.split(\", \")\n",
    "h7_1"
   ]
  },
  {
   "cell_type": "markdown",
   "id": "0260c1bb-e341-4f41-98ad-397d87f17b0b",
   "metadata": {},
   "source": [
    "3. 리스트를 1개의 문자열로 합치기<br>\n",
    "    합칠 기준 .join(list)"
   ]
  },
  {
   "cell_type": "code",
   "execution_count": 65,
   "id": "54806f94-bcb0-4607-b1d8-8146eb75391b",
   "metadata": {},
   "outputs": [
    {
     "data": {
      "text/plain": [
       "'사과,배,포도,파인애플,망고,오렌지'"
      ]
     },
     "execution_count": 65,
     "metadata": {},
     "output_type": "execute_result"
    }
   ],
   "source": [
    "h7 = \",\".join(h7_1)\n",
    "h7"
   ]
  },
  {
   "cell_type": "code",
   "execution_count": 66,
   "id": "5d11ad70-fbfb-4606-a148-2820f0aebcda",
   "metadata": {},
   "outputs": [
    {
     "data": {
      "text/plain": [
       "'사과, 배, 포도, 파인애플, 망고, 오렌지'"
      ]
     },
     "execution_count": 66,
     "metadata": {},
     "output_type": "execute_result"
    }
   ],
   "source": [
    "h8 = \", \".join(h7_1)\n",
    "h8"
   ]
  },
  {
   "cell_type": "code",
   "execution_count": 67,
   "id": "096c50bf-0e4c-42d0-a435-0a9347260189",
   "metadata": {},
   "outputs": [
    {
     "data": {
      "text/plain": [
       "'사과 vs 배 vs 포도 vs 파인애플 vs 망고 vs 오렌지'"
      ]
     },
     "execution_count": 67,
     "metadata": {},
     "output_type": "execute_result"
    }
   ],
   "source": [
    "h8 = \" vs \".join(h7_1)\n",
    "h8"
   ]
  },
  {
   "cell_type": "code",
   "execution_count": 70,
   "id": "7fd77cf1-ffa4-4e75-a071-d747da56f890",
   "metadata": {},
   "outputs": [],
   "source": [
    "h9 = [\"iron man\", \"spider-man\", \"black widow\", \"hulk\"]"
   ]
  },
  {
   "cell_type": "code",
   "execution_count": 72,
   "id": "a66f2644-4203-4b08-a808-e1a6623f9956",
   "metadata": {},
   "outputs": [
    {
     "data": {
      "text/plain": [
       "'iron man vs spider-man vs black widow vs hulk'"
      ]
     },
     "execution_count": 72,
     "metadata": {},
     "output_type": "execute_result"
    }
   ],
   "source": [
    "h9_1 = \" vs \".join(h9)\n",
    "h9_1"
   ]
  },
  {
   "cell_type": "markdown",
   "id": "b776a36f-55c8-4557-9f63-345e06dd1b9f",
   "metadata": {},
   "source": [
    "4. 소문자를 대문자로, 대문자를 소문자로 바꾸는 함수\n",
    "** .upper(), .lower()"
   ]
  },
  {
   "cell_type": "code",
   "execution_count": 73,
   "id": "3b26e348-c62a-4e84-a0be-87dc0984a631",
   "metadata": {},
   "outputs": [
    {
     "data": {
      "text/plain": [
       "'IRON MAN VS SPIDER-MAN VS BLACK WIDOW VS HULK'"
      ]
     },
     "execution_count": 73,
     "metadata": {},
     "output_type": "execute_result"
    }
   ],
   "source": [
    "h10 = h9_1.upper()\n",
    "h10"
   ]
  },
  {
   "cell_type": "code",
   "execution_count": 75,
   "id": "07e9ad2b-0dad-45d6-b114-f27898a763b9",
   "metadata": {},
   "outputs": [
    {
     "data": {
      "text/plain": [
       "'iron man vs spider-man vs black widow vs hulk'"
      ]
     },
     "execution_count": 75,
     "metadata": {},
     "output_type": "execute_result"
    }
   ],
   "source": [
    "h10_1 = h10.lower()\n",
    "h10_1"
   ]
  },
  {
   "cell_type": "markdown",
   "id": "9cd37269-be4c-4213-a72d-eb4a39f9fb04",
   "metadata": {},
   "source": [
    "5. 왼쪽, 오른쪽, 양쪽 공백 / 특정 문자 삭제하기\n",
    "* .lstrip() : 왼쪽\n",
    "* .rstrip() : 오른쪽\n",
    "* .strip() : 양쪽"
   ]
  },
  {
   "cell_type": "code",
   "execution_count": 85,
   "id": "fcd86e18-3102-4399-acc9-4e1f42662252",
   "metadata": {},
   "outputs": [
    {
     "data": {
      "text/plain": [
       "'    공백이 있는 문자열    '"
      ]
     },
     "execution_count": 85,
     "metadata": {},
     "output_type": "execute_result"
    }
   ],
   "source": [
    "h11 = \"    공백이 있는 문자열    \"\n",
    "h11"
   ]
  },
  {
   "cell_type": "code",
   "execution_count": 86,
   "id": "27162648-794c-40db-b757-3d392a55e016",
   "metadata": {},
   "outputs": [
    {
     "data": {
      "text/plain": [
       "'공백이 있는 문자열    '"
      ]
     },
     "execution_count": 86,
     "metadata": {},
     "output_type": "execute_result"
    }
   ],
   "source": [
    "h11.lstrip()"
   ]
  },
  {
   "cell_type": "code",
   "execution_count": 87,
   "id": "949264ad-4d94-42e0-aef2-ae0d894497ad",
   "metadata": {},
   "outputs": [
    {
     "data": {
      "text/plain": [
       "'    공백이 있는 문자열    '"
      ]
     },
     "execution_count": 87,
     "metadata": {},
     "output_type": "execute_result"
    }
   ],
   "source": [
    "h11"
   ]
  },
  {
   "cell_type": "code",
   "execution_count": 89,
   "id": "760baaf5-c433-45c0-a512-daab2e829e07",
   "metadata": {},
   "outputs": [
    {
     "data": {
      "text/plain": [
       "'    공백이 있는 문자열'"
      ]
     },
     "execution_count": 89,
     "metadata": {},
     "output_type": "execute_result"
    }
   ],
   "source": [
    "h11.rstrip()"
   ]
  },
  {
   "cell_type": "code",
   "execution_count": 91,
   "id": "749d0a05-5756-4418-aef5-e80942a45d87",
   "metadata": {},
   "outputs": [
    {
     "data": {
      "text/plain": [
       "'공백이 있는 문자열'"
      ]
     },
     "execution_count": 91,
     "metadata": {},
     "output_type": "execute_result"
    }
   ],
   "source": [
    "h11.strip()"
   ]
  },
  {
   "cell_type": "code",
   "execution_count": 92,
   "id": "8f15aa7c-33cd-449b-914b-37b60da5bc4f",
   "metadata": {},
   "outputs": [
    {
     "data": {
      "text/plain": [
       "' ... , 공백과 특수문자가 같이 있는 문자열 !! ^^ ....   '"
      ]
     },
     "execution_count": 92,
     "metadata": {},
     "output_type": "execute_result"
    }
   ],
   "source": [
    "h12 = \" ... , 공백과 특수문자가 같이 있는 문자열 !! ^^ ....   \"\n",
    "h12"
   ]
  },
  {
   "cell_type": "code",
   "execution_count": 93,
   "id": "c26cfc1e-d3fb-42bd-bb51-fd1f3798ea04",
   "metadata": {},
   "outputs": [
    {
     "data": {
      "text/plain": [
       "'... , 공백과 특수문자가 같이 있는 문자열 !! ^^ ....'"
      ]
     },
     "execution_count": 93,
     "metadata": {},
     "output_type": "execute_result"
    }
   ],
   "source": [
    "h12.strip()"
   ]
  },
  {
   "cell_type": "code",
   "execution_count": 94,
   "id": "3cfe33f5-d9a5-4a56-8b1a-536ac3b713a3",
   "metadata": {},
   "outputs": [
    {
     "data": {
      "text/plain": [
       "'... , 공백과 특수문자가 같이 있는 문자열 !! ^^ ....   '"
      ]
     },
     "execution_count": 94,
     "metadata": {},
     "output_type": "execute_result"
    }
   ],
   "source": [
    "h12.lstrip()"
   ]
  },
  {
   "cell_type": "code",
   "execution_count": 95,
   "id": "b53c8291-69a6-47a2-9614-fd8013d17e2d",
   "metadata": {},
   "outputs": [
    {
     "data": {
      "text/plain": [
       "' ... , 공백과 특수문자가 같이 있는 문자열 !! ^^ ....'"
      ]
     },
     "execution_count": 95,
     "metadata": {},
     "output_type": "execute_result"
    }
   ],
   "source": [
    "h12.rstrip()"
   ]
  },
  {
   "cell_type": "code",
   "execution_count": 102,
   "id": "6f0acce0-6a6a-4226-bf25-0369c12dcba5",
   "metadata": {},
   "outputs": [
    {
     "data": {
      "text/plain": [
       "'공백과 특수문자가 같이 있는 문자열'"
      ]
     },
     "execution_count": 102,
     "metadata": {},
     "output_type": "execute_result"
    }
   ],
   "source": [
    "h12.strip(\" .,!^\") "
   ]
  },
  {
   "cell_type": "code",
   "execution_count": 101,
   "id": "06420804-e18e-419d-9a0e-3a725f5e44bd",
   "metadata": {},
   "outputs": [
    {
     "data": {
      "text/plain": [
       "'공백과 특수문자가 같이 있는 문자열 !! ^^ ....   '"
      ]
     },
     "execution_count": 101,
     "metadata": {},
     "output_type": "execute_result"
    }
   ],
   "source": [
    "h12.lstrip(\"., \") # . , 없애기 뒤에 한 칸 공백임"
   ]
  },
  {
   "cell_type": "code",
   "execution_count": 100,
   "id": "13a3197d-2e07-4751-9871-543d46ca4a41",
   "metadata": {},
   "outputs": [
    {
     "data": {
      "text/plain": [
       "' ... , 공백과 특수문자가 같이 있는 문자열'"
      ]
     },
     "execution_count": 100,
     "metadata": {},
     "output_type": "execute_result"
    }
   ],
   "source": [
    "h12.rstrip(\" .^!\")"
   ]
  },
  {
   "cell_type": "code",
   "execution_count": 103,
   "id": "29b093db-b6f4-4990-9ff6-9368241fef18",
   "metadata": {},
   "outputs": [
    {
     "name": "stdout",
     "output_type": "stream",
     "text": [
      " ... , 공백과 특수    문자\n",
      "^^가 같이 있는 \t문자열 !! ^^ ....   \n"
     ]
    }
   ],
   "source": [
    "h13 = \" ... , 공백과 특수    문자\\n^^가 같이 있는 \\t문자열 !! ^^ ....   \"\n",
    "print(h13)"
   ]
  },
  {
   "cell_type": "markdown",
   "id": "459bd0ec-745a-4860-b9de-70f3cbb129ce",
   "metadata": {},
   "source": [
    "6. 메서드 체이닝(method(함수) chaining)으로 여러함수 동시에 사용하기"
   ]
  },
  {
   "cell_type": "code",
   "execution_count": 117,
   "id": "ae6bdb70-8e3a-4314-9dee-6dcc25cff2da",
   "metadata": {},
   "outputs": [
    {
     "data": {
      "text/plain": [
       "'공백과 특수    문자\\n^^가 같이 있는 \\t문자열'"
      ]
     },
     "execution_count": 117,
     "metadata": {},
     "output_type": "execute_result"
    }
   ],
   "source": [
    "h13.strip(\" .,^!\") # strip은 문자 밖에 있는것만 가능함"
   ]
  },
  {
   "cell_type": "code",
   "execution_count": 124,
   "id": "bd272f55-72db-4c76-96f1-9d848ae3c715",
   "metadata": {},
   "outputs": [
    {
     "data": {
      "text/plain": [
       "'공백과 특수 문자가 같이 있는 문자열'"
      ]
     },
     "execution_count": 124,
     "metadata": {},
     "output_type": "execute_result"
    }
   ],
   "source": [
    "h13.strip(\" .,^!\").replace(\"^\",\"\").replace(\"\\n\",\"\").replace(\"    \",\" \").replace(\"\\t\",\"\")"
   ]
  },
  {
   "cell_type": "code",
   "execution_count": 127,
   "id": "f5642a4b-12c3-4bed-be30-d50016a4df2f",
   "metadata": {},
   "outputs": [
    {
     "data": {
      "text/plain": [
       "'공백과 특수 문자가 같이 있는 문자열'"
      ]
     },
     "execution_count": 127,
     "metadata": {},
     "output_type": "execute_result"
    }
   ],
   "source": [
    "h13.translate(str.maketrans('','', '.,^!\\n\\t')).replace(\"    \",\" \").replace(\"  \",\"\").strip(\" \")"
   ]
  },
  {
   "cell_type": "markdown",
   "id": "ee59facb-31eb-48f5-bc4c-1bbc3bb81578",
   "metadata": {},
   "source": [
    "* string.punctuation을 이용해 특수문자 제거하기"
   ]
  },
  {
   "cell_type": "code",
   "execution_count": 130,
   "id": "234b6dfa-a443-40d2-a9bd-edacf30dcb12",
   "metadata": {},
   "outputs": [],
   "source": [
    "import string"
   ]
  },
  {
   "cell_type": "code",
   "execution_count": 131,
   "id": "cddc1665-149b-4c17-b2a5-7c05d2fb0415",
   "metadata": {},
   "outputs": [
    {
     "data": {
      "text/plain": [
       "['Formatter',\n",
       " 'Template',\n",
       " '_ChainMap',\n",
       " '__all__',\n",
       " '__builtins__',\n",
       " '__cached__',\n",
       " '__doc__',\n",
       " '__file__',\n",
       " '__loader__',\n",
       " '__name__',\n",
       " '__package__',\n",
       " '__spec__',\n",
       " '_re',\n",
       " '_sentinel_dict',\n",
       " '_string',\n",
       " 'ascii_letters',\n",
       " 'ascii_lowercase',\n",
       " 'ascii_uppercase',\n",
       " 'capwords',\n",
       " 'digits',\n",
       " 'hexdigits',\n",
       " 'octdigits',\n",
       " 'printable',\n",
       " 'punctuation',\n",
       " 'whitespace']"
      ]
     },
     "execution_count": 131,
     "metadata": {},
     "output_type": "execute_result"
    }
   ],
   "source": [
    "dir(string)"
   ]
  },
  {
   "cell_type": "code",
   "execution_count": 132,
   "id": "b87aefaf-4127-4709-875a-d40e9c8113f3",
   "metadata": {},
   "outputs": [
    {
     "data": {
      "text/plain": [
       "' ... , 공백과 특수    문자\\n^^가 같이 있는 \\t문자열 !! ^^ ....   '"
      ]
     },
     "execution_count": 132,
     "metadata": {},
     "output_type": "execute_result"
    }
   ],
   "source": [
    "h13"
   ]
  },
  {
   "cell_type": "code",
   "execution_count": 135,
   "id": "cc1a3ab6-149d-471e-b156-8e6932311b0a",
   "metadata": {},
   "outputs": [
    {
     "data": {
      "text/plain": [
       "'공백과 특수 문자가 같이 있는 문자열'"
      ]
     },
     "execution_count": 135,
     "metadata": {},
     "output_type": "execute_result"
    }
   ],
   "source": [
    "h13.translate(str.maketrans('','', string.punctuation)).replace(\"    \",\" \").replace(\"  \",\"\").strip(\" \").replace(\"\\n\",\"\").replace(\"\\t\",\"\")"
   ]
  },
  {
   "cell_type": "markdown",
   "id": "1896ce4d-1ea7-4c87-8c87-6323cd52832b",
   "metadata": {},
   "source": [
    "아래의 문장들에서 특수문자와 2칸 이상의 공백 그리고 좌우 공백을 제거하시오.\n",
    "\n",
    "아래의 예제 데이터는 호텔스 닷컴의 사용자 리뷰를 크롤링 한 원본입니다. JSON 형태로 받은 원본 데이터에서 사용자 리뷰쪽 데이터만 따로 정리한 것인데 댓글 감성리뷰를 하기에는 특수문자와 구두점이 너무 많아 데이터의 정리가 필요합니다. 아래의 데이터를 문자만 나오도록 정리해 보세요. 위에서 배운 문자열 사용법과 함수는 이런 작업을 하는데 사용되고 데이터 전처리에서 반드시 필요합니다.\n",
    "\n",
    "문제1\n",
    "test1 = '''344,622642,더 호텔 수 (THE HOTEL SOO),family,1박 가족 여행,2018년 5월 21일,8.0,\"위치 : 이순신 광장과는 반대편이라 차량으로 이동해야 합니다. 루프탑에서의\n",
    "바다 경치는 좋습니다.\n",
    "시설 : 깔끔하고 좋습니다. 패밀리룸을 사용 했는데 저녁6시쯤 갔더니 마지막 방이라며 2층을 배정 받았습니다. 창문을 여니 약간 쓰레기 냄새가 났고 바다가 보이지 않습니다.        \n",
    "루프탑 : 바베큐 세트가 저렴 했던거 같고 경치가 좋습니다. 수영장도 있었는데 계절이 아닌지.... \n",
    "    하지만 여름이면 좋을것 같습니다. 주차장은 장소가 넓지 않았던거 같고, 저녁에 나갔다 왔더니 야외 공터에 차를 대라고 하였습니다.    \n",
    "주말 저녁이라 그런지 가격을 제법 비싸게 준거 같은데... 2층이라 마음에 들지 않았습니다. 옆에 조선소 같은게 있어 쫌 보기에 좋지 않았습니다......................................\n",
    "        "
   ]
  },
  {
   "cell_type": "code",
   "execution_count": 138,
   "id": "9f83b543-6de9-4e8d-a3aa-5a4ebca08623",
   "metadata": {},
   "outputs": [],
   "source": [
    "test1 = '''344,622642,더 호텔 수 (THE HOTEL SOO),family,1박 가족 여행,2018년 5월 21일,8.0,\"위치 : 이순신 광장과는 반대편이라 차량으로 이동해야 합니다. 루프탑에서의\n",
    "바다 경치는 좋습니다.\n",
    "시설 : 깔끔하고 좋습니다. 패밀리룸을 사용 했는데 저녁6시쯤 갔더니 마지막 방이라며 2층을 배정 받았습니다. 창문을 여니 약간 쓰레기 냄새가 났고 바다가 보이지 않습니다.        \n",
    "루프탑 : 바베큐 세트가 저렴 했던거 같고 경치가 좋습니다. 수영장도 있었는데 계절이 아닌지.... \n",
    "    하지만 여름이면 좋을것 같습니다. 주차장은 장소가 넓지 않았던거 같고, 저녁에 나갔다 왔더니 야외 공터에 차를 대라고 하였습니다.    \n",
    "주말 저녁이라 그런지 가격을 제법 비싸게 준거 같은데... 2층이라 마음에 들지 않았습니다. 옆에 조선소 같은게 있어 쫌 보기에 좋지 않았습니다......................................'''"
   ]
  },
  {
   "cell_type": "code",
   "execution_count": 358,
   "id": "ad020255-2614-46f5-8dfd-f28be5d37d18",
   "metadata": {
    "scrolled": true
   },
   "outputs": [
    {
     "data": {
      "text/plain": [
       "['344',\n",
       " '622642',\n",
       " '더 호텔 수 (THE HOTEL SOO)',\n",
       " 'family',\n",
       " '1박 가족 여행',\n",
       " '2018년 5월 21일',\n",
       " '8.0',\n",
       " '\"위치 : 이순신 광장과는 반대편이라 차량으로 이동해야 합니다. 루프탑에서의\\n바다 경치는 좋습니다.\\n시설 : 깔끔하고 좋습니다. 패밀리룸을 사용 했는데 저녁6시쯤 갔더니 마지막 방이라며 2층을 배정 받았습니다. 창문을 여니 약간 쓰레기 냄새가 났고 바다가 보이지 않습니다.        \\n루프탑 : 바베큐 세트가 저렴 했던거 같고 경치가 좋습니다. 수영장도 있었는데 계절이 아닌지.... \\n    하지만 여름이면 좋을것 같습니다. 주차장은 장소가 넓지 않았던거 같고',\n",
       " ' 저녁에 나갔다 왔더니 야외 공터에 차를 대라고 하였습니다.    \\n주말 저녁이라 그런지 가격을 제법 비싸게 준거 같은데... 2층이라 마음에 들지 않았습니다. 옆에 조선소 같은게 있어 쫌 보기에 좋지 않았습니다......................................']"
      ]
     },
     "execution_count": 358,
     "metadata": {},
     "output_type": "execute_result"
    }
   ],
   "source": [
    "test1_1 = test1.split(\",\")\n",
    "test1_1"
   ]
  },
  {
   "cell_type": "code",
   "execution_count": 415,
   "id": "5037d159-2228-4330-9de1-de07358c01af",
   "metadata": {},
   "outputs": [
    {
     "data": {
      "text/plain": [
       "'344.622642'"
      ]
     },
     "execution_count": 415,
     "metadata": {},
     "output_type": "execute_result"
    }
   ],
   "source": [
    "hid = \".\".join(test1_1[:2])\n",
    "hid"
   ]
  },
  {
   "cell_type": "code",
   "execution_count": 360,
   "id": "c309fd7f-1682-4e85-ba50-63644b48ead3",
   "metadata": {},
   "outputs": [
    {
     "data": {
      "text/plain": [
       "'더 호텔 수'"
      ]
     },
     "execution_count": 360,
     "metadata": {},
     "output_type": "execute_result"
    }
   ],
   "source": [
    "hotel_name_kor = test1_1[2].split(\"(\")[0].strip()\n",
    "hotel_name_kor"
   ]
  },
  {
   "cell_type": "code",
   "execution_count": 361,
   "id": "e47be077-9a09-473f-8e20-233c82b1d430",
   "metadata": {},
   "outputs": [
    {
     "data": {
      "text/plain": [
       "'THE HOTEL SOO'"
      ]
     },
     "execution_count": 361,
     "metadata": {},
     "output_type": "execute_result"
    }
   ],
   "source": [
    "hotel_name_eng = test1_1[2].split(\"(\")[1].strip(\")\")\n",
    "hotel_name_eng"
   ]
  },
  {
   "cell_type": "code",
   "execution_count": 363,
   "id": "7e0c301d-dda4-4e9c-bc51-4e0f510d8fdc",
   "metadata": {},
   "outputs": [
    {
     "data": {
      "text/plain": [
       "'family'"
      ]
     },
     "execution_count": 363,
     "metadata": {},
     "output_type": "execute_result"
    }
   ],
   "source": [
    "trip_type = test1_1[3]\n",
    "trip_type"
   ]
  },
  {
   "cell_type": "code",
   "execution_count": 364,
   "id": "e336a05c-86cc-4b76-ad1a-2c3d9c846db8",
   "metadata": {},
   "outputs": [
    {
     "data": {
      "text/plain": [
       "'1박 가족 여행'"
      ]
     },
     "execution_count": 364,
     "metadata": {},
     "output_type": "execute_result"
    }
   ],
   "source": [
    "trip_type2 = test1_1[4]\n",
    "trip_type2"
   ]
  },
  {
   "cell_type": "code",
   "execution_count": 365,
   "id": "96e113fd-ff9e-4353-96af-bbc91a581762",
   "metadata": {},
   "outputs": [
    {
     "data": {
      "text/plain": [
       "'2018년 5월 21일'"
      ]
     },
     "execution_count": 365,
     "metadata": {},
     "output_type": "execute_result"
    }
   ],
   "source": [
    "trip_date = test1_1[5]\n",
    "trip_date"
   ]
  },
  {
   "cell_type": "code",
   "execution_count": 366,
   "id": "cf272bdd-6002-47fe-b370-8141316b178b",
   "metadata": {},
   "outputs": [
    {
     "data": {
      "text/plain": [
       "'8.0'"
      ]
     },
     "execution_count": 366,
     "metadata": {},
     "output_type": "execute_result"
    }
   ],
   "source": [
    "rating = test1_1[6]\n",
    "rating"
   ]
  },
  {
   "cell_type": "code",
   "execution_count": 367,
   "id": "3067761c-e502-49f3-a891-d75f818dc578",
   "metadata": {},
   "outputs": [
    {
     "data": {
      "text/plain": [
       "'\"위치 : 이순신 광장과는 반대편이라 차량으로 이동해야 합니다. 루프탑에서의\\n바다 경치는 좋습니다.\\n시설 : 깔끔하고 좋습니다. 패밀리룸을 사용 했는데 저녁6시쯤 갔더니 마지막 방이라며 2층을 배정 받았습니다. 창문을 여니 약간 쓰레기 냄새가 났고 바다가 보이지 않습니다.        \\n루프탑 : 바베큐 세트가 저렴 했던거 같고 경치가 좋습니다. 수영장도 있었는데 계절이 아닌지.... \\n    하지만 여름이면 좋을것 같습니다. 주차장은 장소가 넓지 않았던거 같고, 저녁에 나갔다 왔더니 야외 공터에 차를 대라고 하였습니다.    \\n주말 저녁이라 그런지 가격을 제법 비싸게 준거 같은데... 2층이라 마음에 들지 않았습니다. 옆에 조선소 같은게 있어 쫌 보기에 좋지 않았습니다......................................'"
      ]
     },
     "execution_count": 367,
     "metadata": {},
     "output_type": "execute_result"
    }
   ],
   "source": [
    "review = \",\".join(test1_1[7:9])\n",
    "review"
   ]
  },
  {
   "cell_type": "code",
   "execution_count": 368,
   "id": "b71227ae-76df-4bcd-9f62-153d41d71c4d",
   "metadata": {},
   "outputs": [],
   "source": [
    "review = review.replace(\"\\n\",\"\").replace(\"        \",\" \").replace(\"     \",\" \").strip().replace(\"    \",\" \").replace(\":\",\"\").replace(\".\",\"\").replace(\"  \",\" \").replace(\",\",\"\")"
   ]
  },
  {
   "cell_type": "code",
   "execution_count": 369,
   "id": "089bc810-f718-41ae-b09a-58bc25c7b131",
   "metadata": {},
   "outputs": [
    {
     "name": "stdout",
     "output_type": "stream",
     "text": [
      "hid : 344.622642\n",
      "hotel_name_kor : 더 호텔 수\n",
      "hotel_name_eng : THE HOTEL SOO\n",
      "trip_type : family\n",
      "trip_type2 : 1박 가족 여행\n",
      "trip_date : 2018년 5월 21일\n",
      "rating : 8.0\n",
      "review : \"위치 이순신 광장과는 반대편이라 차량으로 이동해야 합니다 루프탑에서의바다 경치는 좋습니다시설 깔끔하고 좋습니다 패밀리룸을 사용 했는데 저녁6시쯤 갔더니 마지막 방이라며 2층을 배정 받았습니다 창문을 여니 약간 쓰레기 냄새가 났고 바다가 보이지 않습니다 루프탑 바베큐 세트가 저렴 했던거 같고 경치가 좋습니다 수영장도 있었는데 계절이 아닌지 하지만 여름이면 좋을것 같습니다 주차장은 장소가 넓지 않았던거 같고 저녁에 나갔다 왔더니 야외 공터에 차를 대라고 하였습니다 주말 저녁이라 그런지 가격을 제법 비싸게 준거 같은데 2층이라 마음에 들지 않았습니다 옆에 조선소 같은게 있어 쫌 보기에 좋지 않았습니다\n"
     ]
    }
   ],
   "source": [
    "print(\"hid :\", hid)\n",
    "print(\"hotel_name_kor :\", hotel_name_kor)\n",
    "print(\"hotel_name_eng :\", hotel_name_eng)\n",
    "print(\"trip_type :\", trip_type)\n",
    "print(\"trip_type2 :\", trip_type2)\n",
    "print(\"trip_date :\", trip_date)\n",
    "print(\"rating :\", rating)\n",
    "print(\"review :\", review)"
   ]
  },
  {
   "cell_type": "code",
   "execution_count": null,
   "id": "8f15665b-4c8d-4ff0-8033-7f8fcbe97a21",
   "metadata": {},
   "outputs": [],
   "source": []
  },
  {
   "cell_type": "code",
   "execution_count": null,
   "id": "91a214a6-0b81-49b8-b589-a45ce93d7bf5",
   "metadata": {},
   "outputs": [],
   "source": []
  },
  {
   "cell_type": "code",
   "execution_count": null,
   "id": "3ef0ec9a-0ba0-4ca5-b8e9-8076f15f85d3",
   "metadata": {},
   "outputs": [],
   "source": []
  },
  {
   "cell_type": "code",
   "execution_count": null,
   "id": "f01c6f4a-a289-4e53-bf73-abb03fb1f7df",
   "metadata": {},
   "outputs": [],
   "source": []
  },
  {
   "cell_type": "code",
   "execution_count": null,
   "id": "2fd8d32a-de87-4c27-8634-ca60be7929b7",
   "metadata": {},
   "outputs": [],
   "source": []
  },
  {
   "cell_type": "code",
   "execution_count": null,
   "id": "9ee1c1aa-d8ec-4417-90a8-e5577dbaa70f",
   "metadata": {},
   "outputs": [],
   "source": []
  },
  {
   "cell_type": "markdown",
   "id": "4c780d9c-4b80-4513-b572-1ab1b70d47d2",
   "metadata": {},
   "source": [
    "문제2\n",
    "test2= \"18062,427535,파크 하얏트 부산 (Park Hyatt Busan),family,2박 가족 여행,2019년 12월 29일,10.0,결혼 1주년 기념으로 아이랑 신랑이랑 다녀왔어요~ 룸컨디션 너무 좋았고 뷰가 최고였습니다! 2박 머물렀는데 청소도 깔끔하게 해주시고 애기가 이불에 살짝 토했는데도 바로 갈아주시고 좋았습니다~ 대신 창가쪽 커튼 한쪽이 떨어져있어서 조금 거슬렸구요... 창가에 침실이 있다보니 암막커튼을 치지 않으면 조금 쌀쌀한 느낌은 있었어요! 아 그리고 아기때문에 침대에 가드를 부탁드렸는데 가드가 너무 별로였습니다... 가드 구실을 못하고 넘 허술하게 매트리스 아래 그냥 끼워진거라 아기가 밤새 두번이나 가드사이에 빠졌습니다... 이점 좀 아쉬워요 ! 그 외에는 다이닝룸 리빙룸, 바까지 모두 이용했는데 서비스 좋았습니다~~!\"\n"
   ]
  },
  {
   "cell_type": "code",
   "execution_count": 259,
   "id": "77e25463-5a32-450f-b944-23b5c3446ec4",
   "metadata": {},
   "outputs": [],
   "source": [
    "test2= \"18062,427535,파크 하얏트 부산 (Park Hyatt Busan),family,2박 가족 여행,2019년 12월 29일,10.0,결혼 1주년 기념으로 아이랑 신랑이랑 다녀왔어요~ 룸컨디션 너무 좋았고 뷰가 최고였습니다! 2박 머물렀는데 청소도 깔끔하게 해주시고 애기가 이불에 살짝 토했는데도 바로 갈아주시고 좋았습니다~ 대신 창가쪽 커튼 한쪽이 떨어져있어서 조금 거슬렸구요... 창가에 침실이 있다보니 암막커튼을 치지 않으면 조금 쌀쌀한 느낌은 있었어요! 아 그리고 아기때문에 침대에 가드를 부탁드렸는데 가드가 너무 별로였습니다... 가드 구실을 못하고 넘 허술하게 매트리스 아래 그냥 끼워진거라 아기가 밤새 두번이나 가드사이에 빠졌습니다... 이점 좀 아쉬워요 ! 그 외에는 다이닝룸 리빙룸, 바까지 모두 이용했는데 서비스 좋았습니다~~!\""
   ]
  },
  {
   "cell_type": "code",
   "execution_count": 263,
   "id": "650b7941-7be7-4c78-9ac9-58e5c52ecf36",
   "metadata": {},
   "outputs": [
    {
     "data": {
      "text/plain": [
       "['18062',\n",
       " '427535',\n",
       " '파크 하얏트 부산 (Park Hyatt Busan)',\n",
       " 'family',\n",
       " '2박 가족 여행',\n",
       " '2019년 12월 29일',\n",
       " '10.0',\n",
       " '결혼 1주년 기념으로 아이랑 신랑이랑 다녀왔어요~ 룸컨디션 너무 좋았고 뷰가 최고였습니다! 2박 머물렀는데 청소도 깔끔하게 해주시고 애기가 이불에 살짝 토했는데도 바로 갈아주시고 좋았습니다~ 대신 창가쪽 커튼 한쪽이 떨어져있어서 조금 거슬렸구요... 창가에 침실이 있다보니 암막커튼을 치지 않으면 조금 쌀쌀한 느낌은 있었어요! 아 그리고 아기때문에 침대에 가드를 부탁드렸는데 가드가 너무 별로였습니다... 가드 구실을 못하고 넘 허술하게 매트리스 아래 그냥 끼워진거라 아기가 밤새 두번이나 가드사이에 빠졌습니다... 이점 좀 아쉬워요 ! 그 외에는 다이닝룸 리빙룸',\n",
       " ' 바까지 모두 이용했는데 서비스 좋았습니다~~!']"
      ]
     },
     "execution_count": 263,
     "metadata": {},
     "output_type": "execute_result"
    }
   ],
   "source": [
    "test2_1 = test2.split(\",\")\n",
    "test2_1"
   ]
  },
  {
   "cell_type": "code",
   "execution_count": 325,
   "id": "032ea91d-a3fd-457e-9343-013419ff2979",
   "metadata": {},
   "outputs": [
    {
     "data": {
      "text/plain": [
       "'18062,427535'"
      ]
     },
     "execution_count": 325,
     "metadata": {},
     "output_type": "execute_result"
    }
   ],
   "source": [
    "hid2 = \",\".join(test2_1[0:2])\n",
    "hid2"
   ]
  },
  {
   "cell_type": "code",
   "execution_count": 333,
   "id": "1ce22dcb-e015-4ef1-b947-927eb9b7a565",
   "metadata": {},
   "outputs": [
    {
     "data": {
      "text/plain": [
       "'파크 하얏트 부산'"
      ]
     },
     "execution_count": 333,
     "metadata": {},
     "output_type": "execute_result"
    }
   ],
   "source": [
    "hotel_name_kor2 = test2_1[2].split(\"(\")[0].strip()\n",
    "hotel_name_kor2"
   ]
  },
  {
   "cell_type": "code",
   "execution_count": 335,
   "id": "d37e0c53-c616-4b6d-b1a4-59a3ef3fccd0",
   "metadata": {},
   "outputs": [
    {
     "data": {
      "text/plain": [
       "'Park Hyatt Busan'"
      ]
     },
     "execution_count": 335,
     "metadata": {},
     "output_type": "execute_result"
    }
   ],
   "source": [
    "hotel_name_eng2 = test2_1[2].split(\"(\")[1].strip(\")\")\n",
    "hotel_name_eng2"
   ]
  },
  {
   "cell_type": "code",
   "execution_count": 271,
   "id": "594f44f9-35e9-405c-ab4e-6dbdf69a1cd6",
   "metadata": {},
   "outputs": [
    {
     "data": {
      "text/plain": [
       "'family'"
      ]
     },
     "execution_count": 271,
     "metadata": {},
     "output_type": "execute_result"
    }
   ],
   "source": [
    "trip_type2 = test2_1[3]\n",
    "trip_type2"
   ]
  },
  {
   "cell_type": "code",
   "execution_count": 272,
   "id": "e22c111d-2d9a-4898-8992-8829f7b1ae20",
   "metadata": {},
   "outputs": [
    {
     "data": {
      "text/plain": [
       "'2박 가족 여행'"
      ]
     },
     "execution_count": 272,
     "metadata": {},
     "output_type": "execute_result"
    }
   ],
   "source": [
    "trip_type2_2 = test2_1[4]\n",
    "trip_type2_2 "
   ]
  },
  {
   "cell_type": "code",
   "execution_count": 273,
   "id": "20ed4deb-51c9-4bb7-a7ab-efc528e8f6ea",
   "metadata": {},
   "outputs": [
    {
     "data": {
      "text/plain": [
       "'2019년 12월 29일'"
      ]
     },
     "execution_count": 273,
     "metadata": {},
     "output_type": "execute_result"
    }
   ],
   "source": [
    "trip_date2 = test2_1[5]\n",
    "trip_date2"
   ]
  },
  {
   "cell_type": "code",
   "execution_count": 274,
   "id": "07e5d009-b063-40a6-b835-8498b1ba01d8",
   "metadata": {},
   "outputs": [
    {
     "data": {
      "text/plain": [
       "'8.0'"
      ]
     },
     "execution_count": 274,
     "metadata": {},
     "output_type": "execute_result"
    }
   ],
   "source": [
    "rating2 = test2_1[6]\n",
    "rating "
   ]
  },
  {
   "cell_type": "code",
   "execution_count": 338,
   "id": "c3490f82-a4fa-4042-b591-c40cef7c45a0",
   "metadata": {},
   "outputs": [
    {
     "data": {
      "text/plain": [
       "'결혼 1주년 기념으로 아이랑 신랑이랑 다녀왔어요~ 룸컨디션 너무 좋았고 뷰가 최고였습니다! 2박 머물렀는데 청소도 깔끔하게 해주시고 애기가 이불에 살짝 토했는데도 바로 갈아주시고 좋았습니다~ 대신 창가쪽 커튼 한쪽이 떨어져있어서 조금 거슬렸구요... 창가에 침실이 있다보니 암막커튼을 치지 않으면 조금 쌀쌀한 느낌은 있었어요! 아 그리고 아기때문에 침대에 가드를 부탁드렸는데 가드가 너무 별로였습니다... 가드 구실을 못하고 넘 허술하게 매트리스 아래 그냥 끼워진거라 아기가 밤새 두번이나 가드사이에 빠졌습니다... 이점 좀 아쉬워요 ! 그 외에는 다이닝룸 리빙룸, 바까지 모두 이용했는데 서비스 좋았습니다~~!'"
      ]
     },
     "execution_count": 338,
     "metadata": {},
     "output_type": "execute_result"
    }
   ],
   "source": [
    "review2 = \",\".join(test2_1[7:])\n",
    "review2"
   ]
  },
  {
   "cell_type": "markdown",
   "id": "dda85498-943d-4b5f-b01f-13f6fd8d9a59",
   "metadata": {},
   "source": [
    "review2.replace(\"!\",\"\").replace(\"~\",\"\").replace(\".\",\"\").replace(\",\",\"\").replace(\"  \",\" \")"
   ]
  },
  {
   "cell_type": "markdown",
   "id": "c7d59be4-1c9b-4618-a527-c41b621a349d",
   "metadata": {},
   "source": [
    "puncatution을 사용"
   ]
  },
  {
   "cell_type": "code",
   "execution_count": 348,
   "id": "901f4580-af22-463a-a7af-c54c2424a04f",
   "metadata": {},
   "outputs": [
    {
     "data": {
      "text/plain": [
       "'결혼 1주년 기념으로 아이랑 신랑이랑 다녀왔어요 룸컨디션 너무 좋았고 뷰가 최고였습니다 2박 머물렀는데 청소도 깔끔하게 해주시고 애기가 이불에 살짝 토했는데도 바로 갈아주시고 좋았습니다 대신 창가쪽 커튼 한쪽이 떨어져있어서 조금 거슬렸구요 창가에 침실이 있다보니 암막커튼을 치지 않으면 조금 쌀쌀한 느낌은 있었어요 아 그리고 아기때문에 침대에 가드를 부탁드렸는데 가드가 너무 별로였습니다 가드 구실을 못하고 넘 허술하게 매트리스 아래 그냥 끼워진거라 아기가 밤새 두번이나 가드사이에 빠졌습니다 이점 좀 아쉬워요 그 외에는 다이닝룸 리빙룸 바까지 모두 이용했는데 서비스 좋았습니다'"
      ]
     },
     "execution_count": 348,
     "metadata": {},
     "output_type": "execute_result"
    }
   ],
   "source": [
    "review2.translate(str.maketrans('','',string.punctuation)).replace(\"  \",\" \")"
   ]
  },
  {
   "cell_type": "code",
   "execution_count": 349,
   "id": "3588ce8e-9912-43c2-a106-cdc254cc1d51",
   "metadata": {},
   "outputs": [
    {
     "name": "stdout",
     "output_type": "stream",
     "text": [
      "hid2 : 18062,427535\n",
      "hotel_name_kor2 : 파크 하얏트 부산\n",
      "hotel_name_eng2 : Park Hyatt Busan\n",
      "trip_type2 : 1박 가족 여행\n",
      "trip_type2_2 : 2박 가족 여행\n",
      "trip_date2 : 2019년 12월 29일\n",
      "rating2 : 10.0\n",
      "review2 : 결혼 1주년 기념으로 아이랑 신랑이랑 다녀왔어요~ 룸컨디션 너무 좋았고 뷰가 최고였습니다! 2박 머물렀는데 청소도 깔끔하게 해주시고 애기가 이불에 살짝 토했는데도 바로 갈아주시고 좋았습니다~ 대신 창가쪽 커튼 한쪽이 떨어져있어서 조금 거슬렸구요... 창가에 침실이 있다보니 암막커튼을 치지 않으면 조금 쌀쌀한 느낌은 있었어요! 아 그리고 아기때문에 침대에 가드를 부탁드렸는데 가드가 너무 별로였습니다... 가드 구실을 못하고 넘 허술하게 매트리스 아래 그냥 끼워진거라 아기가 밤새 두번이나 가드사이에 빠졌습니다... 이점 좀 아쉬워요 ! 그 외에는 다이닝룸 리빙룸, 바까지 모두 이용했는데 서비스 좋았습니다~~!\n"
     ]
    }
   ],
   "source": [
    "print(\"hid2 :\", hid2)\n",
    "print(\"hotel_name_kor2 :\", hotel_name_kor2)\n",
    "print(\"hotel_name_eng2 :\", hotel_name_eng2)\n",
    "print(\"trip_type2 :\", trip_type2)\n",
    "print(\"trip_type2_2 :\", trip_type2_2)\n",
    "print(\"trip_date2 :\", trip_date2)\n",
    "print(\"rating2 :\", rating2)\n",
    "print(\"review2 :\", review2)"
   ]
  },
  {
   "cell_type": "code",
   "execution_count": null,
   "id": "c7886414-05a0-45fa-9c0d-36f3fe7ae27a",
   "metadata": {},
   "outputs": [],
   "source": []
  },
  {
   "cell_type": "code",
   "execution_count": null,
   "id": "41716971-a7fb-42d8-8304-7b4207691be1",
   "metadata": {},
   "outputs": [],
   "source": []
  },
  {
   "cell_type": "code",
   "execution_count": null,
   "id": "8569560e-fc91-4072-bfa5-34259cee2fb8",
   "metadata": {},
   "outputs": [],
   "source": []
  },
  {
   "cell_type": "code",
   "execution_count": null,
   "id": "b6d12d61-b2e3-4560-8b05-63e5eb4eaad4",
   "metadata": {},
   "outputs": [],
   "source": []
  },
  {
   "cell_type": "markdown",
   "id": "3010a980-448b-41e1-9e37-ae2bedb4ee50",
   "metadata": {},
   "source": [
    "문제3\n",
    "test3 = \"\"\"112731,239840,서귀포 칼 호텔 (Seogwipo KAL Hotel),family,3박 가족 여행,2020년 11월 19일,8.0,넓디넓은 정원과 산책로 덕분에 코로나 시대 언택트 여행에 좋았구요. 조용하고 한적하게 잘 쉬었어요.\n",
    "아무래도 서귀포가 제주시쪽보단 사람도 적어서 오히려 편하면서, 주변에 식당이나 까페, 편의점 갈때도 걸어서도 다녀올 입지라 좋습니다.\n",
    "실내 수영장은 생각만큼? 작은 규모라 오히려 사람 없이 잘 놀았어요ㅎㅎ \n",
    "라운지바가 넓고 층고도 높아서 커피나 맥주 먹으며 쉬기에 좋고요.\n",
    "매일 주시는 1.5리터 생수ㅎㅎ별거 아닐수 있지만 매우 감사했구요.\n",
    "다만 층수가 낮은 방이어서 그런가 모기가 있었어요^^;; 그외에는 다 깨끗했구요. \n",
    "매트리스가 오래됐는지 묘하게 불편해서 허리가 아프긴 하더라고요;; 다행히? 세미온돌이라 바닥에서 자는게 오히려 나았고요\n",
    "조식은...최근 후기가 다 별로라길래 하루만 가봤는데 역시;;ㅎ 뭐 저렴하기도 하지만.. 저는 나가서 먹었습니다.\"\"\""
   ]
  },
  {
   "cell_type": "code",
   "execution_count": 357,
   "id": "64ef3906-da67-44b5-bc92-1a3c162267de",
   "metadata": {},
   "outputs": [],
   "source": [
    "test3 = \"\"\"112731,239840,서귀포 칼 호텔 (Seogwipo KAL Hotel),family,3박 가족 여행,2020년 11월 19일,8.0,넓디넓은 정원과 산책로 덕분에 코로나 시대 언택트 여행에 좋았구요. 조용하고 한적하게 잘 쉬었어요.\n",
    "아무래도 서귀포가 제주시쪽보단 사람도 적어서 오히려 편하면서, 주변에 식당이나 까페, 편의점 갈때도 걸어서도 다녀올 입지라 좋습니다.\n",
    "실내 수영장은 생각만큼? 작은 규모라 오히려 사람 없이 잘 놀았어요ㅎㅎ \n",
    "라운지바가 넓고 층고도 높아서 커피나 맥주 먹으며 쉬기에 좋고요.\n",
    "매일 주시는 1.5리터 생수ㅎㅎ별거 아닐수 있지만 매우 감사했구요.\n",
    "다만 층수가 낮은 방이어서 그런가 모기가 있었어요^^;; 그외에는 다 깨끗했구요. \n",
    "매트리스가 오래됐는지 묘하게 불편해서 허리가 아프긴 하더라고요;; 다행히? 세미온돌이라 바닥에서 자는게 오히려 나았고요\n",
    "조식은...최근 후기가 다 별로라길래 하루만 가봤는데 역시;;ㅎ 뭐 저렴하기도 하지만.. 저는 나가서 먹었습니다.\"\"\""
   ]
  },
  {
   "cell_type": "code",
   "execution_count": 372,
   "id": "0b843ad3-a377-4c4d-a024-607f9094cb41",
   "metadata": {
    "scrolled": true
   },
   "outputs": [
    {
     "data": {
      "text/plain": [
       "['112731',\n",
       " '239840',\n",
       " '서귀포 칼 호텔 (Seogwipo KAL Hotel)',\n",
       " 'family',\n",
       " '3박 가족 여행',\n",
       " '2020년 11월 19일',\n",
       " '8.0',\n",
       " '넓디넓은 정원과 산책로 덕분에 코로나 시대 언택트 여행에 좋았구요. 조용하고 한적하게 잘 쉬었어요.\\n아무래도 서귀포가 제주시쪽보단 사람도 적어서 오히려 편하면서',\n",
       " ' 주변에 식당이나 까페',\n",
       " ' 편의점 갈때도 걸어서도 다녀올 입지라 좋습니다.\\n실내 수영장은 생각만큼? 작은 규모라 오히려 사람 없이 잘 놀았어요ㅎㅎ \\n라운지바가 넓고 층고도 높아서 커피나 맥주 먹으며 쉬기에 좋고요.\\n매일 주시는 1.5리터 생수ㅎㅎ별거 아닐수 있지만 매우 감사했구요.\\n다만 층수가 낮은 방이어서 그런가 모기가 있었어요^^;; 그외에는 다 깨끗했구요. \\n매트리스가 오래됐는지 묘하게 불편해서 허리가 아프긴 하더라고요;; 다행히? 세미온돌이라 바닥에서 자는게 오히려 나았고요\\n조식은...최근 후기가 다 별로라길래 하루만 가봤는데 역시;;ㅎ 뭐 저렴하기도 하지만.. 저는 나가서 먹었습니다.']"
      ]
     },
     "execution_count": 372,
     "metadata": {},
     "output_type": "execute_result"
    }
   ],
   "source": [
    "test3_1 = test3.split(\",\")\n",
    "test3_1"
   ]
  },
  {
   "cell_type": "code",
   "execution_count": 383,
   "id": "68231cc8-55cf-4f04-b332-181e4724784b",
   "metadata": {
    "collapsed": true,
    "jupyter": {
     "outputs_hidden": true
    }
   },
   "outputs": [
    {
     "data": {
      "text/plain": [
       "'서귀포 칼 호텔 (Seogwipo KAL Hotel)'"
      ]
     },
     "execution_count": 383,
     "metadata": {},
     "output_type": "execute_result"
    }
   ],
   "source": [
    "test3_1[2]"
   ]
  },
  {
   "cell_type": "code",
   "execution_count": 405,
   "id": "ba42b928-bbef-4ab9-b395-6438fefca57b",
   "metadata": {},
   "outputs": [],
   "source": [
    "hid3 = \",\".join(test3_1[:2])\n",
    "hotel_name_kor3  = test3_1[2].split(\"(\")[0].strip()\n",
    "hotel_name_eng3  = test3_1[2].split(\"(\")[1].strip(\")\")\n",
    "trip_type3  = test3_1[3]\n",
    "trip_type3_2  = test3_1[4]\n",
    "trip_date3  = test3_1[5]\n",
    "rating3  = test3_1[6]\n"
   ]
  },
  {
   "cell_type": "code",
   "execution_count": 407,
   "id": "6d436f7e-9bb3-41d5-821d-2f1f08002a76",
   "metadata": {},
   "outputs": [],
   "source": [
    "review3 = \",\".join(test3_1[7:])"
   ]
  },
  {
   "cell_type": "code",
   "execution_count": 408,
   "id": "2ccad483-2324-4c0f-8296-48f117599f70",
   "metadata": {},
   "outputs": [
    {
     "data": {
      "text/plain": [
       "'넓디넓은 정원과 산책로 덕분에 코로나 시대 언택트 여행에 좋았구요. 조용하고 한적하게 잘 쉬었어요.\\n아무래도 서귀포가 제주시쪽보단 사람도 적어서 오히려 편하면서, 주변에 식당이나 까페, 편의점 갈때도 걸어서도 다녀올 입지라 좋습니다.\\n실내 수영장은 생각만큼? 작은 규모라 오히려 사람 없이 잘 놀았어요ㅎㅎ \\n라운지바가 넓고 층고도 높아서 커피나 맥주 먹으며 쉬기에 좋고요.\\n매일 주시는 1.5리터 생수ㅎㅎ별거 아닐수 있지만 매우 감사했구요.\\n다만 층수가 낮은 방이어서 그런가 모기가 있었어요^^;; 그외에는 다 깨끗했구요. \\n매트리스가 오래됐는지 묘하게 불편해서 허리가 아프긴 하더라고요;; 다행히? 세미온돌이라 바닥에서 자는게 오히려 나았고요\\n조식은...최근 후기가 다 별로라길래 하루만 가봤는데 역시;;ㅎ 뭐 저렴하기도 하지만.. 저는 나가서 먹었습니다.'"
      ]
     },
     "execution_count": 408,
     "metadata": {},
     "output_type": "execute_result"
    }
   ],
   "source": [
    "review3"
   ]
  },
  {
   "cell_type": "code",
   "execution_count": 413,
   "id": "c9bdca25-3c49-483f-85c1-e2fa50d52c6e",
   "metadata": {},
   "outputs": [
    {
     "data": {
      "text/plain": [
       "'넓디넓은 정원과 산책로 덕분에 코로나 시대 언택트 여행에 좋았구요 조용하고 한적하게 잘 쉬었어요아무래도 서귀포가 제주시쪽보단 사람도 적어서 오히려 편하면서 주변에 식당이나 까페 편의점 갈때도 걸어서도 다녀올 입지라 좋습니다실내 수영장은 생각만큼 작은 규모라 오히려 사람 없이 잘 놀았어요 라운지바가 넓고 층고도 높아서 커피나 맥주 먹으며 쉬기에 좋고요매일 주시는 15리터 생수별거 아닐수 있지만 매우 감사했구요다만 층수가 낮은 방이어서 그런가 모기가 있었어요 그외에는 다 깨끗했구요 매트리스가 오래됐는지 묘하게 불편해서 허리가 아프긴 하더라고요 다행히 세미온돌이라 바닥에서 자는게 오히려 나았고요조식은최근 후기가 다 별로라길래 하루만 가봤는데 역시 뭐 저렴하기도 하지만 저는 나가서 먹었습니다'"
      ]
     },
     "execution_count": 413,
     "metadata": {},
     "output_type": "execute_result"
    }
   ],
   "source": [
    "review3.replace(\"\\n\",\"\").replace(\";\",\"\").replace(\"?\",\"\").replace(\".\",\"\").replace(\"^^\",\"\").replace(\"ㅎ\",\"\").replace(\",\",\"\")"
   ]
  },
  {
   "cell_type": "code",
   "execution_count": null,
   "id": "0fed53c1-2425-4e2f-b660-94ea71501d48",
   "metadata": {},
   "outputs": [],
   "source": []
  },
  {
   "cell_type": "code",
   "execution_count": null,
   "id": "a479c5c6-57d0-4083-8f55-c28c95e35e9f",
   "metadata": {},
   "outputs": [],
   "source": []
  },
  {
   "cell_type": "code",
   "execution_count": null,
   "id": "f2c74026-331d-4b4a-b996-355151d06a61",
   "metadata": {},
   "outputs": [],
   "source": []
  },
  {
   "cell_type": "code",
   "execution_count": null,
   "id": "ecc5fd05-a6e2-42a1-8d3d-ce1f841a6bed",
   "metadata": {},
   "outputs": [],
   "source": []
  },
  {
   "cell_type": "code",
   "execution_count": null,
   "id": "2864a26a-e413-46d1-b2aa-461295c0ca56",
   "metadata": {},
   "outputs": [],
   "source": []
  },
  {
   "cell_type": "code",
   "execution_count": null,
   "id": "4c47c826-2cae-4daf-9fa5-e5d9f219e4fb",
   "metadata": {},
   "outputs": [],
   "source": []
  }
 ],
 "metadata": {
  "kernelspec": {
   "display_name": "Python 3 (ipykernel)",
   "language": "python",
   "name": "python3"
  },
  "language_info": {
   "codemirror_mode": {
    "name": "ipython",
    "version": 3
   },
   "file_extension": ".py",
   "mimetype": "text/x-python",
   "name": "python",
   "nbconvert_exporter": "python",
   "pygments_lexer": "ipython3",
   "version": "3.10.14"
  }
 },
 "nbformat": 4,
 "nbformat_minor": 5
}
