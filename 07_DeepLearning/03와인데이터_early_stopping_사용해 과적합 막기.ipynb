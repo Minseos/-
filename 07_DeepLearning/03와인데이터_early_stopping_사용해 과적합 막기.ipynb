{
 "cells": [
  {
   "cell_type": "code",
   "execution_count": 1,
   "id": "7d1efc70",
   "metadata": {},
   "outputs": [],
   "source": [
    "import pandas as pd\n",
    "import numpy as np\n",
    "import matplotlib.pyplot as plt\n",
    "import seaborn as sns"
   ]
  },
  {
   "cell_type": "code",
   "execution_count": 2,
   "id": "63f1004a",
   "metadata": {},
   "outputs": [
    {
     "data": {
      "text/html": [
       "<div>\n",
       "<style scoped>\n",
       "    .dataframe tbody tr th:only-of-type {\n",
       "        vertical-align: middle;\n",
       "    }\n",
       "\n",
       "    .dataframe tbody tr th {\n",
       "        vertical-align: top;\n",
       "    }\n",
       "\n",
       "    .dataframe thead th {\n",
       "        text-align: right;\n",
       "    }\n",
       "</style>\n",
       "<table border=\"1\" class=\"dataframe\">\n",
       "  <thead>\n",
       "    <tr style=\"text-align: right;\">\n",
       "      <th></th>\n",
       "      <th>0</th>\n",
       "      <th>1</th>\n",
       "      <th>2</th>\n",
       "      <th>3</th>\n",
       "      <th>4</th>\n",
       "      <th>5</th>\n",
       "      <th>6</th>\n",
       "      <th>7</th>\n",
       "      <th>8</th>\n",
       "      <th>9</th>\n",
       "      <th>10</th>\n",
       "      <th>11</th>\n",
       "      <th>12</th>\n",
       "    </tr>\n",
       "  </thead>\n",
       "  <tbody>\n",
       "    <tr>\n",
       "      <th>0</th>\n",
       "      <td>7.4</td>\n",
       "      <td>0.70</td>\n",
       "      <td>0.00</td>\n",
       "      <td>1.9</td>\n",
       "      <td>0.076</td>\n",
       "      <td>11.0</td>\n",
       "      <td>34.0</td>\n",
       "      <td>0.99780</td>\n",
       "      <td>3.51</td>\n",
       "      <td>0.56</td>\n",
       "      <td>9.4</td>\n",
       "      <td>5</td>\n",
       "      <td>1</td>\n",
       "    </tr>\n",
       "    <tr>\n",
       "      <th>1</th>\n",
       "      <td>7.8</td>\n",
       "      <td>0.88</td>\n",
       "      <td>0.00</td>\n",
       "      <td>2.6</td>\n",
       "      <td>0.098</td>\n",
       "      <td>25.0</td>\n",
       "      <td>67.0</td>\n",
       "      <td>0.99680</td>\n",
       "      <td>3.20</td>\n",
       "      <td>0.68</td>\n",
       "      <td>9.8</td>\n",
       "      <td>5</td>\n",
       "      <td>1</td>\n",
       "    </tr>\n",
       "    <tr>\n",
       "      <th>2</th>\n",
       "      <td>7.8</td>\n",
       "      <td>0.76</td>\n",
       "      <td>0.04</td>\n",
       "      <td>2.3</td>\n",
       "      <td>0.092</td>\n",
       "      <td>15.0</td>\n",
       "      <td>54.0</td>\n",
       "      <td>0.99700</td>\n",
       "      <td>3.26</td>\n",
       "      <td>0.65</td>\n",
       "      <td>9.8</td>\n",
       "      <td>5</td>\n",
       "      <td>1</td>\n",
       "    </tr>\n",
       "    <tr>\n",
       "      <th>3</th>\n",
       "      <td>11.2</td>\n",
       "      <td>0.28</td>\n",
       "      <td>0.56</td>\n",
       "      <td>1.9</td>\n",
       "      <td>0.075</td>\n",
       "      <td>17.0</td>\n",
       "      <td>60.0</td>\n",
       "      <td>0.99800</td>\n",
       "      <td>3.16</td>\n",
       "      <td>0.58</td>\n",
       "      <td>9.8</td>\n",
       "      <td>6</td>\n",
       "      <td>1</td>\n",
       "    </tr>\n",
       "    <tr>\n",
       "      <th>4</th>\n",
       "      <td>7.4</td>\n",
       "      <td>0.70</td>\n",
       "      <td>0.00</td>\n",
       "      <td>1.9</td>\n",
       "      <td>0.076</td>\n",
       "      <td>11.0</td>\n",
       "      <td>34.0</td>\n",
       "      <td>0.99780</td>\n",
       "      <td>3.51</td>\n",
       "      <td>0.56</td>\n",
       "      <td>9.4</td>\n",
       "      <td>5</td>\n",
       "      <td>1</td>\n",
       "    </tr>\n",
       "    <tr>\n",
       "      <th>...</th>\n",
       "      <td>...</td>\n",
       "      <td>...</td>\n",
       "      <td>...</td>\n",
       "      <td>...</td>\n",
       "      <td>...</td>\n",
       "      <td>...</td>\n",
       "      <td>...</td>\n",
       "      <td>...</td>\n",
       "      <td>...</td>\n",
       "      <td>...</td>\n",
       "      <td>...</td>\n",
       "      <td>...</td>\n",
       "      <td>...</td>\n",
       "    </tr>\n",
       "    <tr>\n",
       "      <th>6492</th>\n",
       "      <td>6.2</td>\n",
       "      <td>0.21</td>\n",
       "      <td>0.29</td>\n",
       "      <td>1.6</td>\n",
       "      <td>0.039</td>\n",
       "      <td>24.0</td>\n",
       "      <td>92.0</td>\n",
       "      <td>0.99114</td>\n",
       "      <td>3.27</td>\n",
       "      <td>0.50</td>\n",
       "      <td>11.2</td>\n",
       "      <td>6</td>\n",
       "      <td>0</td>\n",
       "    </tr>\n",
       "    <tr>\n",
       "      <th>6493</th>\n",
       "      <td>6.6</td>\n",
       "      <td>0.32</td>\n",
       "      <td>0.36</td>\n",
       "      <td>8.0</td>\n",
       "      <td>0.047</td>\n",
       "      <td>57.0</td>\n",
       "      <td>168.0</td>\n",
       "      <td>0.99490</td>\n",
       "      <td>3.15</td>\n",
       "      <td>0.46</td>\n",
       "      <td>9.6</td>\n",
       "      <td>5</td>\n",
       "      <td>0</td>\n",
       "    </tr>\n",
       "    <tr>\n",
       "      <th>6494</th>\n",
       "      <td>6.5</td>\n",
       "      <td>0.24</td>\n",
       "      <td>0.19</td>\n",
       "      <td>1.2</td>\n",
       "      <td>0.041</td>\n",
       "      <td>30.0</td>\n",
       "      <td>111.0</td>\n",
       "      <td>0.99254</td>\n",
       "      <td>2.99</td>\n",
       "      <td>0.46</td>\n",
       "      <td>9.4</td>\n",
       "      <td>6</td>\n",
       "      <td>0</td>\n",
       "    </tr>\n",
       "    <tr>\n",
       "      <th>6495</th>\n",
       "      <td>5.5</td>\n",
       "      <td>0.29</td>\n",
       "      <td>0.30</td>\n",
       "      <td>1.1</td>\n",
       "      <td>0.022</td>\n",
       "      <td>20.0</td>\n",
       "      <td>110.0</td>\n",
       "      <td>0.98869</td>\n",
       "      <td>3.34</td>\n",
       "      <td>0.38</td>\n",
       "      <td>12.8</td>\n",
       "      <td>7</td>\n",
       "      <td>0</td>\n",
       "    </tr>\n",
       "    <tr>\n",
       "      <th>6496</th>\n",
       "      <td>6.0</td>\n",
       "      <td>0.21</td>\n",
       "      <td>0.38</td>\n",
       "      <td>0.8</td>\n",
       "      <td>0.020</td>\n",
       "      <td>22.0</td>\n",
       "      <td>98.0</td>\n",
       "      <td>0.98941</td>\n",
       "      <td>3.26</td>\n",
       "      <td>0.32</td>\n",
       "      <td>11.8</td>\n",
       "      <td>6</td>\n",
       "      <td>0</td>\n",
       "    </tr>\n",
       "  </tbody>\n",
       "</table>\n",
       "<p>6497 rows × 13 columns</p>\n",
       "</div>"
      ],
      "text/plain": [
       "        0     1     2    3      4     5      6        7     8     9     10  \\\n",
       "0      7.4  0.70  0.00  1.9  0.076  11.0   34.0  0.99780  3.51  0.56   9.4   \n",
       "1      7.8  0.88  0.00  2.6  0.098  25.0   67.0  0.99680  3.20  0.68   9.8   \n",
       "2      7.8  0.76  0.04  2.3  0.092  15.0   54.0  0.99700  3.26  0.65   9.8   \n",
       "3     11.2  0.28  0.56  1.9  0.075  17.0   60.0  0.99800  3.16  0.58   9.8   \n",
       "4      7.4  0.70  0.00  1.9  0.076  11.0   34.0  0.99780  3.51  0.56   9.4   \n",
       "...    ...   ...   ...  ...    ...   ...    ...      ...   ...   ...   ...   \n",
       "6492   6.2  0.21  0.29  1.6  0.039  24.0   92.0  0.99114  3.27  0.50  11.2   \n",
       "6493   6.6  0.32  0.36  8.0  0.047  57.0  168.0  0.99490  3.15  0.46   9.6   \n",
       "6494   6.5  0.24  0.19  1.2  0.041  30.0  111.0  0.99254  2.99  0.46   9.4   \n",
       "6495   5.5  0.29  0.30  1.1  0.022  20.0  110.0  0.98869  3.34  0.38  12.8   \n",
       "6496   6.0  0.21  0.38  0.8  0.020  22.0   98.0  0.98941  3.26  0.32  11.8   \n",
       "\n",
       "      11  12  \n",
       "0      5   1  \n",
       "1      5   1  \n",
       "2      5   1  \n",
       "3      6   1  \n",
       "4      5   1  \n",
       "...   ..  ..  \n",
       "6492   6   0  \n",
       "6493   5   0  \n",
       "6494   6   0  \n",
       "6495   7   0  \n",
       "6496   6   0  \n",
       "\n",
       "[6497 rows x 13 columns]"
      ]
     },
     "execution_count": 2,
     "metadata": {},
     "output_type": "execute_result"
    }
   ],
   "source": [
    "data = pd.read_csv(\"https://raw.githubusercontent.com/haram4th/ADsP/main/wine.csv\", header=None)\n",
    "data"
   ]
  },
  {
   "cell_type": "markdown",
   "id": "33d0a6b9",
   "metadata": {},
   "source": [
    "1) Alcohol\n",
    "2) Malic acid\n",
    "3) Ash\n",
    "4) Alcalinity of ash\n",
    "5) Magnesium\n",
    "6) Total phenols\n",
    "7) Flavanoids\n",
    "8) Nonflavanoid phenols\n",
    "9) Proanthocyanins\n",
    "10)Color intensity\n",
    "11)Hue\n",
    "12)OD280/OD315 of diluted wines\n",
    "13)Proline"
   ]
  },
  {
   "cell_type": "code",
   "execution_count": 3,
   "id": "e7e2b835",
   "metadata": {},
   "outputs": [
    {
     "data": {
      "text/plain": [
       "Index([0, 1, 2, 3, 4, 5, 6, 7, 8, 9, 10, 11, 12], dtype='int64')"
      ]
     },
     "execution_count": 3,
     "metadata": {},
     "output_type": "execute_result"
    }
   ],
   "source": [
    "data.columns"
   ]
  },
  {
   "cell_type": "code",
   "execution_count": 4,
   "id": "e22205c1",
   "metadata": {},
   "outputs": [],
   "source": [
    "# data.columns = ['Alcohol', 'Malic acid', 'Ash', 'Alcalinity of ash' , 'Magnesium', 'Total phenols', 'Flavanoids' ,'Nonflavanoid phenols', 'Proanthocyanins' ,'Color intensity' ,'Hue' ,'OD280/OD315 of diluted wines' ,'Proline']"
   ]
  },
  {
   "cell_type": "code",
   "execution_count": 5,
   "id": "187da3ef",
   "metadata": {},
   "outputs": [
    {
     "data": {
      "text/plain": [
       "Index([0, 1, 2, 3, 4, 5, 6, 7, 8, 9, 10, 11, 12], dtype='int64')"
      ]
     },
     "execution_count": 5,
     "metadata": {},
     "output_type": "execute_result"
    }
   ],
   "source": [
    "data.columns"
   ]
  },
  {
   "cell_type": "code",
   "execution_count": 6,
   "id": "508fddc4",
   "metadata": {},
   "outputs": [
    {
     "data": {
      "text/html": [
       "<div>\n",
       "<style scoped>\n",
       "    .dataframe tbody tr th:only-of-type {\n",
       "        vertical-align: middle;\n",
       "    }\n",
       "\n",
       "    .dataframe tbody tr th {\n",
       "        vertical-align: top;\n",
       "    }\n",
       "\n",
       "    .dataframe thead th {\n",
       "        text-align: right;\n",
       "    }\n",
       "</style>\n",
       "<table border=\"1\" class=\"dataframe\">\n",
       "  <thead>\n",
       "    <tr style=\"text-align: right;\">\n",
       "      <th></th>\n",
       "      <th>0</th>\n",
       "      <th>1</th>\n",
       "      <th>2</th>\n",
       "      <th>3</th>\n",
       "      <th>4</th>\n",
       "      <th>5</th>\n",
       "      <th>6</th>\n",
       "      <th>7</th>\n",
       "      <th>8</th>\n",
       "      <th>9</th>\n",
       "      <th>10</th>\n",
       "      <th>11</th>\n",
       "      <th>12</th>\n",
       "    </tr>\n",
       "  </thead>\n",
       "  <tbody>\n",
       "    <tr>\n",
       "      <th>0</th>\n",
       "      <td>7.4</td>\n",
       "      <td>0.70</td>\n",
       "      <td>0.00</td>\n",
       "      <td>1.9</td>\n",
       "      <td>0.076</td>\n",
       "      <td>11.0</td>\n",
       "      <td>34.0</td>\n",
       "      <td>0.9978</td>\n",
       "      <td>3.51</td>\n",
       "      <td>0.56</td>\n",
       "      <td>9.4</td>\n",
       "      <td>5</td>\n",
       "      <td>1</td>\n",
       "    </tr>\n",
       "    <tr>\n",
       "      <th>1</th>\n",
       "      <td>7.8</td>\n",
       "      <td>0.88</td>\n",
       "      <td>0.00</td>\n",
       "      <td>2.6</td>\n",
       "      <td>0.098</td>\n",
       "      <td>25.0</td>\n",
       "      <td>67.0</td>\n",
       "      <td>0.9968</td>\n",
       "      <td>3.20</td>\n",
       "      <td>0.68</td>\n",
       "      <td>9.8</td>\n",
       "      <td>5</td>\n",
       "      <td>1</td>\n",
       "    </tr>\n",
       "    <tr>\n",
       "      <th>2</th>\n",
       "      <td>7.8</td>\n",
       "      <td>0.76</td>\n",
       "      <td>0.04</td>\n",
       "      <td>2.3</td>\n",
       "      <td>0.092</td>\n",
       "      <td>15.0</td>\n",
       "      <td>54.0</td>\n",
       "      <td>0.9970</td>\n",
       "      <td>3.26</td>\n",
       "      <td>0.65</td>\n",
       "      <td>9.8</td>\n",
       "      <td>5</td>\n",
       "      <td>1</td>\n",
       "    </tr>\n",
       "    <tr>\n",
       "      <th>3</th>\n",
       "      <td>11.2</td>\n",
       "      <td>0.28</td>\n",
       "      <td>0.56</td>\n",
       "      <td>1.9</td>\n",
       "      <td>0.075</td>\n",
       "      <td>17.0</td>\n",
       "      <td>60.0</td>\n",
       "      <td>0.9980</td>\n",
       "      <td>3.16</td>\n",
       "      <td>0.58</td>\n",
       "      <td>9.8</td>\n",
       "      <td>6</td>\n",
       "      <td>1</td>\n",
       "    </tr>\n",
       "    <tr>\n",
       "      <th>4</th>\n",
       "      <td>7.4</td>\n",
       "      <td>0.70</td>\n",
       "      <td>0.00</td>\n",
       "      <td>1.9</td>\n",
       "      <td>0.076</td>\n",
       "      <td>11.0</td>\n",
       "      <td>34.0</td>\n",
       "      <td>0.9978</td>\n",
       "      <td>3.51</td>\n",
       "      <td>0.56</td>\n",
       "      <td>9.4</td>\n",
       "      <td>5</td>\n",
       "      <td>1</td>\n",
       "    </tr>\n",
       "  </tbody>\n",
       "</table>\n",
       "</div>"
      ],
      "text/plain": [
       "     0     1     2    3      4     5     6       7     8     9    10  11  12\n",
       "0   7.4  0.70  0.00  1.9  0.076  11.0  34.0  0.9978  3.51  0.56  9.4   5   1\n",
       "1   7.8  0.88  0.00  2.6  0.098  25.0  67.0  0.9968  3.20  0.68  9.8   5   1\n",
       "2   7.8  0.76  0.04  2.3  0.092  15.0  54.0  0.9970  3.26  0.65  9.8   5   1\n",
       "3  11.2  0.28  0.56  1.9  0.075  17.0  60.0  0.9980  3.16  0.58  9.8   6   1\n",
       "4   7.4  0.70  0.00  1.9  0.076  11.0  34.0  0.9978  3.51  0.56  9.4   5   1"
      ]
     },
     "execution_count": 6,
     "metadata": {},
     "output_type": "execute_result"
    }
   ],
   "source": [
    "data.head()"
   ]
  },
  {
   "cell_type": "code",
   "execution_count": 7,
   "id": "02a8528b",
   "metadata": {},
   "outputs": [
    {
     "name": "stdout",
     "output_type": "stream",
     "text": [
      "<class 'pandas.core.frame.DataFrame'>\n",
      "RangeIndex: 6497 entries, 0 to 6496\n",
      "Data columns (total 13 columns):\n",
      " #   Column  Non-Null Count  Dtype  \n",
      "---  ------  --------------  -----  \n",
      " 0   0       6497 non-null   float64\n",
      " 1   1       6497 non-null   float64\n",
      " 2   2       6497 non-null   float64\n",
      " 3   3       6497 non-null   float64\n",
      " 4   4       6497 non-null   float64\n",
      " 5   5       6497 non-null   float64\n",
      " 6   6       6497 non-null   float64\n",
      " 7   7       6497 non-null   float64\n",
      " 8   8       6497 non-null   float64\n",
      " 9   9       6497 non-null   float64\n",
      " 10  10      6497 non-null   float64\n",
      " 11  11      6497 non-null   int64  \n",
      " 12  12      6497 non-null   int64  \n",
      "dtypes: float64(11), int64(2)\n",
      "memory usage: 660.0 KB\n"
     ]
    }
   ],
   "source": [
    "data.info()"
   ]
  },
  {
   "cell_type": "code",
   "execution_count": 8,
   "id": "eb400932",
   "metadata": {},
   "outputs": [
    {
     "data": {
      "text/plain": [
       "<Axes: >"
      ]
     },
     "execution_count": 8,
     "metadata": {},
     "output_type": "execute_result"
    },
    {
     "data": {
      "image/png": "[encoded data removed]",
      "text/plain": [
       "<Figure size 640x480 with 1 Axes>"
      ]
     },
     "metadata": {},
     "output_type": "display_data"
    }
   ],
   "source": [
    "sns.boxplot(data)"
   ]
  },
  {
   "cell_type": "code",
   "execution_count": 9,
   "id": "1ccc0dc7",
   "metadata": {},
   "outputs": [
    {
     "data": {
      "text/plain": [
       "<Axes: >"
      ]
     },
     "execution_count": 9,
     "metadata": {},
     "output_type": "execute_result"
    },
    {
     "data": {
      "image/png": "[encoded data removed]",
      "text/plain": [
       "<Figure size 640x480 with 1 Axes>"
      ]
     },
     "metadata": {},
     "output_type": "display_data"
    }
   ],
   "source": [
    "sns.boxplot(data.iloc[:,0:3])"
   ]
  },
  {
   "cell_type": "markdown",
   "id": "ce59b4ff",
   "metadata": {},
   "source": [
    "data['Proline'].value_counts()"
   ]
  },
  {
   "cell_type": "code",
   "execution_count": 10,
   "id": "8e6647af",
   "metadata": {},
   "outputs": [
    {
     "data": {
      "text/plain": [
       "12\n",
       "0    4898\n",
       "1    1599\n",
       "Name: count, dtype: int64"
      ]
     },
     "execution_count": 10,
     "metadata": {},
     "output_type": "execute_result"
    }
   ],
   "source": [
    "data[12].value_counts()"
   ]
  },
  {
   "cell_type": "markdown",
   "id": "45602d27",
   "metadata": {},
   "source": [
    "X = data.drop('Proline', axis=1)\n",
    "y = data['Proline']"
   ]
  },
  {
   "cell_type": "code",
   "execution_count": 11,
   "id": "c253719f",
   "metadata": {},
   "outputs": [],
   "source": [
    "X = data.drop(12, axis=1)\n",
    "y = data[12]"
   ]
  },
  {
   "cell_type": "code",
   "execution_count": 12,
   "id": "c21cd53a",
   "metadata": {},
   "outputs": [
    {
     "data": {
      "text/html": [
       "<div>\n",
       "<style scoped>\n",
       "    .dataframe tbody tr th:only-of-type {\n",
       "        vertical-align: middle;\n",
       "    }\n",
       "\n",
       "    .dataframe tbody tr th {\n",
       "        vertical-align: top;\n",
       "    }\n",
       "\n",
       "    .dataframe thead th {\n",
       "        text-align: right;\n",
       "    }\n",
       "</style>\n",
       "<table border=\"1\" class=\"dataframe\">\n",
       "  <thead>\n",
       "    <tr style=\"text-align: right;\">\n",
       "      <th></th>\n",
       "      <th>0</th>\n",
       "      <th>1</th>\n",
       "      <th>2</th>\n",
       "      <th>3</th>\n",
       "      <th>4</th>\n",
       "      <th>5</th>\n",
       "      <th>6</th>\n",
       "      <th>7</th>\n",
       "      <th>8</th>\n",
       "      <th>9</th>\n",
       "      <th>10</th>\n",
       "      <th>11</th>\n",
       "      <th>12</th>\n",
       "    </tr>\n",
       "  </thead>\n",
       "  <tbody>\n",
       "    <tr>\n",
       "      <th>0</th>\n",
       "      <td>7.4</td>\n",
       "      <td>0.70</td>\n",
       "      <td>0.00</td>\n",
       "      <td>1.9</td>\n",
       "      <td>0.076</td>\n",
       "      <td>11.0</td>\n",
       "      <td>34.0</td>\n",
       "      <td>0.99780</td>\n",
       "      <td>3.51</td>\n",
       "      <td>0.56</td>\n",
       "      <td>9.4</td>\n",
       "      <td>5</td>\n",
       "      <td>1</td>\n",
       "    </tr>\n",
       "    <tr>\n",
       "      <th>1</th>\n",
       "      <td>7.8</td>\n",
       "      <td>0.88</td>\n",
       "      <td>0.00</td>\n",
       "      <td>2.6</td>\n",
       "      <td>0.098</td>\n",
       "      <td>25.0</td>\n",
       "      <td>67.0</td>\n",
       "      <td>0.99680</td>\n",
       "      <td>3.20</td>\n",
       "      <td>0.68</td>\n",
       "      <td>9.8</td>\n",
       "      <td>5</td>\n",
       "      <td>1</td>\n",
       "    </tr>\n",
       "    <tr>\n",
       "      <th>2</th>\n",
       "      <td>7.8</td>\n",
       "      <td>0.76</td>\n",
       "      <td>0.04</td>\n",
       "      <td>2.3</td>\n",
       "      <td>0.092</td>\n",
       "      <td>15.0</td>\n",
       "      <td>54.0</td>\n",
       "      <td>0.99700</td>\n",
       "      <td>3.26</td>\n",
       "      <td>0.65</td>\n",
       "      <td>9.8</td>\n",
       "      <td>5</td>\n",
       "      <td>1</td>\n",
       "    </tr>\n",
       "    <tr>\n",
       "      <th>3</th>\n",
       "      <td>11.2</td>\n",
       "      <td>0.28</td>\n",
       "      <td>0.56</td>\n",
       "      <td>1.9</td>\n",
       "      <td>0.075</td>\n",
       "      <td>17.0</td>\n",
       "      <td>60.0</td>\n",
       "      <td>0.99800</td>\n",
       "      <td>3.16</td>\n",
       "      <td>0.58</td>\n",
       "      <td>9.8</td>\n",
       "      <td>6</td>\n",
       "      <td>1</td>\n",
       "    </tr>\n",
       "    <tr>\n",
       "      <th>4</th>\n",
       "      <td>7.4</td>\n",
       "      <td>0.70</td>\n",
       "      <td>0.00</td>\n",
       "      <td>1.9</td>\n",
       "      <td>0.076</td>\n",
       "      <td>11.0</td>\n",
       "      <td>34.0</td>\n",
       "      <td>0.99780</td>\n",
       "      <td>3.51</td>\n",
       "      <td>0.56</td>\n",
       "      <td>9.4</td>\n",
       "      <td>5</td>\n",
       "      <td>1</td>\n",
       "    </tr>\n",
       "    <tr>\n",
       "      <th>...</th>\n",
       "      <td>...</td>\n",
       "      <td>...</td>\n",
       "      <td>...</td>\n",
       "      <td>...</td>\n",
       "      <td>...</td>\n",
       "      <td>...</td>\n",
       "      <td>...</td>\n",
       "      <td>...</td>\n",
       "      <td>...</td>\n",
       "      <td>...</td>\n",
       "      <td>...</td>\n",
       "      <td>...</td>\n",
       "      <td>...</td>\n",
       "    </tr>\n",
       "    <tr>\n",
       "      <th>6492</th>\n",
       "      <td>6.2</td>\n",
       "      <td>0.21</td>\n",
       "      <td>0.29</td>\n",
       "      <td>1.6</td>\n",
       "      <td>0.039</td>\n",
       "      <td>24.0</td>\n",
       "      <td>92.0</td>\n",
       "      <td>0.99114</td>\n",
       "      <td>3.27</td>\n",
       "      <td>0.50</td>\n",
       "      <td>11.2</td>\n",
       "      <td>6</td>\n",
       "      <td>0</td>\n",
       "    </tr>\n",
       "    <tr>\n",
       "      <th>6493</th>\n",
       "      <td>6.6</td>\n",
       "      <td>0.32</td>\n",
       "      <td>0.36</td>\n",
       "      <td>8.0</td>\n",
       "      <td>0.047</td>\n",
       "      <td>57.0</td>\n",
       "      <td>168.0</td>\n",
       "      <td>0.99490</td>\n",
       "      <td>3.15</td>\n",
       "      <td>0.46</td>\n",
       "      <td>9.6</td>\n",
       "      <td>5</td>\n",
       "      <td>0</td>\n",
       "    </tr>\n",
       "    <tr>\n",
       "      <th>6494</th>\n",
       "      <td>6.5</td>\n",
       "      <td>0.24</td>\n",
       "      <td>0.19</td>\n",
       "      <td>1.2</td>\n",
       "      <td>0.041</td>\n",
       "      <td>30.0</td>\n",
       "      <td>111.0</td>\n",
       "      <td>0.99254</td>\n",
       "      <td>2.99</td>\n",
       "      <td>0.46</td>\n",
       "      <td>9.4</td>\n",
       "      <td>6</td>\n",
       "      <td>0</td>\n",
       "    </tr>\n",
       "    <tr>\n",
       "      <th>6495</th>\n",
       "      <td>5.5</td>\n",
       "      <td>0.29</td>\n",
       "      <td>0.30</td>\n",
       "      <td>1.1</td>\n",
       "      <td>0.022</td>\n",
       "      <td>20.0</td>\n",
       "      <td>110.0</td>\n",
       "      <td>0.98869</td>\n",
       "      <td>3.34</td>\n",
       "      <td>0.38</td>\n",
       "      <td>12.8</td>\n",
       "      <td>7</td>\n",
       "      <td>0</td>\n",
       "    </tr>\n",
       "    <tr>\n",
       "      <th>6496</th>\n",
       "      <td>6.0</td>\n",
       "      <td>0.21</td>\n",
       "      <td>0.38</td>\n",
       "      <td>0.8</td>\n",
       "      <td>0.020</td>\n",
       "      <td>22.0</td>\n",
       "      <td>98.0</td>\n",
       "      <td>0.98941</td>\n",
       "      <td>3.26</td>\n",
       "      <td>0.32</td>\n",
       "      <td>11.8</td>\n",
       "      <td>6</td>\n",
       "      <td>0</td>\n",
       "    </tr>\n",
       "  </tbody>\n",
       "</table>\n",
       "<p>6497 rows × 13 columns</p>\n",
       "</div>"
      ],
      "text/plain": [
       "        0     1     2    3      4     5      6        7     8     9     10  \\\n",
       "0      7.4  0.70  0.00  1.9  0.076  11.0   34.0  0.99780  3.51  0.56   9.4   \n",
       "1      7.8  0.88  0.00  2.6  0.098  25.0   67.0  0.99680  3.20  0.68   9.8   \n",
       "2      7.8  0.76  0.04  2.3  0.092  15.0   54.0  0.99700  3.26  0.65   9.8   \n",
       "3     11.2  0.28  0.56  1.9  0.075  17.0   60.0  0.99800  3.16  0.58   9.8   \n",
       "4      7.4  0.70  0.00  1.9  0.076  11.0   34.0  0.99780  3.51  0.56   9.4   \n",
       "...    ...   ...   ...  ...    ...   ...    ...      ...   ...   ...   ...   \n",
       "6492   6.2  0.21  0.29  1.6  0.039  24.0   92.0  0.99114  3.27  0.50  11.2   \n",
       "6493   6.6  0.32  0.36  8.0  0.047  57.0  168.0  0.99490  3.15  0.46   9.6   \n",
       "6494   6.5  0.24  0.19  1.2  0.041  30.0  111.0  0.99254  2.99  0.46   9.4   \n",
       "6495   5.5  0.29  0.30  1.1  0.022  20.0  110.0  0.98869  3.34  0.38  12.8   \n",
       "6496   6.0  0.21  0.38  0.8  0.020  22.0   98.0  0.98941  3.26  0.32  11.8   \n",
       "\n",
       "      11  12  \n",
       "0      5   1  \n",
       "1      5   1  \n",
       "2      5   1  \n",
       "3      6   1  \n",
       "4      5   1  \n",
       "...   ..  ..  \n",
       "6492   6   0  \n",
       "6493   5   0  \n",
       "6494   6   0  \n",
       "6495   7   0  \n",
       "6496   6   0  \n",
       "\n",
       "[6497 rows x 13 columns]"
      ]
     },
     "execution_count": 12,
     "metadata": {},
     "output_type": "execute_result"
    }
   ],
   "source": [
    "data"
   ]
  },
  {
   "cell_type": "code",
   "execution_count": 13,
   "id": "ef2aab2c",
   "metadata": {},
   "outputs": [],
   "source": [
    "from sklearn.preprocessing import RobustScaler"
   ]
  },
  {
   "cell_type": "code",
   "execution_count": 14,
   "id": "37128198",
   "metadata": {},
   "outputs": [
    {
     "data": {
      "text/plain": [
       "array([[ 0.30769231,  2.41176471, -2.21428571, ...,  0.29411765,\n",
       "        -0.5       , -1.        ],\n",
       "       [ 0.61538462,  3.47058824, -2.21428571, ...,  1.        ,\n",
       "        -0.27777778, -1.        ],\n",
       "       [ 0.61538462,  2.76470588, -1.92857143, ...,  0.82352941,\n",
       "        -0.27777778, -1.        ],\n",
       "       ...,\n",
       "       [-0.38461538, -0.29411765, -0.85714286, ..., -0.29411765,\n",
       "        -0.5       ,  0.        ],\n",
       "       [-1.15384615,  0.        , -0.07142857, ..., -0.76470588,\n",
       "         1.38888889,  1.        ],\n",
       "       [-0.76923077, -0.47058824,  0.5       , ..., -1.11764706,\n",
       "         0.83333333,  0.        ]])"
      ]
     },
     "execution_count": 14,
     "metadata": {},
     "output_type": "execute_result"
    }
   ],
   "source": [
    "rs = RobustScaler()\n",
    "X_scaled = rs.fit_transform(X)\n",
    "X_scaled"
   ]
  },
  {
   "cell_type": "code",
   "execution_count": 15,
   "id": "62bc57c2",
   "metadata": {},
   "outputs": [
    {
     "data": {
      "text/html": [
       "<div>\n",
       "<style scoped>\n",
       "    .dataframe tbody tr th:only-of-type {\n",
       "        vertical-align: middle;\n",
       "    }\n",
       "\n",
       "    .dataframe tbody tr th {\n",
       "        vertical-align: top;\n",
       "    }\n",
       "\n",
       "    .dataframe thead th {\n",
       "        text-align: right;\n",
       "    }\n",
       "</style>\n",
       "<table border=\"1\" class=\"dataframe\">\n",
       "  <thead>\n",
       "    <tr style=\"text-align: right;\">\n",
       "      <th></th>\n",
       "      <th>0</th>\n",
       "      <th>1</th>\n",
       "      <th>2</th>\n",
       "      <th>3</th>\n",
       "      <th>4</th>\n",
       "      <th>5</th>\n",
       "      <th>6</th>\n",
       "      <th>7</th>\n",
       "      <th>8</th>\n",
       "      <th>9</th>\n",
       "      <th>10</th>\n",
       "      <th>11</th>\n",
       "    </tr>\n",
       "  </thead>\n",
       "  <tbody>\n",
       "    <tr>\n",
       "      <th>0</th>\n",
       "      <td>7.4</td>\n",
       "      <td>0.70</td>\n",
       "      <td>0.00</td>\n",
       "      <td>1.9</td>\n",
       "      <td>0.076</td>\n",
       "      <td>11.0</td>\n",
       "      <td>34.0</td>\n",
       "      <td>0.99780</td>\n",
       "      <td>3.51</td>\n",
       "      <td>0.56</td>\n",
       "      <td>9.4</td>\n",
       "      <td>5</td>\n",
       "    </tr>\n",
       "    <tr>\n",
       "      <th>1</th>\n",
       "      <td>7.8</td>\n",
       "      <td>0.88</td>\n",
       "      <td>0.00</td>\n",
       "      <td>2.6</td>\n",
       "      <td>0.098</td>\n",
       "      <td>25.0</td>\n",
       "      <td>67.0</td>\n",
       "      <td>0.99680</td>\n",
       "      <td>3.20</td>\n",
       "      <td>0.68</td>\n",
       "      <td>9.8</td>\n",
       "      <td>5</td>\n",
       "    </tr>\n",
       "    <tr>\n",
       "      <th>2</th>\n",
       "      <td>7.8</td>\n",
       "      <td>0.76</td>\n",
       "      <td>0.04</td>\n",
       "      <td>2.3</td>\n",
       "      <td>0.092</td>\n",
       "      <td>15.0</td>\n",
       "      <td>54.0</td>\n",
       "      <td>0.99700</td>\n",
       "      <td>3.26</td>\n",
       "      <td>0.65</td>\n",
       "      <td>9.8</td>\n",
       "      <td>5</td>\n",
       "    </tr>\n",
       "    <tr>\n",
       "      <th>3</th>\n",
       "      <td>11.2</td>\n",
       "      <td>0.28</td>\n",
       "      <td>0.56</td>\n",
       "      <td>1.9</td>\n",
       "      <td>0.075</td>\n",
       "      <td>17.0</td>\n",
       "      <td>60.0</td>\n",
       "      <td>0.99800</td>\n",
       "      <td>3.16</td>\n",
       "      <td>0.58</td>\n",
       "      <td>9.8</td>\n",
       "      <td>6</td>\n",
       "    </tr>\n",
       "    <tr>\n",
       "      <th>4</th>\n",
       "      <td>7.4</td>\n",
       "      <td>0.70</td>\n",
       "      <td>0.00</td>\n",
       "      <td>1.9</td>\n",
       "      <td>0.076</td>\n",
       "      <td>11.0</td>\n",
       "      <td>34.0</td>\n",
       "      <td>0.99780</td>\n",
       "      <td>3.51</td>\n",
       "      <td>0.56</td>\n",
       "      <td>9.4</td>\n",
       "      <td>5</td>\n",
       "    </tr>\n",
       "    <tr>\n",
       "      <th>...</th>\n",
       "      <td>...</td>\n",
       "      <td>...</td>\n",
       "      <td>...</td>\n",
       "      <td>...</td>\n",
       "      <td>...</td>\n",
       "      <td>...</td>\n",
       "      <td>...</td>\n",
       "      <td>...</td>\n",
       "      <td>...</td>\n",
       "      <td>...</td>\n",
       "      <td>...</td>\n",
       "      <td>...</td>\n",
       "    </tr>\n",
       "    <tr>\n",
       "      <th>6492</th>\n",
       "      <td>6.2</td>\n",
       "      <td>0.21</td>\n",
       "      <td>0.29</td>\n",
       "      <td>1.6</td>\n",
       "      <td>0.039</td>\n",
       "      <td>24.0</td>\n",
       "      <td>92.0</td>\n",
       "      <td>0.99114</td>\n",
       "      <td>3.27</td>\n",
       "      <td>0.50</td>\n",
       "      <td>11.2</td>\n",
       "      <td>6</td>\n",
       "    </tr>\n",
       "    <tr>\n",
       "      <th>6493</th>\n",
       "      <td>6.6</td>\n",
       "      <td>0.32</td>\n",
       "      <td>0.36</td>\n",
       "      <td>8.0</td>\n",
       "      <td>0.047</td>\n",
       "      <td>57.0</td>\n",
       "      <td>168.0</td>\n",
       "      <td>0.99490</td>\n",
       "      <td>3.15</td>\n",
       "      <td>0.46</td>\n",
       "      <td>9.6</td>\n",
       "      <td>5</td>\n",
       "    </tr>\n",
       "    <tr>\n",
       "      <th>6494</th>\n",
       "      <td>6.5</td>\n",
       "      <td>0.24</td>\n",
       "      <td>0.19</td>\n",
       "      <td>1.2</td>\n",
       "      <td>0.041</td>\n",
       "      <td>30.0</td>\n",
       "      <td>111.0</td>\n",
       "      <td>0.99254</td>\n",
       "      <td>2.99</td>\n",
       "      <td>0.46</td>\n",
       "      <td>9.4</td>\n",
       "      <td>6</td>\n",
       "    </tr>\n",
       "    <tr>\n",
       "      <th>6495</th>\n",
       "      <td>5.5</td>\n",
       "      <td>0.29</td>\n",
       "      <td>0.30</td>\n",
       "      <td>1.1</td>\n",
       "      <td>0.022</td>\n",
       "      <td>20.0</td>\n",
       "      <td>110.0</td>\n",
       "      <td>0.98869</td>\n",
       "      <td>3.34</td>\n",
       "      <td>0.38</td>\n",
       "      <td>12.8</td>\n",
       "      <td>7</td>\n",
       "    </tr>\n",
       "    <tr>\n",
       "      <th>6496</th>\n",
       "      <td>6.0</td>\n",
       "      <td>0.21</td>\n",
       "      <td>0.38</td>\n",
       "      <td>0.8</td>\n",
       "      <td>0.020</td>\n",
       "      <td>22.0</td>\n",
       "      <td>98.0</td>\n",
       "      <td>0.98941</td>\n",
       "      <td>3.26</td>\n",
       "      <td>0.32</td>\n",
       "      <td>11.8</td>\n",
       "      <td>6</td>\n",
       "    </tr>\n",
       "  </tbody>\n",
       "</table>\n",
       "<p>6497 rows × 12 columns</p>\n",
       "</div>"
      ],
      "text/plain": [
       "        0     1     2    3      4     5      6        7     8     9     10  11\n",
       "0      7.4  0.70  0.00  1.9  0.076  11.0   34.0  0.99780  3.51  0.56   9.4   5\n",
       "1      7.8  0.88  0.00  2.6  0.098  25.0   67.0  0.99680  3.20  0.68   9.8   5\n",
       "2      7.8  0.76  0.04  2.3  0.092  15.0   54.0  0.99700  3.26  0.65   9.8   5\n",
       "3     11.2  0.28  0.56  1.9  0.075  17.0   60.0  0.99800  3.16  0.58   9.8   6\n",
       "4      7.4  0.70  0.00  1.9  0.076  11.0   34.0  0.99780  3.51  0.56   9.4   5\n",
       "...    ...   ...   ...  ...    ...   ...    ...      ...   ...   ...   ...  ..\n",
       "6492   6.2  0.21  0.29  1.6  0.039  24.0   92.0  0.99114  3.27  0.50  11.2   6\n",
       "6493   6.6  0.32  0.36  8.0  0.047  57.0  168.0  0.99490  3.15  0.46   9.6   5\n",
       "6494   6.5  0.24  0.19  1.2  0.041  30.0  111.0  0.99254  2.99  0.46   9.4   6\n",
       "6495   5.5  0.29  0.30  1.1  0.022  20.0  110.0  0.98869  3.34  0.38  12.8   7\n",
       "6496   6.0  0.21  0.38  0.8  0.020  22.0   98.0  0.98941  3.26  0.32  11.8   6\n",
       "\n",
       "[6497 rows x 12 columns]"
      ]
     },
     "execution_count": 15,
     "metadata": {},
     "output_type": "execute_result"
    }
   ],
   "source": [
    "X"
   ]
  },
  {
   "cell_type": "code",
   "execution_count": 16,
   "id": "dc9379a3",
   "metadata": {},
   "outputs": [
    {
     "data": {
      "text/plain": [
       "0       1\n",
       "1       1\n",
       "2       1\n",
       "3       1\n",
       "4       1\n",
       "       ..\n",
       "6492    0\n",
       "6493    0\n",
       "6494    0\n",
       "6495    0\n",
       "6496    0\n",
       "Name: 12, Length: 6497, dtype: int64"
      ]
     },
     "execution_count": 16,
     "metadata": {},
     "output_type": "execute_result"
    }
   ],
   "source": [
    "y"
   ]
  },
  {
   "cell_type": "code",
   "execution_count": 17,
   "id": "e9f81a8c",
   "metadata": {},
   "outputs": [],
   "source": [
    "from sklearn.model_selection import train_test_split"
   ]
  },
  {
   "cell_type": "code",
   "execution_count": 18,
   "id": "4bcd49a3",
   "metadata": {},
   "outputs": [],
   "source": [
    "X_train, X_valid, y_train, y_valid = train_test_split(X_scaled, y, test_size=0.4, stratify=y, random_state=10)\n",
    "X_valid, X_test, y_valid, y_test = train_test_split(X_valid, y_valid, test_size=0.5, stratify=y_valid, random_state=10)"
   ]
  },
  {
   "cell_type": "code",
   "execution_count": 19,
   "id": "9ce35cd1",
   "metadata": {},
   "outputs": [
    {
     "name": "stderr",
     "output_type": "stream",
     "text": [
      "2024-09-10 11:32:39.608992: I tensorflow/core/platform/cpu_feature_guard.cc:193] This TensorFlow binary is optimized with oneAPI Deep Neural Network Library (oneDNN) to use the following CPU instructions in performance-critical operations:  AVX2 FMA\n",
      "To enable them in other operations, rebuild TensorFlow with the appropriate compiler flags.\n",
      "2024-09-10 11:32:41.372733: I tensorflow/c/logging.cc:34] Successfully opened dynamic library libdirectml.d6f03b303ac3c4f2eeb8ca631688c9757b361310.so\n",
      "2024-09-10 11:32:41.372895: I tensorflow/c/logging.cc:34] Successfully opened dynamic library libdxcore.so\n",
      "2024-09-10 11:32:41.376624: I tensorflow/c/logging.cc:34] Successfully opened dynamic library libd3d12.so\n",
      "2024-09-10 11:32:41.881811: I tensorflow/c/logging.cc:34] DirectML device enumeration: found 1 compatible adapters.\n"
     ]
    }
   ],
   "source": [
    "import tensorflow as tf\n",
    "from tensorflow.keras.models import Sequential\n",
    "from tensorflow.keras.layers import Dense, Input\n",
    "from sklearn.metrics import classification_report"
   ]
  },
  {
   "cell_type": "code",
   "execution_count": 20,
   "id": "f03771eb",
   "metadata": {},
   "outputs": [
    {
     "name": "stdout",
     "output_type": "stream",
     "text": [
      "Model: \"sequential\"\n",
      "_________________________________________________________________\n",
      " Layer (type)                Output Shape              Param #   \n",
      "=================================================================\n",
      " dense (Dense)               (None, 32)                416       \n",
      "                                                                 \n",
      " dense_1 (Dense)             (None, 16)                528       \n",
      "                                                                 \n",
      " dense_2 (Dense)             (None, 8)                 136       \n",
      "                                                                 \n",
      " dense_3 (Dense)             (None, 1)                 9         \n",
      "                                                                 \n",
      "=================================================================\n",
      "Total params: 1,089\n",
      "Trainable params: 1,089\n",
      "Non-trainable params: 0\n",
      "_________________________________________________________________\n"
     ]
    },
    {
     "name": "stderr",
     "output_type": "stream",
     "text": [
      "2024-09-10 11:32:42.195920: I tensorflow/core/platform/cpu_feature_guard.cc:193] This TensorFlow binary is optimized with oneAPI Deep Neural Network Library (oneDNN) to use the following CPU instructions in performance-critical operations:  AVX2 FMA\n",
      "To enable them in other operations, rebuild TensorFlow with the appropriate compiler flags.\n",
      "2024-09-10 11:32:42.197766: I tensorflow/c/logging.cc:34] DirectML: creating device on adapter 0 (AMD Radeon(TM) Graphics)\n",
      "2024-09-10 11:32:42.271995: I tensorflow/core/common_runtime/pluggable_device/pluggable_device_factory.cc:306] Could not identify NUMA node of platform GPU ID 0, defaulting to 0. Your kernel may not have been built with NUMA support.\n",
      "2024-09-10 11:32:42.272050: W tensorflow/core/common_runtime/pluggable_device/pluggable_device_bfc_allocator.cc:28] Overriding allow_growth setting because force_memory_growth was requested by the device.\n",
      "2024-09-10 11:32:42.272075: I tensorflow/core/common_runtime/pluggable_device/pluggable_device_factory.cc:272] Created TensorFlow device (/job:localhost/replica:0/task:0/device:GPU:0 with 14845 MB memory) -> physical PluggableDevice (device: 0, name: DML, pci bus id: <undefined>)\n"
     ]
    }
   ],
   "source": [
    "model = Sequential()\n",
    "model.add(Dense(32, input_dim = X_train.shape[1], activation='relu')) # 은닉층 = dense\n",
    "model.add(Dense(16, activation='relu'))\n",
    "model.add(Dense(8, activation='relu'))\n",
    "model.add(Dense(1, activation = 'sigmoid')) # 이진분류\n",
    "model.summary()"
   ]
  },
  {
   "cell_type": "code",
   "execution_count": 21,
   "id": "6e920634",
   "metadata": {
    "scrolled": true
   },
   "outputs": [
    {
     "name": "stdout",
     "output_type": "stream",
     "text": [
      "Epoch 1/100\n",
      "7/8 [=========================>....] - ETA: 0s - loss: 0.8509 - accuracy: 0.2486"
     ]
    },
    {
     "name": "stderr",
     "output_type": "stream",
     "text": [
      "2024-09-10 11:32:42.904681: I tensorflow/core/grappler/optimizers/custom_graph_optimizer_registry.cc:114] Plugin optimizer for device_type GPU is enabled.\n",
      "2024-09-10 11:32:42.967283: I tensorflow/core/common_runtime/pluggable_device/pluggable_device_factory.cc:306] Could not identify NUMA node of platform GPU ID 0, defaulting to 0. Your kernel may not have been built with NUMA support.\n",
      "2024-09-10 11:32:42.967341: I tensorflow/core/common_runtime/pluggable_device/pluggable_device_factory.cc:272] Created TensorFlow device (/job:localhost/replica:0/task:0/device:GPU:0 with 14845 MB memory) -> physical PluggableDevice (device: 0, name: DML, pci bus id: <undefined>)\n"
     ]
    },
    {
     "name": "stdout",
     "output_type": "stream",
     "text": [
      "8/8 [==============================] - 1s 34ms/step - loss: 0.8480 - accuracy: 0.2460 - val_loss: 0.8030 - val_accuracy: 0.2463\n",
      "Epoch 2/100\n",
      "8/8 [==============================] - 0s 15ms/step - loss: 0.7725 - accuracy: 0.2473 - val_loss: 0.7439 - val_accuracy: 0.2540\n",
      "Epoch 3/100\n",
      "1/8 [==>...........................] - ETA: 0s - loss: 0.7385 - accuracy: 0.2600"
     ]
    },
    {
     "name": "stderr",
     "output_type": "stream",
     "text": [
      "2024-09-10 11:32:43.196688: I tensorflow/core/grappler/optimizers/custom_graph_optimizer_registry.cc:114] Plugin optimizer for device_type GPU is enabled.\n",
      "2024-09-10 11:32:43.222176: I tensorflow/core/common_runtime/pluggable_device/pluggable_device_factory.cc:306] Could not identify NUMA node of platform GPU ID 0, defaulting to 0. Your kernel may not have been built with NUMA support.\n",
      "2024-09-10 11:32:43.222236: I tensorflow/core/common_runtime/pluggable_device/pluggable_device_factory.cc:272] Created TensorFlow device (/job:localhost/replica:0/task:0/device:GPU:0 with 14845 MB memory) -> physical PluggableDevice (device: 0, name: DML, pci bus id: <undefined>)\n"
     ]
    },
    {
     "name": "stdout",
     "output_type": "stream",
     "text": [
      "8/8 [==============================] - 0s 17ms/step - loss: 0.7212 - accuracy: 0.2696 - val_loss: 0.7028 - val_accuracy: 0.3025\n",
      "Epoch 4/100\n",
      "8/8 [==============================] - 0s 16ms/step - loss: 0.6838 - accuracy: 0.3443 - val_loss: 0.6686 - val_accuracy: 0.4088\n",
      "Epoch 5/100\n",
      "8/8 [==============================] - 0s 14ms/step - loss: 0.6528 - accuracy: 0.4751 - val_loss: 0.6407 - val_accuracy: 0.5550\n",
      "Epoch 6/100\n",
      "8/8 [==============================] - 0s 16ms/step - loss: 0.6271 - accuracy: 0.6303 - val_loss: 0.6183 - val_accuracy: 0.6759\n",
      "Epoch 7/100\n",
      "8/8 [==============================] - 0s 18ms/step - loss: 0.6056 - accuracy: 0.7373 - val_loss: 0.5984 - val_accuracy: 0.7560\n",
      "Epoch 8/100\n",
      "8/8 [==============================] - 0s 16ms/step - loss: 0.5870 - accuracy: 0.8114 - val_loss: 0.5806 - val_accuracy: 0.8176\n",
      "Epoch 9/100\n",
      "8/8 [==============================] - 0s 14ms/step - loss: 0.5706 - accuracy: 0.8625 - val_loss: 0.5648 - val_accuracy: 0.8661\n",
      "Epoch 10/100\n",
      "8/8 [==============================] - 0s 16ms/step - loss: 0.5562 - accuracy: 0.8971 - val_loss: 0.5506 - val_accuracy: 0.8999\n",
      "Epoch 11/100\n",
      "8/8 [==============================] - 0s 14ms/step - loss: 0.5437 - accuracy: 0.9156 - val_loss: 0.5383 - val_accuracy: 0.9222\n",
      "Epoch 12/100\n",
      "8/8 [==============================] - 0s 16ms/step - loss: 0.5327 - accuracy: 0.9315 - val_loss: 0.5280 - val_accuracy: 0.9392\n",
      "Epoch 13/100\n",
      "8/8 [==============================] - 0s 14ms/step - loss: 0.5235 - accuracy: 0.9410 - val_loss: 0.5192 - val_accuracy: 0.9515\n",
      "Epoch 14/100\n",
      "8/8 [==============================] - 0s 13ms/step - loss: 0.5156 - accuracy: 0.9528 - val_loss: 0.5117 - val_accuracy: 0.9630\n",
      "Epoch 15/100\n",
      "8/8 [==============================] - 0s 16ms/step - loss: 0.5088 - accuracy: 0.9602 - val_loss: 0.5053 - val_accuracy: 0.9684\n",
      "Epoch 16/100\n",
      "8/8 [==============================] - 0s 16ms/step - loss: 0.5028 - accuracy: 0.9659 - val_loss: 0.4998 - val_accuracy: 0.9707\n",
      "Epoch 17/100\n",
      "8/8 [==============================] - 0s 13ms/step - loss: 0.4974 - accuracy: 0.9715 - val_loss: 0.4948 - val_accuracy: 0.9754\n",
      "Epoch 18/100\n",
      "8/8 [==============================] - 0s 14ms/step - loss: 0.4925 - accuracy: 0.9759 - val_loss: 0.4901 - val_accuracy: 0.9792\n",
      "Epoch 19/100\n",
      "8/8 [==============================] - 0s 15ms/step - loss: 0.4879 - accuracy: 0.9790 - val_loss: 0.4858 - val_accuracy: 0.9800\n",
      "Epoch 20/100\n",
      "8/8 [==============================] - 0s 16ms/step - loss: 0.4836 - accuracy: 0.9808 - val_loss: 0.4819 - val_accuracy: 0.9808\n",
      "Epoch 21/100\n",
      "8/8 [==============================] - 0s 15ms/step - loss: 0.4797 - accuracy: 0.9836 - val_loss: 0.4781 - val_accuracy: 0.9823\n",
      "Epoch 22/100\n",
      "8/8 [==============================] - 0s 14ms/step - loss: 0.4759 - accuracy: 0.9861 - val_loss: 0.4745 - val_accuracy: 0.9823\n",
      "Epoch 23/100\n",
      "8/8 [==============================] - 0s 16ms/step - loss: 0.4723 - accuracy: 0.9867 - val_loss: 0.4709 - val_accuracy: 0.9846\n",
      "Epoch 24/100\n",
      "8/8 [==============================] - 0s 16ms/step - loss: 0.4688 - accuracy: 0.9887 - val_loss: 0.4675 - val_accuracy: 0.9854\n",
      "Epoch 25/100\n",
      "8/8 [==============================] - 0s 14ms/step - loss: 0.4654 - accuracy: 0.9897 - val_loss: 0.4643 - val_accuracy: 0.9854\n",
      "Epoch 26/100\n",
      "8/8 [==============================] - 0s 13ms/step - loss: 0.4621 - accuracy: 0.9903 - val_loss: 0.4611 - val_accuracy: 0.9854\n",
      "Epoch 27/100\n",
      "8/8 [==============================] - 0s 15ms/step - loss: 0.4589 - accuracy: 0.9905 - val_loss: 0.4580 - val_accuracy: 0.9869\n",
      "Epoch 28/100\n",
      "8/8 [==============================] - 0s 14ms/step - loss: 0.4557 - accuracy: 0.9905 - val_loss: 0.4549 - val_accuracy: 0.9885\n",
      "Epoch 29/100\n",
      "8/8 [==============================] - 0s 14ms/step - loss: 0.4526 - accuracy: 0.9908 - val_loss: 0.4518 - val_accuracy: 0.9892\n",
      "Epoch 30/100\n",
      "8/8 [==============================] - 0s 13ms/step - loss: 0.4496 - accuracy: 0.9910 - val_loss: 0.4488 - val_accuracy: 0.9900\n",
      "Epoch 31/100\n",
      "8/8 [==============================] - 0s 14ms/step - loss: 0.4466 - accuracy: 0.9915 - val_loss: 0.4459 - val_accuracy: 0.9900\n",
      "Epoch 32/100\n",
      "8/8 [==============================] - 0s 15ms/step - loss: 0.4437 - accuracy: 0.9923 - val_loss: 0.4430 - val_accuracy: 0.9900\n",
      "Epoch 33/100\n",
      "8/8 [==============================] - 0s 16ms/step - loss: 0.4407 - accuracy: 0.9926 - val_loss: 0.4401 - val_accuracy: 0.9908\n",
      "Epoch 34/100\n",
      "8/8 [==============================] - 0s 14ms/step - loss: 0.4379 - accuracy: 0.9926 - val_loss: 0.4372 - val_accuracy: 0.9908\n",
      "Epoch 35/100\n",
      "8/8 [==============================] - 0s 13ms/step - loss: 0.4351 - accuracy: 0.9926 - val_loss: 0.4345 - val_accuracy: 0.9915\n",
      "Epoch 36/100\n",
      "8/8 [==============================] - 0s 16ms/step - loss: 0.4323 - accuracy: 0.9931 - val_loss: 0.4318 - val_accuracy: 0.9915\n",
      "Epoch 37/100\n",
      "8/8 [==============================] - 0s 15ms/step - loss: 0.4296 - accuracy: 0.9933 - val_loss: 0.4291 - val_accuracy: 0.9915\n",
      "Epoch 38/100\n",
      "8/8 [==============================] - 0s 14ms/step - loss: 0.4268 - accuracy: 0.9949 - val_loss: 0.4264 - val_accuracy: 0.9915\n",
      "Epoch 39/100\n",
      "8/8 [==============================] - 0s 14ms/step - loss: 0.4241 - accuracy: 0.9954 - val_loss: 0.4239 - val_accuracy: 0.9915\n",
      "Epoch 40/100\n",
      "8/8 [==============================] - 0s 16ms/step - loss: 0.4215 - accuracy: 0.9954 - val_loss: 0.4213 - val_accuracy: 0.9915\n",
      "Epoch 41/100\n",
      "8/8 [==============================] - 0s 14ms/step - loss: 0.4188 - accuracy: 0.9954 - val_loss: 0.4187 - val_accuracy: 0.9915\n",
      "Epoch 42/100\n",
      "8/8 [==============================] - 0s 15ms/step - loss: 0.4162 - accuracy: 0.9954 - val_loss: 0.4162 - val_accuracy: 0.9915\n",
      "Epoch 43/100\n",
      "8/8 [==============================] - 0s 14ms/step - loss: 0.4136 - accuracy: 0.9954 - val_loss: 0.4137 - val_accuracy: 0.9923\n",
      "Epoch 44/100\n",
      "8/8 [==============================] - 0s 16ms/step - loss: 0.4111 - accuracy: 0.9956 - val_loss: 0.4112 - val_accuracy: 0.9923\n",
      "Epoch 45/100\n",
      "8/8 [==============================] - 0s 14ms/step - loss: 0.4086 - accuracy: 0.9956 - val_loss: 0.4087 - val_accuracy: 0.9931\n",
      "Epoch 46/100\n",
      "8/8 [==============================] - 0s 13ms/step - loss: 0.4061 - accuracy: 0.9956 - val_loss: 0.4062 - val_accuracy: 0.9931\n",
      "Epoch 47/100\n",
      "8/8 [==============================] - 0s 14ms/step - loss: 0.4037 - accuracy: 0.9962 - val_loss: 0.4039 - val_accuracy: 0.9931\n",
      "Epoch 48/100\n",
      "8/8 [==============================] - 0s 14ms/step - loss: 0.4012 - accuracy: 0.9962 - val_loss: 0.4015 - val_accuracy: 0.9923\n",
      "Epoch 49/100\n",
      "8/8 [==============================] - 0s 15ms/step - loss: 0.3988 - accuracy: 0.9962 - val_loss: 0.3991 - val_accuracy: 0.9931\n",
      "Epoch 50/100\n",
      "8/8 [==============================] - 0s 16ms/step - loss: 0.3964 - accuracy: 0.9964 - val_loss: 0.3968 - val_accuracy: 0.9931\n",
      "Epoch 51/100\n",
      "8/8 [==============================] - 0s 14ms/step - loss: 0.3941 - accuracy: 0.9964 - val_loss: 0.3945 - val_accuracy: 0.9931\n",
      "Epoch 52/100\n",
      "8/8 [==============================] - 0s 14ms/step - loss: 0.3917 - accuracy: 0.9964 - val_loss: 0.3922 - val_accuracy: 0.9931\n",
      "Epoch 53/100\n",
      "8/8 [==============================] - 0s 16ms/step - loss: 0.3894 - accuracy: 0.9964 - val_loss: 0.3899 - val_accuracy: 0.9931\n",
      "Epoch 54/100\n",
      "8/8 [==============================] - 0s 16ms/step - loss: 0.3871 - accuracy: 0.9964 - val_loss: 0.3876 - val_accuracy: 0.9931\n",
      "Epoch 55/100\n",
      "8/8 [==============================] - 0s 14ms/step - loss: 0.3848 - accuracy: 0.9964 - val_loss: 0.3854 - val_accuracy: 0.9931\n",
      "Epoch 56/100\n",
      "8/8 [==============================] - 0s 14ms/step - loss: 0.3826 - accuracy: 0.9964 - val_loss: 0.3833 - val_accuracy: 0.9931\n",
      "Epoch 57/100\n",
      "8/8 [==============================] - 0s 16ms/step - loss: 0.3803 - accuracy: 0.9964 - val_loss: 0.3811 - val_accuracy: 0.9931\n",
      "Epoch 58/100\n",
      "8/8 [==============================] - 0s 14ms/step - loss: 0.3781 - accuracy: 0.9964 - val_loss: 0.3788 - val_accuracy: 0.9931\n",
      "Epoch 59/100\n",
      "8/8 [==============================] - 0s 16ms/step - loss: 0.3759 - accuracy: 0.9964 - val_loss: 0.3766 - val_accuracy: 0.9931\n",
      "Epoch 60/100\n",
      "8/8 [==============================] - 0s 15ms/step - loss: 0.3737 - accuracy: 0.9967 - val_loss: 0.3744 - val_accuracy: 0.9931\n",
      "Epoch 61/100\n"
     ]
    },
    {
     "name": "stdout",
     "output_type": "stream",
     "text": [
      "8/8 [==============================] - 0s 14ms/step - loss: 0.3715 - accuracy: 0.9969 - val_loss: 0.3723 - val_accuracy: 0.9938\n",
      "Epoch 62/100\n",
      "8/8 [==============================] - 0s 13ms/step - loss: 0.3694 - accuracy: 0.9969 - val_loss: 0.3703 - val_accuracy: 0.9931\n",
      "Epoch 63/100\n",
      "8/8 [==============================] - 0s 16ms/step - loss: 0.3672 - accuracy: 0.9969 - val_loss: 0.3681 - val_accuracy: 0.9938\n",
      "Epoch 64/100\n",
      "8/8 [==============================] - 0s 14ms/step - loss: 0.3651 - accuracy: 0.9972 - val_loss: 0.3660 - val_accuracy: 0.9938\n",
      "Epoch 65/100\n",
      "8/8 [==============================] - 0s 14ms/step - loss: 0.3630 - accuracy: 0.9972 - val_loss: 0.3639 - val_accuracy: 0.9938\n",
      "Epoch 66/100\n",
      "8/8 [==============================] - 0s 15ms/step - loss: 0.3609 - accuracy: 0.9972 - val_loss: 0.3619 - val_accuracy: 0.9938\n",
      "Epoch 67/100\n",
      "8/8 [==============================] - 0s 16ms/step - loss: 0.3588 - accuracy: 0.9972 - val_loss: 0.3598 - val_accuracy: 0.9938\n",
      "Epoch 68/100\n",
      "8/8 [==============================] - 0s 14ms/step - loss: 0.3568 - accuracy: 0.9972 - val_loss: 0.3578 - val_accuracy: 0.9938\n",
      "Epoch 69/100\n",
      "8/8 [==============================] - 0s 14ms/step - loss: 0.3547 - accuracy: 0.9972 - val_loss: 0.3558 - val_accuracy: 0.9931\n",
      "Epoch 70/100\n",
      "8/8 [==============================] - 0s 16ms/step - loss: 0.3527 - accuracy: 0.9972 - val_loss: 0.3538 - val_accuracy: 0.9931\n",
      "Epoch 71/100\n",
      "8/8 [==============================] - 0s 15ms/step - loss: 0.3507 - accuracy: 0.9972 - val_loss: 0.3518 - val_accuracy: 0.9931\n",
      "Epoch 72/100\n",
      "8/8 [==============================] - 0s 14ms/step - loss: 0.3487 - accuracy: 0.9972 - val_loss: 0.3498 - val_accuracy: 0.9954\n",
      "Epoch 73/100\n",
      "8/8 [==============================] - 0s 13ms/step - loss: 0.3467 - accuracy: 0.9972 - val_loss: 0.3479 - val_accuracy: 0.9946\n",
      "Epoch 74/100\n",
      "8/8 [==============================] - 0s 16ms/step - loss: 0.3447 - accuracy: 0.9972 - val_loss: 0.3460 - val_accuracy: 0.9938\n",
      "Epoch 75/100\n",
      "8/8 [==============================] - 0s 15ms/step - loss: 0.3428 - accuracy: 0.9972 - val_loss: 0.3440 - val_accuracy: 0.9938\n",
      "Epoch 76/100\n",
      "8/8 [==============================] - 0s 14ms/step - loss: 0.3408 - accuracy: 0.9972 - val_loss: 0.3422 - val_accuracy: 0.9938\n",
      "Epoch 77/100\n",
      "8/8 [==============================] - 0s 14ms/step - loss: 0.3389 - accuracy: 0.9972 - val_loss: 0.3402 - val_accuracy: 0.9946\n",
      "Epoch 78/100\n",
      "8/8 [==============================] - 0s 13ms/step - loss: 0.3370 - accuracy: 0.9972 - val_loss: 0.3384 - val_accuracy: 0.9946\n",
      "Epoch 79/100\n",
      "8/8 [==============================] - 0s 14ms/step - loss: 0.3351 - accuracy: 0.9972 - val_loss: 0.3365 - val_accuracy: 0.9938\n",
      "Epoch 80/100\n",
      "8/8 [==============================] - 0s 15ms/step - loss: 0.3332 - accuracy: 0.9972 - val_loss: 0.3347 - val_accuracy: 0.9938\n",
      "Epoch 81/100\n",
      "8/8 [==============================] - 0s 14ms/step - loss: 0.3313 - accuracy: 0.9972 - val_loss: 0.3327 - val_accuracy: 0.9946\n",
      "Epoch 82/100\n",
      "8/8 [==============================] - 0s 13ms/step - loss: 0.3295 - accuracy: 0.9972 - val_loss: 0.3309 - val_accuracy: 0.9946\n",
      "Epoch 83/100\n",
      "8/8 [==============================] - 0s 16ms/step - loss: 0.3276 - accuracy: 0.9972 - val_loss: 0.3291 - val_accuracy: 0.9946\n",
      "Epoch 84/100\n",
      "8/8 [==============================] - 0s 16ms/step - loss: 0.3258 - accuracy: 0.9972 - val_loss: 0.3274 - val_accuracy: 0.9938\n",
      "Epoch 85/100\n",
      "8/8 [==============================] - 0s 14ms/step - loss: 0.3240 - accuracy: 0.9972 - val_loss: 0.3254 - val_accuracy: 0.9954\n",
      "Epoch 86/100\n",
      "8/8 [==============================] - 0s 14ms/step - loss: 0.3222 - accuracy: 0.9974 - val_loss: 0.3237 - val_accuracy: 0.9946\n",
      "Epoch 87/100\n",
      "8/8 [==============================] - 0s 15ms/step - loss: 0.3204 - accuracy: 0.9974 - val_loss: 0.3220 - val_accuracy: 0.9946\n",
      "Epoch 88/100\n",
      "8/8 [==============================] - 0s 16ms/step - loss: 0.3186 - accuracy: 0.9972 - val_loss: 0.3203 - val_accuracy: 0.9938\n",
      "Epoch 89/100\n",
      "8/8 [==============================] - 0s 14ms/step - loss: 0.3168 - accuracy: 0.9974 - val_loss: 0.3185 - val_accuracy: 0.9946\n",
      "Epoch 90/100\n",
      "8/8 [==============================] - 0s 14ms/step - loss: 0.3151 - accuracy: 0.9974 - val_loss: 0.3167 - val_accuracy: 0.9946\n",
      "Epoch 91/100\n",
      "8/8 [==============================] - 0s 16ms/step - loss: 0.3133 - accuracy: 0.9974 - val_loss: 0.3150 - val_accuracy: 0.9946\n",
      "Epoch 92/100\n",
      "8/8 [==============================] - 0s 14ms/step - loss: 0.3116 - accuracy: 0.9974 - val_loss: 0.3134 - val_accuracy: 0.9946\n",
      "Epoch 93/100\n",
      "8/8 [==============================] - 0s 14ms/step - loss: 0.3099 - accuracy: 0.9974 - val_loss: 0.3117 - val_accuracy: 0.9946\n",
      "Epoch 94/100\n",
      "8/8 [==============================] - 0s 14ms/step - loss: 0.3081 - accuracy: 0.9974 - val_loss: 0.3100 - val_accuracy: 0.9946\n",
      "Epoch 95/100\n",
      "8/8 [==============================] - 0s 17ms/step - loss: 0.3065 - accuracy: 0.9974 - val_loss: 0.3083 - val_accuracy: 0.9946\n",
      "Epoch 96/100\n",
      "8/8 [==============================] - 0s 14ms/step - loss: 0.3048 - accuracy: 0.9974 - val_loss: 0.3066 - val_accuracy: 0.9946\n",
      "Epoch 97/100\n",
      "8/8 [==============================] - 0s 16ms/step - loss: 0.3031 - accuracy: 0.9974 - val_loss: 0.3050 - val_accuracy: 0.9946\n",
      "Epoch 98/100\n",
      "8/8 [==============================] - 0s 14ms/step - loss: 0.3014 - accuracy: 0.9974 - val_loss: 0.3034 - val_accuracy: 0.9946\n",
      "Epoch 99/100\n",
      "8/8 [==============================] - 0s 15ms/step - loss: 0.2998 - accuracy: 0.9974 - val_loss: 0.3017 - val_accuracy: 0.9946\n",
      "Epoch 100/100\n",
      "8/8 [==============================] - 0s 16ms/step - loss: 0.2981 - accuracy: 0.9974 - val_loss: 0.3001 - val_accuracy: 0.9946\n"
     ]
    }
   ],
   "source": [
    "model.compile(loss = 'binary_crossentropy', optimizer='adam', metrics=['accuracy'])\n",
    "history = model.fit(X_train, y_train, epochs=100, batch_size=500, validation_data=(X_valid, y_valid))"
   ]
  },
  {
   "cell_type": "code",
   "execution_count": 22,
   "id": "25ca1ab3",
   "metadata": {},
   "outputs": [
    {
     "name": "stdout",
     "output_type": "stream",
     "text": [
      "41/41 [==============================] - 0s 3ms/step\n"
     ]
    },
    {
     "name": "stderr",
     "output_type": "stream",
     "text": [
      "2024-09-10 11:32:55.033979: I tensorflow/core/grappler/optimizers/custom_graph_optimizer_registry.cc:114] Plugin optimizer for device_type GPU is enabled.\n",
      "2024-09-10 11:32:55.160533: I tensorflow/core/common_runtime/pluggable_device/pluggable_device_factory.cc:306] Could not identify NUMA node of platform GPU ID 0, defaulting to 0. Your kernel may not have been built with NUMA support.\n",
      "2024-09-10 11:32:55.160614: I tensorflow/core/common_runtime/pluggable_device/pluggable_device_factory.cc:272] Created TensorFlow device (/job:localhost/replica:0/task:0/device:GPU:0 with 14845 MB memory) -> physical PluggableDevice (device: 0, name: DML, pci bus id: <undefined>)\n",
      "2024-09-10 11:32:55.178995: I tensorflow/core/common_runtime/pluggable_device/pluggable_device_factory.cc:306] Could not identify NUMA node of platform GPU ID 0, defaulting to 0. Your kernel may not have been built with NUMA support.\n",
      "2024-09-10 11:32:55.179060: I tensorflow/core/common_runtime/pluggable_device/pluggable_device_factory.cc:272] Created TensorFlow device (/job:localhost/replica:0/task:0/device:GPU:0 with 14845 MB memory) -> physical PluggableDevice (device: 0, name: DML, pci bus id: <undefined>)\n",
      "2024-09-10 11:32:55.183417: I tensorflow/core/common_runtime/pluggable_device/pluggable_device_factory.cc:306] Could not identify NUMA node of platform GPU ID 0, defaulting to 0. Your kernel may not have been built with NUMA support.\n",
      "2024-09-10 11:32:55.183498: I tensorflow/core/common_runtime/pluggable_device/pluggable_device_factory.cc:272] Created TensorFlow device (/job:localhost/replica:0/task:0/device:GPU:0 with 14845 MB memory) -> physical PluggableDevice (device: 0, name: DML, pci bus id: <undefined>)\n"
     ]
    }
   ],
   "source": [
    "pred = model.predict(X_test)\n",
    "pred = pd.DataFrame(pred)\n",
    "pred = pred[0].apply(lambda x : 1 if x > 0.5 else 0)"
   ]
  },
  {
   "cell_type": "code",
   "execution_count": 23,
   "id": "0d9aba9e",
   "metadata": {},
   "outputs": [
    {
     "data": {
      "text/plain": [
       "dict_keys(['loss', 'accuracy', 'val_loss', 'val_accuracy'])"
      ]
     },
     "execution_count": 23,
     "metadata": {},
     "output_type": "execute_result"
    }
   ],
   "source": [
    "history.history.keys()"
   ]
  },
  {
   "cell_type": "code",
   "execution_count": 24,
   "id": "82df5042",
   "metadata": {},
   "outputs": [
    {
     "name": "stderr",
     "output_type": "stream",
     "text": [
      "/tmp/ipykernel_41749/2988759058.py:5: UserWarning: No artists with labels found to put in legend.  Note that artists whose label start with an underscore are ignored when legend() is called with no argument.\n",
      "  plt.legend()\n"
     ]
    },
    {
     "data": {
      "image/png": "[encoded data removed]",
      "text/plain": [
       "<Figure size 800x400 with 1 Axes>"
      ]
     },
     "metadata": {},
     "output_type": "display_data"
    }
   ],
   "source": [
    "plt.figure(figsize=(8, 4))\n",
    "plt.plot(history.history['loss'])\n",
    "plt.plot(history.history['val_loss'])\n",
    "plt.xlabel('epochd')\n",
    "plt.legend()\n",
    "plt.show()"
   ]
  },
  {
   "cell_type": "markdown",
   "id": "00acfadd",
   "metadata": {},
   "source": [
    "# EarlyStopping으로 학습 조기 중단 및 저장하기"
   ]
  },
  {
   "cell_type": "code",
   "execution_count": 26,
   "id": "7cb7e6f7",
   "metadata": {},
   "outputs": [],
   "source": [
    "from tensorflow.keras.callbacks import EarlyStopping, ModelCheckpoint"
   ]
  },
  {
   "cell_type": "code",
   "execution_count": 27,
   "id": "9a1ac95e",
   "metadata": {},
   "outputs": [],
   "source": [
    "early_stopping_callback = EarlyStopping(monitor='val_loss', patience=50)"
   ]
  },
  {
   "cell_type": "markdown",
   "id": "4e7ad3bb",
   "metadata": {},
   "source": [
    "# ModelCheckpoint\n",
    "* 모델을 중간에 저장하는 옵션"
   ]
  },
  {
   "cell_type": "code",
   "execution_count": 41,
   "id": "7bbc8d02",
   "metadata": {},
   "outputs": [
    {
     "name": "stdout",
     "output_type": "stream",
     "text": [
      "Directory /model created.\n"
     ]
    }
   ],
   "source": [
    "import os\n",
    "if not os.path.exists(\"./model\"):\n",
    "    os.makedirs('./model')\n",
    "    print(f\"Directory /model created.\")\n",
    "else:\n",
    "    print(f\"Directory /model already exists.\")"
   ]
  },
  {
   "cell_type": "code",
   "execution_count": 42,
   "id": "2d58cf6e",
   "metadata": {},
   "outputs": [],
   "source": [
    "modelpath = \"./model/{epoch:03d}--{val_loss:.4f}.keras\"\n",
    "checkpointer = ModelCheckpoint(filepath=modelpath, monitor=\"val_loss\", verbose=0, save_best_only=True)"
   ]
  },
  {
   "cell_type": "code",
   "execution_count": 43,
   "id": "b79ad4ea",
   "metadata": {
    "scrolled": true
   },
   "outputs": [
    {
     "name": "stdout",
     "output_type": "stream",
     "text": [
      "Epoch 1/1000\n",
      "8/8 [==============================] - 0s 24ms/step - loss: 0.0094 - accuracy: 0.9977 - val_loss: 0.0298 - val_accuracy: 0.9962\n",
      "Epoch 2/1000\n",
      "8/8 [==============================] - 0s 14ms/step - loss: 0.0094 - accuracy: 0.9979 - val_loss: 0.0301 - val_accuracy: 0.9962\n",
      "Epoch 3/1000\n",
      "8/8 [==============================] - 0s 14ms/step - loss: 0.0093 - accuracy: 0.9982 - val_loss: 0.0300 - val_accuracy: 0.9962\n",
      "Epoch 4/1000\n",
      "8/8 [==============================] - 0s 21ms/step - loss: 0.0092 - accuracy: 0.9982 - val_loss: 0.0296 - val_accuracy: 0.9962\n",
      "Epoch 5/1000\n",
      "8/8 [==============================] - 0s 14ms/step - loss: 0.0092 - accuracy: 0.9979 - val_loss: 0.0297 - val_accuracy: 0.9962\n",
      "Epoch 6/1000\n",
      "8/8 [==============================] - 0s 14ms/step - loss: 0.0091 - accuracy: 0.9982 - val_loss: 0.0298 - val_accuracy: 0.9962\n",
      "Epoch 7/1000\n",
      "8/8 [==============================] - 0s 14ms/step - loss: 0.0090 - accuracy: 0.9985 - val_loss: 0.0301 - val_accuracy: 0.9962\n",
      "Epoch 8/1000\n",
      "8/8 [==============================] - 0s 14ms/step - loss: 0.0090 - accuracy: 0.9985 - val_loss: 0.0299 - val_accuracy: 0.9962\n",
      "Epoch 9/1000\n",
      "8/8 [==============================] - 0s 14ms/step - loss: 0.0089 - accuracy: 0.9982 - val_loss: 0.0297 - val_accuracy: 0.9962\n",
      "Epoch 10/1000\n",
      "8/8 [==============================] - 0s 16ms/step - loss: 0.0089 - accuracy: 0.9982 - val_loss: 0.0300 - val_accuracy: 0.9962\n",
      "Epoch 11/1000\n",
      "8/8 [==============================] - 0s 16ms/step - loss: 0.0088 - accuracy: 0.9985 - val_loss: 0.0298 - val_accuracy: 0.9962\n",
      "Epoch 12/1000\n",
      "8/8 [==============================] - 0s 14ms/step - loss: 0.0087 - accuracy: 0.9985 - val_loss: 0.0301 - val_accuracy: 0.9962\n",
      "Epoch 13/1000\n",
      "8/8 [==============================] - 0s 14ms/step - loss: 0.0087 - accuracy: 0.9985 - val_loss: 0.0300 - val_accuracy: 0.9962\n",
      "Epoch 14/1000\n",
      "8/8 [==============================] - 0s 16ms/step - loss: 0.0086 - accuracy: 0.9985 - val_loss: 0.0300 - val_accuracy: 0.9962\n",
      "Epoch 15/1000\n",
      "8/8 [==============================] - 0s 16ms/step - loss: 0.0086 - accuracy: 0.9985 - val_loss: 0.0300 - val_accuracy: 0.9962\n",
      "Epoch 16/1000\n",
      "8/8 [==============================] - 0s 14ms/step - loss: 0.0085 - accuracy: 0.9985 - val_loss: 0.0299 - val_accuracy: 0.9962\n",
      "Epoch 17/1000\n",
      "8/8 [==============================] - 0s 14ms/step - loss: 0.0085 - accuracy: 0.9985 - val_loss: 0.0299 - val_accuracy: 0.9962\n",
      "Epoch 18/1000\n",
      "8/8 [==============================] - 0s 16ms/step - loss: 0.0084 - accuracy: 0.9985 - val_loss: 0.0302 - val_accuracy: 0.9962\n",
      "Epoch 19/1000\n",
      "8/8 [==============================] - 0s 14ms/step - loss: 0.0084 - accuracy: 0.9987 - val_loss: 0.0301 - val_accuracy: 0.9962\n",
      "Epoch 20/1000\n",
      "8/8 [==============================] - 0s 14ms/step - loss: 0.0084 - accuracy: 0.9985 - val_loss: 0.0297 - val_accuracy: 0.9962\n",
      "Epoch 21/1000\n",
      "8/8 [==============================] - 0s 15ms/step - loss: 0.0083 - accuracy: 0.9985 - val_loss: 0.0298 - val_accuracy: 0.9962\n",
      "Epoch 22/1000\n",
      "8/8 [==============================] - 0s 16ms/step - loss: 0.0082 - accuracy: 0.9985 - val_loss: 0.0300 - val_accuracy: 0.9962\n",
      "Epoch 23/1000\n",
      "8/8 [==============================] - 0s 17ms/step - loss: 0.0082 - accuracy: 0.9987 - val_loss: 0.0301 - val_accuracy: 0.9962\n",
      "Epoch 24/1000\n",
      "8/8 [==============================] - 0s 14ms/step - loss: 0.0081 - accuracy: 0.9987 - val_loss: 0.0299 - val_accuracy: 0.9962\n",
      "Epoch 25/1000\n",
      "8/8 [==============================] - 0s 14ms/step - loss: 0.0081 - accuracy: 0.9987 - val_loss: 0.0298 - val_accuracy: 0.9962\n",
      "Epoch 26/1000\n",
      "8/8 [==============================] - 0s 14ms/step - loss: 0.0080 - accuracy: 0.9987 - val_loss: 0.0300 - val_accuracy: 0.9962\n",
      "Epoch 27/1000\n",
      "8/8 [==============================] - 0s 16ms/step - loss: 0.0080 - accuracy: 0.9987 - val_loss: 0.0299 - val_accuracy: 0.9962\n",
      "Epoch 28/1000\n",
      "8/8 [==============================] - 0s 14ms/step - loss: 0.0080 - accuracy: 0.9985 - val_loss: 0.0297 - val_accuracy: 0.9962\n",
      "Epoch 29/1000\n",
      "8/8 [==============================] - 0s 17ms/step - loss: 0.0079 - accuracy: 0.9987 - val_loss: 0.0301 - val_accuracy: 0.9962\n",
      "Epoch 30/1000\n",
      "8/8 [==============================] - 0s 19ms/step - loss: 0.0079 - accuracy: 0.9987 - val_loss: 0.0302 - val_accuracy: 0.9962\n",
      "Epoch 31/1000\n",
      "8/8 [==============================] - 0s 15ms/step - loss: 0.0079 - accuracy: 0.9987 - val_loss: 0.0298 - val_accuracy: 0.9962\n",
      "Epoch 32/1000\n",
      "8/8 [==============================] - 0s 14ms/step - loss: 0.0078 - accuracy: 0.9987 - val_loss: 0.0301 - val_accuracy: 0.9962\n",
      "Epoch 33/1000\n",
      "8/8 [==============================] - 0s 14ms/step - loss: 0.0077 - accuracy: 0.9987 - val_loss: 0.0302 - val_accuracy: 0.9962\n",
      "Epoch 34/1000\n",
      "8/8 [==============================] - 0s 14ms/step - loss: 0.0077 - accuracy: 0.9987 - val_loss: 0.0300 - val_accuracy: 0.9962\n",
      "Epoch 35/1000\n",
      "8/8 [==============================] - 0s 15ms/step - loss: 0.0077 - accuracy: 0.9987 - val_loss: 0.0299 - val_accuracy: 0.9962\n",
      "Epoch 36/1000\n",
      "8/8 [==============================] - 0s 16ms/step - loss: 0.0076 - accuracy: 0.9987 - val_loss: 0.0299 - val_accuracy: 0.9962\n",
      "Epoch 37/1000\n",
      "8/8 [==============================] - 0s 14ms/step - loss: 0.0076 - accuracy: 0.9987 - val_loss: 0.0301 - val_accuracy: 0.9962\n",
      "Epoch 38/1000\n",
      "8/8 [==============================] - 0s 13ms/step - loss: 0.0075 - accuracy: 0.9987 - val_loss: 0.0301 - val_accuracy: 0.9962\n",
      "Epoch 39/1000\n",
      "8/8 [==============================] - 0s 19ms/step - loss: 0.0075 - accuracy: 0.9987 - val_loss: 0.0300 - val_accuracy: 0.9962\n",
      "Epoch 40/1000\n",
      "8/8 [==============================] - 0s 17ms/step - loss: 0.0075 - accuracy: 0.9987 - val_loss: 0.0299 - val_accuracy: 0.9962\n",
      "Epoch 41/1000\n",
      "8/8 [==============================] - 0s 14ms/step - loss: 0.0074 - accuracy: 0.9987 - val_loss: 0.0300 - val_accuracy: 0.9962\n",
      "Epoch 42/1000\n",
      "8/8 [==============================] - 0s 16ms/step - loss: 0.0074 - accuracy: 0.9987 - val_loss: 0.0299 - val_accuracy: 0.9962\n",
      "Epoch 43/1000\n",
      "8/8 [==============================] - 0s 16ms/step - loss: 0.0073 - accuracy: 0.9987 - val_loss: 0.0300 - val_accuracy: 0.9962\n",
      "Epoch 44/1000\n",
      "8/8 [==============================] - 0s 16ms/step - loss: 0.0073 - accuracy: 0.9987 - val_loss: 0.0301 - val_accuracy: 0.9962\n",
      "Epoch 45/1000\n",
      "8/8 [==============================] - 0s 15ms/step - loss: 0.0073 - accuracy: 0.9987 - val_loss: 0.0302 - val_accuracy: 0.9962\n",
      "Epoch 46/1000\n",
      "8/8 [==============================] - 0s 17ms/step - loss: 0.0072 - accuracy: 0.9987 - val_loss: 0.0301 - val_accuracy: 0.9962\n",
      "Epoch 47/1000\n",
      "8/8 [==============================] - 0s 18ms/step - loss: 0.0072 - accuracy: 0.9987 - val_loss: 0.0301 - val_accuracy: 0.9962\n",
      "Epoch 48/1000\n",
      "8/8 [==============================] - 0s 16ms/step - loss: 0.0072 - accuracy: 0.9987 - val_loss: 0.0300 - val_accuracy: 0.9962\n",
      "Epoch 49/1000\n",
      "8/8 [==============================] - 0s 17ms/step - loss: 0.0072 - accuracy: 0.9987 - val_loss: 0.0302 - val_accuracy: 0.9962\n",
      "Epoch 50/1000\n",
      "8/8 [==============================] - 0s 16ms/step - loss: 0.0071 - accuracy: 0.9987 - val_loss: 0.0299 - val_accuracy: 0.9962\n",
      "Epoch 51/1000\n",
      "8/8 [==============================] - 0s 15ms/step - loss: 0.0071 - accuracy: 0.9987 - val_loss: 0.0301 - val_accuracy: 0.9962\n",
      "Epoch 52/1000\n",
      "8/8 [==============================] - 0s 16ms/step - loss: 0.0070 - accuracy: 0.9987 - val_loss: 0.0299 - val_accuracy: 0.9962\n",
      "Epoch 53/1000\n",
      "8/8 [==============================] - 0s 15ms/step - loss: 0.0070 - accuracy: 0.9987 - val_loss: 0.0301 - val_accuracy: 0.9962\n",
      "Epoch 54/1000\n",
      "8/8 [==============================] - 0s 16ms/step - loss: 0.0069 - accuracy: 0.9987 - val_loss: 0.0301 - val_accuracy: 0.9962\n"
     ]
    }
   ],
   "source": [
    "history = model.fit(X_train, y_train, epochs=1000, batch_size=500, validation_data=(X_valid, y_valid), \n",
    "                    callbacks=[early_stopping_callback, checkpointer])"
   ]
  },
  {
   "cell_type": "markdown",
   "id": "e97863e4",
   "metadata": {},
   "source": [
    "# 저장된 베스트 모델을 불러와서 테스트 하기"
   ]
  },
  {
   "cell_type": "code",
   "execution_count": 28,
   "id": "cb62f2ad",
   "metadata": {},
   "outputs": [],
   "source": [
    "from tensorflow.keras.models import load_model"
   ]
  },
  {
   "cell_type": "code",
   "execution_count": 29,
   "id": "7a082166",
   "metadata": {},
   "outputs": [],
   "source": [
    "best_model = load_model(\"./model/004--0.0296.keras\")"
   ]
  },
  {
   "cell_type": "code",
   "execution_count": 30,
   "id": "044ba659",
   "metadata": {},
   "outputs": [
    {
     "name": "stdout",
     "output_type": "stream",
     "text": [
      "41/41 [==============================] - 0s 3ms/step\n",
      "              precision    recall  f1-score   support\n",
      "\n",
      "           0       0.99      1.00      1.00       980\n",
      "           1       1.00      0.98      0.99       320\n",
      "\n",
      "    accuracy                           1.00      1300\n",
      "   macro avg       1.00      0.99      0.99      1300\n",
      "weighted avg       1.00      1.00      1.00      1300\n",
      "\n"
     ]
    },
    {
     "name": "stderr",
     "output_type": "stream",
     "text": [
      "2024-09-10 11:33:06.257495: I tensorflow/core/grappler/optimizers/custom_graph_optimizer_registry.cc:114] Plugin optimizer for device_type GPU is enabled.\n"
     ]
    }
   ],
   "source": [
    "best_pred = best_model.predict(X_test)\n",
    "best_pred = pd.DataFrame(best_pred)\n",
    "best_pred = best_pred[0].apply(lambda x : 1 if x > 0.5 else 0)\n",
    "print(classification_report(y_test, best_pred))"
   ]
  },
  {
   "cell_type": "code",
   "execution_count": null,
   "id": "8dedd062",
   "metadata": {},
   "outputs": [],
   "source": []
  },
  {
   "cell_type": "code",
   "execution_count": null,
   "id": "d12bba23",
   "metadata": {},
   "outputs": [],
   "source": []
  },
  {
   "cell_type": "code",
   "execution_count": null,
   "id": "62121c94",
   "metadata": {},
   "outputs": [],
   "source": []
  },
  {
   "cell_type": "code",
   "execution_count": null,
   "id": "f2243a9d",
   "metadata": {},
   "outputs": [],
   "source": []
  },
  {
   "cell_type": "code",
   "execution_count": null,
   "id": "e567a777",
   "metadata": {},
   "outputs": [],
   "source": []
  },
  {
   "cell_type": "markdown",
   "id": "60ce7b94",
   "metadata": {},
   "source": [
    "# wine 데이터"
   ]
  },
  {
   "cell_type": "code",
   "execution_count": 2,
   "id": "e37b3ab3",
   "metadata": {},
   "outputs": [
    {
     "data": {
      "text/html": [
       "<div>\n",
       "<style scoped>\n",
       "    .dataframe tbody tr th:only-of-type {\n",
       "        vertical-align: middle;\n",
       "    }\n",
       "\n",
       "    .dataframe tbody tr th {\n",
       "        vertical-align: top;\n",
       "    }\n",
       "\n",
       "    .dataframe thead th {\n",
       "        text-align: right;\n",
       "    }\n",
       "</style>\n",
       "<table border=\"1\" class=\"dataframe\">\n",
       "  <thead>\n",
       "    <tr style=\"text-align: right;\">\n",
       "      <th></th>\n",
       "      <th>fixed acidity</th>\n",
       "      <th>volatile acidity</th>\n",
       "      <th>citric acid</th>\n",
       "      <th>residual sugar</th>\n",
       "      <th>chlorides</th>\n",
       "      <th>free sulfur dioxide</th>\n",
       "      <th>total sulfur dioxide</th>\n",
       "      <th>density</th>\n",
       "      <th>pH</th>\n",
       "      <th>sulphates</th>\n",
       "      <th>alcohol</th>\n",
       "      <th>quality</th>\n",
       "    </tr>\n",
       "  </thead>\n",
       "  <tbody>\n",
       "    <tr>\n",
       "      <th>0</th>\n",
       "      <td>7.0</td>\n",
       "      <td>0.27</td>\n",
       "      <td>0.36</td>\n",
       "      <td>20.7</td>\n",
       "      <td>0.045</td>\n",
       "      <td>45.0</td>\n",
       "      <td>170.0</td>\n",
       "      <td>1.0010</td>\n",
       "      <td>3.00</td>\n",
       "      <td>0.45</td>\n",
       "      <td>8.8</td>\n",
       "      <td>6</td>\n",
       "    </tr>\n",
       "    <tr>\n",
       "      <th>1</th>\n",
       "      <td>6.3</td>\n",
       "      <td>0.30</td>\n",
       "      <td>0.34</td>\n",
       "      <td>1.6</td>\n",
       "      <td>0.049</td>\n",
       "      <td>14.0</td>\n",
       "      <td>132.0</td>\n",
       "      <td>0.9940</td>\n",
       "      <td>3.30</td>\n",
       "      <td>0.49</td>\n",
       "      <td>9.5</td>\n",
       "      <td>6</td>\n",
       "    </tr>\n",
       "    <tr>\n",
       "      <th>2</th>\n",
       "      <td>8.1</td>\n",
       "      <td>0.28</td>\n",
       "      <td>0.40</td>\n",
       "      <td>6.9</td>\n",
       "      <td>0.050</td>\n",
       "      <td>30.0</td>\n",
       "      <td>97.0</td>\n",
       "      <td>0.9951</td>\n",
       "      <td>3.26</td>\n",
       "      <td>0.44</td>\n",
       "      <td>10.1</td>\n",
       "      <td>6</td>\n",
       "    </tr>\n",
       "    <tr>\n",
       "      <th>3</th>\n",
       "      <td>7.2</td>\n",
       "      <td>0.23</td>\n",
       "      <td>0.32</td>\n",
       "      <td>8.5</td>\n",
       "      <td>0.058</td>\n",
       "      <td>47.0</td>\n",
       "      <td>186.0</td>\n",
       "      <td>0.9956</td>\n",
       "      <td>3.19</td>\n",
       "      <td>0.40</td>\n",
       "      <td>9.9</td>\n",
       "      <td>6</td>\n",
       "    </tr>\n",
       "    <tr>\n",
       "      <th>4</th>\n",
       "      <td>7.2</td>\n",
       "      <td>0.23</td>\n",
       "      <td>0.32</td>\n",
       "      <td>8.5</td>\n",
       "      <td>0.058</td>\n",
       "      <td>47.0</td>\n",
       "      <td>186.0</td>\n",
       "      <td>0.9956</td>\n",
       "      <td>3.19</td>\n",
       "      <td>0.40</td>\n",
       "      <td>9.9</td>\n",
       "      <td>6</td>\n",
       "    </tr>\n",
       "  </tbody>\n",
       "</table>\n",
       "</div>"
      ],
      "text/plain": [
       "   fixed acidity  volatile acidity  citric acid  residual sugar  chlorides  \\\n",
       "0            7.0              0.27         0.36            20.7      0.045   \n",
       "1            6.3              0.30         0.34             1.6      0.049   \n",
       "2            8.1              0.28         0.40             6.9      0.050   \n",
       "3            7.2              0.23         0.32             8.5      0.058   \n",
       "4            7.2              0.23         0.32             8.5      0.058   \n",
       "\n",
       "   free sulfur dioxide  total sulfur dioxide  density    pH  sulphates  \\\n",
       "0                 45.0                 170.0   1.0010  3.00       0.45   \n",
       "1                 14.0                 132.0   0.9940  3.30       0.49   \n",
       "2                 30.0                  97.0   0.9951  3.26       0.44   \n",
       "3                 47.0                 186.0   0.9956  3.19       0.40   \n",
       "4                 47.0                 186.0   0.9956  3.19       0.40   \n",
       "\n",
       "   alcohol  quality  \n",
       "0      8.8        6  \n",
       "1      9.5        6  \n",
       "2     10.1        6  \n",
       "3      9.9        6  \n",
       "4      9.9        6  "
      ]
     },
     "execution_count": 2,
     "metadata": {},
     "output_type": "execute_result"
    }
   ],
   "source": [
    "wine = pd.read_csv(\"./data/winequality-white.csv\", sep=\";\")\n",
    "wine.head()"
   ]
  },
  {
   "cell_type": "code",
   "execution_count": 3,
   "id": "143ad353",
   "metadata": {
    "scrolled": true
   },
   "outputs": [
    {
     "data": {
      "text/plain": [
       "quality\n",
       "6    2198\n",
       "5    1457\n",
       "7     880\n",
       "8     175\n",
       "4     163\n",
       "3      20\n",
       "9       5\n",
       "Name: count, dtype: int64"
      ]
     },
     "execution_count": 3,
     "metadata": {},
     "output_type": "execute_result"
    }
   ],
   "source": [
    "wine['quality'].value_counts()"
   ]
  },
  {
   "cell_type": "code",
   "execution_count": 4,
   "id": "ce0e7c6b",
   "metadata": {},
   "outputs": [
    {
     "name": "stdout",
     "output_type": "stream",
     "text": [
      "<class 'pandas.core.frame.DataFrame'>\n",
      "RangeIndex: 4898 entries, 0 to 4897\n",
      "Data columns (total 12 columns):\n",
      " #   Column                Non-Null Count  Dtype  \n",
      "---  ------                --------------  -----  \n",
      " 0   fixed acidity         4898 non-null   float64\n",
      " 1   volatile acidity      4898 non-null   float64\n",
      " 2   citric acid           4898 non-null   float64\n",
      " 3   residual sugar        4898 non-null   float64\n",
      " 4   chlorides             4898 non-null   float64\n",
      " 5   free sulfur dioxide   4898 non-null   float64\n",
      " 6   total sulfur dioxide  4898 non-null   float64\n",
      " 7   density               4898 non-null   float64\n",
      " 8   pH                    4898 non-null   float64\n",
      " 9   sulphates             4898 non-null   float64\n",
      " 10  alcohol               4898 non-null   float64\n",
      " 11  quality               4898 non-null   int64  \n",
      "dtypes: float64(11), int64(1)\n",
      "memory usage: 459.3 KB\n"
     ]
    }
   ],
   "source": [
    "wine.info()"
   ]
  },
  {
   "cell_type": "code",
   "execution_count": 23,
   "id": "2b1bee93",
   "metadata": {},
   "outputs": [
    {
     "data": {
      "text/plain": [
       "7"
      ]
     },
     "execution_count": 23,
     "metadata": {},
     "output_type": "execute_result"
    }
   ],
   "source": [
    "wine['quality'].nunique()"
   ]
  },
  {
   "cell_type": "code",
   "execution_count": 5,
   "id": "d81c766d",
   "metadata": {
    "scrolled": false
   },
   "outputs": [
    {
     "data": {
      "text/plain": [
       "<Axes: >"
      ]
     },
     "execution_count": 5,
     "metadata": {},
     "output_type": "execute_result"
    },
    {
     "data": {
      "image/png": "[encoded data removed]",
      "text/plain": [
       "<Figure size 640x480 with 1 Axes>"
      ]
     },
     "metadata": {},
     "output_type": "display_data"
    }
   ],
   "source": [
    "sns.boxplot(wine)"
   ]
  },
  {
   "cell_type": "markdown",
   "id": "f4297bfa",
   "metadata": {},
   "source": [
    "### 이상치가 많으니깐 Robust를 써야됨"
   ]
  },
  {
   "cell_type": "code",
   "execution_count": 6,
   "id": "9b14631c",
   "metadata": {},
   "outputs": [
    {
     "data": {
      "text/plain": [
       "<Axes: >"
      ]
     },
     "execution_count": 6,
     "metadata": {},
     "output_type": "execute_result"
    },
    {
     "data": {
      "image/png": "[encoded data removed]",
      "text/plain": [
       "<Figure size 640x480 with 1 Axes>"
      ]
     },
     "metadata": {},
     "output_type": "display_data"
    }
   ],
   "source": [
    "sns.boxplot(wine.iloc[:,4:8])"
   ]
  },
  {
   "cell_type": "code",
   "execution_count": 7,
   "id": "c609e04c",
   "metadata": {},
   "outputs": [],
   "source": [
    "X = wine.drop('quality', axis=1).copy()\n",
    "y = wine['quality'].copy()\n",
    "y2 =wine['quality'].copy()"
   ]
  },
  {
   "cell_type": "markdown",
   "id": "d4dccf69",
   "metadata": {},
   "source": [
    "### RobustScaler가 MinMaxScaler보다 이상치에 덜 민감하다"
   ]
  },
  {
   "cell_type": "markdown",
   "id": "4a44f631",
   "metadata": {},
   "source": [
    "## 스케일러\n",
    "* StandardScaler : 데이터가 정규분포를 따르는 경우 가장 적합\n",
    "* MinMaxScaler : 피처 값이 다양한 범위에 분포되어 있고, 이상치가 많으면 적합함\n",
    "* RobustScaler : 이상치가 많은 경우에 유리"
   ]
  },
  {
   "cell_type": "code",
   "execution_count": 12,
   "id": "e9ed5fd8",
   "metadata": {},
   "outputs": [],
   "source": [
    "y = pd.get_dummies(y)"
   ]
  },
  {
   "cell_type": "code",
   "execution_count": 57,
   "id": "1d6b9af1",
   "metadata": {},
   "outputs": [],
   "source": [
    "from sklearn.preprocessing import RobustScaler"
   ]
  },
  {
   "cell_type": "code",
   "execution_count": 58,
   "id": "ba89f7d0",
   "metadata": {},
   "outputs": [],
   "source": [
    "rbs = RobustScaler()\n",
    "X_scaled = rbs.fit_transform(X) "
   ]
  },
  {
   "cell_type": "code",
   "execution_count": 72,
   "id": "63a63481",
   "metadata": {},
   "outputs": [],
   "source": [
    "from sklearn.model_selection import train_test_split\n",
    "from sklearn.metrics import classification_report"
   ]
  },
  {
   "cell_type": "code",
   "execution_count": 60,
   "id": "87783af4",
   "metadata": {
    "scrolled": true
   },
   "outputs": [],
   "source": [
    "X_train, X_valid, y_train, y_valid = train_test_split(X_scaled, y, test_size=0.4, stratify=y, random_state=10)\n",
    "X_valid, X_test, y_valid, y_test = train_test_split(X_valid, y_valid, test_size=0.5, stratify=y_valid, random_state=10)"
   ]
  },
  {
   "cell_type": "code",
   "execution_count": null,
   "id": "9c6d9a6d",
   "metadata": {},
   "outputs": [],
   "source": []
  },
  {
   "cell_type": "code",
   "execution_count": null,
   "id": "565a2bc8",
   "metadata": {},
   "outputs": [],
   "source": []
  },
  {
   "cell_type": "code",
   "execution_count": null,
   "id": "40a309ba",
   "metadata": {},
   "outputs": [],
   "source": []
  },
  {
   "cell_type": "code",
   "execution_count": null,
   "id": "e62956b3",
   "metadata": {},
   "outputs": [],
   "source": []
  },
  {
   "cell_type": "markdown",
   "id": "c1c2eeab",
   "metadata": {},
   "source": [
    "### Adasyn 잘 모르는 부분"
   ]
  },
  {
   "cell_type": "code",
   "execution_count": 76,
   "id": "c348780f",
   "metadata": {},
   "outputs": [],
   "source": [
    "# !pip install imbalanced-learn"
   ]
  },
  {
   "cell_type": "code",
   "execution_count": 77,
   "id": "f454af00",
   "metadata": {},
   "outputs": [],
   "source": [
    "from imblearn.over_sampling import ADASYN"
   ]
  },
  {
   "cell_type": "code",
   "execution_count": 78,
   "id": "4c77cfd5",
   "metadata": {
    "scrolled": true
   },
   "outputs": [
    {
     "ename": "AttributeError",
     "evalue": "'DataFrame' object has no attribute 'argmax'",
     "output_type": "error",
     "traceback": [
      "\u001b[0;31m---------------------------------------------------------------------------\u001b[0m",
      "\u001b[0;31mAttributeError\u001b[0m                            Traceback (most recent call last)",
      "\u001b[0;32m/tmp/ipykernel_84256/2448949565.py\u001b[0m in \u001b[0;36m?\u001b[0;34m()\u001b[0m\n\u001b[0;32m----> 2\u001b[0;31m \u001b[0madasyn\u001b[0m \u001b[0;34m=\u001b[0m \u001b[0mADASYN\u001b[0m\u001b[0;34m(\u001b[0m\u001b[0mrandom_state\u001b[0m\u001b[0;34m=\u001b[0m\u001b[0;36m10\u001b[0m\u001b[0;34m,\u001b[0m \u001b[0mn_neighbors\u001b[0m\u001b[0;34m=\u001b[0m\u001b[0;36m5\u001b[0m\u001b[0;34m,\u001b[0m \u001b[0mn_jobs\u001b[0m\u001b[0;34m=\u001b[0m\u001b[0;34m-\u001b[0m\u001b[0;36m1\u001b[0m\u001b[0;34m)\u001b[0m\u001b[0;34m\u001b[0m\u001b[0;34m\u001b[0m\u001b[0m\n\u001b[0m\u001b[1;32m      3\u001b[0m \u001b[0mX_train_adasyn\u001b[0m\u001b[0;34m,\u001b[0m \u001b[0my_train_adasyn\u001b[0m \u001b[0;34m=\u001b[0m \u001b[0madasyn\u001b[0m\u001b[0;34m.\u001b[0m\u001b[0mfit_resample\u001b[0m\u001b[0;34m(\u001b[0m\u001b[0mX_train\u001b[0m\u001b[0;34m,\u001b[0m \u001b[0my_train\u001b[0m\u001b[0;34m)\u001b[0m\u001b[0;34m\u001b[0m\u001b[0;34m\u001b[0m\u001b[0m\n",
      "\u001b[0;32m~/miniforge3/envs/dml/lib/python3.9/site-packages/imblearn/base.py\u001b[0m in \u001b[0;36m?\u001b[0;34m(self, X, y)\u001b[0m\n\u001b[1;32m    204\u001b[0m         \u001b[0my_resampled\u001b[0m \u001b[0;34m:\u001b[0m \u001b[0marray\u001b[0m\u001b[0;34m-\u001b[0m\u001b[0mlike\u001b[0m \u001b[0mof\u001b[0m \u001b[0mshape\u001b[0m \u001b[0;34m(\u001b[0m\u001b[0mn_samples_new\u001b[0m\u001b[0;34m,\u001b[0m\u001b[0;34m)\u001b[0m\u001b[0;34m\u001b[0m\u001b[0;34m\u001b[0m\u001b[0m\n\u001b[1;32m    205\u001b[0m             \u001b[0mThe\u001b[0m \u001b[0mcorresponding\u001b[0m \u001b[0mlabel\u001b[0m \u001b[0mof\u001b[0m\u001b[0;31m \u001b[0m\u001b[0;31m`\u001b[0m\u001b[0mX_resampled\u001b[0m\u001b[0;31m`\u001b[0m\u001b[0;34m.\u001b[0m\u001b[0;34m\u001b[0m\u001b[0;34m\u001b[0m\u001b[0m\n\u001b[1;32m    206\u001b[0m         \"\"\"\n\u001b[1;32m    207\u001b[0m         \u001b[0mself\u001b[0m\u001b[0;34m.\u001b[0m\u001b[0m_validate_params\u001b[0m\u001b[0;34m(\u001b[0m\u001b[0;34m)\u001b[0m\u001b[0;34m\u001b[0m\u001b[0;34m\u001b[0m\u001b[0m\n\u001b[0;32m--> 208\u001b[0;31m         \u001b[0;32mreturn\u001b[0m \u001b[0msuper\u001b[0m\u001b[0;34m(\u001b[0m\u001b[0;34m)\u001b[0m\u001b[0;34m.\u001b[0m\u001b[0mfit_resample\u001b[0m\u001b[0;34m(\u001b[0m\u001b[0mX\u001b[0m\u001b[0;34m,\u001b[0m \u001b[0my\u001b[0m\u001b[0;34m)\u001b[0m\u001b[0;34m\u001b[0m\u001b[0;34m\u001b[0m\u001b[0m\n\u001b[0m",
      "\u001b[0;32m~/miniforge3/envs/dml/lib/python3.9/site-packages/imblearn/base.py\u001b[0m in \u001b[0;36m?\u001b[0;34m(self, X, y)\u001b[0m\n\u001b[1;32m    102\u001b[0m             \u001b[0mThe\u001b[0m \u001b[0mcorresponding\u001b[0m \u001b[0mlabel\u001b[0m \u001b[0mof\u001b[0m\u001b[0;31m \u001b[0m\u001b[0;31m`\u001b[0m\u001b[0mX_resampled\u001b[0m\u001b[0;31m`\u001b[0m\u001b[0;34m.\u001b[0m\u001b[0;34m\u001b[0m\u001b[0;34m\u001b[0m\u001b[0m\n\u001b[1;32m    103\u001b[0m         \"\"\"\n\u001b[1;32m    104\u001b[0m         \u001b[0mcheck_classification_targets\u001b[0m\u001b[0;34m(\u001b[0m\u001b[0my\u001b[0m\u001b[0;34m)\u001b[0m\u001b[0;34m\u001b[0m\u001b[0;34m\u001b[0m\u001b[0m\n\u001b[1;32m    105\u001b[0m         \u001b[0marrays_transformer\u001b[0m \u001b[0;34m=\u001b[0m \u001b[0mArraysTransformer\u001b[0m\u001b[0;34m(\u001b[0m\u001b[0mX\u001b[0m\u001b[0;34m,\u001b[0m \u001b[0my\u001b[0m\u001b[0;34m)\u001b[0m\u001b[0;34m\u001b[0m\u001b[0;34m\u001b[0m\u001b[0m\n\u001b[0;32m--> 106\u001b[0;31m         \u001b[0mX\u001b[0m\u001b[0;34m,\u001b[0m \u001b[0my\u001b[0m\u001b[0;34m,\u001b[0m \u001b[0mbinarize_y\u001b[0m \u001b[0;34m=\u001b[0m \u001b[0mself\u001b[0m\u001b[0;34m.\u001b[0m\u001b[0m_check_X_y\u001b[0m\u001b[0;34m(\u001b[0m\u001b[0mX\u001b[0m\u001b[0;34m,\u001b[0m \u001b[0my\u001b[0m\u001b[0;34m)\u001b[0m\u001b[0;34m\u001b[0m\u001b[0;34m\u001b[0m\u001b[0m\n\u001b[0m\u001b[1;32m    107\u001b[0m \u001b[0;34m\u001b[0m\u001b[0m\n\u001b[1;32m    108\u001b[0m         self.sampling_strategy_ = check_sampling_strategy(\n\u001b[1;32m    109\u001b[0m             \u001b[0mself\u001b[0m\u001b[0;34m.\u001b[0m\u001b[0msampling_strategy\u001b[0m\u001b[0;34m,\u001b[0m \u001b[0my\u001b[0m\u001b[0;34m,\u001b[0m \u001b[0mself\u001b[0m\u001b[0;34m.\u001b[0m\u001b[0m_sampling_type\u001b[0m\u001b[0;34m\u001b[0m\u001b[0;34m\u001b[0m\u001b[0m\n",
      "\u001b[0;32m~/miniforge3/envs/dml/lib/python3.9/site-packages/imblearn/base.py\u001b[0m in \u001b[0;36m?\u001b[0;34m(self, X, y, accept_sparse)\u001b[0m\n\u001b[1;32m    157\u001b[0m     \u001b[0;32mdef\u001b[0m \u001b[0m_check_X_y\u001b[0m\u001b[0;34m(\u001b[0m\u001b[0mself\u001b[0m\u001b[0;34m,\u001b[0m \u001b[0mX\u001b[0m\u001b[0;34m,\u001b[0m \u001b[0my\u001b[0m\u001b[0;34m,\u001b[0m \u001b[0maccept_sparse\u001b[0m\u001b[0;34m=\u001b[0m\u001b[0;32mNone\u001b[0m\u001b[0;34m)\u001b[0m\u001b[0;34m:\u001b[0m\u001b[0;34m\u001b[0m\u001b[0;34m\u001b[0m\u001b[0m\n\u001b[1;32m    158\u001b[0m         \u001b[0;32mif\u001b[0m \u001b[0maccept_sparse\u001b[0m \u001b[0;32mis\u001b[0m \u001b[0;32mNone\u001b[0m\u001b[0;34m:\u001b[0m\u001b[0;34m\u001b[0m\u001b[0;34m\u001b[0m\u001b[0m\n\u001b[1;32m    159\u001b[0m             \u001b[0maccept_sparse\u001b[0m \u001b[0;34m=\u001b[0m \u001b[0;34m[\u001b[0m\u001b[0;34m\"csr\"\u001b[0m\u001b[0;34m,\u001b[0m \u001b[0;34m\"csc\"\u001b[0m\u001b[0;34m]\u001b[0m\u001b[0;34m\u001b[0m\u001b[0;34m\u001b[0m\u001b[0m\n\u001b[0;32m--> 160\u001b[0;31m         \u001b[0my\u001b[0m\u001b[0;34m,\u001b[0m \u001b[0mbinarize_y\u001b[0m \u001b[0;34m=\u001b[0m \u001b[0mcheck_target_type\u001b[0m\u001b[0;34m(\u001b[0m\u001b[0my\u001b[0m\u001b[0;34m,\u001b[0m \u001b[0mindicate_one_vs_all\u001b[0m\u001b[0;34m=\u001b[0m\u001b[0;32mTrue\u001b[0m\u001b[0;34m)\u001b[0m\u001b[0;34m\u001b[0m\u001b[0;34m\u001b[0m\u001b[0m\n\u001b[0m\u001b[1;32m    161\u001b[0m         \u001b[0mX\u001b[0m\u001b[0;34m,\u001b[0m \u001b[0my\u001b[0m \u001b[0;34m=\u001b[0m \u001b[0mself\u001b[0m\u001b[0;34m.\u001b[0m\u001b[0m_validate_data\u001b[0m\u001b[0;34m(\u001b[0m\u001b[0mX\u001b[0m\u001b[0;34m,\u001b[0m \u001b[0my\u001b[0m\u001b[0;34m,\u001b[0m \u001b[0mreset\u001b[0m\u001b[0;34m=\u001b[0m\u001b[0;32mTrue\u001b[0m\u001b[0;34m,\u001b[0m \u001b[0maccept_sparse\u001b[0m\u001b[0;34m=\u001b[0m\u001b[0maccept_sparse\u001b[0m\u001b[0;34m)\u001b[0m\u001b[0;34m\u001b[0m\u001b[0;34m\u001b[0m\u001b[0m\n\u001b[1;32m    162\u001b[0m         \u001b[0;32mreturn\u001b[0m \u001b[0mX\u001b[0m\u001b[0;34m,\u001b[0m \u001b[0my\u001b[0m\u001b[0;34m,\u001b[0m \u001b[0mbinarize_y\u001b[0m\u001b[0;34m\u001b[0m\u001b[0;34m\u001b[0m\u001b[0m\n",
      "\u001b[0;32m~/miniforge3/envs/dml/lib/python3.9/site-packages/imblearn/utils/_validation.py\u001b[0m in \u001b[0;36m?\u001b[0;34m(y, indicate_one_vs_all)\u001b[0m\n\u001b[1;32m    178\u001b[0m                 \u001b[0;34m\"Imbalanced-learn currently supports binary, multiclass and \"\u001b[0m\u001b[0;34m\u001b[0m\u001b[0;34m\u001b[0m\u001b[0m\n\u001b[1;32m    179\u001b[0m                 \u001b[0;34m\"binarized encoded multiclasss targets. Multilabel and \"\u001b[0m\u001b[0;34m\u001b[0m\u001b[0;34m\u001b[0m\u001b[0m\n\u001b[1;32m    180\u001b[0m                 \u001b[0;34m\"multioutput targets are not supported.\"\u001b[0m\u001b[0;34m\u001b[0m\u001b[0;34m\u001b[0m\u001b[0m\n\u001b[1;32m    181\u001b[0m             )\n\u001b[0;32m--> 182\u001b[0;31m         \u001b[0my\u001b[0m \u001b[0;34m=\u001b[0m \u001b[0my\u001b[0m\u001b[0;34m.\u001b[0m\u001b[0margmax\u001b[0m\u001b[0;34m(\u001b[0m\u001b[0maxis\u001b[0m\u001b[0;34m=\u001b[0m\u001b[0;36m1\u001b[0m\u001b[0;34m)\u001b[0m\u001b[0;34m\u001b[0m\u001b[0;34m\u001b[0m\u001b[0m\n\u001b[0m\u001b[1;32m    183\u001b[0m     \u001b[0;32melse\u001b[0m\u001b[0;34m:\u001b[0m\u001b[0;34m\u001b[0m\u001b[0;34m\u001b[0m\u001b[0m\n\u001b[1;32m    184\u001b[0m         \u001b[0my\u001b[0m \u001b[0;34m=\u001b[0m \u001b[0mcolumn_or_1d\u001b[0m\u001b[0;34m(\u001b[0m\u001b[0my\u001b[0m\u001b[0;34m)\u001b[0m\u001b[0;34m\u001b[0m\u001b[0;34m\u001b[0m\u001b[0m\n\u001b[1;32m    185\u001b[0m \u001b[0;34m\u001b[0m\u001b[0m\n",
      "\u001b[0;32m~/miniforge3/envs/dml/lib/python3.9/site-packages/pandas/core/generic.py\u001b[0m in \u001b[0;36m?\u001b[0;34m(self, name)\u001b[0m\n\u001b[1;32m   6295\u001b[0m             \u001b[0;32mand\u001b[0m \u001b[0mname\u001b[0m \u001b[0;32mnot\u001b[0m \u001b[0;32min\u001b[0m \u001b[0mself\u001b[0m\u001b[0;34m.\u001b[0m\u001b[0m_accessors\u001b[0m\u001b[0;34m\u001b[0m\u001b[0;34m\u001b[0m\u001b[0m\n\u001b[1;32m   6296\u001b[0m             \u001b[0;32mand\u001b[0m \u001b[0mself\u001b[0m\u001b[0;34m.\u001b[0m\u001b[0m_info_axis\u001b[0m\u001b[0;34m.\u001b[0m\u001b[0m_can_hold_identifiers_and_holds_name\u001b[0m\u001b[0;34m(\u001b[0m\u001b[0mname\u001b[0m\u001b[0;34m)\u001b[0m\u001b[0;34m\u001b[0m\u001b[0;34m\u001b[0m\u001b[0m\n\u001b[1;32m   6297\u001b[0m         ):\n\u001b[1;32m   6298\u001b[0m             \u001b[0;32mreturn\u001b[0m \u001b[0mself\u001b[0m\u001b[0;34m[\u001b[0m\u001b[0mname\u001b[0m\u001b[0;34m]\u001b[0m\u001b[0;34m\u001b[0m\u001b[0;34m\u001b[0m\u001b[0m\n\u001b[0;32m-> 6299\u001b[0;31m         \u001b[0;32mreturn\u001b[0m \u001b[0mobject\u001b[0m\u001b[0;34m.\u001b[0m\u001b[0m__getattribute__\u001b[0m\u001b[0;34m(\u001b[0m\u001b[0mself\u001b[0m\u001b[0;34m,\u001b[0m \u001b[0mname\u001b[0m\u001b[0;34m)\u001b[0m\u001b[0;34m\u001b[0m\u001b[0;34m\u001b[0m\u001b[0m\n\u001b[0m",
      "\u001b[0;31mAttributeError\u001b[0m: 'DataFrame' object has no attribute 'argmax'"
     ]
    }
   ],
   "source": [
    "adasyn = ADASYN(random_state=10, n_neighbors=5, n_jobs=-1)\n",
    "X_train_adasyn, y_train_adasyn = adasyn.fit_resample(X_train, y_train)"
   ]
  },
  {
   "cell_type": "code",
   "execution_count": null,
   "id": "e5f255d7",
   "metadata": {},
   "outputs": [],
   "source": []
  },
  {
   "cell_type": "code",
   "execution_count": null,
   "id": "bd777c48",
   "metadata": {},
   "outputs": [],
   "source": []
  },
  {
   "cell_type": "code",
   "execution_count": null,
   "id": "ef49eefe",
   "metadata": {},
   "outputs": [],
   "source": []
  },
  {
   "cell_type": "code",
   "execution_count": null,
   "id": "5896b6a4",
   "metadata": {},
   "outputs": [],
   "source": []
  },
  {
   "cell_type": "code",
   "execution_count": null,
   "id": "c9f343b5",
   "metadata": {},
   "outputs": [],
   "source": []
  },
  {
   "cell_type": "code",
   "execution_count": null,
   "id": "13e6043a",
   "metadata": {},
   "outputs": [],
   "source": []
  },
  {
   "cell_type": "code",
   "execution_count": null,
   "id": "818c3abb",
   "metadata": {},
   "outputs": [],
   "source": []
  },
  {
   "cell_type": "code",
   "execution_count": 61,
   "id": "e04ef0f7",
   "metadata": {},
   "outputs": [
    {
     "name": "stdout",
     "output_type": "stream",
     "text": [
      "(2938, 11) (980, 11) (980, 11)\n"
     ]
    }
   ],
   "source": [
    "print(X_train.shape, X_valid.shape, X_test.shape)"
   ]
  },
  {
   "cell_type": "code",
   "execution_count": 62,
   "id": "178ecf7b",
   "metadata": {},
   "outputs": [],
   "source": [
    "from tensorflow.keras.models import Sequential, Model, load_model\n",
    "from tensorflow.keras.layers import Dense, Input\n",
    "from tensorflow.keras.callbacks import EarlyStopping, ModelCheckpoint"
   ]
  },
  {
   "cell_type": "code",
   "execution_count": 63,
   "id": "faca8b2e",
   "metadata": {},
   "outputs": [
    {
     "name": "stdout",
     "output_type": "stream",
     "text": [
      "Model: \"sequential_1\"\n",
      "_________________________________________________________________\n",
      " Layer (type)                Output Shape              Param #   \n",
      "=================================================================\n",
      " dense_5 (Dense)             (None, 32)                384       \n",
      "                                                                 \n",
      " dense_6 (Dense)             (None, 64)                2112      \n",
      "                                                                 \n",
      " dense_7 (Dense)             (None, 32)                2080      \n",
      "                                                                 \n",
      " dense_8 (Dense)             (None, 16)                528       \n",
      "                                                                 \n",
      " dense_9 (Dense)             (None, 7)                 119       \n",
      "                                                                 \n",
      "=================================================================\n",
      "Total params: 5,223\n",
      "Trainable params: 5,223\n",
      "Non-trainable params: 0\n",
      "_________________________________________________________________\n"
     ]
    }
   ],
   "source": [
    "model = Sequential()\n",
    "model.add(Dense(32,input_dim=X_train.shape[1], activation='relu'))\n",
    "model.add(Dense(64, activation='relu'))\n",
    "model.add(Dense(32, activation='relu'))\n",
    "model.add(Dense(16, activation='relu'))\n",
    "model.add(Dense(7, activation='softmax')) # 클래스가 7개이기 때문에\n",
    "model.summary()"
   ]
  },
  {
   "cell_type": "code",
   "execution_count": 64,
   "id": "0c2a3fd6",
   "metadata": {
    "scrolled": true
   },
   "outputs": [
    {
     "name": "stdout",
     "output_type": "stream",
     "text": [
      "Epoch 1/10000\n",
      "1/6 [====>.........................] - ETA: 1s - loss: 1.9328 - accuracy: 0.1440"
     ]
    },
    {
     "name": "stderr",
     "output_type": "stream",
     "text": [
      "2024-09-10 14:54:04.435773: I tensorflow/core/grappler/optimizers/custom_graph_optimizer_registry.cc:114] Plugin optimizer for device_type GPU is enabled.\n",
      "2024-09-10 14:54:04.486776: I tensorflow/core/common_runtime/pluggable_device/pluggable_device_factory.cc:306] Could not identify NUMA node of platform GPU ID 0, defaulting to 0. Your kernel may not have been built with NUMA support.\n",
      "2024-09-10 14:54:04.486832: I tensorflow/core/common_runtime/pluggable_device/pluggable_device_factory.cc:272] Created TensorFlow device (/job:localhost/replica:0/task:0/device:GPU:0 with 14845 MB memory) -> physical PluggableDevice (device: 0, name: DML, pci bus id: <undefined>)\n"
     ]
    },
    {
     "name": "stdout",
     "output_type": "stream",
     "text": [
      "6/6 [==============================] - 1s 51ms/step - loss: 1.8924 - accuracy: 0.2583 - val_loss: 1.8475 - val_accuracy: 0.4112\n",
      "Epoch 2/10000\n",
      "6/6 [==============================] - ETA: 0s - loss: 1.8060 - accuracy: 0.4496"
     ]
    },
    {
     "name": "stderr",
     "output_type": "stream",
     "text": [
      "2024-09-10 14:54:04.661294: I tensorflow/core/grappler/optimizers/custom_graph_optimizer_registry.cc:114] Plugin optimizer for device_type GPU is enabled.\n",
      "2024-09-10 14:54:04.688910: I tensorflow/core/common_runtime/pluggable_device/pluggable_device_factory.cc:306] Could not identify NUMA node of platform GPU ID 0, defaulting to 0. Your kernel may not have been built with NUMA support.\n",
      "2024-09-10 14:54:04.688971: I tensorflow/core/common_runtime/pluggable_device/pluggable_device_factory.cc:272] Created TensorFlow device (/job:localhost/replica:0/task:0/device:GPU:0 with 14845 MB memory) -> physical PluggableDevice (device: 0, name: DML, pci bus id: <undefined>)\n"
     ]
    },
    {
     "name": "stdout",
     "output_type": "stream",
     "text": [
      "6/6 [==============================] - 0s 30ms/step - loss: 1.8060 - accuracy: 0.4496 - val_loss: 1.7703 - val_accuracy: 0.4551\n",
      "Epoch 3/10000\n",
      "6/6 [==============================] - 0s 26ms/step - loss: 1.7223 - accuracy: 0.4687 - val_loss: 1.6893 - val_accuracy: 0.4633\n",
      "Epoch 4/10000\n",
      "6/6 [==============================] - 0s 26ms/step - loss: 1.6368 - accuracy: 0.4765 - val_loss: 1.6083 - val_accuracy: 0.4755\n",
      "Epoch 5/10000\n",
      "6/6 [==============================] - 0s 26ms/step - loss: 1.5570 - accuracy: 0.4816 - val_loss: 1.5382 - val_accuracy: 0.4724\n",
      "Epoch 6/10000\n",
      "6/6 [==============================] - 0s 27ms/step - loss: 1.4882 - accuracy: 0.4932 - val_loss: 1.4836 - val_accuracy: 0.4755\n",
      "Epoch 7/10000\n",
      "6/6 [==============================] - 0s 25ms/step - loss: 1.4338 - accuracy: 0.4966 - val_loss: 1.4337 - val_accuracy: 0.4776\n",
      "Epoch 8/10000\n",
      "6/6 [==============================] - 0s 27ms/step - loss: 1.3816 - accuracy: 0.4918 - val_loss: 1.3819 - val_accuracy: 0.4765\n",
      "Epoch 9/10000\n",
      "6/6 [==============================] - 0s 26ms/step - loss: 1.3311 - accuracy: 0.4949 - val_loss: 1.3385 - val_accuracy: 0.4867\n",
      "Epoch 10/10000\n",
      "6/6 [==============================] - 0s 26ms/step - loss: 1.2907 - accuracy: 0.5054 - val_loss: 1.3073 - val_accuracy: 0.4929\n",
      "Epoch 11/10000\n",
      "6/6 [==============================] - 0s 26ms/step - loss: 1.2619 - accuracy: 0.5150 - val_loss: 1.2838 - val_accuracy: 0.5041\n",
      "Epoch 12/10000\n",
      "6/6 [==============================] - 0s 27ms/step - loss: 1.2406 - accuracy: 0.5140 - val_loss: 1.2663 - val_accuracy: 0.5153\n",
      "Epoch 13/10000\n",
      "6/6 [==============================] - 0s 28ms/step - loss: 1.2214 - accuracy: 0.5283 - val_loss: 1.2512 - val_accuracy: 0.5265\n",
      "Epoch 14/10000\n",
      "6/6 [==============================] - 0s 26ms/step - loss: 1.2020 - accuracy: 0.5300 - val_loss: 1.2327 - val_accuracy: 0.5286\n",
      "Epoch 15/10000\n",
      "6/6 [==============================] - 0s 29ms/step - loss: 1.1868 - accuracy: 0.5344 - val_loss: 1.2164 - val_accuracy: 0.5367\n",
      "Epoch 16/10000\n",
      "6/6 [==============================] - 0s 26ms/step - loss: 1.1692 - accuracy: 0.5408 - val_loss: 1.2014 - val_accuracy: 0.5306\n",
      "Epoch 17/10000\n",
      "6/6 [==============================] - 0s 25ms/step - loss: 1.1555 - accuracy: 0.5395 - val_loss: 1.1866 - val_accuracy: 0.5480\n",
      "Epoch 18/10000\n",
      "6/6 [==============================] - 0s 35ms/step - loss: 1.1397 - accuracy: 0.5449 - val_loss: 1.1725 - val_accuracy: 0.5480\n",
      "Epoch 19/10000\n",
      "6/6 [==============================] - 0s 31ms/step - loss: 1.1270 - accuracy: 0.5453 - val_loss: 1.1616 - val_accuracy: 0.5531\n",
      "Epoch 20/10000\n",
      "6/6 [==============================] - 0s 28ms/step - loss: 1.1145 - accuracy: 0.5483 - val_loss: 1.1496 - val_accuracy: 0.5643\n",
      "Epoch 21/10000\n",
      "6/6 [==============================] - 0s 27ms/step - loss: 1.1040 - accuracy: 0.5545 - val_loss: 1.1395 - val_accuracy: 0.5490\n",
      "Epoch 22/10000\n",
      "6/6 [==============================] - 0s 29ms/step - loss: 1.0940 - accuracy: 0.5555 - val_loss: 1.1304 - val_accuracy: 0.5561\n",
      "Epoch 23/10000\n",
      "6/6 [==============================] - 0s 27ms/step - loss: 1.0840 - accuracy: 0.5575 - val_loss: 1.1217 - val_accuracy: 0.5592\n",
      "Epoch 24/10000\n",
      "6/6 [==============================] - 0s 26ms/step - loss: 1.0751 - accuracy: 0.5616 - val_loss: 1.1162 - val_accuracy: 0.5480\n",
      "Epoch 25/10000\n",
      "6/6 [==============================] - 0s 33ms/step - loss: 1.0660 - accuracy: 0.5657 - val_loss: 1.1113 - val_accuracy: 0.5490\n",
      "Epoch 26/10000\n",
      "6/6 [==============================] - 0s 28ms/step - loss: 1.0598 - accuracy: 0.5691 - val_loss: 1.1056 - val_accuracy: 0.5592\n",
      "Epoch 27/10000\n",
      "6/6 [==============================] - 0s 25ms/step - loss: 1.0510 - accuracy: 0.5742 - val_loss: 1.1013 - val_accuracy: 0.5490\n",
      "Epoch 28/10000\n",
      "6/6 [==============================] - 0s 28ms/step - loss: 1.0448 - accuracy: 0.5803 - val_loss: 1.0980 - val_accuracy: 0.5531\n",
      "Epoch 29/10000\n",
      "6/6 [==============================] - 0s 27ms/step - loss: 1.0393 - accuracy: 0.5790 - val_loss: 1.0937 - val_accuracy: 0.5541\n",
      "Epoch 30/10000\n",
      "6/6 [==============================] - 0s 27ms/step - loss: 1.0342 - accuracy: 0.5824 - val_loss: 1.0905 - val_accuracy: 0.5551\n",
      "Epoch 31/10000\n",
      "6/6 [==============================] - 0s 27ms/step - loss: 1.0291 - accuracy: 0.5837 - val_loss: 1.0893 - val_accuracy: 0.5592\n",
      "Epoch 32/10000\n",
      "6/6 [==============================] - 0s 15ms/step - loss: 1.0245 - accuracy: 0.5834 - val_loss: 1.0900 - val_accuracy: 0.5520\n",
      "Epoch 33/10000\n",
      "6/6 [==============================] - 0s 29ms/step - loss: 1.0206 - accuracy: 0.5803 - val_loss: 1.0853 - val_accuracy: 0.5602\n",
      "Epoch 34/10000\n",
      "6/6 [==============================] - 0s 28ms/step - loss: 1.0151 - accuracy: 0.5902 - val_loss: 1.0830 - val_accuracy: 0.5643\n",
      "Epoch 35/10000\n",
      "6/6 [==============================] - 0s 28ms/step - loss: 1.0106 - accuracy: 0.5950 - val_loss: 1.0797 - val_accuracy: 0.5663\n",
      "Epoch 36/10000\n",
      "6/6 [==============================] - 0s 27ms/step - loss: 1.0063 - accuracy: 0.5953 - val_loss: 1.0790 - val_accuracy: 0.5643\n",
      "Epoch 37/10000\n",
      "6/6 [==============================] - 0s 25ms/step - loss: 1.0035 - accuracy: 0.5926 - val_loss: 1.0786 - val_accuracy: 0.5612\n",
      "Epoch 38/10000\n",
      "6/6 [==============================] - 0s 32ms/step - loss: 0.9990 - accuracy: 0.5926 - val_loss: 1.0777 - val_accuracy: 0.5633\n",
      "Epoch 39/10000\n",
      "6/6 [==============================] - 0s 28ms/step - loss: 0.9963 - accuracy: 0.5953 - val_loss: 1.0745 - val_accuracy: 0.5633\n",
      "Epoch 40/10000\n",
      "6/6 [==============================] - 0s 28ms/step - loss: 0.9918 - accuracy: 0.5970 - val_loss: 1.0737 - val_accuracy: 0.5592\n",
      "Epoch 41/10000\n",
      "6/6 [==============================] - 0s 14ms/step - loss: 0.9891 - accuracy: 0.5956 - val_loss: 1.0741 - val_accuracy: 0.5633\n",
      "Epoch 42/10000\n",
      "6/6 [==============================] - 0s 27ms/step - loss: 0.9862 - accuracy: 0.5990 - val_loss: 1.0705 - val_accuracy: 0.5633\n",
      "Epoch 43/10000\n",
      "6/6 [==============================] - 0s 16ms/step - loss: 0.9835 - accuracy: 0.5984 - val_loss: 1.0717 - val_accuracy: 0.5684\n",
      "Epoch 44/10000\n",
      "6/6 [==============================] - 0s 27ms/step - loss: 0.9804 - accuracy: 0.5953 - val_loss: 1.0668 - val_accuracy: 0.5643\n",
      "Epoch 45/10000\n",
      "6/6 [==============================] - 0s 31ms/step - loss: 0.9763 - accuracy: 0.6011 - val_loss: 1.0659 - val_accuracy: 0.5612\n",
      "Epoch 46/10000\n",
      "6/6 [==============================] - 0s 26ms/step - loss: 0.9719 - accuracy: 0.5967 - val_loss: 1.0644 - val_accuracy: 0.5571\n",
      "Epoch 47/10000\n",
      "6/6 [==============================] - 0s 17ms/step - loss: 0.9689 - accuracy: 0.6042 - val_loss: 1.0651 - val_accuracy: 0.5714\n",
      "Epoch 48/10000\n",
      "6/6 [==============================] - 0s 29ms/step - loss: 0.9658 - accuracy: 0.6011 - val_loss: 1.0617 - val_accuracy: 0.5663\n",
      "Epoch 49/10000\n",
      "6/6 [==============================] - 0s 15ms/step - loss: 0.9626 - accuracy: 0.6021 - val_loss: 1.0626 - val_accuracy: 0.5612\n",
      "Epoch 50/10000\n",
      "6/6 [==============================] - 0s 26ms/step - loss: 0.9595 - accuracy: 0.6082 - val_loss: 1.0595 - val_accuracy: 0.5673\n",
      "Epoch 51/10000\n",
      "6/6 [==============================] - 0s 27ms/step - loss: 0.9579 - accuracy: 0.6021 - val_loss: 1.0585 - val_accuracy: 0.5653\n",
      "Epoch 52/10000\n",
      "6/6 [==============================] - 0s 17ms/step - loss: 0.9542 - accuracy: 0.6089 - val_loss: 1.0611 - val_accuracy: 0.5643\n",
      "Epoch 53/10000\n",
      "6/6 [==============================] - 0s 31ms/step - loss: 0.9513 - accuracy: 0.6045 - val_loss: 1.0567 - val_accuracy: 0.5592\n",
      "Epoch 54/10000\n",
      "6/6 [==============================] - 0s 17ms/step - loss: 0.9485 - accuracy: 0.6123 - val_loss: 1.0596 - val_accuracy: 0.5724\n",
      "Epoch 55/10000\n",
      "6/6 [==============================] - 0s 26ms/step - loss: 0.9451 - accuracy: 0.6106 - val_loss: 1.0550 - val_accuracy: 0.5602\n",
      "Epoch 56/10000\n",
      "6/6 [==============================] - 0s 16ms/step - loss: 0.9415 - accuracy: 0.6127 - val_loss: 1.0600 - val_accuracy: 0.5735\n",
      "Epoch 57/10000\n",
      "6/6 [==============================] - 0s 14ms/step - loss: 0.9417 - accuracy: 0.6089 - val_loss: 1.0571 - val_accuracy: 0.5622\n",
      "Epoch 58/10000\n",
      "6/6 [==============================] - 0s 17ms/step - loss: 0.9418 - accuracy: 0.6106 - val_loss: 1.0587 - val_accuracy: 0.5694\n",
      "Epoch 59/10000\n"
     ]
    },
    {
     "name": "stdout",
     "output_type": "stream",
     "text": [
      "6/6 [==============================] - 0s 25ms/step - loss: 0.9388 - accuracy: 0.6116 - val_loss: 1.0528 - val_accuracy: 0.5673\n",
      "Epoch 60/10000\n",
      "6/6 [==============================] - 0s 28ms/step - loss: 0.9316 - accuracy: 0.6147 - val_loss: 1.0505 - val_accuracy: 0.5602\n",
      "Epoch 61/10000\n",
      "6/6 [==============================] - 0s 15ms/step - loss: 0.9295 - accuracy: 0.6178 - val_loss: 1.0518 - val_accuracy: 0.5694\n",
      "Epoch 62/10000\n",
      "6/6 [==============================] - 0s 26ms/step - loss: 0.9258 - accuracy: 0.6208 - val_loss: 1.0494 - val_accuracy: 0.5684\n",
      "Epoch 63/10000\n",
      "6/6 [==============================] - 0s 26ms/step - loss: 0.9237 - accuracy: 0.6201 - val_loss: 1.0484 - val_accuracy: 0.5704\n",
      "Epoch 64/10000\n",
      "6/6 [==============================] - 0s 27ms/step - loss: 0.9210 - accuracy: 0.6229 - val_loss: 1.0478 - val_accuracy: 0.5673\n",
      "Epoch 65/10000\n",
      "6/6 [==============================] - 0s 16ms/step - loss: 0.9202 - accuracy: 0.6188 - val_loss: 1.0518 - val_accuracy: 0.5653\n",
      "Epoch 66/10000\n",
      "6/6 [==============================] - 0s 15ms/step - loss: 0.9165 - accuracy: 0.6222 - val_loss: 1.0480 - val_accuracy: 0.5714\n",
      "Epoch 67/10000\n",
      "6/6 [==============================] - 0s 16ms/step - loss: 0.9121 - accuracy: 0.6246 - val_loss: 1.0482 - val_accuracy: 0.5663\n",
      "Epoch 68/10000\n",
      "6/6 [==============================] - 0s 29ms/step - loss: 0.9082 - accuracy: 0.6287 - val_loss: 1.0450 - val_accuracy: 0.5684\n",
      "Epoch 69/10000\n",
      "6/6 [==============================] - 0s 15ms/step - loss: 0.9051 - accuracy: 0.6280 - val_loss: 1.0470 - val_accuracy: 0.5663\n",
      "Epoch 70/10000\n",
      "6/6 [==============================] - 0s 17ms/step - loss: 0.9035 - accuracy: 0.6283 - val_loss: 1.0460 - val_accuracy: 0.5704\n",
      "Epoch 71/10000\n",
      "6/6 [==============================] - 0s 15ms/step - loss: 0.9020 - accuracy: 0.6280 - val_loss: 1.0470 - val_accuracy: 0.5694\n",
      "Epoch 72/10000\n",
      "6/6 [==============================] - 0s 17ms/step - loss: 0.9007 - accuracy: 0.6293 - val_loss: 1.0489 - val_accuracy: 0.5653\n",
      "Epoch 73/10000\n",
      "6/6 [==============================] - 0s 33ms/step - loss: 0.8935 - accuracy: 0.6327 - val_loss: 1.0422 - val_accuracy: 0.5684\n",
      "Epoch 74/10000\n",
      "6/6 [==============================] - 0s 19ms/step - loss: 0.8933 - accuracy: 0.6338 - val_loss: 1.0427 - val_accuracy: 0.5694\n",
      "Epoch 75/10000\n",
      "6/6 [==============================] - 0s 16ms/step - loss: 0.8892 - accuracy: 0.6341 - val_loss: 1.0455 - val_accuracy: 0.5694\n",
      "Epoch 76/10000\n",
      "6/6 [==============================] - 0s 15ms/step - loss: 0.8879 - accuracy: 0.6372 - val_loss: 1.0448 - val_accuracy: 0.5735\n",
      "Epoch 77/10000\n",
      "6/6 [==============================] - 0s 16ms/step - loss: 0.8869 - accuracy: 0.6293 - val_loss: 1.0509 - val_accuracy: 0.5714\n",
      "Epoch 78/10000\n",
      "6/6 [==============================] - 0s 17ms/step - loss: 0.8856 - accuracy: 0.6419 - val_loss: 1.0445 - val_accuracy: 0.5673\n",
      "Epoch 79/10000\n",
      "6/6 [==============================] - 0s 17ms/step - loss: 0.8807 - accuracy: 0.6409 - val_loss: 1.0487 - val_accuracy: 0.5724\n",
      "Epoch 80/10000\n",
      "6/6 [==============================] - 0s 20ms/step - loss: 0.8802 - accuracy: 0.6406 - val_loss: 1.0458 - val_accuracy: 0.5673\n",
      "Epoch 81/10000\n",
      "6/6 [==============================] - 0s 19ms/step - loss: 0.8772 - accuracy: 0.6450 - val_loss: 1.0431 - val_accuracy: 0.5735\n",
      "Epoch 82/10000\n",
      "6/6 [==============================] - 0s 28ms/step - loss: 0.8750 - accuracy: 0.6436 - val_loss: 1.0421 - val_accuracy: 0.5673\n",
      "Epoch 83/10000\n",
      "6/6 [==============================] - 0s 15ms/step - loss: 0.8706 - accuracy: 0.6423 - val_loss: 1.0441 - val_accuracy: 0.5684\n",
      "Epoch 84/10000\n",
      "6/6 [==============================] - 0s 26ms/step - loss: 0.8672 - accuracy: 0.6501 - val_loss: 1.0414 - val_accuracy: 0.5724\n",
      "Epoch 85/10000\n",
      "6/6 [==============================] - 0s 27ms/step - loss: 0.8658 - accuracy: 0.6491 - val_loss: 1.0400 - val_accuracy: 0.5714\n",
      "Epoch 86/10000\n",
      "6/6 [==============================] - 0s 19ms/step - loss: 0.8630 - accuracy: 0.6532 - val_loss: 1.0408 - val_accuracy: 0.5653\n",
      "Epoch 87/10000\n",
      "6/6 [==============================] - 0s 15ms/step - loss: 0.8603 - accuracy: 0.6511 - val_loss: 1.0404 - val_accuracy: 0.5684\n",
      "Epoch 88/10000\n",
      "6/6 [==============================] - 0s 17ms/step - loss: 0.8568 - accuracy: 0.6542 - val_loss: 1.0419 - val_accuracy: 0.5673\n",
      "Epoch 89/10000\n",
      "6/6 [==============================] - 0s 15ms/step - loss: 0.8556 - accuracy: 0.6576 - val_loss: 1.0437 - val_accuracy: 0.5684\n",
      "Epoch 90/10000\n",
      "6/6 [==============================] - 0s 16ms/step - loss: 0.8561 - accuracy: 0.6532 - val_loss: 1.0508 - val_accuracy: 0.5622\n",
      "Epoch 91/10000\n",
      "6/6 [==============================] - 0s 17ms/step - loss: 0.8562 - accuracy: 0.6572 - val_loss: 1.0444 - val_accuracy: 0.5592\n",
      "Epoch 92/10000\n",
      "6/6 [==============================] - 0s 17ms/step - loss: 0.8543 - accuracy: 0.6566 - val_loss: 1.0413 - val_accuracy: 0.5694\n",
      "Epoch 93/10000\n",
      "6/6 [==============================] - 0s 15ms/step - loss: 0.8492 - accuracy: 0.6555 - val_loss: 1.0487 - val_accuracy: 0.5704\n",
      "Epoch 94/10000\n",
      "6/6 [==============================] - 0s 17ms/step - loss: 0.8471 - accuracy: 0.6562 - val_loss: 1.0415 - val_accuracy: 0.5673\n",
      "Epoch 95/10000\n",
      "6/6 [==============================] - 0s 18ms/step - loss: 0.8415 - accuracy: 0.6586 - val_loss: 1.0409 - val_accuracy: 0.5633\n",
      "Epoch 96/10000\n",
      "6/6 [==============================] - 0s 17ms/step - loss: 0.8386 - accuracy: 0.6617 - val_loss: 1.0411 - val_accuracy: 0.5694\n",
      "Epoch 97/10000\n",
      "6/6 [==============================] - 0s 28ms/step - loss: 0.8367 - accuracy: 0.6607 - val_loss: 1.0390 - val_accuracy: 0.5755\n",
      "Epoch 98/10000\n",
      "6/6 [==============================] - 0s 17ms/step - loss: 0.8362 - accuracy: 0.6607 - val_loss: 1.0417 - val_accuracy: 0.5684\n",
      "Epoch 99/10000\n",
      "6/6 [==============================] - 0s 17ms/step - loss: 0.8346 - accuracy: 0.6641 - val_loss: 1.0509 - val_accuracy: 0.5776\n",
      "Epoch 100/10000\n",
      "6/6 [==============================] - 0s 15ms/step - loss: 0.8313 - accuracy: 0.6644 - val_loss: 1.0421 - val_accuracy: 0.5745\n",
      "Epoch 101/10000\n",
      "6/6 [==============================] - 0s 15ms/step - loss: 0.8280 - accuracy: 0.6658 - val_loss: 1.0411 - val_accuracy: 0.5735\n",
      "Epoch 102/10000\n",
      "6/6 [==============================] - 0s 15ms/step - loss: 0.8255 - accuracy: 0.6661 - val_loss: 1.0433 - val_accuracy: 0.5714\n",
      "Epoch 103/10000\n",
      "6/6 [==============================] - 0s 17ms/step - loss: 0.8255 - accuracy: 0.6685 - val_loss: 1.0499 - val_accuracy: 0.5653\n",
      "Epoch 104/10000\n",
      "6/6 [==============================] - 0s 17ms/step - loss: 0.8228 - accuracy: 0.6671 - val_loss: 1.0442 - val_accuracy: 0.5776\n",
      "Epoch 105/10000\n",
      "6/6 [==============================] - 0s 17ms/step - loss: 0.8198 - accuracy: 0.6651 - val_loss: 1.0419 - val_accuracy: 0.5714\n",
      "Epoch 106/10000\n",
      "6/6 [==============================] - 0s 16ms/step - loss: 0.8225 - accuracy: 0.6630 - val_loss: 1.0595 - val_accuracy: 0.5735\n",
      "Epoch 107/10000\n",
      "6/6 [==============================] - 0s 15ms/step - loss: 0.8172 - accuracy: 0.6634 - val_loss: 1.0466 - val_accuracy: 0.5684\n",
      "Epoch 108/10000\n",
      "6/6 [==============================] - 0s 17ms/step - loss: 0.8169 - accuracy: 0.6712 - val_loss: 1.0452 - val_accuracy: 0.5622\n",
      "Epoch 109/10000\n",
      "6/6 [==============================] - 0s 19ms/step - loss: 0.8151 - accuracy: 0.6770 - val_loss: 1.0606 - val_accuracy: 0.5663\n",
      "Epoch 110/10000\n",
      "6/6 [==============================] - 0s 17ms/step - loss: 0.8143 - accuracy: 0.6675 - val_loss: 1.0480 - val_accuracy: 0.5796\n",
      "Epoch 111/10000\n",
      "6/6 [==============================] - 0s 19ms/step - loss: 0.8093 - accuracy: 0.6777 - val_loss: 1.0499 - val_accuracy: 0.5827\n",
      "Epoch 112/10000\n",
      "6/6 [==============================] - 0s 17ms/step - loss: 0.8089 - accuracy: 0.6726 - val_loss: 1.0479 - val_accuracy: 0.5786\n",
      "Epoch 113/10000\n",
      "6/6 [==============================] - 0s 17ms/step - loss: 0.8067 - accuracy: 0.6712 - val_loss: 1.0505 - val_accuracy: 0.5755\n",
      "Epoch 114/10000\n",
      "6/6 [==============================] - 0s 17ms/step - loss: 0.8069 - accuracy: 0.6753 - val_loss: 1.0524 - val_accuracy: 0.5745\n",
      "Epoch 115/10000\n",
      "6/6 [==============================] - 0s 15ms/step - loss: 0.7997 - accuracy: 0.6794 - val_loss: 1.0519 - val_accuracy: 0.5755\n",
      "Epoch 116/10000\n"
     ]
    },
    {
     "name": "stdout",
     "output_type": "stream",
     "text": [
      "6/6 [==============================] - 0s 17ms/step - loss: 0.7980 - accuracy: 0.6787 - val_loss: 1.0473 - val_accuracy: 0.5755\n",
      "Epoch 117/10000\n",
      "6/6 [==============================] - 0s 17ms/step - loss: 0.7973 - accuracy: 0.6790 - val_loss: 1.0498 - val_accuracy: 0.5816\n",
      "Epoch 118/10000\n",
      "6/6 [==============================] - 0s 17ms/step - loss: 0.7945 - accuracy: 0.6780 - val_loss: 1.0542 - val_accuracy: 0.5878\n",
      "Epoch 119/10000\n",
      "6/6 [==============================] - 0s 17ms/step - loss: 0.7913 - accuracy: 0.6807 - val_loss: 1.0575 - val_accuracy: 0.5765\n",
      "Epoch 120/10000\n",
      "6/6 [==============================] - 0s 20ms/step - loss: 0.7917 - accuracy: 0.6814 - val_loss: 1.0607 - val_accuracy: 0.5776\n",
      "Epoch 121/10000\n",
      "6/6 [==============================] - 0s 17ms/step - loss: 0.7899 - accuracy: 0.6862 - val_loss: 1.0582 - val_accuracy: 0.5837\n",
      "Epoch 122/10000\n",
      "6/6 [==============================] - 0s 18ms/step - loss: 0.7882 - accuracy: 0.6838 - val_loss: 1.0515 - val_accuracy: 0.5837\n",
      "Epoch 123/10000\n",
      "6/6 [==============================] - 0s 20ms/step - loss: 0.7826 - accuracy: 0.6875 - val_loss: 1.0547 - val_accuracy: 0.5847\n",
      "Epoch 124/10000\n",
      "6/6 [==============================] - 0s 17ms/step - loss: 0.7815 - accuracy: 0.6858 - val_loss: 1.0602 - val_accuracy: 0.5939\n",
      "Epoch 125/10000\n",
      "6/6 [==============================] - 0s 19ms/step - loss: 0.7788 - accuracy: 0.6923 - val_loss: 1.0544 - val_accuracy: 0.5857\n",
      "Epoch 126/10000\n",
      "6/6 [==============================] - 0s 19ms/step - loss: 0.7782 - accuracy: 0.6889 - val_loss: 1.0553 - val_accuracy: 0.5806\n",
      "Epoch 127/10000\n",
      "6/6 [==============================] - 0s 18ms/step - loss: 0.7773 - accuracy: 0.6865 - val_loss: 1.0548 - val_accuracy: 0.5857\n",
      "Epoch 128/10000\n",
      "6/6 [==============================] - 0s 15ms/step - loss: 0.7746 - accuracy: 0.6899 - val_loss: 1.0619 - val_accuracy: 0.5878\n",
      "Epoch 129/10000\n",
      "6/6 [==============================] - 0s 16ms/step - loss: 0.7712 - accuracy: 0.6926 - val_loss: 1.0604 - val_accuracy: 0.5867\n",
      "Epoch 130/10000\n",
      "6/6 [==============================] - 0s 16ms/step - loss: 0.7684 - accuracy: 0.6926 - val_loss: 1.0661 - val_accuracy: 0.5949\n",
      "Epoch 131/10000\n",
      "6/6 [==============================] - 0s 19ms/step - loss: 0.7729 - accuracy: 0.6981 - val_loss: 1.0569 - val_accuracy: 0.5929\n",
      "Epoch 132/10000\n",
      "6/6 [==============================] - 0s 18ms/step - loss: 0.7782 - accuracy: 0.6903 - val_loss: 1.0654 - val_accuracy: 0.5582\n",
      "Epoch 133/10000\n",
      "6/6 [==============================] - 0s 15ms/step - loss: 0.7745 - accuracy: 0.6804 - val_loss: 1.0613 - val_accuracy: 0.5776\n",
      "Epoch 134/10000\n",
      "6/6 [==============================] - 0s 15ms/step - loss: 0.7705 - accuracy: 0.6937 - val_loss: 1.0887 - val_accuracy: 0.5755\n",
      "Epoch 135/10000\n",
      "6/6 [==============================] - 0s 16ms/step - loss: 0.7685 - accuracy: 0.6913 - val_loss: 1.0762 - val_accuracy: 0.5837\n",
      "Epoch 136/10000\n",
      "6/6 [==============================] - 0s 15ms/step - loss: 0.7698 - accuracy: 0.6920 - val_loss: 1.0613 - val_accuracy: 0.5755\n",
      "Epoch 137/10000\n",
      "6/6 [==============================] - 0s 15ms/step - loss: 0.7560 - accuracy: 0.7015 - val_loss: 1.0629 - val_accuracy: 0.5888\n",
      "Epoch 138/10000\n",
      "6/6 [==============================] - 0s 16ms/step - loss: 0.7572 - accuracy: 0.6978 - val_loss: 1.0866 - val_accuracy: 0.5816\n",
      "Epoch 139/10000\n",
      "6/6 [==============================] - 0s 15ms/step - loss: 0.7608 - accuracy: 0.6998 - val_loss: 1.0693 - val_accuracy: 0.5980\n",
      "Epoch 140/10000\n",
      "6/6 [==============================] - 0s 17ms/step - loss: 0.7538 - accuracy: 0.7015 - val_loss: 1.0646 - val_accuracy: 0.5796\n",
      "Epoch 141/10000\n",
      "6/6 [==============================] - 0s 17ms/step - loss: 0.7522 - accuracy: 0.6971 - val_loss: 1.0672 - val_accuracy: 0.5714\n",
      "Epoch 142/10000\n",
      "6/6 [==============================] - 0s 15ms/step - loss: 0.7514 - accuracy: 0.7018 - val_loss: 1.0628 - val_accuracy: 0.5929\n",
      "Epoch 143/10000\n",
      "6/6 [==============================] - 0s 17ms/step - loss: 0.7470 - accuracy: 0.6991 - val_loss: 1.0673 - val_accuracy: 0.5929\n",
      "Epoch 144/10000\n",
      "6/6 [==============================] - 0s 17ms/step - loss: 0.7454 - accuracy: 0.7049 - val_loss: 1.0668 - val_accuracy: 0.5847\n",
      "Epoch 145/10000\n",
      "6/6 [==============================] - 0s 16ms/step - loss: 0.7460 - accuracy: 0.7056 - val_loss: 1.0681 - val_accuracy: 0.5929\n",
      "Epoch 146/10000\n",
      "6/6 [==============================] - 0s 16ms/step - loss: 0.7427 - accuracy: 0.7052 - val_loss: 1.0719 - val_accuracy: 0.5898\n",
      "Epoch 147/10000\n",
      "6/6 [==============================] - 0s 17ms/step - loss: 0.7396 - accuracy: 0.7059 - val_loss: 1.0705 - val_accuracy: 0.5837\n",
      "Epoch 148/10000\n",
      "6/6 [==============================] - 0s 15ms/step - loss: 0.7386 - accuracy: 0.7069 - val_loss: 1.0735 - val_accuracy: 0.5786\n",
      "Epoch 149/10000\n",
      "6/6 [==============================] - 0s 17ms/step - loss: 0.7373 - accuracy: 0.7093 - val_loss: 1.0681 - val_accuracy: 0.5949\n",
      "Epoch 150/10000\n",
      "6/6 [==============================] - 0s 17ms/step - loss: 0.7342 - accuracy: 0.7127 - val_loss: 1.0746 - val_accuracy: 0.5959\n",
      "Epoch 151/10000\n",
      "6/6 [==============================] - 0s 23ms/step - loss: 0.7304 - accuracy: 0.7127 - val_loss: 1.0738 - val_accuracy: 0.5888\n",
      "Epoch 152/10000\n",
      "6/6 [==============================] - 0s 16ms/step - loss: 0.7304 - accuracy: 0.7117 - val_loss: 1.0752 - val_accuracy: 0.5898\n",
      "Epoch 153/10000\n",
      "6/6 [==============================] - 0s 17ms/step - loss: 0.7284 - accuracy: 0.7138 - val_loss: 1.0845 - val_accuracy: 0.5867\n",
      "Epoch 154/10000\n",
      "6/6 [==============================] - 0s 17ms/step - loss: 0.7284 - accuracy: 0.7155 - val_loss: 1.0805 - val_accuracy: 0.5959\n",
      "Epoch 155/10000\n",
      "6/6 [==============================] - 0s 18ms/step - loss: 0.7269 - accuracy: 0.7151 - val_loss: 1.0773 - val_accuracy: 0.5776\n",
      "Epoch 156/10000\n",
      "6/6 [==============================] - 0s 16ms/step - loss: 0.7269 - accuracy: 0.7168 - val_loss: 1.0828 - val_accuracy: 0.5806\n",
      "Epoch 157/10000\n",
      "6/6 [==============================] - 0s 18ms/step - loss: 0.7210 - accuracy: 0.7141 - val_loss: 1.0844 - val_accuracy: 0.5888\n",
      "Epoch 158/10000\n",
      "6/6 [==============================] - 0s 16ms/step - loss: 0.7205 - accuracy: 0.7223 - val_loss: 1.0809 - val_accuracy: 0.5806\n",
      "Epoch 159/10000\n",
      "6/6 [==============================] - 0s 16ms/step - loss: 0.7226 - accuracy: 0.7144 - val_loss: 1.0811 - val_accuracy: 0.5847\n",
      "Epoch 160/10000\n",
      "6/6 [==============================] - 0s 17ms/step - loss: 0.7168 - accuracy: 0.7212 - val_loss: 1.0823 - val_accuracy: 0.5867\n",
      "Epoch 161/10000\n",
      "6/6 [==============================] - 0s 18ms/step - loss: 0.7156 - accuracy: 0.7219 - val_loss: 1.0832 - val_accuracy: 0.5745\n",
      "Epoch 162/10000\n",
      "6/6 [==============================] - 0s 15ms/step - loss: 0.7165 - accuracy: 0.7216 - val_loss: 1.0832 - val_accuracy: 0.5867\n",
      "Epoch 163/10000\n",
      "6/6 [==============================] - 0s 15ms/step - loss: 0.7145 - accuracy: 0.7229 - val_loss: 1.0920 - val_accuracy: 0.5908\n",
      "Epoch 164/10000\n",
      "6/6 [==============================] - 0s 15ms/step - loss: 0.7121 - accuracy: 0.7229 - val_loss: 1.1159 - val_accuracy: 0.5816\n",
      "Epoch 165/10000\n",
      "6/6 [==============================] - 0s 15ms/step - loss: 0.7170 - accuracy: 0.7182 - val_loss: 1.0864 - val_accuracy: 0.5878\n",
      "Epoch 166/10000\n",
      "6/6 [==============================] - 0s 15ms/step - loss: 0.7116 - accuracy: 0.7219 - val_loss: 1.1022 - val_accuracy: 0.5602\n",
      "Epoch 167/10000\n",
      "6/6 [==============================] - 0s 16ms/step - loss: 0.7187 - accuracy: 0.7131 - val_loss: 1.0866 - val_accuracy: 0.5796\n",
      "Epoch 168/10000\n",
      "6/6 [==============================] - 0s 18ms/step - loss: 0.7119 - accuracy: 0.7209 - val_loss: 1.1131 - val_accuracy: 0.5776\n",
      "Epoch 169/10000\n",
      "6/6 [==============================] - 0s 17ms/step - loss: 0.7086 - accuracy: 0.7226 - val_loss: 1.1092 - val_accuracy: 0.5806\n",
      "Epoch 170/10000\n",
      "6/6 [==============================] - 0s 15ms/step - loss: 0.7060 - accuracy: 0.7233 - val_loss: 1.0939 - val_accuracy: 0.5908\n",
      "Epoch 171/10000\n",
      "6/6 [==============================] - 0s 15ms/step - loss: 0.7027 - accuracy: 0.7243 - val_loss: 1.0862 - val_accuracy: 0.5816\n",
      "Epoch 172/10000\n",
      "6/6 [==============================] - 0s 17ms/step - loss: 0.6998 - accuracy: 0.7209 - val_loss: 1.0937 - val_accuracy: 0.5786\n",
      "Epoch 173/10000\n"
     ]
    },
    {
     "name": "stdout",
     "output_type": "stream",
     "text": [
      "6/6 [==============================] - 0s 15ms/step - loss: 0.6947 - accuracy: 0.7294 - val_loss: 1.0983 - val_accuracy: 0.5827\n",
      "Epoch 174/10000\n",
      "6/6 [==============================] - 0s 15ms/step - loss: 0.6939 - accuracy: 0.7345 - val_loss: 1.0921 - val_accuracy: 0.5898\n",
      "Epoch 175/10000\n",
      "6/6 [==============================] - 0s 15ms/step - loss: 0.6940 - accuracy: 0.7359 - val_loss: 1.1011 - val_accuracy: 0.5704\n",
      "Epoch 176/10000\n",
      "6/6 [==============================] - 0s 16ms/step - loss: 0.6916 - accuracy: 0.7362 - val_loss: 1.1055 - val_accuracy: 0.5847\n",
      "Epoch 177/10000\n",
      "6/6 [==============================] - 0s 18ms/step - loss: 0.6898 - accuracy: 0.7308 - val_loss: 1.0949 - val_accuracy: 0.5796\n",
      "Epoch 178/10000\n",
      "6/6 [==============================] - 0s 15ms/step - loss: 0.6888 - accuracy: 0.7325 - val_loss: 1.0993 - val_accuracy: 0.5837\n",
      "Epoch 179/10000\n",
      "6/6 [==============================] - 0s 17ms/step - loss: 0.6848 - accuracy: 0.7352 - val_loss: 1.0990 - val_accuracy: 0.5827\n",
      "Epoch 180/10000\n",
      "6/6 [==============================] - 0s 17ms/step - loss: 0.6861 - accuracy: 0.7379 - val_loss: 1.1004 - val_accuracy: 0.5704\n",
      "Epoch 181/10000\n",
      "6/6 [==============================] - 0s 15ms/step - loss: 0.6844 - accuracy: 0.7366 - val_loss: 1.1211 - val_accuracy: 0.5837\n",
      "Epoch 182/10000\n",
      "6/6 [==============================] - 0s 15ms/step - loss: 0.6818 - accuracy: 0.7393 - val_loss: 1.1110 - val_accuracy: 0.5857\n",
      "Epoch 183/10000\n",
      "6/6 [==============================] - 0s 16ms/step - loss: 0.6777 - accuracy: 0.7403 - val_loss: 1.1014 - val_accuracy: 0.5776\n",
      "Epoch 184/10000\n",
      "6/6 [==============================] - 0s 15ms/step - loss: 0.6810 - accuracy: 0.7413 - val_loss: 1.1061 - val_accuracy: 0.5827\n",
      "Epoch 185/10000\n",
      "6/6 [==============================] - 0s 15ms/step - loss: 0.6753 - accuracy: 0.7379 - val_loss: 1.1060 - val_accuracy: 0.5878\n",
      "Epoch 186/10000\n",
      "6/6 [==============================] - 0s 15ms/step - loss: 0.6715 - accuracy: 0.7423 - val_loss: 1.1126 - val_accuracy: 0.5827\n",
      "Epoch 187/10000\n",
      "6/6 [==============================] - 0s 15ms/step - loss: 0.6725 - accuracy: 0.7430 - val_loss: 1.1092 - val_accuracy: 0.5776\n",
      "Epoch 188/10000\n",
      "6/6 [==============================] - 0s 17ms/step - loss: 0.6724 - accuracy: 0.7423 - val_loss: 1.1160 - val_accuracy: 0.5816\n",
      "Epoch 189/10000\n",
      "6/6 [==============================] - 0s 14ms/step - loss: 0.6725 - accuracy: 0.7447 - val_loss: 1.1113 - val_accuracy: 0.5867\n",
      "Epoch 190/10000\n",
      "6/6 [==============================] - 0s 17ms/step - loss: 0.6698 - accuracy: 0.7434 - val_loss: 1.1187 - val_accuracy: 0.5806\n",
      "Epoch 191/10000\n",
      "6/6 [==============================] - 0s 17ms/step - loss: 0.6753 - accuracy: 0.7345 - val_loss: 1.1479 - val_accuracy: 0.5776\n",
      "Epoch 192/10000\n",
      "6/6 [==============================] - 0s 15ms/step - loss: 0.6704 - accuracy: 0.7423 - val_loss: 1.1182 - val_accuracy: 0.5816\n",
      "Epoch 193/10000\n",
      "6/6 [==============================] - 0s 16ms/step - loss: 0.6627 - accuracy: 0.7447 - val_loss: 1.1173 - val_accuracy: 0.5816\n",
      "Epoch 194/10000\n",
      "6/6 [==============================] - 0s 15ms/step - loss: 0.6628 - accuracy: 0.7420 - val_loss: 1.1340 - val_accuracy: 0.5776\n",
      "Epoch 195/10000\n",
      "6/6 [==============================] - 0s 17ms/step - loss: 0.6613 - accuracy: 0.7434 - val_loss: 1.1297 - val_accuracy: 0.5908\n",
      "Epoch 196/10000\n",
      "6/6 [==============================] - 0s 18ms/step - loss: 0.6609 - accuracy: 0.7464 - val_loss: 1.1185 - val_accuracy: 0.5837\n",
      "Epoch 197/10000\n",
      "6/6 [==============================] - 0s 15ms/step - loss: 0.6551 - accuracy: 0.7498 - val_loss: 1.1185 - val_accuracy: 0.5694\n"
     ]
    }
   ],
   "source": [
    "model.compile(loss = 'categorical_crossentropy', optimizer='adam', metrics=['accuracy'])\n",
    "early_stop = EarlyStopping(patience=100)\n",
    "filepath = \"white_wine{epoch:04d}__{val_loss:.4f}.keras\"\n",
    "model_save = ModelCheckpoint(filepath =filepath, save_best_only = True)\n",
    "\n",
    "history = model.fit(X_train, y_train, epochs=10000, batch_size=500, validation_data=(X_test, y_test),\n",
    "                    callbacks=[early_stop, model_save])\n",
    "# pred = model.predict(X_test)\n",
    "# pred = pd.DataFrame(pred)"
   ]
  },
  {
   "cell_type": "code",
   "execution_count": 65,
   "id": "a5abd281",
   "metadata": {},
   "outputs": [
    {
     "name": "stdout",
     "output_type": "stream",
     "text": [
      "31/31 [==============================] - 0s 3ms/step\n"
     ]
    },
    {
     "name": "stderr",
     "output_type": "stream",
     "text": [
      "2024-09-10 14:54:27.153249: I tensorflow/core/grappler/optimizers/custom_graph_optimizer_registry.cc:114] Plugin optimizer for device_type GPU is enabled.\n"
     ]
    }
   ],
   "source": [
    "wine_best_model = load_model('./model/white_wine0087__1.0498.keras')\n",
    "wine_pred = wine_best_model.predict(X_test)\n",
    "wine_pred = pd.DataFrame(wine_pred, columns=y.columns)"
   ]
  },
  {
   "cell_type": "code",
   "execution_count": 66,
   "id": "2d2fa03a",
   "metadata": {},
   "outputs": [
    {
     "data": {
      "text/html": [
       "<div>\n",
       "<style scoped>\n",
       "    .dataframe tbody tr th:only-of-type {\n",
       "        vertical-align: middle;\n",
       "    }\n",
       "\n",
       "    .dataframe tbody tr th {\n",
       "        vertical-align: top;\n",
       "    }\n",
       "\n",
       "    .dataframe thead th {\n",
       "        text-align: right;\n",
       "    }\n",
       "</style>\n",
       "<table border=\"1\" class=\"dataframe\">\n",
       "  <thead>\n",
       "    <tr style=\"text-align: right;\">\n",
       "      <th></th>\n",
       "      <th>3</th>\n",
       "      <th>4</th>\n",
       "      <th>5</th>\n",
       "      <th>6</th>\n",
       "      <th>7</th>\n",
       "      <th>8</th>\n",
       "      <th>9</th>\n",
       "    </tr>\n",
       "  </thead>\n",
       "  <tbody>\n",
       "    <tr>\n",
       "      <th>0</th>\n",
       "      <td>0.002288</td>\n",
       "      <td>0.011672</td>\n",
       "      <td>0.353869</td>\n",
       "      <td>0.616165</td>\n",
       "      <td>0.011074</td>\n",
       "      <td>0.004808</td>\n",
       "      <td>0.000125</td>\n",
       "    </tr>\n",
       "    <tr>\n",
       "      <th>1</th>\n",
       "      <td>0.002014</td>\n",
       "      <td>0.009480</td>\n",
       "      <td>0.097338</td>\n",
       "      <td>0.722411</td>\n",
       "      <td>0.124522</td>\n",
       "      <td>0.042862</td>\n",
       "      <td>0.001373</td>\n",
       "    </tr>\n",
       "    <tr>\n",
       "      <th>2</th>\n",
       "      <td>0.002371</td>\n",
       "      <td>0.064955</td>\n",
       "      <td>0.236396</td>\n",
       "      <td>0.484316</td>\n",
       "      <td>0.193053</td>\n",
       "      <td>0.018594</td>\n",
       "      <td>0.000315</td>\n",
       "    </tr>\n",
       "    <tr>\n",
       "      <th>3</th>\n",
       "      <td>0.000546</td>\n",
       "      <td>0.009218</td>\n",
       "      <td>0.093975</td>\n",
       "      <td>0.588977</td>\n",
       "      <td>0.291816</td>\n",
       "      <td>0.015320</td>\n",
       "      <td>0.000147</td>\n",
       "    </tr>\n",
       "    <tr>\n",
       "      <th>4</th>\n",
       "      <td>0.000570</td>\n",
       "      <td>0.004774</td>\n",
       "      <td>0.112022</td>\n",
       "      <td>0.761796</td>\n",
       "      <td>0.100016</td>\n",
       "      <td>0.020581</td>\n",
       "      <td>0.000240</td>\n",
       "    </tr>\n",
       "    <tr>\n",
       "      <th>...</th>\n",
       "      <td>...</td>\n",
       "      <td>...</td>\n",
       "      <td>...</td>\n",
       "      <td>...</td>\n",
       "      <td>...</td>\n",
       "      <td>...</td>\n",
       "      <td>...</td>\n",
       "    </tr>\n",
       "    <tr>\n",
       "      <th>975</th>\n",
       "      <td>0.002639</td>\n",
       "      <td>0.010957</td>\n",
       "      <td>0.258626</td>\n",
       "      <td>0.621912</td>\n",
       "      <td>0.082332</td>\n",
       "      <td>0.022718</td>\n",
       "      <td>0.000816</td>\n",
       "    </tr>\n",
       "    <tr>\n",
       "      <th>976</th>\n",
       "      <td>0.008392</td>\n",
       "      <td>0.752935</td>\n",
       "      <td>0.210948</td>\n",
       "      <td>0.019090</td>\n",
       "      <td>0.008040</td>\n",
       "      <td>0.000531</td>\n",
       "      <td>0.000064</td>\n",
       "    </tr>\n",
       "    <tr>\n",
       "      <th>977</th>\n",
       "      <td>0.004900</td>\n",
       "      <td>0.055426</td>\n",
       "      <td>0.343313</td>\n",
       "      <td>0.480690</td>\n",
       "      <td>0.104601</td>\n",
       "      <td>0.010581</td>\n",
       "      <td>0.000490</td>\n",
       "    </tr>\n",
       "    <tr>\n",
       "      <th>978</th>\n",
       "      <td>0.006335</td>\n",
       "      <td>0.046421</td>\n",
       "      <td>0.459072</td>\n",
       "      <td>0.477399</td>\n",
       "      <td>0.008963</td>\n",
       "      <td>0.001643</td>\n",
       "      <td>0.000167</td>\n",
       "    </tr>\n",
       "    <tr>\n",
       "      <th>979</th>\n",
       "      <td>0.002853</td>\n",
       "      <td>0.017816</td>\n",
       "      <td>0.381275</td>\n",
       "      <td>0.539487</td>\n",
       "      <td>0.047257</td>\n",
       "      <td>0.010981</td>\n",
       "      <td>0.000330</td>\n",
       "    </tr>\n",
       "  </tbody>\n",
       "</table>\n",
       "<p>980 rows × 7 columns</p>\n",
       "</div>"
      ],
      "text/plain": [
       "            3         4         5         6         7         8         9\n",
       "0    0.002288  0.011672  0.353869  0.616165  0.011074  0.004808  0.000125\n",
       "1    0.002014  0.009480  0.097338  0.722411  0.124522  0.042862  0.001373\n",
       "2    0.002371  0.064955  0.236396  0.484316  0.193053  0.018594  0.000315\n",
       "3    0.000546  0.009218  0.093975  0.588977  0.291816  0.015320  0.000147\n",
       "4    0.000570  0.004774  0.112022  0.761796  0.100016  0.020581  0.000240\n",
       "..        ...       ...       ...       ...       ...       ...       ...\n",
       "975  0.002639  0.010957  0.258626  0.621912  0.082332  0.022718  0.000816\n",
       "976  0.008392  0.752935  0.210948  0.019090  0.008040  0.000531  0.000064\n",
       "977  0.004900  0.055426  0.343313  0.480690  0.104601  0.010581  0.000490\n",
       "978  0.006335  0.046421  0.459072  0.477399  0.008963  0.001643  0.000167\n",
       "979  0.002853  0.017816  0.381275  0.539487  0.047257  0.010981  0.000330\n",
       "\n",
       "[980 rows x 7 columns]"
      ]
     },
     "execution_count": 66,
     "metadata": {},
     "output_type": "execute_result"
    }
   ],
   "source": [
    "wine_pred"
   ]
  },
  {
   "cell_type": "code",
   "execution_count": 67,
   "id": "50dae57a",
   "metadata": {},
   "outputs": [
    {
     "data": {
      "text/plain": [
       "0      6\n",
       "1      6\n",
       "2      6\n",
       "3      6\n",
       "4      6\n",
       "      ..\n",
       "975    6\n",
       "976    4\n",
       "977    6\n",
       "978    6\n",
       "979    6\n",
       "Length: 980, dtype: int64"
      ]
     },
     "execution_count": 67,
     "metadata": {},
     "output_type": "execute_result"
    }
   ],
   "source": [
    "wine_pred_class = wine_pred.idxmax(axis=1)\n",
    "wine_pred_class"
   ]
  },
  {
   "cell_type": "code",
   "execution_count": 68,
   "id": "a201559e",
   "metadata": {},
   "outputs": [],
   "source": [
    "y_test_class = y_test.idxmax(axis=1)\n",
    "y_test_class = y_test_class.reset_index(drop=True)"
   ]
  },
  {
   "cell_type": "code",
   "execution_count": 69,
   "id": "a9297c51",
   "metadata": {},
   "outputs": [
    {
     "data": {
      "text/plain": [
       "0      6\n",
       "1      6\n",
       "2      7\n",
       "3      7\n",
       "4      5\n",
       "      ..\n",
       "975    6\n",
       "976    4\n",
       "977    5\n",
       "978    6\n",
       "979    6\n",
       "Length: 980, dtype: int64"
      ]
     },
     "execution_count": 69,
     "metadata": {},
     "output_type": "execute_result"
    }
   ],
   "source": [
    "y_test_class"
   ]
  },
  {
   "cell_type": "code",
   "execution_count": 70,
   "id": "a62deaed",
   "metadata": {},
   "outputs": [
    {
     "data": {
      "text/plain": [
       "3      4      5      6      7      8      9    \n",
       "False  False  False  True   False  False  False    2198\n",
       "              True   False  False  False  False    1457\n",
       "              False  False  True   False  False     880\n",
       "                            False  True   False     175\n",
       "       True   False  False  False  False  False     163\n",
       "True   False  False  False  False  False  False      20\n",
       "False  False  False  False  False  False  True        5\n",
       "Name: count, dtype: int64"
      ]
     },
     "execution_count": 70,
     "metadata": {},
     "output_type": "execute_result"
    }
   ],
   "source": [
    "y.value_counts()"
   ]
  },
  {
   "cell_type": "code",
   "execution_count": 73,
   "id": "6731babc",
   "metadata": {
    "scrolled": true
   },
   "outputs": [
    {
     "name": "stdout",
     "output_type": "stream",
     "text": [
      "              precision    recall  f1-score   support\n",
      "\n",
      "           3       0.00      0.00      0.00         4\n",
      "           4       1.00      0.09      0.17        33\n",
      "           5       0.57      0.60      0.59       291\n",
      "           6       0.55      0.70      0.62       440\n",
      "           7       0.54      0.38      0.44       176\n",
      "           8       0.00      0.00      0.00        35\n",
      "           9       0.00      0.00      0.00         1\n",
      "\n",
      "    accuracy                           0.56       980\n",
      "   macro avg       0.38      0.25      0.26       980\n",
      "weighted avg       0.55      0.56      0.54       980\n",
      "\n"
     ]
    },
    {
     "name": "stderr",
     "output_type": "stream",
     "text": [
      "/home/user/miniforge3/envs/dml/lib/python3.9/site-packages/sklearn/metrics/_classification.py:1531: UndefinedMetricWarning: Precision is ill-defined and being set to 0.0 in labels with no predicted samples. Use `zero_division` parameter to control this behavior.\n",
      "  _warn_prf(average, modifier, f\"{metric.capitalize()} is\", len(result))\n",
      "/home/user/miniforge3/envs/dml/lib/python3.9/site-packages/sklearn/metrics/_classification.py:1531: UndefinedMetricWarning: Precision is ill-defined and being set to 0.0 in labels with no predicted samples. Use `zero_division` parameter to control this behavior.\n",
      "  _warn_prf(average, modifier, f\"{metric.capitalize()} is\", len(result))\n",
      "/home/user/miniforge3/envs/dml/lib/python3.9/site-packages/sklearn/metrics/_classification.py:1531: UndefinedMetricWarning: Precision is ill-defined and being set to 0.0 in labels with no predicted samples. Use `zero_division` parameter to control this behavior.\n",
      "  _warn_prf(average, modifier, f\"{metric.capitalize()} is\", len(result))\n"
     ]
    }
   ],
   "source": [
    "print(classification_report(y_test_class, wine_pred_class))"
   ]
  },
  {
   "cell_type": "code",
   "execution_count": null,
   "id": "4be91a91",
   "metadata": {},
   "outputs": [],
   "source": []
  },
  {
   "cell_type": "code",
   "execution_count": null,
   "id": "38a5e6bb",
   "metadata": {},
   "outputs": [],
   "source": []
  },
  {
   "cell_type": "markdown",
   "id": "1b02a2e9",
   "metadata": {},
   "source": [
    "### XGB로 비교 분석"
   ]
  },
  {
   "cell_type": "code",
   "execution_count": 44,
   "id": "5b588956",
   "metadata": {},
   "outputs": [],
   "source": [
    "X_train2, X_valid2, y_train2, y_valid2 = train_test_split(X_scaled, y2, test_size=0.4, stratify=y2, random_state=10)\n",
    "X_valid2, X_test2, y_valid2, y_test2 = train_test_split(X_valid2, y_valid2, test_size=0.5, stratify=y_valid2, random_state=10)"
   ]
  },
  {
   "cell_type": "code",
   "execution_count": 46,
   "id": "fd4ca94a",
   "metadata": {},
   "outputs": [],
   "source": [
    "# !pip install xgboost"
   ]
  },
  {
   "cell_type": "code",
   "execution_count": 45,
   "id": "4b35c78f",
   "metadata": {},
   "outputs": [],
   "source": [
    "from xgboost import XGBClassifier"
   ]
  },
  {
   "cell_type": "code",
   "execution_count": 47,
   "id": "85305adb",
   "metadata": {
    "scrolled": true
   },
   "outputs": [
    {
     "ename": "ValueError",
     "evalue": "Invalid classes inferred from unique values of `y`.  Expected: [0 1 2 3 4 5 6], got [3 4 5 6 7 8 9]",
     "output_type": "error",
     "traceback": [
      "\u001b[0;31m---------------------------------------------------------------------------\u001b[0m",
      "\u001b[0;31mValueError\u001b[0m                                Traceback (most recent call last)",
      "Cell \u001b[0;32mIn[47], line 2\u001b[0m\n\u001b[1;32m      1\u001b[0m xgb \u001b[38;5;241m=\u001b[39m XGBClassifier(max_depth\u001b[38;5;241m=\u001b[39m\u001b[38;5;241m5\u001b[39m, n_estimators\u001b[38;5;241m=\u001b[39m\u001b[38;5;241m1000\u001b[39m, random_state\u001b[38;5;241m=\u001b[39m\u001b[38;5;241m10\u001b[39m, n_jobs\u001b[38;5;241m=\u001b[39m\u001b[38;5;241m-\u001b[39m\u001b[38;5;241m1\u001b[39m)\n\u001b[0;32m----> 2\u001b[0m \u001b[43mxgb\u001b[49m\u001b[38;5;241;43m.\u001b[39;49m\u001b[43mfit\u001b[49m\u001b[43m(\u001b[49m\u001b[43mX_train2\u001b[49m\u001b[43m,\u001b[49m\u001b[43m \u001b[49m\u001b[43my_train2\u001b[49m\u001b[43m)\u001b[49m\n\u001b[1;32m      3\u001b[0m xgb_pred \u001b[38;5;241m=\u001b[39m xgb\u001b[38;5;241m.\u001b[39mpredict(X_valid2)\n\u001b[1;32m      4\u001b[0m \u001b[38;5;28mprint\u001b[39m(classification_report(y_test2, xgb_pred))\n",
      "File \u001b[0;32m~/miniforge3/envs/dml/lib/python3.9/site-packages/xgboost/core.py:726\u001b[0m, in \u001b[0;36mrequire_keyword_args.<locals>.throw_if.<locals>.inner_f\u001b[0;34m(*args, **kwargs)\u001b[0m\n\u001b[1;32m    724\u001b[0m \u001b[38;5;28;01mfor\u001b[39;00m k, arg \u001b[38;5;129;01min\u001b[39;00m \u001b[38;5;28mzip\u001b[39m(sig\u001b[38;5;241m.\u001b[39mparameters, args):\n\u001b[1;32m    725\u001b[0m     kwargs[k] \u001b[38;5;241m=\u001b[39m arg\n\u001b[0;32m--> 726\u001b[0m \u001b[38;5;28;01mreturn\u001b[39;00m \u001b[43mfunc\u001b[49m\u001b[43m(\u001b[49m\u001b[38;5;241;43m*\u001b[39;49m\u001b[38;5;241;43m*\u001b[39;49m\u001b[43mkwargs\u001b[49m\u001b[43m)\u001b[49m\n",
      "File \u001b[0;32m~/miniforge3/envs/dml/lib/python3.9/site-packages/xgboost/sklearn.py:1491\u001b[0m, in \u001b[0;36mXGBClassifier.fit\u001b[0;34m(self, X, y, sample_weight, base_margin, eval_set, verbose, xgb_model, sample_weight_eval_set, base_margin_eval_set, feature_weights)\u001b[0m\n\u001b[1;32m   1486\u001b[0m     expected_classes \u001b[38;5;241m=\u001b[39m \u001b[38;5;28mself\u001b[39m\u001b[38;5;241m.\u001b[39mclasses_\n\u001b[1;32m   1487\u001b[0m \u001b[38;5;28;01mif\u001b[39;00m (\n\u001b[1;32m   1488\u001b[0m     classes\u001b[38;5;241m.\u001b[39mshape \u001b[38;5;241m!=\u001b[39m expected_classes\u001b[38;5;241m.\u001b[39mshape\n\u001b[1;32m   1489\u001b[0m     \u001b[38;5;129;01mor\u001b[39;00m \u001b[38;5;129;01mnot\u001b[39;00m (classes \u001b[38;5;241m==\u001b[39m expected_classes)\u001b[38;5;241m.\u001b[39mall()\n\u001b[1;32m   1490\u001b[0m ):\n\u001b[0;32m-> 1491\u001b[0m     \u001b[38;5;28;01mraise\u001b[39;00m \u001b[38;5;167;01mValueError\u001b[39;00m(\n\u001b[1;32m   1492\u001b[0m         \u001b[38;5;124mf\u001b[39m\u001b[38;5;124m\"\u001b[39m\u001b[38;5;124mInvalid classes inferred from unique values of `y`.  \u001b[39m\u001b[38;5;124m\"\u001b[39m\n\u001b[1;32m   1493\u001b[0m         \u001b[38;5;124mf\u001b[39m\u001b[38;5;124m\"\u001b[39m\u001b[38;5;124mExpected: \u001b[39m\u001b[38;5;132;01m{\u001b[39;00mexpected_classes\u001b[38;5;132;01m}\u001b[39;00m\u001b[38;5;124m, got \u001b[39m\u001b[38;5;132;01m{\u001b[39;00mclasses\u001b[38;5;132;01m}\u001b[39;00m\u001b[38;5;124m\"\u001b[39m\n\u001b[1;32m   1494\u001b[0m     )\n\u001b[1;32m   1496\u001b[0m params \u001b[38;5;241m=\u001b[39m \u001b[38;5;28mself\u001b[39m\u001b[38;5;241m.\u001b[39mget_xgb_params()\n\u001b[1;32m   1498\u001b[0m \u001b[38;5;28;01mif\u001b[39;00m \u001b[38;5;28mcallable\u001b[39m(\u001b[38;5;28mself\u001b[39m\u001b[38;5;241m.\u001b[39mobjective):\n",
      "\u001b[0;31mValueError\u001b[0m: Invalid classes inferred from unique values of `y`.  Expected: [0 1 2 3 4 5 6], got [3 4 5 6 7 8 9]"
     ]
    }
   ],
   "source": [
    "xgb = XGBClassifier(max_depth=5, n_estimators=1000, random_state=10, n_jobs=-1)\n",
    "xgb.fit(X_train2, y_train2)\n",
    "xgb_pred = xgb.predict(X_valid2)\n",
    "print(classification_report(y_test2, xgb_pred))"
   ]
  },
  {
   "cell_type": "code",
   "execution_count": 48,
   "id": "a048d62b",
   "metadata": {},
   "outputs": [],
   "source": [
    "from sklearn.preprocessing import LabelEncoder"
   ]
  },
  {
   "cell_type": "code",
   "execution_count": 49,
   "id": "ee996e03",
   "metadata": {},
   "outputs": [
    {
     "data": {
      "text/plain": [
       "array([3, 3, 3, ..., 3, 4, 3])"
      ]
     },
     "execution_count": 49,
     "metadata": {},
     "output_type": "execute_result"
    }
   ],
   "source": [
    "le = LabelEncoder()\n",
    "y2_labeled = le.fit_transform(y2)\n",
    "y2_labeled"
   ]
  },
  {
   "cell_type": "code",
   "execution_count": 50,
   "id": "40ffea02",
   "metadata": {},
   "outputs": [],
   "source": [
    "X_train2, X_valid2, y_train2, y_valid2 = train_test_split(X_scaled, y2_labeled, test_size=0.4, stratify=y2, random_state=10)\n",
    "X_valid2, X_test2, y_valid2, y_test2 = train_test_split(X_valid2, y_valid2, test_size=0.5, stratify=y_valid2, random_state=10)"
   ]
  },
  {
   "cell_type": "code",
   "execution_count": 74,
   "id": "3ca9ecc2",
   "metadata": {
    "scrolled": true
   },
   "outputs": [
    {
     "name": "stdout",
     "output_type": "stream",
     "text": [
      "              precision    recall  f1-score   support\n",
      "\n",
      "           3       0.00      0.00      0.00         4\n",
      "           4       0.48      0.33      0.39        33\n",
      "           5       0.64      0.61      0.62       291\n",
      "           6       0.64      0.70      0.67       440\n",
      "           7       0.59      0.60      0.59       176\n",
      "           8       0.60      0.34      0.44        35\n",
      "           9       0.00      0.00      0.00         1\n",
      "\n",
      "    accuracy                           0.62       980\n",
      "   macro avg       0.42      0.37      0.39       980\n",
      "weighted avg       0.62      0.62      0.62       980\n",
      "\n"
     ]
    },
    {
     "name": "stderr",
     "output_type": "stream",
     "text": [
      "/home/user/miniforge3/envs/dml/lib/python3.9/site-packages/sklearn/metrics/_classification.py:1531: UndefinedMetricWarning: Precision is ill-defined and being set to 0.0 in labels with no predicted samples. Use `zero_division` parameter to control this behavior.\n",
      "  _warn_prf(average, modifier, f\"{metric.capitalize()} is\", len(result))\n",
      "/home/user/miniforge3/envs/dml/lib/python3.9/site-packages/sklearn/metrics/_classification.py:1531: UndefinedMetricWarning: Precision is ill-defined and being set to 0.0 in labels with no predicted samples. Use `zero_division` parameter to control this behavior.\n",
      "  _warn_prf(average, modifier, f\"{metric.capitalize()} is\", len(result))\n",
      "/home/user/miniforge3/envs/dml/lib/python3.9/site-packages/sklearn/metrics/_classification.py:1531: UndefinedMetricWarning: Precision is ill-defined and being set to 0.0 in labels with no predicted samples. Use `zero_division` parameter to control this behavior.\n",
      "  _warn_prf(average, modifier, f\"{metric.capitalize()} is\", len(result))\n"
     ]
    }
   ],
   "source": [
    "xgb = XGBClassifier(max_depth=5, n_estimators=1000, random_state=10, n_jobs=-1)\n",
    "xgb.fit(X_train2, y_train2)\n",
    "xgb_pred = xgb.predict(X_valid2)\n",
    "print(classification_report(le.inverse_transform(y_valid2), le.inverse_transform(xgb_pred)))"
   ]
  },
  {
   "cell_type": "code",
   "execution_count": null,
   "id": "e7223dd0",
   "metadata": {},
   "outputs": [],
   "source": []
  },
  {
   "cell_type": "code",
   "execution_count": null,
   "id": "7a6bf4c5",
   "metadata": {},
   "outputs": [],
   "source": []
  },
  {
   "cell_type": "code",
   "execution_count": null,
   "id": "8b5be0ae",
   "metadata": {},
   "outputs": [],
   "source": []
  },
  {
   "cell_type": "code",
   "execution_count": null,
   "id": "eca0fc54",
   "metadata": {},
   "outputs": [],
   "source": []
  },
  {
   "cell_type": "code",
   "execution_count": null,
   "id": "1b542265",
   "metadata": {},
   "outputs": [],
   "source": []
  },
  {
   "cell_type": "code",
   "execution_count": null,
   "id": "659aff66",
   "metadata": {},
   "outputs": [],
   "source": []
  },
  {
   "cell_type": "code",
   "execution_count": null,
   "id": "8f6df2e2",
   "metadata": {},
   "outputs": [],
   "source": []
  },
  {
   "cell_type": "code",
   "execution_count": null,
   "id": "650bb855",
   "metadata": {},
   "outputs": [],
   "source": []
  },
  {
   "cell_type": "code",
   "execution_count": null,
   "id": "eed79051",
   "metadata": {},
   "outputs": [],
   "source": []
  },
  {
   "cell_type": "code",
   "execution_count": null,
   "id": "d9b97d92",
   "metadata": {},
   "outputs": [],
   "source": []
  },
  {
   "cell_type": "code",
   "execution_count": null,
   "id": "3c7ccb5c",
   "metadata": {},
   "outputs": [],
   "source": []
  },
  {
   "cell_type": "code",
   "execution_count": null,
   "id": "95db3cb4",
   "metadata": {},
   "outputs": [],
   "source": []
  },
  {
   "cell_type": "code",
   "execution_count": null,
   "id": "21758ef5",
   "metadata": {},
   "outputs": [],
   "source": []
  },
  {
   "cell_type": "code",
   "execution_count": null,
   "id": "e076ac1d",
   "metadata": {},
   "outputs": [],
   "source": []
  },
  {
   "cell_type": "code",
   "execution_count": null,
   "id": "05b166f4",
   "metadata": {},
   "outputs": [],
   "source": []
  },
  {
   "cell_type": "code",
   "execution_count": null,
   "id": "1b9d665c",
   "metadata": {},
   "outputs": [],
   "source": []
  },
  {
   "cell_type": "code",
   "execution_count": null,
   "id": "98186fc8",
   "metadata": {},
   "outputs": [],
   "source": []
  },
  {
   "cell_type": "code",
   "execution_count": null,
   "id": "2d61d7c1",
   "metadata": {},
   "outputs": [],
   "source": []
  },
  {
   "cell_type": "code",
   "execution_count": null,
   "id": "a55bfd9f",
   "metadata": {},
   "outputs": [],
   "source": []
  },
  {
   "cell_type": "code",
   "execution_count": null,
   "id": "0d55c69d",
   "metadata": {},
   "outputs": [],
   "source": []
  },
  {
   "cell_type": "code",
   "execution_count": null,
   "id": "49e0d042",
   "metadata": {},
   "outputs": [],
   "source": []
  },
  {
   "cell_type": "code",
   "execution_count": null,
   "id": "0b55af68",
   "metadata": {},
   "outputs": [],
   "source": []
  },
  {
   "cell_type": "code",
   "execution_count": null,
   "id": "2a264e8b",
   "metadata": {},
   "outputs": [],
   "source": []
  },
  {
   "cell_type": "code",
   "execution_count": null,
   "id": "a5140e2c",
   "metadata": {},
   "outputs": [],
   "source": []
  },
  {
   "cell_type": "code",
   "execution_count": null,
   "id": "9c3f1a6a",
   "metadata": {},
   "outputs": [],
   "source": []
  },
  {
   "cell_type": "code",
   "execution_count": null,
   "id": "32615d25",
   "metadata": {},
   "outputs": [],
   "source": []
  },
  {
   "cell_type": "code",
   "execution_count": null,
   "id": "9e059c98",
   "metadata": {},
   "outputs": [],
   "source": []
  },
  {
   "cell_type": "code",
   "execution_count": null,
   "id": "228abcd9",
   "metadata": {},
   "outputs": [],
   "source": []
  },
  {
   "cell_type": "code",
   "execution_count": null,
   "id": "c890cbed",
   "metadata": {},
   "outputs": [],
   "source": []
  },
  {
   "cell_type": "code",
   "execution_count": null,
   "id": "e6db176c",
   "metadata": {},
   "outputs": [],
   "source": []
  },
  {
   "cell_type": "code",
   "execution_count": null,
   "id": "0a70f15b",
   "metadata": {},
   "outputs": [],
   "source": []
  },
  {
   "cell_type": "code",
   "execution_count": null,
   "id": "277a6da3",
   "metadata": {},
   "outputs": [],
   "source": []
  },
  {
   "cell_type": "code",
   "execution_count": null,
   "id": "3451a95e",
   "metadata": {},
   "outputs": [],
   "source": []
  },
  {
   "cell_type": "code",
   "execution_count": null,
   "id": "1327016e",
   "metadata": {},
   "outputs": [],
   "source": []
  },
  {
   "cell_type": "code",
   "execution_count": null,
   "id": "e863d9be",
   "metadata": {},
   "outputs": [],
   "source": []
  },
  {
   "cell_type": "code",
   "execution_count": null,
   "id": "741dd8e2",
   "metadata": {},
   "outputs": [],
   "source": []
  },
  {
   "cell_type": "code",
   "execution_count": null,
   "id": "94a12211",
   "metadata": {},
   "outputs": [],
   "source": []
  },
  {
   "cell_type": "code",
   "execution_count": null,
   "id": "b32570d5",
   "metadata": {},
   "outputs": [],
   "source": []
  },
  {
   "cell_type": "code",
   "execution_count": null,
   "id": "2c7cb566",
   "metadata": {},
   "outputs": [],
   "source": []
  },
  {
   "cell_type": "code",
   "execution_count": null,
   "id": "ccaded9c",
   "metadata": {},
   "outputs": [],
   "source": []
  },
  {
   "cell_type": "code",
   "execution_count": null,
   "id": "27e3867d",
   "metadata": {},
   "outputs": [],
   "source": []
  },
  {
   "cell_type": "code",
   "execution_count": null,
   "id": "dc2cde9e",
   "metadata": {},
   "outputs": [],
   "source": []
  },
  {
   "cell_type": "code",
   "execution_count": null,
   "id": "ffbf7b28",
   "metadata": {},
   "outputs": [],
   "source": []
  },
  {
   "cell_type": "code",
   "execution_count": null,
   "id": "cac8144a",
   "metadata": {},
   "outputs": [],
   "source": []
  },
  {
   "cell_type": "code",
   "execution_count": null,
   "id": "be53aa30",
   "metadata": {},
   "outputs": [],
   "source": []
  },
  {
   "cell_type": "code",
   "execution_count": null,
   "id": "ea10939c",
   "metadata": {},
   "outputs": [],
   "source": []
  },
  {
   "cell_type": "code",
   "execution_count": null,
   "id": "44a3db2f",
   "metadata": {},
   "outputs": [],
   "source": []
  },
  {
   "cell_type": "code",
   "execution_count": null,
   "id": "c000ee33",
   "metadata": {},
   "outputs": [],
   "source": []
  },
  {
   "cell_type": "code",
   "execution_count": null,
   "id": "fea60265",
   "metadata": {},
   "outputs": [],
   "source": []
  },
  {
   "cell_type": "code",
   "execution_count": null,
   "id": "30e075c7",
   "metadata": {},
   "outputs": [],
   "source": []
  },
  {
   "cell_type": "code",
   "execution_count": null,
   "id": "0ec655aa",
   "metadata": {},
   "outputs": [],
   "source": []
  },
  {
   "cell_type": "code",
   "execution_count": null,
   "id": "720ff92b",
   "metadata": {},
   "outputs": [],
   "source": []
  }
 ],
 "metadata": {
  "kernelspec": {
   "display_name": "Python 3 (ipykernel)",
   "language": "python",
   "name": "python3"
  },
  "language_info": {
   "codemirror_mode": {
    "name": "ipython",
    "version": 3
   },
   "file_extension": ".py",
   "mimetype": "text/x-python",
   "name": "python",
   "nbconvert_exporter": "python",
   "pygments_lexer": "ipython3",
   "version": "3.9.19"
  }
 },
 "nbformat": 4,
 "nbformat_minor": 5
}
