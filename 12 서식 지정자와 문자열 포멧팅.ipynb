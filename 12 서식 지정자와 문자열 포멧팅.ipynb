{
 "cells": [
  {
   "cell_type": "markdown",
   "id": "05cfce0f-d206-4e1b-b9f6-2feeee1125b7",
   "metadata": {},
   "source": [
    "# 서식지정자, format 메서드\n",
    "* 서식 지정자나 format method를 사용하는 이유는 문자열로만 입력해야 하는 상황에서 같은 위치의 문자를 여러번 바꿔야 할 필요성이 있기 때문\n",
    "* 문자의 자릿수 맞춤, 위치 정렬 등에도 사용"
   ]
  },
  {
   "cell_type": "markdown",
   "id": "5028dc6c-2c09-4181-8f75-9f0df889a875",
   "metadata": {},
   "source": [
    "## 1. 서식지정자 %d, %s, %f, %길이 s"
   ]
  },
  {
   "cell_type": "markdown",
   "id": "199993fa-4e64-4e05-98ce-1eb5b7c32d14",
   "metadata": {},
   "source": [
    "1) 문자를 입력 할 때 %s "
   ]
  },
  {
   "cell_type": "code",
   "execution_count": 1,
   "id": "76e02384-b1fa-472d-9b2d-93640d85f6ef",
   "metadata": {},
   "outputs": [
    {
     "data": {
      "text/plain": [
       "'이 수업의 이름은 핀테크 서비스 기획자 입니다.'"
      ]
     },
     "execution_count": 1,
     "metadata": {},
     "output_type": "execute_result"
    }
   ],
   "source": [
    "print('이 수업의 이름은 %s 입니다.' % '핀테크 서비스 기획자')"
   ]
  },
  {
   "cell_type": "code",
   "execution_count": 2,
   "id": "45b46c32-9eff-4f32-bd42-83c2d4859274",
   "metadata": {},
   "outputs": [],
   "source": [
    "subject = ['국어', '영어', '수학', '과학', '파이썬', 'database']"
   ]
  },
  {
   "cell_type": "code",
   "execution_count": 3,
   "id": "3d7228fd-284c-457a-9a51-b3f38db2f95f",
   "metadata": {},
   "outputs": [
    {
     "name": "stdout",
     "output_type": "stream",
     "text": [
      "이 수업의 이름은 국어 입니다.\n",
      "이 수업의 이름은 영어 입니다.\n",
      "이 수업의 이름은 수학 입니다.\n",
      "이 수업의 이름은 과학 입니다.\n",
      "이 수업의 이름은 파이썬 입니다.\n",
      "이 수업의 이름은 database 입니다.\n"
     ]
    }
   ],
   "source": [
    "for s in subject:\n",
    "    print('이 수업의 이름은 %s 입니다.' % s)"
   ]
  },
  {
   "cell_type": "markdown",
   "id": "9116b3c8-2572-41f9-a7e3-742220855afd",
   "metadata": {},
   "source": [
    "2. 정수를 입력할 때 %d"
   ]
  },
  {
   "cell_type": "code",
   "execution_count": 4,
   "id": "03495dcf-e604-41d0-a7b3-11cfbb8646cc",
   "metadata": {},
   "outputs": [
    {
     "name": "stdout",
     "output_type": "stream",
     "text": [
      "올해는 2024년 입니다.\n"
     ]
    }
   ],
   "source": [
    "print(\"올해는 %d년 입니다.\" % 2024)"
   ]
  },
  {
   "cell_type": "code",
   "execution_count": 5,
   "id": "6fd8b72e-0c4f-4d2b-9999-7bff392d907d",
   "metadata": {},
   "outputs": [
    {
     "name": "stdout",
     "output_type": "stream",
     "text": [
      "올해는 20년 입니다.\n"
     ]
    }
   ],
   "source": [
    "print(\"올해는 %d년 입니다.\" % 20.74)"
   ]
  },
  {
   "cell_type": "code",
   "execution_count": 6,
   "id": "65c72976-9049-46b8-9255-939f7ce6d3fa",
   "metadata": {},
   "outputs": [
    {
     "name": "stdout",
     "output_type": "stream",
     "text": [
      "올해는2019년 입니다\n",
      "올해는2020년 입니다\n",
      "올해는2021년 입니다\n",
      "올해는2022년 입니다\n",
      "올해는2023년 입니다\n",
      "올해는2024년 입니다\n"
     ]
    }
   ],
   "source": [
    "year = [2019, 2020, 2021, 2022, 2023, 2024]\n",
    "for yyyy in year:\n",
    "    print('올해는%d년 입니다' % yyyy)"
   ]
  },
  {
   "cell_type": "markdown",
   "id": "3a15c283-6479-4a91-88d4-8fbd2a8a9b2c",
   "metadata": {},
   "source": [
    "3) 실수를 입력할 때 %f 기본 소수점 6자리 표시"
   ]
  },
  {
   "cell_type": "code",
   "execution_count": 8,
   "id": "2e4ee052-3413-4b98-969b-52174a17235a",
   "metadata": {},
   "outputs": [
    {
     "name": "stdout",
     "output_type": "stream",
     "text": [
      "사람의 정상 체온은 약 36.500000도 입니다.\n"
     ]
    }
   ],
   "source": [
    "print('사람의 정상 체온은 약 %f도 입니다.' % 36.5)"
   ]
  },
  {
   "cell_type": "markdown",
   "id": "7b7ddc59-b4a2-4e70-bf6a-ae5e05888d66",
   "metadata": {},
   "source": [
    "소수점 자리수 조정하기 %.자리수f"
   ]
  },
  {
   "cell_type": "code",
   "execution_count": 9,
   "id": "3a417508-9488-49a9-b139-64c8177bd369",
   "metadata": {},
   "outputs": [
    {
     "name": "stdout",
     "output_type": "stream",
     "text": [
      "사람의 정상 체온은 약 36.5도 입니다.\n"
     ]
    }
   ],
   "source": [
    "print('사람의 정상 체온은 약 %.1f도 입니다.' % 36.5)"
   ]
  },
  {
   "cell_type": "code",
   "execution_count": 10,
   "id": "ea1cbd23-b6b0-4d7e-b336-c39b5565cf46",
   "metadata": {},
   "outputs": [
    {
     "name": "stdout",
     "output_type": "stream",
     "text": [
      "사람의 정상 체온은 약 36.50도 입니다.\n"
     ]
    }
   ],
   "source": [
    "print('사람의 정상 체온은 약 %.2f도 입니다.' % 36.5)"
   ]
  },
  {
   "cell_type": "markdown",
   "id": "2240f240-b194-4946-980d-38a8d45fd996",
   "metadata": {},
   "source": [
    "4) 서식지정자로 문자열 길이 정렬 % 길이s"
   ]
  },
  {
   "cell_type": "code",
   "execution_count": 11,
   "id": "24467f28-aa03-45df-b8d2-f9537f823427",
   "metadata": {},
   "outputs": [
    {
     "name": "stdout",
     "output_type": "stream",
     "text": [
      "      10자리\n"
     ]
    }
   ],
   "source": [
    "print('%10s' % '10자리')"
   ]
  },
  {
   "cell_type": "code",
   "execution_count": 12,
   "id": "eba6fc3a-1ac8-4071-81d3-662d06b553d5",
   "metadata": {},
   "outputs": [
    {
     "data": {
      "text/plain": [
       "'      10자리'"
      ]
     },
     "execution_count": 12,
     "metadata": {},
     "output_type": "execute_result"
    }
   ],
   "source": [
    "'%10s' % '10자리'"
   ]
  },
  {
   "cell_type": "markdown",
   "id": "b7bbc174-febf-43e8-b343-e9b58a80a390",
   "metadata": {},
   "source": [
    "숫자 자리수 정렬하기 %자리수d"
   ]
  },
  {
   "cell_type": "code",
   "execution_count": 13,
   "id": "69a9c6ed-e8a7-48a0-8183-3f1d9bc4d0f7",
   "metadata": {},
   "outputs": [
    {
     "name": "stdout",
     "output_type": "stream",
     "text": [
      "1500000\n",
      "15000\n",
      "   1500000\n",
      "     15000\n"
     ]
    }
   ],
   "source": [
    "print(1500000)\n",
    "print(15000)\n",
    "print('%10d' % 1500000)\n",
    "print('%10d' % 15000)"
   ]
  },
  {
   "cell_type": "code",
   "execution_count": 14,
   "id": "dabcb453-498e-47d4-9256-b391d2effe96",
   "metadata": {},
   "outputs": [
    {
     "name": "stdout",
     "output_type": "stream",
     "text": [
      "가격은    1500000 입니다.\n",
      "가격은      15000 입니다.\n"
     ]
    }
   ],
   "source": [
    "print('가격은 %10d 입니다.' % 1500000)\n",
    "print('가격은 %10d 입니다.' % 15000)\n"
   ]
  },
  {
   "cell_type": "markdown",
   "id": "8c00910a-fd9e-41a5-8148-14333db56751",
   "metadata": {},
   "source": [
    "5. 여러 항목 동시에 넣기"
   ]
  },
  {
   "cell_type": "code",
   "execution_count": 19,
   "id": "302b4386-026f-4ecc-b5f0-0d6f9dfaece4",
   "metadata": {},
   "outputs": [
    {
     "name": "stdout",
     "output_type": "stream",
     "text": [
      "오늘은 2024년  7월 16일 입니다.\n"
     ]
    }
   ],
   "source": [
    "print('오늘은 %4d년 %2d월 %2d일 입니다.' % (2024, 7, 16))"
   ]
  },
  {
   "cell_type": "code",
   "execution_count": 20,
   "id": "18988167-6090-4610-a0ca-6cac6d2687ab",
   "metadata": {},
   "outputs": [],
   "source": [
    "company = ['삼성전사', 'LG전자', '현대차', '대한항공', '하나투어']\n",
    "stock = [71800, 121000, 195000, 31900, 86600]"
   ]
  },
  {
   "cell_type": "code",
   "execution_count": 27,
   "id": "ffeff7e5-a418-497f-9ebb-c1fabcbd1cb9",
   "metadata": {},
   "outputs": [
    {
     "name": "stdout",
     "output_type": "stream",
     "text": [
      "삼성전사 주가는 71800원 입니다.\n",
      "LG전자 주가는 121000원 입니다.\n",
      "현대차 주가는 195000원 입니다.\n",
      "대한항공 주가는 31900원 입니다.\n",
      "하나투어 주가는 86600원 입니다.\n"
     ]
    }
   ],
   "source": [
    "for c,s in zip(company,stock):\n",
    "    print(\"%s 주가는 %d원 입니다.\" % (c, s))"
   ]
  },
  {
   "cell_type": "code",
   "execution_count": 30,
   "id": "3e7e1958-28cf-457d-9674-ab49e57d12b7",
   "metadata": {},
   "outputs": [
    {
     "name": "stdout",
     "output_type": "stream",
     "text": [
      "('삼성전사', 71800)\n",
      "('LG전자', 121000)\n",
      "('현대차', 195000)\n",
      "('대한항공', 31900)\n",
      "('하나투어', 86600)\n"
     ]
    }
   ],
   "source": [
    "for c in zip(company,stock):\n",
    "    print(c)"
   ]
  },
  {
   "cell_type": "code",
   "execution_count": 32,
   "id": "f2a7caa0-a074-457f-8d36-fbab1c5fa496",
   "metadata": {},
   "outputs": [
    {
     "name": "stdout",
     "output_type": "stream",
     "text": [
      "(0, ('삼성전사', 71800))\n",
      "(1, ('LG전자', 121000))\n",
      "(2, ('현대차', 195000))\n",
      "(3, ('대한항공', 31900))\n",
      "(4, ('하나투어', 86600))\n"
     ]
    }
   ],
   "source": [
    "# enumerate : 개수(index)뽑아내기 \n",
    "for c in enumerate(zip(company,stock)):\n",
    "    print(c)"
   ]
  },
  {
   "cell_type": "markdown",
   "id": "4b1872de-c574-40e3-b47a-3543f1ab7e24",
   "metadata": {},
   "source": [
    "## 2. format 메서드 사용하기, f-string 문자열 포맷팅"
   ]
  },
  {
   "cell_type": "markdown",
   "id": "1658d508-69de-4b4c-86bb-291fd8337775",
   "metadata": {},
   "source": [
    "1) format 메서드 사용하기 <br>\n",
    "'{인덱스}'.format(값)"
   ]
  },
  {
   "cell_type": "code",
   "execution_count": 33,
   "id": "897d5155-bf52-4dba-81a0-090efd856ddd",
   "metadata": {},
   "outputs": [
    {
     "name": "stdout",
     "output_type": "stream",
     "text": [
      "삼성전자의 주가는 71800원 입니다.\n"
     ]
    }
   ],
   "source": [
    "print('{0}의 주가는 {1}원 입니다.'.format('삼성전자', 71800))"
   ]
  },
  {
   "cell_type": "code",
   "execution_count": 34,
   "id": "4d829faa-b8f7-401e-b223-97e0a9c40de8",
   "metadata": {},
   "outputs": [
    {
     "name": "stdout",
     "output_type": "stream",
     "text": [
      "삼성전자의 주가는 71.85원 입니다.\n"
     ]
    }
   ],
   "source": [
    "print('{0}의 주가는 {1}원 입니다.'.format('삼성전자', 71.850))"
   ]
  },
  {
   "cell_type": "code",
   "execution_count": 37,
   "id": "d1c6881a-1682-457c-90c5-c560bc565973",
   "metadata": {},
   "outputs": [
    {
     "name": "stdout",
     "output_type": "stream",
     "text": [
      "삼성전자의 주가는 71800원 입니다. 삼성전자의 상한가는 93000, 삼성전자의 하한가는 50200입니다.\n"
     ]
    }
   ],
   "source": [
    "print('{0}의 주가는 {1}원 입니다. \\\n",
    "{0}의 상한가는 {3}, {0}의 하한가는 {2}입니다.'.format('삼성전자', 71800, 50200, 93000))"
   ]
  },
  {
   "cell_type": "markdown",
   "id": "c9657392-0001-4521-9b3a-a884349e5477",
   "metadata": {},
   "source": [
    "fomat 메서드에 변수로 값 넣기"
   ]
  },
  {
   "cell_type": "code",
   "execution_count": 40,
   "id": "66442ee4-4376-4ce9-bda6-cc7eb2c77557",
   "metadata": {},
   "outputs": [],
   "source": [
    "drama = '오징어게임'\n",
    "ranking = 1"
   ]
  },
  {
   "cell_type": "code",
   "execution_count": 41,
   "id": "3a1ef3d0-454b-4b25-836d-1a0dda96daf7",
   "metadata": {},
   "outputs": [
    {
     "name": "stdout",
     "output_type": "stream",
     "text": [
      "넷플릭스 1위 드라마는 오징어게임 \n"
     ]
    }
   ],
   "source": [
    "print('넷플릭스 {0}위 드라마는 {1} '.format(ranking, drama))"
   ]
  },
  {
   "cell_type": "code",
   "execution_count": 46,
   "id": "b1ba7030-efb4-496e-a54f-a9f48bce8d8a",
   "metadata": {},
   "outputs": [
    {
     "name": "stdout",
     "output_type": "stream",
     "text": [
      "삼성전사 주가는 71800원 입니다.\n",
      "LG전자 주가는 121000원 입니다.\n",
      "현대차 주가는 195000원 입니다.\n",
      "대한항공 주가는 31900원 입니다.\n",
      "하나투어 주가는 86600원 입니다.\n"
     ]
    }
   ],
   "source": [
    "for c,s in zip(company, stock):\n",
    "    print('{} 주가는 {}원 입니다.'.format(c,s))"
   ]
  },
  {
   "cell_type": "markdown",
   "id": "37905106-ecee-41ad-b106-5dc6975c65ce",
   "metadata": {},
   "source": [
    "f -string으로 값 넣기 Python 3.6부터 사용 가능"
   ]
  },
  {
   "cell_type": "code",
   "execution_count": 50,
   "id": "7c0f7e04-2583-41ad-a134-fdfa2f301cae",
   "metadata": {},
   "outputs": [
    {
     "name": "stdout",
     "output_type": "stream",
     "text": [
      "삼성전사 주가는 71800원 입니다.\n",
      "LG전자 주가는 121000원 입니다.\n",
      "현대차 주가는 195000원 입니다.\n",
      "대한항공 주가는 31900원 입니다.\n",
      "하나투어 주가는 86600원 입니다.\n"
     ]
    }
   ],
   "source": [
    "for c,s in zip(company, stock):\n",
    "    print(f'{c} 주가는 {s}원 입니다.')"
   ]
  },
  {
   "cell_type": "markdown",
   "id": "d02ef798-a35b-44d5-9a6e-ee0669c6e288",
   "metadata": {},
   "source": [
    "## 3. format 메서드와 f-string으로 문자열 정렬하기, 자리수 지정해 출력하기\n",
    "'{인덱스 : < 길이}.foramt(값)\n",
    "f'{값:<길이}'"
   ]
  },
  {
   "cell_type": "code",
   "execution_count": 51,
   "id": "72bfe25d-2e97-40f2-8963-b05f4db1c9a9",
   "metadata": {},
   "outputs": [
    {
     "name": "stdout",
     "output_type": "stream",
     "text": [
      "삼성전자      \n"
     ]
    }
   ],
   "source": [
    "print('{0:<10}'.format('삼성전자'))"
   ]
  },
  {
   "cell_type": "code",
   "execution_count": 53,
   "id": "9b2549b3-e5dd-42fe-9210-220ba6d534f2",
   "metadata": {},
   "outputs": [
    {
     "data": {
      "text/plain": [
       "'삼성전자      '"
      ]
     },
     "execution_count": 53,
     "metadata": {},
     "output_type": "execute_result"
    }
   ],
   "source": [
    "# 왼쪽 정렬 10칸 기준\n",
    "('{0:<10}'.format('삼성전자'))"
   ]
  },
  {
   "cell_type": "code",
   "execution_count": 55,
   "id": "369fff1d-252f-4027-a700-816e752db7cf",
   "metadata": {},
   "outputs": [
    {
     "name": "stdout",
     "output_type": "stream",
     "text": [
      "삼성전자      \n"
     ]
    }
   ],
   "source": [
    "print(f\"{'삼성전자':<10}\")"
   ]
  },
  {
   "cell_type": "code",
   "execution_count": 57,
   "id": "9fb7c20e-0f43-438b-8abf-7d42fc57e108",
   "metadata": {},
   "outputs": [
    {
     "data": {
      "text/plain": [
       "'삼성전자      '"
      ]
     },
     "execution_count": 57,
     "metadata": {},
     "output_type": "execute_result"
    }
   ],
   "source": [
    "(f\"{'삼성전자':<10}\")"
   ]
  },
  {
   "cell_type": "markdown",
   "id": "ba207330-1763-46ff-8e9c-6dd724d62919",
   "metadata": {},
   "source": [
    "숫자 자리수 맞추고 기본 값 지정하기 <br>\n",
    "'{인덱스:채울숫자 길이 서식지정자}'.format(값), 단, 서식 지정자에서 %는 빼고 적는다. <br>\n",
    "f'{값:채울 숫자길이 서식지정자}'"
   ]
  },
  {
   "cell_type": "markdown",
   "id": "537ce5db-8e0a-4f63-955e-138fdbea8a51",
   "metadata": {},
   "source": [
    "1자리 숫자 앞에 0추가하기"
   ]
  },
  {
   "cell_type": "code",
   "execution_count": 59,
   "id": "e86ecbed-b1d3-4821-8151-8fbc8f31a418",
   "metadata": {},
   "outputs": [
    {
     "name": "stdout",
     "output_type": "stream",
     "text": [
      "01\n"
     ]
    }
   ],
   "source": [
    "print('{0:02d}'.format(1))"
   ]
  },
  {
   "cell_type": "code",
   "execution_count": 61,
   "id": "89deb864-ae9d-4075-8ee2-9da02bb68887",
   "metadata": {},
   "outputs": [
    {
     "name": "stdout",
     "output_type": "stream",
     "text": [
      "1월\n"
     ]
    }
   ],
   "source": [
    "print(f'{1}월')"
   ]
  },
  {
   "cell_type": "code",
   "execution_count": 62,
   "id": "48205835-e123-4c1f-920b-e16d4383d9dc",
   "metadata": {},
   "outputs": [
    {
     "name": "stdout",
     "output_type": "stream",
     "text": [
      "01월\n"
     ]
    }
   ],
   "source": [
    "print(f'{1:02d}월')"
   ]
  },
  {
   "cell_type": "code",
   "execution_count": 63,
   "id": "0c059cd4-51ec-49ef-b4de-4285f7a11663",
   "metadata": {},
   "outputs": [
    {
     "name": "stdout",
     "output_type": "stream",
     "text": [
      "0012월\n"
     ]
    }
   ],
   "source": [
    "print(f'{12:04d}월')"
   ]
  },
  {
   "cell_type": "markdown",
   "id": "1270c227-be2a-41e1-bfe7-a5bdb4b8470d",
   "metadata": {},
   "source": [
    "실수의 정수 자리수와 소수점 자리수 지정하기"
   ]
  },
  {
   "cell_type": "code",
   "execution_count": 64,
   "id": "0fc0fea1-8283-4078-b7d1-2aadc0b004e4",
   "metadata": {},
   "outputs": [
    {
     "name": "stdout",
     "output_type": "stream",
     "text": [
      "20.246\n"
     ]
    }
   ],
   "source": [
    "print('{0:2.3f}'.format(20.245678))"
   ]
  },
  {
   "cell_type": "code",
   "execution_count": 65,
   "id": "565b046a-7b62-42e4-82c5-92071e4bc0ed",
   "metadata": {},
   "outputs": [
    {
     "name": "stdout",
     "output_type": "stream",
     "text": [
      "2.246\n"
     ]
    }
   ],
   "source": [
    "print('{0:.3f}'.format(2.245678))"
   ]
  },
  {
   "cell_type": "code",
   "execution_count": 66,
   "id": "7ddac96f-64e3-467a-a9fc-55926315edf0",
   "metadata": {},
   "outputs": [
    {
     "name": "stdout",
     "output_type": "stream",
     "text": [
      "02.246\n"
     ]
    }
   ],
   "source": [
    "print(f\"{2.245678:06.3f}\")"
   ]
  },
  {
   "cell_type": "markdown",
   "id": "9699134a-a6ea-400a-9f1e-0590f6137b5e",
   "metadata": {},
   "source": [
    "1월 1일부터 12월 31일까지 출력하는데 1자리 월, 일에는 01, 02 식으로 붙여서 출력하세요"
   ]
  },
  {
   "cell_type": "code",
   "execution_count": 70,
   "id": "5c1267c4-89a0-4042-9cf3-8ee944b78ac2",
   "metadata": {},
   "outputs": [
    {
     "name": "stdout",
     "output_type": "stream",
     "text": [
      "01월 01일\n",
      "01월 02일\n",
      "01월 03일\n",
      "01월 04일\n",
      "01월 05일\n",
      "01월 06일\n",
      "01월 07일\n",
      "01월 08일\n",
      "01월 09일\n",
      "01월 10일\n",
      "01월 11일\n",
      "01월 12일\n",
      "01월 13일\n",
      "01월 14일\n",
      "01월 15일\n",
      "01월 16일\n",
      "01월 17일\n",
      "01월 18일\n",
      "01월 19일\n",
      "01월 20일\n",
      "01월 21일\n",
      "01월 22일\n",
      "01월 23일\n",
      "01월 24일\n",
      "01월 25일\n",
      "01월 26일\n",
      "01월 27일\n",
      "01월 28일\n",
      "01월 29일\n",
      "01월 30일\n",
      "01월 31일\n",
      "02월 01일\n",
      "02월 02일\n",
      "02월 03일\n",
      "02월 04일\n",
      "02월 05일\n",
      "02월 06일\n",
      "02월 07일\n",
      "02월 08일\n",
      "02월 09일\n",
      "02월 10일\n",
      "02월 11일\n",
      "02월 12일\n",
      "02월 13일\n",
      "02월 14일\n",
      "02월 15일\n",
      "02월 16일\n",
      "02월 17일\n",
      "02월 18일\n",
      "02월 19일\n",
      "02월 20일\n",
      "02월 21일\n",
      "02월 22일\n",
      "02월 23일\n",
      "02월 24일\n",
      "02월 25일\n",
      "02월 26일\n",
      "02월 27일\n",
      "02월 28일\n",
      "02월 29일\n",
      "02월 30일\n",
      "02월 31일\n",
      "03월 01일\n",
      "03월 02일\n",
      "03월 03일\n",
      "03월 04일\n",
      "03월 05일\n",
      "03월 06일\n",
      "03월 07일\n",
      "03월 08일\n",
      "03월 09일\n",
      "03월 10일\n",
      "03월 11일\n",
      "03월 12일\n",
      "03월 13일\n",
      "03월 14일\n",
      "03월 15일\n",
      "03월 16일\n",
      "03월 17일\n",
      "03월 18일\n",
      "03월 19일\n",
      "03월 20일\n",
      "03월 21일\n",
      "03월 22일\n",
      "03월 23일\n",
      "03월 24일\n",
      "03월 25일\n",
      "03월 26일\n",
      "03월 27일\n",
      "03월 28일\n",
      "03월 29일\n",
      "03월 30일\n",
      "03월 31일\n",
      "04월 01일\n",
      "04월 02일\n",
      "04월 03일\n",
      "04월 04일\n",
      "04월 05일\n",
      "04월 06일\n",
      "04월 07일\n",
      "04월 08일\n",
      "04월 09일\n",
      "04월 10일\n",
      "04월 11일\n",
      "04월 12일\n",
      "04월 13일\n",
      "04월 14일\n",
      "04월 15일\n",
      "04월 16일\n",
      "04월 17일\n",
      "04월 18일\n",
      "04월 19일\n",
      "04월 20일\n",
      "04월 21일\n",
      "04월 22일\n",
      "04월 23일\n",
      "04월 24일\n",
      "04월 25일\n",
      "04월 26일\n",
      "04월 27일\n",
      "04월 28일\n",
      "04월 29일\n",
      "04월 30일\n",
      "04월 31일\n",
      "05월 01일\n",
      "05월 02일\n",
      "05월 03일\n",
      "05월 04일\n",
      "05월 05일\n",
      "05월 06일\n",
      "05월 07일\n",
      "05월 08일\n",
      "05월 09일\n",
      "05월 10일\n",
      "05월 11일\n",
      "05월 12일\n",
      "05월 13일\n",
      "05월 14일\n",
      "05월 15일\n",
      "05월 16일\n",
      "05월 17일\n",
      "05월 18일\n",
      "05월 19일\n",
      "05월 20일\n",
      "05월 21일\n",
      "05월 22일\n",
      "05월 23일\n",
      "05월 24일\n",
      "05월 25일\n",
      "05월 26일\n",
      "05월 27일\n",
      "05월 28일\n",
      "05월 29일\n",
      "05월 30일\n",
      "05월 31일\n",
      "06월 01일\n",
      "06월 02일\n",
      "06월 03일\n",
      "06월 04일\n",
      "06월 05일\n",
      "06월 06일\n",
      "06월 07일\n",
      "06월 08일\n",
      "06월 09일\n",
      "06월 10일\n",
      "06월 11일\n",
      "06월 12일\n",
      "06월 13일\n",
      "06월 14일\n",
      "06월 15일\n",
      "06월 16일\n",
      "06월 17일\n",
      "06월 18일\n",
      "06월 19일\n",
      "06월 20일\n",
      "06월 21일\n",
      "06월 22일\n",
      "06월 23일\n",
      "06월 24일\n",
      "06월 25일\n",
      "06월 26일\n",
      "06월 27일\n",
      "06월 28일\n",
      "06월 29일\n",
      "06월 30일\n",
      "06월 31일\n",
      "07월 01일\n",
      "07월 02일\n",
      "07월 03일\n",
      "07월 04일\n",
      "07월 05일\n",
      "07월 06일\n",
      "07월 07일\n",
      "07월 08일\n",
      "07월 09일\n",
      "07월 10일\n",
      "07월 11일\n",
      "07월 12일\n",
      "07월 13일\n",
      "07월 14일\n",
      "07월 15일\n",
      "07월 16일\n",
      "07월 17일\n",
      "07월 18일\n",
      "07월 19일\n",
      "07월 20일\n",
      "07월 21일\n",
      "07월 22일\n",
      "07월 23일\n",
      "07월 24일\n",
      "07월 25일\n",
      "07월 26일\n",
      "07월 27일\n",
      "07월 28일\n",
      "07월 29일\n",
      "07월 30일\n",
      "07월 31일\n",
      "08월 01일\n",
      "08월 02일\n",
      "08월 03일\n",
      "08월 04일\n",
      "08월 05일\n",
      "08월 06일\n",
      "08월 07일\n",
      "08월 08일\n",
      "08월 09일\n",
      "08월 10일\n",
      "08월 11일\n",
      "08월 12일\n",
      "08월 13일\n",
      "08월 14일\n",
      "08월 15일\n",
      "08월 16일\n",
      "08월 17일\n",
      "08월 18일\n",
      "08월 19일\n",
      "08월 20일\n",
      "08월 21일\n",
      "08월 22일\n",
      "08월 23일\n",
      "08월 24일\n",
      "08월 25일\n",
      "08월 26일\n",
      "08월 27일\n",
      "08월 28일\n",
      "08월 29일\n",
      "08월 30일\n",
      "08월 31일\n",
      "09월 01일\n",
      "09월 02일\n",
      "09월 03일\n",
      "09월 04일\n",
      "09월 05일\n",
      "09월 06일\n",
      "09월 07일\n",
      "09월 08일\n",
      "09월 09일\n",
      "09월 10일\n",
      "09월 11일\n",
      "09월 12일\n",
      "09월 13일\n",
      "09월 14일\n",
      "09월 15일\n",
      "09월 16일\n",
      "09월 17일\n",
      "09월 18일\n",
      "09월 19일\n",
      "09월 20일\n",
      "09월 21일\n",
      "09월 22일\n",
      "09월 23일\n",
      "09월 24일\n",
      "09월 25일\n",
      "09월 26일\n",
      "09월 27일\n",
      "09월 28일\n",
      "09월 29일\n",
      "09월 30일\n",
      "09월 31일\n",
      "10월 01일\n",
      "10월 02일\n",
      "10월 03일\n",
      "10월 04일\n",
      "10월 05일\n",
      "10월 06일\n",
      "10월 07일\n",
      "10월 08일\n",
      "10월 09일\n",
      "10월 10일\n",
      "10월 11일\n",
      "10월 12일\n",
      "10월 13일\n",
      "10월 14일\n",
      "10월 15일\n",
      "10월 16일\n",
      "10월 17일\n",
      "10월 18일\n",
      "10월 19일\n",
      "10월 20일\n",
      "10월 21일\n",
      "10월 22일\n",
      "10월 23일\n",
      "10월 24일\n",
      "10월 25일\n",
      "10월 26일\n",
      "10월 27일\n",
      "10월 28일\n",
      "10월 29일\n",
      "10월 30일\n",
      "10월 31일\n",
      "11월 01일\n",
      "11월 02일\n",
      "11월 03일\n",
      "11월 04일\n",
      "11월 05일\n",
      "11월 06일\n",
      "11월 07일\n",
      "11월 08일\n",
      "11월 09일\n",
      "11월 10일\n",
      "11월 11일\n",
      "11월 12일\n",
      "11월 13일\n",
      "11월 14일\n",
      "11월 15일\n",
      "11월 16일\n",
      "11월 17일\n",
      "11월 18일\n",
      "11월 19일\n",
      "11월 20일\n",
      "11월 21일\n",
      "11월 22일\n",
      "11월 23일\n",
      "11월 24일\n",
      "11월 25일\n",
      "11월 26일\n",
      "11월 27일\n",
      "11월 28일\n",
      "11월 29일\n",
      "11월 30일\n",
      "11월 31일\n",
      "12월 01일\n",
      "12월 02일\n",
      "12월 03일\n",
      "12월 04일\n",
      "12월 05일\n",
      "12월 06일\n",
      "12월 07일\n",
      "12월 08일\n",
      "12월 09일\n",
      "12월 10일\n",
      "12월 11일\n",
      "12월 12일\n",
      "12월 13일\n",
      "12월 14일\n",
      "12월 15일\n",
      "12월 16일\n",
      "12월 17일\n",
      "12월 18일\n",
      "12월 19일\n",
      "12월 20일\n",
      "12월 21일\n",
      "12월 22일\n",
      "12월 23일\n",
      "12월 24일\n",
      "12월 25일\n",
      "12월 26일\n",
      "12월 27일\n",
      "12월 28일\n",
      "12월 29일\n",
      "12월 30일\n",
      "12월 31일\n"
     ]
    }
   ],
   "source": [
    "for month in range(1,13):\n",
    "    for date in range(1,32):\n",
    "        print(f\"{month:02d}월 {date:02d}일\")"
   ]
  },
  {
   "cell_type": "markdown",
   "id": "cfe35348-83c9-4473-89c6-a3f294840bdb",
   "metadata": {},
   "source": [
    "공백을 원하는 문자로 채우고 자리수 맞추기\n",
    "'{인덱스:원하는 숫자><자리수}'.format(값)"
   ]
  },
  {
   "cell_type": "code",
   "execution_count": 71,
   "id": "cd31f63e-6442-4d1c-9227-921acab0b331",
   "metadata": {},
   "outputs": [
    {
     "data": {
      "text/plain": [
       "'0001'"
      ]
     },
     "execution_count": 71,
     "metadata": {},
     "output_type": "execute_result"
    }
   ],
   "source": [
    "'{0:0>4}'.format(1)"
   ]
  },
  {
   "cell_type": "code",
   "execution_count": 74,
   "id": "beee4426-aec7-4717-b6df-19e363c048c4",
   "metadata": {},
   "outputs": [
    {
     "data": {
      "text/plain": [
       "'3331'"
      ]
     },
     "execution_count": 74,
     "metadata": {},
     "output_type": "execute_result"
    }
   ],
   "source": [
    "'{0:3>4}'.format(1)"
   ]
  },
  {
   "cell_type": "code",
   "execution_count": 77,
   "id": "0743afd6-6d09-4401-8b0a-b03d4ad9b3d5",
   "metadata": {},
   "outputs": [
    {
     "data": {
      "text/plain": [
       "'$$$1'"
      ]
     },
     "execution_count": 77,
     "metadata": {},
     "output_type": "execute_result"
    }
   ],
   "source": [
    "'{0:$>4}'.format(1)"
   ]
  },
  {
   "cell_type": "code",
   "execution_count": 78,
   "id": "97c6736e-4319-43f4-a189-ea40e2163dfd",
   "metadata": {},
   "outputs": [
    {
     "data": {
      "text/plain": [
       "'0001'"
      ]
     },
     "execution_count": 78,
     "metadata": {},
     "output_type": "execute_result"
    }
   ],
   "source": [
    "f'{1:0>4}'"
   ]
  },
  {
   "cell_type": "code",
   "execution_count": 79,
   "id": "3c6b3407-c9c7-4051-acaa-4e59c620288d",
   "metadata": {},
   "outputs": [
    {
     "data": {
      "text/plain": [
       "'1$$$'"
      ]
     },
     "execution_count": 79,
     "metadata": {},
     "output_type": "execute_result"
    }
   ],
   "source": [
    "f'{1:$<4}'"
   ]
  },
  {
   "cell_type": "markdown",
   "id": "353de974-1d03-4143-bce1-e4449e92a96d",
   "metadata": {},
   "source": [
    ".format f-string으로 url 자동 생성하기 sosok 부분의 값을 01 ~ 10까지 변경"
   ]
  },
  {
   "cell_type": "code",
   "execution_count": 85,
   "id": "885b50f7-3e04-443f-b122-ae178ed71b83",
   "metadata": {},
   "outputs": [
    {
     "name": "stdout",
     "output_type": "stream",
     "text": [
      "https://finance.naver.com/sise/sise_trans_style.naver?sosok=01\n",
      "https://finance.naver.com/sise/sise_trans_style.naver?sosok=02\n",
      "https://finance.naver.com/sise/sise_trans_style.naver?sosok=03\n",
      "https://finance.naver.com/sise/sise_trans_style.naver?sosok=04\n",
      "https://finance.naver.com/sise/sise_trans_style.naver?sosok=05\n",
      "https://finance.naver.com/sise/sise_trans_style.naver?sosok=06\n",
      "https://finance.naver.com/sise/sise_trans_style.naver?sosok=07\n",
      "https://finance.naver.com/sise/sise_trans_style.naver?sosok=08\n",
      "https://finance.naver.com/sise/sise_trans_style.naver?sosok=09\n",
      "https://finance.naver.com/sise/sise_trans_style.naver?sosok=10\n"
     ]
    }
   ],
   "source": [
    "for date in range(1,11):\n",
    "    url = (f\"https://finance.naver.com/sise/sise_trans_style.naver?sosok={date:0>2}\")\n",
    "    print(url)"
   ]
  },
  {
   "cell_type": "code",
   "execution_count": 88,
   "id": "5bf7f704-2603-4256-aacf-2e4b095bfea7",
   "metadata": {},
   "outputs": [
    {
     "name": "stdout",
     "output_type": "stream",
     "text": [
      "https://finance.naver.com/sise/sise_trans_style.naver?sosok=01\n",
      "https://finance.naver.com/sise/sise_trans_style.naver?sosok=02\n",
      "https://finance.naver.com/sise/sise_trans_style.naver?sosok=03\n",
      "https://finance.naver.com/sise/sise_trans_style.naver?sosok=04\n",
      "https://finance.naver.com/sise/sise_trans_style.naver?sosok=05\n",
      "https://finance.naver.com/sise/sise_trans_style.naver?sosok=06\n",
      "https://finance.naver.com/sise/sise_trans_style.naver?sosok=07\n",
      "https://finance.naver.com/sise/sise_trans_style.naver?sosok=08\n",
      "https://finance.naver.com/sise/sise_trans_style.naver?sosok=09\n",
      "https://finance.naver.com/sise/sise_trans_style.naver?sosok=10\n"
     ]
    }
   ],
   "source": [
    "for date2 in range(1,11):\n",
    "    url2 = (\"https://finance.naver.com/sise/sise_trans_style.naver?sosok={0:0>2}\".format(date2))\n",
    "    print(url2)"
   ]
  },
  {
   "cell_type": "code",
   "execution_count": 89,
   "id": "4d28b39b-1da9-446e-b113-cdcf24521816",
   "metadata": {},
   "outputs": [
    {
     "name": "stdout",
     "output_type": "stream",
     "text": [
      "https://finance.naver.com/sise/sise_trans_style.naver?sosok=01\n",
      "https://finance.naver.com/sise/sise_trans_style.naver?sosok=02\n",
      "https://finance.naver.com/sise/sise_trans_style.naver?sosok=03\n",
      "https://finance.naver.com/sise/sise_trans_style.naver?sosok=04\n",
      "https://finance.naver.com/sise/sise_trans_style.naver?sosok=05\n",
      "https://finance.naver.com/sise/sise_trans_style.naver?sosok=06\n",
      "https://finance.naver.com/sise/sise_trans_style.naver?sosok=07\n",
      "https://finance.naver.com/sise/sise_trans_style.naver?sosok=08\n",
      "https://finance.naver.com/sise/sise_trans_style.naver?sosok=09\n",
      "https://finance.naver.com/sise/sise_trans_style.naver?sosok=10\n"
     ]
    }
   ],
   "source": [
    "for date3 in range(1,11):\n",
    "    url3 = (\"https://finance.naver.com/sise/sise_trans_style.naver?sosok={0:02d}\".format(date3))\n",
    "    print(url3)"
   ]
  },
  {
   "cell_type": "markdown",
   "id": "be335793-6ecc-4d02-bfe5-f396f60d7df6",
   "metadata": {},
   "source": [
    "파일 이름을 한 번에 바꾸기 <br>\n",
    "숫자로 되어 있는 1자리 혹은 2자리수 파일 이름을 앞에 0을 채우는 3자리 숫자로 이름을 변경"
   ]
  },
  {
   "cell_type": "code",
   "execution_count": 90,
   "id": "74c46e88-9037-479f-b77e-c96900ff0b62",
   "metadata": {},
   "outputs": [],
   "source": [
    "img_list = ['1.jpg', '10.jpg', '11.jpg', '2.jpg', '3.png']"
   ]
  },
  {
   "cell_type": "code",
   "execution_count": 163,
   "id": "bdea6e74-707d-43fd-9bc1-e04f0140f94f",
   "metadata": {},
   "outputs": [
    {
     "name": "stdout",
     "output_type": "stream",
     "text": [
      "['001.jpg', '010.jpg', '011.jpg', '002.jpg', '003.png']\n"
     ]
    }
   ],
   "source": [
    "img_list2 = []\n",
    "for i in img_list:\n",
    "    img_list2.append(f'{i:0>7}')\n",
    "print(img_list2)"
   ]
  },
  {
   "cell_type": "code",
   "execution_count": 158,
   "id": "a5da1412-beac-4ce8-9c22-7dc231277c6a",
   "metadata": {},
   "outputs": [
    {
     "data": {
      "text/plain": [
       "['001.jpg', '010.jpg', '011.jpg', '002.jpg', '003.png']"
      ]
     },
     "execution_count": 158,
     "metadata": {},
     "output_type": "execute_result"
    }
   ],
   "source": [
    "img_list2 = [f'{i:0>7}' for i in img_list]\n",
    "img_list2"
   ]
  },
  {
   "cell_type": "code",
   "execution_count": 161,
   "id": "e378f1a0-f313-4b50-bb89-ced701f18f60",
   "metadata": {},
   "outputs": [
    {
     "name": "stdout",
     "output_type": "stream",
     "text": [
      "['001.jpg', '010.jpg', '011.jpg', '002.jpg', '003.png']\n"
     ]
    }
   ],
   "source": [
    "img_list2 = []\n",
    "for i in img_list:\n",
    "    img_list2.append('{0:0>7}'.format(i))\n",
    "print(img_list2)"
   ]
  },
  {
   "cell_type": "code",
   "execution_count": 140,
   "id": "e57ea386-95c8-443e-a8eb-66640f0a1015",
   "metadata": {},
   "outputs": [
    {
     "name": "stdout",
     "output_type": "stream",
     "text": [
      "['001.jpg', '010.jpg', '011.jpg', '002.jpg', '003.png']\n"
     ]
    }
   ],
   "source": [
    "img_list2 = []\n",
    "for i in img_list:\n",
    "    num,name = i.split('.')\n",
    "    n_num = '{0:0>3}'.format(int(num))\n",
    "    img_list2.append(f'{n_num}.{name}')\n",
    "print(img_list2)"
   ]
  },
  {
   "cell_type": "code",
   "execution_count": null,
   "id": "6923c950-ba40-49bf-9aaf-687b16d1975e",
   "metadata": {},
   "outputs": [],
   "source": []
  },
  {
   "cell_type": "code",
   "execution_count": null,
   "id": "5b3d50a5-70d3-4db3-aa46-372a825fcb4a",
   "metadata": {},
   "outputs": [],
   "source": []
  },
  {
   "cell_type": "code",
   "execution_count": null,
   "id": "26444949-0280-4400-86bb-6e24ff202caf",
   "metadata": {},
   "outputs": [],
   "source": []
  },
  {
   "cell_type": "code",
   "execution_count": null,
   "id": "64d168c4-6843-4e62-855d-98027824700b",
   "metadata": {},
   "outputs": [],
   "source": []
  },
  {
   "cell_type": "code",
   "execution_count": null,
   "id": "aca14b36-43f8-4ca0-9ba2-f32ed3f6d845",
   "metadata": {},
   "outputs": [],
   "source": []
  },
  {
   "cell_type": "code",
   "execution_count": null,
   "id": "3080b63f-7f0b-40c6-adab-71ffdb4089e3",
   "metadata": {},
   "outputs": [],
   "source": []
  },
  {
   "cell_type": "code",
   "execution_count": null,
   "id": "ff0eb6a1-c039-4851-b47a-81601fbdd0ea",
   "metadata": {},
   "outputs": [],
   "source": []
  },
  {
   "cell_type": "code",
   "execution_count": null,
   "id": "fd6fcce0-755f-4dce-85cf-286f06779244",
   "metadata": {},
   "outputs": [],
   "source": []
  },
  {
   "cell_type": "code",
   "execution_count": null,
   "id": "7385a0dd-4c2b-4ca5-868d-520902a9349f",
   "metadata": {},
   "outputs": [],
   "source": []
  },
  {
   "cell_type": "code",
   "execution_count": null,
   "id": "f9fd1e98-95cb-446b-80cb-bf6bda0361a0",
   "metadata": {},
   "outputs": [],
   "source": []
  },
  {
   "cell_type": "code",
   "execution_count": null,
   "id": "8d927be2-2bdf-4d89-8f4a-a2e16b35039d",
   "metadata": {},
   "outputs": [],
   "source": []
  },
  {
   "cell_type": "code",
   "execution_count": null,
   "id": "4b80950e-8fbc-4a3b-91cb-70acc7eac805",
   "metadata": {},
   "outputs": [],
   "source": []
  },
  {
   "cell_type": "code",
   "execution_count": null,
   "id": "f0601fe0-11a3-45c2-985f-86f5462767f9",
   "metadata": {},
   "outputs": [],
   "source": []
  },
  {
   "cell_type": "code",
   "execution_count": null,
   "id": "3f16df76-e7c0-49d2-a909-95771b739061",
   "metadata": {},
   "outputs": [],
   "source": []
  },
  {
   "cell_type": "code",
   "execution_count": null,
   "id": "0127ece9-16be-44f6-8343-3d12ec6c807c",
   "metadata": {},
   "outputs": [],
   "source": []
  },
  {
   "cell_type": "code",
   "execution_count": null,
   "id": "38901628-32c7-4760-bb29-bffea1c6fd2e",
   "metadata": {},
   "outputs": [],
   "source": []
  },
  {
   "cell_type": "code",
   "execution_count": null,
   "id": "3683d2a6-897f-475e-bfdd-d70c5265abe8",
   "metadata": {},
   "outputs": [],
   "source": []
  },
  {
   "cell_type": "code",
   "execution_count": null,
   "id": "66013825-67cf-472d-a464-738dc5974c43",
   "metadata": {},
   "outputs": [],
   "source": []
  },
  {
   "cell_type": "code",
   "execution_count": null,
   "id": "f4ae7417-9763-492d-8d82-c064a32a82e5",
   "metadata": {},
   "outputs": [],
   "source": []
  },
  {
   "cell_type": "code",
   "execution_count": null,
   "id": "c47c6112-40e2-45f4-bd9e-bb797bb91223",
   "metadata": {},
   "outputs": [],
   "source": []
  },
  {
   "cell_type": "code",
   "execution_count": null,
   "id": "96d8ee51-b6a9-469e-a718-802fc0af9592",
   "metadata": {},
   "outputs": [],
   "source": []
  },
  {
   "cell_type": "code",
   "execution_count": null,
   "id": "ab4efc91-740f-4aef-a09c-ae9e2479e489",
   "metadata": {},
   "outputs": [],
   "source": []
  }
 ],
 "metadata": {
  "kernelspec": {
   "display_name": "Python 3 (ipykernel)",
   "language": "python",
   "name": "python3"
  },
  "language_info": {
   "codemirror_mode": {
    "name": "ipython",
    "version": 3
   },
   "file_extension": ".py",
   "mimetype": "text/x-python",
   "name": "python",
   "nbconvert_exporter": "python",
   "pygments_lexer": "ipython3",
   "version": "3.10.14"
  }
 },
 "nbformat": 4,
 "nbformat_minor": 5
}
