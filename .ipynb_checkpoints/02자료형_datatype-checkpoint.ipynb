{
 "cells": [
  {
   "cell_type": "markdown",
   "id": "1de2fac5-ff51-455e-91ae-1d6fb14fbaab",
   "metadata": {},
   "source": [
    "# 파이썬은 변수에 담는 자료에 따라서 동적으로 자료형 정해짐\n",
    "정수형 변수(int, integer)"
   ]
  },
  {
   "cell_type": "code",
   "execution_count": 1,
   "id": "0d7b0870-12e7-4e16-8467-96a5f6a32ad4",
   "metadata": {},
   "outputs": [],
   "source": [
    "x = 10"
   ]
  },
  {
   "cell_type": "markdown",
   "id": "8c5dd0b7-0710-4c69-8a1f-c53e9b778620",
   "metadata": {},
   "source": [
    "실수형 변수"
   ]
  },
  {
   "cell_type": "code",
   "execution_count": 9,
   "id": "d2c75e1e-d4aa-4c3e-9820-c41620f11818",
   "metadata": {},
   "outputs": [],
   "source": [
    "y = 3.14"
   ]
  },
  {
   "cell_type": "markdown",
   "id": "58fae67b-5239-4533-ac53-57f54e715b53",
   "metadata": {},
   "source": [
    "문자형 변수(str)"
   ]
  },
  {
   "cell_type": "code",
   "execution_count": 2,
   "id": "5c738d1f-3c9a-4297-82f8-869f610ddafb",
   "metadata": {},
   "outputs": [],
   "source": [
    "s = '문'"
   ]
  },
  {
   "cell_type": "code",
   "execution_count": 13,
   "id": "9e175456-b4f9-4a6a-a710-50c89bdd4acf",
   "metadata": {},
   "outputs": [],
   "source": [
    "s2 = \"문자열\""
   ]
  },
  {
   "cell_type": "code",
   "execution_count": 3,
   "id": "b1b2a55a-9b00-465f-88f1-185e48144a49",
   "metadata": {},
   "outputs": [
    {
     "data": {
      "text/plain": [
       "\"문자열 '문자'\""
      ]
     },
     "execution_count": 3,
     "metadata": {},
     "output_type": "execute_result"
    }
   ],
   "source": [
    "s3 = \"문자열 '문자'\"\n",
    "s3"
   ]
  },
  {
   "cell_type": "code",
   "execution_count": 4,
   "id": "bba8a74c-d52c-4e67-a22d-3adc7c6d1597",
   "metadata": {},
   "outputs": [
    {
     "name": "stdout",
     "output_type": "stream",
     "text": [
      "문자열 \"문자\"\n"
     ]
    }
   ],
   "source": [
    "s4 = '문자열 \"문자\"'\n",
    "print(s4)"
   ]
  },
  {
   "cell_type": "markdown",
   "id": "29b206dc-c871-443c-876e-14d9222bad55",
   "metadata": {},
   "source": [
    "## 문단을 통채로 넣는법 ''' ''', \"\"\" \"\"\""
   ]
  },
  {
   "cell_type": "code",
   "execution_count": 5,
   "id": "1799e2e6-ca60-4c6e-ad1d-aeb8cf4e2598",
   "metadata": {},
   "outputs": [
    {
     "name": "stdout",
     "output_type": "stream",
     "text": [
      "문자형 변수에는 단어 뿐만 아니라\n",
      "문장도 넣을 수 있다.\n",
      "줄 바꿈도 가능\n"
     ]
    }
   ],
   "source": [
    "s5 = '''문자형 변수에는 단어 뿐만 아니라\n",
    "문장도 넣을 수 있다.\n",
    "줄 바꿈도 가능'''\n",
    "print(s5)"
   ]
  },
  {
   "cell_type": "code",
   "execution_count": 6,
   "id": "11d86c69-f792-4a23-8902-7dddb55f4e53",
   "metadata": {},
   "outputs": [
    {
     "name": "stdout",
     "output_type": "stream",
     "text": [
      "문자형 변수에는 단어 뿐만 아니라 문장도 넣을 수 있다.줄 바꿈도 가능\n"
     ]
    }
   ],
   "source": [
    "s6 = \"문자형 변수에는 단어 뿐만 아니라 \\\n",
    "문장도 넣을 수 있다.\\\n",
    "줄 바꿈도 가능\"\n",
    "print(s6)"
   ]
  },
  {
   "cell_type": "markdown",
   "id": "a1ad4028-e16b-44e5-8833-266e262cb248",
   "metadata": {},
   "source": [
    "변수의 데이터 타입을 출력하는 함수 type()"
   ]
  },
  {
   "cell_type": "code",
   "execution_count": 7,
   "id": "cc4d2484-7565-41fa-9be2-f442e5293291",
   "metadata": {},
   "outputs": [
    {
     "data": {
      "text/plain": [
       "int"
      ]
     },
     "execution_count": 7,
     "metadata": {},
     "output_type": "execute_result"
    }
   ],
   "source": [
    "type(x)"
   ]
  },
  {
   "cell_type": "code",
   "execution_count": 10,
   "id": "72179323-6092-4b20-ada1-e98440166f1b",
   "metadata": {},
   "outputs": [
    {
     "name": "stdout",
     "output_type": "stream",
     "text": [
      "3.14\n",
      "<class 'float'>\n"
     ]
    }
   ],
   "source": [
    "print(y)\n",
    "print(type(y))"
   ]
  },
  {
   "cell_type": "code",
   "execution_count": 11,
   "id": "6cca8b1e-562e-4a0a-b5f4-61f8def59604",
   "metadata": {},
   "outputs": [
    {
     "name": "stdout",
     "output_type": "stream",
     "text": [
      "문\n",
      "<class 'str'>\n"
     ]
    }
   ],
   "source": [
    "print(s)\n",
    "print(type(s))"
   ]
  },
  {
   "cell_type": "code",
   "execution_count": 14,
   "id": "dea8c4c8-4953-440b-94f6-798eb5bff1d3",
   "metadata": {},
   "outputs": [
    {
     "name": "stdout",
     "output_type": "stream",
     "text": [
      "문자열\n",
      "<class 'str'>\n"
     ]
    }
   ],
   "source": [
    "print(s2)\n",
    "print(type(s2))"
   ]
  },
  {
   "cell_type": "markdown",
   "id": "dd01fcdb-eed6-470a-bcb1-9b2aae2f4f5c",
   "metadata": {},
   "source": [
    "## 리스트 (list), 튜플(tuple)\n",
    "* 순서가 있는 자료형\n",
    "* 여러 개의 자료를 넣을 수 있다\n",
    "* 여러 개의 데이터 타입의 자료를 넣을 수 있다\n",
    "* 인덱스로 호출이 가능\n",
    "* 슬라이싱으로 부분 출력이 가능\n",
    "* 리스트는 []안에 자료를 넣어서 만듦\n",
    "* 튜플은 ()안에 자료를 넣어서 만듦"
   ]
  },
  {
   "cell_type": "code",
   "execution_count": 15,
   "id": "51a69863-bc86-4a8b-8cdd-ac9b961130df",
   "metadata": {},
   "outputs": [
    {
     "data": {
      "text/plain": [
       "[1, 3.14, '파이썬', [1, 2, 3, 4], (5, 6, 7, 8)]"
      ]
     },
     "execution_count": 15,
     "metadata": {},
     "output_type": "execute_result"
    }
   ],
   "source": [
    "L = [1, 3.14, \"파이썬\", [1,2,3,4], (5,6,7,8)]\n",
    "L"
   ]
  },
  {
   "cell_type": "code",
   "execution_count": 16,
   "id": "feccca54-e91c-4a62-956e-37b955d5f06f",
   "metadata": {},
   "outputs": [
    {
     "data": {
      "text/plain": [
       "list"
      ]
     },
     "execution_count": 16,
     "metadata": {},
     "output_type": "execute_result"
    }
   ],
   "source": [
    "type(L)"
   ]
  },
  {
   "cell_type": "code",
   "execution_count": 17,
   "id": "06bf1653-2cf7-4b86-81f3-f9f23cc69a7b",
   "metadata": {},
   "outputs": [
    {
     "data": {
      "text/plain": [
       "3"
      ]
     },
     "execution_count": 17,
     "metadata": {},
     "output_type": "execute_result"
    }
   ],
   "source": [
    "L[3][2]"
   ]
  },
  {
   "cell_type": "code",
   "execution_count": 18,
   "id": "a5bac11c-4df8-4cc5-ae43-21c2a30f85fa",
   "metadata": {},
   "outputs": [
    {
     "data": {
      "text/plain": [
       "8"
      ]
     },
     "execution_count": 18,
     "metadata": {},
     "output_type": "execute_result"
    }
   ],
   "source": [
    "L[4][3]"
   ]
  },
  {
   "cell_type": "markdown",
   "id": "20da4a88-0759-4c70-bc86-cbff70ba200e",
   "metadata": {},
   "source": [
    "## 인덱싱 : 리스트, 튜플에서 인덱스 번호를 이용해서 자료를 출력\n",
    "* 인덱스는 자료의 순번"
   ]
  },
  {
   "cell_type": "code",
   "execution_count": 20,
   "id": "67d4adc1-b608-4354-9ed4-88849bd58780",
   "metadata": {},
   "outputs": [
    {
     "data": {
      "text/plain": [
       "2"
      ]
     },
     "execution_count": 20,
     "metadata": {},
     "output_type": "execute_result"
    }
   ],
   "source": [
    "L.index(\"파이썬\")"
   ]
  },
  {
   "cell_type": "markdown",
   "id": "c9cdbfc7-64e5-4b45-802e-bd1875f24731",
   "metadata": {},
   "source": [
    "## 슬라이싱 : 인덱스의 범위 지정해서 여러개의 자료를 가져오는 것\n",
    "* 변수명[시작인덱스 : 끝 인덱스 + 1]"
   ]
  },
  {
   "cell_type": "code",
   "execution_count": 21,
   "id": "d7ca59de-ec5a-4434-9b2d-5e89e45d3db3",
   "metadata": {},
   "outputs": [
    {
     "data": {
      "text/plain": [
       "[1, 3.14]"
      ]
     },
     "execution_count": 21,
     "metadata": {},
     "output_type": "execute_result"
    }
   ],
   "source": [
    "L[0:2]"
   ]
  },
  {
   "cell_type": "code",
   "execution_count": 22,
   "id": "1199ef46-5af0-4d55-8047-854576a5c284",
   "metadata": {},
   "outputs": [
    {
     "data": {
      "text/plain": [
       "[(5, 6, 7, 8), [1, 2, 3, 4], '파이썬', 3.14, 1]"
      ]
     },
     "execution_count": 22,
     "metadata": {},
     "output_type": "execute_result"
    }
   ],
   "source": [
    "L[::-1]"
   ]
  },
  {
   "cell_type": "markdown",
   "id": "1c1d4c85-08ce-440c-ab33-d09281529ea8",
   "metadata": {},
   "source": [
    "## 튜플\n",
    "* 리스트처럼 순서가 있는 자료형\n",
    "* 인덱스가 있어서 인덱스로 자료 출력 가능\n",
    "* 인덱스로 슬라이싱 가능"
   ]
  },
  {
   "cell_type": "code",
   "execution_count": 23,
   "id": "5b46b1f3-a112-4fe8-a69c-902d2f30a642",
   "metadata": {},
   "outputs": [
    {
     "data": {
      "text/plain": [
       "[1, 3.14, '파이썬', [1, 2, 3, 4], (5, 6, 7, 8), 3]"
      ]
     },
     "execution_count": 23,
     "metadata": {},
     "output_type": "execute_result"
    }
   ],
   "source": [
    "L.append(3)\n",
    "L"
   ]
  },
  {
   "cell_type": "code",
   "execution_count": 25,
   "id": "03f3c9c6-9998-4c12-bc13-e62575f7870a",
   "metadata": {},
   "outputs": [
    {
     "data": {
      "text/plain": [
       "(1, 2, '튜플', [3, 4, 5], (5, 6, 7))"
      ]
     },
     "execution_count": 25,
     "metadata": {},
     "output_type": "execute_result"
    }
   ],
   "source": [
    "T = (1,2, '튜플', [3,4,5], (5,6,7))\n",
    "T"
   ]
  },
  {
   "cell_type": "code",
   "execution_count": 26,
   "id": "531e6c00-96ba-4fb2-bfc1-f43422c566d3",
   "metadata": {},
   "outputs": [
    {
     "data": {
      "text/plain": [
       "[3, 4, 5]"
      ]
     },
     "execution_count": 26,
     "metadata": {},
     "output_type": "execute_result"
    }
   ],
   "source": [
    "T[3]"
   ]
  },
  {
   "cell_type": "code",
   "execution_count": 27,
   "id": "662dbc18-dac5-4f09-b02f-2fcc3417da58",
   "metadata": {},
   "outputs": [
    {
     "data": {
      "text/plain": [
       "7"
      ]
     },
     "execution_count": 27,
     "metadata": {},
     "output_type": "execute_result"
    }
   ],
   "source": [
    "T[4][2]"
   ]
  },
  {
   "cell_type": "markdown",
   "id": "728075fc-d018-4883-a48a-c380c37f9328",
   "metadata": {},
   "source": [
    "## 딕셔너리형(dict) JSON\n",
    "* {key:value} 형태의 자료향\n",
    "* 순서가 없는 자료형\n",
    "* 반복 불가\n",
    "* key를 호출하면 value가 출력\n"
   ]
  },
  {
   "cell_type": "code",
   "execution_count": 30,
   "id": "5be50d65-bac7-4613-82f5-f1720a418b23",
   "metadata": {},
   "outputs": [
    {
     "data": {
      "text/plain": [
       "{'년월': '202407', '국가': '미국', '방문자수': 1000}"
      ]
     },
     "execution_count": 30,
     "metadata": {},
     "output_type": "execute_result"
    }
   ],
   "source": [
    "D = {\"년월\" : \"202407\", \"국가\" : \"미국\", \"방문자수\" : 1000}\n",
    "D"
   ]
  },
  {
   "cell_type": "code",
   "execution_count": 32,
   "id": "e23e2ac8-c057-4a1b-b20c-23d78db96e8d",
   "metadata": {},
   "outputs": [
    {
     "data": {
      "text/plain": [
       "{2: [3, 4, 5], 3.14: '원주율'}"
      ]
     },
     "execution_count": 32,
     "metadata": {},
     "output_type": "execute_result"
    }
   ],
   "source": [
    "D2 = {2 : [3,4,5], 3.14: \"원주율\"}\n",
    "D2"
   ]
  },
  {
   "cell_type": "code",
   "execution_count": 33,
   "id": "a60288bb-45ea-45de-8b37-5184e127f235",
   "metadata": {},
   "outputs": [
    {
     "data": {
      "text/plain": [
       "'202407'"
      ]
     },
     "execution_count": 33,
     "metadata": {},
     "output_type": "execute_result"
    }
   ],
   "source": [
    "D[\"년월\"]"
   ]
  },
  {
   "cell_type": "code",
   "execution_count": 34,
   "id": "ce960902-f9c5-4e28-96e5-72e0b426624e",
   "metadata": {},
   "outputs": [
    {
     "data": {
      "text/plain": [
       "[3, 4, 5]"
      ]
     },
     "execution_count": 34,
     "metadata": {},
     "output_type": "execute_result"
    }
   ],
   "source": [
    "D2[2]"
   ]
  },
  {
   "cell_type": "code",
   "execution_count": 35,
   "id": "3b1aa6f2-4987-46c3-ae67-0eb15acc202c",
   "metadata": {},
   "outputs": [
    {
     "data": {
      "text/plain": [
       "'원주율'"
      ]
     },
     "execution_count": 35,
     "metadata": {},
     "output_type": "execute_result"
    }
   ],
   "source": [
    "D2[3.14]"
   ]
  },
  {
   "cell_type": "code",
   "execution_count": null,
   "id": "2d63f0e5-37a5-428b-9d8e-fd0d3eb11739",
   "metadata": {},
   "outputs": [],
   "source": []
  },
  {
   "cell_type": "code",
   "execution_count": null,
   "id": "71e8ff83-513a-4ca1-b0f3-e65407f68285",
   "metadata": {},
   "outputs": [],
   "source": []
  },
  {
   "cell_type": "code",
   "execution_count": null,
   "id": "12ed61fc-a4e0-45f1-a1d5-fbc5dab1e6e5",
   "metadata": {},
   "outputs": [],
   "source": []
  },
  {
   "cell_type": "code",
   "execution_count": null,
   "id": "508b82b4-67cf-4700-b3a4-80ca8a2fc26c",
   "metadata": {},
   "outputs": [],
   "source": []
  }
 ],
 "metadata": {
  "kernelspec": {
   "display_name": "Python 3 (ipykernel)",
   "language": "python",
   "name": "python3"
  },
  "language_info": {
   "codemirror_mode": {
    "name": "ipython",
    "version": 3
   },
   "file_extension": ".py",
   "mimetype": "text/x-python",
   "name": "python",
   "nbconvert_exporter": "python",
   "pygments_lexer": "ipython3",
   "version": "3.10.14"
  }
 },
 "nbformat": 4,
 "nbformat_minor": 5
}
