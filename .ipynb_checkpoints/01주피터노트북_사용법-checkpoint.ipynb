{
 "cells": [
  {
   "cell_type": "markdown",
   "id": "930f2d41-25c1-46ee-a7e7-1cdbb2a92f87",
   "metadata": {},
   "source": [
    "# 주피터 노트북 사용법\n",
    "## 셀모드 : 셀 왼쪽 빈 공간 클릭 => 파란색으로 활성화\n",
    "* **위에 셀 추가 : ** a키\n",
    "* **아래 셀 추가 : ** b키\n",
    "* **셀 복사 : ** c키\n",
    "* **셀 잘라내기 : ** x키\n",
    "* **셀 붙여넣기 : ** v키\n",
    "* **markdown 모드 : m키\n",
    "* **coding 모드 : y키\n",
    "  \n",
    "## 코딩모드 : 셀 안쪽 클릭 => 녹색으로 활성화 셀 왼쪽에 In[] : 가 있음\n",
    "## 마크다운 모드\n",
    "* ** 수식 넣기 : ** $$ Tex $$\n",
    "$$ (A \\cap B) $$ <br>\n",
    "$$ (A\\over B) $$"
   ]
  },
  {
   "cell_type": "markdown",
   "id": "bdbd82fc-918d-496c-bf38-703b7591866c",
   "metadata": {},
   "source": [
    "* 링크걸기\n",
    "[네이버링크](https://naver.com)\n",
    "* 이미지 넣기\n",
    "![파이썬 이미지](data:image/png;base64,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)\n",
    "* 이미지 넣기2\n",
    "![내 컴퓨터 이미지](C:\\fintech_service\\다운로드.jfif)"
   ]
  },
  {
   "cell_type": "markdown",
   "id": "e46b7376-de9e-4d9b-b48a-e7bc69d7a4c4",
   "metadata": {},
   "source": [
    "# 파이썬 기초 문법\n",
    "* 파이썬은 세미콜론(;)을 쓰지 않는다.\n",
    "* 한 줄에 여러 명령을 쓸 때 사용.\n",
    "* 파이썬의 주석은 문장 앞에 #을 붙인다. ctrl + /\n",
    "* 파이썬은 들여쓰기를 사용해서 코드를 구분해 작성한다.\n",
    "* 들여쓰기는 4칸이 기본(스페이스바 사용) google colab은 2칸\n",
    "* 변수를 만들 때 스네이크 표기법을 사용한다. user_name\n",
    "* 클래스를 만들 때는 카멜 표기법을 사용한다. ex) UserName, RandomForestClassifirer()"
   ]
  },
  {
   "cell_type": "markdown",
   "id": "d72f0a97-5981-480d-ba66-34fc8338f810",
   "metadata": {},
   "source": [
    "print문"
   ]
  },
  {
   "cell_type": "code",
   "execution_count": 3,
   "id": "397631c0-5a2e-4f4a-82c4-37ee1f7a2993",
   "metadata": {},
   "outputs": [
    {
     "name": "stdout",
     "output_type": "stream",
     "text": [
      "Hello, python\n"
     ]
    }
   ],
   "source": [
    "print(\"Hello, python\")"
   ]
  },
  {
   "cell_type": "code",
   "execution_count": 4,
   "id": "d182b762-e385-4963-bb35-2bb9f60da0b4",
   "metadata": {},
   "outputs": [
    {
     "name": "stdout",
     "output_type": "stream",
     "text": [
      "Hello, python Hello, World\n"
     ]
    }
   ],
   "source": [
    "print(\"Hello, python\", 'Hello, World')"
   ]
  },
  {
   "cell_type": "code",
   "execution_count": 5,
   "id": "071e0085-9250-4250-911f-ec0e85901e20",
   "metadata": {},
   "outputs": [
    {
     "name": "stdout",
     "output_type": "stream",
     "text": [
      "Hello,python--Hello,world\n"
     ]
    }
   ],
   "source": [
    "print('Hello,python', 'Hello,world', sep = \"--\")"
   ]
  },
  {
   "cell_type": "code",
   "execution_count": 7,
   "id": "b822941e-8560-4b63-bb01-441b6aa7af03",
   "metadata": {},
   "outputs": [
    {
     "name": "stdout",
     "output_type": "stream",
     "text": [
      "Hello,python\n",
      "Hello, world\n"
     ]
    }
   ],
   "source": [
    "print('Hello,python', sep = \" \", end = \"\\n\") #이게 기본임\n",
    "print(\"Hello, world\")"
   ]
  },
  {
   "cell_type": "markdown",
   "id": "cd42e291-da87-4253-a662-2b9b2dff58cb",
   "metadata": {},
   "source": [
    "# 변수\n",
    "* 영문, 숫자를 조합해서 만들 수 있다.\n",
    "* 문자부터 시작해야 하며 숫자부터 시작하면 안된다\n",
    "* 대소문자를 구분한다\n",
    "* _로 시작할 수 있다. -는 안됨\n",
    "* 특수문자 사용안됨\n",
    "* 파이썬의 키워드(예약어), if, for while, str은 사용할 수 없다\n",
    "* 변수는 스네이크 표기법으로 명명한다"
   ]
  },
  {
   "cell_type": "code",
   "execution_count": null,
   "id": "30b47602-cfe2-44ed-8dd3-5abdde9137fb",
   "metadata": {},
   "outputs": [],
   "source": [
    "# str = 10"
   ]
  },
  {
   "cell_type": "code",
   "execution_count": null,
   "id": "df3673cb-f9ed-4a10-998e-5c9e039e6c1b",
   "metadata": {},
   "outputs": [],
   "source": [
    "# int = 20"
   ]
  },
  {
   "cell_type": "code",
   "execution_count": null,
   "id": "9063aaaf-ad3c-407e-a7cc-6c4474a9f541",
   "metadata": {},
   "outputs": [],
   "source": [
    "# id = 30"
   ]
  },
  {
   "cell_type": "code",
   "execution_count": 8,
   "id": "62ad08f0-d64f-458b-b645-b7577fd2327c",
   "metadata": {},
   "outputs": [
    {
     "data": {
      "text/plain": [
       "20"
      ]
     },
     "execution_count": 8,
     "metadata": {},
     "output_type": "execute_result"
    }
   ],
   "source": [
    "a = int(\"20\")\n",
    "a"
   ]
  },
  {
   "cell_type": "code",
   "execution_count": 12,
   "id": "99240806-30f7-4165-b5ce-539e11501b09",
   "metadata": {},
   "outputs": [],
   "source": [
    "a = 10\n",
    "b = 3.14\n",
    "c = \"문자열\""
   ]
  },
  {
   "cell_type": "code",
   "execution_count": 13,
   "id": "cce1fbab-c60c-409e-b765-f3296dd431bb",
   "metadata": {},
   "outputs": [
    {
     "data": {
      "text/plain": [
       "10"
      ]
     },
     "execution_count": 13,
     "metadata": {},
     "output_type": "execute_result"
    }
   ],
   "source": [
    "a\n",
    "\n"
   ]
  },
  {
   "cell_type": "code",
   "execution_count": 14,
   "id": "8efa9cbf-6d93-413b-b875-5799d44dd833",
   "metadata": {},
   "outputs": [
    {
     "data": {
      "text/plain": [
       "3.14"
      ]
     },
     "execution_count": 14,
     "metadata": {},
     "output_type": "execute_result"
    }
   ],
   "source": [
    "b"
   ]
  },
  {
   "cell_type": "code",
   "execution_count": 15,
   "id": "860ed65d-a4ed-4de1-baf9-ce86b9beeb66",
   "metadata": {},
   "outputs": [
    {
     "data": {
      "text/plain": [
       "'문자열'"
      ]
     },
     "execution_count": 15,
     "metadata": {},
     "output_type": "execute_result"
    }
   ],
   "source": [
    "c"
   ]
  },
  {
   "cell_type": "markdown",
   "id": "ca68c9ca-36e9-40a3-a0a7-86fa6bf6e5fc",
   "metadata": {},
   "source": [
    "# 키보드 입력받기 input()\n",
    "* input() 함수로 입력받는 모든 값을 문자열로 저장된다.\n",
    "* 반드시 형변환 필요"
   ]
  },
  {
   "cell_type": "code",
   "execution_count": 16,
   "id": "e099d3c0-1893-4fd6-9986-f84385708079",
   "metadata": {},
   "outputs": [
    {
     "name": "stdin",
     "output_type": "stream",
     "text": [
      " 5\n",
      " 10\n"
     ]
    },
    {
     "name": "stdout",
     "output_type": "stream",
     "text": [
      "510\n"
     ]
    }
   ],
   "source": [
    "num = input()\n",
    "num2 = input()\n",
    "print(num+num2)"
   ]
  },
  {
   "cell_type": "code",
   "execution_count": 17,
   "id": "d6383e4e-fe97-4aa9-8a8d-159d4fcbeb72",
   "metadata": {},
   "outputs": [
    {
     "name": "stdin",
     "output_type": "stream",
     "text": [
      " 5\n",
      " 10\n"
     ]
    },
    {
     "name": "stdout",
     "output_type": "stream",
     "text": [
      "15\n"
     ]
    }
   ],
   "source": [
    "num = input()\n",
    "num2 = input()\n",
    "print(int(num)+int(num2))"
   ]
  },
  {
   "cell_type": "code",
   "execution_count": 20,
   "id": "585c3f73-ad65-4d8e-942e-2b021b1872f4",
   "metadata": {},
   "outputs": [
    {
     "name": "stdin",
     "output_type": "stream",
     "text": [
      " 5 10\n"
     ]
    },
    {
     "name": "stdout",
     "output_type": "stream",
     "text": [
      "15\n"
     ]
    }
   ],
   "source": [
    "num, num2 = input().split()\n",
    "print(int(num)+int(num2))"
   ]
  },
  {
   "cell_type": "markdown",
   "id": "3007cea9-85c9-4867-88ab-32800a424013",
   "metadata": {},
   "source": []
  },
  {
   "cell_type": "markdown",
   "id": "ee6c87cb-7764-4911-8950-615f96691d70",
   "metadata": {},
   "source": [
    "# 변수 삭제하기 del 변수명"
   ]
  },
  {
   "cell_type": "code",
   "execution_count": null,
   "id": "9904728a-a5c8-4784-ab28-d924ba1d232c",
   "metadata": {},
   "outputs": [],
   "source": []
  },
  {
   "cell_type": "code",
   "execution_count": null,
   "id": "43340768-1d28-411e-a615-b34a9c24c3d5",
   "metadata": {},
   "outputs": [],
   "source": []
  },
  {
   "cell_type": "code",
   "execution_count": null,
   "id": "ec4d24b1-3361-4407-a2cf-85e27d6097ba",
   "metadata": {},
   "outputs": [],
   "source": []
  },
  {
   "cell_type": "code",
   "execution_count": null,
   "id": "37a0de2e-24b2-46da-b4b6-303c38e470b3",
   "metadata": {},
   "outputs": [],
   "source": []
  },
  {
   "cell_type": "code",
   "execution_count": null,
   "id": "8fda9fc6-904b-4bd3-8b23-36389568e948",
   "metadata": {},
   "outputs": [],
   "source": []
  },
  {
   "cell_type": "code",
   "execution_count": null,
   "id": "c703f773-8eaf-40ec-97d4-934aec5972c8",
   "metadata": {},
   "outputs": [],
   "source": []
  },
  {
   "cell_type": "code",
   "execution_count": null,
   "id": "9e534665-c59f-42ac-b04e-3faecc9a6426",
   "metadata": {},
   "outputs": [],
   "source": []
  },
  {
   "cell_type": "code",
   "execution_count": null,
   "id": "870afd81-0be4-4d6c-90a7-1548fccb8f63",
   "metadata": {},
   "outputs": [],
   "source": []
  },
  {
   "cell_type": "code",
   "execution_count": null,
   "id": "849a673d-ee94-4160-ac43-e1ec91fd0a69",
   "metadata": {},
   "outputs": [],
   "source": []
  }
 ],
 "metadata": {
  "kernelspec": {
   "display_name": "Python 3 (ipykernel)",
   "language": "python",
   "name": "python3"
  },
  "language_info": {
   "codemirror_mode": {
    "name": "ipython",
    "version": 3
   },
   "file_extension": ".py",
   "mimetype": "text/x-python",
   "name": "python",
   "nbconvert_exporter": "python",
   "pygments_lexer": "ipython3",
   "version": "3.10.14"
  }
 },
 "nbformat": 4,
 "nbformat_minor": 5
}
