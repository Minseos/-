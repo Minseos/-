{
 "cells": [
  {
   "cell_type": "markdown",
   "id": "09c76e15-fd6c-485c-94b3-0f9bbbd4f00a",
   "metadata": {},
   "source": [
    "### 함수 만들기"
   ]
  },
  {
   "cell_type": "markdown",
   "id": "0c7c9d19-89ce-43be-9c47-62c5898d0d4a",
   "metadata": {},
   "source": [
    "* print(), split(), input() => 함수\n",
    "* 함수의 괄호 안에 값을 넣으면 출력을 해주거나 입력을 받거나 변환을 해 줌\n",
    "* 도구\n",
    "* function => 기능"
   ]
  },
  {
   "cell_type": "code",
   "execution_count": 3,
   "id": "8f1e156a-bb8b-41fa-bdae-6a2770df72eb",
   "metadata": {},
   "outputs": [
    {
     "name": "stdout",
     "output_type": "stream",
     "text": [
      "[10, 20, 30, 40, 50]\n"
     ]
    }
   ],
   "source": [
    "L = [1,2,3,4,5]\n",
    "result = []\n",
    "for i in L:\n",
    "    result.append(i * 10)\n",
    "print(result)"
   ]
  },
  {
   "cell_type": "markdown",
   "id": "7b6a07a7-f59f-4a5e-9e8b-cb1859ebb07f",
   "metadata": {},
   "source": [
    "## 1) 함수 만드는 법\n",
    "def 함수이름(): <br>\n",
    "____실행코드 <br>\n",
    "____return 리턴 값"
   ]
  },
  {
   "cell_type": "code",
   "execution_count": 5,
   "id": "06789bfe-b61a-4fbc-b846-56b6881db1cb",
   "metadata": {},
   "outputs": [],
   "source": [
    "def hello():\n",
    "    print(\"hello python 함수 만들기\")"
   ]
  },
  {
   "cell_type": "code",
   "execution_count": 6,
   "id": "b77a1d67-d63a-440c-9fd9-fc1019126a2e",
   "metadata": {},
   "outputs": [
    {
     "name": "stdout",
     "output_type": "stream",
     "text": [
      "hello python 함수 만들기\n"
     ]
    }
   ],
   "source": [
    "hello()"
   ]
  },
  {
   "cell_type": "markdown",
   "id": "dd188e8d-fbd4-4d89-80ab-d532ea317e3c",
   "metadata": {},
   "source": [
    "## 2) 함수 호출순서\n",
    "* 함수는 호출하기 전에 반드시 먼저 정의되어야 하고(만들어 놓아야 함)\n",
    "* 함수 정의가 함수 실행보다 위에 있어야 한다."
   ]
  },
  {
   "cell_type": "code",
   "execution_count": null,
   "id": "41290cb5-2ed5-4714-af55-a553cc26798f",
   "metadata": {},
   "outputs": [],
   "source": [
    "def hello()"
   ]
  },
  {
   "cell_type": "markdown",
   "id": "05dfa49c-3f14-4375-bc76-1dc0ba1fc1fe",
   "metadata": {},
   "source": [
    "## 3) 함수의 매개변수\n",
    "* 함수의 ()안에 받는 값\n",
    "* ()안에 값을 받아서 함수 내에서 처리할 때 사용\n",
    "* print(\"hello\") => hello"
   ]
  },
  {
   "cell_type": "markdown",
   "id": "67288b7e-19ef-4a62-a00c-a648e284c592",
   "metadata": {},
   "source": [
    "매개변수 1개짜리 함수"
   ]
  },
  {
   "cell_type": "code",
   "execution_count": 8,
   "id": "93701211-ac60-4ebf-9e29-2254a480a1d1",
   "metadata": {},
   "outputs": [],
   "source": [
    "# 원의 넓이를 구하는 함수 반지름 * 반지름 * 3.14\n",
    "def circle(c):\n",
    "    print(\"원의 넓이는\", c * c * 3.14, \"입니다\")\n",
    "    return c * c * 3.14"
   ]
  },
  {
   "cell_type": "code",
   "execution_count": 10,
   "id": "45ac01da-0542-441a-a80d-3efe84067dff",
   "metadata": {},
   "outputs": [
    {
     "name": "stdout",
     "output_type": "stream",
     "text": [
      "원의 넓이는 28.26 입니다\n",
      "result : 28.26\n"
     ]
    }
   ],
   "source": [
    "result = circle(3)\n",
    "print(\"result :\", result)"
   ]
  },
  {
   "cell_type": "markdown",
   "id": "260c5ea8-704a-4b3c-9d48-927defa00e0a",
   "metadata": {},
   "source": [
    "매개변수 2개짜리 함수 - 덧셈 함수 만들기"
   ]
  },
  {
   "cell_type": "code",
   "execution_count": 11,
   "id": "1e2aa1e8-abcf-4ef5-91f2-1664544f62b1",
   "metadata": {},
   "outputs": [],
   "source": [
    "def add(a,b):\n",
    "    return a + b"
   ]
  },
  {
   "cell_type": "code",
   "execution_count": 12,
   "id": "dffdb217-4334-4e88-b63f-bb01ab03e109",
   "metadata": {},
   "outputs": [
    {
     "data": {
      "text/plain": [
       "13"
      ]
     },
     "execution_count": 12,
     "metadata": {},
     "output_type": "execute_result"
    }
   ],
   "source": [
    "add(10,3)"
   ]
  },
  {
   "cell_type": "code",
   "execution_count": 13,
   "id": "5c4eb818-eda0-43fa-8dc7-3def9f6e6752",
   "metadata": {},
   "outputs": [
    {
     "name": "stdout",
     "output_type": "stream",
     "text": [
      "result : 13\n"
     ]
    }
   ],
   "source": [
    "result = add(10,3)\n",
    "print(\"result :\",result)"
   ]
  },
  {
   "cell_type": "code",
   "execution_count": 14,
   "id": "4975fd53-2d35-4433-87c0-7f7df6bbd807",
   "metadata": {},
   "outputs": [
    {
     "data": {
      "text/plain": [
       "65153152455"
      ]
     },
     "execution_count": 14,
     "metadata": {},
     "output_type": "execute_result"
    }
   ],
   "source": [
    "add(999,65153151456)"
   ]
  },
  {
   "cell_type": "markdown",
   "id": "9436f836-2bbe-4660-892d-cabb3673d5b5",
   "metadata": {},
   "source": [
    "매게 변수 3개짜리 함수 - a : 시작, b:끝, c: 증감 <br>\n",
    "interval이라는 이름의 함수를 만드세요 <br>\n",
    "숫자를 입력받아 시작, 끝, 증감이 반영되게 출력하세요 <br>\n",
    "interval(1,10,2)<br>\n",
    "1,3,5,7,9"
   ]
  },
  {
   "cell_type": "code",
   "execution_count": 20,
   "id": "61aecb10-7817-45c3-a8b9-7e1626003f63",
   "metadata": {},
   "outputs": [],
   "source": [
    "def num_maker(a,b,c):\n",
    "    result = [i for i in range(a,b,c)]\n",
    "    return result"
   ]
  },
  {
   "cell_type": "code",
   "execution_count": 21,
   "id": "af4eba2c-e595-4679-a2eb-e65ba61b0c95",
   "metadata": {},
   "outputs": [
    {
     "name": "stdout",
     "output_type": "stream",
     "text": [
      "[1, 3, 5, 7, 9]\n"
     ]
    }
   ],
   "source": [
    "result = num_maker(1,10,2)\n",
    "print(result)"
   ]
  },
  {
   "cell_type": "markdown",
   "id": "d7887dce-83a9-4f54-9a7a-6838c63e7d5e",
   "metadata": {},
   "source": [
    "리턴 값이 여러개인 함수"
   ]
  },
  {
   "cell_type": "code",
   "execution_count": 23,
   "id": "133224dd-fb54-4022-bb13-2985dc351d3f",
   "metadata": {},
   "outputs": [],
   "source": [
    "def add_sub(a,b):\n",
    "    add = a + b\n",
    "    sub = a - b\n",
    "    return add, sub"
   ]
  },
  {
   "cell_type": "code",
   "execution_count": 24,
   "id": "261a7d1f-111f-4b9c-ba63-5cf204319826",
   "metadata": {},
   "outputs": [
    {
     "data": {
      "text/plain": [
       "(16, -2)"
      ]
     },
     "execution_count": 24,
     "metadata": {},
     "output_type": "execute_result"
    }
   ],
   "source": [
    "add_sub(7, 9)"
   ]
  },
  {
   "cell_type": "code",
   "execution_count": 25,
   "id": "fa690f29-eca6-42d9-aabd-2c5bcd47c570",
   "metadata": {},
   "outputs": [
    {
     "name": "stdout",
     "output_type": "stream",
     "text": [
      "<class 'tuple'>\n"
     ]
    }
   ],
   "source": [
    "result = add_sub(7,3)\n",
    "print(type(result))"
   ]
  },
  {
   "cell_type": "code",
   "execution_count": 26,
   "id": "622db2c0-234f-487a-9ad2-54a77ef6fdfa",
   "metadata": {},
   "outputs": [],
   "source": [
    "a= 1\n",
    "b= 3"
   ]
  },
  {
   "cell_type": "code",
   "execution_count": 29,
   "id": "33bbecff-75c4-407d-8219-dafcf6f8445c",
   "metadata": {},
   "outputs": [
    {
     "name": "stdout",
     "output_type": "stream",
     "text": [
      "<class 'tuple'> (0, 1)\n",
      "<class 'tuple'> (1, 2)\n",
      "<class 'tuple'> (2, 3)\n",
      "<class 'tuple'> (3, 4)\n",
      "<class 'tuple'> (4, 5)\n",
      "<class 'tuple'> (5, 6)\n",
      "<class 'tuple'> (6, 7)\n",
      "<class 'tuple'> (7, 8)\n",
      "<class 'tuple'> (8, 9)\n",
      "<class 'tuple'> (9, 10)\n"
     ]
    }
   ],
   "source": [
    "for i in enumerate(range(1,11)):\n",
    "    print(type(i),i)"
   ]
  },
  {
   "cell_type": "markdown",
   "id": "d29920cf-a9cb-4dc3-887d-60b3e0ced29f",
   "metadata": {},
   "source": [
    "num_maker2 - 정방향, 역방향 리스트 출력"
   ]
  },
  {
   "cell_type": "code",
   "execution_count": 30,
   "id": "4d9766d7-9570-45f2-95fc-661805d0e6bf",
   "metadata": {},
   "outputs": [],
   "source": [
    "def num_maker2(a,b,c):\n",
    "    asc = [i for i in range(a,b,c)]\n",
    "    desc = [i for i in range(a,b,c)][::-1]\n",
    "    return asc, desc"
   ]
  },
  {
   "cell_type": "code",
   "execution_count": 31,
   "id": "7341ada8-54a7-4649-bddb-daf927d98b67",
   "metadata": {},
   "outputs": [
    {
     "data": {
      "text/plain": [
       "([1, 3, 5, 7, 9], [9, 7, 5, 3, 1])"
      ]
     },
     "execution_count": 31,
     "metadata": {},
     "output_type": "execute_result"
    }
   ],
   "source": [
    "num_maker2(1,10,2)"
   ]
  },
  {
   "cell_type": "markdown",
   "id": "d3ea7d08-bb31-4ec7-883f-885fcfe01eff",
   "metadata": {},
   "source": [
    "## 4) 중간에 함수를 종료시키기 위한 용도의 return\n",
    "* 반복문에서 break로 반복을 중지시키는 것처럼 함수에서 return이 실행되면 함수는 종료"
   ]
  },
  {
   "cell_type": "markdown",
   "id": "ae4a8ee6-ed1b-4f92-b8b3-0e10bc5b3061",
   "metadata": {},
   "source": [
    "1-10까지 숫자중에서 짝수만 출력을 하다가 7이상이 되면 종료하기"
   ]
  },
  {
   "cell_type": "code",
   "execution_count": 32,
   "id": "fbe49af0-1018-4e35-9d84-cb8763f916dc",
   "metadata": {},
   "outputs": [],
   "source": [
    "age = range(1,11)"
   ]
  },
  {
   "cell_type": "code",
   "execution_count": 36,
   "id": "035de35d-3977-4b34-ac51-f1ef9aacb3b1",
   "metadata": {},
   "outputs": [],
   "source": [
    "def even(a):\n",
    "   for i in a:\n",
    "       if i % 2 == 0 :\n",
    "           print(i, end = \" \")\n",
    "       elif i >= 7:\n",
    "           break"
   ]
  },
  {
   "cell_type": "code",
   "execution_count": 35,
   "id": "4b54db6f-af92-46e6-880d-a18af9ebd70d",
   "metadata": {},
   "outputs": [
    {
     "name": "stdout",
     "output_type": "stream",
     "text": [
      "2 4 6 "
     ]
    }
   ],
   "source": [
    "even(age)"
   ]
  },
  {
   "cell_type": "code",
   "execution_count": 39,
   "id": "161fabf4-38ce-467a-9e3a-c30fe0a483b2",
   "metadata": {},
   "outputs": [],
   "source": [
    "# 함수는 return을 만나면 종료 = break랑 똑같음\n",
    "def even2(a):\n",
    "   for i in a:\n",
    "       if i % 2 == 0 :\n",
    "           print(i, end = \" \")\n",
    "       elif i >= 7:\n",
    "           return "
   ]
  },
  {
   "cell_type": "code",
   "execution_count": 38,
   "id": "5ef45337-9306-4016-a28e-339cb09231f9",
   "metadata": {},
   "outputs": [
    {
     "name": "stdout",
     "output_type": "stream",
     "text": [
      "2 4 6 "
     ]
    }
   ],
   "source": [
    "even2(age)"
   ]
  },
  {
   "cell_type": "markdown",
   "id": "55b7946f-abe3-4a65-b4c4-eab7df03cbd7",
   "metadata": {},
   "source": [
    "1 ~ 100까지 숫자중에 홀수만 출력하다가 51번째에 종료하는 odd함수를 만드세요"
   ]
  },
  {
   "cell_type": "code",
   "execution_count": 42,
   "id": "94c87c05-dcd3-40a2-a1d5-4dc70f2a34d1",
   "metadata": {},
   "outputs": [],
   "source": [
    "num = range(1,101)"
   ]
  },
  {
   "cell_type": "code",
   "execution_count": 48,
   "id": "e810afe7-5a0e-4914-a99c-e158deb6b1d6",
   "metadata": {},
   "outputs": [],
   "source": [
    "def odd(num):\n",
    "    for i in num:\n",
    "        if i % 2 == 1:\n",
    "            print(i, end = \" \")\n",
    "        elif i >= 51:\n",
    "            return"
   ]
  },
  {
   "cell_type": "code",
   "execution_count": 49,
   "id": "89b9e132-6bec-44b9-a510-21005248b8d7",
   "metadata": {},
   "outputs": [
    {
     "name": "stdout",
     "output_type": "stream",
     "text": [
      "1 3 5 7 9 11 13 15 17 19 21 23 25 27 29 31 33 35 37 39 41 43 45 47 49 51 "
     ]
    }
   ],
   "source": [
    "odd(num)"
   ]
  },
  {
   "cell_type": "code",
   "execution_count": 50,
   "id": "860561df-62b1-4fb9-9ed7-027564f7baad",
   "metadata": {},
   "outputs": [],
   "source": [
    "def odd2(num):\n",
    "    for i in num:\n",
    "        if i % 2 == 1:\n",
    "            print(i, end = \" \")\n",
    "        elif i >= 51:\n",
    "            return"
   ]
  },
  {
   "cell_type": "code",
   "execution_count": 51,
   "id": "6a41de8c-e138-49c4-92b6-0d807fac71de",
   "metadata": {},
   "outputs": [
    {
     "name": "stdout",
     "output_type": "stream",
     "text": [
      "1 3 5 7 9 11 13 15 17 19 21 23 25 27 29 31 33 35 37 39 41 43 45 47 49 51 "
     ]
    }
   ],
   "source": [
    "odd2(range(1,101))"
   ]
  },
  {
   "cell_type": "markdown",
   "id": "1266e879-dd12-4fd2-b028-14ae37c4ed5d",
   "metadata": {},
   "source": [
    "## 5) 함수에서 위치 인수와 키워드 인수 사용하기\n",
    "* 위치인수(position argument) 매개변수\n",
    "* 함수에 인수를 순서대로 넣는 방식\n",
    "* 인수의 위치가 정해져 있음"
   ]
  },
  {
   "cell_type": "code",
   "execution_count": 52,
   "id": "1674a307-8853-4613-bf57-bd6db091a3c9",
   "metadata": {},
   "outputs": [],
   "source": [
    "def print_num(a,b,c):\n",
    "    print(a,b,c)"
   ]
  },
  {
   "cell_type": "code",
   "execution_count": 53,
   "id": "f2604a5a-e8dd-4101-b735-420f95d83604",
   "metadata": {},
   "outputs": [
    {
     "name": "stdout",
     "output_type": "stream",
     "text": [
      "10 20 30\n"
     ]
    }
   ],
   "source": [
    "print_num(10,20,30)"
   ]
  },
  {
   "cell_type": "markdown",
   "id": "c1a06040-c889-4362-a3ae-3be8ee83fc0c",
   "metadata": {},
   "source": [
    "리스트, 튜플과 같은 자료형을 1개의 위치인수(매개변수)로 받을 때<br>\n",
    "위치 인수와 개수가 같으면 *로 언패킹 가능"
   ]
  },
  {
   "cell_type": "code",
   "execution_count": 55,
   "id": "3ccedc51-fbf6-4935-8d59-22457697c573",
   "metadata": {},
   "outputs": [],
   "source": [
    "p = [10,20,30]"
   ]
  },
  {
   "cell_type": "code",
   "execution_count": 62,
   "id": "30da260c-68fb-40dd-b663-b9a3bcccce38",
   "metadata": {},
   "outputs": [
    {
     "ename": "TypeError",
     "evalue": "print_num() missing 2 required positional arguments: 'b' and 'c'",
     "output_type": "error",
     "traceback": [
      "\u001b[1;31m---------------------------------------------------------------------------\u001b[0m",
      "\u001b[1;31mTypeError\u001b[0m                                 Traceback (most recent call last)",
      "Cell \u001b[1;32mIn[62], line 1\u001b[0m\n\u001b[1;32m----> 1\u001b[0m \u001b[43mprint_num\u001b[49m\u001b[43m(\u001b[49m\u001b[43mp\u001b[49m\u001b[43m)\u001b[49m\n",
      "\u001b[1;31mTypeError\u001b[0m: print_num() missing 2 required positional arguments: 'b' and 'c'"
     ]
    }
   ],
   "source": [
    "print_num(p)"
   ]
  },
  {
   "cell_type": "code",
   "execution_count": 63,
   "id": "7bb0c138-df44-4348-a1dc-f4d281519cfb",
   "metadata": {},
   "outputs": [
    {
     "name": "stdout",
     "output_type": "stream",
     "text": [
      "10 20 30\n"
     ]
    }
   ],
   "source": [
    "print_num(p[0], p[1], p[2])"
   ]
  },
  {
   "cell_type": "code",
   "execution_count": 64,
   "id": "4ed273c0-622d-426c-9dad-0ce3dca02f61",
   "metadata": {},
   "outputs": [
    {
     "name": "stdout",
     "output_type": "stream",
     "text": [
      "10 20 30\n"
     ]
    }
   ],
   "source": [
    "print(*p)"
   ]
  },
  {
   "cell_type": "code",
   "execution_count": 65,
   "id": "ba267ad2-49b7-4cb3-b81e-af9ae5db0adf",
   "metadata": {},
   "outputs": [
    {
     "name": "stdout",
     "output_type": "stream",
     "text": [
      "10 20 30\n"
     ]
    }
   ],
   "source": [
    "print_num(*p)"
   ]
  },
  {
   "cell_type": "markdown",
   "id": "d8b65774-c856-443a-9426-c66314efcc5c",
   "metadata": {},
   "source": [
    "가변인수\n",
    "* 여러 개의 자료를 한 번에 입력을 받음\n",
    "* *args => 변수명"
   ]
  },
  {
   "cell_type": "code",
   "execution_count": 66,
   "id": "a00dd380-e5fd-4075-9516-6d9114f26c4d",
   "metadata": {},
   "outputs": [
    {
     "name": "stdout",
     "output_type": "stream",
     "text": [
      "a b c d e\n"
     ]
    }
   ],
   "source": [
    "print(\"a\", \"b\", \"c\", \"d\", \"e\")"
   ]
  },
  {
   "cell_type": "markdown",
   "id": "40a7a9d1-67b9-4ef5-9778-332f685ab426",
   "metadata": {},
   "source": [
    "여러 개의 숫자를 입력받아 더하는 함수(입력 개수가 정해져 있지X)"
   ]
  },
  {
   "cell_type": "code",
   "execution_count": 70,
   "id": "33713f85-d710-4a51-b6cc-178544fa1850",
   "metadata": {},
   "outputs": [],
   "source": [
    "def sum2(*args):\n",
    "    print(args)\n",
    "    print(type(args))\n",
    "    hap = 0\n",
    "    for i in args:\n",
    "        hap += i\n",
    "    return hap"
   ]
  },
  {
   "cell_type": "code",
   "execution_count": 68,
   "id": "0629c7b3-5cdd-4fa6-b84a-fe6bfa851294",
   "metadata": {},
   "outputs": [],
   "source": [
    "def sum3(*nums):\n",
    "    hap = 0\n",
    "    for i in nums:\n",
    "        hap += i\n",
    "    return hap"
   ]
  },
  {
   "cell_type": "code",
   "execution_count": 69,
   "id": "17e67daf-00e5-4ff5-9718-f72ff2f05a3e",
   "metadata": {},
   "outputs": [
    {
     "data": {
      "text/plain": [
       "1071"
      ]
     },
     "execution_count": 69,
     "metadata": {},
     "output_type": "execute_result"
    }
   ],
   "source": [
    "sum2(514, 545, 5, 7)"
   ]
  },
  {
   "cell_type": "code",
   "execution_count": 71,
   "id": "daaa4d41-6383-4319-a522-e529f5266a52",
   "metadata": {},
   "outputs": [
    {
     "name": "stdout",
     "output_type": "stream",
     "text": [
      "(1, 1, 4, 5, 7, 8, 9, 9, 10)\n",
      "<class 'tuple'>\n"
     ]
    },
    {
     "data": {
      "text/plain": [
       "54"
      ]
     },
     "execution_count": 71,
     "metadata": {},
     "output_type": "execute_result"
    }
   ],
   "source": [
    "sum2(1,1,4,5,7,8,9,9,10)"
   ]
  },
  {
   "cell_type": "code",
   "execution_count": 77,
   "id": "e922ad74-e8a1-42b6-b4b9-a2009d5770b4",
   "metadata": {},
   "outputs": [],
   "source": [
    "def sum3(*nums):\n",
    "    print(nums)\n",
    "    print(type(nums))\n",
    "    return sum(nums)"
   ]
  },
  {
   "cell_type": "code",
   "execution_count": 73,
   "id": "0d39da21-57e6-49ad-8dcf-d86f1986c062",
   "metadata": {},
   "outputs": [
    {
     "data": {
      "text/plain": [
       "50404"
      ]
     },
     "execution_count": 73,
     "metadata": {},
     "output_type": "execute_result"
    }
   ],
   "source": [
    "sum3(9,1,5,2,5,2,10,5,15,20,5210,45120)"
   ]
  },
  {
   "cell_type": "code",
   "execution_count": 74,
   "id": "6670a00a-9312-4ce9-aef3-060e4238477f",
   "metadata": {},
   "outputs": [],
   "source": [
    "L1 = [9,1,5,2,5,2,10,5,15,20,5210,45120]"
   ]
  },
  {
   "cell_type": "markdown",
   "id": "8c53e27b-00fc-4bf4-acc3-e901977ae808",
   "metadata": {},
   "source": [
    " *를 사용하면 리스트를 풀어줌"
   ]
  },
  {
   "cell_type": "code",
   "execution_count": 80,
   "id": "701eef70-1bc1-4c87-ba83-b274f73fb21d",
   "metadata": {},
   "outputs": [
    {
     "name": "stdout",
     "output_type": "stream",
     "text": [
      "9 1 5 2 5 2 10 5 15 20 5210 45120\n"
     ]
    }
   ],
   "source": [
    "print(*[9,1,5,2,5,2,10,5,15,20,5210,45120])"
   ]
  },
  {
   "cell_type": "code",
   "execution_count": 83,
   "id": "a323d132-be32-4e99-9a66-fce528012c25",
   "metadata": {},
   "outputs": [
    {
     "name": "stdout",
     "output_type": "stream",
     "text": [
      "([9, 1, 5, 2, 5, 2, 10, 5, 15, 20, 5210, 45120],)\n",
      "<class 'tuple'>\n"
     ]
    },
    {
     "ename": "TypeError",
     "evalue": "unsupported operand type(s) for +: 'int' and 'list'",
     "output_type": "error",
     "traceback": [
      "\u001b[1;31m---------------------------------------------------------------------------\u001b[0m",
      "\u001b[1;31mTypeError\u001b[0m                                 Traceback (most recent call last)",
      "Cell \u001b[1;32mIn[83], line 2\u001b[0m\n\u001b[0;32m      1\u001b[0m \u001b[38;5;66;03m# sum함수는 list를 할 수 없음\u001b[39;00m\n\u001b[1;32m----> 2\u001b[0m \u001b[43msum3\u001b[49m\u001b[43m(\u001b[49m\u001b[43mL1\u001b[49m\u001b[43m)\u001b[49m\n",
      "Cell \u001b[1;32mIn[77], line 4\u001b[0m, in \u001b[0;36msum3\u001b[1;34m(*nums)\u001b[0m\n\u001b[0;32m      2\u001b[0m \u001b[38;5;28mprint\u001b[39m(nums)\n\u001b[0;32m      3\u001b[0m \u001b[38;5;28mprint\u001b[39m(\u001b[38;5;28mtype\u001b[39m(nums))\n\u001b[1;32m----> 4\u001b[0m \u001b[38;5;28;01mreturn\u001b[39;00m \u001b[38;5;28;43msum\u001b[39;49m\u001b[43m(\u001b[49m\u001b[43mnums\u001b[49m\u001b[43m)\u001b[49m\n",
      "\u001b[1;31mTypeError\u001b[0m: unsupported operand type(s) for +: 'int' and 'list'"
     ]
    }
   ],
   "source": [
    "# sum함수는 list를 할 수 없음\n",
    "sum3(L1)"
   ]
  },
  {
   "cell_type": "code",
   "execution_count": 78,
   "id": "f5cc6f50-c1d0-410a-9e18-f498e98d9ca6",
   "metadata": {},
   "outputs": [
    {
     "name": "stdout",
     "output_type": "stream",
     "text": [
      "(9, 1, 5, 2, 5, 2, 10, 5, 15, 20, 5210, 45120)\n",
      "<class 'tuple'>\n"
     ]
    },
    {
     "data": {
      "text/plain": [
       "50404"
      ]
     },
     "execution_count": 78,
     "metadata": {},
     "output_type": "execute_result"
    }
   ],
   "source": [
    "sum3(*L1)"
   ]
  },
  {
   "cell_type": "code",
   "execution_count": null,
   "id": "be5789f8-aceb-486e-a1b6-899f6ffa37db",
   "metadata": {},
   "outputs": [],
   "source": []
  },
  {
   "cell_type": "code",
   "execution_count": 79,
   "id": "c73b20c9-5d62-49e4-b106-ca39f5e6dc71",
   "metadata": {},
   "outputs": [],
   "source": [
    "def list_tuple_func(*args):\n",
    "    print(args)\n",
    "    print(type(args))"
   ]
  },
  {
   "cell_type": "code",
   "execution_count": 81,
   "id": "575921dc-8b83-4faa-a936-4340bd8813e4",
   "metadata": {},
   "outputs": [
    {
     "name": "stdout",
     "output_type": "stream",
     "text": [
      "(1, 2, 3, 4, 5)\n",
      "<class 'tuple'>\n"
     ]
    }
   ],
   "source": [
    "list_tuple_func(1,2,3,4,5)"
   ]
  },
  {
   "cell_type": "code",
   "execution_count": 82,
   "id": "14137f56-e0d3-4260-b468-58e7d69cfc91",
   "metadata": {},
   "outputs": [
    {
     "name": "stdout",
     "output_type": "stream",
     "text": [
      "(1.1, 2.2, 3.3, 4.4, 5.5)\n",
      "<class 'tuple'>\n"
     ]
    }
   ],
   "source": [
    "list_tuple_func(1.1,2.2,3.3,4.4,5.5)"
   ]
  },
  {
   "cell_type": "code",
   "execution_count": 84,
   "id": "0a14cb59-db5b-449d-bbe1-0ffa6f948701",
   "metadata": {},
   "outputs": [
    {
     "name": "stdout",
     "output_type": "stream",
     "text": [
      "([1, 2, 3], [4, 5, 6], [7, 8, 9])\n",
      "<class 'tuple'>\n"
     ]
    }
   ],
   "source": [
    "list_tuple_func([1,2,3],[4,5,6],[7,8,9])"
   ]
  },
  {
   "cell_type": "markdown",
   "id": "5ab4d588-9135-4310-99ee-471312885114",
   "metadata": {},
   "source": [
    "고정인수와 가변인수 함께 사용하기 <br>\n",
    "* 고정인수와 가변인수를 함께 사용할 때는 반드시 <br>\n",
    "* 고정인수, 가변인수 순으로 넣고 가변인수는 항상 가장 마지막에 넣는다 <br>\n",
    "  def sum(a, *args) : O <br>\n",
    "  def sum(*args, a) : X"
   ]
  },
  {
   "cell_type": "markdown",
   "id": "eec00f6d-9176-482d-a2f7-77096ce0fa24",
   "metadata": {},
   "source": [
    "정수와 리스트를 입력받아 리스트의 요소에 <br>\n",
    "입력받은 정수를 곱한 값의 리스트를 반환하는 함수 <br>\n",
    "3, [1,2,3,4,5] => [3,6,9,12,15]"
   ]
  },
  {
   "cell_type": "code",
   "execution_count": 87,
   "id": "3a2f35aa-fa3e-44ec-a9a1-545f33a2f7a4",
   "metadata": {},
   "outputs": [],
   "source": [
    "def muls(a, *args):\n",
    "    result =[]\n",
    "    for num in args:\n",
    "        print(a * num, end = \" \")\n",
    "        result.append(a * num)\n",
    "    return result"
   ]
  },
  {
   "cell_type": "code",
   "execution_count": 89,
   "id": "36cf4faf-1ef5-48e8-8ded-b6c949c960c6",
   "metadata": {},
   "outputs": [],
   "source": [
    "L2 = [1,2,3,4,5]"
   ]
  },
  {
   "cell_type": "code",
   "execution_count": 90,
   "id": "697cd12d-acbb-494c-94d4-a1032eac5373",
   "metadata": {},
   "outputs": [
    {
     "name": "stdout",
     "output_type": "stream",
     "text": [
      "3 6 9 12 15 "
     ]
    },
    {
     "data": {
      "text/plain": [
       "[3, 6, 9, 12, 15]"
      ]
     },
     "execution_count": 90,
     "metadata": {},
     "output_type": "execute_result"
    }
   ],
   "source": [
    "muls(3, *L2)"
   ]
  },
  {
   "cell_type": "code",
   "execution_count": null,
   "id": "9bac1f90-e3e6-4809-a2f5-2b5395063fef",
   "metadata": {},
   "outputs": [],
   "source": []
  },
  {
   "cell_type": "markdown",
   "id": "3cd91c27-e550-4ec3-94b7-eea3b87b16c6",
   "metadata": {},
   "source": [
    "## 키워드 인수"
   ]
  },
  {
   "cell_type": "raw",
   "id": "1ec92824-79fd-44d7-896a-b92d6d55c8e3",
   "metadata": {},
   "source": [
    "개인정보를 출력하는 함수"
   ]
  },
  {
   "cell_type": "code",
   "execution_count": 7,
   "id": "d25d7af8-adc3-41a8-9669-5653080c3c02",
   "metadata": {},
   "outputs": [],
   "source": [
    "def personal_info(name, age, address):\n",
    "    print('이름: ', name)\n",
    "    print('나이: ', age)\n",
    "    print('주소: ', address)"
   ]
  },
  {
   "cell_type": "code",
   "execution_count": 8,
   "id": "3c5900b5-6f55-493f-bd62-b3cc47856daa",
   "metadata": {},
   "outputs": [
    {
     "name": "stdout",
     "output_type": "stream",
     "text": [
      "이름:  홍길동\n",
      "나이:  30\n",
      "주소:  서울시 강남구\n"
     ]
    }
   ],
   "source": [
    "personal_info ('홍길동',30,'서울시 강남구')"
   ]
  },
  {
   "cell_type": "markdown",
   "id": "9246f057-1e4c-4350-9df9-98df8fd2d5e9",
   "metadata": {},
   "source": [
    "* 위에 함수는 인수의 순서를 모두 기억해야하기 때문에 사용하기 어려움 <br>\n",
    "* 인수의 선수와 용도를 매번 기억하지 않도록 하고 키워드 인수(keyword argument)  사용 <br>\n",
    "* 예) print(\"\"python\", sep = \"\", end = \"\\\") sep, end =>  키워드 인수 \n"
   ]
  },
  {
   "cell_type": "code",
   "execution_count": 9,
   "id": "6910097a-3071-4055-a220-1e9ae236c863",
   "metadata": {},
   "outputs": [
    {
     "data": {
      "text/plain": [
       "{'key': 'value'}"
      ]
     },
     "execution_count": 9,
     "metadata": {},
     "output_type": "execute_result"
    }
   ],
   "source": [
    "dict(key = 'value')"
   ]
  },
  {
   "cell_type": "markdown",
   "id": "486dfe1e-8cba-49e2-818c-38b27494f769",
   "metadata": {},
   "source": [
    "personal_info를 키워드 인수 방식으로 호출\n",
    "* 인수 순서나 위치가 바뀌어도 동작"
   ]
  },
  {
   "cell_type": "code",
   "execution_count": 12,
   "id": "fe80a8fa-0d00-4328-af70-cc3a28613dbc",
   "metadata": {},
   "outputs": [
    {
     "name": "stdout",
     "output_type": "stream",
     "text": [
      "이름:  홍길동\n",
      "나이:  30\n",
      "주소:  서울시 강남구\n"
     ]
    }
   ],
   "source": [
    "personal_info(name = \"홍길동\", age = 30, address = \"서울시 강남구\")"
   ]
  },
  {
   "cell_type": "code",
   "execution_count": 18,
   "id": "11389fe6-edbf-430a-9805-740eeb0c3ac8",
   "metadata": {},
   "outputs": [
    {
     "name": "stdout",
     "output_type": "stream",
     "text": [
      "python : hello\t"
     ]
    }
   ],
   "source": [
    "print(\"python\", \"hello\", end = \"\\t\", sep =  \" : \")"
   ]
  },
  {
   "cell_type": "code",
   "execution_count": 16,
   "id": "168111b7-322c-4a76-a5b9-be23606b4d32",
   "metadata": {},
   "outputs": [],
   "source": [
    "def my_print2(end, sep, *args):\n",
    "    print(args)\n",
    "    pass"
   ]
  },
  {
   "cell_type": "code",
   "execution_count": 19,
   "id": "88d1a187-4f09-44a5-8ff8-7957971d0614",
   "metadata": {},
   "outputs": [
    {
     "name": "stdout",
     "output_type": "stream",
     "text": [
      "(3, 4)\n"
     ]
    }
   ],
   "source": [
    "my_print2(1,2,3,4)"
   ]
  },
  {
   "cell_type": "markdown",
   "id": "e8210f76-24b4-40fe-a6ea-a3b17132dad1",
   "metadata": {},
   "source": [
    "### 딕셔너리 언패킹"
   ]
  },
  {
   "cell_type": "markdown",
   "id": "64f7d5bb-a31e-4b9f-9f3b-4f913b6539e2",
   "metadata": {},
   "source": [
    "* 딕셔너리 앞에  \\**를 붙여서 딕셔너리를 언패킹 해 줌\n",
    "* **{name = \"홍길동\", age = 30, address = \"서울시 강남구\"}\n",
    "* 언패킹을 해서 삽입, 딕셔너리는 key, value가 2개 이므로 *이 2개임"
   ]
  },
  {
   "cell_type": "code",
   "execution_count": 25,
   "id": "6be0c646-d20e-4a8d-9aa8-35d0e39637c6",
   "metadata": {},
   "outputs": [],
   "source": [
    "p_info = dict (name = \"홍길동\", age = 30, address = \"서울시 강남구\")"
   ]
  },
  {
   "cell_type": "code",
   "execution_count": 26,
   "id": "4de57a98-0614-4b7c-8f9e-3561a58badb5",
   "metadata": {},
   "outputs": [
    {
     "name": "stdout",
     "output_type": "stream",
     "text": [
      "이름:  홍길동\n",
      "나이:  30\n",
      "주소:  서울시 강남구\n"
     ]
    }
   ],
   "source": [
    "personal_info(**p_info)"
   ]
  },
  {
   "cell_type": "markdown",
   "id": "a6a9e4a6-ea85-44ff-95a9-ec902565790b",
   "metadata": {},
   "source": [
    "* keyword arguments는 key,value형태로 만들어야됨"
   ]
  },
  {
   "cell_type": "markdown",
   "id": "4a081356-63c9-48b7-aa16-919a2d047210",
   "metadata": {},
   "source": [
    "키워드 인수를 사용하는 가변인수 함수 만들기 <br>\n",
    "def 함수이름(**kwargs) :                # keyword arguments <br>\n",
    "____코드 <Br>\n",
    "____return"
   ]
  },
  {
   "cell_type": "code",
   "execution_count": 35,
   "id": "52081dee-ca0c-4f80-a772-4c1152491211",
   "metadata": {},
   "outputs": [],
   "source": [
    "def personal_info2(**kwargs):\n",
    "    print(\"kwargs :\", kwargs)\n",
    "    print(\"kwargs type :\", type(kwargs))"
   ]
  },
  {
   "cell_type": "code",
   "execution_count": 36,
   "id": "f1d64a53-c747-4f48-98fc-d494c2657366",
   "metadata": {},
   "outputs": [
    {
     "name": "stdout",
     "output_type": "stream",
     "text": [
      "kwargs : {'name': '홍길동'}\n",
      "kwargs type : <class 'dict'>\n"
     ]
    }
   ],
   "source": [
    "personal_info2(name = \"홍길동\")"
   ]
  },
  {
   "cell_type": "markdown",
   "id": "a7f77e87-1ded-4ce6-ae6a-fe386dcba5c1",
   "metadata": {},
   "source": [
    "* *args는 튜플형태, **args는 딕셔너리 형태로 들어간다"
   ]
  },
  {
   "cell_type": "code",
   "execution_count": 37,
   "id": "a298ee7a-8f0a-4a3b-a0aa-8c50851adc7e",
   "metadata": {},
   "outputs": [
    {
     "name": "stdout",
     "output_type": "stream",
     "text": [
      "kwargs : {'name': '홍길동', 'age': 30, 'address': '서울시 강남구', 'school': '강남 고등학교'}\n",
      "kwargs type : <class 'dict'>\n"
     ]
    }
   ],
   "source": [
    "personal_info2(name = \"홍길동\", age = 30, address = \"서울시 강남구\", school = \"강남 고등학교\")"
   ]
  },
  {
   "cell_type": "code",
   "execution_count": 38,
   "id": "1ee13b24-edbc-49c4-8ffc-80905a82c3c2",
   "metadata": {},
   "outputs": [
    {
     "data": {
      "text/plain": [
       "{'name': '홍길동', 'age': 30, 'address': '서울시 강남구', 'school': '강남 고등학교'}"
      ]
     },
     "execution_count": 38,
     "metadata": {},
     "output_type": "execute_result"
    }
   ],
   "source": [
    "d = dict(name = \"홍길동\", age = 30, address = \"서울시 강남구\", school = \"강남 고등학교\")\n",
    "d"
   ]
  },
  {
   "cell_type": "code",
   "execution_count": 40,
   "id": "bfce37f7-03df-4fb8-a480-2622136e71f7",
   "metadata": {},
   "outputs": [
    {
     "name": "stdout",
     "output_type": "stream",
     "text": [
      "kwargs : {'name': '홍길동', 'age': 30, 'address': '서울시 강남구', 'school': '강남 고등학교'}\n",
      "kwargs type : <class 'dict'>\n"
     ]
    }
   ],
   "source": [
    "personal_info2(**d)"
   ]
  },
  {
   "cell_type": "code",
   "execution_count": null,
   "id": "e2d2edf7-c968-48e8-9e30-6b56f733ef95",
   "metadata": {},
   "outputs": [],
   "source": []
  },
  {
   "cell_type": "code",
   "execution_count": 43,
   "id": "bd2e4fe7-cc16-42de-9ecf-3e8b5c87a598",
   "metadata": {},
   "outputs": [],
   "source": [
    "def personal_info3(**kwargs):\n",
    "    print(\"kwargs :\", kwargs)\n",
    "    print(\"kwargs type :\", type(kwargs))\n",
    "    for key, value in kwargs.items():          # items를 사용하면 key, value 다 뽑을 수 있음\n",
    "        print(key, value)"
   ]
  },
  {
   "cell_type": "code",
   "execution_count": 44,
   "id": "e3277ba7-e2ca-44d8-822f-9616ce9513c6",
   "metadata": {},
   "outputs": [
    {
     "name": "stdout",
     "output_type": "stream",
     "text": [
      "kwargs : {'name': '홍길동', 'age': 30, 'address': '서울시 강남구', 'school': '강남 고등학교'}\n",
      "kwargs type : <class 'dict'>\n",
      "name 홍길동\n",
      "age 30\n",
      "address 서울시 강남구\n",
      "school 강남 고등학교\n"
     ]
    }
   ],
   "source": [
    "personal_info3(**d)"
   ]
  },
  {
   "cell_type": "markdown",
   "id": "b45a9a21-efbd-4208-89b0-a74a300e880f",
   "metadata": {},
   "source": [
    "고정인수와 키워드 가변인수 함께 사용하기\n",
    "* 고정인수, **키워드인수 순으로 와야 함"
   ]
  },
  {
   "cell_type": "code",
   "execution_count": 45,
   "id": "70019609-5c97-499e-acf8-579d5f9f82b2",
   "metadata": {},
   "outputs": [],
   "source": [
    "def personal_info4(name, **kwargs):\n",
    "    print(\"name :\", name)\n",
    "    print(\"kwargs :\", kwargs)"
   ]
  },
  {
   "cell_type": "code",
   "execution_count": 46,
   "id": "08a0b43d-ec07-4b41-96a0-760df97f5db1",
   "metadata": {},
   "outputs": [
    {
     "name": "stdout",
     "output_type": "stream",
     "text": [
      "name : 홍길동\n",
      "kwargs : {}\n"
     ]
    }
   ],
   "source": [
    "personal_info4('홍길동')"
   ]
  },
  {
   "cell_type": "code",
   "execution_count": 47,
   "id": "9481f2ea-9330-46ca-ba56-26200b9e96fc",
   "metadata": {},
   "outputs": [
    {
     "name": "stdout",
     "output_type": "stream",
     "text": [
      "name : 홍길동\n",
      "kwargs : {'age': 30, 'address': '서울시 강남구'}\n"
     ]
    }
   ],
   "source": [
    "personal_info4('홍길동', age = 30, address = \"서울시 강남구\")"
   ]
  },
  {
   "cell_type": "code",
   "execution_count": 48,
   "id": "ab9c603f-3dd8-43dc-85d4-04ddecd9ea23",
   "metadata": {},
   "outputs": [
    {
     "ename": "TypeError",
     "evalue": "personal_info4() missing 1 required positional argument: 'name'",
     "output_type": "error",
     "traceback": [
      "\u001b[1;31m---------------------------------------------------------------------------\u001b[0m",
      "\u001b[1;31mTypeError\u001b[0m                                 Traceback (most recent call last)",
      "Cell \u001b[1;32mIn[48], line 1\u001b[0m\n\u001b[1;32m----> 1\u001b[0m \u001b[43mpersonal_info4\u001b[49m\u001b[43m(\u001b[49m\u001b[43m \u001b[49m\u001b[43mage\u001b[49m\u001b[43m \u001b[49m\u001b[38;5;241;43m=\u001b[39;49m\u001b[43m \u001b[49m\u001b[38;5;241;43m30\u001b[39;49m\u001b[43m,\u001b[49m\u001b[43m \u001b[49m\u001b[43maddress\u001b[49m\u001b[43m \u001b[49m\u001b[38;5;241;43m=\u001b[39;49m\u001b[43m \u001b[49m\u001b[38;5;124;43m\"\u001b[39;49m\u001b[38;5;124;43m서울시 강남구\u001b[39;49m\u001b[38;5;124;43m\"\u001b[39;49m\u001b[43m)\u001b[49m\n",
      "\u001b[1;31mTypeError\u001b[0m: personal_info4() missing 1 required positional argument: 'name'"
     ]
    }
   ],
   "source": [
    "personal_info4( age = 30, address = \"서울시 강남구\")"
   ]
  },
  {
   "cell_type": "code",
   "execution_count": 49,
   "id": "7da44563-00a0-45d0-82ef-711a1d7cc5e1",
   "metadata": {},
   "outputs": [
    {
     "name": "stdout",
     "output_type": "stream",
     "text": [
      "name : 홍길동\n",
      "kwargs : {'age': 30, 'address': '서울시 강남구'}\n"
     ]
    }
   ],
   "source": [
    "personal_info4(name = '홍길동', age = 30, address = \"서울시 강남구\")"
   ]
  },
  {
   "cell_type": "code",
   "execution_count": 50,
   "id": "1d906b3c-795e-4045-9470-6f28fa355c07",
   "metadata": {},
   "outputs": [
    {
     "data": {
      "text/plain": [
       "{'name': '홍길동', 'age': 30, 'address': '서울시 강남구'}"
      ]
     },
     "execution_count": 50,
     "metadata": {},
     "output_type": "execute_result"
    }
   ],
   "source": [
    "d2 = dict(name = '홍길동', age = 30, address = \"서울시 강남구\")\n",
    "d2"
   ]
  },
  {
   "cell_type": "markdown",
   "id": "b0ba8394-6f8d-4f5e-90bf-b96e33bcaa7d",
   "metadata": {},
   "source": [
    "가변인수와 가변키워드인수 함께쓰기\n",
    "* def 함수명(*args, **kwargs):\n",
    "* def 함수명(고정인자, *args, **kwargs):"
   ]
  },
  {
   "cell_type": "code",
   "execution_count": 52,
   "id": "608ba68a-d64b-41fa-b6a2-7baa5b4fd1fe",
   "metadata": {},
   "outputs": [
    {
     "name": "stdout",
     "output_type": "stream",
     "text": [
      "(1, 2, 3) {'sep': ' !! ', 'end': ''}\n",
      "1 !! 2 !! 3"
     ]
    }
   ],
   "source": [
    "def custom_print(*args, **kwargs):\n",
    "    print(args, kwargs)\n",
    "    print(*args, **kwargs)\n",
    "custom_print(1,2,3, sep = \" !! \", end = \"\")"
   ]
  },
  {
   "cell_type": "markdown",
   "id": "22222943-804b-4fd6-8f83-a19851010a7a",
   "metadata": {},
   "source": [
    "매개변수 = 함수 내에서 사용되는 변수\n",
    "* 위치 인수 : 위치가 고정된 매개변수(변수명 = 값)\n",
    "* 가변 인수 : 여러 개의 지료를 동시에 받을 수 있는 매개변수 => tuple로 들어옴\n",
    "* 키워드 가변 인수 : 여러 개의 자료를 동시에 받을 수 있는데 key = value 형태로 받는 매개 변수 => dict로 들어옴"
   ]
  },
  {
   "cell_type": "markdown",
   "id": "682cd43a-5c63-41ab-8464-36e49dbe8c6a",
   "metadata": {},
   "source": [
    "매개변수에 초기값 저장하기\n",
    "* 초기값이 지정된 매개변수는 반드시 가장 마지막에 와야 함"
   ]
  },
  {
   "cell_type": "code",
   "execution_count": 53,
   "id": "9058251f-4236-43e2-804c-e033eefa76cb",
   "metadata": {},
   "outputs": [],
   "source": [
    "def personal_info5(name, age, address = \"비공개\"):\n",
    "    print('이름 :',name)\n",
    "    print('나이 :', age)\n",
    "    print('주소 :', address)"
   ]
  },
  {
   "cell_type": "code",
   "execution_count": 54,
   "id": "a3450a76-19cf-4f37-beec-e03431336eff",
   "metadata": {},
   "outputs": [
    {
     "name": "stdout",
     "output_type": "stream",
     "text": [
      "이름 : 홍길동\n",
      "나이 : 30\n",
      "주소 : 서울시 강남구\n"
     ]
    }
   ],
   "source": [
    "personal_info5('홍길동', 30, '서울시 강남구')"
   ]
  },
  {
   "cell_type": "code",
   "execution_count": 55,
   "id": "d7ef89af-ab5f-4c52-990b-696430f2d22d",
   "metadata": {},
   "outputs": [
    {
     "name": "stdout",
     "output_type": "stream",
     "text": [
      "\n"
     ]
    }
   ],
   "source": [
    "print()"
   ]
  },
  {
   "cell_type": "markdown",
   "id": "f531265e-3af1-480f-8b06-be4ce30914aa",
   "metadata": {},
   "source": [
    "### 위치\n",
    "매개변수의 종류에 따른 순서\n",
    "* 위치인수, 위치인수 = 기본값, *args, **kwargs"
   ]
  },
  {
   "cell_type": "code",
   "execution_count": 60,
   "id": "3deaf144-433a-49fd-a013-3561deee0a1e",
   "metadata": {},
   "outputs": [],
   "source": [
    "def personal_info6(*args, address = \"비공개\", **kwargs):\n",
    "    print('args :', args)\n",
    "    print('kwargs :', kwargs)\n",
    "    print('주소 :', address)"
   ]
  },
  {
   "cell_type": "code",
   "execution_count": 61,
   "id": "c60e929f-02f8-43f8-b655-ba13d495fdef",
   "metadata": {},
   "outputs": [
    {
     "name": "stdout",
     "output_type": "stream",
     "text": [
      "args : (1, 2, 3, 4)\n",
      "kwargs : {'name': '홍길동', 'age': 30}\n",
      "주소 : 비공개\n"
     ]
    }
   ],
   "source": [
    "personal_info6(1,2,3,4, name = \"홍길동\", age=30)"
   ]
  },
  {
   "cell_type": "markdown",
   "id": "5a58c128-6e4b-4a2d-851a-fdcef35aef6c",
   "metadata": {},
   "source": [
    "### 함수 Doc 스트링(\"\"\" \"\"\") 사용하기\n",
    "* 함수의 기능을 설명하거나 사용법을 함수 내에 적어 놓는 것\n",
    "def 함수이름(매개변수): <br>\n",
    "____\"\"\"독스트링으로 설명 적기 \"\"\" <br>\n",
    "____실행코드 <br>\n",
    "____return\n",
    "* 독스트링은 함수 실행시에는 출력되지 않음\n",
    "* print(함수이름.doc)\n",
    "* help(함수이름)"
   ]
  },
  {
   "cell_type": "code",
   "execution_count": 62,
   "id": "0448d430-4234-4cef-9c3d-1cdbf6cd31f0",
   "metadata": {},
   "outputs": [
    {
     "name": "stdout",
     "output_type": "stream",
     "text": [
      "\n"
     ]
    }
   ],
   "source": [
    "print()"
   ]
  },
  {
   "cell_type": "code",
   "execution_count": 63,
   "id": "d8a708ca-6016-484f-8222-2b0c69ea6d5d",
   "metadata": {},
   "outputs": [],
   "source": [
    "def add(a,b):\n",
    "    \"\"\"\n",
    "    \n",
    "    이 함수는 a와 b를 더한 뒤 결과를 반환하는 함수입니다\n",
    "    \"\"\"\n",
    "    return a + b"
   ]
  },
  {
   "cell_type": "code",
   "execution_count": 64,
   "id": "a152fb13-9c94-494c-9c5a-20ac74be974b",
   "metadata": {},
   "outputs": [
    {
     "data": {
      "text/plain": [
       "15"
      ]
     },
     "execution_count": 64,
     "metadata": {},
     "output_type": "execute_result"
    }
   ],
   "source": [
    "add(10, 5)"
   ]
  },
  {
   "cell_type": "code",
   "execution_count": 65,
   "id": "7135061a-5f06-4d7a-92e9-d80f6ccdf98f",
   "metadata": {},
   "outputs": [
    {
     "name": "stdout",
     "output_type": "stream",
     "text": [
      "Help on function add in module __main__:\n",
      "\n",
      "add(a, b)\n",
      "    이 함수는 a와 b를 더한 뒤 결과를 반환하는 함수입니다\n",
      "\n"
     ]
    }
   ],
   "source": [
    "help(add)"
   ]
  },
  {
   "cell_type": "code",
   "execution_count": 66,
   "id": "674aa79a-1768-4358-9cb2-4159022d3552",
   "metadata": {},
   "outputs": [
    {
     "name": "stdout",
     "output_type": "stream",
     "text": [
      "Help on built-in function print in module builtins:\n",
      "\n",
      "print(...)\n",
      "    print(value, ..., sep=' ', end='\\n', file=sys.stdout, flush=False)\n",
      "    \n",
      "    Prints the values to a stream, or to sys.stdout by default.\n",
      "    Optional keyword arguments:\n",
      "    file:  a file-like object (stream); defaults to the current sys.stdout.\n",
      "    sep:   string inserted between values, default a space.\n",
      "    end:   string appended after the last value, default a newline.\n",
      "    flush: whether to forcibly flush the stream.\n",
      "\n"
     ]
    }
   ],
   "source": [
    "help(print)"
   ]
  },
  {
   "cell_type": "code",
   "execution_count": 67,
   "id": "3195eeee-bf95-4328-a8f3-d0b4e133ebcc",
   "metadata": {},
   "outputs": [
    {
     "name": "stdout",
     "output_type": "stream",
     "text": [
      "\n",
      "    \n",
      "    이 함수는 a와 b를 더한 뒤 결과를 반환하는 함수입니다\n",
      "    \n"
     ]
    }
   ],
   "source": [
    "print(add.__doc__)"
   ]
  },
  {
   "cell_type": "code",
   "execution_count": 68,
   "id": "a33f2596-4771-4264-b5d8-2394dc4aa466",
   "metadata": {},
   "outputs": [
    {
     "name": "stdout",
     "output_type": "stream",
     "text": [
      "print(value, ..., sep=' ', end='\\n', file=sys.stdout, flush=False)\n",
      "\n",
      "Prints the values to a stream, or to sys.stdout by default.\n",
      "Optional keyword arguments:\n",
      "file:  a file-like object (stream); defaults to the current sys.stdout.\n",
      "sep:   string inserted between values, default a space.\n",
      "end:   string appended after the last value, default a newline.\n",
      "flush: whether to forcibly flush the stream.\n"
     ]
    }
   ],
   "source": [
    "print(print.__doc__)"
   ]
  },
  {
   "cell_type": "code",
   "execution_count": null,
   "id": "82f8a72d-9fe4-460e-b531-e606a949e718",
   "metadata": {},
   "outputs": [],
   "source": []
  },
  {
   "cell_type": "markdown",
   "id": "188660a5-843a-4e61-b278-57b04ddbbbc6",
   "metadata": {},
   "source": [
    "## 람다 표현식(lambda expression)\n",
    "* 간단한 함수를 작성하거나 다른 함수의 인수로 함수를 넣을 때 사용\n",
    "* 익명함수(함수명이 없음)\n",
    "* 사용 후 메모리에서 삭제\n",
    "* 임시함수기 때문에 한 번 사용하면 메모리가 사라짐"
   ]
  },
  {
   "cell_type": "code",
   "execution_count": 111,
   "id": "bd1dd577-ba0c-4bea-a370-ee95cd7b9324",
   "metadata": {},
   "outputs": [],
   "source": [
    "## lam 데이터 추출할 때 많이 사용함"
   ]
  },
  {
   "cell_type": "code",
   "execution_count": 69,
   "id": "6e71624b-1420-424b-984b-e504b3c32ef8",
   "metadata": {},
   "outputs": [],
   "source": [
    "# 자료 1개를 입력받아 10을 더해 리턴하는 함수\n",
    "def plus_ten(x):\n",
    "    return x + 10"
   ]
  },
  {
   "cell_type": "code",
   "execution_count": 70,
   "id": "7697dcc5-5f6d-4ad3-8ffe-c4f64ae7ac57",
   "metadata": {},
   "outputs": [
    {
     "data": {
      "text/plain": [
       "15"
      ]
     },
     "execution_count": 70,
     "metadata": {},
     "output_type": "execute_result"
    }
   ],
   "source": [
    "plus_ten(5)"
   ]
  },
  {
   "cell_type": "code",
   "execution_count": 72,
   "id": "b4b0adbc-b570-482d-9190-9b2286f02bdb",
   "metadata": {},
   "outputs": [
    {
     "data": {
      "text/plain": [
       "15"
      ]
     },
     "execution_count": 72,
     "metadata": {},
     "output_type": "execute_result"
    }
   ],
   "source": [
    "# def lamdba():\n",
    "(lambda x : x + 10)(5)"
   ]
  },
  {
   "cell_type": "markdown",
   "id": "a6e06ab5-85e9-42e3-9a44-b9f478e1be61",
   "metadata": {},
   "source": [
    "map(함수, 리스트 자료)"
   ]
  },
  {
   "cell_type": "code",
   "execution_count": 76,
   "id": "916f33fb-fff8-455a-9445-d74f4c9fc961",
   "metadata": {},
   "outputs": [],
   "source": [
    "a, b, c, d = map(int, [\"1\",\"2\",\"4\",\"5\"])"
   ]
  },
  {
   "cell_type": "code",
   "execution_count": 78,
   "id": "cac21b1a-83e4-4c83-990e-3d654fd285b8",
   "metadata": {},
   "outputs": [
    {
     "name": "stdout",
     "output_type": "stream",
     "text": [
      "1 2 4 5\n",
      "<class 'int'> 2 4 5\n"
     ]
    }
   ],
   "source": [
    "print(a,b,c,d)\n",
    "print(type(a),b,c,d)"
   ]
  },
  {
   "cell_type": "code",
   "execution_count": 80,
   "id": "89aa7cce-f9f2-4a6e-8458-8b25158e27b4",
   "metadata": {},
   "outputs": [
    {
     "name": "stdout",
     "output_type": "stream",
     "text": [
      "[6, 7, 8, 9, 10]\n"
     ]
    }
   ],
   "source": [
    "# plus_five = lambda x : x + 5\n",
    "result = map(plus_five, [1,2,3,4,5])\n",
    "print(list(result))"
   ]
  },
  {
   "cell_type": "code",
   "execution_count": 81,
   "id": "3af6e06b-27f8-49a6-a564-524c48d82591",
   "metadata": {},
   "outputs": [
    {
     "data": {
      "text/plain": [
       "[11, 12, 13, 14, 15]"
      ]
     },
     "execution_count": 81,
     "metadata": {},
     "output_type": "execute_result"
    }
   ],
   "source": [
    "list(map(lambda x: x + 10, [1,2,3,4,5]))"
   ]
  },
  {
   "cell_type": "code",
   "execution_count": 85,
   "id": "08de71cb-e043-4d99-ace2-ab7e34723279",
   "metadata": {},
   "outputs": [],
   "source": [
    "x = [1,2,3,4,5]\n",
    "def plus_10(x):\n",
    "    hap = []\n",
    "    for i in x:\n",
    "        hap.append(i + 10)\n",
    "    # print(hap)\n",
    "    return hap"
   ]
  },
  {
   "cell_type": "code",
   "execution_count": 86,
   "id": "04777e4b-151c-460b-9b44-0bb14418ff5f",
   "metadata": {},
   "outputs": [
    {
     "data": {
      "text/plain": [
       "[11, 12, 13, 14, 15]"
      ]
     },
     "execution_count": 86,
     "metadata": {},
     "output_type": "execute_result"
    }
   ],
   "source": [
    "plus_10(x)"
   ]
  },
  {
   "cell_type": "code",
   "execution_count": 88,
   "id": "7091fc91-5ed6-428f-8389-9fc82125c3ad",
   "metadata": {},
   "outputs": [
    {
     "data": {
      "text/plain": [
       "[11, 12, 13, 14, 15]"
      ]
     },
     "execution_count": 88,
     "metadata": {},
     "output_type": "execute_result"
    }
   ],
   "source": [
    "x = [1,2,3,4,5]\n",
    "def plus_10_2(x):\n",
    "    return [i + 10 for i in x]\n",
    "\n",
    "plus_10_2(x)"
   ]
  },
  {
   "cell_type": "markdown",
   "id": "57d85189-cb97-4109-8e37-d2ee60bb3263",
   "metadata": {},
   "source": [
    "람다표현식에 조건부 표현식 사용하기"
   ]
  },
  {
   "cell_type": "code",
   "execution_count": 100,
   "id": "b7fb3d58-04b9-44cb-abac-822e8359e6d7",
   "metadata": {},
   "outputs": [
    {
     "data": {
      "text/plain": [
       "[1, 2, '3', 4, 5, '6', 7, 8, '9', 10]"
      ]
     },
     "execution_count": 100,
     "metadata": {},
     "output_type": "execute_result"
    }
   ],
   "source": [
    "# 3의 배수만 문자열로 바꾸기\n",
    "a = list(range(1,11))\n",
    "def str3(a):\n",
    "    result = []\n",
    "    for i in a:\n",
    "        if i % 3 == 0 :\n",
    "            result.append(str(i))\n",
    "        else:\n",
    "            result.append(i)\n",
    "    return result\n",
    "\n",
    "str3(a)"
   ]
  },
  {
   "cell_type": "code",
   "execution_count": 103,
   "id": "be4f3fef-1f3e-4b71-a062-503445341cb3",
   "metadata": {},
   "outputs": [
    {
     "data": {
      "text/plain": [
       "[1, 2, '3', 4, 5, '6', 7, 8, '9', 10]"
      ]
     },
     "execution_count": 103,
     "metadata": {},
     "output_type": "execute_result"
    }
   ],
   "source": [
    "# 3의 배수만 문자열로 바꾸기\n",
    "# 조건문 부분을 조건 표현식으로 변환\n",
    "a = list(range(1,11))\n",
    "def str3(a):\n",
    "    result = []\n",
    "    for i in a:\n",
    "        result.append(str(i)) if i % 3 == 0 else result.append(i)\n",
    "    return result\n",
    "\n",
    "str3(a)"
   ]
  },
  {
   "cell_type": "code",
   "execution_count": 107,
   "id": "eb13399f-3fb6-47a2-a639-a3340e604753",
   "metadata": {},
   "outputs": [
    {
     "data": {
      "text/plain": [
       "[1, 2, '3', 4, 5, '6', 7, 8, '9', 10]"
      ]
     },
     "execution_count": 107,
     "metadata": {},
     "output_type": "execute_result"
    }
   ],
   "source": [
    "# 3의 배수만 문자열로 바꾸기\n",
    "# 조건문 부분을 조건 표현식으로 변환\n",
    "# list for 문은 리스트 표현식으로 변환\n",
    "a = list(range(1,11))\n",
    "def str3(a):\n",
    "    result = [str(i) if i % 3 == 0 else i for i in a]\n",
    "    \n",
    "    return result\n",
    "\n",
    "str3(a)"
   ]
  },
  {
   "cell_type": "code",
   "execution_count": 110,
   "id": "29e6b856-317c-49db-af37-a41fa2a4336c",
   "metadata": {},
   "outputs": [
    {
     "data": {
      "text/plain": [
       "[1, 2, '3', 4, 5, '6', 7, 8, '9', 10]"
      ]
     },
     "execution_count": 110,
     "metadata": {},
     "output_type": "execute_result"
    }
   ],
   "source": [
    "list(map(lambda x : str(x) if x % 3 == 0 else x,a))"
   ]
  },
  {
   "cell_type": "code",
   "execution_count": null,
   "id": "f1ad3796-e009-486c-b6c9-3f54f23ea540",
   "metadata": {},
   "outputs": [],
   "source": [
    "b = list(range(1,11)):\n",
    "c = lambda b"
   ]
  },
  {
   "cell_type": "code",
   "execution_count": 115,
   "id": "7606724a-f8af-413f-a4d9-d60f515933df",
   "metadata": {},
   "outputs": [
    {
     "ename": "NameError",
     "evalue": "name 'apply' is not defined",
     "output_type": "error",
     "traceback": [
      "\u001b[1;31m---------------------------------------------------------------------------\u001b[0m",
      "\u001b[1;31mNameError\u001b[0m                                 Traceback (most recent call last)",
      "Cell \u001b[1;32mIn[115], line 1\u001b[0m\n\u001b[1;32m----> 1\u001b[0m \u001b[43mapply\u001b[49m(\u001b[38;5;28;01mlambda\u001b[39;00m x : \u001b[38;5;28mstr\u001b[39m(x) \u001b[38;5;28;01mif\u001b[39;00m x \u001b[38;5;241m%\u001b[39m \u001b[38;5;241m3\u001b[39m \u001b[38;5;241m==\u001b[39m \u001b[38;5;241m0\u001b[39m \u001b[38;5;28;01melse\u001b[39;00m x )\n",
      "\u001b[1;31mNameError\u001b[0m: name 'apply' is not defined"
     ]
    }
   ],
   "source": [
    "apply(lambda x : str(x) if x % 3 == 0 else x )\n",
    "          "
   ]
  },
  {
   "cell_type": "code",
   "execution_count": null,
   "id": "0a119aff-82e8-448a-a888-88aa7f991f8d",
   "metadata": {},
   "outputs": [],
   "source": [
    "apply(lambda x : str(x) if x % 3 == '0' else x )"
   ]
  },
  {
   "cell_type": "code",
   "execution_count": 116,
   "id": "2ac880ec-c542-4259-a3cc-9ccaa14c7436",
   "metadata": {},
   "outputs": [],
   "source": [
    "a = [1,2,3,4,5]\n",
    "b = [2,4,6,8,10]\n",
    "c = [3,6,9,12,15]"
   ]
  },
  {
   "cell_type": "code",
   "execution_count": 121,
   "id": "b39366bf-d4b2-4fd4-ba5c-50918eb3eb79",
   "metadata": {},
   "outputs": [
    {
     "data": {
      "text/plain": [
       "[6, 48, 162, 384, 750]"
      ]
     },
     "execution_count": 121,
     "metadata": {},
     "output_type": "execute_result"
    }
   ],
   "source": [
    "list(map(lambda x,y,z : x*y*z, a,b,c))"
   ]
  },
  {
   "cell_type": "code",
   "execution_count": 123,
   "id": "6fe1bab7-ec44-431b-a1d6-9bdf7a59bab7",
   "metadata": {},
   "outputs": [
    {
     "data": {
      "text/plain": [
       "<map at 0x1d743ece440>"
      ]
     },
     "execution_count": 123,
     "metadata": {},
     "output_type": "execute_result"
    }
   ],
   "source": [
    "map(lambda x,y,z : x*y*z, a,b,c)"
   ]
  },
  {
   "cell_type": "code",
   "execution_count": 119,
   "id": "6cc4995f-0473-4cc5-96fe-cd44045e3f1d",
   "metadata": {},
   "outputs": [
    {
     "data": {
      "text/plain": [
       "[6, 48, 162, 384, 750]"
      ]
     },
     "execution_count": 119,
     "metadata": {},
     "output_type": "execute_result"
    }
   ],
   "source": [
    "result =[]\n",
    "for x,y,z in zip(a,b,c):\n",
    "    result.append(x*y*z)\n",
    "result"
   ]
  },
  {
   "cell_type": "code",
   "execution_count": null,
   "id": "85b50523-ff58-4654-985e-98f5144e2988",
   "metadata": {},
   "outputs": [],
   "source": []
  },
  {
   "cell_type": "code",
   "execution_count": null,
   "id": "7b7286e2-9405-4d0b-afc3-e7798e293b18",
   "metadata": {},
   "outputs": [],
   "source": []
  }
 ],
 "metadata": {
  "kernelspec": {
   "display_name": "Python 3 (ipykernel)",
   "language": "python",
   "name": "python3"
  },
  "language_info": {
   "codemirror_mode": {
    "name": "ipython",
    "version": 3
   },
   "file_extension": ".py",
   "mimetype": "text/x-python",
   "name": "python",
   "nbconvert_exporter": "python",
   "pygments_lexer": "ipython3",
   "version": "3.10.14"
  }
 },
 "nbformat": 4,
 "nbformat_minor": 5
}
