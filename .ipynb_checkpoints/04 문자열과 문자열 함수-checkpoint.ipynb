{
 "cells": [
  {
   "cell_type": "markdown",
   "id": "4702258d-9315-4cb3-bdf5-d5bcdc2c305e",
   "metadata": {},
   "source": [
    "### 문자열 사용하기, 문자열 함수"
   ]
  },
  {
   "cell_type": "markdown",
   "id": "6e732141-6518-41d5-bf9e-664326c5cfcb",
   "metadata": {},
   "source": [
    "\"따옴표 안에 문자를 넣어서 문자열을 만든다. <br>\n",
    "'도 가능"
   ]
  },
  {
   "cell_type": "code",
   "execution_count": 1,
   "id": "08cd8ea7-3e7e-45b1-814c-016502de2ea5",
   "metadata": {},
   "outputs": [
    {
     "data": {
      "text/plain": [
       "'hello world'"
      ]
     },
     "execution_count": 1,
     "metadata": {},
     "output_type": "execute_result"
    }
   ],
   "source": [
    "hello = 'hello world'\n",
    "hello"
   ]
  },
  {
   "cell_type": "code",
   "execution_count": 2,
   "id": "80162c01-a860-4b85-98a5-d7c01d88cd40",
   "metadata": {},
   "outputs": [
    {
     "data": {
      "text/plain": [
       "'hello world'"
      ]
     },
     "execution_count": 2,
     "metadata": {},
     "output_type": "execute_result"
    }
   ],
   "source": [
    "hello = \"hello world\"\n",
    "hello"
   ]
  },
  {
   "cell_type": "code",
   "execution_count": 3,
   "id": "86ae7b22-8ec5-42b7-8ace-267290ef0c39",
   "metadata": {},
   "outputs": [
    {
     "data": {
      "text/plain": [
       "\"hello 'world'\""
      ]
     },
     "execution_count": 3,
     "metadata": {},
     "output_type": "execute_result"
    }
   ],
   "source": [
    "hello = \"hello 'world'\"\n",
    "hello"
   ]
  },
  {
   "cell_type": "code",
   "execution_count": 4,
   "id": "70d01009-6698-4868-a49f-1ce214475c14",
   "metadata": {},
   "outputs": [
    {
     "data": {
      "text/plain": [
       "'\"hello\" world'"
      ]
     },
     "execution_count": 4,
     "metadata": {},
     "output_type": "execute_result"
    }
   ],
   "source": [
    "hello = '\"hello\" world'\n",
    "hello"
   ]
  },
  {
   "cell_type": "markdown",
   "id": "d5e2ccd4-fa01-4f5b-9ba6-13282853e9a9",
   "metadata": {},
   "source": [
    "여러 줄로 된 문자열 사용하기 <br>\n",
    "'''내용''' <br>\n",
    "\"\"\"내용\"\"\""
   ]
  },
  {
   "cell_type": "code",
   "execution_count": 7,
   "id": "1fd63871-999f-4255-8003-b88ed38644f3",
   "metadata": {},
   "outputs": [
    {
     "name": "stdout",
     "output_type": "stream",
     "text": [
      "\n",
      "안녕하세요.\n",
      "python 수업입니다.\n",
      "\n"
     ]
    },
    {
     "data": {
      "text/plain": [
       "'\\n안녕하세요.\\npython 수업입니다.\\n'"
      ]
     },
     "execution_count": 7,
     "metadata": {},
     "output_type": "execute_result"
    }
   ],
   "source": [
    "hello5 = '''\n",
    "안녕하세요.\n",
    "python 수업입니다.\n",
    "'''\n",
    "print(hello5)\n",
    "hello5"
   ]
  },
  {
   "cell_type": "code",
   "execution_count": 8,
   "id": "0568d4a2-bbac-49e0-84a6-c864a5c9198f",
   "metadata": {},
   "outputs": [
    {
     "name": "stdout",
     "output_type": "stream",
     "text": [
      "\n",
      "'안녕하세요.'\n",
      "python 수업입니다.\n",
      "\n"
     ]
    },
    {
     "data": {
      "text/plain": [
       "\"\\n'안녕하세요.'\\npython 수업입니다.\\n\""
      ]
     },
     "execution_count": 8,
     "metadata": {},
     "output_type": "execute_result"
    }
   ],
   "source": [
    "hello6 = \"\"\"\n",
    "'안녕하세요.'\n",
    "python 수업입니다.\n",
    "\"\"\"\n",
    "print(hello6)\n",
    "hello6"
   ]
  },
  {
   "cell_type": "markdown",
   "id": "5c14ba6f-42e9-4ca2-8fd4-062c8b97c0e2",
   "metadata": {},
   "source": [
    "문자열에서 이스케이프 문자(\\n, \\t, \\r) <br>\n",
    "\\n : 줄바꿈 new line <br>\n",
    "\\t : 탭 tap 4 ~ 8 칸 공백 <br>\n",
    "\\r : 캐리지리턴 현재 줄의 제일 왼쪽 끝으로 커서 이동"
   ]
  },
  {
   "cell_type": "code",
   "execution_count": 12,
   "id": "48fc74d8-e147-4d8b-ac1a-7c9736d54c1e",
   "metadata": {},
   "outputs": [
    {
     "name": "stdout",
     "output_type": "stream",
     "text": [
      "파이썬에서 줄바꿈은  \\n으로 합니다. \n",
      "\n",
      "\n",
      "3줄 줄바꿈 끝\n"
     ]
    }
   ],
   "source": [
    "h1 = \"파이썬에서 줄바꿈은  \\\\n으로 합니다. \\n\\n\\n3줄 줄바꿈 끝\"\n",
    "print(h1)"
   ]
  },
  {
   "cell_type": "code",
   "execution_count": 13,
   "id": "c31dfa8f-f4d3-4483-870a-755204666a30",
   "metadata": {},
   "outputs": [
    {
     "name": "stdout",
     "output_type": "stream",
     "text": [
      "탭으로 공간을 띄우는 것은 \t \\t로 합니다.\n"
     ]
    }
   ],
   "source": [
    "h2 = \"탭으로 공간을 띄우는 것은 \\t \\\\t로 합니다.\"\n",
    "print(h2)"
   ]
  },
  {
   "cell_type": "code",
   "execution_count": 15,
   "id": "2e8e0910-82fb-48e8-99fc-7731385d260a",
   "metadata": {},
   "outputs": [
    {
     "name": "stdout",
     "output_type": "stream",
     "text": [
      "캐리지 리턴은 \\r입니다. \n",
      "글자가 겹쳐져서 지워졌습니다. 이동하기 때문에\n"
     ]
    }
   ],
   "source": [
    "h3 = \"캐리지 리턴은 \\\\r입니다. \\n커서가 같은 줄 가장 앞으로 이동하기 때문에 \\r글자가 겹쳐져서 지워졌습니다. 이동하기 때문에\"\n",
    "print(h3)"
   ]
  },
  {
   "cell_type": "markdown",
   "id": "9954f175-4730-4e74-afa3-873f01d7d802",
   "metadata": {},
   "source": [
    "### 인덱스와 문자열\n",
    "* 문자 : 글자 1개\n",
    "* 문자열 : 글자가 여러 개, 순서가 있는 자료, 번호, 인덱스"
   ]
  },
  {
   "cell_type": "code",
   "execution_count": 16,
   "id": "fcd88754-0a9f-43a9-af0f-f28562ec1f99",
   "metadata": {},
   "outputs": [
    {
     "name": "stdout",
     "output_type": "stream",
     "text": [
      "문자열은 왼쪽부터 번호를 매길 수 있으며 시작은 0번부터 입니다.\n"
     ]
    }
   ],
   "source": [
    "h4 = \"문자열은 왼쪽부터 번호를 매길 수 있으며 시작은 0번부터 입니다.\"\n",
    "print(h4)"
   ]
  },
  {
   "cell_type": "code",
   "execution_count": 18,
   "id": "f5644ea1-b916-4546-8594-d45724879c97",
   "metadata": {},
   "outputs": [
    {
     "data": {
      "text/plain": [
       "'열'"
      ]
     },
     "execution_count": 18,
     "metadata": {},
     "output_type": "execute_result"
    }
   ],
   "source": [
    "h4[2] #인덱싱을해서 가져올 수 있음)"
   ]
  },
  {
   "cell_type": "code",
   "execution_count": 19,
   "id": "5ad5bece-5f7c-4bcd-b7ed-787cfc4cb96b",
   "metadata": {},
   "outputs": [
    {
     "data": {
      "text/plain": [
       "'문자열은 '"
      ]
     },
     "execution_count": 19,
     "metadata": {},
     "output_type": "execute_result"
    }
   ],
   "source": [
    "h4[0:5]"
   ]
  },
  {
   "cell_type": "code",
   "execution_count": 20,
   "id": "224a9fd6-6eec-4dcb-959b-4c4bca85d3b9",
   "metadata": {},
   "outputs": [
    {
     "data": {
      "text/plain": [
       "'.'"
      ]
     },
     "execution_count": 20,
     "metadata": {},
     "output_type": "execute_result"
    }
   ],
   "source": [
    "h4[-1]"
   ]
  },
  {
   "cell_type": "code",
   "execution_count": 21,
   "id": "4e905870-00bb-42f1-bdf1-afb4b916b00d",
   "metadata": {},
   "outputs": [
    {
     "data": {
      "text/plain": [
       "' 입니다.'"
      ]
     },
     "execution_count": 21,
     "metadata": {},
     "output_type": "execute_result"
    }
   ],
   "source": [
    "h4[-5:]"
   ]
  },
  {
   "cell_type": "code",
   "execution_count": 23,
   "id": "340543a8-38c0-4bcc-8d99-bc8665de9885",
   "metadata": {},
   "outputs": [
    {
     "data": {
      "text/plain": [
       "'문자열은 '"
      ]
     },
     "execution_count": 23,
     "metadata": {},
     "output_type": "execute_result"
    }
   ],
   "source": [
    "h4[:5] # 0번부터 4번까지"
   ]
  },
  {
   "cell_type": "code",
   "execution_count": 24,
   "id": "04c4dc81-d3f5-4382-ab71-6a2cdae09394",
   "metadata": {},
   "outputs": [
    {
     "data": {
      "text/plain": [
       "'부터 번호를 매길 수 있으며 시작은 0번부터 입니다.'"
      ]
     },
     "execution_count": 24,
     "metadata": {},
     "output_type": "execute_result"
    }
   ],
   "source": [
    "h4[7:] # 7번부터끝까지"
   ]
  },
  {
   "cell_type": "code",
   "execution_count": 25,
   "id": "cbd673ea-2757-45cf-9343-d1f13a8f51e3",
   "metadata": {},
   "outputs": [
    {
     "data": {
      "text/plain": [
       "'자은왼부 '"
      ]
     },
     "execution_count": 25,
     "metadata": {},
     "output_type": "execute_result"
    }
   ],
   "source": [
    "h4[1:11:2]"
   ]
  },
  {
   "cell_type": "code",
   "execution_count": 27,
   "id": "1006843c-764d-42c5-b9d6-b79ce20c8f53",
   "metadata": {},
   "outputs": [
    {
     "data": {
      "text/plain": [
       "'.다니입 터부번0 은작시 며으있 수 길매 를호번 터부쪽왼 은열자문'"
      ]
     },
     "execution_count": 27,
     "metadata": {},
     "output_type": "execute_result"
    }
   ],
   "source": [
    "h4[::-1] # 전체를 역순으로 "
   ]
  },
  {
   "cell_type": "markdown",
   "id": "565c2090-0d46-4c11-8e60-8d592f72f971",
   "metadata": {},
   "source": [
    "### 문자열 함수\n",
    "* .replace()\n",
    "* .split()\n",
    "* .join()\n",
    "* .strip()"
   ]
  },
  {
   "cell_type": "markdown",
   "id": "ad7a855f-ad03-4b91-b32e-2d441e1584a1",
   "metadata": {},
   "source": [
    "1. 문자열 바꾸기 replace(찾을 값, 바꿀 값)\n",
    "* replace 함수는 사용 후 결과를 재할당 해야됨"
   ]
  },
  {
   "cell_type": "code",
   "execution_count": 28,
   "id": "49a5cc09-3562-4fa9-b91b-f8bc6a45de45",
   "metadata": {},
   "outputs": [
    {
     "data": {
      "text/plain": [
       "'Hello, Python'"
      ]
     },
     "execution_count": 28,
     "metadata": {},
     "output_type": "execute_result"
    }
   ],
   "source": [
    "h5 = \"Hello, Python\"\n",
    "h5"
   ]
  },
  {
   "cell_type": "code",
   "execution_count": 30,
   "id": "92e02a38-d1fe-404f-87b2-9550bc67ef52",
   "metadata": {},
   "outputs": [
    {
     "data": {
      "text/plain": [
       "'Hello, World'"
      ]
     },
     "execution_count": 30,
     "metadata": {},
     "output_type": "execute_result"
    }
   ],
   "source": [
    "h5.replace(\"Python\", \"World\")"
   ]
  },
  {
   "cell_type": "code",
   "execution_count": 33,
   "id": "3bc4d586-8580-4b11-af17-42a41e6ff9e9",
   "metadata": {},
   "outputs": [
    {
     "data": {
      "text/plain": [
       "'Hello, World'"
      ]
     },
     "execution_count": 33,
     "metadata": {},
     "output_type": "execute_result"
    }
   ],
   "source": [
    "h5 = h5.replace(\"Python\", \"World\")\n",
    "h5"
   ]
  },
  {
   "cell_type": "markdown",
   "id": "974d9978-8a83-457e-aa68-2df85a57be93",
   "metadata": {},
   "source": [
    "* str maketrans('찾을문자', '바꿀문자', '추가로 없앨문자')로 변환테이블 생성\n",
    "* translate로 문자를 찾아서 바꿈"
   ]
  },
  {
   "cell_type": "code",
   "execution_count": 34,
   "id": "0121b324-693c-4886-aa5b-dc99fe4f5cfe",
   "metadata": {},
   "outputs": [],
   "source": [
    "table = str.maketrans('abcdefg', '1234567')"
   ]
  },
  {
   "cell_type": "code",
   "execution_count": 35,
   "id": "b404f8a8-db89-48b4-a7fb-a55edfa97c34",
   "metadata": {},
   "outputs": [
    {
     "data": {
      "text/plain": [
       "'H5llo, Worl4'"
      ]
     },
     "execution_count": 35,
     "metadata": {},
     "output_type": "execute_result"
    }
   ],
   "source": [
    "h5.translate(table)"
   ]
  },
  {
   "cell_type": "code",
   "execution_count": 36,
   "id": "908bad13-780b-4d5b-a160-596f494f64d8",
   "metadata": {},
   "outputs": [],
   "source": [
    "table = str.maketrans('abcdefg', '1234567', 'lor')"
   ]
  },
  {
   "cell_type": "code",
   "execution_count": 37,
   "id": "88a09847-3a87-48c7-a69e-02ab31c63517",
   "metadata": {},
   "outputs": [
    {
     "data": {
      "text/plain": [
       "'H5, W4'"
      ]
     },
     "execution_count": 37,
     "metadata": {},
     "output_type": "execute_result"
    }
   ],
   "source": [
    "h5.translate(table)"
   ]
  },
  {
   "cell_type": "code",
   "execution_count": 39,
   "id": "49a8cb94-c007-4800-9620-5245a19c1a1b",
   "metadata": {},
   "outputs": [
    {
     "data": {
      "text/plain": [
       "'He, Wd'"
      ]
     },
     "execution_count": 39,
     "metadata": {},
     "output_type": "execute_result"
    }
   ],
   "source": [
    "h5.translate(str.maketrans('','','lor'))"
   ]
  },
  {
   "cell_type": "code",
   "execution_count": 40,
   "id": "faec11da-202c-4b08-b5c2-58a4a85ec932",
   "metadata": {},
   "outputs": [
    {
     "data": {
      "text/plain": [
       "'문자열은 왼쪽부터 번호를 매길 수 있으며 시작은 0번부터 입니다.'"
      ]
     },
     "execution_count": 40,
     "metadata": {},
     "output_type": "execute_result"
    }
   ],
   "source": [
    "h4"
   ]
  },
  {
   "cell_type": "code",
   "execution_count": 41,
   "id": "0a438b1c-6ad0-48ae-9635-da47d1674a92",
   "metadata": {},
   "outputs": [
    {
     "data": {
      "text/plain": [
       "'문자열은 왼쪽부터 번호를 매길 수 있으며 시작은 번부터 입니다'"
      ]
     },
     "execution_count": 41,
     "metadata": {},
     "output_type": "execute_result"
    }
   ],
   "source": [
    "h4.translate(str.maketrans('','','0.'))"
   ]
  },
  {
   "cell_type": "markdown",
   "id": "8fd2741d-a79c-4577-853e-1e41164b74f5",
   "metadata": {},
   "source": [
    "2) 문자열 분리하기 .split()\n",
    "* 기본이 공백을 기준으로 문자열을 분리해 ***리스트***로 만들어 줌\n",
    "* 괄호 안에 분리 기준으로 지정해서 "
   ]
  },
  {
   "cell_type": "code",
   "execution_count": 42,
   "id": "35936c22-dd94-431e-a410-8ed77a5ca928",
   "metadata": {},
   "outputs": [
    {
     "data": {
      "text/plain": [
       "'문자열은 왼쪽부터 번호를 매길 수 있으며 시작은 0번부터 입니다.'"
      ]
     },
     "execution_count": 42,
     "metadata": {},
     "output_type": "execute_result"
    }
   ],
   "source": [
    "h4"
   ]
  },
  {
   "cell_type": "code",
   "execution_count": 44,
   "id": "be6edea0-ba3c-4072-8d1f-6eb2b42ffb68",
   "metadata": {},
   "outputs": [],
   "source": [
    "h4_1 = h4.split()"
   ]
  },
  {
   "cell_type": "code",
   "execution_count": 46,
   "id": "bb3976e1-b6e9-494a-9b15-c1b5e032caff",
   "metadata": {},
   "outputs": [
    {
     "data": {
      "text/plain": [
       "['문자열은', '왼쪽부터', '번호를', '매길', '수', '있으며', '시작은', '0번부터', '입니다.']"
      ]
     },
     "execution_count": 46,
     "metadata": {},
     "output_type": "execute_result"
    }
   ],
   "source": [
    "h4_1"
   ]
  },
  {
   "cell_type": "code",
   "execution_count": 48,
   "id": "ecdb58d6-3457-4a91-8012-19c9d5ffbbca",
   "metadata": {},
   "outputs": [
    {
     "name": "stdout",
     "output_type": "stream",
     "text": [
      "<class 'list'>\n"
     ]
    }
   ],
   "source": [
    "print(type(h4_1))"
   ]
  },
  {
   "cell_type": "code",
   "execution_count": 49,
   "id": "2277b82d-d5dc-4c9f-8a5d-60fabb983bfe",
   "metadata": {},
   "outputs": [
    {
     "data": {
      "text/plain": [
       "['문자열은', '왼쪽부터', '번호를', '매길', '수', '있으며', '시작은', '0번부터', '입니다.']"
      ]
     },
     "execution_count": 49,
     "metadata": {},
     "output_type": "execute_result"
    }
   ],
   "source": [
    "h4.split()"
   ]
  },
  {
   "cell_type": "code",
   "execution_count": 51,
   "id": "108ea933-a168-427b-9d7b-6491c3addb0c",
   "metadata": {},
   "outputs": [
    {
     "name": "stdout",
     "output_type": "stream",
     "text": [
      "\"문자열은\", \"왼쪽부터\", \"번호를\", \"매길\", \"수\", \"있으며\", \"시작은\", \"0번부터\", \"입니다\"\n"
     ]
    },
    {
     "data": {
      "text/plain": [
       "str"
      ]
     },
     "execution_count": 51,
     "metadata": {},
     "output_type": "execute_result"
    }
   ],
   "source": [
    "h6 = '\"문자열은\", \"왼쪽부터\", \"번호를\", \"매길\", \"수\", \"있으며\", \"시작은\", \"0번부터\", \"입니다\"'\n",
    "print(h6)\n",
    "type(h6)"
   ]
  },
  {
   "cell_type": "code",
   "execution_count": 56,
   "id": "10c8671c-5cb8-4ecf-9d1f-8ea940d85517",
   "metadata": {},
   "outputs": [
    {
     "data": {
      "text/plain": [
       "['\"문자열은\"',\n",
       " '\"왼쪽부터\"',\n",
       " '\"번호를\"',\n",
       " '\"매길\"',\n",
       " '\"수\"',\n",
       " '\"있으며\"',\n",
       " '\"시작은\"',\n",
       " '\"0번부터\"',\n",
       " '\"입니다\"']"
      ]
     },
     "execution_count": 56,
     "metadata": {},
     "output_type": "execute_result"
    }
   ],
   "source": [
    "h6.split(\", \")"
   ]
  },
  {
   "cell_type": "code",
   "execution_count": 58,
   "id": "a76dff97-427d-4ffd-9bd3-fde366afd64a",
   "metadata": {},
   "outputs": [],
   "source": [
    "h7 = \"사과, 배, 포도, 파인애플, 망고, 오렌지\""
   ]
  },
  {
   "cell_type": "code",
   "execution_count": 62,
   "id": "0391858e-f352-4618-a6b5-bd60df01d12a",
   "metadata": {},
   "outputs": [
    {
     "data": {
      "text/plain": [
       "['사과', '배', '포도', '파인애플', '망고', '오렌지']"
      ]
     },
     "execution_count": 62,
     "metadata": {},
     "output_type": "execute_result"
    }
   ],
   "source": [
    "# h7를 split을 이용해 list로 변환\n",
    "h7_1 = h7.split(\", \")\n",
    "h7_1"
   ]
  },
  {
   "cell_type": "markdown",
   "id": "0260c1bb-e341-4f41-98ad-397d87f17b0b",
   "metadata": {},
   "source": [
    "3. 리스트를 1개의 문자열로 합치기<br>\n",
    "    합칠 기준 .join(list)"
   ]
  },
  {
   "cell_type": "code",
   "execution_count": 65,
   "id": "54806f94-bcb0-4607-b1d8-8146eb75391b",
   "metadata": {},
   "outputs": [
    {
     "data": {
      "text/plain": [
       "'사과,배,포도,파인애플,망고,오렌지'"
      ]
     },
     "execution_count": 65,
     "metadata": {},
     "output_type": "execute_result"
    }
   ],
   "source": [
    "h7 = \",\".join(h7_1)\n",
    "h7"
   ]
  },
  {
   "cell_type": "code",
   "execution_count": 66,
   "id": "5d11ad70-fbfb-4606-a148-2820f0aebcda",
   "metadata": {},
   "outputs": [
    {
     "data": {
      "text/plain": [
       "'사과, 배, 포도, 파인애플, 망고, 오렌지'"
      ]
     },
     "execution_count": 66,
     "metadata": {},
     "output_type": "execute_result"
    }
   ],
   "source": [
    "h8 = \", \".join(h7_1)\n",
    "h8"
   ]
  },
  {
   "cell_type": "code",
   "execution_count": 67,
   "id": "096c50bf-0e4c-42d0-a435-0a9347260189",
   "metadata": {},
   "outputs": [
    {
     "data": {
      "text/plain": [
       "'사과 vs 배 vs 포도 vs 파인애플 vs 망고 vs 오렌지'"
      ]
     },
     "execution_count": 67,
     "metadata": {},
     "output_type": "execute_result"
    }
   ],
   "source": [
    "h8 = \" vs \".join(h7_1)\n",
    "h8"
   ]
  },
  {
   "cell_type": "code",
   "execution_count": 70,
   "id": "7fd77cf1-ffa4-4e75-a071-d747da56f890",
   "metadata": {},
   "outputs": [],
   "source": [
    "h9 = [\"iron man\", \"spider-man\", \"black widow\", \"hulk\"]"
   ]
  },
  {
   "cell_type": "code",
   "execution_count": 72,
   "id": "a66f2644-4203-4b08-a808-e1a6623f9956",
   "metadata": {},
   "outputs": [
    {
     "data": {
      "text/plain": [
       "'iron man vs spider-man vs black widow vs hulk'"
      ]
     },
     "execution_count": 72,
     "metadata": {},
     "output_type": "execute_result"
    }
   ],
   "source": [
    "h9_1 = \" vs \".join(h9)\n",
    "h9_1"
   ]
  },
  {
   "cell_type": "markdown",
   "id": "b776a36f-55c8-4557-9f63-345e06dd1b9f",
   "metadata": {},
   "source": [
    "4. 소문자를 대문자로, 대문자를 소문자로 바꾸는 함수\n",
    "** .upper(), .lower()"
   ]
  },
  {
   "cell_type": "code",
   "execution_count": 73,
   "id": "3b26e348-c62a-4e84-a0be-87dc0984a631",
   "metadata": {},
   "outputs": [
    {
     "data": {
      "text/plain": [
       "'IRON MAN VS SPIDER-MAN VS BLACK WIDOW VS HULK'"
      ]
     },
     "execution_count": 73,
     "metadata": {},
     "output_type": "execute_result"
    }
   ],
   "source": [
    "h10 = h9_1.upper()\n",
    "h10"
   ]
  },
  {
   "cell_type": "code",
   "execution_count": 75,
   "id": "07e9ad2b-0dad-45d6-b114-f27898a763b9",
   "metadata": {},
   "outputs": [
    {
     "data": {
      "text/plain": [
       "'iron man vs spider-man vs black widow vs hulk'"
      ]
     },
     "execution_count": 75,
     "metadata": {},
     "output_type": "execute_result"
    }
   ],
   "source": [
    "h10_1 = h10.lower()\n",
    "h10_1"
   ]
  },
  {
   "cell_type": "markdown",
   "id": "9cd37269-be4c-4213-a72d-eb4a39f9fb04",
   "metadata": {},
   "source": [
    "5. 왼쪽, 오른쪽, 양쪽 공백 / 특정 문자 삭제하기\n",
    "* .lstrip() : 왼쪽\n",
    "* .rstrip() : 오른쪽\n",
    "* .strip() : 양쪽"
   ]
  },
  {
   "cell_type": "code",
   "execution_count": 85,
   "id": "fcd86e18-3102-4399-acc9-4e1f42662252",
   "metadata": {},
   "outputs": [
    {
     "data": {
      "text/plain": [
       "'    공백이 있는 문자열    '"
      ]
     },
     "execution_count": 85,
     "metadata": {},
     "output_type": "execute_result"
    }
   ],
   "source": [
    "h11 = \"    공백이 있는 문자열    \"\n",
    "h11"
   ]
  },
  {
   "cell_type": "code",
   "execution_count": 86,
   "id": "27162648-794c-40db-b757-3d392a55e016",
   "metadata": {},
   "outputs": [
    {
     "data": {
      "text/plain": [
       "'공백이 있는 문자열    '"
      ]
     },
     "execution_count": 86,
     "metadata": {},
     "output_type": "execute_result"
    }
   ],
   "source": [
    "h11.lstrip()"
   ]
  },
  {
   "cell_type": "code",
   "execution_count": 87,
   "id": "949264ad-4d94-42e0-aef2-ae0d894497ad",
   "metadata": {},
   "outputs": [
    {
     "data": {
      "text/plain": [
       "'    공백이 있는 문자열    '"
      ]
     },
     "execution_count": 87,
     "metadata": {},
     "output_type": "execute_result"
    }
   ],
   "source": [
    "h11"
   ]
  },
  {
   "cell_type": "code",
   "execution_count": 89,
   "id": "760baaf5-c433-45c0-a512-daab2e829e07",
   "metadata": {},
   "outputs": [
    {
     "data": {
      "text/plain": [
       "'    공백이 있는 문자열'"
      ]
     },
     "execution_count": 89,
     "metadata": {},
     "output_type": "execute_result"
    }
   ],
   "source": [
    "h11.rstrip()"
   ]
  },
  {
   "cell_type": "code",
   "execution_count": 91,
   "id": "749d0a05-5756-4418-aef5-e80942a45d87",
   "metadata": {},
   "outputs": [
    {
     "data": {
      "text/plain": [
       "'공백이 있는 문자열'"
      ]
     },
     "execution_count": 91,
     "metadata": {},
     "output_type": "execute_result"
    }
   ],
   "source": [
    "h11.strip()"
   ]
  },
  {
   "cell_type": "code",
   "execution_count": 92,
   "id": "8f15aa7c-33cd-449b-914b-37b60da5bc4f",
   "metadata": {},
   "outputs": [
    {
     "data": {
      "text/plain": [
       "' ... , 공백과 특수문자가 같이 있는 문자열 !! ^^ ....   '"
      ]
     },
     "execution_count": 92,
     "metadata": {},
     "output_type": "execute_result"
    }
   ],
   "source": [
    "h12 = \" ... , 공백과 특수문자가 같이 있는 문자열 !! ^^ ....   \"\n",
    "h12"
   ]
  },
  {
   "cell_type": "code",
   "execution_count": 93,
   "id": "c26cfc1e-d3fb-42bd-bb51-fd1f3798ea04",
   "metadata": {},
   "outputs": [
    {
     "data": {
      "text/plain": [
       "'... , 공백과 특수문자가 같이 있는 문자열 !! ^^ ....'"
      ]
     },
     "execution_count": 93,
     "metadata": {},
     "output_type": "execute_result"
    }
   ],
   "source": [
    "h12.strip()"
   ]
  },
  {
   "cell_type": "code",
   "execution_count": 94,
   "id": "3cfe33f5-d9a5-4a56-8b1a-536ac3b713a3",
   "metadata": {},
   "outputs": [
    {
     "data": {
      "text/plain": [
       "'... , 공백과 특수문자가 같이 있는 문자열 !! ^^ ....   '"
      ]
     },
     "execution_count": 94,
     "metadata": {},
     "output_type": "execute_result"
    }
   ],
   "source": [
    "h12.lstrip()"
   ]
  },
  {
   "cell_type": "code",
   "execution_count": 95,
   "id": "b53c8291-69a6-47a2-9614-fd8013d17e2d",
   "metadata": {},
   "outputs": [
    {
     "data": {
      "text/plain": [
       "' ... , 공백과 특수문자가 같이 있는 문자열 !! ^^ ....'"
      ]
     },
     "execution_count": 95,
     "metadata": {},
     "output_type": "execute_result"
    }
   ],
   "source": [
    "h12.rstrip()"
   ]
  },
  {
   "cell_type": "code",
   "execution_count": 102,
   "id": "6f0acce0-6a6a-4226-bf25-0369c12dcba5",
   "metadata": {},
   "outputs": [
    {
     "data": {
      "text/plain": [
       "'공백과 특수문자가 같이 있는 문자열'"
      ]
     },
     "execution_count": 102,
     "metadata": {},
     "output_type": "execute_result"
    }
   ],
   "source": [
    "h12.strip(\" .,!^\") "
   ]
  },
  {
   "cell_type": "code",
   "execution_count": 101,
   "id": "06420804-e18e-419d-9a0e-3a725f5e44bd",
   "metadata": {},
   "outputs": [
    {
     "data": {
      "text/plain": [
       "'공백과 특수문자가 같이 있는 문자열 !! ^^ ....   '"
      ]
     },
     "execution_count": 101,
     "metadata": {},
     "output_type": "execute_result"
    }
   ],
   "source": [
    "h12.lstrip(\"., \") # . , 없애기 뒤에 한 칸 공백임"
   ]
  },
  {
   "cell_type": "code",
   "execution_count": 100,
   "id": "13a3197d-2e07-4751-9871-543d46ca4a41",
   "metadata": {},
   "outputs": [
    {
     "data": {
      "text/plain": [
       "' ... , 공백과 특수문자가 같이 있는 문자열'"
      ]
     },
     "execution_count": 100,
     "metadata": {},
     "output_type": "execute_result"
    }
   ],
   "source": [
    "h12.rstrip(\" .^!\")"
   ]
  },
  {
   "cell_type": "code",
   "execution_count": 103,
   "id": "29b093db-b6f4-4990-9ff6-9368241fef18",
   "metadata": {},
   "outputs": [
    {
     "name": "stdout",
     "output_type": "stream",
     "text": [
      " ... , 공백과 특수    문자\n",
      "^^가 같이 있는 \t문자열 !! ^^ ....   \n"
     ]
    }
   ],
   "source": [
    "h13 = \" ... , 공백과 특수    문자\\n^^가 같이 있는 \\t문자열 !! ^^ ....   \"\n",
    "print(h13)"
   ]
  },
  {
   "cell_type": "markdown",
   "id": "459bd0ec-745a-4860-b9de-70f3cbb129ce",
   "metadata": {},
   "source": [
    "6. 메서드 체이닝(method(함수) chaining)으로 여러함수 동시에 사용하기"
   ]
  },
  {
   "cell_type": "code",
   "execution_count": 117,
   "id": "ae6bdb70-8e3a-4314-9dee-6dcc25cff2da",
   "metadata": {},
   "outputs": [
    {
     "data": {
      "text/plain": [
       "'공백과 특수    문자\\n^^가 같이 있는 \\t문자열'"
      ]
     },
     "execution_count": 117,
     "metadata": {},
     "output_type": "execute_result"
    }
   ],
   "source": [
    "h13.strip(\" .,^!\") # strip은 문자 밖에 있는것만 가능함"
   ]
  },
  {
   "cell_type": "code",
   "execution_count": 118,
   "id": "bd272f55-72db-4c76-96f1-9d848ae3c715",
   "metadata": {},
   "outputs": [
    {
     "data": {
      "text/plain": [
       "'공백과 특수    문자\\n가 같이 있는 \\t문자열'"
      ]
     },
     "execution_count": 118,
     "metadata": {},
     "output_type": "execute_result"
    }
   ],
   "source": [
    "h13.strip(\" .,^!\").replace(\"^\",\"\").replace(\"\\n\",\"\").replace(\" \",\"\").replace(\"\\t\",\"\")"
   ]
  },
  {
   "cell_type": "code",
   "execution_count": null,
   "id": "f5642a4b-12c3-4bed-be30-d50016a4df2f",
   "metadata": {},
   "outputs": [],
   "source": []
  },
  {
   "cell_type": "code",
   "execution_count": null,
   "id": "966f5c04-3613-467a-9f0c-ad8117052080",
   "metadata": {},
   "outputs": [],
   "source": []
  },
  {
   "cell_type": "code",
   "execution_count": null,
   "id": "234b6dfa-a443-40d2-a9bd-edacf30dcb12",
   "metadata": {},
   "outputs": [],
   "source": []
  },
  {
   "cell_type": "code",
   "execution_count": null,
   "id": "cddc1665-149b-4c17-b2a5-7c05d2fb0415",
   "metadata": {},
   "outputs": [],
   "source": []
  },
  {
   "cell_type": "code",
   "execution_count": null,
   "id": "b87aefaf-4127-4709-875a-d40e9c8113f3",
   "metadata": {},
   "outputs": [],
   "source": []
  },
  {
   "cell_type": "code",
   "execution_count": null,
   "id": "cc1a3ab6-149d-471e-b156-8e6932311b0a",
   "metadata": {},
   "outputs": [],
   "source": []
  },
  {
   "cell_type": "code",
   "execution_count": null,
   "id": "9916399b-42fd-4683-b4c2-906041171ef9",
   "metadata": {},
   "outputs": [],
   "source": []
  },
  {
   "cell_type": "code",
   "execution_count": null,
   "id": "9f83b543-6de9-4e8d-a3aa-5a4ebca08623",
   "metadata": {},
   "outputs": [],
   "source": []
  },
  {
   "cell_type": "code",
   "execution_count": null,
   "id": "a76fa30f-bf82-4025-a015-aac955db520e",
   "metadata": {},
   "outputs": [],
   "source": []
  },
  {
   "cell_type": "code",
   "execution_count": null,
   "id": "9ee1c1aa-d8ec-4417-90a8-e5577dbaa70f",
   "metadata": {},
   "outputs": [],
   "source": []
  },
  {
   "cell_type": "code",
   "execution_count": null,
   "id": "3a81fb49-f776-49bc-8748-93e6ec0e1578",
   "metadata": {},
   "outputs": [],
   "source": []
  },
  {
   "cell_type": "code",
   "execution_count": null,
   "id": "77e25463-5a32-450f-b944-23b5c3446ec4",
   "metadata": {},
   "outputs": [],
   "source": []
  },
  {
   "cell_type": "code",
   "execution_count": null,
   "id": "650b7941-7be7-4c78-9ac9-58e5c52ecf36",
   "metadata": {},
   "outputs": [],
   "source": []
  },
  {
   "cell_type": "code",
   "execution_count": null,
   "id": "ef1fdc3b-78b9-45de-b116-3be9413939ca",
   "metadata": {},
   "outputs": [],
   "source": []
  }
 ],
 "metadata": {
  "kernelspec": {
   "display_name": "Python 3 (ipykernel)",
   "language": "python",
   "name": "python3"
  },
  "language_info": {
   "codemirror_mode": {
    "name": "ipython",
    "version": 3
   },
   "file_extension": ".py",
   "mimetype": "text/x-python",
   "name": "python",
   "nbconvert_exporter": "python",
   "pygments_lexer": "ipython3",
   "version": "3.10.14"
  }
 },
 "nbformat": 4,
 "nbformat_minor": 5
}
