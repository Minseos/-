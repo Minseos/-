{
 "cells": [
  {
   "cell_type": "markdown",
   "id": "d158580c-8810-4fad-a93f-bab9d661e8ec",
   "metadata": {},
   "source": [
    "### 3.연산자의 종류와 활용\n"
   ]
  },
  {
   "cell_type": "markdown",
   "id": "73ad92d3-592e-4c36-b9e4-ca2e4b155ef4",
   "metadata": {},
   "source": [
    "## 1)연산자의 종류\n",
    "* 산술연산자 : +, -, *, /, %, //, **\n",
    "* 할당연산자 : =, +=, -=, *=, /=, %=\n",
    "* 비교연산자 : ==, !=, >, <, >=, <=\n",
    "* 논리연산자 : and, or, not\n",
    "* 식별연산자 : is, is not\n",
    "* 멤버연산자 : in, not in\n",
    "* 산술연산자 : +, -, \\*, /, %, //(몫), **(제곱)"
   ]
  },
  {
   "cell_type": "code",
   "execution_count": 2,
   "id": "4c210e90-697b-4b17-b371-bd67d7766a50",
   "metadata": {},
   "outputs": [
    {
     "data": {
      "text/plain": [
       "2"
      ]
     },
     "execution_count": 2,
     "metadata": {},
     "output_type": "execute_result"
    }
   ],
   "source": [
    "1+1"
   ]
  },
  {
   "cell_type": "code",
   "execution_count": 4,
   "id": "be6aa880-e099-4db4-bbb9-75da50fed6c2",
   "metadata": {},
   "outputs": [
    {
     "data": {
      "text/plain": [
       "2"
      ]
     },
     "execution_count": 4,
     "metadata": {},
     "output_type": "execute_result"
    }
   ],
   "source": [
    "5-3"
   ]
  },
  {
   "cell_type": "code",
   "execution_count": 6,
   "id": "62b11577-9c50-4fbc-a79f-e556b1ffd03a",
   "metadata": {},
   "outputs": [
    {
     "data": {
      "text/plain": [
       "199.33333333333334"
      ]
     },
     "execution_count": 6,
     "metadata": {},
     "output_type": "execute_result"
    }
   ],
   "source": [
    "598/3"
   ]
  },
  {
   "cell_type": "code",
   "execution_count": 10,
   "id": "70df93cb-ce12-468f-b69a-673395a85d29",
   "metadata": {},
   "outputs": [
    {
     "data": {
      "text/plain": [
       "2.0"
      ]
     },
     "execution_count": 10,
     "metadata": {},
     "output_type": "execute_result"
    }
   ],
   "source": [
    "# 정수 / 정수 = 실수\n",
    "4/2"
   ]
  },
  {
   "cell_type": "code",
   "execution_count": 13,
   "id": "eff22bdf-1944-407f-b964-6efe8d759801",
   "metadata": {},
   "outputs": [
    {
     "name": "stdout",
     "output_type": "stream",
     "text": [
      "<class 'int'> 4\n",
      "<class 'int'> 2\n",
      "<class 'float'> 2.0\n"
     ]
    }
   ],
   "source": [
    "a = 4\n",
    "b = 2\n",
    "c = a/b\n",
    "print(type(a), a)\n",
    "print(type(b), b)\n",
    "print(type(c), c)"
   ]
  },
  {
   "cell_type": "code",
   "execution_count": 16,
   "id": "0d13138f-e889-4b3d-b8fe-3c5d738375d2",
   "metadata": {},
   "outputs": [
    {
     "data": {
      "text/plain": [
       "1"
      ]
     },
     "execution_count": 16,
     "metadata": {},
     "output_type": "execute_result"
    }
   ],
   "source": [
    "5%2"
   ]
  },
  {
   "cell_type": "code",
   "execution_count": 18,
   "id": "114a0c85-9cd2-4812-bfe0-2a9536e41624",
   "metadata": {},
   "outputs": [
    {
     "data": {
      "text/plain": [
       "3"
      ]
     },
     "execution_count": 18,
     "metadata": {},
     "output_type": "execute_result"
    }
   ],
   "source": [
    " 6//2"
   ]
  },
  {
   "cell_type": "code",
   "execution_count": 20,
   "id": "53d2cb12-6542-4be7-92af-cb9d958029f6",
   "metadata": {},
   "outputs": [
    {
     "data": {
      "text/plain": [
       "2"
      ]
     },
     "execution_count": 20,
     "metadata": {},
     "output_type": "execute_result"
    }
   ],
   "source": [
    "5//2"
   ]
  },
  {
   "cell_type": "code",
   "execution_count": 21,
   "id": "44a722a4-eabf-4370-981f-36c1a9113341",
   "metadata": {},
   "outputs": [
    {
     "data": {
      "text/plain": [
       "9"
      ]
     },
     "execution_count": 21,
     "metadata": {},
     "output_type": "execute_result"
    }
   ],
   "source": [
    "3 ** 2"
   ]
  },
  {
   "cell_type": "markdown",
   "id": "6cb893be-e9ca-466d-af4b-9193540a10ae",
   "metadata": {},
   "source": [
    "* 괄호를 사용해서 연산 우선순위 지정하기"
   ]
  },
  {
   "cell_type": "code",
   "execution_count": 23,
   "id": "a4deeb6d-97c5-4f5b-90b5-5f9a3ffcd076",
   "metadata": {},
   "outputs": [
    {
     "data": {
      "text/plain": [
       "23"
      ]
     },
     "execution_count": 23,
     "metadata": {},
     "output_type": "execute_result"
    }
   ],
   "source": [
    "3 + 4 * 5"
   ]
  },
  {
   "cell_type": "code",
   "execution_count": 24,
   "id": "59aab3d9-3696-4c04-a057-939e08bafee3",
   "metadata": {},
   "outputs": [
    {
     "data": {
      "text/plain": [
       "35"
      ]
     },
     "execution_count": 24,
     "metadata": {},
     "output_type": "execute_result"
    }
   ],
   "source": [
    "(3 + 4 ) * 5"
   ]
  },
  {
   "cell_type": "markdown",
   "id": "93c526df-0d1a-412a-9d6b-7f3675ec30fe",
   "metadata": {},
   "source": [
    "### 3의 4제곱에서 100을 뺀 값의 3제곱을 5로 나눈 몫에 1을 더한 값을 구하시오"
   ]
  },
  {
   "cell_type": "code",
   "execution_count": 25,
   "id": "46658f3a-ff66-496f-ab1f-4543fdf8a60c",
   "metadata": {},
   "outputs": [
    {
     "data": {
      "text/plain": [
       "-1371"
      ]
     },
     "execution_count": 25,
     "metadata": {},
     "output_type": "execute_result"
    }
   ],
   "source": [
    "((3**4) - 100)**3 // 5 + 1"
   ]
  },
  {
   "cell_type": "markdown",
   "id": "57258576-ebd3-471a-9b36-64e0c69b7a91",
   "metadata": {},
   "source": [
    "초를 입력하면 '몇 분 몇 초'로 환산해주는 코드를 다음과 같이 출력하도록 작성하세요 <br>\n",
    "** input(\"초를 입력하세요 : \")\n",
    "\n",
    "초를 입력하세요 : 1234 <br>\n",
    "1234초(sec)는 20분(min) 34초(sec)입니다."
   ]
  },
  {
   "cell_type": "code",
   "execution_count": 47,
   "id": "4415bc8b-a204-4974-a170-28878711850f",
   "metadata": {},
   "outputs": [
    {
     "name": "stdin",
     "output_type": "stream",
     "text": [
      "초를 입력하세요 :  1234\n"
     ]
    },
    {
     "name": "stdout",
     "output_type": "stream",
     "text": [
      "1234 초는 20 분(min) 34 초(sec) 입니다.\n"
     ]
    }
   ],
   "source": [
    "sec = int(input(\"초를 입력하세요 : \"))\n",
    "minutes = 0\n",
    "second = 0\n",
    "if sec >= 60:\n",
    "   minutes = sec//60\n",
    "   second = sec % 60 \n",
    "else:\n",
    "    second = sec\n",
    "    \n",
    "\n",
    "print(sec,\"초는\", minutes,\"분(min)\",second,\"초(sec) 입니다.\") "
   ]
  },
  {
   "cell_type": "markdown",
   "id": "f17d9514-269a-4278-9b4e-a41e6136df40",
   "metadata": {},
   "source": [
    "할당 연산자"
   ]
  },
  {
   "cell_type": "markdown",
   "id": "a5dd3cac-84c1-4173-9b08-df072e0658c9",
   "metadata": {},
   "source": [
    "** += 왼쪽 변수 값에 오른쪽 값을 더해서 왼쪽 변수에 할당"
   ]
  },
  {
   "cell_type": "markdown",
   "id": "1bef8c15-8b31-4d64-abc4-70ebc3d75d4a",
   "metadata": {},
   "source": []
  },
  {
   "cell_type": "code",
   "execution_count": 49,
   "id": "16da5389-4b1c-4cf9-829a-fa1be3740e77",
   "metadata": {},
   "outputs": [
    {
     "data": {
      "text/plain": [
       "2"
      ]
     },
     "execution_count": 49,
     "metadata": {},
     "output_type": "execute_result"
    }
   ],
   "source": [
    "a = 2\n",
    "a"
   ]
  },
  {
   "cell_type": "code",
   "execution_count": 51,
   "id": "9c458a50-d35c-4993-8739-8c913d3aaa17",
   "metadata": {},
   "outputs": [
    {
     "data": {
      "text/plain": [
       "4"
      ]
     },
     "execution_count": 51,
     "metadata": {},
     "output_type": "execute_result"
    }
   ],
   "source": [
    "a += 1\n",
    "a"
   ]
  },
  {
   "cell_type": "code",
   "execution_count": 52,
   "id": "7f8ee224-5b02-47bb-ad46-3735ab428782",
   "metadata": {},
   "outputs": [
    {
     "data": {
      "text/plain": [
       "0"
      ]
     },
     "execution_count": 52,
     "metadata": {},
     "output_type": "execute_result"
    }
   ],
   "source": [
    "a %= 2\n",
    "a"
   ]
  },
  {
   "cell_type": "code",
   "execution_count": 53,
   "id": "190c33cb-c009-466f-91ac-5961b7e5f7cb",
   "metadata": {},
   "outputs": [
    {
     "data": {
      "text/plain": [
       "2"
      ]
     },
     "execution_count": 53,
     "metadata": {},
     "output_type": "execute_result"
    }
   ],
   "source": [
    "a += 4\n",
    "a //= 2\n",
    "a"
   ]
  },
  {
   "cell_type": "markdown",
   "id": "0fec0aef-e1d0-478b-815c-708c3e0fa6d4",
   "metadata": {},
   "source": [
    "** 비교연산자 ==, != ,-=, <, >, <=, >="
   ]
  },
  {
   "cell_type": "code",
   "execution_count": 56,
   "id": "0adfd458-1b26-4292-9527-ad0bb2a4ed78",
   "metadata": {},
   "outputs": [],
   "source": [
    "a = 3\n",
    "b = 3.0\n",
    "c = 5\n",
    "d = \"Python\"\n",
    "e = \"python\"\n",
    "f = True\n",
    "g = False"
   ]
  },
  {
   "cell_type": "markdown",
   "id": "f1c5b1bd-4316-44cc-8d2e-45d42740b047",
   "metadata": {},
   "source": [
    "== 같으면 True, 다르면 False"
   ]
  },
  {
   "cell_type": "code",
   "execution_count": 57,
   "id": "fcc4c773-3a69-4050-b831-efc97e03234c",
   "metadata": {},
   "outputs": [
    {
     "data": {
      "text/plain": [
       "True"
      ]
     },
     "execution_count": 57,
     "metadata": {},
     "output_type": "execute_result"
    }
   ],
   "source": [
    "a == b"
   ]
  },
  {
   "cell_type": "code",
   "execution_count": 58,
   "id": "bc57cbf2-171b-46f8-913f-b4f3d46684db",
   "metadata": {},
   "outputs": [
    {
     "data": {
      "text/plain": [
       "False"
      ]
     },
     "execution_count": 58,
     "metadata": {},
     "output_type": "execute_result"
    }
   ],
   "source": [
    "a == c"
   ]
  },
  {
   "cell_type": "code",
   "execution_count": 59,
   "id": "7408eec1-5514-46d4-9361-09b822162dff",
   "metadata": {},
   "outputs": [
    {
     "data": {
      "text/plain": [
       "False"
      ]
     },
     "execution_count": 59,
     "metadata": {},
     "output_type": "execute_result"
    }
   ],
   "source": [
    "d == e"
   ]
  },
  {
   "cell_type": "code",
   "execution_count": 60,
   "id": "80f97983-e62f-4fbd-b299-0c6acd9275e0",
   "metadata": {},
   "outputs": [
    {
     "data": {
      "text/plain": [
       "False"
      ]
     },
     "execution_count": 60,
     "metadata": {},
     "output_type": "execute_result"
    }
   ],
   "source": [
    "f == g"
   ]
  },
  {
   "cell_type": "markdown",
   "id": "14bbf92b-de6a-4f0d-8626-5467c8e988eb",
   "metadata": {},
   "source": [
    "!= 다르면 True, 같으면 Fasle"
   ]
  },
  {
   "cell_type": "code",
   "execution_count": 61,
   "id": "90e79969-d6bc-419d-9d84-774b52dc7061",
   "metadata": {},
   "outputs": [
    {
     "data": {
      "text/plain": [
       "False"
      ]
     },
     "execution_count": 61,
     "metadata": {},
     "output_type": "execute_result"
    }
   ],
   "source": [
    "a != b "
   ]
  },
  {
   "cell_type": "code",
   "execution_count": 62,
   "id": "c948ad28-3836-4933-b6af-da82a1fa1fa5",
   "metadata": {},
   "outputs": [
    {
     "data": {
      "text/plain": [
       "True"
      ]
     },
     "execution_count": 62,
     "metadata": {},
     "output_type": "execute_result"
    }
   ],
   "source": [
    "a != c"
   ]
  },
  {
   "cell_type": "code",
   "execution_count": 63,
   "id": "8a52b0b1-b5b7-410c-9312-44a8398deae2",
   "metadata": {},
   "outputs": [
    {
     "data": {
      "text/plain": [
       "True"
      ]
     },
     "execution_count": 63,
     "metadata": {},
     "output_type": "execute_result"
    }
   ],
   "source": [
    "f != g"
   ]
  },
  {
   "cell_type": "markdown",
   "id": "70a704dd-664f-411f-bf35-44ada212dd2a",
   "metadata": {},
   "source": [
    "a > b : a가 b를 초과하냐? <br>\n",
    "a < b : a가 b 미만이냐? <br>\n",
    "a >= b : a가 b이상이냐? <br>\n",
    "a <= b : a가 b 이하냐"
   ]
  },
  {
   "cell_type": "code",
   "execution_count": 66,
   "id": "a5fd9694-1056-4fbe-a5dc-58bb55d1bcf6",
   "metadata": {},
   "outputs": [
    {
     "name": "stdout",
     "output_type": "stream",
     "text": [
      "3\n",
      "3.0\n"
     ]
    },
    {
     "data": {
      "text/plain": [
       "False"
      ]
     },
     "execution_count": 66,
     "metadata": {},
     "output_type": "execute_result"
    }
   ],
   "source": [
    "print(a)\n",
    "print(b)\n",
    "a > b"
   ]
  },
  {
   "cell_type": "code",
   "execution_count": 67,
   "id": "10cc6a5e-1a51-4098-ade9-4433208e7721",
   "metadata": {},
   "outputs": [
    {
     "name": "stdout",
     "output_type": "stream",
     "text": [
      "3\n",
      "3.0\n"
     ]
    },
    {
     "data": {
      "text/plain": [
       "True"
      ]
     },
     "execution_count": 67,
     "metadata": {},
     "output_type": "execute_result"
    }
   ],
   "source": [
    "print(a)\n",
    "print(b)\n",
    "a >= b"
   ]
  },
  {
   "cell_type": "code",
   "execution_count": 68,
   "id": "00b3681a-ed56-4b84-ba14-bc4b6b458274",
   "metadata": {},
   "outputs": [
    {
     "name": "stdout",
     "output_type": "stream",
     "text": [
      "3\n",
      "3.0\n"
     ]
    },
    {
     "data": {
      "text/plain": [
       "True"
      ]
     },
     "execution_count": 68,
     "metadata": {},
     "output_type": "execute_result"
    }
   ],
   "source": [
    "print(a)\n",
    "print(b)\n",
    "a <= b"
   ]
  },
  {
   "cell_type": "code",
   "execution_count": 71,
   "id": "3dc532b2-a056-4d90-85ad-ec7e3c682c97",
   "metadata": {},
   "outputs": [
    {
     "data": {
      "text/plain": [
       "True"
      ]
     },
     "execution_count": 71,
     "metadata": {},
     "output_type": "execute_result"
    }
   ],
   "source": [
    "True and True"
   ]
  },
  {
   "cell_type": "code",
   "execution_count": 73,
   "id": "adda0753-d803-4ae1-85b3-85f076234c58",
   "metadata": {},
   "outputs": [
    {
     "data": {
      "text/plain": [
       "False"
      ]
     },
     "execution_count": 73,
     "metadata": {},
     "output_type": "execute_result"
    }
   ],
   "source": [
    "False and True"
   ]
  },
  {
   "cell_type": "code",
   "execution_count": 74,
   "id": "644f46ba-f0be-4caa-a1f6-ba67a01b7531",
   "metadata": {},
   "outputs": [
    {
     "data": {
      "text/plain": [
       "False"
      ]
     },
     "execution_count": 74,
     "metadata": {},
     "output_type": "execute_result"
    }
   ],
   "source": [
    "False and False"
   ]
  },
  {
   "cell_type": "markdown",
   "id": "4a2238c7-2337-4018-a0b4-3701c59564bc",
   "metadata": {},
   "source": [
    "or 두 값 중 하나라도 참이면 참, 두 값 모두가 거짓이어야 거짓"
   ]
  },
  {
   "cell_type": "code",
   "execution_count": 77,
   "id": "58cc2d01-a628-4d3d-87ff-2646590e3aed",
   "metadata": {},
   "outputs": [
    {
     "data": {
      "text/plain": [
       "True"
      ]
     },
     "execution_count": 77,
     "metadata": {},
     "output_type": "execute_result"
    }
   ],
   "source": [
    "True or False"
   ]
  },
  {
   "cell_type": "code",
   "execution_count": 76,
   "id": "33e96935-6638-4bfe-9e9a-81aabc884fb2",
   "metadata": {},
   "outputs": [
    {
     "data": {
      "text/plain": [
       "False"
      ]
     },
     "execution_count": 76,
     "metadata": {},
     "output_type": "execute_result"
    }
   ],
   "source": [
    "False or False"
   ]
  },
  {
   "cell_type": "markdown",
   "id": "db9c1386-1bbb-49e9-a744-14a32f2ddde9",
   "metadata": {},
   "source": [
    "not 값을 반대로 뒤집음. True = False, False = True"
   ]
  },
  {
   "cell_type": "code",
   "execution_count": 78,
   "id": "ac157172-15f0-4170-971c-ed473e4d6fc1",
   "metadata": {},
   "outputs": [
    {
     "data": {
      "text/plain": [
       "False"
      ]
     },
     "execution_count": 78,
     "metadata": {},
     "output_type": "execute_result"
    }
   ],
   "source": [
    "not True"
   ]
  },
  {
   "cell_type": "code",
   "execution_count": 79,
   "id": "7cab7304-cd33-4863-b3dd-9fdf7c93e2ba",
   "metadata": {},
   "outputs": [
    {
     "data": {
      "text/plain": [
       "True"
      ]
     },
     "execution_count": 79,
     "metadata": {},
     "output_type": "execute_result"
    }
   ],
   "source": [
    "not False"
   ]
  },
  {
   "cell_type": "markdown",
   "id": "bd5a3a34-a1e8-40e4-ae6b-95786ad94300",
   "metadata": {},
   "source": [
    "and, or, not 논리연산자가 식 하나에 들어있으면 <br>\n",
    "not, and, or 순으로 판단"
   ]
  },
  {
   "cell_type": "code",
   "execution_count": 80,
   "id": "1df5d666-7540-4a18-b7d0-c9f821dcb8d7",
   "metadata": {},
   "outputs": [
    {
     "data": {
      "text/plain": [
       "True"
      ]
     },
     "execution_count": 80,
     "metadata": {},
     "output_type": "execute_result"
    }
   ],
   "source": [
    "not True and False or not False"
   ]
  },
  {
   "cell_type": "markdown",
   "id": "73cbd686-fc5e-49f5-b423-4d9eb07ad75c",
   "metadata": {},
   "source": [
    "위에 값이 True가 나오는 이유"
   ]
  },
  {
   "cell_type": "code",
   "execution_count": 81,
   "id": "737ce864-5d03-4737-9e3f-2d390abdad59",
   "metadata": {},
   "outputs": [
    {
     "data": {
      "text/plain": [
       "False"
      ]
     },
     "execution_count": 81,
     "metadata": {},
     "output_type": "execute_result"
    }
   ],
   "source": [
    "not True and False"
   ]
  },
  {
   "cell_type": "code",
   "execution_count": 82,
   "id": "c503d245-8d0e-4ff0-8479-325a2943b2f5",
   "metadata": {},
   "outputs": [
    {
     "data": {
      "text/plain": [
       "True"
      ]
     },
     "execution_count": 82,
     "metadata": {},
     "output_type": "execute_result"
    }
   ],
   "source": [
    "False or not False"
   ]
  },
  {
   "cell_type": "code",
   "execution_count": 85,
   "id": "5319627f-7304-478f-8606-a056aca611e7",
   "metadata": {},
   "outputs": [
    {
     "data": {
      "text/plain": [
       "True"
      ]
     },
     "execution_count": 85,
     "metadata": {},
     "output_type": "execute_result"
    }
   ],
   "source": [
    "10 == 10 and 10 != 5\n",
    "#True and True"
   ]
  },
  {
   "cell_type": "code",
   "execution_count": 86,
   "id": "801615c8-c4d6-4601-b02f-19e8ba5805f3",
   "metadata": {},
   "outputs": [
    {
     "data": {
      "text/plain": [
       "True"
      ]
     },
     "execution_count": 86,
     "metadata": {},
     "output_type": "execute_result"
    }
   ],
   "source": [
    "10 > 5 or 10 < 3 #True or False"
   ]
  },
  {
   "cell_type": "markdown",
   "id": "3aef76b7-8c0c-4909-af6f-a2aca5a345bc",
   "metadata": {},
   "source": [
    "식별연산자 : is, is not 객체(object)가 같은지 비교 <br>\n",
    "a is b : a객체와 b객체가 같은지 비교 같으면 True, 다르면 False <br>\n",
    "Javascript의 연산자와 동일"
   ]
  },
  {
   "cell_type": "code",
   "execution_count": 87,
   "id": "a92b34b7-a6bd-470e-800c-7524699e94b2",
   "metadata": {},
   "outputs": [
    {
     "name": "stdout",
     "output_type": "stream",
     "text": [
      "3\n",
      "3.0\n",
      "5\n"
     ]
    }
   ],
   "source": [
    "print(a)\n",
    "print(b)\n",
    "print(c)"
   ]
  },
  {
   "cell_type": "code",
   "execution_count": 95,
   "id": "82bccb68-29ae-4c06-81d1-dbae3d9565af",
   "metadata": {},
   "outputs": [
    {
     "name": "stdout",
     "output_type": "stream",
     "text": [
      "True\n",
      "False\n"
     ]
    }
   ],
   "source": [
    "print(a == b) # a는 정수 3, b는 실수 3.0이라 값이 같음\n",
    "print(a is b) # a는 정수 3, b는 실수 3.0이라 값은 같지만 데이터 타입이 달라서 False"
   ]
  },
  {
   "cell_type": "code",
   "execution_count": 89,
   "id": "cf33b339-3f57-4b90-bd29-c01f41277e61",
   "metadata": {},
   "outputs": [],
   "source": [
    "d = 3"
   ]
  },
  {
   "cell_type": "code",
   "execution_count": 94,
   "id": "2211a3bf-257c-4cca-9cbe-c92e8252f782",
   "metadata": {},
   "outputs": [
    {
     "name": "stdout",
     "output_type": "stream",
     "text": [
      "3\n",
      "3\n",
      "True\n",
      "True\n"
     ]
    }
   ],
   "source": [
    "print(a)\n",
    "print(d)\n",
    "print(a == d) # a는 정수 3, b도 정수 3이라 값이 같음\n",
    "print(a is d) # a는 정수 3, b도 정수 3이라 값도 같고 데이터 타입이 같아서 True"
   ]
  },
  {
   "cell_type": "code",
   "execution_count": null,
   "id": "26ec9fed-6122-4be2-a8d3-ca7236133a50",
   "metadata": {},
   "outputs": [],
   "source": [
    "print(a == b) # a는 정수 3, b는 실수 3.0이라 값이 같음\n",
    "print(a is not b) # a는 정수 3, b는 실수 3.0이라 값은 같지만 데이터 타입이 달라서 False"
   ]
  },
  {
   "cell_type": "code",
   "execution_count": null,
   "id": "8003b260-59c1-4f05-818a-9fa1a1412dcc",
   "metadata": {},
   "outputs": [],
   "source": []
  },
  {
   "cell_type": "code",
   "execution_count": null,
   "id": "e8524a28-350a-40b9-9138-2d081bc5c446",
   "metadata": {},
   "outputs": [],
   "source": []
  },
  {
   "cell_type": "code",
   "execution_count": null,
   "id": "f4c176fb-205f-438f-a25a-385a652e0522",
   "metadata": {},
   "outputs": [],
   "source": []
  },
  {
   "cell_type": "code",
   "execution_count": null,
   "id": "e25b41bf-f55e-47fc-ae2c-e15584ec6444",
   "metadata": {},
   "outputs": [],
   "source": []
  },
  {
   "cell_type": "code",
   "execution_count": null,
   "id": "03d35953-19a4-4bb5-ba80-b2533516012f",
   "metadata": {},
   "outputs": [],
   "source": []
  },
  {
   "cell_type": "code",
   "execution_count": null,
   "id": "2a14e3f8-b8c3-4fe6-83f0-6ed8c0e5ce24",
   "metadata": {},
   "outputs": [],
   "source": []
  },
  {
   "cell_type": "code",
   "execution_count": null,
   "id": "815793c3-00b4-40a0-8f9d-9ed5dc71aa37",
   "metadata": {},
   "outputs": [],
   "source": []
  },
  {
   "cell_type": "code",
   "execution_count": null,
   "id": "f3f15b2a-701f-4e22-9e68-bf31db1746e1",
   "metadata": {},
   "outputs": [],
   "source": []
  },
  {
   "cell_type": "code",
   "execution_count": null,
   "id": "210093ef-1714-447d-b33d-0ba89ea87fa4",
   "metadata": {},
   "outputs": [],
   "source": []
  },
  {
   "cell_type": "code",
   "execution_count": null,
   "id": "8afb5e17-5fa2-4108-9f6e-fd9d4f710636",
   "metadata": {},
   "outputs": [],
   "source": []
  },
  {
   "cell_type": "code",
   "execution_count": null,
   "id": "d7c8722e-4850-4f0f-91a5-dbad0196113b",
   "metadata": {},
   "outputs": [],
   "source": []
  },
  {
   "cell_type": "code",
   "execution_count": null,
   "id": "3f4852a6-560f-4406-a687-22beb37adf4a",
   "metadata": {},
   "outputs": [],
   "source": []
  },
  {
   "cell_type": "code",
   "execution_count": null,
   "id": "3dc07b26-0504-4c71-8436-1fe3531cfcd2",
   "metadata": {},
   "outputs": [],
   "source": []
  },
  {
   "cell_type": "code",
   "execution_count": null,
   "id": "c8d5acb6-38ea-4096-95c9-10e567e49b63",
   "metadata": {},
   "outputs": [],
   "source": []
  },
  {
   "cell_type": "code",
   "execution_count": null,
   "id": "d9400cfa-7386-4d85-9d64-92b9d0ed8738",
   "metadata": {},
   "outputs": [],
   "source": []
  },
  {
   "cell_type": "code",
   "execution_count": null,
   "id": "1ac709c0-0ccb-430c-b13d-cbee5d4bf4c7",
   "metadata": {},
   "outputs": [],
   "source": []
  },
  {
   "cell_type": "code",
   "execution_count": null,
   "id": "67763aac-37f2-48fc-8739-6227e458e58c",
   "metadata": {},
   "outputs": [],
   "source": []
  },
  {
   "cell_type": "code",
   "execution_count": null,
   "id": "e5b783e0-6aac-4bd1-8047-d7d730e91f76",
   "metadata": {},
   "outputs": [],
   "source": []
  },
  {
   "cell_type": "code",
   "execution_count": null,
   "id": "c529a963-236c-4281-a88a-b8dede0eace8",
   "metadata": {},
   "outputs": [],
   "source": []
  },
  {
   "cell_type": "code",
   "execution_count": null,
   "id": "8d588b38-afc1-406c-ba9e-e0bd170bfd24",
   "metadata": {},
   "outputs": [],
   "source": []
  }
 ],
 "metadata": {
  "kernelspec": {
   "display_name": "Python 3 (ipykernel)",
   "language": "python",
   "name": "python3"
  },
  "language_info": {
   "codemirror_mode": {
    "name": "ipython",
    "version": 3
   },
   "file_extension": ".py",
   "mimetype": "text/x-python",
   "name": "python",
   "nbconvert_exporter": "python",
   "pygments_lexer": "ipython3",
   "version": "3.10.14"
  }
 },
 "nbformat": 4,
 "nbformat_minor": 5
}
