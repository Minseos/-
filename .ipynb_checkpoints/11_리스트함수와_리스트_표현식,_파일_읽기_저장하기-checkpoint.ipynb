{
  "nbformat": 4,
  "nbformat_minor": 0,
  "metadata": {
    "colab": {
      "provenance": []
    },
    "kernelspec": {
      "name": "python3",
      "display_name": "Python 3"
    },
    "language_info": {
      "name": "python"
    }
  },
  "cells": [
    {
      "cell_type": "markdown",
      "source": [
        "### 리스트함수와 리스트 표현식, 파일 읽기_저장하기"
      ],
      "metadata": {
        "id": "B6j3C6IfdSDV"
      }
    },
    {
      "cell_type": "markdown",
      "source": [
        "## 리스트 함수\n",
        "* min() : 리스트 내에서 최소값을 찾아주는 함수\n",
        "* max() : 리스트 내에서 최대값을 찾아주는 함수\n",
        "* sum() : 리스트 내의 요소를 더해 합계를 구해주는 함수"
      ],
      "metadata": {
        "id": "smkJThC6dV_c"
      }
    },
    {
      "cell_type": "code",
      "execution_count": null,
      "metadata": {
        "colab": {
          "base_uri": "https://localhost:8080/"
        },
        "id": "gqi7wV0Tc0ij",
        "outputId": "a22b3036-13a6-46ab-fa00-80d06356f8f3"
      },
      "outputs": [
        {
          "output_type": "execute_result",
          "data": {
            "text/plain": [
              "3"
            ]
          },
          "metadata": {},
          "execution_count": 3
        }
      ],
      "source": [
        "a = [38, 21, 53, 62, 19, 5, 78, 55, 42, 33]\n",
        "b = [77, 65, 4, 79, 5, 4, 35, 3, 99, 105]\n",
        "min(a+b)"
      ]
    },
    {
      "cell_type": "markdown",
      "source": [
        "* 정렬해서 가장 앞에 있는 숫자 추출\n",
        "* 모든 요소를 꺼내서 비교"
      ],
      "metadata": {
        "id": "aW8vUlhUeSEx"
      }
    },
    {
      "cell_type": "code",
      "source": [
        "sorted(a)[-1]"
      ],
      "metadata": {
        "colab": {
          "base_uri": "https://localhost:8080/"
        },
        "id": "0q0Clm4QdRuv",
        "outputId": "8601f962-64dd-4af5-fe63-1d72b61c12c1"
      },
      "execution_count": null,
      "outputs": [
        {
          "output_type": "execute_result",
          "data": {
            "text/plain": [
              "78"
            ]
          },
          "metadata": {},
          "execution_count": 4
        }
      ]
    },
    {
      "cell_type": "code",
      "source": [
        "sorted(a, reverse = True)[-1]"
      ],
      "metadata": {
        "colab": {
          "base_uri": "https://localhost:8080/"
        },
        "id": "xbhEuWXwdRsl",
        "outputId": "daeb6ba6-a71a-4df7-c8ab-780c3468f7bc"
      },
      "execution_count": null,
      "outputs": [
        {
          "output_type": "execute_result",
          "data": {
            "text/plain": [
              "5"
            ]
          },
          "metadata": {},
          "execution_count": 6
        }
      ]
    },
    {
      "cell_type": "code",
      "source": [
        "temp = a[0]\n",
        "for i in a:\n",
        "  if temp <= i:\n",
        "    temp = i\n",
        "  i += 1\n",
        "print(temp)"
      ],
      "metadata": {
        "colab": {
          "base_uri": "https://localhost:8080/"
        },
        "id": "sa4-ljnCdRqv",
        "outputId": "e1f136d9-c8ec-488a-cb18-1cb874816b81"
      },
      "execution_count": null,
      "outputs": [
        {
          "output_type": "stream",
          "name": "stdout",
          "text": [
            "78\n"
          ]
        }
      ]
    },
    {
      "cell_type": "markdown",
      "source": [
        "## 리스트 표현식(list comprehension) 사용하기\n",
        "* 리스트 안에 for 반복문과 if else 조건문을 한 번에 적는 방법\n",
        "* 여러 줄의 코드를 1줄로 줄일 수 있고\n",
        "* for, if else 문을 쓸 때보다 처리 속도가 빠르다\n",
        "* [실행할 명령 for 변수 in list, tuple]"
      ],
      "metadata": {
        "id": "MUXdPCIdlB8m"
      }
    },
    {
      "cell_type": "code",
      "source": [
        "a = []\n",
        "for i in range(1,11):\n",
        "  a.append(i)\n",
        "a"
      ],
      "metadata": {
        "colab": {
          "base_uri": "https://localhost:8080/"
        },
        "id": "vRzI4tBqdRov",
        "outputId": "cbcb7d25-f11a-491c-d745-cc59c13689d1"
      },
      "execution_count": null,
      "outputs": [
        {
          "output_type": "execute_result",
          "data": {
            "text/plain": [
              "[1, 2, 3, 4, 5, 6, 7, 8, 9, 10]"
            ]
          },
          "metadata": {},
          "execution_count": 9
        }
      ]
    },
    {
      "cell_type": "code",
      "source": [
        "b = [i for i in range(1,11)]\n",
        "b"
      ],
      "metadata": {
        "colab": {
          "base_uri": "https://localhost:8080/"
        },
        "id": "ivAyCj_hdRmz",
        "outputId": "218619f1-4c99-47a5-8b7e-31caf549a7d4"
      },
      "execution_count": null,
      "outputs": [
        {
          "output_type": "execute_result",
          "data": {
            "text/plain": [
              "[1, 2, 3, 4, 5, 6, 7, 8, 9, 10]"
            ]
          },
          "metadata": {},
          "execution_count": 12
        }
      ]
    },
    {
      "cell_type": "code",
      "source": [
        "import time"
      ],
      "metadata": {
        "id": "M3Gs34gAdRlK"
      },
      "execution_count": null,
      "outputs": []
    },
    {
      "cell_type": "code",
      "source": [
        "start = time.time()\n",
        "a= []\n",
        "for i in range(1,20000000):\n",
        "  a.append(i + 5)\n",
        "print(a[:10])\n",
        "print('코드 실행 시간 : ', time.time() - start)"
      ],
      "metadata": {
        "colab": {
          "base_uri": "https://localhost:8080/"
        },
        "id": "X6EFZPeWdRjO",
        "outputId": "49bcc856-0954-4ddf-b7cb-2ac118ce7011"
      },
      "execution_count": null,
      "outputs": [
        {
          "output_type": "stream",
          "name": "stdout",
          "text": [
            "[6, 7, 8, 9, 10, 11, 12, 13, 14, 15]\n",
            "코드 실행 시간 :  3.92979097366333\n"
          ]
        }
      ]
    },
    {
      "cell_type": "code",
      "source": [
        "start = time.time()\n",
        "b= [i+5 for i in range(1,20000000)]\n",
        "print(b[:10])\n",
        "print('코드 실행 시간 : ', time.time() - start)"
      ],
      "metadata": {
        "colab": {
          "base_uri": "https://localhost:8080/"
        },
        "id": "uQAQoo8edRhZ",
        "outputId": "85724aa3-2a03-4c71-f629-0dc7d389f5bb"
      },
      "execution_count": null,
      "outputs": [
        {
          "output_type": "stream",
          "name": "stdout",
          "text": [
            "[6, 7, 8, 9, 10, 11, 12, 13, 14, 15]\n",
            "코드 실행 시간 :  2.169462203979492\n"
          ]
        }
      ]
    },
    {
      "cell_type": "code",
      "source": [],
      "metadata": {
        "id": "5HphYZDydRfj"
      },
      "execution_count": null,
      "outputs": []
    },
    {
      "cell_type": "code",
      "source": [
        "import numpy as np"
      ],
      "metadata": {
        "id": "zMwZeWX0dRdz"
      },
      "execution_count": null,
      "outputs": []
    },
    {
      "cell_type": "code",
      "source": [
        "start = time.time()\n",
        "c = np.arange(1,20000000)\n",
        "c = c+5\n",
        "print(c[:10])\n",
        "print('코드 실행 시간 : ', time.time() - start)"
      ],
      "metadata": {
        "colab": {
          "base_uri": "https://localhost:8080/"
        },
        "id": "gdbNxqOgdRcC",
        "outputId": "560bf6cb-c587-4c78-d585-38603242044c"
      },
      "execution_count": null,
      "outputs": [
        {
          "output_type": "stream",
          "name": "stdout",
          "text": [
            "[ 6  7  8  9 10 11 12 13 14 15]\n",
            "코드 실행 시간 :  0.15180110931396484\n"
          ]
        }
      ]
    },
    {
      "cell_type": "code",
      "source": [],
      "metadata": {
        "id": "PjVMQWbDdRaT"
      },
      "execution_count": null,
      "outputs": []
    }
  ]
}