{
 "cells": [
  {
   "cell_type": "markdown",
   "id": "5df73413-ebd7-491f-89df-8acc3d649b19",
   "metadata": {},
   "source": [
    "전국치킨집리스트 JSON 파일 언패킹하기\n",
    "1. Json 파일의 구조 파악\n",
    "2. 가게 1곳의 정보를 추출한 후 반복문으로 추출\n",
    "3. 값이 없는 곳도 있으므로 예외처리 필요\n",
    "* 최종 데이터 형태: key : [value1, value2, value3]"
   ]
  },
  {
   "cell_type": "code",
   "execution_count": 1,
   "id": "23f6f489-eb48-4873-b29d-a77eb048057c",
   "metadata": {},
   "outputs": [
    {
     "name": "stdout",
     "output_type": "stream",
     "text": [
      "<class 'str'>\n"
     ]
    }
   ],
   "source": [
    "with open('./04_python/data/전국치킨집리스트.json', 'r', encoding = 'utf-8')as f:\n",
    "    chicken_data = f.read()\n",
    "#print(chicken_data)\n",
    "print(type(chicken_data))"
   ]
  },
  {
   "cell_type": "code",
   "execution_count": 2,
   "id": "b8bc76c3-5b02-4287-9ac6-23307d415d14",
   "metadata": {},
   "outputs": [
    {
     "data": {
      "text/plain": [
       "'[{\"header\": {\"description\": \"\\\\uc18c\\\\uc0c1\\\\uacf5\\\\uc778\\\\uc2dc\\\\uc7a5\\\\uc9c4\\\\ud765\\\\uacf5\\\\ub2e8 \\\\uc8fc\\\\uc6'"
      ]
     },
     "execution_count": 2,
     "metadata": {},
     "output_type": "execute_result"
    }
   ],
   "source": [
    "chicken_data[:100]"
   ]
  },
  {
   "cell_type": "code",
   "execution_count": 5,
   "id": "bef082ac-f699-44fa-9bea-57514fa90192",
   "metadata": {},
   "outputs": [],
   "source": [
    "import json"
   ]
  },
  {
   "cell_type": "code",
   "execution_count": 6,
   "id": "64615fe4-791c-4bf9-a845-061f0261d83f",
   "metadata": {},
   "outputs": [],
   "source": [
    "data = json.loads(chicken_data)"
   ]
  },
  {
   "cell_type": "code",
   "execution_count": 7,
   "id": "28c1d522-38d3-4638-a71d-77c8b06c9ff7",
   "metadata": {},
   "outputs": [
    {
     "name": "stdout",
     "output_type": "stream",
     "text": [
      "37\n"
     ]
    }
   ],
   "source": [
    "print(len(data))"
   ]
  },
  {
   "cell_type": "code",
   "execution_count": 8,
   "id": "331c59e5-3190-4c93-9bea-f6c8af091301",
   "metadata": {},
   "outputs": [
    {
     "data": {
      "text/plain": [
       "2"
      ]
     },
     "execution_count": 8,
     "metadata": {},
     "output_type": "execute_result"
    }
   ],
   "source": [
    "# header, body여서 2임\n",
    "len(data[0])"
   ]
  },
  {
   "cell_type": "code",
   "execution_count": 9,
   "id": "8c054aa5-a5c4-42d9-9428-8282a1c8e83a",
   "metadata": {},
   "outputs": [
    {
     "data": {
      "text/plain": [
       "1000"
      ]
     },
     "execution_count": 9,
     "metadata": {},
     "output_type": "execute_result"
    }
   ],
   "source": [
    "len(data[0]['body']['items'])"
   ]
  },
  {
   "cell_type": "code",
   "execution_count": 12,
   "id": "037cb58d-cc19-49bb-b341-3da921a7059b",
   "metadata": {},
   "outputs": [
    {
     "name": "stdout",
     "output_type": "stream",
     "text": [
      "<class 'list'>\n",
      "<class 'dict'>\n"
     ]
    }
   ],
   "source": [
    "print(type(data))\n",
    "print(type(data[0]))\n",
    "#print(type(data[0][0]))"
   ]
  },
  {
   "cell_type": "code",
   "execution_count": 46,
   "id": "6afa5b00-1890-4044-8c71-26c9772bcd9e",
   "metadata": {},
   "outputs": [],
   "source": [
    "#data[0]"
   ]
  },
  {
   "cell_type": "code",
   "execution_count": 47,
   "id": "e6a08777-bbb9-4d7d-813d-69adfa82d34a",
   "metadata": {},
   "outputs": [],
   "source": [
    "#data[0][\"body\"]"
   ]
  },
  {
   "cell_type": "code",
   "execution_count": 48,
   "id": "c243304d-bcd4-4c4a-b49f-ef669b8d484b",
   "metadata": {},
   "outputs": [],
   "source": [
    "#data[0][\"body\"][\"items\"]"
   ]
  },
  {
   "cell_type": "code",
   "execution_count": 19,
   "id": "2a63f8db-6f6a-4087-b81d-2ca34356a51d",
   "metadata": {},
   "outputs": [
    {
     "data": {
      "text/plain": [
       "{'bizesId': '10027626',\n",
       " 'bizesNm': '장모님치킨가창점',\n",
       " 'brchNm': '가창점',\n",
       " 'indsLclsCd': 'Q',\n",
       " 'indsLclsNm': '음식',\n",
       " 'indsMclsCd': 'Q05',\n",
       " 'indsMclsNm': '닭/오리요리',\n",
       " 'indsSclsCd': 'Q05A08',\n",
       " 'indsSclsNm': '후라이드/양념치킨',\n",
       " 'ksicCd': 'I56193',\n",
       " 'ksicNm': '치킨 전문점',\n",
       " 'ctprvnCd': '27',\n",
       " 'ctprvnNm': '대구광역시',\n",
       " 'signguCd': '27710',\n",
       " 'signguNm': '달성군',\n",
       " 'adongCd': '2771031000',\n",
       " 'adongNm': '가창면',\n",
       " 'ldongCd': '2771031024',\n",
       " 'ldongNm': '가창면',\n",
       " 'lnoCd': '2771031024101200001',\n",
       " 'plotSctCd': '1',\n",
       " 'plotSctNm': '대지',\n",
       " 'lnoMnno': 120,\n",
       " 'lnoSlno': 1,\n",
       " 'lnoAdr': '대구광역시 달성군 가창면 냉천리 120-1',\n",
       " 'rdnmCd': '277103148001',\n",
       " 'rdnm': '대구광역시 달성군 가창면 가창동로',\n",
       " 'bldMnno': 6,\n",
       " 'bldSlno': '',\n",
       " 'bldMngNo': '2771031024101200004036858',\n",
       " 'bldNm': '',\n",
       " 'rdnmAdr': '대구광역시 달성군 가창면 가창동로 6',\n",
       " 'oldZipcd': '711861',\n",
       " 'newZipcd': '42938',\n",
       " 'dongNo': '',\n",
       " 'flrNo': '1',\n",
       " 'hoNo': '',\n",
       " 'lon': 128.644458591419,\n",
       " 'lat': 35.7826625402814}"
      ]
     },
     "execution_count": 19,
     "metadata": {},
     "output_type": "execute_result"
    }
   ],
   "source": [
    "data[0][\"body\"][\"items\"][0]"
   ]
  },
  {
   "cell_type": "code",
   "execution_count": 20,
   "id": "5d6818c2-a157-49c0-994c-21956b9f394f",
   "metadata": {},
   "outputs": [
    {
     "data": {
      "text/plain": [
       "dict"
      ]
     },
     "execution_count": 20,
     "metadata": {},
     "output_type": "execute_result"
    }
   ],
   "source": [
    "type(data[0][\"body\"][\"items\"][0])"
   ]
  },
  {
   "cell_type": "code",
   "execution_count": 41,
   "id": "c2d54b76-9964-4fbe-8276-634dccc66f33",
   "metadata": {},
   "outputs": [
    {
     "name": "stdout",
     "output_type": "stream",
     "text": [
      "<class 'dict'>\n"
     ]
    },
    {
     "data": {
      "text/plain": [
       "dict_keys(['bizesId', 'bizesNm', 'brchNm', 'indsLclsCd', 'indsLclsNm', 'indsMclsCd', 'indsMclsNm', 'indsSclsCd', 'indsSclsNm', 'ksicCd', 'ksicNm', 'ctprvnCd', 'ctprvnNm', 'signguCd', 'signguNm', 'adongCd', 'adongNm', 'ldongCd', 'ldongNm', 'lnoCd', 'plotSctCd', 'plotSctNm', 'lnoMnno', 'lnoSlno', 'lnoAdr', 'rdnmCd', 'rdnm', 'bldMnno', 'bldSlno', 'bldMngNo', 'bldNm', 'rdnmAdr', 'oldZipcd', 'newZipcd', 'dongNo', 'flrNo', 'hoNo', 'lon', 'lat'])"
      ]
     },
     "execution_count": 41,
     "metadata": {},
     "output_type": "execute_result"
    }
   ],
   "source": [
    "test1 = data[0][\"body\"][\"items\"][0]\n",
    "print(type(test1))\n",
    "\n",
    "test1.keys()"
   ]
  },
  {
   "cell_type": "code",
   "execution_count": 44,
   "id": "d9194fdf-5b35-4a2c-9102-733738ba7483",
   "metadata": {},
   "outputs": [
    {
     "name": "stdout",
     "output_type": "stream",
     "text": [
      "10027626\n",
      "장모님치킨가창점\n",
      "가창점\n",
      "Q\n",
      "음식\n",
      "Q05\n",
      "닭/오리요리\n",
      "Q05A08\n",
      "후라이드/양념치킨\n",
      "I56193\n",
      "치킨 전문점\n",
      "27\n",
      "대구광역시\n",
      "27710\n",
      "달성군\n",
      "2771031000\n",
      "가창면\n",
      "2771031024\n",
      "가창면\n",
      "2771031024101200001\n",
      "1\n",
      "대지\n",
      "120\n",
      "1\n",
      "대구광역시 달성군 가창면 냉천리 120-1\n",
      "277103148001\n",
      "대구광역시 달성군 가창면 가창동로\n",
      "6\n",
      "\n",
      "2771031024101200004036858\n",
      "\n",
      "대구광역시 달성군 가창면 가창동로 6\n",
      "711861\n",
      "42938\n",
      "\n",
      "1\n",
      "\n",
      "128.644458591419\n",
      "35.7826625402814\n"
     ]
    }
   ],
   "source": [
    "for value in test1.values():\n",
    "    print(value)"
   ]
  },
  {
   "cell_type": "code",
   "execution_count": 45,
   "id": "45028e19-3912-4c6d-9518-e99b44d750ff",
   "metadata": {},
   "outputs": [
    {
     "name": "stdout",
     "output_type": "stream",
     "text": [
      "bizesId : 10027626\n",
      "bizesNm : 장모님치킨가창점\n",
      "brchNm : 가창점\n",
      "indsLclsCd : Q\n",
      "indsLclsNm : 음식\n",
      "indsMclsCd : Q05\n",
      "indsMclsNm : 닭/오리요리\n",
      "indsSclsCd : Q05A08\n",
      "indsSclsNm : 후라이드/양념치킨\n",
      "ksicCd : I56193\n",
      "ksicNm : 치킨 전문점\n",
      "ctprvnCd : 27\n",
      "ctprvnNm : 대구광역시\n",
      "signguCd : 27710\n",
      "signguNm : 달성군\n",
      "adongCd : 2771031000\n",
      "adongNm : 가창면\n",
      "ldongCd : 2771031024\n",
      "ldongNm : 가창면\n",
      "lnoCd : 2771031024101200001\n",
      "plotSctCd : 1\n",
      "plotSctNm : 대지\n",
      "lnoMnno : 120\n",
      "lnoSlno : 1\n",
      "lnoAdr : 대구광역시 달성군 가창면 냉천리 120-1\n",
      "rdnmCd : 277103148001\n",
      "rdnm : 대구광역시 달성군 가창면 가창동로\n",
      "bldMnno : 6\n",
      "bldSlno : \n",
      "bldMngNo : 2771031024101200004036858\n",
      "bldNm : \n",
      "rdnmAdr : 대구광역시 달성군 가창면 가창동로 6\n",
      "oldZipcd : 711861\n",
      "newZipcd : 42938\n",
      "dongNo : \n",
      "flrNo : 1\n",
      "hoNo : \n",
      "lon : 128.644458591419\n",
      "lat : 35.7826625402814\n"
     ]
    }
   ],
   "source": [
    "for key, value in test1.items():\n",
    "    print(f\"{key} : {value}\")\n",
    "    #print(key, value)"
   ]
  },
  {
   "cell_type": "code",
   "execution_count": 52,
   "id": "e6e9a331-d848-49f9-b694-c6b46c983649",
   "metadata": {},
   "outputs": [
    {
     "ename": "TypeError",
     "evalue": "string indices must be integers",
     "output_type": "error",
     "traceback": [
      "\u001b[1;31m---------------------------------------------------------------------------\u001b[0m",
      "\u001b[1;31mTypeError\u001b[0m                                 Traceback (most recent call last)",
      "Cell \u001b[1;32mIn[52], line 5\u001b[0m\n\u001b[0;32m      3\u001b[0m item_list1 \u001b[38;5;241m=\u001b[39m []\n\u001b[0;32m      4\u001b[0m \u001b[38;5;28;01mfor\u001b[39;00m items \u001b[38;5;129;01min\u001b[39;00m test1:\n\u001b[1;32m----> 5\u001b[0m     item_list1\u001b[38;5;241m.\u001b[39mappend(\u001b[43mitem\u001b[49m\u001b[43m[\u001b[49m\u001b[43mkey\u001b[49m\u001b[43m]\u001b[49m)\n\u001b[0;32m      6\u001b[0m result[key] \u001b[38;5;241m=\u001b[39m item_list\n\u001b[0;32m      7\u001b[0m \u001b[38;5;28mprint\u001b[39m(key, item_list)\n",
      "\u001b[1;31mTypeError\u001b[0m: string indices must be integers"
     ]
    }
   ],
   "source": [
    "result1 = {}\n",
    "for key in list(test1.keys()):\n",
    "    item_list1 = []\n",
    "    for items in test1:\n",
    "        item_list1.append(item[key])\n",
    "    result[key] = item_list\n",
    "    print(key, item_list)"
   ]
  },
  {
   "cell_type": "code",
   "execution_count": null,
   "id": "49ad9b09-f854-4e70-a217-42dd8add1462",
   "metadata": {},
   "outputs": [],
   "source": [
    "result1 = {}\n",
    "for key in list(test1.keys()):\n",
    "    item_list1 = []\n",
    "    for items in test1.values():  # 여기서 test1.values()로 변경\n",
    "        item_list1.append(items[key])\n",
    "    result1[key] = item_list1\n",
    "    print(key, item_list1)\n"
   ]
  },
  {
   "cell_type": "code",
   "execution_count": null,
   "id": "56818555-af51-492f-9876-2d5b3df1775a",
   "metadata": {},
   "outputs": [],
   "source": []
  },
  {
   "cell_type": "code",
   "execution_count": null,
   "id": "fe8890e0-7341-4a84-98ae-1af416503a68",
   "metadata": {},
   "outputs": [],
   "source": []
  },
  {
   "cell_type": "code",
   "execution_count": null,
   "id": "498cf455-eac6-4b31-b79b-7180f63256c1",
   "metadata": {},
   "outputs": [],
   "source": []
  },
  {
   "cell_type": "code",
   "execution_count": null,
   "id": "917b7661-3753-4d7c-a25d-404576b261eb",
   "metadata": {},
   "outputs": [],
   "source": []
  },
  {
   "cell_type": "code",
   "execution_count": null,
   "id": "5f1ab895-27a5-40d3-b369-91e45100ee7e",
   "metadata": {},
   "outputs": [],
   "source": []
  },
  {
   "cell_type": "code",
   "execution_count": 43,
   "id": "215d1de2-2320-431f-9d04-7fb880dc3aaf",
   "metadata": {},
   "outputs": [
    {
     "ename": "AttributeError",
     "evalue": "'str' object has no attribute 'values'",
     "output_type": "error",
     "traceback": [
      "\u001b[1;31m---------------------------------------------------------------------------\u001b[0m",
      "\u001b[1;31mAttributeError\u001b[0m                            Traceback (most recent call last)",
      "Cell \u001b[1;32mIn[43], line 2\u001b[0m\n\u001b[0;32m      1\u001b[0m \u001b[38;5;28;01mfor\u001b[39;00m i \u001b[38;5;129;01min\u001b[39;00m test1:\n\u001b[1;32m----> 2\u001b[0m     \u001b[38;5;28;01mfor\u001b[39;00m value \u001b[38;5;129;01min\u001b[39;00m \u001b[43mi\u001b[49m\u001b[38;5;241;43m.\u001b[39;49m\u001b[43mvalues\u001b[49m():\n\u001b[0;32m      3\u001b[0m         \u001b[38;5;28mprint\u001b[39m(value)\n",
      "\u001b[1;31mAttributeError\u001b[0m: 'str' object has no attribute 'values'"
     ]
    }
   ],
   "source": [
    "for i in test1:\n",
    "    for value in i.values():\n",
    "        print(value)"
   ]
  },
  {
   "cell_type": "code",
   "execution_count": null,
   "id": "834c7558-610d-4741-a8fe-c05347ad21f1",
   "metadata": {},
   "outputs": [],
   "source": []
  },
  {
   "cell_type": "code",
   "execution_count": null,
   "id": "053436af-402c-4ca5-b6d4-b5122e13e098",
   "metadata": {},
   "outputs": [],
   "source": []
  },
  {
   "cell_type": "code",
   "execution_count": 25,
   "id": "dbe852cc-d138-43c0-b65a-66a2545e5148",
   "metadata": {},
   "outputs": [
    {
     "data": {
      "text/plain": [
       "dict_values(['10027626', '장모님치킨가창점', '가창점', 'Q', '음식', 'Q05', '닭/오리요리', 'Q05A08', '후라이드/양념치킨', 'I56193', '치킨 전문점', '27', '대구광역시', '27710', '달성군', '2771031000', '가창면', '2771031024', '가창면', '2771031024101200001', '1', '대지', 120, 1, '대구광역시 달성군 가창면 냉천리 120-1', '277103148001', '대구광역시 달성군 가창면 가창동로', 6, '', '2771031024101200004036858', '', '대구광역시 달성군 가창면 가창동로 6', '711861', '42938', '', '1', '', 128.644458591419, 35.7826625402814])"
      ]
     },
     "execution_count": 25,
     "metadata": {},
     "output_type": "execute_result"
    }
   ],
   "source": [
    "test2 = data[0][\"body\"][\"items\"][0]\n",
    "test2.values()"
   ]
  },
  {
   "cell_type": "code",
   "execution_count": 26,
   "id": "358663f9-b6fb-4869-8e65-4f7fdd2ae49d",
   "metadata": {},
   "outputs": [
    {
     "data": {
      "text/plain": [
       "dict_items([('bizesId', '10027626'), ('bizesNm', '장모님치킨가창점'), ('brchNm', '가창점'), ('indsLclsCd', 'Q'), ('indsLclsNm', '음식'), ('indsMclsCd', 'Q05'), ('indsMclsNm', '닭/오리요리'), ('indsSclsCd', 'Q05A08'), ('indsSclsNm', '후라이드/양념치킨'), ('ksicCd', 'I56193'), ('ksicNm', '치킨 전문점'), ('ctprvnCd', '27'), ('ctprvnNm', '대구광역시'), ('signguCd', '27710'), ('signguNm', '달성군'), ('adongCd', '2771031000'), ('adongNm', '가창면'), ('ldongCd', '2771031024'), ('ldongNm', '가창면'), ('lnoCd', '2771031024101200001'), ('plotSctCd', '1'), ('plotSctNm', '대지'), ('lnoMnno', 120), ('lnoSlno', 1), ('lnoAdr', '대구광역시 달성군 가창면 냉천리 120-1'), ('rdnmCd', '277103148001'), ('rdnm', '대구광역시 달성군 가창면 가창동로'), ('bldMnno', 6), ('bldSlno', ''), ('bldMngNo', '2771031024101200004036858'), ('bldNm', ''), ('rdnmAdr', '대구광역시 달성군 가창면 가창동로 6'), ('oldZipcd', '711861'), ('newZipcd', '42938'), ('dongNo', ''), ('flrNo', '1'), ('hoNo', ''), ('lon', 128.644458591419), ('lat', 35.7826625402814)])"
      ]
     },
     "execution_count": 26,
     "metadata": {},
     "output_type": "execute_result"
    }
   ],
   "source": [
    "test3 = data[0][\"body\"][\"items\"][0]\n",
    "test3.items()"
   ]
  },
  {
   "cell_type": "code",
   "execution_count": 30,
   "id": "36007fa4-7f41-443e-8cb4-bfffeb18e227",
   "metadata": {},
   "outputs": [
    {
     "name": "stdout",
     "output_type": "stream",
     "text": [
      "bizesId\n"
     ]
    },
    {
     "ename": "AttributeError",
     "evalue": "'str' object has no attribute 'values'",
     "output_type": "error",
     "traceback": [
      "\u001b[1;31m---------------------------------------------------------------------------\u001b[0m",
      "\u001b[1;31mAttributeError\u001b[0m                            Traceback (most recent call last)",
      "Cell \u001b[1;32mIn[30], line 3\u001b[0m\n\u001b[0;32m      1\u001b[0m \u001b[38;5;28;01mfor\u001b[39;00m key \u001b[38;5;129;01min\u001b[39;00m test1:\n\u001b[0;32m      2\u001b[0m     \u001b[38;5;28mprint\u001b[39m(key)\n\u001b[1;32m----> 3\u001b[0m     \u001b[38;5;28;01mfor\u001b[39;00m value \u001b[38;5;129;01min\u001b[39;00m \u001b[43mkey\u001b[49m\u001b[38;5;241;43m.\u001b[39;49m\u001b[43mvalues\u001b[49m():\n\u001b[0;32m      4\u001b[0m         \u001b[38;5;28mprint\u001b[39m(value)\n",
      "\u001b[1;31mAttributeError\u001b[0m: 'str' object has no attribute 'values'"
     ]
    }
   ],
   "source": [
    "for key in test1:\n",
    "    print(key)\n",
    "    for value in key.values():\n",
    "        print(value)"
   ]
  },
  {
   "cell_type": "code",
   "execution_count": null,
   "id": "7179a7b5-7b59-4458-8775-4c681fa38796",
   "metadata": {},
   "outputs": [],
   "source": []
  },
  {
   "cell_type": "code",
   "execution_count": 49,
   "id": "74530ded-5ce8-43a3-9f36-35d4580e9603",
   "metadata": {},
   "outputs": [],
   "source": [
    "test = data[0][\"body\"][\"items\"]"
   ]
  },
  {
   "cell_type": "code",
   "execution_count": 50,
   "id": "a443d828-f4f3-4c84-bafc-012c8905474f",
   "metadata": {},
   "outputs": [
    {
     "data": {
      "text/plain": [
       "list"
      ]
     },
     "execution_count": 50,
     "metadata": {},
     "output_type": "execute_result"
    }
   ],
   "source": [
    "type(test)"
   ]
  },
  {
   "cell_type": "code",
   "execution_count": null,
   "id": "cf858251-f742-4e9c-997e-afc4c25a242e",
   "metadata": {},
   "outputs": [],
   "source": [
    "for key, value in test.items():\n",
    "    print(key,"
   ]
  },
  {
   "cell_type": "code",
   "execution_count": null,
   "id": "af489662-efd6-4d8d-b4e1-f06c5b54fc1f",
   "metadata": {},
   "outputs": [],
   "source": []
  },
  {
   "cell_type": "code",
   "execution_count": null,
   "id": "e3841cc4-9b19-421e-90f3-62094a71401b",
   "metadata": {},
   "outputs": [],
   "source": []
  },
  {
   "cell_type": "code",
   "execution_count": null,
   "id": "326008b0-7c80-4df4-9454-f66d5b0391af",
   "metadata": {},
   "outputs": [],
   "source": []
  },
  {
   "cell_type": "code",
   "execution_count": null,
   "id": "a319e8a7-cbae-4071-97b4-a8e45cda97b1",
   "metadata": {},
   "outputs": [],
   "source": []
  },
  {
   "cell_type": "code",
   "execution_count": null,
   "id": "f2b43a41-46cc-4615-bbe8-34fa5b46caad",
   "metadata": {},
   "outputs": [],
   "source": []
  },
  {
   "cell_type": "code",
   "execution_count": null,
   "id": "6b4ace0e-4d37-46d0-a30a-d5a7b6f3e99c",
   "metadata": {},
   "outputs": [],
   "source": []
  },
  {
   "cell_type": "code",
   "execution_count": null,
   "id": "4ce3a813-3ac5-4d49-a42e-b984a93dca3c",
   "metadata": {},
   "outputs": [],
   "source": []
  },
  {
   "cell_type": "code",
   "execution_count": null,
   "id": "52a74661-c9e5-4fe5-8d32-a9279f43376d",
   "metadata": {},
   "outputs": [],
   "source": []
  },
  {
   "cell_type": "code",
   "execution_count": null,
   "id": "cfab058c-b91d-4ef6-89e5-c0412d760aaf",
   "metadata": {},
   "outputs": [],
   "source": []
  },
  {
   "cell_type": "code",
   "execution_count": null,
   "id": "bc8f5ba5-7bc9-4cbf-8d9c-e70dca7b86e1",
   "metadata": {},
   "outputs": [],
   "source": []
  },
  {
   "cell_type": "code",
   "execution_count": null,
   "id": "c18987c0-ef2d-483d-9552-f4b5a4a92cfb",
   "metadata": {},
   "outputs": [],
   "source": []
  },
  {
   "cell_type": "code",
   "execution_count": null,
   "id": "6f6224b7-9142-44dd-9963-01e6a8001fe5",
   "metadata": {},
   "outputs": [],
   "source": []
  },
  {
   "cell_type": "code",
   "execution_count": null,
   "id": "0005e85b-d38a-4b37-a26e-3800eff52c81",
   "metadata": {},
   "outputs": [],
   "source": []
  },
  {
   "cell_type": "code",
   "execution_count": null,
   "id": "b3f494bb-08e3-4384-983a-31e20c110af3",
   "metadata": {},
   "outputs": [],
   "source": []
  },
  {
   "cell_type": "code",
   "execution_count": null,
   "id": "0dd5fa5d-6bef-42c7-9103-91e408cd91fd",
   "metadata": {},
   "outputs": [],
   "source": []
  },
  {
   "cell_type": "code",
   "execution_count": null,
   "id": "cbef11bd-7494-4274-bed7-8af6f56e934f",
   "metadata": {},
   "outputs": [],
   "source": []
  },
  {
   "cell_type": "code",
   "execution_count": null,
   "id": "e3ca447e-afe6-490a-9431-af0ac6767c70",
   "metadata": {},
   "outputs": [],
   "source": []
  },
  {
   "cell_type": "code",
   "execution_count": null,
   "id": "0fbf5ba2-c25d-442c-9bc5-c71f343253a6",
   "metadata": {},
   "outputs": [],
   "source": []
  },
  {
   "cell_type": "code",
   "execution_count": null,
   "id": "34a20238-96a0-44a7-89e1-3eb9277504cc",
   "metadata": {},
   "outputs": [],
   "source": []
  },
  {
   "cell_type": "code",
   "execution_count": null,
   "id": "4d9912ac-c5be-49be-b54e-8a0f163a0d92",
   "metadata": {},
   "outputs": [],
   "source": []
  },
  {
   "cell_type": "code",
   "execution_count": null,
   "id": "c185dc84-ebb5-42ef-b127-c4f833557f6b",
   "metadata": {},
   "outputs": [],
   "source": []
  },
  {
   "cell_type": "code",
   "execution_count": null,
   "id": "2d1aa3dc-ed47-465c-8330-10edb3aaa670",
   "metadata": {},
   "outputs": [],
   "source": []
  },
  {
   "cell_type": "code",
   "execution_count": null,
   "id": "06a16bb8-58bd-4327-a940-b83863fc4709",
   "metadata": {},
   "outputs": [],
   "source": []
  },
  {
   "cell_type": "code",
   "execution_count": null,
   "id": "f9f16ca6-c9da-475a-a44f-774458732890",
   "metadata": {},
   "outputs": [],
   "source": []
  },
  {
   "cell_type": "code",
   "execution_count": null,
   "id": "9727f355-5687-4f46-b347-baf0fa9cbd7f",
   "metadata": {},
   "outputs": [],
   "source": []
  },
  {
   "cell_type": "code",
   "execution_count": null,
   "id": "b008bdfd-c28c-4e7f-9b88-2597fe738716",
   "metadata": {},
   "outputs": [],
   "source": []
  },
  {
   "cell_type": "code",
   "execution_count": null,
   "id": "fae06700-19f1-44c7-9749-5347b42d31ca",
   "metadata": {},
   "outputs": [],
   "source": []
  },
  {
   "cell_type": "code",
   "execution_count": null,
   "id": "df1f22f9-260b-4de3-be6b-10bcee9f84dd",
   "metadata": {},
   "outputs": [],
   "source": []
  },
  {
   "cell_type": "code",
   "execution_count": null,
   "id": "a663226a-fb43-4dd0-a699-26a2619264b3",
   "metadata": {},
   "outputs": [],
   "source": []
  },
  {
   "cell_type": "code",
   "execution_count": null,
   "id": "a0ed0593-e0f2-4244-aa6e-b4528836ef57",
   "metadata": {},
   "outputs": [],
   "source": []
  },
  {
   "cell_type": "code",
   "execution_count": null,
   "id": "77fb2e79-325c-44d2-97b5-e0929eedf46a",
   "metadata": {},
   "outputs": [],
   "source": []
  },
  {
   "cell_type": "code",
   "execution_count": null,
   "id": "a7df9faa-e482-4792-a2b9-a1975608b6b7",
   "metadata": {},
   "outputs": [],
   "source": []
  },
  {
   "cell_type": "code",
   "execution_count": null,
   "id": "e724d9ed-9477-462f-8928-1e30d896ccd6",
   "metadata": {},
   "outputs": [],
   "source": []
  },
  {
   "cell_type": "code",
   "execution_count": null,
   "id": "47ecdde4-d8d7-4d14-ba3e-e7c3483241d1",
   "metadata": {},
   "outputs": [],
   "source": []
  },
  {
   "cell_type": "code",
   "execution_count": null,
   "id": "c6c6b92a-8195-43ac-b8e5-d2873cb3bdeb",
   "metadata": {},
   "outputs": [],
   "source": []
  },
  {
   "cell_type": "code",
   "execution_count": null,
   "id": "111d6d2d-453d-48e5-8f6a-8c0791042789",
   "metadata": {},
   "outputs": [],
   "source": []
  },
  {
   "cell_type": "code",
   "execution_count": null,
   "id": "6a40e43f-1c5e-4fc9-8ee5-8867df6f5be8",
   "metadata": {},
   "outputs": [],
   "source": []
  },
  {
   "cell_type": "code",
   "execution_count": null,
   "id": "72833465-1ed5-4746-8594-0bbf52e2d1d8",
   "metadata": {},
   "outputs": [],
   "source": []
  },
  {
   "cell_type": "code",
   "execution_count": null,
   "id": "accffaaa-148e-4489-99b0-d6c9ebc14167",
   "metadata": {},
   "outputs": [],
   "source": []
  },
  {
   "cell_type": "code",
   "execution_count": null,
   "id": "cc5fb339-1f25-4b3d-a73d-068e5da0fd4a",
   "metadata": {},
   "outputs": [],
   "source": []
  },
  {
   "cell_type": "code",
   "execution_count": null,
   "id": "96310462-29bd-4da0-9443-47f033fc7fe0",
   "metadata": {},
   "outputs": [],
   "source": []
  },
  {
   "cell_type": "code",
   "execution_count": null,
   "id": "a4b67ae4-b27a-4724-95fc-feaf760e730e",
   "metadata": {},
   "outputs": [],
   "source": []
  },
  {
   "cell_type": "code",
   "execution_count": null,
   "id": "1f320fa8-3b72-4c2c-9f74-89831f44b94b",
   "metadata": {},
   "outputs": [],
   "source": []
  },
  {
   "cell_type": "code",
   "execution_count": null,
   "id": "7e5cc782-b1d8-4424-a61c-04e960471a26",
   "metadata": {},
   "outputs": [],
   "source": []
  },
  {
   "cell_type": "code",
   "execution_count": null,
   "id": "83b269c7-dc05-4525-bcaa-a8e3dad135f6",
   "metadata": {},
   "outputs": [],
   "source": []
  },
  {
   "cell_type": "code",
   "execution_count": null,
   "id": "40fabc7f-9641-4c88-8040-e0bf9efa9051",
   "metadata": {},
   "outputs": [],
   "source": []
  },
  {
   "cell_type": "code",
   "execution_count": null,
   "id": "6ccb03c3-1b42-4404-b21c-d30553400a5a",
   "metadata": {},
   "outputs": [],
   "source": []
  },
  {
   "cell_type": "code",
   "execution_count": null,
   "id": "0a16dead-6d1e-46d6-93ef-7d1118ffe223",
   "metadata": {},
   "outputs": [],
   "source": []
  },
  {
   "cell_type": "code",
   "execution_count": null,
   "id": "6e4c7a92-971f-4c6c-a572-0e33a2f62f0e",
   "metadata": {},
   "outputs": [],
   "source": []
  },
  {
   "cell_type": "code",
   "execution_count": null,
   "id": "9235cf58-1574-469d-a564-0506c6703201",
   "metadata": {},
   "outputs": [],
   "source": []
  },
  {
   "cell_type": "code",
   "execution_count": null,
   "id": "d28d9ad8-5a8b-4d30-8db0-deb42d61e17c",
   "metadata": {},
   "outputs": [],
   "source": []
  },
  {
   "cell_type": "code",
   "execution_count": null,
   "id": "dac61f28-4382-4b39-9737-bb8992f59906",
   "metadata": {},
   "outputs": [],
   "source": []
  },
  {
   "cell_type": "code",
   "execution_count": null,
   "id": "8cb1bb88-660d-48eb-a802-7f999a2f6031",
   "metadata": {},
   "outputs": [],
   "source": []
  },
  {
   "cell_type": "code",
   "execution_count": null,
   "id": "e698144a-8cb8-4622-8b93-919ad231a7cc",
   "metadata": {},
   "outputs": [],
   "source": []
  },
  {
   "cell_type": "code",
   "execution_count": null,
   "id": "b00f5fec-69ab-43e3-a5e4-6ea11d97efcb",
   "metadata": {},
   "outputs": [],
   "source": []
  },
  {
   "cell_type": "code",
   "execution_count": null,
   "id": "167a252c-01b5-4f61-9ad1-2254c045d9d9",
   "metadata": {},
   "outputs": [],
   "source": []
  },
  {
   "cell_type": "code",
   "execution_count": null,
   "id": "f53ecf07-d8dd-43a2-8fad-4556cfc50528",
   "metadata": {},
   "outputs": [],
   "source": []
  },
  {
   "cell_type": "code",
   "execution_count": null,
   "id": "c85fc76e-964e-4676-a0bd-8e31d1505c61",
   "metadata": {},
   "outputs": [],
   "source": []
  },
  {
   "cell_type": "code",
   "execution_count": null,
   "id": "ee01655e-0f4c-413e-966a-1afd90237bb7",
   "metadata": {},
   "outputs": [],
   "source": []
  },
  {
   "cell_type": "code",
   "execution_count": null,
   "id": "d5a09e33-f99c-49fe-bb26-7d39c5327f8c",
   "metadata": {},
   "outputs": [],
   "source": []
  },
  {
   "cell_type": "code",
   "execution_count": null,
   "id": "3a53934c-8c27-4bd2-a5bc-a8d1bbea19b9",
   "metadata": {},
   "outputs": [],
   "source": []
  },
  {
   "cell_type": "code",
   "execution_count": null,
   "id": "dc2fde79-6bfb-414b-bc85-b191a6bbf26d",
   "metadata": {},
   "outputs": [],
   "source": []
  },
  {
   "cell_type": "code",
   "execution_count": null,
   "id": "be582105-44f0-4c50-940e-0cbcc2b8f5b0",
   "metadata": {},
   "outputs": [],
   "source": []
  },
  {
   "cell_type": "code",
   "execution_count": null,
   "id": "68b0a7e7-a0e6-4212-a969-ca4c09309e40",
   "metadata": {},
   "outputs": [],
   "source": []
  },
  {
   "cell_type": "code",
   "execution_count": null,
   "id": "0dffbc72-91f5-4a5e-b2e2-1aeb0ad8caea",
   "metadata": {},
   "outputs": [],
   "source": []
  },
  {
   "cell_type": "code",
   "execution_count": null,
   "id": "c0bc3bfd-f7f3-46b4-9796-dbe7554de7a2",
   "metadata": {},
   "outputs": [],
   "source": []
  },
  {
   "cell_type": "code",
   "execution_count": null,
   "id": "cb682071-970e-421a-8154-878615d29f1f",
   "metadata": {},
   "outputs": [],
   "source": []
  },
  {
   "cell_type": "code",
   "execution_count": null,
   "id": "84918974-be4a-403b-b3fb-d8b492761763",
   "metadata": {},
   "outputs": [],
   "source": []
  },
  {
   "cell_type": "code",
   "execution_count": null,
   "id": "6b72cb65-d1e5-41d8-8760-33025e7b6afa",
   "metadata": {},
   "outputs": [],
   "source": []
  },
  {
   "cell_type": "code",
   "execution_count": null,
   "id": "83a82fba-4309-46b1-adc0-6dd8c2c67c81",
   "metadata": {},
   "outputs": [],
   "source": []
  },
  {
   "cell_type": "code",
   "execution_count": null,
   "id": "9f86fdbd-a2f7-4cb7-a90b-b7c8d73a710f",
   "metadata": {},
   "outputs": [],
   "source": []
  },
  {
   "cell_type": "code",
   "execution_count": null,
   "id": "d16b9e06-7dc2-41fd-8324-e25b48a6edb5",
   "metadata": {},
   "outputs": [],
   "source": []
  },
  {
   "cell_type": "code",
   "execution_count": null,
   "id": "85e48f0d-d5bc-4b62-850a-6fc2fd8164ea",
   "metadata": {},
   "outputs": [],
   "source": []
  },
  {
   "cell_type": "code",
   "execution_count": null,
   "id": "8ec3d1ef-e520-4ebd-af8f-388d21a9abbf",
   "metadata": {},
   "outputs": [],
   "source": []
  },
  {
   "cell_type": "code",
   "execution_count": null,
   "id": "1aab687a-93fe-4c3a-be20-5ad8d9745c03",
   "metadata": {},
   "outputs": [],
   "source": []
  },
  {
   "cell_type": "code",
   "execution_count": null,
   "id": "c706f203-b443-47f4-94b3-6828ac67fe8e",
   "metadata": {},
   "outputs": [],
   "source": []
  },
  {
   "cell_type": "code",
   "execution_count": null,
   "id": "8fea357b-66b1-4e8a-a08c-4bece54ce2df",
   "metadata": {},
   "outputs": [],
   "source": []
  },
  {
   "cell_type": "code",
   "execution_count": null,
   "id": "3b33f615-2df2-4906-95b7-8fe5e1c6212e",
   "metadata": {},
   "outputs": [],
   "source": []
  },
  {
   "cell_type": "code",
   "execution_count": null,
   "id": "f721d514-cbd7-46cf-befe-664365e480e0",
   "metadata": {},
   "outputs": [],
   "source": []
  },
  {
   "cell_type": "code",
   "execution_count": null,
   "id": "95469b05-ab14-475a-8a99-84ff6ecb73b2",
   "metadata": {},
   "outputs": [],
   "source": []
  },
  {
   "cell_type": "code",
   "execution_count": null,
   "id": "01001ef3-0601-49bf-8312-e46a129f233a",
   "metadata": {},
   "outputs": [],
   "source": []
  },
  {
   "cell_type": "code",
   "execution_count": null,
   "id": "5c08287f-44e0-434c-9377-e197dd8e07d5",
   "metadata": {},
   "outputs": [],
   "source": []
  },
  {
   "cell_type": "code",
   "execution_count": null,
   "id": "fd952e21-c466-4f4b-9832-d220c99ae775",
   "metadata": {},
   "outputs": [],
   "source": []
  },
  {
   "cell_type": "code",
   "execution_count": null,
   "id": "8f532548-8309-43a9-afd7-854dbd3f469b",
   "metadata": {},
   "outputs": [],
   "source": []
  },
  {
   "cell_type": "code",
   "execution_count": null,
   "id": "9287609d-1ee3-43d2-b2a9-4a68956b766b",
   "metadata": {},
   "outputs": [],
   "source": []
  }
 ],
 "metadata": {
  "kernelspec": {
   "display_name": "Python 3 (ipykernel)",
   "language": "python",
   "name": "python3"
  },
  "language_info": {
   "codemirror_mode": {
    "name": "ipython",
    "version": 3
   },
   "file_extension": ".py",
   "mimetype": "text/x-python",
   "name": "python",
   "nbconvert_exporter": "python",
   "pygments_lexer": "ipython3",
   "version": "3.10.14"
  }
 },
 "nbformat": 4,
 "nbformat_minor": 5
}
