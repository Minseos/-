{
 "cells": [
  {
   "cell_type": "markdown",
   "id": "6a79dc0d-5645-4df9-b98a-10d4ad611bf6",
   "metadata": {},
   "source": [
    "# 1.pandas\n",
    "## pandas의 특정\n",
    "### pandas의 특징\n",
    "* Numpy를 내부적으로 활용함(numpy의 특징을 그대로 가짐)\n",
    "* 데이터 분석에 특화된 데이터 구조 제공\n",
    "* 다양한 데이터 분석 함수 제공\n",
    "* 데이터베이스에 쉽게 연결 가능\n",
    "* json 데이터나 table요소를 데이터프레임으로 손쉽게 변형 가능"
   ]
  },
  {
   "cell_type": "code",
   "execution_count": 1,
   "id": "1ea5b453-3129-42d4-bdb3-a3f761e7186d",
   "metadata": {},
   "outputs": [],
   "source": [
    "# 설치\n",
    "# !pip install pandas\n",
    "# !conda install pandas"
   ]
  },
  {
   "cell_type": "markdown",
   "id": "1cff6e19-9338-4a52-bb71-7df0198ee65e",
   "metadata": {},
   "source": [
    "# 2.Pandas에서 다루는 데이터 타입\n",
    "## 1) DataFrame : 2차원의 표현식 데이터 => key : [value1, value2]\n",
    "## 2) Series : 1차원의 벡터형식 데이터 => list, tuple, ndarray"
   ]
  },
  {
   "cell_type": "code",
   "execution_count": 2,
   "id": "cdc92490-22ab-48ca-b808-3b6e65032d76",
   "metadata": {},
   "outputs": [],
   "source": [
    "import pandas as pd"
   ]
  },
  {
   "cell_type": "code",
   "execution_count": 6,
   "id": "337a3376-e4e1-41a4-a1da-40e1dc90f176",
   "metadata": {},
   "outputs": [
    {
     "data": {
      "text/html": [
       "<div>\n",
       "<style scoped>\n",
       "    .dataframe tbody tr th:only-of-type {\n",
       "        vertical-align: middle;\n",
       "    }\n",
       "\n",
       "    .dataframe tbody tr th {\n",
       "        vertical-align: top;\n",
       "    }\n",
       "\n",
       "    .dataframe thead th {\n",
       "        text-align: right;\n",
       "    }\n",
       "</style>\n",
       "<table border=\"1\" class=\"dataframe\">\n",
       "  <thead>\n",
       "    <tr style=\"text-align: right;\">\n",
       "      <th></th>\n",
       "      <th>이름</th>\n",
       "      <th>Age</th>\n",
       "      <th>성별</th>\n",
       "    </tr>\n",
       "  </thead>\n",
       "  <tbody>\n",
       "    <tr>\n",
       "      <th>0</th>\n",
       "      <td>홍길동</td>\n",
       "      <td>23</td>\n",
       "      <td>male</td>\n",
       "    </tr>\n",
       "    <tr>\n",
       "      <th>1</th>\n",
       "      <td>장마철</td>\n",
       "      <td>55</td>\n",
       "      <td>female</td>\n",
       "    </tr>\n",
       "    <tr>\n",
       "      <th>2</th>\n",
       "      <td>소나기</td>\n",
       "      <td>24</td>\n",
       "      <td>female</td>\n",
       "    </tr>\n",
       "    <tr>\n",
       "      <th>3</th>\n",
       "      <td>더워요</td>\n",
       "      <td>16</td>\n",
       "      <td>male</td>\n",
       "    </tr>\n",
       "  </tbody>\n",
       "</table>\n",
       "</div>"
      ],
      "text/plain": [
       "    이름  Age      성별\n",
       "0  홍길동   23    male\n",
       "1  장마철   55  female\n",
       "2  소나기   24  female\n",
       "3  더워요   16    male"
      ]
     },
     "metadata": {},
     "output_type": "display_data"
    }
   ],
   "source": [
    "df = pd.DataFrame(\n",
    "    {'이름' : ['홍길동', '장마철', '소나기', '더워요'],\n",
    "    'Age' : [23,55,24,16],\n",
    "    '성별' : ['male','female','female','male']}\n",
    ")\n",
    "df\n",
    "display(df)"
   ]
  },
  {
   "cell_type": "code",
   "execution_count": 5,
   "id": "8d87a757-e14c-40d4-bb5b-56f490b38001",
   "metadata": {},
   "outputs": [
    {
     "data": {
      "text/plain": [
       "0    홍길동\n",
       "1    장마철\n",
       "2    소나기\n",
       "3    더워요\n",
       "Name: 이름, dtype: object"
      ]
     },
     "execution_count": 5,
     "metadata": {},
     "output_type": "execute_result"
    }
   ],
   "source": [
    "df['이름']"
   ]
  },
  {
   "cell_type": "code",
   "execution_count": 9,
   "id": "47cbaa3f-486f-40e5-87c6-e04ca45464b4",
   "metadata": {},
   "outputs": [
    {
     "data": {
      "text/plain": [
       "0    홍길동\n",
       "1    장마철\n",
       "2    소나기\n",
       "3    더워요\n",
       "Name: 이름, dtype: object"
      ]
     },
     "metadata": {},
     "output_type": "display_data"
    },
    {
     "name": "stdout",
     "output_type": "stream",
     "text": [
      "<class 'pandas.core.series.Series'>\n",
      "(4,)\n",
      "1\n",
      "\n"
     ]
    },
    {
     "data": {
      "text/html": [
       "<div>\n",
       "<style scoped>\n",
       "    .dataframe tbody tr th:only-of-type {\n",
       "        vertical-align: middle;\n",
       "    }\n",
       "\n",
       "    .dataframe tbody tr th {\n",
       "        vertical-align: top;\n",
       "    }\n",
       "\n",
       "    .dataframe thead th {\n",
       "        text-align: right;\n",
       "    }\n",
       "</style>\n",
       "<table border=\"1\" class=\"dataframe\">\n",
       "  <thead>\n",
       "    <tr style=\"text-align: right;\">\n",
       "      <th></th>\n",
       "      <th>이름</th>\n",
       "    </tr>\n",
       "  </thead>\n",
       "  <tbody>\n",
       "    <tr>\n",
       "      <th>0</th>\n",
       "      <td>홍길동</td>\n",
       "    </tr>\n",
       "    <tr>\n",
       "      <th>1</th>\n",
       "      <td>장마철</td>\n",
       "    </tr>\n",
       "    <tr>\n",
       "      <th>2</th>\n",
       "      <td>소나기</td>\n",
       "    </tr>\n",
       "    <tr>\n",
       "      <th>3</th>\n",
       "      <td>더워요</td>\n",
       "    </tr>\n",
       "  </tbody>\n",
       "</table>\n",
       "</div>"
      ],
      "text/plain": [
       "    이름\n",
       "0  홍길동\n",
       "1  장마철\n",
       "2  소나기\n",
       "3  더워요"
      ]
     },
     "metadata": {},
     "output_type": "display_data"
    },
    {
     "name": "stdout",
     "output_type": "stream",
     "text": [
      "<class 'pandas.core.frame.DataFrame'>\n",
      "(4, 1)\n",
      "2\n"
     ]
    }
   ],
   "source": [
    "display(df['이름'])\n",
    "print(type(df['이름']))\n",
    "print(df['이름'].shape)\n",
    "print(df['이름'].ndim)\n",
    "print()\n",
    "display(df[['이름']])\n",
    "print(type(df[['이름']]))\n",
    "print(df[['이름']].shape)\n",
    "print(df[['이름']].ndim)"
   ]
  },
  {
   "cell_type": "code",
   "execution_count": null,
   "id": "ea9c7000-af9b-425b-a7b0-4f61ef3d61c6",
   "metadata": {},
   "outputs": [],
   "source": []
  },
  {
   "cell_type": "code",
   "execution_count": null,
   "id": "9f64a366-7200-457b-88b2-847ddfb9cf1d",
   "metadata": {},
   "outputs": [],
   "source": []
  },
  {
   "cell_type": "code",
   "execution_count": null,
   "id": "0131e832-a182-4e8d-9f54-f0a40829b387",
   "metadata": {},
   "outputs": [],
   "source": []
  },
  {
   "cell_type": "code",
   "execution_count": null,
   "id": "2c5dfe75-6163-41d6-a27b-f5e7e6fdae40",
   "metadata": {},
   "outputs": [],
   "source": []
  },
  {
   "cell_type": "code",
   "execution_count": null,
   "id": "7107175b-7c26-470d-a92a-c028932abffb",
   "metadata": {},
   "outputs": [],
   "source": []
  },
  {
   "cell_type": "code",
   "execution_count": null,
   "id": "fdbc54b8-46e3-4de8-9a3a-c6031e404c69",
   "metadata": {},
   "outputs": [],
   "source": []
  },
  {
   "cell_type": "code",
   "execution_count": null,
   "id": "4b430214-9171-40d3-9197-c78835e7f25e",
   "metadata": {},
   "outputs": [],
   "source": []
  },
  {
   "cell_type": "code",
   "execution_count": null,
   "id": "8dc0fee4-671e-41d4-84ad-a0d750abe0a3",
   "metadata": {},
   "outputs": [],
   "source": []
  },
  {
   "cell_type": "code",
   "execution_count": null,
   "id": "4f2f91b0-e5c5-4ef7-94ce-fd3fdd59e1c8",
   "metadata": {},
   "outputs": [],
   "source": []
  },
  {
   "cell_type": "code",
   "execution_count": null,
   "id": "fb9d3cd2-be6b-43fe-aafd-5a7420ccf9b0",
   "metadata": {},
   "outputs": [],
   "source": []
  },
  {
   "cell_type": "code",
   "execution_count": null,
   "id": "85fc463f-42df-41f9-ac44-8b35df64f5c0",
   "metadata": {},
   "outputs": [],
   "source": []
  },
  {
   "cell_type": "code",
   "execution_count": null,
   "id": "c9015673-2dbe-407c-bde5-968a3332985a",
   "metadata": {},
   "outputs": [],
   "source": []
  },
  {
   "cell_type": "code",
   "execution_count": null,
   "id": "a10bcb2e-ac39-4805-88d6-e106b4c6d763",
   "metadata": {},
   "outputs": [],
   "source": []
  },
  {
   "cell_type": "code",
   "execution_count": null,
   "id": "ff4941c4-ebb9-469f-bdbd-374b0c25b8c3",
   "metadata": {},
   "outputs": [],
   "source": []
  },
  {
   "cell_type": "code",
   "execution_count": null,
   "id": "08916c50-0777-477e-a4a2-eb2eaf718d19",
   "metadata": {},
   "outputs": [],
   "source": []
  },
  {
   "cell_type": "code",
   "execution_count": null,
   "id": "4f3a59d5-41b2-4687-b83e-f262f28a1b10",
   "metadata": {},
   "outputs": [],
   "source": []
  },
  {
   "cell_type": "code",
   "execution_count": null,
   "id": "1df68e3f-9e04-48bc-b08f-48ca7df74b03",
   "metadata": {},
   "outputs": [],
   "source": []
  },
  {
   "cell_type": "code",
   "execution_count": null,
   "id": "5f9c4cae-a5cb-4e45-a31b-2cc8059c45b3",
   "metadata": {},
   "outputs": [],
   "source": []
  },
  {
   "cell_type": "code",
   "execution_count": null,
   "id": "f8d2f52a-87d5-40ed-a3f4-ccf1d4aefc95",
   "metadata": {},
   "outputs": [],
   "source": []
  },
  {
   "cell_type": "code",
   "execution_count": null,
   "id": "8c254a81-b96e-45fa-a9f2-5c1d5b504e41",
   "metadata": {},
   "outputs": [],
   "source": []
  },
  {
   "cell_type": "code",
   "execution_count": null,
   "id": "ef394023-df1d-4b2e-abf6-a97a0d3eefdd",
   "metadata": {},
   "outputs": [],
   "source": []
  },
  {
   "cell_type": "code",
   "execution_count": null,
   "id": "15ea848a-bf61-45e1-bdde-cd537260dbaf",
   "metadata": {},
   "outputs": [],
   "source": []
  },
  {
   "cell_type": "code",
   "execution_count": null,
   "id": "5dfde9d2-5b55-497f-b3a5-9c85a7d1a9ea",
   "metadata": {},
   "outputs": [],
   "source": []
  },
  {
   "cell_type": "code",
   "execution_count": null,
   "id": "5d4b3a25-334f-451f-9a89-9151ab8e0cbf",
   "metadata": {},
   "outputs": [],
   "source": []
  },
  {
   "cell_type": "code",
   "execution_count": null,
   "id": "31969c19-9914-4aa5-adfe-ad7064ee7ad7",
   "metadata": {},
   "outputs": [],
   "source": []
  },
  {
   "cell_type": "code",
   "execution_count": null,
   "id": "639f6324-dc6e-486f-85eb-09037fee1041",
   "metadata": {},
   "outputs": [],
   "source": []
  },
  {
   "cell_type": "code",
   "execution_count": null,
   "id": "0d0d5eed-39b8-40af-b36d-26b89b465ad2",
   "metadata": {},
   "outputs": [],
   "source": []
  },
  {
   "cell_type": "code",
   "execution_count": null,
   "id": "ccd775f7-4499-4a5a-9a20-9378409c582f",
   "metadata": {},
   "outputs": [],
   "source": []
  }
 ],
 "metadata": {
  "kernelspec": {
   "display_name": "Python 3 (ipykernel)",
   "language": "python",
   "name": "python3"
  },
  "language_info": {
   "codemirror_mode": {
    "name": "ipython",
    "version": 3
   },
   "file_extension": ".py",
   "mimetype": "text/x-python",
   "name": "python",
   "nbconvert_exporter": "python",
   "pygments_lexer": "ipython3",
   "version": "3.10.14"
  }
 },
 "nbformat": 4,
 "nbformat_minor": 5
}
