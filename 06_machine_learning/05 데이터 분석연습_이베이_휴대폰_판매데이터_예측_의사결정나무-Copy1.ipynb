{
 "cells": [
  {
   "cell_type": "code",
   "execution_count": 140,
   "id": "fbb38651-a3e8-4746-8edc-4116f0de9921",
   "metadata": {},
   "outputs": [],
   "source": [
    "import pandas as pd\n",
    "import numpy as np\n",
    "import matplotlib.pyplot as plt\n",
    "import seaborn as sns"
   ]
  },
  {
   "cell_type": "markdown",
   "id": "dff8bfe1-0816-4d08-92c2-0c560506910a",
   "metadata": {},
   "source": [
    "# 데이터 로딩"
   ]
  },
  {
   "cell_type": "code",
   "execution_count": 2,
   "id": "ddf8a18e-bce5-4e98-9062-0240d82a5b6c",
   "metadata": {},
   "outputs": [
    {
     "data": {
      "text/html": [
       "<div>\n",
       "<style scoped>\n",
       "    .dataframe tbody tr th:only-of-type {\n",
       "        vertical-align: middle;\n",
       "    }\n",
       "\n",
       "    .dataframe tbody tr th {\n",
       "        vertical-align: top;\n",
       "    }\n",
       "\n",
       "    .dataframe thead th {\n",
       "        text-align: right;\n",
       "    }\n",
       "</style>\n",
       "<table border=\"1\" class=\"dataframe\">\n",
       "  <thead>\n",
       "    <tr style=\"text-align: right;\">\n",
       "      <th></th>\n",
       "      <th>BuyItNow</th>\n",
       "      <th>startprice</th>\n",
       "      <th>carrier</th>\n",
       "      <th>color</th>\n",
       "      <th>productline</th>\n",
       "      <th>noDescription</th>\n",
       "      <th>charCountDescription</th>\n",
       "      <th>upperCaseDescription</th>\n",
       "      <th>sold</th>\n",
       "    </tr>\n",
       "  </thead>\n",
       "  <tbody>\n",
       "    <tr>\n",
       "      <th>0</th>\n",
       "      <td>0</td>\n",
       "      <td>199.99</td>\n",
       "      <td>NaN</td>\n",
       "      <td>White</td>\n",
       "      <td>Galaxy_S9</td>\n",
       "      <td>contains description</td>\n",
       "      <td>0</td>\n",
       "      <td>0</td>\n",
       "      <td>1</td>\n",
       "    </tr>\n",
       "    <tr>\n",
       "      <th>1</th>\n",
       "      <td>0</td>\n",
       "      <td>235.00</td>\n",
       "      <td>NaN</td>\n",
       "      <td>NaN</td>\n",
       "      <td>Galaxy_Note9</td>\n",
       "      <td>contains description</td>\n",
       "      <td>0</td>\n",
       "      <td>0</td>\n",
       "      <td>0</td>\n",
       "    </tr>\n",
       "    <tr>\n",
       "      <th>2</th>\n",
       "      <td>0</td>\n",
       "      <td>199.99</td>\n",
       "      <td>NaN</td>\n",
       "      <td>NaN</td>\n",
       "      <td>Unknown</td>\n",
       "      <td>no description</td>\n",
       "      <td>100</td>\n",
       "      <td>2</td>\n",
       "      <td>0</td>\n",
       "    </tr>\n",
       "    <tr>\n",
       "      <th>3</th>\n",
       "      <td>1</td>\n",
       "      <td>175.00</td>\n",
       "      <td>AT&amp;T</td>\n",
       "      <td>Space Gray</td>\n",
       "      <td>Galaxy_Note9</td>\n",
       "      <td>contains description</td>\n",
       "      <td>0</td>\n",
       "      <td>0</td>\n",
       "      <td>1</td>\n",
       "    </tr>\n",
       "    <tr>\n",
       "      <th>4</th>\n",
       "      <td>1</td>\n",
       "      <td>100.00</td>\n",
       "      <td>NaN</td>\n",
       "      <td>Space Gray</td>\n",
       "      <td>Galaxy_S8</td>\n",
       "      <td>contains description</td>\n",
       "      <td>0</td>\n",
       "      <td>0</td>\n",
       "      <td>1</td>\n",
       "    </tr>\n",
       "  </tbody>\n",
       "</table>\n",
       "</div>"
      ],
      "text/plain": [
       "   BuyItNow  startprice carrier       color   productline  \\\n",
       "0         0      199.99     NaN       White     Galaxy_S9   \n",
       "1         0      235.00     NaN         NaN  Galaxy_Note9   \n",
       "2         0      199.99     NaN         NaN       Unknown   \n",
       "3         1      175.00    AT&T  Space Gray  Galaxy_Note9   \n",
       "4         1      100.00     NaN  Space Gray     Galaxy_S8   \n",
       "\n",
       "          noDescription  charCountDescription  upperCaseDescription  sold  \n",
       "0  contains description                     0                     0     1  \n",
       "1  contains description                     0                     0     0  \n",
       "2        no description                   100                     2     0  \n",
       "3  contains description                     0                     0     1  \n",
       "4  contains description                     0                     0     1  "
      ]
     },
     "execution_count": 2,
     "metadata": {},
     "output_type": "execute_result"
    }
   ],
   "source": [
    "data = pd.read_csv('https://raw.githubusercontent.com/haram4th/ablearn/main/galaxy.csv')\n",
    "data.head()"
   ]
  },
  {
   "cell_type": "markdown",
   "id": "a55aa6f7-7353-497f-8371-88cdd2a68aa1",
   "metadata": {},
   "source": [
    "* BuyItNow : 바로 구매 할 수 있는지의 여부(즉시 구매)\n",
    "* startprice : 경매의 시작 가격\n",
    "* carrier : 통신사\n",
    "* color : 기기 색상\n",
    "* productline : 모델명\n",
    "* noDescription : 판매자가 설명을 썼는지 안썼는지\n",
    "* charCountDescriptio : 설명이 얼마나 긴지\n",
    "* upperCaseDescription : 몇 문장인지\n",
    "* sold : 팔렸는지 안팔렸는지 (우리가 알고자하는 종속변수)"
   ]
  },
  {
   "cell_type": "code",
   "execution_count": null,
   "id": "73008abf-b747-4731-8ef2-3e452d1d1e36",
   "metadata": {},
   "outputs": [],
   "source": []
  },
  {
   "cell_type": "markdown",
   "id": "d1e96d2c-3e5d-43a9-b3da-9998062fda0e",
   "metadata": {},
   "source": [
    "# 전처리"
   ]
  },
  {
   "cell_type": "code",
   "execution_count": 141,
   "id": "774dbf29-6dfc-4840-8c4c-79242737dd64",
   "metadata": {},
   "outputs": [
    {
     "name": "stdout",
     "output_type": "stream",
     "text": [
      "<class 'pandas.core.frame.DataFrame'>\n",
      "RangeIndex: 1485 entries, 0 to 1484\n",
      "Data columns (total 7 columns):\n",
      " #   Column                Non-Null Count  Dtype\n",
      "---  ------                --------------  -----\n",
      " 0   BuyItNow              1485 non-null   int64\n",
      " 1   startprice            1485 non-null   int64\n",
      " 2   color                 1485 non-null   int64\n",
      " 3   productline           1485 non-null   int64\n",
      " 4   noDescription         1485 non-null   int64\n",
      " 5   upperCaseDescription  1485 non-null   int64\n",
      " 6   sold                  1485 non-null   int64\n",
      "dtypes: int64(7)\n",
      "memory usage: 81.3 KB\n"
     ]
    }
   ],
   "source": [
    "data.info()"
   ]
  },
  {
   "cell_type": "code",
   "execution_count": 142,
   "id": "a25d388b-92a2-421a-ae0f-befd8b4895e4",
   "metadata": {},
   "outputs": [
    {
     "data": {
      "text/html": [
       "<div>\n",
       "<style scoped>\n",
       "    .dataframe tbody tr th:only-of-type {\n",
       "        vertical-align: middle;\n",
       "    }\n",
       "\n",
       "    .dataframe tbody tr th {\n",
       "        vertical-align: top;\n",
       "    }\n",
       "\n",
       "    .dataframe thead th {\n",
       "        text-align: right;\n",
       "    }\n",
       "</style>\n",
       "<table border=\"1\" class=\"dataframe\">\n",
       "  <thead>\n",
       "    <tr style=\"text-align: right;\">\n",
       "      <th></th>\n",
       "      <th>BuyItNow</th>\n",
       "      <th>startprice</th>\n",
       "      <th>color</th>\n",
       "      <th>productline</th>\n",
       "      <th>noDescription</th>\n",
       "      <th>upperCaseDescription</th>\n",
       "      <th>sold</th>\n",
       "    </tr>\n",
       "  </thead>\n",
       "  <tbody>\n",
       "    <tr>\n",
       "      <th>count</th>\n",
       "      <td>1485.000000</td>\n",
       "      <td>1485.000000</td>\n",
       "      <td>1485.000000</td>\n",
       "      <td>1485.000000</td>\n",
       "      <td>1485.000000</td>\n",
       "      <td>1485.000000</td>\n",
       "      <td>1485.000000</td>\n",
       "    </tr>\n",
       "    <tr>\n",
       "      <th>mean</th>\n",
       "      <td>0.449158</td>\n",
       "      <td>3.896970</td>\n",
       "      <td>5.200000</td>\n",
       "      <td>3.407407</td>\n",
       "      <td>0.423569</td>\n",
       "      <td>0.400673</td>\n",
       "      <td>0.461953</td>\n",
       "    </tr>\n",
       "    <tr>\n",
       "      <th>std</th>\n",
       "      <td>0.497576</td>\n",
       "      <td>3.395855</td>\n",
       "      <td>1.740124</td>\n",
       "      <td>2.550371</td>\n",
       "      <td>0.494290</td>\n",
       "      <td>0.490200</td>\n",
       "      <td>0.498718</td>\n",
       "    </tr>\n",
       "    <tr>\n",
       "      <th>min</th>\n",
       "      <td>0.000000</td>\n",
       "      <td>0.000000</td>\n",
       "      <td>0.000000</td>\n",
       "      <td>0.000000</td>\n",
       "      <td>0.000000</td>\n",
       "      <td>0.000000</td>\n",
       "      <td>0.000000</td>\n",
       "    </tr>\n",
       "    <tr>\n",
       "      <th>25%</th>\n",
       "      <td>0.000000</td>\n",
       "      <td>1.000000</td>\n",
       "      <td>3.000000</td>\n",
       "      <td>1.000000</td>\n",
       "      <td>0.000000</td>\n",
       "      <td>0.000000</td>\n",
       "      <td>0.000000</td>\n",
       "    </tr>\n",
       "    <tr>\n",
       "      <th>50%</th>\n",
       "      <td>0.000000</td>\n",
       "      <td>3.000000</td>\n",
       "      <td>6.000000</td>\n",
       "      <td>4.000000</td>\n",
       "      <td>0.000000</td>\n",
       "      <td>0.000000</td>\n",
       "      <td>0.000000</td>\n",
       "    </tr>\n",
       "    <tr>\n",
       "      <th>75%</th>\n",
       "      <td>1.000000</td>\n",
       "      <td>6.000000</td>\n",
       "      <td>6.000000</td>\n",
       "      <td>5.000000</td>\n",
       "      <td>1.000000</td>\n",
       "      <td>1.000000</td>\n",
       "      <td>1.000000</td>\n",
       "    </tr>\n",
       "    <tr>\n",
       "      <th>max</th>\n",
       "      <td>1.000000</td>\n",
       "      <td>19.000000</td>\n",
       "      <td>7.000000</td>\n",
       "      <td>7.000000</td>\n",
       "      <td>1.000000</td>\n",
       "      <td>1.000000</td>\n",
       "      <td>1.000000</td>\n",
       "    </tr>\n",
       "  </tbody>\n",
       "</table>\n",
       "</div>"
      ],
      "text/plain": [
       "          BuyItNow   startprice        color  productline  noDescription  \\\n",
       "count  1485.000000  1485.000000  1485.000000  1485.000000    1485.000000   \n",
       "mean      0.449158     3.896970     5.200000     3.407407       0.423569   \n",
       "std       0.497576     3.395855     1.740124     2.550371       0.494290   \n",
       "min       0.000000     0.000000     0.000000     0.000000       0.000000   \n",
       "25%       0.000000     1.000000     3.000000     1.000000       0.000000   \n",
       "50%       0.000000     3.000000     6.000000     4.000000       0.000000   \n",
       "75%       1.000000     6.000000     6.000000     5.000000       1.000000   \n",
       "max       1.000000    19.000000     7.000000     7.000000       1.000000   \n",
       "\n",
       "       upperCaseDescription         sold  \n",
       "count           1485.000000  1485.000000  \n",
       "mean               0.400673     0.461953  \n",
       "std                0.490200     0.498718  \n",
       "min                0.000000     0.000000  \n",
       "25%                0.000000     0.000000  \n",
       "50%                0.000000     0.000000  \n",
       "75%                1.000000     1.000000  \n",
       "max                1.000000     1.000000  "
      ]
     },
     "execution_count": 142,
     "metadata": {},
     "output_type": "execute_result"
    }
   ],
   "source": [
    "data.describe()"
   ]
  },
  {
   "cell_type": "code",
   "execution_count": 5,
   "id": "08d51ef2-a183-4491-b39c-56aeaa2052c2",
   "metadata": {},
   "outputs": [
    {
     "data": {
      "text/html": [
       "<div>\n",
       "<style scoped>\n",
       "    .dataframe tbody tr th:only-of-type {\n",
       "        vertical-align: middle;\n",
       "    }\n",
       "\n",
       "    .dataframe tbody tr th {\n",
       "        vertical-align: top;\n",
       "    }\n",
       "\n",
       "    .dataframe thead th {\n",
       "        text-align: right;\n",
       "    }\n",
       "</style>\n",
       "<table border=\"1\" class=\"dataframe\">\n",
       "  <thead>\n",
       "    <tr style=\"text-align: right;\">\n",
       "      <th></th>\n",
       "      <th>BuyItNow</th>\n",
       "      <th>startprice</th>\n",
       "      <th>carrier</th>\n",
       "      <th>color</th>\n",
       "      <th>productline</th>\n",
       "      <th>noDescription</th>\n",
       "      <th>charCountDescription</th>\n",
       "      <th>upperCaseDescription</th>\n",
       "      <th>sold</th>\n",
       "    </tr>\n",
       "  </thead>\n",
       "  <tbody>\n",
       "    <tr>\n",
       "      <th>0</th>\n",
       "      <td>False</td>\n",
       "      <td>False</td>\n",
       "      <td>True</td>\n",
       "      <td>False</td>\n",
       "      <td>False</td>\n",
       "      <td>False</td>\n",
       "      <td>False</td>\n",
       "      <td>False</td>\n",
       "      <td>False</td>\n",
       "    </tr>\n",
       "    <tr>\n",
       "      <th>1</th>\n",
       "      <td>False</td>\n",
       "      <td>False</td>\n",
       "      <td>True</td>\n",
       "      <td>True</td>\n",
       "      <td>False</td>\n",
       "      <td>False</td>\n",
       "      <td>False</td>\n",
       "      <td>False</td>\n",
       "      <td>False</td>\n",
       "    </tr>\n",
       "    <tr>\n",
       "      <th>2</th>\n",
       "      <td>False</td>\n",
       "      <td>False</td>\n",
       "      <td>True</td>\n",
       "      <td>True</td>\n",
       "      <td>False</td>\n",
       "      <td>False</td>\n",
       "      <td>False</td>\n",
       "      <td>False</td>\n",
       "      <td>False</td>\n",
       "    </tr>\n",
       "    <tr>\n",
       "      <th>3</th>\n",
       "      <td>False</td>\n",
       "      <td>False</td>\n",
       "      <td>False</td>\n",
       "      <td>False</td>\n",
       "      <td>False</td>\n",
       "      <td>False</td>\n",
       "      <td>False</td>\n",
       "      <td>False</td>\n",
       "      <td>False</td>\n",
       "    </tr>\n",
       "    <tr>\n",
       "      <th>4</th>\n",
       "      <td>False</td>\n",
       "      <td>False</td>\n",
       "      <td>True</td>\n",
       "      <td>False</td>\n",
       "      <td>False</td>\n",
       "      <td>False</td>\n",
       "      <td>False</td>\n",
       "      <td>False</td>\n",
       "      <td>False</td>\n",
       "    </tr>\n",
       "    <tr>\n",
       "      <th>...</th>\n",
       "      <td>...</td>\n",
       "      <td>...</td>\n",
       "      <td>...</td>\n",
       "      <td>...</td>\n",
       "      <td>...</td>\n",
       "      <td>...</td>\n",
       "      <td>...</td>\n",
       "      <td>...</td>\n",
       "      <td>...</td>\n",
       "    </tr>\n",
       "    <tr>\n",
       "      <th>1480</th>\n",
       "      <td>False</td>\n",
       "      <td>False</td>\n",
       "      <td>False</td>\n",
       "      <td>True</td>\n",
       "      <td>False</td>\n",
       "      <td>False</td>\n",
       "      <td>False</td>\n",
       "      <td>False</td>\n",
       "      <td>False</td>\n",
       "    </tr>\n",
       "    <tr>\n",
       "      <th>1481</th>\n",
       "      <td>False</td>\n",
       "      <td>False</td>\n",
       "      <td>True</td>\n",
       "      <td>False</td>\n",
       "      <td>False</td>\n",
       "      <td>False</td>\n",
       "      <td>False</td>\n",
       "      <td>False</td>\n",
       "      <td>False</td>\n",
       "    </tr>\n",
       "    <tr>\n",
       "      <th>1482</th>\n",
       "      <td>False</td>\n",
       "      <td>False</td>\n",
       "      <td>True</td>\n",
       "      <td>False</td>\n",
       "      <td>False</td>\n",
       "      <td>False</td>\n",
       "      <td>False</td>\n",
       "      <td>False</td>\n",
       "      <td>False</td>\n",
       "    </tr>\n",
       "    <tr>\n",
       "      <th>1483</th>\n",
       "      <td>False</td>\n",
       "      <td>False</td>\n",
       "      <td>True</td>\n",
       "      <td>False</td>\n",
       "      <td>False</td>\n",
       "      <td>False</td>\n",
       "      <td>False</td>\n",
       "      <td>False</td>\n",
       "      <td>False</td>\n",
       "    </tr>\n",
       "    <tr>\n",
       "      <th>1484</th>\n",
       "      <td>False</td>\n",
       "      <td>False</td>\n",
       "      <td>False</td>\n",
       "      <td>False</td>\n",
       "      <td>False</td>\n",
       "      <td>False</td>\n",
       "      <td>False</td>\n",
       "      <td>False</td>\n",
       "      <td>False</td>\n",
       "    </tr>\n",
       "  </tbody>\n",
       "</table>\n",
       "<p>1485 rows × 9 columns</p>\n",
       "</div>"
      ],
      "text/plain": [
       "      BuyItNow  startprice  carrier  color  productline  noDescription  \\\n",
       "0        False       False     True  False        False          False   \n",
       "1        False       False     True   True        False          False   \n",
       "2        False       False     True   True        False          False   \n",
       "3        False       False    False  False        False          False   \n",
       "4        False       False     True  False        False          False   \n",
       "...        ...         ...      ...    ...          ...            ...   \n",
       "1480     False       False    False   True        False          False   \n",
       "1481     False       False     True  False        False          False   \n",
       "1482     False       False     True  False        False          False   \n",
       "1483     False       False     True  False        False          False   \n",
       "1484     False       False    False  False        False          False   \n",
       "\n",
       "      charCountDescription  upperCaseDescription   sold  \n",
       "0                    False                 False  False  \n",
       "1                    False                 False  False  \n",
       "2                    False                 False  False  \n",
       "3                    False                 False  False  \n",
       "4                    False                 False  False  \n",
       "...                    ...                   ...    ...  \n",
       "1480                 False                 False  False  \n",
       "1481                 False                 False  False  \n",
       "1482                 False                 False  False  \n",
       "1483                 False                 False  False  \n",
       "1484                 False                 False  False  \n",
       "\n",
       "[1485 rows x 9 columns]"
      ]
     },
     "execution_count": 5,
     "metadata": {},
     "output_type": "execute_result"
    }
   ],
   "source": [
    "data.isna()"
   ]
  },
  {
   "cell_type": "code",
   "execution_count": 6,
   "id": "9a840d2d-44e6-4222-9c4e-ff8947bf87d1",
   "metadata": {},
   "outputs": [
    {
     "data": {
      "text/plain": [
       "BuyItNow                   0\n",
       "startprice                 0\n",
       "carrier                 1169\n",
       "color                    593\n",
       "productline                0\n",
       "noDescription              0\n",
       "charCountDescription       0\n",
       "upperCaseDescription       0\n",
       "sold                       0\n",
       "dtype: int64"
      ]
     },
     "execution_count": 6,
     "metadata": {},
     "output_type": "execute_result"
    }
   ],
   "source": [
    "data.isna().sum()"
   ]
  },
  {
   "cell_type": "code",
   "execution_count": 7,
   "id": "a21d4867-5b1b-4c4c-8db7-56e7e66a719d",
   "metadata": {},
   "outputs": [
    {
     "data": {
      "text/html": [
       "<div>\n",
       "<style scoped>\n",
       "    .dataframe tbody tr th:only-of-type {\n",
       "        vertical-align: middle;\n",
       "    }\n",
       "\n",
       "    .dataframe tbody tr th {\n",
       "        vertical-align: top;\n",
       "    }\n",
       "\n",
       "    .dataframe thead th {\n",
       "        text-align: right;\n",
       "    }\n",
       "</style>\n",
       "<table border=\"1\" class=\"dataframe\">\n",
       "  <thead>\n",
       "    <tr style=\"text-align: right;\">\n",
       "      <th></th>\n",
       "      <th>BuyItNow</th>\n",
       "      <th>startprice</th>\n",
       "      <th>carrier</th>\n",
       "      <th>color</th>\n",
       "      <th>productline</th>\n",
       "      <th>noDescription</th>\n",
       "      <th>charCountDescription</th>\n",
       "      <th>upperCaseDescription</th>\n",
       "      <th>sold</th>\n",
       "    </tr>\n",
       "  </thead>\n",
       "  <tbody>\n",
       "    <tr>\n",
       "      <th>0</th>\n",
       "      <td>0</td>\n",
       "      <td>199.99</td>\n",
       "      <td>NaN</td>\n",
       "      <td>White</td>\n",
       "      <td>Galaxy_S9</td>\n",
       "      <td>contains description</td>\n",
       "      <td>0</td>\n",
       "      <td>0</td>\n",
       "      <td>1</td>\n",
       "    </tr>\n",
       "    <tr>\n",
       "      <th>1</th>\n",
       "      <td>0</td>\n",
       "      <td>235.00</td>\n",
       "      <td>NaN</td>\n",
       "      <td>NaN</td>\n",
       "      <td>Galaxy_Note9</td>\n",
       "      <td>contains description</td>\n",
       "      <td>0</td>\n",
       "      <td>0</td>\n",
       "      <td>0</td>\n",
       "    </tr>\n",
       "    <tr>\n",
       "      <th>2</th>\n",
       "      <td>0</td>\n",
       "      <td>199.99</td>\n",
       "      <td>NaN</td>\n",
       "      <td>NaN</td>\n",
       "      <td>Unknown</td>\n",
       "      <td>no description</td>\n",
       "      <td>100</td>\n",
       "      <td>2</td>\n",
       "      <td>0</td>\n",
       "    </tr>\n",
       "    <tr>\n",
       "      <th>3</th>\n",
       "      <td>1</td>\n",
       "      <td>175.00</td>\n",
       "      <td>AT&amp;T</td>\n",
       "      <td>Space Gray</td>\n",
       "      <td>Galaxy_Note9</td>\n",
       "      <td>contains description</td>\n",
       "      <td>0</td>\n",
       "      <td>0</td>\n",
       "      <td>1</td>\n",
       "    </tr>\n",
       "    <tr>\n",
       "      <th>4</th>\n",
       "      <td>1</td>\n",
       "      <td>100.00</td>\n",
       "      <td>NaN</td>\n",
       "      <td>Space Gray</td>\n",
       "      <td>Galaxy_S8</td>\n",
       "      <td>contains description</td>\n",
       "      <td>0</td>\n",
       "      <td>0</td>\n",
       "      <td>1</td>\n",
       "    </tr>\n",
       "    <tr>\n",
       "      <th>...</th>\n",
       "      <td>...</td>\n",
       "      <td>...</td>\n",
       "      <td>...</td>\n",
       "      <td>...</td>\n",
       "      <td>...</td>\n",
       "      <td>...</td>\n",
       "      <td>...</td>\n",
       "      <td>...</td>\n",
       "      <td>...</td>\n",
       "    </tr>\n",
       "    <tr>\n",
       "      <th>1480</th>\n",
       "      <td>0</td>\n",
       "      <td>89.50</td>\n",
       "      <td>AT&amp;T</td>\n",
       "      <td>NaN</td>\n",
       "      <td>Galaxy_S7</td>\n",
       "      <td>no description</td>\n",
       "      <td>96</td>\n",
       "      <td>2</td>\n",
       "      <td>0</td>\n",
       "    </tr>\n",
       "    <tr>\n",
       "      <th>1481</th>\n",
       "      <td>0</td>\n",
       "      <td>239.95</td>\n",
       "      <td>NaN</td>\n",
       "      <td>Midnight Black</td>\n",
       "      <td>Galaxy_S9</td>\n",
       "      <td>no description</td>\n",
       "      <td>97</td>\n",
       "      <td>5</td>\n",
       "      <td>1</td>\n",
       "    </tr>\n",
       "    <tr>\n",
       "      <th>1482</th>\n",
       "      <td>0</td>\n",
       "      <td>329.99</td>\n",
       "      <td>NaN</td>\n",
       "      <td>Space Gray</td>\n",
       "      <td>Galaxy_Note10</td>\n",
       "      <td>no description</td>\n",
       "      <td>93</td>\n",
       "      <td>1</td>\n",
       "      <td>0</td>\n",
       "    </tr>\n",
       "    <tr>\n",
       "      <th>1483</th>\n",
       "      <td>0</td>\n",
       "      <td>89.00</td>\n",
       "      <td>NaN</td>\n",
       "      <td>Midnight Black</td>\n",
       "      <td>Galaxy_S7</td>\n",
       "      <td>no description</td>\n",
       "      <td>92</td>\n",
       "      <td>2</td>\n",
       "      <td>1</td>\n",
       "    </tr>\n",
       "    <tr>\n",
       "      <th>1484</th>\n",
       "      <td>0</td>\n",
       "      <td>119.99</td>\n",
       "      <td>AT&amp;T</td>\n",
       "      <td>Midnight Black</td>\n",
       "      <td>Galaxy_S7</td>\n",
       "      <td>no description</td>\n",
       "      <td>96</td>\n",
       "      <td>5</td>\n",
       "      <td>0</td>\n",
       "    </tr>\n",
       "  </tbody>\n",
       "</table>\n",
       "<p>1485 rows × 9 columns</p>\n",
       "</div>"
      ],
      "text/plain": [
       "      BuyItNow  startprice carrier           color    productline  \\\n",
       "0            0      199.99     NaN           White      Galaxy_S9   \n",
       "1            0      235.00     NaN             NaN   Galaxy_Note9   \n",
       "2            0      199.99     NaN             NaN        Unknown   \n",
       "3            1      175.00    AT&T      Space Gray   Galaxy_Note9   \n",
       "4            1      100.00     NaN      Space Gray      Galaxy_S8   \n",
       "...        ...         ...     ...             ...            ...   \n",
       "1480         0       89.50    AT&T             NaN      Galaxy_S7   \n",
       "1481         0      239.95     NaN  Midnight Black      Galaxy_S9   \n",
       "1482         0      329.99     NaN      Space Gray  Galaxy_Note10   \n",
       "1483         0       89.00     NaN  Midnight Black      Galaxy_S7   \n",
       "1484         0      119.99    AT&T  Midnight Black      Galaxy_S7   \n",
       "\n",
       "             noDescription  charCountDescription  upperCaseDescription  sold  \n",
       "0     contains description                     0                     0     1  \n",
       "1     contains description                     0                     0     0  \n",
       "2           no description                   100                     2     0  \n",
       "3     contains description                     0                     0     1  \n",
       "4     contains description                     0                     0     1  \n",
       "...                    ...                   ...                   ...   ...  \n",
       "1480        no description                    96                     2     0  \n",
       "1481        no description                    97                     5     1  \n",
       "1482        no description                    93                     1     0  \n",
       "1483        no description                    92                     2     1  \n",
       "1484        no description                    96                     5     0  \n",
       "\n",
       "[1485 rows x 9 columns]"
      ]
     },
     "execution_count": 7,
     "metadata": {},
     "output_type": "execute_result"
    }
   ],
   "source": [
    "data"
   ]
  },
  {
   "cell_type": "markdown",
   "id": "7992f8ba-e74f-46eb-aa32-58800e9bb2b3",
   "metadata": {},
   "source": [
    "# ------------------------------------------------------------------------"
   ]
  },
  {
   "cell_type": "code",
   "execution_count": null,
   "id": "b4525700-458b-46c6-afff-06c20be9a12b",
   "metadata": {},
   "outputs": [],
   "source": []
  },
  {
   "cell_type": "code",
   "execution_count": 8,
   "id": "6291d1ab-9bb7-47c7-84af-2b7dda4a8046",
   "metadata": {},
   "outputs": [
    {
     "data": {
      "text/plain": [
       "BuyItNow  sold\n",
       "0         0       639\n",
       "          1       179\n",
       "1         0       160\n",
       "          1       507\n",
       "Name: count, dtype: int64"
      ]
     },
     "execution_count": 8,
     "metadata": {},
     "output_type": "execute_result"
    }
   ],
   "source": [
    "data[['sold', 'BuyItNow']].groupby('BuyItNow').value_counts(sort = False)"
   ]
  },
  {
   "cell_type": "code",
   "execution_count": 9,
   "id": "905f6ae3-f7b2-4d8a-8ba4-bd505c56acff",
   "metadata": {},
   "outputs": [
    {
     "data": {
      "text/plain": [
       "<Axes: xlabel='BuyItNow,sold'>"
      ]
     },
     "execution_count": 9,
     "metadata": {},
     "output_type": "execute_result"
    },
    {
     "data": {
      "image/png": "[encoded data removed]",
      "text/plain": [
       "<Figure size 640x480 with 1 Axes>"
      ]
     },
     "metadata": {},
     "output_type": "display_data"
    }
   ],
   "source": [
    "data[['sold', 'BuyItNow']].groupby('BuyItNow').value_counts(sort = False).plot(kind = 'bar')"
   ]
  },
  {
   "cell_type": "code",
   "execution_count": null,
   "id": "e721cd7f-9303-4888-8b3b-b3ec44e9c2a8",
   "metadata": {},
   "outputs": [],
   "source": []
  },
  {
   "cell_type": "code",
   "execution_count": null,
   "id": "b7963b76-98fb-43ee-b9de-adca75205130",
   "metadata": {},
   "outputs": [],
   "source": []
  },
  {
   "cell_type": "code",
   "execution_count": null,
   "id": "7ce46a83-d045-4356-8095-7192b673d633",
   "metadata": {},
   "outputs": [],
   "source": []
  },
  {
   "cell_type": "code",
   "execution_count": null,
   "id": "ee39aa96-bc9c-4034-9524-4e31b3daa178",
   "metadata": {},
   "outputs": [],
   "source": []
  },
  {
   "cell_type": "code",
   "execution_count": null,
   "id": "16a2aa84-dcea-492d-86ef-b51a0e0521b6",
   "metadata": {},
   "outputs": [],
   "source": []
  },
  {
   "cell_type": "code",
   "execution_count": null,
   "id": "4ce140e7-8f7a-41ba-92e9-a51e3f38c9fe",
   "metadata": {},
   "outputs": [],
   "source": []
  },
  {
   "cell_type": "code",
   "execution_count": null,
   "id": "b08a08be-05f5-4516-9278-4dbc92f5371e",
   "metadata": {},
   "outputs": [],
   "source": []
  },
  {
   "cell_type": "code",
   "execution_count": null,
   "id": "da9abd0b-a5bc-4af7-8698-7b3d91f19c35",
   "metadata": {},
   "outputs": [],
   "source": []
  },
  {
   "cell_type": "code",
   "execution_count": null,
   "id": "8f35e1d2-5a9c-424b-af02-45f781951b93",
   "metadata": {},
   "outputs": [],
   "source": []
  },
  {
   "cell_type": "code",
   "execution_count": 91,
   "id": "ba318ddd-ab25-4290-8bbb-cdf08bb5bebc",
   "metadata": {},
   "outputs": [],
   "source": [
    "data['startprice_binned'] = pd.cut(data['startprice'], bins=range(0, int(data['startprice'].max()) + 50, 50)).value_counts()\n"
   ]
  },
  {
   "cell_type": "code",
   "execution_count": 94,
   "id": "48038e75-2bf2-40b4-b867-c52a4703e5e0",
   "metadata": {},
   "outputs": [
    {
     "data": {
      "text/plain": [
       "<Axes: xlabel='startprice_binned,sold'>"
      ]
     },
     "execution_count": 94,
     "metadata": {},
     "output_type": "execute_result"
    },
    {
     "data": {
      "image/png": "[encoded data removed]",
      "text/plain": [
       "<Figure size 640x480 with 1 Axes>"
      ]
     },
     "metadata": {},
     "output_type": "display_data"
    }
   ],
   "source": [
    "data[['sold', 'startprice_binned']].groupby('startprice_binned').value_counts(sort=False).plot(kind='bar')"
   ]
  },
  {
   "cell_type": "code",
   "execution_count": 95,
   "id": "3673b76c-c069-43c9-becc-d4d9e2b69b49",
   "metadata": {
    "collapsed": true,
    "jupyter": {
     "outputs_hidden": true
    },
    "scrolled": true
   },
   "outputs": [
    {
     "data": {
      "text/plain": [
       "startprice_binned\n",
       "1.0      200\n",
       "285.0     50\n",
       "218.0     50\n",
       "170.0     50\n",
       "132.0     50\n",
       "144.0     50\n",
       "108.0     50\n",
       "77.0      50\n",
       "153.0     50\n",
       "50.0      50\n",
       "46.0      50\n",
       "24.0      50\n",
       "33.0      50\n",
       "18.0      50\n",
       "10.0      50\n",
       "8.0       50\n",
       "5.0       50\n",
       "Name: count, dtype: int64"
      ]
     },
     "execution_count": 95,
     "metadata": {},
     "output_type": "execute_result"
    }
   ],
   "source": [
    "data['startprice_binned'].value_counts()"
   ]
  },
  {
   "cell_type": "code",
   "execution_count": 81,
   "id": "36d914e1-db18-4fc5-994c-e8e14ad097b2",
   "metadata": {
    "scrolled": true
   },
   "outputs": [
    {
     "data": {
      "text/plain": [
       "startprice\n",
       "0.99      114\n",
       "100.00     43\n",
       "50.00      33\n",
       "150.00     32\n",
       "200.00     29\n",
       "         ... \n",
       "144.50      1\n",
       "224.99      1\n",
       "54.99       1\n",
       "57.50       1\n",
       "91.00       1\n",
       "Name: count, Length: 485, dtype: int64"
      ]
     },
     "execution_count": 81,
     "metadata": {},
     "output_type": "execute_result"
    }
   ],
   "source": [
    "data['startprice'].value_counts()"
   ]
  },
  {
   "cell_type": "code",
   "execution_count": null,
   "id": "79ba2a30-baa3-45f4-a09b-8b00be3c55d8",
   "metadata": {},
   "outputs": [],
   "source": []
  },
  {
   "cell_type": "code",
   "execution_count": 100,
   "id": "d759e660-8faa-4079-b93d-d1592e2e2c64",
   "metadata": {},
   "outputs": [
    {
     "name": "stderr",
     "output_type": "stream",
     "text": [
      "C:\\Users\\5-04\\AppData\\Local\\Temp\\ipykernel_11620\\1815980226.py:2: FutureWarning: The default of observed=False is deprecated and will be changed to True in a future version of pandas. Pass observed=False to retain current behavior or observed=True to adopt the future default and silence this warning.\n",
      "  data.groupby(['startprice_binned', 'sold']).size().unstack().plot(kind='bar', stacked=True, figsize=(12, 6))\n"
     ]
    },
    {
     "data": {
      "text/plain": [
       "<Axes: xlabel='startprice_binned'>"
      ]
     },
     "execution_count": 100,
     "metadata": {},
     "output_type": "execute_result"
    },
    {
     "data": {
      "image/png": "[encoded data removed]",
      "text/plain": [
       "<Figure size 1200x600 with 1 Axes>"
      ]
     },
     "metadata": {},
     "output_type": "display_data"
    }
   ],
   "source": [
    "data['startprice_binned'] = pd.cut(data['startprice'], bins=range(0, int(data['startprice'].max()) + 50, 50))\n",
    "data.groupby(['startprice_binned', 'sold']).size().unstack().plot(kind='bar', stacked=True, figsize=(12, 6))"
   ]
  },
  {
   "cell_type": "markdown",
   "id": "54eaf06b-db62-40e6-90f4-0da4ba1fbc06",
   "metadata": {},
   "source": [
    "* 구간화 (pd.cut): startprice 값을 50 단위로 구간을 나눕니다. 예를 들어, 0-50, 50-100, 100-150 등으로 나눕니다.\n",
    "* 그룹화 (groupby): 이렇게 나눈 구간에 대해 sold 값이 0 또는 1인 경우가 얼마나 있는지를 그룹화하여 계산합니다.\n",
    "* 그래프 출력 (plot): 계산된 결과를 바 그래프로 나타내며, 같은 구간 내에서 sold가 0인 경우와 1인 경우가 쌓여서 표시됩니다.\n",
    "* .size(): 각 그룹에 속하는 데이터의 개수를 세어줍니다. 특정 구간의 startprice에 대해 sold가 0 또는 1인 경우가 각각 몇 개 있는지를 계산\n",
    "* .unstack(): 이 부분은 그룹화된 결과를 2차원 형태로 변환합니다. sold 값이 0과 1인 경우가 각각 별도의 열\n",
    "<br><br>\n",
    "* .plot(kind='bar', stacked=True, figsize=(12, 6))\n",
    "* stacked=True: 이 옵션은 막대를 누적 형태\n",
    "* figsize=(12, 6): 그래프의 크기를 설정합니다. 가로 12인치, 세로 6인치"
   ]
  },
  {
   "cell_type": "code",
   "execution_count": null,
   "id": "bd618fd9-105c-4b44-b04a-1f0354cb24cd",
   "metadata": {},
   "outputs": [],
   "source": [
    "data['startprice']"
   ]
  },
  {
   "cell_type": "code",
   "execution_count": 109,
   "id": "4df9e454-2931-413d-837c-cf76ef1b1768",
   "metadata": {
    "scrolled": true
   },
   "outputs": [
    {
     "ename": "TypeError",
     "evalue": "'<' not supported between instances of 'str' and 'int'",
     "output_type": "error",
     "traceback": [
      "\u001b[1;31m---------------------------------------------------------------------------\u001b[0m",
      "\u001b[1;31mTypeError\u001b[0m                                 Traceback (most recent call last)",
      "Cell \u001b[1;32mIn[109], line 67\u001b[0m\n\u001b[0;32m     64\u001b[0m         \u001b[38;5;28;01mreturn\u001b[39;00m \u001b[38;5;241m20\u001b[39m\n\u001b[0;32m     66\u001b[0m \u001b[38;5;66;03m# 예시로 적용\u001b[39;00m\n\u001b[1;32m---> 67\u001b[0m data[\u001b[38;5;124m'\u001b[39m\u001b[38;5;124mstartprice\u001b[39m\u001b[38;5;124m'\u001b[39m] \u001b[38;5;241m=\u001b[39m \u001b[43mdata\u001b[49m\u001b[43m[\u001b[49m\u001b[38;5;124;43m'\u001b[39;49m\u001b[38;5;124;43mstartprice\u001b[39;49m\u001b[38;5;124;43m'\u001b[39;49m\u001b[43m]\u001b[49m\u001b[38;5;241;43m.\u001b[39;49m\u001b[43mapply\u001b[49m\u001b[43m(\u001b[49m\u001b[43mstartprice_num\u001b[49m\u001b[43m)\u001b[49m\n",
      "File \u001b[1;32m~\\miniforge3\\envs\\fintech\\lib\\site-packages\\pandas\\core\\series.py:4924\u001b[0m, in \u001b[0;36mSeries.apply\u001b[1;34m(self, func, convert_dtype, args, by_row, **kwargs)\u001b[0m\n\u001b[0;32m   4789\u001b[0m \u001b[38;5;28;01mdef\u001b[39;00m \u001b[38;5;21mapply\u001b[39m(\n\u001b[0;32m   4790\u001b[0m     \u001b[38;5;28mself\u001b[39m,\n\u001b[0;32m   4791\u001b[0m     func: AggFuncType,\n\u001b[1;32m   (...)\u001b[0m\n\u001b[0;32m   4796\u001b[0m     \u001b[38;5;241m*\u001b[39m\u001b[38;5;241m*\u001b[39mkwargs,\n\u001b[0;32m   4797\u001b[0m ) \u001b[38;5;241m-\u001b[39m\u001b[38;5;241m>\u001b[39m DataFrame \u001b[38;5;241m|\u001b[39m Series:\n\u001b[0;32m   4798\u001b[0m \u001b[38;5;250m    \u001b[39m\u001b[38;5;124;03m\"\"\"\u001b[39;00m\n\u001b[0;32m   4799\u001b[0m \u001b[38;5;124;03m    Invoke function on values of Series.\u001b[39;00m\n\u001b[0;32m   4800\u001b[0m \n\u001b[1;32m   (...)\u001b[0m\n\u001b[0;32m   4915\u001b[0m \u001b[38;5;124;03m    dtype: float64\u001b[39;00m\n\u001b[0;32m   4916\u001b[0m \u001b[38;5;124;03m    \"\"\"\u001b[39;00m\n\u001b[0;32m   4917\u001b[0m     \u001b[38;5;28;01mreturn\u001b[39;00m \u001b[43mSeriesApply\u001b[49m\u001b[43m(\u001b[49m\n\u001b[0;32m   4918\u001b[0m \u001b[43m        \u001b[49m\u001b[38;5;28;43mself\u001b[39;49m\u001b[43m,\u001b[49m\n\u001b[0;32m   4919\u001b[0m \u001b[43m        \u001b[49m\u001b[43mfunc\u001b[49m\u001b[43m,\u001b[49m\n\u001b[0;32m   4920\u001b[0m \u001b[43m        \u001b[49m\u001b[43mconvert_dtype\u001b[49m\u001b[38;5;241;43m=\u001b[39;49m\u001b[43mconvert_dtype\u001b[49m\u001b[43m,\u001b[49m\n\u001b[0;32m   4921\u001b[0m \u001b[43m        \u001b[49m\u001b[43mby_row\u001b[49m\u001b[38;5;241;43m=\u001b[39;49m\u001b[43mby_row\u001b[49m\u001b[43m,\u001b[49m\n\u001b[0;32m   4922\u001b[0m \u001b[43m        \u001b[49m\u001b[43margs\u001b[49m\u001b[38;5;241;43m=\u001b[39;49m\u001b[43margs\u001b[49m\u001b[43m,\u001b[49m\n\u001b[0;32m   4923\u001b[0m \u001b[43m        \u001b[49m\u001b[43mkwargs\u001b[49m\u001b[38;5;241;43m=\u001b[39;49m\u001b[43mkwargs\u001b[49m\u001b[43m,\u001b[49m\n\u001b[1;32m-> 4924\u001b[0m \u001b[43m    \u001b[49m\u001b[43m)\u001b[49m\u001b[38;5;241;43m.\u001b[39;49m\u001b[43mapply\u001b[49m\u001b[43m(\u001b[49m\u001b[43m)\u001b[49m\n",
      "File \u001b[1;32m~\\miniforge3\\envs\\fintech\\lib\\site-packages\\pandas\\core\\apply.py:1427\u001b[0m, in \u001b[0;36mSeriesApply.apply\u001b[1;34m(self)\u001b[0m\n\u001b[0;32m   1424\u001b[0m     \u001b[38;5;28;01mreturn\u001b[39;00m \u001b[38;5;28mself\u001b[39m\u001b[38;5;241m.\u001b[39mapply_compat()\n\u001b[0;32m   1426\u001b[0m \u001b[38;5;66;03m# self.func is Callable\u001b[39;00m\n\u001b[1;32m-> 1427\u001b[0m \u001b[38;5;28;01mreturn\u001b[39;00m \u001b[38;5;28;43mself\u001b[39;49m\u001b[38;5;241;43m.\u001b[39;49m\u001b[43mapply_standard\u001b[49m\u001b[43m(\u001b[49m\u001b[43m)\u001b[49m\n",
      "File \u001b[1;32m~\\miniforge3\\envs\\fintech\\lib\\site-packages\\pandas\\core\\apply.py:1507\u001b[0m, in \u001b[0;36mSeriesApply.apply_standard\u001b[1;34m(self)\u001b[0m\n\u001b[0;32m   1501\u001b[0m \u001b[38;5;66;03m# row-wise access\u001b[39;00m\n\u001b[0;32m   1502\u001b[0m \u001b[38;5;66;03m# apply doesn't have a `na_action` keyword and for backward compat reasons\u001b[39;00m\n\u001b[0;32m   1503\u001b[0m \u001b[38;5;66;03m# we need to give `na_action=\"ignore\"` for categorical data.\u001b[39;00m\n\u001b[0;32m   1504\u001b[0m \u001b[38;5;66;03m# TODO: remove the `na_action=\"ignore\"` when that default has been changed in\u001b[39;00m\n\u001b[0;32m   1505\u001b[0m \u001b[38;5;66;03m#  Categorical (GH51645).\u001b[39;00m\n\u001b[0;32m   1506\u001b[0m action \u001b[38;5;241m=\u001b[39m \u001b[38;5;124m\"\u001b[39m\u001b[38;5;124mignore\u001b[39m\u001b[38;5;124m\"\u001b[39m \u001b[38;5;28;01mif\u001b[39;00m \u001b[38;5;28misinstance\u001b[39m(obj\u001b[38;5;241m.\u001b[39mdtype, CategoricalDtype) \u001b[38;5;28;01melse\u001b[39;00m \u001b[38;5;28;01mNone\u001b[39;00m\n\u001b[1;32m-> 1507\u001b[0m mapped \u001b[38;5;241m=\u001b[39m \u001b[43mobj\u001b[49m\u001b[38;5;241;43m.\u001b[39;49m\u001b[43m_map_values\u001b[49m\u001b[43m(\u001b[49m\n\u001b[0;32m   1508\u001b[0m \u001b[43m    \u001b[49m\u001b[43mmapper\u001b[49m\u001b[38;5;241;43m=\u001b[39;49m\u001b[43mcurried\u001b[49m\u001b[43m,\u001b[49m\u001b[43m \u001b[49m\u001b[43mna_action\u001b[49m\u001b[38;5;241;43m=\u001b[39;49m\u001b[43maction\u001b[49m\u001b[43m,\u001b[49m\u001b[43m \u001b[49m\u001b[43mconvert\u001b[49m\u001b[38;5;241;43m=\u001b[39;49m\u001b[38;5;28;43mself\u001b[39;49m\u001b[38;5;241;43m.\u001b[39;49m\u001b[43mconvert_dtype\u001b[49m\n\u001b[0;32m   1509\u001b[0m \u001b[43m\u001b[49m\u001b[43m)\u001b[49m\n\u001b[0;32m   1511\u001b[0m \u001b[38;5;28;01mif\u001b[39;00m \u001b[38;5;28mlen\u001b[39m(mapped) \u001b[38;5;129;01mand\u001b[39;00m \u001b[38;5;28misinstance\u001b[39m(mapped[\u001b[38;5;241m0\u001b[39m], ABCSeries):\n\u001b[0;32m   1512\u001b[0m     \u001b[38;5;66;03m# GH#43986 Need to do list(mapped) in order to get treated as nested\u001b[39;00m\n\u001b[0;32m   1513\u001b[0m     \u001b[38;5;66;03m#  See also GH#25959 regarding EA support\u001b[39;00m\n\u001b[0;32m   1514\u001b[0m     \u001b[38;5;28;01mreturn\u001b[39;00m obj\u001b[38;5;241m.\u001b[39m_constructor_expanddim(\u001b[38;5;28mlist\u001b[39m(mapped), index\u001b[38;5;241m=\u001b[39mobj\u001b[38;5;241m.\u001b[39mindex)\n",
      "File \u001b[1;32m~\\miniforge3\\envs\\fintech\\lib\\site-packages\\pandas\\core\\base.py:921\u001b[0m, in \u001b[0;36mIndexOpsMixin._map_values\u001b[1;34m(self, mapper, na_action, convert)\u001b[0m\n\u001b[0;32m    918\u001b[0m \u001b[38;5;28;01mif\u001b[39;00m \u001b[38;5;28misinstance\u001b[39m(arr, ExtensionArray):\n\u001b[0;32m    919\u001b[0m     \u001b[38;5;28;01mreturn\u001b[39;00m arr\u001b[38;5;241m.\u001b[39mmap(mapper, na_action\u001b[38;5;241m=\u001b[39mna_action)\n\u001b[1;32m--> 921\u001b[0m \u001b[38;5;28;01mreturn\u001b[39;00m \u001b[43malgorithms\u001b[49m\u001b[38;5;241;43m.\u001b[39;49m\u001b[43mmap_array\u001b[49m\u001b[43m(\u001b[49m\u001b[43marr\u001b[49m\u001b[43m,\u001b[49m\u001b[43m \u001b[49m\u001b[43mmapper\u001b[49m\u001b[43m,\u001b[49m\u001b[43m \u001b[49m\u001b[43mna_action\u001b[49m\u001b[38;5;241;43m=\u001b[39;49m\u001b[43mna_action\u001b[49m\u001b[43m,\u001b[49m\u001b[43m \u001b[49m\u001b[43mconvert\u001b[49m\u001b[38;5;241;43m=\u001b[39;49m\u001b[43mconvert\u001b[49m\u001b[43m)\u001b[49m\n",
      "File \u001b[1;32m~\\miniforge3\\envs\\fintech\\lib\\site-packages\\pandas\\core\\algorithms.py:1743\u001b[0m, in \u001b[0;36mmap_array\u001b[1;34m(arr, mapper, na_action, convert)\u001b[0m\n\u001b[0;32m   1741\u001b[0m values \u001b[38;5;241m=\u001b[39m arr\u001b[38;5;241m.\u001b[39mastype(\u001b[38;5;28mobject\u001b[39m, copy\u001b[38;5;241m=\u001b[39m\u001b[38;5;28;01mFalse\u001b[39;00m)\n\u001b[0;32m   1742\u001b[0m \u001b[38;5;28;01mif\u001b[39;00m na_action \u001b[38;5;129;01mis\u001b[39;00m \u001b[38;5;28;01mNone\u001b[39;00m:\n\u001b[1;32m-> 1743\u001b[0m     \u001b[38;5;28;01mreturn\u001b[39;00m \u001b[43mlib\u001b[49m\u001b[38;5;241;43m.\u001b[39;49m\u001b[43mmap_infer\u001b[49m\u001b[43m(\u001b[49m\u001b[43mvalues\u001b[49m\u001b[43m,\u001b[49m\u001b[43m \u001b[49m\u001b[43mmapper\u001b[49m\u001b[43m,\u001b[49m\u001b[43m \u001b[49m\u001b[43mconvert\u001b[49m\u001b[38;5;241;43m=\u001b[39;49m\u001b[43mconvert\u001b[49m\u001b[43m)\u001b[49m\n\u001b[0;32m   1744\u001b[0m \u001b[38;5;28;01melse\u001b[39;00m:\n\u001b[0;32m   1745\u001b[0m     \u001b[38;5;28;01mreturn\u001b[39;00m lib\u001b[38;5;241m.\u001b[39mmap_infer_mask(\n\u001b[0;32m   1746\u001b[0m         values, mapper, mask\u001b[38;5;241m=\u001b[39misna(values)\u001b[38;5;241m.\u001b[39mview(np\u001b[38;5;241m.\u001b[39muint8), convert\u001b[38;5;241m=\u001b[39mconvert\n\u001b[0;32m   1747\u001b[0m     )\n",
      "File \u001b[1;32mlib.pyx:2972\u001b[0m, in \u001b[0;36mpandas._libs.lib.map_infer\u001b[1;34m()\u001b[0m\n",
      "Cell \u001b[1;32mIn[109], line 3\u001b[0m, in \u001b[0;36mstartprice_num\u001b[1;34m(x)\u001b[0m\n\u001b[0;32m      1\u001b[0m \u001b[38;5;28;01mdef\u001b[39;00m \u001b[38;5;21mstartprice_num\u001b[39m(x):\n\u001b[0;32m      2\u001b[0m     \u001b[38;5;66;03m# 0-50\u001b[39;00m\n\u001b[1;32m----> 3\u001b[0m     \u001b[38;5;28;01mif\u001b[39;00m \u001b[43mx\u001b[49m\u001b[43m \u001b[49m\u001b[38;5;241;43m<\u001b[39;49m\u001b[43m \u001b[49m\u001b[38;5;241;43m50\u001b[39;49m:  \n\u001b[0;32m      4\u001b[0m         \u001b[38;5;28;01mreturn\u001b[39;00m \u001b[38;5;241m0\u001b[39m\n\u001b[0;32m      5\u001b[0m     \u001b[38;5;66;03m# 50-100\u001b[39;00m\n",
      "\u001b[1;31mTypeError\u001b[0m: '<' not supported between instances of 'str' and 'int'"
     ]
    }
   ],
   "source": [
    "def startprice_num(x):\n",
    "    # 0-50\n",
    "    if x < 50:  \n",
    "        return 0\n",
    "    # 50-100\n",
    "    elif x < 100:\n",
    "        return 1\n",
    "    # 100-150    \n",
    "    elif x < 150:\n",
    "        return 2\n",
    "    # 150-200\n",
    "    elif x < 200:\n",
    "        return 3\n",
    "    # 200-250\n",
    "    elif x < 250:\n",
    "        return 4\n",
    "    # 250-300\n",
    "    elif x < 300:\n",
    "        return 5\n",
    "    # 300-350\n",
    "    elif x < 350:\n",
    "        return 6\n",
    "    # 350-400\n",
    "    elif x < 400:\n",
    "        return 7\n",
    "    # 400-450\n",
    "    elif x < 450:\n",
    "        return 8\n",
    "    # 450-500\n",
    "    elif x < 500:\n",
    "        return 9\n",
    "    # 500-550\n",
    "    elif x < 550:\n",
    "        return 10\n",
    "    # 550-600\n",
    "    elif x < 600:\n",
    "        return 11\n",
    "    # 600-650\n",
    "    elif x < 650:\n",
    "        return 12\n",
    "    # 650-700\n",
    "    elif x < 700:\n",
    "        return 13\n",
    "    # 700-750\n",
    "    elif x < 750:\n",
    "        return 14\n",
    "    # 750-800\n",
    "    elif x < 800:\n",
    "        return 15\n",
    "    # 800-850\n",
    "    elif x < 850:\n",
    "        return 16\n",
    "    # 850-900\n",
    "    elif x < 900:\n",
    "        return 17\n",
    "    # 900-950\n",
    "    elif x < 950:\n",
    "        return 18\n",
    "    # 950-1000\n",
    "    elif x < 1000:\n",
    "        return 19\n",
    "    # 1000+\n",
    "    else:\n",
    "        return 20\n",
    "\n",
    "# 예시로 적용\n",
    "data['startprice'] = data['startprice'].apply(startprice_num)\n"
   ]
  },
  {
   "cell_type": "code",
   "execution_count": null,
   "id": "a1e55a40-802c-489e-b7dc-339605c90ed6",
   "metadata": {},
   "outputs": [],
   "source": []
  },
  {
   "cell_type": "code",
   "execution_count": null,
   "id": "01b4c35c-e45f-4292-86a4-68234a8986dd",
   "metadata": {},
   "outputs": [],
   "source": []
  },
  {
   "cell_type": "code",
   "execution_count": null,
   "id": "49b5b722-4159-4efb-b4c4-14d6e6df4738",
   "metadata": {},
   "outputs": [],
   "source": []
  },
  {
   "cell_type": "code",
   "execution_count": 87,
   "id": "c4efac58-89c5-4868-9d5d-65d383a7d7f3",
   "metadata": {
    "scrolled": true
   },
   "outputs": [
    {
     "data": {
      "text/plain": [
       "485"
      ]
     },
     "execution_count": 87,
     "metadata": {},
     "output_type": "execute_result"
    }
   ],
   "source": [
    "data['startprice'].nunique()"
   ]
  },
  {
   "cell_type": "code",
   "execution_count": 88,
   "id": "2c9aca30-e22c-4d97-99fd-9b7521fcf02e",
   "metadata": {},
   "outputs": [
    {
     "data": {
      "text/plain": [
       "np.float64(0.01)"
      ]
     },
     "execution_count": 88,
     "metadata": {},
     "output_type": "execute_result"
    }
   ],
   "source": [
    "data['startprice'].min()"
   ]
  },
  {
   "cell_type": "code",
   "execution_count": 96,
   "id": "742297d0-9f6f-4309-8481-b42aa51300ed",
   "metadata": {},
   "outputs": [
    {
     "data": {
      "text/plain": [
       "np.float64(999.0)"
      ]
     },
     "execution_count": 96,
     "metadata": {},
     "output_type": "execute_result"
    }
   ],
   "source": [
    "data['startprice'].max()"
   ]
  },
  {
   "cell_type": "code",
   "execution_count": 89,
   "id": "c977fcbe-e00c-4224-befc-0241930a3e82",
   "metadata": {},
   "outputs": [
    {
     "data": {
      "text/plain": [
       "np.float64(216.84416161616159)"
      ]
     },
     "execution_count": 89,
     "metadata": {},
     "output_type": "execute_result"
    }
   ],
   "source": [
    "data['startprice'].mean()"
   ]
  },
  {
   "cell_type": "code",
   "execution_count": 90,
   "id": "338e977a-ea54-40df-bd67-37b67c058964",
   "metadata": {},
   "outputs": [
    {
     "data": {
      "text/plain": [
       "0    0.99\n",
       "Name: startprice, dtype: float64"
      ]
     },
     "execution_count": 90,
     "metadata": {},
     "output_type": "execute_result"
    }
   ],
   "source": [
    "data['startprice'].mode()"
   ]
  },
  {
   "cell_type": "code",
   "execution_count": null,
   "id": "f552d6f3-7701-44a6-acc7-f709dd038fd8",
   "metadata": {},
   "outputs": [],
   "source": []
  },
  {
   "cell_type": "code",
   "execution_count": null,
   "id": "23550338-3b42-4884-9915-2984b8df6d91",
   "metadata": {},
   "outputs": [],
   "source": []
  },
  {
   "cell_type": "code",
   "execution_count": 137,
   "id": "5c52476f-2350-48ae-89a2-47a36b2866fa",
   "metadata": {
    "scrolled": true
   },
   "outputs": [
    {
     "data": {
      "text/plain": [
       "startprice  sold\n",
       "0           0        27\n",
       "            1       225\n",
       "1           0        72\n",
       "            1       136\n",
       "2           0        73\n",
       "            1        70\n",
       "3           0        95\n",
       "            1        78\n",
       "4           0       105\n",
       "            1        48\n",
       "5           0       110\n",
       "            1        37\n",
       "6           0        77\n",
       "            1        35\n",
       "7           0        66\n",
       "            1        18\n",
       "8           0        43\n",
       "            1        15\n",
       "9           0        32\n",
       "            1        10\n",
       "10          0        30\n",
       "            1         5\n",
       "11          0        27\n",
       "            1         4\n",
       "12          0        15\n",
       "            1         3\n",
       "13          0         8\n",
       "            1         2\n",
       "14          0         9\n",
       "15          0         5\n",
       "16          0         2\n",
       "18          0         2\n",
       "19          0         1\n",
       "Name: count, dtype: int64"
      ]
     },
     "execution_count": 137,
     "metadata": {},
     "output_type": "execute_result"
    }
   ],
   "source": [
    "data[['sold', 'startprice']].groupby('startprice').value_counts(sort = False)"
   ]
  },
  {
   "cell_type": "code",
   "execution_count": 138,
   "id": "5a870177-a0e1-488c-abfb-7723743d5cd3",
   "metadata": {},
   "outputs": [
    {
     "data": {
      "text/plain": [
       "<Axes: xlabel='startprice,sold'>"
      ]
     },
     "execution_count": 138,
     "metadata": {},
     "output_type": "execute_result"
    },
    {
     "data": {
      "image/png": "[encoded data removed]",
      "text/plain": [
       "<Figure size 640x480 with 1 Axes>"
      ]
     },
     "metadata": {},
     "output_type": "display_data"
    }
   ],
   "source": [
    "data[['sold', 'startprice']].groupby('startprice').value_counts(sort = False).plot(kind = 'bar')"
   ]
  },
  {
   "cell_type": "code",
   "execution_count": 11,
   "id": "edade882-463b-4fb1-8fbf-ad51510cd1e8",
   "metadata": {
    "scrolled": true
   },
   "outputs": [
    {
     "data": {
      "text/plain": [
       "<Axes: ylabel='Frequency'>"
      ]
     },
     "execution_count": 11,
     "metadata": {},
     "output_type": "execute_result"
    },
    {
     "data": {
      "image/png": "[encoded data removed]",
      "text/plain": [
       "<Figure size 640x480 with 1 Axes>"
      ]
     },
     "metadata": {},
     "output_type": "display_data"
    }
   ],
   "source": [
    "data[['sold', 'startprice']].groupby('startprice').value_counts(sort = False).plot(kind = 'hist')"
   ]
  },
  {
   "cell_type": "code",
   "execution_count": 80,
   "id": "ffde8444-90ec-4f56-b2f6-cf20d9be11d0",
   "metadata": {
    "scrolled": true
   },
   "outputs": [
    {
     "data": {
      "text/plain": [
       "<Axes: ylabel='Frequency'>"
      ]
     },
     "execution_count": 80,
     "metadata": {},
     "output_type": "execute_result"
    },
    {
     "data": {
      "image/png": "[encoded data removed]",
      "text/plain": [
       "<Figure size 640x480 with 1 Axes>"
      ]
     },
     "metadata": {},
     "output_type": "display_data"
    }
   ],
   "source": [
    "data[['sold', 'startprice']].groupby('startprice').value_counts(sort = False).plot(kind = 'hist',bins=range(0, 5))"
   ]
  },
  {
   "cell_type": "code",
   "execution_count": 12,
   "id": "8c1ce810-da73-455d-80c4-b4b165777e24",
   "metadata": {
    "scrolled": true
   },
   "outputs": [
    {
     "data": {
      "text/plain": [
       "<Axes: ylabel='Frequency'>"
      ]
     },
     "execution_count": 12,
     "metadata": {},
     "output_type": "execute_result"
    },
    {
     "data": {
      "image/png": "[encoded data removed]",
      "text/plain": [
       "<Figure size 640x480 with 1 Axes>"
      ]
     },
     "metadata": {},
     "output_type": "display_data"
    }
   ],
   "source": [
    "data['startprice'].plot(kind = 'hist')"
   ]
  },
  {
   "cell_type": "code",
   "execution_count": null,
   "id": "3c1910f1-24bc-48da-9e93-e4f89c24b30f",
   "metadata": {},
   "outputs": [],
   "source": []
  },
  {
   "cell_type": "code",
   "execution_count": null,
   "id": "0fb4c3b2-6b8c-4579-b79a-57fc862b1df2",
   "metadata": {},
   "outputs": [],
   "source": []
  },
  {
   "cell_type": "code",
   "execution_count": 13,
   "id": "252ccdd7-4bff-4bd3-97ff-0ee5bc320312",
   "metadata": {},
   "outputs": [
    {
     "data": {
      "text/plain": [
       "carrier          sold\n",
       "AT&T             0       101\n",
       "                 1        76\n",
       "Sprint/T-Mobile  0        28\n",
       "                 1        24\n",
       "Verizon          0        41\n",
       "                 1        46\n",
       "Name: count, dtype: int64"
      ]
     },
     "execution_count": 13,
     "metadata": {},
     "output_type": "execute_result"
    }
   ],
   "source": [
    "# 통신사\n",
    "data[['sold', 'carrier']].groupby('carrier').value_counts(sort = False)"
   ]
  },
  {
   "cell_type": "code",
   "execution_count": 14,
   "id": "6a918b1b-1f9a-4d2a-aa55-859acf2dfd4b",
   "metadata": {},
   "outputs": [
    {
     "data": {
      "text/plain": [
       "<Axes: xlabel='carrier,sold'>"
      ]
     },
     "execution_count": 14,
     "metadata": {},
     "output_type": "execute_result"
    },
    {
     "data": {
      "image/png": "[encoded data removed]",
      "text/plain": [
       "<Figure size 640x480 with 1 Axes>"
      ]
     },
     "metadata": {},
     "output_type": "display_data"
    }
   ],
   "source": [
    "data[['sold', 'carrier']].groupby('carrier').value_counts(sort = False).plot(kind = 'bar')"
   ]
  },
  {
   "cell_type": "code",
   "execution_count": null,
   "id": "3060a87b-b0de-4ecb-a0aa-cf2af82614c8",
   "metadata": {},
   "outputs": [],
   "source": []
  },
  {
   "cell_type": "code",
   "execution_count": 15,
   "id": "784101ac-7e39-451f-acf5-0954784ee317",
   "metadata": {},
   "outputs": [
    {
     "data": {
      "text/plain": [
       "color           sold\n",
       "Aura Black      0        13\n",
       "                1         6\n",
       "Black           0        22\n",
       "                1        16\n",
       "Gold            0        34\n",
       "                1        18\n",
       "Midnight Black  0       121\n",
       "                1       153\n",
       "Prism Black     0         1\n",
       "Space Gray      0        99\n",
       "                1        81\n",
       "White           0       185\n",
       "                1       143\n",
       "Name: count, dtype: int64"
      ]
     },
     "execution_count": 15,
     "metadata": {},
     "output_type": "execute_result"
    }
   ],
   "source": [
    "data[['sold', 'color']].groupby('color').value_counts(sort = False)"
   ]
  },
  {
   "cell_type": "code",
   "execution_count": 16,
   "id": "84702238-99a1-4866-9bc4-bf983681168c",
   "metadata": {},
   "outputs": [
    {
     "data": {
      "text/plain": [
       "<Axes: xlabel='color,sold'>"
      ]
     },
     "execution_count": 16,
     "metadata": {},
     "output_type": "execute_result"
    },
    {
     "data": {
      "image/png": "[encoded data removed]",
      "text/plain": [
       "<Figure size 640x480 with 1 Axes>"
      ]
     },
     "metadata": {},
     "output_type": "display_data"
    }
   ],
   "source": [
    "data[['sold', 'color']].groupby('color').value_counts(sort = False).plot(kind = 'bar')"
   ]
  },
  {
   "cell_type": "code",
   "execution_count": null,
   "id": "f4f8e6b3-674d-49f0-95b0-673ef38fc6ed",
   "metadata": {},
   "outputs": [],
   "source": []
  },
  {
   "cell_type": "code",
   "execution_count": null,
   "id": "8833fb2c-f549-4dcf-9d0d-122cb2f7045a",
   "metadata": {},
   "outputs": [],
   "source": []
  },
  {
   "cell_type": "code",
   "execution_count": 17,
   "id": "2bfa45ba-7c84-4f67-9a60-10d48fb8c052",
   "metadata": {},
   "outputs": [
    {
     "data": {
      "text/plain": [
       "productline    sold\n",
       "Galaxy_Note10  0       202\n",
       "               1       149\n",
       "Galaxy_Note8   0        73\n",
       "               1        80\n",
       "Galaxy_Note9   0        58\n",
       "               1        49\n",
       "Galaxy_S10     0         4\n",
       "               1         4\n",
       "Galaxy_S7      0       102\n",
       "               1       125\n",
       "Galaxy_S8      0       145\n",
       "               1       132\n",
       "Galaxy_S9      0        93\n",
       "               1        65\n",
       "Unknown        0       122\n",
       "               1        82\n",
       "Name: count, dtype: int64"
      ]
     },
     "execution_count": 17,
     "metadata": {},
     "output_type": "execute_result"
    }
   ],
   "source": [
    "data[['sold', 'productline']].groupby('productline').value_counts(sort = False)"
   ]
  },
  {
   "cell_type": "code",
   "execution_count": 18,
   "id": "9657c929-34e5-4a35-ad7d-985bdd4b75cf",
   "metadata": {},
   "outputs": [
    {
     "data": {
      "text/plain": [
       "<Axes: xlabel='productline,sold'>"
      ]
     },
     "execution_count": 18,
     "metadata": {},
     "output_type": "execute_result"
    },
    {
     "data": {
      "image/png": "[encoded data removed]",
      "text/plain": [
       "<Figure size 640x480 with 1 Axes>"
      ]
     },
     "metadata": {},
     "output_type": "display_data"
    }
   ],
   "source": [
    "data[['sold', 'productline']].groupby('productline').value_counts(sort = False).plot(kind = 'bar')"
   ]
  },
  {
   "cell_type": "code",
   "execution_count": null,
   "id": "ebc9a879-597e-4d4e-a14a-81ca488dc8f0",
   "metadata": {},
   "outputs": [],
   "source": []
  },
  {
   "cell_type": "code",
   "execution_count": null,
   "id": "d5ada599-acf7-4aeb-a83e-dfc11ad08daf",
   "metadata": {},
   "outputs": [],
   "source": []
  },
  {
   "cell_type": "code",
   "execution_count": 19,
   "id": "ef0a6423-69b2-4bd7-b8b1-3555efd0a434",
   "metadata": {},
   "outputs": [
    {
     "data": {
      "text/plain": [
       "noDescription         sold\n",
       "contains description  0       443\n",
       "                      1       413\n",
       "no description        0       356\n",
       "                      1       273\n",
       "Name: count, dtype: int64"
      ]
     },
     "execution_count": 19,
     "metadata": {},
     "output_type": "execute_result"
    }
   ],
   "source": [
    "data[['sold', 'noDescription']].groupby('noDescription').value_counts(sort = False)"
   ]
  },
  {
   "cell_type": "code",
   "execution_count": 20,
   "id": "e6d959e0-ec8b-4981-97c5-6af0c5e68645",
   "metadata": {},
   "outputs": [
    {
     "data": {
      "text/plain": [
       "<Axes: xlabel='noDescription,sold'>"
      ]
     },
     "execution_count": 20,
     "metadata": {},
     "output_type": "execute_result"
    },
    {
     "data": {
      "image/png": "[encoded data removed]",
      "text/plain": [
       "<Figure size 640x480 with 1 Axes>"
      ]
     },
     "metadata": {},
     "output_type": "display_data"
    }
   ],
   "source": [
    "data[['sold', 'noDescription']].groupby('noDescription').value_counts(sort = False).plot(kind = 'bar')"
   ]
  },
  {
   "cell_type": "code",
   "execution_count": null,
   "id": "ac75f2a9-957d-467d-94df-a7a92247e281",
   "metadata": {},
   "outputs": [],
   "source": []
  },
  {
   "cell_type": "code",
   "execution_count": null,
   "id": "dcc9857a-8f44-49d6-a837-89a5ee20493e",
   "metadata": {},
   "outputs": [],
   "source": []
  },
  {
   "cell_type": "code",
   "execution_count": 21,
   "id": "165b84f7-af8d-4523-bbfd-cdbbd6488f4e",
   "metadata": {},
   "outputs": [
    {
     "data": {
      "text/plain": [
       "charCountDescription  sold\n",
       "0                     0       443\n",
       "                      1       413\n",
       "3                     0         1\n",
       "4                     1         3\n",
       "5                     0         1\n",
       "                             ... \n",
       "106                   1         1\n",
       "108                   0         1\n",
       "                      1         1\n",
       "109                   1         1\n",
       "111                   1         1\n",
       "Name: count, Length: 175, dtype: int64"
      ]
     },
     "execution_count": 21,
     "metadata": {},
     "output_type": "execute_result"
    }
   ],
   "source": [
    "data[['sold', 'charCountDescription']].groupby('charCountDescription').value_counts(sort = False)"
   ]
  },
  {
   "cell_type": "code",
   "execution_count": 22,
   "id": "19fe264b-4416-464a-a82d-4d663806ee96",
   "metadata": {
    "scrolled": true
   },
   "outputs": [
    {
     "data": {
      "text/plain": [
       "<Axes: xlabel='charCountDescription,sold'>"
      ]
     },
     "execution_count": 22,
     "metadata": {},
     "output_type": "execute_result"
    },
    {
     "data": {
      "image/png": "[encoded data removed]",
      "text/plain": [
       "<Figure size 640x480 with 1 Axes>"
      ]
     },
     "metadata": {},
     "output_type": "display_data"
    }
   ],
   "source": [
    "data[['sold', 'charCountDescription']].groupby('charCountDescription').value_counts(sort = False).plot(kind = 'bar')"
   ]
  },
  {
   "cell_type": "code",
   "execution_count": 23,
   "id": "0ba82d8b-4db2-49ca-b4a1-d8a07c765ed3",
   "metadata": {
    "scrolled": true
   },
   "outputs": [
    {
     "data": {
      "text/plain": [
       "<Axes: ylabel='Frequency'>"
      ]
     },
     "execution_count": 23,
     "metadata": {},
     "output_type": "execute_result"
    },
    {
     "data": {
      "image/png": "[encoded data removed]",
      "text/plain": [
       "<Figure size 640x480 with 1 Axes>"
      ]
     },
     "metadata": {},
     "output_type": "display_data"
    }
   ],
   "source": [
    "data[['sold', 'charCountDescription']].groupby('charCountDescription').value_counts(sort = False).plot(kind = 'hist')"
   ]
  },
  {
   "cell_type": "code",
   "execution_count": 42,
   "id": "5c0fddb5-fd84-472b-9e36-5ba1633a261f",
   "metadata": {},
   "outputs": [
    {
     "data": {
      "text/plain": [
       "<Axes: ylabel='Frequency'>"
      ]
     },
     "execution_count": 42,
     "metadata": {},
     "output_type": "execute_result"
    },
    {
     "data": {
      "image/png": "[encoded data removed]",
      "text/plain": [
       "<Figure size 640x480 with 1 Axes>"
      ]
     },
     "metadata": {},
     "output_type": "display_data"
    }
   ],
   "source": [
    "data[data['charCountDescription'] <= 100][['sold', 'charCountDescription']].groupby('charCountDescription').value_counts(sort=False).plot(kind='hist', bins=range(0, 101, 10))"
   ]
  },
  {
   "cell_type": "code",
   "execution_count": 44,
   "id": "9c859198-6bdc-4994-b9ac-14ac32f26dd5",
   "metadata": {
    "scrolled": true
   },
   "outputs": [
    {
     "data": {
      "text/plain": [
       "<Axes: ylabel='Frequency'>"
      ]
     },
     "execution_count": 44,
     "metadata": {},
     "output_type": "execute_result"
    },
    {
     "data": {
      "image/png": "[encoded data removed]",
      "text/plain": [
       "<Figure size 640x480 with 1 Axes>"
      ]
     },
     "metadata": {},
     "output_type": "display_data"
    }
   ],
   "source": [
    "data[data['charCountDescription'] <= 100][['sold', 'charCountDescription']].groupby('charCountDescription').value_counts(sort=False).plot(kind='hist', bins=range(0, 40))"
   ]
  },
  {
   "cell_type": "code",
   "execution_count": 45,
   "id": "df4a0e60-9ab6-4e2b-b800-5233245204b6",
   "metadata": {
    "scrolled": true
   },
   "outputs": [
    {
     "data": {
      "text/plain": [
       "<Axes: xlabel='charCountDescription'>"
      ]
     },
     "execution_count": 45,
     "metadata": {},
     "output_type": "execute_result"
    },
    {
     "data": {
      "image/png": "[encoded data removed]",
      "text/plain": [
       "<Figure size 1200x600 with 1 Axes>"
      ]
     },
     "metadata": {},
     "output_type": "display_data"
    }
   ],
   "source": [
    "data[data['charCountDescription'] <= 100][['sold', 'charCountDescription']].groupby(['charCountDescription', 'sold']).size().unstack(fill_value=0).plot(kind='bar', stacked=True, figsize=(12, 6))"
   ]
  },
  {
   "cell_type": "code",
   "execution_count": null,
   "id": "2156ea4a-c8e5-43e4-9588-074e0a3a202a",
   "metadata": {},
   "outputs": [],
   "source": []
  },
  {
   "cell_type": "code",
   "execution_count": null,
   "id": "c959bcea-66f8-4841-8fde-03ef5798cde8",
   "metadata": {},
   "outputs": [],
   "source": []
  },
  {
   "cell_type": "code",
   "execution_count": 24,
   "id": "20acafe4-3f4b-4a0f-b048-40c7e83e5ee4",
   "metadata": {},
   "outputs": [
    {
     "data": {
      "text/plain": [
       "upperCaseDescription  sold\n",
       "0                     0       456\n",
       "                      1       434\n",
       "1                     0        65\n",
       "                      1        61\n",
       "2                     0        71\n",
       "                             ... \n",
       "76                    1         2\n",
       "77                    0         1\n",
       "78                    0         2\n",
       "80                    0         3\n",
       "81                    0         2\n",
       "Name: count, Length: 66, dtype: int64"
      ]
     },
     "execution_count": 24,
     "metadata": {},
     "output_type": "execute_result"
    }
   ],
   "source": [
    "data[['sold', 'upperCaseDescription']].groupby('upperCaseDescription').value_counts(sort = False)"
   ]
  },
  {
   "cell_type": "code",
   "execution_count": 25,
   "id": "aec6cda2-a5a4-4084-8408-2946b3c87464",
   "metadata": {},
   "outputs": [
    {
     "data": {
      "text/plain": [
       "<Axes: xlabel='upperCaseDescription,sold'>"
      ]
     },
     "execution_count": 25,
     "metadata": {},
     "output_type": "execute_result"
    },
    {
     "data": {
      "image/png": "[encoded data removed]",
      "text/plain": [
       "<Figure size 640x480 with 1 Axes>"
      ]
     },
     "metadata": {},
     "output_type": "display_data"
    }
   ],
   "source": [
    "data[['sold', 'upperCaseDescription']].groupby('upperCaseDescription').value_counts(sort = False).plot(kind = 'bar')"
   ]
  },
  {
   "cell_type": "code",
   "execution_count": null,
   "id": "55097868-ef4c-47cd-91c6-f932c0a09813",
   "metadata": {},
   "outputs": [],
   "source": []
  },
  {
   "cell_type": "code",
   "execution_count": 26,
   "id": "66d6067f-9a00-416e-b367-1956b7654f48",
   "metadata": {},
   "outputs": [
    {
     "name": "stdout",
     "output_type": "stream",
     "text": [
      "<class 'pandas.core.frame.DataFrame'>\n",
      "RangeIndex: 1485 entries, 0 to 1484\n",
      "Data columns (total 9 columns):\n",
      " #   Column                Non-Null Count  Dtype  \n",
      "---  ------                --------------  -----  \n",
      " 0   BuyItNow              1485 non-null   int64  \n",
      " 1   startprice            1485 non-null   float64\n",
      " 2   carrier               316 non-null    object \n",
      " 3   color                 892 non-null    object \n",
      " 4   productline           1485 non-null   object \n",
      " 5   noDescription         1485 non-null   object \n",
      " 6   charCountDescription  1485 non-null   int64  \n",
      " 7   upperCaseDescription  1485 non-null   int64  \n",
      " 8   sold                  1485 non-null   int64  \n",
      "dtypes: float64(1), int64(4), object(4)\n",
      "memory usage: 104.5+ KB\n"
     ]
    }
   ],
   "source": [
    "data.info()"
   ]
  },
  {
   "cell_type": "code",
   "execution_count": 27,
   "id": "53eb1f81-641b-466b-b7ac-4eb61f3b8f56",
   "metadata": {},
   "outputs": [
    {
     "data": {
      "text/plain": [
       "BuyItNow                 0.000000\n",
       "startprice               0.000000\n",
       "carrier                 78.720539\n",
       "color                   39.932660\n",
       "productline              0.000000\n",
       "noDescription            0.000000\n",
       "charCountDescription     0.000000\n",
       "upperCaseDescription     0.000000\n",
       "sold                     0.000000\n",
       "dtype: float64"
      ]
     },
     "execution_count": 27,
     "metadata": {},
     "output_type": "execute_result"
    }
   ],
   "source": [
    "# 결측치 비율\n",
    "data.isna().sum() / len(data) * 100"
   ]
  },
  {
   "cell_type": "code",
   "execution_count": 28,
   "id": "76e1c788-9bba-4e34-9ae2-6a2dcf0b955d",
   "metadata": {},
   "outputs": [],
   "source": [
    "# 결측치 70% 이상이므로 삭제\n",
    "del data['carrier']"
   ]
  },
  {
   "cell_type": "code",
   "execution_count": 29,
   "id": "92d1c5b5-8aa8-4b9b-baac-355bd63168bf",
   "metadata": {},
   "outputs": [
    {
     "data": {
      "text/html": [
       "<div>\n",
       "<style scoped>\n",
       "    .dataframe tbody tr th:only-of-type {\n",
       "        vertical-align: middle;\n",
       "    }\n",
       "\n",
       "    .dataframe tbody tr th {\n",
       "        vertical-align: top;\n",
       "    }\n",
       "\n",
       "    .dataframe thead th {\n",
       "        text-align: right;\n",
       "    }\n",
       "</style>\n",
       "<table border=\"1\" class=\"dataframe\">\n",
       "  <thead>\n",
       "    <tr style=\"text-align: right;\">\n",
       "      <th></th>\n",
       "      <th>BuyItNow</th>\n",
       "      <th>startprice</th>\n",
       "      <th>color</th>\n",
       "      <th>productline</th>\n",
       "      <th>noDescription</th>\n",
       "      <th>charCountDescription</th>\n",
       "      <th>upperCaseDescription</th>\n",
       "      <th>sold</th>\n",
       "    </tr>\n",
       "  </thead>\n",
       "  <tbody>\n",
       "    <tr>\n",
       "      <th>0</th>\n",
       "      <td>0</td>\n",
       "      <td>199.99</td>\n",
       "      <td>White</td>\n",
       "      <td>Galaxy_S9</td>\n",
       "      <td>contains description</td>\n",
       "      <td>0</td>\n",
       "      <td>0</td>\n",
       "      <td>1</td>\n",
       "    </tr>\n",
       "    <tr>\n",
       "      <th>1</th>\n",
       "      <td>0</td>\n",
       "      <td>235.00</td>\n",
       "      <td>NaN</td>\n",
       "      <td>Galaxy_Note9</td>\n",
       "      <td>contains description</td>\n",
       "      <td>0</td>\n",
       "      <td>0</td>\n",
       "      <td>0</td>\n",
       "    </tr>\n",
       "    <tr>\n",
       "      <th>2</th>\n",
       "      <td>0</td>\n",
       "      <td>199.99</td>\n",
       "      <td>NaN</td>\n",
       "      <td>Unknown</td>\n",
       "      <td>no description</td>\n",
       "      <td>100</td>\n",
       "      <td>2</td>\n",
       "      <td>0</td>\n",
       "    </tr>\n",
       "    <tr>\n",
       "      <th>3</th>\n",
       "      <td>1</td>\n",
       "      <td>175.00</td>\n",
       "      <td>Space Gray</td>\n",
       "      <td>Galaxy_Note9</td>\n",
       "      <td>contains description</td>\n",
       "      <td>0</td>\n",
       "      <td>0</td>\n",
       "      <td>1</td>\n",
       "    </tr>\n",
       "    <tr>\n",
       "      <th>4</th>\n",
       "      <td>1</td>\n",
       "      <td>100.00</td>\n",
       "      <td>Space Gray</td>\n",
       "      <td>Galaxy_S8</td>\n",
       "      <td>contains description</td>\n",
       "      <td>0</td>\n",
       "      <td>0</td>\n",
       "      <td>1</td>\n",
       "    </tr>\n",
       "    <tr>\n",
       "      <th>...</th>\n",
       "      <td>...</td>\n",
       "      <td>...</td>\n",
       "      <td>...</td>\n",
       "      <td>...</td>\n",
       "      <td>...</td>\n",
       "      <td>...</td>\n",
       "      <td>...</td>\n",
       "      <td>...</td>\n",
       "    </tr>\n",
       "    <tr>\n",
       "      <th>1480</th>\n",
       "      <td>0</td>\n",
       "      <td>89.50</td>\n",
       "      <td>NaN</td>\n",
       "      <td>Galaxy_S7</td>\n",
       "      <td>no description</td>\n",
       "      <td>96</td>\n",
       "      <td>2</td>\n",
       "      <td>0</td>\n",
       "    </tr>\n",
       "    <tr>\n",
       "      <th>1481</th>\n",
       "      <td>0</td>\n",
       "      <td>239.95</td>\n",
       "      <td>Midnight Black</td>\n",
       "      <td>Galaxy_S9</td>\n",
       "      <td>no description</td>\n",
       "      <td>97</td>\n",
       "      <td>5</td>\n",
       "      <td>1</td>\n",
       "    </tr>\n",
       "    <tr>\n",
       "      <th>1482</th>\n",
       "      <td>0</td>\n",
       "      <td>329.99</td>\n",
       "      <td>Space Gray</td>\n",
       "      <td>Galaxy_Note10</td>\n",
       "      <td>no description</td>\n",
       "      <td>93</td>\n",
       "      <td>1</td>\n",
       "      <td>0</td>\n",
       "    </tr>\n",
       "    <tr>\n",
       "      <th>1483</th>\n",
       "      <td>0</td>\n",
       "      <td>89.00</td>\n",
       "      <td>Midnight Black</td>\n",
       "      <td>Galaxy_S7</td>\n",
       "      <td>no description</td>\n",
       "      <td>92</td>\n",
       "      <td>2</td>\n",
       "      <td>1</td>\n",
       "    </tr>\n",
       "    <tr>\n",
       "      <th>1484</th>\n",
       "      <td>0</td>\n",
       "      <td>119.99</td>\n",
       "      <td>Midnight Black</td>\n",
       "      <td>Galaxy_S7</td>\n",
       "      <td>no description</td>\n",
       "      <td>96</td>\n",
       "      <td>5</td>\n",
       "      <td>0</td>\n",
       "    </tr>\n",
       "  </tbody>\n",
       "</table>\n",
       "<p>1485 rows × 8 columns</p>\n",
       "</div>"
      ],
      "text/plain": [
       "      BuyItNow  startprice           color    productline  \\\n",
       "0            0      199.99           White      Galaxy_S9   \n",
       "1            0      235.00             NaN   Galaxy_Note9   \n",
       "2            0      199.99             NaN        Unknown   \n",
       "3            1      175.00      Space Gray   Galaxy_Note9   \n",
       "4            1      100.00      Space Gray      Galaxy_S8   \n",
       "...        ...         ...             ...            ...   \n",
       "1480         0       89.50             NaN      Galaxy_S7   \n",
       "1481         0      239.95  Midnight Black      Galaxy_S9   \n",
       "1482         0      329.99      Space Gray  Galaxy_Note10   \n",
       "1483         0       89.00  Midnight Black      Galaxy_S7   \n",
       "1484         0      119.99  Midnight Black      Galaxy_S7   \n",
       "\n",
       "             noDescription  charCountDescription  upperCaseDescription  sold  \n",
       "0     contains description                     0                     0     1  \n",
       "1     contains description                     0                     0     0  \n",
       "2           no description                   100                     2     0  \n",
       "3     contains description                     0                     0     1  \n",
       "4     contains description                     0                     0     1  \n",
       "...                    ...                   ...                   ...   ...  \n",
       "1480        no description                    96                     2     0  \n",
       "1481        no description                    97                     5     1  \n",
       "1482        no description                    93                     1     0  \n",
       "1483        no description                    92                     2     1  \n",
       "1484        no description                    96                     5     0  \n",
       "\n",
       "[1485 rows x 8 columns]"
      ]
     },
     "execution_count": 29,
     "metadata": {},
     "output_type": "execute_result"
    }
   ],
   "source": [
    "data"
   ]
  },
  {
   "cell_type": "code",
   "execution_count": 30,
   "id": "a57f208d-a772-47b1-a70f-308076b6e6f3",
   "metadata": {},
   "outputs": [
    {
     "name": "stdout",
     "output_type": "stream",
     "text": [
      "<class 'pandas.core.frame.DataFrame'>\n",
      "RangeIndex: 1485 entries, 0 to 1484\n",
      "Data columns (total 8 columns):\n",
      " #   Column                Non-Null Count  Dtype  \n",
      "---  ------                --------------  -----  \n",
      " 0   BuyItNow              1485 non-null   int64  \n",
      " 1   startprice            1485 non-null   float64\n",
      " 2   color                 892 non-null    object \n",
      " 3   productline           1485 non-null   object \n",
      " 4   noDescription         1485 non-null   object \n",
      " 5   charCountDescription  1485 non-null   int64  \n",
      " 6   upperCaseDescription  1485 non-null   int64  \n",
      " 7   sold                  1485 non-null   int64  \n",
      "dtypes: float64(1), int64(4), object(3)\n",
      "memory usage: 92.9+ KB\n"
     ]
    }
   ],
   "source": [
    "data.info()"
   ]
  },
  {
   "cell_type": "code",
   "execution_count": 102,
   "id": "7ba51608-309e-4d6d-a269-282ed5186c49",
   "metadata": {},
   "outputs": [
    {
     "data": {
      "text/plain": [
       "<Axes: >"
      ]
     },
     "execution_count": 102,
     "metadata": {},
     "output_type": "execute_result"
    },
    {
     "data": {
      "image/png": "[encoded data removed]",
      "text/plain": [
       "<Figure size 640x480 with 1 Axes>"
      ]
     },
     "metadata": {},
     "output_type": "display_data"
    }
   ],
   "source": [
    "data['BuyItNow'].plot(kind = 'box')"
   ]
  },
  {
   "cell_type": "code",
   "execution_count": 139,
   "id": "e0872cb2-a86f-4ce1-b290-be9f76c45f4b",
   "metadata": {},
   "outputs": [
    {
     "data": {
      "text/plain": [
       "<Axes: >"
      ]
     },
     "execution_count": 139,
     "metadata": {},
     "output_type": "execute_result"
    },
    {
     "data": {
      "image/png": "[encoded data removed]",
      "text/plain": [
       "<Figure size 640x480 with 1 Axes>"
      ]
     },
     "metadata": {},
     "output_type": "display_data"
    }
   ],
   "source": [
    "data['startprice'].plot(kind = 'box')"
   ]
  },
  {
   "cell_type": "code",
   "execution_count": 104,
   "id": "80cf4b95-0706-4c1e-b180-4ad5878eefd6",
   "metadata": {
    "scrolled": true
   },
   "outputs": [
    {
     "data": {
      "text/plain": [
       "<Axes: >"
      ]
     },
     "execution_count": 104,
     "metadata": {},
     "output_type": "execute_result"
    },
    {
     "data": {
      "image/png": "[encoded data removed]",
      "text/plain": [
       "<Figure size 640x480 with 1 Axes>"
      ]
     },
     "metadata": {},
     "output_type": "display_data"
    }
   ],
   "source": [
    "# 숫자가 아님\n",
    "data['color'].plot(kind = 'box')"
   ]
  },
  {
   "cell_type": "code",
   "execution_count": null,
   "id": "8b9cdb71-b2a3-4020-9540-ced9b93a50ea",
   "metadata": {
    "scrolled": true
   },
   "outputs": [],
   "source": [
    "data['productline'].plot(kind = 'box')"
   ]
  },
  {
   "cell_type": "code",
   "execution_count": null,
   "id": "fa1720a3-0cc4-4f30-9706-4042fc9b41d6",
   "metadata": {
    "scrolled": true
   },
   "outputs": [],
   "source": [
    "data['noDescription'].plot(kind = 'box')"
   ]
  },
  {
   "cell_type": "code",
   "execution_count": null,
   "id": "928abe81-258e-4992-8b2d-b871d3915088",
   "metadata": {},
   "outputs": [],
   "source": [
    "data['charCountDescription'].plot(kind = 'box')"
   ]
  },
  {
   "cell_type": "code",
   "execution_count": null,
   "id": "a48a1a7b-330b-44b2-9572-bec9e492433c",
   "metadata": {},
   "outputs": [],
   "source": [
    "data['upperCaseDescription'].plot(kind = 'box')"
   ]
  },
  {
   "cell_type": "code",
   "execution_count": null,
   "id": "39ba568e-17c0-4e41-b742-231aa9c77b65",
   "metadata": {},
   "outputs": [],
   "source": []
  },
  {
   "cell_type": "code",
   "execution_count": 34,
   "id": "9ecae94f-77f2-44fa-b6b3-06d0a7772233",
   "metadata": {},
   "outputs": [
    {
     "data": {
      "text/plain": [
       "0                White\n",
       "1                  NaN\n",
       "2                  NaN\n",
       "3           Space Gray\n",
       "4           Space Gray\n",
       "             ...      \n",
       "1480               NaN\n",
       "1481    Midnight Black\n",
       "1482        Space Gray\n",
       "1483    Midnight Black\n",
       "1484    Midnight Black\n",
       "Name: color, Length: 1485, dtype: object"
      ]
     },
     "execution_count": 34,
     "metadata": {},
     "output_type": "execute_result"
    }
   ],
   "source": [
    "data['color']"
   ]
  },
  {
   "cell_type": "code",
   "execution_count": 35,
   "id": "57548e8a-cca0-414b-9a13-bd8cc4e6862c",
   "metadata": {},
   "outputs": [
    {
     "data": {
      "text/plain": [
       "array(['White', nan, 'Space Gray', 'Midnight Black', 'Aura Black', 'Gold',\n",
       "       'Black', 'Prism Black'], dtype=object)"
      ]
     },
     "execution_count": 35,
     "metadata": {},
     "output_type": "execute_result"
    }
   ],
   "source": [
    "data['color'].unique()"
   ]
  },
  {
   "cell_type": "code",
   "execution_count": 36,
   "id": "fa97cb38-c862-4207-a9d6-6dfe0fedb2ce",
   "metadata": {},
   "outputs": [
    {
     "data": {
      "text/plain": [
       "7"
      ]
     },
     "execution_count": 36,
     "metadata": {},
     "output_type": "execute_result"
    }
   ],
   "source": [
    "data['color'].nunique()"
   ]
  },
  {
   "cell_type": "code",
   "execution_count": null,
   "id": "42bd82e3-4835-457c-8589-6cebf5e16b28",
   "metadata": {},
   "outputs": [],
   "source": []
  },
  {
   "cell_type": "code",
   "execution_count": 37,
   "id": "47250f91-d2b1-48c1-a4b8-3705199b179f",
   "metadata": {},
   "outputs": [],
   "source": [
    "data['color'] = data['color'].fillna('Unknown')"
   ]
  },
  {
   "cell_type": "code",
   "execution_count": 38,
   "id": "4acba91c-ff3a-4a99-b9fa-1bedce8d2a3d",
   "metadata": {},
   "outputs": [
    {
     "data": {
      "text/plain": [
       "color\n",
       "Unknown           593\n",
       "White             328\n",
       "Midnight Black    274\n",
       "Space Gray        180\n",
       "Gold               52\n",
       "Black              38\n",
       "Aura Black         19\n",
       "Prism Black         1\n",
       "Name: count, dtype: int64"
      ]
     },
     "execution_count": 38,
     "metadata": {},
     "output_type": "execute_result"
    }
   ],
   "source": [
    "data['color'].value_counts()"
   ]
  },
  {
   "cell_type": "code",
   "execution_count": null,
   "id": "0aa16f93-1f76-483c-a8f1-56a2a9f53c1a",
   "metadata": {},
   "outputs": [],
   "source": []
  },
  {
   "cell_type": "code",
   "execution_count": 39,
   "id": "fc377b4b-4895-4abe-b4a5-bd5286831ca9",
   "metadata": {},
   "outputs": [
    {
     "data": {
      "text/html": [
       "<div>\n",
       "<style scoped>\n",
       "    .dataframe tbody tr th:only-of-type {\n",
       "        vertical-align: middle;\n",
       "    }\n",
       "\n",
       "    .dataframe tbody tr th {\n",
       "        vertical-align: top;\n",
       "    }\n",
       "\n",
       "    .dataframe thead th {\n",
       "        text-align: right;\n",
       "    }\n",
       "</style>\n",
       "<table border=\"1\" class=\"dataframe\">\n",
       "  <thead>\n",
       "    <tr style=\"text-align: right;\">\n",
       "      <th></th>\n",
       "      <th>BuyItNow</th>\n",
       "      <th>startprice</th>\n",
       "      <th>color</th>\n",
       "      <th>productline</th>\n",
       "      <th>noDescription</th>\n",
       "      <th>charCountDescription</th>\n",
       "      <th>upperCaseDescription</th>\n",
       "      <th>sold</th>\n",
       "    </tr>\n",
       "  </thead>\n",
       "  <tbody>\n",
       "    <tr>\n",
       "      <th>0</th>\n",
       "      <td>0</td>\n",
       "      <td>199.99</td>\n",
       "      <td>White</td>\n",
       "      <td>Galaxy_S9</td>\n",
       "      <td>contains description</td>\n",
       "      <td>0</td>\n",
       "      <td>0</td>\n",
       "      <td>1</td>\n",
       "    </tr>\n",
       "    <tr>\n",
       "      <th>1</th>\n",
       "      <td>0</td>\n",
       "      <td>235.00</td>\n",
       "      <td>Unknown</td>\n",
       "      <td>Galaxy_Note9</td>\n",
       "      <td>contains description</td>\n",
       "      <td>0</td>\n",
       "      <td>0</td>\n",
       "      <td>0</td>\n",
       "    </tr>\n",
       "    <tr>\n",
       "      <th>2</th>\n",
       "      <td>0</td>\n",
       "      <td>199.99</td>\n",
       "      <td>Unknown</td>\n",
       "      <td>Unknown</td>\n",
       "      <td>no description</td>\n",
       "      <td>100</td>\n",
       "      <td>2</td>\n",
       "      <td>0</td>\n",
       "    </tr>\n",
       "    <tr>\n",
       "      <th>3</th>\n",
       "      <td>1</td>\n",
       "      <td>175.00</td>\n",
       "      <td>Space Gray</td>\n",
       "      <td>Galaxy_Note9</td>\n",
       "      <td>contains description</td>\n",
       "      <td>0</td>\n",
       "      <td>0</td>\n",
       "      <td>1</td>\n",
       "    </tr>\n",
       "    <tr>\n",
       "      <th>4</th>\n",
       "      <td>1</td>\n",
       "      <td>100.00</td>\n",
       "      <td>Space Gray</td>\n",
       "      <td>Galaxy_S8</td>\n",
       "      <td>contains description</td>\n",
       "      <td>0</td>\n",
       "      <td>0</td>\n",
       "      <td>1</td>\n",
       "    </tr>\n",
       "    <tr>\n",
       "      <th>...</th>\n",
       "      <td>...</td>\n",
       "      <td>...</td>\n",
       "      <td>...</td>\n",
       "      <td>...</td>\n",
       "      <td>...</td>\n",
       "      <td>...</td>\n",
       "      <td>...</td>\n",
       "      <td>...</td>\n",
       "    </tr>\n",
       "    <tr>\n",
       "      <th>1480</th>\n",
       "      <td>0</td>\n",
       "      <td>89.50</td>\n",
       "      <td>Unknown</td>\n",
       "      <td>Galaxy_S7</td>\n",
       "      <td>no description</td>\n",
       "      <td>96</td>\n",
       "      <td>2</td>\n",
       "      <td>0</td>\n",
       "    </tr>\n",
       "    <tr>\n",
       "      <th>1481</th>\n",
       "      <td>0</td>\n",
       "      <td>239.95</td>\n",
       "      <td>Midnight Black</td>\n",
       "      <td>Galaxy_S9</td>\n",
       "      <td>no description</td>\n",
       "      <td>97</td>\n",
       "      <td>5</td>\n",
       "      <td>1</td>\n",
       "    </tr>\n",
       "    <tr>\n",
       "      <th>1482</th>\n",
       "      <td>0</td>\n",
       "      <td>329.99</td>\n",
       "      <td>Space Gray</td>\n",
       "      <td>Galaxy_Note10</td>\n",
       "      <td>no description</td>\n",
       "      <td>93</td>\n",
       "      <td>1</td>\n",
       "      <td>0</td>\n",
       "    </tr>\n",
       "    <tr>\n",
       "      <th>1483</th>\n",
       "      <td>0</td>\n",
       "      <td>89.00</td>\n",
       "      <td>Midnight Black</td>\n",
       "      <td>Galaxy_S7</td>\n",
       "      <td>no description</td>\n",
       "      <td>92</td>\n",
       "      <td>2</td>\n",
       "      <td>1</td>\n",
       "    </tr>\n",
       "    <tr>\n",
       "      <th>1484</th>\n",
       "      <td>0</td>\n",
       "      <td>119.99</td>\n",
       "      <td>Midnight Black</td>\n",
       "      <td>Galaxy_S7</td>\n",
       "      <td>no description</td>\n",
       "      <td>96</td>\n",
       "      <td>5</td>\n",
       "      <td>0</td>\n",
       "    </tr>\n",
       "  </tbody>\n",
       "</table>\n",
       "<p>1485 rows × 8 columns</p>\n",
       "</div>"
      ],
      "text/plain": [
       "      BuyItNow  startprice           color    productline  \\\n",
       "0            0      199.99           White      Galaxy_S9   \n",
       "1            0      235.00         Unknown   Galaxy_Note9   \n",
       "2            0      199.99         Unknown        Unknown   \n",
       "3            1      175.00      Space Gray   Galaxy_Note9   \n",
       "4            1      100.00      Space Gray      Galaxy_S8   \n",
       "...        ...         ...             ...            ...   \n",
       "1480         0       89.50         Unknown      Galaxy_S7   \n",
       "1481         0      239.95  Midnight Black      Galaxy_S9   \n",
       "1482         0      329.99      Space Gray  Galaxy_Note10   \n",
       "1483         0       89.00  Midnight Black      Galaxy_S7   \n",
       "1484         0      119.99  Midnight Black      Galaxy_S7   \n",
       "\n",
       "             noDescription  charCountDescription  upperCaseDescription  sold  \n",
       "0     contains description                     0                     0     1  \n",
       "1     contains description                     0                     0     0  \n",
       "2           no description                   100                     2     0  \n",
       "3     contains description                     0                     0     1  \n",
       "4     contains description                     0                     0     1  \n",
       "...                    ...                   ...                   ...   ...  \n",
       "1480        no description                    96                     2     0  \n",
       "1481        no description                    97                     5     1  \n",
       "1482        no description                    93                     1     0  \n",
       "1483        no description                    92                     2     1  \n",
       "1484        no description                    96                     5     0  \n",
       "\n",
       "[1485 rows x 8 columns]"
      ]
     },
     "execution_count": 39,
     "metadata": {},
     "output_type": "execute_result"
    }
   ],
   "source": [
    "data"
   ]
  },
  {
   "cell_type": "code",
   "execution_count": 40,
   "id": "969bc416-e9b7-4182-9caa-0fb42d62b9d8",
   "metadata": {},
   "outputs": [
    {
     "name": "stdout",
     "output_type": "stream",
     "text": [
      "<class 'pandas.core.frame.DataFrame'>\n",
      "RangeIndex: 1485 entries, 0 to 1484\n",
      "Data columns (total 8 columns):\n",
      " #   Column                Non-Null Count  Dtype  \n",
      "---  ------                --------------  -----  \n",
      " 0   BuyItNow              1485 non-null   int64  \n",
      " 1   startprice            1485 non-null   float64\n",
      " 2   color                 1485 non-null   object \n",
      " 3   productline           1485 non-null   object \n",
      " 4   noDescription         1485 non-null   object \n",
      " 5   charCountDescription  1485 non-null   int64  \n",
      " 6   upperCaseDescription  1485 non-null   int64  \n",
      " 7   sold                  1485 non-null   int64  \n",
      "dtypes: float64(1), int64(4), object(3)\n",
      "memory usage: 92.9+ KB\n"
     ]
    }
   ],
   "source": [
    "data.info()"
   ]
  },
  {
   "cell_type": "code",
   "execution_count": null,
   "id": "407d56e2-0ff6-4085-9470-7f7b811cc476",
   "metadata": {},
   "outputs": [],
   "source": []
  },
  {
   "cell_type": "code",
   "execution_count": 46,
   "id": "051dacbf-f201-44aa-8a1f-9d573f97d9a0",
   "metadata": {},
   "outputs": [],
   "source": [
    "# noDescription 잘못됨 -> charCountDescription 이거랑 반대임\n",
    "# 하지만 글자 수는 관계가 거의 없기 때문에 지우기\n",
    "del data['charCountDescription']"
   ]
  },
  {
   "cell_type": "code",
   "execution_count": 47,
   "id": "d4a1c4e8-58c5-49d0-997c-3ae7ac568b33",
   "metadata": {},
   "outputs": [
    {
     "name": "stdout",
     "output_type": "stream",
     "text": [
      "<class 'pandas.core.frame.DataFrame'>\n",
      "RangeIndex: 1485 entries, 0 to 1484\n",
      "Data columns (total 7 columns):\n",
      " #   Column                Non-Null Count  Dtype  \n",
      "---  ------                --------------  -----  \n",
      " 0   BuyItNow              1485 non-null   int64  \n",
      " 1   startprice            1485 non-null   float64\n",
      " 2   color                 1485 non-null   object \n",
      " 3   productline           1485 non-null   object \n",
      " 4   noDescription         1485 non-null   object \n",
      " 5   upperCaseDescription  1485 non-null   int64  \n",
      " 6   sold                  1485 non-null   int64  \n",
      "dtypes: float64(1), int64(3), object(3)\n",
      "memory usage: 81.3+ KB\n"
     ]
    }
   ],
   "source": [
    "data.info()"
   ]
  },
  {
   "cell_type": "code",
   "execution_count": null,
   "id": "cc1fd7e3-ccb8-429f-911b-af474c0b53f7",
   "metadata": {},
   "outputs": [],
   "source": []
  },
  {
   "cell_type": "code",
   "execution_count": 48,
   "id": "253f627d-8efd-4cdf-aed1-fdc47ee9f5a5",
   "metadata": {},
   "outputs": [
    {
     "data": {
      "text/plain": [
       "0       0\n",
       "1       0\n",
       "2       2\n",
       "3       0\n",
       "4       0\n",
       "       ..\n",
       "1480    2\n",
       "1481    5\n",
       "1482    1\n",
       "1483    2\n",
       "1484    5\n",
       "Name: upperCaseDescription, Length: 1485, dtype: int64"
      ]
     },
     "execution_count": 48,
     "metadata": {},
     "output_type": "execute_result"
    }
   ],
   "source": [
    "data['upperCaseDescription']"
   ]
  },
  {
   "cell_type": "code",
   "execution_count": 49,
   "id": "705c2548-0e62-4d36-a8e8-3e06bcb9adc6",
   "metadata": {
    "scrolled": true
   },
   "outputs": [
    {
     "data": {
      "text/plain": [
       "upperCaseDescription\n",
       "0     890\n",
       "2     131\n",
       "1     126\n",
       "4      77\n",
       "3      71\n",
       "5      41\n",
       "6      21\n",
       "10     17\n",
       "7      15\n",
       "8      13\n",
       "15     11\n",
       "12      8\n",
       "9       6\n",
       "11      5\n",
       "14      4\n",
       "16      4\n",
       "26      3\n",
       "80      3\n",
       "76      3\n",
       "20      2\n",
       "41      2\n",
       "74      2\n",
       "22      2\n",
       "13      2\n",
       "78      2\n",
       "69      2\n",
       "81      2\n",
       "19      2\n",
       "18      2\n",
       "24      1\n",
       "54      1\n",
       "44      1\n",
       "33      1\n",
       "66      1\n",
       "30      1\n",
       "77      1\n",
       "73      1\n",
       "25      1\n",
       "53      1\n",
       "70      1\n",
       "34      1\n",
       "37      1\n",
       "58      1\n",
       "32      1\n",
       "17      1\n",
       "Name: count, dtype: int64"
      ]
     },
     "execution_count": 49,
     "metadata": {},
     "output_type": "execute_result"
    }
   ],
   "source": [
    "data['upperCaseDescription'].value_counts()"
   ]
  },
  {
   "cell_type": "code",
   "execution_count": null,
   "id": "12da8022-a1b8-4abc-b567-1f59e694b476",
   "metadata": {},
   "outputs": [],
   "source": [
    "# upperCaseDescription : 몇 문장인지"
   ]
  },
  {
   "cell_type": "code",
   "execution_count": 50,
   "id": "b81cbe17-dda1-4ef0-998a-45d9f3db6618",
   "metadata": {},
   "outputs": [],
   "source": [
    "def upperCaseDescription_num(x):\n",
    "    if x == 0:\n",
    "        return 0\n",
    "    else:\n",
    "        return 1"
   ]
  },
  {
   "cell_type": "code",
   "execution_count": 51,
   "id": "23bf13b2-a652-40e0-9e80-f70c71697c1e",
   "metadata": {},
   "outputs": [],
   "source": [
    "data['upperCaseDescription'] = data['upperCaseDescription'].apply(upperCaseDescription_num)"
   ]
  },
  {
   "cell_type": "code",
   "execution_count": 52,
   "id": "6bf0c3d0-b970-4c67-a331-c214387186be",
   "metadata": {},
   "outputs": [
    {
     "data": {
      "text/plain": [
       "array([0, 1])"
      ]
     },
     "execution_count": 52,
     "metadata": {},
     "output_type": "execute_result"
    }
   ],
   "source": [
    "data['upperCaseDescription'].unique()"
   ]
  },
  {
   "cell_type": "code",
   "execution_count": 53,
   "id": "74d571e2-64da-47fb-aeb9-4f3eb2b3689c",
   "metadata": {},
   "outputs": [
    {
     "data": {
      "text/plain": [
       "0       0\n",
       "1       0\n",
       "2       1\n",
       "3       0\n",
       "4       0\n",
       "       ..\n",
       "1480    1\n",
       "1481    1\n",
       "1482    1\n",
       "1483    1\n",
       "1484    1\n",
       "Name: upperCaseDescription, Length: 1485, dtype: int64"
      ]
     },
     "execution_count": 53,
     "metadata": {},
     "output_type": "execute_result"
    }
   ],
   "source": [
    "data['upperCaseDescription']"
   ]
  },
  {
   "cell_type": "code",
   "execution_count": 54,
   "id": "397827ce-43ae-4bb8-b9fa-1fb0ed87b5c0",
   "metadata": {},
   "outputs": [
    {
     "name": "stdout",
     "output_type": "stream",
     "text": [
      "<class 'pandas.core.frame.DataFrame'>\n",
      "RangeIndex: 1485 entries, 0 to 1484\n",
      "Data columns (total 7 columns):\n",
      " #   Column                Non-Null Count  Dtype  \n",
      "---  ------                --------------  -----  \n",
      " 0   BuyItNow              1485 non-null   int64  \n",
      " 1   startprice            1485 non-null   float64\n",
      " 2   color                 1485 non-null   object \n",
      " 3   productline           1485 non-null   object \n",
      " 4   noDescription         1485 non-null   object \n",
      " 5   upperCaseDescription  1485 non-null   int64  \n",
      " 6   sold                  1485 non-null   int64  \n",
      "dtypes: float64(1), int64(3), object(3)\n",
      "memory usage: 81.3+ KB\n"
     ]
    }
   ],
   "source": [
    "data.info()"
   ]
  },
  {
   "cell_type": "markdown",
   "id": "128cb36c-7b0b-4e5b-b985-4f126ca25f04",
   "metadata": {},
   "source": [
    "BuyItNow : 바로 구매 할 수 있는지의 여부(즉시 구매)\n",
    "startprice : 경매의 시작 가격\n",
    "carrier : 통신사\n",
    "color : 기기 색상\n",
    "productline : 모델명\n",
    "noDescription : 판매자가 설명을 썼는지 안썼는지\n",
    "charCountDescriptio : 설명이 얼마나 긴지\n",
    "upperCaseDescription : 몇 문장인지\n",
    "sold : 팔렸는지 안팔렸는지 (우리가 알고자하는 종속변수)"
   ]
  },
  {
   "cell_type": "code",
   "execution_count": null,
   "id": "115c2ee4-2844-4bfd-985a-fad0cf5f68b5",
   "metadata": {},
   "outputs": [],
   "source": []
  },
  {
   "cell_type": "code",
   "execution_count": 58,
   "id": "e3b47d0a-0f1d-41ba-9808-449c49cc2122",
   "metadata": {},
   "outputs": [
    {
     "data": {
      "text/plain": [
       "np.int64(0)"
      ]
     },
     "execution_count": 58,
     "metadata": {},
     "output_type": "execute_result"
    }
   ],
   "source": [
    "data['noDescription'].isna().sum()"
   ]
  },
  {
   "cell_type": "code",
   "execution_count": 59,
   "id": "28848342-0ed6-4b9f-bc43-9c8a70ffebbc",
   "metadata": {},
   "outputs": [
    {
     "data": {
      "text/plain": [
       "0       contains description\n",
       "1       contains description\n",
       "2             no description\n",
       "3       contains description\n",
       "4       contains description\n",
       "                ...         \n",
       "1480          no description\n",
       "1481          no description\n",
       "1482          no description\n",
       "1483          no description\n",
       "1484          no description\n",
       "Name: noDescription, Length: 1485, dtype: object"
      ]
     },
     "execution_count": 59,
     "metadata": {},
     "output_type": "execute_result"
    }
   ],
   "source": [
    "data['noDescription']"
   ]
  },
  {
   "cell_type": "code",
   "execution_count": 60,
   "id": "62b3ac96-918f-4ffb-84e5-64487ca0dd1a",
   "metadata": {},
   "outputs": [],
   "source": [
    "def noDescription_num(x):\n",
    "    if x == 'contains description':\n",
    "        return 0;\n",
    "    else:\n",
    "        return 1;"
   ]
  },
  {
   "cell_type": "code",
   "execution_count": 61,
   "id": "27fc81e6-a074-40a9-94d2-fbdb7fa0d42d",
   "metadata": {},
   "outputs": [],
   "source": [
    "data['noDescription'] = data['noDescription'].apply(noDescription_num)"
   ]
  },
  {
   "cell_type": "code",
   "execution_count": 62,
   "id": "8ab85b6f-4afa-4d54-9462-298f10dde2ef",
   "metadata": {},
   "outputs": [
    {
     "data": {
      "text/plain": [
       "0       0\n",
       "1       0\n",
       "2       1\n",
       "3       0\n",
       "4       0\n",
       "       ..\n",
       "1480    1\n",
       "1481    1\n",
       "1482    1\n",
       "1483    1\n",
       "1484    1\n",
       "Name: noDescription, Length: 1485, dtype: int64"
      ]
     },
     "execution_count": 62,
     "metadata": {},
     "output_type": "execute_result"
    }
   ],
   "source": [
    "data['noDescription']"
   ]
  },
  {
   "cell_type": "code",
   "execution_count": 64,
   "id": "f7bb81a4-6a1b-467d-bcea-6d06504f6d6d",
   "metadata": {},
   "outputs": [
    {
     "data": {
      "text/plain": [
       "<Axes: xlabel='noDescription,sold'>"
      ]
     },
     "execution_count": 64,
     "metadata": {},
     "output_type": "execute_result"
    },
    {
     "data": {
      "image/png": "[encoded data removed]",
      "text/plain": [
       "<Figure size 640x480 with 1 Axes>"
      ]
     },
     "metadata": {},
     "output_type": "display_data"
    }
   ],
   "source": [
    "data[['sold', 'noDescription']].groupby('noDescription').value_counts(sort=False).plot(kind = 'bar')"
   ]
  },
  {
   "cell_type": "code",
   "execution_count": 105,
   "id": "94703608-9fd7-4954-844e-cf0972cb596c",
   "metadata": {},
   "outputs": [
    {
     "name": "stdout",
     "output_type": "stream",
     "text": [
      "<class 'pandas.core.frame.DataFrame'>\n",
      "RangeIndex: 1485 entries, 0 to 1484\n",
      "Data columns (total 8 columns):\n",
      " #   Column                Non-Null Count  Dtype   \n",
      "---  ------                --------------  -----   \n",
      " 0   BuyItNow              1485 non-null   int64   \n",
      " 1   startprice            1485 non-null   object  \n",
      " 2   color                 1485 non-null   int64   \n",
      " 3   productline           1485 non-null   int64   \n",
      " 4   noDescription         1485 non-null   int64   \n",
      " 5   upperCaseDescription  1485 non-null   int64   \n",
      " 6   sold                  1485 non-null   int64   \n",
      " 7   startprice_binned     1485 non-null   category\n",
      "dtypes: category(1), int64(6), object(1)\n",
      "memory usage: 83.6+ KB\n"
     ]
    }
   ],
   "source": [
    "data.info()"
   ]
  },
  {
   "cell_type": "code",
   "execution_count": 107,
   "id": "147d0961-b9ed-44c2-b438-ed269534a38c",
   "metadata": {},
   "outputs": [
    {
     "data": {
      "text/plain": [
       "startprice\n",
       "0     252\n",
       "1     208\n",
       "3     173\n",
       "4     153\n",
       "5     147\n",
       "2     143\n",
       "6     112\n",
       "7      84\n",
       "8      58\n",
       "9      42\n",
       "10     35\n",
       "11     31\n",
       "12     18\n",
       "13     10\n",
       "14      9\n",
       "15      5\n",
       "16      2\n",
       "18      2\n",
       "19      1\n",
       "Name: count, dtype: int64"
      ]
     },
     "execution_count": 107,
     "metadata": {},
     "output_type": "execute_result"
    }
   ],
   "source": [
    "data['startprice'].value_counts()"
   ]
  },
  {
   "cell_type": "code",
   "execution_count": 111,
   "id": "687477d0-9599-44f2-9d68-d90886b23b8f",
   "metadata": {},
   "outputs": [],
   "source": [
    "data['startprice'] = pd.to_numeric(data['startprice'], errors='coerce')"
   ]
  },
  {
   "cell_type": "code",
   "execution_count": 112,
   "id": "ec4d9cad-9339-4e0e-95c0-52271c98a701",
   "metadata": {},
   "outputs": [
    {
     "name": "stdout",
     "output_type": "stream",
     "text": [
      "<class 'pandas.core.frame.DataFrame'>\n",
      "RangeIndex: 1485 entries, 0 to 1484\n",
      "Data columns (total 8 columns):\n",
      " #   Column                Non-Null Count  Dtype   \n",
      "---  ------                --------------  -----   \n",
      " 0   BuyItNow              1485 non-null   int64   \n",
      " 1   startprice            1485 non-null   int64   \n",
      " 2   color                 1485 non-null   int64   \n",
      " 3   productline           1485 non-null   int64   \n",
      " 4   noDescription         1485 non-null   int64   \n",
      " 5   upperCaseDescription  1485 non-null   int64   \n",
      " 6   sold                  1485 non-null   int64   \n",
      " 7   startprice_binned     1485 non-null   category\n",
      "dtypes: category(1), int64(7)\n",
      "memory usage: 83.6 KB\n"
     ]
    }
   ],
   "source": [
    "data.info()"
   ]
  },
  {
   "cell_type": "code",
   "execution_count": 116,
   "id": "5659fac7-7c78-4cef-915b-e0174b8d2f22",
   "metadata": {},
   "outputs": [
    {
     "data": {
      "text/plain": [
       "19"
      ]
     },
     "execution_count": 116,
     "metadata": {},
     "output_type": "execute_result"
    }
   ],
   "source": [
    "data['startprice'].nunique()"
   ]
  },
  {
   "cell_type": "code",
   "execution_count": null,
   "id": "a12f4b7a-cc2d-4106-bd61-497c992d1656",
   "metadata": {},
   "outputs": [],
   "source": []
  },
  {
   "cell_type": "code",
   "execution_count": null,
   "id": "83f14ae6-97f8-4d96-9446-912299abdfc4",
   "metadata": {},
   "outputs": [],
   "source": []
  },
  {
   "cell_type": "code",
   "execution_count": null,
   "id": "9eb24a2e-a76d-4c1a-96af-a02297834424",
   "metadata": {},
   "outputs": [],
   "source": []
  },
  {
   "cell_type": "markdown",
   "id": "993a6cd2-05e2-4381-8a04-ea8af0d5941a",
   "metadata": {},
   "source": [
    "# EDA 탐색적 데이터 분석"
   ]
  },
  {
   "cell_type": "code",
   "execution_count": 55,
   "id": "0252e0cf-bbac-492a-bbf2-f5aaba7b84f9",
   "metadata": {},
   "outputs": [],
   "source": [
    "data1 = data.copy()\n",
    "data2 = data.copy()\n",
    "data3 = data.copy()\n",
    "data4 = data.copy()\n",
    "data5 = data.copy()"
   ]
  },
  {
   "cell_type": "code",
   "execution_count": null,
   "id": "08e68a8e-3259-47e6-8123-3626a64a8ccd",
   "metadata": {},
   "outputs": [],
   "source": []
  },
  {
   "cell_type": "code",
   "execution_count": 66,
   "id": "d6ccb675-fa4d-4ed1-a9d0-34fa6cebd680",
   "metadata": {},
   "outputs": [
    {
     "name": "stdout",
     "output_type": "stream",
     "text": [
      "0       7\n",
      "1       6\n",
      "2       6\n",
      "3       5\n",
      "4       5\n",
      "       ..\n",
      "1480    6\n",
      "1481    3\n",
      "1482    5\n",
      "1483    3\n",
      "1484    3\n",
      "Name: color, Length: 1485, dtype: int64\n",
      "0       6\n",
      "1       2\n",
      "2       7\n",
      "3       2\n",
      "4       5\n",
      "       ..\n",
      "1480    4\n",
      "1481    6\n",
      "1482    0\n",
      "1483    4\n",
      "1484    4\n",
      "Name: productline, Length: 1485, dtype: int64\n"
     ]
    }
   ],
   "source": [
    "# 레이블 인코더 임포트하기\n",
    "from sklearn.preprocessing import LabelEncoder\n",
    "# 레이블 인코더 인스턴스 생성\n",
    "le = LabelEncoder()\n",
    "le2 = LabelEncoder()\n",
    "le3 = LabelEncoder()\n",
    "\n",
    "data1['color'] = le.fit_transform(data1['color'])\n",
    "data2['productline'] = le2.fit_transform(data2['productline'])\n",
    "\n",
    "\n",
    "print(data1['color'])\n",
    "print(data2['productline'])"
   ]
  },
  {
   "cell_type": "code",
   "execution_count": 69,
   "id": "80fb066d-45e3-4dd4-a3c3-ed7f8669ec65",
   "metadata": {},
   "outputs": [
    {
     "data": {
      "text/html": [
       "<div>\n",
       "<style scoped>\n",
       "    .dataframe tbody tr th:only-of-type {\n",
       "        vertical-align: middle;\n",
       "    }\n",
       "\n",
       "    .dataframe tbody tr th {\n",
       "        vertical-align: top;\n",
       "    }\n",
       "\n",
       "    .dataframe thead th {\n",
       "        text-align: right;\n",
       "    }\n",
       "</style>\n",
       "<table border=\"1\" class=\"dataframe\">\n",
       "  <thead>\n",
       "    <tr style=\"text-align: right;\">\n",
       "      <th></th>\n",
       "      <th>BuyItNow</th>\n",
       "      <th>startprice</th>\n",
       "      <th>color</th>\n",
       "      <th>productline</th>\n",
       "      <th>noDescription</th>\n",
       "      <th>upperCaseDescription</th>\n",
       "      <th>sold</th>\n",
       "    </tr>\n",
       "  </thead>\n",
       "  <tbody>\n",
       "    <tr>\n",
       "      <th>0</th>\n",
       "      <td>0</td>\n",
       "      <td>199.99</td>\n",
       "      <td>7</td>\n",
       "      <td>Galaxy_S9</td>\n",
       "      <td>contains description</td>\n",
       "      <td>0</td>\n",
       "      <td>1</td>\n",
       "    </tr>\n",
       "    <tr>\n",
       "      <th>1</th>\n",
       "      <td>0</td>\n",
       "      <td>235.00</td>\n",
       "      <td>6</td>\n",
       "      <td>Galaxy_Note9</td>\n",
       "      <td>contains description</td>\n",
       "      <td>0</td>\n",
       "      <td>0</td>\n",
       "    </tr>\n",
       "    <tr>\n",
       "      <th>2</th>\n",
       "      <td>0</td>\n",
       "      <td>199.99</td>\n",
       "      <td>6</td>\n",
       "      <td>Unknown</td>\n",
       "      <td>no description</td>\n",
       "      <td>1</td>\n",
       "      <td>0</td>\n",
       "    </tr>\n",
       "    <tr>\n",
       "      <th>3</th>\n",
       "      <td>1</td>\n",
       "      <td>175.00</td>\n",
       "      <td>5</td>\n",
       "      <td>Galaxy_Note9</td>\n",
       "      <td>contains description</td>\n",
       "      <td>0</td>\n",
       "      <td>1</td>\n",
       "    </tr>\n",
       "    <tr>\n",
       "      <th>4</th>\n",
       "      <td>1</td>\n",
       "      <td>100.00</td>\n",
       "      <td>5</td>\n",
       "      <td>Galaxy_S8</td>\n",
       "      <td>contains description</td>\n",
       "      <td>0</td>\n",
       "      <td>1</td>\n",
       "    </tr>\n",
       "  </tbody>\n",
       "</table>\n",
       "</div>"
      ],
      "text/plain": [
       "   BuyItNow  startprice  color   productline         noDescription  \\\n",
       "0         0      199.99      7     Galaxy_S9  contains description   \n",
       "1         0      235.00      6  Galaxy_Note9  contains description   \n",
       "2         0      199.99      6       Unknown        no description   \n",
       "3         1      175.00      5  Galaxy_Note9  contains description   \n",
       "4         1      100.00      5     Galaxy_S8  contains description   \n",
       "\n",
       "   upperCaseDescription  sold  \n",
       "0                     0     1  \n",
       "1                     0     0  \n",
       "2                     1     0  \n",
       "3                     0     1  \n",
       "4                     0     1  "
      ]
     },
     "execution_count": 69,
     "metadata": {},
     "output_type": "execute_result"
    }
   ],
   "source": [
    "# color\n",
    "data1.head()"
   ]
  },
  {
   "cell_type": "code",
   "execution_count": 70,
   "id": "f186eb26-337e-4177-89ca-de9ab884cbbe",
   "metadata": {},
   "outputs": [
    {
     "data": {
      "text/html": [
       "<div>\n",
       "<style scoped>\n",
       "    .dataframe tbody tr th:only-of-type {\n",
       "        vertical-align: middle;\n",
       "    }\n",
       "\n",
       "    .dataframe tbody tr th {\n",
       "        vertical-align: top;\n",
       "    }\n",
       "\n",
       "    .dataframe thead th {\n",
       "        text-align: right;\n",
       "    }\n",
       "</style>\n",
       "<table border=\"1\" class=\"dataframe\">\n",
       "  <thead>\n",
       "    <tr style=\"text-align: right;\">\n",
       "      <th></th>\n",
       "      <th>BuyItNow</th>\n",
       "      <th>startprice</th>\n",
       "      <th>color</th>\n",
       "      <th>productline</th>\n",
       "      <th>noDescription</th>\n",
       "      <th>upperCaseDescription</th>\n",
       "      <th>sold</th>\n",
       "    </tr>\n",
       "  </thead>\n",
       "  <tbody>\n",
       "    <tr>\n",
       "      <th>0</th>\n",
       "      <td>0</td>\n",
       "      <td>199.99</td>\n",
       "      <td>White</td>\n",
       "      <td>6</td>\n",
       "      <td>contains description</td>\n",
       "      <td>0</td>\n",
       "      <td>1</td>\n",
       "    </tr>\n",
       "    <tr>\n",
       "      <th>1</th>\n",
       "      <td>0</td>\n",
       "      <td>235.00</td>\n",
       "      <td>Unknown</td>\n",
       "      <td>2</td>\n",
       "      <td>contains description</td>\n",
       "      <td>0</td>\n",
       "      <td>0</td>\n",
       "    </tr>\n",
       "    <tr>\n",
       "      <th>2</th>\n",
       "      <td>0</td>\n",
       "      <td>199.99</td>\n",
       "      <td>Unknown</td>\n",
       "      <td>7</td>\n",
       "      <td>no description</td>\n",
       "      <td>1</td>\n",
       "      <td>0</td>\n",
       "    </tr>\n",
       "    <tr>\n",
       "      <th>3</th>\n",
       "      <td>1</td>\n",
       "      <td>175.00</td>\n",
       "      <td>Space Gray</td>\n",
       "      <td>2</td>\n",
       "      <td>contains description</td>\n",
       "      <td>0</td>\n",
       "      <td>1</td>\n",
       "    </tr>\n",
       "    <tr>\n",
       "      <th>4</th>\n",
       "      <td>1</td>\n",
       "      <td>100.00</td>\n",
       "      <td>Space Gray</td>\n",
       "      <td>5</td>\n",
       "      <td>contains description</td>\n",
       "      <td>0</td>\n",
       "      <td>1</td>\n",
       "    </tr>\n",
       "  </tbody>\n",
       "</table>\n",
       "</div>"
      ],
      "text/plain": [
       "   BuyItNow  startprice       color  productline         noDescription  \\\n",
       "0         0      199.99       White            6  contains description   \n",
       "1         0      235.00     Unknown            2  contains description   \n",
       "2         0      199.99     Unknown            7        no description   \n",
       "3         1      175.00  Space Gray            2  contains description   \n",
       "4         1      100.00  Space Gray            5  contains description   \n",
       "\n",
       "   upperCaseDescription  sold  \n",
       "0                     0     1  \n",
       "1                     0     0  \n",
       "2                     1     0  \n",
       "3                     0     1  \n",
       "4                     0     1  "
      ]
     },
     "execution_count": 70,
     "metadata": {},
     "output_type": "execute_result"
    }
   ],
   "source": [
    "# productline\n",
    "data2.head()"
   ]
  },
  {
   "cell_type": "code",
   "execution_count": 71,
   "id": "197744bb-d915-4535-a228-9b7749b32bc4",
   "metadata": {},
   "outputs": [],
   "source": [
    "data['color'] = data1['color']\n",
    "data['productline'] = data2['productline']"
   ]
  },
  {
   "cell_type": "code",
   "execution_count": 117,
   "id": "43ac3d88-5dc6-41c7-9316-e09f10d6dd42",
   "metadata": {},
   "outputs": [
    {
     "name": "stdout",
     "output_type": "stream",
     "text": [
      "<class 'pandas.core.frame.DataFrame'>\n",
      "RangeIndex: 1485 entries, 0 to 1484\n",
      "Data columns (total 8 columns):\n",
      " #   Column                Non-Null Count  Dtype   \n",
      "---  ------                --------------  -----   \n",
      " 0   BuyItNow              1485 non-null   int64   \n",
      " 1   startprice            1485 non-null   int64   \n",
      " 2   color                 1485 non-null   int64   \n",
      " 3   productline           1485 non-null   int64   \n",
      " 4   noDescription         1485 non-null   int64   \n",
      " 5   upperCaseDescription  1485 non-null   int64   \n",
      " 6   sold                  1485 non-null   int64   \n",
      " 7   startprice_binned     1485 non-null   category\n",
      "dtypes: category(1), int64(7)\n",
      "memory usage: 83.6 KB\n"
     ]
    }
   ],
   "source": [
    "data.info()"
   ]
  },
  {
   "cell_type": "code",
   "execution_count": 120,
   "id": "629a9c0d-7701-4126-8c38-e98cbbc8d7e2",
   "metadata": {},
   "outputs": [],
   "source": [
    "# del data['startprice_binned']"
   ]
  },
  {
   "cell_type": "code",
   "execution_count": 121,
   "id": "53af990a-cb65-435a-b364-1fa1cf336475",
   "metadata": {},
   "outputs": [
    {
     "name": "stdout",
     "output_type": "stream",
     "text": [
      "<class 'pandas.core.frame.DataFrame'>\n",
      "RangeIndex: 1485 entries, 0 to 1484\n",
      "Data columns (total 7 columns):\n",
      " #   Column                Non-Null Count  Dtype\n",
      "---  ------                --------------  -----\n",
      " 0   BuyItNow              1485 non-null   int64\n",
      " 1   startprice            1485 non-null   int64\n",
      " 2   color                 1485 non-null   int64\n",
      " 3   productline           1485 non-null   int64\n",
      " 4   noDescription         1485 non-null   int64\n",
      " 5   upperCaseDescription  1485 non-null   int64\n",
      " 6   sold                  1485 non-null   int64\n",
      "dtypes: int64(7)\n",
      "memory usage: 81.3 KB\n"
     ]
    }
   ],
   "source": [
    "data.info()"
   ]
  },
  {
   "cell_type": "code",
   "execution_count": null,
   "id": "6fd82d5d-4149-4de1-9eb3-c4180f0ac414",
   "metadata": {},
   "outputs": [],
   "source": []
  },
  {
   "cell_type": "code",
   "execution_count": 122,
   "id": "ef24c278-4a96-4d57-a82f-feebfda37c9a",
   "metadata": {},
   "outputs": [
    {
     "data": {
      "text/html": [
       "<div>\n",
       "<style scoped>\n",
       "    .dataframe tbody tr th:only-of-type {\n",
       "        vertical-align: middle;\n",
       "    }\n",
       "\n",
       "    .dataframe tbody tr th {\n",
       "        vertical-align: top;\n",
       "    }\n",
       "\n",
       "    .dataframe thead th {\n",
       "        text-align: right;\n",
       "    }\n",
       "</style>\n",
       "<table border=\"1\" class=\"dataframe\">\n",
       "  <thead>\n",
       "    <tr style=\"text-align: right;\">\n",
       "      <th></th>\n",
       "      <th>BuyItNow</th>\n",
       "      <th>startprice</th>\n",
       "      <th>color</th>\n",
       "      <th>productline</th>\n",
       "      <th>noDescription</th>\n",
       "      <th>upperCaseDescription</th>\n",
       "      <th>sold</th>\n",
       "    </tr>\n",
       "  </thead>\n",
       "  <tbody>\n",
       "    <tr>\n",
       "      <th>0</th>\n",
       "      <td>0</td>\n",
       "      <td>3</td>\n",
       "      <td>7</td>\n",
       "      <td>6</td>\n",
       "      <td>0</td>\n",
       "      <td>0</td>\n",
       "      <td>1</td>\n",
       "    </tr>\n",
       "    <tr>\n",
       "      <th>1</th>\n",
       "      <td>0</td>\n",
       "      <td>4</td>\n",
       "      <td>6</td>\n",
       "      <td>2</td>\n",
       "      <td>0</td>\n",
       "      <td>0</td>\n",
       "      <td>0</td>\n",
       "    </tr>\n",
       "    <tr>\n",
       "      <th>2</th>\n",
       "      <td>0</td>\n",
       "      <td>3</td>\n",
       "      <td>6</td>\n",
       "      <td>7</td>\n",
       "      <td>1</td>\n",
       "      <td>1</td>\n",
       "      <td>0</td>\n",
       "    </tr>\n",
       "    <tr>\n",
       "      <th>3</th>\n",
       "      <td>1</td>\n",
       "      <td>3</td>\n",
       "      <td>5</td>\n",
       "      <td>2</td>\n",
       "      <td>0</td>\n",
       "      <td>0</td>\n",
       "      <td>1</td>\n",
       "    </tr>\n",
       "    <tr>\n",
       "      <th>4</th>\n",
       "      <td>1</td>\n",
       "      <td>2</td>\n",
       "      <td>5</td>\n",
       "      <td>5</td>\n",
       "      <td>0</td>\n",
       "      <td>0</td>\n",
       "      <td>1</td>\n",
       "    </tr>\n",
       "    <tr>\n",
       "      <th>...</th>\n",
       "      <td>...</td>\n",
       "      <td>...</td>\n",
       "      <td>...</td>\n",
       "      <td>...</td>\n",
       "      <td>...</td>\n",
       "      <td>...</td>\n",
       "      <td>...</td>\n",
       "    </tr>\n",
       "    <tr>\n",
       "      <th>1480</th>\n",
       "      <td>0</td>\n",
       "      <td>1</td>\n",
       "      <td>6</td>\n",
       "      <td>4</td>\n",
       "      <td>1</td>\n",
       "      <td>1</td>\n",
       "      <td>0</td>\n",
       "    </tr>\n",
       "    <tr>\n",
       "      <th>1481</th>\n",
       "      <td>0</td>\n",
       "      <td>4</td>\n",
       "      <td>3</td>\n",
       "      <td>6</td>\n",
       "      <td>1</td>\n",
       "      <td>1</td>\n",
       "      <td>1</td>\n",
       "    </tr>\n",
       "    <tr>\n",
       "      <th>1482</th>\n",
       "      <td>0</td>\n",
       "      <td>6</td>\n",
       "      <td>5</td>\n",
       "      <td>0</td>\n",
       "      <td>1</td>\n",
       "      <td>1</td>\n",
       "      <td>0</td>\n",
       "    </tr>\n",
       "    <tr>\n",
       "      <th>1483</th>\n",
       "      <td>0</td>\n",
       "      <td>1</td>\n",
       "      <td>3</td>\n",
       "      <td>4</td>\n",
       "      <td>1</td>\n",
       "      <td>1</td>\n",
       "      <td>1</td>\n",
       "    </tr>\n",
       "    <tr>\n",
       "      <th>1484</th>\n",
       "      <td>0</td>\n",
       "      <td>2</td>\n",
       "      <td>3</td>\n",
       "      <td>4</td>\n",
       "      <td>1</td>\n",
       "      <td>1</td>\n",
       "      <td>0</td>\n",
       "    </tr>\n",
       "  </tbody>\n",
       "</table>\n",
       "<p>1485 rows × 7 columns</p>\n",
       "</div>"
      ],
      "text/plain": [
       "      BuyItNow  startprice  color  productline  noDescription  \\\n",
       "0            0           3      7            6              0   \n",
       "1            0           4      6            2              0   \n",
       "2            0           3      6            7              1   \n",
       "3            1           3      5            2              0   \n",
       "4            1           2      5            5              0   \n",
       "...        ...         ...    ...          ...            ...   \n",
       "1480         0           1      6            4              1   \n",
       "1481         0           4      3            6              1   \n",
       "1482         0           6      5            0              1   \n",
       "1483         0           1      3            4              1   \n",
       "1484         0           2      3            4              1   \n",
       "\n",
       "      upperCaseDescription  sold  \n",
       "0                        0     1  \n",
       "1                        0     0  \n",
       "2                        1     0  \n",
       "3                        0     1  \n",
       "4                        0     1  \n",
       "...                    ...   ...  \n",
       "1480                     1     0  \n",
       "1481                     1     1  \n",
       "1482                     1     0  \n",
       "1483                     1     1  \n",
       "1484                     1     0  \n",
       "\n",
       "[1485 rows x 7 columns]"
      ]
     },
     "execution_count": 122,
     "metadata": {},
     "output_type": "execute_result"
    }
   ],
   "source": [
    "data"
   ]
  },
  {
   "cell_type": "markdown",
   "id": "948192aa-77bd-4468-8cd0-7208d08c983c",
   "metadata": {},
   "source": [
    "# Feature Enginnering(변수 선택, 새로운 변수 생성)"
   ]
  },
  {
   "cell_type": "code",
   "execution_count": 123,
   "id": "238e1931-508a-4e5b-8ce9-df223a484505",
   "metadata": {},
   "outputs": [],
   "source": [
    "X = data.drop('sold', axis = 1)\n",
    "y = data['sold']"
   ]
  },
  {
   "cell_type": "code",
   "execution_count": 124,
   "id": "cdb2e675-e3e5-454d-833d-97fd958666e1",
   "metadata": {},
   "outputs": [
    {
     "data": {
      "text/html": [
       "<div>\n",
       "<style scoped>\n",
       "    .dataframe tbody tr th:only-of-type {\n",
       "        vertical-align: middle;\n",
       "    }\n",
       "\n",
       "    .dataframe tbody tr th {\n",
       "        vertical-align: top;\n",
       "    }\n",
       "\n",
       "    .dataframe thead th {\n",
       "        text-align: right;\n",
       "    }\n",
       "</style>\n",
       "<table border=\"1\" class=\"dataframe\">\n",
       "  <thead>\n",
       "    <tr style=\"text-align: right;\">\n",
       "      <th></th>\n",
       "      <th>BuyItNow</th>\n",
       "      <th>startprice</th>\n",
       "      <th>color</th>\n",
       "      <th>productline</th>\n",
       "      <th>noDescription</th>\n",
       "      <th>upperCaseDescription</th>\n",
       "    </tr>\n",
       "  </thead>\n",
       "  <tbody>\n",
       "    <tr>\n",
       "      <th>0</th>\n",
       "      <td>0</td>\n",
       "      <td>3</td>\n",
       "      <td>7</td>\n",
       "      <td>6</td>\n",
       "      <td>0</td>\n",
       "      <td>0</td>\n",
       "    </tr>\n",
       "    <tr>\n",
       "      <th>1</th>\n",
       "      <td>0</td>\n",
       "      <td>4</td>\n",
       "      <td>6</td>\n",
       "      <td>2</td>\n",
       "      <td>0</td>\n",
       "      <td>0</td>\n",
       "    </tr>\n",
       "    <tr>\n",
       "      <th>2</th>\n",
       "      <td>0</td>\n",
       "      <td>3</td>\n",
       "      <td>6</td>\n",
       "      <td>7</td>\n",
       "      <td>1</td>\n",
       "      <td>1</td>\n",
       "    </tr>\n",
       "    <tr>\n",
       "      <th>3</th>\n",
       "      <td>1</td>\n",
       "      <td>3</td>\n",
       "      <td>5</td>\n",
       "      <td>2</td>\n",
       "      <td>0</td>\n",
       "      <td>0</td>\n",
       "    </tr>\n",
       "    <tr>\n",
       "      <th>4</th>\n",
       "      <td>1</td>\n",
       "      <td>2</td>\n",
       "      <td>5</td>\n",
       "      <td>5</td>\n",
       "      <td>0</td>\n",
       "      <td>0</td>\n",
       "    </tr>\n",
       "    <tr>\n",
       "      <th>...</th>\n",
       "      <td>...</td>\n",
       "      <td>...</td>\n",
       "      <td>...</td>\n",
       "      <td>...</td>\n",
       "      <td>...</td>\n",
       "      <td>...</td>\n",
       "    </tr>\n",
       "    <tr>\n",
       "      <th>1480</th>\n",
       "      <td>0</td>\n",
       "      <td>1</td>\n",
       "      <td>6</td>\n",
       "      <td>4</td>\n",
       "      <td>1</td>\n",
       "      <td>1</td>\n",
       "    </tr>\n",
       "    <tr>\n",
       "      <th>1481</th>\n",
       "      <td>0</td>\n",
       "      <td>4</td>\n",
       "      <td>3</td>\n",
       "      <td>6</td>\n",
       "      <td>1</td>\n",
       "      <td>1</td>\n",
       "    </tr>\n",
       "    <tr>\n",
       "      <th>1482</th>\n",
       "      <td>0</td>\n",
       "      <td>6</td>\n",
       "      <td>5</td>\n",
       "      <td>0</td>\n",
       "      <td>1</td>\n",
       "      <td>1</td>\n",
       "    </tr>\n",
       "    <tr>\n",
       "      <th>1483</th>\n",
       "      <td>0</td>\n",
       "      <td>1</td>\n",
       "      <td>3</td>\n",
       "      <td>4</td>\n",
       "      <td>1</td>\n",
       "      <td>1</td>\n",
       "    </tr>\n",
       "    <tr>\n",
       "      <th>1484</th>\n",
       "      <td>0</td>\n",
       "      <td>2</td>\n",
       "      <td>3</td>\n",
       "      <td>4</td>\n",
       "      <td>1</td>\n",
       "      <td>1</td>\n",
       "    </tr>\n",
       "  </tbody>\n",
       "</table>\n",
       "<p>1485 rows × 6 columns</p>\n",
       "</div>"
      ],
      "text/plain": [
       "      BuyItNow  startprice  color  productline  noDescription  \\\n",
       "0            0           3      7            6              0   \n",
       "1            0           4      6            2              0   \n",
       "2            0           3      6            7              1   \n",
       "3            1           3      5            2              0   \n",
       "4            1           2      5            5              0   \n",
       "...        ...         ...    ...          ...            ...   \n",
       "1480         0           1      6            4              1   \n",
       "1481         0           4      3            6              1   \n",
       "1482         0           6      5            0              1   \n",
       "1483         0           1      3            4              1   \n",
       "1484         0           2      3            4              1   \n",
       "\n",
       "      upperCaseDescription  \n",
       "0                        0  \n",
       "1                        0  \n",
       "2                        1  \n",
       "3                        0  \n",
       "4                        0  \n",
       "...                    ...  \n",
       "1480                     1  \n",
       "1481                     1  \n",
       "1482                     1  \n",
       "1483                     1  \n",
       "1484                     1  \n",
       "\n",
       "[1485 rows x 6 columns]"
      ]
     },
     "execution_count": 124,
     "metadata": {},
     "output_type": "execute_result"
    }
   ],
   "source": [
    "X"
   ]
  },
  {
   "cell_type": "code",
   "execution_count": 126,
   "id": "c33e7e76-7f43-47e2-bdb2-b5128af8dc27",
   "metadata": {},
   "outputs": [
    {
     "data": {
      "text/plain": [
       "0       1\n",
       "1       0\n",
       "2       0\n",
       "3       1\n",
       "4       1\n",
       "       ..\n",
       "1480    0\n",
       "1481    1\n",
       "1482    0\n",
       "1483    1\n",
       "1484    0\n",
       "Name: sold, Length: 1485, dtype: int64"
      ]
     },
     "execution_count": 126,
     "metadata": {},
     "output_type": "execute_result"
    }
   ],
   "source": [
    "y"
   ]
  },
  {
   "cell_type": "code",
   "execution_count": 128,
   "id": "b8703512-47ad-449d-bf94-0921b8795c83",
   "metadata": {},
   "outputs": [
    {
     "data": {
      "text/plain": [
       "2"
      ]
     },
     "execution_count": 128,
     "metadata": {},
     "output_type": "execute_result"
    }
   ],
   "source": [
    "data['upperCaseDescription'].nunique()"
   ]
  },
  {
   "cell_type": "code",
   "execution_count": null,
   "id": "9c79efe1-fe6f-44ed-8a1a-f22cb18abede",
   "metadata": {},
   "outputs": [],
   "source": []
  },
  {
   "cell_type": "code",
   "execution_count": null,
   "id": "fc24fba8-a5f2-4644-b42e-54c300766d76",
   "metadata": {},
   "outputs": [],
   "source": []
  },
  {
   "cell_type": "code",
   "execution_count": null,
   "id": "cbf31dc5-6db6-446c-b39a-6572fa200e82",
   "metadata": {},
   "outputs": [],
   "source": []
  },
  {
   "cell_type": "markdown",
   "id": "63dd243e-1b6c-4c7b-aa0c-d36525073eea",
   "metadata": {},
   "source": [
    "# 데이터 분리 및 분석"
   ]
  },
  {
   "cell_type": "code",
   "execution_count": 129,
   "id": "1800c69c-47ec-4369-873a-78e648fcfc57",
   "metadata": {},
   "outputs": [],
   "source": [
    "from sklearn.tree import DecisionTreeClassifier\n",
    "from sklearn.model_selection import train_test_split\n",
    "from sklearn.metrics import accuracy_score, classification_report"
   ]
  },
  {
   "cell_type": "code",
   "execution_count": 130,
   "id": "e4696c53-8e7a-473a-b311-c95fe8549515",
   "metadata": {},
   "outputs": [],
   "source": [
    "X_train, X_test, y_train, y_test = train_test_split(X, y, test_size = 0.2, random_state = 8)"
   ]
  },
  {
   "cell_type": "code",
   "execution_count": 131,
   "id": "39779729-81ae-497c-b636-82f37a81f1fa",
   "metadata": {},
   "outputs": [
    {
     "name": "stdout",
     "output_type": "stream",
     "text": [
      "0.7441077441077442\n",
      "              precision    recall  f1-score   support\n",
      "\n",
      "           0       0.72      0.80      0.75       147\n",
      "           1       0.78      0.69      0.73       150\n",
      "\n",
      "    accuracy                           0.74       297\n",
      "   macro avg       0.75      0.74      0.74       297\n",
      "weighted avg       0.75      0.74      0.74       297\n",
      "\n"
     ]
    }
   ],
   "source": [
    "dtc = DecisionTreeClassifier()\n",
    "dtc.fit(X_train, y_train)\n",
    "pred = dtc.predict(X_test)\n",
    "print(accuracy_score(y_test, pred))\n",
    "print(classification_report(y_test, pred))"
   ]
  },
  {
   "cell_type": "code",
   "execution_count": null,
   "id": "cbb9e2da-d107-4361-92a0-d5e65603c4d1",
   "metadata": {},
   "outputs": [],
   "source": []
  },
  {
   "cell_type": "code",
   "execution_count": null,
   "id": "c1407409-6177-437f-807f-5d462e77e330",
   "metadata": {},
   "outputs": [],
   "source": []
  },
  {
   "cell_type": "code",
   "execution_count": null,
   "id": "9ffe8e7f-9db3-4f69-9ae0-47e985b6b592",
   "metadata": {},
   "outputs": [],
   "source": []
  },
  {
   "cell_type": "code",
   "execution_count": null,
   "id": "d3c45aed-96b3-45e7-b1cd-5094b22d00b2",
   "metadata": {},
   "outputs": [],
   "source": []
  },
  {
   "cell_type": "code",
   "execution_count": null,
   "id": "a295abe5-daf1-451e-b2ae-a69bc568a027",
   "metadata": {},
   "outputs": [],
   "source": []
  },
  {
   "cell_type": "code",
   "execution_count": null,
   "id": "536dc0f2-a462-4ffc-8016-2101e81970c1",
   "metadata": {},
   "outputs": [],
   "source": []
  },
  {
   "cell_type": "markdown",
   "id": "4fa2ba55-79fd-46da-9bbb-c01a668e875b",
   "metadata": {},
   "source": [
    "# 성능 평가 및 성능 개선을 위한 튜닝"
   ]
  },
  {
   "cell_type": "code",
   "execution_count": 132,
   "id": "3b27ab61-e9e4-4d1f-a68b-00b08b3f5e09",
   "metadata": {},
   "outputs": [],
   "source": [
    "X_train, X_test, y_train, y_test = train_test_split(X, y, test_size = 0.2, random_state = 8)"
   ]
  },
  {
   "cell_type": "code",
   "execution_count": 133,
   "id": "3058f16d-e6eb-4570-a8fe-775f4d4d3857",
   "metadata": {
    "scrolled": true
   },
   "outputs": [
    {
     "name": "stdout",
     "output_type": "stream",
     "text": [
      "1 0.7643097643097643\n",
      "1               precision    recall  f1-score   support\n",
      "\n",
      "           0       0.75      0.78      0.77       147\n",
      "           1       0.77      0.75      0.76       150\n",
      "\n",
      "    accuracy                           0.76       297\n",
      "   macro avg       0.76      0.76      0.76       297\n",
      "weighted avg       0.76      0.76      0.76       297\n",
      "\n",
      "2 0.7643097643097643\n",
      "2               precision    recall  f1-score   support\n",
      "\n",
      "           0       0.75      0.78      0.77       147\n",
      "           1       0.77      0.75      0.76       150\n",
      "\n",
      "    accuracy                           0.76       297\n",
      "   macro avg       0.76      0.76      0.76       297\n",
      "weighted avg       0.76      0.76      0.76       297\n",
      "\n",
      "3 0.7609427609427609\n",
      "3               precision    recall  f1-score   support\n",
      "\n",
      "           0       0.70      0.89      0.79       147\n",
      "           1       0.86      0.63      0.73       150\n",
      "\n",
      "    accuracy                           0.76       297\n",
      "   macro avg       0.78      0.76      0.76       297\n",
      "weighted avg       0.78      0.76      0.76       297\n",
      "\n",
      "4 0.8114478114478114\n",
      "4               precision    recall  f1-score   support\n",
      "\n",
      "           0       0.78      0.87      0.82       147\n",
      "           1       0.86      0.75      0.80       150\n",
      "\n",
      "    accuracy                           0.81       297\n",
      "   macro avg       0.82      0.81      0.81       297\n",
      "weighted avg       0.82      0.81      0.81       297\n",
      "\n",
      "5 0.8148148148148148\n",
      "5               precision    recall  f1-score   support\n",
      "\n",
      "           0       0.78      0.87      0.82       147\n",
      "           1       0.86      0.76      0.81       150\n",
      "\n",
      "    accuracy                           0.81       297\n",
      "   macro avg       0.82      0.82      0.81       297\n",
      "weighted avg       0.82      0.81      0.81       297\n",
      "\n",
      "6 0.8114478114478114\n",
      "6               precision    recall  f1-score   support\n",
      "\n",
      "           0       0.78      0.86      0.82       147\n",
      "           1       0.85      0.77      0.80       150\n",
      "\n",
      "    accuracy                           0.81       297\n",
      "   macro avg       0.81      0.81      0.81       297\n",
      "weighted avg       0.81      0.81      0.81       297\n",
      "\n",
      "7 0.8080808080808081\n",
      "7               precision    recall  f1-score   support\n",
      "\n",
      "           0       0.78      0.86      0.82       147\n",
      "           1       0.84      0.76      0.80       150\n",
      "\n",
      "    accuracy                           0.81       297\n",
      "   macro avg       0.81      0.81      0.81       297\n",
      "weighted avg       0.81      0.81      0.81       297\n",
      "\n",
      "8 0.7744107744107744\n",
      "8               precision    recall  f1-score   support\n",
      "\n",
      "           0       0.75      0.81      0.78       147\n",
      "           1       0.80      0.74      0.77       150\n",
      "\n",
      "    accuracy                           0.77       297\n",
      "   macro avg       0.78      0.77      0.77       297\n",
      "weighted avg       0.78      0.77      0.77       297\n",
      "\n",
      "9 0.7777777777777778\n",
      "9               precision    recall  f1-score   support\n",
      "\n",
      "           0       0.75      0.82      0.79       147\n",
      "           1       0.81      0.73      0.77       150\n",
      "\n",
      "    accuracy                           0.78       297\n",
      "   macro avg       0.78      0.78      0.78       297\n",
      "weighted avg       0.78      0.78      0.78       297\n",
      "\n",
      "10 0.7643097643097643\n",
      "10               precision    recall  f1-score   support\n",
      "\n",
      "           0       0.75      0.79      0.77       147\n",
      "           1       0.78      0.74      0.76       150\n",
      "\n",
      "    accuracy                           0.76       297\n",
      "   macro avg       0.77      0.76      0.76       297\n",
      "weighted avg       0.77      0.76      0.76       297\n",
      "\n",
      "11 0.7441077441077442\n",
      "11               precision    recall  f1-score   support\n",
      "\n",
      "           0       0.72      0.80      0.75       147\n",
      "           1       0.78      0.69      0.73       150\n",
      "\n",
      "    accuracy                           0.74       297\n",
      "   macro avg       0.75      0.74      0.74       297\n",
      "weighted avg       0.75      0.74      0.74       297\n",
      "\n",
      "12 0.7575757575757576\n",
      "12               precision    recall  f1-score   support\n",
      "\n",
      "           0       0.73      0.81      0.77       147\n",
      "           1       0.79      0.71      0.75       150\n",
      "\n",
      "    accuracy                           0.76       297\n",
      "   macro avg       0.76      0.76      0.76       297\n",
      "weighted avg       0.76      0.76      0.76       297\n",
      "\n",
      "13 0.7508417508417509\n",
      "13               precision    recall  f1-score   support\n",
      "\n",
      "           0       0.72      0.81      0.76       147\n",
      "           1       0.79      0.69      0.74       150\n",
      "\n",
      "    accuracy                           0.75       297\n",
      "   macro avg       0.75      0.75      0.75       297\n",
      "weighted avg       0.75      0.75      0.75       297\n",
      "\n",
      "14 0.7508417508417509\n",
      "14               precision    recall  f1-score   support\n",
      "\n",
      "           0       0.72      0.81      0.76       147\n",
      "           1       0.79      0.69      0.74       150\n",
      "\n",
      "    accuracy                           0.75       297\n",
      "   macro avg       0.75      0.75      0.75       297\n",
      "weighted avg       0.75      0.75      0.75       297\n",
      "\n",
      "15 0.7441077441077442\n",
      "15               precision    recall  f1-score   support\n",
      "\n",
      "           0       0.72      0.80      0.75       147\n",
      "           1       0.78      0.69      0.73       150\n",
      "\n",
      "    accuracy                           0.74       297\n",
      "   macro avg       0.75      0.74      0.74       297\n",
      "weighted avg       0.75      0.74      0.74       297\n",
      "\n",
      "16 0.7441077441077442\n",
      "16               precision    recall  f1-score   support\n",
      "\n",
      "           0       0.72      0.80      0.75       147\n",
      "           1       0.78      0.69      0.73       150\n",
      "\n",
      "    accuracy                           0.74       297\n",
      "   macro avg       0.75      0.74      0.74       297\n",
      "weighted avg       0.75      0.74      0.74       297\n",
      "\n",
      "17 0.7441077441077442\n",
      "17               precision    recall  f1-score   support\n",
      "\n",
      "           0       0.72      0.80      0.75       147\n",
      "           1       0.78      0.69      0.73       150\n",
      "\n",
      "    accuracy                           0.74       297\n",
      "   macro avg       0.75      0.74      0.74       297\n",
      "weighted avg       0.75      0.74      0.74       297\n",
      "\n",
      "18 0.7441077441077442\n",
      "18               precision    recall  f1-score   support\n",
      "\n",
      "           0       0.72      0.80      0.75       147\n",
      "           1       0.78      0.69      0.73       150\n",
      "\n",
      "    accuracy                           0.74       297\n",
      "   macro avg       0.75      0.74      0.74       297\n",
      "weighted avg       0.75      0.74      0.74       297\n",
      "\n",
      "19 0.7441077441077442\n",
      "19               precision    recall  f1-score   support\n",
      "\n",
      "           0       0.72      0.80      0.75       147\n",
      "           1       0.78      0.69      0.73       150\n",
      "\n",
      "    accuracy                           0.74       297\n",
      "   macro avg       0.75      0.74      0.74       297\n",
      "weighted avg       0.75      0.74      0.74       297\n",
      "\n"
     ]
    }
   ],
   "source": [
    "for i in range(1,20):\n",
    "    dtc = DecisionTreeClassifier(max_depth = i, random_state = 8)\n",
    "    dtc.fit(X_train, y_train)\n",
    "    pred = dtc.predict(X_test)\n",
    "    print(i, accuracy_score(y_test, pred))\n",
    "    print(i, classification_report(y_test, pred))"
   ]
  },
  {
   "cell_type": "markdown",
   "id": "305c4f1b-d56d-471e-99c4-e33dd0cd3695",
   "metadata": {},
   "source": [
    "5가 젤 괜찮음\n",
    "0.8148148148148148"
   ]
  },
  {
   "cell_type": "code",
   "execution_count": null,
   "id": "1f4f81f9-6950-4457-a217-a5f3862ba6c2",
   "metadata": {},
   "outputs": [],
   "source": []
  },
  {
   "cell_type": "markdown",
   "id": "dfb1fd1b-9b40-4ff3-b0d6-de7d5ad42ce7",
   "metadata": {},
   "source": [
    "criterion : 분류 알고리즘 변경하면서 최적화"
   ]
  },
  {
   "cell_type": "code",
   "execution_count": 134,
   "id": "216d3c1e-5337-48b4-9865-df700cc9e57f",
   "metadata": {
    "scrolled": true
   },
   "outputs": [
    {
     "name": "stdout",
     "output_type": "stream",
     "text": [
      "1 0.7643097643097643\n",
      "1               precision    recall  f1-score   support\n",
      "\n",
      "           0       0.75      0.78      0.77       147\n",
      "           1       0.77      0.75      0.76       150\n",
      "\n",
      "    accuracy                           0.76       297\n",
      "   macro avg       0.76      0.76      0.76       297\n",
      "weighted avg       0.76      0.76      0.76       297\n",
      "\n",
      "2 0.7643097643097643\n",
      "2               precision    recall  f1-score   support\n",
      "\n",
      "           0       0.75      0.78      0.77       147\n",
      "           1       0.77      0.75      0.76       150\n",
      "\n",
      "    accuracy                           0.76       297\n",
      "   macro avg       0.76      0.76      0.76       297\n",
      "weighted avg       0.76      0.76      0.76       297\n",
      "\n",
      "3 0.7609427609427609\n",
      "3               precision    recall  f1-score   support\n",
      "\n",
      "           0       0.70      0.89      0.79       147\n",
      "           1       0.86      0.63      0.73       150\n",
      "\n",
      "    accuracy                           0.76       297\n",
      "   macro avg       0.78      0.76      0.76       297\n",
      "weighted avg       0.78      0.76      0.76       297\n",
      "\n",
      "4 0.797979797979798\n",
      "4               precision    recall  f1-score   support\n",
      "\n",
      "           0       0.77      0.84      0.81       147\n",
      "           1       0.83      0.75      0.79       150\n",
      "\n",
      "    accuracy                           0.80       297\n",
      "   macro avg       0.80      0.80      0.80       297\n",
      "weighted avg       0.80      0.80      0.80       297\n",
      "\n",
      "5 0.8148148148148148\n",
      "5               precision    recall  f1-score   support\n",
      "\n",
      "           0       0.78      0.87      0.82       147\n",
      "           1       0.86      0.76      0.81       150\n",
      "\n",
      "    accuracy                           0.81       297\n",
      "   macro avg       0.82      0.82      0.81       297\n",
      "weighted avg       0.82      0.81      0.81       297\n",
      "\n",
      "6 0.8114478114478114\n",
      "6               precision    recall  f1-score   support\n",
      "\n",
      "           0       0.78      0.86      0.82       147\n",
      "           1       0.85      0.76      0.80       150\n",
      "\n",
      "    accuracy                           0.81       297\n",
      "   macro avg       0.81      0.81      0.81       297\n",
      "weighted avg       0.82      0.81      0.81       297\n",
      "\n",
      "7 0.8047138047138047\n",
      "7               precision    recall  f1-score   support\n",
      "\n",
      "           0       0.77      0.86      0.81       147\n",
      "           1       0.84      0.75      0.80       150\n",
      "\n",
      "    accuracy                           0.80       297\n",
      "   macro avg       0.81      0.81      0.80       297\n",
      "weighted avg       0.81      0.80      0.80       297\n",
      "\n",
      "8 0.7878787878787878\n",
      "8               precision    recall  f1-score   support\n",
      "\n",
      "           0       0.75      0.86      0.80       147\n",
      "           1       0.84      0.71      0.77       150\n",
      "\n",
      "    accuracy                           0.79       297\n",
      "   macro avg       0.79      0.79      0.79       297\n",
      "weighted avg       0.80      0.79      0.79       297\n",
      "\n",
      "9 0.7912457912457912\n",
      "9               precision    recall  f1-score   support\n",
      "\n",
      "           0       0.77      0.83      0.80       147\n",
      "           1       0.82      0.75      0.78       150\n",
      "\n",
      "    accuracy                           0.79       297\n",
      "   macro avg       0.79      0.79      0.79       297\n",
      "weighted avg       0.79      0.79      0.79       297\n",
      "\n",
      "10 0.7508417508417509\n",
      "10               precision    recall  f1-score   support\n",
      "\n",
      "           0       0.73      0.79      0.76       147\n",
      "           1       0.78      0.71      0.74       150\n",
      "\n",
      "    accuracy                           0.75       297\n",
      "   macro avg       0.75      0.75      0.75       297\n",
      "weighted avg       0.75      0.75      0.75       297\n",
      "\n",
      "11 0.7575757575757576\n",
      "11               precision    recall  f1-score   support\n",
      "\n",
      "           0       0.73      0.80      0.77       147\n",
      "           1       0.79      0.71      0.75       150\n",
      "\n",
      "    accuracy                           0.76       297\n",
      "   macro avg       0.76      0.76      0.76       297\n",
      "weighted avg       0.76      0.76      0.76       297\n",
      "\n",
      "12 0.7575757575757576\n",
      "12               precision    recall  f1-score   support\n",
      "\n",
      "           0       0.74      0.80      0.76       147\n",
      "           1       0.78      0.72      0.75       150\n",
      "\n",
      "    accuracy                           0.76       297\n",
      "   macro avg       0.76      0.76      0.76       297\n",
      "weighted avg       0.76      0.76      0.76       297\n",
      "\n",
      "13 0.7542087542087542\n",
      "13               precision    recall  f1-score   support\n",
      "\n",
      "           0       0.73      0.80      0.76       147\n",
      "           1       0.79      0.71      0.74       150\n",
      "\n",
      "    accuracy                           0.75       297\n",
      "   macro avg       0.76      0.75      0.75       297\n",
      "weighted avg       0.76      0.75      0.75       297\n",
      "\n",
      "14 0.7542087542087542\n",
      "14               precision    recall  f1-score   support\n",
      "\n",
      "           0       0.73      0.80      0.76       147\n",
      "           1       0.79      0.71      0.74       150\n",
      "\n",
      "    accuracy                           0.75       297\n",
      "   macro avg       0.76      0.75      0.75       297\n",
      "weighted avg       0.76      0.75      0.75       297\n",
      "\n",
      "15 0.7575757575757576\n",
      "15               precision    recall  f1-score   support\n",
      "\n",
      "           0       0.73      0.81      0.77       147\n",
      "           1       0.79      0.71      0.75       150\n",
      "\n",
      "    accuracy                           0.76       297\n",
      "   macro avg       0.76      0.76      0.76       297\n",
      "weighted avg       0.76      0.76      0.76       297\n",
      "\n",
      "16 0.7575757575757576\n",
      "16               precision    recall  f1-score   support\n",
      "\n",
      "           0       0.73      0.81      0.77       147\n",
      "           1       0.79      0.71      0.75       150\n",
      "\n",
      "    accuracy                           0.76       297\n",
      "   macro avg       0.76      0.76      0.76       297\n",
      "weighted avg       0.76      0.76      0.76       297\n",
      "\n",
      "17 0.7575757575757576\n",
      "17               precision    recall  f1-score   support\n",
      "\n",
      "           0       0.73      0.81      0.77       147\n",
      "           1       0.79      0.71      0.75       150\n",
      "\n",
      "    accuracy                           0.76       297\n",
      "   macro avg       0.76      0.76      0.76       297\n",
      "weighted avg       0.76      0.76      0.76       297\n",
      "\n",
      "18 0.7575757575757576\n",
      "18               precision    recall  f1-score   support\n",
      "\n",
      "           0       0.73      0.81      0.77       147\n",
      "           1       0.79      0.71      0.75       150\n",
      "\n",
      "    accuracy                           0.76       297\n",
      "   macro avg       0.76      0.76      0.76       297\n",
      "weighted avg       0.76      0.76      0.76       297\n",
      "\n",
      "19 0.7575757575757576\n",
      "19               precision    recall  f1-score   support\n",
      "\n",
      "           0       0.73      0.81      0.77       147\n",
      "           1       0.79      0.71      0.75       150\n",
      "\n",
      "    accuracy                           0.76       297\n",
      "   macro avg       0.76      0.76      0.76       297\n",
      "weighted avg       0.76      0.76      0.76       297\n",
      "\n"
     ]
    }
   ],
   "source": [
    "for i in range(1,20):\n",
    "    dtc = DecisionTreeClassifier(criterion=\"entropy\" ,max_depth = i, random_state = 8)\n",
    "    dtc.fit(X_train, y_train)\n",
    "    pred = dtc.predict(X_test)\n",
    "    print(i, accuracy_score(y_test, pred))\n",
    "    print(i, classification_report(y_test, pred))"
   ]
  },
  {
   "cell_type": "code",
   "execution_count": 136,
   "id": "cdfccfbf-7891-4f80-adf6-ae0007d52d04",
   "metadata": {},
   "outputs": [
    {
     "name": "stdout",
     "output_type": "stream",
     "text": [
      "19 0.797979797979798\n",
      "19               precision    recall  f1-score   support\n",
      "\n",
      "           0       0.77      0.84      0.81       147\n",
      "           1       0.83      0.75      0.79       150\n",
      "\n",
      "    accuracy                           0.80       297\n",
      "   macro avg       0.80      0.80      0.80       297\n",
      "weighted avg       0.80      0.80      0.80       297\n",
      "\n"
     ]
    }
   ],
   "source": [
    "dtc = DecisionTreeClassifier(criterion=\"log_loss\" ,max_depth = 4, random_state = 8)\n",
    "dtc.fit(X_train, y_train)\n",
    "pred = dtc.predict(X_test)\n",
    "print(i, accuracy_score(y_test, pred))\n",
    "print(i, classification_report(y_test, pred))"
   ]
  },
  {
   "cell_type": "code",
   "execution_count": null,
   "id": "6dd3c1ae-6cee-48b6-ba2b-85b39185cda8",
   "metadata": {},
   "outputs": [],
   "source": []
  },
  {
   "cell_type": "code",
   "execution_count": null,
   "id": "c404dd37-c9e1-4012-992e-148ad5d3b9bf",
   "metadata": {},
   "outputs": [],
   "source": []
  },
  {
   "cell_type": "code",
   "execution_count": null,
   "id": "a090ad69-cff8-4662-9312-a9119bb70962",
   "metadata": {},
   "outputs": [],
   "source": []
  },
  {
   "cell_type": "code",
   "execution_count": null,
   "id": "20326395-59a4-46b0-9c73-444cd36bf09a",
   "metadata": {},
   "outputs": [],
   "source": []
  },
  {
   "cell_type": "code",
   "execution_count": null,
   "id": "f904164a-7899-49c0-8cf8-bc9055c2f89d",
   "metadata": {},
   "outputs": [],
   "source": []
  },
  {
   "cell_type": "code",
   "execution_count": null,
   "id": "bc04783b-6e36-4b28-8982-87cdd49ed237",
   "metadata": {},
   "outputs": [],
   "source": []
  },
  {
   "cell_type": "code",
   "execution_count": null,
   "id": "a6ca4ca4-4807-459c-be6a-bde842d138ee",
   "metadata": {},
   "outputs": [],
   "source": []
  },
  {
   "cell_type": "code",
   "execution_count": null,
   "id": "d6a341dd-ac37-4109-8f99-de9fd5f097ec",
   "metadata": {},
   "outputs": [],
   "source": []
  },
  {
   "cell_type": "code",
   "execution_count": null,
   "id": "151edf24-5110-4f9c-8115-0075b40cafc7",
   "metadata": {},
   "outputs": [],
   "source": []
  },
  {
   "cell_type": "code",
   "execution_count": null,
   "id": "dc640573-9926-4de3-bf68-ac421d7166e4",
   "metadata": {},
   "outputs": [],
   "source": []
  },
  {
   "cell_type": "code",
   "execution_count": null,
   "id": "c9d7a683-4529-4f6e-88d2-e9cd0baf0b6d",
   "metadata": {},
   "outputs": [],
   "source": []
  },
  {
   "cell_type": "code",
   "execution_count": null,
   "id": "2566bd1d-3f4a-42e7-bb54-9083b26c4dff",
   "metadata": {},
   "outputs": [],
   "source": []
  },
  {
   "cell_type": "code",
   "execution_count": null,
   "id": "12ca80f7-c780-40c3-b0ba-738a283f3f77",
   "metadata": {},
   "outputs": [],
   "source": []
  },
  {
   "cell_type": "code",
   "execution_count": null,
   "id": "122ced96-a893-4a9d-aef8-4e64b401c4ae",
   "metadata": {},
   "outputs": [],
   "source": []
  },
  {
   "cell_type": "code",
   "execution_count": null,
   "id": "b18d174f-534b-4e90-b34b-efafe53da979",
   "metadata": {},
   "outputs": [],
   "source": []
  },
  {
   "cell_type": "code",
   "execution_count": null,
   "id": "5eb2f3c3-1525-42aa-ae34-f495746923e3",
   "metadata": {},
   "outputs": [],
   "source": []
  },
  {
   "cell_type": "code",
   "execution_count": null,
   "id": "17ab45af-ebf5-4e10-ba04-d4eb3a307aaf",
   "metadata": {},
   "outputs": [],
   "source": []
  },
  {
   "cell_type": "code",
   "execution_count": null,
   "id": "b5238f57-4993-4a27-a7d8-b98e19b81655",
   "metadata": {},
   "outputs": [],
   "source": []
  },
  {
   "cell_type": "code",
   "execution_count": null,
   "id": "4b2a6914-2ec8-4c63-bf7f-af8edf656568",
   "metadata": {},
   "outputs": [],
   "source": []
  },
  {
   "cell_type": "code",
   "execution_count": null,
   "id": "1d9aa977-f01f-42c7-8715-35c1c082e7cf",
   "metadata": {},
   "outputs": [],
   "source": []
  },
  {
   "cell_type": "code",
   "execution_count": null,
   "id": "5b5e411b-7314-4257-a9a7-6312cf0ee1ba",
   "metadata": {},
   "outputs": [],
   "source": []
  },
  {
   "cell_type": "code",
   "execution_count": null,
   "id": "e5c402d3-8582-4930-bd4e-f853788346fd",
   "metadata": {},
   "outputs": [],
   "source": []
  },
  {
   "cell_type": "code",
   "execution_count": null,
   "id": "e216852b-004d-424d-b9c5-83c5f3e9e560",
   "metadata": {},
   "outputs": [],
   "source": []
  },
  {
   "cell_type": "code",
   "execution_count": null,
   "id": "ebe30e6f-70cc-46eb-b091-c1677556923c",
   "metadata": {},
   "outputs": [],
   "source": []
  },
  {
   "cell_type": "code",
   "execution_count": null,
   "id": "df7b76d4-416e-44da-a9d4-ef89935ac707",
   "metadata": {},
   "outputs": [],
   "source": []
  },
  {
   "cell_type": "code",
   "execution_count": null,
   "id": "2397a7da-cb3f-419f-bd08-405750642d64",
   "metadata": {},
   "outputs": [],
   "source": []
  },
  {
   "cell_type": "code",
   "execution_count": null,
   "id": "9ecd4687-b247-433b-ada7-c98dcc378840",
   "metadata": {},
   "outputs": [],
   "source": []
  },
  {
   "cell_type": "code",
   "execution_count": null,
   "id": "680c7988-c58b-4512-b33d-14fba369f6da",
   "metadata": {},
   "outputs": [],
   "source": []
  },
  {
   "cell_type": "code",
   "execution_count": null,
   "id": "15003b40-e436-44df-aa92-0338dc7bc58d",
   "metadata": {},
   "outputs": [],
   "source": []
  },
  {
   "cell_type": "code",
   "execution_count": null,
   "id": "85609a50-0e00-4610-98c0-4b9f04aa7c7e",
   "metadata": {},
   "outputs": [],
   "source": []
  },
  {
   "cell_type": "code",
   "execution_count": null,
   "id": "f01d20ac-c701-490d-ac67-be08b5a885f0",
   "metadata": {},
   "outputs": [],
   "source": []
  },
  {
   "cell_type": "code",
   "execution_count": null,
   "id": "39b288e9-cf61-4687-990e-9b51892feffb",
   "metadata": {},
   "outputs": [],
   "source": []
  },
  {
   "cell_type": "code",
   "execution_count": null,
   "id": "f49cac5e-d93c-48b1-8327-5a802a6eb2f3",
   "metadata": {},
   "outputs": [],
   "source": []
  },
  {
   "cell_type": "code",
   "execution_count": null,
   "id": "0042f9c4-a417-4296-a798-765e942cc01c",
   "metadata": {},
   "outputs": [],
   "source": []
  },
  {
   "cell_type": "code",
   "execution_count": null,
   "id": "42f543af-7b83-4712-9049-4f3e168d681c",
   "metadata": {},
   "outputs": [],
   "source": []
  },
  {
   "cell_type": "code",
   "execution_count": null,
   "id": "e7c3eb23-e444-421d-9a78-1c9ebe307097",
   "metadata": {},
   "outputs": [],
   "source": []
  },
  {
   "cell_type": "code",
   "execution_count": null,
   "id": "8fc6b472-9d9a-4f7b-9ee4-9525f2e923ce",
   "metadata": {},
   "outputs": [],
   "source": []
  },
  {
   "cell_type": "code",
   "execution_count": null,
   "id": "f49b1b07-5c2e-46c3-9a9f-e07bf2547f2f",
   "metadata": {},
   "outputs": [],
   "source": []
  }
 ],
 "metadata": {
  "kernelspec": {
   "display_name": "Python 3 (ipykernel)",
   "language": "python",
   "name": "python3"
  },
  "language_info": {
   "codemirror_mode": {
    "name": "ipython",
    "version": 3
   },
   "file_extension": ".py",
   "mimetype": "text/x-python",
   "name": "python",
   "nbconvert_exporter": "python",
   "pygments_lexer": "ipython3",
   "version": "3.10.14"
  }
 },
 "nbformat": 4,
 "nbformat_minor": 5
}
