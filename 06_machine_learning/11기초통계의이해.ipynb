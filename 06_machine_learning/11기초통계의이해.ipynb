{
 "cells": [
  {
   "cell_type": "code",
   "execution_count": 1,
   "id": "30215a64-0a90-40cc-9853-9dc2044900c1",
   "metadata": {},
   "outputs": [],
   "source": [
    "import pandas as pd\n",
    "import numpy as np\n",
    "import matplotlib.pyplot as plt\n",
    "import seaborn as sns\n",
    "import math"
   ]
  },
  {
   "cell_type": "markdown",
   "id": "18a49704-6b63-407a-b69b-2d18b85424e4",
   "metadata": {},
   "source": [
    "# 기초 통계 개념정리"
   ]
  },
  {
   "cell_type": "markdown",
   "id": "6ddbb3d4-1b75-4042-96e7-fde5f8168418",
   "metadata": {},
   "source": [
    "## 1) 대푯값 : 데이터의 중심을 나타내는 값\n",
    "* 평균(mean)\n",
    "* 중앙값(median)\n",
    "* 최빈값(mode)"
   ]
  },
  {
   "cell_type": "markdown",
   "id": "932bd628-9de2-4fae-bf2d-eeea442c8b37",
   "metadata": {},
   "source": [
    "### \\(1) 평균(mean) $\\mu$\n",
    "* 모든 값의 총합을 값의 개수로 나눈 값\n",
    "* 극단적인 값(이상값/아웃라이어)이 있는 경우 평균에 영향을 미친다.\n",
    "* 모집단의 평균 $\\mu$\n",
    "* 표본집단의 평균 $\\bar{x}$\n",
    "<br>\n",
    "$$ 모평균 : \\mu = {\\sum_{i=1}^N x_i \\over n} $$"
   ]
  },
  {
   "cell_type": "code",
   "execution_count": 2,
   "id": "1a15c11e-ec16-4292-b004-8c4afe9d1342",
   "metadata": {},
   "outputs": [],
   "source": [
    "a = pd.DataFrame([2,3,3,4,4,5,6,7,7,7,8],columns=['표본'])"
   ]
  },
  {
   "cell_type": "code",
   "execution_count": 3,
   "id": "e8ab13ff-45fd-4b74-8866-6743799c0e3a",
   "metadata": {},
   "outputs": [
    {
     "data": {
      "text/plain": [
       "표본    5.0\n",
       "dtype: float64"
      ]
     },
     "execution_count": 3,
     "metadata": {},
     "output_type": "execute_result"
    }
   ],
   "source": [
    "# 평균\n",
    "a = pd.DataFrame([2,3,3,4,4,5,7,7,7,8], columns=['표본'])\n",
    "a.mean()"
   ]
  },
  {
   "cell_type": "code",
   "execution_count": null,
   "id": "fb9e880e-3b88-4b49-9dfd-066dfc3565ee",
   "metadata": {},
   "outputs": [],
   "source": []
  },
  {
   "cell_type": "markdown",
   "id": "843d1cc6-034e-4b5c-b37b-c64c41b5335a",
   "metadata": {},
   "source": [
    "### (2) 중앙값(median)\n",
    "* 모든 데이터를 큰 순서대로 내열할 떄 가운데 있는 값\n",
    "* 데이터의 개수가 홀 수 일때는 정중앙의 값\n",
    "* 데이터가 개수가 짤수일 때는 정중앙 2개 수의 평균값\n",
    "* 이상치가 있어도 영향을 받지 않는다"
   ]
  },
  {
   "cell_type": "code",
   "execution_count": 4,
   "id": "12a6b875-bd79-409b-af81-717a0b7209ae",
   "metadata": {},
   "outputs": [
    {
     "data": {
      "text/html": [
       "<div>\n",
       "<style scoped>\n",
       "    .dataframe tbody tr th:only-of-type {\n",
       "        vertical-align: middle;\n",
       "    }\n",
       "\n",
       "    .dataframe tbody tr th {\n",
       "        vertical-align: top;\n",
       "    }\n",
       "\n",
       "    .dataframe thead th {\n",
       "        text-align: right;\n",
       "    }\n",
       "</style>\n",
       "<table border=\"1\" class=\"dataframe\">\n",
       "  <thead>\n",
       "    <tr style=\"text-align: right;\">\n",
       "      <th></th>\n",
       "      <th>0</th>\n",
       "      <th>1</th>\n",
       "      <th>2</th>\n",
       "      <th>3</th>\n",
       "      <th>4</th>\n",
       "      <th>5</th>\n",
       "      <th>6</th>\n",
       "      <th>7</th>\n",
       "      <th>8</th>\n",
       "      <th>9</th>\n",
       "    </tr>\n",
       "  </thead>\n",
       "  <tbody>\n",
       "    <tr>\n",
       "      <th>표본</th>\n",
       "      <td>2</td>\n",
       "      <td>3</td>\n",
       "      <td>3</td>\n",
       "      <td>4</td>\n",
       "      <td>4</td>\n",
       "      <td>5</td>\n",
       "      <td>7</td>\n",
       "      <td>7</td>\n",
       "      <td>7</td>\n",
       "      <td>8</td>\n",
       "    </tr>\n",
       "  </tbody>\n",
       "</table>\n",
       "</div>"
      ],
      "text/plain": [
       "    0  1  2  3  4  5  6  7  8  9\n",
       "표본  2  3  3  4  4  5  7  7  7  8"
      ]
     },
     "execution_count": 4,
     "metadata": {},
     "output_type": "execute_result"
    }
   ],
   "source": [
    "a.T"
   ]
  },
  {
   "cell_type": "code",
   "execution_count": 5,
   "id": "26995145-6820-4cbf-9ac0-784c08e785fc",
   "metadata": {},
   "outputs": [
    {
     "data": {
      "text/html": [
       "<div>\n",
       "<style scoped>\n",
       "    .dataframe tbody tr th:only-of-type {\n",
       "        vertical-align: middle;\n",
       "    }\n",
       "\n",
       "    .dataframe tbody tr th {\n",
       "        vertical-align: top;\n",
       "    }\n",
       "\n",
       "    .dataframe thead th {\n",
       "        text-align: right;\n",
       "    }\n",
       "</style>\n",
       "<table border=\"1\" class=\"dataframe\">\n",
       "  <thead>\n",
       "    <tr style=\"text-align: right;\">\n",
       "      <th></th>\n",
       "      <th>0</th>\n",
       "      <th>1</th>\n",
       "      <th>2</th>\n",
       "      <th>3</th>\n",
       "      <th>4</th>\n",
       "      <th>5</th>\n",
       "      <th>6</th>\n",
       "      <th>7</th>\n",
       "      <th>8</th>\n",
       "    </tr>\n",
       "  </thead>\n",
       "  <tbody>\n",
       "    <tr>\n",
       "      <th>표본</th>\n",
       "      <td>3</td>\n",
       "      <td>3</td>\n",
       "      <td>4</td>\n",
       "      <td>4</td>\n",
       "      <td>5</td>\n",
       "      <td>7</td>\n",
       "      <td>7</td>\n",
       "      <td>7</td>\n",
       "      <td>8</td>\n",
       "    </tr>\n",
       "  </tbody>\n",
       "</table>\n",
       "</div>"
      ],
      "text/plain": [
       "    0  1  2  3  4  5  6  7  8\n",
       "표본  3  3  4  4  5  7  7  7  8"
      ]
     },
     "execution_count": 5,
     "metadata": {},
     "output_type": "execute_result"
    }
   ],
   "source": [
    "b = pd.DataFrame([3,3,4,4,5,7,7,7,8], columns=['표본'])\n",
    "b.T"
   ]
  },
  {
   "cell_type": "markdown",
   "id": "0903dff8-2542-48a2-802d-4b6c33ced8b8",
   "metadata": {},
   "source": [
    "### (3) 최빈값(mode)\n",
    "* 표본에서 가장 많이 등장하는 값\n",
    "* 최빈값도 극단값에 영향을 받지 않음"
   ]
  },
  {
   "cell_type": "code",
   "execution_count": 6,
   "id": "9bc2ce04-c2db-45a7-b0f9-b9212a0a067f",
   "metadata": {},
   "outputs": [
    {
     "data": {
      "text/html": [
       "<div>\n",
       "<style scoped>\n",
       "    .dataframe tbody tr th:only-of-type {\n",
       "        vertical-align: middle;\n",
       "    }\n",
       "\n",
       "    .dataframe tbody tr th {\n",
       "        vertical-align: top;\n",
       "    }\n",
       "\n",
       "    .dataframe thead th {\n",
       "        text-align: right;\n",
       "    }\n",
       "</style>\n",
       "<table border=\"1\" class=\"dataframe\">\n",
       "  <thead>\n",
       "    <tr style=\"text-align: right;\">\n",
       "      <th></th>\n",
       "      <th>표본</th>\n",
       "    </tr>\n",
       "  </thead>\n",
       "  <tbody>\n",
       "    <tr>\n",
       "      <th>0</th>\n",
       "      <td>7</td>\n",
       "    </tr>\n",
       "  </tbody>\n",
       "</table>\n",
       "</div>"
      ],
      "text/plain": [
       "   표본\n",
       "0   7"
      ]
     },
     "execution_count": 6,
     "metadata": {},
     "output_type": "execute_result"
    }
   ],
   "source": [
    "a.mode()"
   ]
  },
  {
   "cell_type": "markdown",
   "id": "6cd9b921-4461-4a68-a038-dac86583ddbb",
   "metadata": {},
   "source": [
    "### (4) 산술평균/가하평균\n",
    "* 산술평균(덧셈의 평균) : 모든 데이터의 합계 / 데이터 수\n",
    "* 기하평균(곱셈의 평균) : 모든 데이터의 곱의 n 제곱근 - 증가율의 평균을 계산할 때 사용"
   ]
  },
  {
   "cell_type": "code",
   "execution_count": 7,
   "id": "4feaea27-124c-43c5-a48e-d0a9d51492f3",
   "metadata": {},
   "outputs": [
    {
     "data": {
      "text/html": [
       "<div>\n",
       "<style scoped>\n",
       "    .dataframe tbody tr th:only-of-type {\n",
       "        vertical-align: middle;\n",
       "    }\n",
       "\n",
       "    .dataframe tbody tr th {\n",
       "        vertical-align: top;\n",
       "    }\n",
       "\n",
       "    .dataframe thead th {\n",
       "        text-align: right;\n",
       "    }\n",
       "</style>\n",
       "<table border=\"1\" class=\"dataframe\">\n",
       "  <thead>\n",
       "    <tr style=\"text-align: right;\">\n",
       "      <th></th>\n",
       "      <th>0</th>\n",
       "      <th>1</th>\n",
       "      <th>2</th>\n",
       "      <th>3</th>\n",
       "      <th>4</th>\n",
       "      <th>5</th>\n",
       "      <th>6</th>\n",
       "      <th>7</th>\n",
       "      <th>8</th>\n",
       "      <th>9</th>\n",
       "    </tr>\n",
       "  </thead>\n",
       "  <tbody>\n",
       "    <tr>\n",
       "      <th>표본</th>\n",
       "      <td>2</td>\n",
       "      <td>3</td>\n",
       "      <td>3</td>\n",
       "      <td>4</td>\n",
       "      <td>4</td>\n",
       "      <td>5</td>\n",
       "      <td>7</td>\n",
       "      <td>7</td>\n",
       "      <td>7</td>\n",
       "      <td>8</td>\n",
       "    </tr>\n",
       "  </tbody>\n",
       "</table>\n",
       "</div>"
      ],
      "text/plain": [
       "    0  1  2  3  4  5  6  7  8  9\n",
       "표본  2  3  3  4  4  5  7  7  7  8"
      ]
     },
     "execution_count": 7,
     "metadata": {},
     "output_type": "execute_result"
    }
   ],
   "source": [
    "a.T"
   ]
  },
  {
   "cell_type": "code",
   "execution_count": 8,
   "id": "748a7862-5adf-4020-af93-4e381e1d7aa8",
   "metadata": {},
   "outputs": [
    {
     "name": "stdout",
     "output_type": "stream",
     "text": [
      "표본    5.0\n",
      "dtype: float64\n",
      "a의 산술평균: 5.0\n"
     ]
    }
   ],
   "source": [
    "# 산술평균\n",
    "# (2+3+3+4+4+7+7+7+8) / 10\n",
    "print(a.mean())\n",
    "print('a의 산술평균:', (2+3+3+4+4+5+7+7+7+8)/10)"
   ]
  },
  {
   "cell_type": "code",
   "execution_count": 9,
   "id": "04753832-80c2-4289-8867-b0c23ef6d4f5",
   "metadata": {},
   "outputs": [
    {
     "data": {
      "text/plain": [
       "3.7598009728044874"
      ]
     },
     "execution_count": 9,
     "metadata": {},
     "output_type": "execute_result"
    }
   ],
   "source": [
    "# 기하평균\n",
    "math.pow((2*3*3*4*4*5*7*7*8), 1/10)"
   ]
  },
  {
   "cell_type": "code",
   "execution_count": 10,
   "id": "01d4c205-fb33-4adc-98f3-4d230283c409",
   "metadata": {},
   "outputs": [
    {
     "name": "stdout",
     "output_type": "stream",
     "text": [
      "기하평균: 4.567459024554637\n"
     ]
    }
   ],
   "source": [
    "from scipy.stats import gmean\n",
    "geometric_mean = gmean(a['표본'])\n",
    "print('기하평균:', geometric_mean)"
   ]
  },
  {
   "cell_type": "markdown",
   "id": "fa0f6c53-a638-4d5a-bc4c-8f5e70228e41",
   "metadata": {},
   "source": [
    "2020년 7%, 2021년에 35%, 2022년에 40%, 2023년에 69%의 매출 증가가 있었다면, 4년간 평균 매출 증가율은?"
   ]
  },
  {
   "cell_type": "code",
   "execution_count": 11,
   "id": "a3587d20-5493-41f2-95b9-fe08cf879af7",
   "metadata": {},
   "outputs": [
    {
     "name": "stdout",
     "output_type": "stream",
     "text": [
      "산술평균: 37.75\n",
      "기하평균: 28.67601451933219\n"
     ]
    }
   ],
   "source": [
    "print('산술평균:', pd.Series([7,35, 40, 69]).mean())\n",
    "print('기하평균:', gmean([7, 35, 40, 69]))"
   ]
  },
  {
   "cell_type": "markdown",
   "id": "31c5d918-3929-428d-8973-3aaaa35cc4a9",
   "metadata": {},
   "source": [
    "## 2) 도수 분포표와 히스토그램\n",
    "### (1) 도수분포표\n",
    "* 주어진 데이터를 일정한 범위로 나누고 그 범위에 출현하는 데이터 개수를 조사해 나타낸 표\n",
    "* 데이터 구간 촉을 '계급'(class), 각 계급에 속하는 데이터 개수를 '도수'라고 한다\n",
    "* 각 계급의 중앙값을 '계급값'이라 한다.\n",
    "* 도수분포표에서 도수가 큰 것을 '출현 횟수가 많다'고 하고\n",
    "* 가장 도수가 큰 계급의 계급값을 '최빈값'이라고 한다."
   ]
  },
  {
   "cell_type": "code",
   "execution_count": 12,
   "id": "04762c45-68b3-4ebb-b8ed-fc199bf5a7cb",
   "metadata": {},
   "outputs": [],
   "source": [
    "# 타이타닉 데이터 로딩\n",
    "data = pd.read_csv(\"https://raw.githubusercontent.com/haram4th/ablearn/main/Taitanic_train.csv\")"
   ]
  },
  {
   "cell_type": "code",
   "execution_count": 13,
   "id": "a0a4676d-705e-4649-a7eb-828291faffc0",
   "metadata": {},
   "outputs": [
    {
     "data": {
      "text/html": [
       "<div>\n",
       "<style scoped>\n",
       "    .dataframe tbody tr th:only-of-type {\n",
       "        vertical-align: middle;\n",
       "    }\n",
       "\n",
       "    .dataframe tbody tr th {\n",
       "        vertical-align: top;\n",
       "    }\n",
       "\n",
       "    .dataframe thead th {\n",
       "        text-align: right;\n",
       "    }\n",
       "</style>\n",
       "<table border=\"1\" class=\"dataframe\">\n",
       "  <thead>\n",
       "    <tr style=\"text-align: right;\">\n",
       "      <th></th>\n",
       "      <th>Age</th>\n",
       "    </tr>\n",
       "  </thead>\n",
       "  <tbody>\n",
       "    <tr>\n",
       "      <th>0</th>\n",
       "      <td>22.0</td>\n",
       "    </tr>\n",
       "    <tr>\n",
       "      <th>1</th>\n",
       "      <td>38.0</td>\n",
       "    </tr>\n",
       "    <tr>\n",
       "      <th>2</th>\n",
       "      <td>26.0</td>\n",
       "    </tr>\n",
       "    <tr>\n",
       "      <th>3</th>\n",
       "      <td>35.0</td>\n",
       "    </tr>\n",
       "    <tr>\n",
       "      <th>4</th>\n",
       "      <td>35.0</td>\n",
       "    </tr>\n",
       "    <tr>\n",
       "      <th>...</th>\n",
       "      <td>...</td>\n",
       "    </tr>\n",
       "    <tr>\n",
       "      <th>886</th>\n",
       "      <td>27.0</td>\n",
       "    </tr>\n",
       "    <tr>\n",
       "      <th>887</th>\n",
       "      <td>19.0</td>\n",
       "    </tr>\n",
       "    <tr>\n",
       "      <th>888</th>\n",
       "      <td>NaN</td>\n",
       "    </tr>\n",
       "    <tr>\n",
       "      <th>889</th>\n",
       "      <td>26.0</td>\n",
       "    </tr>\n",
       "    <tr>\n",
       "      <th>890</th>\n",
       "      <td>32.0</td>\n",
       "    </tr>\n",
       "  </tbody>\n",
       "</table>\n",
       "<p>891 rows × 1 columns</p>\n",
       "</div>"
      ],
      "text/plain": [
       "      Age\n",
       "0    22.0\n",
       "1    38.0\n",
       "2    26.0\n",
       "3    35.0\n",
       "4    35.0\n",
       "..    ...\n",
       "886  27.0\n",
       "887  19.0\n",
       "888   NaN\n",
       "889  26.0\n",
       "890  32.0\n",
       "\n",
       "[891 rows x 1 columns]"
      ]
     },
     "execution_count": 13,
     "metadata": {},
     "output_type": "execute_result"
    }
   ],
   "source": [
    "# 나이 컬럼만 가져오기\n",
    "ages = data[['Age']]\n",
    "ages"
   ]
  },
  {
   "cell_type": "code",
   "execution_count": 14,
   "id": "b9832498-dfd8-4411-8ec8-29e9f7583d2b",
   "metadata": {},
   "outputs": [
    {
     "data": {
      "text/plain": [
       "<Axes: >"
      ]
     },
     "execution_count": 14,
     "metadata": {},
     "output_type": "execute_result"
    },
    {
     "data": {
      "image/png": "[encoded data removed]",
      "text/plain": [
       "<Figure size 640x480 with 1 Axes>"
      ]
     },
     "metadata": {},
     "output_type": "display_data"
    }
   ],
   "source": [
    "# 계급 구간을 10단위로 계급을 나누어 도수분포표 만들고\n",
    "# 도수분포표를 시각화한 히스토그램 그려보기\n",
    "bins = (0, 10, 20, 30, 40, 50, 60, 70, 80, 90)\n",
    "labels = ('under10s', '10s', '20s', '30s', '40s', '50s', '60s', '70s', '80s')\n",
    "fdt = pd.cut(ages['Age'].values, bins=bins, labels=labels, right=False)\n",
    "fdt.value_counts() #age 칼럼의 도수분포표\n",
    "fdt.value_counts().plot(kind = 'bar')"
   ]
  },
  {
   "cell_type": "code",
   "execution_count": 15,
   "id": "def35e38-3b2e-4270-87d1-8e474f6b0344",
   "metadata": {},
   "outputs": [
    {
     "data": {
      "text/plain": [
       "<Axes: xlabel='Age', ylabel='Count'>"
      ]
     },
     "execution_count": 15,
     "metadata": {},
     "output_type": "execute_result"
    },
    {
     "data": {
      "image/png": "[encoded data removed]",
      "text/plain": [
       "<Figure size 640x480 with 1 Axes>"
      ]
     },
     "metadata": {},
     "output_type": "display_data"
    }
   ],
   "source": [
    "sns.histplot(ages['Age'])"
   ]
  },
  {
   "cell_type": "code",
   "execution_count": null,
   "id": "ea7a2ebe-ba27-4dbf-872a-36bbc1c351dd",
   "metadata": {},
   "outputs": [],
   "source": []
  },
  {
   "cell_type": "markdown",
   "id": "1824360f-b2d5-4106-9189-d606f0570cdd",
   "metadata": {},
   "source": [
    "### (2) 상대도수분포표(Relative Freqeuncy Distribution Table)\n",
    "* 상대도수: 계급의 도수 / 전체 도수의 합계, 어떤 계급의 도수가 전체 도수에서 몇 %를 차지하는지 나타내는 값\n",
    "* 상대도수분포표: 모든 계금의 상대도수를 구해서 더한 것"
   ]
  },
  {
   "cell_type": "code",
   "execution_count": 16,
   "id": "ab94edd7-9e9b-4ed8-b2a4-6c199b227d9f",
   "metadata": {},
   "outputs": [],
   "source": [
    "fdt_df = pd.DataFrame(fdt.value_counts())"
   ]
  },
  {
   "cell_type": "code",
   "execution_count": 17,
   "id": "e1ef1f50-279c-4fb0-97a8-b9da55ffef69",
   "metadata": {},
   "outputs": [
    {
     "data": {
      "text/html": [
       "<div>\n",
       "<style scoped>\n",
       "    .dataframe tbody tr th:only-of-type {\n",
       "        vertical-align: middle;\n",
       "    }\n",
       "\n",
       "    .dataframe tbody tr th {\n",
       "        vertical-align: top;\n",
       "    }\n",
       "\n",
       "    .dataframe thead th {\n",
       "        text-align: right;\n",
       "    }\n",
       "</style>\n",
       "<table border=\"1\" class=\"dataframe\">\n",
       "  <thead>\n",
       "    <tr style=\"text-align: right;\">\n",
       "      <th></th>\n",
       "      <th>count</th>\n",
       "    </tr>\n",
       "  </thead>\n",
       "  <tbody>\n",
       "    <tr>\n",
       "      <th>under10s</th>\n",
       "      <td>62</td>\n",
       "    </tr>\n",
       "    <tr>\n",
       "      <th>10s</th>\n",
       "      <td>102</td>\n",
       "    </tr>\n",
       "    <tr>\n",
       "      <th>20s</th>\n",
       "      <td>220</td>\n",
       "    </tr>\n",
       "    <tr>\n",
       "      <th>30s</th>\n",
       "      <td>167</td>\n",
       "    </tr>\n",
       "    <tr>\n",
       "      <th>40s</th>\n",
       "      <td>89</td>\n",
       "    </tr>\n",
       "    <tr>\n",
       "      <th>50s</th>\n",
       "      <td>48</td>\n",
       "    </tr>\n",
       "    <tr>\n",
       "      <th>60s</th>\n",
       "      <td>19</td>\n",
       "    </tr>\n",
       "    <tr>\n",
       "      <th>70s</th>\n",
       "      <td>6</td>\n",
       "    </tr>\n",
       "    <tr>\n",
       "      <th>80s</th>\n",
       "      <td>1</td>\n",
       "    </tr>\n",
       "  </tbody>\n",
       "</table>\n",
       "</div>"
      ],
      "text/plain": [
       "          count\n",
       "under10s     62\n",
       "10s         102\n",
       "20s         220\n",
       "30s         167\n",
       "40s          89\n",
       "50s          48\n",
       "60s          19\n",
       "70s           6\n",
       "80s           1"
      ]
     },
     "execution_count": 17,
     "metadata": {},
     "output_type": "execute_result"
    }
   ],
   "source": [
    "fdt_df"
   ]
  },
  {
   "cell_type": "code",
   "execution_count": 18,
   "id": "98a8be9b-68a3-47eb-8eda-5798438a5bd9",
   "metadata": {},
   "outputs": [],
   "source": [
    "# 상대도수분포표 만들기\n",
    "# 상대도수: 계급의 도수/전체 도수의 합계\n",
    "fdt_df['rfdt']= round(fdt_df['count']/fdt_df['count'].sum(),3)*100"
   ]
  },
  {
   "cell_type": "code",
   "execution_count": 19,
   "id": "5b86a16e-1285-4617-8469-3161ea98df7d",
   "metadata": {},
   "outputs": [
    {
     "data": {
      "text/plain": [
       "<Axes: xlabel='Age', ylabel='Probability'>"
      ]
     },
     "execution_count": 19,
     "metadata": {},
     "output_type": "execute_result"
    },
    {
     "data": {
      "image/png": "[encoded data removed]",
      "text/plain": [
       "<Figure size 640x480 with 1 Axes>"
      ]
     },
     "metadata": {},
     "output_type": "display_data"
    }
   ],
   "source": [
    "sns.histplot(ages['Age'], bins=bins, stat='probability', )"
   ]
  },
  {
   "cell_type": "markdown",
   "id": "8884bf16-e3f9-4107-ba50-57694c75247e",
   "metadata": {},
   "source": [
    "### 구간화가 필요한 데이터에서 계급의 개수를 몇개로 해야할 지?\n",
    "* 스터지스 공식 : 도수분포표나 히스토그램을 만들 떄 계급의 수가 적당한지 판단하는 기준이 되는 공식\n",
    "* 전체 데이터 개수를 $2^n$이라 하고, 그때 계급 수를 $n+1$ 한다."
   ]
  },
  {
   "cell_type": "code",
   "execution_count": 20,
   "id": "f866d0ac-3c43-41fa-a597-ecadd9eb436c",
   "metadata": {},
   "outputs": [
    {
     "data": {
      "text/plain": [
       "891"
      ]
     },
     "execution_count": 20,
     "metadata": {},
     "output_type": "execute_result"
    }
   ],
   "source": [
    "len(ages['Age'])"
   ]
  },
  {
   "cell_type": "code",
   "execution_count": 21,
   "id": "cd58a600-dbf8-4925-ac49-81575e14a855",
   "metadata": {},
   "outputs": [
    {
     "name": "stdout",
     "output_type": "stream",
     "text": [
      "11\n"
     ]
    }
   ],
   "source": [
    "# 891은 2의 몇 승? = n, n+1\n",
    "n = math.log(891,2)\n",
    "print(round(n+1))"
   ]
  },
  {
   "cell_type": "markdown",
   "id": "b2335556-e08b-4b3b-850a-5d43b7c6daaa",
   "metadata": {},
   "source": [
    "## 3) 편차(deviation)\n",
    "* 데이터와 평균이 떨어진 거리, 데이터와 평균 값과의 차이\n",
    "* 데이터 - 평균값"
   ]
  },
  {
   "cell_type": "code",
   "execution_count": 22,
   "id": "39184267-a8de-4882-a9a5-966d228f96d6",
   "metadata": {},
   "outputs": [
    {
     "data": {
      "text/html": [
       "<div>\n",
       "<style scoped>\n",
       "    .dataframe tbody tr th:only-of-type {\n",
       "        vertical-align: middle;\n",
       "    }\n",
       "\n",
       "    .dataframe tbody tr th {\n",
       "        vertical-align: top;\n",
       "    }\n",
       "\n",
       "    .dataframe thead th {\n",
       "        text-align: right;\n",
       "    }\n",
       "</style>\n",
       "<table border=\"1\" class=\"dataframe\">\n",
       "  <thead>\n",
       "    <tr style=\"text-align: right;\">\n",
       "      <th></th>\n",
       "      <th>표본</th>\n",
       "    </tr>\n",
       "  </thead>\n",
       "  <tbody>\n",
       "    <tr>\n",
       "      <th>0</th>\n",
       "      <td>2</td>\n",
       "    </tr>\n",
       "    <tr>\n",
       "      <th>1</th>\n",
       "      <td>3</td>\n",
       "    </tr>\n",
       "    <tr>\n",
       "      <th>2</th>\n",
       "      <td>3</td>\n",
       "    </tr>\n",
       "    <tr>\n",
       "      <th>3</th>\n",
       "      <td>4</td>\n",
       "    </tr>\n",
       "    <tr>\n",
       "      <th>4</th>\n",
       "      <td>4</td>\n",
       "    </tr>\n",
       "    <tr>\n",
       "      <th>5</th>\n",
       "      <td>5</td>\n",
       "    </tr>\n",
       "    <tr>\n",
       "      <th>6</th>\n",
       "      <td>7</td>\n",
       "    </tr>\n",
       "    <tr>\n",
       "      <th>7</th>\n",
       "      <td>7</td>\n",
       "    </tr>\n",
       "    <tr>\n",
       "      <th>8</th>\n",
       "      <td>7</td>\n",
       "    </tr>\n",
       "    <tr>\n",
       "      <th>9</th>\n",
       "      <td>8</td>\n",
       "    </tr>\n",
       "  </tbody>\n",
       "</table>\n",
       "</div>"
      ],
      "text/plain": [
       "   표본\n",
       "0   2\n",
       "1   3\n",
       "2   3\n",
       "3   4\n",
       "4   4\n",
       "5   5\n",
       "6   7\n",
       "7   7\n",
       "8   7\n",
       "9   8"
      ]
     },
     "execution_count": 22,
     "metadata": {},
     "output_type": "execute_result"
    }
   ],
   "source": [
    "a"
   ]
  },
  {
   "cell_type": "code",
   "execution_count": 23,
   "id": "a2e3772c-9293-4a8c-8d6f-ef0d99cb4989",
   "metadata": {},
   "outputs": [
    {
     "data": {
      "text/html": [
       "<div>\n",
       "<style scoped>\n",
       "    .dataframe tbody tr th:only-of-type {\n",
       "        vertical-align: middle;\n",
       "    }\n",
       "\n",
       "    .dataframe tbody tr th {\n",
       "        vertical-align: top;\n",
       "    }\n",
       "\n",
       "    .dataframe thead th {\n",
       "        text-align: right;\n",
       "    }\n",
       "</style>\n",
       "<table border=\"1\" class=\"dataframe\">\n",
       "  <thead>\n",
       "    <tr style=\"text-align: right;\">\n",
       "      <th></th>\n",
       "      <th>표본</th>\n",
       "      <th>평균</th>\n",
       "    </tr>\n",
       "  </thead>\n",
       "  <tbody>\n",
       "    <tr>\n",
       "      <th>0</th>\n",
       "      <td>2</td>\n",
       "      <td>5.0</td>\n",
       "    </tr>\n",
       "    <tr>\n",
       "      <th>1</th>\n",
       "      <td>3</td>\n",
       "      <td>5.0</td>\n",
       "    </tr>\n",
       "    <tr>\n",
       "      <th>2</th>\n",
       "      <td>3</td>\n",
       "      <td>5.0</td>\n",
       "    </tr>\n",
       "    <tr>\n",
       "      <th>3</th>\n",
       "      <td>4</td>\n",
       "      <td>5.0</td>\n",
       "    </tr>\n",
       "    <tr>\n",
       "      <th>4</th>\n",
       "      <td>4</td>\n",
       "      <td>5.0</td>\n",
       "    </tr>\n",
       "    <tr>\n",
       "      <th>5</th>\n",
       "      <td>5</td>\n",
       "      <td>5.0</td>\n",
       "    </tr>\n",
       "    <tr>\n",
       "      <th>6</th>\n",
       "      <td>7</td>\n",
       "      <td>5.0</td>\n",
       "    </tr>\n",
       "    <tr>\n",
       "      <th>7</th>\n",
       "      <td>7</td>\n",
       "      <td>5.0</td>\n",
       "    </tr>\n",
       "    <tr>\n",
       "      <th>8</th>\n",
       "      <td>7</td>\n",
       "      <td>5.0</td>\n",
       "    </tr>\n",
       "    <tr>\n",
       "      <th>9</th>\n",
       "      <td>8</td>\n",
       "      <td>5.0</td>\n",
       "    </tr>\n",
       "  </tbody>\n",
       "</table>\n",
       "</div>"
      ],
      "text/plain": [
       "   표본   평균\n",
       "0   2  5.0\n",
       "1   3  5.0\n",
       "2   3  5.0\n",
       "3   4  5.0\n",
       "4   4  5.0\n",
       "5   5  5.0\n",
       "6   7  5.0\n",
       "7   7  5.0\n",
       "8   7  5.0\n",
       "9   8  5.0"
      ]
     },
     "execution_count": 23,
     "metadata": {},
     "output_type": "execute_result"
    }
   ],
   "source": [
    "a['평균'] = a['표본'].mean()\n",
    "a"
   ]
  },
  {
   "cell_type": "code",
   "execution_count": 24,
   "id": "dc683831-644a-46cc-b6a6-ae80dc988318",
   "metadata": {},
   "outputs": [
    {
     "data": {
      "text/html": [
       "<div>\n",
       "<style scoped>\n",
       "    .dataframe tbody tr th:only-of-type {\n",
       "        vertical-align: middle;\n",
       "    }\n",
       "\n",
       "    .dataframe tbody tr th {\n",
       "        vertical-align: top;\n",
       "    }\n",
       "\n",
       "    .dataframe thead th {\n",
       "        text-align: right;\n",
       "    }\n",
       "</style>\n",
       "<table border=\"1\" class=\"dataframe\">\n",
       "  <thead>\n",
       "    <tr style=\"text-align: right;\">\n",
       "      <th></th>\n",
       "      <th>표본</th>\n",
       "      <th>평균</th>\n",
       "      <th>편차</th>\n",
       "    </tr>\n",
       "  </thead>\n",
       "  <tbody>\n",
       "    <tr>\n",
       "      <th>0</th>\n",
       "      <td>2</td>\n",
       "      <td>5.0</td>\n",
       "      <td>-3.0</td>\n",
       "    </tr>\n",
       "    <tr>\n",
       "      <th>1</th>\n",
       "      <td>3</td>\n",
       "      <td>5.0</td>\n",
       "      <td>-2.0</td>\n",
       "    </tr>\n",
       "    <tr>\n",
       "      <th>2</th>\n",
       "      <td>3</td>\n",
       "      <td>5.0</td>\n",
       "      <td>-2.0</td>\n",
       "    </tr>\n",
       "    <tr>\n",
       "      <th>3</th>\n",
       "      <td>4</td>\n",
       "      <td>5.0</td>\n",
       "      <td>-1.0</td>\n",
       "    </tr>\n",
       "    <tr>\n",
       "      <th>4</th>\n",
       "      <td>4</td>\n",
       "      <td>5.0</td>\n",
       "      <td>-1.0</td>\n",
       "    </tr>\n",
       "    <tr>\n",
       "      <th>5</th>\n",
       "      <td>5</td>\n",
       "      <td>5.0</td>\n",
       "      <td>0.0</td>\n",
       "    </tr>\n",
       "    <tr>\n",
       "      <th>6</th>\n",
       "      <td>7</td>\n",
       "      <td>5.0</td>\n",
       "      <td>2.0</td>\n",
       "    </tr>\n",
       "    <tr>\n",
       "      <th>7</th>\n",
       "      <td>7</td>\n",
       "      <td>5.0</td>\n",
       "      <td>2.0</td>\n",
       "    </tr>\n",
       "    <tr>\n",
       "      <th>8</th>\n",
       "      <td>7</td>\n",
       "      <td>5.0</td>\n",
       "      <td>2.0</td>\n",
       "    </tr>\n",
       "    <tr>\n",
       "      <th>9</th>\n",
       "      <td>8</td>\n",
       "      <td>5.0</td>\n",
       "      <td>3.0</td>\n",
       "    </tr>\n",
       "  </tbody>\n",
       "</table>\n",
       "</div>"
      ],
      "text/plain": [
       "   표본   평균   편차\n",
       "0   2  5.0 -3.0\n",
       "1   3  5.0 -2.0\n",
       "2   3  5.0 -2.0\n",
       "3   4  5.0 -1.0\n",
       "4   4  5.0 -1.0\n",
       "5   5  5.0  0.0\n",
       "6   7  5.0  2.0\n",
       "7   7  5.0  2.0\n",
       "8   7  5.0  2.0\n",
       "9   8  5.0  3.0"
      ]
     },
     "execution_count": 24,
     "metadata": {},
     "output_type": "execute_result"
    }
   ],
   "source": [
    "a['편차'] = a['표본'] - a['평균']\n",
    "a"
   ]
  },
  {
   "cell_type": "markdown",
   "id": "0325d22f-e115-4c7f-9a77-13081710a504",
   "metadata": {},
   "source": [
    "## 4) 분산: 편차 제곱의 합 / 데이터 수\n",
    "* 모분산 : $\\sigma^2$\n",
    "$ \\sigma^2 = {\\sum(x_i-\\mu)^2 \\over N}$ <br>\n",
    "\n",
    "* 표본분산 : $s^2$\n",
    "\n",
    "* $ s^2 = {\\sum(x_i-\\bar{x})^2 \\over n-1}$ <br>"
   ]
  },
  {
   "cell_type": "code",
   "execution_count": 25,
   "id": "eb21aeae-c691-4c27-8e4c-2aaa4dc6757b",
   "metadata": {},
   "outputs": [
    {
     "data": {
      "text/plain": [
       "40.0"
      ]
     },
     "execution_count": 25,
     "metadata": {},
     "output_type": "execute_result"
    }
   ],
   "source": [
    "# 분산 : 편차제곱의 합 / 데이터 수\n",
    "(a['편차'] **2).sum()"
   ]
  },
  {
   "cell_type": "code",
   "execution_count": 26,
   "id": "385106f7-5600-4fcc-b650-1950513070f2",
   "metadata": {},
   "outputs": [],
   "source": [
    "a['편차제곱'] = a['편차'] **2"
   ]
  },
  {
   "cell_type": "code",
   "execution_count": 27,
   "id": "97bc72bc-7fb6-4cc9-86c0-037542390899",
   "metadata": {
    "scrolled": true
   },
   "outputs": [
    {
     "data": {
      "text/html": [
       "<div>\n",
       "<style scoped>\n",
       "    .dataframe tbody tr th:only-of-type {\n",
       "        vertical-align: middle;\n",
       "    }\n",
       "\n",
       "    .dataframe tbody tr th {\n",
       "        vertical-align: top;\n",
       "    }\n",
       "\n",
       "    .dataframe thead th {\n",
       "        text-align: right;\n",
       "    }\n",
       "</style>\n",
       "<table border=\"1\" class=\"dataframe\">\n",
       "  <thead>\n",
       "    <tr style=\"text-align: right;\">\n",
       "      <th></th>\n",
       "      <th>표본</th>\n",
       "      <th>평균</th>\n",
       "      <th>편차</th>\n",
       "      <th>편차제곱</th>\n",
       "      <th>분산</th>\n",
       "    </tr>\n",
       "  </thead>\n",
       "  <tbody>\n",
       "    <tr>\n",
       "      <th>0</th>\n",
       "      <td>2</td>\n",
       "      <td>5.0</td>\n",
       "      <td>-3.0</td>\n",
       "      <td>9.0</td>\n",
       "      <td>4.0</td>\n",
       "    </tr>\n",
       "    <tr>\n",
       "      <th>1</th>\n",
       "      <td>3</td>\n",
       "      <td>5.0</td>\n",
       "      <td>-2.0</td>\n",
       "      <td>4.0</td>\n",
       "      <td>4.0</td>\n",
       "    </tr>\n",
       "    <tr>\n",
       "      <th>2</th>\n",
       "      <td>3</td>\n",
       "      <td>5.0</td>\n",
       "      <td>-2.0</td>\n",
       "      <td>4.0</td>\n",
       "      <td>4.0</td>\n",
       "    </tr>\n",
       "    <tr>\n",
       "      <th>3</th>\n",
       "      <td>4</td>\n",
       "      <td>5.0</td>\n",
       "      <td>-1.0</td>\n",
       "      <td>1.0</td>\n",
       "      <td>4.0</td>\n",
       "    </tr>\n",
       "    <tr>\n",
       "      <th>4</th>\n",
       "      <td>4</td>\n",
       "      <td>5.0</td>\n",
       "      <td>-1.0</td>\n",
       "      <td>1.0</td>\n",
       "      <td>4.0</td>\n",
       "    </tr>\n",
       "    <tr>\n",
       "      <th>5</th>\n",
       "      <td>5</td>\n",
       "      <td>5.0</td>\n",
       "      <td>0.0</td>\n",
       "      <td>0.0</td>\n",
       "      <td>4.0</td>\n",
       "    </tr>\n",
       "    <tr>\n",
       "      <th>6</th>\n",
       "      <td>7</td>\n",
       "      <td>5.0</td>\n",
       "      <td>2.0</td>\n",
       "      <td>4.0</td>\n",
       "      <td>4.0</td>\n",
       "    </tr>\n",
       "    <tr>\n",
       "      <th>7</th>\n",
       "      <td>7</td>\n",
       "      <td>5.0</td>\n",
       "      <td>2.0</td>\n",
       "      <td>4.0</td>\n",
       "      <td>4.0</td>\n",
       "    </tr>\n",
       "    <tr>\n",
       "      <th>8</th>\n",
       "      <td>7</td>\n",
       "      <td>5.0</td>\n",
       "      <td>2.0</td>\n",
       "      <td>4.0</td>\n",
       "      <td>4.0</td>\n",
       "    </tr>\n",
       "    <tr>\n",
       "      <th>9</th>\n",
       "      <td>8</td>\n",
       "      <td>5.0</td>\n",
       "      <td>3.0</td>\n",
       "      <td>9.0</td>\n",
       "      <td>4.0</td>\n",
       "    </tr>\n",
       "  </tbody>\n",
       "</table>\n",
       "</div>"
      ],
      "text/plain": [
       "   표본   평균   편차  편차제곱   분산\n",
       "0   2  5.0 -3.0   9.0  4.0\n",
       "1   3  5.0 -2.0   4.0  4.0\n",
       "2   3  5.0 -2.0   4.0  4.0\n",
       "3   4  5.0 -1.0   1.0  4.0\n",
       "4   4  5.0 -1.0   1.0  4.0\n",
       "5   5  5.0  0.0   0.0  4.0\n",
       "6   7  5.0  2.0   4.0  4.0\n",
       "7   7  5.0  2.0   4.0  4.0\n",
       "8   7  5.0  2.0   4.0  4.0\n",
       "9   8  5.0  3.0   9.0  4.0"
      ]
     },
     "execution_count": 27,
     "metadata": {},
     "output_type": "execute_result"
    }
   ],
   "source": [
    "a['분산'] = a['편차제곱'].sum() / len(a['편차제곱'])\n",
    "a"
   ]
  },
  {
   "cell_type": "code",
   "execution_count": 28,
   "id": "869170b5-1e6d-4de7-961d-a78f0c261086",
   "metadata": {},
   "outputs": [
    {
     "data": {
      "text/plain": [
       "4.444444444444445"
      ]
     },
     "execution_count": 28,
     "metadata": {},
     "output_type": "execute_result"
    }
   ],
   "source": [
    "# 분산함수 .var() 표본분산을 구해주는 함수\n",
    "a['표본'].var()"
   ]
  },
  {
   "cell_type": "code",
   "execution_count": 29,
   "id": "bdd1f7a7-db12-4f93-b93a-34be6b187688",
   "metadata": {},
   "outputs": [
    {
     "data": {
      "text/html": [
       "<div>\n",
       "<style scoped>\n",
       "    .dataframe tbody tr th:only-of-type {\n",
       "        vertical-align: middle;\n",
       "    }\n",
       "\n",
       "    .dataframe tbody tr th {\n",
       "        vertical-align: top;\n",
       "    }\n",
       "\n",
       "    .dataframe thead th {\n",
       "        text-align: right;\n",
       "    }\n",
       "</style>\n",
       "<table border=\"1\" class=\"dataframe\">\n",
       "  <thead>\n",
       "    <tr style=\"text-align: right;\">\n",
       "      <th></th>\n",
       "      <th>표본</th>\n",
       "      <th>평균</th>\n",
       "      <th>편차</th>\n",
       "      <th>편차제곱</th>\n",
       "      <th>분산</th>\n",
       "      <th>표본분산</th>\n",
       "    </tr>\n",
       "  </thead>\n",
       "  <tbody>\n",
       "    <tr>\n",
       "      <th>0</th>\n",
       "      <td>2</td>\n",
       "      <td>5.0</td>\n",
       "      <td>-3.0</td>\n",
       "      <td>9.0</td>\n",
       "      <td>4.0</td>\n",
       "      <td>4.0</td>\n",
       "    </tr>\n",
       "    <tr>\n",
       "      <th>1</th>\n",
       "      <td>3</td>\n",
       "      <td>5.0</td>\n",
       "      <td>-2.0</td>\n",
       "      <td>4.0</td>\n",
       "      <td>4.0</td>\n",
       "      <td>4.0</td>\n",
       "    </tr>\n",
       "    <tr>\n",
       "      <th>2</th>\n",
       "      <td>3</td>\n",
       "      <td>5.0</td>\n",
       "      <td>-2.0</td>\n",
       "      <td>4.0</td>\n",
       "      <td>4.0</td>\n",
       "      <td>4.0</td>\n",
       "    </tr>\n",
       "    <tr>\n",
       "      <th>3</th>\n",
       "      <td>4</td>\n",
       "      <td>5.0</td>\n",
       "      <td>-1.0</td>\n",
       "      <td>1.0</td>\n",
       "      <td>4.0</td>\n",
       "      <td>4.0</td>\n",
       "    </tr>\n",
       "    <tr>\n",
       "      <th>4</th>\n",
       "      <td>4</td>\n",
       "      <td>5.0</td>\n",
       "      <td>-1.0</td>\n",
       "      <td>1.0</td>\n",
       "      <td>4.0</td>\n",
       "      <td>4.0</td>\n",
       "    </tr>\n",
       "    <tr>\n",
       "      <th>5</th>\n",
       "      <td>5</td>\n",
       "      <td>5.0</td>\n",
       "      <td>0.0</td>\n",
       "      <td>0.0</td>\n",
       "      <td>4.0</td>\n",
       "      <td>4.0</td>\n",
       "    </tr>\n",
       "    <tr>\n",
       "      <th>6</th>\n",
       "      <td>7</td>\n",
       "      <td>5.0</td>\n",
       "      <td>2.0</td>\n",
       "      <td>4.0</td>\n",
       "      <td>4.0</td>\n",
       "      <td>4.0</td>\n",
       "    </tr>\n",
       "    <tr>\n",
       "      <th>7</th>\n",
       "      <td>7</td>\n",
       "      <td>5.0</td>\n",
       "      <td>2.0</td>\n",
       "      <td>4.0</td>\n",
       "      <td>4.0</td>\n",
       "      <td>4.0</td>\n",
       "    </tr>\n",
       "    <tr>\n",
       "      <th>8</th>\n",
       "      <td>7</td>\n",
       "      <td>5.0</td>\n",
       "      <td>2.0</td>\n",
       "      <td>4.0</td>\n",
       "      <td>4.0</td>\n",
       "      <td>4.0</td>\n",
       "    </tr>\n",
       "    <tr>\n",
       "      <th>9</th>\n",
       "      <td>8</td>\n",
       "      <td>5.0</td>\n",
       "      <td>3.0</td>\n",
       "      <td>9.0</td>\n",
       "      <td>4.0</td>\n",
       "      <td>4.0</td>\n",
       "    </tr>\n",
       "  </tbody>\n",
       "</table>\n",
       "</div>"
      ],
      "text/plain": [
       "   표본   평균   편차  편차제곱   분산  표본분산\n",
       "0   2  5.0 -3.0   9.0  4.0   4.0\n",
       "1   3  5.0 -2.0   4.0  4.0   4.0\n",
       "2   3  5.0 -2.0   4.0  4.0   4.0\n",
       "3   4  5.0 -1.0   1.0  4.0   4.0\n",
       "4   4  5.0 -1.0   1.0  4.0   4.0\n",
       "5   5  5.0  0.0   0.0  4.0   4.0\n",
       "6   7  5.0  2.0   4.0  4.0   4.0\n",
       "7   7  5.0  2.0   4.0  4.0   4.0\n",
       "8   7  5.0  2.0   4.0  4.0   4.0\n",
       "9   8  5.0  3.0   9.0  4.0   4.0"
      ]
     },
     "execution_count": 29,
     "metadata": {},
     "output_type": "execute_result"
    }
   ],
   "source": [
    "a['표본분산'] = a['편차제곱'].sum() / len(a['편차제곱'] -1)\n",
    "a"
   ]
  },
  {
   "cell_type": "markdown",
   "id": "6ca8bd34-af6d-44f2-99d7-3b563bafcea9",
   "metadata": {},
   "source": [
    "### 5) 표준편차 : 분산의 제곱근\n",
    "* 모집단의 표준편차 $\\sigma$ <br>\n",
    "$ \\sigma = \\sqrt{\\sum(x_i-\\mu)^2 \\over N}$ \n",
    "\n",
    "\n",
    "\n",
    "* 표본집단의 표준편차 $ s $ <br>\n",
    "$ s = \\sqrt{\\sum(x_i-\\bar{x})^2 \\over n-1}$"
   ]
  },
  {
   "cell_type": "code",
   "execution_count": 30,
   "id": "072af86b-ba89-4b6b-a7e3-ad2ca7ebbfa1",
   "metadata": {},
   "outputs": [],
   "source": [
    "a['표준편차'] = a['분산'].apply(math.sqrt)"
   ]
  },
  {
   "cell_type": "code",
   "execution_count": 31,
   "id": "a012f87c-99b2-45de-b32c-fee0b15388a4",
   "metadata": {},
   "outputs": [
    {
     "data": {
      "text/html": [
       "<div>\n",
       "<style scoped>\n",
       "    .dataframe tbody tr th:only-of-type {\n",
       "        vertical-align: middle;\n",
       "    }\n",
       "\n",
       "    .dataframe tbody tr th {\n",
       "        vertical-align: top;\n",
       "    }\n",
       "\n",
       "    .dataframe thead th {\n",
       "        text-align: right;\n",
       "    }\n",
       "</style>\n",
       "<table border=\"1\" class=\"dataframe\">\n",
       "  <thead>\n",
       "    <tr style=\"text-align: right;\">\n",
       "      <th></th>\n",
       "      <th>표본</th>\n",
       "      <th>평균</th>\n",
       "      <th>편차</th>\n",
       "      <th>편차제곱</th>\n",
       "      <th>분산</th>\n",
       "      <th>표본분산</th>\n",
       "      <th>표준편차</th>\n",
       "    </tr>\n",
       "  </thead>\n",
       "  <tbody>\n",
       "    <tr>\n",
       "      <th>0</th>\n",
       "      <td>2</td>\n",
       "      <td>5.0</td>\n",
       "      <td>-3.0</td>\n",
       "      <td>9.0</td>\n",
       "      <td>4.0</td>\n",
       "      <td>4.0</td>\n",
       "      <td>2.0</td>\n",
       "    </tr>\n",
       "    <tr>\n",
       "      <th>1</th>\n",
       "      <td>3</td>\n",
       "      <td>5.0</td>\n",
       "      <td>-2.0</td>\n",
       "      <td>4.0</td>\n",
       "      <td>4.0</td>\n",
       "      <td>4.0</td>\n",
       "      <td>2.0</td>\n",
       "    </tr>\n",
       "    <tr>\n",
       "      <th>2</th>\n",
       "      <td>3</td>\n",
       "      <td>5.0</td>\n",
       "      <td>-2.0</td>\n",
       "      <td>4.0</td>\n",
       "      <td>4.0</td>\n",
       "      <td>4.0</td>\n",
       "      <td>2.0</td>\n",
       "    </tr>\n",
       "    <tr>\n",
       "      <th>3</th>\n",
       "      <td>4</td>\n",
       "      <td>5.0</td>\n",
       "      <td>-1.0</td>\n",
       "      <td>1.0</td>\n",
       "      <td>4.0</td>\n",
       "      <td>4.0</td>\n",
       "      <td>2.0</td>\n",
       "    </tr>\n",
       "    <tr>\n",
       "      <th>4</th>\n",
       "      <td>4</td>\n",
       "      <td>5.0</td>\n",
       "      <td>-1.0</td>\n",
       "      <td>1.0</td>\n",
       "      <td>4.0</td>\n",
       "      <td>4.0</td>\n",
       "      <td>2.0</td>\n",
       "    </tr>\n",
       "    <tr>\n",
       "      <th>5</th>\n",
       "      <td>5</td>\n",
       "      <td>5.0</td>\n",
       "      <td>0.0</td>\n",
       "      <td>0.0</td>\n",
       "      <td>4.0</td>\n",
       "      <td>4.0</td>\n",
       "      <td>2.0</td>\n",
       "    </tr>\n",
       "    <tr>\n",
       "      <th>6</th>\n",
       "      <td>7</td>\n",
       "      <td>5.0</td>\n",
       "      <td>2.0</td>\n",
       "      <td>4.0</td>\n",
       "      <td>4.0</td>\n",
       "      <td>4.0</td>\n",
       "      <td>2.0</td>\n",
       "    </tr>\n",
       "    <tr>\n",
       "      <th>7</th>\n",
       "      <td>7</td>\n",
       "      <td>5.0</td>\n",
       "      <td>2.0</td>\n",
       "      <td>4.0</td>\n",
       "      <td>4.0</td>\n",
       "      <td>4.0</td>\n",
       "      <td>2.0</td>\n",
       "    </tr>\n",
       "    <tr>\n",
       "      <th>8</th>\n",
       "      <td>7</td>\n",
       "      <td>5.0</td>\n",
       "      <td>2.0</td>\n",
       "      <td>4.0</td>\n",
       "      <td>4.0</td>\n",
       "      <td>4.0</td>\n",
       "      <td>2.0</td>\n",
       "    </tr>\n",
       "    <tr>\n",
       "      <th>9</th>\n",
       "      <td>8</td>\n",
       "      <td>5.0</td>\n",
       "      <td>3.0</td>\n",
       "      <td>9.0</td>\n",
       "      <td>4.0</td>\n",
       "      <td>4.0</td>\n",
       "      <td>2.0</td>\n",
       "    </tr>\n",
       "  </tbody>\n",
       "</table>\n",
       "</div>"
      ],
      "text/plain": [
       "   표본   평균   편차  편차제곱   분산  표본분산  표준편차\n",
       "0   2  5.0 -3.0   9.0  4.0   4.0   2.0\n",
       "1   3  5.0 -2.0   4.0  4.0   4.0   2.0\n",
       "2   3  5.0 -2.0   4.0  4.0   4.0   2.0\n",
       "3   4  5.0 -1.0   1.0  4.0   4.0   2.0\n",
       "4   4  5.0 -1.0   1.0  4.0   4.0   2.0\n",
       "5   5  5.0  0.0   0.0  4.0   4.0   2.0\n",
       "6   7  5.0  2.0   4.0  4.0   4.0   2.0\n",
       "7   7  5.0  2.0   4.0  4.0   4.0   2.0\n",
       "8   7  5.0  2.0   4.0  4.0   4.0   2.0\n",
       "9   8  5.0  3.0   9.0  4.0   4.0   2.0"
      ]
     },
     "execution_count": 31,
     "metadata": {},
     "output_type": "execute_result"
    }
   ],
   "source": [
    "a"
   ]
  },
  {
   "cell_type": "code",
   "execution_count": 32,
   "id": "e15687b3-95d0-4b9d-9a90-c294e121e5c1",
   "metadata": {},
   "outputs": [
    {
     "data": {
      "text/plain": [
       "2.1081851067789197"
      ]
     },
     "execution_count": 32,
     "metadata": {},
     "output_type": "execute_result"
    }
   ],
   "source": [
    "# 표준편차를 구하는 함수 .std()\n",
    "a['표본'].std()"
   ]
  },
  {
   "cell_type": "code",
   "execution_count": 33,
   "id": "bf297d7d-ada3-4ded-a755-8c642618e2a1",
   "metadata": {},
   "outputs": [
    {
     "data": {
      "text/html": [
       "<div>\n",
       "<style scoped>\n",
       "    .dataframe tbody tr th:only-of-type {\n",
       "        vertical-align: middle;\n",
       "    }\n",
       "\n",
       "    .dataframe tbody tr th {\n",
       "        vertical-align: top;\n",
       "    }\n",
       "\n",
       "    .dataframe thead th {\n",
       "        text-align: right;\n",
       "    }\n",
       "</style>\n",
       "<table border=\"1\" class=\"dataframe\">\n",
       "  <thead>\n",
       "    <tr style=\"text-align: right;\">\n",
       "      <th></th>\n",
       "      <th>표본</th>\n",
       "      <th>평균</th>\n",
       "      <th>편차</th>\n",
       "      <th>편차제곱</th>\n",
       "      <th>분산</th>\n",
       "      <th>표본분산</th>\n",
       "      <th>표준편차</th>\n",
       "      <th>표본표준편차</th>\n",
       "    </tr>\n",
       "  </thead>\n",
       "  <tbody>\n",
       "    <tr>\n",
       "      <th>0</th>\n",
       "      <td>2</td>\n",
       "      <td>5.0</td>\n",
       "      <td>-3.0</td>\n",
       "      <td>9.0</td>\n",
       "      <td>4.0</td>\n",
       "      <td>4.0</td>\n",
       "      <td>2.0</td>\n",
       "      <td>2.0</td>\n",
       "    </tr>\n",
       "    <tr>\n",
       "      <th>1</th>\n",
       "      <td>3</td>\n",
       "      <td>5.0</td>\n",
       "      <td>-2.0</td>\n",
       "      <td>4.0</td>\n",
       "      <td>4.0</td>\n",
       "      <td>4.0</td>\n",
       "      <td>2.0</td>\n",
       "      <td>2.0</td>\n",
       "    </tr>\n",
       "    <tr>\n",
       "      <th>2</th>\n",
       "      <td>3</td>\n",
       "      <td>5.0</td>\n",
       "      <td>-2.0</td>\n",
       "      <td>4.0</td>\n",
       "      <td>4.0</td>\n",
       "      <td>4.0</td>\n",
       "      <td>2.0</td>\n",
       "      <td>2.0</td>\n",
       "    </tr>\n",
       "    <tr>\n",
       "      <th>3</th>\n",
       "      <td>4</td>\n",
       "      <td>5.0</td>\n",
       "      <td>-1.0</td>\n",
       "      <td>1.0</td>\n",
       "      <td>4.0</td>\n",
       "      <td>4.0</td>\n",
       "      <td>2.0</td>\n",
       "      <td>2.0</td>\n",
       "    </tr>\n",
       "    <tr>\n",
       "      <th>4</th>\n",
       "      <td>4</td>\n",
       "      <td>5.0</td>\n",
       "      <td>-1.0</td>\n",
       "      <td>1.0</td>\n",
       "      <td>4.0</td>\n",
       "      <td>4.0</td>\n",
       "      <td>2.0</td>\n",
       "      <td>2.0</td>\n",
       "    </tr>\n",
       "    <tr>\n",
       "      <th>5</th>\n",
       "      <td>5</td>\n",
       "      <td>5.0</td>\n",
       "      <td>0.0</td>\n",
       "      <td>0.0</td>\n",
       "      <td>4.0</td>\n",
       "      <td>4.0</td>\n",
       "      <td>2.0</td>\n",
       "      <td>2.0</td>\n",
       "    </tr>\n",
       "    <tr>\n",
       "      <th>6</th>\n",
       "      <td>7</td>\n",
       "      <td>5.0</td>\n",
       "      <td>2.0</td>\n",
       "      <td>4.0</td>\n",
       "      <td>4.0</td>\n",
       "      <td>4.0</td>\n",
       "      <td>2.0</td>\n",
       "      <td>2.0</td>\n",
       "    </tr>\n",
       "    <tr>\n",
       "      <th>7</th>\n",
       "      <td>7</td>\n",
       "      <td>5.0</td>\n",
       "      <td>2.0</td>\n",
       "      <td>4.0</td>\n",
       "      <td>4.0</td>\n",
       "      <td>4.0</td>\n",
       "      <td>2.0</td>\n",
       "      <td>2.0</td>\n",
       "    </tr>\n",
       "    <tr>\n",
       "      <th>8</th>\n",
       "      <td>7</td>\n",
       "      <td>5.0</td>\n",
       "      <td>2.0</td>\n",
       "      <td>4.0</td>\n",
       "      <td>4.0</td>\n",
       "      <td>4.0</td>\n",
       "      <td>2.0</td>\n",
       "      <td>2.0</td>\n",
       "    </tr>\n",
       "    <tr>\n",
       "      <th>9</th>\n",
       "      <td>8</td>\n",
       "      <td>5.0</td>\n",
       "      <td>3.0</td>\n",
       "      <td>9.0</td>\n",
       "      <td>4.0</td>\n",
       "      <td>4.0</td>\n",
       "      <td>2.0</td>\n",
       "      <td>2.0</td>\n",
       "    </tr>\n",
       "  </tbody>\n",
       "</table>\n",
       "</div>"
      ],
      "text/plain": [
       "   표본   평균   편차  편차제곱   분산  표본분산  표준편차  표본표준편차\n",
       "0   2  5.0 -3.0   9.0  4.0   4.0   2.0     2.0\n",
       "1   3  5.0 -2.0   4.0  4.0   4.0   2.0     2.0\n",
       "2   3  5.0 -2.0   4.0  4.0   4.0   2.0     2.0\n",
       "3   4  5.0 -1.0   1.0  4.0   4.0   2.0     2.0\n",
       "4   4  5.0 -1.0   1.0  4.0   4.0   2.0     2.0\n",
       "5   5  5.0  0.0   0.0  4.0   4.0   2.0     2.0\n",
       "6   7  5.0  2.0   4.0  4.0   4.0   2.0     2.0\n",
       "7   7  5.0  2.0   4.0  4.0   4.0   2.0     2.0\n",
       "8   7  5.0  2.0   4.0  4.0   4.0   2.0     2.0\n",
       "9   8  5.0  3.0   9.0  4.0   4.0   2.0     2.0"
      ]
     },
     "execution_count": 33,
     "metadata": {},
     "output_type": "execute_result"
    }
   ],
   "source": [
    "a['표본표준편차'] = a['표본분산'].apply(math.sqrt)\n",
    "a"
   ]
  },
  {
   "cell_type": "code",
   "execution_count": 34,
   "id": "d14efc40-2757-42fa-bb96-42a20789dd38",
   "metadata": {},
   "outputs": [
    {
     "data": {
      "text/plain": [
       "count    10.000000\n",
       "mean      5.000000\n",
       "std       2.108185\n",
       "min       2.000000\n",
       "25%       3.250000\n",
       "50%       4.500000\n",
       "75%       7.000000\n",
       "max       8.000000\n",
       "Name: 표본, dtype: float64"
      ]
     },
     "execution_count": 34,
     "metadata": {},
     "output_type": "execute_result"
    }
   ],
   "source": [
    "a['표본'].describe()"
   ]
  },
  {
   "cell_type": "markdown",
   "id": "ca472943-84d7-4fe1-8165-2097e482e124",
   "metadata": {},
   "source": [
    "## 6) 표준점수(standard score), z-점수(z-score)\n",
    "* 데이터 포인터(값)가 평균으로부터 얼마나 떨어져 있는지를 나타내는 지표\n",
    "* 이는 데이터 포인트가 평균에서 몇 표준편차 떨어져 있는지를 나타내며,\n",
    "* 데이터의 상대적인 위치를 이해하는데 유용하다.\n",
    "\n",
    "* 모집단 표준점수(Z-score) z <br>\n",
    "$ Z = x_i-\\mu \\over \\sigma $ <br>\n",
    "\n",
    "\n",
    "* 표본집단의 표준점수(Z-score) z <br>\n",
    "$ Z = {x_i-\\bar{x} \\over s}$  <br><br>"
   ]
  },
  {
   "cell_type": "markdown",
   "id": "ec60ea34-fbbd-486a-bf14-47534d64e44c",
   "metadata": {},
   "source": [
    "# 자유도(degree fo freedom)란?\n",
    "* 데이터의 독립적인 정보의 수\n",
    "* [2,3,4,5,6]의 평균?\n",
    "* 통계는 표본을 추출해서 계산\n",
    "* 모평균 4.0\n",
    "* 표본평균 4.0\n",
    "* 평균값을 유지하기 위해서 마지막 데이터 포인트는 고정되어야하고\n",
    "* 고정된 포인트 이외의 값들은 자유롭게 변할 수 있다.\n",
    "* n-1"
   ]
  },
  {
   "cell_type": "code",
   "execution_count": 35,
   "id": "fdc3ffbf-5971-480c-aa21-b5229ffdf4e0",
   "metadata": {},
   "outputs": [
    {
     "data": {
      "text/plain": [
       "4.0"
      ]
     },
     "execution_count": 35,
     "metadata": {},
     "output_type": "execute_result"
    }
   ],
   "source": [
    "pd.Series([2,3,4,5,6]).mean()"
   ]
  },
  {
   "cell_type": "code",
   "execution_count": 38,
   "id": "17f6ab33-f9cc-4e5d-b864-c5ae29b7dd9b",
   "metadata": {},
   "outputs": [
    {
     "data": {
      "text/plain": [
       "4.0"
      ]
     },
     "execution_count": 38,
     "metadata": {},
     "output_type": "execute_result"
    }
   ],
   "source": [
    "# [2+3+4+5+6]전체 = 모집단\n",
    "(2+3+4+5+6)/5"
   ]
  },
  {
   "cell_type": "code",
   "execution_count": null,
   "id": "5ae22df6-4ff2-44b6-83bf-9bc2207be4e2",
   "metadata": {},
   "outputs": [],
   "source": [
    "# [4,2,5,7,x]의 평균 = 4.0"
   ]
  },
  {
   "cell_type": "code",
   "execution_count": 39,
   "id": "de1a391a-d479-4f30-a020-3e244d01bbe5",
   "metadata": {},
   "outputs": [
    {
     "data": {
      "text/plain": [
       "4.0"
      ]
     },
     "execution_count": 39,
     "metadata": {},
     "output_type": "execute_result"
    }
   ],
   "source": [
    "sum([4,2,5,7,2]) / 5"
   ]
  },
  {
   "cell_type": "code",
   "execution_count": null,
   "id": "860e07d3-315c-4f40-9d58-2ac63643ad6b",
   "metadata": {},
   "outputs": [],
   "source": []
  },
  {
   "cell_type": "markdown",
   "id": "12c0b71b-430e-45c6-a21d-0b9238f21dba",
   "metadata": {},
   "source": [
    "# 확률과 분포"
   ]
  },
  {
   "cell_type": "code",
   "execution_count": null,
   "id": "7978bbaa-5880-4be3-b3ff-8c4675c6a961",
   "metadata": {},
   "outputs": [],
   "source": []
  },
  {
   "cell_type": "markdown",
   "id": "fc38165c-d893-4c9e-bbca-cceaa8d32ace",
   "metadata": {},
   "source": [
    "# 가설검정 t-test\n",
    "* t-test는 두 집단의 평균을 비교해서 차이가 있는지 확인하는 통계적 방법"
   ]
  },
  {
   "cell_type": "markdown",
   "id": "01360d94-4414-4d85-bdf5-9aebf32db9e7",
   "metadata": {},
   "source": [
    "### 1) 일 표본 단측 t-검정(한 쪽으로 방향성을 갖는 경우)\n",
    "* 모수에 대한 검정을 할 때 모수 값이 ~보다 크다, 혹은 ~보다 작다와 같이 한쪽으로 방향성을 갖는 경우 수행되는 검정 방법\n",
    "* 00공장에서 생산되는 지우개의 평균 중량은 50g 이하다(귀무가설)\n",
    "* 00공장에서 생산되는 지우개의 평균 중량은 50g 초과다(대립가설)"
   ]
  },
  {
   "cell_type": "code",
   "execution_count": 43,
   "id": "125e072a-3825-43ee-b583-080825ffde21",
   "metadata": {},
   "outputs": [],
   "source": [
    "import statsmodels.stats.weightstats as stests\n",
    "from scipy import stats"
   ]
  },
  {
   "cell_type": "code",
   "execution_count": 40,
   "id": "86371288-b393-466c-b1ca-91866784c0d7",
   "metadata": {},
   "outputs": [
    {
     "name": "stdout",
     "output_type": "stream",
     "text": [
      "Requirement already satisfied: statsmodels in c:\\users\\5-04\\miniforge3\\envs\\fintech\\lib\\site-packages (0.14.2)\n",
      "Requirement already satisfied: numpy>=1.22.3 in c:\\users\\5-04\\miniforge3\\envs\\fintech\\lib\\site-packages (from statsmodels) (1.26.4)\n",
      "Requirement already satisfied: scipy!=1.9.2,>=1.8 in c:\\users\\5-04\\miniforge3\\envs\\fintech\\lib\\site-packages (from statsmodels) (1.13.1)\n",
      "Requirement already satisfied: pandas!=2.1.0,>=1.4 in c:\\users\\5-04\\miniforge3\\envs\\fintech\\lib\\site-packages (from statsmodels) (2.2.2)\n",
      "Requirement already satisfied: patsy>=0.5.6 in c:\\users\\5-04\\miniforge3\\envs\\fintech\\lib\\site-packages (from statsmodels) (0.5.6)\n",
      "Requirement already satisfied: packaging>=21.3 in c:\\users\\5-04\\miniforge3\\envs\\fintech\\lib\\site-packages (from statsmodels) (24.1)\n",
      "Requirement already satisfied: python-dateutil>=2.8.2 in c:\\users\\5-04\\miniforge3\\envs\\fintech\\lib\\site-packages (from pandas!=2.1.0,>=1.4->statsmodels) (2.9.0)\n",
      "Requirement already satisfied: pytz>=2020.1 in c:\\users\\5-04\\miniforge3\\envs\\fintech\\lib\\site-packages (from pandas!=2.1.0,>=1.4->statsmodels) (2024.1)\n",
      "Requirement already satisfied: tzdata>=2022.7 in c:\\users\\5-04\\miniforge3\\envs\\fintech\\lib\\site-packages (from pandas!=2.1.0,>=1.4->statsmodels) (2024.1)\n",
      "Requirement already satisfied: six in c:\\users\\5-04\\miniforge3\\envs\\fintech\\lib\\site-packages (from patsy>=0.5.6->statsmodels) (1.16.0)\n"
     ]
    }
   ],
   "source": [
    "# 통계와 회귀분석에 특화되어 있는 라이브러리\n",
    "!pip install statsmodels"
   ]
  },
  {
   "cell_type": "code",
   "execution_count": 42,
   "id": "2bb83dc6-4338-4055-baff-738adea8259b",
   "metadata": {},
   "outputs": [
    {
     "name": "stdout",
     "output_type": "stream",
     "text": [
      "[51.13957645 51.65523058 50.42157099 51.8736249  49.29747138 49.06802777\n",
      " 51.21382293 50.49259066 50.73542671 51.053944  ]\n",
      "지우개의 평균 : 50.695128635711725\n"
     ]
    }
   ],
   "source": [
    "# 일 표본 단측 t-검정을 위해 지우개 10개의 표본 추출\n",
    "weights = np.random.uniform(49, 52, 10)\n",
    "print(weights)\n",
    "print('지우개의 평균 :', weights.mean())"
   ]
  },
  {
   "cell_type": "code",
   "execution_count": 45,
   "id": "a7eb8d1f-18dd-45f6-b838-14d8890d0ed4",
   "metadata": {},
   "outputs": [
    {
     "name": "stdout",
     "output_type": "stream",
     "text": [
      "T-통계량:, 2.388277589645978, p-value:, 0.020336033879482362\n"
     ]
    }
   ],
   "source": [
    "# 일 표본 단측 t-test\n",
    "t_stat, p_value = stats.ttest_1samp(weights, 50, alternative='greater')\n",
    "print(f'T-통계량:, {t_stat}, p-value:, {p_value}')"
   ]
  },
  {
   "cell_type": "markdown",
   "id": "2a2de529-54d5-4afc-ad63-219d8b6be341",
   "metadata": {},
   "source": [
    "* p-value가 0.016이므로 유의수준 0.05보다 작기 때문에 귀무가설은 기각, 대립가설 채택\n",
    "* 00공장에서 생산되는 지우개의 평균 중량은 50초과다(대립가설) 채택"
   ]
  },
  {
   "cell_type": "markdown",
   "id": "4239dfb4-4324-4426-b2ec-4139112d928a",
   "metadata": {},
   "source": [
    "### 2) 일 표본 양측 t-test(방향성이 없는 경우)\n",
    "* 단측 검정과 달리 모수 값이 ~이다. ~이 아니다와 같이 방향성이 없는 경우 수행되는 검정 방법\n",
    "* 대한민국 남성의 평균 몸무게는 70kg이다(귀무가설)\n",
    "* 대한민국 남성의 평균 몸무게는 70kg이 아니다(대립가설)"
   ]
  },
  {
   "cell_type": "code",
   "execution_count": 46,
   "id": "5ff22ebc-a765-48cd-87f0-ed6145ab2a50",
   "metadata": {},
   "outputs": [
    {
     "name": "stdout",
     "output_type": "stream",
     "text": [
      "몸무게 평균 69.15236291731057\n"
     ]
    }
   ],
   "source": [
    "# 일 표본 양측 t-test를 위한 40kg~100kg 사이 남성 100명의 표본을 추출\n",
    "weights = np.random.uniform(40,100,100)\n",
    "print('몸무게 평균', weights.mean())"
   ]
  },
  {
   "cell_type": "code",
   "execution_count": 48,
   "id": "94d291c6-2d8e-4901-a8a9-74c5c1630004",
   "metadata": {},
   "outputs": [
    {
     "name": "stdout",
     "output_type": "stream",
     "text": [
      "T-통계량: -0.4413199233866545, P-value :, 0.6599437620147257\n"
     ]
    }
   ],
   "source": [
    "# 일 표본 양측 t-test\n",
    "t_stat, p_value = stats.ttest_1samp(weights, 70, alternative = 'two-sided')\n",
    "print(f'T-통계량: {t_stat}, P-value :, {p_value}')"
   ]
  },
  {
   "cell_type": "markdown",
   "id": "1a9329db-9228-408c-a77e-5236f7b96cc3",
   "metadata": {},
   "source": [
    "### 3) 독립 이 표본 t-test (independent sample t-test)\n",
    "* 서로 독립적인 두 개의 집단에 대하여 모수(모평균)의 값이 같은 값을 갖는지 통계적으로 검정하는 방법\n",
    "* 여기서 독립이랑 두 모집단에서 각각 추출된 두 표본이 서로 관계가 없다는 것을 의미\n",
    "* 두 모집단의 분산이 같음을 의미하는 등분산성을 만족해야한다.\n",
    "* 따라서 이 표본 t검정을 수행하기 전에 등분산 검정(F검정)을 먼저 수행해야 한다."
   ]
  },
  {
   "cell_type": "markdown",
   "id": "37310ca4-2888-406d-8433-ddcc36223609",
   "metadata": {},
   "source": [
    "### 4) 이 표본 단측 t검정(~보다 크다/작다)\n",
    "* 두 집단에 대해서 모수 비교를 할 때 A가 B보다 크다/작다를 비교하는 검정\n",
    "* A회사의 급여가 B회사의 급여보다 같거나 많다(귀무가설)"
   ]
  },
  {
   "cell_type": "code",
   "execution_count": 49,
   "id": "1546a8dd-8910-48c6-ab2b-5b9d5411113e",
   "metadata": {},
   "outputs": [
    {
     "name": "stdout",
     "output_type": "stream",
     "text": [
      "salaryA의 평균 :  312.27345746706\n",
      "salaryB의 평균 :  301.0902185505163\n",
      "T-통계량: 1.66373069261055, P-value:,0.9511259290175678\n"
     ]
    }
   ],
   "source": [
    "# 랜덤하게 급여를 생성 salaryA 250-380 사이 값 100개, salaryB 200~400사이의 값 100\n",
    "salaryA = np.random.uniform(250, 380, 100)\n",
    "salaryB = np.random.uniform(200, 400, 100)\n",
    "print('salaryA의 평균 : ', salaryA.mean())\n",
    "print('salaryB의 평균 : ', salaryB.mean())\n",
    "\n",
    "t_stat, p_value = stats.ttest_ind(salaryA, salaryB, alternative = 'less')\n",
    "\n",
    "print(f\"T-통계량: {t_stat}, P-value:,{p_value}\")"
   ]
  },
  {
   "cell_type": "markdown",
   "id": "3a34e0f4-e7e7-485a-894c-19780f567e49",
   "metadata": {},
   "source": [
    "### 5) 이 표본 양측 t검정(A는 B와 같다/다르다)\n",
    "* K와 L의 달리기 속도는 같다(귀무가설)"
   ]
  },
  {
   "cell_type": "code",
   "execution_count": 51,
   "id": "b0aa50bc-76a4-44ae-8d58-948b08522a75",
   "metadata": {},
   "outputs": [
    {
     "name": "stdout",
     "output_type": "stream",
     "text": [
      "T-통계량: 13.217815299405748, P-value:,5.23846827959907e-29\n"
     ]
    }
   ],
   "source": [
    "# 랜덤한 속도 생성(speedk: 30에서 40사이의 값 100개, speedL : 25에서 35사이의 값 100개)\n",
    "speedk = np.random.uniform(30,40,100)\n",
    "speedL = np.random.uniform(25,35,100)\n",
    "\n",
    "t_stat, p_value = stats.ttest_ind(speedk, speedL)\n",
    "print(f'T-통계량: {t_stat}, P-value:,{p_value}')"
   ]
  },
  {
   "cell_type": "markdown",
   "id": "6a9bdde6-f2ca-4499-8b98-64b7e38501c8",
   "metadata": {},
   "source": [
    "### 6) 대응 표본 t검정(paired t-test)\n",
    "* 실험 전 후 비교\n",
    "* 동일한 대상에 대해 두 가지 관측치가 있는 경우 이를 비교하여 차이가 있는지 검정할 때 사용\n",
    "* 두 집단에 신약 투여 후 전후 수치 비교, 새로운 정책이 시행된 후 부동산 가격의 전후 변화 등\n",
    "* 새로운 운동법이 체중감량의 효과가 있는지 검증하기 위해 새로운 운동법을 실시한 집단도 실시하지 않은 집단의 체중을 비교\n",
    "* 새로운 운동법으로 체중 감량의 효과는 없다\n",
    "* 새로운 운동법으로 체중 감량의 효과는 없다(운동 전 무게와 운동 후 무게 >=0)(귀무가설)"
   ]
  },
  {
   "cell_type": "code",
   "execution_count": 52,
   "id": "dc9ec886-cd68-4ac6-996c-440f9f067abb",
   "metadata": {},
   "outputs": [
    {
     "name": "stdout",
     "output_type": "stream",
     "text": [
      "T-통계량: 16.354948606439166, P-value:,3.4040455321596634e-30\n"
     ]
    }
   ],
   "source": [
    "# 대응 표본 t검정을 위한 표본 추출\n",
    "before = np.random.uniform(60,80,100)\n",
    "after = before+np.random.normal(-3,2,100)\n",
    "\n",
    "# 대응 표본 t검정\n",
    "t_stat, p_value = stats.ttest_rel(before, after, alternative='greater')\n",
    "print(f'T-통계량: {t_stat}, P-value:,{p_value}')"
   ]
  },
  {
   "cell_type": "markdown",
   "id": "ece0328d-6353-467a-8bcf-476237112368",
   "metadata": {},
   "source": [
    "# 분산분석(ANOVA)\n",
    "* 3개 이상의 모집단이 있을 경우 집단사이의 평균을 비교\n",
    "* 분산분석의 귀무가설($ H_0 $) 모든 집단 간 평균은 같다\n",
    "* 1) 분산분석을 수행하기 위해서는 아래의 세 가지 가정 사항이 필요로 한다.\n",
    "    * 정규성 : 각 집단의 표본들은 정규분포를 따라야 한다.\n",
    "    * 등분산성 : 각 집단은 동일한 분산을 가져야 한다.\n",
    "    * 독립성 : 각 집단은 서로에게 영향을 주지 않는다.\n",
    "* 2) 분산 분석\n",
    "    * 분산분석의 독립변수는 범주형 데이터여야 하고, 종속변수는 연속형이어야 한다.\n",
    "    * 분산분석에는 '(집단 간 분산)/(집단 내 분산)'으로 계산되는 F-value가 사용된다.\n",
    "    * F-value가 커지면 p-value가 작아진다\n",
    "    * 평균을 비교하는 분산분석에 '분산'의 개념을 사용하는 이유는 집단 간 평균의 분산이 클수록 각 집단의 평균은 서로 멀리 떨어져 있기 때문에 집단 간 차이를 비교하기 쉬워진다."
   ]
  },
  {
   "cell_type": "markdown",
   "id": "41b1796d-163d-452f-8d71-545c1155c589",
   "metadata": {},
   "source": [
    "### 1) 일원분산분석(one-way Anova)\n",
    "* 셋 이상의 집단 간 평균을 비교하는 상황에서 하나의 집단에 속하는 독립변수와 종속변수가 모두 한 개일 때 사용\n",
    "* 예) 연령대 별(청소년, 성인, 노인)유튜브 시청 시간의 차이\n",
    "    * 독립변수는 연령별 집단(청소년, 성인, 노인), 종속변수(유튜브 시청 시간)\n",
    "    * 셋 이상의 집단이지만 독립변수는 '연령별 집단' 하나"
   ]
  },
  {
   "cell_type": "code",
   "execution_count": null,
   "id": "ebe3c6ea-7385-4f72-afb6-a0e87c0cc02b",
   "metadata": {},
   "outputs": [],
   "source": []
  },
  {
   "cell_type": "code",
   "execution_count": null,
   "id": "4f521a60-eb93-4dee-b05b-8784744c62cc",
   "metadata": {},
   "outputs": [],
   "source": []
  },
  {
   "cell_type": "code",
   "execution_count": null,
   "id": "f2e7b003-2cc4-4b37-9fb7-b7b8f382397b",
   "metadata": {},
   "outputs": [],
   "source": []
  },
  {
   "cell_type": "code",
   "execution_count": null,
   "id": "367fc067-6b35-43fa-918d-9ee369631ef4",
   "metadata": {},
   "outputs": [],
   "source": []
  },
  {
   "cell_type": "code",
   "execution_count": null,
   "id": "4c56568e-1840-43d4-a05a-895fdb7cf5ee",
   "metadata": {},
   "outputs": [],
   "source": []
  },
  {
   "cell_type": "code",
   "execution_count": null,
   "id": "e24cbad9-dd7f-4cc2-95d3-4aa541cabbdb",
   "metadata": {},
   "outputs": [],
   "source": []
  },
  {
   "cell_type": "code",
   "execution_count": null,
   "id": "cf7b912e-6720-49e3-af41-ca3551375a9e",
   "metadata": {},
   "outputs": [],
   "source": []
  },
  {
   "cell_type": "code",
   "execution_count": null,
   "id": "b3c7e02a-bac4-47de-8ee1-05940099b990",
   "metadata": {},
   "outputs": [],
   "source": []
  },
  {
   "cell_type": "code",
   "execution_count": null,
   "id": "23fe0c9b-37fc-49f6-a8bd-795b9204abdf",
   "metadata": {},
   "outputs": [],
   "source": []
  },
  {
   "cell_type": "code",
   "execution_count": null,
   "id": "afbf0ac5-3c97-4b17-80d4-c617db796393",
   "metadata": {},
   "outputs": [],
   "source": []
  },
  {
   "cell_type": "code",
   "execution_count": null,
   "id": "48e1547d-b52a-4176-b0bd-40705a14e5ad",
   "metadata": {},
   "outputs": [],
   "source": []
  },
  {
   "cell_type": "code",
   "execution_count": null,
   "id": "d32fdc62-e377-48db-b2b2-ab16353a20bb",
   "metadata": {},
   "outputs": [],
   "source": []
  },
  {
   "cell_type": "code",
   "execution_count": null,
   "id": "a59e8866-1236-4f3b-8d93-04f5c3f06004",
   "metadata": {},
   "outputs": [],
   "source": []
  },
  {
   "cell_type": "code",
   "execution_count": null,
   "id": "6d3ccf7e-7685-404d-85dc-a0a22b90f511",
   "metadata": {},
   "outputs": [],
   "source": []
  },
  {
   "cell_type": "code",
   "execution_count": null,
   "id": "d11b7b1f-6c15-4607-bdc0-e9ca57522cee",
   "metadata": {},
   "outputs": [],
   "source": []
  },
  {
   "cell_type": "code",
   "execution_count": null,
   "id": "7bd90a3e-9dfb-4167-bc53-f5c651adde4c",
   "metadata": {},
   "outputs": [],
   "source": []
  },
  {
   "cell_type": "code",
   "execution_count": null,
   "id": "f937817c-ad76-4c91-8915-19ab946a6374",
   "metadata": {},
   "outputs": [],
   "source": []
  },
  {
   "cell_type": "code",
   "execution_count": null,
   "id": "4a579cc8-faaa-45a3-b14d-3cdc386ec31d",
   "metadata": {},
   "outputs": [],
   "source": []
  }
 ],
 "metadata": {
  "kernelspec": {
   "display_name": "Python 3 (ipykernel)",
   "language": "python",
   "name": "python3"
  },
  "language_info": {
   "codemirror_mode": {
    "name": "ipython",
    "version": 3
   },
   "file_extension": ".py",
   "mimetype": "text/x-python",
   "name": "python",
   "nbconvert_exporter": "python",
   "pygments_lexer": "ipython3",
   "version": "3.10.14"
  }
 },
 "nbformat": 4,
 "nbformat_minor": 5
}
