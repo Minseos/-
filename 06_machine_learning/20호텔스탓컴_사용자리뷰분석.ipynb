{
 "cells": [
  {
   "cell_type": "code",
   "execution_count": 1,
   "id": "743d86d5",
   "metadata": {},
   "outputs": [],
   "source": [
    "import warnings\n",
    "warnings.filterwarnings(action='ignore')"
   ]
  },
  {
   "cell_type": "code",
   "execution_count": 2,
   "id": "bfbcb37a",
   "metadata": {},
   "outputs": [],
   "source": [
    "import pandas as pd\n",
    "import numpy as np\n",
    "import matplotlib.pyplot as plt\n",
    "import seaborn as sns"
   ]
  },
  {
   "cell_type": "code",
   "execution_count": 3,
   "id": "baa53a59",
   "metadata": {},
   "outputs": [],
   "source": [
    "data = pd.read_csv('./data/hotel_review_75000.csv', encoding='utf-8')"
   ]
  },
  {
   "cell_type": "code",
   "execution_count": 4,
   "id": "3ee869c6",
   "metadata": {},
   "outputs": [
    {
     "data": {
      "text/html": [
       "<div>\n",
       "<style scoped>\n",
       "    .dataframe tbody tr th:only-of-type {\n",
       "        vertical-align: middle;\n",
       "    }\n",
       "\n",
       "    .dataframe tbody tr th {\n",
       "        vertical-align: top;\n",
       "    }\n",
       "\n",
       "    .dataframe thead th {\n",
       "        text-align: right;\n",
       "    }\n",
       "</style>\n",
       "<table border=\"1\" class=\"dataframe\">\n",
       "  <thead>\n",
       "    <tr style=\"text-align: right;\">\n",
       "      <th></th>\n",
       "      <th>Unnamed: 0.1</th>\n",
       "      <th>Unnamed: 0</th>\n",
       "      <th>hotelId</th>\n",
       "      <th>hotelName</th>\n",
       "      <th>tripType</th>\n",
       "      <th>tripTypeText</th>\n",
       "      <th>reviewDate</th>\n",
       "      <th>rating</th>\n",
       "      <th>description</th>\n",
       "      <th>isKorNot</th>\n",
       "    </tr>\n",
       "  </thead>\n",
       "  <tbody>\n",
       "    <tr>\n",
       "      <th>0</th>\n",
       "      <td>0</td>\n",
       "      <td>356</td>\n",
       "      <td>105343</td>\n",
       "      <td>서울 웨스틴조선호텔 (The Westin Chosun Seoul)</td>\n",
       "      <td>family</td>\n",
       "      <td>1박 가족 여행</td>\n",
       "      <td>2019년 1월 26일</td>\n",
       "      <td>10.0</td>\n",
       "      <td>직원들 서비스나 마인드 완벽합니다 다만 노후된 시설과 좁은 라운지가 호텔 이름에 비...</td>\n",
       "      <td>True</td>\n",
       "    </tr>\n",
       "    <tr>\n",
       "      <th>1</th>\n",
       "      <td>1</td>\n",
       "      <td>357</td>\n",
       "      <td>105343</td>\n",
       "      <td>서울 웨스틴조선호텔 (The Westin Chosun Seoul)</td>\n",
       "      <td>family</td>\n",
       "      <td>1박 가족 여행</td>\n",
       "      <td>2019년 2월 4일</td>\n",
       "      <td>10.0</td>\n",
       "      <td>웨스틴조선은 모든면에서 최고의 숙소라고 생각합니다 분위기 편의성 직원친절도까지 모두...</td>\n",
       "      <td>True</td>\n",
       "    </tr>\n",
       "    <tr>\n",
       "      <th>2</th>\n",
       "      <td>2</td>\n",
       "      <td>358</td>\n",
       "      <td>105343</td>\n",
       "      <td>서울 웨스틴조선호텔 (The Westin Chosun Seoul)</td>\n",
       "      <td>other</td>\n",
       "      <td>2박 여행</td>\n",
       "      <td>2019년 2월 2일</td>\n",
       "      <td>10.0</td>\n",
       "      <td>서울시내에서 호캉스를 누릴 수 있는 곳아침 뷔페가 맛있는 곳룸서비스가 좋았음요구사항...</td>\n",
       "      <td>True</td>\n",
       "    </tr>\n",
       "    <tr>\n",
       "      <th>3</th>\n",
       "      <td>3</td>\n",
       "      <td>359</td>\n",
       "      <td>105343</td>\n",
       "      <td>서울 웨스틴조선호텔 (The Westin Chosun Seoul)</td>\n",
       "      <td>romance</td>\n",
       "      <td>1박 로맨틱 여행</td>\n",
       "      <td>2019년 1월 26일</td>\n",
       "      <td>10.0</td>\n",
       "      <td>가격에 맞게 만족했습니다</td>\n",
       "      <td>True</td>\n",
       "    </tr>\n",
       "    <tr>\n",
       "      <th>4</th>\n",
       "      <td>4</td>\n",
       "      <td>360</td>\n",
       "      <td>105343</td>\n",
       "      <td>서울 웨스틴조선호텔 (The Westin Chosun Seoul)</td>\n",
       "      <td>with-friends</td>\n",
       "      <td>친구와 1박 여행</td>\n",
       "      <td>2019년 1월 25일</td>\n",
       "      <td>10.0</td>\n",
       "      <td>처음 세명으로 셋팅 되어있지 않은점 빼고는 직원들의 친절도 및 서비스는 모두 맘에 ...</td>\n",
       "      <td>True</td>\n",
       "    </tr>\n",
       "    <tr>\n",
       "      <th>...</th>\n",
       "      <td>...</td>\n",
       "      <td>...</td>\n",
       "      <td>...</td>\n",
       "      <td>...</td>\n",
       "      <td>...</td>\n",
       "      <td>...</td>\n",
       "      <td>...</td>\n",
       "      <td>...</td>\n",
       "      <td>...</td>\n",
       "      <td>...</td>\n",
       "    </tr>\n",
       "    <tr>\n",
       "      <th>74995</th>\n",
       "      <td>74995</td>\n",
       "      <td>223914</td>\n",
       "      <td>798937728</td>\n",
       "      <td>씨 크루즈 호텔 (Sea Cruise Hotel)</td>\n",
       "      <td>romance</td>\n",
       "      <td>1박 로맨틱 여행</td>\n",
       "      <td>2019년 8월 17일</td>\n",
       "      <td>10.0</td>\n",
       "      <td>조식과 스탠더드 하프전망 신청해서  1박 했는데요ᆢ너무 좋아요ᆢ다만 가격이 좀 나가...</td>\n",
       "      <td>True</td>\n",
       "    </tr>\n",
       "    <tr>\n",
       "      <th>74996</th>\n",
       "      <td>74996</td>\n",
       "      <td>223915</td>\n",
       "      <td>798937728</td>\n",
       "      <td>씨 크루즈 호텔 (Sea Cruise Hotel)</td>\n",
       "      <td>romance</td>\n",
       "      <td>2박 로맨틱 여행</td>\n",
       "      <td>2018년 11월 30일</td>\n",
       "      <td>8.0</td>\n",
       "      <td>객실은 깔끔하고 에메니티도 딱 필요한만큼 있었습니다 5분거리에 중앙시장이 있어 쇼핑...</td>\n",
       "      <td>True</td>\n",
       "    </tr>\n",
       "    <tr>\n",
       "      <th>74997</th>\n",
       "      <td>74997</td>\n",
       "      <td>223916</td>\n",
       "      <td>798937728</td>\n",
       "      <td>씨 크루즈 호텔 (Sea Cruise Hotel)</td>\n",
       "      <td>family</td>\n",
       "      <td>1박 가족 여행</td>\n",
       "      <td>2019년 12월 4일</td>\n",
       "      <td>8.0</td>\n",
       "      <td>배드가 좋고 조용해서 좋았습니다찬바람이 좀 들어와서 난방기를 12시간 정도 돌려야 ...</td>\n",
       "      <td>True</td>\n",
       "    </tr>\n",
       "    <tr>\n",
       "      <th>74998</th>\n",
       "      <td>74998</td>\n",
       "      <td>223917</td>\n",
       "      <td>798937728</td>\n",
       "      <td>씨 크루즈 호텔 (Sea Cruise Hotel)</td>\n",
       "      <td>other</td>\n",
       "      <td>1박 여행</td>\n",
       "      <td>2019년 5월 2일</td>\n",
       "      <td>8.0</td>\n",
       "      <td>우선 위치가 너무 좋았고 숙소에 짐을 놓고 걸어서 주변 가볼곳도 있고 먹거리도 맛있...</td>\n",
       "      <td>True</td>\n",
       "    </tr>\n",
       "    <tr>\n",
       "      <th>74999</th>\n",
       "      <td>74999</td>\n",
       "      <td>223918</td>\n",
       "      <td>798937728</td>\n",
       "      <td>씨 크루즈 호텔 (Sea Cruise Hotel)</td>\n",
       "      <td>other</td>\n",
       "      <td>1박 여행</td>\n",
       "      <td>2019년 5월 4일</td>\n",
       "      <td>6.0</td>\n",
       "      <td>주차장이 부족해서 다른데에 주차했는데 아침에 이동해달라는 전화가 와서 다소 불쾌했슴...</td>\n",
       "      <td>True</td>\n",
       "    </tr>\n",
       "  </tbody>\n",
       "</table>\n",
       "<p>75000 rows × 10 columns</p>\n",
       "</div>"
      ],
      "text/plain": [
       "       Unnamed: 0.1  Unnamed: 0    hotelId  \\\n",
       "0                 0         356     105343   \n",
       "1                 1         357     105343   \n",
       "2                 2         358     105343   \n",
       "3                 3         359     105343   \n",
       "4                 4         360     105343   \n",
       "...             ...         ...        ...   \n",
       "74995         74995      223914  798937728   \n",
       "74996         74996      223915  798937728   \n",
       "74997         74997      223916  798937728   \n",
       "74998         74998      223917  798937728   \n",
       "74999         74999      223918  798937728   \n",
       "\n",
       "                                  hotelName      tripType tripTypeText  \\\n",
       "0      서울 웨스틴조선호텔 (The Westin Chosun Seoul)        family     1박 가족 여행   \n",
       "1      서울 웨스틴조선호텔 (The Westin Chosun Seoul)        family     1박 가족 여행   \n",
       "2      서울 웨스틴조선호텔 (The Westin Chosun Seoul)         other        2박 여행   \n",
       "3      서울 웨스틴조선호텔 (The Westin Chosun Seoul)       romance    1박 로맨틱 여행   \n",
       "4      서울 웨스틴조선호텔 (The Westin Chosun Seoul)  with-friends    친구와 1박 여행   \n",
       "...                                     ...           ...          ...   \n",
       "74995           씨 크루즈 호텔 (Sea Cruise Hotel)       romance    1박 로맨틱 여행   \n",
       "74996           씨 크루즈 호텔 (Sea Cruise Hotel)       romance    2박 로맨틱 여행   \n",
       "74997           씨 크루즈 호텔 (Sea Cruise Hotel)        family     1박 가족 여행   \n",
       "74998           씨 크루즈 호텔 (Sea Cruise Hotel)         other        1박 여행   \n",
       "74999           씨 크루즈 호텔 (Sea Cruise Hotel)         other        1박 여행   \n",
       "\n",
       "          reviewDate  rating  \\\n",
       "0       2019년 1월 26일    10.0   \n",
       "1        2019년 2월 4일    10.0   \n",
       "2        2019년 2월 2일    10.0   \n",
       "3       2019년 1월 26일    10.0   \n",
       "4       2019년 1월 25일    10.0   \n",
       "...              ...     ...   \n",
       "74995   2019년 8월 17일    10.0   \n",
       "74996  2018년 11월 30일     8.0   \n",
       "74997   2019년 12월 4일     8.0   \n",
       "74998    2019년 5월 2일     8.0   \n",
       "74999    2019년 5월 4일     6.0   \n",
       "\n",
       "                                             description  isKorNot  \n",
       "0      직원들 서비스나 마인드 완벽합니다 다만 노후된 시설과 좁은 라운지가 호텔 이름에 비...      True  \n",
       "1      웨스틴조선은 모든면에서 최고의 숙소라고 생각합니다 분위기 편의성 직원친절도까지 모두...      True  \n",
       "2      서울시내에서 호캉스를 누릴 수 있는 곳아침 뷔페가 맛있는 곳룸서비스가 좋았음요구사항...      True  \n",
       "3                                          가격에 맞게 만족했습니다      True  \n",
       "4      처음 세명으로 셋팅 되어있지 않은점 빼고는 직원들의 친절도 및 서비스는 모두 맘에 ...      True  \n",
       "...                                                  ...       ...  \n",
       "74995  조식과 스탠더드 하프전망 신청해서  1박 했는데요ᆢ너무 좋아요ᆢ다만 가격이 좀 나가...      True  \n",
       "74996  객실은 깔끔하고 에메니티도 딱 필요한만큼 있었습니다 5분거리에 중앙시장이 있어 쇼핑...      True  \n",
       "74997  배드가 좋고 조용해서 좋았습니다찬바람이 좀 들어와서 난방기를 12시간 정도 돌려야 ...      True  \n",
       "74998  우선 위치가 너무 좋았고 숙소에 짐을 놓고 걸어서 주변 가볼곳도 있고 먹거리도 맛있...      True  \n",
       "74999  주차장이 부족해서 다른데에 주차했는데 아침에 이동해달라는 전화가 와서 다소 불쾌했슴...      True  \n",
       "\n",
       "[75000 rows x 10 columns]"
      ]
     },
     "execution_count": 4,
     "metadata": {},
     "output_type": "execute_result"
    }
   ],
   "source": [
    "data"
   ]
  },
  {
   "cell_type": "code",
   "execution_count": 5,
   "id": "f2e04ee6",
   "metadata": {},
   "outputs": [],
   "source": [
    "stopwords = pd.read_csv('./data/한국어불용어100.txt', header=None)"
   ]
  },
  {
   "cell_type": "code",
   "execution_count": 6,
   "id": "a2ce92d9",
   "metadata": {},
   "outputs": [
    {
     "data": {
      "text/html": [
       "<div>\n",
       "<style scoped>\n",
       "    .dataframe tbody tr th:only-of-type {\n",
       "        vertical-align: middle;\n",
       "    }\n",
       "\n",
       "    .dataframe tbody tr th {\n",
       "        vertical-align: top;\n",
       "    }\n",
       "\n",
       "    .dataframe thead th {\n",
       "        text-align: right;\n",
       "    }\n",
       "</style>\n",
       "<table border=\"1\" class=\"dataframe\">\n",
       "  <thead>\n",
       "    <tr style=\"text-align: right;\">\n",
       "      <th></th>\n",
       "      <th>0</th>\n",
       "    </tr>\n",
       "  </thead>\n",
       "  <tbody>\n",
       "    <tr>\n",
       "      <th>0</th>\n",
       "      <td>이</td>\n",
       "    </tr>\n",
       "    <tr>\n",
       "      <th>1</th>\n",
       "      <td>있</td>\n",
       "    </tr>\n",
       "    <tr>\n",
       "      <th>2</th>\n",
       "      <td>하</td>\n",
       "    </tr>\n",
       "    <tr>\n",
       "      <th>3</th>\n",
       "      <td>것</td>\n",
       "    </tr>\n",
       "    <tr>\n",
       "      <th>4</th>\n",
       "      <td>들</td>\n",
       "    </tr>\n",
       "  </tbody>\n",
       "</table>\n",
       "</div>"
      ],
      "text/plain": [
       "   0\n",
       "0  이\n",
       "1  있\n",
       "2  하\n",
       "3  것\n",
       "4  들"
      ]
     },
     "execution_count": 6,
     "metadata": {},
     "output_type": "execute_result"
    }
   ],
   "source": [
    "stopwords.head()"
   ]
  },
  {
   "cell_type": "code",
   "execution_count": 7,
   "id": "42d1c8ed",
   "metadata": {},
   "outputs": [
    {
     "name": "stdout",
     "output_type": "stream",
     "text": [
      "<class 'pandas.core.frame.DataFrame'>\n",
      "RangeIndex: 75000 entries, 0 to 74999\n",
      "Data columns (total 10 columns):\n",
      " #   Column        Non-Null Count  Dtype  \n",
      "---  ------        --------------  -----  \n",
      " 0   Unnamed: 0.1  75000 non-null  int64  \n",
      " 1   Unnamed: 0    75000 non-null  int64  \n",
      " 2   hotelId       75000 non-null  int64  \n",
      " 3   hotelName     75000 non-null  object \n",
      " 4   tripType      75000 non-null  object \n",
      " 5   tripTypeText  75000 non-null  object \n",
      " 6   reviewDate    75000 non-null  object \n",
      " 7   rating        75000 non-null  float64\n",
      " 8   description   75000 non-null  object \n",
      " 9   isKorNot      75000 non-null  bool   \n",
      "dtypes: bool(1), float64(1), int64(3), object(5)\n",
      "memory usage: 5.2+ MB\n"
     ]
    }
   ],
   "source": [
    "data.info()"
   ]
  },
  {
   "cell_type": "code",
   "execution_count": 8,
   "id": "b334af3c",
   "metadata": {},
   "outputs": [
    {
     "data": {
      "text/plain": [
       "Index(['Unnamed: 0.1', 'Unnamed: 0', 'hotelId', 'hotelName', 'tripType',\n",
       "       'tripTypeText', 'reviewDate', 'rating', 'description', 'isKorNot'],\n",
       "      dtype='object')"
      ]
     },
     "execution_count": 8,
     "metadata": {},
     "output_type": "execute_result"
    }
   ],
   "source": [
    "data.columns"
   ]
  },
  {
   "cell_type": "code",
   "execution_count": 9,
   "id": "0906f0c1",
   "metadata": {},
   "outputs": [],
   "source": [
    "data = data[['rating', 'description']]"
   ]
  },
  {
   "cell_type": "code",
   "execution_count": 10,
   "id": "12e0fe59",
   "metadata": {},
   "outputs": [
    {
     "data": {
      "text/html": [
       "<div>\n",
       "<style scoped>\n",
       "    .dataframe tbody tr th:only-of-type {\n",
       "        vertical-align: middle;\n",
       "    }\n",
       "\n",
       "    .dataframe tbody tr th {\n",
       "        vertical-align: top;\n",
       "    }\n",
       "\n",
       "    .dataframe thead th {\n",
       "        text-align: right;\n",
       "    }\n",
       "</style>\n",
       "<table border=\"1\" class=\"dataframe\">\n",
       "  <thead>\n",
       "    <tr style=\"text-align: right;\">\n",
       "      <th></th>\n",
       "      <th>rating</th>\n",
       "      <th>description</th>\n",
       "    </tr>\n",
       "  </thead>\n",
       "  <tbody>\n",
       "    <tr>\n",
       "      <th>0</th>\n",
       "      <td>10.0</td>\n",
       "      <td>직원들 서비스나 마인드 완벽합니다 다만 노후된 시설과 좁은 라운지가 호텔 이름에 비...</td>\n",
       "    </tr>\n",
       "    <tr>\n",
       "      <th>1</th>\n",
       "      <td>10.0</td>\n",
       "      <td>웨스틴조선은 모든면에서 최고의 숙소라고 생각합니다 분위기 편의성 직원친절도까지 모두...</td>\n",
       "    </tr>\n",
       "    <tr>\n",
       "      <th>2</th>\n",
       "      <td>10.0</td>\n",
       "      <td>서울시내에서 호캉스를 누릴 수 있는 곳아침 뷔페가 맛있는 곳룸서비스가 좋았음요구사항...</td>\n",
       "    </tr>\n",
       "    <tr>\n",
       "      <th>3</th>\n",
       "      <td>10.0</td>\n",
       "      <td>가격에 맞게 만족했습니다</td>\n",
       "    </tr>\n",
       "    <tr>\n",
       "      <th>4</th>\n",
       "      <td>10.0</td>\n",
       "      <td>처음 세명으로 셋팅 되어있지 않은점 빼고는 직원들의 친절도 및 서비스는 모두 맘에 ...</td>\n",
       "    </tr>\n",
       "  </tbody>\n",
       "</table>\n",
       "</div>"
      ],
      "text/plain": [
       "   rating                                        description\n",
       "0    10.0  직원들 서비스나 마인드 완벽합니다 다만 노후된 시설과 좁은 라운지가 호텔 이름에 비...\n",
       "1    10.0  웨스틴조선은 모든면에서 최고의 숙소라고 생각합니다 분위기 편의성 직원친절도까지 모두...\n",
       "2    10.0  서울시내에서 호캉스를 누릴 수 있는 곳아침 뷔페가 맛있는 곳룸서비스가 좋았음요구사항...\n",
       "3    10.0                                      가격에 맞게 만족했습니다\n",
       "4    10.0  처음 세명으로 셋팅 되어있지 않은점 빼고는 직원들의 친절도 및 서비스는 모두 맘에 ..."
      ]
     },
     "execution_count": 10,
     "metadata": {},
     "output_type": "execute_result"
    }
   ],
   "source": [
    "data.head()"
   ]
  },
  {
   "cell_type": "code",
   "execution_count": null,
   "id": "b288528d",
   "metadata": {},
   "outputs": [],
   "source": []
  },
  {
   "cell_type": "code",
   "execution_count": 11,
   "id": "0dd9242d",
   "metadata": {},
   "outputs": [
    {
     "data": {
      "text/plain": [
       "0        직원들 서비스나 마인드 완벽합니다 다만 노후된 시설과 좁은 라운지가 호텔 이름에 비...\n",
       "1        웨스틴조선은 모든면에서 최고의 숙소라고 생각합니다 분위기 편의성 직원친절도까지 모두...\n",
       "2        서울시내에서 호캉스를 누릴 수 있는 곳아침 뷔페가 맛있는 곳룸서비스가 좋았음요구사항...\n",
       "3                                            가격에 맞게 만족했습니다\n",
       "4        처음 세명으로 셋팅 되어있지 않은점 빼고는 직원들의 친절도 및 서비스는 모두 맘에 ...\n",
       "                               ...                        \n",
       "74995    조식과 스탠더드 하프전망 신청해서  1박 했는데요ᆢ너무 좋아요ᆢ다만 가격이 좀 나가...\n",
       "74996    객실은 깔끔하고 에메니티도 딱 필요한만큼 있었습니다 5분거리에 중앙시장이 있어 쇼핑...\n",
       "74997    배드가 좋고 조용해서 좋았습니다찬바람이 좀 들어와서 난방기를 12시간 정도 돌려야 ...\n",
       "74998    우선 위치가 너무 좋았고 숙소에 짐을 놓고 걸어서 주변 가볼곳도 있고 먹거리도 맛있...\n",
       "74999    주차장이 부족해서 다른데에 주차했는데 아침에 이동해달라는 전화가 와서 다소 불쾌했슴...\n",
       "Name: description, Length: 75000, dtype: object"
      ]
     },
     "execution_count": 11,
     "metadata": {},
     "output_type": "execute_result"
    }
   ],
   "source": [
    "data['description']"
   ]
  },
  {
   "cell_type": "code",
   "execution_count": 12,
   "id": "5275cab2",
   "metadata": {},
   "outputs": [
    {
     "data": {
      "text/plain": [
       "'시설도 깨끗하고 좋았습니다 특히 사정이 있어 저녁시간에 와인을 마시러 못갔었는데 들어와보니 와인과 과일이 있어서 놀랐습니다 사소한것 하나하나 신경써주셔서 감사합니다'"
      ]
     },
     "execution_count": 12,
     "metadata": {},
     "output_type": "execute_result"
    }
   ],
   "source": [
    "data['description'][50]"
   ]
  },
  {
   "cell_type": "code",
   "execution_count": 13,
   "id": "61850c63",
   "metadata": {
    "scrolled": false
   },
   "outputs": [
    {
     "data": {
      "text/plain": [
       "rating\n",
       "10.0    34103\n",
       "8.0     24283\n",
       "6.0      8877\n",
       "4.0      4278\n",
       "2.0      3459\n",
       "Name: count, dtype: int64"
      ]
     },
     "execution_count": 13,
     "metadata": {},
     "output_type": "execute_result"
    }
   ],
   "source": [
    "data['rating'].value_counts()"
   ]
  },
  {
   "cell_type": "code",
   "execution_count": 14,
   "id": "fc44cab3",
   "metadata": {},
   "outputs": [
    {
     "data": {
      "text/plain": [
       "<Axes: xlabel='rating', ylabel='Count'>"
      ]
     },
     "execution_count": 14,
     "metadata": {},
     "output_type": "execute_result"
    },
    {
     "data": {
      "image/png": "[encoded data removed]",
      "text/plain": [
       "<Figure size 640x480 with 1 Axes>"
      ]
     },
     "metadata": {},
     "output_type": "display_data"
    }
   ],
   "source": [
    "sns.histplot(data['rating'])"
   ]
  },
  {
   "cell_type": "code",
   "execution_count": 15,
   "id": "84a46a57",
   "metadata": {
    "scrolled": true
   },
   "outputs": [
    {
     "data": {
      "text/html": [
       "<div>\n",
       "<style scoped>\n",
       "    .dataframe tbody tr th:only-of-type {\n",
       "        vertical-align: middle;\n",
       "    }\n",
       "\n",
       "    .dataframe tbody tr th {\n",
       "        vertical-align: top;\n",
       "    }\n",
       "\n",
       "    .dataframe thead th {\n",
       "        text-align: right;\n",
       "    }\n",
       "</style>\n",
       "<table border=\"1\" class=\"dataframe\">\n",
       "  <thead>\n",
       "    <tr style=\"text-align: right;\">\n",
       "      <th></th>\n",
       "      <th>rating</th>\n",
       "      <th>description</th>\n",
       "    </tr>\n",
       "  </thead>\n",
       "  <tbody>\n",
       "    <tr>\n",
       "      <th>13</th>\n",
       "      <td>8.0</td>\n",
       "      <td>주니어스위트로 더블싱글침대가 있어 모두 편히 잠을 잘 수있었습니다 바로 시청앞 스케...</td>\n",
       "    </tr>\n",
       "    <tr>\n",
       "      <th>18</th>\n",
       "      <td>8.0</td>\n",
       "      <td>직원 친절하고 시설 좋았음</td>\n",
       "    </tr>\n",
       "    <tr>\n",
       "      <th>21</th>\n",
       "      <td>8.0</td>\n",
       "      <td>조선호텔은 처음 숙박하는데 듣던대로 직원분들의 서비스는 좋았습니다 연휴라 사람이 많...</td>\n",
       "    </tr>\n",
       "    <tr>\n",
       "      <th>33</th>\n",
       "      <td>8.0</td>\n",
       "      <td>인테리어는 오래된 호텔이라 특별히 좋거나 세련되지는 않았지만 스위트룸 객실이 다른 ...</td>\n",
       "    </tr>\n",
       "    <tr>\n",
       "      <th>37</th>\n",
       "      <td>8.0</td>\n",
       "      <td>따뜻한 느낌의 서비스</td>\n",
       "    </tr>\n",
       "    <tr>\n",
       "      <th>...</th>\n",
       "      <td>...</td>\n",
       "      <td>...</td>\n",
       "    </tr>\n",
       "    <tr>\n",
       "      <th>74989</th>\n",
       "      <td>8.0</td>\n",
       "      <td>설악산이근처에있고 작지만시설도 괜찮았고 만족한여행이었습니다</td>\n",
       "    </tr>\n",
       "    <tr>\n",
       "      <th>74993</th>\n",
       "      <td>8.0</td>\n",
       "      <td>ㆍ새로 지은 호텔이라 전반적 상태는 좋아요ㆍ옆에 고층건물이 올라와서 오션뷰는 오션뷰...</td>\n",
       "    </tr>\n",
       "    <tr>\n",
       "      <th>74996</th>\n",
       "      <td>8.0</td>\n",
       "      <td>객실은 깔끔하고 에메니티도 딱 필요한만큼 있었습니다 5분거리에 중앙시장이 있어 쇼핑...</td>\n",
       "    </tr>\n",
       "    <tr>\n",
       "      <th>74997</th>\n",
       "      <td>8.0</td>\n",
       "      <td>배드가 좋고 조용해서 좋았습니다찬바람이 좀 들어와서 난방기를 12시간 정도 돌려야 ...</td>\n",
       "    </tr>\n",
       "    <tr>\n",
       "      <th>74998</th>\n",
       "      <td>8.0</td>\n",
       "      <td>우선 위치가 너무 좋았고 숙소에 짐을 놓고 걸어서 주변 가볼곳도 있고 먹거리도 맛있...</td>\n",
       "    </tr>\n",
       "  </tbody>\n",
       "</table>\n",
       "<p>24283 rows × 2 columns</p>\n",
       "</div>"
      ],
      "text/plain": [
       "       rating                                        description\n",
       "13        8.0  주니어스위트로 더블싱글침대가 있어 모두 편히 잠을 잘 수있었습니다 바로 시청앞 스케...\n",
       "18        8.0                                     직원 친절하고 시설 좋았음\n",
       "21        8.0  조선호텔은 처음 숙박하는데 듣던대로 직원분들의 서비스는 좋았습니다 연휴라 사람이 많...\n",
       "33        8.0  인테리어는 오래된 호텔이라 특별히 좋거나 세련되지는 않았지만 스위트룸 객실이 다른 ...\n",
       "37        8.0                                        따뜻한 느낌의 서비스\n",
       "...       ...                                                ...\n",
       "74989     8.0                   설악산이근처에있고 작지만시설도 괜찮았고 만족한여행이었습니다\n",
       "74993     8.0  ㆍ새로 지은 호텔이라 전반적 상태는 좋아요ㆍ옆에 고층건물이 올라와서 오션뷰는 오션뷰...\n",
       "74996     8.0  객실은 깔끔하고 에메니티도 딱 필요한만큼 있었습니다 5분거리에 중앙시장이 있어 쇼핑...\n",
       "74997     8.0  배드가 좋고 조용해서 좋았습니다찬바람이 좀 들어와서 난방기를 12시간 정도 돌려야 ...\n",
       "74998     8.0  우선 위치가 너무 좋았고 숙소에 짐을 놓고 걸어서 주변 가볼곳도 있고 먹거리도 맛있...\n",
       "\n",
       "[24283 rows x 2 columns]"
      ]
     },
     "execution_count": 15,
     "metadata": {},
     "output_type": "execute_result"
    }
   ],
   "source": [
    "data[data['rating'] == 8.0]"
   ]
  },
  {
   "cell_type": "code",
   "execution_count": 16,
   "id": "f2ffde31",
   "metadata": {},
   "outputs": [
    {
     "data": {
      "text/plain": [
       "'4번째 이 호텔을 방문하는 것이었습니다 예전에 너무 좋아하는 호텔이었는데 이번엔 실망이 컸습니다주변이 너무 시끄럽습니다 호텔 바로 앞에서 시위하는 사람들이 있는데 아침 640에도 확성기 소리가 나서 깨었습니다 게다가 주말에 시청 근처에서 시위가 많아서 오후엔 낮잠을 잘 수 없을 정도입니다 예약할 때 이러한 소음이 존재한다는 것을 알았으면 절대 가지 않았을 겁니다executive로의 업그레이드에 대한 공지가 예약할 때 제대로 이뤄어지지 않아 막상 체크인 당일에 하려고 하니 인원이 찼다고 거절당했습니다 식구들이 이 호텔 사우나를 좋아해서 예약했는데 사우나 사용시 추가 요금이 부담스러운 가격입니다 시청 앞 시위 그리고 호텔 앞에서 매일 일어나는 시위가 잠잠해질 때까지 예약하는 것을 신중하게 고려하세요'"
      ]
     },
     "execution_count": 16,
     "metadata": {},
     "output_type": "execute_result"
    }
   ],
   "source": [
    "list(data.loc[data['rating']==6, 'description'])[0]"
   ]
  },
  {
   "cell_type": "code",
   "execution_count": 17,
   "id": "1e63465c",
   "metadata": {},
   "outputs": [
    {
     "data": {
      "text/plain": [
       "30       4번째 이 호텔을 방문하는 것이었습니다 예전에 너무 좋아하는 호텔이었는데 이번엔 실...\n",
       "35                                   서비스 친절도가 프로답지않은 느낌입니다\n",
       "51       친절하고 서비스는 좋았음청결도는 문제가 있어 보임 화장실 바닥 버석거림 욕조 내부 ...\n",
       "79       일단 5성급 호텔이라 깨끗하지만 몇가지 단점이 있음115시 체크인 시간을 너무 무리...\n",
       "89              깨끗했지만 화장실 욕조 옆에 물이 잘 안빠져서 불편했어요그 외에는 좋았습니다\n",
       "                               ...                        \n",
       "74975    주변도   시내가  가까워  좋고로비에  커피솦도  있어  좋고아침식사도  좋고  ...\n",
       "74982                          별로였습니다그냥 비지니스 호텔 같은 느낌이었습니다\n",
       "74990    방이 생각보다 작아서 놀랐음성수기이긴 했지만 2박에 30만원 넘는 숙소를 구했는데조...\n",
       "74992    우선수건이 비치가 안되어있음수건이 없다는건 청소상태를 확인 안한듯주차구역이  적음 ...\n",
       "74999    주차장이 부족해서 다른데에 주차했는데 아침에 이동해달라는 전화가 와서 다소 불쾌했슴...\n",
       "Name: description, Length: 8877, dtype: object"
      ]
     },
     "execution_count": 17,
     "metadata": {},
     "output_type": "execute_result"
    }
   ],
   "source": [
    "data[data['rating'] == 6.0]['description']"
   ]
  },
  {
   "cell_type": "code",
   "execution_count": null,
   "id": "81db6ecb",
   "metadata": {},
   "outputs": [],
   "source": []
  },
  {
   "cell_type": "code",
   "execution_count": 18,
   "id": "0ecdfb7d",
   "metadata": {
    "scrolled": false
   },
   "outputs": [
    {
     "data": {
      "text/plain": [
       "13       주니어스위트로 더블싱글침대가 있어 모두 편히 잠을 잘 수있었습니다 바로 시청앞 스케...\n",
       "18                                          직원 친절하고 시설 좋았음\n",
       "21       조선호텔은 처음 숙박하는데 듣던대로 직원분들의 서비스는 좋았습니다 연휴라 사람이 많...\n",
       "33       인테리어는 오래된 호텔이라 특별히 좋거나 세련되지는 않았지만 스위트룸 객실이 다른 ...\n",
       "37                                             따뜻한 느낌의 서비스\n",
       "                               ...                        \n",
       "74989                     설악산이근처에있고 작지만시설도 괜찮았고 만족한여행이었습니다\n",
       "74993    ㆍ새로 지은 호텔이라 전반적 상태는 좋아요ㆍ옆에 고층건물이 올라와서 오션뷰는 오션뷰...\n",
       "74996    객실은 깔끔하고 에메니티도 딱 필요한만큼 있었습니다 5분거리에 중앙시장이 있어 쇼핑...\n",
       "74997    배드가 좋고 조용해서 좋았습니다찬바람이 좀 들어와서 난방기를 12시간 정도 돌려야 ...\n",
       "74998    우선 위치가 너무 좋았고 숙소에 짐을 놓고 걸어서 주변 가볼곳도 있고 먹거리도 맛있...\n",
       "Name: description, Length: 24283, dtype: object"
      ]
     },
     "execution_count": 18,
     "metadata": {},
     "output_type": "execute_result"
    }
   ],
   "source": [
    "data[data['rating'] == 8.0]['description']"
   ]
  },
  {
   "cell_type": "code",
   "execution_count": null,
   "id": "a5eb1b0e",
   "metadata": {},
   "outputs": [],
   "source": []
  },
  {
   "cell_type": "code",
   "execution_count": 19,
   "id": "e8d60427",
   "metadata": {
    "scrolled": false
   },
   "outputs": [
    {
     "name": "stdout",
     "output_type": "stream",
     "text": [
      "숙박은 좋았으나 사우나 비용이 너무 비싼 것 같습니다\n",
      "위치를 비롯해서 대부분 만족해요\n",
      "편하게 잘 쉬다가 왔습니다\n",
      "공기가 탁했어요 방에서도 조식시간이나 저녁시간에 음식 냄새가 들어오기도하고 먼가 공기가 쾌쾌한 것 같았어요 나머지는 서비스는 너무너무 괜찮았습니다\n",
      "청소를 좀 깔끔히 해주셨으면 합니다\n",
      "대체적으로 만족합니다 한가지채크인이몰려 대기시간이너무 길었습니다 개선이 필요해보입니다\n",
      "뷰는 앞에 큰건물이 막고있어서 별로였지만 쾌적했어요 직원분들이 하나같이 다들 친절했어요\n",
      "침대도 넘 편하고 방도 오래됬지만 깔끔했어요사우나도 깨끗하고 직원들도 친절하고 좋았어요다만 플레이트에 제공된 조식은 식어있는 것을 넘어 차가웠고 고기는 뻣뻣해서 아이가 거의 못먹었어요 라운지 음식보다도 못했어요\n",
      "가운에 얼룩있는거 빼고는 그냥 무난했어요조식 맛있고 애프터눈티에 마카롱 맛있어요\n",
      "조식이랑 바는 음식들이 별로에요 복잡하고 종류도없네요\n",
      "모든 직원들이 무척 친절합니다 호텔 자체가 오래되긴 했지만 객실은 깨끗합니다 조식 뷔페도 아주 굿굿\n",
      "체크인때 주차부터 모든 직원분들이 친절하셨고 쾌적하게 잘 지내고 왔습니다\n",
      "클래식한 경험이었습니다  거의 모든 면에서 만족스러웠습니다\n",
      "한국을 대표하는 호텔중 한 곳인데 지은지 오래되어 그런지 객실 내부와 화장실의 각종 시설물벽 문 문턱 창틀 등등이 낡은 느낌 리데코래이션이 필요함\n",
      "두 번째 이용인데 역시 깨끗하고 편안하고 너무 좋았어요 일단 위치너무 좋구요 수영장 아담하지만 채광이 좋아 아주 좋았어요\n",
      "깨끗하고 조용하게 잘 쉬다왔습니다\n",
      "친절해요 주변에 업무가 있어서 묵었는데향기와 그림이 있었으면 더 좋을 것 같아요 전체적으로 어두운데 향기도 없고 꽃도 미미하고 그림도 미미해서  라운지도 사무실에서 밥먹는 느낌 시각과 후각이 공간을 빛내야 대접받고 쉬는 느낌인데 그냥 잘 자다 왔어요 수영장 좋더라구요\n",
      "깨끗하고 방도 업그레이드 해주셔서 넘 좋았어요근데 사람이 너무 많아서 라운지에 줄이 너무 길고 붐벼서 체크인할때 체크아웃 할때도 시간이 오래 걸렸어요칵테일 아워 때도 라운지 줄이 복도 넘어까지 넘 길어서 2층에 마련된 임시 연회장으로 갔는데 거기서도 자리가 없어서 기다려야했습니다예약 받을때 인원 조금 여유있게 받으셨으면 좋았겠지만\n",
      "결혼기념일이라 방문 했는데 직원분들은 말할것도 없이 친절하셨습니다조식도 맛있게 먹었구요밤에 방음이 조금 안되어서 옆방 아이 소리가 많이들려서 조금 불편했지만 모두 다 좋았습니다\n",
      "방음이 살짝 안 됨 옆 방 소리나 복도 소리 등\n"
     ]
    }
   ],
   "source": [
    "for i in list(data.loc[data['rating']==8, 'description'])[10:30]:\n",
    "    print(i)"
   ]
  },
  {
   "cell_type": "code",
   "execution_count": 20,
   "id": "7d4d638b",
   "metadata": {
    "scrolled": true
   },
   "outputs": [],
   "source": [
    "data['isgood'] = data['rating'].apply(lambda x : 1 if x >= 8 else 0)"
   ]
  },
  {
   "cell_type": "code",
   "execution_count": 21,
   "id": "f5e54229",
   "metadata": {},
   "outputs": [
    {
     "data": {
      "text/html": [
       "<div>\n",
       "<style scoped>\n",
       "    .dataframe tbody tr th:only-of-type {\n",
       "        vertical-align: middle;\n",
       "    }\n",
       "\n",
       "    .dataframe tbody tr th {\n",
       "        vertical-align: top;\n",
       "    }\n",
       "\n",
       "    .dataframe thead th {\n",
       "        text-align: right;\n",
       "    }\n",
       "</style>\n",
       "<table border=\"1\" class=\"dataframe\">\n",
       "  <thead>\n",
       "    <tr style=\"text-align: right;\">\n",
       "      <th></th>\n",
       "      <th>rating</th>\n",
       "      <th>description</th>\n",
       "      <th>isgood</th>\n",
       "    </tr>\n",
       "  </thead>\n",
       "  <tbody>\n",
       "    <tr>\n",
       "      <th>0</th>\n",
       "      <td>10.0</td>\n",
       "      <td>직원들 서비스나 마인드 완벽합니다 다만 노후된 시설과 좁은 라운지가 호텔 이름에 비...</td>\n",
       "      <td>1</td>\n",
       "    </tr>\n",
       "    <tr>\n",
       "      <th>1</th>\n",
       "      <td>10.0</td>\n",
       "      <td>웨스틴조선은 모든면에서 최고의 숙소라고 생각합니다 분위기 편의성 직원친절도까지 모두...</td>\n",
       "      <td>1</td>\n",
       "    </tr>\n",
       "    <tr>\n",
       "      <th>2</th>\n",
       "      <td>10.0</td>\n",
       "      <td>서울시내에서 호캉스를 누릴 수 있는 곳아침 뷔페가 맛있는 곳룸서비스가 좋았음요구사항...</td>\n",
       "      <td>1</td>\n",
       "    </tr>\n",
       "    <tr>\n",
       "      <th>3</th>\n",
       "      <td>10.0</td>\n",
       "      <td>가격에 맞게 만족했습니다</td>\n",
       "      <td>1</td>\n",
       "    </tr>\n",
       "    <tr>\n",
       "      <th>4</th>\n",
       "      <td>10.0</td>\n",
       "      <td>처음 세명으로 셋팅 되어있지 않은점 빼고는 직원들의 친절도 및 서비스는 모두 맘에 ...</td>\n",
       "      <td>1</td>\n",
       "    </tr>\n",
       "  </tbody>\n",
       "</table>\n",
       "</div>"
      ],
      "text/plain": [
       "   rating                                        description  isgood\n",
       "0    10.0  직원들 서비스나 마인드 완벽합니다 다만 노후된 시설과 좁은 라운지가 호텔 이름에 비...       1\n",
       "1    10.0  웨스틴조선은 모든면에서 최고의 숙소라고 생각합니다 분위기 편의성 직원친절도까지 모두...       1\n",
       "2    10.0  서울시내에서 호캉스를 누릴 수 있는 곳아침 뷔페가 맛있는 곳룸서비스가 좋았음요구사항...       1\n",
       "3    10.0                                      가격에 맞게 만족했습니다       1\n",
       "4    10.0  처음 세명으로 셋팅 되어있지 않은점 빼고는 직원들의 친절도 및 서비스는 모두 맘에 ...       1"
      ]
     },
     "execution_count": 21,
     "metadata": {},
     "output_type": "execute_result"
    }
   ],
   "source": [
    "data.head()"
   ]
  },
  {
   "cell_type": "code",
   "execution_count": null,
   "id": "b135d3d3",
   "metadata": {},
   "outputs": [],
   "source": []
  },
  {
   "cell_type": "code",
   "execution_count": null,
   "id": "a361e652",
   "metadata": {},
   "outputs": [],
   "source": []
  },
  {
   "cell_type": "markdown",
   "id": "66b31118",
   "metadata": {},
   "source": [
    "# Konlpy의 Mecab을 이용해 형태소 분리"
   ]
  },
  {
   "cell_type": "code",
   "execution_count": 22,
   "id": "fd8205b8",
   "metadata": {},
   "outputs": [],
   "source": [
    "from konlpy.tag import Mecab\n",
    "mecab = Mecab()"
   ]
  },
  {
   "cell_type": "code",
   "execution_count": 23,
   "id": "788b1050",
   "metadata": {
    "scrolled": false
   },
   "outputs": [],
   "source": [
    "data['description2'] = data['description'].apply(lambda x : mecab.nouns(x))"
   ]
  },
  {
   "cell_type": "code",
   "execution_count": 24,
   "id": "f5424fec",
   "metadata": {},
   "outputs": [
    {
     "data": {
      "text/html": [
       "<div>\n",
       "<style scoped>\n",
       "    .dataframe tbody tr th:only-of-type {\n",
       "        vertical-align: middle;\n",
       "    }\n",
       "\n",
       "    .dataframe tbody tr th {\n",
       "        vertical-align: top;\n",
       "    }\n",
       "\n",
       "    .dataframe thead th {\n",
       "        text-align: right;\n",
       "    }\n",
       "</style>\n",
       "<table border=\"1\" class=\"dataframe\">\n",
       "  <thead>\n",
       "    <tr style=\"text-align: right;\">\n",
       "      <th></th>\n",
       "      <th>rating</th>\n",
       "      <th>description</th>\n",
       "      <th>isgood</th>\n",
       "      <th>description2</th>\n",
       "    </tr>\n",
       "  </thead>\n",
       "  <tbody>\n",
       "    <tr>\n",
       "      <th>0</th>\n",
       "      <td>10.0</td>\n",
       "      <td>직원들 서비스나 마인드 완벽합니다 다만 노후된 시설과 좁은 라운지가 호텔 이름에 비...</td>\n",
       "      <td>1</td>\n",
       "      <td>[직원, 서비스, 마인드, 완벽, 노후, 시설, 라운지, 호텔, 이름, 부족]</td>\n",
       "    </tr>\n",
       "    <tr>\n",
       "      <th>1</th>\n",
       "      <td>10.0</td>\n",
       "      <td>웨스틴조선은 모든면에서 최고의 숙소라고 생각합니다 분위기 편의성 직원친절도까지 모두...</td>\n",
       "      <td>1</td>\n",
       "      <td>[웨스틴, 조선, 면, 최고, 숙소, 생각, 분위기, 편의, 직원, 친절, 인상]</td>\n",
       "    </tr>\n",
       "    <tr>\n",
       "      <th>2</th>\n",
       "      <td>10.0</td>\n",
       "      <td>서울시내에서 호캉스를 누릴 수 있는 곳아침 뷔페가 맛있는 곳룸서비스가 좋았음요구사항...</td>\n",
       "      <td>1</td>\n",
       "      <td>[서울, 시내, 호, 수, 곳, 아침, 뷔페, 곳, 룸서비스, 요구, 사항, 응대,...</td>\n",
       "    </tr>\n",
       "    <tr>\n",
       "      <th>3</th>\n",
       "      <td>10.0</td>\n",
       "      <td>가격에 맞게 만족했습니다</td>\n",
       "      <td>1</td>\n",
       "      <td>[가격, 만족]</td>\n",
       "    </tr>\n",
       "    <tr>\n",
       "      <th>4</th>\n",
       "      <td>10.0</td>\n",
       "      <td>처음 세명으로 셋팅 되어있지 않은점 빼고는 직원들의 친절도 및 서비스는 모두 맘에 ...</td>\n",
       "      <td>1</td>\n",
       "      <td>[처음, 명, 셋, 점, 직원, 친절, 서비스, 맘, 시설, 불편, 추가, 커피, ...</td>\n",
       "    </tr>\n",
       "    <tr>\n",
       "      <th>...</th>\n",
       "      <td>...</td>\n",
       "      <td>...</td>\n",
       "      <td>...</td>\n",
       "      <td>...</td>\n",
       "    </tr>\n",
       "    <tr>\n",
       "      <th>74995</th>\n",
       "      <td>10.0</td>\n",
       "      <td>조식과 스탠더드 하프전망 신청해서  1박 했는데요ᆢ너무 좋아요ᆢ다만 가격이 좀 나가...</td>\n",
       "      <td>1</td>\n",
       "      <td>[조식, 스탠더드, 하프, 전망, 신청, 박, 가격, 앞, 건물, 전망, 차, 가격...</td>\n",
       "    </tr>\n",
       "    <tr>\n",
       "      <th>74996</th>\n",
       "      <td>8.0</td>\n",
       "      <td>객실은 깔끔하고 에메니티도 딱 필요한만큼 있었습니다 5분거리에 중앙시장이 있어 쇼핑...</td>\n",
       "      <td>1</td>\n",
       "      <td>[객실, 에메, 니티, 필요, 만큼, 분, 거리, 중앙, 시장, 쇼핑]</td>\n",
       "    </tr>\n",
       "    <tr>\n",
       "      <th>74997</th>\n",
       "      <td>8.0</td>\n",
       "      <td>배드가 좋고 조용해서 좋았습니다찬바람이 좀 들어와서 난방기를 12시간 정도 돌려야 ...</td>\n",
       "      <td>1</td>\n",
       "      <td>[배드, 찬바람, 난방기, 시간, 정도]</td>\n",
       "    </tr>\n",
       "    <tr>\n",
       "      <th>74998</th>\n",
       "      <td>8.0</td>\n",
       "      <td>우선 위치가 너무 좋았고 숙소에 짐을 놓고 걸어서 주변 가볼곳도 있고 먹거리도 맛있...</td>\n",
       "      <td>1</td>\n",
       "      <td>[위치, 숙소, 짐, 주변, 곳, 먹거리, 곳, 바다, 전망, 굿]</td>\n",
       "    </tr>\n",
       "    <tr>\n",
       "      <th>74999</th>\n",
       "      <td>6.0</td>\n",
       "      <td>주차장이 부족해서 다른데에 주차했는데 아침에 이동해달라는 전화가 와서 다소 불쾌했슴...</td>\n",
       "      <td>0</td>\n",
       "      <td>[주차장, 부족, 데, 주차, 아침, 이동, 전화, 주차, 관리, 신경]</td>\n",
       "    </tr>\n",
       "  </tbody>\n",
       "</table>\n",
       "<p>75000 rows × 4 columns</p>\n",
       "</div>"
      ],
      "text/plain": [
       "       rating                                        description  isgood  \\\n",
       "0        10.0  직원들 서비스나 마인드 완벽합니다 다만 노후된 시설과 좁은 라운지가 호텔 이름에 비...       1   \n",
       "1        10.0  웨스틴조선은 모든면에서 최고의 숙소라고 생각합니다 분위기 편의성 직원친절도까지 모두...       1   \n",
       "2        10.0  서울시내에서 호캉스를 누릴 수 있는 곳아침 뷔페가 맛있는 곳룸서비스가 좋았음요구사항...       1   \n",
       "3        10.0                                      가격에 맞게 만족했습니다       1   \n",
       "4        10.0  처음 세명으로 셋팅 되어있지 않은점 빼고는 직원들의 친절도 및 서비스는 모두 맘에 ...       1   \n",
       "...       ...                                                ...     ...   \n",
       "74995    10.0  조식과 스탠더드 하프전망 신청해서  1박 했는데요ᆢ너무 좋아요ᆢ다만 가격이 좀 나가...       1   \n",
       "74996     8.0  객실은 깔끔하고 에메니티도 딱 필요한만큼 있었습니다 5분거리에 중앙시장이 있어 쇼핑...       1   \n",
       "74997     8.0  배드가 좋고 조용해서 좋았습니다찬바람이 좀 들어와서 난방기를 12시간 정도 돌려야 ...       1   \n",
       "74998     8.0  우선 위치가 너무 좋았고 숙소에 짐을 놓고 걸어서 주변 가볼곳도 있고 먹거리도 맛있...       1   \n",
       "74999     6.0  주차장이 부족해서 다른데에 주차했는데 아침에 이동해달라는 전화가 와서 다소 불쾌했슴...       0   \n",
       "\n",
       "                                            description2  \n",
       "0            [직원, 서비스, 마인드, 완벽, 노후, 시설, 라운지, 호텔, 이름, 부족]  \n",
       "1          [웨스틴, 조선, 면, 최고, 숙소, 생각, 분위기, 편의, 직원, 친절, 인상]  \n",
       "2      [서울, 시내, 호, 수, 곳, 아침, 뷔페, 곳, 룸서비스, 요구, 사항, 응대,...  \n",
       "3                                               [가격, 만족]  \n",
       "4      [처음, 명, 셋, 점, 직원, 친절, 서비스, 맘, 시설, 불편, 추가, 커피, ...  \n",
       "...                                                  ...  \n",
       "74995  [조식, 스탠더드, 하프, 전망, 신청, 박, 가격, 앞, 건물, 전망, 차, 가격...  \n",
       "74996            [객실, 에메, 니티, 필요, 만큼, 분, 거리, 중앙, 시장, 쇼핑]  \n",
       "74997                             [배드, 찬바람, 난방기, 시간, 정도]  \n",
       "74998              [위치, 숙소, 짐, 주변, 곳, 먹거리, 곳, 바다, 전망, 굿]  \n",
       "74999           [주차장, 부족, 데, 주차, 아침, 이동, 전화, 주차, 관리, 신경]  \n",
       "\n",
       "[75000 rows x 4 columns]"
      ]
     },
     "execution_count": 24,
     "metadata": {},
     "output_type": "execute_result"
    }
   ],
   "source": [
    "data"
   ]
  },
  {
   "cell_type": "code",
   "execution_count": 25,
   "id": "0fadcec8",
   "metadata": {
    "scrolled": true
   },
   "outputs": [
    {
     "data": {
      "text/plain": [
       "pandas.core.frame.DataFrame"
      ]
     },
     "execution_count": 25,
     "metadata": {},
     "output_type": "execute_result"
    }
   ],
   "source": [
    "type(stopwords)"
   ]
  },
  {
   "cell_type": "code",
   "execution_count": 26,
   "id": "d7425157",
   "metadata": {},
   "outputs": [],
   "source": [
    "stopwords = list(stopwords[0])"
   ]
  },
  {
   "cell_type": "code",
   "execution_count": 27,
   "id": "4a75460a",
   "metadata": {},
   "outputs": [
    {
     "data": {
      "text/plain": [
       "['이',\n",
       " '있',\n",
       " '하',\n",
       " '것',\n",
       " '들',\n",
       " '그',\n",
       " '되',\n",
       " '수',\n",
       " '왜',\n",
       " '뭐',\n",
       " '거',\n",
       " '해',\n",
       " '저',\n",
       " '너',\n",
       " '건',\n",
       " '은',\n",
       " '걸',\n",
       " '진짜',\n",
       " '보',\n",
       " '않',\n",
       " '없',\n",
       " '나',\n",
       " '사람',\n",
       " '주',\n",
       " '아니',\n",
       " '등',\n",
       " '같',\n",
       " '우리',\n",
       " '때',\n",
       " '년',\n",
       " '가',\n",
       " '한',\n",
       " '지',\n",
       " '대하',\n",
       " '오',\n",
       " '말',\n",
       " '일',\n",
       " '그렇',\n",
       " '위하',\n",
       " '때문',\n",
       " '그것',\n",
       " '두',\n",
       " '말하',\n",
       " '알',\n",
       " '그러나',\n",
       " '받',\n",
       " '못하',\n",
       " '일',\n",
       " '그런',\n",
       " '또',\n",
       " '문제',\n",
       " '더',\n",
       " '사회',\n",
       " '많',\n",
       " '그리고',\n",
       " '좋',\n",
       " '크',\n",
       " '따르',\n",
       " '중',\n",
       " '나오',\n",
       " '가지',\n",
       " '씨',\n",
       " '시키',\n",
       " '만들',\n",
       " '지금',\n",
       " '생각하',\n",
       " '그러',\n",
       " '속',\n",
       " '하나',\n",
       " '집',\n",
       " '살',\n",
       " '모르',\n",
       " '적',\n",
       " '월',\n",
       " '데',\n",
       " '자신',\n",
       " '안',\n",
       " '어떤',\n",
       " '내',\n",
       " '내',\n",
       " '경우',\n",
       " '명',\n",
       " '생각',\n",
       " '시간',\n",
       " '그녀',\n",
       " '다시',\n",
       " '이런',\n",
       " '앞',\n",
       " '보이',\n",
       " '번',\n",
       " '나',\n",
       " '다른',\n",
       " '어떻',\n",
       " '여자',\n",
       " '개',\n",
       " '전',\n",
       " '들',\n",
       " '사실',\n",
       " '이렇',\n",
       " '점',\n",
       " '싶',\n",
       " '말',\n",
       " '정도',\n",
       " '좀',\n",
       " '원',\n",
       " '잘',\n",
       " '통하',\n",
       " '소리',\n",
       " '놓']"
      ]
     },
     "execution_count": 27,
     "metadata": {},
     "output_type": "execute_result"
    }
   ],
   "source": [
    "stopwords"
   ]
  },
  {
   "cell_type": "code",
   "execution_count": 28,
   "id": "68e7f682",
   "metadata": {
    "scrolled": true
   },
   "outputs": [],
   "source": [
    "stopwords.extend(['들', '나', '된', '과', '은', '가', '에', '호텔', '것', '수'])"
   ]
  },
  {
   "cell_type": "code",
   "execution_count": 29,
   "id": "53242525",
   "metadata": {},
   "outputs": [
    {
     "data": {
      "text/plain": [
       "['이',\n",
       " '있',\n",
       " '하',\n",
       " '것',\n",
       " '들',\n",
       " '그',\n",
       " '되',\n",
       " '수',\n",
       " '왜',\n",
       " '뭐',\n",
       " '거',\n",
       " '해',\n",
       " '저',\n",
       " '너',\n",
       " '건',\n",
       " '은',\n",
       " '걸',\n",
       " '진짜',\n",
       " '보',\n",
       " '않',\n",
       " '없',\n",
       " '나',\n",
       " '사람',\n",
       " '주',\n",
       " '아니',\n",
       " '등',\n",
       " '같',\n",
       " '우리',\n",
       " '때',\n",
       " '년',\n",
       " '가',\n",
       " '한',\n",
       " '지',\n",
       " '대하',\n",
       " '오',\n",
       " '말',\n",
       " '일',\n",
       " '그렇',\n",
       " '위하',\n",
       " '때문',\n",
       " '그것',\n",
       " '두',\n",
       " '말하',\n",
       " '알',\n",
       " '그러나',\n",
       " '받',\n",
       " '못하',\n",
       " '일',\n",
       " '그런',\n",
       " '또',\n",
       " '문제',\n",
       " '더',\n",
       " '사회',\n",
       " '많',\n",
       " '그리고',\n",
       " '좋',\n",
       " '크',\n",
       " '따르',\n",
       " '중',\n",
       " '나오',\n",
       " '가지',\n",
       " '씨',\n",
       " '시키',\n",
       " '만들',\n",
       " '지금',\n",
       " '생각하',\n",
       " '그러',\n",
       " '속',\n",
       " '하나',\n",
       " '집',\n",
       " '살',\n",
       " '모르',\n",
       " '적',\n",
       " '월',\n",
       " '데',\n",
       " '자신',\n",
       " '안',\n",
       " '어떤',\n",
       " '내',\n",
       " '내',\n",
       " '경우',\n",
       " '명',\n",
       " '생각',\n",
       " '시간',\n",
       " '그녀',\n",
       " '다시',\n",
       " '이런',\n",
       " '앞',\n",
       " '보이',\n",
       " '번',\n",
       " '나',\n",
       " '다른',\n",
       " '어떻',\n",
       " '여자',\n",
       " '개',\n",
       " '전',\n",
       " '들',\n",
       " '사실',\n",
       " '이렇',\n",
       " '점',\n",
       " '싶',\n",
       " '말',\n",
       " '정도',\n",
       " '좀',\n",
       " '원',\n",
       " '잘',\n",
       " '통하',\n",
       " '소리',\n",
       " '놓',\n",
       " '들',\n",
       " '나',\n",
       " '된',\n",
       " '과',\n",
       " '은',\n",
       " '가',\n",
       " '에',\n",
       " '호텔',\n",
       " '것',\n",
       " '수']"
      ]
     },
     "execution_count": 29,
     "metadata": {},
     "output_type": "execute_result"
    }
   ],
   "source": [
    "stopwords"
   ]
  },
  {
   "cell_type": "markdown",
   "id": "1dced635",
   "metadata": {},
   "source": [
    "# 단어 빈도분석"
   ]
  },
  {
   "cell_type": "code",
   "execution_count": 30,
   "id": "a6d57180",
   "metadata": {
    "scrolled": true
   },
   "outputs": [
    {
     "name": "stdout",
     "output_type": "stream",
     "text": [
      "직원들 서비스나 마인드 완벽합니다 다만 노후된 시설과 좁은 라운지가 호텔 이름에 비해 약간 부족합니다\n",
      "직\n",
      "원\n",
      "들\n",
      " \n",
      "서\n",
      "비\n",
      "스\n",
      "나\n",
      " \n",
      "마\n",
      "인\n",
      "드\n",
      " \n",
      "완\n",
      "벽\n",
      "합\n",
      "니\n",
      "다\n",
      " \n",
      "다\n",
      "만\n",
      " \n",
      "노\n",
      "후\n",
      "된\n",
      " \n",
      "시\n",
      "설\n",
      "과\n",
      " \n",
      "좁\n",
      "은\n",
      " \n",
      "라\n",
      "운\n",
      "지\n",
      "가\n",
      " \n",
      "호\n",
      "텔\n",
      " \n",
      "이\n",
      "름\n",
      "에\n",
      " \n",
      "비\n",
      "해\n",
      " \n",
      "약\n",
      "간\n",
      " \n",
      "부\n",
      "족\n",
      "합\n",
      "니\n",
      "다\n"
     ]
    }
   ],
   "source": [
    "word_dist = []\n",
    "for i in data['description'][:1]:\n",
    "    print(i)\n",
    "    for j in i:\n",
    "        print(j)"
   ]
  },
  {
   "cell_type": "code",
   "execution_count": 31,
   "id": "9603ec3a",
   "metadata": {},
   "outputs": [
    {
     "name": "stdout",
     "output_type": "stream",
     "text": [
      "848860\n"
     ]
    }
   ],
   "source": [
    "word_dist = []\n",
    "for i in data['description2']:\n",
    "    for j in i:\n",
    "        if j not in stopwords:\n",
    "             word_dist.append(j)\n",
    "#     print(word_dist)\n",
    "    \n",
    "print(len(word_dist))"
   ]
  },
  {
   "cell_type": "code",
   "execution_count": 32,
   "id": "1e68d863",
   "metadata": {},
   "outputs": [],
   "source": [
    "from nltk.probability import FreqDist\n",
    "import koreanize_matplotlib"
   ]
  },
  {
   "cell_type": "code",
   "execution_count": 33,
   "id": "8a09d0f1",
   "metadata": {},
   "outputs": [
    {
     "data": {
      "text/plain": [
       "FreqDist({'방': 13963, '친절': 13472, '만족': 13058, '시설': 11505, '직원': 11089, '조식': 11004, '이용': 10289, '위치': 9001, '객실': 8717, '주변': 8010, ...})"
      ]
     },
     "execution_count": 33,
     "metadata": {},
     "output_type": "execute_result"
    }
   ],
   "source": [
    "FreqDist(word_dist)"
   ]
  },
  {
   "cell_type": "code",
   "execution_count": 34,
   "id": "2e2ab551",
   "metadata": {},
   "outputs": [
    {
     "data": {
      "text/plain": [
       "<Axes: xlabel='Samples', ylabel='Counts'>"
      ]
     },
     "execution_count": 34,
     "metadata": {},
     "output_type": "execute_result"
    },
    {
     "data": {
      "image/png": "[encoded data removed]",
      "text/plain": [
       "<Figure size 2000x1000 with 1 Axes>"
      ]
     },
     "metadata": {},
     "output_type": "display_data"
    }
   ],
   "source": [
    "plt.figure(figsize=(20,10))\n",
    "FreqDist(word_dist).plot(50)"
   ]
  },
  {
   "cell_type": "code",
   "execution_count": null,
   "id": "0ba095e9",
   "metadata": {},
   "outputs": [],
   "source": []
  },
  {
   "cell_type": "code",
   "execution_count": 35,
   "id": "b2f73b71",
   "metadata": {},
   "outputs": [],
   "source": [
    "from wordcloud import WordCloud"
   ]
  },
  {
   "cell_type": "code",
   "execution_count": 36,
   "id": "91a9d136",
   "metadata": {},
   "outputs": [],
   "source": [
    "font_path = \"/usr/share/fonts/truetype/nanum/NanumGothic.ttf\""
   ]
  },
  {
   "cell_type": "code",
   "execution_count": 37,
   "id": "c80153af",
   "metadata": {},
   "outputs": [
    {
     "data": {
      "text/plain": [
       "(np.float64(-0.5), np.float64(399.5), np.float64(199.5), np.float64(-0.5))"
      ]
     },
     "execution_count": 37,
     "metadata": {},
     "output_type": "execute_result"
    },
    {
     "data": {
      "image/png": "[encoded data removed]",
      "text/plain": [
       "<Figure size 2000x1000 with 1 Axes>"
      ]
     },
     "metadata": {},
     "output_type": "display_data"
    }
   ],
   "source": [
    "plt.figure(figsize=(20,10))\n",
    "wc = WordCloud(font_path=font_path).generate(str(word_dist))\n",
    "plt.imshow(wc)\n",
    "plt.axis('off')"
   ]
  },
  {
   "cell_type": "markdown",
   "id": "ebc06fe9",
   "metadata": {},
   "source": [
    "# 만족한 고객 vs 불만족 고객"
   ]
  },
  {
   "cell_type": "code",
   "execution_count": 38,
   "id": "35779b2d",
   "metadata": {},
   "outputs": [
    {
     "data": {
      "text/plain": [
       "0              [직원, 서비스, 마인드, 완벽, 노후, 시설, 라운지, 호텔, 이름, 부족]\n",
       "1            [웨스틴, 조선, 면, 최고, 숙소, 생각, 분위기, 편의, 직원, 친절, 인상]\n",
       "2        [서울, 시내, 호, 수, 곳, 아침, 뷔페, 곳, 룸서비스, 요구, 사항, 응대,...\n",
       "3                                                 [가격, 만족]\n",
       "4        [처음, 명, 셋, 점, 직원, 친절, 서비스, 맘, 시설, 불편, 추가, 커피, ...\n",
       "                               ...                        \n",
       "74994                                                   []\n",
       "74995    [조식, 스탠더드, 하프, 전망, 신청, 박, 가격, 앞, 건물, 전망, 차, 가격...\n",
       "74996              [객실, 에메, 니티, 필요, 만큼, 분, 거리, 중앙, 시장, 쇼핑]\n",
       "74997                               [배드, 찬바람, 난방기, 시간, 정도]\n",
       "74998                [위치, 숙소, 짐, 주변, 곳, 먹거리, 곳, 바다, 전망, 굿]\n",
       "Name: description2, Length: 58386, dtype: object"
      ]
     },
     "execution_count": 38,
     "metadata": {},
     "output_type": "execute_result"
    }
   ],
   "source": [
    "good = data[data['isgood'] == 1]['description2']\n",
    "good"
   ]
  },
  {
   "cell_type": "code",
   "execution_count": 39,
   "id": "f17fef4f",
   "metadata": {},
   "outputs": [
    {
     "data": {
      "text/plain": [
       "15       [가성, 별로, 기대, 실망, 예약, 사전, 메일, 직원, 통화, 객실, 요청, 고...\n",
       "30       [번, 호텔, 방문, 것, 예전, 호텔, 이번, 실망, 주변, 호텔, 앞, 시위, ...\n",
       "35                                       [서비스, 절도, 프로, 느낌]\n",
       "41       [보통, 뷰, 처음, 국내외, 특급, 호텔, 곳, 중, 최악, 당일, 예약, 데이터...\n",
       "43       [고객, 개, 법, 호텔, 역사, 명불허전, 종업원, 모두, 최상, 서비스, 무엇,...\n",
       "                               ...                        \n",
       "74979    [송풍기, 환풍기, 소음, 난방, 공조, 시스템, 작동, 때, 모텔, 차이, 최근,...\n",
       "74982                                       [비지니스, 호텔, 느낌]\n",
       "74990    [방, 생각, 수기, 박, 만, 원, 숙소, 조리, 시설, 냉장고, 냉장고, 기능,...\n",
       "74992    [수건, 비치, 수건, 건, 청소, 상태, 확인, 듯, 주차, 구역, 편의, 시설,...\n",
       "74999             [주차장, 부족, 데, 주차, 아침, 이동, 전화, 주차, 관리, 신경]\n",
       "Name: description2, Length: 16614, dtype: object"
      ]
     },
     "execution_count": 39,
     "metadata": {},
     "output_type": "execute_result"
    }
   ],
   "source": [
    "bad = data[data['isgood'] == 0]['description2']\n",
    "bad"
   ]
  },
  {
   "cell_type": "code",
   "execution_count": 40,
   "id": "e302c55b",
   "metadata": {},
   "outputs": [
    {
     "data": {
      "text/plain": [
       "(np.float64(-0.5), np.float64(399.5), np.float64(199.5), np.float64(-0.5))"
      ]
     },
     "execution_count": 40,
     "metadata": {},
     "output_type": "execute_result"
    },
    {
     "data": {
      "image/png": "[encoded data removed]",
      "text/plain": [
       "<Figure size 2000x1000 with 1 Axes>"
      ]
     },
     "metadata": {},
     "output_type": "display_data"
    }
   ],
   "source": [
    "plt.figure(figsize=(20,10))\n",
    "wc = WordCloud(font_path=font_path).generate(str(good))\n",
    "plt.imshow(wc)\n",
    "plt.axis('off')"
   ]
  },
  {
   "cell_type": "code",
   "execution_count": 41,
   "id": "7b24a7e9",
   "metadata": {},
   "outputs": [
    {
     "data": {
      "text/plain": [
       "(np.float64(-0.5), np.float64(399.5), np.float64(199.5), np.float64(-0.5))"
      ]
     },
     "execution_count": 41,
     "metadata": {},
     "output_type": "execute_result"
    },
    {
     "data": {
      "image/png": "[encoded data removed]",
      "text/plain": [
       "<Figure size 2000x1000 with 1 Axes>"
      ]
     },
     "metadata": {},
     "output_type": "display_data"
    }
   ],
   "source": [
    "plt.figure(figsize=(20,10))\n",
    "wc = WordCloud(font_path=font_path).generate(str(bad))\n",
    "plt.imshow(wc)\n",
    "plt.axis('off')"
   ]
  },
  {
   "cell_type": "code",
   "execution_count": 42,
   "id": "25e97043",
   "metadata": {
    "scrolled": true
   },
   "outputs": [
    {
     "data": {
      "text/plain": [
       "228      해외에서  이용 시 만족했던 그랜드하얏트라 우리나라도 한번 예약해봤던 곳이나 체크인...\n",
       "292      1 다른 호텔과 구별되는 룸의 특징이라면 침대 공간은 넓게 잡은 반면 화장실과 욕조...\n",
       "356                             기대에 못미치는 시설 특히 주차요원들의 무성의함\n",
       "429      특급 호텔이라는 기대와는 달리 그냥 평범한 호텔이었습니다차를 가지고 호텔입구에 도달...\n",
       "431      스위트룸 예약인데 발렛파킹이 안됨만차 짐도 많은데 차안서 기다리라고함서비스 개판  ...\n",
       "                               ...                        \n",
       "74957    춘천에겄다가 속초로방향을잡아 속초의랜드마크라하여 이호텔을 선택 일단 객실은 많은듯했...\n",
       "74959    숙소내 주차장은 규모에 비해 협소하다는 느낌이며 호텔 앞 공영주차장 이용하면 됨엘리...\n",
       "74990    방이 생각보다 작아서 놀랐음성수기이긴 했지만 2박에 30만원 넘는 숙소를 구했는데조...\n",
       "74992    우선수건이 비치가 안되어있음수건이 없다는건 청소상태를 확인 안한듯주차구역이  적음 ...\n",
       "74999    주차장이 부족해서 다른데에 주차했는데 아침에 이동해달라는 전화가 와서 다소 불쾌했슴...\n",
       "Name: description, Length: 1285, dtype: object"
      ]
     },
     "execution_count": 42,
     "metadata": {},
     "output_type": "execute_result"
    }
   ],
   "source": [
    "data.loc[(data['description'].str.contains('주차')) & (data['isgood'] == 0), 'description']"
   ]
  },
  {
   "cell_type": "code",
   "execution_count": 43,
   "id": "e7e74ce9",
   "metadata": {},
   "outputs": [
    {
     "name": "stdout",
     "output_type": "stream",
     "text": [
      "해외에서  이용 시 만족했던 그랜드하얏트라 우리나라도 한번 예약해봤던 곳이나 체크인 시 안내 받았던 룸과 클럽라운지에서 대기하며 안내받은 룸이 달라 문의하였지만 적극적으로 확인해주거나 응대하지 않아 불쾌했으며 라운지 이용시간 및 부대시설이용에 대한 설명이 부족했고 직원에서 라운지 이브닝타임을 문의했었는데 한명은 5시로 5시에 준비가 안되어 다른 직원에게 문의하니 6시로 안내받았습니다 그밖에도 여러가지로 불편했으며 투숙객임에도 유료주차라는 것은 개선이 되었으면 합니다 유료주차는 처음이라하니 아니라고 요즘호텔은 거의 유료라며 직원은 마치 호텔을 많이 이용 안하는 손님이라는 생각으로 말하는 뉘앙스로 응대하고 더구나 차량 등록을 했음에도 출차시 차단 바가 열리지 않는 등 5성급 호텔 수준은 아닌 듯 합니다 재방문의사는 당연히 없습니다 게스트 서비스나 룸서비스 요청 시 응대는 빨랐습니다\n",
      "\n",
      "1 다른 호텔과 구별되는 룸의 특징이라면 침대 공간은 넓게 잡은 반면 화장실과 욕조 공간을 좁게 잡아서 이용이 다소 불편할 정도라는 점입니다 청결도는 좋았지만 룸에 거울이 너무 많이 붙어 있어서 다소 산만하고 어지러운 느낌을 줍니다 아마도 상대적으로 룸을 넓게 보이도록 효과를 주고자 한 것 같은데 처음 잠깐만 그런 인상을 주고 오래 있으면 산만합니다2 책상 하나도 없는 룸은 요즘 룸 추세와는 다소 다르네요3 주차비도 유료입니다 물론 투숙객 할인은 있지만 다소 이해가 되지 않습니다4 코로나때문이라고는 하는데 피트니스에서 운동복도 대여해 주지 않는다고 하더군요 그런 중요한 정책의 변화는 사전에 미리 공지가 되어야고객들에게 개별적으로 알려주지는 않더라도 적어도 호텔 홈페이지나 세부정책 부분에는 소개가 되어 있어야 한다고 생각합니다 마땅할텐데 아무런 사전 고지가 없어서 결국 호텔에 묵으면서 시설을 제대로 이용할 수 없었습니다 근래 계속 다른 호텔도 묵어 보았는데 코로나 때문에 운동복을 대여해주지 않는 호텔은 여기가 처음이었습니다5 원래 메뉴에 없음에도 고기를 먹지 않는 손님을 위해 신속하게 다른 준비를 제공하는 서비스마인드는 높이 살만했습니다 특급 호텔이라는 게 이런 서비스에서 차이가 나는 것이지요\n",
      "\n",
      "기대에 못미치는 시설 특히 주차요원들의 무성의함\n",
      "\n",
      "특급 호텔이라는 기대와는 달리 그냥 평범한 호텔이었습니다차를 가지고 호텔입구에 도달했을때 발렛파킹이 무료인지 유료인지도 안내받은바 없고그저 물어보니 주차장을 안내해줄 뿐이었습니다그리고 체크인시 짐을 옮겨주는 룸서비스도 안내받은바 없었습니다물론 제가 고급호텔 이용을 많이 해보지 못해 제가 요청을 해야 하는건지도 모르겠지만적어도 부산의 모호텔의 경우에는 입구에서부터 짐을 옮겨주는 서비스를 제가 요구하지 않아도직원들이 알아서 해줬습니다체크인시 직원이 룸업그레이드를 안내했고 3만원이 추가된 룸으로 결국 업그레이드를 했습니다추후 체크아웃시 5만원을 냈는데 1만여원을 거슬러 받고 내가 물어봤을때그제서야 3만원에서 추가된 서비스 봉사료가 더 있다는 안내를 받았습니다이런 점 등에서 기본 서비스가 특급호텔이라는 느낌은 전혀 받지 못했네요체크인후 당일밤에는 헬스를 이용했지만 그 어느 직원도 맞이하지 않았으며다음날 아침 수영장을 아이들과 함께 이용했지만 수영장의 직원 역시 친절하지 않았습니다날이 추워 실내수영장을 이용했는데 아이가 나이가 5살이라 아주 작은 튜브를 이용하고자 했는데다가와서는 이용하면 안된다는 안내를 했지만 당시 직원이 그리 웃으며 친절한 태도로 말하지 않았습니다전반적으로 특급호텔이라는 명성에는 맞지 않은 조금은 실망스러운 투숙이었습니다\n",
      "\n",
      "스위트룸 예약인데 발렛파킹이 안됨만차 짐도 많은데 차안서 기다리라고함서비스 개판  객실매니저도 주차는타부서라 얘기하고 모른척  개웃김방은 굿 클럽룸 좋으나 베이컨 타이어 냄새나서안먹음   옥의티나머진 다좋음\n",
      "\n",
      "가격대비 만족도는 별로인듯 가족이나 연인과 한번쯤은 가볼만한곳1박2일 숙박 중 수영장 하루 이용가능 주차비 별도 사우나 별도 추가요금방도 타 호텔에 비해 좁은듯 굳이 한강뷰 할필요는 없어보임 뷰가 별로임\n",
      "\n",
      "일단 스위트룸 예약 하루밤 100만원 결제 20층 예약 전화할때마다 혼란스럽게 예약함얼리체크인 추가요금을 냈는데도 카운터는 모르고 있고 계속대기하다 내가 직접 가서 말해줌 그리고 스위트룸인데 기본적으로 방안에 가습기정도는 있어야지 오죽했음 집에가서 가져옴 조식 괜찮았음 당연히 스위트룸이니 경관좋음 그리고 30도에 온도 해놨는데도 추웠음주차장 너무 좁아 터졌음전반적으로 애들데리고 하룻밤 100만원은 괜찮았음\n",
      "\n",
      "호텔시설 노후화심함특히 화장실 변기 낡았고변기 물안내려가서 변기 뚜껑열고 고리 잡아올려서 물내림침대및 내부시설 노후됨투숙객한테 주차요금 징수하다니어이상실  냉장고 열고 생수잘못마신덕에  11000원 날림 조식수준 미달\n",
      "\n",
      "리뉴얼 공사중이라오전9시부터 23시간이상 드릴 소리장난아닙니다칫솔 치약 무료제공 아니고 5천원씩 각 구매 하셔야해요아니면 챙겨가세요숙박해도 주차료 1박 만원씩 징구됩니다실내 깔끔은한데먼지가 많아요 통유리라환기도 안되고\n",
      "\n",
      "비용적 측면에서 뭘 더 추가하는건 어떻느냐주차비도 추가로 내야 하고칫솔도 없고요즘 행사가 많아 종종 방문했는데 레스토랑 제외하곤 서비스가 좀 그렇네요\n",
      "\n",
      "가격대비 안좋아요446000거의 50만원가까운 돈을 주고 갔는데 일단 첫번째 온수풀아님물이 냉골이라 키즈풀은 어른은물론 아이들도 너무 차갑다고 들어가는 사람이없었어요 수영장이용하러갔는데 야외수영장 물어보니 입장은 가능한데 안전요원이없다고 하더라구요 아이들을 입장가능하게해놓고 안전요원이없다는게 말이되나요 몇일전 호텔수영장에 아이가 죽어서 뉴스에도 나왔는데요그리고 두번째 주차비 이런호텔은 처음봤어요 투숙객인데 주차비가있다고 만원을 내래요참 쪼잔한 느낌들어서 별로였구요세번째 욕조없음 제가간 룸은 욕조도없고 변기도 모텔 변기에 샤워기하나 달랑모든게너무 돈이아까운 하루였어요\n",
      "\n",
      "방음상태 별로룸 온도제어 별로주차장 별로시설 별로\n",
      "\n",
      "이번 연휴 동안에 이용하였는데 너무 투숙객이 많았습니다 호텔이 그 동안 보여주던 적절한 서비스를 제공할 수 없는 수준으로 투숙객을 많이 받은 것으로 생각됩니다주차장은 만차이니 다른 건물에 주차를 하라고 하였고 체크인은 1시간 이상 대기 하였습니다 아침 조식은 납득하기 어려운 수준이었습니다 호텔도 예상을 못했던 상황이 발생하였을 수도 있으나 그 동안의 좋은 이미지를 망치는 것 같아 안타까웠습니다\n",
      "\n",
      "주차장이 불편해요\n",
      "\n",
      "전망은 괜찮았지만 주차가 너무 힘드네요주차하는데 몇 십분 걸렸어요지하로 내려가라 지상으로 올라와라직원마다 안내가 달라서 일관성 있는 안내가 필요해 보입니다\n",
      "\n",
      "주차 최악 대중교통 이용하세요호텔 주차장 자리없어서 백화점 주차장에 이중주차함호텔까지 걸어서 15분 걸림새벽 두시반에 마트직원이 차빼달라고 전화옴 기어 중립뒀는데도다음날 차뺄때 차 못찾아서 한참 걸어다님주차요원에게 구역번호 말해줬는데 아무도 도움을 주지못함다들 차빠질때까지 기다렸다가 호텔에 주차하든대중교통 이용하세요\n",
      "\n",
      "주차가너무엉망입니다\n",
      "\n",
      "주차안내도 엉망이고  곰팡이 냄새에  5성급이 무색할정도입니다\n",
      "\n",
      "오래된호텔임을감안할것시설이 낡음청소상태 그리좋지는 못함직원들 친절한편마튼 백화점 롯덕월드 서울타워 같이 있어 여행의 포커스를 그쪽으로 잡는분은 추천서울여행은  강남보다 강북에 숙소른 잡는것을 추천조식좋음침대및 침구좋음호텔 전용 주차장없어 엉망임3일내 하루2만원주고 발렛이용함화장실변기 어떻게 싸도 드럽게 똥묻음비데 건조기능없음싸우나 좋다는데 숙박시 공짜라는 메리트빼고는 별로임체련장이용시 신발양말옷 다줌특히 발렛은 이용시 투숙객임에도 무조건 회당 결재요구함나머지 조식추가등은 체크아웃시 결재전반적으로 롯데기업문화가 느껴지는 곳임\n",
      "\n",
      "객실과 직원응대는 괜찮았으나주차장은 진심 황당호텔투숙 고객임에도 불구하고 지하주차장은 아예 들어가지 못하고 외부 주차장 그것도 1층이 아닌 2층부터 주차라니 어이없어서 다시는 투숙할 생각이 없음\n",
      "\n",
      "주차장이 좀 협소하고 연결되어 있었음 하는 아쉬움이 있었음\n",
      "\n",
      "위치는 좋습니다만  주차가 제대로 안내가 안 되어 불편했습니다 캐리어를 들고 3층에서 내려왔어요 주차 시간에도 융통성이 없어 체크아웃 직후 헐레벌떡 나왔어야 했습니다 그리고 무료 업그레이드의 상품으로 구매를 했으나 업그레이드는 2만원을 따로 내야한다고 안내 받았습니다 뷰가 좋은 방을 부탁했는데 그것도 잘 모르겠습니다 방이나 시설은 노후화된 편이었습니다 다음에는 금액을 조금 더 내고 다른 곳에 투숙할 것 같습니다\n",
      "\n",
      "주차하기 무서운 곳 경사가 심하고 비오는 날엔 주차장 안에서도 비를 맞아야 함 호텔이 저렴한 이유인지 모르지만 내부가 너무 낡음교통이 편하고 주변에서 머꺼리 팢기는 쉬웠음 호텔 직원들이 친절하고 협조적이어서 인상적임\n",
      "\n",
      "주차장인 주차타워와 호텔이 너무 멀어서 햇빛 뜨거운 날씨에 아기를 데리고 차를 타고 주변 다니기는 정말 어려웠고도착하자마자 욕조에는 누군가의 머리카락이 바로 보였고8개월 아기가 있어 미리 아기침대를 신청했음에도 나중에 올려준다고 해서 어른 침대에서 재우다가 잠깐 눈 돌린 사이에 떨어져서 응급실에 다녀왔고 아기침대는 6시 반 넘어서 다시 한 번 전화해서야 갖다줬고 화장실의 수압은 너무 약했고주변 사거리는 공사중이라 복잡했고직원들은 친절했지만 큰 기대하고 갔는데 뭐라 말할 수도 없이 최악의 기억만 갖고 왔습니다다시는 찾고 싶지 않습니다\n",
      "\n",
      "면세점과 구분되지 않은 복잡함주차 안내도 서 있는 직원마다 일관되지 않고 제각각남한테 내 차 맡기기 싫어서 발렛 안했더니 잡상인 취급하듯이 사람 막대하지를 않나주차타워에 주차하고 그랜저 타고 올라가는데 무전기로 직원들끼리 짜증내고 육두문자 남발하는거 다 들림신라호텔이라는 이름에 부끄럽지 않은지밖에서 고생하는건 알겠는데 주차요원 및 셔틀 직원들 교육이 필요한듯\n",
      "\n",
      "2박 했는데  묶었던 방 옆방을 창고 처럼 사용하고 있어 직원이 들락 날락 문여는 소리 쿵 닫는 소리 쿵 머리가 울릴정도 였다 인포에 전화 했으나 개선 되지 않고 룸 앞에서  출입하는 직원을 부닥 쳤으나 조심 하는 기색 조차 없이 쿵소리내며 문열고 들어가고발렛 하지 않으면 멀리 주차 하고 10분 간격의 셔틀을 이용해야 한다 사용하는 카드가 발렛 서어비스 가능해 발렛을 이용했지만 손님들이 밀려있어 15분 정도 기다렸다 비지니스 호텔을 이용한 느낌 정도\n",
      "\n",
      "첫번째 오래된 호텔 치고 관리상태는 매우 좋고 서비스도 양호하지만 주차가 아주 불편함 비도 많이 오는데 한참 멀리 떨어진 주차타워에 주차하고 셔틀버스를 기다렸다 타고 오는 신세가 엄청 처량하였음 내가 과연 특급호텔을 예약한 것이 맞나 싶을 정도였음 주변에 나갈 때마다 주차 타워까지 셔틀을 타고 가서 다시 가족들을 픽업하고 들어올 때는 다시 반대로 해야함 실제로 한 번 겪어보니 왜 여러 블로그에서 식사 때마다 주변에 도시락을 시켜먹었다고 하는지 바로 알 수 있었음두번째 일반 투숙객이 실외 수영장 어반 아일랜드를 이용하자면 따로 많은 비용을 내야한다는 것은 내가 몰랐으니 그렇다 하더라도 미리 어반 아일랜드를 패키지로 구매한 손님이 많을 경우 따로 비용을 지불하더라도 실외 수영장을 이용할 수 없다는 것은 예측조차 할 수 없었음 지방에서 어반 아일랜드를 엄청 기대하고 올라간 아들 녀석을 달래느라 1박 2일 내내 진땀을 뺐음 지난 봄 제주 신라에서 좋은 추억을 많이 남겼기에 이번에도 별 고민없이 서울 신라를 선택했다가 가족들에게 두고두고 혼나고 있음 내 인생에 몇 안 되는 최악의 기억이 남았음\n",
      "\n",
      "이민떠나기전 5일간 머물렀습니다와이파이 신호가 약하고 전철역에서 오기에는 호텔이 너무 높이 위치해 있습니다 주차장 배경으로 방을주셔서 5일간 주차장만 보다왔습니다\n",
      "\n",
      "공항리무진이 닿지 않는 거의 유일한 특급호텔호텔과 가까운 주차공간은 휘트니스 전용공간 이라며 투숙객이라고 설명해도 주차를 금지 시키는 황당한 주차창공간의 넓이나 욕실의 상태등 리모델링 후 처음 다시 찾았으나 지내는 내내 현재의 가격이 지나치다는 생각이 계속 들었음아침조식과 저녁뷔페는 좋았으나 숙박은 추천 하지 않음\n",
      "\n",
      "차량 출입부터 맘에 안들었음 큰 트렁크가 2개가 있어 정문 로비에 차를 잠시 정차하고짐 먼저 내릴려고 했는데 직원이 정문로비에는 짐을 내리면 안되다고 주차강 가서짐을 내려 들고 체크인 하라고 하여 매우 불편 불쾌 했음무슨 호텔이 정문 로비에 짐을 못내리게 하는지또한 방 컨디션도 무슨 동네 모텔 수준 이여서 매우 좋지 않은 인상을 받았습니다\n",
      "\n",
      "룸컨디션은 좋음 에어컨냄새인지 방의 먼지 냄새인지 무튼 이상한 냄새가 났기에하지만 주변이라던가 주차는 아주 편했습니다\n",
      "\n",
      "호텔지하 주차장이 없고 옆건물 주차장사용 비오는데 건물도로를 건너야함아침 조식은 여태다녀본 호텔중에서 최악 이런조식으로 추가요금받는게 정상적이지 않음\n",
      "\n",
      "오성급인가라는생각이들지만 친절하시고 위치가 정말너무좋아서 근데 너무 낡은면도있고 복도가 너무덥고 주차장도좀불편하고 이래저래 단점도 있네요\n",
      "\n",
      "Front Desk 직원들 교육이 필요합니다  3자에게 개인정보 제공 동의란에 동의하지 않음을 작성하려 했더니 동의하지 않을경우 입실이 불가하다고 합니다   매우 황당했습니다   분명 3자에게 개인정보 제공이라고 했으나 마케팅도 아니고 정보는 Oakwood 본사에만 제공한다는 황당한 이야기를 합니다   사전 지불을 했을에도 입실 불가를 이야기 했습니다  어떠한 사과도 받지 못했습니다차량 주차 문제 역시 투숙객이 먼저 말해야 합니다  입출차시 차량 번호를 이야기 하지 않을경우 문제가 된다 하는데 이정도는 입실시 이야기를 해주면 좋겠습니다호텔에 차량을 가지고 도착했을때 처음으로 맞이해 주는 분은 호텔 벨맨 직원이 아닌 발렛주차요원이 였습니다  첫마디는 요금이 발생하는데 발렛 괜찮으신지요 입니다   어떻게 호텔직원의 수화물 도움보다 비용 발생한다는 이야기를 들어야 하는지 모르겠네요프론트에는 상기 내용을 이야기 하니 발렛과는 다른 Department 라서 본인들은 모른다고 하네요Harris Kang 지배인께서는 Front Desk 직원들 교육부터 챙기시길 바랍니다   Oakwood 머물기 전에 Four Season  종로에서 머물렀는데 너무나 수준 차이가 나는 직원들을 보니  다시는 Oakwood 에 ㅈㅣ내고 싶지 않습니다\n",
      "\n",
      "주차와 프런트까지의 안내는 좋았으나 객실에 베여있는 담배냄새 때문에 버티기가 힘들었습니다\n",
      "\n",
      "청소해주시는분 친절해요 주차비 따로 받아여 위치는 편했어요 화장실 쬐끔해요그냥 보통요 마녀김밥이랑 푸드몰 주변에 있어 편해요 7308시 사이 다 오픈해서 아침 떼우기 좋고 배달시켜 먹기에도 좋았어요\n",
      "\n",
      "전반적으로 위치가격청결도는 양호하나 주차장 출입구가 너무 비좁고 객실에 따라 다른지는 모르겠지만 숙박고객에게 3시간 무료 나머지 시간은 주차비를 부과한다는데 이해가 안갑니다\n",
      "\n",
      "위치 좋고 직원 친절하지만차량을 가지고간다면 절대  no주차장은 거의무슨 미션수준이고 주차를 할수있는 면수는 몇대 댈수도없습니다또한 발랫은 비즈니스호테이라고 지원도 하지않고 유료든 카드사 서비스든뭐그건그렇다 처도 일단 돈을 댈수도없고투숙객이라도 유료입니다 띠용또한 24시간 마사지 사우나 시설이4시간이 아니더라구요 빨리 호텔로 와서 마사지받으러가려고 전화하니문을 닫음하 그리고 방이 좁아요직원들은 친절방은 청결하나굉장히 좁습니다위치는 삼성역앞포스코사거리로 좋습니다재방문의사는저는그냥 드래곤시티로\n",
      "\n",
      "주차비를 숙박에 만원을 내야 하는것두객실 상태두 너무 실망입니다\n",
      "\n",
      "청소상태가 너무 실망이였음구체적으로 적기 민망함주차비 받는것 보고 강남이구나 생각 했음사우나 별도요금있음강남이라 업무 보는 장소로는 좋음\n",
      "\n",
      "주차시설이 너무 협소하고 심지어는 앞 건물에 주차을 해야 했음주차비를 받는 것은 상관 없지만 주차비 징수방법이 너무 불편 했음 그방법이 호텔 같지 않고 무슨 관공서 방문 하는 것과 크게 다르지 않아요\n",
      "\n",
      "지하주차장 입출차가 정말 너무나도 어렵고 좁고 커브도 심하고 너무 불편합니다\n",
      "\n",
      "주차장 통로가 너무 좁아서 불편했습니다 근처 L7이 정말 최악이었지만 여기 주차장도 다신 안오고 싶네요 이따위로 해놓고 투숙객에게도 주차비 받는다니 진짜 어처구니 없음 투숙객한테도 주차비 받냐고 너무하다고 했더니 지침이라 어쩔 수 없어요라고 딱 잘라 말하는 CS수준도 잘 봤음 슈페리어룸 투숙했는데 침구가 꽤 낡았고화장실 변기쪽이 침대에서 다 보이는 말도 안되는 구조에 한번 더 놀랐습니다 다시는 방문하지 않을 예정전국적으로 일년에 200일정도 타지에서 숙박을 하는데 여긴 주변에 비해 뭐하나 나은 점을 찾을 수 없네요\n",
      "\n",
      "창이 열리는 것은 좋으나 차나 오토바이가 계속 지나다녀 시끄럽고 방음이 되지 않아 옆방에서 아이가 떠드는 소리가 다 들림 욕실엔 타올이 부족하고 누가 떨어뜨리고 간지 모를 머리카락이 여기저기 그리고 투숙객에도 주차비를 받는 인색한 서비스\n",
      "\n",
      "예약도 잘못 들어가있어서 카운터까지 두번 왔다갔다 어차피 같은 층인데 다른곳은 올라와주실법도 한데 게다가 어메니티 추가하려면 추가차지를 받고 주차장도 좁아서 주차할곳도 없고 접근성이 좋아도 두번은 안 갈것같아요\n",
      "\n",
      "입구주차안내부터불편 로비들어서 안내불친절 여러모로 불편해 다음부터 이용않기로하였음 티브도일반모텔 만도못함\n",
      "\n",
      "숙소 위치는 최상숙소는 오래돤 호텔샤워실은 모텔급침대 불편함주말에 간다면 웨딩으로 인해 주차장 복잡하며 어려움가격대비 그럭저럭 재방문 의사 없음\n",
      "\n",
      "주차장에 비가 차서 차를뺄수없다고 프런트에 말하니 짐가방 몇개씩 들고있는 저에게 도어맨한테 가서 말하라더라구요 프런트직원이 본인이 다른응대할손님이 있는것도아닌데 기가막혔음침대도 너무 흔들거리고 룸 바닥엔 카페트가 깔려서 청결해보이지도않고 다시는 안가고싶은곳이예요딱하나 맘에든건 전신거울이 있다는거드라이기도 얼마나 오래된건지  잘 되지도않아요 챙겨갔으니다행\n",
      "\n",
      "너무 낡고  어  뭐라고 말을 못하겠어요 주차 시설도 엉망이고 다른 곳 라마다 상상하고 가면 안될듯요 공연 끝나고 잠깐 잠만 자고 나왔는데  으침대는  어휴  곧 개선 되길 기대합니다 위치는 딱 좋아여\n",
      "\n",
      "샤워커튼에서 썩은냄세가나고비데는 삐딱하게 설치되어 있고머리빗은 너무 싸구려여서 머리 빗다가 엉키고창밖 전경은 아파트 주차장이었음\n",
      "\n"
     ]
    }
   ],
   "source": [
    "for i in data.loc[(data['description'].str.contains('주차')) & (data['isgood'] == 0), 'description'][:50]:\n",
    "    print(i)\n",
    "    print()"
   ]
  },
  {
   "cell_type": "markdown",
   "id": "859f1c01",
   "metadata": {},
   "source": [
    "# Navie Bayes를 이용한 감성분석"
   ]
  },
  {
   "cell_type": "code",
   "execution_count": 44,
   "id": "ad8a2320",
   "metadata": {},
   "outputs": [
    {
     "data": {
      "text/html": [
       "<div>\n",
       "<style scoped>\n",
       "    .dataframe tbody tr th:only-of-type {\n",
       "        vertical-align: middle;\n",
       "    }\n",
       "\n",
       "    .dataframe tbody tr th {\n",
       "        vertical-align: top;\n",
       "    }\n",
       "\n",
       "    .dataframe thead th {\n",
       "        text-align: right;\n",
       "    }\n",
       "</style>\n",
       "<table border=\"1\" class=\"dataframe\">\n",
       "  <thead>\n",
       "    <tr style=\"text-align: right;\">\n",
       "      <th></th>\n",
       "      <th>rating</th>\n",
       "      <th>description</th>\n",
       "      <th>isgood</th>\n",
       "      <th>description2</th>\n",
       "    </tr>\n",
       "  </thead>\n",
       "  <tbody>\n",
       "    <tr>\n",
       "      <th>0</th>\n",
       "      <td>10.0</td>\n",
       "      <td>직원들 서비스나 마인드 완벽합니다 다만 노후된 시설과 좁은 라운지가 호텔 이름에 비...</td>\n",
       "      <td>1</td>\n",
       "      <td>[직원, 서비스, 마인드, 완벽, 노후, 시설, 라운지, 호텔, 이름, 부족]</td>\n",
       "    </tr>\n",
       "    <tr>\n",
       "      <th>1</th>\n",
       "      <td>10.0</td>\n",
       "      <td>웨스틴조선은 모든면에서 최고의 숙소라고 생각합니다 분위기 편의성 직원친절도까지 모두...</td>\n",
       "      <td>1</td>\n",
       "      <td>[웨스틴, 조선, 면, 최고, 숙소, 생각, 분위기, 편의, 직원, 친절, 인상]</td>\n",
       "    </tr>\n",
       "    <tr>\n",
       "      <th>2</th>\n",
       "      <td>10.0</td>\n",
       "      <td>서울시내에서 호캉스를 누릴 수 있는 곳아침 뷔페가 맛있는 곳룸서비스가 좋았음요구사항...</td>\n",
       "      <td>1</td>\n",
       "      <td>[서울, 시내, 호, 수, 곳, 아침, 뷔페, 곳, 룸서비스, 요구, 사항, 응대,...</td>\n",
       "    </tr>\n",
       "    <tr>\n",
       "      <th>3</th>\n",
       "      <td>10.0</td>\n",
       "      <td>가격에 맞게 만족했습니다</td>\n",
       "      <td>1</td>\n",
       "      <td>[가격, 만족]</td>\n",
       "    </tr>\n",
       "    <tr>\n",
       "      <th>4</th>\n",
       "      <td>10.0</td>\n",
       "      <td>처음 세명으로 셋팅 되어있지 않은점 빼고는 직원들의 친절도 및 서비스는 모두 맘에 ...</td>\n",
       "      <td>1</td>\n",
       "      <td>[처음, 명, 셋, 점, 직원, 친절, 서비스, 맘, 시설, 불편, 추가, 커피, ...</td>\n",
       "    </tr>\n",
       "  </tbody>\n",
       "</table>\n",
       "</div>"
      ],
      "text/plain": [
       "   rating                                        description  isgood  \\\n",
       "0    10.0  직원들 서비스나 마인드 완벽합니다 다만 노후된 시설과 좁은 라운지가 호텔 이름에 비...       1   \n",
       "1    10.0  웨스틴조선은 모든면에서 최고의 숙소라고 생각합니다 분위기 편의성 직원친절도까지 모두...       1   \n",
       "2    10.0  서울시내에서 호캉스를 누릴 수 있는 곳아침 뷔페가 맛있는 곳룸서비스가 좋았음요구사항...       1   \n",
       "3    10.0                                      가격에 맞게 만족했습니다       1   \n",
       "4    10.0  처음 세명으로 셋팅 되어있지 않은점 빼고는 직원들의 친절도 및 서비스는 모두 맘에 ...       1   \n",
       "\n",
       "                                        description2  \n",
       "0        [직원, 서비스, 마인드, 완벽, 노후, 시설, 라운지, 호텔, 이름, 부족]  \n",
       "1      [웨스틴, 조선, 면, 최고, 숙소, 생각, 분위기, 편의, 직원, 친절, 인상]  \n",
       "2  [서울, 시내, 호, 수, 곳, 아침, 뷔페, 곳, 룸서비스, 요구, 사항, 응대,...  \n",
       "3                                           [가격, 만족]  \n",
       "4  [처음, 명, 셋, 점, 직원, 친절, 서비스, 맘, 시설, 불편, 추가, 커피, ...  "
      ]
     },
     "execution_count": 44,
     "metadata": {},
     "output_type": "execute_result"
    }
   ],
   "source": [
    "data.head()"
   ]
  },
  {
   "cell_type": "code",
   "execution_count": 45,
   "id": "be8cf1c9",
   "metadata": {},
   "outputs": [],
   "source": [
    "X = data['description']\n",
    "y = data['isgood']"
   ]
  },
  {
   "cell_type": "code",
   "execution_count": 46,
   "id": "1df5afe0",
   "metadata": {},
   "outputs": [
    {
     "data": {
      "text/plain": [
       "isgood\n",
       "1    58386\n",
       "0    16614\n",
       "Name: count, dtype: int64"
      ]
     },
     "execution_count": 46,
     "metadata": {},
     "output_type": "execute_result"
    }
   ],
   "source": [
    "y.value_counts()"
   ]
  },
  {
   "cell_type": "markdown",
   "id": "1a9bd5e9",
   "metadata": {},
   "source": [
    "# 형태소 나누기"
   ]
  },
  {
   "cell_type": "code",
   "execution_count": 47,
   "id": "fe7d7eb6",
   "metadata": {},
   "outputs": [],
   "source": [
    "from konlpy.tag import Mecab\n",
    "mecab = Mecab()"
   ]
  },
  {
   "cell_type": "code",
   "execution_count": 48,
   "id": "c51bd308",
   "metadata": {},
   "outputs": [],
   "source": [
    "def tokenizer(x):\n",
    "    token = mecab.morphs(x)\n",
    "    return token"
   ]
  },
  {
   "cell_type": "code",
   "execution_count": 49,
   "id": "704abdc9",
   "metadata": {},
   "outputs": [],
   "source": [
    "from sklearn.feature_extraction.text import CountVectorizer, TfidfVectorizer"
   ]
  },
  {
   "cell_type": "code",
   "execution_count": 50,
   "id": "b56b3ee9",
   "metadata": {},
   "outputs": [],
   "source": [
    "cv = CountVectorizer(tokenizer=tokenizer, max_df=0.8, min_df=4, ngram_range=(1,3), stop_words=stopwords)\n",
    "X_cv = cv.fit_transform(X)"
   ]
  },
  {
   "cell_type": "code",
   "execution_count": 51,
   "id": "45be7883",
   "metadata": {},
   "outputs": [],
   "source": [
    "from sklearn.model_selection import train_test_split\n",
    "from sklearn.metrics import classification_report\n",
    "from sklearn.naive_bayes import MultinomialNB"
   ]
  },
  {
   "cell_type": "code",
   "execution_count": 52,
   "id": "8febe6c3",
   "metadata": {},
   "outputs": [],
   "source": [
    "X_train, X_valid, y_train, y_valid = train_test_split(X_cv, y, test_size=0.4, random_state=7)\n",
    "X_valid, X_test, y_valid, y_test = train_test_split(X_valid, y_valid, test_size=0.5, random_state=7)"
   ]
  },
  {
   "cell_type": "code",
   "execution_count": 53,
   "id": "3ebb85be",
   "metadata": {},
   "outputs": [
    {
     "name": "stdout",
     "output_type": "stream",
     "text": [
      "              precision    recall  f1-score   support\n",
      "\n",
      "           0       0.67      0.78      0.72      3321\n",
      "           1       0.93      0.89      0.91     11679\n",
      "\n",
      "    accuracy                           0.86     15000\n",
      "   macro avg       0.80      0.83      0.81     15000\n",
      "weighted avg       0.87      0.86      0.87     15000\n",
      "\n",
      "==================== test result ====================\n",
      "              precision    recall  f1-score   support\n",
      "\n",
      "           0       0.67      0.78      0.72      3308\n",
      "           1       0.93      0.89      0.91     11692\n",
      "\n",
      "    accuracy                           0.86     15000\n",
      "   macro avg       0.80      0.83      0.81     15000\n",
      "weighted avg       0.88      0.86      0.87     15000\n",
      "\n"
     ]
    }
   ],
   "source": [
    "mnb = MultinomialNB()\n",
    "mnb.fit(X_train, y_train)\n",
    "pred = mnb.predict(X_valid)\n",
    "print(classification_report(y_valid, pred))\n",
    "\n",
    "test_pred = mnb.predict(X_test)\n",
    "print('='*20, 'test result', '='*20)\n",
    "print(classification_report(y_test, test_pred))"
   ]
  },
  {
   "cell_type": "code",
   "execution_count": 54,
   "id": "81ad7c1c",
   "metadata": {},
   "outputs": [
    {
     "data": {
      "text/plain": [
       "0        직원들 서비스나 마인드 완벽합니다 다만 노후된 시설과 좁은 라운지가 호텔 이름에 비...\n",
       "1        웨스틴조선은 모든면에서 최고의 숙소라고 생각합니다 분위기 편의성 직원친절도까지 모두...\n",
       "2        서울시내에서 호캉스를 누릴 수 있는 곳아침 뷔페가 맛있는 곳룸서비스가 좋았음요구사항...\n",
       "3                                            가격에 맞게 만족했습니다\n",
       "4        처음 세명으로 셋팅 되어있지 않은점 빼고는 직원들의 친절도 및 서비스는 모두 맘에 ...\n",
       "                               ...                        \n",
       "74995    조식과 스탠더드 하프전망 신청해서  1박 했는데요ᆢ너무 좋아요ᆢ다만 가격이 좀 나가...\n",
       "74996    객실은 깔끔하고 에메니티도 딱 필요한만큼 있었습니다 5분거리에 중앙시장이 있어 쇼핑...\n",
       "74997    배드가 좋고 조용해서 좋았습니다찬바람이 좀 들어와서 난방기를 12시간 정도 돌려야 ...\n",
       "74998    우선 위치가 너무 좋았고 숙소에 짐을 놓고 걸어서 주변 가볼곳도 있고 먹거리도 맛있...\n",
       "74999    주차장이 부족해서 다른데에 주차했는데 아침에 이동해달라는 전화가 와서 다소 불쾌했슴...\n",
       "Name: description, Length: 75000, dtype: object"
      ]
     },
     "execution_count": 54,
     "metadata": {},
     "output_type": "execute_result"
    }
   ],
   "source": [
    "X"
   ]
  },
  {
   "cell_type": "markdown",
   "id": "745727b7",
   "metadata": {},
   "source": [
    "# TfidfVectorizer"
   ]
  },
  {
   "cell_type": "code",
   "execution_count": 55,
   "id": "89e43440",
   "metadata": {},
   "outputs": [
    {
     "data": {
      "text/plain": [
       "['이',\n",
       " '있',\n",
       " '하',\n",
       " '것',\n",
       " '들',\n",
       " '그',\n",
       " '되',\n",
       " '수',\n",
       " '왜',\n",
       " '뭐',\n",
       " '거',\n",
       " '해',\n",
       " '저',\n",
       " '너',\n",
       " '건',\n",
       " '은',\n",
       " '걸',\n",
       " '진짜',\n",
       " '보',\n",
       " '않',\n",
       " '없',\n",
       " '나',\n",
       " '사람',\n",
       " '주',\n",
       " '아니',\n",
       " '등',\n",
       " '같',\n",
       " '우리',\n",
       " '때',\n",
       " '년',\n",
       " '가',\n",
       " '한',\n",
       " '지',\n",
       " '대하',\n",
       " '오',\n",
       " '말',\n",
       " '일',\n",
       " '그렇',\n",
       " '위하',\n",
       " '때문',\n",
       " '그것',\n",
       " '두',\n",
       " '말하',\n",
       " '알',\n",
       " '그러나',\n",
       " '받',\n",
       " '못하',\n",
       " '일',\n",
       " '그런',\n",
       " '또',\n",
       " '문제',\n",
       " '더',\n",
       " '사회',\n",
       " '많',\n",
       " '그리고',\n",
       " '좋',\n",
       " '크',\n",
       " '따르',\n",
       " '중',\n",
       " '나오',\n",
       " '가지',\n",
       " '씨',\n",
       " '시키',\n",
       " '만들',\n",
       " '지금',\n",
       " '생각하',\n",
       " '그러',\n",
       " '속',\n",
       " '하나',\n",
       " '집',\n",
       " '살',\n",
       " '모르',\n",
       " '적',\n",
       " '월',\n",
       " '데',\n",
       " '자신',\n",
       " '안',\n",
       " '어떤',\n",
       " '내',\n",
       " '내',\n",
       " '경우',\n",
       " '명',\n",
       " '생각',\n",
       " '시간',\n",
       " '그녀',\n",
       " '다시',\n",
       " '이런',\n",
       " '앞',\n",
       " '보이',\n",
       " '번',\n",
       " '나',\n",
       " '다른',\n",
       " '어떻',\n",
       " '여자',\n",
       " '개',\n",
       " '전',\n",
       " '들',\n",
       " '사실',\n",
       " '이렇',\n",
       " '점',\n",
       " '싶',\n",
       " '말',\n",
       " '정도',\n",
       " '좀',\n",
       " '원',\n",
       " '잘',\n",
       " '통하',\n",
       " '소리',\n",
       " '놓',\n",
       " '들',\n",
       " '나',\n",
       " '된',\n",
       " '과',\n",
       " '은',\n",
       " '가',\n",
       " '에',\n",
       " '호텔',\n",
       " '것',\n",
       " '수']"
      ]
     },
     "execution_count": 55,
     "metadata": {},
     "output_type": "execute_result"
    }
   ],
   "source": [
    "stopwords"
   ]
  },
  {
   "cell_type": "code",
   "execution_count": 59,
   "id": "115b4843",
   "metadata": {
    "scrolled": true
   },
   "outputs": [],
   "source": [
    "tfidf_cv = TfidfVectorizer(tokenizer=tokenizer, max_df=0.8, min_df=4, ngram_range=(1, 3), stop_words=stopwords)\n",
    "X_tfidf = tfidf_cv.fit_transform(X)"
   ]
  },
  {
   "cell_type": "code",
   "execution_count": 57,
   "id": "0a19b90d",
   "metadata": {},
   "outputs": [],
   "source": [
    "from sklearn.model_selection import train_test_split\n",
    "from sklearn.metrics import classification_report\n",
    "from sklearn.naive_bayes import MultinomialNB"
   ]
  },
  {
   "cell_type": "code",
   "execution_count": 60,
   "id": "70d91d50",
   "metadata": {
    "scrolled": true
   },
   "outputs": [],
   "source": [
    "# 학습/검증/테스트 데이터 분리\n",
    "X_train, X_valid, y_train, y_valid = train_test_split(X_tfidf, y, test_size=0.4, random_state=7)\n",
    "X_valid, X_test, y_valid, y_test = train_test_split(X_valid, y_valid, test_size=0.5, random_state=7)"
   ]
  },
  {
   "cell_type": "code",
   "execution_count": 62,
   "id": "438af575",
   "metadata": {},
   "outputs": [
    {
     "name": "stdout",
     "output_type": "stream",
     "text": [
      "              precision    recall  f1-score   support\n",
      "\n",
      "           0       0.89      0.33      0.48      3321\n",
      "           1       0.84      0.99      0.91     11679\n",
      "\n",
      "    accuracy                           0.84     15000\n",
      "   macro avg       0.86      0.66      0.69     15000\n",
      "weighted avg       0.85      0.84      0.81     15000\n",
      "\n",
      "==================== test result ====================\n",
      "              precision    recall  f1-score   support\n",
      "\n",
      "           0       0.86      0.35      0.49      3308\n",
      "           1       0.84      0.98      0.91     11692\n",
      "\n",
      "    accuracy                           0.84     15000\n",
      "   macro avg       0.85      0.66      0.70     15000\n",
      "weighted avg       0.85      0.84      0.82     15000\n",
      "\n"
     ]
    }
   ],
   "source": [
    "mnb = MultinomialNB()\n",
    "mnb.fit(X_train, y_train)\n",
    "pred = mnb.predict(X_valid)\n",
    "print(classification_report(y_valid, pred))\n",
    "\n",
    "test_pred = mnb.predict(X_test)\n",
    "print('='*20, 'test result', '='*20)\n",
    "print(classification_report(y_test, test_pred))"
   ]
  },
  {
   "cell_type": "code",
   "execution_count": null,
   "id": "b553c6e8",
   "metadata": {},
   "outputs": [],
   "source": []
  },
  {
   "cell_type": "markdown",
   "id": "1c8d134f",
   "metadata": {},
   "source": [
    "# SMOTE 로 데이터 증폭 후 분석"
   ]
  },
  {
   "cell_type": "code",
   "execution_count": 63,
   "id": "810e4c8c",
   "metadata": {},
   "outputs": [
    {
     "name": "stdout",
     "output_type": "stream",
     "text": [
      "Collecting imbalanced-learn\n",
      "  Downloading imbalanced_learn-0.12.3-py3-none-any.whl.metadata (8.3 kB)\n",
      "Requirement already satisfied: numpy>=1.17.3 in /home/user/miniforge3/envs/nlp/lib/python3.10/site-packages (from imbalanced-learn) (2.1.0)\n",
      "Requirement already satisfied: scipy>=1.5.0 in /home/user/miniforge3/envs/nlp/lib/python3.10/site-packages (from imbalanced-learn) (1.14.1)\n",
      "Requirement already satisfied: scikit-learn>=1.0.2 in /home/user/miniforge3/envs/nlp/lib/python3.10/site-packages (from imbalanced-learn) (1.5.1)\n",
      "Requirement already satisfied: joblib>=1.1.1 in /home/user/miniforge3/envs/nlp/lib/python3.10/site-packages (from imbalanced-learn) (1.4.2)\n",
      "Requirement already satisfied: threadpoolctl>=2.0.0 in /home/user/miniforge3/envs/nlp/lib/python3.10/site-packages (from imbalanced-learn) (3.5.0)\n",
      "Downloading imbalanced_learn-0.12.3-py3-none-any.whl (258 kB)\n",
      "Installing collected packages: imbalanced-learn\n",
      "Successfully installed imbalanced-learn-0.12.3\n"
     ]
    }
   ],
   "source": [
    "# !pip install imbalanced-learn"
   ]
  },
  {
   "cell_type": "code",
   "execution_count": 64,
   "id": "766e4d4b",
   "metadata": {},
   "outputs": [],
   "source": [
    "from imblearn.over_sampling import SMOTE"
   ]
  },
  {
   "cell_type": "code",
   "execution_count": 65,
   "id": "2caa5e0b",
   "metadata": {},
   "outputs": [],
   "source": [
    "smt = SMOTE(random_state=7)\n",
    "X_train_smt, y_train_smt = smt.fit_resample(X_train, y_train)"
   ]
  },
  {
   "cell_type": "code",
   "execution_count": 66,
   "id": "7354c27b",
   "metadata": {},
   "outputs": [
    {
     "data": {
      "text/plain": [
       "isgood\n",
       "1    35015\n",
       "0    35015\n",
       "Name: count, dtype: int64"
      ]
     },
     "execution_count": 66,
     "metadata": {},
     "output_type": "execute_result"
    }
   ],
   "source": [
    "y_train_smt.value_counts()"
   ]
  },
  {
   "cell_type": "code",
   "execution_count": 67,
   "id": "75805afb",
   "metadata": {},
   "outputs": [
    {
     "data": {
      "text/plain": [
       "<Compressed Sparse Row sparse matrix of dtype 'float64'\n",
       "\twith 5344475 stored elements and shape (70030, 140332)>"
      ]
     },
     "execution_count": 67,
     "metadata": {},
     "output_type": "execute_result"
    }
   ],
   "source": [
    "X_train_smt"
   ]
  },
  {
   "cell_type": "code",
   "execution_count": 69,
   "id": "b8dca724",
   "metadata": {
    "scrolled": true
   },
   "outputs": [
    {
     "name": "stdout",
     "output_type": "stream",
     "text": [
      "              precision    recall  f1-score   support\n",
      "\n",
      "           0       0.62      0.84      0.72      3321\n",
      "           1       0.95      0.86      0.90     11679\n",
      "\n",
      "    accuracy                           0.85     15000\n",
      "   macro avg       0.79      0.85      0.81     15000\n",
      "weighted avg       0.88      0.85      0.86     15000\n",
      "\n",
      "==================== test result ====================\n",
      "              precision    recall  f1-score   support\n",
      "\n",
      "           0       0.62      0.84      0.72      3308\n",
      "           1       0.95      0.86      0.90     11692\n",
      "\n",
      "    accuracy                           0.85     15000\n",
      "   macro avg       0.79      0.85      0.81     15000\n",
      "weighted avg       0.88      0.85      0.86     15000\n",
      "\n"
     ]
    }
   ],
   "source": [
    "mnb = MultinomialNB()\n",
    "mnb.fit(X_train_smt, y_train_smt)\n",
    "pred = mnb.predict(X_valid)\n",
    "print(classification_report(y_valid, pred))\n",
    "\n",
    "test_pred = mnb.predict(X_test)\n",
    "print('='*20, 'test result', '='*20)\n",
    "print(classification_report(y_test, test_pred))"
   ]
  },
  {
   "cell_type": "code",
   "execution_count": null,
   "id": "5dbf6ba7",
   "metadata": {},
   "outputs": [],
   "source": []
  },
  {
   "cell_type": "code",
   "execution_count": null,
   "id": "7d48e48f",
   "metadata": {},
   "outputs": [],
   "source": []
  },
  {
   "cell_type": "code",
   "execution_count": null,
   "id": "90c76c6a",
   "metadata": {},
   "outputs": [],
   "source": []
  },
  {
   "cell_type": "code",
   "execution_count": null,
   "id": "f9ada4e1",
   "metadata": {},
   "outputs": [],
   "source": []
  },
  {
   "cell_type": "code",
   "execution_count": null,
   "id": "ef4f5206",
   "metadata": {},
   "outputs": [],
   "source": []
  },
  {
   "cell_type": "code",
   "execution_count": null,
   "id": "9bc249b7",
   "metadata": {},
   "outputs": [],
   "source": []
  },
  {
   "cell_type": "code",
   "execution_count": null,
   "id": "0d84ac05",
   "metadata": {},
   "outputs": [],
   "source": []
  },
  {
   "cell_type": "code",
   "execution_count": null,
   "id": "43d16b60",
   "metadata": {},
   "outputs": [],
   "source": []
  },
  {
   "cell_type": "code",
   "execution_count": null,
   "id": "94da4824",
   "metadata": {},
   "outputs": [],
   "source": []
  },
  {
   "cell_type": "code",
   "execution_count": null,
   "id": "875c9db9",
   "metadata": {},
   "outputs": [],
   "source": []
  },
  {
   "cell_type": "code",
   "execution_count": null,
   "id": "4b345572",
   "metadata": {},
   "outputs": [],
   "source": []
  },
  {
   "cell_type": "code",
   "execution_count": null,
   "id": "c3bf9367",
   "metadata": {},
   "outputs": [],
   "source": []
  },
  {
   "cell_type": "code",
   "execution_count": null,
   "id": "0408b152",
   "metadata": {},
   "outputs": [],
   "source": []
  },
  {
   "cell_type": "code",
   "execution_count": null,
   "id": "8af5becc",
   "metadata": {},
   "outputs": [],
   "source": []
  },
  {
   "cell_type": "code",
   "execution_count": null,
   "id": "9797c633",
   "metadata": {},
   "outputs": [],
   "source": []
  },
  {
   "cell_type": "code",
   "execution_count": null,
   "id": "cd3933bf",
   "metadata": {},
   "outputs": [],
   "source": []
  },
  {
   "cell_type": "code",
   "execution_count": null,
   "id": "f915044a",
   "metadata": {},
   "outputs": [],
   "source": []
  },
  {
   "cell_type": "code",
   "execution_count": null,
   "id": "848b1f46",
   "metadata": {},
   "outputs": [],
   "source": []
  },
  {
   "cell_type": "code",
   "execution_count": null,
   "id": "66529ade",
   "metadata": {},
   "outputs": [],
   "source": []
  },
  {
   "cell_type": "code",
   "execution_count": null,
   "id": "0f3dc8db",
   "metadata": {},
   "outputs": [],
   "source": []
  },
  {
   "cell_type": "code",
   "execution_count": null,
   "id": "c3063738",
   "metadata": {},
   "outputs": [],
   "source": []
  },
  {
   "cell_type": "code",
   "execution_count": null,
   "id": "56952900",
   "metadata": {},
   "outputs": [],
   "source": []
  },
  {
   "cell_type": "markdown",
   "id": "58bd1732",
   "metadata": {},
   "source": [
    "#### 내가 한 거"
   ]
  },
  {
   "cell_type": "code",
   "execution_count": null,
   "id": "7da6b657",
   "metadata": {},
   "outputs": [],
   "source": [
    "import string"
   ]
  },
  {
   "cell_type": "code",
   "execution_count": null,
   "id": "10327492",
   "metadata": {},
   "outputs": [],
   "source": [
    "string.punctuation"
   ]
  },
  {
   "cell_type": "code",
   "execution_count": null,
   "id": "d51c6844",
   "metadata": {},
   "outputs": [],
   "source": []
  },
  {
   "cell_type": "markdown",
   "id": "fc270dc6",
   "metadata": {},
   "source": [
    "# 정규표현식"
   ]
  },
  {
   "cell_type": "code",
   "execution_count": null,
   "id": "a29a348b",
   "metadata": {},
   "outputs": [],
   "source": [
    "import re"
   ]
  },
  {
   "cell_type": "code",
   "execution_count": null,
   "id": "c4be6fdc",
   "metadata": {},
   "outputs": [],
   "source": [
    "def text_clean(x):\n",
    "    pattern = r'[가-힣0-9a-zA-Z]+'\n",
    "    matches = re.findall(pattern, x)\n",
    "    matches = \" \".join(matches)\n",
    "    return matches"
   ]
  },
  {
   "cell_type": "code",
   "execution_count": null,
   "id": "e39795c1",
   "metadata": {},
   "outputs": [],
   "source": [
    "data['description'].apply(text_clean)"
   ]
  },
  {
   "cell_type": "code",
   "execution_count": null,
   "id": "9ff7b1a5",
   "metadata": {},
   "outputs": [],
   "source": [
    "data['description'] = data['description'].apply(text_clean)"
   ]
  },
  {
   "cell_type": "code",
   "execution_count": null,
   "id": "fb641b0f",
   "metadata": {},
   "outputs": [],
   "source": [
    "data['description']"
   ]
  },
  {
   "cell_type": "code",
   "execution_count": null,
   "id": "484acf79",
   "metadata": {},
   "outputs": [],
   "source": [
    "X = data['description']\n",
    "y = data['rating']"
   ]
  },
  {
   "cell_type": "code",
   "execution_count": null,
   "id": "dfe1e496",
   "metadata": {},
   "outputs": [],
   "source": [
    "X"
   ]
  },
  {
   "cell_type": "code",
   "execution_count": null,
   "id": "49046cb5",
   "metadata": {},
   "outputs": [],
   "source": [
    "y"
   ]
  },
  {
   "cell_type": "code",
   "execution_count": null,
   "id": "c2182825",
   "metadata": {},
   "outputs": [],
   "source": []
  },
  {
   "cell_type": "code",
   "execution_count": null,
   "id": "efbc3b15",
   "metadata": {},
   "outputs": [],
   "source": [
    "from konlpy.tag import Mecab\n",
    "mecab = Mecab()"
   ]
  },
  {
   "cell_type": "code",
   "execution_count": null,
   "id": "32a478d5",
   "metadata": {},
   "outputs": [],
   "source": [
    "def tokenizer(text):\n",
    "    tokens = mecab.morphs(text)\n",
    "    # print(tokens)\n",
    "    return tokens"
   ]
  },
  {
   "cell_type": "code",
   "execution_count": null,
   "id": "8c38a90e",
   "metadata": {
    "scrolled": true
   },
   "outputs": [],
   "source": [
    "tokenizer(data['description'][4])"
   ]
  },
  {
   "cell_type": "code",
   "execution_count": null,
   "id": "e0b875c2",
   "metadata": {},
   "outputs": [],
   "source": [
    "from sklearn.feature_extraction.text import CountVectorizer"
   ]
  },
  {
   "cell_type": "markdown",
   "id": "4466c19e",
   "metadata": {},
   "source": [
    "cv = CountVectorizer(tokenizer=tokenizer, max_df=0.8, min_df=3, ngram_range=(1,2))\n",
    "train_X_cv = cv.fit_transform(train_X)\n",
    "test_X_cv = cv.transform(test_X)"
   ]
  },
  {
   "cell_type": "code",
   "execution_count": null,
   "id": "77615661",
   "metadata": {},
   "outputs": [],
   "source": []
  },
  {
   "cell_type": "code",
   "execution_count": null,
   "id": "42f1b0ea",
   "metadata": {},
   "outputs": [],
   "source": []
  },
  {
   "cell_type": "code",
   "execution_count": null,
   "id": "23553015",
   "metadata": {},
   "outputs": [],
   "source": []
  },
  {
   "cell_type": "code",
   "execution_count": null,
   "id": "0721214c",
   "metadata": {},
   "outputs": [],
   "source": [
    "whole_words=[]\n",
    "for words in data['description']:\n",
    "    for word in words.split():\n",
    "        whole_words.append(word)"
   ]
  },
  {
   "cell_type": "code",
   "execution_count": null,
   "id": "db8a1f78",
   "metadata": {},
   "outputs": [],
   "source": [
    "whole_words"
   ]
  },
  {
   "cell_type": "code",
   "execution_count": null,
   "id": "2378a694",
   "metadata": {},
   "outputs": [],
   "source": [
    "from nltk.probability import FreqDist"
   ]
  },
  {
   "cell_type": "code",
   "execution_count": null,
   "id": "a3b71745",
   "metadata": {},
   "outputs": [],
   "source": [
    "FreqDist(whole_words)"
   ]
  },
  {
   "cell_type": "code",
   "execution_count": null,
   "id": "c6f9c973",
   "metadata": {},
   "outputs": [],
   "source": [
    "from matplotlib import font_manager, rc\n",
    "import platform"
   ]
  },
  {
   "cell_type": "code",
   "execution_count": null,
   "id": "58b57966",
   "metadata": {},
   "outputs": [],
   "source": [
    "# 한글 폰트 설정\n",
    "if platform.system() == 'Windows':\n",
    "    font_name = font_manager.FontProperties(fname='C:/Windows/Fonts/NanumGothic.ttf').get_name()\n",
    "    rc('font', family=font_name)\n",
    "elif platform.system() == 'Darwin':  # MacOS\n",
    "    rc('font', family='AppleGothic')\n",
    "else:\n",
    "    rc('font', family='NanumGothic')\n",
    "\n",
    "# 마이너스 폰트 깨짐 방지\n",
    "plt.rcParams['axes.unicode_minus'] = False"
   ]
  },
  {
   "cell_type": "code",
   "execution_count": null,
   "id": "8dd7b50f",
   "metadata": {},
   "outputs": [],
   "source": [
    "# 그래프 예시\n",
    "plt.figure(figsize=(20, 10))\n",
    "FreqDist(whole_words).plot(50)"
   ]
  },
  {
   "cell_type": "code",
   "execution_count": null,
   "id": "305154d1",
   "metadata": {},
   "outputs": [],
   "source": [
    "result = \" \".join(whole_words)\n",
    "print(len(result))"
   ]
  },
  {
   "cell_type": "code",
   "execution_count": null,
   "id": "639be33a",
   "metadata": {},
   "outputs": [],
   "source": []
  },
  {
   "cell_type": "markdown",
   "id": "499680e4",
   "metadata": {},
   "source": [
    "# word Cloud 만들기"
   ]
  },
  {
   "cell_type": "code",
   "execution_count": null,
   "id": "242dc51c",
   "metadata": {},
   "outputs": [],
   "source": [
    "from wordcloud import WordCloud"
   ]
  },
  {
   "cell_type": "code",
   "execution_count": null,
   "id": "b5f90190",
   "metadata": {},
   "outputs": [],
   "source": [
    "# 한글 폰트 경로 설정 (NanumGothic 폰트가 설치되어 있어야 합니다)\n",
    "font_path = '/usr/share/fonts/truetype/nanum/NanumGothic.ttf'\n",
    "\n",
    "# 워드클라우드 생성\n",
    "wc = WordCloud(font_path=font_path).generate(result)\n",
    "\n",
    "# 그래프 크기 설정\n",
    "plt.figure(figsize=(10, 5))\n",
    "\n",
    "# 워드클라우드 이미지 표시\n",
    "plt.imshow(wc, interpolation='bilinear') # interpolation='bilinear' 글자 이미지 부드럽게\n",
    "\n",
    "# 축 숨기기\n",
    "plt.axis('off')"
   ]
  },
  {
   "cell_type": "code",
   "execution_count": null,
   "id": "ec53c433",
   "metadata": {},
   "outputs": [],
   "source": []
  },
  {
   "cell_type": "code",
   "execution_count": null,
   "id": "5d5e8b75",
   "metadata": {},
   "outputs": [],
   "source": [
    "data2 = pd.concat([X,y], axis=1)\n",
    "data2"
   ]
  },
  {
   "cell_type": "code",
   "execution_count": null,
   "id": "44b4f910",
   "metadata": {},
   "outputs": [],
   "source": [
    "good = data2.loc[data['rating'] >= 8.0, 'description']\n",
    "good.head()"
   ]
  },
  {
   "cell_type": "code",
   "execution_count": null,
   "id": "5fae6c69",
   "metadata": {},
   "outputs": [],
   "source": [
    "bad = data2.loc[data['rating'] < 8.0, 'description']\n",
    "bad.head()"
   ]
  },
  {
   "cell_type": "code",
   "execution_count": null,
   "id": "34818f6d",
   "metadata": {},
   "outputs": [],
   "source": [
    "good_text = \" \".join(list(good))\n",
    "len(good_text)"
   ]
  },
  {
   "cell_type": "code",
   "execution_count": null,
   "id": "d51b8065",
   "metadata": {},
   "outputs": [],
   "source": [
    "bad_text = \" \".join(list(bad))\n",
    "len(bad_text)"
   ]
  },
  {
   "cell_type": "code",
   "execution_count": null,
   "id": "f933d4c1",
   "metadata": {},
   "outputs": [],
   "source": [
    "font_path = '/usr/share/fonts/truetype/nanum/NanumGothic.ttf'\n",
    "wc = WordCloud(font_path=font_path).generate(good_text)\n",
    "plt.figure(figsize=(10,5))\n",
    "plt.imshow(wc)\n",
    "plt.axis('off')"
   ]
  },
  {
   "cell_type": "code",
   "execution_count": null,
   "id": "d9cd63d6",
   "metadata": {},
   "outputs": [],
   "source": [
    "font_path = '/usr/share/fonts/truetype/nanum/NanumGothic.ttf'\n",
    "wc = WordCloud(font_path=font_path).generate(bad_text)\n",
    "plt.figure(figsize=(10,5))\n",
    "plt.imshow(wc)\n",
    "plt.axis('off')"
   ]
  },
  {
   "cell_type": "code",
   "execution_count": null,
   "id": "1cfb6af6",
   "metadata": {},
   "outputs": [],
   "source": []
  },
  {
   "cell_type": "code",
   "execution_count": null,
   "id": "e9ca0fa1",
   "metadata": {},
   "outputs": [],
   "source": [
    "#"
   ]
  },
  {
   "cell_type": "markdown",
   "id": "14668fd8",
   "metadata": {},
   "source": [
    "# 나이브 베이즈를 이용해서 감성분석하기"
   ]
  },
  {
   "cell_type": "code",
   "execution_count": null,
   "id": "2a9e9689",
   "metadata": {},
   "outputs": [],
   "source": [
    "from sklearn.feature_extraction.text import CountVectorizer"
   ]
  },
  {
   "cell_type": "markdown",
   "id": "3d1e33d5",
   "metadata": {},
   "source": [
    "cv = CountVectorizer()\n",
    "test_X = [good_text, bad_text]\n",
    "X_vec = cv.fit_transform(test_X)\n",
    "X_vec"
   ]
  },
  {
   "cell_type": "code",
   "execution_count": null,
   "id": "fdfaea30",
   "metadata": {},
   "outputs": [],
   "source": []
  },
  {
   "cell_type": "code",
   "execution_count": null,
   "id": "782be108",
   "metadata": {},
   "outputs": [],
   "source": [
    "# good_text와 bad_text를 결합하여 리스트로 입력\n",
    "test_X2 = [good_text, bad_text]\n",
    "test_y2 = [1, 0]  # good_text는 1, bad_text는 0으로 레이블\n",
    "\n",
    "# CountVectorizer를 사용하여 벡터화\n",
    "cv2 = CountVectorizer()\n",
    "X_vec2 = cv2.fit_transform(test_X2)\n",
    "\n",
    "# train과 test 데이터로 나누기 (여기서는 두 개의 큰 문서만 있으므로 train/test split을 생략할 수 있음)\n",
    "mnb2 = MultinomialNB()\n",
    "mnb2.fit(X_vec2, test_y2)\n",
    "\n",
    "# 예측 및 성능 평가\n",
    "pred2 = mnb.predict(X_vec2)\n",
    "print(accuracy_score(test_y2, pred2))\n",
    "print(classification_report(test_y2, pred2))"
   ]
  },
  {
   "cell_type": "code",
   "execution_count": null,
   "id": "f3d8fdb5",
   "metadata": {},
   "outputs": [],
   "source": []
  },
  {
   "cell_type": "code",
   "execution_count": null,
   "id": "b4878b36",
   "metadata": {},
   "outputs": [],
   "source": []
  },
  {
   "cell_type": "code",
   "execution_count": null,
   "id": "285c6a15",
   "metadata": {},
   "outputs": [],
   "source": []
  },
  {
   "cell_type": "code",
   "execution_count": null,
   "id": "0b26b107",
   "metadata": {},
   "outputs": [],
   "source": []
  },
  {
   "cell_type": "code",
   "execution_count": null,
   "id": "ea344bf7",
   "metadata": {},
   "outputs": [],
   "source": []
  },
  {
   "cell_type": "code",
   "execution_count": null,
   "id": "f77a47c5",
   "metadata": {},
   "outputs": [],
   "source": []
  },
  {
   "cell_type": "code",
   "execution_count": null,
   "id": "d1c0f4df",
   "metadata": {},
   "outputs": [],
   "source": []
  },
  {
   "cell_type": "code",
   "execution_count": null,
   "id": "9ee38617",
   "metadata": {},
   "outputs": [],
   "source": [
    "cv = CountVectorizer()\n",
    "\n",
    "# good과 bad 리스트를 결합하여 CountVectorizer에 입력\n",
    "test_X = good.tolist() + bad.tolist()  # 개별 문장 리스트로 변환\n",
    "test_y = [1] * len(good) + [0] * len(bad)  # good은 1, bad는 0으로 레이블 생성\n",
    "\n",
    "# 텍스트 데이터를 벡터화\n",
    "X_vec = cv.fit_transform(test_X)"
   ]
  },
  {
   "cell_type": "markdown",
   "id": "9d9b87e9",
   "metadata": {},
   "source": [
    "test_y = [1] * len(good) + [0] * len(bad) 부분은 good과 bad 데이터를 기반으로 레이블(y)을 생성하는 코드입니다.<br>\n",
    "이 코드는 good 데이터를 1로, bad 데이터를 0으로 레이블링하여 분류 작업에 사용될 목표 변수를 만드는 과정"
   ]
  },
  {
   "cell_type": "code",
   "execution_count": null,
   "id": "618717d3",
   "metadata": {},
   "outputs": [],
   "source": [
    "from sklearn.model_selection import train_test_split"
   ]
  },
  {
   "cell_type": "code",
   "execution_count": null,
   "id": "29439c07",
   "metadata": {
    "scrolled": true
   },
   "outputs": [],
   "source": [
    "X_train, X_valid, y_train, y_valid = train_test_split(X_vec, test_y, test_size=0.2, random_state=7)\n",
    "X_valid, X_test, y_valid, y_test = train_test_split(X_valid, y_valid, test_size =0.5, random_state=7)"
   ]
  },
  {
   "cell_type": "code",
   "execution_count": null,
   "id": "ef9e44b5",
   "metadata": {},
   "outputs": [],
   "source": [
    "from sklearn.naive_bayes import MultinomialNB\n",
    "from sklearn.metrics import accuracy_score, classification_report"
   ]
  },
  {
   "cell_type": "code",
   "execution_count": null,
   "id": "9f453c12",
   "metadata": {},
   "outputs": [],
   "source": [
    "mnb = MultinomialNB()\n",
    "mnb.fit(X_train, y_train)\n",
    "pred = mnb.predict(X_valid)\n",
    "print(accuracy_score(y_valid, pred))\n",
    "print(classification_report(y_valid, pred))"
   ]
  },
  {
   "cell_type": "code",
   "execution_count": null,
   "id": "44336f16",
   "metadata": {},
   "outputs": [],
   "source": [
    "data['rating'].nunique()"
   ]
  },
  {
   "cell_type": "code",
   "execution_count": null,
   "id": "6af9196f",
   "metadata": {},
   "outputs": [],
   "source": []
  },
  {
   "cell_type": "code",
   "execution_count": null,
   "id": "d57e9a7e",
   "metadata": {},
   "outputs": [],
   "source": []
  },
  {
   "cell_type": "code",
   "execution_count": null,
   "id": "123f0668",
   "metadata": {},
   "outputs": [],
   "source": []
  },
  {
   "cell_type": "code",
   "execution_count": null,
   "id": "def84d0f",
   "metadata": {},
   "outputs": [],
   "source": []
  },
  {
   "cell_type": "code",
   "execution_count": null,
   "id": "51057006",
   "metadata": {},
   "outputs": [],
   "source": []
  },
  {
   "cell_type": "code",
   "execution_count": null,
   "id": "d4ee8ce8",
   "metadata": {},
   "outputs": [],
   "source": []
  },
  {
   "cell_type": "code",
   "execution_count": null,
   "id": "583e016f",
   "metadata": {},
   "outputs": [],
   "source": []
  },
  {
   "cell_type": "code",
   "execution_count": null,
   "id": "3ad492e7",
   "metadata": {},
   "outputs": [],
   "source": []
  },
  {
   "cell_type": "code",
   "execution_count": null,
   "id": "11b094af",
   "metadata": {},
   "outputs": [],
   "source": []
  },
  {
   "cell_type": "markdown",
   "id": "30c8f2a8",
   "metadata": {},
   "source": [
    "# Konlpy의 Mecab을 이용해 형태소 분리"
   ]
  },
  {
   "cell_type": "code",
   "execution_count": null,
   "id": "33e10564",
   "metadata": {},
   "outputs": [],
   "source": [
    "from konlpy.tag import Mecab\n",
    "mecab = Mecab()"
   ]
  },
  {
   "cell_type": "code",
   "execution_count": null,
   "id": "5240aaed",
   "metadata": {},
   "outputs": [],
   "source": [
    "def tokenizer(text):\n",
    "    tokens = mecab.morphs(text)\n",
    "    return tokens"
   ]
  },
  {
   "cell_type": "code",
   "execution_count": null,
   "id": "9e1c7c2d",
   "metadata": {},
   "outputs": [],
   "source": [
    "tokenizer(data['description'][1])"
   ]
  },
  {
   "cell_type": "code",
   "execution_count": null,
   "id": "26db4cfc",
   "metadata": {},
   "outputs": [],
   "source": []
  },
  {
   "cell_type": "code",
   "execution_count": null,
   "id": "9d7b83cd",
   "metadata": {},
   "outputs": [],
   "source": [
    "from sklearn.model_selection import train_test_split"
   ]
  },
  {
   "cell_type": "code",
   "execution_count": null,
   "id": "d9ccf35d",
   "metadata": {},
   "outputs": [],
   "source": [
    "X_train, X_test, y_train, y_test = train_test_split(train_X_cv, train_y, test_size=0.4, random_state=7)"
   ]
  },
  {
   "cell_type": "code",
   "execution_count": null,
   "id": "55187b81",
   "metadata": {},
   "outputs": [],
   "source": [
    "from sklearn.naive_bayes import MultinomialNB\n",
    "from sklearn.metrics import accuracy_score, classification_report"
   ]
  },
  {
   "cell_type": "code",
   "execution_count": null,
   "id": "e83a30de",
   "metadata": {},
   "outputs": [],
   "source": [
    "mnb = MultinomialNB()\n",
    "mnb.fit(X_train, y_train)\n",
    "pred = mnb.predict(X_test)\n",
    "print(accuracy_score(y_test, pred))\n",
    "print(classification_report(y_test, pred))"
   ]
  },
  {
   "cell_type": "code",
   "execution_count": null,
   "id": "6daf3584",
   "metadata": {},
   "outputs": [],
   "source": [
    "test_pred = mnb.predict(test_X_cv)\n",
    "print(accuracy_score(test_y, test_pred))\n",
    "print(classification_report(test_y, test_pred))"
   ]
  },
  {
   "cell_type": "code",
   "execution_count": null,
   "id": "fa60ab9a",
   "metadata": {},
   "outputs": [],
   "source": []
  },
  {
   "cell_type": "code",
   "execution_count": null,
   "id": "43596782",
   "metadata": {},
   "outputs": [],
   "source": []
  },
  {
   "cell_type": "code",
   "execution_count": null,
   "id": "589fd8e3",
   "metadata": {},
   "outputs": [],
   "source": []
  },
  {
   "cell_type": "code",
   "execution_count": null,
   "id": "fcc2cba4",
   "metadata": {},
   "outputs": [],
   "source": []
  },
  {
   "cell_type": "code",
   "execution_count": null,
   "id": "c2f6e713",
   "metadata": {},
   "outputs": [],
   "source": []
  },
  {
   "cell_type": "code",
   "execution_count": null,
   "id": "01803691",
   "metadata": {},
   "outputs": [],
   "source": []
  },
  {
   "cell_type": "code",
   "execution_count": null,
   "id": "5c384562",
   "metadata": {},
   "outputs": [],
   "source": [
    "plt.figure(figsize=(20,10))\n",
    "FreqDist(whole_words).plot(50)"
   ]
  },
  {
   "cell_type": "code",
   "execution_count": null,
   "id": "2dcee744",
   "metadata": {},
   "outputs": [],
   "source": []
  },
  {
   "cell_type": "code",
   "execution_count": null,
   "id": "84cf177d",
   "metadata": {},
   "outputs": [],
   "source": []
  },
  {
   "cell_type": "code",
   "execution_count": null,
   "id": "f58c575e",
   "metadata": {},
   "outputs": [],
   "source": []
  },
  {
   "cell_type": "code",
   "execution_count": null,
   "id": "94c7d987",
   "metadata": {},
   "outputs": [],
   "source": []
  },
  {
   "cell_type": "code",
   "execution_count": null,
   "id": "3e07b79a",
   "metadata": {},
   "outputs": [],
   "source": []
  },
  {
   "cell_type": "code",
   "execution_count": null,
   "id": "e0d33d7f",
   "metadata": {},
   "outputs": [],
   "source": []
  },
  {
   "cell_type": "code",
   "execution_count": null,
   "id": "2781821a",
   "metadata": {},
   "outputs": [],
   "source": []
  },
  {
   "cell_type": "code",
   "execution_count": null,
   "id": "90a00432",
   "metadata": {},
   "outputs": [],
   "source": []
  },
  {
   "cell_type": "code",
   "execution_count": null,
   "id": "1ccd3bf1",
   "metadata": {},
   "outputs": [],
   "source": []
  },
  {
   "cell_type": "code",
   "execution_count": null,
   "id": "e030bed4",
   "metadata": {},
   "outputs": [],
   "source": []
  },
  {
   "cell_type": "code",
   "execution_count": null,
   "id": "1e920aa3",
   "metadata": {},
   "outputs": [],
   "source": []
  },
  {
   "cell_type": "code",
   "execution_count": null,
   "id": "07b14b4b",
   "metadata": {},
   "outputs": [],
   "source": []
  },
  {
   "cell_type": "code",
   "execution_count": null,
   "id": "5e5d7b1d",
   "metadata": {},
   "outputs": [],
   "source": []
  }
 ],
 "metadata": {
  "kernelspec": {
   "display_name": "Python 3 (ipykernel)",
   "language": "python",
   "name": "python3"
  },
  "language_info": {
   "codemirror_mode": {
    "name": "ipython",
    "version": 3
   },
   "file_extension": ".py",
   "mimetype": "text/x-python",
   "name": "python",
   "nbconvert_exporter": "python",
   "pygments_lexer": "ipython3",
   "version": "3.10.14"
  }
 },
 "nbformat": 4,
 "nbformat_minor": 5
}
