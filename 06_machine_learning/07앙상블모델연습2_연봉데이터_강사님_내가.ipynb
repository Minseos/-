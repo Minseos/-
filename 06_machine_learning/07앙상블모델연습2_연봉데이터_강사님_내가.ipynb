{
 "cells": [
  {
   "cell_type": "code",
   "execution_count": 1,
   "id": "96d817c2",
   "metadata": {},
   "outputs": [],
   "source": [
    "import pandas as pd\n",
    "import numpy as np\n",
    "import matplotlib.pyplot as plt\n",
    "import seaborn as sns"
   ]
  },
  {
   "cell_type": "markdown",
   "id": "4f96105c",
   "metadata": {},
   "source": [
    "# 연봉데이터 로딩, 전처리, EDA, Feature Engineering\n",
    "# modeling, 성능 검증, 하이퍼파라미터 튜닝"
   ]
  },
  {
   "cell_type": "markdown",
   "id": "e5580a26",
   "metadata": {},
   "source": [
    "# 기본모델: DecisionTree  - 성능 기준\n",
    "# 배깅, 부스팅, 랜덤배깅 모델 튜닝"
   ]
  },
  {
   "cell_type": "markdown",
   "id": "a518464e",
   "metadata": {},
   "source": [
    "## 분석목적: 학력, 교육, 연수, 혼인상태, 직업정보가 있는 연봉데이터셋을 이용해 연봉 예측하기\n",
    "## 연봉이 5만달러 이상인지 아닌지"
   ]
  },
  {
   "cell_type": "markdown",
   "id": "66d48805",
   "metadata": {},
   "source": [
    "* age: 나이\n",
    "* workclass: 고용형태\n",
    "* education: 학력\n",
    "* education-num: 교육연수\n",
    "* marital-status: 혼인상태\n",
    "* occupation: 직업\n",
    "* relationship: 가족관계\n",
    "* race: 인종\n",
    "* sex: 성별\n",
    "* capital-gain: 자산증가\n",
    "* capital-loss: 자산감소\n",
    "* hours-per-week: 주당 노동 시간\n",
    "* native-country: 본국\n",
    "* class: 연봉구분 - target(분석대상)"
   ]
  },
  {
   "cell_type": "code",
   "execution_count": 2,
   "id": "4b8529c1",
   "metadata": {},
   "outputs": [
    {
     "data": {
      "text/html": [
       "<div>\n",
       "<style scoped>\n",
       "    .dataframe tbody tr th:only-of-type {\n",
       "        vertical-align: middle;\n",
       "    }\n",
       "\n",
       "    .dataframe tbody tr th {\n",
       "        vertical-align: top;\n",
       "    }\n",
       "\n",
       "    .dataframe thead th {\n",
       "        text-align: right;\n",
       "    }\n",
       "</style>\n",
       "<table border=\"1\" class=\"dataframe\">\n",
       "  <thead>\n",
       "    <tr style=\"text-align: right;\">\n",
       "      <th></th>\n",
       "      <th>age</th>\n",
       "      <th>workclass</th>\n",
       "      <th>education</th>\n",
       "      <th>education-num</th>\n",
       "      <th>marital-status</th>\n",
       "      <th>occupation</th>\n",
       "      <th>relationship</th>\n",
       "      <th>race</th>\n",
       "      <th>sex</th>\n",
       "      <th>capital-gain</th>\n",
       "      <th>capital-loss</th>\n",
       "      <th>hours-per-week</th>\n",
       "      <th>native-country</th>\n",
       "      <th>class</th>\n",
       "    </tr>\n",
       "  </thead>\n",
       "  <tbody>\n",
       "    <tr>\n",
       "      <th>0</th>\n",
       "      <td>25</td>\n",
       "      <td>Private</td>\n",
       "      <td>11th</td>\n",
       "      <td>7</td>\n",
       "      <td>Never-married</td>\n",
       "      <td>Machine-op-inspct</td>\n",
       "      <td>Own-child</td>\n",
       "      <td>Black</td>\n",
       "      <td>Male</td>\n",
       "      <td>0</td>\n",
       "      <td>0</td>\n",
       "      <td>40</td>\n",
       "      <td>United-States</td>\n",
       "      <td>&lt;=50K</td>\n",
       "    </tr>\n",
       "    <tr>\n",
       "      <th>1</th>\n",
       "      <td>38</td>\n",
       "      <td>Private</td>\n",
       "      <td>HS-grad</td>\n",
       "      <td>9</td>\n",
       "      <td>Married-civ-spouse</td>\n",
       "      <td>Farming-fishing</td>\n",
       "      <td>Husband</td>\n",
       "      <td>White</td>\n",
       "      <td>Male</td>\n",
       "      <td>0</td>\n",
       "      <td>0</td>\n",
       "      <td>50</td>\n",
       "      <td>United-States</td>\n",
       "      <td>&lt;=50K</td>\n",
       "    </tr>\n",
       "    <tr>\n",
       "      <th>2</th>\n",
       "      <td>28</td>\n",
       "      <td>Local-gov</td>\n",
       "      <td>Assoc-acdm</td>\n",
       "      <td>12</td>\n",
       "      <td>Married-civ-spouse</td>\n",
       "      <td>Protective-serv</td>\n",
       "      <td>Husband</td>\n",
       "      <td>White</td>\n",
       "      <td>Male</td>\n",
       "      <td>0</td>\n",
       "      <td>0</td>\n",
       "      <td>40</td>\n",
       "      <td>United-States</td>\n",
       "      <td>&gt;50K</td>\n",
       "    </tr>\n",
       "    <tr>\n",
       "      <th>3</th>\n",
       "      <td>44</td>\n",
       "      <td>Private</td>\n",
       "      <td>Some-college</td>\n",
       "      <td>10</td>\n",
       "      <td>Married-civ-spouse</td>\n",
       "      <td>Machine-op-inspct</td>\n",
       "      <td>Husband</td>\n",
       "      <td>Black</td>\n",
       "      <td>Male</td>\n",
       "      <td>7688</td>\n",
       "      <td>0</td>\n",
       "      <td>40</td>\n",
       "      <td>United-States</td>\n",
       "      <td>&gt;50K</td>\n",
       "    </tr>\n",
       "    <tr>\n",
       "      <th>4</th>\n",
       "      <td>18</td>\n",
       "      <td>NaN</td>\n",
       "      <td>Some-college</td>\n",
       "      <td>10</td>\n",
       "      <td>Never-married</td>\n",
       "      <td>NaN</td>\n",
       "      <td>Own-child</td>\n",
       "      <td>White</td>\n",
       "      <td>Female</td>\n",
       "      <td>0</td>\n",
       "      <td>0</td>\n",
       "      <td>30</td>\n",
       "      <td>United-States</td>\n",
       "      <td>&lt;=50K</td>\n",
       "    </tr>\n",
       "  </tbody>\n",
       "</table>\n",
       "</div>"
      ],
      "text/plain": [
       "   age   workclass      education  education-num       marital-status  \\\n",
       "0   25     Private           11th              7        Never-married   \n",
       "1   38     Private        HS-grad              9   Married-civ-spouse   \n",
       "2   28   Local-gov     Assoc-acdm             12   Married-civ-spouse   \n",
       "3   44     Private   Some-college             10   Married-civ-spouse   \n",
       "4   18         NaN   Some-college             10        Never-married   \n",
       "\n",
       "           occupation relationship    race      sex  capital-gain  \\\n",
       "0   Machine-op-inspct    Own-child   Black     Male             0   \n",
       "1     Farming-fishing      Husband   White     Male             0   \n",
       "2     Protective-serv      Husband   White     Male             0   \n",
       "3   Machine-op-inspct      Husband   Black     Male          7688   \n",
       "4                 NaN    Own-child   White   Female             0   \n",
       "\n",
       "   capital-loss  hours-per-week  native-country   class  \n",
       "0             0              40   United-States   <=50K  \n",
       "1             0              50   United-States   <=50K  \n",
       "2             0              40   United-States    >50K  \n",
       "3             0              40   United-States    >50K  \n",
       "4             0              30   United-States   <=50K  "
      ]
     },
     "execution_count": 2,
     "metadata": {},
     "output_type": "execute_result"
    }
   ],
   "source": [
    "data = pd.read_csv(\"https://raw.githubusercontent.com/haram4th/ADsP/main/salary2.csv\")\n",
    "data.head()"
   ]
  },
  {
   "cell_type": "code",
   "execution_count": 3,
   "id": "79c72ec4",
   "metadata": {},
   "outputs": [
    {
     "name": "stdout",
     "output_type": "stream",
     "text": [
      "<class 'pandas.core.frame.DataFrame'>\n",
      "RangeIndex: 48842 entries, 0 to 48841\n",
      "Data columns (total 14 columns):\n",
      " #   Column          Non-Null Count  Dtype \n",
      "---  ------          --------------  ----- \n",
      " 0   age             48842 non-null  int64 \n",
      " 1   workclass       46043 non-null  object\n",
      " 2   education       48842 non-null  object\n",
      " 3   education-num   48842 non-null  int64 \n",
      " 4   marital-status  48842 non-null  object\n",
      " 5   occupation      46033 non-null  object\n",
      " 6   relationship    48842 non-null  object\n",
      " 7   race            48842 non-null  object\n",
      " 8   sex             48842 non-null  object\n",
      " 9   capital-gain    48842 non-null  int64 \n",
      " 10  capital-loss    48842 non-null  int64 \n",
      " 11  hours-per-week  48842 non-null  int64 \n",
      " 12  native-country  47985 non-null  object\n",
      " 13  class           48842 non-null  object\n",
      "dtypes: int64(5), object(9)\n",
      "memory usage: 5.2+ MB\n"
     ]
    }
   ],
   "source": [
    "data.info()"
   ]
  },
  {
   "cell_type": "code",
   "execution_count": 4,
   "id": "f3b41829",
   "metadata": {},
   "outputs": [
    {
     "data": {
      "text/html": [
       "<div>\n",
       "<style scoped>\n",
       "    .dataframe tbody tr th:only-of-type {\n",
       "        vertical-align: middle;\n",
       "    }\n",
       "\n",
       "    .dataframe tbody tr th {\n",
       "        vertical-align: top;\n",
       "    }\n",
       "\n",
       "    .dataframe thead th {\n",
       "        text-align: right;\n",
       "    }\n",
       "</style>\n",
       "<table border=\"1\" class=\"dataframe\">\n",
       "  <thead>\n",
       "    <tr style=\"text-align: right;\">\n",
       "      <th></th>\n",
       "      <th>age</th>\n",
       "      <th>workclass</th>\n",
       "      <th>education</th>\n",
       "      <th>education-num</th>\n",
       "      <th>marital-status</th>\n",
       "      <th>occupation</th>\n",
       "      <th>relationship</th>\n",
       "      <th>race</th>\n",
       "      <th>sex</th>\n",
       "      <th>capital-gain</th>\n",
       "      <th>capital-loss</th>\n",
       "      <th>hours-per-week</th>\n",
       "      <th>native-country</th>\n",
       "      <th>class</th>\n",
       "    </tr>\n",
       "  </thead>\n",
       "  <tbody>\n",
       "    <tr>\n",
       "      <th>count</th>\n",
       "      <td>48842.000000</td>\n",
       "      <td>46043</td>\n",
       "      <td>48842</td>\n",
       "      <td>48842.000000</td>\n",
       "      <td>48842</td>\n",
       "      <td>46033</td>\n",
       "      <td>48842</td>\n",
       "      <td>48842</td>\n",
       "      <td>48842</td>\n",
       "      <td>48842.000000</td>\n",
       "      <td>48842.000000</td>\n",
       "      <td>48842.000000</td>\n",
       "      <td>47985</td>\n",
       "      <td>48842</td>\n",
       "    </tr>\n",
       "    <tr>\n",
       "      <th>unique</th>\n",
       "      <td>NaN</td>\n",
       "      <td>8</td>\n",
       "      <td>16</td>\n",
       "      <td>NaN</td>\n",
       "      <td>7</td>\n",
       "      <td>14</td>\n",
       "      <td>6</td>\n",
       "      <td>5</td>\n",
       "      <td>2</td>\n",
       "      <td>NaN</td>\n",
       "      <td>NaN</td>\n",
       "      <td>NaN</td>\n",
       "      <td>41</td>\n",
       "      <td>2</td>\n",
       "    </tr>\n",
       "    <tr>\n",
       "      <th>top</th>\n",
       "      <td>NaN</td>\n",
       "      <td>Private</td>\n",
       "      <td>HS-grad</td>\n",
       "      <td>NaN</td>\n",
       "      <td>Married-civ-spouse</td>\n",
       "      <td>Prof-specialty</td>\n",
       "      <td>Husband</td>\n",
       "      <td>White</td>\n",
       "      <td>Male</td>\n",
       "      <td>NaN</td>\n",
       "      <td>NaN</td>\n",
       "      <td>NaN</td>\n",
       "      <td>United-States</td>\n",
       "      <td>&lt;=50K</td>\n",
       "    </tr>\n",
       "    <tr>\n",
       "      <th>freq</th>\n",
       "      <td>NaN</td>\n",
       "      <td>33906</td>\n",
       "      <td>15784</td>\n",
       "      <td>NaN</td>\n",
       "      <td>22379</td>\n",
       "      <td>6172</td>\n",
       "      <td>19716</td>\n",
       "      <td>41762</td>\n",
       "      <td>32650</td>\n",
       "      <td>NaN</td>\n",
       "      <td>NaN</td>\n",
       "      <td>NaN</td>\n",
       "      <td>43832</td>\n",
       "      <td>37155</td>\n",
       "    </tr>\n",
       "    <tr>\n",
       "      <th>mean</th>\n",
       "      <td>38.643585</td>\n",
       "      <td>NaN</td>\n",
       "      <td>NaN</td>\n",
       "      <td>10.078089</td>\n",
       "      <td>NaN</td>\n",
       "      <td>NaN</td>\n",
       "      <td>NaN</td>\n",
       "      <td>NaN</td>\n",
       "      <td>NaN</td>\n",
       "      <td>1079.067626</td>\n",
       "      <td>87.502314</td>\n",
       "      <td>40.422382</td>\n",
       "      <td>NaN</td>\n",
       "      <td>NaN</td>\n",
       "    </tr>\n",
       "    <tr>\n",
       "      <th>std</th>\n",
       "      <td>13.710510</td>\n",
       "      <td>NaN</td>\n",
       "      <td>NaN</td>\n",
       "      <td>2.570973</td>\n",
       "      <td>NaN</td>\n",
       "      <td>NaN</td>\n",
       "      <td>NaN</td>\n",
       "      <td>NaN</td>\n",
       "      <td>NaN</td>\n",
       "      <td>7452.019058</td>\n",
       "      <td>403.004552</td>\n",
       "      <td>12.391444</td>\n",
       "      <td>NaN</td>\n",
       "      <td>NaN</td>\n",
       "    </tr>\n",
       "    <tr>\n",
       "      <th>min</th>\n",
       "      <td>17.000000</td>\n",
       "      <td>NaN</td>\n",
       "      <td>NaN</td>\n",
       "      <td>1.000000</td>\n",
       "      <td>NaN</td>\n",
       "      <td>NaN</td>\n",
       "      <td>NaN</td>\n",
       "      <td>NaN</td>\n",
       "      <td>NaN</td>\n",
       "      <td>0.000000</td>\n",
       "      <td>0.000000</td>\n",
       "      <td>1.000000</td>\n",
       "      <td>NaN</td>\n",
       "      <td>NaN</td>\n",
       "    </tr>\n",
       "    <tr>\n",
       "      <th>25%</th>\n",
       "      <td>28.000000</td>\n",
       "      <td>NaN</td>\n",
       "      <td>NaN</td>\n",
       "      <td>9.000000</td>\n",
       "      <td>NaN</td>\n",
       "      <td>NaN</td>\n",
       "      <td>NaN</td>\n",
       "      <td>NaN</td>\n",
       "      <td>NaN</td>\n",
       "      <td>0.000000</td>\n",
       "      <td>0.000000</td>\n",
       "      <td>40.000000</td>\n",
       "      <td>NaN</td>\n",
       "      <td>NaN</td>\n",
       "    </tr>\n",
       "    <tr>\n",
       "      <th>50%</th>\n",
       "      <td>37.000000</td>\n",
       "      <td>NaN</td>\n",
       "      <td>NaN</td>\n",
       "      <td>10.000000</td>\n",
       "      <td>NaN</td>\n",
       "      <td>NaN</td>\n",
       "      <td>NaN</td>\n",
       "      <td>NaN</td>\n",
       "      <td>NaN</td>\n",
       "      <td>0.000000</td>\n",
       "      <td>0.000000</td>\n",
       "      <td>40.000000</td>\n",
       "      <td>NaN</td>\n",
       "      <td>NaN</td>\n",
       "    </tr>\n",
       "    <tr>\n",
       "      <th>75%</th>\n",
       "      <td>48.000000</td>\n",
       "      <td>NaN</td>\n",
       "      <td>NaN</td>\n",
       "      <td>12.000000</td>\n",
       "      <td>NaN</td>\n",
       "      <td>NaN</td>\n",
       "      <td>NaN</td>\n",
       "      <td>NaN</td>\n",
       "      <td>NaN</td>\n",
       "      <td>0.000000</td>\n",
       "      <td>0.000000</td>\n",
       "      <td>45.000000</td>\n",
       "      <td>NaN</td>\n",
       "      <td>NaN</td>\n",
       "    </tr>\n",
       "    <tr>\n",
       "      <th>max</th>\n",
       "      <td>90.000000</td>\n",
       "      <td>NaN</td>\n",
       "      <td>NaN</td>\n",
       "      <td>16.000000</td>\n",
       "      <td>NaN</td>\n",
       "      <td>NaN</td>\n",
       "      <td>NaN</td>\n",
       "      <td>NaN</td>\n",
       "      <td>NaN</td>\n",
       "      <td>99999.000000</td>\n",
       "      <td>4356.000000</td>\n",
       "      <td>99.000000</td>\n",
       "      <td>NaN</td>\n",
       "      <td>NaN</td>\n",
       "    </tr>\n",
       "  </tbody>\n",
       "</table>\n",
       "</div>"
      ],
      "text/plain": [
       "                 age workclass education  education-num       marital-status  \\\n",
       "count   48842.000000     46043     48842   48842.000000                48842   \n",
       "unique           NaN         8        16            NaN                    7   \n",
       "top              NaN   Private   HS-grad            NaN   Married-civ-spouse   \n",
       "freq             NaN     33906     15784            NaN                22379   \n",
       "mean       38.643585       NaN       NaN      10.078089                  NaN   \n",
       "std        13.710510       NaN       NaN       2.570973                  NaN   \n",
       "min        17.000000       NaN       NaN       1.000000                  NaN   \n",
       "25%        28.000000       NaN       NaN       9.000000                  NaN   \n",
       "50%        37.000000       NaN       NaN      10.000000                  NaN   \n",
       "75%        48.000000       NaN       NaN      12.000000                  NaN   \n",
       "max        90.000000       NaN       NaN      16.000000                  NaN   \n",
       "\n",
       "             occupation relationship    race    sex  capital-gain  \\\n",
       "count             46033        48842   48842  48842  48842.000000   \n",
       "unique               14            6       5      2           NaN   \n",
       "top      Prof-specialty      Husband   White   Male           NaN   \n",
       "freq               6172        19716   41762  32650           NaN   \n",
       "mean                NaN          NaN     NaN    NaN   1079.067626   \n",
       "std                 NaN          NaN     NaN    NaN   7452.019058   \n",
       "min                 NaN          NaN     NaN    NaN      0.000000   \n",
       "25%                 NaN          NaN     NaN    NaN      0.000000   \n",
       "50%                 NaN          NaN     NaN    NaN      0.000000   \n",
       "75%                 NaN          NaN     NaN    NaN      0.000000   \n",
       "max                 NaN          NaN     NaN    NaN  99999.000000   \n",
       "\n",
       "        capital-loss  hours-per-week  native-country   class  \n",
       "count   48842.000000    48842.000000           47985   48842  \n",
       "unique           NaN             NaN              41       2  \n",
       "top              NaN             NaN   United-States   <=50K  \n",
       "freq             NaN             NaN           43832   37155  \n",
       "mean       87.502314       40.422382             NaN     NaN  \n",
       "std       403.004552       12.391444             NaN     NaN  \n",
       "min         0.000000        1.000000             NaN     NaN  \n",
       "25%         0.000000       40.000000             NaN     NaN  \n",
       "50%         0.000000       40.000000             NaN     NaN  \n",
       "75%         0.000000       45.000000             NaN     NaN  \n",
       "max      4356.000000       99.000000             NaN     NaN  "
      ]
     },
     "execution_count": 4,
     "metadata": {},
     "output_type": "execute_result"
    }
   ],
   "source": [
    "data.describe(include='all')"
   ]
  },
  {
   "cell_type": "markdown",
   "id": "f61e6e9f",
   "metadata": {},
   "source": [
    "# 1. 결측값 처리"
   ]
  },
  {
   "cell_type": "code",
   "execution_count": 5,
   "id": "7ceccfa8",
   "metadata": {},
   "outputs": [
    {
     "data": {
      "text/plain": [
       "age                  0\n",
       "workclass         2799\n",
       "education            0\n",
       "education-num        0\n",
       "marital-status       0\n",
       "occupation        2809\n",
       "relationship         0\n",
       "race                 0\n",
       "sex                  0\n",
       "capital-gain         0\n",
       "capital-loss         0\n",
       "hours-per-week       0\n",
       "native-country     857\n",
       "class                0\n",
       "dtype: int64"
      ]
     },
     "execution_count": 5,
     "metadata": {},
     "output_type": "execute_result"
    }
   ],
   "source": [
    "data.isna().sum()"
   ]
  },
  {
   "cell_type": "code",
   "execution_count": 6,
   "id": "4c6df83a",
   "metadata": {},
   "outputs": [
    {
     "data": {
      "text/plain": [
       "age               0.000000\n",
       "workclass         5.730724\n",
       "education         0.000000\n",
       "education-num     0.000000\n",
       "marital-status    0.000000\n",
       "occupation        5.751198\n",
       "relationship      0.000000\n",
       "race              0.000000\n",
       "sex               0.000000\n",
       "capital-gain      0.000000\n",
       "capital-loss      0.000000\n",
       "hours-per-week    0.000000\n",
       "native-country    1.754637\n",
       "class             0.000000\n",
       "dtype: float64"
      ]
     },
     "execution_count": 6,
     "metadata": {},
     "output_type": "execute_result"
    }
   ],
   "source": [
    "data.isna().mean() * 100"
   ]
  },
  {
   "cell_type": "code",
   "execution_count": 7,
   "id": "2daddf48",
   "metadata": {},
   "outputs": [
    {
     "data": {
      "text/plain": [
       "array([' Private', ' Local-gov', nan, ' Self-emp-not-inc', ' Federal-gov',\n",
       "       ' State-gov', ' Self-emp-inc', ' Without-pay', ' Never-worked'],\n",
       "      dtype=object)"
      ]
     },
     "execution_count": 7,
     "metadata": {},
     "output_type": "execute_result"
    }
   ],
   "source": [
    "data['workclass'].unique()"
   ]
  },
  {
   "cell_type": "code",
   "execution_count": 8,
   "id": "6e901bd2",
   "metadata": {},
   "outputs": [
    {
     "data": {
      "text/html": [
       "<div>\n",
       "<style scoped>\n",
       "    .dataframe tbody tr th:only-of-type {\n",
       "        vertical-align: middle;\n",
       "    }\n",
       "\n",
       "    .dataframe tbody tr th {\n",
       "        vertical-align: top;\n",
       "    }\n",
       "\n",
       "    .dataframe thead th {\n",
       "        text-align: right;\n",
       "    }\n",
       "</style>\n",
       "<table border=\"1\" class=\"dataframe\">\n",
       "  <thead>\n",
       "    <tr style=\"text-align: right;\">\n",
       "      <th></th>\n",
       "      <th>age</th>\n",
       "      <th>workclass</th>\n",
       "      <th>education</th>\n",
       "      <th>education-num</th>\n",
       "      <th>marital-status</th>\n",
       "      <th>occupation</th>\n",
       "      <th>relationship</th>\n",
       "      <th>race</th>\n",
       "      <th>sex</th>\n",
       "      <th>capital-gain</th>\n",
       "      <th>capital-loss</th>\n",
       "      <th>hours-per-week</th>\n",
       "      <th>native-country</th>\n",
       "      <th>class</th>\n",
       "    </tr>\n",
       "  </thead>\n",
       "  <tbody>\n",
       "    <tr>\n",
       "      <th>8785</th>\n",
       "      <td>17</td>\n",
       "      <td>Never-worked</td>\n",
       "      <td>11th</td>\n",
       "      <td>7</td>\n",
       "      <td>Never-married</td>\n",
       "      <td>NaN</td>\n",
       "      <td>Own-child</td>\n",
       "      <td>Black</td>\n",
       "      <td>Female</td>\n",
       "      <td>0</td>\n",
       "      <td>0</td>\n",
       "      <td>20</td>\n",
       "      <td>United-States</td>\n",
       "      <td>&lt;=50K</td>\n",
       "    </tr>\n",
       "    <tr>\n",
       "      <th>11607</th>\n",
       "      <td>20</td>\n",
       "      <td>Never-worked</td>\n",
       "      <td>HS-grad</td>\n",
       "      <td>9</td>\n",
       "      <td>Married-spouse-absent</td>\n",
       "      <td>NaN</td>\n",
       "      <td>Other-relative</td>\n",
       "      <td>White</td>\n",
       "      <td>Male</td>\n",
       "      <td>0</td>\n",
       "      <td>0</td>\n",
       "      <td>35</td>\n",
       "      <td>United-States</td>\n",
       "      <td>&lt;=50K</td>\n",
       "    </tr>\n",
       "    <tr>\n",
       "      <th>13898</th>\n",
       "      <td>18</td>\n",
       "      <td>Never-worked</td>\n",
       "      <td>11th</td>\n",
       "      <td>7</td>\n",
       "      <td>Never-married</td>\n",
       "      <td>NaN</td>\n",
       "      <td>Own-child</td>\n",
       "      <td>White</td>\n",
       "      <td>Male</td>\n",
       "      <td>0</td>\n",
       "      <td>0</td>\n",
       "      <td>35</td>\n",
       "      <td>United-States</td>\n",
       "      <td>&lt;=50K</td>\n",
       "    </tr>\n",
       "    <tr>\n",
       "      <th>21642</th>\n",
       "      <td>18</td>\n",
       "      <td>Never-worked</td>\n",
       "      <td>10th</td>\n",
       "      <td>6</td>\n",
       "      <td>Never-married</td>\n",
       "      <td>NaN</td>\n",
       "      <td>Own-child</td>\n",
       "      <td>White</td>\n",
       "      <td>Male</td>\n",
       "      <td>0</td>\n",
       "      <td>0</td>\n",
       "      <td>40</td>\n",
       "      <td>United-States</td>\n",
       "      <td>&lt;=50K</td>\n",
       "    </tr>\n",
       "    <tr>\n",
       "      <th>27126</th>\n",
       "      <td>23</td>\n",
       "      <td>Never-worked</td>\n",
       "      <td>7th-8th</td>\n",
       "      <td>4</td>\n",
       "      <td>Divorced</td>\n",
       "      <td>NaN</td>\n",
       "      <td>Not-in-family</td>\n",
       "      <td>White</td>\n",
       "      <td>Male</td>\n",
       "      <td>0</td>\n",
       "      <td>0</td>\n",
       "      <td>35</td>\n",
       "      <td>United-States</td>\n",
       "      <td>&lt;=50K</td>\n",
       "    </tr>\n",
       "    <tr>\n",
       "      <th>31053</th>\n",
       "      <td>17</td>\n",
       "      <td>Never-worked</td>\n",
       "      <td>10th</td>\n",
       "      <td>6</td>\n",
       "      <td>Never-married</td>\n",
       "      <td>NaN</td>\n",
       "      <td>Own-child</td>\n",
       "      <td>White</td>\n",
       "      <td>Male</td>\n",
       "      <td>0</td>\n",
       "      <td>0</td>\n",
       "      <td>30</td>\n",
       "      <td>United-States</td>\n",
       "      <td>&lt;=50K</td>\n",
       "    </tr>\n",
       "    <tr>\n",
       "      <th>36618</th>\n",
       "      <td>18</td>\n",
       "      <td>Never-worked</td>\n",
       "      <td>11th</td>\n",
       "      <td>7</td>\n",
       "      <td>Never-married</td>\n",
       "      <td>NaN</td>\n",
       "      <td>Own-child</td>\n",
       "      <td>White</td>\n",
       "      <td>Female</td>\n",
       "      <td>0</td>\n",
       "      <td>0</td>\n",
       "      <td>10</td>\n",
       "      <td>United-States</td>\n",
       "      <td>&lt;=50K</td>\n",
       "    </tr>\n",
       "    <tr>\n",
       "      <th>39513</th>\n",
       "      <td>20</td>\n",
       "      <td>Never-worked</td>\n",
       "      <td>Some-college</td>\n",
       "      <td>10</td>\n",
       "      <td>Never-married</td>\n",
       "      <td>NaN</td>\n",
       "      <td>Own-child</td>\n",
       "      <td>Black</td>\n",
       "      <td>Male</td>\n",
       "      <td>0</td>\n",
       "      <td>0</td>\n",
       "      <td>40</td>\n",
       "      <td>United-States</td>\n",
       "      <td>&lt;=50K</td>\n",
       "    </tr>\n",
       "    <tr>\n",
       "      <th>48585</th>\n",
       "      <td>30</td>\n",
       "      <td>Never-worked</td>\n",
       "      <td>HS-grad</td>\n",
       "      <td>9</td>\n",
       "      <td>Married-civ-spouse</td>\n",
       "      <td>NaN</td>\n",
       "      <td>Wife</td>\n",
       "      <td>Black</td>\n",
       "      <td>Female</td>\n",
       "      <td>0</td>\n",
       "      <td>0</td>\n",
       "      <td>40</td>\n",
       "      <td>United-States</td>\n",
       "      <td>&lt;=50K</td>\n",
       "    </tr>\n",
       "    <tr>\n",
       "      <th>48595</th>\n",
       "      <td>18</td>\n",
       "      <td>Never-worked</td>\n",
       "      <td>Some-college</td>\n",
       "      <td>10</td>\n",
       "      <td>Never-married</td>\n",
       "      <td>NaN</td>\n",
       "      <td>Own-child</td>\n",
       "      <td>White</td>\n",
       "      <td>Male</td>\n",
       "      <td>0</td>\n",
       "      <td>0</td>\n",
       "      <td>4</td>\n",
       "      <td>United-States</td>\n",
       "      <td>&lt;=50K</td>\n",
       "    </tr>\n",
       "  </tbody>\n",
       "</table>\n",
       "</div>"
      ],
      "text/plain": [
       "       age      workclass      education  education-num  \\\n",
       "8785    17   Never-worked           11th              7   \n",
       "11607   20   Never-worked        HS-grad              9   \n",
       "13898   18   Never-worked           11th              7   \n",
       "21642   18   Never-worked           10th              6   \n",
       "27126   23   Never-worked        7th-8th              4   \n",
       "31053   17   Never-worked           10th              6   \n",
       "36618   18   Never-worked           11th              7   \n",
       "39513   20   Never-worked   Some-college             10   \n",
       "48585   30   Never-worked        HS-grad              9   \n",
       "48595   18   Never-worked   Some-college             10   \n",
       "\n",
       "               marital-status occupation     relationship    race      sex  \\\n",
       "8785            Never-married        NaN        Own-child   Black   Female   \n",
       "11607   Married-spouse-absent        NaN   Other-relative   White     Male   \n",
       "13898           Never-married        NaN        Own-child   White     Male   \n",
       "21642           Never-married        NaN        Own-child   White     Male   \n",
       "27126                Divorced        NaN    Not-in-family   White     Male   \n",
       "31053           Never-married        NaN        Own-child   White     Male   \n",
       "36618           Never-married        NaN        Own-child   White   Female   \n",
       "39513           Never-married        NaN        Own-child   Black     Male   \n",
       "48585      Married-civ-spouse        NaN             Wife   Black   Female   \n",
       "48595           Never-married        NaN        Own-child   White     Male   \n",
       "\n",
       "       capital-gain  capital-loss  hours-per-week  native-country   class  \n",
       "8785              0             0              20   United-States   <=50K  \n",
       "11607             0             0              35   United-States   <=50K  \n",
       "13898             0             0              35   United-States   <=50K  \n",
       "21642             0             0              40   United-States   <=50K  \n",
       "27126             0             0              35   United-States   <=50K  \n",
       "31053             0             0              30   United-States   <=50K  \n",
       "36618             0             0              10   United-States   <=50K  \n",
       "39513             0             0              40   United-States   <=50K  \n",
       "48585             0             0              40   United-States   <=50K  \n",
       "48595             0             0               4   United-States   <=50K  "
      ]
     },
     "execution_count": 8,
     "metadata": {},
     "output_type": "execute_result"
    }
   ],
   "source": [
    "# 나이가 20세 미만\n",
    "# 미혼모, 미혼부\n",
    "# 별거중, 멀리 떨어져 있음\n",
    "data[data['workclass'] == ' Never-worked']"
   ]
  },
  {
   "cell_type": "code",
   "execution_count": 9,
   "id": "ad6ea3bc",
   "metadata": {},
   "outputs": [],
   "source": [
    "data.loc[data['workclass'] == ' Never-worked', 'occupation'] = 'part-timer'"
   ]
  },
  {
   "cell_type": "code",
   "execution_count": 10,
   "id": "9eef6674",
   "metadata": {
    "scrolled": true
   },
   "outputs": [
    {
     "data": {
      "text/html": [
       "<div>\n",
       "<style scoped>\n",
       "    .dataframe tbody tr th:only-of-type {\n",
       "        vertical-align: middle;\n",
       "    }\n",
       "\n",
       "    .dataframe tbody tr th {\n",
       "        vertical-align: top;\n",
       "    }\n",
       "\n",
       "    .dataframe thead th {\n",
       "        text-align: right;\n",
       "    }\n",
       "</style>\n",
       "<table border=\"1\" class=\"dataframe\">\n",
       "  <thead>\n",
       "    <tr style=\"text-align: right;\">\n",
       "      <th></th>\n",
       "      <th>age</th>\n",
       "      <th>workclass</th>\n",
       "      <th>education</th>\n",
       "      <th>education-num</th>\n",
       "      <th>marital-status</th>\n",
       "      <th>occupation</th>\n",
       "      <th>relationship</th>\n",
       "      <th>race</th>\n",
       "      <th>sex</th>\n",
       "      <th>capital-gain</th>\n",
       "      <th>capital-loss</th>\n",
       "      <th>hours-per-week</th>\n",
       "      <th>native-country</th>\n",
       "      <th>class</th>\n",
       "    </tr>\n",
       "  </thead>\n",
       "  <tbody>\n",
       "    <tr>\n",
       "      <th>2957</th>\n",
       "      <td>19</td>\n",
       "      <td>Without-pay</td>\n",
       "      <td>HS-grad</td>\n",
       "      <td>9</td>\n",
       "      <td>Never-married</td>\n",
       "      <td>Other-service</td>\n",
       "      <td>Own-child</td>\n",
       "      <td>White</td>\n",
       "      <td>Male</td>\n",
       "      <td>0</td>\n",
       "      <td>0</td>\n",
       "      <td>10</td>\n",
       "      <td>United-States</td>\n",
       "      <td>&lt;=50K</td>\n",
       "    </tr>\n",
       "    <tr>\n",
       "      <th>3177</th>\n",
       "      <td>74</td>\n",
       "      <td>Without-pay</td>\n",
       "      <td>7th-8th</td>\n",
       "      <td>4</td>\n",
       "      <td>Married-civ-spouse</td>\n",
       "      <td>Farming-fishing</td>\n",
       "      <td>Husband</td>\n",
       "      <td>White</td>\n",
       "      <td>Male</td>\n",
       "      <td>0</td>\n",
       "      <td>0</td>\n",
       "      <td>20</td>\n",
       "      <td>United-States</td>\n",
       "      <td>&lt;=50K</td>\n",
       "    </tr>\n",
       "    <tr>\n",
       "      <th>6466</th>\n",
       "      <td>51</td>\n",
       "      <td>Without-pay</td>\n",
       "      <td>Assoc-acdm</td>\n",
       "      <td>12</td>\n",
       "      <td>Married-civ-spouse</td>\n",
       "      <td>Sales</td>\n",
       "      <td>Husband</td>\n",
       "      <td>White</td>\n",
       "      <td>Male</td>\n",
       "      <td>0</td>\n",
       "      <td>0</td>\n",
       "      <td>45</td>\n",
       "      <td>United-States</td>\n",
       "      <td>&lt;=50K</td>\n",
       "    </tr>\n",
       "    <tr>\n",
       "      <th>8903</th>\n",
       "      <td>64</td>\n",
       "      <td>Without-pay</td>\n",
       "      <td>HS-grad</td>\n",
       "      <td>9</td>\n",
       "      <td>Married-civ-spouse</td>\n",
       "      <td>Handlers-cleaners</td>\n",
       "      <td>Husband</td>\n",
       "      <td>White</td>\n",
       "      <td>Male</td>\n",
       "      <td>0</td>\n",
       "      <td>0</td>\n",
       "      <td>60</td>\n",
       "      <td>United-States</td>\n",
       "      <td>&gt;50K</td>\n",
       "    </tr>\n",
       "    <tr>\n",
       "      <th>10647</th>\n",
       "      <td>50</td>\n",
       "      <td>Without-pay</td>\n",
       "      <td>HS-grad</td>\n",
       "      <td>9</td>\n",
       "      <td>Married-civ-spouse</td>\n",
       "      <td>Machine-op-inspct</td>\n",
       "      <td>Own-child</td>\n",
       "      <td>White</td>\n",
       "      <td>Female</td>\n",
       "      <td>0</td>\n",
       "      <td>1887</td>\n",
       "      <td>40</td>\n",
       "      <td>United-States</td>\n",
       "      <td>&gt;50K</td>\n",
       "    </tr>\n",
       "    <tr>\n",
       "      <th>13836</th>\n",
       "      <td>39</td>\n",
       "      <td>Without-pay</td>\n",
       "      <td>HS-grad</td>\n",
       "      <td>9</td>\n",
       "      <td>Married-civ-spouse</td>\n",
       "      <td>Exec-managerial</td>\n",
       "      <td>Husband</td>\n",
       "      <td>White</td>\n",
       "      <td>Male</td>\n",
       "      <td>0</td>\n",
       "      <td>0</td>\n",
       "      <td>40</td>\n",
       "      <td>United-States</td>\n",
       "      <td>&lt;=50K</td>\n",
       "    </tr>\n",
       "    <tr>\n",
       "      <th>14034</th>\n",
       "      <td>27</td>\n",
       "      <td>Without-pay</td>\n",
       "      <td>HS-grad</td>\n",
       "      <td>9</td>\n",
       "      <td>Never-married</td>\n",
       "      <td>Farming-fishing</td>\n",
       "      <td>Own-child</td>\n",
       "      <td>White</td>\n",
       "      <td>Female</td>\n",
       "      <td>0</td>\n",
       "      <td>0</td>\n",
       "      <td>40</td>\n",
       "      <td>United-States</td>\n",
       "      <td>&lt;=50K</td>\n",
       "    </tr>\n",
       "    <tr>\n",
       "      <th>18182</th>\n",
       "      <td>65</td>\n",
       "      <td>Without-pay</td>\n",
       "      <td>7th-8th</td>\n",
       "      <td>4</td>\n",
       "      <td>Widowed</td>\n",
       "      <td>Farming-fishing</td>\n",
       "      <td>Unmarried</td>\n",
       "      <td>White</td>\n",
       "      <td>Female</td>\n",
       "      <td>0</td>\n",
       "      <td>0</td>\n",
       "      <td>50</td>\n",
       "      <td>United-States</td>\n",
       "      <td>&lt;=50K</td>\n",
       "    </tr>\n",
       "    <tr>\n",
       "      <th>25538</th>\n",
       "      <td>19</td>\n",
       "      <td>Without-pay</td>\n",
       "      <td>HS-grad</td>\n",
       "      <td>9</td>\n",
       "      <td>Never-married</td>\n",
       "      <td>Farming-fishing</td>\n",
       "      <td>Own-child</td>\n",
       "      <td>White</td>\n",
       "      <td>Male</td>\n",
       "      <td>0</td>\n",
       "      <td>0</td>\n",
       "      <td>20</td>\n",
       "      <td>United-States</td>\n",
       "      <td>&lt;=50K</td>\n",
       "    </tr>\n",
       "    <tr>\n",
       "      <th>31814</th>\n",
       "      <td>21</td>\n",
       "      <td>Without-pay</td>\n",
       "      <td>HS-grad</td>\n",
       "      <td>9</td>\n",
       "      <td>Never-married</td>\n",
       "      <td>Craft-repair</td>\n",
       "      <td>Own-child</td>\n",
       "      <td>Black</td>\n",
       "      <td>Male</td>\n",
       "      <td>0</td>\n",
       "      <td>0</td>\n",
       "      <td>40</td>\n",
       "      <td>United-States</td>\n",
       "      <td>&lt;=50K</td>\n",
       "    </tr>\n",
       "    <tr>\n",
       "      <th>31976</th>\n",
       "      <td>22</td>\n",
       "      <td>Without-pay</td>\n",
       "      <td>HS-grad</td>\n",
       "      <td>9</td>\n",
       "      <td>Never-married</td>\n",
       "      <td>Handlers-cleaners</td>\n",
       "      <td>Own-child</td>\n",
       "      <td>White</td>\n",
       "      <td>Male</td>\n",
       "      <td>4416</td>\n",
       "      <td>0</td>\n",
       "      <td>40</td>\n",
       "      <td>United-States</td>\n",
       "      <td>&lt;=50K</td>\n",
       "    </tr>\n",
       "    <tr>\n",
       "      <th>33093</th>\n",
       "      <td>46</td>\n",
       "      <td>Without-pay</td>\n",
       "      <td>HS-grad</td>\n",
       "      <td>9</td>\n",
       "      <td>Married-civ-spouse</td>\n",
       "      <td>Machine-op-inspct</td>\n",
       "      <td>Wife</td>\n",
       "      <td>White</td>\n",
       "      <td>Female</td>\n",
       "      <td>0</td>\n",
       "      <td>0</td>\n",
       "      <td>25</td>\n",
       "      <td>United-States</td>\n",
       "      <td>&lt;=50K</td>\n",
       "    </tr>\n",
       "    <tr>\n",
       "      <th>36354</th>\n",
       "      <td>65</td>\n",
       "      <td>Without-pay</td>\n",
       "      <td>HS-grad</td>\n",
       "      <td>9</td>\n",
       "      <td>Married-civ-spouse</td>\n",
       "      <td>Transport-moving</td>\n",
       "      <td>Husband</td>\n",
       "      <td>White</td>\n",
       "      <td>Male</td>\n",
       "      <td>2414</td>\n",
       "      <td>0</td>\n",
       "      <td>20</td>\n",
       "      <td>United-States</td>\n",
       "      <td>&lt;=50K</td>\n",
       "    </tr>\n",
       "    <tr>\n",
       "      <th>38225</th>\n",
       "      <td>52</td>\n",
       "      <td>Without-pay</td>\n",
       "      <td>HS-grad</td>\n",
       "      <td>9</td>\n",
       "      <td>Married-civ-spouse</td>\n",
       "      <td>Adm-clerical</td>\n",
       "      <td>Wife</td>\n",
       "      <td>White</td>\n",
       "      <td>Female</td>\n",
       "      <td>0</td>\n",
       "      <td>0</td>\n",
       "      <td>30</td>\n",
       "      <td>United-States</td>\n",
       "      <td>&lt;=50K</td>\n",
       "    </tr>\n",
       "    <tr>\n",
       "      <th>38496</th>\n",
       "      <td>19</td>\n",
       "      <td>Without-pay</td>\n",
       "      <td>HS-grad</td>\n",
       "      <td>9</td>\n",
       "      <td>Never-married</td>\n",
       "      <td>Farming-fishing</td>\n",
       "      <td>Own-child</td>\n",
       "      <td>White</td>\n",
       "      <td>Male</td>\n",
       "      <td>0</td>\n",
       "      <td>0</td>\n",
       "      <td>10</td>\n",
       "      <td>United-States</td>\n",
       "      <td>&lt;=50K</td>\n",
       "    </tr>\n",
       "    <tr>\n",
       "      <th>40877</th>\n",
       "      <td>62</td>\n",
       "      <td>Without-pay</td>\n",
       "      <td>Assoc-acdm</td>\n",
       "      <td>12</td>\n",
       "      <td>Married-civ-spouse</td>\n",
       "      <td>Farming-fishing</td>\n",
       "      <td>Husband</td>\n",
       "      <td>White</td>\n",
       "      <td>Male</td>\n",
       "      <td>0</td>\n",
       "      <td>0</td>\n",
       "      <td>50</td>\n",
       "      <td>United-States</td>\n",
       "      <td>&lt;=50K</td>\n",
       "    </tr>\n",
       "    <tr>\n",
       "      <th>41781</th>\n",
       "      <td>29</td>\n",
       "      <td>Without-pay</td>\n",
       "      <td>Some-college</td>\n",
       "      <td>10</td>\n",
       "      <td>Married-civ-spouse</td>\n",
       "      <td>Farming-fishing</td>\n",
       "      <td>Own-child</td>\n",
       "      <td>White</td>\n",
       "      <td>Male</td>\n",
       "      <td>0</td>\n",
       "      <td>0</td>\n",
       "      <td>65</td>\n",
       "      <td>United-States</td>\n",
       "      <td>&lt;=50K</td>\n",
       "    </tr>\n",
       "    <tr>\n",
       "      <th>44028</th>\n",
       "      <td>72</td>\n",
       "      <td>Without-pay</td>\n",
       "      <td>HS-grad</td>\n",
       "      <td>9</td>\n",
       "      <td>Married-civ-spouse</td>\n",
       "      <td>Other-service</td>\n",
       "      <td>Husband</td>\n",
       "      <td>White</td>\n",
       "      <td>Male</td>\n",
       "      <td>0</td>\n",
       "      <td>0</td>\n",
       "      <td>55</td>\n",
       "      <td>United-States</td>\n",
       "      <td>&lt;=50K</td>\n",
       "    </tr>\n",
       "    <tr>\n",
       "      <th>45110</th>\n",
       "      <td>68</td>\n",
       "      <td>Without-pay</td>\n",
       "      <td>Some-college</td>\n",
       "      <td>10</td>\n",
       "      <td>Married-spouse-absent</td>\n",
       "      <td>Farming-fishing</td>\n",
       "      <td>Unmarried</td>\n",
       "      <td>White</td>\n",
       "      <td>Female</td>\n",
       "      <td>0</td>\n",
       "      <td>0</td>\n",
       "      <td>25</td>\n",
       "      <td>United-States</td>\n",
       "      <td>&lt;=50K</td>\n",
       "    </tr>\n",
       "    <tr>\n",
       "      <th>45439</th>\n",
       "      <td>67</td>\n",
       "      <td>Without-pay</td>\n",
       "      <td>HS-grad</td>\n",
       "      <td>9</td>\n",
       "      <td>Married-civ-spouse</td>\n",
       "      <td>Adm-clerical</td>\n",
       "      <td>Husband</td>\n",
       "      <td>Asian-Pac-Islander</td>\n",
       "      <td>Male</td>\n",
       "      <td>0</td>\n",
       "      <td>0</td>\n",
       "      <td>12</td>\n",
       "      <td>Philippines</td>\n",
       "      <td>&lt;=50K</td>\n",
       "    </tr>\n",
       "    <tr>\n",
       "      <th>48543</th>\n",
       "      <td>62</td>\n",
       "      <td>Without-pay</td>\n",
       "      <td>Some-college</td>\n",
       "      <td>10</td>\n",
       "      <td>Married-civ-spouse</td>\n",
       "      <td>Adm-clerical</td>\n",
       "      <td>Wife</td>\n",
       "      <td>White</td>\n",
       "      <td>Female</td>\n",
       "      <td>0</td>\n",
       "      <td>0</td>\n",
       "      <td>16</td>\n",
       "      <td>United-States</td>\n",
       "      <td>&lt;=50K</td>\n",
       "    </tr>\n",
       "  </tbody>\n",
       "</table>\n",
       "</div>"
      ],
      "text/plain": [
       "       age     workclass      education  education-num  \\\n",
       "2957    19   Without-pay        HS-grad              9   \n",
       "3177    74   Without-pay        7th-8th              4   \n",
       "6466    51   Without-pay     Assoc-acdm             12   \n",
       "8903    64   Without-pay        HS-grad              9   \n",
       "10647   50   Without-pay        HS-grad              9   \n",
       "13836   39   Without-pay        HS-grad              9   \n",
       "14034   27   Without-pay        HS-grad              9   \n",
       "18182   65   Without-pay        7th-8th              4   \n",
       "25538   19   Without-pay        HS-grad              9   \n",
       "31814   21   Without-pay        HS-grad              9   \n",
       "31976   22   Without-pay        HS-grad              9   \n",
       "33093   46   Without-pay        HS-grad              9   \n",
       "36354   65   Without-pay        HS-grad              9   \n",
       "38225   52   Without-pay        HS-grad              9   \n",
       "38496   19   Without-pay        HS-grad              9   \n",
       "40877   62   Without-pay     Assoc-acdm             12   \n",
       "41781   29   Without-pay   Some-college             10   \n",
       "44028   72   Without-pay        HS-grad              9   \n",
       "45110   68   Without-pay   Some-college             10   \n",
       "45439   67   Without-pay        HS-grad              9   \n",
       "48543   62   Without-pay   Some-college             10   \n",
       "\n",
       "               marital-status          occupation relationship  \\\n",
       "2957            Never-married       Other-service    Own-child   \n",
       "3177       Married-civ-spouse     Farming-fishing      Husband   \n",
       "6466       Married-civ-spouse               Sales      Husband   \n",
       "8903       Married-civ-spouse   Handlers-cleaners      Husband   \n",
       "10647      Married-civ-spouse   Machine-op-inspct    Own-child   \n",
       "13836      Married-civ-spouse     Exec-managerial      Husband   \n",
       "14034           Never-married     Farming-fishing    Own-child   \n",
       "18182                 Widowed     Farming-fishing    Unmarried   \n",
       "25538           Never-married     Farming-fishing    Own-child   \n",
       "31814           Never-married        Craft-repair    Own-child   \n",
       "31976           Never-married   Handlers-cleaners    Own-child   \n",
       "33093      Married-civ-spouse   Machine-op-inspct         Wife   \n",
       "36354      Married-civ-spouse    Transport-moving      Husband   \n",
       "38225      Married-civ-spouse        Adm-clerical         Wife   \n",
       "38496           Never-married     Farming-fishing    Own-child   \n",
       "40877      Married-civ-spouse     Farming-fishing      Husband   \n",
       "41781      Married-civ-spouse     Farming-fishing    Own-child   \n",
       "44028      Married-civ-spouse       Other-service      Husband   \n",
       "45110   Married-spouse-absent     Farming-fishing    Unmarried   \n",
       "45439      Married-civ-spouse        Adm-clerical      Husband   \n",
       "48543      Married-civ-spouse        Adm-clerical         Wife   \n",
       "\n",
       "                      race      sex  capital-gain  capital-loss  \\\n",
       "2957                 White     Male             0             0   \n",
       "3177                 White     Male             0             0   \n",
       "6466                 White     Male             0             0   \n",
       "8903                 White     Male             0             0   \n",
       "10647                White   Female             0          1887   \n",
       "13836                White     Male             0             0   \n",
       "14034                White   Female             0             0   \n",
       "18182                White   Female             0             0   \n",
       "25538                White     Male             0             0   \n",
       "31814                Black     Male             0             0   \n",
       "31976                White     Male          4416             0   \n",
       "33093                White   Female             0             0   \n",
       "36354                White     Male          2414             0   \n",
       "38225                White   Female             0             0   \n",
       "38496                White     Male             0             0   \n",
       "40877                White     Male             0             0   \n",
       "41781                White     Male             0             0   \n",
       "44028                White     Male             0             0   \n",
       "45110                White   Female             0             0   \n",
       "45439   Asian-Pac-Islander     Male             0             0   \n",
       "48543                White   Female             0             0   \n",
       "\n",
       "       hours-per-week  native-country   class  \n",
       "2957               10   United-States   <=50K  \n",
       "3177               20   United-States   <=50K  \n",
       "6466               45   United-States   <=50K  \n",
       "8903               60   United-States    >50K  \n",
       "10647              40   United-States    >50K  \n",
       "13836              40   United-States   <=50K  \n",
       "14034              40   United-States   <=50K  \n",
       "18182              50   United-States   <=50K  \n",
       "25538              20   United-States   <=50K  \n",
       "31814              40   United-States   <=50K  \n",
       "31976              40   United-States   <=50K  \n",
       "33093              25   United-States   <=50K  \n",
       "36354              20   United-States   <=50K  \n",
       "38225              30   United-States   <=50K  \n",
       "38496              10   United-States   <=50K  \n",
       "40877              50   United-States   <=50K  \n",
       "41781              65   United-States   <=50K  \n",
       "44028              55   United-States   <=50K  \n",
       "45110              25   United-States   <=50K  \n",
       "45439              12     Philippines   <=50K  \n",
       "48543              16   United-States   <=50K  "
      ]
     },
     "execution_count": 10,
     "metadata": {},
     "output_type": "execute_result"
    }
   ],
   "source": [
    "data[data['workclass'] == ' Without-pay']"
   ]
  },
  {
   "cell_type": "code",
   "execution_count": 11,
   "id": "613698eb",
   "metadata": {},
   "outputs": [
    {
     "data": {
      "text/html": [
       "<div>\n",
       "<style scoped>\n",
       "    .dataframe tbody tr th:only-of-type {\n",
       "        vertical-align: middle;\n",
       "    }\n",
       "\n",
       "    .dataframe tbody tr th {\n",
       "        vertical-align: top;\n",
       "    }\n",
       "\n",
       "    .dataframe thead th {\n",
       "        text-align: right;\n",
       "    }\n",
       "</style>\n",
       "<table border=\"1\" class=\"dataframe\">\n",
       "  <thead>\n",
       "    <tr style=\"text-align: right;\">\n",
       "      <th></th>\n",
       "      <th>age</th>\n",
       "      <th>workclass</th>\n",
       "      <th>education</th>\n",
       "      <th>education-num</th>\n",
       "      <th>marital-status</th>\n",
       "      <th>occupation</th>\n",
       "      <th>relationship</th>\n",
       "      <th>race</th>\n",
       "      <th>sex</th>\n",
       "      <th>capital-gain</th>\n",
       "      <th>capital-loss</th>\n",
       "      <th>hours-per-week</th>\n",
       "      <th>native-country</th>\n",
       "      <th>class</th>\n",
       "    </tr>\n",
       "  </thead>\n",
       "  <tbody>\n",
       "    <tr>\n",
       "      <th>4</th>\n",
       "      <td>18</td>\n",
       "      <td>NaN</td>\n",
       "      <td>Some-college</td>\n",
       "      <td>10</td>\n",
       "      <td>Never-married</td>\n",
       "      <td>NaN</td>\n",
       "      <td>Own-child</td>\n",
       "      <td>White</td>\n",
       "      <td>Female</td>\n",
       "      <td>0</td>\n",
       "      <td>0</td>\n",
       "      <td>30</td>\n",
       "      <td>United-States</td>\n",
       "      <td>&lt;=50K</td>\n",
       "    </tr>\n",
       "    <tr>\n",
       "      <th>6</th>\n",
       "      <td>29</td>\n",
       "      <td>NaN</td>\n",
       "      <td>HS-grad</td>\n",
       "      <td>9</td>\n",
       "      <td>Never-married</td>\n",
       "      <td>NaN</td>\n",
       "      <td>Unmarried</td>\n",
       "      <td>Black</td>\n",
       "      <td>Male</td>\n",
       "      <td>0</td>\n",
       "      <td>0</td>\n",
       "      <td>40</td>\n",
       "      <td>United-States</td>\n",
       "      <td>&lt;=50K</td>\n",
       "    </tr>\n",
       "    <tr>\n",
       "      <th>13</th>\n",
       "      <td>58</td>\n",
       "      <td>NaN</td>\n",
       "      <td>HS-grad</td>\n",
       "      <td>9</td>\n",
       "      <td>Married-civ-spouse</td>\n",
       "      <td>NaN</td>\n",
       "      <td>Husband</td>\n",
       "      <td>White</td>\n",
       "      <td>Male</td>\n",
       "      <td>0</td>\n",
       "      <td>0</td>\n",
       "      <td>35</td>\n",
       "      <td>United-States</td>\n",
       "      <td>&lt;=50K</td>\n",
       "    </tr>\n",
       "    <tr>\n",
       "      <th>22</th>\n",
       "      <td>72</td>\n",
       "      <td>NaN</td>\n",
       "      <td>7th-8th</td>\n",
       "      <td>4</td>\n",
       "      <td>Divorced</td>\n",
       "      <td>NaN</td>\n",
       "      <td>Not-in-family</td>\n",
       "      <td>White</td>\n",
       "      <td>Female</td>\n",
       "      <td>0</td>\n",
       "      <td>0</td>\n",
       "      <td>6</td>\n",
       "      <td>United-States</td>\n",
       "      <td>&lt;=50K</td>\n",
       "    </tr>\n",
       "    <tr>\n",
       "      <th>35</th>\n",
       "      <td>65</td>\n",
       "      <td>NaN</td>\n",
       "      <td>HS-grad</td>\n",
       "      <td>9</td>\n",
       "      <td>Married-civ-spouse</td>\n",
       "      <td>NaN</td>\n",
       "      <td>Husband</td>\n",
       "      <td>White</td>\n",
       "      <td>Male</td>\n",
       "      <td>0</td>\n",
       "      <td>0</td>\n",
       "      <td>40</td>\n",
       "      <td>United-States</td>\n",
       "      <td>&lt;=50K</td>\n",
       "    </tr>\n",
       "    <tr>\n",
       "      <th>...</th>\n",
       "      <td>...</td>\n",
       "      <td>...</td>\n",
       "      <td>...</td>\n",
       "      <td>...</td>\n",
       "      <td>...</td>\n",
       "      <td>...</td>\n",
       "      <td>...</td>\n",
       "      <td>...</td>\n",
       "      <td>...</td>\n",
       "      <td>...</td>\n",
       "      <td>...</td>\n",
       "      <td>...</td>\n",
       "      <td>...</td>\n",
       "      <td>...</td>\n",
       "    </tr>\n",
       "    <tr>\n",
       "      <th>48811</th>\n",
       "      <td>35</td>\n",
       "      <td>NaN</td>\n",
       "      <td>Bachelors</td>\n",
       "      <td>13</td>\n",
       "      <td>Married-civ-spouse</td>\n",
       "      <td>NaN</td>\n",
       "      <td>Wife</td>\n",
       "      <td>White</td>\n",
       "      <td>Female</td>\n",
       "      <td>0</td>\n",
       "      <td>0</td>\n",
       "      <td>55</td>\n",
       "      <td>United-States</td>\n",
       "      <td>&gt;50K</td>\n",
       "    </tr>\n",
       "    <tr>\n",
       "      <th>48812</th>\n",
       "      <td>30</td>\n",
       "      <td>NaN</td>\n",
       "      <td>Bachelors</td>\n",
       "      <td>13</td>\n",
       "      <td>Never-married</td>\n",
       "      <td>NaN</td>\n",
       "      <td>Not-in-family</td>\n",
       "      <td>Asian-Pac-Islander</td>\n",
       "      <td>Female</td>\n",
       "      <td>0</td>\n",
       "      <td>0</td>\n",
       "      <td>99</td>\n",
       "      <td>United-States</td>\n",
       "      <td>&lt;=50K</td>\n",
       "    </tr>\n",
       "    <tr>\n",
       "      <th>48820</th>\n",
       "      <td>71</td>\n",
       "      <td>NaN</td>\n",
       "      <td>Doctorate</td>\n",
       "      <td>16</td>\n",
       "      <td>Married-civ-spouse</td>\n",
       "      <td>NaN</td>\n",
       "      <td>Husband</td>\n",
       "      <td>White</td>\n",
       "      <td>Male</td>\n",
       "      <td>0</td>\n",
       "      <td>0</td>\n",
       "      <td>10</td>\n",
       "      <td>United-States</td>\n",
       "      <td>&gt;50K</td>\n",
       "    </tr>\n",
       "    <tr>\n",
       "      <th>48822</th>\n",
       "      <td>41</td>\n",
       "      <td>NaN</td>\n",
       "      <td>HS-grad</td>\n",
       "      <td>9</td>\n",
       "      <td>Separated</td>\n",
       "      <td>NaN</td>\n",
       "      <td>Not-in-family</td>\n",
       "      <td>Black</td>\n",
       "      <td>Female</td>\n",
       "      <td>0</td>\n",
       "      <td>0</td>\n",
       "      <td>32</td>\n",
       "      <td>United-States</td>\n",
       "      <td>&lt;=50K</td>\n",
       "    </tr>\n",
       "    <tr>\n",
       "      <th>48823</th>\n",
       "      <td>72</td>\n",
       "      <td>NaN</td>\n",
       "      <td>HS-grad</td>\n",
       "      <td>9</td>\n",
       "      <td>Married-civ-spouse</td>\n",
       "      <td>NaN</td>\n",
       "      <td>Husband</td>\n",
       "      <td>White</td>\n",
       "      <td>Male</td>\n",
       "      <td>0</td>\n",
       "      <td>0</td>\n",
       "      <td>25</td>\n",
       "      <td>United-States</td>\n",
       "      <td>&lt;=50K</td>\n",
       "    </tr>\n",
       "  </tbody>\n",
       "</table>\n",
       "<p>2799 rows × 14 columns</p>\n",
       "</div>"
      ],
      "text/plain": [
       "       age workclass      education  education-num       marital-status  \\\n",
       "4       18       NaN   Some-college             10        Never-married   \n",
       "6       29       NaN        HS-grad              9        Never-married   \n",
       "13      58       NaN        HS-grad              9   Married-civ-spouse   \n",
       "22      72       NaN        7th-8th              4             Divorced   \n",
       "35      65       NaN        HS-grad              9   Married-civ-spouse   \n",
       "...    ...       ...            ...            ...                  ...   \n",
       "48811   35       NaN      Bachelors             13   Married-civ-spouse   \n",
       "48812   30       NaN      Bachelors             13        Never-married   \n",
       "48820   71       NaN      Doctorate             16   Married-civ-spouse   \n",
       "48822   41       NaN        HS-grad              9            Separated   \n",
       "48823   72       NaN        HS-grad              9   Married-civ-spouse   \n",
       "\n",
       "      occupation    relationship                 race      sex  capital-gain  \\\n",
       "4            NaN       Own-child                White   Female             0   \n",
       "6            NaN       Unmarried                Black     Male             0   \n",
       "13           NaN         Husband                White     Male             0   \n",
       "22           NaN   Not-in-family                White   Female             0   \n",
       "35           NaN         Husband                White     Male             0   \n",
       "...          ...             ...                  ...      ...           ...   \n",
       "48811        NaN            Wife                White   Female             0   \n",
       "48812        NaN   Not-in-family   Asian-Pac-Islander   Female             0   \n",
       "48820        NaN         Husband                White     Male             0   \n",
       "48822        NaN   Not-in-family                Black   Female             0   \n",
       "48823        NaN         Husband                White     Male             0   \n",
       "\n",
       "       capital-loss  hours-per-week  native-country   class  \n",
       "4                 0              30   United-States   <=50K  \n",
       "6                 0              40   United-States   <=50K  \n",
       "13                0              35   United-States   <=50K  \n",
       "22                0               6   United-States   <=50K  \n",
       "35                0              40   United-States   <=50K  \n",
       "...             ...             ...             ...     ...  \n",
       "48811             0              55   United-States    >50K  \n",
       "48812             0              99   United-States   <=50K  \n",
       "48820             0              10   United-States    >50K  \n",
       "48822             0              32   United-States   <=50K  \n",
       "48823             0              25   United-States   <=50K  \n",
       "\n",
       "[2799 rows x 14 columns]"
      ]
     },
     "execution_count": 11,
     "metadata": {},
     "output_type": "execute_result"
    }
   ],
   "source": [
    "data[data['workclass'].isna() == True]"
   ]
  },
  {
   "cell_type": "code",
   "execution_count": 12,
   "id": "d65a471c",
   "metadata": {},
   "outputs": [],
   "source": [
    "data.loc[data['workclass'].isna() == True, 'workclass'] = 'part-timer'"
   ]
  },
  {
   "cell_type": "code",
   "execution_count": 13,
   "id": "ef038d37",
   "metadata": {},
   "outputs": [],
   "source": [
    "data['occupation'] = data['occupation'].fillna('part-timer')"
   ]
  },
  {
   "cell_type": "code",
   "execution_count": 14,
   "id": "8a98a68f",
   "metadata": {},
   "outputs": [
    {
     "name": "stdout",
     "output_type": "stream",
     "text": [
      "<class 'pandas.core.frame.DataFrame'>\n",
      "RangeIndex: 48842 entries, 0 to 48841\n",
      "Data columns (total 14 columns):\n",
      " #   Column          Non-Null Count  Dtype \n",
      "---  ------          --------------  ----- \n",
      " 0   age             48842 non-null  int64 \n",
      " 1   workclass       48842 non-null  object\n",
      " 2   education       48842 non-null  object\n",
      " 3   education-num   48842 non-null  int64 \n",
      " 4   marital-status  48842 non-null  object\n",
      " 5   occupation      48842 non-null  object\n",
      " 6   relationship    48842 non-null  object\n",
      " 7   race            48842 non-null  object\n",
      " 8   sex             48842 non-null  object\n",
      " 9   capital-gain    48842 non-null  int64 \n",
      " 10  capital-loss    48842 non-null  int64 \n",
      " 11  hours-per-week  48842 non-null  int64 \n",
      " 12  native-country  47985 non-null  object\n",
      " 13  class           48842 non-null  object\n",
      "dtypes: int64(5), object(9)\n",
      "memory usage: 5.2+ MB\n"
     ]
    }
   ],
   "source": [
    "data.info()"
   ]
  },
  {
   "cell_type": "code",
   "execution_count": 15,
   "id": "37d0c6cb",
   "metadata": {},
   "outputs": [
    {
     "data": {
      "text/plain": [
       "age                 0\n",
       "workclass           0\n",
       "education           0\n",
       "education-num       0\n",
       "marital-status      0\n",
       "occupation          0\n",
       "relationship        0\n",
       "race                0\n",
       "sex                 0\n",
       "capital-gain        0\n",
       "capital-loss        0\n",
       "hours-per-week      0\n",
       "native-country    857\n",
       "class               0\n",
       "dtype: int64"
      ]
     },
     "execution_count": 15,
     "metadata": {},
     "output_type": "execute_result"
    }
   ],
   "source": [
    "data.isna().sum()"
   ]
  },
  {
   "cell_type": "code",
   "execution_count": 16,
   "id": "3d12510d",
   "metadata": {},
   "outputs": [],
   "source": [
    "data = data.dropna()"
   ]
  },
  {
   "cell_type": "code",
   "execution_count": 17,
   "id": "9f6822fe",
   "metadata": {},
   "outputs": [
    {
     "data": {
      "text/plain": [
       "age               0\n",
       "workclass         0\n",
       "education         0\n",
       "education-num     0\n",
       "marital-status    0\n",
       "occupation        0\n",
       "relationship      0\n",
       "race              0\n",
       "sex               0\n",
       "capital-gain      0\n",
       "capital-loss      0\n",
       "hours-per-week    0\n",
       "native-country    0\n",
       "class             0\n",
       "dtype: int64"
      ]
     },
     "execution_count": 17,
     "metadata": {},
     "output_type": "execute_result"
    }
   ],
   "source": [
    "data.isna().sum()"
   ]
  },
  {
   "cell_type": "code",
   "execution_count": 18,
   "id": "4f9942c5",
   "metadata": {},
   "outputs": [
    {
     "name": "stdout",
     "output_type": "stream",
     "text": [
      "<class 'pandas.core.frame.DataFrame'>\n",
      "Index: 47985 entries, 0 to 48841\n",
      "Data columns (total 14 columns):\n",
      " #   Column          Non-Null Count  Dtype \n",
      "---  ------          --------------  ----- \n",
      " 0   age             47985 non-null  int64 \n",
      " 1   workclass       47985 non-null  object\n",
      " 2   education       47985 non-null  object\n",
      " 3   education-num   47985 non-null  int64 \n",
      " 4   marital-status  47985 non-null  object\n",
      " 5   occupation      47985 non-null  object\n",
      " 6   relationship    47985 non-null  object\n",
      " 7   race            47985 non-null  object\n",
      " 8   sex             47985 non-null  object\n",
      " 9   capital-gain    47985 non-null  int64 \n",
      " 10  capital-loss    47985 non-null  int64 \n",
      " 11  hours-per-week  47985 non-null  int64 \n",
      " 12  native-country  47985 non-null  object\n",
      " 13  class           47985 non-null  object\n",
      "dtypes: int64(5), object(9)\n",
      "memory usage: 5.5+ MB\n"
     ]
    }
   ],
   "source": [
    "data.info()"
   ]
  },
  {
   "cell_type": "markdown",
   "id": "5d5222a3",
   "metadata": {},
   "source": [
    "카테고리 변수들의 자료에 공백이 있어 공백을 제거"
   ]
  },
  {
   "cell_type": "code",
   "execution_count": 19,
   "id": "fd86c389",
   "metadata": {},
   "outputs": [
    {
     "data": {
      "text/plain": [
       "['age',\n",
       " 'workclass',\n",
       " 'education',\n",
       " 'education-num',\n",
       " 'marital-status',\n",
       " 'occupation',\n",
       " 'relationship',\n",
       " 'race',\n",
       " 'sex',\n",
       " 'capital-gain',\n",
       " 'capital-loss',\n",
       " 'hours-per-week',\n",
       " 'native-country',\n",
       " 'class']"
      ]
     },
     "execution_count": 19,
     "metadata": {},
     "output_type": "execute_result"
    }
   ],
   "source": [
    "cols = list(data.columns)\n",
    "cols"
   ]
  },
  {
   "cell_type": "code",
   "execution_count": 20,
   "id": "3cc48e67",
   "metadata": {},
   "outputs": [
    {
     "data": {
      "text/plain": [
       "0             Private\n",
       "1             Private\n",
       "2           Local-gov\n",
       "3             Private\n",
       "4          part-timer\n",
       "             ...     \n",
       "48837         Private\n",
       "48838         Private\n",
       "48839         Private\n",
       "48840         Private\n",
       "48841    Self-emp-inc\n",
       "Name: workclass, Length: 47985, dtype: object"
      ]
     },
     "execution_count": 20,
     "metadata": {},
     "output_type": "execute_result"
    }
   ],
   "source": [
    "data['workclass'].apply(lambda x: x.strip())"
   ]
  },
  {
   "cell_type": "code",
   "execution_count": 21,
   "id": "b7114be3",
   "metadata": {},
   "outputs": [],
   "source": [
    "for col in cols:\n",
    "    if data[col].dtype == 'O':\n",
    "        data[col] = data[col].apply(lambda x: x.strip())\n",
    "    "
   ]
  },
  {
   "cell_type": "code",
   "execution_count": 22,
   "id": "4addfaee",
   "metadata": {},
   "outputs": [
    {
     "name": "stdout",
     "output_type": "stream",
     "text": [
      "workclass ['Private' 'Local-gov' 'part-timer' 'Self-emp-not-inc' 'Federal-gov'\n",
      " 'State-gov' 'Self-emp-inc' 'Without-pay' 'Never-worked']\n",
      "education ['11th' 'HS-grad' 'Assoc-acdm' 'Some-college' '10th' 'Prof-school'\n",
      " '7th-8th' 'Bachelors' 'Masters' '5th-6th' 'Assoc-voc' '9th' 'Doctorate'\n",
      " '12th' '1st-4th' 'Preschool']\n",
      "marital-status ['Never-married' 'Married-civ-spouse' 'Widowed' 'Divorced' 'Separated'\n",
      " 'Married-spouse-absent' 'Married-AF-spouse']\n",
      "occupation ['Machine-op-inspct' 'Farming-fishing' 'Protective-serv' 'part-timer'\n",
      " 'Other-service' 'Prof-specialty' 'Craft-repair' 'Adm-clerical'\n",
      " 'Exec-managerial' 'Tech-support' 'Sales' 'Priv-house-serv'\n",
      " 'Transport-moving' 'Handlers-cleaners' 'Armed-Forces']\n",
      "relationship ['Own-child' 'Husband' 'Not-in-family' 'Unmarried' 'Wife' 'Other-relative']\n",
      "race ['Black' 'White' 'Other' 'Amer-Indian-Eskimo' 'Asian-Pac-Islander']\n",
      "sex ['Male' 'Female']\n",
      "native-country ['United-States' 'Peru' 'Guatemala' 'Mexico' 'Dominican-Republic'\n",
      " 'Ireland' 'Germany' 'Philippines' 'Thailand' 'Haiti' 'El-Salvador'\n",
      " 'Puerto-Rico' 'Vietnam' 'South' 'Columbia' 'Japan' 'India' 'Cambodia'\n",
      " 'Poland' 'Laos' 'England' 'Cuba' 'Taiwan' 'Italy' 'Canada' 'Portugal'\n",
      " 'China' 'Nicaragua' 'Honduras' 'Iran' 'Scotland' 'Jamaica' 'Ecuador'\n",
      " 'Yugoslavia' 'Hungary' 'Hong' 'Greece' 'Trinadad&Tobago'\n",
      " 'Outlying-US(Guam-USVI-etc)' 'France' 'Holand-Netherlands']\n",
      "class ['<=50K' '>50K']\n"
     ]
    }
   ],
   "source": [
    "for col in cols:\n",
    "    if data[col].dtype == 'O':\n",
    "        print(col, data[col].unique())"
   ]
  },
  {
   "cell_type": "markdown",
   "id": "c088ae89",
   "metadata": {},
   "source": [
    "# 이상치 탐지"
   ]
  },
  {
   "cell_type": "code",
   "execution_count": 23,
   "id": "27fc9db1",
   "metadata": {},
   "outputs": [],
   "source": [
    "search_outlier = data.describe()"
   ]
  },
  {
   "cell_type": "code",
   "execution_count": 24,
   "id": "e5d5b13b",
   "metadata": {},
   "outputs": [
    {
     "data": {
      "text/plain": [
       "age               78.0\n",
       "education-num     16.5\n",
       "capital-gain       0.0\n",
       "capital-loss       0.0\n",
       "hours-per-week    52.5\n",
       "dtype: float64"
      ]
     },
     "execution_count": 24,
     "metadata": {},
     "output_type": "execute_result"
    }
   ],
   "source": [
    "search_outlier.loc['75%', :] + (1.5 * (search_outlier.loc['75%', :] - search_outlier.loc['25%', :]))"
   ]
  },
  {
   "cell_type": "code",
   "execution_count": 25,
   "id": "fb9e0b6c",
   "metadata": {},
   "outputs": [
    {
     "data": {
      "text/html": [
       "<div>\n",
       "<style scoped>\n",
       "    .dataframe tbody tr th:only-of-type {\n",
       "        vertical-align: middle;\n",
       "    }\n",
       "\n",
       "    .dataframe tbody tr th {\n",
       "        vertical-align: top;\n",
       "    }\n",
       "\n",
       "    .dataframe thead th {\n",
       "        text-align: right;\n",
       "    }\n",
       "</style>\n",
       "<table border=\"1\" class=\"dataframe\">\n",
       "  <thead>\n",
       "    <tr style=\"text-align: right;\">\n",
       "      <th></th>\n",
       "      <th>age</th>\n",
       "      <th>education-num</th>\n",
       "      <th>capital-gain</th>\n",
       "      <th>capital-loss</th>\n",
       "      <th>hours-per-week</th>\n",
       "    </tr>\n",
       "  </thead>\n",
       "  <tbody>\n",
       "    <tr>\n",
       "      <th>count</th>\n",
       "      <td>47985.000000</td>\n",
       "      <td>47985.000000</td>\n",
       "      <td>47985.000000</td>\n",
       "      <td>47985.000000</td>\n",
       "      <td>47985.000000</td>\n",
       "    </tr>\n",
       "    <tr>\n",
       "      <th>mean</th>\n",
       "      <td>38.641284</td>\n",
       "      <td>10.067229</td>\n",
       "      <td>1067.032093</td>\n",
       "      <td>87.370553</td>\n",
       "      <td>40.411483</td>\n",
       "    </tr>\n",
       "    <tr>\n",
       "      <th>std</th>\n",
       "      <td>13.729622</td>\n",
       "      <td>2.560534</td>\n",
       "      <td>7373.256663</td>\n",
       "      <td>402.681462</td>\n",
       "      <td>12.391073</td>\n",
       "    </tr>\n",
       "    <tr>\n",
       "      <th>min</th>\n",
       "      <td>17.000000</td>\n",
       "      <td>1.000000</td>\n",
       "      <td>0.000000</td>\n",
       "      <td>0.000000</td>\n",
       "      <td>1.000000</td>\n",
       "    </tr>\n",
       "    <tr>\n",
       "      <th>25%</th>\n",
       "      <td>28.000000</td>\n",
       "      <td>9.000000</td>\n",
       "      <td>0.000000</td>\n",
       "      <td>0.000000</td>\n",
       "      <td>40.000000</td>\n",
       "    </tr>\n",
       "    <tr>\n",
       "      <th>50%</th>\n",
       "      <td>37.000000</td>\n",
       "      <td>10.000000</td>\n",
       "      <td>0.000000</td>\n",
       "      <td>0.000000</td>\n",
       "      <td>40.000000</td>\n",
       "    </tr>\n",
       "    <tr>\n",
       "      <th>75%</th>\n",
       "      <td>48.000000</td>\n",
       "      <td>12.000000</td>\n",
       "      <td>0.000000</td>\n",
       "      <td>0.000000</td>\n",
       "      <td>45.000000</td>\n",
       "    </tr>\n",
       "    <tr>\n",
       "      <th>max</th>\n",
       "      <td>90.000000</td>\n",
       "      <td>16.000000</td>\n",
       "      <td>99999.000000</td>\n",
       "      <td>4356.000000</td>\n",
       "      <td>99.000000</td>\n",
       "    </tr>\n",
       "  </tbody>\n",
       "</table>\n",
       "</div>"
      ],
      "text/plain": [
       "                age  education-num  capital-gain  capital-loss  hours-per-week\n",
       "count  47985.000000   47985.000000  47985.000000  47985.000000    47985.000000\n",
       "mean      38.641284      10.067229   1067.032093     87.370553       40.411483\n",
       "std       13.729622       2.560534   7373.256663    402.681462       12.391073\n",
       "min       17.000000       1.000000      0.000000      0.000000        1.000000\n",
       "25%       28.000000       9.000000      0.000000      0.000000       40.000000\n",
       "50%       37.000000      10.000000      0.000000      0.000000       40.000000\n",
       "75%       48.000000      12.000000      0.000000      0.000000       45.000000\n",
       "max       90.000000      16.000000  99999.000000   4356.000000       99.000000"
      ]
     },
     "execution_count": 25,
     "metadata": {},
     "output_type": "execute_result"
    }
   ],
   "source": [
    "search_outlier"
   ]
  },
  {
   "cell_type": "code",
   "execution_count": null,
   "id": "ca3fad7e-84cf-450e-a365-93ec9710dc13",
   "metadata": {},
   "outputs": [],
   "source": []
  },
  {
   "cell_type": "markdown",
   "id": "e1cd01d2",
   "metadata": {},
   "source": [
    "* capital-gain\tcapital-loss 히스토그램 그리기\n",
    "* hours-per-week 이상값을 가진 데이터 찾아보기"
   ]
  },
  {
   "cell_type": "code",
   "execution_count": 26,
   "id": "ea6d4204-965f-4726-b1c4-c120805ce6d8",
   "metadata": {},
   "outputs": [
    {
     "data": {
      "text/plain": [
       "<Axes: xlabel='capital-gain', ylabel='Count'>"
      ]
     },
     "execution_count": 26,
     "metadata": {},
     "output_type": "execute_result"
    },
    {
     "data": {
      "image/png": "[encoded data removed]",
      "text/plain": [
       "<Figure size 640x480 with 1 Axes>"
      ]
     },
     "metadata": {},
     "output_type": "display_data"
    }
   ],
   "source": [
    "sns.histplot(data['capital-gain'])"
   ]
  },
  {
   "cell_type": "code",
   "execution_count": 27,
   "id": "008cbf01-0d4c-4c3d-84c3-862de2e2b129",
   "metadata": {},
   "outputs": [
    {
     "data": {
      "text/plain": [
       "<Axes: xlabel='capital-loss', ylabel='Count'>"
      ]
     },
     "execution_count": 27,
     "metadata": {},
     "output_type": "execute_result"
    },
    {
     "data": {
      "image/png": "[encoded data removed]",
      "text/plain": [
       "<Figure size 640x480 with 1 Axes>"
      ]
     },
     "metadata": {},
     "output_type": "display_data"
    }
   ],
   "source": [
    "sns.histplot(data['capital-loss'])"
   ]
  },
  {
   "cell_type": "code",
   "execution_count": null,
   "id": "54d1cb82-1533-442d-a387-6ecaea858905",
   "metadata": {},
   "outputs": [],
   "source": []
  },
  {
   "cell_type": "code",
   "execution_count": null,
   "id": "e3f2c6bd",
   "metadata": {},
   "outputs": [],
   "source": []
  },
  {
   "cell_type": "code",
   "execution_count": 28,
   "id": "1a34b5cf-bd02-4957-bb21-93ef97e3b445",
   "metadata": {},
   "outputs": [
    {
     "data": {
      "text/html": [
       "<div>\n",
       "<style scoped>\n",
       "    .dataframe tbody tr th:only-of-type {\n",
       "        vertical-align: middle;\n",
       "    }\n",
       "\n",
       "    .dataframe tbody tr th {\n",
       "        vertical-align: top;\n",
       "    }\n",
       "\n",
       "    .dataframe thead th {\n",
       "        text-align: right;\n",
       "    }\n",
       "</style>\n",
       "<table border=\"1\" class=\"dataframe\">\n",
       "  <thead>\n",
       "    <tr style=\"text-align: right;\">\n",
       "      <th></th>\n",
       "      <th>age</th>\n",
       "      <th>workclass</th>\n",
       "      <th>education</th>\n",
       "      <th>education-num</th>\n",
       "      <th>marital-status</th>\n",
       "      <th>occupation</th>\n",
       "      <th>relationship</th>\n",
       "      <th>race</th>\n",
       "      <th>sex</th>\n",
       "      <th>capital-gain</th>\n",
       "      <th>capital-loss</th>\n",
       "      <th>hours-per-week</th>\n",
       "      <th>native-country</th>\n",
       "      <th>class</th>\n",
       "    </tr>\n",
       "  </thead>\n",
       "  <tbody>\n",
       "    <tr>\n",
       "      <th>0</th>\n",
       "      <td>25</td>\n",
       "      <td>Private</td>\n",
       "      <td>11th</td>\n",
       "      <td>7</td>\n",
       "      <td>Never-married</td>\n",
       "      <td>Machine-op-inspct</td>\n",
       "      <td>Own-child</td>\n",
       "      <td>Black</td>\n",
       "      <td>Male</td>\n",
       "      <td>0</td>\n",
       "      <td>0</td>\n",
       "      <td>40</td>\n",
       "      <td>United-States</td>\n",
       "      <td>&lt;=50K</td>\n",
       "    </tr>\n",
       "    <tr>\n",
       "      <th>1</th>\n",
       "      <td>38</td>\n",
       "      <td>Private</td>\n",
       "      <td>HS-grad</td>\n",
       "      <td>9</td>\n",
       "      <td>Married-civ-spouse</td>\n",
       "      <td>Farming-fishing</td>\n",
       "      <td>Husband</td>\n",
       "      <td>White</td>\n",
       "      <td>Male</td>\n",
       "      <td>0</td>\n",
       "      <td>0</td>\n",
       "      <td>50</td>\n",
       "      <td>United-States</td>\n",
       "      <td>&lt;=50K</td>\n",
       "    </tr>\n",
       "    <tr>\n",
       "      <th>2</th>\n",
       "      <td>28</td>\n",
       "      <td>Local-gov</td>\n",
       "      <td>Assoc-acdm</td>\n",
       "      <td>12</td>\n",
       "      <td>Married-civ-spouse</td>\n",
       "      <td>Protective-serv</td>\n",
       "      <td>Husband</td>\n",
       "      <td>White</td>\n",
       "      <td>Male</td>\n",
       "      <td>0</td>\n",
       "      <td>0</td>\n",
       "      <td>40</td>\n",
       "      <td>United-States</td>\n",
       "      <td>&gt;50K</td>\n",
       "    </tr>\n",
       "    <tr>\n",
       "      <th>3</th>\n",
       "      <td>44</td>\n",
       "      <td>Private</td>\n",
       "      <td>Some-college</td>\n",
       "      <td>10</td>\n",
       "      <td>Married-civ-spouse</td>\n",
       "      <td>Machine-op-inspct</td>\n",
       "      <td>Husband</td>\n",
       "      <td>Black</td>\n",
       "      <td>Male</td>\n",
       "      <td>7688</td>\n",
       "      <td>0</td>\n",
       "      <td>40</td>\n",
       "      <td>United-States</td>\n",
       "      <td>&gt;50K</td>\n",
       "    </tr>\n",
       "    <tr>\n",
       "      <th>4</th>\n",
       "      <td>18</td>\n",
       "      <td>part-timer</td>\n",
       "      <td>Some-college</td>\n",
       "      <td>10</td>\n",
       "      <td>Never-married</td>\n",
       "      <td>part-timer</td>\n",
       "      <td>Own-child</td>\n",
       "      <td>White</td>\n",
       "      <td>Female</td>\n",
       "      <td>0</td>\n",
       "      <td>0</td>\n",
       "      <td>30</td>\n",
       "      <td>United-States</td>\n",
       "      <td>&lt;=50K</td>\n",
       "    </tr>\n",
       "  </tbody>\n",
       "</table>\n",
       "</div>"
      ],
      "text/plain": [
       "   age   workclass     education  education-num      marital-status  \\\n",
       "0   25     Private          11th              7       Never-married   \n",
       "1   38     Private       HS-grad              9  Married-civ-spouse   \n",
       "2   28   Local-gov    Assoc-acdm             12  Married-civ-spouse   \n",
       "3   44     Private  Some-college             10  Married-civ-spouse   \n",
       "4   18  part-timer  Some-college             10       Never-married   \n",
       "\n",
       "          occupation relationship   race     sex  capital-gain  capital-loss  \\\n",
       "0  Machine-op-inspct    Own-child  Black    Male             0             0   \n",
       "1    Farming-fishing      Husband  White    Male             0             0   \n",
       "2    Protective-serv      Husband  White    Male             0             0   \n",
       "3  Machine-op-inspct      Husband  Black    Male          7688             0   \n",
       "4         part-timer    Own-child  White  Female             0             0   \n",
       "\n",
       "   hours-per-week native-country  class  \n",
       "0              40  United-States  <=50K  \n",
       "1              50  United-States  <=50K  \n",
       "2              40  United-States   >50K  \n",
       "3              40  United-States   >50K  \n",
       "4              30  United-States  <=50K  "
      ]
     },
     "execution_count": 28,
     "metadata": {},
     "output_type": "execute_result"
    }
   ],
   "source": [
    "data.head()"
   ]
  },
  {
   "cell_type": "code",
   "execution_count": 29,
   "id": "2f7e697f-211b-486a-8df7-ffe80c33f0cf",
   "metadata": {},
   "outputs": [
    {
     "data": {
      "text/plain": [
       "<Axes: >"
      ]
     },
     "execution_count": 29,
     "metadata": {},
     "output_type": "execute_result"
    },
    {
     "data": {
      "image/png": "[encoded data removed]",
      "text/plain": [
       "<Figure size 640x480 with 1 Axes>"
      ]
     },
     "metadata": {},
     "output_type": "display_data"
    }
   ],
   "source": [
    "data['hours-per-week'].plot(kind = 'box')"
   ]
  },
  {
   "cell_type": "code",
   "execution_count": 30,
   "id": "8aace04a-cf9d-4fed-88f8-925d738e3d47",
   "metadata": {},
   "outputs": [
    {
     "data": {
      "text/plain": [
       "count    47985.000000\n",
       "mean        40.411483\n",
       "std         12.391073\n",
       "min          1.000000\n",
       "25%         40.000000\n",
       "50%         40.000000\n",
       "75%         45.000000\n",
       "max         99.000000\n",
       "Name: hours-per-week, dtype: float64"
      ]
     },
     "execution_count": 30,
     "metadata": {},
     "output_type": "execute_result"
    }
   ],
   "source": [
    "data['hours-per-week'].describe()"
   ]
  },
  {
   "cell_type": "code",
   "execution_count": 31,
   "id": "49092611-b653-4366-a0ab-69abb2203ab7",
   "metadata": {},
   "outputs": [
    {
     "name": "stdout",
     "output_type": "stream",
     "text": [
      "minimun : 32.5\n",
      "maximun : 52.5\n"
     ]
    }
   ],
   "source": [
    "minimun = 40.000000 - (1.5 * (45.000000 - 40.000000))\n",
    "maximun = 45.000000 + (1.5 * (45.000000 - 40.000000))\n",
    "print(\"minimun :\", minimun)\n",
    "print(\"maximun :\", maximun)"
   ]
  },
  {
   "cell_type": "code",
   "execution_count": 32,
   "id": "46199bcb-4e60-48c0-980e-5217496a421b",
   "metadata": {
    "scrolled": true
   },
   "outputs": [
    {
     "data": {
      "text/html": [
       "<div>\n",
       "<style scoped>\n",
       "    .dataframe tbody tr th:only-of-type {\n",
       "        vertical-align: middle;\n",
       "    }\n",
       "\n",
       "    .dataframe tbody tr th {\n",
       "        vertical-align: top;\n",
       "    }\n",
       "\n",
       "    .dataframe thead th {\n",
       "        text-align: right;\n",
       "    }\n",
       "</style>\n",
       "<table border=\"1\" class=\"dataframe\">\n",
       "  <thead>\n",
       "    <tr style=\"text-align: right;\">\n",
       "      <th></th>\n",
       "      <th>age</th>\n",
       "      <th>workclass</th>\n",
       "      <th>education</th>\n",
       "      <th>education-num</th>\n",
       "      <th>marital-status</th>\n",
       "      <th>occupation</th>\n",
       "      <th>relationship</th>\n",
       "      <th>race</th>\n",
       "      <th>sex</th>\n",
       "      <th>capital-gain</th>\n",
       "      <th>capital-loss</th>\n",
       "      <th>hours-per-week</th>\n",
       "      <th>native-country</th>\n",
       "      <th>class</th>\n",
       "    </tr>\n",
       "  </thead>\n",
       "  <tbody>\n",
       "    <tr>\n",
       "      <th>25</th>\n",
       "      <td>45</td>\n",
       "      <td>Self-emp-not-inc</td>\n",
       "      <td>HS-grad</td>\n",
       "      <td>9</td>\n",
       "      <td>Married-civ-spouse</td>\n",
       "      <td>Craft-repair</td>\n",
       "      <td>Husband</td>\n",
       "      <td>White</td>\n",
       "      <td>Male</td>\n",
       "      <td>7298</td>\n",
       "      <td>0</td>\n",
       "      <td>90</td>\n",
       "      <td>United-States</td>\n",
       "      <td>&gt;50K</td>\n",
       "    </tr>\n",
       "    <tr>\n",
       "      <th>27</th>\n",
       "      <td>23</td>\n",
       "      <td>Private</td>\n",
       "      <td>HS-grad</td>\n",
       "      <td>9</td>\n",
       "      <td>Separated</td>\n",
       "      <td>Machine-op-inspct</td>\n",
       "      <td>Unmarried</td>\n",
       "      <td>Black</td>\n",
       "      <td>Male</td>\n",
       "      <td>0</td>\n",
       "      <td>0</td>\n",
       "      <td>54</td>\n",
       "      <td>United-States</td>\n",
       "      <td>&lt;=50K</td>\n",
       "    </tr>\n",
       "    <tr>\n",
       "      <th>29</th>\n",
       "      <td>32</td>\n",
       "      <td>Self-emp-not-inc</td>\n",
       "      <td>Some-college</td>\n",
       "      <td>10</td>\n",
       "      <td>Never-married</td>\n",
       "      <td>Prof-specialty</td>\n",
       "      <td>Not-in-family</td>\n",
       "      <td>White</td>\n",
       "      <td>Male</td>\n",
       "      <td>0</td>\n",
       "      <td>0</td>\n",
       "      <td>60</td>\n",
       "      <td>United-States</td>\n",
       "      <td>&lt;=50K</td>\n",
       "    </tr>\n",
       "    <tr>\n",
       "      <th>53</th>\n",
       "      <td>22</td>\n",
       "      <td>Private</td>\n",
       "      <td>HS-grad</td>\n",
       "      <td>9</td>\n",
       "      <td>Never-married</td>\n",
       "      <td>Other-service</td>\n",
       "      <td>Not-in-family</td>\n",
       "      <td>White</td>\n",
       "      <td>Male</td>\n",
       "      <td>14084</td>\n",
       "      <td>0</td>\n",
       "      <td>60</td>\n",
       "      <td>United-States</td>\n",
       "      <td>&gt;50K</td>\n",
       "    </tr>\n",
       "    <tr>\n",
       "      <th>54</th>\n",
       "      <td>38</td>\n",
       "      <td>Private</td>\n",
       "      <td>9th</td>\n",
       "      <td>5</td>\n",
       "      <td>Married-spouse-absent</td>\n",
       "      <td>Exec-managerial</td>\n",
       "      <td>Not-in-family</td>\n",
       "      <td>White</td>\n",
       "      <td>Male</td>\n",
       "      <td>0</td>\n",
       "      <td>0</td>\n",
       "      <td>54</td>\n",
       "      <td>Mexico</td>\n",
       "      <td>&lt;=50K</td>\n",
       "    </tr>\n",
       "    <tr>\n",
       "      <th>...</th>\n",
       "      <td>...</td>\n",
       "      <td>...</td>\n",
       "      <td>...</td>\n",
       "      <td>...</td>\n",
       "      <td>...</td>\n",
       "      <td>...</td>\n",
       "      <td>...</td>\n",
       "      <td>...</td>\n",
       "      <td>...</td>\n",
       "      <td>...</td>\n",
       "      <td>...</td>\n",
       "      <td>...</td>\n",
       "      <td>...</td>\n",
       "      <td>...</td>\n",
       "    </tr>\n",
       "    <tr>\n",
       "      <th>48811</th>\n",
       "      <td>35</td>\n",
       "      <td>part-timer</td>\n",
       "      <td>Bachelors</td>\n",
       "      <td>13</td>\n",
       "      <td>Married-civ-spouse</td>\n",
       "      <td>part-timer</td>\n",
       "      <td>Wife</td>\n",
       "      <td>White</td>\n",
       "      <td>Female</td>\n",
       "      <td>0</td>\n",
       "      <td>0</td>\n",
       "      <td>55</td>\n",
       "      <td>United-States</td>\n",
       "      <td>&gt;50K</td>\n",
       "    </tr>\n",
       "    <tr>\n",
       "      <th>48812</th>\n",
       "      <td>30</td>\n",
       "      <td>part-timer</td>\n",
       "      <td>Bachelors</td>\n",
       "      <td>13</td>\n",
       "      <td>Never-married</td>\n",
       "      <td>part-timer</td>\n",
       "      <td>Not-in-family</td>\n",
       "      <td>Asian-Pac-Islander</td>\n",
       "      <td>Female</td>\n",
       "      <td>0</td>\n",
       "      <td>0</td>\n",
       "      <td>99</td>\n",
       "      <td>United-States</td>\n",
       "      <td>&lt;=50K</td>\n",
       "    </tr>\n",
       "    <tr>\n",
       "      <th>48813</th>\n",
       "      <td>34</td>\n",
       "      <td>Private</td>\n",
       "      <td>Doctorate</td>\n",
       "      <td>16</td>\n",
       "      <td>Married-civ-spouse</td>\n",
       "      <td>Prof-specialty</td>\n",
       "      <td>Husband</td>\n",
       "      <td>White</td>\n",
       "      <td>Male</td>\n",
       "      <td>0</td>\n",
       "      <td>0</td>\n",
       "      <td>60</td>\n",
       "      <td>United-States</td>\n",
       "      <td>&gt;50K</td>\n",
       "    </tr>\n",
       "    <tr>\n",
       "      <th>48817</th>\n",
       "      <td>34</td>\n",
       "      <td>Private</td>\n",
       "      <td>Bachelors</td>\n",
       "      <td>13</td>\n",
       "      <td>Never-married</td>\n",
       "      <td>Exec-managerial</td>\n",
       "      <td>Not-in-family</td>\n",
       "      <td>White</td>\n",
       "      <td>Female</td>\n",
       "      <td>0</td>\n",
       "      <td>0</td>\n",
       "      <td>55</td>\n",
       "      <td>United-States</td>\n",
       "      <td>&gt;50K</td>\n",
       "    </tr>\n",
       "    <tr>\n",
       "      <th>48829</th>\n",
       "      <td>65</td>\n",
       "      <td>Self-emp-not-inc</td>\n",
       "      <td>Prof-school</td>\n",
       "      <td>15</td>\n",
       "      <td>Never-married</td>\n",
       "      <td>Prof-specialty</td>\n",
       "      <td>Not-in-family</td>\n",
       "      <td>White</td>\n",
       "      <td>Male</td>\n",
       "      <td>1086</td>\n",
       "      <td>0</td>\n",
       "      <td>60</td>\n",
       "      <td>United-States</td>\n",
       "      <td>&lt;=50K</td>\n",
       "    </tr>\n",
       "  </tbody>\n",
       "</table>\n",
       "<p>5111 rows × 14 columns</p>\n",
       "</div>"
      ],
      "text/plain": [
       "       age         workclass     education  education-num  \\\n",
       "25      45  Self-emp-not-inc       HS-grad              9   \n",
       "27      23           Private       HS-grad              9   \n",
       "29      32  Self-emp-not-inc  Some-college             10   \n",
       "53      22           Private       HS-grad              9   \n",
       "54      38           Private           9th              5   \n",
       "...    ...               ...           ...            ...   \n",
       "48811   35        part-timer     Bachelors             13   \n",
       "48812   30        part-timer     Bachelors             13   \n",
       "48813   34           Private     Doctorate             16   \n",
       "48817   34           Private     Bachelors             13   \n",
       "48829   65  Self-emp-not-inc   Prof-school             15   \n",
       "\n",
       "              marital-status         occupation   relationship  \\\n",
       "25        Married-civ-spouse       Craft-repair        Husband   \n",
       "27                 Separated  Machine-op-inspct      Unmarried   \n",
       "29             Never-married     Prof-specialty  Not-in-family   \n",
       "53             Never-married      Other-service  Not-in-family   \n",
       "54     Married-spouse-absent    Exec-managerial  Not-in-family   \n",
       "...                      ...                ...            ...   \n",
       "48811     Married-civ-spouse         part-timer           Wife   \n",
       "48812          Never-married         part-timer  Not-in-family   \n",
       "48813     Married-civ-spouse     Prof-specialty        Husband   \n",
       "48817          Never-married    Exec-managerial  Not-in-family   \n",
       "48829          Never-married     Prof-specialty  Not-in-family   \n",
       "\n",
       "                     race     sex  capital-gain  capital-loss  hours-per-week  \\\n",
       "25                  White    Male          7298             0              90   \n",
       "27                  Black    Male             0             0              54   \n",
       "29                  White    Male             0             0              60   \n",
       "53                  White    Male         14084             0              60   \n",
       "54                  White    Male             0             0              54   \n",
       "...                   ...     ...           ...           ...             ...   \n",
       "48811               White  Female             0             0              55   \n",
       "48812  Asian-Pac-Islander  Female             0             0              99   \n",
       "48813               White    Male             0             0              60   \n",
       "48817               White  Female             0             0              55   \n",
       "48829               White    Male          1086             0              60   \n",
       "\n",
       "      native-country  class  \n",
       "25     United-States   >50K  \n",
       "27     United-States  <=50K  \n",
       "29     United-States  <=50K  \n",
       "53     United-States   >50K  \n",
       "54            Mexico  <=50K  \n",
       "...              ...    ...  \n",
       "48811  United-States   >50K  \n",
       "48812  United-States  <=50K  \n",
       "48813  United-States   >50K  \n",
       "48817  United-States   >50K  \n",
       "48829  United-States  <=50K  \n",
       "\n",
       "[5111 rows x 14 columns]"
      ]
     },
     "execution_count": 32,
     "metadata": {},
     "output_type": "execute_result"
    }
   ],
   "source": [
    "data[data['hours-per-week'] > 52.5]"
   ]
  },
  {
   "cell_type": "code",
   "execution_count": 33,
   "id": "21a44bb6-7a91-48f9-b1be-0649970b6483",
   "metadata": {
    "scrolled": true
   },
   "outputs": [
    {
     "data": {
      "text/html": [
       "<div>\n",
       "<style scoped>\n",
       "    .dataframe tbody tr th:only-of-type {\n",
       "        vertical-align: middle;\n",
       "    }\n",
       "\n",
       "    .dataframe tbody tr th {\n",
       "        vertical-align: top;\n",
       "    }\n",
       "\n",
       "    .dataframe thead th {\n",
       "        text-align: right;\n",
       "    }\n",
       "</style>\n",
       "<table border=\"1\" class=\"dataframe\">\n",
       "  <thead>\n",
       "    <tr style=\"text-align: right;\">\n",
       "      <th></th>\n",
       "      <th>age</th>\n",
       "      <th>workclass</th>\n",
       "      <th>education</th>\n",
       "      <th>education-num</th>\n",
       "      <th>marital-status</th>\n",
       "      <th>occupation</th>\n",
       "      <th>relationship</th>\n",
       "      <th>race</th>\n",
       "      <th>sex</th>\n",
       "      <th>capital-gain</th>\n",
       "      <th>capital-loss</th>\n",
       "      <th>hours-per-week</th>\n",
       "      <th>native-country</th>\n",
       "      <th>class</th>\n",
       "    </tr>\n",
       "  </thead>\n",
       "  <tbody>\n",
       "    <tr>\n",
       "      <th>4</th>\n",
       "      <td>18</td>\n",
       "      <td>part-timer</td>\n",
       "      <td>Some-college</td>\n",
       "      <td>10</td>\n",
       "      <td>Never-married</td>\n",
       "      <td>part-timer</td>\n",
       "      <td>Own-child</td>\n",
       "      <td>White</td>\n",
       "      <td>Female</td>\n",
       "      <td>0</td>\n",
       "      <td>0</td>\n",
       "      <td>30</td>\n",
       "      <td>United-States</td>\n",
       "      <td>&lt;=50K</td>\n",
       "    </tr>\n",
       "    <tr>\n",
       "      <th>5</th>\n",
       "      <td>34</td>\n",
       "      <td>Private</td>\n",
       "      <td>10th</td>\n",
       "      <td>6</td>\n",
       "      <td>Never-married</td>\n",
       "      <td>Other-service</td>\n",
       "      <td>Not-in-family</td>\n",
       "      <td>White</td>\n",
       "      <td>Male</td>\n",
       "      <td>0</td>\n",
       "      <td>0</td>\n",
       "      <td>30</td>\n",
       "      <td>United-States</td>\n",
       "      <td>&lt;=50K</td>\n",
       "    </tr>\n",
       "    <tr>\n",
       "      <th>7</th>\n",
       "      <td>63</td>\n",
       "      <td>Self-emp-not-inc</td>\n",
       "      <td>Prof-school</td>\n",
       "      <td>15</td>\n",
       "      <td>Married-civ-spouse</td>\n",
       "      <td>Prof-specialty</td>\n",
       "      <td>Husband</td>\n",
       "      <td>White</td>\n",
       "      <td>Male</td>\n",
       "      <td>3103</td>\n",
       "      <td>0</td>\n",
       "      <td>32</td>\n",
       "      <td>United-States</td>\n",
       "      <td>&gt;50K</td>\n",
       "    </tr>\n",
       "    <tr>\n",
       "      <th>9</th>\n",
       "      <td>55</td>\n",
       "      <td>Private</td>\n",
       "      <td>7th-8th</td>\n",
       "      <td>4</td>\n",
       "      <td>Married-civ-spouse</td>\n",
       "      <td>Craft-repair</td>\n",
       "      <td>Husband</td>\n",
       "      <td>White</td>\n",
       "      <td>Male</td>\n",
       "      <td>0</td>\n",
       "      <td>0</td>\n",
       "      <td>10</td>\n",
       "      <td>United-States</td>\n",
       "      <td>&lt;=50K</td>\n",
       "    </tr>\n",
       "    <tr>\n",
       "      <th>16</th>\n",
       "      <td>20</td>\n",
       "      <td>State-gov</td>\n",
       "      <td>Some-college</td>\n",
       "      <td>10</td>\n",
       "      <td>Never-married</td>\n",
       "      <td>Other-service</td>\n",
       "      <td>Own-child</td>\n",
       "      <td>White</td>\n",
       "      <td>Male</td>\n",
       "      <td>0</td>\n",
       "      <td>0</td>\n",
       "      <td>25</td>\n",
       "      <td>United-States</td>\n",
       "      <td>&lt;=50K</td>\n",
       "    </tr>\n",
       "    <tr>\n",
       "      <th>...</th>\n",
       "      <td>...</td>\n",
       "      <td>...</td>\n",
       "      <td>...</td>\n",
       "      <td>...</td>\n",
       "      <td>...</td>\n",
       "      <td>...</td>\n",
       "      <td>...</td>\n",
       "      <td>...</td>\n",
       "      <td>...</td>\n",
       "      <td>...</td>\n",
       "      <td>...</td>\n",
       "      <td>...</td>\n",
       "      <td>...</td>\n",
       "      <td>...</td>\n",
       "    </tr>\n",
       "    <tr>\n",
       "      <th>48823</th>\n",
       "      <td>72</td>\n",
       "      <td>part-timer</td>\n",
       "      <td>HS-grad</td>\n",
       "      <td>9</td>\n",
       "      <td>Married-civ-spouse</td>\n",
       "      <td>part-timer</td>\n",
       "      <td>Husband</td>\n",
       "      <td>White</td>\n",
       "      <td>Male</td>\n",
       "      <td>0</td>\n",
       "      <td>0</td>\n",
       "      <td>25</td>\n",
       "      <td>United-States</td>\n",
       "      <td>&lt;=50K</td>\n",
       "    </tr>\n",
       "    <tr>\n",
       "      <th>48825</th>\n",
       "      <td>31</td>\n",
       "      <td>Private</td>\n",
       "      <td>Masters</td>\n",
       "      <td>14</td>\n",
       "      <td>Divorced</td>\n",
       "      <td>Other-service</td>\n",
       "      <td>Not-in-family</td>\n",
       "      <td>Other</td>\n",
       "      <td>Female</td>\n",
       "      <td>0</td>\n",
       "      <td>0</td>\n",
       "      <td>30</td>\n",
       "      <td>United-States</td>\n",
       "      <td>&lt;=50K</td>\n",
       "    </tr>\n",
       "    <tr>\n",
       "      <th>48826</th>\n",
       "      <td>39</td>\n",
       "      <td>Local-gov</td>\n",
       "      <td>Assoc-acdm</td>\n",
       "      <td>12</td>\n",
       "      <td>Married-civ-spouse</td>\n",
       "      <td>Adm-clerical</td>\n",
       "      <td>Wife</td>\n",
       "      <td>White</td>\n",
       "      <td>Female</td>\n",
       "      <td>0</td>\n",
       "      <td>0</td>\n",
       "      <td>20</td>\n",
       "      <td>United-States</td>\n",
       "      <td>&gt;50K</td>\n",
       "    </tr>\n",
       "    <tr>\n",
       "      <th>48834</th>\n",
       "      <td>32</td>\n",
       "      <td>Private</td>\n",
       "      <td>Masters</td>\n",
       "      <td>14</td>\n",
       "      <td>Never-married</td>\n",
       "      <td>Tech-support</td>\n",
       "      <td>Not-in-family</td>\n",
       "      <td>Asian-Pac-Islander</td>\n",
       "      <td>Male</td>\n",
       "      <td>0</td>\n",
       "      <td>0</td>\n",
       "      <td>11</td>\n",
       "      <td>Taiwan</td>\n",
       "      <td>&lt;=50K</td>\n",
       "    </tr>\n",
       "    <tr>\n",
       "      <th>48840</th>\n",
       "      <td>22</td>\n",
       "      <td>Private</td>\n",
       "      <td>HS-grad</td>\n",
       "      <td>9</td>\n",
       "      <td>Never-married</td>\n",
       "      <td>Adm-clerical</td>\n",
       "      <td>Own-child</td>\n",
       "      <td>White</td>\n",
       "      <td>Male</td>\n",
       "      <td>0</td>\n",
       "      <td>0</td>\n",
       "      <td>20</td>\n",
       "      <td>United-States</td>\n",
       "      <td>&lt;=50K</td>\n",
       "    </tr>\n",
       "  </tbody>\n",
       "</table>\n",
       "<p>8156 rows × 14 columns</p>\n",
       "</div>"
      ],
      "text/plain": [
       "       age         workclass     education  education-num      marital-status  \\\n",
       "4       18        part-timer  Some-college             10       Never-married   \n",
       "5       34           Private          10th              6       Never-married   \n",
       "7       63  Self-emp-not-inc   Prof-school             15  Married-civ-spouse   \n",
       "9       55           Private       7th-8th              4  Married-civ-spouse   \n",
       "16      20         State-gov  Some-college             10       Never-married   \n",
       "...    ...               ...           ...            ...                 ...   \n",
       "48823   72        part-timer       HS-grad              9  Married-civ-spouse   \n",
       "48825   31           Private       Masters             14            Divorced   \n",
       "48826   39         Local-gov    Assoc-acdm             12  Married-civ-spouse   \n",
       "48834   32           Private       Masters             14       Never-married   \n",
       "48840   22           Private       HS-grad              9       Never-married   \n",
       "\n",
       "           occupation   relationship                race     sex  \\\n",
       "4          part-timer      Own-child               White  Female   \n",
       "5       Other-service  Not-in-family               White    Male   \n",
       "7      Prof-specialty        Husband               White    Male   \n",
       "9        Craft-repair        Husband               White    Male   \n",
       "16      Other-service      Own-child               White    Male   \n",
       "...               ...            ...                 ...     ...   \n",
       "48823      part-timer        Husband               White    Male   \n",
       "48825   Other-service  Not-in-family               Other  Female   \n",
       "48826    Adm-clerical           Wife               White  Female   \n",
       "48834    Tech-support  Not-in-family  Asian-Pac-Islander    Male   \n",
       "48840    Adm-clerical      Own-child               White    Male   \n",
       "\n",
       "       capital-gain  capital-loss  hours-per-week native-country  class  \n",
       "4                 0             0              30  United-States  <=50K  \n",
       "5                 0             0              30  United-States  <=50K  \n",
       "7              3103             0              32  United-States   >50K  \n",
       "9                 0             0              10  United-States  <=50K  \n",
       "16                0             0              25  United-States  <=50K  \n",
       "...             ...           ...             ...            ...    ...  \n",
       "48823             0             0              25  United-States  <=50K  \n",
       "48825             0             0              30  United-States  <=50K  \n",
       "48826             0             0              20  United-States   >50K  \n",
       "48834             0             0              11         Taiwan  <=50K  \n",
       "48840             0             0              20  United-States  <=50K  \n",
       "\n",
       "[8156 rows x 14 columns]"
      ]
     },
     "execution_count": 33,
     "metadata": {},
     "output_type": "execute_result"
    }
   ],
   "source": [
    "data[data['hours-per-week'] < minimun]"
   ]
  },
  {
   "cell_type": "code",
   "execution_count": 34,
   "id": "1ae3d74e-1ef4-4820-8ce3-7cf56d2df7b1",
   "metadata": {},
   "outputs": [
    {
     "data": {
      "text/html": [
       "<div>\n",
       "<style scoped>\n",
       "    .dataframe tbody tr th:only-of-type {\n",
       "        vertical-align: middle;\n",
       "    }\n",
       "\n",
       "    .dataframe tbody tr th {\n",
       "        vertical-align: top;\n",
       "    }\n",
       "\n",
       "    .dataframe thead tr th {\n",
       "        text-align: left;\n",
       "    }\n",
       "\n",
       "    .dataframe thead tr:last-of-type th {\n",
       "        text-align: right;\n",
       "    }\n",
       "</style>\n",
       "<table border=\"1\" class=\"dataframe\">\n",
       "  <thead>\n",
       "    <tr>\n",
       "      <th></th>\n",
       "      <th colspan=\"4\" halign=\"left\">class</th>\n",
       "    </tr>\n",
       "    <tr>\n",
       "      <th></th>\n",
       "      <th>count</th>\n",
       "      <th>unique</th>\n",
       "      <th>top</th>\n",
       "      <th>freq</th>\n",
       "    </tr>\n",
       "    <tr>\n",
       "      <th>hours-per-week</th>\n",
       "      <th></th>\n",
       "      <th></th>\n",
       "      <th></th>\n",
       "      <th></th>\n",
       "    </tr>\n",
       "  </thead>\n",
       "  <tbody>\n",
       "    <tr>\n",
       "      <th>1</th>\n",
       "      <td>25</td>\n",
       "      <td>2</td>\n",
       "      <td>&lt;=50K</td>\n",
       "      <td>22</td>\n",
       "    </tr>\n",
       "    <tr>\n",
       "      <th>2</th>\n",
       "      <td>53</td>\n",
       "      <td>2</td>\n",
       "      <td>&lt;=50K</td>\n",
       "      <td>41</td>\n",
       "    </tr>\n",
       "    <tr>\n",
       "      <th>3</th>\n",
       "      <td>59</td>\n",
       "      <td>2</td>\n",
       "      <td>&lt;=50K</td>\n",
       "      <td>56</td>\n",
       "    </tr>\n",
       "    <tr>\n",
       "      <th>4</th>\n",
       "      <td>83</td>\n",
       "      <td>2</td>\n",
       "      <td>&lt;=50K</td>\n",
       "      <td>77</td>\n",
       "    </tr>\n",
       "    <tr>\n",
       "      <th>5</th>\n",
       "      <td>93</td>\n",
       "      <td>2</td>\n",
       "      <td>&lt;=50K</td>\n",
       "      <td>84</td>\n",
       "    </tr>\n",
       "    <tr>\n",
       "      <th>...</th>\n",
       "      <td>...</td>\n",
       "      <td>...</td>\n",
       "      <td>...</td>\n",
       "      <td>...</td>\n",
       "    </tr>\n",
       "    <tr>\n",
       "      <th>95</th>\n",
       "      <td>2</td>\n",
       "      <td>2</td>\n",
       "      <td>&gt;50K</td>\n",
       "      <td>1</td>\n",
       "    </tr>\n",
       "    <tr>\n",
       "      <th>96</th>\n",
       "      <td>9</td>\n",
       "      <td>2</td>\n",
       "      <td>&lt;=50K</td>\n",
       "      <td>8</td>\n",
       "    </tr>\n",
       "    <tr>\n",
       "      <th>97</th>\n",
       "      <td>2</td>\n",
       "      <td>2</td>\n",
       "      <td>&gt;50K</td>\n",
       "      <td>1</td>\n",
       "    </tr>\n",
       "    <tr>\n",
       "      <th>98</th>\n",
       "      <td>14</td>\n",
       "      <td>2</td>\n",
       "      <td>&lt;=50K</td>\n",
       "      <td>11</td>\n",
       "    </tr>\n",
       "    <tr>\n",
       "      <th>99</th>\n",
       "      <td>134</td>\n",
       "      <td>2</td>\n",
       "      <td>&lt;=50K</td>\n",
       "      <td>93</td>\n",
       "    </tr>\n",
       "  </tbody>\n",
       "</table>\n",
       "<p>96 rows × 4 columns</p>\n",
       "</div>"
      ],
      "text/plain": [
       "               class                   \n",
       "               count unique    top freq\n",
       "hours-per-week                         \n",
       "1                 25      2  <=50K   22\n",
       "2                 53      2  <=50K   41\n",
       "3                 59      2  <=50K   56\n",
       "4                 83      2  <=50K   77\n",
       "5                 93      2  <=50K   84\n",
       "...              ...    ...    ...  ...\n",
       "95                 2      2   >50K    1\n",
       "96                 9      2  <=50K    8\n",
       "97                 2      2   >50K    1\n",
       "98                14      2  <=50K   11\n",
       "99               134      2  <=50K   93\n",
       "\n",
       "[96 rows x 4 columns]"
      ]
     },
     "execution_count": 34,
     "metadata": {},
     "output_type": "execute_result"
    }
   ],
   "source": [
    "data[['hours-per-week','class']].groupby('hours-per-week').describe()"
   ]
  },
  {
   "cell_type": "code",
   "execution_count": 35,
   "id": "5ce57a7c-a0bb-4942-a076-06e1e1e76ec7",
   "metadata": {},
   "outputs": [],
   "source": [
    "outliers = data[data['hours-per-week'] > maximun]"
   ]
  },
  {
   "cell_type": "code",
   "execution_count": 36,
   "id": "ea58105a-e4d1-4661-a985-ffbba5a030d7",
   "metadata": {
    "scrolled": true
   },
   "outputs": [
    {
     "data": {
      "text/html": [
       "<div>\n",
       "<style scoped>\n",
       "    .dataframe tbody tr th:only-of-type {\n",
       "        vertical-align: middle;\n",
       "    }\n",
       "\n",
       "    .dataframe tbody tr th {\n",
       "        vertical-align: top;\n",
       "    }\n",
       "\n",
       "    .dataframe thead th {\n",
       "        text-align: right;\n",
       "    }\n",
       "</style>\n",
       "<table border=\"1\" class=\"dataframe\">\n",
       "  <thead>\n",
       "    <tr style=\"text-align: right;\">\n",
       "      <th></th>\n",
       "      <th>age</th>\n",
       "      <th>workclass</th>\n",
       "      <th>education</th>\n",
       "      <th>education-num</th>\n",
       "      <th>marital-status</th>\n",
       "      <th>occupation</th>\n",
       "      <th>relationship</th>\n",
       "      <th>race</th>\n",
       "      <th>sex</th>\n",
       "      <th>capital-gain</th>\n",
       "      <th>capital-loss</th>\n",
       "      <th>hours-per-week</th>\n",
       "      <th>native-country</th>\n",
       "      <th>class</th>\n",
       "    </tr>\n",
       "  </thead>\n",
       "  <tbody>\n",
       "    <tr>\n",
       "      <th>25</th>\n",
       "      <td>45</td>\n",
       "      <td>Self-emp-not-inc</td>\n",
       "      <td>HS-grad</td>\n",
       "      <td>9</td>\n",
       "      <td>Married-civ-spouse</td>\n",
       "      <td>Craft-repair</td>\n",
       "      <td>Husband</td>\n",
       "      <td>White</td>\n",
       "      <td>Male</td>\n",
       "      <td>7298</td>\n",
       "      <td>0</td>\n",
       "      <td>90</td>\n",
       "      <td>United-States</td>\n",
       "      <td>&gt;50K</td>\n",
       "    </tr>\n",
       "    <tr>\n",
       "      <th>27</th>\n",
       "      <td>23</td>\n",
       "      <td>Private</td>\n",
       "      <td>HS-grad</td>\n",
       "      <td>9</td>\n",
       "      <td>Separated</td>\n",
       "      <td>Machine-op-inspct</td>\n",
       "      <td>Unmarried</td>\n",
       "      <td>Black</td>\n",
       "      <td>Male</td>\n",
       "      <td>0</td>\n",
       "      <td>0</td>\n",
       "      <td>54</td>\n",
       "      <td>United-States</td>\n",
       "      <td>&lt;=50K</td>\n",
       "    </tr>\n",
       "    <tr>\n",
       "      <th>29</th>\n",
       "      <td>32</td>\n",
       "      <td>Self-emp-not-inc</td>\n",
       "      <td>Some-college</td>\n",
       "      <td>10</td>\n",
       "      <td>Never-married</td>\n",
       "      <td>Prof-specialty</td>\n",
       "      <td>Not-in-family</td>\n",
       "      <td>White</td>\n",
       "      <td>Male</td>\n",
       "      <td>0</td>\n",
       "      <td>0</td>\n",
       "      <td>60</td>\n",
       "      <td>United-States</td>\n",
       "      <td>&lt;=50K</td>\n",
       "    </tr>\n",
       "    <tr>\n",
       "      <th>53</th>\n",
       "      <td>22</td>\n",
       "      <td>Private</td>\n",
       "      <td>HS-grad</td>\n",
       "      <td>9</td>\n",
       "      <td>Never-married</td>\n",
       "      <td>Other-service</td>\n",
       "      <td>Not-in-family</td>\n",
       "      <td>White</td>\n",
       "      <td>Male</td>\n",
       "      <td>14084</td>\n",
       "      <td>0</td>\n",
       "      <td>60</td>\n",
       "      <td>United-States</td>\n",
       "      <td>&gt;50K</td>\n",
       "    </tr>\n",
       "    <tr>\n",
       "      <th>54</th>\n",
       "      <td>38</td>\n",
       "      <td>Private</td>\n",
       "      <td>9th</td>\n",
       "      <td>5</td>\n",
       "      <td>Married-spouse-absent</td>\n",
       "      <td>Exec-managerial</td>\n",
       "      <td>Not-in-family</td>\n",
       "      <td>White</td>\n",
       "      <td>Male</td>\n",
       "      <td>0</td>\n",
       "      <td>0</td>\n",
       "      <td>54</td>\n",
       "      <td>Mexico</td>\n",
       "      <td>&lt;=50K</td>\n",
       "    </tr>\n",
       "    <tr>\n",
       "      <th>...</th>\n",
       "      <td>...</td>\n",
       "      <td>...</td>\n",
       "      <td>...</td>\n",
       "      <td>...</td>\n",
       "      <td>...</td>\n",
       "      <td>...</td>\n",
       "      <td>...</td>\n",
       "      <td>...</td>\n",
       "      <td>...</td>\n",
       "      <td>...</td>\n",
       "      <td>...</td>\n",
       "      <td>...</td>\n",
       "      <td>...</td>\n",
       "      <td>...</td>\n",
       "    </tr>\n",
       "    <tr>\n",
       "      <th>48811</th>\n",
       "      <td>35</td>\n",
       "      <td>part-timer</td>\n",
       "      <td>Bachelors</td>\n",
       "      <td>13</td>\n",
       "      <td>Married-civ-spouse</td>\n",
       "      <td>part-timer</td>\n",
       "      <td>Wife</td>\n",
       "      <td>White</td>\n",
       "      <td>Female</td>\n",
       "      <td>0</td>\n",
       "      <td>0</td>\n",
       "      <td>55</td>\n",
       "      <td>United-States</td>\n",
       "      <td>&gt;50K</td>\n",
       "    </tr>\n",
       "    <tr>\n",
       "      <th>48812</th>\n",
       "      <td>30</td>\n",
       "      <td>part-timer</td>\n",
       "      <td>Bachelors</td>\n",
       "      <td>13</td>\n",
       "      <td>Never-married</td>\n",
       "      <td>part-timer</td>\n",
       "      <td>Not-in-family</td>\n",
       "      <td>Asian-Pac-Islander</td>\n",
       "      <td>Female</td>\n",
       "      <td>0</td>\n",
       "      <td>0</td>\n",
       "      <td>99</td>\n",
       "      <td>United-States</td>\n",
       "      <td>&lt;=50K</td>\n",
       "    </tr>\n",
       "    <tr>\n",
       "      <th>48813</th>\n",
       "      <td>34</td>\n",
       "      <td>Private</td>\n",
       "      <td>Doctorate</td>\n",
       "      <td>16</td>\n",
       "      <td>Married-civ-spouse</td>\n",
       "      <td>Prof-specialty</td>\n",
       "      <td>Husband</td>\n",
       "      <td>White</td>\n",
       "      <td>Male</td>\n",
       "      <td>0</td>\n",
       "      <td>0</td>\n",
       "      <td>60</td>\n",
       "      <td>United-States</td>\n",
       "      <td>&gt;50K</td>\n",
       "    </tr>\n",
       "    <tr>\n",
       "      <th>48817</th>\n",
       "      <td>34</td>\n",
       "      <td>Private</td>\n",
       "      <td>Bachelors</td>\n",
       "      <td>13</td>\n",
       "      <td>Never-married</td>\n",
       "      <td>Exec-managerial</td>\n",
       "      <td>Not-in-family</td>\n",
       "      <td>White</td>\n",
       "      <td>Female</td>\n",
       "      <td>0</td>\n",
       "      <td>0</td>\n",
       "      <td>55</td>\n",
       "      <td>United-States</td>\n",
       "      <td>&gt;50K</td>\n",
       "    </tr>\n",
       "    <tr>\n",
       "      <th>48829</th>\n",
       "      <td>65</td>\n",
       "      <td>Self-emp-not-inc</td>\n",
       "      <td>Prof-school</td>\n",
       "      <td>15</td>\n",
       "      <td>Never-married</td>\n",
       "      <td>Prof-specialty</td>\n",
       "      <td>Not-in-family</td>\n",
       "      <td>White</td>\n",
       "      <td>Male</td>\n",
       "      <td>1086</td>\n",
       "      <td>0</td>\n",
       "      <td>60</td>\n",
       "      <td>United-States</td>\n",
       "      <td>&lt;=50K</td>\n",
       "    </tr>\n",
       "  </tbody>\n",
       "</table>\n",
       "<p>5111 rows × 14 columns</p>\n",
       "</div>"
      ],
      "text/plain": [
       "       age         workclass     education  education-num  \\\n",
       "25      45  Self-emp-not-inc       HS-grad              9   \n",
       "27      23           Private       HS-grad              9   \n",
       "29      32  Self-emp-not-inc  Some-college             10   \n",
       "53      22           Private       HS-grad              9   \n",
       "54      38           Private           9th              5   \n",
       "...    ...               ...           ...            ...   \n",
       "48811   35        part-timer     Bachelors             13   \n",
       "48812   30        part-timer     Bachelors             13   \n",
       "48813   34           Private     Doctorate             16   \n",
       "48817   34           Private     Bachelors             13   \n",
       "48829   65  Self-emp-not-inc   Prof-school             15   \n",
       "\n",
       "              marital-status         occupation   relationship  \\\n",
       "25        Married-civ-spouse       Craft-repair        Husband   \n",
       "27                 Separated  Machine-op-inspct      Unmarried   \n",
       "29             Never-married     Prof-specialty  Not-in-family   \n",
       "53             Never-married      Other-service  Not-in-family   \n",
       "54     Married-spouse-absent    Exec-managerial  Not-in-family   \n",
       "...                      ...                ...            ...   \n",
       "48811     Married-civ-spouse         part-timer           Wife   \n",
       "48812          Never-married         part-timer  Not-in-family   \n",
       "48813     Married-civ-spouse     Prof-specialty        Husband   \n",
       "48817          Never-married    Exec-managerial  Not-in-family   \n",
       "48829          Never-married     Prof-specialty  Not-in-family   \n",
       "\n",
       "                     race     sex  capital-gain  capital-loss  hours-per-week  \\\n",
       "25                  White    Male          7298             0              90   \n",
       "27                  Black    Male             0             0              54   \n",
       "29                  White    Male             0             0              60   \n",
       "53                  White    Male         14084             0              60   \n",
       "54                  White    Male             0             0              54   \n",
       "...                   ...     ...           ...           ...             ...   \n",
       "48811               White  Female             0             0              55   \n",
       "48812  Asian-Pac-Islander  Female             0             0              99   \n",
       "48813               White    Male             0             0              60   \n",
       "48817               White  Female             0             0              55   \n",
       "48829               White    Male          1086             0              60   \n",
       "\n",
       "      native-country  class  \n",
       "25     United-States   >50K  \n",
       "27     United-States  <=50K  \n",
       "29     United-States  <=50K  \n",
       "53     United-States   >50K  \n",
       "54            Mexico  <=50K  \n",
       "...              ...    ...  \n",
       "48811  United-States   >50K  \n",
       "48812  United-States  <=50K  \n",
       "48813  United-States   >50K  \n",
       "48817  United-States   >50K  \n",
       "48829  United-States  <=50K  \n",
       "\n",
       "[5111 rows x 14 columns]"
      ]
     },
     "execution_count": 36,
     "metadata": {},
     "output_type": "execute_result"
    }
   ],
   "source": [
    "outliers"
   ]
  },
  {
   "cell_type": "code",
   "execution_count": 37,
   "id": "93b83eae-53f5-46f8-9d02-afdf3de11026",
   "metadata": {},
   "outputs": [
    {
     "name": "stdout",
     "output_type": "stream",
     "text": [
      "count    47985.000000\n",
      "mean        39.244295\n",
      "std         10.034699\n",
      "min          1.000000\n",
      "25%         40.000000\n",
      "50%         40.000000\n",
      "75%         45.000000\n",
      "max         52.500000\n",
      "Name: hours-per-week, dtype: float64\n"
     ]
    },
    {
     "name": "stderr",
     "output_type": "stream",
     "text": [
      "C:\\Users\\5-04\\AppData\\Local\\Temp\\ipykernel_11136\\2167349191.py:2: FutureWarning: Setting an item of incompatible dtype is deprecated and will raise an error in a future version of pandas. Value '52.5' has dtype incompatible with int64, please explicitly cast to a compatible dtype first.\n",
      "  data.loc[data['hours-per-week'] > 52.5, 'hours-per-week'] = 52.5\n"
     ]
    }
   ],
   "source": [
    "# 큰 이상치 값\n",
    "data.loc[data['hours-per-week'] > 52.5, 'hours-per-week'] = 52.5  \n",
    "print(data['hours-per-week'].describe())"
   ]
  },
  {
   "cell_type": "code",
   "execution_count": 38,
   "id": "bc3634da-f2bc-4205-9be9-f7f96348c059",
   "metadata": {},
   "outputs": [
    {
     "name": "stdout",
     "output_type": "stream",
     "text": [
      "count    47985.000000\n",
      "mean        41.187507\n",
      "std          6.185933\n",
      "min         32.500000\n",
      "25%         40.000000\n",
      "50%         40.000000\n",
      "75%         45.000000\n",
      "max         52.500000\n",
      "Name: hours-per-week, dtype: float64\n"
     ]
    }
   ],
   "source": [
    "# 작은 이상치 값\n",
    "data.loc[data['hours-per-week'] < 32.5, 'hours-per-week'] = 32.5  \n",
    "print(data['hours-per-week'].describe())"
   ]
  },
  {
   "cell_type": "code",
   "execution_count": 39,
   "id": "507e6d75-5687-4313-977a-58f7fa85a8c4",
   "metadata": {
    "scrolled": true
   },
   "outputs": [
    {
     "name": "stdout",
     "output_type": "stream",
     "text": [
      "<class 'pandas.core.frame.DataFrame'>\n",
      "Index: 47985 entries, 0 to 48841\n",
      "Data columns (total 14 columns):\n",
      " #   Column          Non-Null Count  Dtype  \n",
      "---  ------          --------------  -----  \n",
      " 0   age             47985 non-null  int64  \n",
      " 1   workclass       47985 non-null  object \n",
      " 2   education       47985 non-null  object \n",
      " 3   education-num   47985 non-null  int64  \n",
      " 4   marital-status  47985 non-null  object \n",
      " 5   occupation      47985 non-null  object \n",
      " 6   relationship    47985 non-null  object \n",
      " 7   race            47985 non-null  object \n",
      " 8   sex             47985 non-null  object \n",
      " 9   capital-gain    47985 non-null  int64  \n",
      " 10  capital-loss    47985 non-null  int64  \n",
      " 11  hours-per-week  47985 non-null  float64\n",
      " 12  native-country  47985 non-null  object \n",
      " 13  class           47985 non-null  object \n",
      "dtypes: float64(1), int64(4), object(9)\n",
      "memory usage: 5.5+ MB\n"
     ]
    }
   ],
   "source": [
    "data.info()"
   ]
  },
  {
   "cell_type": "code",
   "execution_count": 40,
   "id": "a1470e51-15c1-4082-ae06-81200052288e",
   "metadata": {
    "scrolled": true
   },
   "outputs": [
    {
     "data": {
      "text/plain": [
       "hours-per-week  class\n",
       "32.5            <=50K     7597\n",
       "                >50K       559\n",
       "33.0            <=50K       55\n",
       "                >50K         5\n",
       "34.0            <=50K       44\n",
       "                >50K         4\n",
       "35.0            <=50K     1633\n",
       "                >50K       278\n",
       "36.0            <=50K      273\n",
       "                >50K        56\n",
       "37.0            <=50K      207\n",
       "                >50K        34\n",
       "38.0            <=50K      574\n",
       "                >50K       129\n",
       "39.0            <=50K       53\n",
       "                >50K        10\n",
       "40.0            <=50K    17624\n",
       "                >50K      4754\n",
       "41.0            <=50K       44\n",
       "                >50K        15\n",
       "42.0            <=50K      235\n",
       "                >50K        99\n",
       "43.0            <=50K      166\n",
       "                >50K        59\n",
       "44.0            <=50K      202\n",
       "                >50K       104\n",
       "45.0            <=50K     1673\n",
       "                >50K       991\n",
       "46.0            <=50K       83\n",
       "                >50K        45\n",
       "47.0            <=50K       55\n",
       "                >50K        27\n",
       "48.0            <=50K      507\n",
       "                >50K       248\n",
       "49.0            <=50K       31\n",
       "                >50K         7\n",
       "50.0            <=50K     2310\n",
       "                >50K      1861\n",
       "51.0            <=50K       16\n",
       "                >50K         4\n",
       "52.0            <=50K      134\n",
       "                >50K        69\n",
       "52.5            <=50K     3002\n",
       "                >50K      2109\n",
       "Name: count, dtype: int64"
      ]
     },
     "execution_count": 40,
     "metadata": {},
     "output_type": "execute_result"
    }
   ],
   "source": [
    "data.groupby('hours-per-week')['class'].value_counts(sort=False)"
   ]
  },
  {
   "cell_type": "code",
   "execution_count": null,
   "id": "459838e1-99e0-4d73-b5f3-dd45da30d67a",
   "metadata": {},
   "outputs": [],
   "source": []
  },
  {
   "cell_type": "code",
   "execution_count": null,
   "id": "a1a59727-3277-4642-93f2-4a6620d4f48b",
   "metadata": {},
   "outputs": [],
   "source": []
  },
  {
   "cell_type": "code",
   "execution_count": null,
   "id": "f74340f5-4c69-4702-8316-b207d9c42d93",
   "metadata": {},
   "outputs": [],
   "source": []
  },
  {
   "cell_type": "code",
   "execution_count": null,
   "id": "9ae04e0d-456e-4742-a6d9-9ae9bc6bf176",
   "metadata": {},
   "outputs": [],
   "source": []
  },
  {
   "cell_type": "code",
   "execution_count": null,
   "id": "20de13bb-f085-4266-b7d1-f65b322ff72e",
   "metadata": {},
   "outputs": [],
   "source": []
  },
  {
   "cell_type": "code",
   "execution_count": null,
   "id": "eb7f7332-9c4a-40b6-8edb-e8eb6c83bda5",
   "metadata": {},
   "outputs": [],
   "source": []
  },
  {
   "cell_type": "code",
   "execution_count": 41,
   "id": "1f89d43a-9e42-43c1-9257-6d9019fc13d0",
   "metadata": {},
   "outputs": [
    {
     "data": {
      "text/plain": [
       "count    47985.000000\n",
       "mean        38.641284\n",
       "std         13.729622\n",
       "min         17.000000\n",
       "25%         28.000000\n",
       "50%         37.000000\n",
       "75%         48.000000\n",
       "max         90.000000\n",
       "Name: age, dtype: float64"
      ]
     },
     "execution_count": 41,
     "metadata": {},
     "output_type": "execute_result"
    }
   ],
   "source": [
    "data['age'].describe()"
   ]
  },
  {
   "cell_type": "code",
   "execution_count": null,
   "id": "527a2acf-bf9c-4556-9607-cfe955a8284a",
   "metadata": {},
   "outputs": [],
   "source": []
  },
  {
   "cell_type": "code",
   "execution_count": null,
   "id": "deddde33-3785-4978-b908-4f0df833dcb0",
   "metadata": {},
   "outputs": [],
   "source": []
  },
  {
   "cell_type": "code",
   "execution_count": 42,
   "id": "9d04da22-3826-4642-a6ce-2f97115b0f08",
   "metadata": {},
   "outputs": [
    {
     "data": {
      "text/plain": [
       "age\n",
       "36    1319\n",
       "23    1316\n",
       "33    1314\n",
       "35    1313\n",
       "31    1299\n",
       "      ... \n",
       "85       5\n",
       "88       5\n",
       "87       3\n",
       "89       2\n",
       "86       1\n",
       "Name: count, Length: 74, dtype: int64"
      ]
     },
     "execution_count": 42,
     "metadata": {},
     "output_type": "execute_result"
    }
   ],
   "source": [
    "data['age'].value_counts()"
   ]
  },
  {
   "cell_type": "code",
   "execution_count": 43,
   "id": "927b742f-5d5c-45f4-9b3a-b7ecc186e241",
   "metadata": {},
   "outputs": [],
   "source": [
    "def age_num(x):\n",
    "    if ((x >= 17) & (x < 20)):\n",
    "        x = 10\n",
    "        return x\n",
    "    elif ((x >= 20) & (x < 30)):\n",
    "        x = 20\n",
    "        return x\n",
    "    elif ((x >= 30) & (x < 40)):\n",
    "        x = 30\n",
    "        return x\n",
    "    elif ((x >= 40) & (x < 50)):\n",
    "        x = 40\n",
    "        return x\n",
    "    elif ((x >= 50) & (x < 60)):\n",
    "        x = 50\n",
    "        return x\n",
    "    elif ((x >= 60) & (x < 70)):\n",
    "        x = 60\n",
    "        return x\n",
    "    elif ((x >= 70) & (x < 80)):\n",
    "        x = 70\n",
    "        return x\n",
    "    else:\n",
    "        x = 80\n",
    "        return x"
   ]
  },
  {
   "cell_type": "code",
   "execution_count": 44,
   "id": "ff223778-2653-4bac-9510-3d40b36efe19",
   "metadata": {},
   "outputs": [],
   "source": [
    "data['age'] = data['age'].apply(age_num)"
   ]
  },
  {
   "cell_type": "code",
   "execution_count": 45,
   "id": "e3ef903a-8077-4c49-9b29-2709a438128e",
   "metadata": {},
   "outputs": [
    {
     "data": {
      "text/plain": [
       "age\n",
       "30    12666\n",
       "20    11802\n",
       "40    10524\n",
       "50     6513\n",
       "60     2999\n",
       "10     2490\n",
       "70      810\n",
       "80      181\n",
       "Name: count, dtype: int64"
      ]
     },
     "execution_count": 45,
     "metadata": {},
     "output_type": "execute_result"
    }
   ],
   "source": [
    "data['age'].value_counts()"
   ]
  },
  {
   "cell_type": "code",
   "execution_count": 46,
   "id": "6d966e62-f916-45da-a3dc-6b10d4d63d00",
   "metadata": {},
   "outputs": [
    {
     "data": {
      "text/plain": [
       "age  class\n",
       "10   <=50K     2487\n",
       "     >50K         3\n",
       "20   <=50K    11073\n",
       "     >50K       729\n",
       "30   <=50K     9271\n",
       "     >50K      3395\n",
       "40   <=50K     6613\n",
       "     >50K      3911\n",
       "50   <=50K     4048\n",
       "     >50K      2465\n",
       "60   <=50K     2210\n",
       "     >50K       789\n",
       "70   <=50K      664\n",
       "     >50K       146\n",
       "80   <=50K      152\n",
       "     >50K        29\n",
       "Name: count, dtype: int64"
      ]
     },
     "execution_count": 46,
     "metadata": {},
     "output_type": "execute_result"
    }
   ],
   "source": [
    "data.groupby('age')['class'].value_counts()"
   ]
  },
  {
   "cell_type": "code",
   "execution_count": null,
   "id": "2ac18b45-6bf8-46e0-bf3f-06c35b307565",
   "metadata": {},
   "outputs": [],
   "source": []
  },
  {
   "cell_type": "code",
   "execution_count": 47,
   "id": "fdec1b81-ac4a-4074-883a-ae70cbd25629",
   "metadata": {},
   "outputs": [
    {
     "data": {
      "text/plain": [
       "array(['Private', 'Local-gov', 'part-timer', 'Self-emp-not-inc',\n",
       "       'Federal-gov', 'State-gov', 'Self-emp-inc', 'Without-pay',\n",
       "       'Never-worked'], dtype=object)"
      ]
     },
     "execution_count": 47,
     "metadata": {},
     "output_type": "execute_result"
    }
   ],
   "source": [
    "data['workclass'].unique()"
   ]
  },
  {
   "cell_type": "code",
   "execution_count": 48,
   "id": "59e881bf-9e8e-4dda-bfba-3ed60b650dad",
   "metadata": {},
   "outputs": [
    {
     "data": {
      "text/plain": [
       "array(['11th', 'HS-grad', 'Assoc-acdm', 'Some-college', '10th',\n",
       "       'Prof-school', '7th-8th', 'Bachelors', 'Masters', '5th-6th',\n",
       "       'Assoc-voc', '9th', 'Doctorate', '12th', '1st-4th', 'Preschool'],\n",
       "      dtype=object)"
      ]
     },
     "execution_count": 48,
     "metadata": {},
     "output_type": "execute_result"
    }
   ],
   "source": [
    "data['education'].unique()"
   ]
  },
  {
   "cell_type": "code",
   "execution_count": 49,
   "id": "7758b7a6-35cb-4132-9b3b-1d202f7a1aca",
   "metadata": {},
   "outputs": [
    {
     "data": {
      "text/plain": [
       "education\n",
       "HS-grad         15586\n",
       "Some-college    10723\n",
       "Bachelors        7815\n",
       "Masters          2579\n",
       "Assoc-voc        2038\n",
       "11th             1800\n",
       "Assoc-acdm       1579\n",
       "10th             1372\n",
       "7th-8th           931\n",
       "Prof-school       808\n",
       "9th               745\n",
       "12th              635\n",
       "Doctorate         562\n",
       "5th-6th           490\n",
       "1st-4th           240\n",
       "Preschool          82\n",
       "Name: count, dtype: int64"
      ]
     },
     "execution_count": 49,
     "metadata": {},
     "output_type": "execute_result"
    }
   ],
   "source": [
    "data['education'].value_counts()"
   ]
  },
  {
   "cell_type": "code",
   "execution_count": 50,
   "id": "79c9dcec-633a-414e-b6f8-44bf77e3836a",
   "metadata": {},
   "outputs": [
    {
     "data": {
      "text/plain": [
       "0                11th\n",
       "1             HS-grad\n",
       "2          Assoc-acdm\n",
       "3        Some-college\n",
       "4        Some-college\n",
       "             ...     \n",
       "48837      Assoc-acdm\n",
       "48838         HS-grad\n",
       "48839         HS-grad\n",
       "48840         HS-grad\n",
       "48841         HS-grad\n",
       "Name: education, Length: 47985, dtype: object"
      ]
     },
     "execution_count": 50,
     "metadata": {},
     "output_type": "execute_result"
    }
   ],
   "source": [
    "data['education']"
   ]
  },
  {
   "cell_type": "code",
   "execution_count": 51,
   "id": "6bc9da0b-3576-4e03-aed7-a865192692a9",
   "metadata": {
    "scrolled": true
   },
   "outputs": [
    {
     "data": {
      "text/plain": [
       "education     class\n",
       "10th          <=50K     1286\n",
       "              >50K        86\n",
       "11th          <=50K     1709\n",
       "              >50K        91\n",
       "12th          <=50K      590\n",
       "              >50K        45\n",
       "1st-4th       <=50K      232\n",
       "              >50K         8\n",
       "5th-6th       <=50K      466\n",
       "              >50K        24\n",
       "7th-8th       <=50K      872\n",
       "              >50K        59\n",
       "9th           <=50K      706\n",
       "              >50K        39\n",
       "Assoc-acdm    <=50K     1172\n",
       "              >50K       407\n",
       "Assoc-voc     <=50K     1521\n",
       "              >50K       517\n",
       "Bachelors     <=50K     4579\n",
       "              >50K      3236\n",
       "Doctorate     >50K       411\n",
       "              <=50K      151\n",
       "HS-grad       <=50K    13105\n",
       "              >50K      2481\n",
       "Masters       >50K      1422\n",
       "              <=50K     1157\n",
       "Preschool     <=50K       81\n",
       "              >50K         1\n",
       "Prof-school   >50K       603\n",
       "              <=50K      205\n",
       "Some-college  <=50K     8686\n",
       "              >50K      2037\n",
       "Name: count, dtype: int64"
      ]
     },
     "execution_count": 51,
     "metadata": {},
     "output_type": "execute_result"
    }
   ],
   "source": [
    "data.groupby('education')['class'].value_counts()"
   ]
  },
  {
   "cell_type": "code",
   "execution_count": 52,
   "id": "07a94f19-0425-43e4-9f86-93094ded6ba5",
   "metadata": {
    "scrolled": true
   },
   "outputs": [
    {
     "data": {
      "text/plain": [
       "education     class\n",
       "10th          <=50K    93.731778\n",
       "              >50K      6.268222\n",
       "11th          <=50K    94.944444\n",
       "              >50K      5.055556\n",
       "12th          <=50K    92.913386\n",
       "              >50K      7.086614\n",
       "1st-4th       <=50K    96.666667\n",
       "              >50K      3.333333\n",
       "5th-6th       <=50K    95.102041\n",
       "              >50K      4.897959\n",
       "7th-8th       <=50K    93.662728\n",
       "              >50K      6.337272\n",
       "9th           <=50K    94.765101\n",
       "              >50K      5.234899\n",
       "Assoc-acdm    <=50K    74.224193\n",
       "              >50K     25.775807\n",
       "Assoc-voc     <=50K    74.631992\n",
       "              >50K     25.368008\n",
       "Bachelors     <=50K    58.592450\n",
       "              >50K     41.407550\n",
       "Doctorate     >50K     73.131673\n",
       "              <=50K    26.868327\n",
       "HS-grad       <=50K    84.081868\n",
       "              >50K     15.918132\n",
       "Masters       >50K     55.137650\n",
       "              <=50K    44.862350\n",
       "Preschool     <=50K    98.780488\n",
       "              >50K      1.219512\n",
       "Prof-school   >50K     74.628713\n",
       "              <=50K    25.371287\n",
       "Some-college  <=50K    81.003451\n",
       "              >50K     18.996549\n",
       "Name: proportion, dtype: float64"
      ]
     },
     "execution_count": 52,
     "metadata": {},
     "output_type": "execute_result"
    }
   ],
   "source": [
    "data.groupby('education')['class'].value_counts(normalize=True) * 100"
   ]
  },
  {
   "cell_type": "code",
   "execution_count": null,
   "id": "291708c7-e290-4ce8-a363-f0d7f029ce48",
   "metadata": {},
   "outputs": [],
   "source": []
  },
  {
   "cell_type": "code",
   "execution_count": 53,
   "id": "1b868857-fa1f-49b8-892c-5e0b982a4626",
   "metadata": {},
   "outputs": [],
   "source": [
    "def edu_change(x):\n",
    "    if ((x == 'Preschool') or (x == '1st-4th')):\n",
    "        return 1    # 초등학교까지\n",
    "    elif ((x == '5th-6th') or (x == '7th-8th') or (x == '9th')  or (x == '10th') or (x == '11th') or (x == '12th')):\n",
    "        return 2    # 중,고3\n",
    "    elif ((x == 'HS-grad') or (x == 'Some-college')):\n",
    "        return 3    # 고졸 ~ 대학교 일부과정\n",
    "    elif ((x == 'Assoc-voc') or (x == 'Assoc-acdm')):\n",
    "        return 4    # 직업학교 ~ 준학사\n",
    "    elif ((x == 'Bachelors') or (x == 'Masters')):\n",
    "        return 5    # 학사 ~ 석사\n",
    "    else:\n",
    "        return 6    # 전문학교(Prof-school)- 법,의, 약학, 박사(Doctorate)"
   ]
  },
  {
   "cell_type": "code",
   "execution_count": 54,
   "id": "b0b825f8-ec1b-41c3-954f-b32b7c7324df",
   "metadata": {},
   "outputs": [],
   "source": [
    "data['education'] = data['education'].apply(edu_change)"
   ]
  },
  {
   "cell_type": "code",
   "execution_count": 55,
   "id": "efd47fbd-8018-402f-8614-5224412a2047",
   "metadata": {},
   "outputs": [
    {
     "data": {
      "text/plain": [
       "education\n",
       "3    26309\n",
       "5    10394\n",
       "2     5973\n",
       "4     3617\n",
       "6     1370\n",
       "1      322\n",
       "Name: count, dtype: int64"
      ]
     },
     "execution_count": 55,
     "metadata": {},
     "output_type": "execute_result"
    }
   ],
   "source": [
    "data['education'].value_counts()"
   ]
  },
  {
   "cell_type": "code",
   "execution_count": 56,
   "id": "ef735cf7-17d1-4de3-9540-7afa793f17ba",
   "metadata": {},
   "outputs": [
    {
     "data": {
      "text/plain": [
       "education  class\n",
       "1          <=50K      313\n",
       "           >50K         9\n",
       "2          <=50K     5629\n",
       "           >50K       344\n",
       "3          <=50K    21791\n",
       "           >50K      4518\n",
       "4          <=50K     2693\n",
       "           >50K       924\n",
       "5          <=50K     5736\n",
       "           >50K      4658\n",
       "6          >50K      1014\n",
       "           <=50K      356\n",
       "Name: count, dtype: int64"
      ]
     },
     "execution_count": 56,
     "metadata": {},
     "output_type": "execute_result"
    }
   ],
   "source": [
    "data.groupby('education')['class'].value_counts()"
   ]
  },
  {
   "cell_type": "code",
   "execution_count": 57,
   "id": "0f5a262d-f0ff-4507-bfde-7027470ed005",
   "metadata": {},
   "outputs": [
    {
     "data": {
      "text/plain": [
       "education  class\n",
       "1          <=50K    97.204969\n",
       "           >50K      2.795031\n",
       "2          <=50K    94.240750\n",
       "           >50K      5.759250\n",
       "3          <=50K    82.827169\n",
       "           >50K     17.172831\n",
       "4          <=50K    74.453967\n",
       "           >50K     25.546033\n",
       "5          <=50K    55.185684\n",
       "           >50K     44.814316\n",
       "6          >50K     74.014599\n",
       "           <=50K    25.985401\n",
       "Name: proportion, dtype: float64"
      ]
     },
     "execution_count": 57,
     "metadata": {},
     "output_type": "execute_result"
    }
   ],
   "source": [
    "data.groupby('education')['class'].value_counts(normalize=True) * 100"
   ]
  },
  {
   "cell_type": "code",
   "execution_count": null,
   "id": "bbf2356b-17f9-4300-a379-2f007e4f4c1b",
   "metadata": {},
   "outputs": [],
   "source": []
  },
  {
   "cell_type": "code",
   "execution_count": 58,
   "id": "64c56d5f-5e77-463f-9a90-1bb3ab476f72",
   "metadata": {},
   "outputs": [
    {
     "data": {
      "text/plain": [
       "education-num\n",
       "9     15586\n",
       "10    10723\n",
       "13     7815\n",
       "14     2579\n",
       "11     2038\n",
       "7      1800\n",
       "12     1579\n",
       "6      1372\n",
       "4       931\n",
       "15      808\n",
       "5       745\n",
       "8       635\n",
       "16      562\n",
       "3       490\n",
       "2       240\n",
       "1        82\n",
       "Name: count, dtype: int64"
      ]
     },
     "execution_count": 58,
     "metadata": {},
     "output_type": "execute_result"
    }
   ],
   "source": [
    "data['education-num'].value_counts()"
   ]
  },
  {
   "cell_type": "code",
   "execution_count": 59,
   "id": "c37bfb75-df99-4f52-bd92-369c6ee7caac",
   "metadata": {},
   "outputs": [
    {
     "data": {
      "text/plain": [
       "education-num  class\n",
       "1              <=50K       81\n",
       "               >50K         1\n",
       "2              <=50K      232\n",
       "               >50K         8\n",
       "3              <=50K      466\n",
       "               >50K        24\n",
       "4              <=50K      872\n",
       "               >50K        59\n",
       "5              <=50K      706\n",
       "               >50K        39\n",
       "6              <=50K     1286\n",
       "               >50K        86\n",
       "7              <=50K     1709\n",
       "               >50K        91\n",
       "8              <=50K      590\n",
       "               >50K        45\n",
       "9              <=50K    13105\n",
       "               >50K      2481\n",
       "10             <=50K     8686\n",
       "               >50K      2037\n",
       "11             <=50K     1521\n",
       "               >50K       517\n",
       "12             <=50K     1172\n",
       "               >50K       407\n",
       "13             <=50K     4579\n",
       "               >50K      3236\n",
       "14             >50K      1422\n",
       "               <=50K     1157\n",
       "15             >50K       603\n",
       "               <=50K      205\n",
       "16             >50K       411\n",
       "               <=50K      151\n",
       "Name: count, dtype: int64"
      ]
     },
     "execution_count": 59,
     "metadata": {},
     "output_type": "execute_result"
    }
   ],
   "source": [
    "data.groupby('education-num')['class'].value_counts()"
   ]
  },
  {
   "cell_type": "code",
   "execution_count": 60,
   "id": "a8bc869b-a50d-4e8f-93f5-d5fd2abbf436",
   "metadata": {},
   "outputs": [
    {
     "data": {
      "text/plain": [
       "education-num  class\n",
       "1              <=50K    98.780488\n",
       "               >50K      1.219512\n",
       "2              <=50K    96.666667\n",
       "               >50K      3.333333\n",
       "3              <=50K    95.102041\n",
       "               >50K      4.897959\n",
       "4              <=50K    93.662728\n",
       "               >50K      6.337272\n",
       "5              <=50K    94.765101\n",
       "               >50K      5.234899\n",
       "6              <=50K    93.731778\n",
       "               >50K      6.268222\n",
       "7              <=50K    94.944444\n",
       "               >50K      5.055556\n",
       "8              <=50K    92.913386\n",
       "               >50K      7.086614\n",
       "9              <=50K    84.081868\n",
       "               >50K     15.918132\n",
       "10             <=50K    81.003451\n",
       "               >50K     18.996549\n",
       "11             <=50K    74.631992\n",
       "               >50K     25.368008\n",
       "12             <=50K    74.224193\n",
       "               >50K     25.775807\n",
       "13             <=50K    58.592450\n",
       "               >50K     41.407550\n",
       "14             >50K     55.137650\n",
       "               <=50K    44.862350\n",
       "15             >50K     74.628713\n",
       "               <=50K    25.371287\n",
       "16             >50K     73.131673\n",
       "               <=50K    26.868327\n",
       "Name: proportion, dtype: float64"
      ]
     },
     "execution_count": 60,
     "metadata": {},
     "output_type": "execute_result"
    }
   ],
   "source": [
    "data.groupby('education-num')['class'].value_counts(normalize=True) * 100"
   ]
  },
  {
   "cell_type": "code",
   "execution_count": 61,
   "id": "33a0d455-13ef-4df1-8057-4e57db4192a0",
   "metadata": {},
   "outputs": [],
   "source": [
    "def edu_num_change(x):\n",
    "    if ((x >= 1) and (x <= 8)):\n",
    "        return 1 \n",
    "    elif ((x >= 9) and (x <= 10)):\n",
    "        return 2 \n",
    "    elif ((x >= 11) and (x <= 12)):\n",
    "        return 3 \n",
    "    elif ((x >= 13) and (x <= 14)):\n",
    "        return 4 \n",
    "    else : \n",
    "        return 5"
   ]
  },
  {
   "cell_type": "code",
   "execution_count": 62,
   "id": "fba97bdd-4f26-4668-a234-5299abc1ee67",
   "metadata": {},
   "outputs": [],
   "source": [
    "data['education-num'] = data['education-num'].apply(edu_num_change)"
   ]
  },
  {
   "cell_type": "code",
   "execution_count": 63,
   "id": "f2d5e6fe-f0e4-4427-9124-265c12ce705f",
   "metadata": {},
   "outputs": [
    {
     "data": {
      "text/plain": [
       "education-num\n",
       "2    26309\n",
       "4    10394\n",
       "1     6295\n",
       "3     3617\n",
       "5     1370\n",
       "Name: count, dtype: int64"
      ]
     },
     "execution_count": 63,
     "metadata": {},
     "output_type": "execute_result"
    }
   ],
   "source": [
    "data['education-num'].value_counts()"
   ]
  },
  {
   "cell_type": "code",
   "execution_count": 64,
   "id": "709b743e-77f2-43d5-a75e-5a83e3f0380a",
   "metadata": {},
   "outputs": [
    {
     "data": {
      "text/plain": [
       "education-num  class\n",
       "1              <=50K     5942\n",
       "               >50K       353\n",
       "2              <=50K    21791\n",
       "               >50K      4518\n",
       "3              <=50K     2693\n",
       "               >50K       924\n",
       "4              <=50K     5736\n",
       "               >50K      4658\n",
       "5              >50K      1014\n",
       "               <=50K      356\n",
       "Name: count, dtype: int64"
      ]
     },
     "execution_count": 64,
     "metadata": {},
     "output_type": "execute_result"
    }
   ],
   "source": [
    "data.groupby('education-num')['class'].value_counts()"
   ]
  },
  {
   "cell_type": "code",
   "execution_count": 65,
   "id": "9f8badf3-7a25-43bc-9620-7e3bc94a50e5",
   "metadata": {},
   "outputs": [
    {
     "data": {
      "text/plain": [
       "education-num  class\n",
       "1              <=50K    94.392375\n",
       "               >50K      5.607625\n",
       "2              <=50K    82.827169\n",
       "               >50K     17.172831\n",
       "3              <=50K    74.453967\n",
       "               >50K     25.546033\n",
       "4              <=50K    55.185684\n",
       "               >50K     44.814316\n",
       "5              >50K     74.014599\n",
       "               <=50K    25.985401\n",
       "Name: proportion, dtype: float64"
      ]
     },
     "execution_count": 65,
     "metadata": {},
     "output_type": "execute_result"
    }
   ],
   "source": [
    "data.groupby('education-num')['class'].value_counts(normalize=True) * 100"
   ]
  },
  {
   "cell_type": "code",
   "execution_count": null,
   "id": "6ad3c55a-273d-47b7-bbbf-1b101e8248ce",
   "metadata": {},
   "outputs": [],
   "source": []
  },
  {
   "cell_type": "code",
   "execution_count": 66,
   "id": "62d959e8-f438-442e-8d04-10c439fbd6bc",
   "metadata": {},
   "outputs": [
    {
     "data": {
      "text/plain": [
       "array(['Never-married', 'Married-civ-spouse', 'Widowed', 'Divorced',\n",
       "       'Separated', 'Married-spouse-absent', 'Married-AF-spouse'],\n",
       "      dtype=object)"
      ]
     },
     "execution_count": 66,
     "metadata": {},
     "output_type": "execute_result"
    }
   ],
   "source": [
    "data['marital-status'].unique()"
   ]
  },
  {
   "cell_type": "code",
   "execution_count": 67,
   "id": "4af6a9ac-0a0f-4141-be8e-e71311d4aa54",
   "metadata": {},
   "outputs": [
    {
     "data": {
      "text/plain": [
       "marital-status\n",
       "Married-civ-spouse       21971\n",
       "Never-married            15816\n",
       "Divorced                  6561\n",
       "Separated                 1507\n",
       "Widowed                   1498\n",
       "Married-spouse-absent      595\n",
       "Married-AF-spouse           37\n",
       "Name: count, dtype: int64"
      ]
     },
     "execution_count": 67,
     "metadata": {},
     "output_type": "execute_result"
    }
   ],
   "source": [
    "data['marital-status'].value_counts()"
   ]
  },
  {
   "cell_type": "code",
   "execution_count": 68,
   "id": "2b81634a-b487-49b9-afe8-fac0ab83e17a",
   "metadata": {},
   "outputs": [
    {
     "data": {
      "text/plain": [
       "marital-status         class\n",
       "Divorced               <=50K    89.879592\n",
       "                       >50K     10.120408\n",
       "Married-AF-spouse      <=50K    62.162162\n",
       "                       >50K     37.837838\n",
       "Married-civ-spouse     <=50K    55.409403\n",
       "                       >50K     44.590597\n",
       "Married-spouse-absent  <=50K    90.756303\n",
       "                       >50K      9.243697\n",
       "Never-married          <=50K    95.504552\n",
       "                       >50K      4.495448\n",
       "Separated              <=50K    93.430657\n",
       "                       >50K      6.569343\n",
       "Widowed                <=50K    91.522029\n",
       "                       >50K      8.477971\n",
       "Name: proportion, dtype: float64"
      ]
     },
     "execution_count": 68,
     "metadata": {},
     "output_type": "execute_result"
    }
   ],
   "source": [
    "data.groupby('marital-status')['class'].value_counts(normalize=True, sort=False) * 100"
   ]
  },
  {
   "cell_type": "code",
   "execution_count": 69,
   "id": "ebead899-5ae4-4033-a6d2-cd03d0bd0fc7",
   "metadata": {},
   "outputs": [],
   "source": [
    "def marr(x):\n",
    "    if ((x == 'Divorced') or (x == 'Never-married') or(x == 'Separated') or(x == 'Widowed')):\n",
    "        return 0\n",
    "    else :\n",
    "        return 1"
   ]
  },
  {
   "cell_type": "code",
   "execution_count": 70,
   "id": "e6539043-ec07-433c-aa81-21475274fd08",
   "metadata": {},
   "outputs": [],
   "source": [
    "data['marital-status'] = data['marital-status'].apply(marr)"
   ]
  },
  {
   "cell_type": "code",
   "execution_count": 71,
   "id": "87bc936a-14e4-41cc-9a48-94350c8fdee7",
   "metadata": {},
   "outputs": [
    {
     "data": {
      "text/plain": [
       "marital-status  class\n",
       "0               <=50K    93.692380\n",
       "                >50K      6.307620\n",
       "1               <=50K    56.350927\n",
       "                >50K     43.649073\n",
       "Name: proportion, dtype: float64"
      ]
     },
     "execution_count": 71,
     "metadata": {},
     "output_type": "execute_result"
    }
   ],
   "source": [
    "data.groupby('marital-status')['class'].value_counts(normalize=True, sort = False) * 100"
   ]
  },
  {
   "cell_type": "code",
   "execution_count": null,
   "id": "18e2059c-9f31-41fa-b8f6-cc33f51d4633",
   "metadata": {},
   "outputs": [],
   "source": []
  },
  {
   "cell_type": "code",
   "execution_count": 72,
   "id": "d825bb05-075d-43fb-bb05-6a0075f39997",
   "metadata": {},
   "outputs": [
    {
     "data": {
      "text/plain": [
       "array(['Machine-op-inspct', 'Farming-fishing', 'Protective-serv',\n",
       "       'part-timer', 'Other-service', 'Prof-specialty', 'Craft-repair',\n",
       "       'Adm-clerical', 'Exec-managerial', 'Tech-support', 'Sales',\n",
       "       'Priv-house-serv', 'Transport-moving', 'Handlers-cleaners',\n",
       "       'Armed-Forces'], dtype=object)"
      ]
     },
     "execution_count": 72,
     "metadata": {},
     "output_type": "execute_result"
    }
   ],
   "source": [
    "data['occupation'].unique()"
   ]
  },
  {
   "cell_type": "code",
   "execution_count": 73,
   "id": "2fd93c55-921a-4d78-a775-09b5f2886d4f",
   "metadata": {},
   "outputs": [
    {
     "data": {
      "text/plain": [
       "15"
      ]
     },
     "execution_count": 73,
     "metadata": {},
     "output_type": "execute_result"
    }
   ],
   "source": [
    "data['occupation'].nunique()"
   ]
  },
  {
   "cell_type": "code",
   "execution_count": 74,
   "id": "ab209237-4fd2-4d19-9ec2-25d232bda170",
   "metadata": {},
   "outputs": [
    {
     "data": {
      "text/plain": [
       "occupation\n",
       "Craft-repair         6020\n",
       "Prof-specialty       6008\n",
       "Exec-managerial      5984\n",
       "Adm-clerical         5540\n",
       "Sales                5408\n",
       "Other-service        4808\n",
       "Machine-op-inspct    2970\n",
       "part-timer           2763\n",
       "Transport-moving     2316\n",
       "Handlers-cleaners    2046\n",
       "Farming-fishing      1480\n",
       "Tech-support         1420\n",
       "Protective-serv       976\n",
       "Priv-house-serv       232\n",
       "Armed-Forces           14\n",
       "Name: count, dtype: int64"
      ]
     },
     "execution_count": 74,
     "metadata": {},
     "output_type": "execute_result"
    }
   ],
   "source": [
    "data['occupation'].value_counts()"
   ]
  },
  {
   "cell_type": "code",
   "execution_count": 75,
   "id": "fae57b96-58b5-4e09-9b3a-20132f8d912c",
   "metadata": {},
   "outputs": [
    {
     "data": {
      "text/plain": [
       "occupation         class\n",
       "Adm-clerical       <=50K    4784\n",
       "                   >50K      756\n",
       "Armed-Forces       <=50K      10\n",
       "                   >50K        4\n",
       "Craft-repair       <=50K    4665\n",
       "                   >50K     1355\n",
       "Exec-managerial    <=50K    3117\n",
       "                   >50K     2867\n",
       "Farming-fishing    <=50K    1308\n",
       "                   >50K      172\n",
       "Handlers-cleaners  <=50K    1911\n",
       "                   >50K      135\n",
       "Machine-op-inspct  <=50K    2605\n",
       "                   >50K      365\n",
       "Other-service      <=50K    4612\n",
       "                   >50K      196\n",
       "Priv-house-serv    <=50K     229\n",
       "                   >50K        3\n",
       "Prof-specialty     <=50K    3304\n",
       "                   >50K     2704\n",
       "Protective-serv    <=50K     669\n",
       "                   >50K      307\n",
       "Sales              <=50K    3953\n",
       "                   >50K     1455\n",
       "Tech-support       <=50K    1009\n",
       "                   >50K      411\n",
       "Transport-moving   <=50K    1838\n",
       "                   >50K      478\n",
       "part-timer         <=50K    2504\n",
       "                   >50K      259\n",
       "Name: count, dtype: int64"
      ]
     },
     "execution_count": 75,
     "metadata": {},
     "output_type": "execute_result"
    }
   ],
   "source": [
    "data.groupby('occupation')['class'].value_counts(sort = False)"
   ]
  },
  {
   "cell_type": "code",
   "execution_count": 76,
   "id": "6c034904-3f12-4a02-90eb-c07a2ad16b5f",
   "metadata": {},
   "outputs": [
    {
     "data": {
      "text/plain": [
       "array(['Own-child', 'Husband', 'Not-in-family', 'Unmarried', 'Wife',\n",
       "       'Other-relative'], dtype=object)"
      ]
     },
     "execution_count": 76,
     "metadata": {},
     "output_type": "execute_result"
    }
   ],
   "source": [
    "data['relationship'].unique()"
   ]
  },
  {
   "cell_type": "code",
   "execution_count": 77,
   "id": "23dccb61-e05a-4352-a1b3-0006f1e41eda",
   "metadata": {},
   "outputs": [
    {
     "data": {
      "text/plain": [
       "relationship\n",
       "Husband           19371\n",
       "Not-in-family     12353\n",
       "Own-child          7491\n",
       "Unmarried          5041\n",
       "Wife               2277\n",
       "Other-relative     1452\n",
       "Name: count, dtype: int64"
      ]
     },
     "execution_count": 77,
     "metadata": {},
     "output_type": "execute_result"
    }
   ],
   "source": [
    "data['relationship'].value_counts()"
   ]
  },
  {
   "cell_type": "code",
   "execution_count": 78,
   "id": "5b02a166-935f-4df9-a4c0-fe83927ccf89",
   "metadata": {},
   "outputs": [
    {
     "data": {
      "text/plain": [
       "relationship    class\n",
       "Husband         <=50K    10689\n",
       "                >50K      8682\n",
       "Not-in-family   <=50K    11102\n",
       "                >50K      1251\n",
       "Other-relative  <=50K     1401\n",
       "                >50K        51\n",
       "Own-child       <=50K     7384\n",
       "                >50K       107\n",
       "Unmarried       <=50K     4736\n",
       "                >50K       305\n",
       "Wife            <=50K     1206\n",
       "                >50K      1071\n",
       "Name: count, dtype: int64"
      ]
     },
     "execution_count": 78,
     "metadata": {},
     "output_type": "execute_result"
    }
   ],
   "source": [
    "data.groupby('relationship')['class'].value_counts()"
   ]
  },
  {
   "cell_type": "code",
   "execution_count": 79,
   "id": "72fc896f-0e68-482b-bf72-8b2b1ec43da2",
   "metadata": {},
   "outputs": [
    {
     "data": {
      "text/plain": [
       "relationship    class\n",
       "Husband         <=50K    55.180424\n",
       "                >50K     44.819576\n",
       "Not-in-family   <=50K    89.872905\n",
       "                >50K     10.127095\n",
       "Other-relative  <=50K    96.487603\n",
       "                >50K      3.512397\n",
       "Own-child       <=50K    98.571619\n",
       "                >50K      1.428381\n",
       "Unmarried       <=50K    93.949613\n",
       "                >50K      6.050387\n",
       "Wife            <=50K    52.964427\n",
       "                >50K     47.035573\n",
       "Name: proportion, dtype: float64"
      ]
     },
     "execution_count": 79,
     "metadata": {},
     "output_type": "execute_result"
    }
   ],
   "source": [
    "data.groupby('relationship')['class'].value_counts(normalize=True, sort = False) * 100"
   ]
  },
  {
   "cell_type": "code",
   "execution_count": 80,
   "id": "1554becc-10e7-4a06-92a9-63eb39edd840",
   "metadata": {},
   "outputs": [
    {
     "data": {
      "text/plain": [
       "relationship    class\n",
       "Husband         <=50K    55.180424\n",
       "                >50K     44.819576\n",
       "Not-in-family   <=50K    89.872905\n",
       "                >50K     10.127095\n",
       "Other-relative  <=50K    96.487603\n",
       "                >50K      3.512397\n",
       "Own-child       <=50K    98.571619\n",
       "                >50K      1.428381\n",
       "Unmarried       <=50K    93.949613\n",
       "                >50K      6.050387\n",
       "Wife            <=50K    52.964427\n",
       "                >50K     47.035573\n",
       "Name: proportion, dtype: float64"
      ]
     },
     "execution_count": 80,
     "metadata": {},
     "output_type": "execute_result"
    }
   ],
   "source": [
    "data.groupby('relationship')['class'].value_counts(normalize=True, sort = False) * 100"
   ]
  },
  {
   "cell_type": "code",
   "execution_count": 81,
   "id": "a1e4a22f-d49e-4a7f-8f26-6687334df0ae",
   "metadata": {
    "scrolled": true
   },
   "outputs": [
    {
     "name": "stdout",
     "output_type": "stream",
     "text": [
      "relationship  occupation         class\n",
      "Husband       Adm-clerical       <=50K     56.161396\n",
      "                                 >50K      43.838604\n",
      "              Armed-Forces       <=50K     20.000000\n",
      "                                 >50K      80.000000\n",
      "              Craft-repair       <=50K     67.300380\n",
      "                                 >50K      32.699620\n",
      "              Exec-managerial    <=50K     31.171285\n",
      "                                 >50K      68.828715\n",
      "              Farming-fishing    <=50K     81.688466\n",
      "                                 >50K      18.311534\n",
      "              Handlers-cleaners  <=50K     81.942337\n",
      "                                 >50K      18.057663\n",
      "              Machine-op-inspct  <=50K     75.231481\n",
      "                                 >50K      24.768519\n",
      "              Other-service      <=50K     86.193029\n",
      "                                 >50K      13.806971\n",
      "              Priv-house-serv    <=50K    100.000000\n",
      "              Prof-specialty     <=50K     29.479326\n",
      "                                 >50K      70.520674\n",
      "              Protective-serv    <=50K     52.508961\n",
      "                                 >50K      47.491039\n",
      "              Sales              <=50K     47.321027\n",
      "                                 >50K      52.678973\n",
      "              Tech-support       <=50K     40.882917\n",
      "                                 >50K      59.117083\n",
      "              Transport-moving   <=50K     70.000000\n",
      "                                 >50K      30.000000\n",
      "              part-timer         <=50K     75.177305\n",
      "                                 >50K      24.822695\n",
      "Wife          Adm-clerical       <=50K     53.875969\n",
      "                                 >50K      46.124031\n",
      "              Craft-repair       <=50K     56.521739\n",
      "                                 >50K      43.478261\n",
      "              Exec-managerial    <=50K     34.615385\n",
      "                                 >50K      65.384615\n",
      "              Farming-fishing    <=50K     94.444444\n",
      "                                 >50K       5.555556\n",
      "              Handlers-cleaners  <=50K     75.000000\n",
      "                                 >50K      25.000000\n",
      "              Machine-op-inspct  <=50K     80.869565\n",
      "                                 >50K      19.130435\n",
      "              Other-service      <=50K     81.395349\n",
      "                                 >50K      18.604651\n",
      "              Priv-house-serv    <=50K     87.500000\n",
      "                                 >50K      12.500000\n",
      "              Prof-specialty     <=50K     26.143791\n",
      "                                 >50K      73.856209\n",
      "              Protective-serv    <=50K     60.000000\n",
      "                                 >50K      40.000000\n",
      "              Sales              <=50K     65.445026\n",
      "                                 >50K      34.554974\n",
      "              Tech-support       <=50K     45.833333\n",
      "                                 >50K      54.166667\n",
      "              Transport-moving   <=50K     62.500000\n",
      "                                 >50K      37.500000\n",
      "              part-timer         <=50K     70.430108\n",
      "                                 >50K      29.569892\n",
      "Name: proportion, dtype: float64\n"
     ]
    }
   ],
   "source": [
    "husband_wife = data[data['relationship'].isin(['Husband', 'Wife'])]\n",
    "\n",
    "result = husband_wife.groupby(['relationship', 'occupation'])['class'].value_counts(normalize=True, sort=False) * 100\n",
    "print(result)"
   ]
  },
  {
   "cell_type": "code",
   "execution_count": 82,
   "id": "e34a6baf-a993-44db-b8da-df94218a705e",
   "metadata": {},
   "outputs": [
    {
     "data": {
      "text/plain": [
       "race                class\n",
       "Amer-Indian-Eskimo  <=50K    88.297872\n",
       "                    >50K     11.702128\n",
       "Asian-Pac-Islander  <=50K    73.040978\n",
       "                    >50K     26.959022\n",
       "Black               <=50K    87.985943\n",
       "                    >50K     12.014057\n",
       "Other               <=50K    87.696335\n",
       "                    >50K     12.303665\n",
       "White               <=50K    74.646143\n",
       "                    >50K     25.353857\n",
       "Name: proportion, dtype: float64"
      ]
     },
     "execution_count": 82,
     "metadata": {},
     "output_type": "execute_result"
    }
   ],
   "source": [
    "data.groupby('race')['class'].value_counts(sort = False, normalize=True) * 100"
   ]
  },
  {
   "cell_type": "code",
   "execution_count": 83,
   "id": "0b09765c-f625-49e3-a29c-d987703e7474",
   "metadata": {},
   "outputs": [
    {
     "data": {
      "text/plain": [
       "array(['Black', 'White', 'Other', 'Amer-Indian-Eskimo',\n",
       "       'Asian-Pac-Islander'], dtype=object)"
      ]
     },
     "execution_count": 83,
     "metadata": {},
     "output_type": "execute_result"
    }
   ],
   "source": [
    "data['race'].unique()"
   ]
  },
  {
   "cell_type": "code",
   "execution_count": 84,
   "id": "3896f1ae-06b1-49eb-acb9-9f2e15a2823e",
   "metadata": {},
   "outputs": [],
   "source": [
    "# race가 큰 관련은 없을 거 같긴함"
   ]
  },
  {
   "cell_type": "code",
   "execution_count": 85,
   "id": "724fc974-5b57-410e-b4c0-67466d1a0cc4",
   "metadata": {},
   "outputs": [
    {
     "data": {
      "text/plain": [
       "sex     class\n",
       "Female  <=50K    89.080532\n",
       "        >50K     10.919468\n",
       "Male    <=50K    69.645142\n",
       "        >50K     30.354858\n",
       "Name: proportion, dtype: float64"
      ]
     },
     "execution_count": 85,
     "metadata": {},
     "output_type": "execute_result"
    }
   ],
   "source": [
    "data.groupby('sex')['class'].value_counts(sort = False, normalize=True) * 100"
   ]
  },
  {
   "cell_type": "code",
   "execution_count": null,
   "id": "64c47234-313b-4b0d-95d5-cb1b1d49c1e2",
   "metadata": {},
   "outputs": [],
   "source": []
  },
  {
   "cell_type": "code",
   "execution_count": 86,
   "id": "7257db63-1cae-4a09-9428-31d79465b37b",
   "metadata": {},
   "outputs": [
    {
     "data": {
      "text/plain": [
       "capital-gain\n",
       "0        44024\n",
       "15024      503\n",
       "7688       398\n",
       "7298       357\n",
       "99999      234\n",
       "         ...  \n",
       "1111         1\n",
       "7262         1\n",
       "22040        1\n",
       "1639         1\n",
       "2387         1\n",
       "Name: count, Length: 123, dtype: int64"
      ]
     },
     "execution_count": 86,
     "metadata": {},
     "output_type": "execute_result"
    }
   ],
   "source": [
    "data['capital-gain'].value_counts()"
   ]
  },
  {
   "cell_type": "code",
   "execution_count": 87,
   "id": "55d59fbc-8511-449a-be3f-db03f9086d87",
   "metadata": {},
   "outputs": [
    {
     "data": {
      "text/plain": [
       "capital-gain\n",
       "0        91.745337\n",
       "15024     1.048244\n",
       "7688      0.829426\n",
       "7298      0.743982\n",
       "99999     0.487652\n",
       "           ...    \n",
       "1111      0.002084\n",
       "7262      0.002084\n",
       "22040     0.002084\n",
       "1639      0.002084\n",
       "2387      0.002084\n",
       "Name: proportion, Length: 123, dtype: float64"
      ]
     },
     "execution_count": 87,
     "metadata": {},
     "output_type": "execute_result"
    }
   ],
   "source": [
    "data['capital-gain'].value_counts(normalize=True) * 100"
   ]
  },
  {
   "cell_type": "code",
   "execution_count": 88,
   "id": "81153b59-2914-464d-bf11-a4284b209f71",
   "metadata": {},
   "outputs": [
    {
     "data": {
      "text/plain": [
       "123"
      ]
     },
     "execution_count": 88,
     "metadata": {},
     "output_type": "execute_result"
    }
   ],
   "source": [
    "data['capital-gain'].nunique()"
   ]
  },
  {
   "cell_type": "code",
   "execution_count": 89,
   "id": "8d5578e2-d699-4bd3-9304-23036520d4aa",
   "metadata": {},
   "outputs": [
    {
     "data": {
      "text/plain": [
       "count    47985.000000\n",
       "mean      1067.032093\n",
       "std       7373.256663\n",
       "min          0.000000\n",
       "25%          0.000000\n",
       "50%          0.000000\n",
       "75%          0.000000\n",
       "max      99999.000000\n",
       "Name: capital-gain, dtype: float64"
      ]
     },
     "execution_count": 89,
     "metadata": {},
     "output_type": "execute_result"
    }
   ],
   "source": [
    "data['capital-gain'].describe()"
   ]
  },
  {
   "cell_type": "code",
   "execution_count": 90,
   "id": "69ccdd76-b843-441a-bac1-3d62f88a6a5a",
   "metadata": {},
   "outputs": [
    {
     "data": {
      "text/plain": [
       "<Axes: >"
      ]
     },
     "execution_count": 90,
     "metadata": {},
     "output_type": "execute_result"
    },
    {
     "data": {
      "image/png": "[encoded data removed]",
      "text/plain": [
       "<Figure size 640x480 with 1 Axes>"
      ]
     },
     "metadata": {},
     "output_type": "display_data"
    }
   ],
   "source": [
    "data['capital-gain'].plot(kind = 'box')"
   ]
  },
  {
   "cell_type": "code",
   "execution_count": 91,
   "id": "13212756-0190-48cd-9c41-7cf7493e610f",
   "metadata": {},
   "outputs": [],
   "source": [
    "data['capital-gain'] = data['capital-gain'].apply(lambda x : 1 if x > 0 else 0)"
   ]
  },
  {
   "cell_type": "code",
   "execution_count": null,
   "id": "ed3be0ab-e50d-4afd-8f42-6fe6e2547905",
   "metadata": {},
   "outputs": [],
   "source": []
  },
  {
   "cell_type": "code",
   "execution_count": 92,
   "id": "4ce482e7-f5d3-46f7-846c-686bebc8af7f",
   "metadata": {},
   "outputs": [
    {
     "data": {
      "text/plain": [
       "capital-loss\n",
       "0       45746\n",
       "1902      297\n",
       "1977      248\n",
       "1887      231\n",
       "2415       69\n",
       "        ...  \n",
       "2489        1\n",
       "1911        1\n",
       "2080        1\n",
       "155         1\n",
       "2201        1\n",
       "Name: count, Length: 99, dtype: int64"
      ]
     },
     "execution_count": 92,
     "metadata": {},
     "output_type": "execute_result"
    }
   ],
   "source": [
    "data['capital-loss'].value_counts()"
   ]
  },
  {
   "cell_type": "code",
   "execution_count": 93,
   "id": "a49965f2-e968-4295-a903-d72af993c871",
   "metadata": {},
   "outputs": [
    {
     "data": {
      "text/plain": [
       "capital-loss\n",
       "0       95.333959\n",
       "1902     0.618943\n",
       "1977     0.516828\n",
       "1887     0.481400\n",
       "2415     0.143795\n",
       "          ...    \n",
       "2489     0.002084\n",
       "1911     0.002084\n",
       "2080     0.002084\n",
       "155      0.002084\n",
       "2201     0.002084\n",
       "Name: proportion, Length: 99, dtype: float64"
      ]
     },
     "execution_count": 93,
     "metadata": {},
     "output_type": "execute_result"
    }
   ],
   "source": [
    "data['capital-loss'].value_counts(normalize=True) * 100"
   ]
  },
  {
   "cell_type": "code",
   "execution_count": 94,
   "id": "00b3a49f-2f53-4804-a5d9-5671cdeff40e",
   "metadata": {},
   "outputs": [],
   "source": [
    "data['capital-loss'] = data['capital-loss'].apply(lambda x : 1 if x > 0 else 0)"
   ]
  },
  {
   "cell_type": "code",
   "execution_count": null,
   "id": "a309c552-510e-4a7f-b55c-a750e6681a25",
   "metadata": {},
   "outputs": [],
   "source": []
  },
  {
   "cell_type": "code",
   "execution_count": 95,
   "id": "af21dd66-87db-41fd-a810-11715f6c0fa0",
   "metadata": {},
   "outputs": [
    {
     "data": {
      "text/plain": [
       "capital-gain  class\n",
       "0             <=50K    34996\n",
       "              >50K      9028\n",
       "1             >50K      2439\n",
       "              <=50K     1522\n",
       "Name: count, dtype: int64"
      ]
     },
     "execution_count": 95,
     "metadata": {},
     "output_type": "execute_result"
    }
   ],
   "source": [
    "data.groupby('capital-gain')['class'].value_counts()"
   ]
  },
  {
   "cell_type": "code",
   "execution_count": 96,
   "id": "f1b5bda6-d274-448c-b267-c233778e25dc",
   "metadata": {},
   "outputs": [
    {
     "data": {
      "text/plain": [
       "capital-loss  class\n",
       "0             <=50K    35399\n",
       "              >50K     10347\n",
       "1             >50K      1120\n",
       "              <=50K     1119\n",
       "Name: count, dtype: int64"
      ]
     },
     "execution_count": 96,
     "metadata": {},
     "output_type": "execute_result"
    }
   ],
   "source": [
    "data.groupby('capital-loss')['class'].value_counts()"
   ]
  },
  {
   "cell_type": "code",
   "execution_count": 97,
   "id": "e3acbd03-141b-4152-b675-474ffd739106",
   "metadata": {},
   "outputs": [
    {
     "data": {
      "text/plain": [
       "<Axes: ylabel='Frequency'>"
      ]
     },
     "execution_count": 97,
     "metadata": {},
     "output_type": "execute_result"
    },
    {
     "data": {
      "image/png": "[encoded data removed]",
      "text/plain": [
       "<Figure size 640x480 with 1 Axes>"
      ]
     },
     "metadata": {},
     "output_type": "display_data"
    }
   ],
   "source": [
    "data.groupby('capital-gain')['class'].value_counts().plot(kind = 'hist')"
   ]
  },
  {
   "cell_type": "code",
   "execution_count": 98,
   "id": "2f872b98-9a45-4b5b-b965-2d6fabc06332",
   "metadata": {},
   "outputs": [
    {
     "data": {
      "text/plain": [
       "<Axes: ylabel='Frequency'>"
      ]
     },
     "execution_count": 98,
     "metadata": {},
     "output_type": "execute_result"
    },
    {
     "data": {
      "image/png": "[encoded data removed]",
      "text/plain": [
       "<Figure size 640x480 with 1 Axes>"
      ]
     },
     "metadata": {},
     "output_type": "display_data"
    }
   ],
   "source": [
    "data.groupby('capital-loss')['class'].value_counts().plot(kind = 'hist')"
   ]
  },
  {
   "cell_type": "code",
   "execution_count": 99,
   "id": "614017c7-5e68-4f3f-8c6e-3530a2f82b7f",
   "metadata": {},
   "outputs": [
    {
     "data": {
      "text/plain": [
       "22"
      ]
     },
     "execution_count": 99,
     "metadata": {},
     "output_type": "execute_result"
    }
   ],
   "source": [
    "data['hours-per-week'].nunique()"
   ]
  },
  {
   "cell_type": "code",
   "execution_count": 100,
   "id": "7030d62a-8fa3-4553-a27b-652b1f9bfde5",
   "metadata": {},
   "outputs": [
    {
     "data": {
      "text/plain": [
       "hours-per-week\n",
       "32.5     8156\n",
       "33.0       60\n",
       "34.0       48\n",
       "35.0     1911\n",
       "36.0      329\n",
       "37.0      241\n",
       "38.0      703\n",
       "39.0       63\n",
       "40.0    22378\n",
       "41.0       59\n",
       "42.0      334\n",
       "43.0      225\n",
       "44.0      306\n",
       "45.0     2664\n",
       "46.0      128\n",
       "47.0       82\n",
       "48.0      755\n",
       "49.0       38\n",
       "50.0     4171\n",
       "51.0       20\n",
       "52.0      203\n",
       "52.5     5111\n",
       "Name: count, dtype: int64"
      ]
     },
     "execution_count": 100,
     "metadata": {},
     "output_type": "execute_result"
    }
   ],
   "source": [
    "# 시간대로 정렬\n",
    "data['hours-per-week'].value_counts(sort=False).sort_index()"
   ]
  },
  {
   "cell_type": "code",
   "execution_count": 101,
   "id": "9a910c25-cd76-4ec3-8538-f911e9d083c9",
   "metadata": {
    "scrolled": true
   },
   "outputs": [
    {
     "data": {
      "text/plain": [
       "hours-per-week  class\n",
       "32.5            <=50K    93.146150\n",
       "                >50K      6.853850\n",
       "33.0            <=50K    91.666667\n",
       "                >50K      8.333333\n",
       "34.0            <=50K    91.666667\n",
       "                >50K      8.333333\n",
       "35.0            <=50K    85.452643\n",
       "                >50K     14.547357\n",
       "36.0            <=50K    82.978723\n",
       "                >50K     17.021277\n",
       "37.0            <=50K    85.892116\n",
       "                >50K     14.107884\n",
       "38.0            <=50K    81.650071\n",
       "                >50K     18.349929\n",
       "39.0            <=50K    84.126984\n",
       "                >50K     15.873016\n",
       "40.0            <=50K    78.755921\n",
       "                >50K     21.244079\n",
       "41.0            <=50K    74.576271\n",
       "                >50K     25.423729\n",
       "42.0            <=50K    70.359281\n",
       "                >50K     29.640719\n",
       "43.0            <=50K    73.777778\n",
       "                >50K     26.222222\n",
       "44.0            <=50K    66.013072\n",
       "                >50K     33.986928\n",
       "45.0            <=50K    62.800300\n",
       "                >50K     37.199700\n",
       "46.0            <=50K    64.843750\n",
       "                >50K     35.156250\n",
       "47.0            <=50K    67.073171\n",
       "                >50K     32.926829\n",
       "48.0            <=50K    67.152318\n",
       "                >50K     32.847682\n",
       "49.0            <=50K    81.578947\n",
       "                >50K     18.421053\n",
       "50.0            <=50K    55.382402\n",
       "                >50K     44.617598\n",
       "51.0            <=50K    80.000000\n",
       "                >50K     20.000000\n",
       "52.0            <=50K    66.009852\n",
       "                >50K     33.990148\n",
       "52.5            <=50K    58.736059\n",
       "                >50K     41.263941\n",
       "Name: proportion, dtype: float64"
      ]
     },
     "execution_count": 101,
     "metadata": {},
     "output_type": "execute_result"
    }
   ],
   "source": [
    "# 시간대로 정렬\n",
    "data.groupby('hours-per-week')['class'].value_counts(sort=False, normalize=True).sort_index() * 100"
   ]
  },
  {
   "cell_type": "code",
   "execution_count": 102,
   "id": "61ab3c31-cfc6-4cca-8284-eed2161ef5d9",
   "metadata": {},
   "outputs": [],
   "source": [
    "def hour_change(x):\n",
    "    if ((x >= 32.5) and (x <= 34.0)):\n",
    "        return 1\n",
    "    elif ((x >= 35.0) and (x <= 44.0)):\n",
    "        return 2\n",
    "    else:\n",
    "        return 3"
   ]
  },
  {
   "cell_type": "markdown",
   "id": "f90bdacb-af6e-4bb5-b37e-0de2510d8cf9",
   "metadata": {},
   "source": [
    "Part-time (시간제 근무자): 주당 1~34시간 근무하는 사람들\n",
    "Full-time (정규 근무자): 주당 35~44시간 근무하는 사람들\n",
    "Overtime (초과 근무자): 주당 45시간 이상 근무하는 사람들"
   ]
  },
  {
   "cell_type": "code",
   "execution_count": 103,
   "id": "04fa45a0-189b-40bf-b43d-831867df69b2",
   "metadata": {},
   "outputs": [
    {
     "data": {
      "text/plain": [
       "<Axes: >"
      ]
     },
     "execution_count": 103,
     "metadata": {},
     "output_type": "execute_result"
    },
    {
     "data": {
      "image/png": "[encoded data removed]",
      "text/plain": [
       "<Figure size 640x480 with 1 Axes>"
      ]
     },
     "metadata": {},
     "output_type": "display_data"
    }
   ],
   "source": [
    "data['hours-per-week'].plot(kind = 'box')"
   ]
  },
  {
   "cell_type": "code",
   "execution_count": 104,
   "id": "18606e18-9e39-4ac3-812d-6bd5bdccb661",
   "metadata": {},
   "outputs": [],
   "source": [
    "data['hours-per-week'] = data['hours-per-week'].apply(hour_change)"
   ]
  },
  {
   "cell_type": "code",
   "execution_count": 105,
   "id": "f465fb9b-f420-4153-aebc-eff739c23972",
   "metadata": {},
   "outputs": [
    {
     "data": {
      "text/plain": [
       "hours-per-week  class\n",
       "1               <=50K     7696\n",
       "                >50K       568\n",
       "2               <=50K    21011\n",
       "                >50K      5538\n",
       "3               <=50K     7811\n",
       "                >50K      5361\n",
       "Name: count, dtype: int64"
      ]
     },
     "execution_count": 105,
     "metadata": {},
     "output_type": "execute_result"
    }
   ],
   "source": [
    "data.groupby('hours-per-week')['class'].value_counts()"
   ]
  },
  {
   "cell_type": "code",
   "execution_count": null,
   "id": "925f8671-4ea1-4281-aa63-38b253f22b26",
   "metadata": {},
   "outputs": [],
   "source": []
  },
  {
   "cell_type": "code",
   "execution_count": 106,
   "id": "ea18148b-4f93-40c8-8a4b-3e7d2c1f7e38",
   "metadata": {},
   "outputs": [
    {
     "data": {
      "text/plain": [
       "native-country\n",
       "United-States                 43832\n",
       "Mexico                          951\n",
       "Philippines                     295\n",
       "Germany                         206\n",
       "Puerto-Rico                     184\n",
       "Canada                          182\n",
       "El-Salvador                     155\n",
       "India                           151\n",
       "Cuba                            138\n",
       "England                         127\n",
       "China                           122\n",
       "South                           115\n",
       "Jamaica                         106\n",
       "Italy                           105\n",
       "Dominican-Republic              103\n",
       "Japan                            92\n",
       "Guatemala                        88\n",
       "Poland                           87\n",
       "Vietnam                          86\n",
       "Columbia                         85\n",
       "Haiti                            75\n",
       "Portugal                         67\n",
       "Taiwan                           65\n",
       "Iran                             59\n",
       "Greece                           49\n",
       "Nicaragua                        49\n",
       "Peru                             46\n",
       "Ecuador                          45\n",
       "France                           38\n",
       "Ireland                          37\n",
       "Hong                             30\n",
       "Thailand                         30\n",
       "Cambodia                         28\n",
       "Trinadad&Tobago                  27\n",
       "Yugoslavia                       23\n",
       "Outlying-US(Guam-USVI-etc)       23\n",
       "Laos                             23\n",
       "Scotland                         21\n",
       "Honduras                         20\n",
       "Hungary                          19\n",
       "Holand-Netherlands                1\n",
       "Name: count, dtype: int64"
      ]
     },
     "execution_count": 106,
     "metadata": {},
     "output_type": "execute_result"
    }
   ],
   "source": [
    "data['native-country'].value_counts()"
   ]
  },
  {
   "cell_type": "code",
   "execution_count": 107,
   "id": "65597439-c509-44ef-814a-a8cd8ca09a14",
   "metadata": {
    "scrolled": true
   },
   "outputs": [
    {
     "data": {
      "text/plain": [
       "native-country\n",
       "United-States                 91.345212\n",
       "Mexico                         1.981869\n",
       "Philippines                    0.614775\n",
       "Germany                        0.429301\n",
       "Puerto-Rico                    0.383453\n",
       "Canada                         0.379285\n",
       "El-Salvador                    0.323018\n",
       "India                          0.314682\n",
       "Cuba                           0.287590\n",
       "England                        0.264666\n",
       "China                          0.254246\n",
       "South                          0.239658\n",
       "Jamaica                        0.220902\n",
       "Italy                          0.218818\n",
       "Dominican-Republic             0.214650\n",
       "Japan                          0.191727\n",
       "Guatemala                      0.183391\n",
       "Poland                         0.181307\n",
       "Vietnam                        0.179223\n",
       "Columbia                       0.177139\n",
       "Haiti                          0.156299\n",
       "Portugal                       0.139627\n",
       "Taiwan                         0.135459\n",
       "Iran                           0.122955\n",
       "Greece                         0.102115\n",
       "Nicaragua                      0.102115\n",
       "Peru                           0.095863\n",
       "Ecuador                        0.093779\n",
       "France                         0.079191\n",
       "Ireland                        0.077107\n",
       "Hong                           0.062520\n",
       "Thailand                       0.062520\n",
       "Cambodia                       0.058352\n",
       "Trinadad&Tobago                0.056268\n",
       "Yugoslavia                     0.047932\n",
       "Outlying-US(Guam-USVI-etc)     0.047932\n",
       "Laos                           0.047932\n",
       "Scotland                       0.043764\n",
       "Honduras                       0.041680\n",
       "Hungary                        0.039596\n",
       "Holand-Netherlands             0.002084\n",
       "Name: proportion, dtype: float64"
      ]
     },
     "execution_count": 107,
     "metadata": {},
     "output_type": "execute_result"
    }
   ],
   "source": [
    "data['native-country'].value_counts(normalize=True)*100"
   ]
  },
  {
   "cell_type": "code",
   "execution_count": 108,
   "id": "b3835ba9-c778-4e9c-81e9-9227829f32ab",
   "metadata": {},
   "outputs": [],
   "source": [
    "def country(x):\n",
    "    if x == 'United-States':\n",
    "        return 1\n",
    "    else:\n",
    "        return 0"
   ]
  },
  {
   "cell_type": "code",
   "execution_count": 109,
   "id": "926fe68b-2144-4b95-b8db-8d251c0bc1e7",
   "metadata": {},
   "outputs": [],
   "source": [
    "data['native-country'] = data['native-country'].apply(country)"
   ]
  },
  {
   "cell_type": "code",
   "execution_count": 110,
   "id": "10019c64-7c6f-4a31-a8e5-4b810281880c",
   "metadata": {},
   "outputs": [
    {
     "data": {
      "text/plain": [
       "native-country  class\n",
       "0               <=50K    81.386949\n",
       "                >50K     18.613051\n",
       "1               <=50K    75.602300\n",
       "                >50K     24.397700\n",
       "Name: proportion, dtype: float64"
      ]
     },
     "execution_count": 110,
     "metadata": {},
     "output_type": "execute_result"
    }
   ],
   "source": [
    "# 시간대로 정렬\n",
    "data.groupby('native-country')['class'].value_counts(sort=False, normalize=True).sort_index() * 100"
   ]
  },
  {
   "cell_type": "code",
   "execution_count": null,
   "id": "c4307908-2aca-4e05-9bde-dff7ff17c50b",
   "metadata": {},
   "outputs": [],
   "source": []
  },
  {
   "cell_type": "code",
   "execution_count": null,
   "id": "9f31f74c-e282-4497-b8dc-5b8cfa22f266",
   "metadata": {},
   "outputs": [],
   "source": []
  },
  {
   "cell_type": "code",
   "execution_count": null,
   "id": "0e1b552a-c8e2-4cc2-acde-26973c0e0f37",
   "metadata": {},
   "outputs": [],
   "source": []
  },
  {
   "cell_type": "code",
   "execution_count": null,
   "id": "7a7d2198-6eab-468e-a159-3c99ac229213",
   "metadata": {},
   "outputs": [],
   "source": []
  },
  {
   "cell_type": "code",
   "execution_count": 111,
   "id": "936b6f33-2deb-4f78-a2d3-59e3cf3a36c6",
   "metadata": {},
   "outputs": [
    {
     "data": {
      "text/plain": [
       "array(['Private', 'Local-gov', 'part-timer', 'Self-emp-not-inc',\n",
       "       'Federal-gov', 'State-gov', 'Self-emp-inc', 'Without-pay',\n",
       "       'Never-worked'], dtype=object)"
      ]
     },
     "execution_count": 111,
     "metadata": {},
     "output_type": "execute_result"
    }
   ],
   "source": [
    "data['workclass'].unique()"
   ]
  },
  {
   "cell_type": "code",
   "execution_count": 112,
   "id": "13a31f2b-27d8-4eb4-ab0e-570ef85bf79f",
   "metadata": {},
   "outputs": [
    {
     "name": "stdout",
     "output_type": "stream",
     "text": [
      "0    1\n",
      "1    1\n",
      "2    5\n",
      "3    1\n",
      "4    9\n",
      "Name: workclass, dtype: int64\n"
     ]
    }
   ],
   "source": [
    "workclass_mapping = {\n",
    "    'Private': 1,\n",
    "    'Self-emp-not-inc': 2,\n",
    "    'Self-emp-inc': 3,\n",
    "    'Federal-gov': 4,\n",
    "    'Local-gov': 5,\n",
    "    'State-gov': 6,\n",
    "    'Without-pay': 7,\n",
    "    'Never-worked': 8,\n",
    "    'part-timer': 9\n",
    "}\n",
    "\n",
    "# map() 함수를 사용해 workclass 열의 값을 숫자로 변환\n",
    "data['workclass'] = data['workclass'].map(workclass_mapping)\n",
    "\n",
    "# 변환된 결과 확인\n",
    "print(data['workclass'].head())"
   ]
  },
  {
   "cell_type": "code",
   "execution_count": null,
   "id": "3b061a17-d6cc-4821-8c13-adbf638c7ff8",
   "metadata": {},
   "outputs": [],
   "source": []
  },
  {
   "cell_type": "code",
   "execution_count": 113,
   "id": "6c7072ac-15c7-450b-9cbd-27bec2ff4833",
   "metadata": {},
   "outputs": [
    {
     "name": "stdout",
     "output_type": "stream",
     "text": [
      "<class 'pandas.core.frame.DataFrame'>\n",
      "Index: 47985 entries, 0 to 48841\n",
      "Data columns (total 14 columns):\n",
      " #   Column          Non-Null Count  Dtype \n",
      "---  ------          --------------  ----- \n",
      " 0   age             47985 non-null  int64 \n",
      " 1   workclass       47985 non-null  int64 \n",
      " 2   education       47985 non-null  int64 \n",
      " 3   education-num   47985 non-null  int64 \n",
      " 4   marital-status  47985 non-null  int64 \n",
      " 5   occupation      47985 non-null  object\n",
      " 6   relationship    47985 non-null  object\n",
      " 7   race            47985 non-null  object\n",
      " 8   sex             47985 non-null  object\n",
      " 9   capital-gain    47985 non-null  int64 \n",
      " 10  capital-loss    47985 non-null  int64 \n",
      " 11  hours-per-week  47985 non-null  int64 \n",
      " 12  native-country  47985 non-null  int64 \n",
      " 13  class           47985 non-null  object\n",
      "dtypes: int64(9), object(5)\n",
      "memory usage: 5.5+ MB\n"
     ]
    }
   ],
   "source": [
    "data.info()"
   ]
  },
  {
   "cell_type": "code",
   "execution_count": 114,
   "id": "6c732065-36f7-4d05-9b02-67187fa0d552",
   "metadata": {},
   "outputs": [
    {
     "data": {
      "text/plain": [
       "array(['Machine-op-inspct', 'Farming-fishing', 'Protective-serv',\n",
       "       'part-timer', 'Other-service', 'Prof-specialty', 'Craft-repair',\n",
       "       'Adm-clerical', 'Exec-managerial', 'Tech-support', 'Sales',\n",
       "       'Priv-house-serv', 'Transport-moving', 'Handlers-cleaners',\n",
       "       'Armed-Forces'], dtype=object)"
      ]
     },
     "execution_count": 114,
     "metadata": {},
     "output_type": "execute_result"
    }
   ],
   "source": [
    "data['occupation'].unique()"
   ]
  },
  {
   "cell_type": "code",
   "execution_count": 115,
   "id": "2d643ece-9321-4b0e-b9f1-db21a2834868",
   "metadata": {},
   "outputs": [
    {
     "name": "stdout",
     "output_type": "stream",
     "text": [
      "0    1\n",
      "1    2\n",
      "2    3\n",
      "3    1\n",
      "4    4\n",
      "Name: occupation, dtype: int64\n"
     ]
    }
   ],
   "source": [
    "# occupation 값을 숫자로 매핑할 딕셔너리 생성\n",
    "occupation_mapping = {\n",
    "    'Machine-op-inspct': 1,\n",
    "    'Farming-fishing': 2,\n",
    "    'Protective-serv': 3,\n",
    "    'part-timer': 4,\n",
    "    'Other-service': 5,\n",
    "    'Prof-specialty': 6,\n",
    "    'Craft-repair': 7,\n",
    "    'Adm-clerical': 8,\n",
    "    'Exec-managerial': 9,\n",
    "    'Tech-support': 10,\n",
    "    'Sales': 11,\n",
    "    'Priv-house-serv': 12,\n",
    "    'Transport-moving': 13,\n",
    "    'Handlers-cleaners': 14,\n",
    "    'Armed-Forces': 15\n",
    "}\n",
    "\n",
    "# map() 함수를 사용해 occupation 열의 값을 숫자로 변환\n",
    "data['occupation'] = data['occupation'].map(occupation_mapping)\n",
    "\n",
    "# 변환된 결과 확인\n",
    "print(data['occupation'].head())"
   ]
  },
  {
   "cell_type": "code",
   "execution_count": null,
   "id": "e0d5e25c-0abf-4040-81d3-a3adf388012f",
   "metadata": {},
   "outputs": [],
   "source": []
  },
  {
   "cell_type": "code",
   "execution_count": 116,
   "id": "084e02ab-1cf9-41f0-8bf1-2a040f764e4e",
   "metadata": {},
   "outputs": [
    {
     "data": {
      "text/plain": [
       "array(['Own-child', 'Husband', 'Not-in-family', 'Unmarried', 'Wife',\n",
       "       'Other-relative'], dtype=object)"
      ]
     },
     "execution_count": 116,
     "metadata": {},
     "output_type": "execute_result"
    }
   ],
   "source": [
    "data['relationship'].unique()"
   ]
  },
  {
   "cell_type": "code",
   "execution_count": 117,
   "id": "451bb472-2539-405c-bfd7-f6dc53bfd910",
   "metadata": {},
   "outputs": [
    {
     "name": "stdout",
     "output_type": "stream",
     "text": [
      "0    1\n",
      "1    2\n",
      "2    2\n",
      "3    2\n",
      "4    1\n",
      "Name: relationship, dtype: int64\n"
     ]
    }
   ],
   "source": [
    "# relationship 값을 숫자로 매핑할 딕셔너리 생성\n",
    "relationship_mapping = {\n",
    "    'Own-child': 1,\n",
    "    'Husband': 2,\n",
    "    'Not-in-family': 3,\n",
    "    'Unmarried': 4,\n",
    "    'Wife': 5,\n",
    "    'Other-relative': 6\n",
    "}\n",
    "\n",
    "# map() 함수를 사용해 relationship 열의 값을 숫자로 변환\n",
    "data['relationship'] = data['relationship'].map(relationship_mapping)\n",
    "\n",
    "# 변환된 결과 확인\n",
    "print(data['relationship'].head())"
   ]
  },
  {
   "cell_type": "code",
   "execution_count": 118,
   "id": "a65348fa-15a5-4333-b600-1a98ec47bdda",
   "metadata": {},
   "outputs": [
    {
     "data": {
      "text/plain": [
       "array(['Black', 'White', 'Other', 'Amer-Indian-Eskimo',\n",
       "       'Asian-Pac-Islander'], dtype=object)"
      ]
     },
     "execution_count": 118,
     "metadata": {},
     "output_type": "execute_result"
    }
   ],
   "source": [
    "data['race'].unique()"
   ]
  },
  {
   "cell_type": "code",
   "execution_count": 119,
   "id": "b8695334-12d6-4732-82d7-090acfc3b731",
   "metadata": {},
   "outputs": [],
   "source": [
    "del data['race']"
   ]
  },
  {
   "cell_type": "code",
   "execution_count": 120,
   "id": "233fa918-1478-4ac9-b218-7b316415e3d2",
   "metadata": {},
   "outputs": [
    {
     "name": "stdout",
     "output_type": "stream",
     "text": [
      "<class 'pandas.core.frame.DataFrame'>\n",
      "Index: 47985 entries, 0 to 48841\n",
      "Data columns (total 13 columns):\n",
      " #   Column          Non-Null Count  Dtype \n",
      "---  ------          --------------  ----- \n",
      " 0   age             47985 non-null  int64 \n",
      " 1   workclass       47985 non-null  int64 \n",
      " 2   education       47985 non-null  int64 \n",
      " 3   education-num   47985 non-null  int64 \n",
      " 4   marital-status  47985 non-null  int64 \n",
      " 5   occupation      47985 non-null  int64 \n",
      " 6   relationship    47985 non-null  int64 \n",
      " 7   sex             47985 non-null  object\n",
      " 8   capital-gain    47985 non-null  int64 \n",
      " 9   capital-loss    47985 non-null  int64 \n",
      " 10  hours-per-week  47985 non-null  int64 \n",
      " 11  native-country  47985 non-null  int64 \n",
      " 12  class           47985 non-null  object\n",
      "dtypes: int64(11), object(2)\n",
      "memory usage: 5.1+ MB\n"
     ]
    }
   ],
   "source": [
    "data.info()"
   ]
  },
  {
   "cell_type": "code",
   "execution_count": 121,
   "id": "fd055a09-256b-4c22-ab23-2604114ea7d2",
   "metadata": {},
   "outputs": [
    {
     "data": {
      "text/plain": [
       "array(['Male', 'Female'], dtype=object)"
      ]
     },
     "execution_count": 121,
     "metadata": {},
     "output_type": "execute_result"
    }
   ],
   "source": [
    "data['sex'].unique()"
   ]
  },
  {
   "cell_type": "code",
   "execution_count": 122,
   "id": "733708a3-d4fc-46ed-a64e-93b0dac32361",
   "metadata": {},
   "outputs": [],
   "source": [
    "data['sex'] = data['sex'].apply(lambda x: 0 if x == 'Male' else 1)"
   ]
  },
  {
   "cell_type": "code",
   "execution_count": 123,
   "id": "96cdef9b-70dd-4d92-8e30-80f2eea3530a",
   "metadata": {},
   "outputs": [
    {
     "data": {
      "text/plain": [
       "array([0, 1], dtype=int64)"
      ]
     },
     "execution_count": 123,
     "metadata": {},
     "output_type": "execute_result"
    }
   ],
   "source": [
    "data['sex'].unique()"
   ]
  },
  {
   "cell_type": "code",
   "execution_count": null,
   "id": "fa4bfd76-e0c6-4b34-862a-914334254fe6",
   "metadata": {},
   "outputs": [],
   "source": []
  },
  {
   "cell_type": "code",
   "execution_count": null,
   "id": "72d1e997-7cd7-46be-ad71-9c1463035c57",
   "metadata": {},
   "outputs": [],
   "source": []
  },
  {
   "cell_type": "code",
   "execution_count": 124,
   "id": "2100253c-e262-4776-a29f-7e50ac804ca1",
   "metadata": {},
   "outputs": [
    {
     "data": {
      "text/plain": [
       "0    0\n",
       "1    0\n",
       "2    1\n",
       "3    1\n",
       "4    0\n",
       "Name: class, dtype: int64"
      ]
     },
     "execution_count": 124,
     "metadata": {},
     "output_type": "execute_result"
    }
   ],
   "source": [
    "data['class'] = data['class'].apply(lambda x : 1 if x == '>50K' else 0)\n",
    "data['class'].head()"
   ]
  },
  {
   "cell_type": "code",
   "execution_count": 125,
   "id": "61af61be-0036-49e8-89e9-d2c13e33d771",
   "metadata": {},
   "outputs": [
    {
     "name": "stdout",
     "output_type": "stream",
     "text": [
      "<class 'pandas.core.frame.DataFrame'>\n",
      "Index: 47985 entries, 0 to 48841\n",
      "Data columns (total 13 columns):\n",
      " #   Column          Non-Null Count  Dtype\n",
      "---  ------          --------------  -----\n",
      " 0   age             47985 non-null  int64\n",
      " 1   workclass       47985 non-null  int64\n",
      " 2   education       47985 non-null  int64\n",
      " 3   education-num   47985 non-null  int64\n",
      " 4   marital-status  47985 non-null  int64\n",
      " 5   occupation      47985 non-null  int64\n",
      " 6   relationship    47985 non-null  int64\n",
      " 7   sex             47985 non-null  int64\n",
      " 8   capital-gain    47985 non-null  int64\n",
      " 9   capital-loss    47985 non-null  int64\n",
      " 10  hours-per-week  47985 non-null  int64\n",
      " 11  native-country  47985 non-null  int64\n",
      " 12  class           47985 non-null  int64\n",
      "dtypes: int64(13)\n",
      "memory usage: 5.1 MB\n"
     ]
    }
   ],
   "source": [
    "data.info()"
   ]
  },
  {
   "cell_type": "code",
   "execution_count": 126,
   "id": "0223f4d7-45ab-4109-9264-96faae65c6f6",
   "metadata": {},
   "outputs": [
    {
     "data": {
      "text/plain": [
       "array([0, 1], dtype=int64)"
      ]
     },
     "execution_count": 126,
     "metadata": {},
     "output_type": "execute_result"
    }
   ],
   "source": [
    "data['class'].unique()"
   ]
  },
  {
   "cell_type": "code",
   "execution_count": null,
   "id": "22f00bce-c057-4702-beb4-8882ace7bafe",
   "metadata": {},
   "outputs": [],
   "source": []
  },
  {
   "cell_type": "code",
   "execution_count": null,
   "id": "daaeb238-9166-4657-af3e-692b50e3a125",
   "metadata": {},
   "outputs": [],
   "source": []
  },
  {
   "cell_type": "code",
   "execution_count": null,
   "id": "162b384e-7484-4d3b-a349-463a5663e358",
   "metadata": {},
   "outputs": [],
   "source": []
  },
  {
   "cell_type": "code",
   "execution_count": 127,
   "id": "50bd324e-c844-42f7-b53d-bae704515591",
   "metadata": {},
   "outputs": [],
   "source": [
    "X = data.drop('class', axis = 1)\n",
    "y = data['class']"
   ]
  },
  {
   "cell_type": "code",
   "execution_count": null,
   "id": "661e1b17-502c-4700-abdd-6942a06c6981",
   "metadata": {},
   "outputs": [],
   "source": []
  },
  {
   "cell_type": "code",
   "execution_count": 128,
   "id": "6b80bb50-e522-4ac4-879a-6df6ad9b6997",
   "metadata": {},
   "outputs": [],
   "source": [
    "from sklearn.model_selection import train_test_split\n",
    "from sklearn.tree import DecisionTreeClassifier\n",
    "from sklearn.metrics import accuracy_score, classification_report"
   ]
  },
  {
   "cell_type": "code",
   "execution_count": 130,
   "id": "5ddf5b4b-59f0-47df-8024-822e725c41a9",
   "metadata": {},
   "outputs": [],
   "source": [
    "X_train, X_valid, y_train, y_valid = train_test_split(X, y,stratify=y ,test_size=0.4, random_state=7)\n",
    "X_valid, X_test, y_valid, y_test = train_test_split(X_valid, y_valid, test_size=0.5, stratify=y_valid ,random_state=7)"
   ]
  },
  {
   "cell_type": "code",
   "execution_count": null,
   "id": "8c7a80c7-3dd1-4a04-be48-8b5dccceb47c",
   "metadata": {},
   "outputs": [],
   "source": []
  },
  {
   "cell_type": "code",
   "execution_count": 134,
   "id": "a87e4931-df80-48d3-9534-ea649fca1c57",
   "metadata": {
    "scrolled": true
   },
   "outputs": [
    {
     "name": "stdout",
     "output_type": "stream",
     "text": [
      "accuracy_score 0.8220277169948942\n",
      "              precision    recall  f1-score   support\n",
      "\n",
      "           0       0.87      0.90      0.89      7304\n",
      "           1       0.65      0.56      0.60      2293\n",
      "\n",
      "    accuracy                           0.82      9597\n",
      "   macro avg       0.76      0.73      0.74      9597\n",
      "weighted avg       0.81      0.82      0.82      9597\n",
      "\n"
     ]
    }
   ],
   "source": [
    "dtc = DecisionTreeClassifier(max_depth= 30, random_state=7)\n",
    "dtc.fit(X_train, y_train)\n",
    "pred = dtc.predict(X_valid)\n",
    "print(\"accuracy_score\", accuracy_score(y_valid, pred))\n",
    "print(classification_report(y_valid, pred))"
   ]
  },
  {
   "cell_type": "code",
   "execution_count": null,
   "id": "53a17b45-0ae3-4a0d-9c49-525dc6fcd81f",
   "metadata": {},
   "outputs": [],
   "source": []
  },
  {
   "cell_type": "code",
   "execution_count": null,
   "id": "2c79720e-49c0-467a-a4be-fd1b94cfccda",
   "metadata": {},
   "outputs": [],
   "source": []
  },
  {
   "cell_type": "code",
   "execution_count": 136,
   "id": "58dd294f-ad45-4bf0-99c3-a6e7fa5525ca",
   "metadata": {
    "scrolled": true
   },
   "outputs": [
    {
     "name": "stdout",
     "output_type": "stream",
     "text": [
      "1 accuracy_score 0.7610711680733563\n",
      "1               precision    recall  f1-score   support\n",
      "\n",
      "           0       0.76      1.00      0.86      7304\n",
      "           1       0.00      0.00      0.00      2293\n",
      "\n",
      "    accuracy                           0.76      9597\n",
      "   macro avg       0.38      0.50      0.43      9597\n",
      "weighted avg       0.58      0.76      0.66      9597\n",
      "\n",
      "2 accuracy_score 0.8193185370428259\n",
      "2               precision    recall  f1-score   support\n",
      "\n",
      "           0       0.84      0.95      0.89      7304\n",
      "           1       0.71      0.42      0.52      2293\n",
      "\n",
      "    accuracy                           0.82      9597\n",
      "   macro avg       0.77      0.68      0.71      9597\n",
      "weighted avg       0.81      0.82      0.80      9597\n",
      "\n",
      "3 accuracy_score 0.8212983223924143\n",
      "3               precision    recall  f1-score   support\n",
      "\n",
      "           0       0.84      0.94      0.89      7304\n",
      "           1       0.70      0.44      0.54      2293\n",
      "\n",
      "    accuracy                           0.82      9597\n",
      "   macro avg       0.77      0.69      0.72      9597\n",
      "weighted avg       0.81      0.82      0.81      9597\n",
      "\n",
      "4 accuracy_score 0.8283838699593623\n",
      "4               precision    recall  f1-score   support\n",
      "\n",
      "           0       0.86      0.93      0.89      7304\n",
      "           1       0.69      0.51      0.59      2293\n",
      "\n",
      "    accuracy                           0.83      9597\n",
      "   macro avg       0.77      0.72      0.74      9597\n",
      "weighted avg       0.82      0.83      0.82      9597\n",
      "\n",
      "5 accuracy_score 0.8313014483692821\n",
      "5               precision    recall  f1-score   support\n",
      "\n",
      "           0       0.86      0.94      0.89      7304\n",
      "           1       0.71      0.50      0.59      2293\n",
      "\n",
      "    accuracy                           0.83      9597\n",
      "   macro avg       0.78      0.72      0.74      9597\n",
      "weighted avg       0.82      0.83      0.82      9597\n",
      "\n",
      "6 accuracy_score 0.8342190267792018\n",
      "6               precision    recall  f1-score   support\n",
      "\n",
      "           0       0.85      0.94      0.90      7304\n",
      "           1       0.73      0.49      0.58      2293\n",
      "\n",
      "    accuracy                           0.83      9597\n",
      "   macro avg       0.79      0.71      0.74      9597\n",
      "weighted avg       0.82      0.83      0.82      9597\n",
      "\n"
     ]
    },
    {
     "name": "stderr",
     "output_type": "stream",
     "text": [
      "C:\\Users\\5-04\\miniforge3\\envs\\fintech\\lib\\site-packages\\sklearn\\metrics\\_classification.py:1531: UndefinedMetricWarning: Precision is ill-defined and being set to 0.0 in labels with no predicted samples. Use `zero_division` parameter to control this behavior.\n",
      "  _warn_prf(average, modifier, f\"{metric.capitalize()} is\", len(result))\n",
      "C:\\Users\\5-04\\miniforge3\\envs\\fintech\\lib\\site-packages\\sklearn\\metrics\\_classification.py:1531: UndefinedMetricWarning: Precision is ill-defined and being set to 0.0 in labels with no predicted samples. Use `zero_division` parameter to control this behavior.\n",
      "  _warn_prf(average, modifier, f\"{metric.capitalize()} is\", len(result))\n",
      "C:\\Users\\5-04\\miniforge3\\envs\\fintech\\lib\\site-packages\\sklearn\\metrics\\_classification.py:1531: UndefinedMetricWarning: Precision is ill-defined and being set to 0.0 in labels with no predicted samples. Use `zero_division` parameter to control this behavior.\n",
      "  _warn_prf(average, modifier, f\"{metric.capitalize()} is\", len(result))\n"
     ]
    },
    {
     "name": "stdout",
     "output_type": "stream",
     "text": [
      "7 accuracy_score 0.8359904136709388\n",
      "7               precision    recall  f1-score   support\n",
      "\n",
      "           0       0.86      0.93      0.90      7304\n",
      "           1       0.71      0.53      0.61      2293\n",
      "\n",
      "    accuracy                           0.84      9597\n",
      "   macro avg       0.79      0.73      0.75      9597\n",
      "weighted avg       0.83      0.84      0.83      9597\n",
      "\n",
      "8 accuracy_score 0.8374492028758987\n",
      "8               precision    recall  f1-score   support\n",
      "\n",
      "           0       0.86      0.94      0.90      7304\n",
      "           1       0.73      0.51      0.60      2293\n",
      "\n",
      "    accuracy                           0.84      9597\n",
      "   macro avg       0.79      0.73      0.75      9597\n",
      "weighted avg       0.83      0.84      0.83      9597\n",
      "\n",
      "9 accuracy_score 0.8384911951651558\n",
      "9               precision    recall  f1-score   support\n",
      "\n",
      "           0       0.86      0.94      0.90      7304\n",
      "           1       0.73      0.52      0.61      2293\n",
      "\n",
      "    accuracy                           0.84      9597\n",
      "   macro avg       0.79      0.73      0.75      9597\n",
      "weighted avg       0.83      0.84      0.83      9597\n",
      "\n",
      "10 accuracy_score 0.8369282067312702\n",
      "10               precision    recall  f1-score   support\n",
      "\n",
      "           0       0.88      0.90      0.89      7304\n",
      "           1       0.67      0.63      0.65      2293\n",
      "\n",
      "    accuracy                           0.84      9597\n",
      "   macro avg       0.78      0.76      0.77      9597\n",
      "weighted avg       0.83      0.84      0.83      9597\n",
      "\n",
      "11 accuracy_score 0.8368240075023445\n",
      "11               precision    recall  f1-score   support\n",
      "\n",
      "           0       0.88      0.91      0.89      7304\n",
      "           1       0.68      0.61      0.64      2293\n",
      "\n",
      "    accuracy                           0.84      9597\n",
      "   macro avg       0.78      0.76      0.77      9597\n",
      "weighted avg       0.83      0.84      0.83      9597\n",
      "\n",
      "12 accuracy_score 0.8374492028758987\n",
      "12               precision    recall  f1-score   support\n",
      "\n",
      "           0       0.88      0.91      0.89      7304\n",
      "           1       0.68      0.61      0.64      2293\n",
      "\n",
      "    accuracy                           0.84      9597\n",
      "   macro avg       0.78      0.76      0.77      9597\n",
      "weighted avg       0.83      0.84      0.83      9597\n",
      "\n",
      "13 accuracy_score 0.8305720537668021\n",
      "13               precision    recall  f1-score   support\n",
      "\n",
      "           0       0.87      0.91      0.89      7304\n",
      "           1       0.67      0.58      0.62      2293\n",
      "\n",
      "    accuracy                           0.83      9597\n",
      "   macro avg       0.77      0.75      0.76      9597\n",
      "weighted avg       0.82      0.83      0.83      9597\n",
      "\n",
      "14 accuracy_score 0.8326560383453162\n",
      "14               precision    recall  f1-score   support\n",
      "\n",
      "           0       0.88      0.91      0.89      7304\n",
      "           1       0.67      0.59      0.63      2293\n",
      "\n",
      "    accuracy                           0.83      9597\n",
      "   macro avg       0.77      0.75      0.76      9597\n",
      "weighted avg       0.83      0.83      0.83      9597\n",
      "\n",
      "15 accuracy_score 0.8326560383453162\n",
      "15               precision    recall  f1-score   support\n",
      "\n",
      "           0       0.88      0.91      0.89      7304\n",
      "           1       0.67      0.60      0.63      2293\n",
      "\n",
      "    accuracy                           0.83      9597\n",
      "   macro avg       0.77      0.75      0.76      9597\n",
      "weighted avg       0.83      0.83      0.83      9597\n",
      "\n",
      "16 accuracy_score 0.8277586745858081\n",
      "16               precision    recall  f1-score   support\n",
      "\n",
      "           0       0.87      0.91      0.89      7304\n",
      "           1       0.66      0.57      0.61      2293\n",
      "\n",
      "    accuracy                           0.83      9597\n",
      "   macro avg       0.77      0.74      0.75      9597\n",
      "weighted avg       0.82      0.83      0.82      9597\n",
      "\n",
      "17 accuracy_score 0.8288006668750652\n",
      "17               precision    recall  f1-score   support\n",
      "\n",
      "           0       0.87      0.91      0.89      7304\n",
      "           1       0.67      0.57      0.61      2293\n",
      "\n",
      "    accuracy                           0.83      9597\n",
      "   macro avg       0.77      0.74      0.75      9597\n",
      "weighted avg       0.82      0.83      0.82      9597\n",
      "\n",
      "18 accuracy_score 0.8262998853808482\n",
      "18               precision    recall  f1-score   support\n",
      "\n",
      "           0       0.87      0.91      0.89      7304\n",
      "           1       0.66      0.57      0.61      2293\n",
      "\n",
      "    accuracy                           0.83      9597\n",
      "   macro avg       0.76      0.74      0.75      9597\n",
      "weighted avg       0.82      0.83      0.82      9597\n",
      "\n",
      "19 accuracy_score 0.8248410961758883\n",
      "19               precision    recall  f1-score   support\n",
      "\n",
      "           0       0.87      0.91      0.89      7304\n",
      "           1       0.66      0.56      0.61      2293\n",
      "\n",
      "    accuracy                           0.82      9597\n",
      "   macro avg       0.76      0.73      0.75      9597\n",
      "weighted avg       0.82      0.82      0.82      9597\n",
      "\n",
      "20 accuracy_score 0.82140252162134\n",
      "20               precision    recall  f1-score   support\n",
      "\n",
      "           0       0.87      0.91      0.89      7304\n",
      "           1       0.65      0.55      0.60      2293\n",
      "\n",
      "    accuracy                           0.82      9597\n",
      "   macro avg       0.76      0.73      0.74      9597\n",
      "weighted avg       0.81      0.82      0.82      9597\n",
      "\n",
      "21 accuracy_score 0.8220277169948942\n",
      "21               precision    recall  f1-score   support\n",
      "\n",
      "           0       0.87      0.90      0.89      7304\n",
      "           1       0.65      0.56      0.60      2293\n",
      "\n",
      "    accuracy                           0.82      9597\n",
      "   macro avg       0.76      0.73      0.74      9597\n",
      "weighted avg       0.82      0.82      0.82      9597\n",
      "\n",
      "22 accuracy_score 0.8218193185370428\n",
      "22               precision    recall  f1-score   support\n",
      "\n",
      "           0       0.87      0.90      0.89      7304\n",
      "           1       0.65      0.56      0.60      2293\n",
      "\n",
      "    accuracy                           0.82      9597\n",
      "   macro avg       0.76      0.73      0.74      9597\n",
      "weighted avg       0.81      0.82      0.82      9597\n",
      "\n",
      "23 accuracy_score 0.82213191622382\n",
      "23               precision    recall  f1-score   support\n",
      "\n",
      "           0       0.87      0.90      0.89      7304\n",
      "           1       0.65      0.56      0.60      2293\n",
      "\n",
      "    accuracy                           0.82      9597\n",
      "   macro avg       0.76      0.73      0.74      9597\n",
      "weighted avg       0.82      0.82      0.82      9597\n",
      "\n",
      "24 accuracy_score 0.8223403146816713\n",
      "24               precision    recall  f1-score   support\n",
      "\n",
      "           0       0.87      0.90      0.89      7304\n",
      "           1       0.65      0.56      0.60      2293\n",
      "\n",
      "    accuracy                           0.82      9597\n",
      "   macro avg       0.76      0.73      0.74      9597\n",
      "weighted avg       0.82      0.82      0.82      9597\n",
      "\n",
      "25 accuracy_score 0.8218193185370428\n",
      "25               precision    recall  f1-score   support\n",
      "\n",
      "           0       0.87      0.90      0.89      7304\n",
      "           1       0.65      0.56      0.60      2293\n",
      "\n",
      "    accuracy                           0.82      9597\n",
      "   macro avg       0.76      0.73      0.74      9597\n",
      "weighted avg       0.81      0.82      0.82      9597\n",
      "\n",
      "26 accuracy_score 0.8218193185370428\n",
      "26               precision    recall  f1-score   support\n",
      "\n",
      "           0       0.87      0.90      0.89      7304\n",
      "           1       0.65      0.56      0.60      2293\n",
      "\n",
      "    accuracy                           0.82      9597\n",
      "   macro avg       0.76      0.73      0.74      9597\n",
      "weighted avg       0.81      0.82      0.82      9597\n",
      "\n",
      "27 accuracy_score 0.8220277169948942\n",
      "27               precision    recall  f1-score   support\n",
      "\n",
      "           0       0.87      0.90      0.89      7304\n",
      "           1       0.65      0.56      0.60      2293\n",
      "\n",
      "    accuracy                           0.82      9597\n",
      "   macro avg       0.76      0.73      0.74      9597\n",
      "weighted avg       0.81      0.82      0.82      9597\n",
      "\n",
      "28 accuracy_score 0.8220277169948942\n",
      "28               precision    recall  f1-score   support\n",
      "\n",
      "           0       0.87      0.90      0.89      7304\n",
      "           1       0.65      0.56      0.60      2293\n",
      "\n",
      "    accuracy                           0.82      9597\n",
      "   macro avg       0.76      0.73      0.74      9597\n",
      "weighted avg       0.81      0.82      0.82      9597\n",
      "\n",
      "29 accuracy_score 0.8220277169948942\n",
      "29               precision    recall  f1-score   support\n",
      "\n",
      "           0       0.87      0.90      0.89      7304\n",
      "           1       0.65      0.56      0.60      2293\n",
      "\n",
      "    accuracy                           0.82      9597\n",
      "   macro avg       0.76      0.73      0.74      9597\n",
      "weighted avg       0.81      0.82      0.82      9597\n",
      "\n"
     ]
    }
   ],
   "source": [
    "for i in range(1, 30):\n",
    "    dtc = DecisionTreeClassifier(max_depth= i, random_state=7)\n",
    "    dtc.fit(X_train, y_train)\n",
    "    pred = dtc.predict(X_valid)\n",
    "    print(i, \"accuracy_score\", accuracy_score(y_valid, pred))\n",
    "    print(i, classification_report(y_valid, pred))"
   ]
  },
  {
   "cell_type": "code",
   "execution_count": null,
   "id": "d9b5846d-f9fa-4bdd-ac84-5873e075617a",
   "metadata": {},
   "outputs": [],
   "source": []
  },
  {
   "cell_type": "code",
   "execution_count": 137,
   "id": "bc0151c5-3cb3-460d-b2f8-7b0daec89a33",
   "metadata": {},
   "outputs": [
    {
     "name": "stdout",
     "output_type": "stream",
     "text": [
      "accuracy_score 0.8243201000312598\n",
      "              precision    recall  f1-score   support\n",
      "\n",
      "           0       0.87      0.91      0.89      7303\n",
      "           1       0.65      0.56      0.60      2294\n",
      "\n",
      "    accuracy                           0.82      9597\n",
      "   macro avg       0.76      0.73      0.75      9597\n",
      "weighted avg       0.82      0.82      0.82      9597\n",
      "\n"
     ]
    }
   ],
   "source": [
    "pred = dtc.predict(X_test)\n",
    "print(\"accuracy_score\", accuracy_score(y_test, pred))\n",
    "print(classification_report(y_test, pred))"
   ]
  },
  {
   "cell_type": "code",
   "execution_count": null,
   "id": "72b31633-12be-4ab3-ab27-82e0c0ebefd4",
   "metadata": {},
   "outputs": [],
   "source": []
  },
  {
   "cell_type": "markdown",
   "id": "1653aab7-cb4e-437a-8bc3-ba4565b3ffb0",
   "metadata": {},
   "source": [
    "# 배깅\n",
    "* 부트스트랩\n",
    "* 독립된 분류기(모델)\n",
    "* 투표"
   ]
  },
  {
   "cell_type": "code",
   "execution_count": 138,
   "id": "8fe923e2-eedd-466d-b5cc-9b972902c320",
   "metadata": {},
   "outputs": [],
   "source": [
    "from sklearn.ensemble import BaggingClassifier"
   ]
  },
  {
   "cell_type": "code",
   "execution_count": 139,
   "id": "974d69b4-00ef-40ff-a377-9e852218f1cb",
   "metadata": {},
   "outputs": [
    {
     "name": "stdout",
     "output_type": "stream",
     "text": [
      "0.8262998853808482\n",
      "              precision    recall  f1-score   support\n",
      "\n",
      "           0       0.87      0.90      0.89      7304\n",
      "           1       0.65      0.58      0.62      2293\n",
      "\n",
      "    accuracy                           0.83      9597\n",
      "   macro avg       0.76      0.74      0.75      9597\n",
      "weighted avg       0.82      0.83      0.82      9597\n",
      "\n"
     ]
    }
   ],
   "source": [
    "bcf = BaggingClassifier(n_estimators=10, n_jobs= -1, random_state=777)\n",
    "bcf.fit(X_train, y_train)\n",
    "pred = bcf.predict(X_valid)\n",
    "print(accuracy_score(y_valid, pred))\n",
    "print(classification_report(y_valid, pred))"
   ]
  },
  {
   "cell_type": "code",
   "execution_count": null,
   "id": "4ed44ff2-eddc-48d0-b8b9-d41e6193a8cf",
   "metadata": {},
   "outputs": [],
   "source": []
  },
  {
   "cell_type": "code",
   "execution_count": 140,
   "id": "2b454f88-88dc-4f98-a838-e501ccca4c23",
   "metadata": {},
   "outputs": [],
   "source": [
    "est = DecisionTreeClassifier(max_depth = 6, random_state= 7)"
   ]
  },
  {
   "cell_type": "code",
   "execution_count": 141,
   "id": "4701df17-1b9a-40bf-aa09-491bafe3f603",
   "metadata": {},
   "outputs": [
    {
     "name": "stdout",
     "output_type": "stream",
     "text": [
      "0.8342190267792018\n",
      "              precision    recall  f1-score   support\n",
      "\n",
      "           0       0.86      0.94      0.90      7304\n",
      "           1       0.72      0.50      0.59      2293\n",
      "\n",
      "    accuracy                           0.83      9597\n",
      "   macro avg       0.79      0.72      0.74      9597\n",
      "weighted avg       0.82      0.83      0.82      9597\n",
      "\n"
     ]
    }
   ],
   "source": [
    "bcf = BaggingClassifier(estimator=est, n_estimators=10, n_jobs=-1, random_state=777)\n",
    "bcf.fit(X_train, y_train)\n",
    "pred = bcf.predict(X_valid)\n",
    "print(accuracy_score(y_valid, pred))\n",
    "print(classification_report(y_valid, pred))"
   ]
  },
  {
   "cell_type": "code",
   "execution_count": null,
   "id": "88e37978-71cb-4eee-99bd-cd35bb3d9ffd",
   "metadata": {},
   "outputs": [],
   "source": []
  },
  {
   "cell_type": "markdown",
   "id": "8f8305db-1623-4e26-81c0-8ed03e26ae96",
   "metadata": {},
   "source": [
    "# 부스팅 모델"
   ]
  },
  {
   "cell_type": "code",
   "execution_count": 142,
   "id": "970a3da9-6250-4f89-afea-5c49c271ae26",
   "metadata": {},
   "outputs": [],
   "source": [
    "from xgboost import XGBClassifier"
   ]
  },
  {
   "cell_type": "code",
   "execution_count": 143,
   "id": "e60c8a92-f567-414d-bb3c-fa2bf738d2f2",
   "metadata": {},
   "outputs": [
    {
     "name": "stdout",
     "output_type": "stream",
     "text": [
      "0.8491195165155778\n",
      "              precision    recall  f1-score   support\n",
      "\n",
      "           0       0.89      0.92      0.90      7304\n",
      "           1       0.71      0.62      0.66      2293\n",
      "\n",
      "    accuracy                           0.85      9597\n",
      "   macro avg       0.80      0.77      0.78      9597\n",
      "weighted avg       0.84      0.85      0.85      9597\n",
      "\n"
     ]
    }
   ],
   "source": [
    "xgb = XGBClassifier(n_estimators=1000, max_depth=3, learning_rate = 0.1, n_jobs= -1, random_state = 777 )\n",
    "xgb.fit(X_train, y_train)\n",
    "pred = xgb.predict(X_valid)\n",
    "print(accuracy_score(y_valid, pred))\n",
    "print(classification_report(y_valid, pred))"
   ]
  },
  {
   "cell_type": "code",
   "execution_count": null,
   "id": "9c37f776-2ad6-44af-a559-45f0060e3e6a",
   "metadata": {},
   "outputs": [],
   "source": []
  },
  {
   "cell_type": "code",
   "execution_count": null,
   "id": "4309a4e8-a155-4e6d-a7d3-572b1cbefdd3",
   "metadata": {},
   "outputs": [],
   "source": []
  },
  {
   "cell_type": "code",
   "execution_count": null,
   "id": "c987234a-4cbc-4ef6-9e9a-8721fd821604",
   "metadata": {},
   "outputs": [],
   "source": []
  },
  {
   "cell_type": "code",
   "execution_count": null,
   "id": "f6e7827f-2556-438c-a07a-f294bcb26092",
   "metadata": {},
   "outputs": [],
   "source": []
  },
  {
   "cell_type": "code",
   "execution_count": null,
   "id": "28b7d7cc-f444-44a6-84a2-533b00dcc3e3",
   "metadata": {},
   "outputs": [],
   "source": []
  },
  {
   "cell_type": "code",
   "execution_count": null,
   "id": "6ffbcfbf-c0c8-4e96-8721-3303a503367b",
   "metadata": {},
   "outputs": [],
   "source": []
  },
  {
   "cell_type": "code",
   "execution_count": null,
   "id": "9268c3d7-cfd1-4362-a9bf-f7faf6803193",
   "metadata": {},
   "outputs": [],
   "source": []
  },
  {
   "cell_type": "code",
   "execution_count": null,
   "id": "55723fd1-9bd7-4660-be0e-4f5f56a26c11",
   "metadata": {},
   "outputs": [],
   "source": []
  },
  {
   "cell_type": "code",
   "execution_count": null,
   "id": "3ac6b344-b929-43fd-a793-a4727a7ee340",
   "metadata": {},
   "outputs": [],
   "source": []
  },
  {
   "cell_type": "markdown",
   "id": "945d51c5-1dd4-4707-b82a-c9740bca6beb",
   "metadata": {},
   "source": [
    "data['education'] = pd.to_numeric(data['education'], errors = 'coerce')"
   ]
  },
  {
   "cell_type": "markdown",
   "id": "1f9cbc21-b920-4ee1-8341-0d5e078b1a48",
   "metadata": {},
   "source": [
    "data['marital-status'] = pd.to_numeric(data['marital-status'], errors = 'coerce')"
   ]
  },
  {
   "cell_type": "markdown",
   "id": "e374248c-4949-40e5-8491-9a3631abb875",
   "metadata": {},
   "source": [
    "data['occupation'] = pd.to_numeric(data['occupation'], errors = 'coerce')"
   ]
  },
  {
   "cell_type": "markdown",
   "id": "612fb867-5bd2-4e98-8714-d26c70d0f369",
   "metadata": {},
   "source": [
    "data['relationship'] = pd.to_numeric(data['relationship'], errors = 'coerce')"
   ]
  },
  {
   "cell_type": "markdown",
   "id": "aea66dc9-9964-4282-af1c-fecfaf28006b",
   "metadata": {},
   "source": [
    "data['race'] = pd.to_numeric(data['race'], errors = 'coerce')"
   ]
  },
  {
   "cell_type": "markdown",
   "id": "fb280705-caf6-40a8-9aed-b6f34e59a264",
   "metadata": {},
   "source": [
    "data['sex'] = pd.to_numeric(data['sex'], errors='coerce')"
   ]
  },
  {
   "cell_type": "markdown",
   "id": "879a797f-1e50-4c9f-84ee-158bb94e9770",
   "metadata": {},
   "source": [
    "data['native-country'] = pd.to_numeric(data['native-country'], errors='coerce')"
   ]
  },
  {
   "cell_type": "markdown",
   "id": "b2521ecd-92a6-4dfe-846a-a28c50dd637a",
   "metadata": {},
   "source": [
    "data['class'] = pd.to_numeric(data['class'], errors='coerce')"
   ]
  },
  {
   "cell_type": "code",
   "execution_count": null,
   "id": "9f13626d-3037-400d-a866-ff103b7f3fc1",
   "metadata": {},
   "outputs": [],
   "source": []
  },
  {
   "cell_type": "code",
   "execution_count": null,
   "id": "849863cb-be1b-4253-8c5d-4de16e6aeaeb",
   "metadata": {},
   "outputs": [],
   "source": []
  },
  {
   "cell_type": "code",
   "execution_count": null,
   "id": "1d7c6693-131e-4365-bb19-1e7a6fdb770a",
   "metadata": {},
   "outputs": [],
   "source": [
    "data.info()"
   ]
  },
  {
   "cell_type": "code",
   "execution_count": null,
   "id": "8a52d0e1-bb32-4341-a6f9-9d3505a8b8ab",
   "metadata": {},
   "outputs": [],
   "source": []
  },
  {
   "cell_type": "code",
   "execution_count": null,
   "id": "c4368cf8-6d3f-4d64-b604-328220db05ea",
   "metadata": {},
   "outputs": [],
   "source": []
  },
  {
   "cell_type": "code",
   "execution_count": null,
   "id": "dec9b410-56e9-4971-b0ac-e650a547293a",
   "metadata": {},
   "outputs": [],
   "source": []
  },
  {
   "cell_type": "code",
   "execution_count": null,
   "id": "8b447d1a-3966-4936-99e4-b3e5ff3c63c1",
   "metadata": {},
   "outputs": [],
   "source": []
  },
  {
   "cell_type": "code",
   "execution_count": null,
   "id": "dd428da8-4506-4719-948b-b2dd3b9a40d1",
   "metadata": {},
   "outputs": [],
   "source": []
  },
  {
   "cell_type": "code",
   "execution_count": null,
   "id": "bc4b3703-30b4-49ad-9cae-0a5fa13b6b0a",
   "metadata": {},
   "outputs": [],
   "source": []
  },
  {
   "cell_type": "code",
   "execution_count": null,
   "id": "8dcae158-d90a-48e7-b62f-48fc8977935c",
   "metadata": {},
   "outputs": [],
   "source": []
  },
  {
   "cell_type": "code",
   "execution_count": null,
   "id": "de34ab76-b962-45f7-8b9f-6c5406a1b411",
   "metadata": {},
   "outputs": [],
   "source": []
  },
  {
   "cell_type": "code",
   "execution_count": null,
   "id": "9e74708d-e5d3-4e3c-b1e8-8017359d7a97",
   "metadata": {},
   "outputs": [],
   "source": []
  },
  {
   "cell_type": "code",
   "execution_count": null,
   "id": "22084e13-398c-4edc-adbd-44093778a0c6",
   "metadata": {},
   "outputs": [],
   "source": []
  },
  {
   "cell_type": "code",
   "execution_count": null,
   "id": "5cf5c263-68a1-4592-b5f4-a3ed4ae268aa",
   "metadata": {},
   "outputs": [],
   "source": []
  },
  {
   "cell_type": "code",
   "execution_count": null,
   "id": "ec882444-d780-4bd5-a8ca-cd547388bca4",
   "metadata": {},
   "outputs": [],
   "source": []
  },
  {
   "cell_type": "code",
   "execution_count": null,
   "id": "1ff32993-06f7-455a-a574-532b93b677aa",
   "metadata": {},
   "outputs": [],
   "source": []
  },
  {
   "cell_type": "code",
   "execution_count": null,
   "id": "7a7400f1-de23-4a3a-b164-31c131088bde",
   "metadata": {},
   "outputs": [],
   "source": []
  },
  {
   "cell_type": "code",
   "execution_count": null,
   "id": "7dc46aef-6475-4505-98be-5eb829a4bfde",
   "metadata": {},
   "outputs": [],
   "source": []
  },
  {
   "cell_type": "code",
   "execution_count": null,
   "id": "1ddb6088-0d81-48a9-ab02-eb9f43691347",
   "metadata": {},
   "outputs": [],
   "source": []
  },
  {
   "cell_type": "code",
   "execution_count": null,
   "id": "9532c905-0205-47cc-9dda-cf67c44c6691",
   "metadata": {},
   "outputs": [],
   "source": []
  },
  {
   "cell_type": "code",
   "execution_count": null,
   "id": "777fa767-8c2d-4857-8b42-71e666a7771a",
   "metadata": {},
   "outputs": [],
   "source": []
  },
  {
   "cell_type": "code",
   "execution_count": null,
   "id": "47f7bb3b-1f3b-4373-a3fc-6eabc6000dad",
   "metadata": {},
   "outputs": [],
   "source": []
  },
  {
   "cell_type": "code",
   "execution_count": null,
   "id": "06de59ac-412c-4af0-836d-8855b28493e5",
   "metadata": {},
   "outputs": [],
   "source": []
  },
  {
   "cell_type": "code",
   "execution_count": null,
   "id": "c9b35199-dbfc-4ede-99bf-382c78df7d9e",
   "metadata": {},
   "outputs": [],
   "source": []
  },
  {
   "cell_type": "code",
   "execution_count": null,
   "id": "320be1f7-ff09-4528-aad2-b2f63d2824b8",
   "metadata": {},
   "outputs": [],
   "source": []
  },
  {
   "cell_type": "code",
   "execution_count": null,
   "id": "ae7e0b0d-52fe-4162-9428-4487a994ba60",
   "metadata": {},
   "outputs": [],
   "source": []
  },
  {
   "cell_type": "code",
   "execution_count": null,
   "id": "9e5c16a9-66e3-47d9-afbe-2b680ad1cd59",
   "metadata": {},
   "outputs": [],
   "source": []
  },
  {
   "cell_type": "code",
   "execution_count": null,
   "id": "3029a4e4-0226-4c80-a0e1-9c9d2d0709cc",
   "metadata": {},
   "outputs": [],
   "source": []
  }
 ],
 "metadata": {
  "kernelspec": {
   "display_name": "Python 3 (ipykernel)",
   "language": "python",
   "name": "python3"
  },
  "language_info": {
   "codemirror_mode": {
    "name": "ipython",
    "version": 3
   },
   "file_extension": ".py",
   "mimetype": "text/x-python",
   "name": "python",
   "nbconvert_exporter": "python",
   "pygments_lexer": "ipython3",
   "version": "3.10.14"
  }
 },
 "nbformat": 4,
 "nbformat_minor": 5
}
