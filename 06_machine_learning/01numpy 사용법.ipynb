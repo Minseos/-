{
 "cells": [
  {
   "cell_type": "markdown",
   "id": "3cf4d098-05f4-43dc-850e-5ead61646ab5",
   "metadata": {},
   "source": [
    "# numpy란?\n",
    "* Numerical Python 과학적, 산업적 연산을 위한 파이썬 패키지\n",
    "* 다차원 배열, 행렬 연산에 주로 사용"
   ]
  },
  {
   "cell_type": "code",
   "execution_count": 1,
   "id": "7b2bf010-8364-4224-9cc2-800953ed203c",
   "metadata": {},
   "outputs": [],
   "source": [
    "# !pip install numpy\n",
    "# !conda install numpy"
   ]
  },
  {
   "cell_type": "code",
   "execution_count": 6,
   "id": "5b213b8e-ad21-4b95-ba5f-586d0210efec",
   "metadata": {},
   "outputs": [
    {
     "name": "stdout",
     "output_type": "stream",
     "text": [
      "Requirement already satisfied: numpy in c:\\users\\5-04\\miniforge3\\envs\\fintech\\lib\\site-packages (2.0.0)\n",
      "Note: you may need to restart the kernel to use updated packages.\n"
     ]
    }
   ],
   "source": [
    "pip install numpy"
   ]
  },
  {
   "cell_type": "markdown",
   "id": "854a5066-b0bf-427d-9966-c64da7ad05df",
   "metadata": {},
   "source": [
    "# 차원"
   ]
  },
  {
   "cell_type": "markdown",
   "id": "1627d805-e29e-4469-88ad-192bb0a8b6bc",
   "metadata": {},
   "source": [
    "* 0차원 = 점 . 스칼라"
   ]
  },
  {
   "cell_type": "markdown",
   "id": "85add559-82e9-4ed1-86e3-cf3c66b943ea",
   "metadata": {},
   "source": [
    "* 1차원 = 선 ---------------------- 벡터 [1,2,3,4,5] <br>\n",
    "[1]<br>\n",
    "[2]<br>\n",
    "[3]<br>\n",
    "[4]<br>\n",
    "[5]<br>\n",
    "* 벡터는 방향을 가진 데이터"
   ]
  },
  {
   "cell_type": "markdown",
   "id": "07fb6956-cb28-4862-8e50-53a362b45b58",
   "metadata": {},
   "source": [
    "* 2차원 = 면 ㅁ"
   ]
  },
  {
   "cell_type": "markdown",
   "id": "7fc09acc-0c1d-4d79-9ce1-fc6b4da9ad6e",
   "metadata": {},
   "source": [
    "* 3차원 공간, 입체"
   ]
  },
  {
   "cell_type": "markdown",
   "id": "1d35d189-9ab2-4f67-8908-faec8e09da2b",
   "metadata": {},
   "source": [
    "* 4차원 = ?3차원 요소가 2개 이상"
   ]
  },
  {
   "cell_type": "code",
   "execution_count": 7,
   "id": "f1357107-d10a-4d4d-a52d-7623cfdf9827",
   "metadata": {},
   "outputs": [],
   "source": [
    "import numpy as np"
   ]
  },
  {
   "cell_type": "code",
   "execution_count": 9,
   "id": "061604fb-69be-4c5f-b360-4b9651a0b37d",
   "metadata": {},
   "outputs": [],
   "source": [
    "a = np.array([1,2,3,4,5])"
   ]
  },
  {
   "cell_type": "code",
   "execution_count": 14,
   "id": "b3577533-8a0f-432b-b48b-fc3fbd05800e",
   "metadata": {},
   "outputs": [
    {
     "data": {
      "text/plain": [
       "1"
      ]
     },
     "execution_count": 14,
     "metadata": {},
     "output_type": "execute_result"
    }
   ],
   "source": [
    "# 몇 차원?\n",
    "a.ndim"
   ]
  },
  {
   "cell_type": "code",
   "execution_count": 29,
   "id": "73a5673a-4b3d-4169-a7de-c2deada1a2a7",
   "metadata": {},
   "outputs": [
    {
     "data": {
      "text/plain": [
       "array([[[1, 2, 3, 4, 5],\n",
       "        [1, 2, 3, 4, 5]]])"
      ]
     },
     "execution_count": 29,
     "metadata": {},
     "output_type": "execute_result"
    }
   ],
   "source": [
    "c = np.array([[[1,2,3,4,5],[1,2,3,4,5]]])\n",
    "c"
   ]
  },
  {
   "cell_type": "code",
   "execution_count": 22,
   "id": "4f7832ca-15c7-44d0-a2a6-1606e1fc59f4",
   "metadata": {},
   "outputs": [
    {
     "data": {
      "text/plain": [
       "array([[[1, 2, 3, 4, 5],\n",
       "        [1, 2, 3, 4, 5]],\n",
       "\n",
       "       [[1, 2, 3, 4, 5],\n",
       "        [1, 2, 3, 4, 5]]])"
      ]
     },
     "execution_count": 22,
     "metadata": {},
     "output_type": "execute_result"
    }
   ],
   "source": [
    "d = np.array([[[1,2,3,4,5],[1,2,3,4,5]], [[1,2,3,4,5],[1,2,3,4,5]]])\n",
    "d"
   ]
  },
  {
   "cell_type": "code",
   "execution_count": 23,
   "id": "58ca373c-3677-4c52-88d8-dc08c22450c9",
   "metadata": {},
   "outputs": [
    {
     "data": {
      "text/plain": [
       "3"
      ]
     },
     "execution_count": 23,
     "metadata": {},
     "output_type": "execute_result"
    }
   ],
   "source": [
    "c.ndim"
   ]
  },
  {
   "cell_type": "code",
   "execution_count": 24,
   "id": "cd14faae-1f61-4f1d-b8dc-1af173faa909",
   "metadata": {},
   "outputs": [
    {
     "data": {
      "text/plain": [
       "array([[[[1, 2, 3, 4, 5],\n",
       "         [1, 2, 3, 4, 5]],\n",
       "\n",
       "        [[1, 2, 3, 4, 5],\n",
       "         [1, 2, 3, 4, 5]],\n",
       "\n",
       "        [[1, 2, 3, 4, 5],\n",
       "         [1, 2, 3, 4, 5]],\n",
       "\n",
       "        [[1, 2, 3, 4, 5],\n",
       "         [1, 2, 3, 4, 5]]]])"
      ]
     },
     "execution_count": 24,
     "metadata": {},
     "output_type": "execute_result"
    }
   ],
   "source": [
    "e = np.array([[[[1,2,3,4,5],[1,2,3,4,5]], [[1,2,3,4,5],[1,2,3,4,5]], [[1,2,3,4,5],[1,2,3,4,5]], [[1,2,3,4,5],[1,2,3,4,5]]]])\n",
    "e"
   ]
  },
  {
   "cell_type": "code",
   "execution_count": 25,
   "id": "242bad0a-c7fa-4417-9b75-5cff43419971",
   "metadata": {},
   "outputs": [
    {
     "data": {
      "text/plain": [
       "4"
      ]
     },
     "execution_count": 25,
     "metadata": {},
     "output_type": "execute_result"
    }
   ],
   "source": [
    "e.ndim"
   ]
  },
  {
   "cell_type": "code",
   "execution_count": 27,
   "id": "2ce7feba-7663-4523-a3ac-8e29f30d73c7",
   "metadata": {},
   "outputs": [
    {
     "data": {
      "text/plain": [
       "array([[[[[1, 2, 3, 4, 5],\n",
       "          [1, 2, 3, 4, 5]],\n",
       "\n",
       "         [[1, 2, 3, 4, 5],\n",
       "          [1, 2, 3, 4, 5]],\n",
       "\n",
       "         [[1, 2, 3, 4, 5],\n",
       "          [1, 2, 3, 4, 5]],\n",
       "\n",
       "         [[1, 2, 3, 4, 5],\n",
       "          [1, 2, 3, 4, 5]]],\n",
       "\n",
       "\n",
       "        [[[1, 2, 3, 4, 5],\n",
       "          [1, 2, 3, 4, 5]],\n",
       "\n",
       "         [[1, 2, 3, 4, 5],\n",
       "          [1, 2, 3, 4, 5]],\n",
       "\n",
       "         [[1, 2, 3, 4, 5],\n",
       "          [1, 2, 3, 4, 5]],\n",
       "\n",
       "         [[1, 2, 3, 4, 5],\n",
       "          [1, 2, 3, 4, 5]]]]])"
      ]
     },
     "execution_count": 27,
     "metadata": {},
     "output_type": "execute_result"
    }
   ],
   "source": [
    "f = np.array([[[[[1,2,3,4,5],[1,2,3,4,5]], [[1,2,3,4,5],[1,2,3,4,5]], [[1,2,3,4,5],[1,2,3,4,5]], [[1,2,3,4,5],[1,2,3,4,5]]], [[[1,2,3,4,5],[1,2,3,4,5]], [[1,2,3,4,5],[1,2,3,4,5]], [[1,2,3,4,5],[1,2,3,4,5]], [[1,2,3,4,5],[1,2,3,4,5]]]]])\n",
    "f"
   ]
  },
  {
   "cell_type": "code",
   "execution_count": 30,
   "id": "a6966f24-0cde-4cbc-ba7f-61a17ac8d5a7",
   "metadata": {},
   "outputs": [
    {
     "data": {
      "text/plain": [
       "(1, 2, 5)"
      ]
     },
     "execution_count": 30,
     "metadata": {},
     "output_type": "execute_result"
    }
   ],
   "source": [
    "c.shape"
   ]
  },
  {
   "cell_type": "markdown",
   "id": "7836f725-9d4f-41da-ac31-446fef0c902a",
   "metadata": {},
   "source": [
    "# numpy를 사용하는 이유 : 행렬 연산이 쉽고 빠르기 때문에"
   ]
  },
  {
   "cell_type": "code",
   "execution_count": 31,
   "id": "1299881c-f64b-4ba0-9683-e4d9f9ee4e1a",
   "metadata": {},
   "outputs": [],
   "source": [
    "a = 10"
   ]
  },
  {
   "cell_type": "code",
   "execution_count": 32,
   "id": "9b951a77-8347-4652-bee0-27846ff30c87",
   "metadata": {},
   "outputs": [],
   "source": [
    "scalar = a+1"
   ]
  },
  {
   "cell_type": "code",
   "execution_count": 33,
   "id": "29ea4335-2b69-4e56-a625-081c3a2e5867",
   "metadata": {},
   "outputs": [
    {
     "data": {
      "text/plain": [
       "11"
      ]
     },
     "execution_count": 33,
     "metadata": {},
     "output_type": "execute_result"
    }
   ],
   "source": [
    "scalar"
   ]
  },
  {
   "cell_type": "markdown",
   "id": "f70cd4b6-2119-4691-8605-167f016f9cc5",
   "metadata": {},
   "source": [
    "* 벡터연산"
   ]
  },
  {
   "cell_type": "code",
   "execution_count": 34,
   "id": "7382ea48-6e5b-4230-8b4a-2d264ea06e6b",
   "metadata": {},
   "outputs": [
    {
     "data": {
      "text/plain": [
       "array([1, 2, 3, 4, 5])"
      ]
     },
     "execution_count": 34,
     "metadata": {},
     "output_type": "execute_result"
    }
   ],
   "source": [
    "b = np.array([1,2,3,4,5])\n",
    "b"
   ]
  },
  {
   "cell_type": "code",
   "execution_count": 36,
   "id": "698e5936-53a5-4f7e-8d1f-40eabca65aa8",
   "metadata": {},
   "outputs": [],
   "source": [
    "c = [5,6,7,8,9]"
   ]
  },
  {
   "cell_type": "code",
   "execution_count": 37,
   "id": "794dc355-355e-41ce-8c60-8993f12604f4",
   "metadata": {},
   "outputs": [
    {
     "data": {
      "text/plain": [
       "[8, 9, 10, 11, 12]"
      ]
     },
     "execution_count": 37,
     "metadata": {},
     "output_type": "execute_result"
    }
   ],
   "source": [
    "hap = []\n",
    "\n",
    "for num in c:\n",
    "    hap.append(num + 3)\n",
    "hap\n",
    "    "
   ]
  },
  {
   "cell_type": "code",
   "execution_count": 39,
   "id": "c786e036-8fb8-4676-891b-72344a5212b6",
   "metadata": {},
   "outputs": [
    {
     "data": {
      "text/plain": [
       "array([4, 5, 6, 7, 8])"
      ]
     },
     "execution_count": 39,
     "metadata": {},
     "output_type": "execute_result"
    }
   ],
   "source": [
    "# 반복문을 사용하지 않아도됨\n",
    "b + 3"
   ]
  },
  {
   "cell_type": "code",
   "execution_count": 40,
   "id": "9b086c1c-d95e-4c14-8b16-344fbce28b26",
   "metadata": {},
   "outputs": [
    {
     "data": {
      "text/plain": [
       "array([ 8, 16, 24, 32, 40])"
      ]
     },
     "execution_count": 40,
     "metadata": {},
     "output_type": "execute_result"
    }
   ],
   "source": [
    "b * 8"
   ]
  },
  {
   "cell_type": "markdown",
   "id": "5ee2acff-5842-411a-aa5a-61c4c9da9646",
   "metadata": {},
   "source": [
    "* 2차원 연산"
   ]
  },
  {
   "cell_type": "code",
   "execution_count": 41,
   "id": "0c1ae619-69dc-484f-b330-62bd1bf54505",
   "metadata": {},
   "outputs": [
    {
     "data": {
      "text/plain": [
       "[[1, 2, 3], [1, 2, 3], [1, 2, 3]]"
      ]
     },
     "execution_count": 41,
     "metadata": {},
     "output_type": "execute_result"
    }
   ],
   "source": [
    "d = [[1,2,3],[1,2,3],[1,2,3]]\n",
    "d"
   ]
  },
  {
   "cell_type": "markdown",
   "id": "cfce123d-1eb4-47de-b10e-48df608577cd",
   "metadata": {},
   "source": [
    "* 2차원 연산  + 5하기"
   ]
  },
  {
   "cell_type": "code",
   "execution_count": 42,
   "id": "53da5104-9474-400f-b983-882254407742",
   "metadata": {},
   "outputs": [
    {
     "name": "stdout",
     "output_type": "stream",
     "text": [
      "[1, 2, 3]\n",
      "[1, 2, 3]\n",
      "[1, 2, 3]\n"
     ]
    }
   ],
   "source": [
    "for i in d:\n",
    "    print(i)"
   ]
  },
  {
   "cell_type": "code",
   "execution_count": 45,
   "id": "123874a4-953f-46fb-baeb-5e394f9e641c",
   "metadata": {},
   "outputs": [
    {
     "data": {
      "text/plain": [
       "[[6, 7, 8], [6, 7, 8], [6, 7, 8]]"
      ]
     },
     "execution_count": 45,
     "metadata": {},
     "output_type": "execute_result"
    }
   ],
   "source": [
    "hap = []\n",
    "for i in d:\n",
    "    temp = []\n",
    "    for j in i:\n",
    "        temp.append(j+5)\n",
    "    hap.append(temp)\n",
    "hap"
   ]
  },
  {
   "cell_type": "code",
   "execution_count": 47,
   "id": "15ef5ee1-960f-442e-a965-1a38d9cc0649",
   "metadata": {},
   "outputs": [],
   "source": [
    "d2 = np.array([[1,2,3],[1,2,3],[1,2,3]])"
   ]
  },
  {
   "cell_type": "code",
   "execution_count": 48,
   "id": "f5031d8b-e20f-4ec1-a504-a4beb85552cc",
   "metadata": {},
   "outputs": [
    {
     "data": {
      "text/plain": [
       "array([[6, 7, 8],\n",
       "       [6, 7, 8],\n",
       "       [6, 7, 8]])"
      ]
     },
     "execution_count": 48,
     "metadata": {},
     "output_type": "execute_result"
    }
   ],
   "source": [
    "d2 + 5"
   ]
  },
  {
   "cell_type": "markdown",
   "id": "8d9fb160-b4ef-43f4-9f68-b2f39da221ee",
   "metadata": {},
   "source": [
    "# numpy에서 자주 사용하는 메서드\n",
    "* .ndim : 몇차원인지 보는 거\n",
    "* .shape : 몇 차원, 몇 행 몇 열로 되어있는지 구조 확인\n",
    "* .size : 배열 안에 있는 요소의 총 갯수가 몇 개인지\n",
    "* .dtype : 데이터 타입이 무엇인지\n",
    "* .itemsize : 1개 자료의 크기는 몇 인지"
   ]
  },
  {
   "cell_type": "code",
   "execution_count": 49,
   "id": "65b801a5-a184-4230-ab0c-1dead144dd21",
   "metadata": {},
   "outputs": [
    {
     "data": {
      "text/plain": [
       "2"
      ]
     },
     "execution_count": 49,
     "metadata": {},
     "output_type": "execute_result"
    }
   ],
   "source": [
    "d2.ndim"
   ]
  },
  {
   "cell_type": "code",
   "execution_count": 50,
   "id": "036ce0c0-8c1d-43f0-8b22-31f421af348d",
   "metadata": {},
   "outputs": [
    {
     "data": {
      "text/plain": [
       "(3, 3)"
      ]
     },
     "execution_count": 50,
     "metadata": {},
     "output_type": "execute_result"
    }
   ],
   "source": [
    "d2.shape"
   ]
  },
  {
   "cell_type": "code",
   "execution_count": 51,
   "id": "f9229d82-bdc4-4250-ac71-3afa50496ef6",
   "metadata": {},
   "outputs": [
    {
     "data": {
      "text/plain": [
       "9"
      ]
     },
     "execution_count": 51,
     "metadata": {},
     "output_type": "execute_result"
    }
   ],
   "source": [
    "d2.size"
   ]
  },
  {
   "cell_type": "code",
   "execution_count": 52,
   "id": "31865bcb-607a-4350-bf43-25834a390492",
   "metadata": {},
   "outputs": [
    {
     "data": {
      "text/plain": [
       "array([[0.5, 1. , 1.5],\n",
       "       [0.5, 1. , 1.5],\n",
       "       [0.5, 1. , 1.5]])"
      ]
     },
     "execution_count": 52,
     "metadata": {},
     "output_type": "execute_result"
    }
   ],
   "source": [
    "d3 = d2/2\n",
    "d3"
   ]
  },
  {
   "cell_type": "code",
   "execution_count": 53,
   "id": "615999bf-f1f4-4c47-8d3a-fc36bf2de25e",
   "metadata": {},
   "outputs": [
    {
     "data": {
      "text/plain": [
       "dtype('float64')"
      ]
     },
     "execution_count": 53,
     "metadata": {},
     "output_type": "execute_result"
    }
   ],
   "source": [
    "d3.dtype"
   ]
  },
  {
   "cell_type": "markdown",
   "id": "78f2d4f4-317b-40e6-829d-9477335333de",
   "metadata": {},
   "source": [
    "# ndarray 만들기\n",
    "* np.array(리스트/튜플)\n",
    "* 자료형은 반드시 1가지만 넣는다"
   ]
  },
  {
   "cell_type": "code",
   "execution_count": 55,
   "id": "6c6993ff-3b73-4211-9983-94234cfc8167",
   "metadata": {},
   "outputs": [
    {
     "data": {
      "text/plain": [
       "array([1, 2, 3, 4, 5])"
      ]
     },
     "execution_count": 55,
     "metadata": {},
     "output_type": "execute_result"
    }
   ],
   "source": [
    "np.array((1,2,3,4,5)) # 이렇게 하던가 ([1,2,3,4,5]) 리스트나 튜플로 만들어야됨"
   ]
  },
  {
   "cell_type": "code",
   "execution_count": 56,
   "id": "2724f3ed-c69c-424a-964b-fe3ef16a84f7",
   "metadata": {},
   "outputs": [
    {
     "data": {
      "text/plain": [
       "array([1. , 2. , 3. , 4. , 5.3])"
      ]
     },
     "execution_count": 56,
     "metadata": {},
     "output_type": "execute_result"
    }
   ],
   "source": [
    "np.array([1,2,3,4,5.3])"
   ]
  },
  {
   "cell_type": "code",
   "execution_count": 57,
   "id": "94eb7449-4883-4b3e-8ad9-fc3ffc061a27",
   "metadata": {},
   "outputs": [
    {
     "data": {
      "text/plain": [
       "dtype('int64')"
      ]
     },
     "execution_count": 57,
     "metadata": {},
     "output_type": "execute_result"
    }
   ],
   "source": [
    "e = np.array([1,2,3,4,5])\n",
    "e.dtype"
   ]
  },
  {
   "cell_type": "code",
   "execution_count": 59,
   "id": "2d6c8396-88c6-4141-a458-826b607f56cc",
   "metadata": {},
   "outputs": [
    {
     "name": "stdout",
     "output_type": "stream",
     "text": [
      "float64\n",
      "[1.  2.  3.  4.  5.3]\n"
     ]
    }
   ],
   "source": [
    "# 하나만 실수인  5.3이지만 하나로 인해서 실수로 type이 지정됨\n",
    "e2 = np.array([1,2,3,4,5.3])\n",
    "print(e2.dtype)\n",
    "print(e2)"
   ]
  },
  {
   "cell_type": "code",
   "execution_count": 61,
   "id": "59600a4d-917f-437c-af23-bb7e60ba2a9b",
   "metadata": {},
   "outputs": [
    {
     "name": "stdout",
     "output_type": "stream",
     "text": [
      "<U32\n",
      "<class 'numpy.ndarray'>\n",
      "['1' '2' '3' '4' '5.3']\n"
     ]
    }
   ],
   "source": [
    "# 문자열로 바뀜\n",
    "e3 = np.array([1,2,'3',4,5.3])\n",
    "print(e3.dtype)\n",
    "print(type(e3))\n",
    "print(e3)"
   ]
  },
  {
   "cell_type": "code",
   "execution_count": 63,
   "id": "de29eedd-27a4-4fbe-8bd4-925b5813e9f8",
   "metadata": {},
   "outputs": [
    {
     "name": "stdout",
     "output_type": "stream",
     "text": [
      "<class 'numpy.str_'>\n",
      "<class 'numpy.str_'>\n",
      "<class 'numpy.str_'>\n",
      "<class 'numpy.str_'>\n",
      "<class 'numpy.str_'>\n"
     ]
    }
   ],
   "source": [
    "for i in e3:\n",
    "    print(type(i))"
   ]
  },
  {
   "cell_type": "code",
   "execution_count": null,
   "id": "b4ee1d6a-81c0-43de-9ada-8f57d8ab6527",
   "metadata": {},
   "outputs": [],
   "source": []
  },
  {
   "cell_type": "code",
   "execution_count": 64,
   "id": "88aca5f5-a90b-40a1-b31f-42fb5499fb78",
   "metadata": {},
   "outputs": [
    {
     "data": {
      "text/plain": [
       "array([  1,   2,   3,   4,   5,   6,   7,   8,   9,  10,  11,  12,  13,\n",
       "        14,  15,  16,  17,  18,  19,  20,  21,  22,  23,  24,  25,  26,\n",
       "        27,  28,  29,  30,  31,  32,  33,  34,  35,  36,  37,  38,  39,\n",
       "        40,  41,  42,  43,  44,  45,  46,  47,  48,  49,  50,  51,  52,\n",
       "        53,  54,  55,  56,  57,  58,  59,  60,  61,  62,  63,  64,  65,\n",
       "        66,  67,  68,  69,  70,  71,  72,  73,  74,  75,  76,  77,  78,\n",
       "        79,  80,  81,  82,  83,  84,  85,  86,  87,  88,  89,  90,  91,\n",
       "        92,  93,  94,  95,  96,  97,  98,  99, 100])"
      ]
     },
     "execution_count": 64,
     "metadata": {},
     "output_type": "execute_result"
    }
   ],
   "source": [
    "np.arange(1,101)"
   ]
  },
  {
   "cell_type": "code",
   "execution_count": 65,
   "id": "9056d8ef-5159-4de2-b7c9-63dbaacc3e16",
   "metadata": {},
   "outputs": [
    {
     "data": {
      "text/plain": [
       "array([ 3,  6,  9, 12, 15, 18, 21, 24, 27, 30, 33, 36, 39, 42, 45, 48, 51,\n",
       "       54, 57, 60, 63, 66, 69, 72, 75, 78, 81, 84, 87, 90, 93, 96, 99])"
      ]
     },
     "execution_count": 65,
     "metadata": {},
     "output_type": "execute_result"
    }
   ],
   "source": [
    "np.arange(3,101,3)"
   ]
  },
  {
   "cell_type": "markdown",
   "id": "cf0f3447-83a0-484c-a50c-31cbae867f23",
   "metadata": {},
   "source": [
    "* reshape(행, 열)  벡터를 원하는 크기의 matrix또는 다차원 배열로 변환 "
   ]
  },
  {
   "cell_type": "code",
   "execution_count": 67,
   "id": "09fbcbdc-993f-422d-bfce-ed5f2c431670",
   "metadata": {},
   "outputs": [
    {
     "name": "stdout",
     "output_type": "stream",
     "text": [
      "[ 0  1  2  3  4  5  6  7  8  9 10 11 12 13 14 15 16 17 18 19 20 21 22 23]\n",
      "1\n",
      "(24,)\n"
     ]
    }
   ],
   "source": [
    "a = np.arange(24)\n",
    "print(a)\n",
    "print(a.ndim)\n",
    "print(a.shape)"
   ]
  },
  {
   "cell_type": "code",
   "execution_count": 68,
   "id": "b76b3789-56f5-4e7c-82c7-e7554966ca69",
   "metadata": {},
   "outputs": [
    {
     "data": {
      "text/plain": [
       "([0, 1, 2], [3, 4, 5])"
      ]
     },
     "execution_count": 68,
     "metadata": {},
     "output_type": "execute_result"
    }
   ],
   "source": [
    "[0,1,2],[3,4,5]"
   ]
  },
  {
   "cell_type": "code",
   "execution_count": 70,
   "id": "123d3926-af05-4ade-9f24-86ebd7d4d762",
   "metadata": {},
   "outputs": [
    {
     "data": {
      "text/plain": [
       "array([[[[ 0,  1],\n",
       "         [ 2,  3]],\n",
       "\n",
       "        [[ 4,  5],\n",
       "         [ 6,  7]]],\n",
       "\n",
       "\n",
       "       [[[ 8,  9],\n",
       "         [10, 11]],\n",
       "\n",
       "        [[12, 13],\n",
       "         [14, 15]]],\n",
       "\n",
       "\n",
       "       [[[16, 17],\n",
       "         [18, 19]],\n",
       "\n",
       "        [[20, 21],\n",
       "         [22, 23]]]])"
      ]
     },
     "execution_count": 70,
     "metadata": {},
     "output_type": "execute_result"
    }
   ],
   "source": [
    "# (2차 2행이 2개 있고) 그게 3개 있다고?\n",
    "c = a.reshape(3,2,2,2)\n",
    "c"
   ]
  },
  {
   "cell_type": "code",
   "execution_count": 71,
   "id": "72d14b7a-5673-421e-a24c-f79e5945ae2e",
   "metadata": {},
   "outputs": [
    {
     "name": "stdout",
     "output_type": "stream",
     "text": [
      "[ 0  1  2  3  4  5  6  7  8  9 10 11 12 13 14 15 16 17 18 19 20 21 22 23]\n",
      "1\n",
      "(24,)\n"
     ]
    }
   ],
   "source": [
    "d = c.reshape(24,)\n",
    "print(d)\n",
    "print(d.ndim)\n",
    "print(d.shape)"
   ]
  },
  {
   "cell_type": "markdown",
   "id": "fffd8555-9c7b-4edd-89d3-f96f0b69878b",
   "metadata": {},
   "source": [
    "* flatten() 다차원 데이터를 1차원 배열로 바꿔주는 함수"
   ]
  },
  {
   "cell_type": "code",
   "execution_count": 72,
   "id": "b49b3305-4c9a-4980-a331-1e6f9514012e",
   "metadata": {},
   "outputs": [
    {
     "data": {
      "text/plain": [
       "array([ 0,  1,  2,  3,  4,  5,  6,  7,  8,  9, 10, 11, 12, 13, 14, 15, 16,\n",
       "       17, 18, 19, 20, 21, 22, 23])"
      ]
     },
     "execution_count": 72,
     "metadata": {},
     "output_type": "execute_result"
    }
   ],
   "source": [
    "c.flatten()"
   ]
  },
  {
   "cell_type": "markdown",
   "id": "48e45280-ed9e-4bb4-8071-600835915d27",
   "metadata": {},
   "source": [
    "* np.flip(데이터) 행렬의 순서를 뒤집을 때"
   ]
  },
  {
   "cell_type": "code",
   "execution_count": 73,
   "id": "5d013d9b-83fc-4630-844c-55ec54dcde1c",
   "metadata": {},
   "outputs": [
    {
     "data": {
      "text/plain": [
       "array([[[[23, 22],\n",
       "         [21, 20]],\n",
       "\n",
       "        [[19, 18],\n",
       "         [17, 16]]],\n",
       "\n",
       "\n",
       "       [[[15, 14],\n",
       "         [13, 12]],\n",
       "\n",
       "        [[11, 10],\n",
       "         [ 9,  8]]],\n",
       "\n",
       "\n",
       "       [[[ 7,  6],\n",
       "         [ 5,  4]],\n",
       "\n",
       "        [[ 3,  2],\n",
       "         [ 1,  0]]]])"
      ]
     },
     "execution_count": 73,
     "metadata": {},
     "output_type": "execute_result"
    }
   ],
   "source": [
    "np.flip(c)"
   ]
  },
  {
   "cell_type": "code",
   "execution_count": 74,
   "id": "7ee4d4ed-14f8-4949-8f2a-57c91d444307",
   "metadata": {},
   "outputs": [
    {
     "data": {
      "text/plain": [
       "array([[[[16, 17],\n",
       "         [18, 19]],\n",
       "\n",
       "        [[20, 21],\n",
       "         [22, 23]]],\n",
       "\n",
       "\n",
       "       [[[ 8,  9],\n",
       "         [10, 11]],\n",
       "\n",
       "        [[12, 13],\n",
       "         [14, 15]]],\n",
       "\n",
       "\n",
       "       [[[ 0,  1],\n",
       "         [ 2,  3]],\n",
       "\n",
       "        [[ 4,  5],\n",
       "         [ 6,  7]]]])"
      ]
     },
     "execution_count": 74,
     "metadata": {},
     "output_type": "execute_result"
    }
   ],
   "source": [
    "c[::-1]"
   ]
  },
  {
   "cell_type": "markdown",
   "id": "e9aeeecf-ac4b-418d-b858-6501da1d6f24",
   "metadata": {},
   "source": [
    "정해진 숫자 범위 안에서 균등하게 구간을 나눌 때\n",
    "* np.linspace(시작, 끝, 구간 수)"
   ]
  },
  {
   "cell_type": "code",
   "execution_count": null,
   "id": "2e907a65-2f90-4e8b-9e37-3f32df014a7e",
   "metadata": {},
   "outputs": [],
   "source": []
  },
  {
   "cell_type": "code",
   "execution_count": 83,
   "id": "c72a106e-d424-448c-996a-10ccc87784bf",
   "metadata": {},
   "outputs": [
    {
     "data": {
      "text/plain": [
       "array([ 5. ,  7. , 11. ,  1. ,  3. ,  2. , 54. ,  0.5,  0.6])"
      ]
     },
     "execution_count": 83,
     "metadata": {},
     "output_type": "execute_result"
    }
   ],
   "source": [
    "f = np.array([5,7,11,1,3,2,54,0.5,0.6])\n",
    "f"
   ]
  },
  {
   "cell_type": "code",
   "execution_count": 82,
   "id": "9dd71a59-fcfc-48c1-87f3-ef41e3e3aa59",
   "metadata": {},
   "outputs": [],
   "source": [
    "# 저장이 됨\n",
    "f.sort()"
   ]
  },
  {
   "cell_type": "code",
   "execution_count": 84,
   "id": "74210b96-8ae8-44db-928a-ff401e5a1218",
   "metadata": {},
   "outputs": [
    {
     "data": {
      "text/plain": [
       "[np.float64(54.0),\n",
       " np.float64(11.0),\n",
       " np.float64(7.0),\n",
       " np.float64(5.0),\n",
       " np.float64(3.0),\n",
       " np.float64(2.0),\n",
       " np.float64(1.0),\n",
       " np.float64(0.6),\n",
       " np.float64(0.5)]"
      ]
     },
     "execution_count": 84,
     "metadata": {},
     "output_type": "execute_result"
    }
   ],
   "source": [
    "# 이건 저장이 안됨\n",
    "sorted(f, reverse = True)"
   ]
  },
  {
   "cell_type": "markdown",
   "id": "578dc191-1b2d-4326-b210-f76d7dfbc997",
   "metadata": {},
   "source": [
    "# argsort() 자료중 값이 작은 것에서 큰 순으로 인덱스 출력"
   ]
  },
  {
   "cell_type": "code",
   "execution_count": 85,
   "id": "ae39d9fc-8d1a-4f5e-94ac-610a13862b27",
   "metadata": {},
   "outputs": [
    {
     "data": {
      "text/plain": [
       "array([ 5. ,  0.5, -7. , 42. , 10. ])"
      ]
     },
     "execution_count": 85,
     "metadata": {},
     "output_type": "execute_result"
    }
   ],
   "source": [
    "g = np.array([5,0.5, -7, 42, 10])\n",
    "g"
   ]
  },
  {
   "cell_type": "code",
   "execution_count": 86,
   "id": "93ab3c59-094f-4ead-ad46-3ca94ce7b17d",
   "metadata": {},
   "outputs": [
    {
     "data": {
      "text/plain": [
       "array([2, 1, 0, 4, 3])"
      ]
     },
     "execution_count": 86,
     "metadata": {},
     "output_type": "execute_result"
    }
   ],
   "source": [
    "g.argsort()"
   ]
  },
  {
   "cell_type": "code",
   "execution_count": 87,
   "id": "4c9b5caa-9252-45c8-87ab-f0ee0bdfc806",
   "metadata": {},
   "outputs": [
    {
     "data": {
      "text/plain": [
       "[np.int64(0), np.int64(1), np.int64(2), np.int64(3), np.int64(4)]"
      ]
     },
     "execution_count": 87,
     "metadata": {},
     "output_type": "execute_result"
    }
   ],
   "source": [
    "sorted(g.argsort())"
   ]
  },
  {
   "cell_type": "code",
   "execution_count": 88,
   "id": "08a9a57e-5f62-4e9f-b58c-159d88f9eb08",
   "metadata": {},
   "outputs": [
    {
     "data": {
      "text/plain": [
       "array([ 5. ,  0.5, -7. , 42. , 10. ])"
      ]
     },
     "execution_count": 88,
     "metadata": {},
     "output_type": "execute_result"
    }
   ],
   "source": [
    "g2 = g[sorted(g.argsort())]\n",
    "g2"
   ]
  },
  {
   "cell_type": "code",
   "execution_count": null,
   "id": "41c594a2-fdbb-4b06-9bb6-f5e0f3b560e4",
   "metadata": {},
   "outputs": [],
   "source": []
  },
  {
   "cell_type": "markdown",
   "id": "62ed1a43-ceb3-4425-b278-37c65644d163",
   "metadata": {},
   "source": [
    "# 배열 합치기\n",
    "np.concatenate()"
   ]
  },
  {
   "cell_type": "code",
   "execution_count": 92,
   "id": "12e19e71-e1e4-44b1-bb2a-d2dc4101f4b2",
   "metadata": {},
   "outputs": [
    {
     "name": "stdout",
     "output_type": "stream",
     "text": [
      "[[1 2]\n",
      " [3 4]]\n",
      "[[5 6]\n",
      " [7 8]]\n"
     ]
    }
   ],
   "source": [
    "a = np.array([[1,2],[3,4]])\n",
    "b = np.array([[5,6],[7,8]])\n",
    "print(a)\n",
    "print(b)"
   ]
  },
  {
   "cell_type": "markdown",
   "id": "6bac9414-f942-4652-a681-3fdf095233d6",
   "metadata": {},
   "source": [
    "* np.concatenate((a,b)) 의 기본 병합 방향은 행방향(가로), axis = 0 / 열방향(세로)으로 주고 싶으면  axis = 1\n",
    "* 행방향으로 합칠 때는 두 행렬의 열의 길이가 같아야 합쳐짐"
   ]
  },
  {
   "cell_type": "code",
   "execution_count": 94,
   "id": "d24b65fd-5ede-417c-8109-f9e987ff2e7d",
   "metadata": {},
   "outputs": [
    {
     "name": "stdout",
     "output_type": "stream",
     "text": [
      "(4, 2)\n"
     ]
    },
    {
     "data": {
      "text/plain": [
       "array([[1, 2],\n",
       "       [3, 4],\n",
       "       [5, 6],\n",
       "       [7, 8]])"
      ]
     },
     "execution_count": 94,
     "metadata": {},
     "output_type": "execute_result"
    }
   ],
   "source": [
    "concat_row = np.concatenate((a,b))\n",
    "print(concat_row.shape)\n",
    "concat_row"
   ]
  },
  {
   "cell_type": "markdown",
   "id": "0eae1b76-46a2-4d40-9409-42bfdd0d7046",
   "metadata": {},
   "source": [
    "* axis = 1은 열방향으로 붙음\n",
    "* 두 행렬의 행 길이가 같아야 붙음"
   ]
  },
  {
   "cell_type": "code",
   "execution_count": 96,
   "id": "690fc236-ab05-4507-bd63-7b93c37d21d0",
   "metadata": {},
   "outputs": [
    {
     "name": "stdout",
     "output_type": "stream",
     "text": [
      "(2, 4)\n",
      "[[1 2 5 6]\n",
      " [3 4 7 8]]\n"
     ]
    }
   ],
   "source": [
    "concat_col = np.concatenate((a,b), axis = 1)\n",
    "print(concat_col.shape)\n",
    "print(concat_col)"
   ]
  },
  {
   "cell_type": "markdown",
   "id": "1f274038-b147-4652-aeb6-58d488c9e30d",
   "metadata": {},
   "source": [
    "# 합치는 방향의 모양이 일치하지 않으면 합치지 X"
   ]
  },
  {
   "cell_type": "code",
   "execution_count": 100,
   "id": "115eebf1-9493-49b8-b832-9090415a5bb7",
   "metadata": {},
   "outputs": [
    {
     "name": "stdout",
     "output_type": "stream",
     "text": [
      "[[1 2]\n",
      " [3 4]]\n",
      "(2, 2)\n",
      "2\n",
      "[[5 6]]\n",
      "(1, 2)\n",
      "2\n"
     ]
    }
   ],
   "source": [
    "c = np.array([[1,2],[3,4]])\n",
    "d = np.array([[5,6]])\n",
    "print(c)\n",
    "print(c.shape)\n",
    "print(c.ndim)\n",
    "print(d)\n",
    "print(d.shape)\n",
    "print(d.ndim)"
   ]
  },
  {
   "cell_type": "code",
   "execution_count": 98,
   "id": "27dfe16f-3b95-4caf-ad49-fdc7cff49313",
   "metadata": {},
   "outputs": [
    {
     "name": "stdout",
     "output_type": "stream",
     "text": [
      "(3, 2)\n",
      "[[1 2]\n",
      " [3 4]\n",
      " [5 6]]\n"
     ]
    }
   ],
   "source": [
    "concat_row2 = np.concatenate((c,d), axis = 0)\n",
    "print(concat_row2.shape)\n",
    "print(concat_row2)"
   ]
  },
  {
   "cell_type": "code",
   "execution_count": 110,
   "id": "2a4bdd09-b8c0-404b-b86c-1885f8c8bdbb",
   "metadata": {},
   "outputs": [
    {
     "name": "stdout",
     "output_type": "stream",
     "text": [
      "(2, 3)\n",
      "[[1 2 5]\n",
      " [3 4 6]]\n"
     ]
    }
   ],
   "source": [
    "concat_col2 = np.concatenate((c,d.T), axis = 1)\n",
    "print(concat_col2.shape)\n",
    "print(concat_col2)"
   ]
  },
  {
   "cell_type": "markdown",
   "id": "587243e7-52d0-408d-9c80-592a466abc99",
   "metadata": {},
   "source": [
    "## 벡터와 매트릭스는 합칠 수 없다."
   ]
  },
  {
   "cell_type": "code",
   "execution_count": 103,
   "id": "42947a84-9629-4b43-9a69-9f04d9d46f68",
   "metadata": {},
   "outputs": [
    {
     "name": "stdout",
     "output_type": "stream",
     "text": [
      "[[1 2]\n",
      " [3 4]]\n",
      "(2, 2)\n",
      "2\n",
      "[[5 6]]\n",
      "(1, 2)\n",
      "2\n"
     ]
    }
   ],
   "source": [
    "e = np.array([[1,2],[3,4]])\n",
    "f = np.array([[5,6]])\n",
    "print(e)\n",
    "print(e.shape)\n",
    "print(e.ndim)\n",
    "print(f)\n",
    "print(f.shape)\n",
    "print(f.ndim)"
   ]
  },
  {
   "cell_type": "code",
   "execution_count": 106,
   "id": "bb75b2bd-b157-45e3-8cf6-afd4539ba99d",
   "metadata": {},
   "outputs": [
    {
     "name": "stdout",
     "output_type": "stream",
     "text": [
      "(3, 2)\n",
      "[[1 2]\n",
      " [3 4]\n",
      " [5 6]]\n"
     ]
    }
   ],
   "source": [
    "concat_row3 = np.concatenate((e,f), axis = 0)\n",
    "print(concat_row3.shape)\n",
    "print(concat_row3)"
   ]
  },
  {
   "cell_type": "code",
   "execution_count": 107,
   "id": "a6c051b8-a39a-42d8-aaac-9caefe501031",
   "metadata": {},
   "outputs": [
    {
     "ename": "ValueError",
     "evalue": "all the input array dimensions except for the concatenation axis must match exactly, but along dimension 0, the array at index 0 has size 2 and the array at index 1 has size 1",
     "output_type": "error",
     "traceback": [
      "\u001b[1;31m---------------------------------------------------------------------------\u001b[0m",
      "\u001b[1;31mValueError\u001b[0m                                Traceback (most recent call last)",
      "Cell \u001b[1;32mIn[107], line 1\u001b[0m\n\u001b[1;32m----> 1\u001b[0m concat_col3 \u001b[38;5;241m=\u001b[39m \u001b[43mnp\u001b[49m\u001b[38;5;241;43m.\u001b[39;49m\u001b[43mconcatenate\u001b[49m\u001b[43m(\u001b[49m\u001b[43m(\u001b[49m\u001b[43me\u001b[49m\u001b[43m,\u001b[49m\u001b[43mf\u001b[49m\u001b[43m)\u001b[49m\u001b[43m,\u001b[49m\u001b[43m \u001b[49m\u001b[43maxis\u001b[49m\u001b[43m \u001b[49m\u001b[38;5;241;43m=\u001b[39;49m\u001b[43m \u001b[49m\u001b[38;5;241;43m1\u001b[39;49m\u001b[43m)\u001b[49m\n\u001b[0;32m      2\u001b[0m \u001b[38;5;28mprint\u001b[39m(concat_col3\u001b[38;5;241m.\u001b[39mshape)\n\u001b[0;32m      3\u001b[0m \u001b[38;5;28mprint\u001b[39m(concat_col3)\n",
      "\u001b[1;31mValueError\u001b[0m: all the input array dimensions except for the concatenation axis must match exactly, but along dimension 0, the array at index 0 has size 2 and the array at index 1 has size 1"
     ]
    }
   ],
   "source": [
    "concat_col3 = np.concatenate((e,f), axis = 1)\n",
    "print(concat_col3.shape)\n",
    "print(concat_col3)"
   ]
  },
  {
   "cell_type": "code",
   "execution_count": 112,
   "id": "0b070b37-298e-4442-b076-6e097f11b19d",
   "metadata": {},
   "outputs": [
    {
     "name": "stdout",
     "output_type": "stream",
     "text": [
      "[[1 2]\n",
      " [3 4]]\n",
      "(2, 2)\n",
      "2\n",
      "[[5 6 7]]\n",
      "(1, 3)\n",
      "2\n"
     ]
    }
   ],
   "source": [
    "g = np.array([[1,2],[3,4]])\n",
    "h = np.array([[5,6,7]])\n",
    "print(g)\n",
    "print(g.shape)\n",
    "print(g.ndim)\n",
    "print(h)\n",
    "print(h.shape)\n",
    "print(h.ndim)"
   ]
  },
  {
   "cell_type": "code",
   "execution_count": 113,
   "id": "5e6c8bed-c645-4a33-994d-db257f806b82",
   "metadata": {},
   "outputs": [
    {
     "name": "stdout",
     "output_type": "stream",
     "text": [
      "(3, 2)\n",
      "[[1 2]\n",
      " [3 4]\n",
      " [5 6]]\n"
     ]
    }
   ],
   "source": [
    "concat_row4 = np.concatenate((e,f), axis = 0)\n",
    "print(concat_row4.shape)\n",
    "print(concat_row4)"
   ]
  },
  {
   "cell_type": "code",
   "execution_count": 115,
   "id": "846de160-0a74-4ef0-9f13-d739cfcddc3b",
   "metadata": {},
   "outputs": [
    {
     "name": "stdout",
     "output_type": "stream",
     "text": [
      "(2, 3)\n",
      "[[1 2 5]\n",
      " [3 4 6]]\n"
     ]
    }
   ],
   "source": [
    "concat_col4 = np.concatenate((e,f.T), axis = 1)\n",
    "print(concat_col4.shape)\n",
    "print(concat_col4)"
   ]
  },
  {
   "cell_type": "code",
   "execution_count": null,
   "id": "77dc096f-2d71-4691-a5e1-4f1c88bf30f1",
   "metadata": {},
   "outputs": [],
   "source": []
  },
  {
   "cell_type": "markdown",
   "id": "e936a872-7f13-4fed-938b-653cd331432c",
   "metadata": {},
   "source": [
    "# 전치 행렬 만들기\n",
    "* .T\n",
    "* .transpose()\n",
    "* .reshape()"
   ]
  },
  {
   "cell_type": "code",
   "execution_count": 117,
   "id": "29ea327a-17fc-44b5-8fe0-f95ce487889a",
   "metadata": {},
   "outputs": [
    {
     "name": "stdout",
     "output_type": "stream",
     "text": [
      "[[5 6 7]]\n",
      "(1, 3)\n"
     ]
    }
   ],
   "source": [
    "print(h)\n",
    "print(h.shape)"
   ]
  },
  {
   "cell_type": "code",
   "execution_count": 118,
   "id": "5386eac5-be65-42e7-82a1-2ab05ece2b99",
   "metadata": {},
   "outputs": [
    {
     "name": "stdout",
     "output_type": "stream",
     "text": [
      "[[5]\n",
      " [6]\n",
      " [7]]\n",
      "(3, 1)\n"
     ]
    }
   ],
   "source": [
    "h2 = h.T\n",
    "print(h2)\n",
    "print(h2.shape)"
   ]
  },
  {
   "cell_type": "code",
   "execution_count": 123,
   "id": "cff12005-c4e8-4c84-b900-dad7564f3ce4",
   "metadata": {},
   "outputs": [
    {
     "name": "stdout",
     "output_type": "stream",
     "text": [
      "[[5]\n",
      " [6]\n",
      " [7]]\n",
      "(3, 1)\n"
     ]
    }
   ],
   "source": [
    "h3 = h.transpose()\n",
    "print(h3)\n",
    "print(h3.shape)"
   ]
  },
  {
   "cell_type": "code",
   "execution_count": 121,
   "id": "c3628510-c23a-4123-967c-1eb6a972ab11",
   "metadata": {},
   "outputs": [
    {
     "data": {
      "text/plain": [
       "array([[5],\n",
       "       [6],\n",
       "       [7]])"
      ]
     },
     "execution_count": 121,
     "metadata": {},
     "output_type": "execute_result"
    }
   ],
   "source": [
    "h3.reshape(3,1)"
   ]
  },
  {
   "cell_type": "code",
   "execution_count": 124,
   "id": "720e6476-9364-4233-955d-856543fc558b",
   "metadata": {},
   "outputs": [
    {
     "name": "stdout",
     "output_type": "stream",
     "text": [
      "[[5]\n",
      " [6]\n",
      " [7]]\n",
      "(3, 1)\n"
     ]
    }
   ],
   "source": [
    "h4 = h.reshape(3,1)\n",
    "print(h4)\n",
    "print(h4.shape)"
   ]
  },
  {
   "cell_type": "code",
   "execution_count": 126,
   "id": "ed0edb21-c7b9-4717-aef5-4371df283816",
   "metadata": {},
   "outputs": [
    {
     "name": "stdout",
     "output_type": "stream",
     "text": [
      "[[0 1]\n",
      " [2 3]\n",
      " [4 5]]\n",
      "(3, 2)\n",
      "2\n"
     ]
    }
   ],
   "source": [
    "i = np.arange(6).reshape(3,2) # 3행 2열로 만들기\n",
    "print(i)\n",
    "print(i.shape)\n",
    "print(i.ndim)"
   ]
  },
  {
   "cell_type": "code",
   "execution_count": 127,
   "id": "93ff23c8-026d-42e7-8fbe-eed5135b6e69",
   "metadata": {},
   "outputs": [
    {
     "name": "stdout",
     "output_type": "stream",
     "text": [
      "[[0 2 4]\n",
      " [1 3 5]]\n",
      "(2, 3)\n"
     ]
    }
   ],
   "source": [
    "i2 = i.T\n",
    "print(i2)\n",
    "print(i2.shape)"
   ]
  },
  {
   "cell_type": "code",
   "execution_count": 129,
   "id": "61d09f60-aee3-4a75-b503-04dbb02cc840",
   "metadata": {},
   "outputs": [
    {
     "name": "stdout",
     "output_type": "stream",
     "text": [
      "[[0 2 4]\n",
      " [1 3 5]]\n",
      "(2, 3)\n"
     ]
    }
   ],
   "source": [
    "i3 = i.transpose()\n",
    "print(i3)\n",
    "print(i3.shape)"
   ]
  },
  {
   "cell_type": "code",
   "execution_count": 130,
   "id": "c2a40e7a-1ffe-45ac-af26-0b557cc75eea",
   "metadata": {},
   "outputs": [
    {
     "name": "stdout",
     "output_type": "stream",
     "text": [
      "[[0 1 2]\n",
      " [3 4 5]]\n",
      "(2, 3)\n"
     ]
    }
   ],
   "source": [
    "i4 = i.reshape(2,3)\n",
    "print(i4)\n",
    "print(i4.shape)"
   ]
  },
  {
   "cell_type": "code",
   "execution_count": null,
   "id": "cef3e20e-d0c0-485f-b3e7-fbccf986f9c3",
   "metadata": {},
   "outputs": [],
   "source": []
  },
  {
   "cell_type": "markdown",
   "id": "35f32850-7a35-409c-8b9b-33db5b81c9fd",
   "metadata": {},
   "source": [
    "## 브로드 캐스팅\n",
    "* 벡터와 스칼라, 또는 매트릭스와 벡터를 연산할 때 자동으로 행렬 크기를 맞춰 주는 것"
   ]
  },
  {
   "cell_type": "code",
   "execution_count": 134,
   "id": "29412249-2fba-4597-a054-c89a1c603aca",
   "metadata": {},
   "outputs": [
    {
     "name": "stdout",
     "output_type": "stream",
     "text": [
      "(3, 5)\n",
      "[[ 1  2  3  4  5]\n",
      " [ 6  7  8  9 10]\n",
      " [11 12 13 14 15]]\n"
     ]
    }
   ],
   "source": [
    "a = np.arange(1,16).reshape(3,5)\n",
    "print(a.shape)\n",
    "print(a)"
   ]
  },
  {
   "cell_type": "code",
   "execution_count": 132,
   "id": "798397ce-271d-40c3-8c08-0245b835e97b",
   "metadata": {},
   "outputs": [
    {
     "data": {
      "text/plain": [
       "array([[ 4,  5,  6,  7,  8],\n",
       "       [ 9, 10, 11, 12, 13],\n",
       "       [14, 15, 16, 17, 18]])"
      ]
     },
     "execution_count": 132,
     "metadata": {},
     "output_type": "execute_result"
    }
   ],
   "source": [
    "a + 3"
   ]
  },
  {
   "cell_type": "code",
   "execution_count": 136,
   "id": "e47b27ea-f3f6-4f7e-9d7c-d16cdfefeffe",
   "metadata": {},
   "outputs": [
    {
     "name": "stdout",
     "output_type": "stream",
     "text": [
      "(3, 5)\n",
      "(5,)\n"
     ]
    }
   ],
   "source": [
    "b = np.array([1,2,3,4,5])\n",
    "print(a.shape)\n",
    "print(b.shape)\n",
    "c = a+b"
   ]
  },
  {
   "cell_type": "code",
   "execution_count": 137,
   "id": "7d52654e-4c9a-4013-8206-2b98b87f5b49",
   "metadata": {},
   "outputs": [
    {
     "data": {
      "text/plain": [
       "array([16, 14, 12])"
      ]
     },
     "execution_count": 137,
     "metadata": {},
     "output_type": "execute_result"
    }
   ],
   "source": [
    "c[2][:3][::-1]"
   ]
  },
  {
   "cell_type": "code",
   "execution_count": null,
   "id": "a59eea22-3994-4410-ab4a-a61d65bedadd",
   "metadata": {},
   "outputs": [],
   "source": []
  },
  {
   "cell_type": "code",
   "execution_count": null,
   "id": "c1f3d586-5d09-4f4a-a578-dc9667371170",
   "metadata": {},
   "outputs": [],
   "source": []
  },
  {
   "cell_type": "code",
   "execution_count": null,
   "id": "2096bd1a-c652-41a8-9b33-662a41e686dd",
   "metadata": {},
   "outputs": [],
   "source": []
  }
 ],
 "metadata": {
  "kernelspec": {
   "display_name": "Python 3 (ipykernel)",
   "language": "python",
   "name": "python3"
  },
  "language_info": {
   "codemirror_mode": {
    "name": "ipython",
    "version": 3
   },
   "file_extension": ".py",
   "mimetype": "text/x-python",
   "name": "python",
   "nbconvert_exporter": "python",
   "pygments_lexer": "ipython3",
   "version": "3.10.14"
  }
 },
 "nbformat": 4,
 "nbformat_minor": 5
}
