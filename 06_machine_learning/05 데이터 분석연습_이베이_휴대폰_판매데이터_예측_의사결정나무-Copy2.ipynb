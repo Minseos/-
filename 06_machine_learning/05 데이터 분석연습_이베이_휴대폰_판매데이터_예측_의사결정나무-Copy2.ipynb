{
 "cells": [
  {
   "cell_type": "code",
   "execution_count": 1,
   "id": "fbb38651-a3e8-4746-8edc-4116f0de9921",
   "metadata": {},
   "outputs": [],
   "source": [
    "import pandas as pd\n",
    "import numpy as np\n",
    "import matplotlib.pyplot as plt\n",
    "import seaborn as sns"
   ]
  },
  {
   "cell_type": "markdown",
   "id": "dff8bfe1-0816-4d08-92c2-0c560506910a",
   "metadata": {},
   "source": [
    "# 데이터 로딩"
   ]
  },
  {
   "cell_type": "code",
   "execution_count": 2,
   "id": "ddf8a18e-bce5-4e98-9062-0240d82a5b6c",
   "metadata": {
    "scrolled": true
   },
   "outputs": [
    {
     "data": {
      "text/html": [
       "<div>\n",
       "<style scoped>\n",
       "    .dataframe tbody tr th:only-of-type {\n",
       "        vertical-align: middle;\n",
       "    }\n",
       "\n",
       "    .dataframe tbody tr th {\n",
       "        vertical-align: top;\n",
       "    }\n",
       "\n",
       "    .dataframe thead th {\n",
       "        text-align: right;\n",
       "    }\n",
       "</style>\n",
       "<table border=\"1\" class=\"dataframe\">\n",
       "  <thead>\n",
       "    <tr style=\"text-align: right;\">\n",
       "      <th></th>\n",
       "      <th>BuyItNow</th>\n",
       "      <th>startprice</th>\n",
       "      <th>carrier</th>\n",
       "      <th>color</th>\n",
       "      <th>productline</th>\n",
       "      <th>noDescription</th>\n",
       "      <th>charCountDescription</th>\n",
       "      <th>upperCaseDescription</th>\n",
       "      <th>sold</th>\n",
       "    </tr>\n",
       "  </thead>\n",
       "  <tbody>\n",
       "    <tr>\n",
       "      <th>0</th>\n",
       "      <td>0</td>\n",
       "      <td>199.99</td>\n",
       "      <td>NaN</td>\n",
       "      <td>White</td>\n",
       "      <td>Galaxy_S9</td>\n",
       "      <td>contains description</td>\n",
       "      <td>0</td>\n",
       "      <td>0</td>\n",
       "      <td>1</td>\n",
       "    </tr>\n",
       "    <tr>\n",
       "      <th>1</th>\n",
       "      <td>0</td>\n",
       "      <td>235.00</td>\n",
       "      <td>NaN</td>\n",
       "      <td>NaN</td>\n",
       "      <td>Galaxy_Note9</td>\n",
       "      <td>contains description</td>\n",
       "      <td>0</td>\n",
       "      <td>0</td>\n",
       "      <td>0</td>\n",
       "    </tr>\n",
       "    <tr>\n",
       "      <th>2</th>\n",
       "      <td>0</td>\n",
       "      <td>199.99</td>\n",
       "      <td>NaN</td>\n",
       "      <td>NaN</td>\n",
       "      <td>Unknown</td>\n",
       "      <td>no description</td>\n",
       "      <td>100</td>\n",
       "      <td>2</td>\n",
       "      <td>0</td>\n",
       "    </tr>\n",
       "    <tr>\n",
       "      <th>3</th>\n",
       "      <td>1</td>\n",
       "      <td>175.00</td>\n",
       "      <td>AT&amp;T</td>\n",
       "      <td>Space Gray</td>\n",
       "      <td>Galaxy_Note9</td>\n",
       "      <td>contains description</td>\n",
       "      <td>0</td>\n",
       "      <td>0</td>\n",
       "      <td>1</td>\n",
       "    </tr>\n",
       "    <tr>\n",
       "      <th>4</th>\n",
       "      <td>1</td>\n",
       "      <td>100.00</td>\n",
       "      <td>NaN</td>\n",
       "      <td>Space Gray</td>\n",
       "      <td>Galaxy_S8</td>\n",
       "      <td>contains description</td>\n",
       "      <td>0</td>\n",
       "      <td>0</td>\n",
       "      <td>1</td>\n",
       "    </tr>\n",
       "  </tbody>\n",
       "</table>\n",
       "</div>"
      ],
      "text/plain": [
       "   BuyItNow  startprice carrier       color   productline  \\\n",
       "0         0      199.99     NaN       White     Galaxy_S9   \n",
       "1         0      235.00     NaN         NaN  Galaxy_Note9   \n",
       "2         0      199.99     NaN         NaN       Unknown   \n",
       "3         1      175.00    AT&T  Space Gray  Galaxy_Note9   \n",
       "4         1      100.00     NaN  Space Gray     Galaxy_S8   \n",
       "\n",
       "          noDescription  charCountDescription  upperCaseDescription  sold  \n",
       "0  contains description                     0                     0     1  \n",
       "1  contains description                     0                     0     0  \n",
       "2        no description                   100                     2     0  \n",
       "3  contains description                     0                     0     1  \n",
       "4  contains description                     0                     0     1  "
      ]
     },
     "execution_count": 2,
     "metadata": {},
     "output_type": "execute_result"
    }
   ],
   "source": [
    "data = pd.read_csv('https://raw.githubusercontent.com/haram4th/ablearn/main/galaxy.csv')\n",
    "data.head()"
   ]
  },
  {
   "cell_type": "markdown",
   "id": "a55aa6f7-7353-497f-8371-88cdd2a68aa1",
   "metadata": {},
   "source": [
    "* BuyItNow : 바로 구매 할 수 있는지의 여부(즉시 구매)\n",
    "* startprice : 경매의 시작 가격\n",
    "* carrier : 통신사\n",
    "* color : 기기 색상\n",
    "* productline : 모델명\n",
    "* noDescription : 판매자가 설명을 썼는지 안썼는지\n",
    "* charCountDescriptio : 설명이 얼마나 긴지\n",
    "* upperCaseDescription : 몇 문장인지\n",
    "* sold : 팔렸는지 안팔렸는지 (우리가 알고자하는 종속변수)"
   ]
  },
  {
   "cell_type": "code",
   "execution_count": null,
   "id": "73008abf-b747-4731-8ef2-3e452d1d1e36",
   "metadata": {},
   "outputs": [],
   "source": []
  },
  {
   "cell_type": "code",
   "execution_count": null,
   "id": "e9777697-e3d2-442b-a925-e0767a02a184",
   "metadata": {},
   "outputs": [],
   "source": []
  },
  {
   "cell_type": "markdown",
   "id": "d1e96d2c-3e5d-43a9-b3da-9998062fda0e",
   "metadata": {},
   "source": [
    "# 전처리"
   ]
  },
  {
   "cell_type": "code",
   "execution_count": 3,
   "id": "774dbf29-6dfc-4840-8c4c-79242737dd64",
   "metadata": {},
   "outputs": [
    {
     "name": "stdout",
     "output_type": "stream",
     "text": [
      "<class 'pandas.core.frame.DataFrame'>\n",
      "RangeIndex: 1485 entries, 0 to 1484\n",
      "Data columns (total 9 columns):\n",
      " #   Column                Non-Null Count  Dtype  \n",
      "---  ------                --------------  -----  \n",
      " 0   BuyItNow              1485 non-null   int64  \n",
      " 1   startprice            1485 non-null   float64\n",
      " 2   carrier               316 non-null    object \n",
      " 3   color                 892 non-null    object \n",
      " 4   productline           1485 non-null   object \n",
      " 5   noDescription         1485 non-null   object \n",
      " 6   charCountDescription  1485 non-null   int64  \n",
      " 7   upperCaseDescription  1485 non-null   int64  \n",
      " 8   sold                  1485 non-null   int64  \n",
      "dtypes: float64(1), int64(4), object(4)\n",
      "memory usage: 104.5+ KB\n"
     ]
    }
   ],
   "source": [
    "data.info()"
   ]
  },
  {
   "cell_type": "code",
   "execution_count": 4,
   "id": "a25d388b-92a2-421a-ae0f-befd8b4895e4",
   "metadata": {},
   "outputs": [
    {
     "data": {
      "text/html": [
       "<div>\n",
       "<style scoped>\n",
       "    .dataframe tbody tr th:only-of-type {\n",
       "        vertical-align: middle;\n",
       "    }\n",
       "\n",
       "    .dataframe tbody tr th {\n",
       "        vertical-align: top;\n",
       "    }\n",
       "\n",
       "    .dataframe thead th {\n",
       "        text-align: right;\n",
       "    }\n",
       "</style>\n",
       "<table border=\"1\" class=\"dataframe\">\n",
       "  <thead>\n",
       "    <tr style=\"text-align: right;\">\n",
       "      <th></th>\n",
       "      <th>BuyItNow</th>\n",
       "      <th>startprice</th>\n",
       "      <th>charCountDescription</th>\n",
       "      <th>upperCaseDescription</th>\n",
       "      <th>sold</th>\n",
       "    </tr>\n",
       "  </thead>\n",
       "  <tbody>\n",
       "    <tr>\n",
       "      <th>count</th>\n",
       "      <td>1485.000000</td>\n",
       "      <td>1485.000000</td>\n",
       "      <td>1485.000000</td>\n",
       "      <td>1485.000000</td>\n",
       "      <td>1485.000000</td>\n",
       "    </tr>\n",
       "    <tr>\n",
       "      <th>mean</th>\n",
       "      <td>0.449158</td>\n",
       "      <td>216.844162</td>\n",
       "      <td>31.184512</td>\n",
       "      <td>2.863300</td>\n",
       "      <td>0.461953</td>\n",
       "    </tr>\n",
       "    <tr>\n",
       "      <th>std</th>\n",
       "      <td>0.497576</td>\n",
       "      <td>172.893308</td>\n",
       "      <td>41.744518</td>\n",
       "      <td>9.418585</td>\n",
       "      <td>0.498718</td>\n",
       "    </tr>\n",
       "    <tr>\n",
       "      <th>min</th>\n",
       "      <td>0.000000</td>\n",
       "      <td>0.010000</td>\n",
       "      <td>0.000000</td>\n",
       "      <td>0.000000</td>\n",
       "      <td>0.000000</td>\n",
       "    </tr>\n",
       "    <tr>\n",
       "      <th>25%</th>\n",
       "      <td>0.000000</td>\n",
       "      <td>80.000000</td>\n",
       "      <td>0.000000</td>\n",
       "      <td>0.000000</td>\n",
       "      <td>0.000000</td>\n",
       "    </tr>\n",
       "    <tr>\n",
       "      <th>50%</th>\n",
       "      <td>0.000000</td>\n",
       "      <td>198.000000</td>\n",
       "      <td>0.000000</td>\n",
       "      <td>0.000000</td>\n",
       "      <td>0.000000</td>\n",
       "    </tr>\n",
       "    <tr>\n",
       "      <th>75%</th>\n",
       "      <td>1.000000</td>\n",
       "      <td>310.000000</td>\n",
       "      <td>79.000000</td>\n",
       "      <td>2.000000</td>\n",
       "      <td>1.000000</td>\n",
       "    </tr>\n",
       "    <tr>\n",
       "      <th>max</th>\n",
       "      <td>1.000000</td>\n",
       "      <td>999.000000</td>\n",
       "      <td>111.000000</td>\n",
       "      <td>81.000000</td>\n",
       "      <td>1.000000</td>\n",
       "    </tr>\n",
       "  </tbody>\n",
       "</table>\n",
       "</div>"
      ],
      "text/plain": [
       "          BuyItNow   startprice  charCountDescription  upperCaseDescription  \\\n",
       "count  1485.000000  1485.000000           1485.000000           1485.000000   \n",
       "mean      0.449158   216.844162             31.184512              2.863300   \n",
       "std       0.497576   172.893308             41.744518              9.418585   \n",
       "min       0.000000     0.010000              0.000000              0.000000   \n",
       "25%       0.000000    80.000000              0.000000              0.000000   \n",
       "50%       0.000000   198.000000              0.000000              0.000000   \n",
       "75%       1.000000   310.000000             79.000000              2.000000   \n",
       "max       1.000000   999.000000            111.000000             81.000000   \n",
       "\n",
       "              sold  \n",
       "count  1485.000000  \n",
       "mean      0.461953  \n",
       "std       0.498718  \n",
       "min       0.000000  \n",
       "25%       0.000000  \n",
       "50%       0.000000  \n",
       "75%       1.000000  \n",
       "max       1.000000  "
      ]
     },
     "execution_count": 4,
     "metadata": {},
     "output_type": "execute_result"
    }
   ],
   "source": [
    "data.describe()"
   ]
  },
  {
   "cell_type": "code",
   "execution_count": 5,
   "id": "08d51ef2-a183-4491-b39c-56aeaa2052c2",
   "metadata": {},
   "outputs": [
    {
     "data": {
      "text/html": [
       "<div>\n",
       "<style scoped>\n",
       "    .dataframe tbody tr th:only-of-type {\n",
       "        vertical-align: middle;\n",
       "    }\n",
       "\n",
       "    .dataframe tbody tr th {\n",
       "        vertical-align: top;\n",
       "    }\n",
       "\n",
       "    .dataframe thead th {\n",
       "        text-align: right;\n",
       "    }\n",
       "</style>\n",
       "<table border=\"1\" class=\"dataframe\">\n",
       "  <thead>\n",
       "    <tr style=\"text-align: right;\">\n",
       "      <th></th>\n",
       "      <th>BuyItNow</th>\n",
       "      <th>startprice</th>\n",
       "      <th>carrier</th>\n",
       "      <th>color</th>\n",
       "      <th>productline</th>\n",
       "      <th>noDescription</th>\n",
       "      <th>charCountDescription</th>\n",
       "      <th>upperCaseDescription</th>\n",
       "      <th>sold</th>\n",
       "    </tr>\n",
       "  </thead>\n",
       "  <tbody>\n",
       "    <tr>\n",
       "      <th>0</th>\n",
       "      <td>False</td>\n",
       "      <td>False</td>\n",
       "      <td>True</td>\n",
       "      <td>False</td>\n",
       "      <td>False</td>\n",
       "      <td>False</td>\n",
       "      <td>False</td>\n",
       "      <td>False</td>\n",
       "      <td>False</td>\n",
       "    </tr>\n",
       "    <tr>\n",
       "      <th>1</th>\n",
       "      <td>False</td>\n",
       "      <td>False</td>\n",
       "      <td>True</td>\n",
       "      <td>True</td>\n",
       "      <td>False</td>\n",
       "      <td>False</td>\n",
       "      <td>False</td>\n",
       "      <td>False</td>\n",
       "      <td>False</td>\n",
       "    </tr>\n",
       "    <tr>\n",
       "      <th>2</th>\n",
       "      <td>False</td>\n",
       "      <td>False</td>\n",
       "      <td>True</td>\n",
       "      <td>True</td>\n",
       "      <td>False</td>\n",
       "      <td>False</td>\n",
       "      <td>False</td>\n",
       "      <td>False</td>\n",
       "      <td>False</td>\n",
       "    </tr>\n",
       "    <tr>\n",
       "      <th>3</th>\n",
       "      <td>False</td>\n",
       "      <td>False</td>\n",
       "      <td>False</td>\n",
       "      <td>False</td>\n",
       "      <td>False</td>\n",
       "      <td>False</td>\n",
       "      <td>False</td>\n",
       "      <td>False</td>\n",
       "      <td>False</td>\n",
       "    </tr>\n",
       "    <tr>\n",
       "      <th>4</th>\n",
       "      <td>False</td>\n",
       "      <td>False</td>\n",
       "      <td>True</td>\n",
       "      <td>False</td>\n",
       "      <td>False</td>\n",
       "      <td>False</td>\n",
       "      <td>False</td>\n",
       "      <td>False</td>\n",
       "      <td>False</td>\n",
       "    </tr>\n",
       "    <tr>\n",
       "      <th>...</th>\n",
       "      <td>...</td>\n",
       "      <td>...</td>\n",
       "      <td>...</td>\n",
       "      <td>...</td>\n",
       "      <td>...</td>\n",
       "      <td>...</td>\n",
       "      <td>...</td>\n",
       "      <td>...</td>\n",
       "      <td>...</td>\n",
       "    </tr>\n",
       "    <tr>\n",
       "      <th>1480</th>\n",
       "      <td>False</td>\n",
       "      <td>False</td>\n",
       "      <td>False</td>\n",
       "      <td>True</td>\n",
       "      <td>False</td>\n",
       "      <td>False</td>\n",
       "      <td>False</td>\n",
       "      <td>False</td>\n",
       "      <td>False</td>\n",
       "    </tr>\n",
       "    <tr>\n",
       "      <th>1481</th>\n",
       "      <td>False</td>\n",
       "      <td>False</td>\n",
       "      <td>True</td>\n",
       "      <td>False</td>\n",
       "      <td>False</td>\n",
       "      <td>False</td>\n",
       "      <td>False</td>\n",
       "      <td>False</td>\n",
       "      <td>False</td>\n",
       "    </tr>\n",
       "    <tr>\n",
       "      <th>1482</th>\n",
       "      <td>False</td>\n",
       "      <td>False</td>\n",
       "      <td>True</td>\n",
       "      <td>False</td>\n",
       "      <td>False</td>\n",
       "      <td>False</td>\n",
       "      <td>False</td>\n",
       "      <td>False</td>\n",
       "      <td>False</td>\n",
       "    </tr>\n",
       "    <tr>\n",
       "      <th>1483</th>\n",
       "      <td>False</td>\n",
       "      <td>False</td>\n",
       "      <td>True</td>\n",
       "      <td>False</td>\n",
       "      <td>False</td>\n",
       "      <td>False</td>\n",
       "      <td>False</td>\n",
       "      <td>False</td>\n",
       "      <td>False</td>\n",
       "    </tr>\n",
       "    <tr>\n",
       "      <th>1484</th>\n",
       "      <td>False</td>\n",
       "      <td>False</td>\n",
       "      <td>False</td>\n",
       "      <td>False</td>\n",
       "      <td>False</td>\n",
       "      <td>False</td>\n",
       "      <td>False</td>\n",
       "      <td>False</td>\n",
       "      <td>False</td>\n",
       "    </tr>\n",
       "  </tbody>\n",
       "</table>\n",
       "<p>1485 rows × 9 columns</p>\n",
       "</div>"
      ],
      "text/plain": [
       "      BuyItNow  startprice  carrier  color  productline  noDescription  \\\n",
       "0        False       False     True  False        False          False   \n",
       "1        False       False     True   True        False          False   \n",
       "2        False       False     True   True        False          False   \n",
       "3        False       False    False  False        False          False   \n",
       "4        False       False     True  False        False          False   \n",
       "...        ...         ...      ...    ...          ...            ...   \n",
       "1480     False       False    False   True        False          False   \n",
       "1481     False       False     True  False        False          False   \n",
       "1482     False       False     True  False        False          False   \n",
       "1483     False       False     True  False        False          False   \n",
       "1484     False       False    False  False        False          False   \n",
       "\n",
       "      charCountDescription  upperCaseDescription   sold  \n",
       "0                    False                 False  False  \n",
       "1                    False                 False  False  \n",
       "2                    False                 False  False  \n",
       "3                    False                 False  False  \n",
       "4                    False                 False  False  \n",
       "...                    ...                   ...    ...  \n",
       "1480                 False                 False  False  \n",
       "1481                 False                 False  False  \n",
       "1482                 False                 False  False  \n",
       "1483                 False                 False  False  \n",
       "1484                 False                 False  False  \n",
       "\n",
       "[1485 rows x 9 columns]"
      ]
     },
     "execution_count": 5,
     "metadata": {},
     "output_type": "execute_result"
    }
   ],
   "source": [
    "data.isna()"
   ]
  },
  {
   "cell_type": "code",
   "execution_count": 6,
   "id": "9a840d2d-44e6-4222-9c4e-ff8947bf87d1",
   "metadata": {},
   "outputs": [
    {
     "data": {
      "text/plain": [
       "BuyItNow                   0\n",
       "startprice                 0\n",
       "carrier                 1169\n",
       "color                    593\n",
       "productline                0\n",
       "noDescription              0\n",
       "charCountDescription       0\n",
       "upperCaseDescription       0\n",
       "sold                       0\n",
       "dtype: int64"
      ]
     },
     "execution_count": 6,
     "metadata": {},
     "output_type": "execute_result"
    }
   ],
   "source": [
    "data.isna().sum()"
   ]
  },
  {
   "cell_type": "code",
   "execution_count": 7,
   "id": "a21d4867-5b1b-4c4c-8db7-56e7e66a719d",
   "metadata": {},
   "outputs": [
    {
     "data": {
      "text/html": [
       "<div>\n",
       "<style scoped>\n",
       "    .dataframe tbody tr th:only-of-type {\n",
       "        vertical-align: middle;\n",
       "    }\n",
       "\n",
       "    .dataframe tbody tr th {\n",
       "        vertical-align: top;\n",
       "    }\n",
       "\n",
       "    .dataframe thead th {\n",
       "        text-align: right;\n",
       "    }\n",
       "</style>\n",
       "<table border=\"1\" class=\"dataframe\">\n",
       "  <thead>\n",
       "    <tr style=\"text-align: right;\">\n",
       "      <th></th>\n",
       "      <th>BuyItNow</th>\n",
       "      <th>startprice</th>\n",
       "      <th>carrier</th>\n",
       "      <th>color</th>\n",
       "      <th>productline</th>\n",
       "      <th>noDescription</th>\n",
       "      <th>charCountDescription</th>\n",
       "      <th>upperCaseDescription</th>\n",
       "      <th>sold</th>\n",
       "    </tr>\n",
       "  </thead>\n",
       "  <tbody>\n",
       "    <tr>\n",
       "      <th>0</th>\n",
       "      <td>0</td>\n",
       "      <td>199.99</td>\n",
       "      <td>NaN</td>\n",
       "      <td>White</td>\n",
       "      <td>Galaxy_S9</td>\n",
       "      <td>contains description</td>\n",
       "      <td>0</td>\n",
       "      <td>0</td>\n",
       "      <td>1</td>\n",
       "    </tr>\n",
       "    <tr>\n",
       "      <th>1</th>\n",
       "      <td>0</td>\n",
       "      <td>235.00</td>\n",
       "      <td>NaN</td>\n",
       "      <td>NaN</td>\n",
       "      <td>Galaxy_Note9</td>\n",
       "      <td>contains description</td>\n",
       "      <td>0</td>\n",
       "      <td>0</td>\n",
       "      <td>0</td>\n",
       "    </tr>\n",
       "    <tr>\n",
       "      <th>2</th>\n",
       "      <td>0</td>\n",
       "      <td>199.99</td>\n",
       "      <td>NaN</td>\n",
       "      <td>NaN</td>\n",
       "      <td>Unknown</td>\n",
       "      <td>no description</td>\n",
       "      <td>100</td>\n",
       "      <td>2</td>\n",
       "      <td>0</td>\n",
       "    </tr>\n",
       "    <tr>\n",
       "      <th>3</th>\n",
       "      <td>1</td>\n",
       "      <td>175.00</td>\n",
       "      <td>AT&amp;T</td>\n",
       "      <td>Space Gray</td>\n",
       "      <td>Galaxy_Note9</td>\n",
       "      <td>contains description</td>\n",
       "      <td>0</td>\n",
       "      <td>0</td>\n",
       "      <td>1</td>\n",
       "    </tr>\n",
       "    <tr>\n",
       "      <th>4</th>\n",
       "      <td>1</td>\n",
       "      <td>100.00</td>\n",
       "      <td>NaN</td>\n",
       "      <td>Space Gray</td>\n",
       "      <td>Galaxy_S8</td>\n",
       "      <td>contains description</td>\n",
       "      <td>0</td>\n",
       "      <td>0</td>\n",
       "      <td>1</td>\n",
       "    </tr>\n",
       "    <tr>\n",
       "      <th>...</th>\n",
       "      <td>...</td>\n",
       "      <td>...</td>\n",
       "      <td>...</td>\n",
       "      <td>...</td>\n",
       "      <td>...</td>\n",
       "      <td>...</td>\n",
       "      <td>...</td>\n",
       "      <td>...</td>\n",
       "      <td>...</td>\n",
       "    </tr>\n",
       "    <tr>\n",
       "      <th>1480</th>\n",
       "      <td>0</td>\n",
       "      <td>89.50</td>\n",
       "      <td>AT&amp;T</td>\n",
       "      <td>NaN</td>\n",
       "      <td>Galaxy_S7</td>\n",
       "      <td>no description</td>\n",
       "      <td>96</td>\n",
       "      <td>2</td>\n",
       "      <td>0</td>\n",
       "    </tr>\n",
       "    <tr>\n",
       "      <th>1481</th>\n",
       "      <td>0</td>\n",
       "      <td>239.95</td>\n",
       "      <td>NaN</td>\n",
       "      <td>Midnight Black</td>\n",
       "      <td>Galaxy_S9</td>\n",
       "      <td>no description</td>\n",
       "      <td>97</td>\n",
       "      <td>5</td>\n",
       "      <td>1</td>\n",
       "    </tr>\n",
       "    <tr>\n",
       "      <th>1482</th>\n",
       "      <td>0</td>\n",
       "      <td>329.99</td>\n",
       "      <td>NaN</td>\n",
       "      <td>Space Gray</td>\n",
       "      <td>Galaxy_Note10</td>\n",
       "      <td>no description</td>\n",
       "      <td>93</td>\n",
       "      <td>1</td>\n",
       "      <td>0</td>\n",
       "    </tr>\n",
       "    <tr>\n",
       "      <th>1483</th>\n",
       "      <td>0</td>\n",
       "      <td>89.00</td>\n",
       "      <td>NaN</td>\n",
       "      <td>Midnight Black</td>\n",
       "      <td>Galaxy_S7</td>\n",
       "      <td>no description</td>\n",
       "      <td>92</td>\n",
       "      <td>2</td>\n",
       "      <td>1</td>\n",
       "    </tr>\n",
       "    <tr>\n",
       "      <th>1484</th>\n",
       "      <td>0</td>\n",
       "      <td>119.99</td>\n",
       "      <td>AT&amp;T</td>\n",
       "      <td>Midnight Black</td>\n",
       "      <td>Galaxy_S7</td>\n",
       "      <td>no description</td>\n",
       "      <td>96</td>\n",
       "      <td>5</td>\n",
       "      <td>0</td>\n",
       "    </tr>\n",
       "  </tbody>\n",
       "</table>\n",
       "<p>1485 rows × 9 columns</p>\n",
       "</div>"
      ],
      "text/plain": [
       "      BuyItNow  startprice carrier           color    productline  \\\n",
       "0            0      199.99     NaN           White      Galaxy_S9   \n",
       "1            0      235.00     NaN             NaN   Galaxy_Note9   \n",
       "2            0      199.99     NaN             NaN        Unknown   \n",
       "3            1      175.00    AT&T      Space Gray   Galaxy_Note9   \n",
       "4            1      100.00     NaN      Space Gray      Galaxy_S8   \n",
       "...        ...         ...     ...             ...            ...   \n",
       "1480         0       89.50    AT&T             NaN      Galaxy_S7   \n",
       "1481         0      239.95     NaN  Midnight Black      Galaxy_S9   \n",
       "1482         0      329.99     NaN      Space Gray  Galaxy_Note10   \n",
       "1483         0       89.00     NaN  Midnight Black      Galaxy_S7   \n",
       "1484         0      119.99    AT&T  Midnight Black      Galaxy_S7   \n",
       "\n",
       "             noDescription  charCountDescription  upperCaseDescription  sold  \n",
       "0     contains description                     0                     0     1  \n",
       "1     contains description                     0                     0     0  \n",
       "2           no description                   100                     2     0  \n",
       "3     contains description                     0                     0     1  \n",
       "4     contains description                     0                     0     1  \n",
       "...                    ...                   ...                   ...   ...  \n",
       "1480        no description                    96                     2     0  \n",
       "1481        no description                    97                     5     1  \n",
       "1482        no description                    93                     1     0  \n",
       "1483        no description                    92                     2     1  \n",
       "1484        no description                    96                     5     0  \n",
       "\n",
       "[1485 rows x 9 columns]"
      ]
     },
     "execution_count": 7,
     "metadata": {},
     "output_type": "execute_result"
    }
   ],
   "source": [
    "data"
   ]
  },
  {
   "cell_type": "markdown",
   "id": "7992f8ba-e74f-46eb-aa32-58800e9bb2b3",
   "metadata": {},
   "source": [
    "# ------------------------------------------------------------------------"
   ]
  },
  {
   "cell_type": "code",
   "execution_count": null,
   "id": "b4525700-458b-46c6-afff-06c20be9a12b",
   "metadata": {},
   "outputs": [],
   "source": []
  },
  {
   "cell_type": "code",
   "execution_count": 8,
   "id": "6291d1ab-9bb7-47c7-84af-2b7dda4a8046",
   "metadata": {},
   "outputs": [
    {
     "data": {
      "text/plain": [
       "BuyItNow  sold\n",
       "0         0       639\n",
       "          1       179\n",
       "1         0       160\n",
       "          1       507\n",
       "Name: count, dtype: int64"
      ]
     },
     "execution_count": 8,
     "metadata": {},
     "output_type": "execute_result"
    }
   ],
   "source": [
    "data[['sold', 'BuyItNow']].groupby('BuyItNow').value_counts(sort = False)"
   ]
  },
  {
   "cell_type": "code",
   "execution_count": 9,
   "id": "905f6ae3-f7b2-4d8a-8ba4-bd505c56acff",
   "metadata": {},
   "outputs": [
    {
     "data": {
      "text/plain": [
       "<Axes: xlabel='BuyItNow,sold'>"
      ]
     },
     "execution_count": 9,
     "metadata": {},
     "output_type": "execute_result"
    },
    {
     "data": {
      "image/png": "[encoded data removed]",
      "text/plain": [
       "<Figure size 640x480 with 1 Axes>"
      ]
     },
     "metadata": {},
     "output_type": "display_data"
    }
   ],
   "source": [
    "data[['sold', 'BuyItNow']].groupby('BuyItNow').value_counts(sort = False).plot(kind = 'bar')"
   ]
  },
  {
   "cell_type": "code",
   "execution_count": null,
   "id": "e721cd7f-9303-4888-8b3b-b3ec44e9c2a8",
   "metadata": {},
   "outputs": [],
   "source": []
  },
  {
   "cell_type": "code",
   "execution_count": null,
   "id": "85c7d0ec-d564-4010-bd3e-97990a2a33fc",
   "metadata": {},
   "outputs": [],
   "source": []
  },
  {
   "cell_type": "code",
   "execution_count": 8,
   "id": "8b5c6279-6497-455e-a953-94f5d71a0678",
   "metadata": {},
   "outputs": [
    {
     "data": {
      "text/plain": [
       "<Axes: >"
      ]
     },
     "execution_count": 8,
     "metadata": {},
     "output_type": "execute_result"
    },
    {
     "data": {
      "image/png": "[encoded data removed]",
      "text/plain": [
       "<Figure size 640x480 with 1 Axes>"
      ]
     },
     "metadata": {},
     "output_type": "display_data"
    }
   ],
   "source": [
    "data['startprice'].plot(kind = 'box')"
   ]
  },
  {
   "cell_type": "code",
   "execution_count": 9,
   "id": "c5b1be57-11b0-4fd9-81e2-ce5d4cb79a2e",
   "metadata": {},
   "outputs": [
    {
     "data": {
      "text/plain": [
       "count    1485.000000\n",
       "mean      216.844162\n",
       "std       172.893308\n",
       "min         0.010000\n",
       "25%        80.000000\n",
       "50%       198.000000\n",
       "75%       310.000000\n",
       "max       999.000000\n",
       "Name: startprice, dtype: float64"
      ]
     },
     "execution_count": 9,
     "metadata": {},
     "output_type": "execute_result"
    }
   ],
   "source": [
    "data['startprice'].describe()"
   ]
  },
  {
   "cell_type": "code",
   "execution_count": 10,
   "id": "1a5d2b7c-4820-492f-9445-d7d2ecb3300b",
   "metadata": {},
   "outputs": [
    {
     "name": "stdout",
     "output_type": "stream",
     "text": [
      "minimun : -265.0\n",
      "maximun : 655.0\n"
     ]
    }
   ],
   "source": [
    "# describe로 구한 Q1, Q3로 이상치 범위 구하기\n",
    "# 하위 이상값 : Q1(25%) - (1.5 * IQR(Q3-Q1))을 넘어가는 값\n",
    "# 상위 이상값 : Q3(75%) + (1.5 * IQR(Q3-Q1))을 넘어가는 값\n",
    "minimun = 80.000000 - (1.5 * (310.000000 - 80.000000))\n",
    "maximun = 310.000000 + (1.5 * (310.000000 - 80.000000))\n",
    "print(\"minimun :\", minimun)\n",
    "print(\"maximun :\", maximun)"
   ]
  },
  {
   "cell_type": "code",
   "execution_count": 11,
   "id": "26499fb4-c939-4a2a-9c4e-86d5dd703938",
   "metadata": {
    "scrolled": true
   },
   "outputs": [
    {
     "data": {
      "text/html": [
       "<div>\n",
       "<style scoped>\n",
       "    .dataframe tbody tr th:only-of-type {\n",
       "        vertical-align: middle;\n",
       "    }\n",
       "\n",
       "    .dataframe tbody tr th {\n",
       "        vertical-align: top;\n",
       "    }\n",
       "\n",
       "    .dataframe thead th {\n",
       "        text-align: right;\n",
       "    }\n",
       "</style>\n",
       "<table border=\"1\" class=\"dataframe\">\n",
       "  <thead>\n",
       "    <tr style=\"text-align: right;\">\n",
       "      <th></th>\n",
       "      <th>BuyItNow</th>\n",
       "      <th>startprice</th>\n",
       "      <th>carrier</th>\n",
       "      <th>color</th>\n",
       "      <th>productline</th>\n",
       "      <th>noDescription</th>\n",
       "      <th>charCountDescription</th>\n",
       "      <th>upperCaseDescription</th>\n",
       "      <th>sold</th>\n",
       "    </tr>\n",
       "  </thead>\n",
       "  <tbody>\n",
       "    <tr>\n",
       "      <th>468</th>\n",
       "      <td>0</td>\n",
       "      <td>699.95</td>\n",
       "      <td>NaN</td>\n",
       "      <td>Midnight Black</td>\n",
       "      <td>Galaxy_Note8</td>\n",
       "      <td>no description</td>\n",
       "      <td>83</td>\n",
       "      <td>3</td>\n",
       "      <td>0</td>\n",
       "    </tr>\n",
       "    <tr>\n",
       "      <th>505</th>\n",
       "      <td>0</td>\n",
       "      <td>785.00</td>\n",
       "      <td>Sprint/T-Mobile</td>\n",
       "      <td>Gold</td>\n",
       "      <td>Galaxy_Note10</td>\n",
       "      <td>contains description</td>\n",
       "      <td>0</td>\n",
       "      <td>0</td>\n",
       "      <td>0</td>\n",
       "    </tr>\n",
       "    <tr>\n",
       "      <th>617</th>\n",
       "      <td>1</td>\n",
       "      <td>800.00</td>\n",
       "      <td>NaN</td>\n",
       "      <td>Gold</td>\n",
       "      <td>Galaxy_Note10</td>\n",
       "      <td>contains description</td>\n",
       "      <td>0</td>\n",
       "      <td>0</td>\n",
       "      <td>0</td>\n",
       "    </tr>\n",
       "    <tr>\n",
       "      <th>703</th>\n",
       "      <td>0</td>\n",
       "      <td>795.99</td>\n",
       "      <td>AT&amp;T</td>\n",
       "      <td>Space Gray</td>\n",
       "      <td>Galaxy_Note10</td>\n",
       "      <td>contains description</td>\n",
       "      <td>0</td>\n",
       "      <td>0</td>\n",
       "      <td>0</td>\n",
       "    </tr>\n",
       "    <tr>\n",
       "      <th>714</th>\n",
       "      <td>0</td>\n",
       "      <td>660.00</td>\n",
       "      <td>NaN</td>\n",
       "      <td>White</td>\n",
       "      <td>Galaxy_Note10</td>\n",
       "      <td>contains description</td>\n",
       "      <td>0</td>\n",
       "      <td>0</td>\n",
       "      <td>0</td>\n",
       "    </tr>\n",
       "    <tr>\n",
       "      <th>730</th>\n",
       "      <td>0</td>\n",
       "      <td>675.00</td>\n",
       "      <td>NaN</td>\n",
       "      <td>White</td>\n",
       "      <td>Galaxy_Note10</td>\n",
       "      <td>contains description</td>\n",
       "      <td>0</td>\n",
       "      <td>0</td>\n",
       "      <td>1</td>\n",
       "    </tr>\n",
       "    <tr>\n",
       "      <th>742</th>\n",
       "      <td>0</td>\n",
       "      <td>829.99</td>\n",
       "      <td>NaN</td>\n",
       "      <td>Gold</td>\n",
       "      <td>Galaxy_Note10</td>\n",
       "      <td>contains description</td>\n",
       "      <td>0</td>\n",
       "      <td>0</td>\n",
       "      <td>0</td>\n",
       "    </tr>\n",
       "    <tr>\n",
       "      <th>766</th>\n",
       "      <td>0</td>\n",
       "      <td>900.00</td>\n",
       "      <td>NaN</td>\n",
       "      <td>NaN</td>\n",
       "      <td>Galaxy_Note10</td>\n",
       "      <td>contains description</td>\n",
       "      <td>0</td>\n",
       "      <td>0</td>\n",
       "      <td>0</td>\n",
       "    </tr>\n",
       "    <tr>\n",
       "      <th>791</th>\n",
       "      <td>0</td>\n",
       "      <td>720.12</td>\n",
       "      <td>AT&amp;T</td>\n",
       "      <td>NaN</td>\n",
       "      <td>Galaxy_S8</td>\n",
       "      <td>contains description</td>\n",
       "      <td>0</td>\n",
       "      <td>0</td>\n",
       "      <td>0</td>\n",
       "    </tr>\n",
       "    <tr>\n",
       "      <th>801</th>\n",
       "      <td>0</td>\n",
       "      <td>699.00</td>\n",
       "      <td>NaN</td>\n",
       "      <td>NaN</td>\n",
       "      <td>Galaxy_Note10</td>\n",
       "      <td>no description</td>\n",
       "      <td>12</td>\n",
       "      <td>0</td>\n",
       "      <td>0</td>\n",
       "    </tr>\n",
       "    <tr>\n",
       "      <th>925</th>\n",
       "      <td>0</td>\n",
       "      <td>789.00</td>\n",
       "      <td>NaN</td>\n",
       "      <td>Space Gray</td>\n",
       "      <td>Galaxy_Note10</td>\n",
       "      <td>contains description</td>\n",
       "      <td>0</td>\n",
       "      <td>0</td>\n",
       "      <td>0</td>\n",
       "    </tr>\n",
       "    <tr>\n",
       "      <th>943</th>\n",
       "      <td>0</td>\n",
       "      <td>679.95</td>\n",
       "      <td>NaN</td>\n",
       "      <td>NaN</td>\n",
       "      <td>Galaxy_Note10</td>\n",
       "      <td>contains description</td>\n",
       "      <td>0</td>\n",
       "      <td>0</td>\n",
       "      <td>0</td>\n",
       "    </tr>\n",
       "    <tr>\n",
       "      <th>958</th>\n",
       "      <td>0</td>\n",
       "      <td>749.00</td>\n",
       "      <td>Sprint/T-Mobile</td>\n",
       "      <td>NaN</td>\n",
       "      <td>Galaxy_Note10</td>\n",
       "      <td>contains description</td>\n",
       "      <td>0</td>\n",
       "      <td>0</td>\n",
       "      <td>0</td>\n",
       "    </tr>\n",
       "    <tr>\n",
       "      <th>966</th>\n",
       "      <td>0</td>\n",
       "      <td>679.99</td>\n",
       "      <td>NaN</td>\n",
       "      <td>NaN</td>\n",
       "      <td>Galaxy_Note10</td>\n",
       "      <td>contains description</td>\n",
       "      <td>0</td>\n",
       "      <td>0</td>\n",
       "      <td>0</td>\n",
       "    </tr>\n",
       "    <tr>\n",
       "      <th>996</th>\n",
       "      <td>0</td>\n",
       "      <td>670.00</td>\n",
       "      <td>AT&amp;T</td>\n",
       "      <td>NaN</td>\n",
       "      <td>Galaxy_Note10</td>\n",
       "      <td>contains description</td>\n",
       "      <td>0</td>\n",
       "      <td>0</td>\n",
       "      <td>0</td>\n",
       "    </tr>\n",
       "    <tr>\n",
       "      <th>1002</th>\n",
       "      <td>0</td>\n",
       "      <td>939.00</td>\n",
       "      <td>NaN</td>\n",
       "      <td>Gold</td>\n",
       "      <td>Galaxy_Note10</td>\n",
       "      <td>contains description</td>\n",
       "      <td>0</td>\n",
       "      <td>0</td>\n",
       "      <td>0</td>\n",
       "    </tr>\n",
       "    <tr>\n",
       "      <th>1029</th>\n",
       "      <td>0</td>\n",
       "      <td>798.00</td>\n",
       "      <td>NaN</td>\n",
       "      <td>Gold</td>\n",
       "      <td>Galaxy_Note10</td>\n",
       "      <td>contains description</td>\n",
       "      <td>0</td>\n",
       "      <td>0</td>\n",
       "      <td>0</td>\n",
       "    </tr>\n",
       "    <tr>\n",
       "      <th>1102</th>\n",
       "      <td>0</td>\n",
       "      <td>999.00</td>\n",
       "      <td>NaN</td>\n",
       "      <td>NaN</td>\n",
       "      <td>Galaxy_S8</td>\n",
       "      <td>contains description</td>\n",
       "      <td>0</td>\n",
       "      <td>0</td>\n",
       "      <td>0</td>\n",
       "    </tr>\n",
       "    <tr>\n",
       "      <th>1116</th>\n",
       "      <td>0</td>\n",
       "      <td>695.00</td>\n",
       "      <td>AT&amp;T</td>\n",
       "      <td>White</td>\n",
       "      <td>Galaxy_S9</td>\n",
       "      <td>contains description</td>\n",
       "      <td>0</td>\n",
       "      <td>0</td>\n",
       "      <td>0</td>\n",
       "    </tr>\n",
       "    <tr>\n",
       "      <th>1121</th>\n",
       "      <td>1</td>\n",
       "      <td>700.00</td>\n",
       "      <td>NaN</td>\n",
       "      <td>NaN</td>\n",
       "      <td>Unknown</td>\n",
       "      <td>contains description</td>\n",
       "      <td>0</td>\n",
       "      <td>0</td>\n",
       "      <td>0</td>\n",
       "    </tr>\n",
       "    <tr>\n",
       "      <th>1125</th>\n",
       "      <td>0</td>\n",
       "      <td>700.00</td>\n",
       "      <td>NaN</td>\n",
       "      <td>White</td>\n",
       "      <td>Unknown</td>\n",
       "      <td>contains description</td>\n",
       "      <td>0</td>\n",
       "      <td>0</td>\n",
       "      <td>0</td>\n",
       "    </tr>\n",
       "    <tr>\n",
       "      <th>1157</th>\n",
       "      <td>0</td>\n",
       "      <td>750.00</td>\n",
       "      <td>NaN</td>\n",
       "      <td>NaN</td>\n",
       "      <td>Galaxy_Note10</td>\n",
       "      <td>contains description</td>\n",
       "      <td>0</td>\n",
       "      <td>0</td>\n",
       "      <td>0</td>\n",
       "    </tr>\n",
       "    <tr>\n",
       "      <th>1176</th>\n",
       "      <td>1</td>\n",
       "      <td>729.99</td>\n",
       "      <td>NaN</td>\n",
       "      <td>White</td>\n",
       "      <td>Galaxy_Note10</td>\n",
       "      <td>contains description</td>\n",
       "      <td>0</td>\n",
       "      <td>0</td>\n",
       "      <td>0</td>\n",
       "    </tr>\n",
       "    <tr>\n",
       "      <th>1177</th>\n",
       "      <td>0</td>\n",
       "      <td>749.00</td>\n",
       "      <td>NaN</td>\n",
       "      <td>Gold</td>\n",
       "      <td>Galaxy_Note10</td>\n",
       "      <td>contains description</td>\n",
       "      <td>0</td>\n",
       "      <td>0</td>\n",
       "      <td>0</td>\n",
       "    </tr>\n",
       "    <tr>\n",
       "      <th>1207</th>\n",
       "      <td>0</td>\n",
       "      <td>730.00</td>\n",
       "      <td>NaN</td>\n",
       "      <td>White</td>\n",
       "      <td>Galaxy_Note10</td>\n",
       "      <td>contains description</td>\n",
       "      <td>0</td>\n",
       "      <td>0</td>\n",
       "      <td>0</td>\n",
       "    </tr>\n",
       "    <tr>\n",
       "      <th>1211</th>\n",
       "      <td>0</td>\n",
       "      <td>749.99</td>\n",
       "      <td>NaN</td>\n",
       "      <td>Space Gray</td>\n",
       "      <td>Galaxy_Note10</td>\n",
       "      <td>contains description</td>\n",
       "      <td>0</td>\n",
       "      <td>0</td>\n",
       "      <td>0</td>\n",
       "    </tr>\n",
       "    <tr>\n",
       "      <th>1226</th>\n",
       "      <td>0</td>\n",
       "      <td>710.00</td>\n",
       "      <td>NaN</td>\n",
       "      <td>Gold</td>\n",
       "      <td>Galaxy_Note10</td>\n",
       "      <td>contains description</td>\n",
       "      <td>0</td>\n",
       "      <td>0</td>\n",
       "      <td>0</td>\n",
       "    </tr>\n",
       "  </tbody>\n",
       "</table>\n",
       "</div>"
      ],
      "text/plain": [
       "      BuyItNow  startprice          carrier           color    productline  \\\n",
       "468          0      699.95              NaN  Midnight Black   Galaxy_Note8   \n",
       "505          0      785.00  Sprint/T-Mobile            Gold  Galaxy_Note10   \n",
       "617          1      800.00              NaN            Gold  Galaxy_Note10   \n",
       "703          0      795.99             AT&T      Space Gray  Galaxy_Note10   \n",
       "714          0      660.00              NaN           White  Galaxy_Note10   \n",
       "730          0      675.00              NaN           White  Galaxy_Note10   \n",
       "742          0      829.99              NaN            Gold  Galaxy_Note10   \n",
       "766          0      900.00              NaN             NaN  Galaxy_Note10   \n",
       "791          0      720.12             AT&T             NaN      Galaxy_S8   \n",
       "801          0      699.00              NaN             NaN  Galaxy_Note10   \n",
       "925          0      789.00              NaN      Space Gray  Galaxy_Note10   \n",
       "943          0      679.95              NaN             NaN  Galaxy_Note10   \n",
       "958          0      749.00  Sprint/T-Mobile             NaN  Galaxy_Note10   \n",
       "966          0      679.99              NaN             NaN  Galaxy_Note10   \n",
       "996          0      670.00             AT&T             NaN  Galaxy_Note10   \n",
       "1002         0      939.00              NaN            Gold  Galaxy_Note10   \n",
       "1029         0      798.00              NaN            Gold  Galaxy_Note10   \n",
       "1102         0      999.00              NaN             NaN      Galaxy_S8   \n",
       "1116         0      695.00             AT&T           White      Galaxy_S9   \n",
       "1121         1      700.00              NaN             NaN        Unknown   \n",
       "1125         0      700.00              NaN           White        Unknown   \n",
       "1157         0      750.00              NaN             NaN  Galaxy_Note10   \n",
       "1176         1      729.99              NaN           White  Galaxy_Note10   \n",
       "1177         0      749.00              NaN            Gold  Galaxy_Note10   \n",
       "1207         0      730.00              NaN           White  Galaxy_Note10   \n",
       "1211         0      749.99              NaN      Space Gray  Galaxy_Note10   \n",
       "1226         0      710.00              NaN            Gold  Galaxy_Note10   \n",
       "\n",
       "             noDescription  charCountDescription  upperCaseDescription  sold  \n",
       "468         no description                    83                     3     0  \n",
       "505   contains description                     0                     0     0  \n",
       "617   contains description                     0                     0     0  \n",
       "703   contains description                     0                     0     0  \n",
       "714   contains description                     0                     0     0  \n",
       "730   contains description                     0                     0     1  \n",
       "742   contains description                     0                     0     0  \n",
       "766   contains description                     0                     0     0  \n",
       "791   contains description                     0                     0     0  \n",
       "801         no description                    12                     0     0  \n",
       "925   contains description                     0                     0     0  \n",
       "943   contains description                     0                     0     0  \n",
       "958   contains description                     0                     0     0  \n",
       "966   contains description                     0                     0     0  \n",
       "996   contains description                     0                     0     0  \n",
       "1002  contains description                     0                     0     0  \n",
       "1029  contains description                     0                     0     0  \n",
       "1102  contains description                     0                     0     0  \n",
       "1116  contains description                     0                     0     0  \n",
       "1121  contains description                     0                     0     0  \n",
       "1125  contains description                     0                     0     0  \n",
       "1157  contains description                     0                     0     0  \n",
       "1176  contains description                     0                     0     0  \n",
       "1177  contains description                     0                     0     0  \n",
       "1207  contains description                     0                     0     0  \n",
       "1211  contains description                     0                     0     0  \n",
       "1226  contains description                     0                     0     0  "
      ]
     },
     "execution_count": 11,
     "metadata": {},
     "output_type": "execute_result"
    }
   ],
   "source": [
    "# 이상치 초과\n",
    "data[(data['startprice'] > 655.0)]"
   ]
  },
  {
   "cell_type": "code",
   "execution_count": 12,
   "id": "ac60850b-4a60-4772-a408-6b0b8021907d",
   "metadata": {},
   "outputs": [
    {
     "name": "stdout",
     "output_type": "stream",
     "text": [
      "count    1485.000000\n",
      "mean      215.027347\n",
      "std       167.306072\n",
      "min         0.010000\n",
      "25%        80.000000\n",
      "50%       198.000000\n",
      "75%       310.000000\n",
      "max       655.000000\n",
      "Name: startprice, dtype: float64\n"
     ]
    }
   ],
   "source": [
    "# 655보다 큰 값들을 655로 바꾸기\n",
    "data['startprice'] = data['startprice'].astype(float)  # 숫자로 변환\n",
    "data.loc[data['startprice'] > 655, 'startprice'] = 655  # 655보다 큰 값들을 655로 바꿈\n",
    "\n",
    "# 결과 확인\n",
    "print(data['startprice'].describe())"
   ]
  },
  {
   "cell_type": "code",
   "execution_count": 17,
   "id": "40db9dfc-4c21-4fea-8a11-104a5c8e9dc8",
   "metadata": {
    "scrolled": true
   },
   "outputs": [
    {
     "data": {
      "text/plain": [
       "0       199.99\n",
       "1       235.00\n",
       "2       199.99\n",
       "3       175.00\n",
       "4       100.00\n",
       "         ...  \n",
       "1480     89.50\n",
       "1481    239.95\n",
       "1482    329.99\n",
       "1483     89.00\n",
       "1484    119.99\n",
       "Name: startprice, Length: 1485, dtype: float64"
      ]
     },
     "execution_count": 17,
     "metadata": {},
     "output_type": "execute_result"
    }
   ],
   "source": [
    "data['startprice']"
   ]
  },
  {
   "cell_type": "code",
   "execution_count": 21,
   "id": "0ab6f8dc-7967-4025-95fc-aad47d8f458f",
   "metadata": {},
   "outputs": [
    {
     "data": {
      "text/plain": [
       "<Axes: >"
      ]
     },
     "execution_count": 21,
     "metadata": {},
     "output_type": "execute_result"
    },
    {
     "data": {
      "image/png": "[encoded data removed]",
      "text/plain": [
       "<Figure size 640x480 with 1 Axes>"
      ]
     },
     "metadata": {},
     "output_type": "display_data"
    }
   ],
   "source": [
    "data['startprice'].plot(kind = 'box')"
   ]
  },
  {
   "cell_type": "code",
   "execution_count": 23,
   "id": "68787b9e-1c02-47f9-aac7-d690a7e44d1f",
   "metadata": {},
   "outputs": [
    {
     "data": {
      "text/plain": [
       "count    1485.000000\n",
       "mean      215.027347\n",
       "std       167.306072\n",
       "min         0.010000\n",
       "25%        80.000000\n",
       "50%       198.000000\n",
       "75%       310.000000\n",
       "max       655.000000\n",
       "Name: startprice, dtype: float64"
      ]
     },
     "execution_count": 23,
     "metadata": {},
     "output_type": "execute_result"
    }
   ],
   "source": [
    "data['startprice'].describe()"
   ]
  },
  {
   "cell_type": "code",
   "execution_count": 24,
   "id": "d975d527-8939-4400-9110-b74c2f03d639",
   "metadata": {},
   "outputs": [
    {
     "data": {
      "text/plain": [
       "np.float64(655.0)"
      ]
     },
     "execution_count": 24,
     "metadata": {},
     "output_type": "execute_result"
    }
   ],
   "source": [
    "data['startprice'].max()"
   ]
  },
  {
   "cell_type": "code",
   "execution_count": null,
   "id": "8018fcec-f7c4-4796-9ab1-bd1154afb266",
   "metadata": {},
   "outputs": [],
   "source": []
  },
  {
   "cell_type": "code",
   "execution_count": 25,
   "id": "458d2a87-0eb7-40ea-9dd2-adf617922d44",
   "metadata": {},
   "outputs": [],
   "source": [
    "def startprice_num(x):\n",
    "    # 0-50\n",
    "    if x < 50:  \n",
    "        return 0\n",
    "    # 50-100\n",
    "    elif x < 100:\n",
    "        return 1\n",
    "    # 100-150    \n",
    "    elif x < 150:\n",
    "        return 2\n",
    "    # 150-200\n",
    "    elif x < 200:\n",
    "        return 3\n",
    "    # 200-250\n",
    "    elif x < 250:\n",
    "        return 4\n",
    "    # 250-300\n",
    "    elif x < 300:\n",
    "        return 5\n",
    "    # 300-350\n",
    "    elif x < 350:\n",
    "        return 6\n",
    "    # 350-400\n",
    "    elif x < 400:\n",
    "        return 7\n",
    "    # 400-450\n",
    "    elif x < 450:\n",
    "        return 8\n",
    "    # 450-500\n",
    "    elif x < 500:\n",
    "        return 9\n",
    "    # 500-550\n",
    "    elif x < 550:\n",
    "        return 10\n",
    "    # 550-600\n",
    "    elif x < 600:\n",
    "        return 11\n",
    "    # 600-650\n",
    "    elif x < 650:\n",
    "        return 12\n",
    "    # 650보다 크면\n",
    "    else:\n",
    "        return 20\n",
    "\n",
    "# 예시로 적용\n",
    "data['startprice'] = data['startprice'].apply(startprice_num)\n"
   ]
  },
  {
   "cell_type": "code",
   "execution_count": null,
   "id": "49b5b722-4159-4efb-b4c4-14d6e6df4738",
   "metadata": {},
   "outputs": [],
   "source": []
  },
  {
   "cell_type": "code",
   "execution_count": null,
   "id": "3c1910f1-24bc-48da-9e93-e4f89c24b30f",
   "metadata": {},
   "outputs": [],
   "source": []
  },
  {
   "cell_type": "code",
   "execution_count": null,
   "id": "0fb4c3b2-6b8c-4579-b79a-57fc862b1df2",
   "metadata": {},
   "outputs": [],
   "source": []
  },
  {
   "cell_type": "code",
   "execution_count": 26,
   "id": "252ccdd7-4bff-4bd3-97ff-0ee5bc320312",
   "metadata": {},
   "outputs": [
    {
     "data": {
      "text/plain": [
       "carrier          sold\n",
       "AT&T             0       101\n",
       "                 1        76\n",
       "Sprint/T-Mobile  0        28\n",
       "                 1        24\n",
       "Verizon          0        41\n",
       "                 1        46\n",
       "Name: count, dtype: int64"
      ]
     },
     "execution_count": 26,
     "metadata": {},
     "output_type": "execute_result"
    }
   ],
   "source": [
    "# 통신사\n",
    "data[['sold', 'carrier']].groupby('carrier').value_counts(sort = False)"
   ]
  },
  {
   "cell_type": "code",
   "execution_count": 27,
   "id": "6a918b1b-1f9a-4d2a-aa55-859acf2dfd4b",
   "metadata": {},
   "outputs": [
    {
     "data": {
      "text/plain": [
       "<Axes: xlabel='carrier,sold'>"
      ]
     },
     "execution_count": 27,
     "metadata": {},
     "output_type": "execute_result"
    },
    {
     "data": {
      "image/png": "[encoded data removed]",
      "text/plain": [
       "<Figure size 640x480 with 1 Axes>"
      ]
     },
     "metadata": {},
     "output_type": "display_data"
    }
   ],
   "source": [
    "data[['sold', 'carrier']].groupby('carrier').value_counts(sort = False).plot(kind = 'bar')"
   ]
  },
  {
   "cell_type": "code",
   "execution_count": null,
   "id": "3060a87b-b0de-4ecb-a0aa-cf2af82614c8",
   "metadata": {},
   "outputs": [],
   "source": []
  },
  {
   "cell_type": "code",
   "execution_count": 28,
   "id": "784101ac-7e39-451f-acf5-0954784ee317",
   "metadata": {},
   "outputs": [
    {
     "data": {
      "text/plain": [
       "color           sold\n",
       "Aura Black      0        13\n",
       "                1         6\n",
       "Black           0        22\n",
       "                1        16\n",
       "Gold            0        34\n",
       "                1        18\n",
       "Midnight Black  0       121\n",
       "                1       153\n",
       "Prism Black     0         1\n",
       "Space Gray      0        99\n",
       "                1        81\n",
       "White           0       185\n",
       "                1       143\n",
       "Name: count, dtype: int64"
      ]
     },
     "execution_count": 28,
     "metadata": {},
     "output_type": "execute_result"
    }
   ],
   "source": [
    "data[['sold', 'color']].groupby('color').value_counts(sort = False)"
   ]
  },
  {
   "cell_type": "code",
   "execution_count": 29,
   "id": "84702238-99a1-4866-9bc4-bf983681168c",
   "metadata": {},
   "outputs": [
    {
     "data": {
      "text/plain": [
       "<Axes: xlabel='color,sold'>"
      ]
     },
     "execution_count": 29,
     "metadata": {},
     "output_type": "execute_result"
    },
    {
     "data": {
      "image/png": "[encoded data removed]",
      "text/plain": [
       "<Figure size 640x480 with 1 Axes>"
      ]
     },
     "metadata": {},
     "output_type": "display_data"
    }
   ],
   "source": [
    "data[['sold', 'color']].groupby('color').value_counts(sort = False).plot(kind = 'bar')"
   ]
  },
  {
   "cell_type": "code",
   "execution_count": null,
   "id": "f4f8e6b3-674d-49f0-95b0-673ef38fc6ed",
   "metadata": {},
   "outputs": [],
   "source": []
  },
  {
   "cell_type": "code",
   "execution_count": null,
   "id": "8833fb2c-f549-4dcf-9d0d-122cb2f7045a",
   "metadata": {},
   "outputs": [],
   "source": []
  },
  {
   "cell_type": "code",
   "execution_count": 30,
   "id": "2bfa45ba-7c84-4f67-9a60-10d48fb8c052",
   "metadata": {},
   "outputs": [
    {
     "data": {
      "text/plain": [
       "productline    sold\n",
       "Galaxy_Note10  0       202\n",
       "               1       149\n",
       "Galaxy_Note8   0        73\n",
       "               1        80\n",
       "Galaxy_Note9   0        58\n",
       "               1        49\n",
       "Galaxy_S10     0         4\n",
       "               1         4\n",
       "Galaxy_S7      0       102\n",
       "               1       125\n",
       "Galaxy_S8      0       145\n",
       "               1       132\n",
       "Galaxy_S9      0        93\n",
       "               1        65\n",
       "Unknown        0       122\n",
       "               1        82\n",
       "Name: count, dtype: int64"
      ]
     },
     "execution_count": 30,
     "metadata": {},
     "output_type": "execute_result"
    }
   ],
   "source": [
    "data[['sold', 'productline']].groupby('productline').value_counts(sort = False)"
   ]
  },
  {
   "cell_type": "code",
   "execution_count": 31,
   "id": "9657c929-34e5-4a35-ad7d-985bdd4b75cf",
   "metadata": {},
   "outputs": [
    {
     "data": {
      "text/plain": [
       "<Axes: xlabel='productline,sold'>"
      ]
     },
     "execution_count": 31,
     "metadata": {},
     "output_type": "execute_result"
    },
    {
     "data": {
      "image/png": "[encoded data removed]",
      "text/plain": [
       "<Figure size 640x480 with 1 Axes>"
      ]
     },
     "metadata": {},
     "output_type": "display_data"
    }
   ],
   "source": [
    "data[['sold', 'productline']].groupby('productline').value_counts(sort = False).plot(kind = 'bar')"
   ]
  },
  {
   "cell_type": "code",
   "execution_count": null,
   "id": "ebc9a879-597e-4d4e-a14a-81ca488dc8f0",
   "metadata": {},
   "outputs": [],
   "source": []
  },
  {
   "cell_type": "code",
   "execution_count": null,
   "id": "d5ada599-acf7-4aeb-a83e-dfc11ad08daf",
   "metadata": {},
   "outputs": [],
   "source": []
  },
  {
   "cell_type": "code",
   "execution_count": 32,
   "id": "ef0a6423-69b2-4bd7-b8b1-3555efd0a434",
   "metadata": {},
   "outputs": [
    {
     "data": {
      "text/plain": [
       "noDescription         sold\n",
       "contains description  0       443\n",
       "                      1       413\n",
       "no description        0       356\n",
       "                      1       273\n",
       "Name: count, dtype: int64"
      ]
     },
     "execution_count": 32,
     "metadata": {},
     "output_type": "execute_result"
    }
   ],
   "source": [
    "data[['sold', 'noDescription']].groupby('noDescription').value_counts(sort = False)"
   ]
  },
  {
   "cell_type": "code",
   "execution_count": 33,
   "id": "e6d959e0-ec8b-4981-97c5-6af0c5e68645",
   "metadata": {},
   "outputs": [
    {
     "data": {
      "text/plain": [
       "<Axes: xlabel='noDescription,sold'>"
      ]
     },
     "execution_count": 33,
     "metadata": {},
     "output_type": "execute_result"
    },
    {
     "data": {
      "image/png": "[encoded data removed]",
      "text/plain": [
       "<Figure size 640x480 with 1 Axes>"
      ]
     },
     "metadata": {},
     "output_type": "display_data"
    }
   ],
   "source": [
    "data[['sold', 'noDescription']].groupby('noDescription').value_counts(sort = False).plot(kind = 'bar')"
   ]
  },
  {
   "cell_type": "code",
   "execution_count": null,
   "id": "ac75f2a9-957d-467d-94df-a7a92247e281",
   "metadata": {},
   "outputs": [],
   "source": []
  },
  {
   "cell_type": "code",
   "execution_count": null,
   "id": "dcc9857a-8f44-49d6-a837-89a5ee20493e",
   "metadata": {},
   "outputs": [],
   "source": []
  },
  {
   "cell_type": "code",
   "execution_count": 34,
   "id": "165b84f7-af8d-4523-bbfd-cdbbd6488f4e",
   "metadata": {},
   "outputs": [
    {
     "data": {
      "text/plain": [
       "charCountDescription  sold\n",
       "0                     0       443\n",
       "                      1       413\n",
       "3                     0         1\n",
       "4                     1         3\n",
       "5                     0         1\n",
       "                             ... \n",
       "106                   1         1\n",
       "108                   0         1\n",
       "                      1         1\n",
       "109                   1         1\n",
       "111                   1         1\n",
       "Name: count, Length: 175, dtype: int64"
      ]
     },
     "execution_count": 34,
     "metadata": {},
     "output_type": "execute_result"
    }
   ],
   "source": [
    "data[['sold', 'charCountDescription']].groupby('charCountDescription').value_counts(sort = False)"
   ]
  },
  {
   "cell_type": "code",
   "execution_count": 35,
   "id": "19fe264b-4416-464a-a82d-4d663806ee96",
   "metadata": {
    "scrolled": true
   },
   "outputs": [
    {
     "data": {
      "text/plain": [
       "<Axes: xlabel='charCountDescription,sold'>"
      ]
     },
     "execution_count": 35,
     "metadata": {},
     "output_type": "execute_result"
    },
    {
     "data": {
      "image/png": "[encoded data removed]",
      "text/plain": [
       "<Figure size 640x480 with 1 Axes>"
      ]
     },
     "metadata": {},
     "output_type": "display_data"
    }
   ],
   "source": [
    "data[['sold', 'charCountDescription']].groupby('charCountDescription').value_counts(sort = False).plot(kind = 'bar')"
   ]
  },
  {
   "cell_type": "code",
   "execution_count": 23,
   "id": "0ba82d8b-4db2-49ca-b4a1-d8a07c765ed3",
   "metadata": {
    "scrolled": true
   },
   "outputs": [
    {
     "data": {
      "text/plain": [
       "<Axes: ylabel='Frequency'>"
      ]
     },
     "execution_count": 23,
     "metadata": {},
     "output_type": "execute_result"
    },
    {
     "data": {
      "image/png": "[encoded data removed]",
      "text/plain": [
       "<Figure size 640x480 with 1 Axes>"
      ]
     },
     "metadata": {},
     "output_type": "display_data"
    }
   ],
   "source": [
    "data[['sold', 'charCountDescription']].groupby('charCountDescription').value_counts(sort = False).plot(kind = 'hist')"
   ]
  },
  {
   "cell_type": "code",
   "execution_count": 42,
   "id": "5c0fddb5-fd84-472b-9e36-5ba1633a261f",
   "metadata": {},
   "outputs": [
    {
     "data": {
      "text/plain": [
       "<Axes: ylabel='Frequency'>"
      ]
     },
     "execution_count": 42,
     "metadata": {},
     "output_type": "execute_result"
    },
    {
     "data": {
      "image/png": "[encoded data removed]",
      "text/plain": [
       "<Figure size 640x480 with 1 Axes>"
      ]
     },
     "metadata": {},
     "output_type": "display_data"
    }
   ],
   "source": [
    "data[data['charCountDescription'] <= 100][['sold', 'charCountDescription']].groupby('charCountDescription').value_counts(sort=False).plot(kind='hist', bins=range(0, 101, 10))"
   ]
  },
  {
   "cell_type": "code",
   "execution_count": 44,
   "id": "9c859198-6bdc-4994-b9ac-14ac32f26dd5",
   "metadata": {
    "scrolled": true
   },
   "outputs": [
    {
     "data": {
      "text/plain": [
       "<Axes: ylabel='Frequency'>"
      ]
     },
     "execution_count": 44,
     "metadata": {},
     "output_type": "execute_result"
    },
    {
     "data": {
      "image/png": "[encoded data removed]",
      "text/plain": [
       "<Figure size 640x480 with 1 Axes>"
      ]
     },
     "metadata": {},
     "output_type": "display_data"
    }
   ],
   "source": [
    "data[data['charCountDescription'] <= 100][['sold', 'charCountDescription']].groupby('charCountDescription').value_counts(sort=False).plot(kind='hist', bins=range(0, 40))"
   ]
  },
  {
   "cell_type": "code",
   "execution_count": 45,
   "id": "df4a0e60-9ab6-4e2b-b800-5233245204b6",
   "metadata": {
    "scrolled": true
   },
   "outputs": [
    {
     "data": {
      "text/plain": [
       "<Axes: xlabel='charCountDescription'>"
      ]
     },
     "execution_count": 45,
     "metadata": {},
     "output_type": "execute_result"
    },
    {
     "data": {
      "image/png": "[encoded data removed]",
      "text/plain": [
       "<Figure size 1200x600 with 1 Axes>"
      ]
     },
     "metadata": {},
     "output_type": "display_data"
    }
   ],
   "source": [
    "data[data['charCountDescription'] <= 100][['sold', 'charCountDescription']].groupby(['charCountDescription', 'sold']).size().unstack(fill_value=0).plot(kind='bar', stacked=True, figsize=(12, 6))"
   ]
  },
  {
   "cell_type": "code",
   "execution_count": null,
   "id": "2156ea4a-c8e5-43e4-9588-074e0a3a202a",
   "metadata": {},
   "outputs": [],
   "source": []
  },
  {
   "cell_type": "code",
   "execution_count": null,
   "id": "c959bcea-66f8-4841-8fde-03ef5798cde8",
   "metadata": {},
   "outputs": [],
   "source": []
  },
  {
   "cell_type": "code",
   "execution_count": 24,
   "id": "20acafe4-3f4b-4a0f-b048-40c7e83e5ee4",
   "metadata": {},
   "outputs": [
    {
     "data": {
      "text/plain": [
       "upperCaseDescription  sold\n",
       "0                     0       456\n",
       "                      1       434\n",
       "1                     0        65\n",
       "                      1        61\n",
       "2                     0        71\n",
       "                             ... \n",
       "76                    1         2\n",
       "77                    0         1\n",
       "78                    0         2\n",
       "80                    0         3\n",
       "81                    0         2\n",
       "Name: count, Length: 66, dtype: int64"
      ]
     },
     "execution_count": 24,
     "metadata": {},
     "output_type": "execute_result"
    }
   ],
   "source": [
    "data[['sold', 'upperCaseDescription']].groupby('upperCaseDescription').value_counts(sort = False)"
   ]
  },
  {
   "cell_type": "code",
   "execution_count": 25,
   "id": "aec6cda2-a5a4-4084-8408-2946b3c87464",
   "metadata": {},
   "outputs": [
    {
     "data": {
      "text/plain": [
       "<Axes: xlabel='upperCaseDescription,sold'>"
      ]
     },
     "execution_count": 25,
     "metadata": {},
     "output_type": "execute_result"
    },
    {
     "data": {
      "image/png": "[encoded data removed]",
      "text/plain": [
       "<Figure size 640x480 with 1 Axes>"
      ]
     },
     "metadata": {},
     "output_type": "display_data"
    }
   ],
   "source": [
    "data[['sold', 'upperCaseDescription']].groupby('upperCaseDescription').value_counts(sort = False).plot(kind = 'bar')"
   ]
  },
  {
   "cell_type": "code",
   "execution_count": null,
   "id": "55097868-ef4c-47cd-91c6-f932c0a09813",
   "metadata": {},
   "outputs": [],
   "source": []
  },
  {
   "cell_type": "code",
   "execution_count": 36,
   "id": "66d6067f-9a00-416e-b367-1956b7654f48",
   "metadata": {
    "scrolled": true
   },
   "outputs": [
    {
     "name": "stdout",
     "output_type": "stream",
     "text": [
      "<class 'pandas.core.frame.DataFrame'>\n",
      "RangeIndex: 1485 entries, 0 to 1484\n",
      "Data columns (total 9 columns):\n",
      " #   Column                Non-Null Count  Dtype \n",
      "---  ------                --------------  ----- \n",
      " 0   BuyItNow              1485 non-null   int64 \n",
      " 1   startprice            1485 non-null   int64 \n",
      " 2   carrier               316 non-null    object\n",
      " 3   color                 892 non-null    object\n",
      " 4   productline           1485 non-null   object\n",
      " 5   noDescription         1485 non-null   object\n",
      " 6   charCountDescription  1485 non-null   int64 \n",
      " 7   upperCaseDescription  1485 non-null   int64 \n",
      " 8   sold                  1485 non-null   int64 \n",
      "dtypes: int64(5), object(4)\n",
      "memory usage: 104.5+ KB\n"
     ]
    }
   ],
   "source": [
    "data.info()"
   ]
  },
  {
   "cell_type": "code",
   "execution_count": 37,
   "id": "53eb1f81-641b-466b-b7ac-4eb61f3b8f56",
   "metadata": {},
   "outputs": [
    {
     "data": {
      "text/plain": [
       "BuyItNow                 0.000000\n",
       "startprice               0.000000\n",
       "carrier                 78.720539\n",
       "color                   39.932660\n",
       "productline              0.000000\n",
       "noDescription            0.000000\n",
       "charCountDescription     0.000000\n",
       "upperCaseDescription     0.000000\n",
       "sold                     0.000000\n",
       "dtype: float64"
      ]
     },
     "execution_count": 37,
     "metadata": {},
     "output_type": "execute_result"
    }
   ],
   "source": [
    "# 결측치 비율\n",
    "data.isna().sum() / len(data) * 100"
   ]
  },
  {
   "cell_type": "code",
   "execution_count": 38,
   "id": "76e1c788-9bba-4e34-9ae2-6a2dcf0b955d",
   "metadata": {},
   "outputs": [],
   "source": [
    "# 결측치 70% 이상이므로 삭제\n",
    "del data['carrier']"
   ]
  },
  {
   "cell_type": "code",
   "execution_count": 39,
   "id": "92d1c5b5-8aa8-4b9b-baac-355bd63168bf",
   "metadata": {},
   "outputs": [
    {
     "data": {
      "text/html": [
       "<div>\n",
       "<style scoped>\n",
       "    .dataframe tbody tr th:only-of-type {\n",
       "        vertical-align: middle;\n",
       "    }\n",
       "\n",
       "    .dataframe tbody tr th {\n",
       "        vertical-align: top;\n",
       "    }\n",
       "\n",
       "    .dataframe thead th {\n",
       "        text-align: right;\n",
       "    }\n",
       "</style>\n",
       "<table border=\"1\" class=\"dataframe\">\n",
       "  <thead>\n",
       "    <tr style=\"text-align: right;\">\n",
       "      <th></th>\n",
       "      <th>BuyItNow</th>\n",
       "      <th>startprice</th>\n",
       "      <th>color</th>\n",
       "      <th>productline</th>\n",
       "      <th>noDescription</th>\n",
       "      <th>charCountDescription</th>\n",
       "      <th>upperCaseDescription</th>\n",
       "      <th>sold</th>\n",
       "    </tr>\n",
       "  </thead>\n",
       "  <tbody>\n",
       "    <tr>\n",
       "      <th>0</th>\n",
       "      <td>0</td>\n",
       "      <td>3</td>\n",
       "      <td>White</td>\n",
       "      <td>Galaxy_S9</td>\n",
       "      <td>contains description</td>\n",
       "      <td>0</td>\n",
       "      <td>0</td>\n",
       "      <td>1</td>\n",
       "    </tr>\n",
       "    <tr>\n",
       "      <th>1</th>\n",
       "      <td>0</td>\n",
       "      <td>4</td>\n",
       "      <td>NaN</td>\n",
       "      <td>Galaxy_Note9</td>\n",
       "      <td>contains description</td>\n",
       "      <td>0</td>\n",
       "      <td>0</td>\n",
       "      <td>0</td>\n",
       "    </tr>\n",
       "    <tr>\n",
       "      <th>2</th>\n",
       "      <td>0</td>\n",
       "      <td>3</td>\n",
       "      <td>NaN</td>\n",
       "      <td>Unknown</td>\n",
       "      <td>no description</td>\n",
       "      <td>100</td>\n",
       "      <td>2</td>\n",
       "      <td>0</td>\n",
       "    </tr>\n",
       "    <tr>\n",
       "      <th>3</th>\n",
       "      <td>1</td>\n",
       "      <td>3</td>\n",
       "      <td>Space Gray</td>\n",
       "      <td>Galaxy_Note9</td>\n",
       "      <td>contains description</td>\n",
       "      <td>0</td>\n",
       "      <td>0</td>\n",
       "      <td>1</td>\n",
       "    </tr>\n",
       "    <tr>\n",
       "      <th>4</th>\n",
       "      <td>1</td>\n",
       "      <td>2</td>\n",
       "      <td>Space Gray</td>\n",
       "      <td>Galaxy_S8</td>\n",
       "      <td>contains description</td>\n",
       "      <td>0</td>\n",
       "      <td>0</td>\n",
       "      <td>1</td>\n",
       "    </tr>\n",
       "    <tr>\n",
       "      <th>...</th>\n",
       "      <td>...</td>\n",
       "      <td>...</td>\n",
       "      <td>...</td>\n",
       "      <td>...</td>\n",
       "      <td>...</td>\n",
       "      <td>...</td>\n",
       "      <td>...</td>\n",
       "      <td>...</td>\n",
       "    </tr>\n",
       "    <tr>\n",
       "      <th>1480</th>\n",
       "      <td>0</td>\n",
       "      <td>1</td>\n",
       "      <td>NaN</td>\n",
       "      <td>Galaxy_S7</td>\n",
       "      <td>no description</td>\n",
       "      <td>96</td>\n",
       "      <td>2</td>\n",
       "      <td>0</td>\n",
       "    </tr>\n",
       "    <tr>\n",
       "      <th>1481</th>\n",
       "      <td>0</td>\n",
       "      <td>4</td>\n",
       "      <td>Midnight Black</td>\n",
       "      <td>Galaxy_S9</td>\n",
       "      <td>no description</td>\n",
       "      <td>97</td>\n",
       "      <td>5</td>\n",
       "      <td>1</td>\n",
       "    </tr>\n",
       "    <tr>\n",
       "      <th>1482</th>\n",
       "      <td>0</td>\n",
       "      <td>6</td>\n",
       "      <td>Space Gray</td>\n",
       "      <td>Galaxy_Note10</td>\n",
       "      <td>no description</td>\n",
       "      <td>93</td>\n",
       "      <td>1</td>\n",
       "      <td>0</td>\n",
       "    </tr>\n",
       "    <tr>\n",
       "      <th>1483</th>\n",
       "      <td>0</td>\n",
       "      <td>1</td>\n",
       "      <td>Midnight Black</td>\n",
       "      <td>Galaxy_S7</td>\n",
       "      <td>no description</td>\n",
       "      <td>92</td>\n",
       "      <td>2</td>\n",
       "      <td>1</td>\n",
       "    </tr>\n",
       "    <tr>\n",
       "      <th>1484</th>\n",
       "      <td>0</td>\n",
       "      <td>2</td>\n",
       "      <td>Midnight Black</td>\n",
       "      <td>Galaxy_S7</td>\n",
       "      <td>no description</td>\n",
       "      <td>96</td>\n",
       "      <td>5</td>\n",
       "      <td>0</td>\n",
       "    </tr>\n",
       "  </tbody>\n",
       "</table>\n",
       "<p>1485 rows × 8 columns</p>\n",
       "</div>"
      ],
      "text/plain": [
       "      BuyItNow  startprice           color    productline  \\\n",
       "0            0           3           White      Galaxy_S9   \n",
       "1            0           4             NaN   Galaxy_Note9   \n",
       "2            0           3             NaN        Unknown   \n",
       "3            1           3      Space Gray   Galaxy_Note9   \n",
       "4            1           2      Space Gray      Galaxy_S8   \n",
       "...        ...         ...             ...            ...   \n",
       "1480         0           1             NaN      Galaxy_S7   \n",
       "1481         0           4  Midnight Black      Galaxy_S9   \n",
       "1482         0           6      Space Gray  Galaxy_Note10   \n",
       "1483         0           1  Midnight Black      Galaxy_S7   \n",
       "1484         0           2  Midnight Black      Galaxy_S7   \n",
       "\n",
       "             noDescription  charCountDescription  upperCaseDescription  sold  \n",
       "0     contains description                     0                     0     1  \n",
       "1     contains description                     0                     0     0  \n",
       "2           no description                   100                     2     0  \n",
       "3     contains description                     0                     0     1  \n",
       "4     contains description                     0                     0     1  \n",
       "...                    ...                   ...                   ...   ...  \n",
       "1480        no description                    96                     2     0  \n",
       "1481        no description                    97                     5     1  \n",
       "1482        no description                    93                     1     0  \n",
       "1483        no description                    92                     2     1  \n",
       "1484        no description                    96                     5     0  \n",
       "\n",
       "[1485 rows x 8 columns]"
      ]
     },
     "execution_count": 39,
     "metadata": {},
     "output_type": "execute_result"
    }
   ],
   "source": [
    "data"
   ]
  },
  {
   "cell_type": "code",
   "execution_count": 40,
   "id": "a57f208d-a772-47b1-a70f-308076b6e6f3",
   "metadata": {},
   "outputs": [
    {
     "name": "stdout",
     "output_type": "stream",
     "text": [
      "<class 'pandas.core.frame.DataFrame'>\n",
      "RangeIndex: 1485 entries, 0 to 1484\n",
      "Data columns (total 8 columns):\n",
      " #   Column                Non-Null Count  Dtype \n",
      "---  ------                --------------  ----- \n",
      " 0   BuyItNow              1485 non-null   int64 \n",
      " 1   startprice            1485 non-null   int64 \n",
      " 2   color                 892 non-null    object\n",
      " 3   productline           1485 non-null   object\n",
      " 4   noDescription         1485 non-null   object\n",
      " 5   charCountDescription  1485 non-null   int64 \n",
      " 6   upperCaseDescription  1485 non-null   int64 \n",
      " 7   sold                  1485 non-null   int64 \n",
      "dtypes: int64(5), object(3)\n",
      "memory usage: 92.9+ KB\n"
     ]
    }
   ],
   "source": [
    "data.info()"
   ]
  },
  {
   "cell_type": "code",
   "execution_count": 102,
   "id": "7ba51608-309e-4d6d-a269-282ed5186c49",
   "metadata": {},
   "outputs": [
    {
     "data": {
      "text/plain": [
       "<Axes: >"
      ]
     },
     "execution_count": 102,
     "metadata": {},
     "output_type": "execute_result"
    },
    {
     "data": {
      "image/png": "[encoded data removed]",
      "text/plain": [
       "<Figure size 640x480 with 1 Axes>"
      ]
     },
     "metadata": {},
     "output_type": "display_data"
    }
   ],
   "source": [
    "data['BuyItNow'].plot(kind = 'box')"
   ]
  },
  {
   "cell_type": "code",
   "execution_count": 139,
   "id": "e0872cb2-a86f-4ce1-b290-be9f76c45f4b",
   "metadata": {},
   "outputs": [
    {
     "data": {
      "text/plain": [
       "<Axes: >"
      ]
     },
     "execution_count": 139,
     "metadata": {},
     "output_type": "execute_result"
    },
    {
     "data": {
      "image/png": "[encoded data removed]",
      "text/plain": [
       "<Figure size 640x480 with 1 Axes>"
      ]
     },
     "metadata": {},
     "output_type": "display_data"
    }
   ],
   "source": [
    "data['startprice'].plot(kind = 'box')"
   ]
  },
  {
   "cell_type": "code",
   "execution_count": 104,
   "id": "80cf4b95-0706-4c1e-b180-4ad5878eefd6",
   "metadata": {
    "scrolled": true
   },
   "outputs": [
    {
     "data": {
      "text/plain": [
       "<Axes: >"
      ]
     },
     "execution_count": 104,
     "metadata": {},
     "output_type": "execute_result"
    },
    {
     "data": {
      "image/png": "[encoded data removed]",
      "text/plain": [
       "<Figure size 640x480 with 1 Axes>"
      ]
     },
     "metadata": {},
     "output_type": "display_data"
    }
   ],
   "source": [
    "# 숫자가 아님\n",
    "data['color'].plot(kind = 'box')"
   ]
  },
  {
   "cell_type": "code",
   "execution_count": null,
   "id": "8b9cdb71-b2a3-4020-9540-ced9b93a50ea",
   "metadata": {
    "scrolled": true
   },
   "outputs": [],
   "source": [
    "data['productline'].plot(kind = 'box')"
   ]
  },
  {
   "cell_type": "code",
   "execution_count": null,
   "id": "fa1720a3-0cc4-4f30-9706-4042fc9b41d6",
   "metadata": {
    "scrolled": true
   },
   "outputs": [],
   "source": [
    "data['noDescription'].plot(kind = 'box')"
   ]
  },
  {
   "cell_type": "code",
   "execution_count": null,
   "id": "928abe81-258e-4992-8b2d-b871d3915088",
   "metadata": {},
   "outputs": [],
   "source": [
    "data['charCountDescription'].plot(kind = 'box')"
   ]
  },
  {
   "cell_type": "code",
   "execution_count": null,
   "id": "a48a1a7b-330b-44b2-9572-bec9e492433c",
   "metadata": {},
   "outputs": [],
   "source": [
    "data['upperCaseDescription'].plot(kind = 'box')"
   ]
  },
  {
   "cell_type": "code",
   "execution_count": null,
   "id": "39ba568e-17c0-4e41-b742-231aa9c77b65",
   "metadata": {},
   "outputs": [],
   "source": []
  },
  {
   "cell_type": "code",
   "execution_count": 34,
   "id": "9ecae94f-77f2-44fa-b6b3-06d0a7772233",
   "metadata": {},
   "outputs": [
    {
     "data": {
      "text/plain": [
       "0                White\n",
       "1                  NaN\n",
       "2                  NaN\n",
       "3           Space Gray\n",
       "4           Space Gray\n",
       "             ...      \n",
       "1480               NaN\n",
       "1481    Midnight Black\n",
       "1482        Space Gray\n",
       "1483    Midnight Black\n",
       "1484    Midnight Black\n",
       "Name: color, Length: 1485, dtype: object"
      ]
     },
     "execution_count": 34,
     "metadata": {},
     "output_type": "execute_result"
    }
   ],
   "source": [
    "data['color']"
   ]
  },
  {
   "cell_type": "code",
   "execution_count": 35,
   "id": "57548e8a-cca0-414b-9a13-bd8cc4e6862c",
   "metadata": {},
   "outputs": [
    {
     "data": {
      "text/plain": [
       "array(['White', nan, 'Space Gray', 'Midnight Black', 'Aura Black', 'Gold',\n",
       "       'Black', 'Prism Black'], dtype=object)"
      ]
     },
     "execution_count": 35,
     "metadata": {},
     "output_type": "execute_result"
    }
   ],
   "source": [
    "data['color'].unique()"
   ]
  },
  {
   "cell_type": "code",
   "execution_count": 36,
   "id": "fa97cb38-c862-4207-a9d6-6dfe0fedb2ce",
   "metadata": {},
   "outputs": [
    {
     "data": {
      "text/plain": [
       "7"
      ]
     },
     "execution_count": 36,
     "metadata": {},
     "output_type": "execute_result"
    }
   ],
   "source": [
    "data['color'].nunique()"
   ]
  },
  {
   "cell_type": "code",
   "execution_count": null,
   "id": "42bd82e3-4835-457c-8589-6cebf5e16b28",
   "metadata": {},
   "outputs": [],
   "source": []
  },
  {
   "cell_type": "code",
   "execution_count": 41,
   "id": "47250f91-d2b1-48c1-a4b8-3705199b179f",
   "metadata": {},
   "outputs": [],
   "source": [
    "data['color'] = data['color'].fillna('Unknown')"
   ]
  },
  {
   "cell_type": "code",
   "execution_count": 42,
   "id": "4acba91c-ff3a-4a99-b9fa-1bedce8d2a3d",
   "metadata": {},
   "outputs": [
    {
     "data": {
      "text/plain": [
       "color\n",
       "Unknown           593\n",
       "White             328\n",
       "Midnight Black    274\n",
       "Space Gray        180\n",
       "Gold               52\n",
       "Black              38\n",
       "Aura Black         19\n",
       "Prism Black         1\n",
       "Name: count, dtype: int64"
      ]
     },
     "execution_count": 42,
     "metadata": {},
     "output_type": "execute_result"
    }
   ],
   "source": [
    "data['color'].value_counts()"
   ]
  },
  {
   "cell_type": "code",
   "execution_count": null,
   "id": "0aa16f93-1f76-483c-a8f1-56a2a9f53c1a",
   "metadata": {},
   "outputs": [],
   "source": []
  },
  {
   "cell_type": "code",
   "execution_count": 43,
   "id": "fc377b4b-4895-4abe-b4a5-bd5286831ca9",
   "metadata": {},
   "outputs": [
    {
     "data": {
      "text/html": [
       "<div>\n",
       "<style scoped>\n",
       "    .dataframe tbody tr th:only-of-type {\n",
       "        vertical-align: middle;\n",
       "    }\n",
       "\n",
       "    .dataframe tbody tr th {\n",
       "        vertical-align: top;\n",
       "    }\n",
       "\n",
       "    .dataframe thead th {\n",
       "        text-align: right;\n",
       "    }\n",
       "</style>\n",
       "<table border=\"1\" class=\"dataframe\">\n",
       "  <thead>\n",
       "    <tr style=\"text-align: right;\">\n",
       "      <th></th>\n",
       "      <th>BuyItNow</th>\n",
       "      <th>startprice</th>\n",
       "      <th>color</th>\n",
       "      <th>productline</th>\n",
       "      <th>noDescription</th>\n",
       "      <th>charCountDescription</th>\n",
       "      <th>upperCaseDescription</th>\n",
       "      <th>sold</th>\n",
       "    </tr>\n",
       "  </thead>\n",
       "  <tbody>\n",
       "    <tr>\n",
       "      <th>0</th>\n",
       "      <td>0</td>\n",
       "      <td>3</td>\n",
       "      <td>White</td>\n",
       "      <td>Galaxy_S9</td>\n",
       "      <td>contains description</td>\n",
       "      <td>0</td>\n",
       "      <td>0</td>\n",
       "      <td>1</td>\n",
       "    </tr>\n",
       "    <tr>\n",
       "      <th>1</th>\n",
       "      <td>0</td>\n",
       "      <td>4</td>\n",
       "      <td>Unknown</td>\n",
       "      <td>Galaxy_Note9</td>\n",
       "      <td>contains description</td>\n",
       "      <td>0</td>\n",
       "      <td>0</td>\n",
       "      <td>0</td>\n",
       "    </tr>\n",
       "    <tr>\n",
       "      <th>2</th>\n",
       "      <td>0</td>\n",
       "      <td>3</td>\n",
       "      <td>Unknown</td>\n",
       "      <td>Unknown</td>\n",
       "      <td>no description</td>\n",
       "      <td>100</td>\n",
       "      <td>2</td>\n",
       "      <td>0</td>\n",
       "    </tr>\n",
       "    <tr>\n",
       "      <th>3</th>\n",
       "      <td>1</td>\n",
       "      <td>3</td>\n",
       "      <td>Space Gray</td>\n",
       "      <td>Galaxy_Note9</td>\n",
       "      <td>contains description</td>\n",
       "      <td>0</td>\n",
       "      <td>0</td>\n",
       "      <td>1</td>\n",
       "    </tr>\n",
       "    <tr>\n",
       "      <th>4</th>\n",
       "      <td>1</td>\n",
       "      <td>2</td>\n",
       "      <td>Space Gray</td>\n",
       "      <td>Galaxy_S8</td>\n",
       "      <td>contains description</td>\n",
       "      <td>0</td>\n",
       "      <td>0</td>\n",
       "      <td>1</td>\n",
       "    </tr>\n",
       "    <tr>\n",
       "      <th>...</th>\n",
       "      <td>...</td>\n",
       "      <td>...</td>\n",
       "      <td>...</td>\n",
       "      <td>...</td>\n",
       "      <td>...</td>\n",
       "      <td>...</td>\n",
       "      <td>...</td>\n",
       "      <td>...</td>\n",
       "    </tr>\n",
       "    <tr>\n",
       "      <th>1480</th>\n",
       "      <td>0</td>\n",
       "      <td>1</td>\n",
       "      <td>Unknown</td>\n",
       "      <td>Galaxy_S7</td>\n",
       "      <td>no description</td>\n",
       "      <td>96</td>\n",
       "      <td>2</td>\n",
       "      <td>0</td>\n",
       "    </tr>\n",
       "    <tr>\n",
       "      <th>1481</th>\n",
       "      <td>0</td>\n",
       "      <td>4</td>\n",
       "      <td>Midnight Black</td>\n",
       "      <td>Galaxy_S9</td>\n",
       "      <td>no description</td>\n",
       "      <td>97</td>\n",
       "      <td>5</td>\n",
       "      <td>1</td>\n",
       "    </tr>\n",
       "    <tr>\n",
       "      <th>1482</th>\n",
       "      <td>0</td>\n",
       "      <td>6</td>\n",
       "      <td>Space Gray</td>\n",
       "      <td>Galaxy_Note10</td>\n",
       "      <td>no description</td>\n",
       "      <td>93</td>\n",
       "      <td>1</td>\n",
       "      <td>0</td>\n",
       "    </tr>\n",
       "    <tr>\n",
       "      <th>1483</th>\n",
       "      <td>0</td>\n",
       "      <td>1</td>\n",
       "      <td>Midnight Black</td>\n",
       "      <td>Galaxy_S7</td>\n",
       "      <td>no description</td>\n",
       "      <td>92</td>\n",
       "      <td>2</td>\n",
       "      <td>1</td>\n",
       "    </tr>\n",
       "    <tr>\n",
       "      <th>1484</th>\n",
       "      <td>0</td>\n",
       "      <td>2</td>\n",
       "      <td>Midnight Black</td>\n",
       "      <td>Galaxy_S7</td>\n",
       "      <td>no description</td>\n",
       "      <td>96</td>\n",
       "      <td>5</td>\n",
       "      <td>0</td>\n",
       "    </tr>\n",
       "  </tbody>\n",
       "</table>\n",
       "<p>1485 rows × 8 columns</p>\n",
       "</div>"
      ],
      "text/plain": [
       "      BuyItNow  startprice           color    productline  \\\n",
       "0            0           3           White      Galaxy_S9   \n",
       "1            0           4         Unknown   Galaxy_Note9   \n",
       "2            0           3         Unknown        Unknown   \n",
       "3            1           3      Space Gray   Galaxy_Note9   \n",
       "4            1           2      Space Gray      Galaxy_S8   \n",
       "...        ...         ...             ...            ...   \n",
       "1480         0           1         Unknown      Galaxy_S7   \n",
       "1481         0           4  Midnight Black      Galaxy_S9   \n",
       "1482         0           6      Space Gray  Galaxy_Note10   \n",
       "1483         0           1  Midnight Black      Galaxy_S7   \n",
       "1484         0           2  Midnight Black      Galaxy_S7   \n",
       "\n",
       "             noDescription  charCountDescription  upperCaseDescription  sold  \n",
       "0     contains description                     0                     0     1  \n",
       "1     contains description                     0                     0     0  \n",
       "2           no description                   100                     2     0  \n",
       "3     contains description                     0                     0     1  \n",
       "4     contains description                     0                     0     1  \n",
       "...                    ...                   ...                   ...   ...  \n",
       "1480        no description                    96                     2     0  \n",
       "1481        no description                    97                     5     1  \n",
       "1482        no description                    93                     1     0  \n",
       "1483        no description                    92                     2     1  \n",
       "1484        no description                    96                     5     0  \n",
       "\n",
       "[1485 rows x 8 columns]"
      ]
     },
     "execution_count": 43,
     "metadata": {},
     "output_type": "execute_result"
    }
   ],
   "source": [
    "data"
   ]
  },
  {
   "cell_type": "code",
   "execution_count": 44,
   "id": "969bc416-e9b7-4182-9caa-0fb42d62b9d8",
   "metadata": {},
   "outputs": [
    {
     "name": "stdout",
     "output_type": "stream",
     "text": [
      "<class 'pandas.core.frame.DataFrame'>\n",
      "RangeIndex: 1485 entries, 0 to 1484\n",
      "Data columns (total 8 columns):\n",
      " #   Column                Non-Null Count  Dtype \n",
      "---  ------                --------------  ----- \n",
      " 0   BuyItNow              1485 non-null   int64 \n",
      " 1   startprice            1485 non-null   int64 \n",
      " 2   color                 1485 non-null   object\n",
      " 3   productline           1485 non-null   object\n",
      " 4   noDescription         1485 non-null   object\n",
      " 5   charCountDescription  1485 non-null   int64 \n",
      " 6   upperCaseDescription  1485 non-null   int64 \n",
      " 7   sold                  1485 non-null   int64 \n",
      "dtypes: int64(5), object(3)\n",
      "memory usage: 92.9+ KB\n"
     ]
    }
   ],
   "source": [
    "data.info()"
   ]
  },
  {
   "cell_type": "code",
   "execution_count": null,
   "id": "407d56e2-0ff6-4085-9470-7f7b811cc476",
   "metadata": {},
   "outputs": [],
   "source": []
  },
  {
   "cell_type": "code",
   "execution_count": 45,
   "id": "051dacbf-f201-44aa-8a1f-9d573f97d9a0",
   "metadata": {},
   "outputs": [],
   "source": [
    "# noDescription 잘못됨 -> charCountDescription 이거랑 반대임\n",
    "# 하지만 글자 수는 관계가 거의 없기 때문에 지우기\n",
    "del data['charCountDescription']"
   ]
  },
  {
   "cell_type": "code",
   "execution_count": 46,
   "id": "d4a1c4e8-58c5-49d0-997c-3ae7ac568b33",
   "metadata": {},
   "outputs": [
    {
     "name": "stdout",
     "output_type": "stream",
     "text": [
      "<class 'pandas.core.frame.DataFrame'>\n",
      "RangeIndex: 1485 entries, 0 to 1484\n",
      "Data columns (total 7 columns):\n",
      " #   Column                Non-Null Count  Dtype \n",
      "---  ------                --------------  ----- \n",
      " 0   BuyItNow              1485 non-null   int64 \n",
      " 1   startprice            1485 non-null   int64 \n",
      " 2   color                 1485 non-null   object\n",
      " 3   productline           1485 non-null   object\n",
      " 4   noDescription         1485 non-null   object\n",
      " 5   upperCaseDescription  1485 non-null   int64 \n",
      " 6   sold                  1485 non-null   int64 \n",
      "dtypes: int64(4), object(3)\n",
      "memory usage: 81.3+ KB\n"
     ]
    }
   ],
   "source": [
    "data.info()"
   ]
  },
  {
   "cell_type": "code",
   "execution_count": null,
   "id": "cc1fd7e3-ccb8-429f-911b-af474c0b53f7",
   "metadata": {},
   "outputs": [],
   "source": []
  },
  {
   "cell_type": "code",
   "execution_count": 47,
   "id": "253f627d-8efd-4cdf-aed1-fdc47ee9f5a5",
   "metadata": {},
   "outputs": [
    {
     "data": {
      "text/plain": [
       "0       0\n",
       "1       0\n",
       "2       2\n",
       "3       0\n",
       "4       0\n",
       "       ..\n",
       "1480    2\n",
       "1481    5\n",
       "1482    1\n",
       "1483    2\n",
       "1484    5\n",
       "Name: upperCaseDescription, Length: 1485, dtype: int64"
      ]
     },
     "execution_count": 47,
     "metadata": {},
     "output_type": "execute_result"
    }
   ],
   "source": [
    "data['upperCaseDescription']"
   ]
  },
  {
   "cell_type": "code",
   "execution_count": 48,
   "id": "705c2548-0e62-4d36-a8e8-3e06bcb9adc6",
   "metadata": {
    "scrolled": true
   },
   "outputs": [
    {
     "data": {
      "text/plain": [
       "upperCaseDescription\n",
       "0     890\n",
       "2     131\n",
       "1     126\n",
       "4      77\n",
       "3      71\n",
       "5      41\n",
       "6      21\n",
       "10     17\n",
       "7      15\n",
       "8      13\n",
       "15     11\n",
       "12      8\n",
       "9       6\n",
       "11      5\n",
       "14      4\n",
       "16      4\n",
       "26      3\n",
       "80      3\n",
       "76      3\n",
       "20      2\n",
       "41      2\n",
       "74      2\n",
       "22      2\n",
       "13      2\n",
       "78      2\n",
       "69      2\n",
       "81      2\n",
       "19      2\n",
       "18      2\n",
       "24      1\n",
       "54      1\n",
       "44      1\n",
       "33      1\n",
       "66      1\n",
       "30      1\n",
       "77      1\n",
       "73      1\n",
       "25      1\n",
       "53      1\n",
       "70      1\n",
       "34      1\n",
       "37      1\n",
       "58      1\n",
       "32      1\n",
       "17      1\n",
       "Name: count, dtype: int64"
      ]
     },
     "execution_count": 48,
     "metadata": {},
     "output_type": "execute_result"
    }
   ],
   "source": [
    "data['upperCaseDescription'].value_counts()"
   ]
  },
  {
   "cell_type": "code",
   "execution_count": 49,
   "id": "12da8022-a1b8-4abc-b567-1f59e694b476",
   "metadata": {},
   "outputs": [],
   "source": [
    "# upperCaseDescription : 몇 문장인지"
   ]
  },
  {
   "cell_type": "code",
   "execution_count": 50,
   "id": "b81cbe17-dda1-4ef0-998a-45d9f3db6618",
   "metadata": {},
   "outputs": [],
   "source": [
    "def upperCaseDescription_num(x):\n",
    "    if x == 0:\n",
    "        return 0\n",
    "    else:\n",
    "        return 1"
   ]
  },
  {
   "cell_type": "code",
   "execution_count": 51,
   "id": "23bf13b2-a652-40e0-9e80-f70c71697c1e",
   "metadata": {},
   "outputs": [],
   "source": [
    "data['upperCaseDescription'] = data['upperCaseDescription'].apply(upperCaseDescription_num)"
   ]
  },
  {
   "cell_type": "code",
   "execution_count": 52,
   "id": "6bf0c3d0-b970-4c67-a331-c214387186be",
   "metadata": {},
   "outputs": [
    {
     "data": {
      "text/plain": [
       "array([0, 1])"
      ]
     },
     "execution_count": 52,
     "metadata": {},
     "output_type": "execute_result"
    }
   ],
   "source": [
    "data['upperCaseDescription'].unique()"
   ]
  },
  {
   "cell_type": "code",
   "execution_count": 53,
   "id": "74d571e2-64da-47fb-aeb9-4f3eb2b3689c",
   "metadata": {},
   "outputs": [
    {
     "data": {
      "text/plain": [
       "0       0\n",
       "1       0\n",
       "2       1\n",
       "3       0\n",
       "4       0\n",
       "       ..\n",
       "1480    1\n",
       "1481    1\n",
       "1482    1\n",
       "1483    1\n",
       "1484    1\n",
       "Name: upperCaseDescription, Length: 1485, dtype: int64"
      ]
     },
     "execution_count": 53,
     "metadata": {},
     "output_type": "execute_result"
    }
   ],
   "source": [
    "data['upperCaseDescription']"
   ]
  },
  {
   "cell_type": "code",
   "execution_count": 54,
   "id": "397827ce-43ae-4bb8-b9fa-1fb0ed87b5c0",
   "metadata": {},
   "outputs": [
    {
     "name": "stdout",
     "output_type": "stream",
     "text": [
      "<class 'pandas.core.frame.DataFrame'>\n",
      "RangeIndex: 1485 entries, 0 to 1484\n",
      "Data columns (total 7 columns):\n",
      " #   Column                Non-Null Count  Dtype \n",
      "---  ------                --------------  ----- \n",
      " 0   BuyItNow              1485 non-null   int64 \n",
      " 1   startprice            1485 non-null   int64 \n",
      " 2   color                 1485 non-null   object\n",
      " 3   productline           1485 non-null   object\n",
      " 4   noDescription         1485 non-null   object\n",
      " 5   upperCaseDescription  1485 non-null   int64 \n",
      " 6   sold                  1485 non-null   int64 \n",
      "dtypes: int64(4), object(3)\n",
      "memory usage: 81.3+ KB\n"
     ]
    }
   ],
   "source": [
    "data.info()"
   ]
  },
  {
   "cell_type": "markdown",
   "id": "128cb36c-7b0b-4e5b-b985-4f126ca25f04",
   "metadata": {},
   "source": [
    "* BuyItNow : 바로 구매 할 수 있는지의 여부(즉시 구매)\n",
    "* startprice : 경매의 시작 가격\n",
    "* carrier : 통신사\n",
    "* color : 기기 색상\n",
    "* productline : 모델명\n",
    "* noDescription : 판매자가 설명을 썼는지 안썼는지\n",
    "* charCountDescriptio : 설명이 얼마나 긴지\n",
    "* upperCaseDescription : 몇 문장인지\n",
    "* sold : 팔렸는지 안팔렸는지 (우리가 알고자하는 종속변수)"
   ]
  },
  {
   "cell_type": "code",
   "execution_count": null,
   "id": "115c2ee4-2844-4bfd-985a-fad0cf5f68b5",
   "metadata": {},
   "outputs": [],
   "source": []
  },
  {
   "cell_type": "code",
   "execution_count": 55,
   "id": "e3b47d0a-0f1d-41ba-9808-449c49cc2122",
   "metadata": {},
   "outputs": [
    {
     "data": {
      "text/plain": [
       "np.int64(0)"
      ]
     },
     "execution_count": 55,
     "metadata": {},
     "output_type": "execute_result"
    }
   ],
   "source": [
    "data['noDescription'].isna().sum()"
   ]
  },
  {
   "cell_type": "code",
   "execution_count": 56,
   "id": "28848342-0ed6-4b9f-bc43-9c8a70ffebbc",
   "metadata": {},
   "outputs": [
    {
     "data": {
      "text/plain": [
       "0       contains description\n",
       "1       contains description\n",
       "2             no description\n",
       "3       contains description\n",
       "4       contains description\n",
       "                ...         \n",
       "1480          no description\n",
       "1481          no description\n",
       "1482          no description\n",
       "1483          no description\n",
       "1484          no description\n",
       "Name: noDescription, Length: 1485, dtype: object"
      ]
     },
     "execution_count": 56,
     "metadata": {},
     "output_type": "execute_result"
    }
   ],
   "source": [
    "data['noDescription']"
   ]
  },
  {
   "cell_type": "code",
   "execution_count": 57,
   "id": "62b3ac96-918f-4ffb-84e5-64487ca0dd1a",
   "metadata": {},
   "outputs": [],
   "source": [
    "def noDescription_num(x):\n",
    "    if x == 'contains description':\n",
    "        return 0;\n",
    "    else:\n",
    "        return 1;"
   ]
  },
  {
   "cell_type": "code",
   "execution_count": 58,
   "id": "27fc81e6-a074-40a9-94d2-fbdb7fa0d42d",
   "metadata": {},
   "outputs": [],
   "source": [
    "data['noDescription'] = data['noDescription'].apply(noDescription_num)"
   ]
  },
  {
   "cell_type": "code",
   "execution_count": 59,
   "id": "8ab85b6f-4afa-4d54-9462-298f10dde2ef",
   "metadata": {},
   "outputs": [
    {
     "data": {
      "text/plain": [
       "0       0\n",
       "1       0\n",
       "2       1\n",
       "3       0\n",
       "4       0\n",
       "       ..\n",
       "1480    1\n",
       "1481    1\n",
       "1482    1\n",
       "1483    1\n",
       "1484    1\n",
       "Name: noDescription, Length: 1485, dtype: int64"
      ]
     },
     "execution_count": 59,
     "metadata": {},
     "output_type": "execute_result"
    }
   ],
   "source": [
    "data['noDescription']"
   ]
  },
  {
   "cell_type": "code",
   "execution_count": 60,
   "id": "f7bb81a4-6a1b-467d-bcea-6d06504f6d6d",
   "metadata": {},
   "outputs": [
    {
     "data": {
      "text/plain": [
       "<Axes: xlabel='noDescription,sold'>"
      ]
     },
     "execution_count": 60,
     "metadata": {},
     "output_type": "execute_result"
    },
    {
     "data": {
      "image/png": "[encoded data removed]",
      "text/plain": [
       "<Figure size 640x480 with 1 Axes>"
      ]
     },
     "metadata": {},
     "output_type": "display_data"
    }
   ],
   "source": [
    "data[['sold', 'noDescription']].groupby('noDescription').value_counts(sort=False).plot(kind = 'bar')"
   ]
  },
  {
   "cell_type": "code",
   "execution_count": 61,
   "id": "94703608-9fd7-4954-844e-cf0972cb596c",
   "metadata": {},
   "outputs": [
    {
     "name": "stdout",
     "output_type": "stream",
     "text": [
      "<class 'pandas.core.frame.DataFrame'>\n",
      "RangeIndex: 1485 entries, 0 to 1484\n",
      "Data columns (total 7 columns):\n",
      " #   Column                Non-Null Count  Dtype \n",
      "---  ------                --------------  ----- \n",
      " 0   BuyItNow              1485 non-null   int64 \n",
      " 1   startprice            1485 non-null   int64 \n",
      " 2   color                 1485 non-null   object\n",
      " 3   productline           1485 non-null   object\n",
      " 4   noDescription         1485 non-null   int64 \n",
      " 5   upperCaseDescription  1485 non-null   int64 \n",
      " 6   sold                  1485 non-null   int64 \n",
      "dtypes: int64(5), object(2)\n",
      "memory usage: 81.3+ KB\n"
     ]
    }
   ],
   "source": [
    "data.info()"
   ]
  },
  {
   "cell_type": "code",
   "execution_count": 62,
   "id": "147d0961-b9ed-44c2-b438-ed269534a38c",
   "metadata": {},
   "outputs": [
    {
     "data": {
      "text/plain": [
       "startprice\n",
       "0     252\n",
       "1     208\n",
       "3     173\n",
       "4     153\n",
       "5     147\n",
       "2     143\n",
       "6     112\n",
       "7      84\n",
       "8      58\n",
       "9      42\n",
       "10     35\n",
       "11     31\n",
       "20     29\n",
       "12     18\n",
       "Name: count, dtype: int64"
      ]
     },
     "execution_count": 62,
     "metadata": {},
     "output_type": "execute_result"
    }
   ],
   "source": [
    "data['startprice'].value_counts()"
   ]
  },
  {
   "cell_type": "code",
   "execution_count": 63,
   "id": "687477d0-9599-44f2-9d68-d90886b23b8f",
   "metadata": {},
   "outputs": [],
   "source": [
    "data['startprice'] = pd.to_numeric(data['startprice'], errors='coerce')"
   ]
  },
  {
   "cell_type": "code",
   "execution_count": 64,
   "id": "ec4d9cad-9339-4e0e-95c0-52271c98a701",
   "metadata": {},
   "outputs": [
    {
     "name": "stdout",
     "output_type": "stream",
     "text": [
      "<class 'pandas.core.frame.DataFrame'>\n",
      "RangeIndex: 1485 entries, 0 to 1484\n",
      "Data columns (total 7 columns):\n",
      " #   Column                Non-Null Count  Dtype \n",
      "---  ------                --------------  ----- \n",
      " 0   BuyItNow              1485 non-null   int64 \n",
      " 1   startprice            1485 non-null   int64 \n",
      " 2   color                 1485 non-null   object\n",
      " 3   productline           1485 non-null   object\n",
      " 4   noDescription         1485 non-null   int64 \n",
      " 5   upperCaseDescription  1485 non-null   int64 \n",
      " 6   sold                  1485 non-null   int64 \n",
      "dtypes: int64(5), object(2)\n",
      "memory usage: 81.3+ KB\n"
     ]
    }
   ],
   "source": [
    "data.info()"
   ]
  },
  {
   "cell_type": "code",
   "execution_count": 65,
   "id": "5659fac7-7c78-4cef-915b-e0174b8d2f22",
   "metadata": {},
   "outputs": [
    {
     "data": {
      "text/plain": [
       "14"
      ]
     },
     "execution_count": 65,
     "metadata": {},
     "output_type": "execute_result"
    }
   ],
   "source": [
    "data['startprice'].nunique()"
   ]
  },
  {
   "cell_type": "code",
   "execution_count": null,
   "id": "a12f4b7a-cc2d-4106-bd61-497c992d1656",
   "metadata": {},
   "outputs": [],
   "source": []
  },
  {
   "cell_type": "code",
   "execution_count": null,
   "id": "83f14ae6-97f8-4d96-9446-912299abdfc4",
   "metadata": {},
   "outputs": [],
   "source": []
  },
  {
   "cell_type": "code",
   "execution_count": null,
   "id": "9eb24a2e-a76d-4c1a-96af-a02297834424",
   "metadata": {},
   "outputs": [],
   "source": []
  },
  {
   "cell_type": "markdown",
   "id": "993a6cd2-05e2-4381-8a04-ea8af0d5941a",
   "metadata": {},
   "source": [
    "# EDA 탐색적 데이터 분석"
   ]
  },
  {
   "cell_type": "code",
   "execution_count": 66,
   "id": "0252e0cf-bbac-492a-bbf2-f5aaba7b84f9",
   "metadata": {},
   "outputs": [],
   "source": [
    "data1 = data.copy()\n",
    "data2 = data.copy()\n",
    "data3 = data.copy()\n",
    "data4 = data.copy()\n",
    "data5 = data.copy()"
   ]
  },
  {
   "cell_type": "code",
   "execution_count": null,
   "id": "08e68a8e-3259-47e6-8123-3626a64a8ccd",
   "metadata": {},
   "outputs": [],
   "source": []
  },
  {
   "cell_type": "code",
   "execution_count": 67,
   "id": "d6ccb675-fa4d-4ed1-a9d0-34fa6cebd680",
   "metadata": {},
   "outputs": [
    {
     "name": "stdout",
     "output_type": "stream",
     "text": [
      "0       7\n",
      "1       6\n",
      "2       6\n",
      "3       5\n",
      "4       5\n",
      "       ..\n",
      "1480    6\n",
      "1481    3\n",
      "1482    5\n",
      "1483    3\n",
      "1484    3\n",
      "Name: color, Length: 1485, dtype: int64\n",
      "0       6\n",
      "1       2\n",
      "2       7\n",
      "3       2\n",
      "4       5\n",
      "       ..\n",
      "1480    4\n",
      "1481    6\n",
      "1482    0\n",
      "1483    4\n",
      "1484    4\n",
      "Name: productline, Length: 1485, dtype: int64\n"
     ]
    }
   ],
   "source": [
    "# 레이블 인코더 임포트하기\n",
    "from sklearn.preprocessing import LabelEncoder\n",
    "# 레이블 인코더 인스턴스 생성\n",
    "le = LabelEncoder()\n",
    "le2 = LabelEncoder()\n",
    "le3 = LabelEncoder()\n",
    "\n",
    "data1['color'] = le.fit_transform(data1['color'])\n",
    "data2['productline'] = le2.fit_transform(data2['productline'])\n",
    "\n",
    "\n",
    "print(data1['color'])\n",
    "print(data2['productline'])"
   ]
  },
  {
   "cell_type": "code",
   "execution_count": 68,
   "id": "80fb066d-45e3-4dd4-a3c3-ed7f8669ec65",
   "metadata": {},
   "outputs": [
    {
     "data": {
      "text/html": [
       "<div>\n",
       "<style scoped>\n",
       "    .dataframe tbody tr th:only-of-type {\n",
       "        vertical-align: middle;\n",
       "    }\n",
       "\n",
       "    .dataframe tbody tr th {\n",
       "        vertical-align: top;\n",
       "    }\n",
       "\n",
       "    .dataframe thead th {\n",
       "        text-align: right;\n",
       "    }\n",
       "</style>\n",
       "<table border=\"1\" class=\"dataframe\">\n",
       "  <thead>\n",
       "    <tr style=\"text-align: right;\">\n",
       "      <th></th>\n",
       "      <th>BuyItNow</th>\n",
       "      <th>startprice</th>\n",
       "      <th>color</th>\n",
       "      <th>productline</th>\n",
       "      <th>noDescription</th>\n",
       "      <th>upperCaseDescription</th>\n",
       "      <th>sold</th>\n",
       "    </tr>\n",
       "  </thead>\n",
       "  <tbody>\n",
       "    <tr>\n",
       "      <th>0</th>\n",
       "      <td>0</td>\n",
       "      <td>3</td>\n",
       "      <td>7</td>\n",
       "      <td>Galaxy_S9</td>\n",
       "      <td>0</td>\n",
       "      <td>0</td>\n",
       "      <td>1</td>\n",
       "    </tr>\n",
       "    <tr>\n",
       "      <th>1</th>\n",
       "      <td>0</td>\n",
       "      <td>4</td>\n",
       "      <td>6</td>\n",
       "      <td>Galaxy_Note9</td>\n",
       "      <td>0</td>\n",
       "      <td>0</td>\n",
       "      <td>0</td>\n",
       "    </tr>\n",
       "    <tr>\n",
       "      <th>2</th>\n",
       "      <td>0</td>\n",
       "      <td>3</td>\n",
       "      <td>6</td>\n",
       "      <td>Unknown</td>\n",
       "      <td>1</td>\n",
       "      <td>1</td>\n",
       "      <td>0</td>\n",
       "    </tr>\n",
       "    <tr>\n",
       "      <th>3</th>\n",
       "      <td>1</td>\n",
       "      <td>3</td>\n",
       "      <td>5</td>\n",
       "      <td>Galaxy_Note9</td>\n",
       "      <td>0</td>\n",
       "      <td>0</td>\n",
       "      <td>1</td>\n",
       "    </tr>\n",
       "    <tr>\n",
       "      <th>4</th>\n",
       "      <td>1</td>\n",
       "      <td>2</td>\n",
       "      <td>5</td>\n",
       "      <td>Galaxy_S8</td>\n",
       "      <td>0</td>\n",
       "      <td>0</td>\n",
       "      <td>1</td>\n",
       "    </tr>\n",
       "  </tbody>\n",
       "</table>\n",
       "</div>"
      ],
      "text/plain": [
       "   BuyItNow  startprice  color   productline  noDescription  \\\n",
       "0         0           3      7     Galaxy_S9              0   \n",
       "1         0           4      6  Galaxy_Note9              0   \n",
       "2         0           3      6       Unknown              1   \n",
       "3         1           3      5  Galaxy_Note9              0   \n",
       "4         1           2      5     Galaxy_S8              0   \n",
       "\n",
       "   upperCaseDescription  sold  \n",
       "0                     0     1  \n",
       "1                     0     0  \n",
       "2                     1     0  \n",
       "3                     0     1  \n",
       "4                     0     1  "
      ]
     },
     "execution_count": 68,
     "metadata": {},
     "output_type": "execute_result"
    }
   ],
   "source": [
    "# color\n",
    "data1.head()"
   ]
  },
  {
   "cell_type": "code",
   "execution_count": 69,
   "id": "f186eb26-337e-4177-89ca-de9ab884cbbe",
   "metadata": {},
   "outputs": [
    {
     "data": {
      "text/html": [
       "<div>\n",
       "<style scoped>\n",
       "    .dataframe tbody tr th:only-of-type {\n",
       "        vertical-align: middle;\n",
       "    }\n",
       "\n",
       "    .dataframe tbody tr th {\n",
       "        vertical-align: top;\n",
       "    }\n",
       "\n",
       "    .dataframe thead th {\n",
       "        text-align: right;\n",
       "    }\n",
       "</style>\n",
       "<table border=\"1\" class=\"dataframe\">\n",
       "  <thead>\n",
       "    <tr style=\"text-align: right;\">\n",
       "      <th></th>\n",
       "      <th>BuyItNow</th>\n",
       "      <th>startprice</th>\n",
       "      <th>color</th>\n",
       "      <th>productline</th>\n",
       "      <th>noDescription</th>\n",
       "      <th>upperCaseDescription</th>\n",
       "      <th>sold</th>\n",
       "    </tr>\n",
       "  </thead>\n",
       "  <tbody>\n",
       "    <tr>\n",
       "      <th>0</th>\n",
       "      <td>0</td>\n",
       "      <td>3</td>\n",
       "      <td>White</td>\n",
       "      <td>6</td>\n",
       "      <td>0</td>\n",
       "      <td>0</td>\n",
       "      <td>1</td>\n",
       "    </tr>\n",
       "    <tr>\n",
       "      <th>1</th>\n",
       "      <td>0</td>\n",
       "      <td>4</td>\n",
       "      <td>Unknown</td>\n",
       "      <td>2</td>\n",
       "      <td>0</td>\n",
       "      <td>0</td>\n",
       "      <td>0</td>\n",
       "    </tr>\n",
       "    <tr>\n",
       "      <th>2</th>\n",
       "      <td>0</td>\n",
       "      <td>3</td>\n",
       "      <td>Unknown</td>\n",
       "      <td>7</td>\n",
       "      <td>1</td>\n",
       "      <td>1</td>\n",
       "      <td>0</td>\n",
       "    </tr>\n",
       "    <tr>\n",
       "      <th>3</th>\n",
       "      <td>1</td>\n",
       "      <td>3</td>\n",
       "      <td>Space Gray</td>\n",
       "      <td>2</td>\n",
       "      <td>0</td>\n",
       "      <td>0</td>\n",
       "      <td>1</td>\n",
       "    </tr>\n",
       "    <tr>\n",
       "      <th>4</th>\n",
       "      <td>1</td>\n",
       "      <td>2</td>\n",
       "      <td>Space Gray</td>\n",
       "      <td>5</td>\n",
       "      <td>0</td>\n",
       "      <td>0</td>\n",
       "      <td>1</td>\n",
       "    </tr>\n",
       "  </tbody>\n",
       "</table>\n",
       "</div>"
      ],
      "text/plain": [
       "   BuyItNow  startprice       color  productline  noDescription  \\\n",
       "0         0           3       White            6              0   \n",
       "1         0           4     Unknown            2              0   \n",
       "2         0           3     Unknown            7              1   \n",
       "3         1           3  Space Gray            2              0   \n",
       "4         1           2  Space Gray            5              0   \n",
       "\n",
       "   upperCaseDescription  sold  \n",
       "0                     0     1  \n",
       "1                     0     0  \n",
       "2                     1     0  \n",
       "3                     0     1  \n",
       "4                     0     1  "
      ]
     },
     "execution_count": 69,
     "metadata": {},
     "output_type": "execute_result"
    }
   ],
   "source": [
    "# productline\n",
    "data2.head()"
   ]
  },
  {
   "cell_type": "code",
   "execution_count": 70,
   "id": "197744bb-d915-4535-a228-9b7749b32bc4",
   "metadata": {},
   "outputs": [],
   "source": [
    "data['color'] = data1['color']\n",
    "data['productline'] = data2['productline']"
   ]
  },
  {
   "cell_type": "code",
   "execution_count": 71,
   "id": "43ac3d88-5dc6-41c7-9316-e09f10d6dd42",
   "metadata": {},
   "outputs": [
    {
     "name": "stdout",
     "output_type": "stream",
     "text": [
      "<class 'pandas.core.frame.DataFrame'>\n",
      "RangeIndex: 1485 entries, 0 to 1484\n",
      "Data columns (total 7 columns):\n",
      " #   Column                Non-Null Count  Dtype\n",
      "---  ------                --------------  -----\n",
      " 0   BuyItNow              1485 non-null   int64\n",
      " 1   startprice            1485 non-null   int64\n",
      " 2   color                 1485 non-null   int64\n",
      " 3   productline           1485 non-null   int64\n",
      " 4   noDescription         1485 non-null   int64\n",
      " 5   upperCaseDescription  1485 non-null   int64\n",
      " 6   sold                  1485 non-null   int64\n",
      "dtypes: int64(7)\n",
      "memory usage: 81.3 KB\n"
     ]
    }
   ],
   "source": [
    "data.info()"
   ]
  },
  {
   "cell_type": "code",
   "execution_count": 120,
   "id": "629a9c0d-7701-4126-8c38-e98cbbc8d7e2",
   "metadata": {},
   "outputs": [],
   "source": [
    "# del data['startprice_binned']"
   ]
  },
  {
   "cell_type": "code",
   "execution_count": 72,
   "id": "53af990a-cb65-435a-b364-1fa1cf336475",
   "metadata": {},
   "outputs": [
    {
     "name": "stdout",
     "output_type": "stream",
     "text": [
      "<class 'pandas.core.frame.DataFrame'>\n",
      "RangeIndex: 1485 entries, 0 to 1484\n",
      "Data columns (total 7 columns):\n",
      " #   Column                Non-Null Count  Dtype\n",
      "---  ------                --------------  -----\n",
      " 0   BuyItNow              1485 non-null   int64\n",
      " 1   startprice            1485 non-null   int64\n",
      " 2   color                 1485 non-null   int64\n",
      " 3   productline           1485 non-null   int64\n",
      " 4   noDescription         1485 non-null   int64\n",
      " 5   upperCaseDescription  1485 non-null   int64\n",
      " 6   sold                  1485 non-null   int64\n",
      "dtypes: int64(7)\n",
      "memory usage: 81.3 KB\n"
     ]
    }
   ],
   "source": [
    "data.info()"
   ]
  },
  {
   "cell_type": "code",
   "execution_count": null,
   "id": "6fd82d5d-4149-4de1-9eb3-c4180f0ac414",
   "metadata": {},
   "outputs": [],
   "source": []
  },
  {
   "cell_type": "code",
   "execution_count": 73,
   "id": "ef24c278-4a96-4d57-a82f-feebfda37c9a",
   "metadata": {},
   "outputs": [
    {
     "data": {
      "text/html": [
       "<div>\n",
       "<style scoped>\n",
       "    .dataframe tbody tr th:only-of-type {\n",
       "        vertical-align: middle;\n",
       "    }\n",
       "\n",
       "    .dataframe tbody tr th {\n",
       "        vertical-align: top;\n",
       "    }\n",
       "\n",
       "    .dataframe thead th {\n",
       "        text-align: right;\n",
       "    }\n",
       "</style>\n",
       "<table border=\"1\" class=\"dataframe\">\n",
       "  <thead>\n",
       "    <tr style=\"text-align: right;\">\n",
       "      <th></th>\n",
       "      <th>BuyItNow</th>\n",
       "      <th>startprice</th>\n",
       "      <th>color</th>\n",
       "      <th>productline</th>\n",
       "      <th>noDescription</th>\n",
       "      <th>upperCaseDescription</th>\n",
       "      <th>sold</th>\n",
       "    </tr>\n",
       "  </thead>\n",
       "  <tbody>\n",
       "    <tr>\n",
       "      <th>0</th>\n",
       "      <td>0</td>\n",
       "      <td>3</td>\n",
       "      <td>7</td>\n",
       "      <td>6</td>\n",
       "      <td>0</td>\n",
       "      <td>0</td>\n",
       "      <td>1</td>\n",
       "    </tr>\n",
       "    <tr>\n",
       "      <th>1</th>\n",
       "      <td>0</td>\n",
       "      <td>4</td>\n",
       "      <td>6</td>\n",
       "      <td>2</td>\n",
       "      <td>0</td>\n",
       "      <td>0</td>\n",
       "      <td>0</td>\n",
       "    </tr>\n",
       "    <tr>\n",
       "      <th>2</th>\n",
       "      <td>0</td>\n",
       "      <td>3</td>\n",
       "      <td>6</td>\n",
       "      <td>7</td>\n",
       "      <td>1</td>\n",
       "      <td>1</td>\n",
       "      <td>0</td>\n",
       "    </tr>\n",
       "    <tr>\n",
       "      <th>3</th>\n",
       "      <td>1</td>\n",
       "      <td>3</td>\n",
       "      <td>5</td>\n",
       "      <td>2</td>\n",
       "      <td>0</td>\n",
       "      <td>0</td>\n",
       "      <td>1</td>\n",
       "    </tr>\n",
       "    <tr>\n",
       "      <th>4</th>\n",
       "      <td>1</td>\n",
       "      <td>2</td>\n",
       "      <td>5</td>\n",
       "      <td>5</td>\n",
       "      <td>0</td>\n",
       "      <td>0</td>\n",
       "      <td>1</td>\n",
       "    </tr>\n",
       "    <tr>\n",
       "      <th>...</th>\n",
       "      <td>...</td>\n",
       "      <td>...</td>\n",
       "      <td>...</td>\n",
       "      <td>...</td>\n",
       "      <td>...</td>\n",
       "      <td>...</td>\n",
       "      <td>...</td>\n",
       "    </tr>\n",
       "    <tr>\n",
       "      <th>1480</th>\n",
       "      <td>0</td>\n",
       "      <td>1</td>\n",
       "      <td>6</td>\n",
       "      <td>4</td>\n",
       "      <td>1</td>\n",
       "      <td>1</td>\n",
       "      <td>0</td>\n",
       "    </tr>\n",
       "    <tr>\n",
       "      <th>1481</th>\n",
       "      <td>0</td>\n",
       "      <td>4</td>\n",
       "      <td>3</td>\n",
       "      <td>6</td>\n",
       "      <td>1</td>\n",
       "      <td>1</td>\n",
       "      <td>1</td>\n",
       "    </tr>\n",
       "    <tr>\n",
       "      <th>1482</th>\n",
       "      <td>0</td>\n",
       "      <td>6</td>\n",
       "      <td>5</td>\n",
       "      <td>0</td>\n",
       "      <td>1</td>\n",
       "      <td>1</td>\n",
       "      <td>0</td>\n",
       "    </tr>\n",
       "    <tr>\n",
       "      <th>1483</th>\n",
       "      <td>0</td>\n",
       "      <td>1</td>\n",
       "      <td>3</td>\n",
       "      <td>4</td>\n",
       "      <td>1</td>\n",
       "      <td>1</td>\n",
       "      <td>1</td>\n",
       "    </tr>\n",
       "    <tr>\n",
       "      <th>1484</th>\n",
       "      <td>0</td>\n",
       "      <td>2</td>\n",
       "      <td>3</td>\n",
       "      <td>4</td>\n",
       "      <td>1</td>\n",
       "      <td>1</td>\n",
       "      <td>0</td>\n",
       "    </tr>\n",
       "  </tbody>\n",
       "</table>\n",
       "<p>1485 rows × 7 columns</p>\n",
       "</div>"
      ],
      "text/plain": [
       "      BuyItNow  startprice  color  productline  noDescription  \\\n",
       "0            0           3      7            6              0   \n",
       "1            0           4      6            2              0   \n",
       "2            0           3      6            7              1   \n",
       "3            1           3      5            2              0   \n",
       "4            1           2      5            5              0   \n",
       "...        ...         ...    ...          ...            ...   \n",
       "1480         0           1      6            4              1   \n",
       "1481         0           4      3            6              1   \n",
       "1482         0           6      5            0              1   \n",
       "1483         0           1      3            4              1   \n",
       "1484         0           2      3            4              1   \n",
       "\n",
       "      upperCaseDescription  sold  \n",
       "0                        0     1  \n",
       "1                        0     0  \n",
       "2                        1     0  \n",
       "3                        0     1  \n",
       "4                        0     1  \n",
       "...                    ...   ...  \n",
       "1480                     1     0  \n",
       "1481                     1     1  \n",
       "1482                     1     0  \n",
       "1483                     1     1  \n",
       "1484                     1     0  \n",
       "\n",
       "[1485 rows x 7 columns]"
      ]
     },
     "execution_count": 73,
     "metadata": {},
     "output_type": "execute_result"
    }
   ],
   "source": [
    "data"
   ]
  },
  {
   "cell_type": "markdown",
   "id": "948192aa-77bd-4468-8cd0-7208d08c983c",
   "metadata": {},
   "source": [
    "# Feature Enginnering(변수 선택, 새로운 변수 생성)"
   ]
  },
  {
   "cell_type": "code",
   "execution_count": 74,
   "id": "238e1931-508a-4e5b-8ce9-df223a484505",
   "metadata": {},
   "outputs": [],
   "source": [
    "X = data.drop('sold', axis = 1)\n",
    "y = data['sold']"
   ]
  },
  {
   "cell_type": "code",
   "execution_count": 75,
   "id": "cdb2e675-e3e5-454d-833d-97fd958666e1",
   "metadata": {},
   "outputs": [
    {
     "data": {
      "text/html": [
       "<div>\n",
       "<style scoped>\n",
       "    .dataframe tbody tr th:only-of-type {\n",
       "        vertical-align: middle;\n",
       "    }\n",
       "\n",
       "    .dataframe tbody tr th {\n",
       "        vertical-align: top;\n",
       "    }\n",
       "\n",
       "    .dataframe thead th {\n",
       "        text-align: right;\n",
       "    }\n",
       "</style>\n",
       "<table border=\"1\" class=\"dataframe\">\n",
       "  <thead>\n",
       "    <tr style=\"text-align: right;\">\n",
       "      <th></th>\n",
       "      <th>BuyItNow</th>\n",
       "      <th>startprice</th>\n",
       "      <th>color</th>\n",
       "      <th>productline</th>\n",
       "      <th>noDescription</th>\n",
       "      <th>upperCaseDescription</th>\n",
       "    </tr>\n",
       "  </thead>\n",
       "  <tbody>\n",
       "    <tr>\n",
       "      <th>0</th>\n",
       "      <td>0</td>\n",
       "      <td>3</td>\n",
       "      <td>7</td>\n",
       "      <td>6</td>\n",
       "      <td>0</td>\n",
       "      <td>0</td>\n",
       "    </tr>\n",
       "    <tr>\n",
       "      <th>1</th>\n",
       "      <td>0</td>\n",
       "      <td>4</td>\n",
       "      <td>6</td>\n",
       "      <td>2</td>\n",
       "      <td>0</td>\n",
       "      <td>0</td>\n",
       "    </tr>\n",
       "    <tr>\n",
       "      <th>2</th>\n",
       "      <td>0</td>\n",
       "      <td>3</td>\n",
       "      <td>6</td>\n",
       "      <td>7</td>\n",
       "      <td>1</td>\n",
       "      <td>1</td>\n",
       "    </tr>\n",
       "    <tr>\n",
       "      <th>3</th>\n",
       "      <td>1</td>\n",
       "      <td>3</td>\n",
       "      <td>5</td>\n",
       "      <td>2</td>\n",
       "      <td>0</td>\n",
       "      <td>0</td>\n",
       "    </tr>\n",
       "    <tr>\n",
       "      <th>4</th>\n",
       "      <td>1</td>\n",
       "      <td>2</td>\n",
       "      <td>5</td>\n",
       "      <td>5</td>\n",
       "      <td>0</td>\n",
       "      <td>0</td>\n",
       "    </tr>\n",
       "    <tr>\n",
       "      <th>...</th>\n",
       "      <td>...</td>\n",
       "      <td>...</td>\n",
       "      <td>...</td>\n",
       "      <td>...</td>\n",
       "      <td>...</td>\n",
       "      <td>...</td>\n",
       "    </tr>\n",
       "    <tr>\n",
       "      <th>1480</th>\n",
       "      <td>0</td>\n",
       "      <td>1</td>\n",
       "      <td>6</td>\n",
       "      <td>4</td>\n",
       "      <td>1</td>\n",
       "      <td>1</td>\n",
       "    </tr>\n",
       "    <tr>\n",
       "      <th>1481</th>\n",
       "      <td>0</td>\n",
       "      <td>4</td>\n",
       "      <td>3</td>\n",
       "      <td>6</td>\n",
       "      <td>1</td>\n",
       "      <td>1</td>\n",
       "    </tr>\n",
       "    <tr>\n",
       "      <th>1482</th>\n",
       "      <td>0</td>\n",
       "      <td>6</td>\n",
       "      <td>5</td>\n",
       "      <td>0</td>\n",
       "      <td>1</td>\n",
       "      <td>1</td>\n",
       "    </tr>\n",
       "    <tr>\n",
       "      <th>1483</th>\n",
       "      <td>0</td>\n",
       "      <td>1</td>\n",
       "      <td>3</td>\n",
       "      <td>4</td>\n",
       "      <td>1</td>\n",
       "      <td>1</td>\n",
       "    </tr>\n",
       "    <tr>\n",
       "      <th>1484</th>\n",
       "      <td>0</td>\n",
       "      <td>2</td>\n",
       "      <td>3</td>\n",
       "      <td>4</td>\n",
       "      <td>1</td>\n",
       "      <td>1</td>\n",
       "    </tr>\n",
       "  </tbody>\n",
       "</table>\n",
       "<p>1485 rows × 6 columns</p>\n",
       "</div>"
      ],
      "text/plain": [
       "      BuyItNow  startprice  color  productline  noDescription  \\\n",
       "0            0           3      7            6              0   \n",
       "1            0           4      6            2              0   \n",
       "2            0           3      6            7              1   \n",
       "3            1           3      5            2              0   \n",
       "4            1           2      5            5              0   \n",
       "...        ...         ...    ...          ...            ...   \n",
       "1480         0           1      6            4              1   \n",
       "1481         0           4      3            6              1   \n",
       "1482         0           6      5            0              1   \n",
       "1483         0           1      3            4              1   \n",
       "1484         0           2      3            4              1   \n",
       "\n",
       "      upperCaseDescription  \n",
       "0                        0  \n",
       "1                        0  \n",
       "2                        1  \n",
       "3                        0  \n",
       "4                        0  \n",
       "...                    ...  \n",
       "1480                     1  \n",
       "1481                     1  \n",
       "1482                     1  \n",
       "1483                     1  \n",
       "1484                     1  \n",
       "\n",
       "[1485 rows x 6 columns]"
      ]
     },
     "execution_count": 75,
     "metadata": {},
     "output_type": "execute_result"
    }
   ],
   "source": [
    "X"
   ]
  },
  {
   "cell_type": "code",
   "execution_count": 76,
   "id": "c33e7e76-7f43-47e2-bdb2-b5128af8dc27",
   "metadata": {},
   "outputs": [
    {
     "data": {
      "text/plain": [
       "0       1\n",
       "1       0\n",
       "2       0\n",
       "3       1\n",
       "4       1\n",
       "       ..\n",
       "1480    0\n",
       "1481    1\n",
       "1482    0\n",
       "1483    1\n",
       "1484    0\n",
       "Name: sold, Length: 1485, dtype: int64"
      ]
     },
     "execution_count": 76,
     "metadata": {},
     "output_type": "execute_result"
    }
   ],
   "source": [
    "y"
   ]
  },
  {
   "cell_type": "code",
   "execution_count": 77,
   "id": "b8703512-47ad-449d-bf94-0921b8795c83",
   "metadata": {},
   "outputs": [
    {
     "data": {
      "text/plain": [
       "2"
      ]
     },
     "execution_count": 77,
     "metadata": {},
     "output_type": "execute_result"
    }
   ],
   "source": [
    "data['upperCaseDescription'].nunique()"
   ]
  },
  {
   "cell_type": "code",
   "execution_count": null,
   "id": "9c79efe1-fe6f-44ed-8a1a-f22cb18abede",
   "metadata": {},
   "outputs": [],
   "source": []
  },
  {
   "cell_type": "code",
   "execution_count": null,
   "id": "fc24fba8-a5f2-4644-b42e-54c300766d76",
   "metadata": {},
   "outputs": [],
   "source": []
  },
  {
   "cell_type": "code",
   "execution_count": null,
   "id": "cbf31dc5-6db6-446c-b39a-6572fa200e82",
   "metadata": {},
   "outputs": [],
   "source": []
  },
  {
   "cell_type": "markdown",
   "id": "63dd243e-1b6c-4c7b-aa0c-d36525073eea",
   "metadata": {},
   "source": [
    "# 데이터 분리 및 분석"
   ]
  },
  {
   "cell_type": "code",
   "execution_count": 78,
   "id": "1800c69c-47ec-4369-873a-78e648fcfc57",
   "metadata": {},
   "outputs": [],
   "source": [
    "from sklearn.tree import DecisionTreeClassifier\n",
    "from sklearn.model_selection import train_test_split\n",
    "from sklearn.metrics import accuracy_score, classification_report"
   ]
  },
  {
   "cell_type": "code",
   "execution_count": 79,
   "id": "e4696c53-8e7a-473a-b311-c95fe8549515",
   "metadata": {},
   "outputs": [],
   "source": [
    "X_train, X_test, y_train, y_test = train_test_split(X, y, test_size = 0.2, random_state = 8)"
   ]
  },
  {
   "cell_type": "code",
   "execution_count": 80,
   "id": "39779729-81ae-497c-b636-82f37a81f1fa",
   "metadata": {},
   "outputs": [
    {
     "name": "stdout",
     "output_type": "stream",
     "text": [
      "0.7441077441077442\n",
      "              precision    recall  f1-score   support\n",
      "\n",
      "           0       0.72      0.80      0.75       147\n",
      "           1       0.78      0.69      0.73       150\n",
      "\n",
      "    accuracy                           0.74       297\n",
      "   macro avg       0.75      0.74      0.74       297\n",
      "weighted avg       0.75      0.74      0.74       297\n",
      "\n"
     ]
    }
   ],
   "source": [
    "dtc = DecisionTreeClassifier()\n",
    "dtc.fit(X_train, y_train)\n",
    "pred = dtc.predict(X_test)\n",
    "print(accuracy_score(y_test, pred))\n",
    "print(classification_report(y_test, pred))"
   ]
  },
  {
   "cell_type": "code",
   "execution_count": null,
   "id": "cbb9e2da-d107-4361-92a0-d5e65603c4d1",
   "metadata": {},
   "outputs": [],
   "source": []
  },
  {
   "cell_type": "code",
   "execution_count": null,
   "id": "c1407409-6177-437f-807f-5d462e77e330",
   "metadata": {},
   "outputs": [],
   "source": []
  },
  {
   "cell_type": "code",
   "execution_count": null,
   "id": "9ffe8e7f-9db3-4f69-9ae0-47e985b6b592",
   "metadata": {},
   "outputs": [],
   "source": []
  },
  {
   "cell_type": "code",
   "execution_count": null,
   "id": "d3c45aed-96b3-45e7-b1cd-5094b22d00b2",
   "metadata": {},
   "outputs": [],
   "source": []
  },
  {
   "cell_type": "code",
   "execution_count": null,
   "id": "a295abe5-daf1-451e-b2ae-a69bc568a027",
   "metadata": {},
   "outputs": [],
   "source": []
  },
  {
   "cell_type": "code",
   "execution_count": null,
   "id": "536dc0f2-a462-4ffc-8016-2101e81970c1",
   "metadata": {},
   "outputs": [],
   "source": []
  },
  {
   "cell_type": "markdown",
   "id": "4fa2ba55-79fd-46da-9bbb-c01a668e875b",
   "metadata": {},
   "source": [
    "# 성능 평가 및 성능 개선을 위한 튜닝"
   ]
  },
  {
   "cell_type": "code",
   "execution_count": 81,
   "id": "3b27ab61-e9e4-4d1f-a68b-00b08b3f5e09",
   "metadata": {},
   "outputs": [],
   "source": [
    "X_train, X_test, y_train, y_test = train_test_split(X, y, test_size = 0.2, random_state = 8)"
   ]
  },
  {
   "cell_type": "code",
   "execution_count": 82,
   "id": "3058f16d-e6eb-4570-a8fe-775f4d4d3857",
   "metadata": {
    "scrolled": true
   },
   "outputs": [
    {
     "name": "stdout",
     "output_type": "stream",
     "text": [
      "1 0.7643097643097643\n",
      "1               precision    recall  f1-score   support\n",
      "\n",
      "           0       0.75      0.78      0.77       147\n",
      "           1       0.77      0.75      0.76       150\n",
      "\n",
      "    accuracy                           0.76       297\n",
      "   macro avg       0.76      0.76      0.76       297\n",
      "weighted avg       0.76      0.76      0.76       297\n",
      "\n",
      "2 0.7643097643097643\n",
      "2               precision    recall  f1-score   support\n",
      "\n",
      "           0       0.75      0.78      0.77       147\n",
      "           1       0.77      0.75      0.76       150\n",
      "\n",
      "    accuracy                           0.76       297\n",
      "   macro avg       0.76      0.76      0.76       297\n",
      "weighted avg       0.76      0.76      0.76       297\n",
      "\n",
      "3 0.7609427609427609\n",
      "3               precision    recall  f1-score   support\n",
      "\n",
      "           0       0.70      0.89      0.79       147\n",
      "           1       0.86      0.63      0.73       150\n",
      "\n",
      "    accuracy                           0.76       297\n",
      "   macro avg       0.78      0.76      0.76       297\n",
      "weighted avg       0.78      0.76      0.76       297\n",
      "\n",
      "4 0.8114478114478114\n",
      "4               precision    recall  f1-score   support\n",
      "\n",
      "           0       0.78      0.87      0.82       147\n",
      "           1       0.86      0.75      0.80       150\n",
      "\n",
      "    accuracy                           0.81       297\n",
      "   macro avg       0.82      0.81      0.81       297\n",
      "weighted avg       0.82      0.81      0.81       297\n",
      "\n",
      "5 0.8148148148148148\n",
      "5               precision    recall  f1-score   support\n",
      "\n",
      "           0       0.78      0.87      0.82       147\n",
      "           1       0.86      0.76      0.81       150\n",
      "\n",
      "    accuracy                           0.81       297\n",
      "   macro avg       0.82      0.82      0.81       297\n",
      "weighted avg       0.82      0.81      0.81       297\n",
      "\n",
      "6 0.8114478114478114\n",
      "6               precision    recall  f1-score   support\n",
      "\n",
      "           0       0.78      0.86      0.82       147\n",
      "           1       0.85      0.77      0.80       150\n",
      "\n",
      "    accuracy                           0.81       297\n",
      "   macro avg       0.81      0.81      0.81       297\n",
      "weighted avg       0.81      0.81      0.81       297\n",
      "\n",
      "7 0.8080808080808081\n",
      "7               precision    recall  f1-score   support\n",
      "\n",
      "           0       0.78      0.86      0.82       147\n",
      "           1       0.84      0.76      0.80       150\n",
      "\n",
      "    accuracy                           0.81       297\n",
      "   macro avg       0.81      0.81      0.81       297\n",
      "weighted avg       0.81      0.81      0.81       297\n",
      "\n",
      "8 0.7744107744107744\n",
      "8               precision    recall  f1-score   support\n",
      "\n",
      "           0       0.75      0.81      0.78       147\n",
      "           1       0.80      0.74      0.77       150\n",
      "\n",
      "    accuracy                           0.77       297\n",
      "   macro avg       0.78      0.77      0.77       297\n",
      "weighted avg       0.78      0.77      0.77       297\n",
      "\n",
      "9 0.7777777777777778\n",
      "9               precision    recall  f1-score   support\n",
      "\n",
      "           0       0.75      0.82      0.79       147\n",
      "           1       0.81      0.73      0.77       150\n",
      "\n",
      "    accuracy                           0.78       297\n",
      "   macro avg       0.78      0.78      0.78       297\n",
      "weighted avg       0.78      0.78      0.78       297\n",
      "\n",
      "10 0.7643097643097643\n",
      "10               precision    recall  f1-score   support\n",
      "\n",
      "           0       0.75      0.79      0.77       147\n",
      "           1       0.78      0.74      0.76       150\n",
      "\n",
      "    accuracy                           0.76       297\n",
      "   macro avg       0.77      0.76      0.76       297\n",
      "weighted avg       0.77      0.76      0.76       297\n",
      "\n",
      "11 0.7441077441077442\n",
      "11               precision    recall  f1-score   support\n",
      "\n",
      "           0       0.72      0.80      0.75       147\n",
      "           1       0.78      0.69      0.73       150\n",
      "\n",
      "    accuracy                           0.74       297\n",
      "   macro avg       0.75      0.74      0.74       297\n",
      "weighted avg       0.75      0.74      0.74       297\n",
      "\n",
      "12 0.7575757575757576\n",
      "12               precision    recall  f1-score   support\n",
      "\n",
      "           0       0.73      0.81      0.77       147\n",
      "           1       0.79      0.71      0.75       150\n",
      "\n",
      "    accuracy                           0.76       297\n",
      "   macro avg       0.76      0.76      0.76       297\n",
      "weighted avg       0.76      0.76      0.76       297\n",
      "\n",
      "13 0.7508417508417509\n",
      "13               precision    recall  f1-score   support\n",
      "\n",
      "           0       0.72      0.81      0.76       147\n",
      "           1       0.79      0.69      0.74       150\n",
      "\n",
      "    accuracy                           0.75       297\n",
      "   macro avg       0.75      0.75      0.75       297\n",
      "weighted avg       0.75      0.75      0.75       297\n",
      "\n",
      "14 0.7508417508417509\n",
      "14               precision    recall  f1-score   support\n",
      "\n",
      "           0       0.72      0.81      0.76       147\n",
      "           1       0.79      0.69      0.74       150\n",
      "\n",
      "    accuracy                           0.75       297\n",
      "   macro avg       0.75      0.75      0.75       297\n",
      "weighted avg       0.75      0.75      0.75       297\n",
      "\n",
      "15 0.7441077441077442\n",
      "15               precision    recall  f1-score   support\n",
      "\n",
      "           0       0.72      0.80      0.75       147\n",
      "           1       0.78      0.69      0.73       150\n",
      "\n",
      "    accuracy                           0.74       297\n",
      "   macro avg       0.75      0.74      0.74       297\n",
      "weighted avg       0.75      0.74      0.74       297\n",
      "\n",
      "16 0.7441077441077442\n",
      "16               precision    recall  f1-score   support\n",
      "\n",
      "           0       0.72      0.80      0.75       147\n",
      "           1       0.78      0.69      0.73       150\n",
      "\n",
      "    accuracy                           0.74       297\n",
      "   macro avg       0.75      0.74      0.74       297\n",
      "weighted avg       0.75      0.74      0.74       297\n",
      "\n",
      "17 0.7441077441077442\n",
      "17               precision    recall  f1-score   support\n",
      "\n",
      "           0       0.72      0.80      0.75       147\n",
      "           1       0.78      0.69      0.73       150\n",
      "\n",
      "    accuracy                           0.74       297\n",
      "   macro avg       0.75      0.74      0.74       297\n",
      "weighted avg       0.75      0.74      0.74       297\n",
      "\n",
      "18 0.7441077441077442\n",
      "18               precision    recall  f1-score   support\n",
      "\n",
      "           0       0.72      0.80      0.75       147\n",
      "           1       0.78      0.69      0.73       150\n",
      "\n",
      "    accuracy                           0.74       297\n",
      "   macro avg       0.75      0.74      0.74       297\n",
      "weighted avg       0.75      0.74      0.74       297\n",
      "\n",
      "19 0.7441077441077442\n",
      "19               precision    recall  f1-score   support\n",
      "\n",
      "           0       0.72      0.80      0.75       147\n",
      "           1       0.78      0.69      0.73       150\n",
      "\n",
      "    accuracy                           0.74       297\n",
      "   macro avg       0.75      0.74      0.74       297\n",
      "weighted avg       0.75      0.74      0.74       297\n",
      "\n"
     ]
    }
   ],
   "source": [
    "for i in range(1,20):\n",
    "    dtc = DecisionTreeClassifier(max_depth = i, random_state = 8)\n",
    "    dtc.fit(X_train, y_train)\n",
    "    pred = dtc.predict(X_test)\n",
    "    print(i, accuracy_score(y_test, pred))\n",
    "    print(i, classification_report(y_test, pred))"
   ]
  },
  {
   "cell_type": "markdown",
   "id": "305c4f1b-d56d-471e-99c4-e33dd0cd3695",
   "metadata": {},
   "source": [
    "5가 젤 괜찮음\n",
    "0.8148148148148148"
   ]
  },
  {
   "cell_type": "code",
   "execution_count": null,
   "id": "1f4f81f9-6950-4457-a217-a5f3862ba6c2",
   "metadata": {},
   "outputs": [],
   "source": []
  },
  {
   "cell_type": "markdown",
   "id": "dfb1fd1b-9b40-4ff3-b0d6-de7d5ad42ce7",
   "metadata": {},
   "source": [
    "criterion : 분류 알고리즘 변경하면서 최적화"
   ]
  },
  {
   "cell_type": "code",
   "execution_count": 83,
   "id": "216d3c1e-5337-48b4-9865-df700cc9e57f",
   "metadata": {
    "scrolled": true
   },
   "outputs": [
    {
     "name": "stdout",
     "output_type": "stream",
     "text": [
      "1 0.7643097643097643\n",
      "1               precision    recall  f1-score   support\n",
      "\n",
      "           0       0.75      0.78      0.77       147\n",
      "           1       0.77      0.75      0.76       150\n",
      "\n",
      "    accuracy                           0.76       297\n",
      "   macro avg       0.76      0.76      0.76       297\n",
      "weighted avg       0.76      0.76      0.76       297\n",
      "\n",
      "2 0.7643097643097643\n",
      "2               precision    recall  f1-score   support\n",
      "\n",
      "           0       0.75      0.78      0.77       147\n",
      "           1       0.77      0.75      0.76       150\n",
      "\n",
      "    accuracy                           0.76       297\n",
      "   macro avg       0.76      0.76      0.76       297\n",
      "weighted avg       0.76      0.76      0.76       297\n",
      "\n",
      "3 0.7609427609427609\n",
      "3               precision    recall  f1-score   support\n",
      "\n",
      "           0       0.70      0.89      0.79       147\n",
      "           1       0.86      0.63      0.73       150\n",
      "\n",
      "    accuracy                           0.76       297\n",
      "   macro avg       0.78      0.76      0.76       297\n",
      "weighted avg       0.78      0.76      0.76       297\n",
      "\n",
      "4 0.797979797979798\n",
      "4               precision    recall  f1-score   support\n",
      "\n",
      "           0       0.77      0.84      0.81       147\n",
      "           1       0.83      0.75      0.79       150\n",
      "\n",
      "    accuracy                           0.80       297\n",
      "   macro avg       0.80      0.80      0.80       297\n",
      "weighted avg       0.80      0.80      0.80       297\n",
      "\n",
      "5 0.8148148148148148\n",
      "5               precision    recall  f1-score   support\n",
      "\n",
      "           0       0.78      0.87      0.82       147\n",
      "           1       0.86      0.76      0.81       150\n",
      "\n",
      "    accuracy                           0.81       297\n",
      "   macro avg       0.82      0.82      0.81       297\n",
      "weighted avg       0.82      0.81      0.81       297\n",
      "\n",
      "6 0.8114478114478114\n",
      "6               precision    recall  f1-score   support\n",
      "\n",
      "           0       0.78      0.86      0.82       147\n",
      "           1       0.85      0.76      0.80       150\n",
      "\n",
      "    accuracy                           0.81       297\n",
      "   macro avg       0.81      0.81      0.81       297\n",
      "weighted avg       0.82      0.81      0.81       297\n",
      "\n",
      "7 0.8047138047138047\n",
      "7               precision    recall  f1-score   support\n",
      "\n",
      "           0       0.77      0.86      0.81       147\n",
      "           1       0.84      0.75      0.80       150\n",
      "\n",
      "    accuracy                           0.80       297\n",
      "   macro avg       0.81      0.81      0.80       297\n",
      "weighted avg       0.81      0.80      0.80       297\n",
      "\n",
      "8 0.7878787878787878\n",
      "8               precision    recall  f1-score   support\n",
      "\n",
      "           0       0.75      0.86      0.80       147\n",
      "           1       0.84      0.71      0.77       150\n",
      "\n",
      "    accuracy                           0.79       297\n",
      "   macro avg       0.79      0.79      0.79       297\n",
      "weighted avg       0.80      0.79      0.79       297\n",
      "\n",
      "9 0.7878787878787878\n",
      "9               precision    recall  f1-score   support\n",
      "\n",
      "           0       0.76      0.84      0.80       147\n",
      "           1       0.82      0.74      0.78       150\n",
      "\n",
      "    accuracy                           0.79       297\n",
      "   macro avg       0.79      0.79      0.79       297\n",
      "weighted avg       0.79      0.79      0.79       297\n",
      "\n",
      "10 0.7508417508417509\n",
      "10               precision    recall  f1-score   support\n",
      "\n",
      "           0       0.73      0.80      0.76       147\n",
      "           1       0.78      0.71      0.74       150\n",
      "\n",
      "    accuracy                           0.75       297\n",
      "   macro avg       0.75      0.75      0.75       297\n",
      "weighted avg       0.75      0.75      0.75       297\n",
      "\n",
      "11 0.7609427609427609\n",
      "11               precision    recall  f1-score   support\n",
      "\n",
      "           0       0.74      0.80      0.77       147\n",
      "           1       0.79      0.72      0.75       150\n",
      "\n",
      "    accuracy                           0.76       297\n",
      "   macro avg       0.76      0.76      0.76       297\n",
      "weighted avg       0.76      0.76      0.76       297\n",
      "\n",
      "12 0.7575757575757576\n",
      "12               precision    recall  f1-score   support\n",
      "\n",
      "           0       0.74      0.80      0.76       147\n",
      "           1       0.78      0.72      0.75       150\n",
      "\n",
      "    accuracy                           0.76       297\n",
      "   macro avg       0.76      0.76      0.76       297\n",
      "weighted avg       0.76      0.76      0.76       297\n",
      "\n",
      "13 0.7575757575757576\n",
      "13               precision    recall  f1-score   support\n",
      "\n",
      "           0       0.73      0.81      0.77       147\n",
      "           1       0.79      0.71      0.75       150\n",
      "\n",
      "    accuracy                           0.76       297\n",
      "   macro avg       0.76      0.76      0.76       297\n",
      "weighted avg       0.76      0.76      0.76       297\n",
      "\n",
      "14 0.7575757575757576\n",
      "14               precision    recall  f1-score   support\n",
      "\n",
      "           0       0.73      0.81      0.77       147\n",
      "           1       0.79      0.71      0.75       150\n",
      "\n",
      "    accuracy                           0.76       297\n",
      "   macro avg       0.76      0.76      0.76       297\n",
      "weighted avg       0.76      0.76      0.76       297\n",
      "\n",
      "15 0.7542087542087542\n",
      "15               precision    recall  f1-score   support\n",
      "\n",
      "           0       0.73      0.80      0.76       147\n",
      "           1       0.79      0.71      0.74       150\n",
      "\n",
      "    accuracy                           0.75       297\n",
      "   macro avg       0.76      0.75      0.75       297\n",
      "weighted avg       0.76      0.75      0.75       297\n",
      "\n",
      "16 0.7575757575757576\n",
      "16               precision    recall  f1-score   support\n",
      "\n",
      "           0       0.73      0.81      0.77       147\n",
      "           1       0.79      0.71      0.75       150\n",
      "\n",
      "    accuracy                           0.76       297\n",
      "   macro avg       0.76      0.76      0.76       297\n",
      "weighted avg       0.76      0.76      0.76       297\n",
      "\n",
      "17 0.7575757575757576\n",
      "17               precision    recall  f1-score   support\n",
      "\n",
      "           0       0.73      0.81      0.77       147\n",
      "           1       0.79      0.71      0.75       150\n",
      "\n",
      "    accuracy                           0.76       297\n",
      "   macro avg       0.76      0.76      0.76       297\n",
      "weighted avg       0.76      0.76      0.76       297\n",
      "\n",
      "18 0.7575757575757576\n",
      "18               precision    recall  f1-score   support\n",
      "\n",
      "           0       0.73      0.81      0.77       147\n",
      "           1       0.79      0.71      0.75       150\n",
      "\n",
      "    accuracy                           0.76       297\n",
      "   macro avg       0.76      0.76      0.76       297\n",
      "weighted avg       0.76      0.76      0.76       297\n",
      "\n",
      "19 0.7575757575757576\n",
      "19               precision    recall  f1-score   support\n",
      "\n",
      "           0       0.73      0.81      0.77       147\n",
      "           1       0.79      0.71      0.75       150\n",
      "\n",
      "    accuracy                           0.76       297\n",
      "   macro avg       0.76      0.76      0.76       297\n",
      "weighted avg       0.76      0.76      0.76       297\n",
      "\n"
     ]
    }
   ],
   "source": [
    "for i in range(1,20):\n",
    "    dtc = DecisionTreeClassifier(criterion=\"entropy\" ,max_depth = i, random_state = 8)\n",
    "    dtc.fit(X_train, y_train)\n",
    "    pred = dtc.predict(X_test)\n",
    "    print(i, accuracy_score(y_test, pred))\n",
    "    print(i, classification_report(y_test, pred))"
   ]
  },
  {
   "cell_type": "code",
   "execution_count": 84,
   "id": "cdfccfbf-7891-4f80-adf6-ae0007d52d04",
   "metadata": {},
   "outputs": [
    {
     "name": "stdout",
     "output_type": "stream",
     "text": [
      "19 0.797979797979798\n",
      "19               precision    recall  f1-score   support\n",
      "\n",
      "           0       0.77      0.84      0.81       147\n",
      "           1       0.83      0.75      0.79       150\n",
      "\n",
      "    accuracy                           0.80       297\n",
      "   macro avg       0.80      0.80      0.80       297\n",
      "weighted avg       0.80      0.80      0.80       297\n",
      "\n"
     ]
    }
   ],
   "source": [
    "dtc = DecisionTreeClassifier(criterion=\"log_loss\" ,max_depth = 4, random_state = 8)\n",
    "dtc.fit(X_train, y_train)\n",
    "pred = dtc.predict(X_test)\n",
    "print(i, accuracy_score(y_test, pred))\n",
    "print(i, classification_report(y_test, pred))"
   ]
  },
  {
   "cell_type": "code",
   "execution_count": null,
   "id": "6dd3c1ae-6cee-48b6-ba2b-85b39185cda8",
   "metadata": {},
   "outputs": [],
   "source": []
  },
  {
   "cell_type": "code",
   "execution_count": null,
   "id": "c404dd37-c9e1-4012-992e-148ad5d3b9bf",
   "metadata": {},
   "outputs": [],
   "source": []
  },
  {
   "cell_type": "code",
   "execution_count": null,
   "id": "a090ad69-cff8-4662-9312-a9119bb70962",
   "metadata": {},
   "outputs": [],
   "source": []
  },
  {
   "cell_type": "code",
   "execution_count": null,
   "id": "20326395-59a4-46b0-9c73-444cd36bf09a",
   "metadata": {},
   "outputs": [],
   "source": []
  },
  {
   "cell_type": "code",
   "execution_count": null,
   "id": "f904164a-7899-49c0-8cf8-bc9055c2f89d",
   "metadata": {},
   "outputs": [],
   "source": []
  },
  {
   "cell_type": "code",
   "execution_count": null,
   "id": "bc04783b-6e36-4b28-8982-87cdd49ed237",
   "metadata": {},
   "outputs": [],
   "source": []
  },
  {
   "cell_type": "code",
   "execution_count": null,
   "id": "a6ca4ca4-4807-459c-be6a-bde842d138ee",
   "metadata": {},
   "outputs": [],
   "source": []
  },
  {
   "cell_type": "code",
   "execution_count": null,
   "id": "d6a341dd-ac37-4109-8f99-de9fd5f097ec",
   "metadata": {},
   "outputs": [],
   "source": []
  },
  {
   "cell_type": "code",
   "execution_count": null,
   "id": "151edf24-5110-4f9c-8115-0075b40cafc7",
   "metadata": {},
   "outputs": [],
   "source": []
  },
  {
   "cell_type": "code",
   "execution_count": null,
   "id": "dc640573-9926-4de3-bf68-ac421d7166e4",
   "metadata": {},
   "outputs": [],
   "source": []
  },
  {
   "cell_type": "code",
   "execution_count": null,
   "id": "c9d7a683-4529-4f6e-88d2-e9cd0baf0b6d",
   "metadata": {},
   "outputs": [],
   "source": []
  },
  {
   "cell_type": "code",
   "execution_count": null,
   "id": "2566bd1d-3f4a-42e7-bb54-9083b26c4dff",
   "metadata": {},
   "outputs": [],
   "source": []
  },
  {
   "cell_type": "code",
   "execution_count": null,
   "id": "12ca80f7-c780-40c3-b0ba-738a283f3f77",
   "metadata": {},
   "outputs": [],
   "source": []
  },
  {
   "cell_type": "code",
   "execution_count": null,
   "id": "122ced96-a893-4a9d-aef8-4e64b401c4ae",
   "metadata": {},
   "outputs": [],
   "source": []
  },
  {
   "cell_type": "code",
   "execution_count": null,
   "id": "b18d174f-534b-4e90-b34b-efafe53da979",
   "metadata": {},
   "outputs": [],
   "source": []
  },
  {
   "cell_type": "code",
   "execution_count": null,
   "id": "5eb2f3c3-1525-42aa-ae34-f495746923e3",
   "metadata": {},
   "outputs": [],
   "source": []
  },
  {
   "cell_type": "code",
   "execution_count": null,
   "id": "17ab45af-ebf5-4e10-ba04-d4eb3a307aaf",
   "metadata": {},
   "outputs": [],
   "source": []
  },
  {
   "cell_type": "code",
   "execution_count": null,
   "id": "b5238f57-4993-4a27-a7d8-b98e19b81655",
   "metadata": {},
   "outputs": [],
   "source": []
  },
  {
   "cell_type": "code",
   "execution_count": null,
   "id": "4b2a6914-2ec8-4c63-bf7f-af8edf656568",
   "metadata": {},
   "outputs": [],
   "source": []
  },
  {
   "cell_type": "code",
   "execution_count": null,
   "id": "1d9aa977-f01f-42c7-8715-35c1c082e7cf",
   "metadata": {},
   "outputs": [],
   "source": []
  },
  {
   "cell_type": "code",
   "execution_count": null,
   "id": "5b5e411b-7314-4257-a9a7-6312cf0ee1ba",
   "metadata": {},
   "outputs": [],
   "source": []
  },
  {
   "cell_type": "code",
   "execution_count": null,
   "id": "e5c402d3-8582-4930-bd4e-f853788346fd",
   "metadata": {},
   "outputs": [],
   "source": []
  },
  {
   "cell_type": "code",
   "execution_count": null,
   "id": "e216852b-004d-424d-b9c5-83c5f3e9e560",
   "metadata": {},
   "outputs": [],
   "source": []
  },
  {
   "cell_type": "code",
   "execution_count": null,
   "id": "128925fe-9829-4cc6-bb7b-524032f5af73",
   "metadata": {},
   "outputs": [],
   "source": []
  },
  {
   "cell_type": "code",
   "execution_count": null,
   "id": "b99cb6d1-9b7a-4985-b764-da9b1eaaec3c",
   "metadata": {},
   "outputs": [],
   "source": []
  },
  {
   "cell_type": "code",
   "execution_count": null,
   "id": "37c169d6-8ace-44e2-aa7f-4046e9e20577",
   "metadata": {},
   "outputs": [],
   "source": []
  },
  {
   "cell_type": "code",
   "execution_count": null,
   "id": "e8174cb8-8012-46f0-9f6e-5d7a6264d28f",
   "metadata": {},
   "outputs": [],
   "source": []
  },
  {
   "cell_type": "code",
   "execution_count": null,
   "id": "f653f93a-4e9b-4ff1-b5d9-14653b41ef2c",
   "metadata": {},
   "outputs": [],
   "source": []
  },
  {
   "cell_type": "code",
   "execution_count": null,
   "id": "bd095bf7-6c1b-4625-a3d2-a77165af864c",
   "metadata": {},
   "outputs": [],
   "source": []
  },
  {
   "cell_type": "code",
   "execution_count": null,
   "id": "29b73719-d411-4db0-a9af-1736a6e714fc",
   "metadata": {},
   "outputs": [],
   "source": []
  },
  {
   "cell_type": "code",
   "execution_count": null,
   "id": "9a32313f-982a-4a19-9950-b9851fb199ca",
   "metadata": {},
   "outputs": [],
   "source": []
  },
  {
   "cell_type": "code",
   "execution_count": null,
   "id": "d9924819-f05b-463e-98d9-9441aa893d27",
   "metadata": {},
   "outputs": [],
   "source": []
  },
  {
   "cell_type": "code",
   "execution_count": null,
   "id": "5501f513-59d2-4bc6-9f12-721e3bd79426",
   "metadata": {},
   "outputs": [],
   "source": []
  },
  {
   "cell_type": "code",
   "execution_count": null,
   "id": "1024ec7b-9b62-4947-9c8c-620cf785322a",
   "metadata": {},
   "outputs": [],
   "source": []
  },
  {
   "cell_type": "code",
   "execution_count": null,
   "id": "7eb32ef9-9bbe-441e-ad7c-964a5fd668e1",
   "metadata": {},
   "outputs": [],
   "source": []
  },
  {
   "cell_type": "code",
   "execution_count": null,
   "id": "5f7c2995-9d1a-48cd-bbd3-c19c63c55c5b",
   "metadata": {},
   "outputs": [],
   "source": []
  },
  {
   "cell_type": "code",
   "execution_count": null,
   "id": "2a27122b-18c5-4e5f-99e9-ac34de7fdb99",
   "metadata": {},
   "outputs": [],
   "source": []
  },
  {
   "cell_type": "code",
   "execution_count": null,
   "id": "37aa49b6-b7c0-4598-a779-16de5a8f0121",
   "metadata": {},
   "outputs": [],
   "source": []
  },
  {
   "cell_type": "code",
   "execution_count": null,
   "id": "ebe30e6f-70cc-46eb-b091-c1677556923c",
   "metadata": {},
   "outputs": [],
   "source": []
  },
  {
   "cell_type": "code",
   "execution_count": null,
   "id": "df7b76d4-416e-44da-a9d4-ef89935ac707",
   "metadata": {},
   "outputs": [],
   "source": []
  },
  {
   "cell_type": "code",
   "execution_count": null,
   "id": "2397a7da-cb3f-419f-bd08-405750642d64",
   "metadata": {},
   "outputs": [],
   "source": []
  },
  {
   "cell_type": "code",
   "execution_count": null,
   "id": "9ecd4687-b247-433b-ada7-c98dcc378840",
   "metadata": {},
   "outputs": [],
   "source": []
  },
  {
   "cell_type": "code",
   "execution_count": null,
   "id": "680c7988-c58b-4512-b33d-14fba369f6da",
   "metadata": {},
   "outputs": [],
   "source": []
  },
  {
   "cell_type": "code",
   "execution_count": null,
   "id": "15003b40-e436-44df-aa92-0338dc7bc58d",
   "metadata": {},
   "outputs": [],
   "source": []
  },
  {
   "cell_type": "code",
   "execution_count": null,
   "id": "85609a50-0e00-4610-98c0-4b9f04aa7c7e",
   "metadata": {},
   "outputs": [],
   "source": []
  },
  {
   "cell_type": "code",
   "execution_count": null,
   "id": "f01d20ac-c701-490d-ac67-be08b5a885f0",
   "metadata": {},
   "outputs": [],
   "source": []
  },
  {
   "cell_type": "code",
   "execution_count": null,
   "id": "39b288e9-cf61-4687-990e-9b51892feffb",
   "metadata": {},
   "outputs": [],
   "source": []
  },
  {
   "cell_type": "code",
   "execution_count": null,
   "id": "f49cac5e-d93c-48b1-8327-5a802a6eb2f3",
   "metadata": {},
   "outputs": [],
   "source": []
  },
  {
   "cell_type": "code",
   "execution_count": null,
   "id": "0042f9c4-a417-4296-a798-765e942cc01c",
   "metadata": {},
   "outputs": [],
   "source": []
  },
  {
   "cell_type": "code",
   "execution_count": null,
   "id": "42f543af-7b83-4712-9049-4f3e168d681c",
   "metadata": {},
   "outputs": [],
   "source": []
  },
  {
   "cell_type": "code",
   "execution_count": null,
   "id": "e7c3eb23-e444-421d-9a78-1c9ebe307097",
   "metadata": {},
   "outputs": [],
   "source": []
  },
  {
   "cell_type": "code",
   "execution_count": null,
   "id": "8fc6b472-9d9a-4f7b-9ee4-9525f2e923ce",
   "metadata": {},
   "outputs": [],
   "source": []
  },
  {
   "cell_type": "code",
   "execution_count": null,
   "id": "f49b1b07-5c2e-46c3-9a9f-e07bf2547f2f",
   "metadata": {},
   "outputs": [],
   "source": []
  }
 ],
 "metadata": {
  "kernelspec": {
   "display_name": "Python 3 (ipykernel)",
   "language": "python",
   "name": "python3"
  },
  "language_info": {
   "codemirror_mode": {
    "name": "ipython",
    "version": 3
   },
   "file_extension": ".py",
   "mimetype": "text/x-python",
   "name": "python",
   "nbconvert_exporter": "python",
   "pygments_lexer": "ipython3",
   "version": "3.10.14"
  }
 },
 "nbformat": 4,
 "nbformat_minor": 5
}
