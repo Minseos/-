{
 "cells": [
  {
   "cell_type": "code",
   "execution_count": 65,
   "id": "95566802-7cc7-41d9-9ad3-03e77c362d87",
   "metadata": {},
   "outputs": [],
   "source": [
    "import pandas as pd\n",
    "import numpy as np\n",
    "import matplotlib.pyplot as plt\n",
    "import seaborn as sns"
   ]
  },
  {
   "cell_type": "markdown",
   "id": "73345a12-c246-4662-9a0d-02ec94afef42",
   "metadata": {},
   "source": [
    "## 연봉데이터 로딩, 전처리, EDA, Feature Engineering modeling, 성능 검증, 하이퍼파라미터 튜닝"
   ]
  },
  {
   "cell_type": "markdown",
   "id": "a43a45b9-035e-4b43-bee5-04a770cdc0b9",
   "metadata": {},
   "source": [
    "## 기본모델 : DecisionTree\n",
    "## 배깅, 부스팅, 랜덤배깅, 모델 튜닝"
   ]
  },
  {
   "cell_type": "markdown",
   "id": "a0b95a6a-2dc1-442a-9297-8cf601948178",
   "metadata": {},
   "source": [
    "## 분석목적 : 학력, 교육, 연수, 혼인상태, 직업 정보가 있는 연봉데이터셋을 이용해 연봉 예측하기"
   ]
  },
  {
   "cell_type": "markdown",
   "id": "40c5552c-8b17-4d17-89a8-77fe81b7feee",
   "metadata": {},
   "source": [
    "## 연봉이 5만달러 이상인지 아닌지"
   ]
  },
  {
   "cell_type": "code",
   "execution_count": 66,
   "id": "10d05021-97db-4869-9744-bad3b0c598fb",
   "metadata": {},
   "outputs": [
    {
     "data": {
      "text/html": [
       "<div>\n",
       "<style scoped>\n",
       "    .dataframe tbody tr th:only-of-type {\n",
       "        vertical-align: middle;\n",
       "    }\n",
       "\n",
       "    .dataframe tbody tr th {\n",
       "        vertical-align: top;\n",
       "    }\n",
       "\n",
       "    .dataframe thead th {\n",
       "        text-align: right;\n",
       "    }\n",
       "</style>\n",
       "<table border=\"1\" class=\"dataframe\">\n",
       "  <thead>\n",
       "    <tr style=\"text-align: right;\">\n",
       "      <th></th>\n",
       "      <th>age</th>\n",
       "      <th>workclass</th>\n",
       "      <th>education</th>\n",
       "      <th>education-num</th>\n",
       "      <th>marital-status</th>\n",
       "      <th>occupation</th>\n",
       "      <th>relationship</th>\n",
       "      <th>race</th>\n",
       "      <th>sex</th>\n",
       "      <th>capital-gain</th>\n",
       "      <th>capital-loss</th>\n",
       "      <th>hours-per-week</th>\n",
       "      <th>native-country</th>\n",
       "      <th>class</th>\n",
       "    </tr>\n",
       "  </thead>\n",
       "  <tbody>\n",
       "    <tr>\n",
       "      <th>0</th>\n",
       "      <td>25</td>\n",
       "      <td>Private</td>\n",
       "      <td>11th</td>\n",
       "      <td>7</td>\n",
       "      <td>Never-married</td>\n",
       "      <td>Machine-op-inspct</td>\n",
       "      <td>Own-child</td>\n",
       "      <td>Black</td>\n",
       "      <td>Male</td>\n",
       "      <td>0</td>\n",
       "      <td>0</td>\n",
       "      <td>40</td>\n",
       "      <td>United-States</td>\n",
       "      <td>&lt;=50K</td>\n",
       "    </tr>\n",
       "    <tr>\n",
       "      <th>1</th>\n",
       "      <td>38</td>\n",
       "      <td>Private</td>\n",
       "      <td>HS-grad</td>\n",
       "      <td>9</td>\n",
       "      <td>Married-civ-spouse</td>\n",
       "      <td>Farming-fishing</td>\n",
       "      <td>Husband</td>\n",
       "      <td>White</td>\n",
       "      <td>Male</td>\n",
       "      <td>0</td>\n",
       "      <td>0</td>\n",
       "      <td>50</td>\n",
       "      <td>United-States</td>\n",
       "      <td>&lt;=50K</td>\n",
       "    </tr>\n",
       "    <tr>\n",
       "      <th>2</th>\n",
       "      <td>28</td>\n",
       "      <td>Local-gov</td>\n",
       "      <td>Assoc-acdm</td>\n",
       "      <td>12</td>\n",
       "      <td>Married-civ-spouse</td>\n",
       "      <td>Protective-serv</td>\n",
       "      <td>Husband</td>\n",
       "      <td>White</td>\n",
       "      <td>Male</td>\n",
       "      <td>0</td>\n",
       "      <td>0</td>\n",
       "      <td>40</td>\n",
       "      <td>United-States</td>\n",
       "      <td>&gt;50K</td>\n",
       "    </tr>\n",
       "    <tr>\n",
       "      <th>3</th>\n",
       "      <td>44</td>\n",
       "      <td>Private</td>\n",
       "      <td>Some-college</td>\n",
       "      <td>10</td>\n",
       "      <td>Married-civ-spouse</td>\n",
       "      <td>Machine-op-inspct</td>\n",
       "      <td>Husband</td>\n",
       "      <td>Black</td>\n",
       "      <td>Male</td>\n",
       "      <td>7688</td>\n",
       "      <td>0</td>\n",
       "      <td>40</td>\n",
       "      <td>United-States</td>\n",
       "      <td>&gt;50K</td>\n",
       "    </tr>\n",
       "    <tr>\n",
       "      <th>4</th>\n",
       "      <td>18</td>\n",
       "      <td>NaN</td>\n",
       "      <td>Some-college</td>\n",
       "      <td>10</td>\n",
       "      <td>Never-married</td>\n",
       "      <td>NaN</td>\n",
       "      <td>Own-child</td>\n",
       "      <td>White</td>\n",
       "      <td>Female</td>\n",
       "      <td>0</td>\n",
       "      <td>0</td>\n",
       "      <td>30</td>\n",
       "      <td>United-States</td>\n",
       "      <td>&lt;=50K</td>\n",
       "    </tr>\n",
       "  </tbody>\n",
       "</table>\n",
       "</div>"
      ],
      "text/plain": [
       "   age   workclass      education  education-num       marital-status  \\\n",
       "0   25     Private           11th              7        Never-married   \n",
       "1   38     Private        HS-grad              9   Married-civ-spouse   \n",
       "2   28   Local-gov     Assoc-acdm             12   Married-civ-spouse   \n",
       "3   44     Private   Some-college             10   Married-civ-spouse   \n",
       "4   18         NaN   Some-college             10        Never-married   \n",
       "\n",
       "           occupation relationship    race      sex  capital-gain  \\\n",
       "0   Machine-op-inspct    Own-child   Black     Male             0   \n",
       "1     Farming-fishing      Husband   White     Male             0   \n",
       "2     Protective-serv      Husband   White     Male             0   \n",
       "3   Machine-op-inspct      Husband   Black     Male          7688   \n",
       "4                 NaN    Own-child   White   Female             0   \n",
       "\n",
       "   capital-loss  hours-per-week  native-country   class  \n",
       "0             0              40   United-States   <=50K  \n",
       "1             0              50   United-States   <=50K  \n",
       "2             0              40   United-States    >50K  \n",
       "3             0              40   United-States    >50K  \n",
       "4             0              30   United-States   <=50K  "
      ]
     },
     "execution_count": 66,
     "metadata": {},
     "output_type": "execute_result"
    }
   ],
   "source": [
    "data = pd.read_csv(\"https://raw.githubusercontent.com/haram4th/ADsP/main/salary2.csv\")\n",
    "data.head()"
   ]
  },
  {
   "cell_type": "code",
   "execution_count": 67,
   "id": "02f8d1ae-d248-40e7-9290-d0e4c51fd6db",
   "metadata": {},
   "outputs": [
    {
     "name": "stdout",
     "output_type": "stream",
     "text": [
      "<class 'pandas.core.frame.DataFrame'>\n",
      "RangeIndex: 48842 entries, 0 to 48841\n",
      "Data columns (total 14 columns):\n",
      " #   Column          Non-Null Count  Dtype \n",
      "---  ------          --------------  ----- \n",
      " 0   age             48842 non-null  int64 \n",
      " 1   workclass       46043 non-null  object\n",
      " 2   education       48842 non-null  object\n",
      " 3   education-num   48842 non-null  int64 \n",
      " 4   marital-status  48842 non-null  object\n",
      " 5   occupation      46033 non-null  object\n",
      " 6   relationship    48842 non-null  object\n",
      " 7   race            48842 non-null  object\n",
      " 8   sex             48842 non-null  object\n",
      " 9   capital-gain    48842 non-null  int64 \n",
      " 10  capital-loss    48842 non-null  int64 \n",
      " 11  hours-per-week  48842 non-null  int64 \n",
      " 12  native-country  47985 non-null  object\n",
      " 13  class           48842 non-null  object\n",
      "dtypes: int64(5), object(9)\n",
      "memory usage: 5.2+ MB\n"
     ]
    }
   ],
   "source": [
    "data.info()"
   ]
  },
  {
   "cell_type": "markdown",
   "id": "34f4254f-a79b-4979-a588-6392ab3f5795",
   "metadata": {},
   "source": [
    "* age: 나이\n",
    "* workclass: 직업군\n",
    "* education: 교육 수준\n",
    "* education-num: 교육 연수\n",
    "* marital-status: 결혼 상태\n",
    "* occupation: 직업\n",
    "* relationship: 가족 관계\n",
    "* race: 인종\n",
    "* sex: 성별\n",
    "* capital-gain: 자본 소득\n",
    "* capital-loss: 자본 손실\n",
    "* hours-per-week: 주당 근로 시간\n",
    "* native-country: 출신 국가\n",
    "* class: 연봉 구분 - target(분석대상)"
   ]
  },
  {
   "cell_type": "code",
   "execution_count": 68,
   "id": "46747f0f-35df-422e-9f21-dd36f9ec4418",
   "metadata": {},
   "outputs": [
    {
     "data": {
      "text/plain": [
       "age                  0\n",
       "workclass         2799\n",
       "education            0\n",
       "education-num        0\n",
       "marital-status       0\n",
       "occupation        2809\n",
       "relationship         0\n",
       "race                 0\n",
       "sex                  0\n",
       "capital-gain         0\n",
       "capital-loss         0\n",
       "hours-per-week       0\n",
       "native-country     857\n",
       "class                0\n",
       "dtype: int64"
      ]
     },
     "execution_count": 68,
     "metadata": {},
     "output_type": "execute_result"
    }
   ],
   "source": [
    "data.isna().sum()"
   ]
  },
  {
   "cell_type": "code",
   "execution_count": 69,
   "id": "4ad52cf8-4fe7-4320-9ff7-679662ca8b37",
   "metadata": {},
   "outputs": [
    {
     "data": {
      "text/plain": [
       "age               0.000000\n",
       "workclass         5.730724\n",
       "education         0.000000\n",
       "education-num     0.000000\n",
       "marital-status    0.000000\n",
       "occupation        5.751198\n",
       "relationship      0.000000\n",
       "race              0.000000\n",
       "sex               0.000000\n",
       "capital-gain      0.000000\n",
       "capital-loss      0.000000\n",
       "hours-per-week    0.000000\n",
       "native-country    1.754637\n",
       "class             0.000000\n",
       "dtype: float64"
      ]
     },
     "execution_count": 69,
     "metadata": {},
     "output_type": "execute_result"
    }
   ],
   "source": [
    "data.isna().sum() / len(data)*100"
   ]
  },
  {
   "cell_type": "code",
   "execution_count": 70,
   "id": "14881e72-0b07-4d3a-b188-8257e217bdd5",
   "metadata": {},
   "outputs": [
    {
     "data": {
      "text/html": [
       "<div>\n",
       "<style scoped>\n",
       "    .dataframe tbody tr th:only-of-type {\n",
       "        vertical-align: middle;\n",
       "    }\n",
       "\n",
       "    .dataframe tbody tr th {\n",
       "        vertical-align: top;\n",
       "    }\n",
       "\n",
       "    .dataframe thead th {\n",
       "        text-align: right;\n",
       "    }\n",
       "</style>\n",
       "<table border=\"1\" class=\"dataframe\">\n",
       "  <thead>\n",
       "    <tr style=\"text-align: right;\">\n",
       "      <th></th>\n",
       "      <th>age</th>\n",
       "      <th>education-num</th>\n",
       "      <th>capital-gain</th>\n",
       "      <th>capital-loss</th>\n",
       "      <th>hours-per-week</th>\n",
       "    </tr>\n",
       "  </thead>\n",
       "  <tbody>\n",
       "    <tr>\n",
       "      <th>count</th>\n",
       "      <td>48842.000000</td>\n",
       "      <td>48842.000000</td>\n",
       "      <td>48842.000000</td>\n",
       "      <td>48842.000000</td>\n",
       "      <td>48842.000000</td>\n",
       "    </tr>\n",
       "    <tr>\n",
       "      <th>mean</th>\n",
       "      <td>38.643585</td>\n",
       "      <td>10.078089</td>\n",
       "      <td>1079.067626</td>\n",
       "      <td>87.502314</td>\n",
       "      <td>40.422382</td>\n",
       "    </tr>\n",
       "    <tr>\n",
       "      <th>std</th>\n",
       "      <td>13.710510</td>\n",
       "      <td>2.570973</td>\n",
       "      <td>7452.019058</td>\n",
       "      <td>403.004552</td>\n",
       "      <td>12.391444</td>\n",
       "    </tr>\n",
       "    <tr>\n",
       "      <th>min</th>\n",
       "      <td>17.000000</td>\n",
       "      <td>1.000000</td>\n",
       "      <td>0.000000</td>\n",
       "      <td>0.000000</td>\n",
       "      <td>1.000000</td>\n",
       "    </tr>\n",
       "    <tr>\n",
       "      <th>25%</th>\n",
       "      <td>28.000000</td>\n",
       "      <td>9.000000</td>\n",
       "      <td>0.000000</td>\n",
       "      <td>0.000000</td>\n",
       "      <td>40.000000</td>\n",
       "    </tr>\n",
       "    <tr>\n",
       "      <th>50%</th>\n",
       "      <td>37.000000</td>\n",
       "      <td>10.000000</td>\n",
       "      <td>0.000000</td>\n",
       "      <td>0.000000</td>\n",
       "      <td>40.000000</td>\n",
       "    </tr>\n",
       "    <tr>\n",
       "      <th>75%</th>\n",
       "      <td>48.000000</td>\n",
       "      <td>12.000000</td>\n",
       "      <td>0.000000</td>\n",
       "      <td>0.000000</td>\n",
       "      <td>45.000000</td>\n",
       "    </tr>\n",
       "    <tr>\n",
       "      <th>max</th>\n",
       "      <td>90.000000</td>\n",
       "      <td>16.000000</td>\n",
       "      <td>99999.000000</td>\n",
       "      <td>4356.000000</td>\n",
       "      <td>99.000000</td>\n",
       "    </tr>\n",
       "  </tbody>\n",
       "</table>\n",
       "</div>"
      ],
      "text/plain": [
       "                age  education-num  capital-gain  capital-loss  hours-per-week\n",
       "count  48842.000000   48842.000000  48842.000000  48842.000000    48842.000000\n",
       "mean      38.643585      10.078089   1079.067626     87.502314       40.422382\n",
       "std       13.710510       2.570973   7452.019058    403.004552       12.391444\n",
       "min       17.000000       1.000000      0.000000      0.000000        1.000000\n",
       "25%       28.000000       9.000000      0.000000      0.000000       40.000000\n",
       "50%       37.000000      10.000000      0.000000      0.000000       40.000000\n",
       "75%       48.000000      12.000000      0.000000      0.000000       45.000000\n",
       "max       90.000000      16.000000  99999.000000   4356.000000       99.000000"
      ]
     },
     "execution_count": 70,
     "metadata": {},
     "output_type": "execute_result"
    }
   ],
   "source": [
    "data.describe()"
   ]
  },
  {
   "cell_type": "code",
   "execution_count": 71,
   "id": "f1ef65d5-8d56-4fc8-823c-ada0406a8fc3",
   "metadata": {},
   "outputs": [
    {
     "data": {
      "text/plain": [
       "workclass\n",
       "Private             33906\n",
       "Self-emp-not-inc     3862\n",
       "Local-gov            3136\n",
       "State-gov            1981\n",
       "Self-emp-inc         1695\n",
       "Federal-gov          1432\n",
       "Without-pay            21\n",
       "Never-worked           10\n",
       "Name: count, dtype: int64"
      ]
     },
     "execution_count": 71,
     "metadata": {},
     "output_type": "execute_result"
    }
   ],
   "source": [
    "data['workclass'].value_counts()"
   ]
  },
  {
   "cell_type": "code",
   "execution_count": 72,
   "id": "72748918-ef72-4bde-8aef-e269a44b2156",
   "metadata": {},
   "outputs": [
    {
     "data": {
      "text/plain": [
       "array([' Private', ' Local-gov', nan, ' Self-emp-not-inc', ' Federal-gov',\n",
       "       ' State-gov', ' Self-emp-inc', ' Without-pay', ' Never-worked'],\n",
       "      dtype=object)"
      ]
     },
     "execution_count": 72,
     "metadata": {},
     "output_type": "execute_result"
    }
   ],
   "source": [
    "data['workclass'].unique()"
   ]
  },
  {
   "cell_type": "code",
   "execution_count": 73,
   "id": "04f339c4-fc51-4d9b-808c-d224158ef913",
   "metadata": {},
   "outputs": [
    {
     "data": {
      "text/plain": [
       "8"
      ]
     },
     "execution_count": 73,
     "metadata": {},
     "output_type": "execute_result"
    }
   ],
   "source": [
    "data['workclass'].nunique()"
   ]
  },
  {
   "cell_type": "code",
   "execution_count": 74,
   "id": "d767ac41-5935-4f82-9901-df44f6b55653",
   "metadata": {
    "scrolled": true
   },
   "outputs": [
    {
     "data": {
      "text/plain": [
       "workclass    capital-gain\n",
       "Federal-gov  0               1281\n",
       "             7298              26\n",
       "             7688              26\n",
       "             15024             16\n",
       "             5178               7\n",
       "                             ... \n",
       "State-gov    15831              1\n",
       "             20051              1\n",
       "Without-pay  0                 19\n",
       "             2414               1\n",
       "             4416               1\n",
       "Name: count, Length: 404, dtype: int64"
      ]
     },
     "execution_count": 74,
     "metadata": {},
     "output_type": "execute_result"
    }
   ],
   "source": [
    "data.groupby('workclass')['capital-gain'].value_counts()"
   ]
  },
  {
   "cell_type": "code",
   "execution_count": 75,
   "id": "7fea8aa5-fdec-402e-9793-d59ee568f75f",
   "metadata": {
    "scrolled": true
   },
   "outputs": [
    {
     "data": {
      "text/plain": [
       "workclass         class\n",
       "Federal-gov       <=50K      871\n",
       "                  >50K       561\n",
       "Local-gov         <=50K     2209\n",
       "                  >50K       927\n",
       "Never-worked      <=50K       10\n",
       "Private           <=50K    26519\n",
       "                  >50K      7387\n",
       "Self-emp-inc      <=50K      757\n",
       "                  >50K       938\n",
       "Self-emp-not-inc  <=50K     2785\n",
       "                  >50K      1077\n",
       "State-gov         <=50K     1451\n",
       "                  >50K       530\n",
       "Without-pay       <=50K       19\n",
       "                  >50K         2\n",
       "Name: count, dtype: int64"
      ]
     },
     "execution_count": 75,
     "metadata": {},
     "output_type": "execute_result"
    }
   ],
   "source": [
    "data.groupby('workclass')['class'].value_counts(sort=False)"
   ]
  },
  {
   "cell_type": "code",
   "execution_count": 76,
   "id": "102eabc0-aa98-4208-ada9-8ca9a12d2845",
   "metadata": {},
   "outputs": [
    {
     "data": {
      "text/plain": [
       "workclass         class\n",
       "Federal-gov       <=50K      871\n",
       "                  >50K       561\n",
       "Local-gov         <=50K     2209\n",
       "                  >50K       927\n",
       "Never-worked      <=50K       10\n",
       "Private           <=50K    26519\n",
       "                  >50K      7387\n",
       "Self-emp-inc      <=50K      757\n",
       "                  >50K       938\n",
       "Self-emp-not-inc  <=50K     2785\n",
       "                  >50K      1077\n",
       "State-gov         <=50K     1451\n",
       "                  >50K       530\n",
       "Without-pay       <=50K       19\n",
       "                  >50K         2\n",
       "Name: count, dtype: int64"
      ]
     },
     "execution_count": 76,
     "metadata": {},
     "output_type": "execute_result"
    }
   ],
   "source": [
    "data.groupby('workclass')['class'].value_counts(sort=False)"
   ]
  },
  {
   "cell_type": "code",
   "execution_count": 77,
   "id": "99ec3fbb-1a01-4e0c-88cb-eb997bcf134a",
   "metadata": {},
   "outputs": [
    {
     "name": "stdout",
     "output_type": "stream",
     "text": [
      "Federal-gov 5만달러 이하 0.6082402234636871\n",
      "Federal-gov 5만달러 초과 0.39175977653631283\n"
     ]
    }
   ],
   "source": [
    "print(\"Federal-gov 5만달러 이하\", 871 / (871+561))\n",
    "print(\"Federal-gov 5만달러 초과\", 561 / (871+561))"
   ]
  },
  {
   "cell_type": "code",
   "execution_count": 78,
   "id": "536792f5-9e41-43df-91b4-41073b3de654",
   "metadata": {},
   "outputs": [
    {
     "name": "stdout",
     "output_type": "stream",
     "text": [
      "Local-gov 5만달러 이상 0.7044005102040817\n",
      "Local-gov 5만달러 이하 0.2955994897959184\n"
     ]
    }
   ],
   "source": [
    "print(\"Local-gov 5만달러 이상\", 2209 / (2209+927))\n",
    "print(\"Local-gov 5만달러 이하\", 927 / (2209+927))"
   ]
  },
  {
   "cell_type": "code",
   "execution_count": 79,
   "id": "1738ed6a-3b22-4069-bf0e-10996a5afff0",
   "metadata": {},
   "outputs": [],
   "source": [
    "# Never-worked는 다 5만달러 이하임"
   ]
  },
  {
   "cell_type": "code",
   "execution_count": 80,
   "id": "e91827c4-52c1-48e6-a779-d97452de2c80",
   "metadata": {},
   "outputs": [
    {
     "name": "stdout",
     "output_type": "stream",
     "text": [
      "Private 5만달러 이하 0.7821329558190291\n",
      "Private 5만달러 초과 0.21786704418097091\n"
     ]
    }
   ],
   "source": [
    "print(\"Private 5만달러 이하\", 26519 / (26519+7387))\n",
    "print(\"Private 5만달러 초과\", 7387 / (26519+7387))"
   ]
  },
  {
   "cell_type": "code",
   "execution_count": 81,
   "id": "85a22233-7975-4eef-aea9-3d9721231421",
   "metadata": {},
   "outputs": [
    {
     "name": "stdout",
     "output_type": "stream",
     "text": [
      "Self-emp-inc 5만달러 이하 0.44660766961651915\n",
      "Self-emp-inc 5만달러 초과 0.5533923303834808\n"
     ]
    }
   ],
   "source": [
    "print(\"Self-emp-inc 5만달러 이하\", 757 / (757+938))\n",
    "print(\"Self-emp-inc 5만달러 초과\", 938 / (757+938))"
   ]
  },
  {
   "cell_type": "code",
   "execution_count": 82,
   "id": "549b0a57-38ca-4c15-957f-95cf80f514ac",
   "metadata": {},
   "outputs": [
    {
     "name": "stdout",
     "output_type": "stream",
     "text": [
      "Self-emp-not-inc 5만달러 이하 0.7211289487312273\n",
      "Self-emp-not-inc 5만달러 초과 0.27887105126877265\n"
     ]
    }
   ],
   "source": [
    "print(\"Self-emp-not-inc 5만달러 이하\", 2785 / (2785+1077))\n",
    "print(\"Self-emp-not-inc 5만달러 초과\", 1077 / (2785+1077))"
   ]
  },
  {
   "cell_type": "code",
   "execution_count": 83,
   "id": "311373f5-85f2-474d-a647-dea9f4c6d2eb",
   "metadata": {},
   "outputs": [
    {
     "name": "stdout",
     "output_type": "stream",
     "text": [
      "State-gov 5만달러 이하 0.7324583543664815\n",
      "State-gov 5만달러 초과 0.2675416456335184\n"
     ]
    }
   ],
   "source": [
    "print(\"State-gov 5만달러 이하\", 1451 / (1451+530))\n",
    "print(\"State-gov 5만달러 초과\", 530 / (1451+530))"
   ]
  },
  {
   "cell_type": "code",
   "execution_count": 84,
   "id": "1919289c-cb6c-4555-bbb5-445f71915373",
   "metadata": {},
   "outputs": [
    {
     "name": "stdout",
     "output_type": "stream",
     "text": [
      "Without-pay 5만달러 이하 0.9047619047619048\n",
      "Without-pay 5만달러 초과 0.09523809523809523\n"
     ]
    }
   ],
   "source": [
    "print(\"Without-pay 5만달러 이하\", 19 / (19+2))\n",
    "print(\"Without-pay 5만달러 초과\", 2 / (19+2))"
   ]
  },
  {
   "cell_type": "code",
   "execution_count": 87,
   "id": "9b4978ed-81bc-43d9-b19c-8868f69c1eb4",
   "metadata": {},
   "outputs": [],
   "source": [
    "data_w_o = data[(data['occupation'].isna() == True) | (data['workclass'].isna() == True)]"
   ]
  },
  {
   "cell_type": "code",
   "execution_count": 88,
   "id": "e972cad1-2c6d-4785-841d-a64e7ace8668",
   "metadata": {},
   "outputs": [
    {
     "data": {
      "text/html": [
       "<div>\n",
       "<style scoped>\n",
       "    .dataframe tbody tr th:only-of-type {\n",
       "        vertical-align: middle;\n",
       "    }\n",
       "\n",
       "    .dataframe tbody tr th {\n",
       "        vertical-align: top;\n",
       "    }\n",
       "\n",
       "    .dataframe thead th {\n",
       "        text-align: right;\n",
       "    }\n",
       "</style>\n",
       "<table border=\"1\" class=\"dataframe\">\n",
       "  <thead>\n",
       "    <tr style=\"text-align: right;\">\n",
       "      <th></th>\n",
       "      <th>age</th>\n",
       "      <th>workclass</th>\n",
       "      <th>education</th>\n",
       "      <th>education-num</th>\n",
       "      <th>marital-status</th>\n",
       "      <th>occupation</th>\n",
       "      <th>relationship</th>\n",
       "      <th>race</th>\n",
       "      <th>sex</th>\n",
       "      <th>capital-gain</th>\n",
       "      <th>capital-loss</th>\n",
       "      <th>hours-per-week</th>\n",
       "      <th>native-country</th>\n",
       "      <th>class</th>\n",
       "    </tr>\n",
       "  </thead>\n",
       "  <tbody>\n",
       "    <tr>\n",
       "      <th>4</th>\n",
       "      <td>18</td>\n",
       "      <td>NaN</td>\n",
       "      <td>Some-college</td>\n",
       "      <td>10</td>\n",
       "      <td>Never-married</td>\n",
       "      <td>NaN</td>\n",
       "      <td>Own-child</td>\n",
       "      <td>White</td>\n",
       "      <td>Female</td>\n",
       "      <td>0</td>\n",
       "      <td>0</td>\n",
       "      <td>30</td>\n",
       "      <td>United-States</td>\n",
       "      <td>&lt;=50K</td>\n",
       "    </tr>\n",
       "    <tr>\n",
       "      <th>6</th>\n",
       "      <td>29</td>\n",
       "      <td>NaN</td>\n",
       "      <td>HS-grad</td>\n",
       "      <td>9</td>\n",
       "      <td>Never-married</td>\n",
       "      <td>NaN</td>\n",
       "      <td>Unmarried</td>\n",
       "      <td>Black</td>\n",
       "      <td>Male</td>\n",
       "      <td>0</td>\n",
       "      <td>0</td>\n",
       "      <td>40</td>\n",
       "      <td>United-States</td>\n",
       "      <td>&lt;=50K</td>\n",
       "    </tr>\n",
       "    <tr>\n",
       "      <th>13</th>\n",
       "      <td>58</td>\n",
       "      <td>NaN</td>\n",
       "      <td>HS-grad</td>\n",
       "      <td>9</td>\n",
       "      <td>Married-civ-spouse</td>\n",
       "      <td>NaN</td>\n",
       "      <td>Husband</td>\n",
       "      <td>White</td>\n",
       "      <td>Male</td>\n",
       "      <td>0</td>\n",
       "      <td>0</td>\n",
       "      <td>35</td>\n",
       "      <td>United-States</td>\n",
       "      <td>&lt;=50K</td>\n",
       "    </tr>\n",
       "    <tr>\n",
       "      <th>22</th>\n",
       "      <td>72</td>\n",
       "      <td>NaN</td>\n",
       "      <td>7th-8th</td>\n",
       "      <td>4</td>\n",
       "      <td>Divorced</td>\n",
       "      <td>NaN</td>\n",
       "      <td>Not-in-family</td>\n",
       "      <td>White</td>\n",
       "      <td>Female</td>\n",
       "      <td>0</td>\n",
       "      <td>0</td>\n",
       "      <td>6</td>\n",
       "      <td>United-States</td>\n",
       "      <td>&lt;=50K</td>\n",
       "    </tr>\n",
       "    <tr>\n",
       "      <th>35</th>\n",
       "      <td>65</td>\n",
       "      <td>NaN</td>\n",
       "      <td>HS-grad</td>\n",
       "      <td>9</td>\n",
       "      <td>Married-civ-spouse</td>\n",
       "      <td>NaN</td>\n",
       "      <td>Husband</td>\n",
       "      <td>White</td>\n",
       "      <td>Male</td>\n",
       "      <td>0</td>\n",
       "      <td>0</td>\n",
       "      <td>40</td>\n",
       "      <td>United-States</td>\n",
       "      <td>&lt;=50K</td>\n",
       "    </tr>\n",
       "    <tr>\n",
       "      <th>...</th>\n",
       "      <td>...</td>\n",
       "      <td>...</td>\n",
       "      <td>...</td>\n",
       "      <td>...</td>\n",
       "      <td>...</td>\n",
       "      <td>...</td>\n",
       "      <td>...</td>\n",
       "      <td>...</td>\n",
       "      <td>...</td>\n",
       "      <td>...</td>\n",
       "      <td>...</td>\n",
       "      <td>...</td>\n",
       "      <td>...</td>\n",
       "      <td>...</td>\n",
       "    </tr>\n",
       "    <tr>\n",
       "      <th>48811</th>\n",
       "      <td>35</td>\n",
       "      <td>NaN</td>\n",
       "      <td>Bachelors</td>\n",
       "      <td>13</td>\n",
       "      <td>Married-civ-spouse</td>\n",
       "      <td>NaN</td>\n",
       "      <td>Wife</td>\n",
       "      <td>White</td>\n",
       "      <td>Female</td>\n",
       "      <td>0</td>\n",
       "      <td>0</td>\n",
       "      <td>55</td>\n",
       "      <td>United-States</td>\n",
       "      <td>&gt;50K</td>\n",
       "    </tr>\n",
       "    <tr>\n",
       "      <th>48812</th>\n",
       "      <td>30</td>\n",
       "      <td>NaN</td>\n",
       "      <td>Bachelors</td>\n",
       "      <td>13</td>\n",
       "      <td>Never-married</td>\n",
       "      <td>NaN</td>\n",
       "      <td>Not-in-family</td>\n",
       "      <td>Asian-Pac-Islander</td>\n",
       "      <td>Female</td>\n",
       "      <td>0</td>\n",
       "      <td>0</td>\n",
       "      <td>99</td>\n",
       "      <td>United-States</td>\n",
       "      <td>&lt;=50K</td>\n",
       "    </tr>\n",
       "    <tr>\n",
       "      <th>48820</th>\n",
       "      <td>71</td>\n",
       "      <td>NaN</td>\n",
       "      <td>Doctorate</td>\n",
       "      <td>16</td>\n",
       "      <td>Married-civ-spouse</td>\n",
       "      <td>NaN</td>\n",
       "      <td>Husband</td>\n",
       "      <td>White</td>\n",
       "      <td>Male</td>\n",
       "      <td>0</td>\n",
       "      <td>0</td>\n",
       "      <td>10</td>\n",
       "      <td>United-States</td>\n",
       "      <td>&gt;50K</td>\n",
       "    </tr>\n",
       "    <tr>\n",
       "      <th>48822</th>\n",
       "      <td>41</td>\n",
       "      <td>NaN</td>\n",
       "      <td>HS-grad</td>\n",
       "      <td>9</td>\n",
       "      <td>Separated</td>\n",
       "      <td>NaN</td>\n",
       "      <td>Not-in-family</td>\n",
       "      <td>Black</td>\n",
       "      <td>Female</td>\n",
       "      <td>0</td>\n",
       "      <td>0</td>\n",
       "      <td>32</td>\n",
       "      <td>United-States</td>\n",
       "      <td>&lt;=50K</td>\n",
       "    </tr>\n",
       "    <tr>\n",
       "      <th>48823</th>\n",
       "      <td>72</td>\n",
       "      <td>NaN</td>\n",
       "      <td>HS-grad</td>\n",
       "      <td>9</td>\n",
       "      <td>Married-civ-spouse</td>\n",
       "      <td>NaN</td>\n",
       "      <td>Husband</td>\n",
       "      <td>White</td>\n",
       "      <td>Male</td>\n",
       "      <td>0</td>\n",
       "      <td>0</td>\n",
       "      <td>25</td>\n",
       "      <td>United-States</td>\n",
       "      <td>&lt;=50K</td>\n",
       "    </tr>\n",
       "  </tbody>\n",
       "</table>\n",
       "<p>2809 rows × 14 columns</p>\n",
       "</div>"
      ],
      "text/plain": [
       "       age workclass      education  education-num       marital-status  \\\n",
       "4       18       NaN   Some-college             10        Never-married   \n",
       "6       29       NaN        HS-grad              9        Never-married   \n",
       "13      58       NaN        HS-grad              9   Married-civ-spouse   \n",
       "22      72       NaN        7th-8th              4             Divorced   \n",
       "35      65       NaN        HS-grad              9   Married-civ-spouse   \n",
       "...    ...       ...            ...            ...                  ...   \n",
       "48811   35       NaN      Bachelors             13   Married-civ-spouse   \n",
       "48812   30       NaN      Bachelors             13        Never-married   \n",
       "48820   71       NaN      Doctorate             16   Married-civ-spouse   \n",
       "48822   41       NaN        HS-grad              9            Separated   \n",
       "48823   72       NaN        HS-grad              9   Married-civ-spouse   \n",
       "\n",
       "      occupation    relationship                 race      sex  capital-gain  \\\n",
       "4            NaN       Own-child                White   Female             0   \n",
       "6            NaN       Unmarried                Black     Male             0   \n",
       "13           NaN         Husband                White     Male             0   \n",
       "22           NaN   Not-in-family                White   Female             0   \n",
       "35           NaN         Husband                White     Male             0   \n",
       "...          ...             ...                  ...      ...           ...   \n",
       "48811        NaN            Wife                White   Female             0   \n",
       "48812        NaN   Not-in-family   Asian-Pac-Islander   Female             0   \n",
       "48820        NaN         Husband                White     Male             0   \n",
       "48822        NaN   Not-in-family                Black   Female             0   \n",
       "48823        NaN         Husband                White     Male             0   \n",
       "\n",
       "       capital-loss  hours-per-week  native-country   class  \n",
       "4                 0              30   United-States   <=50K  \n",
       "6                 0              40   United-States   <=50K  \n",
       "13                0              35   United-States   <=50K  \n",
       "22                0               6   United-States   <=50K  \n",
       "35                0              40   United-States   <=50K  \n",
       "...             ...             ...             ...     ...  \n",
       "48811             0              55   United-States    >50K  \n",
       "48812             0              99   United-States   <=50K  \n",
       "48820             0              10   United-States    >50K  \n",
       "48822             0              32   United-States   <=50K  \n",
       "48823             0              25   United-States   <=50K  \n",
       "\n",
       "[2809 rows x 14 columns]"
      ]
     },
     "execution_count": 88,
     "metadata": {},
     "output_type": "execute_result"
    }
   ],
   "source": [
    "data_w_o"
   ]
  },
  {
   "cell_type": "code",
   "execution_count": 90,
   "id": "0c0e5d3a-8a8a-4f1a-9f1a-b4412c51800b",
   "metadata": {},
   "outputs": [
    {
     "data": {
      "text/plain": [
       "array([nan, ' Never-worked'], dtype=object)"
      ]
     },
     "execution_count": 90,
     "metadata": {},
     "output_type": "execute_result"
    }
   ],
   "source": [
    "data_w_o['workclass'].unique()"
   ]
  },
  {
   "cell_type": "code",
   "execution_count": null,
   "id": "90666c4a-795e-4fd9-931e-fdca945f7401",
   "metadata": {},
   "outputs": [],
   "source": [
    "data_w_o['workclass']"
   ]
  },
  {
   "cell_type": "code",
   "execution_count": null,
   "id": "fb48e39d-4eba-46e1-bd13-f7c83fba66f9",
   "metadata": {},
   "outputs": [],
   "source": []
  },
  {
   "cell_type": "code",
   "execution_count": null,
   "id": "e30558e4-e121-41ed-a47c-c2f99afb83e6",
   "metadata": {},
   "outputs": [],
   "source": []
  },
  {
   "cell_type": "code",
   "execution_count": null,
   "id": "f9afa6aa-9712-433b-b9f0-15f302c6de38",
   "metadata": {},
   "outputs": [],
   "source": []
  },
  {
   "cell_type": "code",
   "execution_count": null,
   "id": "8b506abd-de99-42ff-a8a4-2352af7311dd",
   "metadata": {},
   "outputs": [],
   "source": []
  },
  {
   "cell_type": "code",
   "execution_count": null,
   "id": "0c87bb27-2363-407e-9b4d-73db78316a85",
   "metadata": {},
   "outputs": [],
   "source": []
  },
  {
   "cell_type": "code",
   "execution_count": null,
   "id": "90bd25b5-7553-4ae6-88eb-6230c1d48c8a",
   "metadata": {},
   "outputs": [],
   "source": []
  },
  {
   "cell_type": "code",
   "execution_count": null,
   "id": "1ba17b44-56af-4b91-a51c-eb0f32c21923",
   "metadata": {},
   "outputs": [],
   "source": []
  },
  {
   "cell_type": "code",
   "execution_count": null,
   "id": "4368ddf9-c967-40e2-8c30-fdc19321f7f4",
   "metadata": {},
   "outputs": [],
   "source": []
  },
  {
   "cell_type": "code",
   "execution_count": null,
   "id": "2141b345-4858-41a4-a7ab-f89e3dadee1e",
   "metadata": {},
   "outputs": [],
   "source": []
  },
  {
   "cell_type": "code",
   "execution_count": 22,
   "id": "89e31394-a701-4bad-8618-62829b3fcc61",
   "metadata": {},
   "outputs": [
    {
     "name": "stdout",
     "output_type": "stream",
     "text": [
      "Private 0.21786704418097091\n",
      "Self-emp-inc 0.5533923303834808\n",
      "Self-emp-not-inc 0.27887105126877265\n",
      "State-gov 0.2675416456335184\n",
      "Without-pay 0.09523809523809523\n"
     ]
    }
   ],
   "source": [
    "# 5만달러 초과\n",
    "print(\"Private\", 7387 / (26519+7387))\n",
    "print(\"Self-emp-inc\", 938 / (757+938))\n",
    "print(\"Self-emp-not-inc\", 1077 / (2785+1077))\n",
    "print(\"State-gov\", 530 / (1451+530))\n",
    "print(\"Without-pay\", 2 / (19+2))"
   ]
  },
  {
   "cell_type": "code",
   "execution_count": 23,
   "id": "8cb6ac8d-e0f8-4e45-ab3c-38dfb478356d",
   "metadata": {},
   "outputs": [],
   "source": [
    "data['workclass'] = data['workclass'].fillna('Private')"
   ]
  },
  {
   "cell_type": "code",
   "execution_count": null,
   "id": "6c41aff2-09cf-4214-a6b3-bc0736b81a9c",
   "metadata": {},
   "outputs": [],
   "source": []
  },
  {
   "cell_type": "code",
   "execution_count": null,
   "id": "1c39e5b4-d459-437b-a5cb-19f254d14d99",
   "metadata": {},
   "outputs": [],
   "source": []
  },
  {
   "cell_type": "code",
   "execution_count": 24,
   "id": "4d320d1c-c373-4808-98d6-d3013e4c33cf",
   "metadata": {},
   "outputs": [
    {
     "name": "stdout",
     "output_type": "stream",
     "text": [
      "<class 'pandas.core.frame.DataFrame'>\n",
      "RangeIndex: 48842 entries, 0 to 48841\n",
      "Data columns (total 14 columns):\n",
      " #   Column          Non-Null Count  Dtype \n",
      "---  ------          --------------  ----- \n",
      " 0   age             48842 non-null  int64 \n",
      " 1   workclass       48842 non-null  object\n",
      " 2   education       48842 non-null  object\n",
      " 3   education-num   48842 non-null  int64 \n",
      " 4   marital-status  48842 non-null  object\n",
      " 5   occupation      46033 non-null  object\n",
      " 6   relationship    48842 non-null  object\n",
      " 7   race            48842 non-null  object\n",
      " 8   sex             48842 non-null  object\n",
      " 9   capital-gain    48842 non-null  int64 \n",
      " 10  capital-loss    48842 non-null  int64 \n",
      " 11  hours-per-week  48842 non-null  int64 \n",
      " 12  native-country  47985 non-null  object\n",
      " 13  class           48842 non-null  object\n",
      "dtypes: int64(5), object(9)\n",
      "memory usage: 5.2+ MB\n"
     ]
    }
   ],
   "source": [
    "data.info()"
   ]
  },
  {
   "cell_type": "code",
   "execution_count": 25,
   "id": "52d1a84e-304b-48c5-bfd6-fd99c2f94c5d",
   "metadata": {},
   "outputs": [
    {
     "data": {
      "text/plain": [
       "age                  0\n",
       "workclass            0\n",
       "education            0\n",
       "education-num        0\n",
       "marital-status       0\n",
       "occupation        2809\n",
       "relationship         0\n",
       "race                 0\n",
       "sex                  0\n",
       "capital-gain         0\n",
       "capital-loss         0\n",
       "hours-per-week       0\n",
       "native-country     857\n",
       "class                0\n",
       "dtype: int64"
      ]
     },
     "execution_count": 25,
     "metadata": {},
     "output_type": "execute_result"
    }
   ],
   "source": [
    "data.isna().sum()"
   ]
  },
  {
   "cell_type": "code",
   "execution_count": 30,
   "id": "ddb4904a-5184-42ca-a159-96a202b8a720",
   "metadata": {
    "scrolled": true
   },
   "outputs": [
    {
     "data": {
      "text/plain": [
       "<bound method NDFrame.head of 0         Machine-op-inspct\n",
       "1           Farming-fishing\n",
       "2           Protective-serv\n",
       "3         Machine-op-inspct\n",
       "4                       NaN\n",
       "                ...        \n",
       "48837          Tech-support\n",
       "48838     Machine-op-inspct\n",
       "48839          Adm-clerical\n",
       "48840          Adm-clerical\n",
       "48841       Exec-managerial\n",
       "Name: occupation, Length: 48842, dtype: object>"
      ]
     },
     "execution_count": 30,
     "metadata": {},
     "output_type": "execute_result"
    }
   ],
   "source": [
    "# 직업별\n",
    "data['occupation'].head"
   ]
  },
  {
   "cell_type": "code",
   "execution_count": 27,
   "id": "0649831d-b925-4601-baf3-ab01cbaa82fa",
   "metadata": {},
   "outputs": [
    {
     "data": {
      "text/plain": [
       "array([' Machine-op-inspct', ' Farming-fishing', ' Protective-serv', nan,\n",
       "       ' Other-service', ' Prof-specialty', ' Craft-repair',\n",
       "       ' Adm-clerical', ' Exec-managerial', ' Tech-support', ' Sales',\n",
       "       ' Priv-house-serv', ' Transport-moving', ' Handlers-cleaners',\n",
       "       ' Armed-Forces'], dtype=object)"
      ]
     },
     "execution_count": 27,
     "metadata": {},
     "output_type": "execute_result"
    }
   ],
   "source": [
    "data['occupation'].unique()"
   ]
  },
  {
   "cell_type": "code",
   "execution_count": 28,
   "id": "af6e76fb-8453-4028-b263-8966cdc35cec",
   "metadata": {},
   "outputs": [
    {
     "data": {
      "text/plain": [
       "14"
      ]
     },
     "execution_count": 28,
     "metadata": {},
     "output_type": "execute_result"
    }
   ],
   "source": [
    "data['occupation'].nunique()"
   ]
  },
  {
   "cell_type": "code",
   "execution_count": 31,
   "id": "3ae215c4-9156-4f74-acb2-2b23522c2766",
   "metadata": {},
   "outputs": [
    {
     "data": {
      "text/plain": [
       "occupation\n",
       "Prof-specialty       6172\n",
       "Craft-repair         6112\n",
       "Exec-managerial      6086\n",
       "Adm-clerical         5611\n",
       "Sales                5504\n",
       "Other-service        4923\n",
       "Machine-op-inspct    3022\n",
       "Transport-moving     2355\n",
       "Handlers-cleaners    2072\n",
       "Farming-fishing      1490\n",
       "Tech-support         1446\n",
       "Protective-serv       983\n",
       "Priv-house-serv       242\n",
       "Armed-Forces           15\n",
       "Name: count, dtype: int64"
      ]
     },
     "execution_count": 31,
     "metadata": {},
     "output_type": "execute_result"
    }
   ],
   "source": [
    "data['occupation'].value_counts()"
   ]
  },
  {
   "cell_type": "code",
   "execution_count": 32,
   "id": "20685025-2351-44d4-8d6f-2434a18c64ec",
   "metadata": {},
   "outputs": [
    {
     "data": {
      "text/plain": [
       "count               46033\n",
       "unique                 14\n",
       "top        Prof-specialty\n",
       "freq                 6172\n",
       "Name: occupation, dtype: object"
      ]
     },
     "execution_count": 32,
     "metadata": {},
     "output_type": "execute_result"
    }
   ],
   "source": [
    "data['occupation'].describe()"
   ]
  },
  {
   "cell_type": "code",
   "execution_count": 29,
   "id": "8ada8ad8-0092-4622-9096-1829d89c6882",
   "metadata": {},
   "outputs": [
    {
     "data": {
      "text/plain": [
       "occupation         class\n",
       "Adm-clerical       <=50K    4843\n",
       "                   >50K      768\n",
       "Armed-Forces       <=50K      10\n",
       "                   >50K        5\n",
       "Craft-repair       <=50K    4729\n",
       "                   >50K     1383\n",
       "Exec-managerial    <=50K    3178\n",
       "                   >50K     2908\n",
       "Farming-fishing    <=50K    1317\n",
       "                   >50K      173\n",
       "Handlers-cleaners  <=50K    1934\n",
       "                   >50K      138\n",
       "Machine-op-inspct  <=50K    2650\n",
       "                   >50K      372\n",
       "Other-service      <=50K    4719\n",
       "                   >50K      204\n",
       "Priv-house-serv    <=50K     239\n",
       "                   >50K        3\n",
       "Prof-specialty     <=50K    3388\n",
       "                   >50K     2784\n",
       "Protective-serv    <=50K     675\n",
       "                   >50K      308\n",
       "Sales              <=50K    4029\n",
       "                   >50K     1475\n",
       "Tech-support       <=50K    1026\n",
       "                   >50K      420\n",
       "Transport-moving   <=50K    1874\n",
       "                   >50K      481\n",
       "Name: count, dtype: int64"
      ]
     },
     "execution_count": 29,
     "metadata": {},
     "output_type": "execute_result"
    }
   ],
   "source": [
    "data.groupby('occupation')['class'].value_counts(sort=False)"
   ]
  },
  {
   "cell_type": "code",
   "execution_count": 31,
   "id": "ea2463ce-194c-45c6-a2c5-1d2e980388a1",
   "metadata": {},
   "outputs": [
    {
     "name": "stdout",
     "output_type": "stream",
     "text": [
      "Adm-clerical 5만달러 이하 0.863126002495099\n",
      "Adm-clerical 5만달러 초과 0.1368739975049011\n"
     ]
    }
   ],
   "source": [
    "print(\"Adm-clerical 5만달러 이하\", 4843 / (4843+768))\n",
    "print(\"Adm-clerical 5만달러 초과\", 768 / (4843+768))"
   ]
  },
  {
   "cell_type": "code",
   "execution_count": 32,
   "id": "f86e9d48-e5e5-43d1-a9f0-7238ba4cc9e6",
   "metadata": {},
   "outputs": [
    {
     "name": "stdout",
     "output_type": "stream",
     "text": [
      "Armed-Forces 5만달러 이하 0.6666666666666666\n",
      "Armed-Forces 5만달러 초과 0.3333333333333333\n"
     ]
    }
   ],
   "source": [
    "print(\"Armed-Forces 5만달러 이하\", 10 / (10+5))\n",
    "print(\"Armed-Forces 5만달러 초과\", 5 / (10+5))"
   ]
  },
  {
   "cell_type": "code",
   "execution_count": 33,
   "id": "ebd83912-4708-4469-a297-7592a0bae4fb",
   "metadata": {},
   "outputs": [
    {
     "name": "stdout",
     "output_type": "stream",
     "text": [
      "Craft-repair 5만달러 이하 0.7737238219895288\n",
      "Craft-repair 5만달러 초과 0.2262761780104712\n"
     ]
    }
   ],
   "source": [
    "print(\"Craft-repair 5만달러 이하\", 4729 / (4729+1383))\n",
    "print(\"Craft-repair 5만달러 초과\", 1383 / (4729+1383))"
   ]
  },
  {
   "cell_type": "code",
   "execution_count": 34,
   "id": "f5173697-09ca-4264-bdd7-44517b2b465d",
   "metadata": {},
   "outputs": [
    {
     "name": "stdout",
     "output_type": "stream",
     "text": [
      "Exec-managerial 5만달러 이하 0.5221820571804141\n",
      "Exec-managerial 5만달러 초과 0.47781794281958595\n"
     ]
    }
   ],
   "source": [
    "print(\"Exec-managerial 5만달러 이하\", 3178 / (3178+2908))\n",
    "print(\"Exec-managerial 5만달러 초과\", 2908 / (3178+2908))"
   ]
  },
  {
   "cell_type": "code",
   "execution_count": 35,
   "id": "f72d502d-9aa5-4fd8-81b9-145bb084b398",
   "metadata": {},
   "outputs": [
    {
     "name": "stdout",
     "output_type": "stream",
     "text": [
      "Farming-fishing 5만달러 이하 0.8838926174496644\n",
      "Farming-fishing 5만달러 초과 0.11610738255033556\n"
     ]
    }
   ],
   "source": [
    "print(\"Farming-fishing 5만달러 이하\", 1317 / (1317+173))\n",
    "print(\"Farming-fishing 5만달러 초과\", 173 / (1317+173))"
   ]
  },
  {
   "cell_type": "code",
   "execution_count": 36,
   "id": "36bd7aff-2f37-416b-b1f5-83687c89f5d8",
   "metadata": {},
   "outputs": [
    {
     "name": "stdout",
     "output_type": "stream",
     "text": [
      "Handlers-cleaners 5만달러 이하 0.9333976833976834\n",
      "Handlers-cleaners 5만달러 초과 0.06660231660231661\n"
     ]
    }
   ],
   "source": [
    "print(\"Handlers-cleaners 5만달러 이하\", 1934 / (1934+138))\n",
    "print(\"Handlers-cleaners 5만달러 초과\", 138 / (1934+138))"
   ]
  },
  {
   "cell_type": "code",
   "execution_count": 37,
   "id": "1db9e12f-df4e-4fe0-af1a-d41cb700c4cb",
   "metadata": {},
   "outputs": [
    {
     "name": "stdout",
     "output_type": "stream",
     "text": [
      "Machine-op-inspct 5만달러 이하 0.8769027134348114\n",
      "Machine-op-inspct 5만달러 초과 0.12309728656518862\n"
     ]
    }
   ],
   "source": [
    "print(\"Machine-op-inspct 5만달러 이하\", 2650 / (2650+372))\n",
    "print(\"Machine-op-inspct 5만달러 초과\", 372 / (2650+372))"
   ]
  },
  {
   "cell_type": "code",
   "execution_count": 38,
   "id": "bb82ee3b-64cc-4327-9ffd-18ce6c6a395c",
   "metadata": {},
   "outputs": [
    {
     "name": "stdout",
     "output_type": "stream",
     "text": [
      "Other-service 5만달러 이하 0.9585618525289458\n",
      "Other-service 5만달러 초과 0.04143814747105423\n"
     ]
    }
   ],
   "source": [
    "print(\"Other-service 5만달러 이하\", 4719 / (4719+204))\n",
    "print(\"Other-service 5만달러 초과\", 204 / (4719+204))"
   ]
  },
  {
   "cell_type": "code",
   "execution_count": 39,
   "id": "48b9ee9e-f027-43fa-9c63-a18952a84ecf",
   "metadata": {},
   "outputs": [
    {
     "name": "stdout",
     "output_type": "stream",
     "text": [
      "Priv-house-serv 5만달러 이하 0.987603305785124\n",
      "Priv-house-serv 5만달러 초과 0.012396694214876033\n"
     ]
    }
   ],
   "source": [
    "print(\"Priv-house-serv 5만달러 이하\", 239 / (239+3))\n",
    "print(\"Priv-house-serv 5만달러 초과\", 3 / (239+3))"
   ]
  },
  {
   "cell_type": "code",
   "execution_count": 40,
   "id": "7aa03480-5638-48c8-99c0-1eebe557385d",
   "metadata": {},
   "outputs": [
    {
     "name": "stdout",
     "output_type": "stream",
     "text": [
      "Prof-specialty 5만달러 이하 0.5489306545690213\n",
      "Prof-specialty 5만달러 초과 0.4510693454309786\n"
     ]
    }
   ],
   "source": [
    "print(\"Prof-specialty 5만달러 이하\", 3388 / (3388+2784))\n",
    "print(\"Prof-specialty 5만달러 초과\", 2784 / (3388+2784))"
   ]
  },
  {
   "cell_type": "code",
   "execution_count": 41,
   "id": "6d7bffed-7087-4015-a9c8-65deb4691407",
   "metadata": {},
   "outputs": [
    {
     "name": "stdout",
     "output_type": "stream",
     "text": [
      "Protective-serv 5만달러 이하 0.6866734486266531\n",
      "Protective-serv 5만달러 초과 0.3133265513733469\n"
     ]
    }
   ],
   "source": [
    "print(\"Protective-serv 5만달러 이하\", 675 / (675+308))\n",
    "print(\"Protective-serv 5만달러 초과\", 308 / (675+308))"
   ]
  },
  {
   "cell_type": "code",
   "execution_count": 42,
   "id": "09a417e4-11c2-4bb0-a084-181447b56e1a",
   "metadata": {},
   "outputs": [
    {
     "name": "stdout",
     "output_type": "stream",
     "text": [
      "Sales 5만달러 이하 0.7320130813953488\n",
      "Sales 5만달러 초과 0.2679869186046512\n"
     ]
    }
   ],
   "source": [
    "print(\"Sales 5만달러 이하\", 4029 / (4029+1475))\n",
    "print(\"Sales 5만달러 초과\", 1475 / (4029+1475))"
   ]
  },
  {
   "cell_type": "code",
   "execution_count": 43,
   "id": "0c322168-803b-45d6-96b2-389a07f3e8ef",
   "metadata": {},
   "outputs": [
    {
     "name": "stdout",
     "output_type": "stream",
     "text": [
      "Tech-support 5만달러 이하 0.7095435684647303\n",
      "Tech-support 5만달러 초과 0.29045643153526973\n"
     ]
    }
   ],
   "source": [
    "print(\"Tech-support 5만달러 이하\", 1026 / (1026+420))\n",
    "print(\"Tech-support 5만달러 초과\", 420 / (1026+420))"
   ]
  },
  {
   "cell_type": "code",
   "execution_count": 44,
   "id": "70175d13-e557-4981-a8c6-535a193f4045",
   "metadata": {},
   "outputs": [
    {
     "name": "stdout",
     "output_type": "stream",
     "text": [
      "Transport-moving 5만달러 이하 0.7957537154989385\n",
      "Transport-moving 5만달러 초과 0.20424628450106158\n"
     ]
    }
   ],
   "source": [
    "print(\"Transport-moving 5만달러 이하\", 1874 / (1874+481))\n",
    "print(\"Transport-moving 5만달러 초과\", 481 / (1874+481))"
   ]
  },
  {
   "cell_type": "code",
   "execution_count": null,
   "id": "0dd887ea-5c56-4dc2-a214-01b0697f2562",
   "metadata": {},
   "outputs": [],
   "source": [
    "#Exec-managerial이 제일 높음"
   ]
  },
  {
   "cell_type": "code",
   "execution_count": 46,
   "id": "6457650e-133d-4b30-bbf8-33564ce053cf",
   "metadata": {},
   "outputs": [
    {
     "data": {
      "text/plain": [
       "count               46033\n",
       "unique                 14\n",
       "top        Prof-specialty\n",
       "freq                 6172\n",
       "Name: occupation, dtype: object"
      ]
     },
     "execution_count": 46,
     "metadata": {},
     "output_type": "execute_result"
    }
   ],
   "source": [
    "data['occupation'].describe()"
   ]
  },
  {
   "cell_type": "code",
   "execution_count": 64,
   "id": "8c531014-2d90-4f7b-8352-13036418c33b",
   "metadata": {},
   "outputs": [
    {
     "data": {
      "text/html": [
       "<div>\n",
       "<style scoped>\n",
       "    .dataframe tbody tr th:only-of-type {\n",
       "        vertical-align: middle;\n",
       "    }\n",
       "\n",
       "    .dataframe tbody tr th {\n",
       "        vertical-align: top;\n",
       "    }\n",
       "\n",
       "    .dataframe thead th {\n",
       "        text-align: right;\n",
       "    }\n",
       "</style>\n",
       "<table border=\"1\" class=\"dataframe\">\n",
       "  <thead>\n",
       "    <tr style=\"text-align: right;\">\n",
       "      <th></th>\n",
       "      <th>age</th>\n",
       "      <th>workclass</th>\n",
       "      <th>education</th>\n",
       "      <th>education-num</th>\n",
       "      <th>marital-status</th>\n",
       "      <th>occupation</th>\n",
       "      <th>relationship</th>\n",
       "      <th>race</th>\n",
       "      <th>sex</th>\n",
       "      <th>capital-gain</th>\n",
       "      <th>capital-loss</th>\n",
       "      <th>hours-per-week</th>\n",
       "      <th>native-country</th>\n",
       "      <th>class</th>\n",
       "    </tr>\n",
       "  </thead>\n",
       "  <tbody>\n",
       "    <tr>\n",
       "      <th>4</th>\n",
       "      <td>18</td>\n",
       "      <td>Private</td>\n",
       "      <td>Some-college</td>\n",
       "      <td>10</td>\n",
       "      <td>Never-married</td>\n",
       "      <td>NaN</td>\n",
       "      <td>Own-child</td>\n",
       "      <td>White</td>\n",
       "      <td>Female</td>\n",
       "      <td>0</td>\n",
       "      <td>0</td>\n",
       "      <td>30</td>\n",
       "      <td>United-States</td>\n",
       "      <td>&lt;=50K</td>\n",
       "    </tr>\n",
       "    <tr>\n",
       "      <th>6</th>\n",
       "      <td>29</td>\n",
       "      <td>Private</td>\n",
       "      <td>HS-grad</td>\n",
       "      <td>9</td>\n",
       "      <td>Never-married</td>\n",
       "      <td>NaN</td>\n",
       "      <td>Unmarried</td>\n",
       "      <td>Black</td>\n",
       "      <td>Male</td>\n",
       "      <td>0</td>\n",
       "      <td>0</td>\n",
       "      <td>40</td>\n",
       "      <td>United-States</td>\n",
       "      <td>&lt;=50K</td>\n",
       "    </tr>\n",
       "    <tr>\n",
       "      <th>13</th>\n",
       "      <td>58</td>\n",
       "      <td>Private</td>\n",
       "      <td>HS-grad</td>\n",
       "      <td>9</td>\n",
       "      <td>Married-civ-spouse</td>\n",
       "      <td>NaN</td>\n",
       "      <td>Husband</td>\n",
       "      <td>White</td>\n",
       "      <td>Male</td>\n",
       "      <td>0</td>\n",
       "      <td>0</td>\n",
       "      <td>35</td>\n",
       "      <td>United-States</td>\n",
       "      <td>&lt;=50K</td>\n",
       "    </tr>\n",
       "    <tr>\n",
       "      <th>22</th>\n",
       "      <td>72</td>\n",
       "      <td>Private</td>\n",
       "      <td>7th-8th</td>\n",
       "      <td>4</td>\n",
       "      <td>Divorced</td>\n",
       "      <td>NaN</td>\n",
       "      <td>Not-in-family</td>\n",
       "      <td>White</td>\n",
       "      <td>Female</td>\n",
       "      <td>0</td>\n",
       "      <td>0</td>\n",
       "      <td>6</td>\n",
       "      <td>United-States</td>\n",
       "      <td>&lt;=50K</td>\n",
       "    </tr>\n",
       "    <tr>\n",
       "      <th>35</th>\n",
       "      <td>65</td>\n",
       "      <td>Private</td>\n",
       "      <td>HS-grad</td>\n",
       "      <td>9</td>\n",
       "      <td>Married-civ-spouse</td>\n",
       "      <td>NaN</td>\n",
       "      <td>Husband</td>\n",
       "      <td>White</td>\n",
       "      <td>Male</td>\n",
       "      <td>0</td>\n",
       "      <td>0</td>\n",
       "      <td>40</td>\n",
       "      <td>United-States</td>\n",
       "      <td>&lt;=50K</td>\n",
       "    </tr>\n",
       "    <tr>\n",
       "      <th>...</th>\n",
       "      <td>...</td>\n",
       "      <td>...</td>\n",
       "      <td>...</td>\n",
       "      <td>...</td>\n",
       "      <td>...</td>\n",
       "      <td>...</td>\n",
       "      <td>...</td>\n",
       "      <td>...</td>\n",
       "      <td>...</td>\n",
       "      <td>...</td>\n",
       "      <td>...</td>\n",
       "      <td>...</td>\n",
       "      <td>...</td>\n",
       "      <td>...</td>\n",
       "    </tr>\n",
       "    <tr>\n",
       "      <th>48811</th>\n",
       "      <td>35</td>\n",
       "      <td>Private</td>\n",
       "      <td>Bachelors</td>\n",
       "      <td>13</td>\n",
       "      <td>Married-civ-spouse</td>\n",
       "      <td>NaN</td>\n",
       "      <td>Wife</td>\n",
       "      <td>White</td>\n",
       "      <td>Female</td>\n",
       "      <td>0</td>\n",
       "      <td>0</td>\n",
       "      <td>55</td>\n",
       "      <td>United-States</td>\n",
       "      <td>&gt;50K</td>\n",
       "    </tr>\n",
       "    <tr>\n",
       "      <th>48812</th>\n",
       "      <td>30</td>\n",
       "      <td>Private</td>\n",
       "      <td>Bachelors</td>\n",
       "      <td>13</td>\n",
       "      <td>Never-married</td>\n",
       "      <td>NaN</td>\n",
       "      <td>Not-in-family</td>\n",
       "      <td>Asian-Pac-Islander</td>\n",
       "      <td>Female</td>\n",
       "      <td>0</td>\n",
       "      <td>0</td>\n",
       "      <td>99</td>\n",
       "      <td>United-States</td>\n",
       "      <td>&lt;=50K</td>\n",
       "    </tr>\n",
       "    <tr>\n",
       "      <th>48820</th>\n",
       "      <td>71</td>\n",
       "      <td>Private</td>\n",
       "      <td>Doctorate</td>\n",
       "      <td>16</td>\n",
       "      <td>Married-civ-spouse</td>\n",
       "      <td>NaN</td>\n",
       "      <td>Husband</td>\n",
       "      <td>White</td>\n",
       "      <td>Male</td>\n",
       "      <td>0</td>\n",
       "      <td>0</td>\n",
       "      <td>10</td>\n",
       "      <td>United-States</td>\n",
       "      <td>&gt;50K</td>\n",
       "    </tr>\n",
       "    <tr>\n",
       "      <th>48822</th>\n",
       "      <td>41</td>\n",
       "      <td>Private</td>\n",
       "      <td>HS-grad</td>\n",
       "      <td>9</td>\n",
       "      <td>Separated</td>\n",
       "      <td>NaN</td>\n",
       "      <td>Not-in-family</td>\n",
       "      <td>Black</td>\n",
       "      <td>Female</td>\n",
       "      <td>0</td>\n",
       "      <td>0</td>\n",
       "      <td>32</td>\n",
       "      <td>United-States</td>\n",
       "      <td>&lt;=50K</td>\n",
       "    </tr>\n",
       "    <tr>\n",
       "      <th>48823</th>\n",
       "      <td>72</td>\n",
       "      <td>Private</td>\n",
       "      <td>HS-grad</td>\n",
       "      <td>9</td>\n",
       "      <td>Married-civ-spouse</td>\n",
       "      <td>NaN</td>\n",
       "      <td>Husband</td>\n",
       "      <td>White</td>\n",
       "      <td>Male</td>\n",
       "      <td>0</td>\n",
       "      <td>0</td>\n",
       "      <td>25</td>\n",
       "      <td>United-States</td>\n",
       "      <td>&lt;=50K</td>\n",
       "    </tr>\n",
       "  </tbody>\n",
       "</table>\n",
       "<p>2809 rows × 14 columns</p>\n",
       "</div>"
      ],
      "text/plain": [
       "       age workclass      education  education-num       marital-status  \\\n",
       "4       18   Private   Some-college             10        Never-married   \n",
       "6       29   Private        HS-grad              9        Never-married   \n",
       "13      58   Private        HS-grad              9   Married-civ-spouse   \n",
       "22      72   Private        7th-8th              4             Divorced   \n",
       "35      65   Private        HS-grad              9   Married-civ-spouse   \n",
       "...    ...       ...            ...            ...                  ...   \n",
       "48811   35   Private      Bachelors             13   Married-civ-spouse   \n",
       "48812   30   Private      Bachelors             13        Never-married   \n",
       "48820   71   Private      Doctorate             16   Married-civ-spouse   \n",
       "48822   41   Private        HS-grad              9            Separated   \n",
       "48823   72   Private        HS-grad              9   Married-civ-spouse   \n",
       "\n",
       "      occupation    relationship                 race      sex  capital-gain  \\\n",
       "4            NaN       Own-child                White   Female             0   \n",
       "6            NaN       Unmarried                Black     Male             0   \n",
       "13           NaN         Husband                White     Male             0   \n",
       "22           NaN   Not-in-family                White   Female             0   \n",
       "35           NaN         Husband                White     Male             0   \n",
       "...          ...             ...                  ...      ...           ...   \n",
       "48811        NaN            Wife                White   Female             0   \n",
       "48812        NaN   Not-in-family   Asian-Pac-Islander   Female             0   \n",
       "48820        NaN         Husband                White     Male             0   \n",
       "48822        NaN   Not-in-family                Black   Female             0   \n",
       "48823        NaN         Husband                White     Male             0   \n",
       "\n",
       "       capital-loss  hours-per-week  native-country   class  \n",
       "4                 0              30   United-States   <=50K  \n",
       "6                 0              40   United-States   <=50K  \n",
       "13                0              35   United-States   <=50K  \n",
       "22                0               6   United-States   <=50K  \n",
       "35                0              40   United-States   <=50K  \n",
       "...             ...             ...             ...     ...  \n",
       "48811             0              55   United-States    >50K  \n",
       "48812             0              99   United-States   <=50K  \n",
       "48820             0              10   United-States    >50K  \n",
       "48822             0              32   United-States   <=50K  \n",
       "48823             0              25   United-States   <=50K  \n",
       "\n",
       "[2809 rows x 14 columns]"
      ]
     },
     "execution_count": 64,
     "metadata": {},
     "output_type": "execute_result"
    }
   ],
   "source": [
    "data[data['occupation'].isna() == True]"
   ]
  },
  {
   "cell_type": "code",
   "execution_count": null,
   "id": "1d172104-0a53-4547-b080-2e95ef5fb498",
   "metadata": {},
   "outputs": [],
   "source": []
  },
  {
   "cell_type": "code",
   "execution_count": 54,
   "id": "3552749e-182e-403f-8de3-8ca5c6362551",
   "metadata": {},
   "outputs": [
    {
     "data": {
      "text/plain": [
       "<Axes: ylabel='Frequency'>"
      ]
     },
     "execution_count": 54,
     "metadata": {},
     "output_type": "execute_result"
    },
    {
     "data": {
      "image/png": "[encoded data removed]",
      "text/plain": [
       "<Figure size 640x480 with 1 Axes>"
      ]
     },
     "metadata": {},
     "output_type": "display_data"
    }
   ],
   "source": [
    "data.groupby('occupation')['education'].value_counts(sort=False).plot(kind = 'hist')"
   ]
  },
  {
   "cell_type": "code",
   "execution_count": 55,
   "id": "d796858f-56d2-4ebb-b3ad-97bab0b4458f",
   "metadata": {},
   "outputs": [
    {
     "data": {
      "text/plain": [
       "occupation        education   \n",
       "Adm-clerical      HS-grad         2047\n",
       "                  Some-college    1858\n",
       "                  Bachelors        765\n",
       "                  Assoc-acdm       281\n",
       "                  Assoc-voc        269\n",
       "                                  ... \n",
       "Transport-moving  Masters           14\n",
       "                  1st-4th           12\n",
       "                  Prof-school        3\n",
       "                  Doctorate          2\n",
       "                  Preschool          2\n",
       "Name: count, Length: 209, dtype: int64"
      ]
     },
     "execution_count": 55,
     "metadata": {},
     "output_type": "execute_result"
    }
   ],
   "source": [
    "occ = data.groupby('occupation')['education'].value_counts()\n",
    "occ"
   ]
  },
  {
   "cell_type": "code",
   "execution_count": 57,
   "id": "1a6045f3-33b2-4dca-a548-f990c1915ed4",
   "metadata": {},
   "outputs": [
    {
     "data": {
      "text/plain": [
       "MultiIndex([(    ' Adm-clerical',      ' HS-grad'),\n",
       "            (    ' Adm-clerical', ' Some-college'),\n",
       "            (    ' Adm-clerical',    ' Bachelors'),\n",
       "            (    ' Adm-clerical',   ' Assoc-acdm'),\n",
       "            (    ' Adm-clerical',    ' Assoc-voc'),\n",
       "            (    ' Adm-clerical',      ' Masters'),\n",
       "            (    ' Adm-clerical',         ' 11th'),\n",
       "            (    ' Adm-clerical',         ' 10th'),\n",
       "            (    ' Adm-clerical',         ' 12th'),\n",
       "            (    ' Adm-clerical',      ' 7th-8th'),\n",
       "            ...\n",
       "            (' Transport-moving',          ' 9th'),\n",
       "            (' Transport-moving',         ' 12th'),\n",
       "            (' Transport-moving',    ' Assoc-voc'),\n",
       "            (' Transport-moving',      ' 5th-6th'),\n",
       "            (' Transport-moving',   ' Assoc-acdm'),\n",
       "            (' Transport-moving',      ' Masters'),\n",
       "            (' Transport-moving',      ' 1st-4th'),\n",
       "            (' Transport-moving',  ' Prof-school'),\n",
       "            (' Transport-moving',    ' Doctorate'),\n",
       "            (' Transport-moving',    ' Preschool')],\n",
       "           names=['occupation', 'education'], length=209)"
      ]
     },
     "execution_count": 57,
     "metadata": {},
     "output_type": "execute_result"
    }
   ],
   "source": [
    "occ.index"
   ]
  },
  {
   "cell_type": "code",
   "execution_count": 58,
   "id": "36a39fc7-a3d4-400f-8adc-daae63d7df62",
   "metadata": {},
   "outputs": [
    {
     "data": {
      "text/plain": [
       "education     class\n",
       "10th          <=50K     1302\n",
       "              >50K        87\n",
       "11th          <=50K     1720\n",
       "              >50K        92\n",
       "12th          <=50K      609\n",
       "              >50K        48\n",
       "1st-4th       <=50K      239\n",
       "              >50K         8\n",
       "5th-6th       <=50K      482\n",
       "              >50K        27\n",
       "7th-8th       <=50K      893\n",
       "              >50K        62\n",
       "9th           <=50K      715\n",
       "              >50K        41\n",
       "Assoc-acdm    <=50K     1188\n",
       "              >50K       413\n",
       "Assoc-voc     <=50K     1539\n",
       "              >50K       522\n",
       "Bachelors     <=50K     4712\n",
       "              >50K      3313\n",
       "Doctorate     >50K       431\n",
       "              <=50K      163\n",
       "HS-grad       <=50K    13281\n",
       "              >50K      2503\n",
       "Masters       >50K      1459\n",
       "              <=50K     1198\n",
       "Preschool     <=50K       82\n",
       "              >50K         1\n",
       "Prof-school   >50K       617\n",
       "              <=50K      217\n",
       "Some-college  <=50K     8815\n",
       "              >50K      2063\n",
       "Name: count, dtype: int64"
      ]
     },
     "execution_count": 58,
     "metadata": {},
     "output_type": "execute_result"
    }
   ],
   "source": [
    "data.groupby('education')['class'].value_counts()"
   ]
  },
  {
   "cell_type": "code",
   "execution_count": null,
   "id": "eb87a4f5-43d5-43f4-ad02-3fcb5f5ff088",
   "metadata": {},
   "outputs": [],
   "source": []
  },
  {
   "cell_type": "code",
   "execution_count": null,
   "id": "89dada46-c955-4e71-8879-0134ee2341ed",
   "metadata": {},
   "outputs": [],
   "source": []
  },
  {
   "cell_type": "code",
   "execution_count": null,
   "id": "fb1cef7d-e74a-48a1-a5df-03cea5a511c7",
   "metadata": {},
   "outputs": [],
   "source": []
  },
  {
   "cell_type": "code",
   "execution_count": null,
   "id": "44342c83-a1a9-401c-ba28-a7aecf11492e",
   "metadata": {},
   "outputs": [],
   "source": []
  },
  {
   "cell_type": "code",
   "execution_count": null,
   "id": "85b55c00-59cd-4561-a8cd-288088452983",
   "metadata": {},
   "outputs": [],
   "source": []
  },
  {
   "cell_type": "code",
   "execution_count": null,
   "id": "4b8d1c60-8e02-455c-8031-7143067ed62e",
   "metadata": {},
   "outputs": [],
   "source": []
  },
  {
   "cell_type": "code",
   "execution_count": null,
   "id": "38ad66db-1a87-4c41-ba77-c04aa8c931b8",
   "metadata": {},
   "outputs": [],
   "source": []
  },
  {
   "cell_type": "code",
   "execution_count": 33,
   "id": "d9450ab9-e76f-4a48-b81f-b1ddfcdf3237",
   "metadata": {},
   "outputs": [],
   "source": [
    "data_mode = data.copy()"
   ]
  },
  {
   "cell_type": "code",
   "execution_count": 40,
   "id": "606bf3ee-5a74-43c4-82cf-f9c42e3661c9",
   "metadata": {},
   "outputs": [],
   "source": [
    "data_mode['occupation'] = data_mode['occupation'].fillna(data['occupation'].mode()[0])"
   ]
  },
  {
   "cell_type": "code",
   "execution_count": 41,
   "id": "5a07055a-4c8a-4195-b46a-858d037335e3",
   "metadata": {},
   "outputs": [
    {
     "data": {
      "text/plain": [
       "age                 0\n",
       "workclass           0\n",
       "education           0\n",
       "education-num       0\n",
       "marital-status      0\n",
       "occupation          0\n",
       "relationship        0\n",
       "race                0\n",
       "sex                 0\n",
       "capital-gain        0\n",
       "capital-loss        0\n",
       "hours-per-week      0\n",
       "native-country    857\n",
       "class               0\n",
       "dtype: int64"
      ]
     },
     "execution_count": 41,
     "metadata": {},
     "output_type": "execute_result"
    }
   ],
   "source": [
    "data_mode.isna().sum()"
   ]
  },
  {
   "cell_type": "code",
   "execution_count": 42,
   "id": "4838dc72-f0ef-40f8-8493-bee2393c39b4",
   "metadata": {},
   "outputs": [
    {
     "data": {
      "text/plain": [
       "array([' Machine-op-inspct', ' Farming-fishing', ' Protective-serv',\n",
       "       ' Prof-specialty', ' Other-service', ' Craft-repair',\n",
       "       ' Adm-clerical', ' Exec-managerial', ' Tech-support', ' Sales',\n",
       "       ' Priv-house-serv', ' Transport-moving', ' Handlers-cleaners',\n",
       "       ' Armed-Forces'], dtype=object)"
      ]
     },
     "execution_count": 42,
     "metadata": {},
     "output_type": "execute_result"
    }
   ],
   "source": [
    "data_mode['occupation'].unique()"
   ]
  },
  {
   "cell_type": "code",
   "execution_count": 43,
   "id": "f1b74555-8069-4b4b-b794-ac1668bc0b47",
   "metadata": {},
   "outputs": [
    {
     "data": {
      "text/plain": [
       "14"
      ]
     },
     "execution_count": 43,
     "metadata": {},
     "output_type": "execute_result"
    }
   ],
   "source": [
    "data_mode['occupation'].nunique()"
   ]
  },
  {
   "cell_type": "code",
   "execution_count": 44,
   "id": "b6e8565f-f35a-4dcc-b372-59724583943e",
   "metadata": {},
   "outputs": [
    {
     "data": {
      "text/plain": [
       "occupation\n",
       "Prof-specialty       8981\n",
       "Craft-repair         6112\n",
       "Exec-managerial      6086\n",
       "Adm-clerical         5611\n",
       "Sales                5504\n",
       "Other-service        4923\n",
       "Machine-op-inspct    3022\n",
       "Transport-moving     2355\n",
       "Handlers-cleaners    2072\n",
       "Farming-fishing      1490\n",
       "Tech-support         1446\n",
       "Protective-serv       983\n",
       "Priv-house-serv       242\n",
       "Armed-Forces           15\n",
       "Name: count, dtype: int64"
      ]
     },
     "execution_count": 44,
     "metadata": {},
     "output_type": "execute_result"
    }
   ],
   "source": [
    "data_mode['occupation'].value_counts()"
   ]
  },
  {
   "cell_type": "code",
   "execution_count": 45,
   "id": "152d3885-c15a-421e-853c-e259282ea9c9",
   "metadata": {},
   "outputs": [
    {
     "data": {
      "text/plain": [
       "count               48842\n",
       "unique                 14\n",
       "top        Prof-specialty\n",
       "freq                 8981\n",
       "Name: occupation, dtype: object"
      ]
     },
     "execution_count": 45,
     "metadata": {},
     "output_type": "execute_result"
    }
   ],
   "source": [
    "data_mode['occupation'].describe()"
   ]
  },
  {
   "cell_type": "code",
   "execution_count": 46,
   "id": "c60569c7-c6f8-4c5b-9529-b24d16ac6cea",
   "metadata": {},
   "outputs": [],
   "source": [
    "data['occupation'] = data['occupation'].fillna(data['occupation'].mode()[0])"
   ]
  },
  {
   "cell_type": "code",
   "execution_count": 47,
   "id": "0df582da-5ebb-406c-ae2a-3bb945669b51",
   "metadata": {},
   "outputs": [
    {
     "data": {
      "text/plain": [
       "age                 0\n",
       "workclass           0\n",
       "education           0\n",
       "education-num       0\n",
       "marital-status      0\n",
       "occupation          0\n",
       "relationship        0\n",
       "race                0\n",
       "sex                 0\n",
       "capital-gain        0\n",
       "capital-loss        0\n",
       "hours-per-week      0\n",
       "native-country    857\n",
       "class               0\n",
       "dtype: int64"
      ]
     },
     "execution_count": 47,
     "metadata": {},
     "output_type": "execute_result"
    }
   ],
   "source": [
    "data.isna().sum()"
   ]
  },
  {
   "cell_type": "code",
   "execution_count": 49,
   "id": "78e334b9-96a2-4cbc-8c02-4386d5cc473c",
   "metadata": {},
   "outputs": [
    {
     "data": {
      "text/plain": [
       "native-country\n",
       "United-States                 43832\n",
       "Mexico                          951\n",
       "Philippines                     295\n",
       "Germany                         206\n",
       "Puerto-Rico                     184\n",
       "Canada                          182\n",
       "El-Salvador                     155\n",
       "India                           151\n",
       "Cuba                            138\n",
       "England                         127\n",
       "China                           122\n",
       "South                           115\n",
       "Jamaica                         106\n",
       "Italy                           105\n",
       "Dominican-Republic              103\n",
       "Japan                            92\n",
       "Guatemala                        88\n",
       "Poland                           87\n",
       "Vietnam                          86\n",
       "Columbia                         85\n",
       "Haiti                            75\n",
       "Portugal                         67\n",
       "Taiwan                           65\n",
       "Iran                             59\n",
       "Greece                           49\n",
       "Nicaragua                        49\n",
       "Peru                             46\n",
       "Ecuador                          45\n",
       "France                           38\n",
       "Ireland                          37\n",
       "Hong                             30\n",
       "Thailand                         30\n",
       "Cambodia                         28\n",
       "Trinadad&Tobago                  27\n",
       "Yugoslavia                       23\n",
       "Outlying-US(Guam-USVI-etc)       23\n",
       "Laos                             23\n",
       "Scotland                         21\n",
       "Honduras                         20\n",
       "Hungary                          19\n",
       "Holand-Netherlands                1\n",
       "Name: count, dtype: int64"
      ]
     },
     "execution_count": 49,
     "metadata": {},
     "output_type": "execute_result"
    }
   ],
   "source": [
    "data['native-country'].value_counts()"
   ]
  },
  {
   "cell_type": "code",
   "execution_count": 52,
   "id": "9efca2c5-2ced-48b3-9866-2c8f8679d952",
   "metadata": {},
   "outputs": [
    {
     "data": {
      "text/plain": [
       "0     United-States\n",
       "Name: native-country, dtype: object"
      ]
     },
     "execution_count": 52,
     "metadata": {},
     "output_type": "execute_result"
    }
   ],
   "source": [
    "data['native-country'].mode()"
   ]
  },
  {
   "cell_type": "code",
   "execution_count": 51,
   "id": "5e1fe0b3-7856-4c52-857e-b2bbe2e5e05d",
   "metadata": {},
   "outputs": [
    {
     "data": {
      "text/plain": [
       "' United-States'"
      ]
     },
     "execution_count": 51,
     "metadata": {},
     "output_type": "execute_result"
    }
   ],
   "source": [
    "data['native-country'].mode()[0]"
   ]
  },
  {
   "cell_type": "code",
   "execution_count": 53,
   "id": "ff48f549-144a-431a-aef5-08460aae6466",
   "metadata": {},
   "outputs": [],
   "source": [
    "data['native-country'] = data['native-country'].fillna(data['native-country'].mode()[0])"
   ]
  },
  {
   "cell_type": "code",
   "execution_count": 54,
   "id": "ba30cc30-8946-487c-be0d-61be6a2800e9",
   "metadata": {},
   "outputs": [
    {
     "data": {
      "text/plain": [
       "age               0\n",
       "workclass         0\n",
       "education         0\n",
       "education-num     0\n",
       "marital-status    0\n",
       "occupation        0\n",
       "relationship      0\n",
       "race              0\n",
       "sex               0\n",
       "capital-gain      0\n",
       "capital-loss      0\n",
       "hours-per-week    0\n",
       "native-country    0\n",
       "class             0\n",
       "dtype: int64"
      ]
     },
     "execution_count": 54,
     "metadata": {},
     "output_type": "execute_result"
    }
   ],
   "source": [
    "data.isna().sum()"
   ]
  },
  {
   "cell_type": "code",
   "execution_count": 59,
   "id": "e755044c-48cb-466d-a6bd-24c20a319de4",
   "metadata": {},
   "outputs": [
    {
     "data": {
      "text/plain": [
       "array([25, 38, 28, 44, 18, 34, 29, 63, 24, 55, 65, 36, 26, 58, 48, 43, 20,\n",
       "       37, 40, 72, 45, 22, 23, 54, 32, 46, 56, 17, 39, 52, 21, 42, 33, 30,\n",
       "       47, 41, 19, 69, 50, 31, 59, 49, 51, 27, 57, 61, 64, 79, 73, 53, 77,\n",
       "       80, 62, 35, 68, 66, 75, 60, 67, 71, 70, 90, 81, 74, 78, 82, 83, 85,\n",
       "       76, 84, 89, 88, 87, 86], dtype=int64)"
      ]
     },
     "execution_count": 59,
     "metadata": {},
     "output_type": "execute_result"
    }
   ],
   "source": [
    "data['age'].unique()"
   ]
  },
  {
   "cell_type": "code",
   "execution_count": 65,
   "id": "b674c18d-9e9d-4c60-aec9-5e0a86f9ecc4",
   "metadata": {},
   "outputs": [
    {
     "data": {
      "text/plain": [
       "age\n",
       "36    1348\n",
       "35    1337\n",
       "33    1335\n",
       "23    1329\n",
       "31    1325\n",
       "      ... \n",
       "88       6\n",
       "85       5\n",
       "87       3\n",
       "89       2\n",
       "86       1\n",
       "Name: count, Length: 74, dtype: int64"
      ]
     },
     "execution_count": 65,
     "metadata": {},
     "output_type": "execute_result"
    }
   ],
   "source": [
    "data['age'].value_counts()"
   ]
  },
  {
   "cell_type": "code",
   "execution_count": 68,
   "id": "a4deb4ab-7685-4193-b737-bb77b135c68f",
   "metadata": {},
   "outputs": [
    {
     "data": {
      "text/plain": [
       "0    36\n",
       "Name: age, dtype: int64"
      ]
     },
     "execution_count": 68,
     "metadata": {},
     "output_type": "execute_result"
    }
   ],
   "source": [
    "data['age'].mode()"
   ]
  },
  {
   "cell_type": "code",
   "execution_count": 70,
   "id": "b69b1932-4b9e-4244-bea0-28427b8ac254",
   "metadata": {},
   "outputs": [
    {
     "data": {
      "text/plain": [
       "count    48842.000000\n",
       "mean        38.643585\n",
       "std         13.710510\n",
       "min         17.000000\n",
       "25%         28.000000\n",
       "50%         37.000000\n",
       "75%         48.000000\n",
       "max         90.000000\n",
       "Name: age, dtype: float64"
      ]
     },
     "execution_count": 70,
     "metadata": {},
     "output_type": "execute_result"
    }
   ],
   "source": [
    "data['age'].describe()"
   ]
  },
  {
   "cell_type": "code",
   "execution_count": 71,
   "id": "5bacaa09-b870-4272-b677-2fc359e7d77f",
   "metadata": {},
   "outputs": [],
   "source": [
    "def age_num(x):\n",
    "    if ((x >= 17) & (x < 20)):\n",
    "        x = 10\n",
    "        return x\n",
    "    elif ((x >= 20) & (x < 30)):\n",
    "        x = 20\n",
    "        return x\n",
    "    elif ((x >= 30) & (x < 40)):\n",
    "        x = 30\n",
    "        return x\n",
    "    elif ((x >= 40) & (x < 50)):\n",
    "        x = 40\n",
    "        return x\n",
    "    elif ((x >= 50) & (x < 60)):\n",
    "        x = 50\n",
    "        return x\n",
    "    elif ((x >= 60) & (x < 70)):\n",
    "        x = 60\n",
    "        return x\n",
    "    elif ((x >= 70) & (x < 80)):\n",
    "        x = 70\n",
    "        return x\n",
    "    else:\n",
    "        x = 80\n",
    "        return x"
   ]
  },
  {
   "cell_type": "code",
   "execution_count": 72,
   "id": "2378a37a-9db3-4877-93af-708f24cb83c2",
   "metadata": {},
   "outputs": [],
   "source": [
    "data['age'] = data['age'].apply(age_num)"
   ]
  },
  {
   "cell_type": "code",
   "execution_count": 73,
   "id": "b943364f-45a8-49cc-8e5b-0e0453e67a97",
   "metadata": {},
   "outputs": [
    {
     "data": {
      "text/plain": [
       "age\n",
       "30    12929\n",
       "20    12005\n",
       "40    10724\n",
       "50     6619\n",
       "60     3054\n",
       "10     2510\n",
       "70      815\n",
       "80      186\n",
       "Name: count, dtype: int64"
      ]
     },
     "execution_count": 73,
     "metadata": {},
     "output_type": "execute_result"
    }
   ],
   "source": [
    "data['age'].value_counts()"
   ]
  },
  {
   "cell_type": "code",
   "execution_count": null,
   "id": "bf8cfe59-fbf1-47bc-b329-ce05177c0c65",
   "metadata": {},
   "outputs": [],
   "source": []
  },
  {
   "cell_type": "code",
   "execution_count": 81,
   "id": "a41f76db-43ef-49a8-ba6e-1d57262aa89d",
   "metadata": {},
   "outputs": [
    {
     "data": {
      "text/plain": [
       "0            0\n",
       "1            0\n",
       "2            0\n",
       "3         7688\n",
       "4            0\n",
       "         ...  \n",
       "48837        0\n",
       "48838        0\n",
       "48839        0\n",
       "48840        0\n",
       "48841    15024\n",
       "Name: capital-gain, Length: 48842, dtype: int64"
      ]
     },
     "execution_count": 81,
     "metadata": {},
     "output_type": "execute_result"
    }
   ],
   "source": [
    "data['class']"
   ]
  },
  {
   "cell_type": "code",
   "execution_count": 85,
   "id": "3ac12fa0-0304-4cbd-8f69-5b82d502c944",
   "metadata": {},
   "outputs": [
    {
     "data": {
      "text/plain": [
       "age  class\n",
       "10   <=50K     2507\n",
       "     >50K         3\n",
       "20   <=50K    11262\n",
       "     >50K       743\n",
       "30   <=50K     9468\n",
       "     >50K      3461\n",
       "40   <=50K     6738\n",
       "     >50K      3986\n",
       "50   <=50K     4110\n",
       "     >50K      2509\n",
       "60   <=50K     2245\n",
       "     >50K       809\n",
       "70   <=50K      668\n",
       "     >50K       147\n",
       "80   <=50K      157\n",
       "     >50K        29\n",
       "Name: count, dtype: int64"
      ]
     },
     "execution_count": 85,
     "metadata": {},
     "output_type": "execute_result"
    }
   ],
   "source": [
    "data.groupby('age')['class'].value_counts()"
   ]
  },
  {
   "cell_type": "code",
   "execution_count": 86,
   "id": "7ae5272c-e4b0-41d7-8632-7f7d296c133f",
   "metadata": {
    "scrolled": true
   },
   "outputs": [
    {
     "data": {
      "text/plain": [
       "<Axes: ylabel='Frequency'>"
      ]
     },
     "execution_count": 86,
     "metadata": {},
     "output_type": "execute_result"
    },
    {
     "data": {
      "image/png": "[encoded data removed]",
      "text/plain": [
       "<Figure size 640x480 with 1 Axes>"
      ]
     },
     "metadata": {},
     "output_type": "display_data"
    }
   ],
   "source": [
    "data[['age', 'class']].groupby('age').value_counts(sort = False).plot(kind = 'hist')"
   ]
  },
  {
   "cell_type": "code",
   "execution_count": null,
   "id": "240df558-0444-4869-a750-5866034a5564",
   "metadata": {},
   "outputs": [],
   "source": []
  },
  {
   "cell_type": "code",
   "execution_count": null,
   "id": "5033a37b-310e-4aaa-a8fe-bcffd95160c9",
   "metadata": {},
   "outputs": [],
   "source": []
  },
  {
   "cell_type": "code",
   "execution_count": null,
   "id": "d0f81180-9c0d-4ef3-a517-c77528c01a7d",
   "metadata": {},
   "outputs": [],
   "source": []
  },
  {
   "cell_type": "code",
   "execution_count": null,
   "id": "983f62ab-b20b-48ef-9502-a97ef70bb885",
   "metadata": {},
   "outputs": [],
   "source": []
  },
  {
   "cell_type": "code",
   "execution_count": null,
   "id": "c2e90052-90dd-47d6-a1ee-c8aa6404bd51",
   "metadata": {},
   "outputs": [],
   "source": []
  },
  {
   "cell_type": "code",
   "execution_count": null,
   "id": "6ea87396-0270-4835-b4bc-dcc50b1ffb95",
   "metadata": {},
   "outputs": [],
   "source": []
  },
  {
   "cell_type": "code",
   "execution_count": null,
   "id": "3e41874e-919d-45a7-8f4f-86c0e9e1ce14",
   "metadata": {},
   "outputs": [],
   "source": []
  },
  {
   "cell_type": "code",
   "execution_count": null,
   "id": "51c0e614-9060-4f7f-b52b-03e67b7104ea",
   "metadata": {},
   "outputs": [],
   "source": []
  },
  {
   "cell_type": "code",
   "execution_count": null,
   "id": "f82608e6-09aa-49bd-a233-cd4ade3beeff",
   "metadata": {},
   "outputs": [],
   "source": []
  },
  {
   "cell_type": "code",
   "execution_count": null,
   "id": "ae8e763f-ca0d-43d2-943a-e6a080446b71",
   "metadata": {},
   "outputs": [],
   "source": []
  },
  {
   "cell_type": "code",
   "execution_count": null,
   "id": "57ae4218-168f-4101-9b22-863a135e9d7f",
   "metadata": {},
   "outputs": [],
   "source": []
  },
  {
   "cell_type": "code",
   "execution_count": null,
   "id": "3a7e8de8-aa08-46f7-a17c-43d02532245c",
   "metadata": {},
   "outputs": [],
   "source": []
  },
  {
   "cell_type": "code",
   "execution_count": null,
   "id": "1b824ea6-73b3-4f9b-bd91-9af7017fdfee",
   "metadata": {},
   "outputs": [],
   "source": []
  },
  {
   "cell_type": "code",
   "execution_count": null,
   "id": "1024d19b-1dad-4829-b685-b9e4fd90018e",
   "metadata": {},
   "outputs": [],
   "source": []
  },
  {
   "cell_type": "code",
   "execution_count": null,
   "id": "b726ac40-1b07-4b50-81a3-d1440b41664a",
   "metadata": {},
   "outputs": [],
   "source": []
  },
  {
   "cell_type": "code",
   "execution_count": null,
   "id": "3e50b1c9-79fb-4b63-b45d-4c512b707b63",
   "metadata": {},
   "outputs": [],
   "source": []
  }
 ],
 "metadata": {
  "kernelspec": {
   "display_name": "Python 3 (ipykernel)",
   "language": "python",
   "name": "python3"
  },
  "language_info": {
   "codemirror_mode": {
    "name": "ipython",
    "version": 3
   },
   "file_extension": ".py",
   "mimetype": "text/x-python",
   "name": "python",
   "nbconvert_exporter": "python",
   "pygments_lexer": "ipython3",
   "version": "3.10.14"
  }
 },
 "nbformat": 4,
 "nbformat_minor": 5
}
