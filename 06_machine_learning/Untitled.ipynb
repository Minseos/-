{
 "cells": [
  {
   "cell_type": "code",
   "execution_count": 1,
   "id": "e50f9c6c",
   "metadata": {},
   "outputs": [
    {
     "name": "stderr",
     "output_type": "stream",
     "text": [
      "2024-09-09 11:48:11.364069: I tensorflow/core/platform/cpu_feature_guard.cc:193] This TensorFlow binary is optimized with oneAPI Deep Neural Network Library (oneDNN) to use the following CPU instructions in performance-critical operations:  AVX2 FMA\n",
      "To enable them in other operations, rebuild TensorFlow with the appropriate compiler flags.\n",
      "2024-09-09 11:48:12.421951: I tensorflow/c/logging.cc:34] Successfully opened dynamic library libdirectml.d6f03b303ac3c4f2eeb8ca631688c9757b361310.so\n",
      "2024-09-09 11:48:12.422046: I tensorflow/c/logging.cc:34] Successfully opened dynamic library libdxcore.so\n",
      "2024-09-09 11:48:12.425858: I tensorflow/c/logging.cc:34] Successfully opened dynamic library libd3d12.so\n",
      "2024-09-09 11:48:12.596954: I tensorflow/c/logging.cc:34] DirectML device enumeration: found 1 compatible adapters.\n"
     ]
    },
    {
     "name": "stdout",
     "output_type": "stream",
     "text": [
      "사용 가능한 GPU 장치: [PhysicalDevice(name='/physical_device:GPU:0', device_type='GPU')]\n"
     ]
    },
    {
     "name": "stderr",
     "output_type": "stream",
     "text": [
      "2024-09-09 11:48:12.933223: I tensorflow/core/platform/cpu_feature_guard.cc:193] This TensorFlow binary is optimized with oneAPI Deep Neural Network Library (oneDNN) to use the following CPU instructions in performance-critical operations:  AVX2 FMA\n",
      "To enable them in other operations, rebuild TensorFlow with the appropriate compiler flags.\n",
      "2024-09-09 11:48:12.934767: I tensorflow/c/logging.cc:34] DirectML: creating device on adapter 0 (AMD Radeon(TM) Graphics)\n",
      "2024-09-09 11:48:13.006804: I tensorflow/core/common_runtime/pluggable_device/pluggable_device_factory.cc:306] Could not identify NUMA node of platform GPU ID 0, defaulting to 0. Your kernel may not have been built with NUMA support.\n",
      "2024-09-09 11:48:13.006849: W tensorflow/core/common_runtime/pluggable_device/pluggable_device_bfc_allocator.cc:28] Overriding allow_growth setting because force_memory_growth was requested by the device.\n",
      "2024-09-09 11:48:13.006874: I tensorflow/core/common_runtime/pluggable_device/pluggable_device_factory.cc:272] Created TensorFlow device (/job:localhost/replica:0/task:0/device:GPU:0 with 14845 MB memory) -> physical PluggableDevice (device: 0, name: DML, pci bus id: <undefined>)\n"
     ]
    },
    {
     "name": "stdout",
     "output_type": "stream",
     "text": [
      "tf.Tensor(\n",
      "[[ 165.76385   -45.34023   -92.06425  ...  -87.987915 -106.4943\n",
      "    25.99886 ]\n",
      " [ -60.160225  -89.855255   72.18378  ...  -68.751686  -51.20645\n",
      "   -81.81273 ]\n",
      " [  13.41894   111.21836    43.704224 ...  -11.858789 -136.89635\n",
      "    89.42557 ]\n",
      " ...\n",
      " [ -32.362034  159.89468    50.00839  ...  105.33836    75.432465\n",
      "   -30.081976]\n",
      " [  22.800428  -48.432358   60.607967 ...  101.49321   -98.53633\n",
      "   -14.032859]\n",
      " [  83.841286  -32.131313  -48.642464 ...   82.38435  -174.0894\n",
      "   -35.193325]], shape=(10000, 10000), dtype=float32)\n",
      "연산 완료.\n"
     ]
    }
   ],
   "source": [
    "import tensorflow as tf\n",
    "# TensorFlow에서 사용할 수 있는 GPU 확인\n",
    "gpus = tf.config.list_physical_devices('GPU')\n",
    "if gpus:\n",
    "    print(f\"사용 가능한 GPU 장치: {gpus}\")\n",
    "else:\n",
    "    print(\"사용 가능한 GPU가 없습니다.\")\n",
    "\n",
    "# 간단한 행렬 연산을 통해 GPU 사용 여부 테스트\n",
    "with tf.device('/GPU:0'):  # GPU:0은 첫 번째 GPU를 의미합니다.\n",
    "    a = tf.random.normal([10000, 10000])\n",
    "    b = tf.random.normal([10000, 10000])\n",
    "    result = tf.matmul(a, b)\n",
    "    print(result)\n",
    "print(\"연산 완료.\")"
   ]
  },
  {
   "cell_type": "code",
   "execution_count": 4,
   "id": "27865fb7",
   "metadata": {},
   "outputs": [],
   "source": [
    "import numpy as np"
   ]
  },
  {
   "cell_type": "code",
   "execution_count": 5,
   "id": "505b9229",
   "metadata": {},
   "outputs": [
    {
     "name": "stdout",
     "output_type": "stream",
     "text": [
      "1.26.4\n"
     ]
    }
   ],
   "source": [
    "print(np.__version__)"
   ]
  },
  {
   "cell_type": "code",
   "execution_count": null,
   "id": "57814be4",
   "metadata": {},
   "outputs": [],
   "source": []
  }
 ],
 "metadata": {
  "kernelspec": {
   "display_name": "Python 3 (ipykernel)",
   "language": "python",
   "name": "python3"
  },
  "language_info": {
   "codemirror_mode": {
    "name": "ipython",
    "version": 3
   },
   "file_extension": ".py",
   "mimetype": "text/x-python",
   "name": "python",
   "nbconvert_exporter": "python",
   "pygments_lexer": "ipython3",
   "version": "3.9.19"
  }
 },
 "nbformat": 4,
 "nbformat_minor": 5
}
