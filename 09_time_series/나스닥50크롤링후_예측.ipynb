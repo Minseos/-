{
 "cells": [
  {
   "cell_type": "code",
   "execution_count": 6,
   "id": "ce2ca497-6177-4d88-8204-bd9b1ef3c8ba",
   "metadata": {
    "scrolled": true
   },
   "outputs": [],
   "source": [
    "# !pip install selenium\n",
    "# !pip install webdriver-manager"
   ]
  },
  {
   "cell_type": "code",
   "execution_count": 7,
   "id": "66578fa1-b6e1-4b4d-902d-16293cb5b5c9",
   "metadata": {},
   "outputs": [],
   "source": [
    "import pandas as pd\n",
    "import numpy as np\n",
    "import gradio as gr\n",
    "import yfinance as yf\n",
    "import requests\n",
    "\n",
    "from bs4 import BeautifulSoup\n",
    "from autogluon.tabular import TabularPredictor\n",
    "from sklearn.model_selection import train_test_split\n",
    "from datetime import datetime, timedelta"
   ]
  },
  {
   "cell_type": "code",
   "execution_count": 13,
   "id": "8a6a2187-e128-4426-b226-b6085d624440",
   "metadata": {},
   "outputs": [
    {
     "ename": "KeyboardInterrupt",
     "evalue": "",
     "output_type": "error",
     "traceback": [
      "\u001b[0;31m---------------------------------------------------------------------------\u001b[0m",
      "\u001b[0;31mKeyboardInterrupt\u001b[0m                         Traceback (most recent call last)",
      "Cell \u001b[0;32mIn[13], line 15\u001b[0m\n\u001b[1;32m     12\u001b[0m driver\u001b[38;5;241m.\u001b[39mget(url)\n\u001b[1;32m     14\u001b[0m \u001b[38;5;66;03m# 페이지 로드 대기\u001b[39;00m\n\u001b[0;32m---> 15\u001b[0m \u001b[43mtime\u001b[49m\u001b[38;5;241;43m.\u001b[39;49m\u001b[43msleep\u001b[49m\u001b[43m(\u001b[49m\u001b[38;5;241;43m5\u001b[39;49m\u001b[43m)\u001b[49m  \u001b[38;5;66;03m# 5초 대기, 페이지가 완전히 로드되도록 함\u001b[39;00m\n\u001b[1;32m     17\u001b[0m \u001b[38;5;66;03m# 종목 티커가 들어있는 테이블을 찾기\u001b[39;00m\n\u001b[1;32m     18\u001b[0m tickers \u001b[38;5;241m=\u001b[39m []\n",
      "\u001b[0;31mKeyboardInterrupt\u001b[0m: "
     ]
    }
   ],
   "source": [
    "from selenium import webdriver\n",
    "from selenium.webdriver.common.by import By\n",
    "from selenium.webdriver.chrome.service import Service\n",
    "from webdriver_manager.chrome import ChromeDriverManager\n",
    "import time\n",
    "\n",
    "# Selenium WebDriver 설정\n",
    "driver = webdriver.Chrome(service=Service(ChromeDriverManager().install()))\n",
    "\n",
    "# Yahoo Finance 나스닥 100 구성 페이지로 이동\n",
    "url = 'https://finance.yahoo.com/quote/%5ENDX/components/'\n",
    "driver.get(url)\n",
    "\n",
    "# 페이지 로드 대기\n",
    "time.sleep(5)  # 5초 대기, 페이지가 완전히 로드되도록 함\n",
    "\n",
    "# 종목 티커가 들어있는 테이블을 찾기\n",
    "tickers = []\n",
    "rows = driver.find_elements(By.XPATH, '//table/tbody/tr')\n",
    "\n",
    "# 상위 30개 종목의 티커를 추출\n",
    "for row in rows[:5]:\n",
    "    ticker = row.find_element(By.XPATH, './td[1]').text  # 첫 번째 열에서 티커 가져오기\n",
    "    tickers.append(ticker)\n",
    "\n",
    "# 결과 출력\n",
    "print(tickers)\n",
    "\n",
    "# 드라이버 종료\n",
    "driver.quit()"
   ]
  },
  {
   "cell_type": "code",
   "execution_count": null,
   "id": "e9dcbb18-c79c-47c6-9c42-29fe9d6561c1",
   "metadata": {},
   "outputs": [],
   "source": [
    "Stacktrace:\n",
    "#0 0x556bad2ab2da <unknown>\n",
    "#1 0x556bacf79200 <unknown>\n",
    "#2 0x556bacfc8aa2 <unknown>\n",
    "#3 0x556bacfc8d41 <unknown>\n",
    "#4 0x556bacfbd386 <unknown>\n",
    "#5 0x556bacfed8fd <unknown>\n",
    "#6 0x556bacfbd279 <unknown>\n",
    "#7 0x556bacfeda9e <unknown>\n",
    "#8 0x556bad00bdfd <unknown>\n",
    "#9 0x556bacfed673 <unknown>\n",
    "#10 0x556bacfbb473 <unknown>\n",
    "#11 0x556bacfbc47e <unknown>\n",
    "#12 0x556bad2720db <unknown>\n",
    "#13 0x556bad276071 <unknown>\n",
    "#14 0x556bad25e9d5 <unknown>\n",
    "#15 0x556bad276bf2 <unknown>\n",
    "#16 0x556bad243b6f <unknown>\n",
    "#17 0x556bad29a248 <unknown>\n",
    "#18 0x556bad29a417 <unknown>\n",
    "#19 0x556bad2aa0cc <unknown>\n",
    "#20 0x7f7797d5fac3 <unknown"
   ]
  },
  {
   "cell_type": "code",
   "execution_count": 25,
   "id": "23a4b003-2b61-410d-b9bf-848503fa33f7",
   "metadata": {
    "scrolled": true
   },
   "outputs": [
    {
     "name": "stdout",
     "output_type": "stream",
     "text": [
      "Requirement already satisfied: prophet in /home/user/miniforge3/envs/ag/lib/python3.10/site-packages (1.1.6)\n",
      "Requirement already satisfied: cmdstanpy>=1.0.4 in /home/user/miniforge3/envs/ag/lib/python3.10/site-packages (from prophet) (1.2.4)\n",
      "Requirement already satisfied: numpy>=1.15.4 in /home/user/miniforge3/envs/ag/lib/python3.10/site-packages (from prophet) (1.26.4)\n",
      "Requirement already satisfied: matplotlib>=2.0.0 in /home/user/miniforge3/envs/ag/lib/python3.10/site-packages (from prophet) (3.9.2)\n",
      "Requirement already satisfied: pandas>=1.0.4 in /home/user/miniforge3/envs/ag/lib/python3.10/site-packages (from prophet) (2.2.3)\n",
      "Requirement already satisfied: holidays<1,>=0.25 in /home/user/miniforge3/envs/ag/lib/python3.10/site-packages (from prophet) (0.58)\n",
      "Requirement already satisfied: tqdm>=4.36.1 in /home/user/miniforge3/envs/ag/lib/python3.10/site-packages (from prophet) (4.66.5)\n",
      "Requirement already satisfied: importlib-resources in /home/user/miniforge3/envs/ag/lib/python3.10/site-packages (from prophet) (6.4.5)\n",
      "Requirement already satisfied: stanio<2.0.0,>=0.4.0 in /home/user/miniforge3/envs/ag/lib/python3.10/site-packages (from cmdstanpy>=1.0.4->prophet) (0.5.1)\n",
      "Requirement already satisfied: python-dateutil in /home/user/miniforge3/envs/ag/lib/python3.10/site-packages (from holidays<1,>=0.25->prophet) (2.9.0)\n",
      "Requirement already satisfied: contourpy>=1.0.1 in /home/user/miniforge3/envs/ag/lib/python3.10/site-packages (from matplotlib>=2.0.0->prophet) (1.3.0)\n",
      "Requirement already satisfied: cycler>=0.10 in /home/user/miniforge3/envs/ag/lib/python3.10/site-packages (from matplotlib>=2.0.0->prophet) (0.12.1)\n",
      "Requirement already satisfied: fonttools>=4.22.0 in /home/user/miniforge3/envs/ag/lib/python3.10/site-packages (from matplotlib>=2.0.0->prophet) (4.54.1)\n",
      "Requirement already satisfied: kiwisolver>=1.3.1 in /home/user/miniforge3/envs/ag/lib/python3.10/site-packages (from matplotlib>=2.0.0->prophet) (1.4.7)\n",
      "Requirement already satisfied: packaging>=20.0 in /home/user/miniforge3/envs/ag/lib/python3.10/site-packages (from matplotlib>=2.0.0->prophet) (24.1)\n",
      "Requirement already satisfied: pillow>=8 in /home/user/miniforge3/envs/ag/lib/python3.10/site-packages (from matplotlib>=2.0.0->prophet) (10.4.0)\n",
      "Requirement already satisfied: pyparsing>=2.3.1 in /home/user/miniforge3/envs/ag/lib/python3.10/site-packages (from matplotlib>=2.0.0->prophet) (3.2.0)\n",
      "Requirement already satisfied: pytz>=2020.1 in /home/user/miniforge3/envs/ag/lib/python3.10/site-packages (from pandas>=1.0.4->prophet) (2024.1)\n",
      "Requirement already satisfied: tzdata>=2022.7 in /home/user/miniforge3/envs/ag/lib/python3.10/site-packages (from pandas>=1.0.4->prophet) (2024.2)\n",
      "Requirement already satisfied: six>=1.5 in /home/user/miniforge3/envs/ag/lib/python3.10/site-packages (from python-dateutil->holidays<1,>=0.25->prophet) (1.16.0)\n"
     ]
    }
   ],
   "source": [
    "!pip install prophet\n"
   ]
  },
  {
   "cell_type": "code",
   "execution_count": 29,
   "id": "7d9cae6c-4095-4ffb-ad7a-753a3f42f193",
   "metadata": {
    "scrolled": true
   },
   "outputs": [
    {
     "name": "stdout",
     "output_type": "stream",
     "text": [
      "* Running on local URL:  http://127.0.0.1:7862\n",
      "\n",
      "To create a public link, set `share=True` in `launch()`.\n"
     ]
    },
    {
     "data": {
      "text/html": [
       "<div><iframe src=\"http://127.0.0.1:7862/\" width=\"100%\" height=\"500\" allow=\"autoplay; camera; microphone; clipboard-read; clipboard-write;\" frameborder=\"0\" allowfullscreen></iframe></div>"
      ],
      "text/plain": [
       "<IPython.core.display.HTML object>"
      ]
     },
     "metadata": {},
     "output_type": "display_data"
    },
    {
     "data": {
      "text/plain": []
     },
     "execution_count": 29,
     "metadata": {},
     "output_type": "execute_result"
    },
    {
     "name": "stderr",
     "output_type": "stream",
     "text": [
      "[*********************100%***********************]  1 of 1 completed\n",
      "INFO:prophet:Disabling daily seasonality. Run prophet with daily_seasonality=True to override this.\n",
      "DEBUG:cmdstanpy:input tempfile: /tmp/tmpjfy2awmh/f77maw13.json\n",
      "DEBUG:cmdstanpy:input tempfile: /tmp/tmpjfy2awmh/8s744avt.json\n",
      "DEBUG:cmdstanpy:idx 0\n",
      "DEBUG:cmdstanpy:running CmdStan, num_threads: None\n",
      "DEBUG:cmdstanpy:CmdStan args: ['/home/user/miniforge3/envs/ag/lib/python3.10/site-packages/prophet/stan_model/prophet_model.bin', 'random', 'seed=69416', 'data', 'file=/tmp/tmpjfy2awmh/f77maw13.json', 'init=/tmp/tmpjfy2awmh/8s744avt.json', 'output', 'file=/tmp/tmpjfy2awmh/prophet_modeli0vycy6r/prophet_model-20241017172135.csv', 'method=optimize', 'algorithm=lbfgs', 'iter=10000']\n",
      "17:21:35 - cmdstanpy - INFO - Chain [1] start processing\n",
      "INFO:cmdstanpy:Chain [1] start processing\n",
      "17:21:36 - cmdstanpy - INFO - Chain [1] done processing\n",
      "INFO:cmdstanpy:Chain [1] done processing\n"
     ]
    }
   ],
   "source": [
    "from selenium import webdriver\n",
    "from selenium.webdriver.common.by import By\n",
    "from selenium.webdriver.chrome.service import Service\n",
    "from webdriver_manager.chrome import ChromeDriverManager\n",
    "import time\n",
    "import yfinance as yf\n",
    "import gradio as gr\n",
    "import matplotlib.pyplot as plt\n",
    "from prophet import Prophet  # prophet을 사용합니다.\n",
    "from datetime import datetime, timedelta\n",
    "import pandas as pd\n",
    "\n",
    "# Selenium으로 Yahoo Finance에서 상위 30개 종목 가져오기\n",
    "def get_tickers():\n",
    "    driver = webdriver.Chrome(service=Service(ChromeDriverManager().install()))\n",
    "    url = 'https://finance.yahoo.com/quote/%5ENDX/components/'\n",
    "    driver.get(url)\n",
    "    time.sleep(5)  # 페이지 로드 대기\n",
    "\n",
    "    tickers = []\n",
    "    rows = driver.find_elements(By.XPATH, '//table/tbody/tr')\n",
    "    for row in rows[:30]:  # 상위 30개만 추출\n",
    "        ticker = row.find_element(By.XPATH, './td[1]').text\n",
    "        tickers.append(ticker)\n",
    "\n",
    "    driver.quit()\n",
    "    return tickers\n",
    "\n",
    "# 스크래핑한 티커 사용\n",
    "tickers = get_tickers()\n",
    "\n",
    "# Yahoo Finance에서 주식 데이터 가져오기\n",
    "def fetch_stock_data(ticker):\n",
    "    end_date = (datetime.now() - timedelta(days=1)).strftime('%Y-%m-%d')\n",
    "    data = yf.download(ticker, start=\"2014-01-01\", end=end_date)\n",
    "    return data\n",
    "\n",
    "# Prophet을 이용한 시계열 예측 수행\n",
    "def prophet_time_series(data):\n",
    "    df = data.reset_index()[['Date', 'Close']]\n",
    "    df.columns = ['ds', 'y']  # Prophet이 요구하는 포맷 (ds: 날짜, y: 타겟값)\n",
    "    \n",
    "    # Prophet 모델 학습\n",
    "    model = Prophet()\n",
    "    model.fit(df)\n",
    "    \n",
    "    # 미래 30일 예측\n",
    "    future_dates = model.make_future_dataframe(periods=30)\n",
    "    forecast = model.predict(future_dates)\n",
    "\n",
    "    # 미래 30일 예측 데이터만 필터링\n",
    "    prediction_df = forecast[['ds', 'yhat']].loc[forecast['ds'] > df['ds'].max()]  # 학습 데이터의 마지막 날짜 이후 데이터만 선택\n",
    "    return prediction_df, model\n",
    "\n",
    "\n",
    "# 시각화 함수: 예측 결과\n",
    "def plot_predictions(predictions):\n",
    "    file_path = 'predictions_plot.png'\n",
    "    plt.figure(figsize=(10, 6))\n",
    "    plt.plot(predictions['ds'], predictions['yhat'], label='Predicted', linestyle='--', marker='x')\n",
    "    plt.xlabel('Date')\n",
    "    plt.ylabel('Predicted Close Price')\n",
    "    plt.title('Predicted Close Prices for the Next 30 Days')\n",
    "    plt.legend()\n",
    "    plt.grid(True)\n",
    "    plt.xticks(rotation=45)\n",
    "    plt.tight_layout()\n",
    "    plt.savefig(file_path)\n",
    "    plt.close()\n",
    "    return file_path\n",
    "\n",
    "# 분석 함수\n",
    "def analyze_stock(selected_ticker):\n",
    "    stock_data = fetch_stock_data(selected_ticker)\n",
    "    \n",
    "    # Prophet을 통해 종가 예측\n",
    "    predictions, model = prophet_time_series(stock_data)\n",
    "\n",
    "    # 예측 시각화\n",
    "    prediction_plot = plot_predictions(predictions)\n",
    "\n",
    "    return prediction_plot\n",
    "\n",
    "# Gradio 인터페이스 구성\n",
    "with gr.Blocks() as mini_pro:\n",
    "    with gr.Row():\n",
    "        with gr.Column():\n",
    "            # 스크래핑한 상위 30개 종목을 선택할 수 있는 드롭다운\n",
    "            stock_selector = gr.Dropdown(choices=tickers, label=\"주식 종목 선택\")\n",
    "            run_button = gr.Button(\"30일 예측 및 시각화\")\n",
    "\n",
    "    with gr.Row():\n",
    "        # 예측 결과 시각화 이미지 출력\n",
    "        with gr.Column():\n",
    "            prediction_image_output = gr.Image(label=\"Predicted Close Prices (30일 예측)\")\n",
    "\n",
    "    # 버튼 클릭 시 분석 실행\n",
    "    def run_analysis(selected_ticker):\n",
    "        try:\n",
    "            prediction_plot = analyze_stock(selected_ticker)\n",
    "            return prediction_plot\n",
    "        except Exception as e:\n",
    "            return f\"Error during analysis: {e}\"\n",
    "\n",
    "    # 버튼 클릭 시 실행 및 업데이트\n",
    "    run_button.click(\n",
    "        run_analysis,\n",
    "        inputs=[stock_selector],\n",
    "        outputs=[prediction_image_output]\n",
    "    )\n",
    "\n",
    "# Gradio 앱 실행\n",
    "mini_pro.launch()\n"
   ]
  },
  {
   "cell_type": "code",
   "execution_count": 30,
   "id": "9ae93fc8-5b76-4307-92a9-51d78615de2a",
   "metadata": {},
   "outputs": [
    {
     "name": "stdout",
     "output_type": "stream",
     "text": [
      "Closing server running on port: 7862\n"
     ]
    }
   ],
   "source": [
    "mini_pro.close()"
   ]
  },
  {
   "cell_type": "code",
   "execution_count": null,
   "id": "5337d7d8-d26d-4785-858a-ab681773467b",
   "metadata": {},
   "outputs": [],
   "source": []
  },
  {
   "cell_type": "code",
   "execution_count": null,
   "id": "202cedcc-b667-4905-a7f2-e378877485c4",
   "metadata": {},
   "outputs": [],
   "source": []
  },
  {
   "cell_type": "code",
   "execution_count": null,
   "id": "04bd283e-426d-4e4b-a332-9729ec9dd4ad",
   "metadata": {},
   "outputs": [],
   "source": []
  },
  {
   "cell_type": "markdown",
   "id": "761cb084-10ff-476d-8fb5-10eae817e51c",
   "metadata": {},
   "source": [
    "# autogluon에서 time_series사용"
   ]
  },
  {
   "cell_type": "code",
   "execution_count": 31,
   "id": "7c3aab39-8da8-4171-8d29-c99693f33d63",
   "metadata": {
    "scrolled": true
   },
   "outputs": [
    {
     "name": "stdout",
     "output_type": "stream",
     "text": [
      "* Running on local URL:  http://127.0.0.1:7862\n",
      "\n",
      "To create a public link, set `share=True` in `launch()`.\n"
     ]
    },
    {
     "data": {
      "text/html": [
       "<div><iframe src=\"http://127.0.0.1:7862/\" width=\"100%\" height=\"500\" allow=\"autoplay; camera; microphone; clipboard-read; clipboard-write;\" frameborder=\"0\" allowfullscreen></iframe></div>"
      ],
      "text/plain": [
       "<IPython.core.display.HTML object>"
      ]
     },
     "metadata": {},
     "output_type": "display_data"
    },
    {
     "data": {
      "text/plain": []
     },
     "execution_count": 31,
     "metadata": {},
     "output_type": "execute_result"
    }
   ],
   "source": [
    "import pandas as pd\n",
    "import gradio as gr\n",
    "import yfinance as yf\n",
    "import matplotlib.pyplot as plt\n",
    "from autogluon.timeseries import TimeSeriesPredictor, TimeSeriesDataFrame\n",
    "from selenium import webdriver\n",
    "from selenium.webdriver.common.by import By\n",
    "from selenium.webdriver.chrome.service import Service\n",
    "from webdriver_manager.chrome import ChromeDriverManager\n",
    "from datetime import datetime, timedelta\n",
    "import time\n",
    "\n",
    "# Selenium으로 Yahoo Finance에서 상위 30개 종목 가져오기\n",
    "def get_tickers():\n",
    "    driver = webdriver.Chrome(service=Service(ChromeDriverManager().install()))\n",
    "    url = 'https://finance.yahoo.com/quote/%5ENDX/components/'\n",
    "    driver.get(url)\n",
    "    time.sleep(5)  # 페이지 로드 대기\n",
    "\n",
    "    tickers = []\n",
    "    rows = driver.find_elements(By.XPATH, '//table/tbody/tr')\n",
    "    for row in rows[:30]:  # 상위 30개만 추출\n",
    "        ticker = row.find_element(By.XPATH, './td[1]').text\n",
    "        tickers.append(ticker)\n",
    "\n",
    "    driver.quit()\n",
    "    return tickers\n",
    "\n",
    "# 스크래핑한 티커 사용\n",
    "tickers = get_tickers()\n",
    "\n",
    "# Yahoo Finance에서 주식 데이터 가져오기\n",
    "def fetch_stock_data(ticker):\n",
    "    print(f\"Fetching stock data for {ticker}...\")\n",
    "    end_date = (datetime.now() - timedelta(days=1)).strftime('%Y-%m-%d')\n",
    "    start_date = \"2014-01-01\"\n",
    "    data = yf.download(ticker, start=start_date, end=end_date)\n",
    "    print(f\"Downloaded {len(data)} rows of data for {ticker}.\")\n",
    "    return data\n",
    "\n",
    "# AutoGluon을 이용한 시계열 예측 수행\n",
    "def autogluon_time_series(data, ticker):\n",
    "    # 데이터프레임에서 datetime 타입으로 변환\n",
    "    data.index = pd.to_datetime(data.index)\n",
    "    \n",
    "    # 학습 데이터 구성 (TimeSeriesDataFrame 형식으로 변환)\n",
    "    train_data = pd.DataFrame({\n",
    "        \"timestamp\": data.index,\n",
    "        \"target\": data['Close'],\n",
    "        \"item_id\": ticker  # 종목 코드로 item_id 설정\n",
    "    }).reset_index(drop=True)\n",
    "\n",
    "    # TimeSeriesDataFrame으로 변환\n",
    "    train_data_ts = TimeSeriesDataFrame(train_data)\n",
    "\n",
    "    # AutoGluon TimeSeries 모델 생성 및 학습\n",
    "    predictor = TimeSeriesPredictor(\n",
    "        prediction_length=30,  # 30일 예측\n",
    "        time_limit=300,  # 학습 제한 시간 설정\n",
    "        freq=\"1D\"  # 데이터가 일 단위로 수집됨을 지정\n",
    "    ).fit(train_data_ts)\n",
    "    \n",
    "    # 예측할 데이터 생성 (미래 데이터 예측)\n",
    "    future_forecast = predictor.predict(train_data_ts)\n",
    "    \n",
    "    return future_forecast\n",
    "\n",
    "# 시각화 함수: 예측 결과\n",
    "def plot_predictions(forecast, actual_data, ticker):\n",
    "    file_path = f'predictions_plot_{ticker}.png'\n",
    "    plt.figure(figsize=(10, 6))\n",
    "    plt.plot(actual_data.index, actual_data['Close'], label='Actual', marker='o')\n",
    "    plt.plot(forecast.index, forecast['mean'], label='Predicted', linestyle='--', marker='x')\n",
    "    plt.xlabel('Date')\n",
    "    plt.ylabel('Close Price')\n",
    "    plt.title(f'Predicted Close Prices for {ticker} (Next 30 Days)')\n",
    "    plt.legend()\n",
    "    plt.grid(True)\n",
    "    plt.xticks(rotation=45)\n",
    "    plt.tight_layout()\n",
    "    plt.savefig(file_path)\n",
    "    plt.close()\n",
    "    return file_path\n",
    "\n",
    "# 분석 함수\n",
    "def analyze_stock(selected_ticker):\n",
    "    stock_data = fetch_stock_data(selected_ticker)\n",
    "    \n",
    "    # AutoGluon을 통해 종가 예측\n",
    "    forecast = autogluon_time_series(stock_data, selected_ticker)\n",
    "\n",
    "    # 예측 시각화\n",
    "    prediction_plot = plot_predictions(forecast, stock_data, selected_ticker)\n",
    "\n",
    "    return prediction_plot\n",
    "\n",
    "# Gradio 인터페이스 구성\n",
    "with gr.Blocks() as mini_pro:\n",
    "    with gr.Row():\n",
    "        with gr.Column():\n",
    "            # 스크래핑한 상위 30개 종목을 선택할 수 있는 드롭다운\n",
    "            stock_selector = gr.Dropdown(choices=tickers, label=\"주식 종목 선택\")\n",
    "            run_button = gr.Button(\"30일 예측 및 시각화\")\n",
    "\n",
    "    with gr.Row():\n",
    "        # 예측 결과 시각화 이미지 출력\n",
    "        with gr.Column():\n",
    "            prediction_image_output = gr.Image(label=\"Predicted Close Prices (30일 예측)\")\n",
    "\n",
    "    # 버튼 클릭 시 분석 실행\n",
    "    def run_analysis(selected_ticker):\n",
    "        try:\n",
    "            prediction_plot = analyze_stock(selected_ticker)\n",
    "            return prediction_plot  # 이미지 파일 경로만 반환\n",
    "        except Exception as e:\n",
    "            print(f\"Error during analysis: {e}\")\n",
    "            return None  # 예외 발생 시 이미지 대신 None 반환\n",
    "\n",
    "    # 버튼 클릭 시 실행 및 업데이트\n",
    "    run_button.click(\n",
    "        run_analysis,\n",
    "        inputs=[stock_selector],\n",
    "        outputs=[prediction_image_output]\n",
    "    )\n",
    "\n",
    "# Gradio 앱 실행\n",
    "mini_pro.launch()\n"
   ]
  },
  {
   "cell_type": "code",
   "execution_count": 30,
   "id": "65a03184-85e7-4fba-87ef-91fa56bc9428",
   "metadata": {},
   "outputs": [
    {
     "name": "stdout",
     "output_type": "stream",
     "text": [
      "Closing server running on port: 7862\n"
     ]
    }
   ],
   "source": [
    "mini_pro.close()"
   ]
  },
  {
   "cell_type": "code",
   "execution_count": null,
   "id": "c6004e28-547c-4f7e-9d89-31dd776b9f6b",
   "metadata": {},
   "outputs": [],
   "source": []
  },
  {
   "cell_type": "code",
   "execution_count": null,
   "id": "d71d024b-c17c-417d-b97a-1dfd27bde222",
   "metadata": {},
   "outputs": [],
   "source": []
  },
  {
   "cell_type": "code",
   "execution_count": null,
   "id": "d29cd8e4-5520-4970-a053-36b3532370cd",
   "metadata": {},
   "outputs": [],
   "source": []
  },
  {
   "cell_type": "code",
   "execution_count": null,
   "id": "1322f5e9-ab11-4895-aaa8-2db7779a441a",
   "metadata": {},
   "outputs": [],
   "source": []
  },
  {
   "cell_type": "code",
   "execution_count": null,
   "id": "2825656e-20db-4fe9-9696-cb81be8f13aa",
   "metadata": {},
   "outputs": [],
   "source": []
  },
  {
   "cell_type": "code",
   "execution_count": null,
   "id": "fc70f33a-d4ae-4e19-b7fe-db50c66f47f5",
   "metadata": {},
   "outputs": [],
   "source": []
  },
  {
   "cell_type": "code",
   "execution_count": null,
   "id": "4718d707-cd4e-4e20-95cb-48bea9b3e994",
   "metadata": {},
   "outputs": [],
   "source": []
  },
  {
   "cell_type": "code",
   "execution_count": null,
   "id": "1bc4bebf-7cf3-429f-9c56-7b9e11626052",
   "metadata": {},
   "outputs": [],
   "source": []
  },
  {
   "cell_type": "code",
   "execution_count": null,
   "id": "2483c918-ee6a-4180-9ed8-84ff28d2166b",
   "metadata": {},
   "outputs": [],
   "source": []
  },
  {
   "cell_type": "code",
   "execution_count": null,
   "id": "c525c56a-c927-4311-bef3-a1f1d91819b3",
   "metadata": {},
   "outputs": [],
   "source": []
  },
  {
   "cell_type": "code",
   "execution_count": null,
   "id": "c3a93e85-eac1-4616-a1d5-f4045f8021e4",
   "metadata": {},
   "outputs": [],
   "source": []
  }
 ],
 "metadata": {
  "kernelspec": {
   "display_name": "Python 3 (ipykernel)",
   "language": "python",
   "name": "python3"
  },
  "language_info": {
   "codemirror_mode": {
    "name": "ipython",
    "version": 3
   },
   "file_extension": ".py",
   "mimetype": "text/x-python",
   "name": "python",
   "nbconvert_exporter": "python",
   "pygments_lexer": "ipython3",
   "version": "3.10.15"
  }
 },
 "nbformat": 4,
 "nbformat_minor": 5
}
