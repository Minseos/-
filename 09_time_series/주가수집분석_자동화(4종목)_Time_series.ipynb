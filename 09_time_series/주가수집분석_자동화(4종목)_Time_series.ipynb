{
 "cells": [
  {
   "cell_type": "markdown",
   "id": "323e5dcc-91f9-4ba5-89fe-24a6dabed7c5",
   "metadata": {},
   "source": [
    "# 1. gradio로 애플, 마이크로소프트, 테슬라, 엔비디아 주식 - yahoo finance에서 2014-전날까지 불러오기\n",
    "# 2. 데이터 표시\n",
    "# 3. 종가를 타겟 변수로 지정\n",
    "# 4. AutoGluon을 이용해 시계열 분석\n",
    "# 5. 30일 예측 결과 출력, 시각화"
   ]
  },
  {
   "cell_type": "code",
   "execution_count": null,
   "id": "8da22a58-1199-4ba7-9019-d8c06647a324",
   "metadata": {},
   "outputs": [],
   "source": [
    "import pandas as pd\n",
    "import numpy as np\n",
    "import gradio as gr\n",
    "import yfinance as yf\n",
    "from autogluon.tabular import TabularPredictor\n",
    "from sklearn.model_selection import train_test_split\n",
    "from datetime import datetime, timedelta"
   ]
  },
  {
   "cell_type": "code",
   "execution_count": 114,
   "id": "1f7f35d5-5e61-40dd-962b-e14f72b28e80",
   "metadata": {
    "scrolled": true
   },
   "outputs": [
    {
     "name": "stderr",
     "output_type": "stream",
     "text": [
      "INFO:httpx:HTTP Request: GET http://127.0.0.1:7865/gradio_api/startup-events \"HTTP/1.1 200 OK\"\n",
      "INFO:httpx:HTTP Request: HEAD http://127.0.0.1:7865/ \"HTTP/1.1 200 OK\"\n"
     ]
    },
    {
     "name": "stdout",
     "output_type": "stream",
     "text": [
      "* Running on local URL:  http://127.0.0.1:7865\n",
      "\n",
      "To create a public link, set `share=True` in `launch()`.\n"
     ]
    },
    {
     "data": {
      "text/html": [
       "<div><iframe src=\"http://127.0.0.1:7865/\" width=\"100%\" height=\"500\" allow=\"autoplay; camera; microphone; clipboard-read; clipboard-write;\" frameborder=\"0\" allowfullscreen></iframe></div>"
      ],
      "text/plain": [
       "<IPython.core.display.HTML object>"
      ]
     },
     "metadata": {},
     "output_type": "display_data"
    },
    {
     "data": {
      "text/plain": []
     },
     "execution_count": 114,
     "metadata": {},
     "output_type": "execute_result"
    },
    {
     "name": "stderr",
     "output_type": "stream",
     "text": [
      "INFO:httpx:HTTP Request: GET https://api.gradio.app/pkg-version \"HTTP/1.1 200 OK\"\n",
      "[*********************100%***********************]  1 of 1 completed\n",
      "Beginning AutoGluon training...\n",
      "AutoGluon will save models to 'AutogluonModels/ag-20241018_084332'\n",
      "=================== System Info ===================\n",
      "AutoGluon Version:  1.1.1\n",
      "Python Version:     3.10.15\n",
      "Operating System:   Linux\n",
      "Platform Machine:   x86_64\n",
      "Platform Version:   #1 SMP Fri Mar 29 23:14:13 UTC 2024\n",
      "CPU Count:          12\n",
      "GPU Count:          0\n",
      "Memory Avail:       4.93 GB / 15.31 GB (32.2%)\n",
      "Disk Space Avail:   35.88 GB / 237.85 GB (15.1%)\n",
      "===================================================\n",
      "\n",
      "Fitting with arguments:\n",
      "{'enable_ensemble': True,\n",
      " 'eval_metric': WQL,\n",
      " 'freq': 'D',\n",
      " 'hyperparameters': 'default',\n",
      " 'known_covariates_names': [],\n",
      " 'num_val_windows': 1,\n",
      " 'prediction_length': 30,\n",
      " 'quantile_levels': [0.1, 0.2, 0.3, 0.4, 0.5, 0.6, 0.7, 0.8, 0.9],\n",
      " 'random_seed': 123,\n",
      " 'refit_every_n_windows': 1,\n",
      " 'refit_full': False,\n",
      " 'skip_model_selection': False,\n",
      " 'target': 'target',\n",
      " 'verbosity': 2}\n",
      "\n",
      "Provided train_data has 3941 rows (NaN fraction=31.1%), 1 time series. Median time series length is 3941 (min=3941, max=3941). \n",
      "\n",
      "Provided data contains following columns:\n",
      "\ttarget: 'target'\n",
      "\n",
      "AutoGluon will gauge predictive performance using evaluation metric: 'WQL'\n",
      "\tThis metric's sign has been flipped to adhere to being higher_is_better. The metric score can be multiplied by -1 to get the metric value.\n",
      "===================================================\n",
      "\n",
      "Starting training. Start time is 2024-10-18 17:43:33\n",
      "Models that will be trained: ['SeasonalNaive', 'RecursiveTabular', 'DirectTabular', 'CrostonSBA', 'NPTS', 'DynamicOptimizedTheta', 'AutoETS', 'AutoARIMA', 'Chronos[base]', 'TemporalFusionTransformer', 'DeepAR', 'PatchTST']\n",
      "Training timeseries model SeasonalNaive. \n",
      "\t-0.0210       = Validation score (-WQL)\n",
      "\t0.04    s     = Training runtime\n",
      "\t2.26    s     = Validation (prediction) runtime\n",
      "Training timeseries model RecursiveTabular. \n",
      "\t-0.0236       = Validation score (-WQL)\n",
      "\t30.27   s     = Training runtime\n",
      "\t1.27    s     = Validation (prediction) runtime\n",
      "Training timeseries model DirectTabular. \n"
     ]
    }
   ],
   "source": [
    "import yfinance as yf\n",
    "import pandas as pd\n",
    "import gradio as gr\n",
    "from autogluon.timeseries import TimeSeriesPredictor, TimeSeriesDataFrame\n",
    "import matplotlib.pyplot as plt\n",
    "from datetime import datetime, timedelta\n",
    "\n",
    "# 종목 리스트\n",
    "tickers = [\"AAPL\", \"MSFT\", \"TSLA\", \"NVDA\"]\n",
    "\n",
    "# 1. Yahoo Finance에서 주식 데이터 불러오기 (종료 날짜를 어제로 설정)\n",
    "def load_stock_data(ticker):\n",
    "    end_date = (datetime.now() - timedelta(days=1)).strftime('%Y-%m-%d')\n",
    "    stock_data = yf.download(ticker, start=\"2014-01-01\", end=end_date)\n",
    "    if stock_data.empty:\n",
    "        raise ValueError(f\"No data available for the selected stock: {ticker}.\")\n",
    "    return stock_data\n",
    "\n",
    "# 2. 데이터프레임에서 필요한 정보 표시\n",
    "def display_data(stock_data):\n",
    "    return stock_data.tail()\n",
    "\n",
    "# 3. 종가를 타겟 변수로 지정한 후 AutoGluon을 이용한 시계열 분석 수행\n",
    "def time_series_forecast(stock_data, days=30, time_limit=300):\n",
    "    stock_data = stock_data.reset_index()\n",
    "    stock_data['Date'] = pd.to_datetime(stock_data['Date'])\n",
    "    \n",
    "    # AutoGluon에 맞게 열 이름 재정의\n",
    "    stock_data = stock_data[['Date', 'Close']]\n",
    "    stock_data.columns = ['datetime', 'target']  # AutoGluon을 위해 열 이름 변경\n",
    "\n",
    "    # 종목 ID 추가 (AutoGluon에서는 각 시계열 데이터가 고유한 ID를 가져야 함)\n",
    "    stock_data['item_id'] = 0  # 하나의 시계열만 있으므로 모든 값에 동일한 ID를 부여\n",
    "\n",
    "    # 데이터를 TimeSeriesDataFrame으로 변환\n",
    "    ts_data = TimeSeriesDataFrame.from_data_frame(\n",
    "        stock_data, \n",
    "        id_column=\"item_id\", \n",
    "        timestamp_column=\"datetime\"\n",
    "    )\n",
    "\n",
    "    # 데이터의 빈도를 변환해 일관되게 설정\n",
    "    ts_data = ts_data.convert_frequency(freq='D')\n",
    "\n",
    "    # AutoGluon 시계열 예측 모델 초기화 (빈도: 'D' = 일별 데이터)\n",
    "    predictor = TimeSeriesPredictor(\n",
    "        prediction_length=days,\n",
    "        freq='D'  # 일별 빈도 설정\n",
    "    )\n",
    "    \n",
    "    # 학습 수행\n",
    "    predictor.fit(train_data=ts_data)\n",
    "\n",
    "    # 30일 미래 예측\n",
    "    forecast = predictor.predict(ts_data)\n",
    "    \n",
    "    return forecast\n",
    "\n",
    "# 4. 시각화 및 예측 결과 출력\n",
    "def plot_forecast(stock_data, forecast):\n",
    "    plt.figure(figsize=(10, 6))\n",
    "    \n",
    "    # 과거 데이터 시각화\n",
    "    plt.plot(stock_data['datetime'], stock_data['target'], label=\"Actual Prices\")\n",
    "    \n",
    "    # 예측 데이터 시각화\n",
    "    plt.plot(forecast.index, forecast['mean'], label=\"Predicted Prices\", linestyle=\"--\")\n",
    "    \n",
    "    plt.title(\"Stock Price Forecast\")\n",
    "    plt.xlabel(\"Date\")\n",
    "    plt.ylabel(\"Price\")\n",
    "    plt.legend()\n",
    "    plt.grid(True)\n",
    "    \n",
    "    # 그래프 저장\n",
    "    plt.savefig(\"forecast_plot.png\")\n",
    "    \n",
    "    return \"forecast_plot.png\"\n",
    "\n",
    "# Gradio 인터페이스 구성\n",
    "def predict_stock(ticker):\n",
    "    try:\n",
    "        stock_data = load_stock_data(ticker)\n",
    "        displayed_data = display_data(stock_data)\n",
    "        forecast = time_series_forecast(stock_data)\n",
    "        plot_path = plot_forecast(stock_data, forecast)\n",
    "    \n",
    "        return displayed_data, plot_path\n",
    "    except Exception as e:\n",
    "        # 오류 발생 시 오류 메시지를 담은 데이터프레임 반환\n",
    "        error_df = pd.DataFrame({\"Error\": [str(e)]})\n",
    "        return error_df, None\n",
    "\n",
    "# Gradio 앱 UI 정의\n",
    "interface = gr.Interface(\n",
    "    fn=predict_stock, \n",
    "    inputs=gr.Dropdown(choices=tickers, label=\"Choose Stock\", value=\"AAPL\"),  # 종목 리스트 사용\n",
    "    outputs=[gr.Dataframe(label=\"Stock Data\"), gr.Image(label=\"Forecast Plot\")],\n",
    "    title=\"Stock Price Prediction\",\n",
    "    description=\"Predict 30-day future prices for Apple, Microsoft, Tesla, or Nvidia stocks using AutoGluon.\"\n",
    ")\n",
    "\n",
    "# 앱 실행\n",
    "interface.launch()\n"
   ]
  },
  {
   "cell_type": "code",
   "execution_count": 113,
   "id": "98a8ef0a-ede1-43a0-8eca-a398186de329",
   "metadata": {},
   "outputs": [
    {
     "name": "stdout",
     "output_type": "stream",
     "text": [
      "Closing server running on port: 7865\n"
     ]
    }
   ],
   "source": [
    "interface.close()"
   ]
  },
  {
   "cell_type": "code",
   "execution_count": null,
   "id": "0ed6acf2-56d1-41fb-a820-7289742dfb5d",
   "metadata": {},
   "outputs": [],
   "source": []
  },
  {
   "cell_type": "code",
   "execution_count": null,
   "id": "1ba74f95-8e68-4098-89a5-6592d7576ddb",
   "metadata": {},
   "outputs": [],
   "source": []
  },
  {
   "cell_type": "code",
   "execution_count": null,
   "id": "94af0f9d-9734-4f3f-8e70-0a05a6f8b86c",
   "metadata": {},
   "outputs": [],
   "source": []
  },
  {
   "cell_type": "code",
   "execution_count": null,
   "id": "3cb0cf7b-33bd-4091-8760-12715507b35a",
   "metadata": {},
   "outputs": [],
   "source": []
  },
  {
   "cell_type": "code",
   "execution_count": null,
   "id": "1ef9d4c5-984c-4b08-b6f5-72cc61550790",
   "metadata": {},
   "outputs": [],
   "source": []
  },
  {
   "cell_type": "code",
   "execution_count": null,
   "id": "81927225-c0e3-4ca4-afe8-048903d63106",
   "metadata": {},
   "outputs": [],
   "source": []
  },
  {
   "cell_type": "code",
   "execution_count": null,
   "id": "9b408c7e-988f-48bd-846f-11857539d2e8",
   "metadata": {},
   "outputs": [],
   "source": []
  },
  {
   "cell_type": "code",
   "execution_count": null,
   "id": "f0dbccc0-839d-4182-bf71-e2cda71f0d86",
   "metadata": {},
   "outputs": [],
   "source": []
  },
  {
   "cell_type": "code",
   "execution_count": null,
   "id": "6c7c0075-695e-42c6-9da1-7c9aa5b3b24e",
   "metadata": {},
   "outputs": [],
   "source": []
  }
 ],
 "metadata": {
  "kernelspec": {
   "display_name": "Python 3 (ipykernel)",
   "language": "python",
   "name": "python3"
  },
  "language_info": {
   "codemirror_mode": {
    "name": "ipython",
    "version": 3
   },
   "file_extension": ".py",
   "mimetype": "text/x-python",
   "name": "python",
   "nbconvert_exporter": "python",
   "pygments_lexer": "ipython3",
   "version": "3.10.15"
  }
 },
 "nbformat": 4,
 "nbformat_minor": 5
}
