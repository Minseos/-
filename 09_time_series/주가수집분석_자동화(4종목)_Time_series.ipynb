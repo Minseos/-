{
 "cells": [
  {
   "cell_type": "markdown",
   "id": "323e5dcc-91f9-4ba5-89fe-24a6dabed7c5",
   "metadata": {},
   "source": [
    "# 1. gradio로 애플, 마이크로소프트, 테슬라, 엔비디아 주식 - yahoo finance에서 2014-전날까지 불러오기\n",
    "# 2. 데이터 표시\n",
    "# 3. 종가를 타겟 변수로 지정\n",
    "# 4. AutoGluon을 이용해 시계열 분석\n",
    "# 5. 30일 예측 결과 출력, 시각화"
   ]
  },
  {
   "cell_type": "code",
   "execution_count": null,
   "id": "8da22a58-1199-4ba7-9019-d8c06647a324",
   "metadata": {},
   "outputs": [],
   "source": [
    "import pandas as pd\n",
    "import numpy as np\n",
    "import gradio as gr\n",
    "import yfinance as yf\n",
    "from autogluon.tabular import TabularPredictor\n",
    "from sklearn.model_selection import train_test_split\n",
    "from datetime import datetime, timedelta"
   ]
  },
  {
   "cell_type": "code",
   "execution_count": 31,
   "id": "1f7f35d5-5e61-40dd-962b-e14f72b28e80",
   "metadata": {
    "scrolled": true
   },
   "outputs": [
    {
     "name": "stdout",
     "output_type": "stream",
     "text": [
      "Launching Gradio interface...\n"
     ]
    },
    {
     "name": "stderr",
     "output_type": "stream",
     "text": [
      "INFO:httpx:HTTP Request: GET http://127.0.0.1:7861/gradio_api/startup-events \"HTTP/1.1 200 OK\"\n",
      "INFO:httpx:HTTP Request: HEAD http://127.0.0.1:7861/ \"HTTP/1.1 200 OK\"\n"
     ]
    },
    {
     "name": "stdout",
     "output_type": "stream",
     "text": [
      "* Running on local URL:  http://127.0.0.1:7861\n",
      "\n",
      "To create a public link, set `share=True` in `launch()`.\n"
     ]
    },
    {
     "data": {
      "text/html": [
       "<div><iframe src=\"http://127.0.0.1:7861/\" width=\"100%\" height=\"500\" allow=\"autoplay; camera; microphone; clipboard-read; clipboard-write;\" frameborder=\"0\" allowfullscreen></iframe></div>"
      ],
      "text/plain": [
       "<IPython.core.display.HTML object>"
      ]
     },
     "metadata": {},
     "output_type": "display_data"
    },
    {
     "data": {
      "text/plain": []
     },
     "execution_count": 31,
     "metadata": {},
     "output_type": "execute_result"
    },
    {
     "name": "stderr",
     "output_type": "stream",
     "text": [
      "INFO:httpx:HTTP Request: GET https://api.gradio.app/pkg-version \"HTTP/1.1 200 OK\"\n",
      "[*********************100%***********************]  1 of 1 completed\n",
      "Frequency '1D' stored as 'D'\n",
      "Beginning AutoGluon training... Time limit = 300s\n",
      "AutoGluon will save models to 'AutogluonModels/ag-20241017_090338'\n",
      "=================== System Info ===================\n",
      "AutoGluon Version:  1.1.1\n",
      "Python Version:     3.10.15\n",
      "Operating System:   Linux\n",
      "Platform Machine:   x86_64\n",
      "Platform Version:   #1 SMP Fri Mar 29 23:14:13 UTC 2024\n",
      "CPU Count:          12\n",
      "GPU Count:          0\n",
      "Memory Avail:       6.28 GB / 15.31 GB (41.0%)\n",
      "Disk Space Avail:   27.16 GB / 237.85 GB (11.4%)\n",
      "===================================================\n",
      "\n",
      "Fitting with arguments:\n",
      "{'enable_ensemble': True,\n",
      " 'eval_metric': WQL,\n",
      " 'freq': 'D',\n",
      " 'hyperparameters': 'default',\n",
      " 'known_covariates_names': [],\n",
      " 'num_val_windows': 1,\n",
      " 'prediction_length': 30,\n",
      " 'quantile_levels': [0.1, 0.2, 0.3, 0.4, 0.5, 0.6, 0.7, 0.8, 0.9],\n",
      " 'random_seed': 123,\n",
      " 'refit_every_n_windows': 1,\n",
      " 'refit_full': False,\n",
      " 'skip_model_selection': False,\n",
      " 'target': 'target',\n",
      " 'time_limit': 300,\n",
      " 'verbosity': 2}\n",
      "\n",
      "train_data with frequency 'None' has been resampled to frequency 'D'.\n"
     ]
    },
    {
     "name": "stdout",
     "output_type": "stream",
     "text": [
      "Starting analysis for AAPL...\n",
      "Fetching stock data for AAPL...\n",
      "Downloaded 2715 rows of data for AAPL.\n",
      "Starting AutoGluon time series forecasting...\n",
      "Training data prepared with 2715 rows.\n"
     ]
    },
    {
     "name": "stderr",
     "output_type": "stream",
     "text": [
      "Provided train_data has 3940 rows (NaN fraction=31.1%), 1 time series. Median time series length is 3940 (min=3940, max=3940). \n",
      "\n",
      "Provided data contains following columns:\n",
      "\ttarget: 'target'\n",
      "\n",
      "AutoGluon will gauge predictive performance using evaluation metric: 'WQL'\n",
      "\tThis metric's sign has been flipped to adhere to being higher_is_better. The metric score can be multiplied by -1 to get the metric value.\n",
      "===================================================\n",
      "\n",
      "Starting training. Start time is 2024-10-17 18:03:40\n",
      "Models that will be trained: ['SeasonalNaive', 'RecursiveTabular', 'DirectTabular', 'CrostonSBA', 'NPTS', 'DynamicOptimizedTheta', 'AutoETS', 'AutoARIMA', 'Chronos[base]', 'TemporalFusionTransformer', 'DeepAR', 'PatchTST']\n",
      "Training timeseries model SeasonalNaive. Training for up to 22.9s of the 298.3s of remaining time.\n",
      "\t-0.0178       = Validation score (-WQL)\n",
      "\t0.03    s     = Training runtime\n",
      "\t1.90    s     = Validation (prediction) runtime\n",
      "Training timeseries model RecursiveTabular. Training for up to 24.7s of the 296.3s of remaining time.\n",
      "\t-0.0229       = Validation score (-WQL)\n",
      "\t9.94    s     = Training runtime\n",
      "\t1.03    s     = Validation (prediction) runtime\n",
      "Training timeseries model DirectTabular. Training for up to 25.9s of the 285.2s of remaining time.\n",
      "\t-0.0478       = Validation score (-WQL)\n",
      "\t19.15   s     = Training runtime\n",
      "\t0.35    s     = Validation (prediction) runtime\n",
      "Training timeseries model CrostonSBA. Training for up to 26.6s of the 265.7s of remaining time.\n",
      "\t-0.0426       = Validation score (-WQL)\n",
      "\t0.02    s     = Training runtime\n",
      "\t6.72    s     = Validation (prediction) runtime\n",
      "Training timeseries model NPTS. Training for up to 28.8s of the 258.9s of remaining time.\n",
      "\t-0.3123       = Validation score (-WQL)\n",
      "\t0.02    s     = Training runtime\n",
      "\t1.25    s     = Validation (prediction) runtime\n",
      "Training timeseries model DynamicOptimizedTheta. Training for up to 32.2s of the 257.5s of remaining time.\n",
      "\t-0.0159       = Validation score (-WQL)\n",
      "\t0.02    s     = Training runtime\n",
      "\t18.82   s     = Validation (prediction) runtime\n",
      "Training timeseries model AutoETS. Training for up to 34.1s of the 238.6s of remaining time.\n",
      "\t-0.0181       = Validation score (-WQL)\n",
      "\t0.02    s     = Training runtime\n",
      "\t18.12   s     = Validation (prediction) runtime\n",
      "Training timeseries model AutoARIMA. Training for up to 36.7s of the 220.4s of remaining time.\n",
      "\t-0.0170       = Validation score (-WQL)\n",
      "\t0.03    s     = Training runtime\n",
      "\t9.70    s     = Validation (prediction) runtime\n",
      "Training timeseries model Chronos[base]. Training for up to 42.1s of the 210.6s of remaining time.\n",
      "\tWarning: Exception caused Chronos[base] to fail during training... Skipping this model.\n",
      "\tChronos[base]/W0 requires a GPU to run, but no GPU was detected. Please make sure that you are using a computer with a CUDA-compatible GPU and `import torch; torch.cuda.is_available()` returns `True`.\n",
      "Training timeseries model TemporalFusionTransformer. Training for up to 52.6s of the 210.6s of remaining time.\n",
      "\t-0.0135       = Validation score (-WQL)\n",
      "\t47.99   s     = Training runtime\n",
      "\t0.03    s     = Validation (prediction) runtime\n",
      "Training timeseries model DeepAR. Training for up to 54.2s of the 162.5s of remaining time.\n",
      "\t-0.2255       = Validation score (-WQL)\n",
      "\t49.12   s     = Training runtime\n",
      "\t0.16    s     = Validation (prediction) runtime\n",
      "Training timeseries model PatchTST. Training for up to 56.6s of the 113.1s of remaining time.\n",
      "\t-0.0190       = Validation score (-WQL)\n",
      "\t51.27   s     = Training runtime\n",
      "\t0.02    s     = Validation (prediction) runtime\n",
      "Fitting simple weighted ensemble.\n",
      "\tEnsemble weights: {'DeepAR': 0.05, 'DirectTabular': 0.01, 'SeasonalNaive': 0.27, 'TemporalFusionTransformer': 0.66}\n",
      "\t-0.0119       = Validation score (-WQL)\n",
      "\t1.32    s     = Training runtime\n",
      "\t2.44    s     = Validation (prediction) runtime\n",
      "Training complete. Models trained: ['SeasonalNaive', 'RecursiveTabular', 'DirectTabular', 'CrostonSBA', 'NPTS', 'DynamicOptimizedTheta', 'AutoETS', 'AutoARIMA', 'TemporalFusionTransformer', 'DeepAR', 'PatchTST', 'WeightedEnsemble']\n",
      "Total runtime: 237.97 s\n",
      "Best model: WeightedEnsemble\n",
      "Best model score: -0.0119\n",
      "data with frequency 'None' has been resampled to frequency 'D'.\n"
     ]
    },
    {
     "name": "stdout",
     "output_type": "stream",
     "text": [
      "Model training completed. Predicting future values...\n"
     ]
    },
    {
     "name": "stderr",
     "output_type": "stream",
     "text": [
      "Model not specified in predict, will default to the model with the best validation score: WeightedEnsemble\n"
     ]
    },
    {
     "name": "stdout",
     "output_type": "stream",
     "text": [
      "Forecasting completed. Generated 30 predicted values.\n",
      "Plotting forecast results...\n",
      "Error during analysis: 'value' must be an instance of str or bytes, not a tuple\n"
     ]
    }
   ],
   "source": [
    "import pandas as pd\n",
    "import gradio as gr\n",
    "import yfinance as yf\n",
    "import matplotlib.pyplot as plt\n",
    "from autogluon.timeseries import TimeSeriesPredictor, TimeSeriesDataFrame\n",
    "from datetime import datetime, timedelta\n",
    "\n",
    "# 종목 리스트\n",
    "tickers = [\"AAPL\", \"MSFT\", \"TSLA\", \"NVDA\"]\n",
    "\n",
    "# Yahoo Finance에서 주식 데이터 가져오기 (2014년 1월 1일부터 어제까지)\n",
    "def fetch_stock_data(selected_ticker):\n",
    "    print(f\"Fetching stock data for {selected_ticker}...\")\n",
    "    start_date = \"2014-01-01\"  # 2014년 1월 1일부터 데이터 가져오기\n",
    "    end_date = (datetime.now() - timedelta(days=1)).strftime('%Y-%m-%d')  # 어제 날짜까지\n",
    "    data = yf.download(selected_ticker, start=start_date, end=end_date)\n",
    "    print(f\"Downloaded {len(data)} rows of data for {selected_ticker}.\")\n",
    "    return data\n",
    "\n",
    "# AutoGluon-TimeSeries를 통해 시계열 예측 수행\n",
    "def automl_time_series_forecasting(data, time_limit=300, forecast_length=30):\n",
    "    print(\"Starting AutoGluon time series forecasting...\")\n",
    "    \n",
    "    # 데이터프레임에서 datetime 타입으로 변환\n",
    "    data.index = pd.to_datetime(data.index)\n",
    "    \n",
    "    # 학습 데이터 구성 (TimeSeriesDataFrame 형식으로 변환)\n",
    "    train_data = pd.DataFrame({\n",
    "        \"timestamp\": data.index,  # 시계열 데이터의 타임스탬프\n",
    "        \"target\": data['Close'],  # 예측할 종가 값\n",
    "        \"item_id\": \"stock\"  # 단일 종목이므로 동일 ID로 설정\n",
    "    }).reset_index(drop=True)  # 인덱스를 초기화해줘야 AutoGluon이 제대로 학습 가능\n",
    "\n",
    "    print(f\"Training data prepared with {len(train_data)} rows.\")\n",
    "\n",
    "    # TimeSeriesDataFrame으로 변환\n",
    "    train_data_ts = TimeSeriesDataFrame(train_data)\n",
    "\n",
    "    # AutoGluon TimeSeries 모델 생성 (freq 설정 추가)\n",
    "    predictor = TimeSeriesPredictor(\n",
    "        prediction_length=forecast_length,  # 예측할 기간 설정 (30일)\n",
    "        freq=\"1D\"  # 주기: 일 단위\n",
    "    )\n",
    "\n",
    "    # 모델 학습 (time_limit은 fit()에서 설정)\n",
    "    predictor.fit(train_data_ts, time_limit=time_limit)\n",
    "\n",
    "    print(\"Model training completed. Predicting future values...\")\n",
    "\n",
    "    # 예측할 데이터 생성 (미래 데이터 예측)\n",
    "    future_forecast = predictor.predict(train_data_ts)  # AutoGluon은 자체적으로 미래 데이터를 예측함\n",
    "    print(f\"Forecasting completed. Generated {len(future_forecast)} predicted values.\")\n",
    "    \n",
    "    return future_forecast\n",
    "\n",
    "# 시각화 함수: 예측 결과\n",
    "def plot_forecast(data, forecast):\n",
    "    print(\"Plotting forecast results...\")\n",
    "    plt.figure(figsize=(10, 6))\n",
    "    plt.plot(data.index, data['Close'], label='Actual', marker='o')\n",
    "    plt.plot(forecast.index, forecast['mean'], label='Predicted', linestyle='--', marker='x')\n",
    "    plt.xlabel('Date')\n",
    "    plt.ylabel('Close Price')\n",
    "    plt.title('Actual vs Predicted Close Prices')\n",
    "    plt.legend()\n",
    "    plt.grid(True)\n",
    "    plt.xticks(rotation=45)\n",
    "    plt.tight_layout()\n",
    "    plt.savefig('forecast_plot.png')\n",
    "    plt.close()\n",
    "    print(\"Plot saved as 'forecast_plot.png'.\")\n",
    "    return 'forecast_plot.png'  # 이미지 경로 반환\n",
    "\n",
    "# 매수/매도 결정 함수 (간단한 가격 비교로 결정)\n",
    "def make_trade_decision(forecast):\n",
    "    print(\"Making trade decision...\")\n",
    "    last_predicted_price = forecast['mean'].iloc[-1]  # 마지막 예측된 종가\n",
    "\n",
    "    # 간단한 조건으로 매수/매도 결정\n",
    "    if last_predicted_price > forecast['mean'].iloc[-2]:\n",
    "        print(\"Trade decision: Buy signal.\")\n",
    "        return \"매수 신호: 예측된 가격이 상승할 것으로 보입니다.\"\n",
    "    elif last_predicted_price < forecast['mean'].iloc[-2]:\n",
    "        print(\"Trade decision: Sell signal.\")\n",
    "        return \"매도 신호: 예측된 가격이 하락할 것으로 보입니다.\"\n",
    "    else:\n",
    "        print(\"Trade decision: Hold signal.\")\n",
    "        return \"유지 신호: 예측된 가격에 큰 변화가 없습니다.\"\n",
    "\n",
    "# 분석 함수\n",
    "def analyze_stock(selected_ticker):\n",
    "    print(f\"Starting analysis for {selected_ticker}...\")\n",
    "    \n",
    "    stock_data = fetch_stock_data(selected_ticker)\n",
    "    \n",
    "    # AutoGluon을 사용하여 30일 예측\n",
    "    forecast = automl_time_series_forecasting(stock_data)\n",
    "    \n",
    "    # 예측 결과 시각화\n",
    "    forecast_plot = plot_forecast(stock_data, forecast)\n",
    "    \n",
    "    # 매수/매도 신호 계산\n",
    "    trade_signal = make_trade_decision(forecast)\n",
    "\n",
    "    print(f\"Analysis for {selected_ticker} completed.\")\n",
    "    return forecast_plot, trade_signal  # 이미지 경로와 매수/매도 신호 반환\n",
    "\n",
    "# Gradio 인터페이스 구성\n",
    "with gr.Blocks() as interface:\n",
    "    with gr.Row():\n",
    "        with gr.Column():\n",
    "            # 종목 선택 드롭다운 (기본값 설정)\n",
    "            stock_selector = gr.Dropdown(choices=tickers, label=\"주식 종목 선택\", value=\"AAPL\")  # 기본값 AAPL로 설정\n",
    "            run_button = gr.Button(\"30일 예측 및 시각화\")\n",
    "\n",
    "    with gr.Row():\n",
    "        # 예측 결과 시각화 이미지 출력\n",
    "        with gr.Column():\n",
    "            forecast_image_output = gr.Image(label=\"실제값 VS 예측값\")\n",
    "        \n",
    "    with gr.Row():\n",
    "        # 매수/매도 신호 출력\n",
    "        trade_signal_output = gr.Textbox(label=\"매수/매도 신호\")\n",
    "\n",
    "    # 버튼 클릭 시 분석 실행\n",
    "    def run_analysis(selected_ticker):\n",
    "        try:\n",
    "            forecast_plot, trade_signal = analyze_stock(selected_ticker)\n",
    "            return forecast_plot, trade_signal  # 이미지 경로와 신호를 반환\n",
    "        except Exception as e:\n",
    "            print(f\"Error during analysis: {e}\")\n",
    "            return None, f\"분석 중 오류 발생: {e}\"  # 오류 발생 시 None 반환, 오류 메시지 반환\n",
    "    \n",
    "    # 버튼 클릭 시 실행 및 업데이트\n",
    "    run_button.click(\n",
    "        run_analysis,\n",
    "        inputs=[stock_selector],\n",
    "        outputs=[forecast_image_output, trade_signal_output]  # 이미지를 먼저 반환하고, 텍스트 신호 반환\n",
    "    )\n",
    "\n",
    "# Gradio 앱 실행\n",
    "print(\"Launching Gradio interface...\")\n",
    "interface.launch()\n"
   ]
  },
  {
   "cell_type": "code",
   "execution_count": 30,
   "id": "98a8ef0a-ede1-43a0-8eca-a398186de329",
   "metadata": {},
   "outputs": [
    {
     "name": "stdout",
     "output_type": "stream",
     "text": [
      "Closing server running on port: 7861\n"
     ]
    }
   ],
   "source": [
    "interface.close()"
   ]
  },
  {
   "cell_type": "code",
   "execution_count": null,
   "id": "0ed6acf2-56d1-41fb-a820-7289742dfb5d",
   "metadata": {},
   "outputs": [],
   "source": []
  },
  {
   "cell_type": "code",
   "execution_count": null,
   "id": "5a68f217-523e-4196-9702-d176b02b0a74",
   "metadata": {},
   "outputs": [],
   "source": []
  },
  {
   "cell_type": "code",
   "execution_count": null,
   "id": "47378f72-b27c-4d83-a399-727b8e2df7a6",
   "metadata": {},
   "outputs": [],
   "source": []
  },
  {
   "cell_type": "code",
   "execution_count": null,
   "id": "1ba74f95-8e68-4098-89a5-6592d7576ddb",
   "metadata": {},
   "outputs": [],
   "source": []
  },
  {
   "cell_type": "code",
   "execution_count": null,
   "id": "94af0f9d-9734-4f3f-8e70-0a05a6f8b86c",
   "metadata": {},
   "outputs": [],
   "source": []
  },
  {
   "cell_type": "code",
   "execution_count": null,
   "id": "3cb0cf7b-33bd-4091-8760-12715507b35a",
   "metadata": {},
   "outputs": [],
   "source": []
  },
  {
   "cell_type": "code",
   "execution_count": null,
   "id": "1ef9d4c5-984c-4b08-b6f5-72cc61550790",
   "metadata": {},
   "outputs": [],
   "source": []
  },
  {
   "cell_type": "code",
   "execution_count": null,
   "id": "81927225-c0e3-4ca4-afe8-048903d63106",
   "metadata": {},
   "outputs": [],
   "source": []
  },
  {
   "cell_type": "code",
   "execution_count": null,
   "id": "9b408c7e-988f-48bd-846f-11857539d2e8",
   "metadata": {},
   "outputs": [],
   "source": []
  },
  {
   "cell_type": "code",
   "execution_count": null,
   "id": "f0dbccc0-839d-4182-bf71-e2cda71f0d86",
   "metadata": {},
   "outputs": [],
   "source": []
  },
  {
   "cell_type": "code",
   "execution_count": null,
   "id": "6c7c0075-695e-42c6-9da1-7c9aa5b3b24e",
   "metadata": {},
   "outputs": [],
   "source": []
  }
 ],
 "metadata": {
  "kernelspec": {
   "display_name": "Python 3 (ipykernel)",
   "language": "python",
   "name": "python3"
  },
  "language_info": {
   "codemirror_mode": {
    "name": "ipython",
    "version": 3
   },
   "file_extension": ".py",
   "mimetype": "text/x-python",
   "name": "python",
   "nbconvert_exporter": "python",
   "pygments_lexer": "ipython3",
   "version": "3.10.15"
  }
 },
 "nbformat": 4,
 "nbformat_minor": 5
}
