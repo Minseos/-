{
 "cells": [
  {
   "cell_type": "markdown",
   "id": "b1cdb0b3-97ad-4765-a20d-ae9d7f646e50",
   "metadata": {},
   "source": [
    "# 1. gradio로 애플, 마이크로소프트, 테슬라, 엔비디아 주식 - yahoo finance에서 2014-전날까지 불러오기\n",
    "# 2. 데이터 표시\n",
    "# 3. 종가를 타겟 변수로 지정\n",
    "# 4. AutoGluon을 이용해 시계열 분석\n",
    "# 5. 30일 예측 결과 출력, 시각화"
   ]
  },
  {
   "cell_type": "code",
   "execution_count": 32,
   "id": "3b77e94b-e522-4990-b030-d439bdbe5208",
   "metadata": {
    "scrolled": true
   },
   "outputs": [],
   "source": [
    "# !pip install yfinance gradio autogluon"
   ]
  },
  {
   "cell_type": "code",
   "execution_count": 1,
   "id": "d91333a7-5659-492b-a3f5-1093527a1534",
   "metadata": {},
   "outputs": [],
   "source": [
    "import pandas as pd\n",
    "import numpy as np\n",
    "import gradio as gr\n",
    "import yfinance as yf\n",
    "from autogluon.tabular import TabularPredictor\n",
    "from sklearn.model_selection import train_test_split\n",
    "from datetime import datetime, timedelta"
   ]
  },
  {
   "cell_type": "code",
   "execution_count": 64,
   "id": "91568fee-22a9-4187-bf98-c77e141623f5",
   "metadata": {},
   "outputs": [],
   "source": [
    "tickers = [\"AAPL\", \"MSFT\", \"TSLA\", \"NVDA\"]"
   ]
  },
  {
   "cell_type": "markdown",
   "id": "93de77f6-03df-4600-b077-9045a0b684e3",
   "metadata": {},
   "source": [
    "- 이거는 여러가지 데이터를 분석할 때 필요한 함수임"
   ]
  },
  {
   "cell_type": "code",
   "execution_count": 66,
   "id": "47932439-6de4-4573-883d-d003381e88e3",
   "metadata": {},
   "outputs": [],
   "source": [
    "# # 데이터를 합치고 모든 컬럼을 포함\n",
    "# def prepare_data(stock_data):\n",
    "#     data_ticker = pd.DataFrame()\n",
    "#     for ticker, data in stock_data.items():\n",
    "#         data['Ticker'] = ticker  # 종목명을 추가\n",
    "#         data_ticker = pd.concat([data_ticker, data])  # 모든 데이터를 결합\n",
    "#     return data_ticker"
   ]
  },
  {
   "cell_type": "code",
   "execution_count": null,
   "id": "62d7f089-9bce-4fe1-a0d3-6aaf4b4e0cbc",
   "metadata": {},
   "outputs": [],
   "source": []
  },
  {
   "cell_type": "code",
   "execution_count": 3,
   "id": "3b63b9f1-fd6b-4a70-99f8-a1c036179e0c",
   "metadata": {},
   "outputs": [
    {
     "name": "stdout",
     "output_type": "stream",
     "text": [
      "Closing server running on port: 7860\n"
     ]
    }
   ],
   "source": [
    "interface.close()"
   ]
  },
  {
   "cell_type": "code",
   "execution_count": null,
   "id": "87eeb84c-c139-4c4d-a404-1fc062f5ada6",
   "metadata": {},
   "outputs": [],
   "source": []
  },
  {
   "cell_type": "code",
   "execution_count": null,
   "id": "9ee91e04-1ff2-4144-b769-ec262c9a9775",
   "metadata": {},
   "outputs": [],
   "source": []
  },
  {
   "cell_type": "code",
   "execution_count": 5,
   "id": "c6f28bf8-3c7f-418b-b403-4c8f72c822b8",
   "metadata": {},
   "outputs": [
    {
     "name": "stdout",
     "output_type": "stream",
     "text": [
      "Closing server running on port: 7860\n"
     ]
    }
   ],
   "source": [
    "interface.close()"
   ]
  },
  {
   "cell_type": "code",
   "execution_count": null,
   "id": "abea97f0-409a-4283-963a-88d5c84c3d9e",
   "metadata": {},
   "outputs": [],
   "source": []
  },
  {
   "cell_type": "code",
   "execution_count": null,
   "id": "5d9484e0-1484-4e4d-8a21-d2d4a85a503f",
   "metadata": {},
   "outputs": [],
   "source": []
  },
  {
   "cell_type": "code",
   "execution_count": 6,
   "id": "26ec5dd8-3a0b-4cef-9de9-d9cc48c91214",
   "metadata": {
    "scrolled": true
   },
   "outputs": [
    {
     "name": "stdout",
     "output_type": "stream",
     "text": [
      "* Running on local URL:  http://127.0.0.1:7860\n",
      "\n",
      "To create a public link, set `share=True` in `launch()`.\n"
     ]
    },
    {
     "data": {
      "text/html": [
       "<div><iframe src=\"http://127.0.0.1:7860/\" width=\"100%\" height=\"500\" allow=\"autoplay; camera; microphone; clipboard-read; clipboard-write;\" frameborder=\"0\" allowfullscreen></iframe></div>"
      ],
      "text/plain": [
       "<IPython.core.display.HTML object>"
      ]
     },
     "metadata": {},
     "output_type": "display_data"
    },
    {
     "data": {
      "text/plain": []
     },
     "execution_count": 6,
     "metadata": {},
     "output_type": "execute_result"
    },
    {
     "name": "stderr",
     "output_type": "stream",
     "text": [
      "[*********************100%***********************]  1 of 1 completed\n",
      "[*********************100%***********************]  1 of 1 completed\n",
      "[*********************100%***********************]  1 of 1 completed\n",
      "[*********************100%***********************]  1 of 1 completed\n",
      "No path specified. Models will be saved in: \"AutogluonModels/ag-20241017_070503\"\n",
      "Verbosity: 2 (Standard Logging)\n",
      "=================== System Info ===================\n",
      "AutoGluon Version:  1.1.1\n",
      "Python Version:     3.10.15\n",
      "Operating System:   Linux\n",
      "Platform Machine:   x86_64\n",
      "Platform Version:   #1 SMP Fri Mar 29 23:14:13 UTC 2024\n",
      "CPU Count:          12\n",
      "Memory Avail:       9.55 GB / 15.31 GB (62.4%)\n",
      "Disk Space Avail:   36.69 GB / 237.85 GB (15.4%)\n",
      "===================================================\n",
      "No presets specified! To achieve strong results with AutoGluon, it is recommended to use the available presets.\n",
      "\tRecommended Presets (For more details refer to https://auto.gluon.ai/stable/tutorials/tabular/tabular-essentials.html#presets):\n",
      "\tpresets='best_quality'   : Maximize accuracy. Default time_limit=3600.\n",
      "\tpresets='high_quality'   : Strong accuracy with fast inference speed. Default time_limit=3600.\n",
      "\tpresets='good_quality'   : Good accuracy with very fast inference speed. Default time_limit=3600.\n",
      "\tpresets='medium_quality' : Fast training time, ideal for initial prototyping.\n",
      "Beginning AutoGluon training ... Time limit = 300s\n",
      "AutoGluon will save models to \"AutogluonModels/ag-20241017_070503\"\n",
      "Train Data Rows:    2685\n",
      "Train Data Columns: 6\n",
      "Label Column:       Close\n",
      "Problem Type:       regression\n",
      "Preprocessing data ...\n",
      "Using Feature Generators to preprocess the data ...\n",
      "Fitting AutoMLPipelineFeatureGenerator...\n",
      "\tAvailable Memory:                    9779.22 MB\n",
      "\tTrain Data (Original)  Memory Usage: 0.12 MB (0.0% of available memory)\n",
      "\tInferring data type of each feature based on column values. Set feature_metadata_in to manually specify special dtypes of the features.\n",
      "\tStage 1 Generators:\n",
      "\t\tFitting AsTypeFeatureGenerator...\n",
      "\tStage 2 Generators:\n",
      "\t\tFitting FillNaFeatureGenerator...\n",
      "\tStage 3 Generators:\n",
      "\t\tFitting IdentityFeatureGenerator...\n",
      "\t\tFitting DatetimeFeatureGenerator...\n",
      "\tStage 4 Generators:\n",
      "\t\tFitting DropUniqueFeatureGenerator...\n",
      "\tStage 5 Generators:\n",
      "\t\tFitting DropDuplicatesFeatureGenerator...\n",
      "\tTypes of features in original data (raw dtype, special dtypes):\n",
      "\t\t('datetime', []) : 1 | ['Date']\n",
      "\t\t('float', [])    : 4 | ['Open', 'High', 'Low', 'Adj Close']\n",
      "\t\t('int', [])      : 1 | ['Volume']\n",
      "\tTypes of features in processed data (raw dtype, special dtypes):\n",
      "\t\t('float', [])                : 4 | ['Open', 'High', 'Low', 'Adj Close']\n",
      "\t\t('int', [])                  : 1 | ['Volume']\n",
      "\t\t('int', ['datetime_as_int']) : 5 | ['Date', 'Date.year', 'Date.month', 'Date.day', 'Date.dayofweek']\n",
      "\t0.1s = Fit runtime\n",
      "\t6 features in original data used to generate 10 features in processed data.\n",
      "\tTrain Data (Processed) Memory Usage: 0.20 MB (0.0% of available memory)\n",
      "Data preprocessing and feature engineering runtime = 0.1s ...\n",
      "AutoGluon will gauge predictive performance using evaluation metric: 'root_mean_squared_error'\n",
      "\tThis metric's sign has been flipped to adhere to being higher_is_better. The metric score can be multiplied by -1 to get the metric value.\n",
      "\tTo change this, specify the eval_metric parameter of Predictor()\n",
      "Automatically generating train/validation split with holdout_frac=0.186219739292365, Train Rows: 2185, Val Rows: 500\n",
      "User-specified model hyperparameters to be fit:\n",
      "{\n",
      "\t'NN_TORCH': {},\n",
      "\t'GBM': [{'extra_trees': True, 'ag_args': {'name_suffix': 'XT'}}, {}, 'GBMLarge'],\n",
      "\t'CAT': {},\n",
      "\t'XGB': {},\n",
      "\t'FASTAI': {},\n",
      "\t'RF': [{'criterion': 'gini', 'ag_args': {'name_suffix': 'Gini', 'problem_types': ['binary', 'multiclass']}}, {'criterion': 'entropy', 'ag_args': {'name_suffix': 'Entr', 'problem_types': ['binary', 'multiclass']}}, {'criterion': 'squared_error', 'ag_args': {'name_suffix': 'MSE', 'problem_types': ['regression', 'quantile']}}],\n",
      "\t'XT': [{'criterion': 'gini', 'ag_args': {'name_suffix': 'Gini', 'problem_types': ['binary', 'multiclass']}}, {'criterion': 'entropy', 'ag_args': {'name_suffix': 'Entr', 'problem_types': ['binary', 'multiclass']}}, {'criterion': 'squared_error', 'ag_args': {'name_suffix': 'MSE', 'problem_types': ['regression', 'quantile']}}],\n",
      "\t'KNN': [{'weights': 'uniform', 'ag_args': {'name_suffix': 'Unif'}}, {'weights': 'distance', 'ag_args': {'name_suffix': 'Dist'}}],\n",
      "}\n",
      "Fitting 11 L1 models ...\n",
      "Fitting model: KNeighborsUnif ... Training model for up to 299.9s of the 299.89s of remaining time.\n",
      "\t-5.4417\t = Validation score   (-root_mean_squared_error)\n",
      "\t0.03s\t = Training   runtime\n",
      "\t0.04s\t = Validation runtime\n",
      "Fitting model: KNeighborsDist ... Training model for up to 299.75s of the 299.74s of remaining time.\n",
      "\t-4.6831\t = Validation score   (-root_mean_squared_error)\n",
      "\t0.02s\t = Training   runtime\n",
      "\t0.02s\t = Validation runtime\n",
      "Fitting model: LightGBMXT ... Training model for up to 299.66s of the 299.65s of remaining time.\n"
     ]
    },
    {
     "name": "stdout",
     "output_type": "stream",
     "text": [
      "[1000]\tvalid_set's rmse: 3.04117\n",
      "[2000]\tvalid_set's rmse: 2.81028\n",
      "[3000]\tvalid_set's rmse: 2.71851\n",
      "[4000]\tvalid_set's rmse: 2.66339\n",
      "[5000]\tvalid_set's rmse: 2.63655\n",
      "[6000]\tvalid_set's rmse: 2.60874\n",
      "[7000]\tvalid_set's rmse: 2.59619\n",
      "[8000]\tvalid_set's rmse: 2.58846\n",
      "[9000]\tvalid_set's rmse: 2.58245\n",
      "[10000]\tvalid_set's rmse: 2.57679\n"
     ]
    },
    {
     "name": "stderr",
     "output_type": "stream",
     "text": [
      "\t-2.5768\t = Validation score   (-root_mean_squared_error)\n",
      "\t6.62s\t = Training   runtime\n",
      "\t0.16s\t = Validation runtime\n",
      "Fitting model: LightGBM ... Training model for up to 292.46s of the 292.46s of remaining time.\n"
     ]
    },
    {
     "name": "stdout",
     "output_type": "stream",
     "text": [
      "[1000]\tvalid_set's rmse: 1.43081\n",
      "[2000]\tvalid_set's rmse: 1.41178\n"
     ]
    },
    {
     "name": "stderr",
     "output_type": "stream",
     "text": [
      "\t-1.4052\t = Validation score   (-root_mean_squared_error)\n",
      "\t1.61s\t = Training   runtime\n",
      "\t0.03s\t = Validation runtime\n",
      "Fitting model: RandomForestMSE ... Training model for up to 290.7s of the 290.7s of remaining time.\n",
      "\t-0.585\t = Validation score   (-root_mean_squared_error)\n",
      "\t0.73s\t = Training   runtime\n",
      "\t0.11s\t = Validation runtime\n",
      "Fitting model: CatBoost ... Training model for up to 289.43s of the 289.42s of remaining time.\n",
      "\t-1.7729\t = Validation score   (-root_mean_squared_error)\n",
      "\t65.19s\t = Training   runtime\n",
      "\t0.0s\t = Validation runtime\n",
      "Fitting model: ExtraTreesMSE ... Training model for up to 224.13s of the 224.12s of remaining time.\n",
      "\t-0.7159\t = Validation score   (-root_mean_squared_error)\n",
      "\t0.67s\t = Training   runtime\n",
      "\t0.09s\t = Validation runtime\n",
      "Fitting model: NeuralNetFastAI ... Training model for up to 222.95s of the 222.94s of remaining time.\n",
      "\t-3.0141\t = Validation score   (-root_mean_squared_error)\n",
      "\t2.94s\t = Training   runtime\n",
      "\t0.02s\t = Validation runtime\n",
      "Fitting model: XGBoost ... Training model for up to 219.93s of the 219.92s of remaining time.\n",
      "\t-1.0924\t = Validation score   (-root_mean_squared_error)\n",
      "\t0.59s\t = Training   runtime\n",
      "\t0.01s\t = Validation runtime\n",
      "Fitting model: NeuralNetTorch ... Training model for up to 219.28s of the 219.27s of remaining time.\n",
      "\t-3.5572\t = Validation score   (-root_mean_squared_error)\n",
      "\t15.59s\t = Training   runtime\n",
      "\t0.01s\t = Validation runtime\n",
      "Fitting model: LightGBMLarge ... Training model for up to 203.62s of the 203.62s of remaining time.\n",
      "\t-1.241\t = Validation score   (-root_mean_squared_error)\n",
      "\t1.32s\t = Training   runtime\n",
      "\t0.0s\t = Validation runtime\n",
      "Fitting model: WeightedEnsemble_L2 ... Training model for up to 299.9s of the 202.16s of remaining time.\n",
      "\tEnsemble Weights: {'RandomForestMSE': 0.846, 'ExtraTreesMSE': 0.154}\n",
      "\t-0.5798\t = Validation score   (-root_mean_squared_error)\n",
      "\t0.02s\t = Training   runtime\n",
      "\t0.0s\t = Validation runtime\n",
      "AutoGluon training complete, total runtime = 98.05s ... Best model: WeightedEnsemble_L2 | Estimated inference throughput: 2552.9 rows/s (500 batch size)\n",
      "TabularPredictor saved. To load, use: predictor = TabularPredictor.load(\"AutogluonModels/ag-20241017_070503\")\n"
     ]
    }
   ],
   "source": [
    "import pandas as pd\n",
    "import gradio as gr\n",
    "import yfinance as yf\n",
    "import matplotlib.pyplot as plt\n",
    "from autogluon.tabular import TabularPredictor\n",
    "from datetime import datetime, timedelta\n",
    "\n",
    "# 종목 리스트\n",
    "tickers = [\"AAPL\", \"MSFT\", \"TSLA\", \"NVDA\"]\n",
    "\n",
    "# Yahoo Finance에서 주식 데이터 가져오기\n",
    "def fetch_stock_data(tickers):\n",
    "    stock_data = {}\n",
    "    end_date = (datetime.now() - timedelta(days=1)).strftime('%Y-%m-%d')\n",
    "    \n",
    "    for ticker in tickers:\n",
    "        stock_data[ticker] = yf.download(ticker, start=\"2014-01-01\", end=end_date)\n",
    "    return stock_data\n",
    "\n",
    "# 사용자가 선택한 종목의 데이터를 추출\n",
    "def select_stock_data(stock_data, selected_ticker):\n",
    "    if selected_ticker not in stock_data:\n",
    "        raise KeyError(f\"Selected ticker {selected_ticker} not found in stock data\")\n",
    "    return stock_data[selected_ticker]\n",
    "\n",
    "# AutoML을 통해 시계열 예측 수행 (종가를 타겟 변수로 지정)\n",
    "def automl_time_series(data, time_limit=300):\n",
    "    target_column = \"Close\"\n",
    "    \n",
    "    # 시간 기반으로 데이터를 분할\n",
    "    train_data = data.iloc[:-30].copy()  # 30일 전까지 훈련 데이터로 설정 (copy() 사용)\n",
    "    test_data = data.iloc[-30:].copy()   # 마지막 30일을 테스트 데이터로 설정 (copy() 사용)\n",
    "    \n",
    "    # Date 컬럼을 추가할 때 loc[] 사용하여 할당\n",
    "    train_data.loc[:, 'Date'] = train_data.index\n",
    "    test_data.loc[:, 'Date'] = test_data.index\n",
    "\n",
    "    # AutoGluon 모델 학습\n",
    "    model = TabularPredictor(label=target_column, problem_type='regression').fit(train_data, time_limit=time_limit)\n",
    "    \n",
    "    # 30일 예측\n",
    "    pred = model.predict(test_data)\n",
    "    \n",
    "    # 여러 모델 성능 비교\n",
    "    leader_board = model.leaderboard(test_data, silent=True)\n",
    "    \n",
    "    # 중요 변수 출력\n",
    "    feature_importance = model.feature_importance(test_data, silent=True)\n",
    "    \n",
    "    prediction_df = pd.DataFrame({\"Date\": test_data['Date'], \"Actual\": test_data[target_column], \"Predicted\": pred})\n",
    "    \n",
    "    return {\n",
    "        \"predictions\": prediction_df,\n",
    "        \"leader_board\": leader_board,\n",
    "        \"feature_importance\": feature_importance\n",
    "    }\n",
    "\n",
    "# 시각화 함수: 예측 결과\n",
    "def plot_predictions(predictions):\n",
    "    plt.figure(figsize=(10, 6))\n",
    "    plt.plot(predictions['Date'], predictions['Actual'], label='Actual', marker='o')\n",
    "    plt.plot(predictions['Date'], predictions['Predicted'], label='Predicted', linestyle='--', marker='x')\n",
    "    plt.xlabel('Date')\n",
    "    plt.ylabel('Close Price')\n",
    "    plt.title('Actual vs Predicted Close Prices')\n",
    "    plt.legend()\n",
    "    plt.grid(True)\n",
    "    plt.xticks(rotation=45)\n",
    "    plt.tight_layout()\n",
    "    # 이미지로 저장\n",
    "    plt.savefig('predictions_plot.png')\n",
    "    plt.close()\n",
    "    return 'predictions_plot.png'\n",
    "\n",
    "# 시각화 함수: 변수 중요도\n",
    "def plot_feature_importance(feature_importance):\n",
    "    plt.figure(figsize=(10, 6))\n",
    "    plt.barh(feature_importance.index, feature_importance['importance'], color='lightgreen')\n",
    "    plt.xlabel('Importance')\n",
    "    plt.title('Feature Importance')\n",
    "    plt.grid(True)\n",
    "    plt.tight_layout()\n",
    "    plt.savefig('feature_importance_plot.png')\n",
    "    plt.close()\n",
    "    return 'feature_importance_plot.png'\n",
    "\n",
    "# 시각화 함수: 모델 성능 비교\n",
    "def plot_leaderboard(leader_board):\n",
    "    plt.figure(figsize=(10, 6))\n",
    "    plt.barh(leader_board['model'], leader_board['score_test'], color='lightblue')\n",
    "    plt.xlabel('Test Score (RMSE)')\n",
    "    plt.title('Model Performance Comparison')\n",
    "    plt.grid(True)\n",
    "    plt.tight_layout()\n",
    "    plt.savefig('leaderboard_plot.png')\n",
    "    plt.close()\n",
    "    return 'leaderboard_plot.png'\n",
    "\n",
    "# 시각화 함수: 4개 종목 종가 그래프\n",
    "def plot_multiple_stocks(stock_data):\n",
    "    plt.figure(figsize=(12, 6))\n",
    "    \n",
    "    for ticker in tickers:\n",
    "        plt.plot(stock_data[ticker].index, stock_data[ticker]['Close'], label=ticker)\n",
    "    \n",
    "    plt.xlabel('Date')\n",
    "    plt.ylabel('Close Price')\n",
    "    plt.title('Stock Close Prices (AAPL, MSFT, TSLA, NVDA)')\n",
    "    plt.legend()\n",
    "    plt.grid(True)\n",
    "    plt.xticks(rotation=45)\n",
    "    plt.tight_layout()\n",
    "    plt.savefig('multiple_stocks_plot.png')\n",
    "    plt.close()\n",
    "    return 'multiple_stocks_plot.png'\n",
    "\n",
    "# 매수/매도 결정 함수 (간단한 가격 비교로 결정)\n",
    "def make_trade_decision(predictions):\n",
    "    last_actual_price = predictions['Actual'].iloc[-1]  # 마지막 실제 종가\n",
    "    last_predicted_price = predictions['Predicted'].iloc[-1]  # 마지막 예측된 종가\n",
    "\n",
    "    if last_predicted_price > last_actual_price:\n",
    "        return \"매수 신호: 예측된 가격이 상승할 것으로 보입니다.\"\n",
    "    elif last_predicted_price < last_actual_price:\n",
    "        return \"매도 신호: 예측된 가격이 하락할 것으로 보입니다.\"\n",
    "    else:\n",
    "        return \"유지 신호: 예측된 가격에 큰 변화가 없습니다.\"\n",
    "\n",
    "# 분석 함수\n",
    "def analyze_stock(selected_ticker):\n",
    "    stock_data = fetch_stock_data(tickers)\n",
    "    selected_data = select_stock_data(stock_data, selected_ticker)\n",
    "    \n",
    "    # AutoML을 통해 종가 예측 및 추가 정보 추출\n",
    "    results = automl_time_series(selected_data)\n",
    "\n",
    "    # 예측, 리더보드, 변수 중요도 각각 시각화\n",
    "    prediction_plot = plot_predictions(results['predictions'])\n",
    "    leaderboard_plot = plot_leaderboard(results['leader_board'].head(5))\n",
    "    feature_importance_plot = plot_feature_importance(results['feature_importance'].head(5))\n",
    "    \n",
    "    # 4개 종목 모두를 보여주는 그래프 추가\n",
    "    multiple_stocks_plot = plot_multiple_stocks(stock_data)\n",
    "\n",
    "    # 매수/매도 신호 계산\n",
    "    trade_signal = make_trade_decision(results['predictions'])\n",
    "\n",
    "    return prediction_plot, leaderboard_plot, feature_importance_plot, trade_signal, multiple_stocks_plot\n",
    "\n",
    "# Gradio 인터페이스 구성\n",
    "with gr.Blocks() as interface:\n",
    "    with gr.Row():\n",
    "        with gr.Column():\n",
    "            # 종목 선택 드롭다운 (기본값 설정)\n",
    "            stock_selector = gr.Dropdown(choices=tickers, label=\"주식 종목 선택\", value=\"AAPL\")  # 기본값 AAPL로 설정\n",
    "            run_button = gr.Button(\"30일 예측 및 시각화\")\n",
    "\n",
    "    with gr.Row():\n",
    "        # 예측 결과 시각화 이미지 출력\n",
    "        with gr.Column():\n",
    "            feature_importance_image_output = gr.Image(label=\"Feature Importance(변수 중요도)\")\n",
    "        with gr.Column():\n",
    "            leaderboard_image_output = gr.Image(label=\"Model Performance(모델 성능)\")\n",
    "        with gr.Column():\n",
    "            prediction_image_output = gr.Image(label=\"Actual vs Predicted (실제값 VS 예측값)\")\n",
    "\n",
    "    with gr.Row():\n",
    "        # 매수/매도 신호 출력\n",
    "        trade_signal_output = gr.Textbox(label=\"매수/매도 신호\")\n",
    "\n",
    "    with gr.Row():\n",
    "        # 4개 종목 종가 그래프 출력\n",
    "        multiple_stocks_output = gr.Image(label=\"4개 종목 종가 그래프\")\n",
    "\n",
    "    # 버튼 클릭 시 분석 실행\n",
    "    def run_analysis(selected_ticker):\n",
    "        try:\n",
    "            prediction_plot, leaderboard_plot, feature_importance_plot, trade_signal, multiple_stocks_plot = analyze_stock(selected_ticker)\n",
    "        except Exception as e:\n",
    "            return gr.update(value=f\"Error during analysis: {e}\"), \"\", \"\", \"\", \"\", \"\"\n",
    "\n",
    "        # 분석 결과 반환 (이미지 파일 경로 및 매수/매도 신호)\n",
    "        return prediction_plot, leaderboard_plot, feature_importance_plot, trade_signal, multiple_stocks_plot\n",
    "\n",
    "    # 버튼 클릭 시 실행 및 업데이트\n",
    "    run_button.click(\n",
    "        run_analysis,\n",
    "        inputs=[stock_selector],\n",
    "        outputs=[prediction_image_output, leaderboard_image_output, feature_importance_image_output, trade_signal_output, multiple_stocks_output]\n",
    "    )\n",
    "\n",
    "# Gradio 앱 실행\n",
    "interface.launch()\n"
   ]
  },
  {
   "cell_type": "code",
   "execution_count": 7,
   "id": "9d2bbac6-2110-45a1-9d46-45c958e30b51",
   "metadata": {},
   "outputs": [
    {
     "name": "stdout",
     "output_type": "stream",
     "text": [
      "Closing server running on port: 7860\n"
     ]
    }
   ],
   "source": [
    "interface.close()"
   ]
  },
  {
   "cell_type": "code",
   "execution_count": null,
   "id": "6a6d4434-4394-4675-bc10-059e927d8864",
   "metadata": {},
   "outputs": [],
   "source": []
  },
  {
   "cell_type": "code",
   "execution_count": null,
   "id": "44660b9d-8727-4344-918b-944286c229d6",
   "metadata": {},
   "outputs": [],
   "source": []
  },
  {
   "cell_type": "code",
   "execution_count": null,
   "id": "5c4766d3-dd59-46ad-9844-e5a5b1cb08d1",
   "metadata": {},
   "outputs": [],
   "source": []
  },
  {
   "cell_type": "code",
   "execution_count": null,
   "id": "88cfc089-d3a5-4336-bbce-68e5c3c965d2",
   "metadata": {},
   "outputs": [],
   "source": []
  },
  {
   "cell_type": "code",
   "execution_count": null,
   "id": "fa8d937e-d193-4684-ba80-8c0be8596808",
   "metadata": {},
   "outputs": [],
   "source": []
  },
  {
   "cell_type": "code",
   "execution_count": null,
   "id": "04668ed8-69af-4cc4-9a22-3f05e19a0f65",
   "metadata": {},
   "outputs": [],
   "source": []
  },
  {
   "cell_type": "code",
   "execution_count": null,
   "id": "8292b924-b5fd-414c-84a6-8e856a3d0d4a",
   "metadata": {},
   "outputs": [],
   "source": []
  },
  {
   "cell_type": "code",
   "execution_count": null,
   "id": "a2bb85fe-801a-46a7-803b-eec77e32f4ff",
   "metadata": {},
   "outputs": [],
   "source": []
  },
  {
   "cell_type": "code",
   "execution_count": null,
   "id": "e16bceb8-67ad-4656-bf1a-eb4c3f515bd2",
   "metadata": {},
   "outputs": [],
   "source": []
  },
  {
   "cell_type": "code",
   "execution_count": null,
   "id": "a18cbbb0-6313-4e25-83b1-104a5e2dd378",
   "metadata": {},
   "outputs": [],
   "source": []
  },
  {
   "cell_type": "code",
   "execution_count": null,
   "id": "67e286d4-31f6-478e-bd1a-9a48f0752831",
   "metadata": {},
   "outputs": [],
   "source": []
  },
  {
   "cell_type": "code",
   "execution_count": null,
   "id": "9729d605-433d-429c-a472-023ea9d4a77f",
   "metadata": {},
   "outputs": [],
   "source": []
  },
  {
   "cell_type": "code",
   "execution_count": null,
   "id": "106b8e93-5dc4-4dde-8736-4ebaad23a9c8",
   "metadata": {},
   "outputs": [],
   "source": []
  },
  {
   "cell_type": "code",
   "execution_count": null,
   "id": "08d1425e-a394-47c1-9e5f-52822636eea9",
   "metadata": {},
   "outputs": [],
   "source": []
  }
 ],
 "metadata": {
  "kernelspec": {
   "display_name": "Python 3 (ipykernel)",
   "language": "python",
   "name": "python3"
  },
  "language_info": {
   "codemirror_mode": {
    "name": "ipython",
    "version": 3
   },
   "file_extension": ".py",
   "mimetype": "text/x-python",
   "name": "python",
   "nbconvert_exporter": "python",
   "pygments_lexer": "ipython3",
   "version": "3.10.15"
  }
 },
 "nbformat": 4,
 "nbformat_minor": 5
}
