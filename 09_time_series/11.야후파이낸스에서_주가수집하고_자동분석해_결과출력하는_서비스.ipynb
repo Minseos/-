{
 "cells": [
  {
   "cell_type": "code",
   "execution_count": 1,
   "id": "369994a5",
   "metadata": {
    "scrolled": true
   },
   "outputs": [],
   "source": [
    "# !pip install yfinance"
   ]
  },
  {
   "cell_type": "code",
   "execution_count": 2,
   "id": "2aae7039",
   "metadata": {},
   "outputs": [],
   "source": [
    "# !pip install koreanize-matplotlib"
   ]
  },
  {
   "cell_type": "code",
   "execution_count": 3,
   "id": "c9cea3fc",
   "metadata": {},
   "outputs": [
    {
     "name": "stderr",
     "output_type": "stream",
     "text": [
      "/usr/local/lib/python3.10/site-packages/tqdm/auto.py:21: TqdmWarning: IProgress not found. Please update jupyter and ipywidgets. See https://ipywidgets.readthedocs.io/en/stable/user_install.html\n",
      "  from .autonotebook import tqdm as notebook_tqdm\n"
     ]
    }
   ],
   "source": [
    "import yfinance as yf\n",
    "import pandas as pd\n",
    "import matplotlib.pyplot as plt\n",
    "from autogluon.tabular import TabularPredictor\n",
    "from datetime import datetime, timedelta\n",
    "import numpy as np\n",
    "import gradio as gr\n",
    "import koreanize_matplotlib"
   ]
  },
  {
   "cell_type": "code",
   "execution_count": 16,
   "id": "9be82b9e",
   "metadata": {},
   "outputs": [
    {
     "name": "stdout",
     "output_type": "stream",
     "text": [
      "* Running on local URL:  http://0.0.0.0:7861\n",
      "\n",
      "To create a public link, set `share=True` in `launch()`.\n"
     ]
    },
    {
     "data": {
      "text/plain": []
     },
     "execution_count": 16,
     "metadata": {},
     "output_type": "execute_result"
    }
   ],
   "source": [
    "import yfinance as yf\n",
    "import pandas as pd\n",
    "import matplotlib.pyplot as plt\n",
    "from autogluon.tabular import TabularPredictor\n",
    "from datetime import datetime, timedelta\n",
    "import numpy as np\n",
    "import gradio as gr\n",
    "import koreanize_matplotlib\n",
    "\n",
    "# 1. 분석할 주식 리스트 (Apple, Microsoft, Amazon, Tesla, Nvidia, AMD)\n",
    "tickers = {'AAPL': 'Apple', 'MSFT': 'Microsoft', 'AMZN': 'Amazon', 'TSLA': 'Tesla', 'NVDA': 'Nvidia', 'AMD': 'AMD'}\n",
    "\n",
    "# 2. 날짜 설정 (2014년 1월 1일부터 전날까지)\n",
    "end_date = datetime.now() - timedelta(days=1)  # 전날까지의 데이터\n",
    "start_date = datetime.strptime(\"2014-01-01\", \"%Y-%m-%d\")  # 2014년 1월 1일부터\n",
    "\n",
    "# 3. 주식 데이터를 불러오는 함수\n",
    "def load_stock_data(selected_ticker):\n",
    "    if selected_ticker not in tickers:\n",
    "        return f\"잘못된 티커를 입력하셨습니다.\"\n",
    "    \n",
    "    # yfinance로 주식 데이터 불러오기\n",
    "    df = yf.download(selected_ticker, start=start_date, end=end_date)\n",
    "    \n",
    "    if df.empty:\n",
    "        return f\"{tickers[selected_ticker]}에 대한 데이터가 없습니다.\"\n",
    "    \n",
    "    return df.head(), df.tail()  # 데이터를 head와 tail로 반환\n",
    "\n",
    "# 4. 분석 및 시각화하는 함수\n",
    "def analyze_stock(selected_ticker):\n",
    "    df = yf.download(selected_ticker, start=start_date, end=end_date)\n",
    "\n",
    "    # 데이터 전처리\n",
    "    df.reset_index(inplace=True)\n",
    "    df['Date'] = pd.to_datetime(df['Date'])\n",
    "    df['Day'] = (df['Date'] - df['Date'].min()).dt.days  # 날짜를 숫자로 변환\n",
    "\n",
    "    # 50일, 200일 이동평균선 계산\n",
    "    df['MA50'] = df['Close'].rolling(window=50).mean()\n",
    "    df['MA200'] = df['Close'].rolling(window=200).mean()\n",
    "\n",
    "    # 매수 및 매도 시점 계산\n",
    "    df['Signal'] = 0\n",
    "    df.loc[50:, 'Signal'] = np.where(df['MA50'][50:] > df['MA200'][50:], 1, 0)\n",
    "    df['Position'] = df['Signal'].diff()\n",
    "\n",
    "    # AutoGluon을 이용한 종가 예측\n",
    "    train_data = df[['Day', 'Close']].copy()\n",
    "    train_data = train_data.rename(columns={'Close': 'label'})\n",
    "    predictor = TabularPredictor(label='label').fit(train_data)\n",
    "\n",
    "    best_model = predictor.model_best\n",
    "    models = predictor.get_model_names()\n",
    "    all_predictions = [predictor.predict(train_data.drop(columns=['label']), model=model) for model in models]\n",
    "    mean_predictions = np.mean(np.array(all_predictions), axis=0)\n",
    "    std_predictions = np.std(np.array(all_predictions), axis=0)\n",
    "\n",
    "    mape = np.mean(np.abs((train_data['label'] - mean_predictions) / train_data['label'])) * 100\n",
    "\n",
    "    # 향후 30일 예측값 계산\n",
    "    future_dates = [end_date + timedelta(days=i) for i in range(1, 31)]\n",
    "    future_days = [(date - df['Date'].min()).days for date in future_dates]\n",
    "    future_df = pd.DataFrame({'Day': future_days})\n",
    "    future_all_predictions = [predictor.predict(future_df, model=model) for model in models]\n",
    "    future_mean_predictions = np.mean(np.array(future_all_predictions), axis=0)\n",
    "    future_std_predictions = np.std(np.array(future_all_predictions), axis=0)\n",
    "\n",
    "    # 시각화 함수\n",
    "    def plot_graph(data_df, future_dates, future_mean_predictions, future_std_predictions, title):\n",
    "        plt.figure(figsize=(14, 8))\n",
    "        plt.plot(data_df['Date'], data_df['Close'], label=f'{selected_ticker} Actual Close Prices', color='#A1C6EA')  # 파스텔 블루\n",
    "        plt.plot(data_df['Date'], data_df['MA50'], label='50-Day Moving Average', color='#F4B3C2', linestyle='--')  # 파스텔 핑크\n",
    "        plt.plot(data_df['Date'], data_df['MA200'], label='200-Day Moving Average', color='#B3D4A7', linestyle='--')  # 파스텔 그린\n",
    "        plt.plot(data_df[data_df['Position'] == 1]['Date'], data_df[data_df['Position'] == 1]['Close'], '^', markersize=10, color='red', lw=0, label='Buy Signal')\n",
    "        plt.plot(data_df[data_df['Position'] == -1]['Date'], data_df[data_df['Position'] == -1]['Close'], 'v', markersize=10, color='blue', lw=0, label='Sell Signal')\n",
    "        plt.plot(future_dates, future_mean_predictions, label='Future Predicted Prices', color='#B3D4A7', linestyle='--')\n",
    "        plt.fill_between(future_dates, future_mean_predictions - future_std_predictions, future_mean_predictions + future_std_predictions, color='#B3D4A7', alpha=0.2)\n",
    "        plt.xlabel('Date')\n",
    "        plt.ylabel('Stock Price')\n",
    "        plt.title(title)\n",
    "        plt.legend()\n",
    "        plt.tight_layout()\n",
    "        \n",
    "        # Gradio에서 그래프를 반환할 수 있도록 설정\n",
    "        return plt.gcf()\n",
    "\n",
    "    # 전체 기간 그래프\n",
    "    total_graph = plot_graph(df, future_dates, future_mean_predictions, future_std_predictions, \"전체 기간 및 예측\")\n",
    "\n",
    "    # 최근 3개월 데이터\n",
    "    last_3_months = df[df['Date'] >= (end_date - timedelta(days=90))]\n",
    "    three_month_graph = plot_graph(last_3_months, future_dates, future_mean_predictions, future_std_predictions, \"최근 3개월 및 예측\")\n",
    "\n",
    "    # 최근 1개월 데이터\n",
    "    last_1_month = df[df['Date'] >= (end_date - timedelta(days=30))]\n",
    "    one_month_graph = plot_graph(last_1_month, future_dates, future_mean_predictions, future_std_predictions, \"최근 1개월 및 예측\")\n",
    "\n",
    "    # MAPE 계산 결과 텍스트와 함께 반환\n",
    "    return total_graph, three_month_graph, one_month_graph, f\"{tickers[selected_ticker]} 분석 완료, MAPE: {mape:.2f}%\"\n",
    "\n",
    "# Gradio 이벤트 정의 수정\n",
    "def stock_analysis(selected_ticker):\n",
    "    total_graph, three_month_graph, one_month_graph, analysis_result = analyze_stock(selected_ticker)\n",
    "    # 각각의 그래프와 텍스트를 개별적으로 반환\n",
    "    return total_graph, three_month_graph, one_month_graph, analysis_result\n",
    "\n",
    "# Gradio UI 수정\n",
    "app = gr.Blocks()\n",
    "\n",
    "with app:\n",
    "    gr.Markdown(\"## 주식 데이터 조회 및 분석\")\n",
    "    \n",
    "    stock_ticker_dropdown = gr.Dropdown(choices=list(tickers.keys()), label=\"주식을 선택하세요\", value=\"AAPL\")\n",
    "    \n",
    "    with gr.Row():\n",
    "        stock_ticker_dropdown\n",
    "    \n",
    "    df_head_output = gr.Dataframe(label=\"Head 데이터\")\n",
    "    df_tail_output = gr.Dataframe(label=\"Tail 데이터\")\n",
    "    \n",
    "    stock_view_button = gr.Button(\"주가 보기\")\n",
    "    \n",
    "    with gr.Row():\n",
    "        stock_view_button\n",
    "    \n",
    "    with gr.Row():\n",
    "        df_head_output\n",
    "        df_tail_output\n",
    "    \n",
    "    total_graph_output = gr.Plot(label=\"전체 기간 그래프\")\n",
    "    three_month_graph_output = gr.Plot(label=\"최근 3개월 그래프\")\n",
    "    one_month_graph_output = gr.Plot(label=\"최근 1개월 그래프\")\n",
    "    analysis_text_output = gr.Textbox(label=\"분석 결과\")\n",
    "    \n",
    "    stock_analysis_button = gr.Button(\"주식 분석하기\")\n",
    "    \n",
    "    with gr.Row():\n",
    "        stock_analysis_button\n",
    "    \n",
    "    with gr.Row():\n",
    "        total_graph_output\n",
    "        three_month_graph_output\n",
    "        one_month_graph_output\n",
    "        analysis_text_output\n",
    "\n",
    "    # Gradio 이벤트 정의\n",
    "    stock_view_button.click(load_stock_data, inputs=stock_ticker_dropdown, outputs=[df_head_output, df_tail_output])\n",
    "    stock_analysis_button.click(stock_analysis, inputs=stock_ticker_dropdown, outputs=[total_graph_output, three_month_graph_output, one_month_graph_output, analysis_text_output])\n",
    "\n",
    "# Gradio 앱 실행\n",
    "app.launch(inline=False, inbrowser=True, server_name=\"0.0.0.0\", server_port=7861)\n",
    "\n"
   ]
  },
  {
   "cell_type": "code",
   "execution_count": 15,
   "id": "18256eb0",
   "metadata": {},
   "outputs": [
    {
     "name": "stdout",
     "output_type": "stream",
     "text": [
      "Closing server running on port: 7861\n"
     ]
    }
   ],
   "source": [
    "app.close()"
   ]
  },
  {
   "cell_type": "code",
   "execution_count": 10,
   "id": "eb82d6ce",
   "metadata": {},
   "outputs": [
    {
     "ename": "SyntaxError",
     "evalue": "invalid syntax (1129446121.py, line 1)",
     "output_type": "error",
     "traceback": [
      "\u001b[0;36m  Cell \u001b[0;32mIn[10], line 1\u001b[0;36m\u001b[0m\n\u001b[0;31m    Running on http://127.0.0.1:8888/\u001b[0m\n\u001b[0m            ^\u001b[0m\n\u001b[0;31mSyntaxError\u001b[0m\u001b[0;31m:\u001b[0m invalid syntax\n"
     ]
    }
   ],
   "source": []
  },
  {
   "cell_type": "code",
   "execution_count": null,
   "id": "c7c60af6",
   "metadata": {},
   "outputs": [],
   "source": []
  }
 ],
 "metadata": {
  "kernelspec": {
   "display_name": "Python 3 (ipykernel)",
   "language": "python",
   "name": "python3"
  },
  "language_info": {
   "codemirror_mode": {
    "name": "ipython",
    "version": 3
   },
   "file_extension": ".py",
   "mimetype": "text/x-python",
   "name": "python",
   "nbconvert_exporter": "python",
   "pygments_lexer": "ipython3",
   "version": "3.10.15"
  }
 },
 "nbformat": 4,
 "nbformat_minor": 5
}
