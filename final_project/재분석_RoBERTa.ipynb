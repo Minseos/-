{
 "cells": [
  {
   "cell_type": "code",
   "execution_count": 2,
   "id": "7bceed46",
   "metadata": {},
   "outputs": [
    {
     "name": "stdout",
     "output_type": "stream",
     "text": [
      "모델이 C:/fintech_service/final_project/saved_model_KLUE-RoBERTa/saved_model/pytorch_model.bin에 저장되었습니다.\n"
     ]
    }
   ],
   "source": [
    "import torch\n",
    "from safetensors.torch import load_file\n",
    "from transformers import RobertaConfig, RobertaForSequenceClassification\n",
    "\n",
    "# 모델 경로 설정\n",
    "model_path = \"C:/fintech_service/final_project/saved_model_KLUE-RoBERTa/saved_model\"  # 절대 경로로 지정\n",
    "\n",
    "# config.json 로드\n",
    "config = RobertaConfig.from_pretrained(model_path)\n",
    "\n",
    "# 정확한 safetensors 파일 경로\n",
    "safetensors_path = f\"{model_path}/model.safetensors\"\n",
    "state_dict = load_file(safetensors_path)\n",
    "\n",
    "# 모델 생성 및 가중치 적용\n",
    "model = RobertaForSequenceClassification(config)\n",
    "model.load_state_dict(state_dict)\n",
    "\n",
    "# pytorch_model.bin으로 저장\n",
    "pytorch_model_path = f\"{model_path}/pytorch_model.bin\"\n",
    "torch.save(model.state_dict(), pytorch_model_path)\n",
    "\n",
    "print(f\"모델이 {pytorch_model_path}에 저장되었습니다.\")\n"
   ]
  },
  {
   "cell_type": "code",
   "execution_count": 3,
   "id": "cdfe1944",
   "metadata": {},
   "outputs": [
    {
     "name": "stdout",
     "output_type": "stream",
     "text": [
      "모델이 성공적으로 로드되었습니다!\n"
     ]
    }
   ],
   "source": [
    "from transformers import AutoModelForSequenceClassification, AutoTokenizer\n",
    "\n",
    "# 모델과 토크나이저 로드\n",
    "model_path = \"C:/fintech_service/final_project/saved_model_KLUE-RoBERTa/saved_model\"\n",
    "model = AutoModelForSequenceClassification.from_pretrained(model_path)\n",
    "tokenizer = AutoTokenizer.from_pretrained(model_path)\n",
    "model.eval()  # 모델을 평가 모드로 설정\n",
    "\n",
    "print(\"모델이 성공적으로 로드되었습니다!\")\n"
   ]
  },
  {
   "cell_type": "code",
   "execution_count": 4,
   "id": "39e1c5e5",
   "metadata": {},
   "outputs": [
    {
     "name": "stdout",
     "output_type": "stream",
     "text": [
      "감성 분석 결과가 C:/fintech_service/final_project/data\\뱅뱅막국수_combined_reviews_감정분석완료_재분석_재분석_RoBERTa.csv에 저장되었습니다.\n"
     ]
    }
   ],
   "source": [
    "import os\n",
    "import zipfile\n",
    "import pandas as pd\n",
    "from transformers import AutoModelForSequenceClassification, AutoTokenizer\n",
    "import torch\n",
    "\n",
    "# 1. 압축 해제\n",
    "zip_path = 'C:/fintech_service/final_project/saved_model.zip'\n",
    "extract_path = 'C:/fintech_service/final_project/saved_model'\n",
    "\n",
    "if not os.path.exists(extract_path):  # 이미 압축이 풀려있는지 확인\n",
    "    with zipfile.ZipFile(zip_path, 'r') as zip_ref:\n",
    "        zip_ref.extractall(extract_path)\n",
    "\n",
    "# 2. 모델과 토크나이저 로드\n",
    "model_path = 'C:/fintech_service/final_project/saved_model_KLUE-RoBERTa/saved_model'  # 정확한 경로로 수정\n",
    "model = AutoModelForSequenceClassification.from_pretrained(model_path)\n",
    "tokenizer = AutoTokenizer.from_pretrained(model_path)\n",
    "model.eval()  # 모델을 평가 모드로 설정\n",
    "\n",
    "# 3. 감성 분석할 CSV 파일 로드\n",
    "input_file = \"C:/fintech_service/final_project/data/뱅뱅막국수_combined_reviews_감정분석완료_재분석.csv\"  # 분석할 파일 경로\n",
    "df = pd.read_csv(input_file)\n",
    "\n",
    "# 문자열이 아닌 값(NaN 등)을 제거\n",
    "df = df.dropna(subset=['Review'])\n",
    "\n",
    "# 4. 감성 분석 함수 정의\n",
    "def predict_sentiment(text):\n",
    "    if not isinstance(text, str):\n",
    "        return \"알 수 없음\"  # 문자열이 아닌 경우 기본값 반환\n",
    "    inputs = tokenizer(text, return_tensors=\"pt\", truncation=True, padding=True)\n",
    "    outputs = model(**inputs)\n",
    "    prediction = torch.argmax(outputs.logits, dim=1).item()\n",
    "    return \"긍정\" if prediction == 1 else \"부정\"\n",
    "\n",
    "# 5. 부정적으로 판별된 리뷰에 대해서만 재분석 수행\n",
    "def reanalyze_if_negative(sentiment, text):\n",
    "    if sentiment == \"부정\":\n",
    "        # 부정적으로 판별된 경우에만 재분석 수행\n",
    "        second_prediction = predict_sentiment(text)\n",
    "        return second_prediction\n",
    "    # 부정적이지 않은 경우 원래 값을 그대로 유지\n",
    "    return sentiment\n",
    "\n",
    "# 'sentiment' 컬럼이 부정적인 경우에만 재분석 수행하여 'Sentiment2'에 저장\n",
    "df['Sentiment2'] = df.apply(lambda row: reanalyze_if_negative(row['sentiment'], row['Review']), axis=1)\n",
    "\n",
    "# 6. 결과 파일 저장\n",
    "base_name = os.path.splitext(os.path.basename(input_file))[0]  # 파일명만 추출 (확장자 제외)\n",
    "output_dir = os.path.dirname(input_file)  # 기존 파일이 있는 폴더\n",
    "output_file = os.path.join(output_dir, f\"{base_name}_재분석_RoBERTa.csv\")\n",
    "\n",
    "df.to_csv(output_file, index=False)\n",
    "print(f\"감성 분석 결과가 {output_file}에 저장되었습니다.\")\n"
   ]
  },
  {
   "cell_type": "code",
   "execution_count": null,
   "id": "adba2197",
   "metadata": {},
   "outputs": [],
   "source": []
  },
  {
   "cell_type": "code",
   "execution_count": null,
   "id": "8ffce620",
   "metadata": {},
   "outputs": [],
   "source": []
  },
  {
   "cell_type": "code",
   "execution_count": null,
   "id": "2490dde8",
   "metadata": {},
   "outputs": [],
   "source": []
  },
  {
   "cell_type": "code",
   "execution_count": null,
   "id": "ac55c872",
   "metadata": {},
   "outputs": [],
   "source": []
  },
  {
   "cell_type": "code",
   "execution_count": null,
   "id": "7dc36159",
   "metadata": {},
   "outputs": [],
   "source": []
  },
  {
   "cell_type": "code",
   "execution_count": null,
   "id": "e31f1934",
   "metadata": {},
   "outputs": [],
   "source": []
  },
  {
   "cell_type": "code",
   "execution_count": null,
   "id": "7470daac",
   "metadata": {},
   "outputs": [],
   "source": []
  },
  {
   "cell_type": "code",
   "execution_count": null,
   "id": "e81299a4",
   "metadata": {},
   "outputs": [],
   "source": []
  },
  {
   "cell_type": "code",
   "execution_count": null,
   "id": "2173b320",
   "metadata": {},
   "outputs": [],
   "source": []
  },
  {
   "cell_type": "code",
   "execution_count": null,
   "id": "7b9cf3f7",
   "metadata": {},
   "outputs": [],
   "source": []
  },
  {
   "cell_type": "code",
   "execution_count": null,
   "id": "b2c26a58",
   "metadata": {},
   "outputs": [],
   "source": []
  },
  {
   "cell_type": "code",
   "execution_count": null,
   "id": "7ea1ed59",
   "metadata": {},
   "outputs": [],
   "source": []
  },
  {
   "cell_type": "code",
   "execution_count": null,
   "id": "92f92fbf",
   "metadata": {},
   "outputs": [],
   "source": []
  },
  {
   "cell_type": "code",
   "execution_count": null,
   "id": "707528a7",
   "metadata": {},
   "outputs": [],
   "source": []
  }
 ],
 "metadata": {
  "kernelspec": {
   "display_name": "Python 3 (ipykernel)",
   "language": "python",
   "name": "python3"
  },
  "language_info": {
   "codemirror_mode": {
    "name": "ipython",
    "version": 3
   },
   "file_extension": ".py",
   "mimetype": "text/x-python",
   "name": "python",
   "nbconvert_exporter": "python",
   "pygments_lexer": "ipython3",
   "version": "3.10.14"
  }
 },
 "nbformat": 4,
 "nbformat_minor": 5
}
