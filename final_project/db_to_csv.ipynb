{
 "cells": [
  {
   "cell_type": "code",
   "execution_count": 1,
   "id": "3b4b29aa-cf88-4b54-8b36-fb42c10791a3",
   "metadata": {},
   "outputs": [
    {
     "name": "stdout",
     "output_type": "stream",
     "text": [
      "데이터가 stores.csv 파일로 저장되었습니다.\n",
      "데이터가 reviews.csv 파일로 저장되었습니다.\n"
     ]
    }
   ],
   "source": [
    "import pymysql\n",
    "import csv\n",
    "\n",
    "# 데이터베이스 연결 정보\n",
    "db_config = {\n",
    "    \"host\": \"127.0.0.1\",  # 호스트 주소 (포트 분리)\n",
    "    \"port\": 3306,         # 포트 번호\n",
    "    \"user\": \"root\",       # 사용자 ID\n",
    "    \"password\": \"1234\",   # 비밀번호\n",
    "    \"database\": \"project\",# 데이터베이스 이름\n",
    "    \"charset\": \"utf8mb4\"  # 유니코드 지원 (이모지 포함)\n",
    "}\n",
    "\n",
    "# CSV 저장 함수\n",
    "def export_to_csv(query, filename):\n",
    "    try:\n",
    "        # 데이터베이스 연결\n",
    "        connection = pymysql.connect(**db_config)\n",
    "        with connection.cursor() as cursor:\n",
    "            cursor.execute(query)\n",
    "            rows = cursor.fetchall()\n",
    "            \n",
    "            # 컬럼명 추출\n",
    "            headers = [col[0] for col in cursor.description]\n",
    "            \n",
    "            # CSV로 저장\n",
    "            with open(filename, mode='w', encoding='utf-8', newline='') as file:\n",
    "                writer = csv.writer(file)\n",
    "                writer.writerow(headers)  # 헤더 작성\n",
    "                writer.writerows(rows)    # 데이터 작성\n",
    "                \n",
    "            print(f\"데이터가 {filename} 파일로 저장되었습니다.\")\n",
    "    except Exception as e:\n",
    "        print(\"오류 발생:\", e)\n",
    "    finally:\n",
    "        connection.close()\n",
    "\n",
    "# 테이블 데이터를 CSV로 저장\n",
    "export_to_csv(\"SELECT * FROM stores\", \"stores.csv\")\n",
    "export_to_csv(\"SELECT * FROM reviews\", \"reviews.csv\")\n"
   ]
  },
  {
   "cell_type": "code",
   "execution_count": null,
   "id": "ee14df26-84ba-4817-a0f2-ce3890b3f817",
   "metadata": {},
   "outputs": [],
   "source": []
  },
  {
   "cell_type": "code",
   "execution_count": null,
   "id": "2c323645-64c3-4d3a-b24b-e393c374fc00",
   "metadata": {},
   "outputs": [],
   "source": []
  },
  {
   "cell_type": "code",
   "execution_count": null,
   "id": "66a4580f-ff6e-4154-8d3e-5750b346af34",
   "metadata": {},
   "outputs": [],
   "source": []
  },
  {
   "cell_type": "code",
   "execution_count": null,
   "id": "94ae659e-f025-4e5e-8588-2f4ddb740217",
   "metadata": {},
   "outputs": [],
   "source": []
  }
 ],
 "metadata": {
  "kernelspec": {
   "display_name": "Python 3 (ipykernel)",
   "language": "python",
   "name": "python3"
  },
  "language_info": {
   "codemirror_mode": {
    "name": "ipython",
    "version": 3
   },
   "file_extension": ".py",
   "mimetype": "text/x-python",
   "name": "python",
   "nbconvert_exporter": "python",
   "pygments_lexer": "ipython3",
   "version": "3.10.14"
  }
 },
 "nbformat": 4,
 "nbformat_minor": 5
}
