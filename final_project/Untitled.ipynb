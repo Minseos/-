{
 "cells": [
  {
   "cell_type": "code",
   "execution_count": 8,
   "id": "4f8cc0b2-a116-4758-bb96-3d1d84f4bb9c",
   "metadata": {},
   "outputs": [],
   "source": [
    "import pandas as pd\n",
    "import numpy as np\n",
    "import matplotlib.pyplot as plt\n",
    "import seaborn as sns\n",
    "import zipfile\n",
    "import glob\n",
    "import os\n",
    "from datetime import datetime\n",
    "from openpyxl import Workbook\n",
    "from datetime import datetime\n",
    "\n",
    "# WebDriver 사용을 위한 라이브러리\n",
    "from selenium import webdriver\n",
    "\n",
    "# Requests 및 HTTPAdapter 사용을 위한 라이브러리\n",
    "import requests\n",
    "from requests.adapters import HTTPAdapter\n",
    "from urllib3.util.retry import Retry\n",
    "\n",
    "# BeautifulSoup 사용을 위한 라이브러리 (BS4 setting에 사용된다고 언급됨)\n",
    "from bs4 import BeautifulSoup"
   ]
  },
  {
   "cell_type": "code",
   "execution_count": 2,
   "id": "d1c1d9d4-b9e7-4595-afc1-fd0469a6d99b",
   "metadata": {},
   "outputs": [],
   "source": [
    "# url\n",
    "url = 'https://m.place.naver.com/restaurant/1085956231/review/visitor?entry=ple&reviewSort=recent'\n",
    "\n",
    "# Webdriver headless mode setting\n",
    "options = webdriver.ChromeOptions()\n",
    "options.add_argument('headless')\n",
    "options.add_argument('window-size=1920x1080')\n",
    "options.add_argument(\"disable-gpu\")\n",
    "\n",
    "# BS4 setting for secondary access\n",
    "session = requests.Session()\n",
    "headers = {\n",
    "    #사용자의 user-agent값\n",
    "    \"User-Agent\": \"$User value\"}\n",
    "\n",
    "retries = Retry(total=5,\n",
    "                backoff_factor=0.1,\n",
    "                status_forcelist=[500, 502, 503, 504])\n",
    "\n",
    "session.mount('http://', HTTPAdapter(max_retries=retries))\n"
   ]
  },
  {
   "cell_type": "code",
   "execution_count": 9,
   "id": "f580e2cb-c705-4a0d-8c94-66fa62a4d0bc",
   "metadata": {},
   "outputs": [],
   "source": [
    "from datetime import datetime\n",
    "\n",
    "# New xlsx file\n",
    "now = datetime.now()\n",
    "xlsx = Workbook()\n",
    "list_sheet = xlsx.create_sheet('output')"
   ]
  },
  {
   "cell_type": "code",
   "execution_count": 10,
   "id": "5ee73480-0cf7-44bc-9c80-e3ff2de5f5e8",
   "metadata": {},
   "outputs": [],
   "source": [
    "from selenium import webdriver\n",
    "from selenium.webdriver.common.by import By\n",
    "from selenium.webdriver.common.keys import Keys\n",
    "from selenium.webdriver.chrome.service import Service\n",
    "from webdriver_manager.chrome import ChromeDriverManager\n",
    "import time"
   ]
  },
  {
   "cell_type": "code",
   "execution_count": 11,
   "id": "058bb95c-69e6-4213-8a93-63af44f9c358",
   "metadata": {},
   "outputs": [
    {
     "name": "stdout",
     "output_type": "stream",
     "text": [
      "Requirement already satisfied: webdriver-manager in c:\\users\\5-04\\miniforge3\\envs\\fintech\\lib\\site-packages (4.0.2)\n",
      "Requirement already satisfied: requests in c:\\users\\5-04\\miniforge3\\envs\\fintech\\lib\\site-packages (from webdriver-manager) (2.32.3)\n",
      "Requirement already satisfied: python-dotenv in c:\\users\\5-04\\miniforge3\\envs\\fintech\\lib\\site-packages (from webdriver-manager) (1.0.1)\n",
      "Requirement already satisfied: packaging in c:\\users\\5-04\\miniforge3\\envs\\fintech\\lib\\site-packages (from webdriver-manager) (24.1)\n",
      "Requirement already satisfied: charset-normalizer<4,>=2 in c:\\users\\5-04\\miniforge3\\envs\\fintech\\lib\\site-packages (from requests->webdriver-manager) (3.3.2)\n",
      "Requirement already satisfied: idna<4,>=2.5 in c:\\users\\5-04\\miniforge3\\envs\\fintech\\lib\\site-packages (from requests->webdriver-manager) (3.7)\n",
      "Requirement already satisfied: urllib3<3,>=1.21.1 in c:\\users\\5-04\\miniforge3\\envs\\fintech\\lib\\site-packages (from requests->webdriver-manager) (2.2.2)\n",
      "Requirement already satisfied: certifi>=2017.4.17 in c:\\users\\5-04\\miniforge3\\envs\\fintech\\lib\\site-packages (from requests->webdriver-manager) (2024.8.30)\n"
     ]
    }
   ],
   "source": [
    "!pip install webdriver-manager"
   ]
  },
  {
   "cell_type": "code",
   "execution_count": 13,
   "id": "3536e874-97c0-4562-88b5-42966cb27f6e",
   "metadata": {},
   "outputs": [
    {
     "name": "stdout",
     "output_type": "stream",
     "text": [
      "finish\n"
     ]
    }
   ],
   "source": [
    "# Start crawling/scraping!\n",
    "driver = webdriver.Chrome(service=Service(ChromeDriverManager().install()), options=options)\n",
    "\n",
    "res = driver.get(url)\n",
    "driver.implicitly_wait(30)\n",
    "\n",
    "# Pagedown\n",
    "driver.find_element(By.TAG_NAME, 'body').send_keys(Keys.PAGE_DOWN)\n",
    "\n",
    "try:\n",
    "    while True:\n",
    "        driver.find_element(By.XPATH, '//*[@id=\"app-root\"]/div/div/div/div[6]/div[2]/div[3]/div[2]/div/a').click()\n",
    "        time.sleep(0.4)\n",
    "except Exception as e:\n",
    "    print('finish')"
   ]
  },
  {
   "cell_type": "code",
   "execution_count": 15,
   "id": "9e82f799-be38-491c-ae5f-ac2631765011",
   "metadata": {},
   "outputs": [],
   "source": [
    "time.sleep(25)\n",
    "html = driver.page_source\n",
    "bs = BeautifulSoup(html, 'lxml')\n",
    "reviews = bs.select('li.pui__X35jYm.EjjAW')\n",
    "\n",
    "for r in reviews:\n",
    "    # nickname\n",
    "    nickname = r.select_one('div.pui__JiVbY3 > span.pui__uslU0d')\n",
    "\n",
    "    # content\n",
    "    content = r.select_one('div.pui__vn15t2 > a.pui__xtsQN-')\n",
    "\n",
    "    # date\n",
    "    date_elements = r.select('div.pui__QKE5Pr > span.pui__gfuUIT > time')\n",
    "    date = date_elements[0] if date_elements else 'N/A'\n",
    "\n",
    "    # revisit\n",
    "    revisit_span = r.select('div.pui__QKE5Pr > span.pui__gfuUIT')\n",
    "    revisit = revisit_span[1] if len(revisit_span) > 1 else 'N/A'\n",
    "\n",
    "    # exception handling\n",
    "    nickname = nickname.text if nickname else ''\n",
    "    content = content.text if content else ''\n",
    "    date = date.text if date else ''\n",
    "    revisit = revisit.text if revisit else ''\n",
    "    time.sleep(0.06)\n",
    "\n",
    "    # append sheet\n",
    "    print(nickname, '/', content, '/', date, '/', revisit)\n",
    "    list_sheet.append([nickname, content, date, revisit])\n",
    "    time.sleep(0.06)"
   ]
  },
  {
   "cell_type": "code",
   "execution_count": null,
   "id": "5cfbd9dc-1af5-4044-a0b8-12f58520ef05",
   "metadata": {},
   "outputs": [],
   "source": []
  },
  {
   "cell_type": "code",
   "execution_count": null,
   "id": "853698a5-663f-42a9-9a09-46746f905353",
   "metadata": {},
   "outputs": [],
   "source": []
  },
  {
   "cell_type": "code",
   "execution_count": 17,
   "id": "51dff087-eca7-4ad7-83fe-d0a1edc74637",
   "metadata": {},
   "outputs": [
    {
     "name": "stdout",
     "output_type": "stream",
     "text": [
      "모든 리뷰 로드 완료 또는 버튼이 더 이상 없습니다: Message: \n",
      "Stacktrace:\n",
      "\tGetHandleVerifier [0x00F338B3+24035]\n",
      "\t(No symbol) [0x00EBBC44]\n",
      "\t(No symbol) [0x00D9C2D3]\n",
      "\t(No symbol) [0x00DDDC86]\n",
      "\t(No symbol) [0x00DDDECB]\n",
      "\t(No symbol) [0x00E1B9D2]\n",
      "\t(No symbol) [0x00DFFED4]\n",
      "\t(No symbol) [0x00E1953F]\n",
      "\t(No symbol) [0x00DFFC26]\n",
      "\t(No symbol) [0x00DD218C]\n",
      "\t(No symbol) [0x00DD310D]\n",
      "\tGetHandleVerifier [0x011D96D3+2800643]\n",
      "\tGetHandleVerifier [0x0123428E+3172286]\n",
      "\tGetHandleVerifier [0x0122CEA2+3142610]\n",
      "\tGetHandleVerifier [0x00FD6C60+692624]\n",
      "\t(No symbol) [0x00EC4C5D]\n",
      "\t(No symbol) [0x00EC1968]\n",
      "\t(No symbol) [0x00EC1B00]\n",
      "\t(No symbol) [0x00EB3FB0]\n",
      "\tBaseThreadInitThunk [0x76C5FCC9+25]\n",
      "\tRtlGetAppContainerNamedObjectPath [0x76F3809E+286]\n",
      "\tRtlGetAppContainerNamedObjectPath [0x76F3806E+238]\n",
      "\n"
     ]
    }
   ],
   "source": [
    "from selenium import webdriver\n",
    "from selenium.webdriver.common.by import By\n",
    "from selenium.webdriver.common.keys import Keys\n",
    "from selenium.webdriver.chrome.service import Service\n",
    "from selenium.webdriver.support.ui import WebDriverWait\n",
    "from selenium.webdriver.support import expected_conditions as EC\n",
    "from webdriver_manager.chrome import ChromeDriverManager\n",
    "import requests\n",
    "from requests.adapters import HTTPAdapter\n",
    "from urllib3.util.retry import Retry\n",
    "from bs4 import BeautifulSoup\n",
    "from openpyxl import Workbook\n",
    "from datetime import datetime\n",
    "import time\n",
    "\n",
    "# URL 설정\n",
    "url = 'https://m.place.naver.com/restaurant/1085956231/review/visitor?entry=ple&reviewSort=recent'\n",
    "\n",
    "# Webdriver 설정 (headless mode)\n",
    "options = webdriver.ChromeOptions()\n",
    "options.add_argument('headless')\n",
    "options.add_argument('window-size=1920x1080')\n",
    "options.add_argument('disable-gpu')\n",
    "\n",
    "# BS4 설정\n",
    "session = requests.Session()\n",
    "headers = {\n",
    "    \"User-Agent\": \"Mozilla/5.0 (Windows NT 10.0; Win64; x64) AppleWebKit/537.36 (KHTML, like Gecko) Chrome/114.0.0.0 Safari/537.36\"\n",
    "}\n",
    "\n",
    "retries = Retry(total=5, backoff_factor=0.1, status_forcelist=[500, 502, 503, 504])\n",
    "session.mount('http://', HTTPAdapter(max_retries=retries))\n",
    "\n",
    "# Excel 파일 생성\n",
    "now = datetime.now()\n",
    "xlsx = Workbook()\n",
    "list_sheet = xlsx.create_sheet('output')\n",
    "list_sheet.append(['nickname', 'content', 'date', 'revisit'])\n",
    "\n",
    "try:\n",
    "    # 크롤링 시작\n",
    "    driver = webdriver.Chrome(service=Service(ChromeDriverManager().install()), options=options)\n",
    "    res = driver.get(url)\n",
    "    driver.implicitly_wait(30)\n",
    "    \n",
    "    # 페이지 아래로 스크롤\n",
    "    driver.find_element(By.TAG_NAME, 'body').send_keys(Keys.PAGE_DOWN)\n",
    "    \n",
    "    try:\n",
    "        while True:\n",
    "            # \"더보기\" 버튼 클릭 대기 및 클릭\n",
    "            WebDriverWait(driver, 10).until(\n",
    "                EC.element_to_be_clickable((By.XPATH, '//*[@id=\"app-root\"]/div/div/div/div[6]/div[2]/div[3]/div[2]/div/a'))\n",
    "            ).click()\n",
    "            time.sleep(0.4)\n",
    "    except Exception as e:\n",
    "        print('모든 리뷰 로드 완료 또는 버튼이 더 이상 없습니다:', e)\n",
    "\n",
    "    # HTML 파싱\n",
    "    time.sleep(25)\n",
    "    html = driver.page_source\n",
    "    bs = BeautifulSoup(html, 'lxml')\n",
    "    reviews = bs.select('li.pui__X35jYm.EjjAW')\n",
    "\n",
    "    for r in reviews:\n",
    "        # 닉네임\n",
    "        nickname = r.select_one('div.pui__JiVbY3 > span.pui__uslU0d')\n",
    "\n",
    "        # 리뷰 내용\n",
    "        content = r.select_one('div.pui__vn15t2 > a.pui__xtsQN-')\n",
    "\n",
    "        # 날짜\n",
    "        date_elements = r.select('div.pui__QKE5Pr > span.pui__gfuUIT > time')\n",
    "        date = date_elements[0] if date_elements else 'N/A'\n",
    "\n",
    "        # 재방문 여부\n",
    "        revisit_span = r.select('div.pui__QKE5Pr > span.pui__gfuUIT')\n",
    "        revisit = revisit_span[1] if len(revisit_span) > 1 else 'N/A'\n",
    "\n",
    "        # 예외 처리\n",
    "        nickname = nickname.text if nickname else ''\n",
    "        content = content.text if content else ''\n",
    "        date = date.text if date else ''\n",
    "        revisit = revisit.text if revisit else ''\n",
    "        time.sleep(0.06)\n",
    "\n",
    "        # Excel에 추가\n",
    "        print(nickname, '/', content, '/', date, '/', revisit)\n",
    "        list_sheet.append([nickname, content, date, revisit])\n",
    "        time.sleep(0.06)\n",
    "\n",
    "    # 파일 저장\n",
    "    file_name = 'naver_review_' + now.strftime('%Y-%m-%d_%H-%M-%S') + '.xlsx'\n",
    "    xlsx.save(file_name)\n",
    "\n",
    "except Exception as e:\n",
    "    print(f\"오류 발생: {e}\")\n",
    "    # 임시 저장\n",
    "    file_name = 'naver_review_' + now.strftime('%Y-%m-%d_%H-%M-%S') + '.xlsx'\n",
    "    xlsx.save(file_name)\n",
    "\n",
    "finally:\n",
    "    # WebDriver 종료\n",
    "    driver.quit()\n"
   ]
  },
  {
   "cell_type": "code",
   "execution_count": null,
   "id": "28aa9c9d-c53e-4d49-a60e-b7f41a6fe645",
   "metadata": {},
   "outputs": [],
   "source": []
  },
  {
   "cell_type": "markdown",
   "id": "3a21508f-0815-414b-be26-b6c573dd5ba9",
   "metadata": {},
   "source": [
    "### ----------------------------------------------------------"
   ]
  },
  {
   "cell_type": "markdown",
   "id": "bced1fb0-ad4a-49be-b34d-73a891d10d5d",
   "metadata": {},
   "source": [
    "# -------------------------------------------------------------------"
   ]
  },
  {
   "cell_type": "code",
   "execution_count": 18,
   "id": "190ce8c4-1887-40f8-b132-d3b152361267",
   "metadata": {
    "scrolled": true
   },
   "outputs": [
    {
     "name": "stdout",
     "output_type": "stream",
     "text": [
      "Requirement already satisfied: webdriver-manager in c:\\users\\5-04\\miniforge3\\envs\\fintech\\lib\\site-packages (4.0.2)\n",
      "Requirement already satisfied: requests in c:\\users\\5-04\\miniforge3\\envs\\fintech\\lib\\site-packages (from webdriver-manager) (2.32.3)\n",
      "Requirement already satisfied: python-dotenv in c:\\users\\5-04\\miniforge3\\envs\\fintech\\lib\\site-packages (from webdriver-manager) (1.0.1)\n",
      "Requirement already satisfied: packaging in c:\\users\\5-04\\miniforge3\\envs\\fintech\\lib\\site-packages (from webdriver-manager) (24.1)\n",
      "Requirement already satisfied: charset-normalizer<4,>=2 in c:\\users\\5-04\\miniforge3\\envs\\fintech\\lib\\site-packages (from requests->webdriver-manager) (3.3.2)\n",
      "Requirement already satisfied: idna<4,>=2.5 in c:\\users\\5-04\\miniforge3\\envs\\fintech\\lib\\site-packages (from requests->webdriver-manager) (3.7)\n",
      "Requirement already satisfied: urllib3<3,>=1.21.1 in c:\\users\\5-04\\miniforge3\\envs\\fintech\\lib\\site-packages (from requests->webdriver-manager) (2.2.2)\n",
      "Requirement already satisfied: certifi>=2017.4.17 in c:\\users\\5-04\\miniforge3\\envs\\fintech\\lib\\site-packages (from requests->webdriver-manager) (2024.8.30)\n"
     ]
    }
   ],
   "source": [
    "!pip install webdriver-manager"
   ]
  },
  {
   "cell_type": "code",
   "execution_count": 19,
   "id": "2c5a0353-f30e-4102-8654-aa5de2117e6a",
   "metadata": {},
   "outputs": [],
   "source": [
    "from selenium import webdriver  # 동적크롤링\n",
    "from webdriver_manager.chrome import ChromeDriverManager\n",
    "from selenium.webdriver.common.keys import Keys\n",
    "from selenium.webdriver.common.by import By\n",
    "from bs4 import BeautifulSoup"
   ]
  },
  {
   "cell_type": "code",
   "execution_count": 20,
   "id": "d689d9bb-a1c7-4453-8204-8adf404ba423",
   "metadata": {},
   "outputs": [],
   "source": [
    "def extract_review():\n",
    "    html = driver.page_source\n",
    "    soup = BeautifulSoup(html, 'html.parser')\n",
    "    \n",
    "    # 리뷰 추출\n",
    "    rev = []  # 추출한 리뷰 저장\n",
    "    for i in range(1, 11): # 더보기 누르지 않은 상태로 최대 10개\n",
    "        try:  # 사진 없는 후기는 div 3번째에 텍스트 위치\n",
    "            driver.find_element(By.XPATH, '//*[@id=\"app-root\"]/div/div/div/div[7]/div[3]/div[4]/div[1]/ul/li['+str(i)+']/div[3]/a').send_keys(Keys.ENTER) # 텍스트 전체 볼 수 있게 클릭\n",
    "            time.sleep(2)\n",
    "            comment = driver.find_element(By.XPATH, '//*[@id=\"app-root\"]/div/div/div/div[7]/div[3]/div[4]/div[1]/ul/li['+str(i)+']/div[3]/a/span').text  # 리뷰\n",
    "            rev.append(comment)\n",
    "        except: # 사진 있는 후기는 div 4번째에 텍스트가 위치\n",
    "            driver.find_element(By.XPATH, '//*[@id=\"app-root\"]/div/div/div/div[7]/div[3]/div[4]/div[1]/ul/li['+str(i)+']/div[4]/a').send_keys(Keys.ENTER)\n",
    "            time.sleep(2)\n",
    "            comment = driver.find_element(By.XPATH, '//*[@id=\"app-root\"]/div/div/div/div[7]/div[3]/div[4]/div[1]/ul/li['+str(i)+']/div[4]/a/span').text  # 리뷰\n",
    "            rev.append(comment)\n",
    "    return rev"
   ]
  },
  {
   "cell_type": "code",
   "execution_count": null,
   "id": "dfede525-898a-4e6e-8b84-0f3f7e3f4d52",
   "metadata": {},
   "outputs": [],
   "source": [
    "data = []"
   ]
  },
  {
   "cell_type": "code",
   "execution_count": null,
   "id": "3d1b7ad3-5b6e-4bed-ad20-126c6dbf6530",
   "metadata": {},
   "outputs": [],
   "source": [
    "https://map.naver.com/p?c=15.00,0,0,0,dh\n",
    "\n",
    "https://map.naver.com/p?c=15.00,0,0,0,dh"
   ]
  },
  {
   "cell_type": "code",
   "execution_count": null,
   "id": "3c919484-ecfc-4c41-9cf1-6bbb9686c038",
   "metadata": {},
   "outputs": [],
   "source": []
  },
  {
   "cell_type": "code",
   "execution_count": null,
   "id": "caa8996a-0648-42d1-a77b-f1d3a1948e25",
   "metadata": {},
   "outputs": [],
   "source": [
    "# 크롬 드라이버 실행\n",
    "driver = webdriver.Chrome(ChromeDriverManager().install())\n",
    "\n",
    "for i in df['음식점명']:\n",
    "    # 검색창에 입력하지 않고 직접 해당 숙소의 주소로 이동\n",
    "    url = \"https://map.naver.com/v5/search/서울 \"+str(i)+'/place' \n",
    "    driver.get(url)\n",
    "    time.sleep(8)\n",
    "\n",
    "    \n",
    "    try: \n",
    "        driver.switch_to.frame(driver.find_element(By.XPATH, '//*[@id=\"entryIframe\"]')) # iframe 이동\n",
    "        time.sleep(3) \n",
    "        \n",
    "        html = driver.page_source\n",
    "        soup = BeautifulSoup(html, 'html.parser')\n",
    "        \n",
    "        # 리뷰 탭으로 이동\n",
    "        lists = soup.select('#app-root > div > div > div > div.place_section.OP4V8 > div.zD5Nm.f7aZ0 > div.dAsGb > span')\n",
    "        \n",
    "        # 별점/방문자리뷰/블로그리뷰 순일때 방문자리뷰는 두번째에 위치=span[2]\n",
    "        if len(lists) > 2: \n",
    "            driver.find_element(By.XPATH, '//*[@id=\"app-root\"]/div/div/div/div[2]/div[1]/div[2]/span[2]/a').send_keys(Keys.ENTER) # 방문자 리뷰\n",
    "            time.sleep(3)\n",
    "\t\t\n",
    "        # 방문자리뷰/블로그리뷰 순일때 방문자리뷰는 첫번째에 위치=span[1]\n",
    "        else: \n",
    "            driver.find_element(By.XPATH, '//*[@id=\"app-root\"]/div/div/div/div[2]/div[1]/div[2]/span[1]/a').send_keys(Keys.ENTER) # 방문자 리뷰\n",
    "            time.sleep(3)\n",
    "        \n",
    "        review = extract_review() # 리뷰 추출 함수 호출\n",
    "        data.append(review)\n",
    "        # print(review)\n",
    "    \n",
    "    except:\n",
    "        data.append(' ')\n",
    "        # print(' ')"
   ]
  },
  {
   "cell_type": "code",
   "execution_count": null,
   "id": "8b3cc841-97b6-4321-bf00-54089c16502c",
   "metadata": {},
   "outputs": [],
   "source": []
  },
  {
   "cell_type": "code",
   "execution_count": null,
   "id": "976472f5-dbda-46d9-90be-dcf153d3e557",
   "metadata": {},
   "outputs": [],
   "source": []
  },
  {
   "cell_type": "code",
   "execution_count": null,
   "id": "3a80371a-3fd0-4a4c-89af-061cd55982a4",
   "metadata": {},
   "outputs": [],
   "source": []
  },
  {
   "cell_type": "code",
   "execution_count": null,
   "id": "77008f68-fd92-4fe5-8da5-fd8346c4cce4",
   "metadata": {},
   "outputs": [],
   "source": []
  },
  {
   "cell_type": "code",
   "execution_count": null,
   "id": "2f492123-5ad8-4dfa-b8eb-d515ffccb23a",
   "metadata": {},
   "outputs": [],
   "source": []
  },
  {
   "cell_type": "code",
   "execution_count": null,
   "id": "41e0d7ee-c917-4fe0-81e6-55541c5f14e1",
   "metadata": {},
   "outputs": [],
   "source": []
  },
  {
   "cell_type": "code",
   "execution_count": null,
   "id": "736be0e5-ec23-4aff-8501-885b1c0cbcb0",
   "metadata": {},
   "outputs": [],
   "source": []
  },
  {
   "cell_type": "code",
   "execution_count": null,
   "id": "6fb8e05e-5004-42fc-8475-08b71334a843",
   "metadata": {},
   "outputs": [],
   "source": []
  },
  {
   "cell_type": "code",
   "execution_count": null,
   "id": "340a9d13-11f4-4b50-8abe-c8e7811c265c",
   "metadata": {},
   "outputs": [],
   "source": []
  },
  {
   "cell_type": "code",
   "execution_count": null,
   "id": "0aab7d57-2d15-4b31-86a7-8f932ab247c3",
   "metadata": {},
   "outputs": [],
   "source": []
  },
  {
   "cell_type": "code",
   "execution_count": null,
   "id": "800be50d-6670-454d-92bd-f447e7595ccf",
   "metadata": {},
   "outputs": [],
   "source": []
  },
  {
   "cell_type": "code",
   "execution_count": null,
   "id": "5fe9bc08-2d68-46e2-8052-c30da3b48156",
   "metadata": {},
   "outputs": [],
   "source": []
  },
  {
   "cell_type": "code",
   "execution_count": null,
   "id": "f0a7e438-59ef-45b7-97d1-e68f0ebab1d5",
   "metadata": {},
   "outputs": [],
   "source": []
  },
  {
   "cell_type": "code",
   "execution_count": null,
   "id": "19095313-eec7-4aca-aee9-a4a08757570f",
   "metadata": {},
   "outputs": [],
   "source": []
  },
  {
   "cell_type": "code",
   "execution_count": null,
   "id": "09bbaa4e-2cb3-4ff7-87b7-72a8d07d7b37",
   "metadata": {},
   "outputs": [],
   "source": []
  }
 ],
 "metadata": {
  "kernelspec": {
   "display_name": "Python 3 (ipykernel)",
   "language": "python",
   "name": "python3"
  },
  "language_info": {
   "codemirror_mode": {
    "name": "ipython",
    "version": 3
   },
   "file_extension": ".py",
   "mimetype": "text/x-python",
   "name": "python",
   "nbconvert_exporter": "python",
   "pygments_lexer": "ipython3",
   "version": "3.10.14"
  }
 },
 "nbformat": 4,
 "nbformat_minor": 5
}
