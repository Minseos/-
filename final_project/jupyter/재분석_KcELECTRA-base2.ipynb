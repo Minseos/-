{
 "cells": [
  {
   "cell_type": "code",
   "execution_count": 2,
   "id": "25027e3f-9f3c-4472-bbce-46666f5ed53a",
   "metadata": {},
   "outputs": [
    {
     "name": "stdout",
     "output_type": "stream",
     "text": [
      "Electra 기반 모델이 C:/fintech_service/final_project/saved_model_KcELECTRA-base2/saved_model//pytorch_model.bin에 저장되었습니다.\n"
     ]
    }
   ],
   "source": [
    "import torch\n",
    "from safetensors.torch import load_file\n",
    "from transformers import ElectraConfig, ElectraForSequenceClassification\n",
    "\n",
    "# 모델 경로 설정 (절대 경로 사용)\n",
    "model_path = \"C:/fintech_service/final_project/saved_model_KcELECTRA-base2/saved_model/\"\n",
    "\n",
    "# config.json 로드\n",
    "config = ElectraConfig.from_pretrained(model_path)\n",
    "\n",
    "# safetensors 파일 경로\n",
    "safetensors_path = f\"{model_path}/model.safetensors\"\n",
    "\n",
    "# 가중치 로드\n",
    "state_dict = load_file(safetensors_path)\n",
    "\n",
    "# Electra 모델 생성 및 가중치 적용\n",
    "model = ElectraForSequenceClassification(config)\n",
    "model.load_state_dict(state_dict)\n",
    "\n",
    "# 가중치를 pytorch_model.bin으로 저장\n",
    "pytorch_model_path = f\"{model_path}/pytorch_model.bin\"\n",
    "torch.save(model.state_dict(), pytorch_model_path)\n",
    "\n",
    "print(f\"Electra 기반 모델이 {pytorch_model_path}에 저장되었습니다.\")\n"
   ]
  },
  {
   "cell_type": "code",
   "execution_count": 3,
   "id": "e48c99b2-32ed-4177-820a-c12512170cff",
   "metadata": {},
   "outputs": [
    {
     "name": "stderr",
     "output_type": "stream",
     "text": [
      "C:\\Users\\5-04\\AppData\\Local\\Temp\\ipykernel_11376\\1363928214.py:15: FutureWarning: You are using `torch.load` with `weights_only=False` (the current default value), which uses the default pickle module implicitly. It is possible to construct malicious pickle data which will execute arbitrary code during unpickling (See https://github.com/pytorch/pytorch/blob/main/SECURITY.md#untrusted-models for more details). In a future release, the default value for `weights_only` will be flipped to `True`. This limits the functions that could be executed during unpickling. Arbitrary objects will no longer be allowed to be loaded via this mode unless they are explicitly allowlisted by the user via `torch.serialization.add_safe_globals`. We recommend you start setting `weights_only=True` for any use case where you don't have full control of the loaded file. Please open an issue on GitHub for any issues related to this experimental feature.\n",
      "  model.load_state_dict(torch.load(pytorch_model_path))\n"
     ]
    },
    {
     "name": "stdout",
     "output_type": "stream",
     "text": [
      "모델이 성공적으로 로드되었습니다!\n"
     ]
    }
   ],
   "source": [
    "import torch\n",
    "from transformers import ElectraConfig, ElectraForSequenceClassification\n",
    "\n",
    "# 모델 경로 설정\n",
    "model_path = \"C:/fintech_service/final_project/saved_model_KcELECTRA-base2/saved_model/\"\n",
    "pytorch_model_path = f\"{model_path}/pytorch_model.bin\"\n",
    "\n",
    "# config.json 로드\n",
    "config = ElectraConfig.from_pretrained(model_path)\n",
    "\n",
    "# Electra 모델 생성\n",
    "model = ElectraForSequenceClassification(config)\n",
    "\n",
    "# 저장된 가중치 로드\n",
    "model.load_state_dict(torch.load(pytorch_model_path))\n",
    "model.eval()  # 평가 모드로 전환\n",
    "\n",
    "print(\"모델이 성공적으로 로드되었습니다!\")"
   ]
  },
  {
   "cell_type": "code",
   "execution_count": 4,
   "id": "8cc52f92-563a-423e-9091-ea8e4bff492b",
   "metadata": {},
   "outputs": [
    {
     "name": "stdout",
     "output_type": "stream",
     "text": [
      "감성 분석 결과가 C:/fintech_service/final_project/data\\뱅뱅막국수_combined_reviews_감정분석완료_재분석_KcELECTRA-base2.csv에 저장되었습니다.\n"
     ]
    }
   ],
   "source": [
    "import os\n",
    "import pandas as pd\n",
    "import torch\n",
    "from transformers import AutoModelForSequenceClassification, AutoTokenizer\n",
    "\n",
    "# 1. 모델과 토크나이저 로드\n",
    "model_path = 'C:/fintech_service/final_project/saved_model_KcELECTRA-base2/saved_model/'  # 모델 저장 경로\n",
    "model = AutoModelForSequenceClassification.from_pretrained(model_path)\n",
    "tokenizer = AutoTokenizer.from_pretrained(model_path)\n",
    "model.eval()  # 모델을 평가 모드로 설정\n",
    "\n",
    "# 2. 감성 분석할 CSV 파일 로드\n",
    "input_file = \"C:/fintech_service/final_project/data/뱅뱅막국수_combined_reviews_감정분석완료.csv\"  # 분석할 파일 경로\n",
    "\n",
    "if not os.path.exists(input_file):\n",
    "    raise FileNotFoundError(f\"파일이 존재하지 않습니다: {input_file}\")\n",
    "\n",
    "df = pd.read_csv(input_file)\n",
    "\n",
    "# 3. 문자열이 아닌 값(NaN 등)을 제거\n",
    "if 'Review' not in df.columns or 'sentiment' not in df.columns:\n",
    "    raise ValueError(\"데이터프레임에 'Review' 또는 'sentiment' 컬럼이 없습니다.\")\n",
    "\n",
    "df = df.dropna(subset=['Review'])\n",
    "\n",
    "# 4. 감성 분석 함수 정의\n",
    "def predict_sentiment(text):\n",
    "    if not isinstance(text, str):\n",
    "        return \"알 수 없음\"  # 문자열이 아닌 경우 기본값 반환\n",
    "    inputs = tokenizer(text, return_tensors=\"pt\", truncation=True, padding=True)\n",
    "    outputs = model(**inputs)\n",
    "    prediction = torch.argmax(outputs.logits, dim=1).item()\n",
    "    return \"긍정\" if prediction == 1 else \"부정\"\n",
    "\n",
    "# 5. 부정적으로 판별된 리뷰에 대해서만 재분석 수행\n",
    "def reanalyze_if_negative(sentiment, text):\n",
    "    if sentiment == \"부정\":\n",
    "        # 부정적으로 판별된 경우에만 재분석 수행\n",
    "        second_prediction = predict_sentiment(text)\n",
    "        return second_prediction\n",
    "    # 부정적이지 않은 경우 원래 값을 그대로 유지\n",
    "    return sentiment\n",
    "\n",
    "# 'sentiment' 컬럼이 부정적인 경우에만 재분석 수행하여 'Sentiment2'에 저장\n",
    "df['Sentiment2'] = df.apply(lambda row: reanalyze_if_negative(row['sentiment'], row['Review']), axis=1)\n",
    "\n",
    "# 6. 결과 파일 저장\n",
    "base_name = os.path.splitext(os.path.basename(input_file))[0]  # 파일명만 추출 (확장자 제외)\n",
    "output_dir = os.path.dirname(input_file)  # 기존 파일이 있는 폴더\n",
    "output_file = os.path.join(output_dir, f\"{base_name}_재분석_KcELECTRA-base2.csv\")\n",
    "\n",
    "if not os.path.exists(output_dir):\n",
    "    os.makedirs(output_dir)\n",
    "\n",
    "df.to_csv(output_file, index=False, encoding=\"utf-8-sig\")  # UTF-8 with BOM으로 저장\n",
    "print(f\"감성 분석 결과가 {output_file}에 저장되었습니다.\")\n"
   ]
  },
  {
   "cell_type": "code",
   "execution_count": null,
   "id": "f1c2ad07-f786-48dd-971f-4a8ee064c384",
   "metadata": {},
   "outputs": [],
   "source": []
  },
  {
   "cell_type": "code",
   "execution_count": null,
   "id": "ad76946d-6e60-4a80-a910-b202cdc77f08",
   "metadata": {},
   "outputs": [],
   "source": []
  },
  {
   "cell_type": "code",
   "execution_count": null,
   "id": "704a7f75-beb3-4968-8559-4d59550026ac",
   "metadata": {},
   "outputs": [],
   "source": []
  },
  {
   "cell_type": "code",
   "execution_count": null,
   "id": "cdc8dc27-0443-4f72-acda-a5145faae9f7",
   "metadata": {},
   "outputs": [],
   "source": []
  },
  {
   "cell_type": "code",
   "execution_count": null,
   "id": "c81196ae-215f-4ee9-99ac-4c81aa1e2406",
   "metadata": {},
   "outputs": [],
   "source": []
  },
  {
   "cell_type": "code",
   "execution_count": null,
   "id": "c8f4819a-9e40-40a6-8fec-9a1f1bb2eabe",
   "metadata": {},
   "outputs": [],
   "source": []
  },
  {
   "cell_type": "code",
   "execution_count": null,
   "id": "b5f1b048-ffd9-4d07-a2d4-d7a0899552e1",
   "metadata": {},
   "outputs": [],
   "source": []
  },
  {
   "cell_type": "code",
   "execution_count": null,
   "id": "fda035a8-9c47-437e-ab7a-5f65d11b3bd9",
   "metadata": {},
   "outputs": [],
   "source": []
  },
  {
   "cell_type": "code",
   "execution_count": null,
   "id": "db848ae9-5cbf-429f-9722-6a22c1e58ef3",
   "metadata": {},
   "outputs": [],
   "source": []
  }
 ],
 "metadata": {
  "kernelspec": {
   "display_name": "Python 3 (ipykernel)",
   "language": "python",
   "name": "python3"
  },
  "language_info": {
   "codemirror_mode": {
    "name": "ipython",
    "version": 3
   },
   "file_extension": ".py",
   "mimetype": "text/x-python",
   "name": "python",
   "nbconvert_exporter": "python",
   "pygments_lexer": "ipython3",
   "version": "3.10.14"
  }
 },
 "nbformat": 4,
 "nbformat_minor": 5
}
