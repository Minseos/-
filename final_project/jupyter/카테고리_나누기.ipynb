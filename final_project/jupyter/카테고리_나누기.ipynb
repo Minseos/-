{
 "cells": [
  {
   "cell_type": "code",
   "execution_count": 2,
   "id": "3bcd8206-b809-4f74-a294-44279f0eb712",
   "metadata": {},
   "outputs": [
    {
     "name": "stdout",
     "output_type": "stream",
     "text": [
      "             가게이름  카테고리                    주소           전화번호  \\\n",
      "0           9CAFE   NaN     서울 강남구 강남대로62길 11    02-538-5742   \n",
      "1         고가네철판불백    한식       서울 강남구 도곡로3길 19    02-554-7888   \n",
      "2             고래똥  포장마차  서울 강남구 강남대로58길 19 1층  070-4312-8839   \n",
      "3       고불초쌈밥_2호점   NaN  서울 강남구 도곡로1길 14 지하1층    02-565-6417   \n",
      "4  고품격커피공장_뱅뱅사거리점    카페    서울 강남구 도곡로4길 18 1층            NaN   \n",
      "\n",
      "                    영업시간             가격대  네이버 별점  카카오 별점  구글 별점  \n",
      "0                      -             NaN     NaN     NaN    NaN  \n",
      "1      월~토 10:00 ~ 22:00  ₩10,000~20,000     NaN     4.0    3.8  \n",
      "2  영업시간 매일 16:00 ~ 05:00             NaN     4.7     4.0    NaN  \n",
      "3                      -             NaN     NaN     4.5    NaN  \n",
      "4      월~금 08:00 ~ 20:00             NaN     NaN     5.0    NaN  \n"
     ]
    }
   ],
   "source": [
    "import pandas as pd\n",
    "import glob\n",
    "import os\n",
    "\n",
    "# CSV 파일들이 저장된 디렉토리 경로\n",
    "folder_path = r'C:\\study\\fintech\\final_project\\data\\리뷰추출\\업종정보\\병합결과'\n",
    "\n",
    "# 해당 경로 내 모든 CSV 파일 읽기\n",
    "all_files = glob.glob(os.path.join(folder_path, \"*.csv\"))\n",
    "\n",
    "# 모든 파일의 데이터를 하나의 DataFrame으로 합치기\n",
    "data = pd.concat((pd.read_csv(file) for file in all_files), ignore_index=True)\n",
    "\n",
    "# 데이터 확인\n",
    "print(data.head())\n"
   ]
  },
  {
   "cell_type": "code",
   "execution_count": 4,
   "id": "e9b47fb9-1d81-4174-a4a0-b44b91261b47",
   "metadata": {},
   "outputs": [
    {
     "data": {
      "text/plain": [
       "array([nan, '한식', '포장마차', '카페', '곰탕,설렁탕', '일식당', '김밥', '돼지고기구이', '낙지요리',\n",
       "       '백반,가정식', '햄버거', '요리주점', '육류,고기요리', '치킨,닭강정', '베이커리', '이탈리아음식',\n",
       "       '중식당', '생선회', '국수', '게요리', '카페,디저트', '분식', '돈가스', '순대,순댓국', '초밥,롤',\n",
       "       '매운탕,해물탕', '종합분식', '닭요리', '한식뷔페', '샌드위치', '장어,먹장어요리', '족발,보쌈',\n",
       "       '바(BAR)', '맥주,호프', '찌개,전골', '정육식당', '해물,생선요리'], dtype=object)"
      ]
     },
     "execution_count": 4,
     "metadata": {},
     "output_type": "execute_result"
    }
   ],
   "source": [
    "data['카테고리'].unique()"
   ]
  },
  {
   "cell_type": "code",
   "execution_count": null,
   "id": "1e8803c1-d1c9-44c6-ac8f-e715e9299475",
   "metadata": {},
   "outputs": [],
   "source": []
  },
  {
   "cell_type": "code",
   "execution_count": null,
   "id": "061600bf-9f69-498b-a209-48003fb83469",
   "metadata": {},
   "outputs": [],
   "source": []
  }
 ],
 "metadata": {
  "kernelspec": {
   "display_name": "Python 3 (ipykernel)",
   "language": "python",
   "name": "python3"
  },
  "language_info": {
   "codemirror_mode": {
    "name": "ipython",
    "version": 3
   },
   "file_extension": ".py",
   "mimetype": "text/x-python",
   "name": "python",
   "nbconvert_exporter": "python",
   "pygments_lexer": "ipython3",
   "version": "3.10.15"
  }
 },
 "nbformat": 4,
 "nbformat_minor": 5
}
