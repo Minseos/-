{
 "cells": [
  {
   "cell_type": "code",
   "execution_count": 3,
   "id": "5a57d8fd-e85b-4ff7-a703-1dc05f6fe443",
   "metadata": {},
   "outputs": [
    {
     "name": "stdout",
     "output_type": "stream",
     "text": [
      "Renamed: 17_더벤티_뱅뱅사거리점_sentiment_pie_chart.png -> 17_리뷰_비율.png\n",
      "Renamed: 17_더벤티_뱅뱅사거리점_wordcloud.png -> 17_wordcloud.png\n",
      "Renamed: 24_뚜레쥬르_뱅뱅사거리점_sentiment_pie_chart.png -> 24_리뷰_비율.png\n",
      "Renamed: 24_뚜레쥬르_뱅뱅사거리점_wordcloud.png -> 24_wordcloud.png\n",
      "Renamed: 51_스타벅스_서초태우빌딩점_sentiment_pie_chart.png -> 51_리뷰_비율.png\n",
      "Renamed: 51_스타벅스_서초태우빌딩점_wordcloud.png -> 51_wordcloud.png\n",
      "Renamed: 55_아티제_강남유니온센터점_sentiment_pie_chart.png -> 55_리뷰_비율.png\n",
      "Renamed: 55_아티제_강남유니온센터점_wordcloud.png -> 55_wordcloud.png\n",
      "Renamed: 56_아티제_뱅뱅사거리점_sentiment_pie_chart.png -> 56_리뷰_비율.png\n",
      "Renamed: 56_아티제_뱅뱅사거리점_wordcloud.png -> 56_wordcloud.png\n",
      "Renamed: 59_에슬로우커피_뱅뱅사거리점_sentiment_pie_chart.png -> 59_리뷰_비율.png\n",
      "Renamed: 59_에슬로우커피_뱅뱅사거리점_wordcloud.png -> 59_wordcloud.png\n",
      "Renamed: 5_고품격커피공장_뱅뱅사거리점_sentiment_pie_chart.png -> 5_리뷰_비율.png\n",
      "Renamed: 5_고품격커피공장_뱅뱅사거리점_wordcloud.png -> 5_wordcloud.png\n",
      "Renamed: 60_에이림커피_sentiment_pie_chart.png -> 60_리뷰_비율.png\n",
      "Renamed: 60_에이림커피_wordcloud.png -> 60_wordcloud.png\n",
      "Renamed: 83_카페블랑131_sentiment_pie_chart.png -> 83_리뷰_비율.png\n",
      "Renamed: 85_커피박스_sentiment_pie_chart.png -> 85_리뷰_비율.png\n",
      "Renamed: 85_커피박스_wordcloud.png -> 85_wordcloud.png\n",
      "Renamed: 91_파리바게뜨_뱅뱅사거리점_sentiment_pie_chart.png -> 91_리뷰_비율.png\n",
      "Renamed: 91_파리바게뜨_뱅뱅사거리점_wordcloud.png -> 91_wordcloud.png\n",
      "Renamed: 92_파스쿠찌_뱅뱅사거리점_sentiment_pie_chart.png -> 92_리뷰_비율.png\n",
      "Renamed: 92_파스쿠찌_뱅뱅사거리점_wordcloud.png -> 92_wordcloud.png\n",
      "Renamed: 96_해머스미스커피_뱅뱅사거리점_sentiment_pie_chart.png -> 96_리뷰_비율.png\n"
     ]
    }
   ],
   "source": [
    "import os\n",
    "\n",
    "# 변경할 디렉토리 경로를 설정합니다.\n",
    "directories = [\n",
    "    r\"C:\\study\\fintech\\final_project\\data\\사진\\중식\",\n",
    "    r\"C:\\study\\fintech\\final_project\\data\\사진\\카페\\카페\",\n",
    "    r\"C:\\study\\fintech\\final_project\\data\\사진\\한식\"\n",
    "]\n",
    "\n",
    "# 파일 이름 변경 함수\n",
    "def rename_files(directory):\n",
    "    for filename in os.listdir(directory):\n",
    "        old_path = os.path.join(directory, filename)\n",
    "\n",
    "        # 파일이 실제 파일인지 확인\n",
    "        if os.path.isfile(old_path):\n",
    "            # wordcloud 파일 처리\n",
    "            if \"_wordcloud\" in filename:\n",
    "                parts = filename.split(\"_\")\n",
    "                if len(parts) > 2:\n",
    "                    new_name = f\"{parts[0]}_wordcloud.png\"\n",
    "                    new_path = os.path.join(directory, new_name)\n",
    "                    os.rename(old_path, new_path)\n",
    "                    print(f\"Renamed: {filename} -> {new_name}\")\n",
    "            \n",
    "            # sentiment_pie_chart 파일 처리\n",
    "            elif \"_sentiment_pie_chart\" in filename:\n",
    "                parts = filename.split(\"_\")\n",
    "                if len(parts) > 2:\n",
    "                    new_name = f\"{parts[0]}_리뷰_비율.png\"\n",
    "                    new_path = os.path.join(directory, new_name)\n",
    "                    os.rename(old_path, new_path)\n",
    "                    print(f\"Renamed: {filename} -> {new_name}\")\n",
    "\n",
    "# 각 디렉토리를 순회하며 파일 이름 변경\n",
    "for dir_path in directories:\n",
    "    rename_files(dir_path)\n"
   ]
  },
  {
   "cell_type": "code",
   "execution_count": null,
   "id": "f1e60cc9-24a8-459e-9b1e-9bf00440edd8",
   "metadata": {},
   "outputs": [],
   "source": []
  }
 ],
 "metadata": {
  "kernelspec": {
   "display_name": "Python 3 (ipykernel)",
   "language": "python",
   "name": "python3"
  },
  "language_info": {
   "codemirror_mode": {
    "name": "ipython",
    "version": 3
   },
   "file_extension": ".py",
   "mimetype": "text/x-python",
   "name": "python",
   "nbconvert_exporter": "python",
   "pygments_lexer": "ipython3",
   "version": "3.10.15"
  }
 },
 "nbformat": 4,
 "nbformat_minor": 5
}
