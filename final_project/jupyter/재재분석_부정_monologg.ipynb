{
 "cells": [
  {
   "cell_type": "code",
   "execution_count": 3,
   "id": "a000f431",
   "metadata": {},
   "outputs": [
    {
     "name": "stderr",
     "output_type": "stream",
     "text": [
      "Some weights of ElectraForSequenceClassification were not initialized from the model checkpoint at monologg/koelectra-base-v3-discriminator and are newly initialized: ['classifier.dense.bias', 'classifier.dense.weight', 'classifier.out_proj.bias', 'classifier.out_proj.weight']\n",
      "You should probably TRAIN this model on a down-stream task to be able to use it for predictions and inference.\n"
     ]
    },
    {
     "name": "stdout",
     "output_type": "stream",
     "text": [
      "감정 분석 결과가 저장되었습니다: ./data/뱅뱅막국수_combined_reviews_감정분석완료_재분석_부정.csv\n"
     ]
    }
   ],
   "source": [
    "import pandas as pd\n",
    "import torch\n",
    "from transformers import AutoTokenizer, AutoModelForSequenceClassification\n",
    "import os\n",
    "\n",
    "# 모델과 토크나이저 로드\n",
    "model_name = \"monologg/koelectra-base-v3-discriminator\"\n",
    "tokenizer = AutoTokenizer.from_pretrained(model_name)\n",
    "model = AutoModelForSequenceClassification.from_pretrained(model_name)\n",
    "\n",
    "# 리뷰 데이터를 불러옵니다.\n",
    "file_path = \"./data/뱅뱅막국수_combined_reviews_감정분석완료.csv\"  # 분석할 파일 경로\n",
    "reviews = pd.read_csv(file_path)\n",
    "\n",
    "# 감정 예측 함수 정의\n",
    "def predict_sentiment(text):\n",
    "    inputs = tokenizer(text, return_tensors=\"pt\", truncation=True, padding=True)\n",
    "    with torch.no_grad():\n",
    "        outputs = model(**inputs)\n",
    "    logits = outputs.logits\n",
    "    predicted_class = torch.argmax(logits, dim=1).item()\n",
    "    # Koelectra 모델은 0: 부정, 1: 긍정으로 레이블을 가집니다.\n",
    "    return \"부정\" if predicted_class == 0 else \"긍정\"\n",
    "\n",
    "# 리뷰 데이터에 감정 레이블 추가\n",
    "reviews[\"감정 분석 결과\"] = reviews[\"Review\"].apply(predict_sentiment)\n",
    "\n",
    "# 원래 파일 이름에 \"_재분석\" 추가하여 저장\n",
    "base_name = os.path.splitext(os.path.basename(file_path))[0]\n",
    "output_file_path = f\"./data/{base_name}_재분석_부정.csv\"\n",
    "reviews.to_csv(output_file_path, index=False)\n",
    "print(f\"감정 분석 결과가 저장되었습니다: {output_file_path}\")\n"
   ]
  },
  {
   "cell_type": "code",
   "execution_count": null,
   "id": "32e9fd9a",
   "metadata": {},
   "outputs": [],
   "source": []
  },
  {
   "cell_type": "code",
   "execution_count": null,
   "id": "d08608d2",
   "metadata": {},
   "outputs": [],
   "source": []
  },
  {
   "cell_type": "code",
   "execution_count": null,
   "id": "84d73b86",
   "metadata": {},
   "outputs": [],
   "source": []
  },
  {
   "cell_type": "code",
   "execution_count": null,
   "id": "8d241f44",
   "metadata": {},
   "outputs": [],
   "source": []
  },
  {
   "cell_type": "code",
   "execution_count": 4,
   "id": "8ae97561",
   "metadata": {},
   "outputs": [
    {
     "name": "stderr",
     "output_type": "stream",
     "text": [
      "C:\\Users\\5-04\\miniforge3\\envs\\openai\\Lib\\site-packages\\huggingface_hub\\file_download.py:139: UserWarning: `huggingface_hub` cache-system uses symlinks by default to efficiently store duplicated files but your machine does not support them in C:\\Users\\5-04\\.cache\\huggingface\\hub\\models--smilegate-ai--kor_unsmile. Caching files will still work but in a degraded version that might require more space on your disk. This warning can be disabled by setting the `HF_HUB_DISABLE_SYMLINKS_WARNING` environment variable. For more details, see https://huggingface.co/docs/huggingface_hub/how-to-cache#limitations.\n",
      "To support symlinks on Windows, you either need to activate Developer Mode or to run Python as an administrator. In order to activate developer mode, see this article: https://docs.microsoft.com/en-us/windows/apps/get-started/enable-your-device-for-development\n",
      "  warnings.warn(message)\n"
     ]
    },
    {
     "name": "stdout",
     "output_type": "stream",
     "text": [
      "감정 분석 결과가 저장되었습니다: ./data/뱅뱅막국수_combined_reviews_감정분석완료_재분석_부정2.csv\n"
     ]
    }
   ],
   "source": [
    "import pandas as pd\n",
    "import torch\n",
    "from transformers import AutoTokenizer, AutoModelForSequenceClassification\n",
    "import os\n",
    "\n",
    "# 모델과 토크나이저 로드\n",
    "model_name = \"smilegate-ai/kor_unsmile\"\n",
    "tokenizer = AutoTokenizer.from_pretrained(model_name)\n",
    "model = AutoModelForSequenceClassification.from_pretrained(model_name)\n",
    "\n",
    "# 리뷰 데이터를 불러옵니다.\n",
    "file_path = \"./data/뱅뱅막국수_combined_reviews_감정분석완료.csv\"  # 분석할 파일 경로\n",
    "reviews = pd.read_csv(file_path)\n",
    "\n",
    "# 감정 예측 함수 정의\n",
    "def predict_sentiment(text):\n",
    "    inputs = tokenizer(text, return_tensors=\"pt\", truncation=True, padding=True)\n",
    "    with torch.no_grad():\n",
    "        outputs = model(**inputs)\n",
    "    logits = outputs.logits\n",
    "    predicted_class = torch.argmax(logits, dim=1).item()\n",
    "    # kor_unsmile 모델은 0: 부정, 1: 긍정으로 레이블을 가집니다.\n",
    "    return \"부정\" if predicted_class == 0 else \"긍정\"\n",
    "\n",
    "# 리뷰 데이터에 감정 레이블 추가\n",
    "reviews[\"감정 분석 결과\"] = reviews[\"Review\"].apply(predict_sentiment)\n",
    "\n",
    "# 원래 파일 이름에 \"_재분석\" 추가하여 저장\n",
    "base_name = os.path.splitext(os.path.basename(file_path))[0]\n",
    "output_file_path = f\"./data/{base_name}_재분석_부정2.csv\"\n",
    "reviews.to_csv(output_file_path, index=False)\n",
    "print(f\"감정 분석 결과가 저장되었습니다: {output_file_path}\")\n"
   ]
  },
  {
   "cell_type": "code",
   "execution_count": null,
   "id": "f98047ae",
   "metadata": {},
   "outputs": [],
   "source": []
  }
 ],
 "metadata": {
  "kernelspec": {
   "display_name": "Python 3 (ipykernel)",
   "language": "python",
   "name": "python3"
  },
  "language_info": {
   "codemirror_mode": {
    "name": "ipython",
    "version": 3
   },
   "file_extension": ".py",
   "mimetype": "text/x-python",
   "name": "python",
   "nbconvert_exporter": "python",
   "pygments_lexer": "ipython3",
   "version": "3.10.14"
  }
 },
 "nbformat": 4,
 "nbformat_minor": 5
}
