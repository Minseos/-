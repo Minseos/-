{
 "cells": [
  {
   "cell_type": "code",
   "execution_count": 1,
   "id": "c8ebcb8a-3e54-4abf-9532-02c99e200705",
   "metadata": {},
   "outputs": [],
   "source": [
    "import pandas as pd\n",
    "import numpy as np"
   ]
  },
  {
   "cell_type": "code",
   "execution_count": null,
   "id": "54807db2-1f6b-48bc-b8b2-eacaf9c2268e",
   "metadata": {},
   "outputs": [],
   "source": [
    "data = pd.read_csv('./data/리뷰추출/업종정보/')\n",
    "data"
   ]
  },
  {
   "cell_type": "code",
   "execution_count": 2,
   "id": "8a27ad1a-5ceb-4da5-9e07-09fd01b9f57f",
   "metadata": {},
   "outputs": [
    {
     "name": "stdout",
     "output_type": "stream",
     "text": [
      "             가게 이름  업종 카테고리          별점\n",
      "0           OUR948   카페,디저트   방문자 리뷰 98\n",
      "1              S카페   바(BAR)   방문자 리뷰 34\n",
      "2        가정식집밥 세로방   백반,가정식        4.18\n",
      "3          고가네철판불백       한식  방문자 리뷰 334\n",
      "4              고래똥     포장마차         4.7\n",
      "..             ...      ...         ...\n",
      "76     파스쿠찌 뱅뱅사거리점       카페        4.44\n",
      "77     판문점부대찌개 역삼점    찌개,전골        4.23\n",
      "78             한강수     정육식당        4.21\n",
      "79  해머스미스커피 뱅뱅사거리점       카페    방문자 리뷰 4\n",
      "80            회춘식당  해물,생선요리  방문자 리뷰 108\n",
      "\n",
      "[81 rows x 3 columns]\n"
     ]
    }
   ],
   "source": [
    "import pandas as pd\n",
    "import glob\n",
    "import os\n",
    "\n",
    "# 파일 경로 설정\n",
    "folder_path = './data/리뷰추출/업종정보/'  # 해당 폴더 경로\n",
    "all_files = glob.glob(os.path.join(folder_path, \"*.csv\"))\n",
    "\n",
    "# 파일 읽고 하나의 데이터프레임으로 병합\n",
    "dataframes = [pd.read_csv(file) for file in all_files]\n",
    "merged_data = pd.concat(dataframes, ignore_index=True)\n",
    "\n",
    "# 병합된 데이터 확인\n",
    "print(merged_data)\n"
   ]
  },
  {
   "cell_type": "code",
   "execution_count": 3,
   "id": "70522676-458e-40e1-b580-f964ca808b97",
   "metadata": {},
   "outputs": [
    {
     "data": {
      "text/plain": [
       "Index(['가게 이름', '업종 카테고리', '별점'], dtype='object')"
      ]
     },
     "execution_count": 3,
     "metadata": {},
     "output_type": "execute_result"
    }
   ],
   "source": [
    "merged_data.columns"
   ]
  },
  {
   "cell_type": "code",
   "execution_count": 6,
   "id": "48e8d371-f5a2-4749-bfb4-99b6c84d1a3e",
   "metadata": {},
   "outputs": [
    {
     "data": {
      "text/plain": [
       "array(['방문자 리뷰 98', '방문자 리뷰 34', 4.18, '방문자 리뷰 334', 4.7, '방문자 리뷰 270',\n",
       "       4.62, '방문자 리뷰 323', 4.25, '방문자 리뷰 615', 4.38, 4.12, 4.31, 4.11,\n",
       "       4.32, '방문자 리뷰 634', '방문자 리뷰 442', 4.44, '방문자 리뷰 155', 4.36,\n",
       "       '방문자 리뷰 8', 4.46, 4.34, '방문자 리뷰 168', 4.42, 4.71, 4.03, 4.35,\n",
       "       '방문자 리뷰 397', 4.69, 4.26, 4.27, 4.04, '방문자 리뷰 82', '방문자 리뷰 194',\n",
       "       '방문자 리뷰 11', '방문자 리뷰 321', '방문자 리뷰 39', '방문자 리뷰 195', '방문자 리뷰 53',\n",
       "       4.21, 4.52, 4.78, '방문자 리뷰 2', 4.65, '방문자 리뷰 363', 4.3, '방문자 리뷰 10',\n",
       "       '방문자 리뷰 30', '방문자 리뷰 44', 4.4, '방문자 리뷰 27', '방문자 리뷰 128',\n",
       "       '방문자 리뷰 62', 4.45, 4.54, 4.47, '방문자 리뷰 356', '방문자 리뷰 1', 3.77,\n",
       "       '방문자 리뷰 114', '방문자 리뷰 407', 4.33, 4.61, '방문자 리뷰 355', 4.23,\n",
       "       '방문자 리뷰 4', '방문자 리뷰 108'], dtype=object)"
      ]
     },
     "execution_count": 6,
     "metadata": {},
     "output_type": "execute_result"
    }
   ],
   "source": [
    "merged_data['별점'].unique()"
   ]
  },
  {
   "cell_type": "code",
   "execution_count": null,
   "id": "6b85c8c3-f311-43d3-9dfd-303832d6b37e",
   "metadata": {},
   "outputs": [],
   "source": []
  },
  {
   "cell_type": "code",
   "execution_count": 8,
   "id": "7f4146e8-feaf-42f8-8c18-0d9b0c016ded",
   "metadata": {
    "scrolled": true
   },
   "outputs": [
    {
     "name": "stdout",
     "output_type": "stream",
     "text": [
      "OUR948.csv 파일이 성공적으로 수정되어 저장되었습니다.\n",
      "S카페.csv 파일이 성공적으로 수정되어 저장되었습니다.\n",
      "가정식집밥_세로방.csv 파일이 성공적으로 수정되어 저장되었습니다.\n",
      "고가네철판불백.csv 파일이 성공적으로 수정되어 저장되었습니다.\n",
      "고래똥.csv 파일이 성공적으로 수정되어 저장되었습니다.\n",
      "고품격커피공장_뱅뱅사거리점.csv 파일이 성공적으로 수정되어 저장되었습니다.\n",
      "곰바로곰탕.csv 파일이 성공적으로 수정되어 저장되었습니다.\n",
      "곰작골나주곰탕_역삼초교점.csv 파일이 성공적으로 수정되어 저장되었습니다.\n",
      "교토일식.csv 파일이 성공적으로 수정되어 저장되었습니다.\n",
      "궁민김밥_본점.csv 파일이 성공적으로 수정되어 저장되었습니다.\n",
      "깡돈.csv 파일이 성공적으로 수정되어 저장되었습니다.\n",
      "낙여삼.csv 파일이 성공적으로 수정되어 저장되었습니다.\n",
      "남강매점.csv 파일이 성공적으로 수정되어 저장되었습니다.\n",
      "남순남순대국_본점.csv 파일이 성공적으로 수정되어 저장되었습니다.\n",
      "노브랜드버거_뱅뱅사거리점.csv 파일이 성공적으로 수정되어 저장되었습니다.\n",
      "다돈식당.csv 파일이 성공적으로 수정되어 저장되었습니다.\n",
      "다슬음_강남점.csv 파일이 성공적으로 수정되어 저장되었습니다.\n",
      "더벤티_뱅뱅사거리점.csv 파일이 성공적으로 수정되어 저장되었습니다.\n",
      "돼지벅스_강남점.csv 파일이 성공적으로 수정되어 저장되었습니다.\n",
      "두두.csv 파일이 성공적으로 수정되어 저장되었습니다.\n",
      "두메_도곡점.csv 파일이 성공적으로 수정되어 저장되었습니다.\n",
      "또봉이통닭_서울도곡점.csv 파일이 성공적으로 수정되어 저장되었습니다.\n",
      "뚜레쥬르 뱅뱅사거리점.csv 파일이 성공적으로 수정되어 저장되었습니다.\n",
      "라망드쉐프.csv 파일이 성공적으로 수정되어 저장되었습니다.\n",
      "리첸.csv 파일이 성공적으로 수정되어 저장되었습니다.\n",
      "만복회해산물_뱅뱅사거리점.csv 파일이 성공적으로 수정되어 저장되었습니다.\n",
      "맥도날드_서초뱅뱅점.csv 파일이 성공적으로 수정되어 저장되었습니다.\n",
      "맥켄치킨.csv 파일이 성공적으로 수정되어 저장되었습니다.\n",
      "명동할머니국수_뱅뱅사거리점.csv 파일이 성공적으로 수정되어 저장되었습니다.\n",
      "무화잠.csv 파일이 성공적으로 수정되어 저장되었습니다.\n",
      "문화시민_서울_뱅뱅사거리점.csv 파일이 성공적으로 수정되어 저장되었습니다.\n",
      "뱅뱅막국수.csv 파일이 성공적으로 수정되어 저장되었습니다.\n",
      "버드나무집_서초동본점.csv 파일이 성공적으로 수정되어 저장되었습니다.\n",
      "봉구스밥버거_역삼삼일점.csv 파일이 성공적으로 수정되어 저장되었습니다.\n",
      "봉평착한메밀_본점.csv 파일이 성공적으로 수정되어 저장되었습니다.\n",
      "봉피양_양재점.csv 파일이 성공적으로 수정되어 저장되었습니다.\n",
      "북경반점.csv 파일이 성공적으로 수정되어 저장되었습니다.\n",
      "브라운돈까스_뱅뱅사거리점.csv 파일이 성공적으로 수정되어 저장되었습니다.\n",
      "비채.csv 파일이 성공적으로 수정되어 저장되었습니다.\n",
      "사람사는고깃집김일도_뱅뱅점.csv 파일이 성공적으로 수정되어 저장되었습니다.\n",
      "사천루.csv 파일이 성공적으로 수정되어 저장되었습니다.\n",
      "소뭉집_본점.csv 파일이 성공적으로 수정되어 저장되었습니다.\n",
      "스노우폭스_뱅뱅점.csv 파일이 성공적으로 수정되어 저장되었습니다.\n",
      "스타벅스_서초태우빌딩점.csv 파일이 성공적으로 수정되어 저장되었습니다.\n",
      "시원한대구탕.csv 파일이 성공적으로 수정되어 저장되었습니다.\n",
      "아티제_강남유니온센터점.csv 파일이 성공적으로 수정되어 저장되었습니다.\n",
      "아티제_뱅뱅사거리점.csv 파일이 성공적으로 수정되어 저장되었습니다.\n",
      "양재족발_참족.csv 파일이 성공적으로 수정되어 저장되었습니다.\n",
      "어가람.csv 파일이 성공적으로 수정되어 저장되었습니다.\n",
      "에슬로우_뱅뱅사거리점.csv 파일이 성공적으로 수정되어 저장되었습니다.\n",
      "에이림커피.csv 파일이 성공적으로 수정되어 저장되었습니다.\n",
      "영이네.csv 파일이 성공적으로 수정되어 저장되었습니다.\n",
      "예당.csv 파일이 성공적으로 수정되어 저장되었습니다.\n",
      "오늘은_어떤_닭.csv 파일이 성공적으로 수정되어 저장되었습니다.\n",
      "오로스트커피.csv 파일이 성공적으로 수정되어 저장되었습니다.\n",
      "오하나_도곡점.csv 파일이 성공적으로 수정되어 저장되었습니다.\n",
      "왕산골.csv 파일이 성공적으로 수정되어 저장되었습니다.\n",
      "원할매이모네닭한마리.csv 파일이 성공적으로 수정되어 저장되었습니다.\n",
      "월참치.csv 파일이 성공적으로 수정되어 저장되었습니다.\n",
      "이천쌀밥.csv 파일이 성공적으로 수정되어 저장되었습니다.\n",
      "잇풀.csv 파일이 성공적으로 수정되어 저장되었습니다.\n",
      "장수촌풍천장어.csv 파일이 성공적으로 수정되어 저장되었습니다.\n",
      "전주피순대.csv 파일이 성공적으로 수정되어 저장되었습니다.\n",
      "조순금닭도리탕.csv 파일이 성공적으로 수정되어 저장되었습니다.\n",
      "중화카츠&덮밥_역삼본점.csv 파일이 성공적으로 수정되어 저장되었습니다.\n",
      "지우네.csv 파일이 성공적으로 수정되어 저장되었습니다.\n",
      "짜짜루.csv 파일이 성공적으로 수정되어 저장되었습니다.\n",
      "청담배짱이.csv 파일이 성공적으로 수정되어 저장되었습니다.\n",
      "카린지린가네스낵바_뱅뱅사거리점.csv 파일이 성공적으로 수정되어 저장되었습니다.\n",
      "카페블랑131.csv 파일이 성공적으로 수정되어 저장되었습니다.\n",
      "칸꼬시.csv 파일이 성공적으로 수정되어 저장되었습니다.\n",
      "커피박스.csv 파일이 성공적으로 수정되어 저장되었습니다.\n",
      "큐뮬러스.csv 파일이 성공적으로 수정되어 저장되었습니다.\n",
      "통돼지두루치기김치찌개전문점.csv 파일이 성공적으로 수정되어 저장되었습니다.\n",
      "파라노이드_강남뱅뱅_카페.csv 파일이 성공적으로 수정되어 저장되었습니다.\n",
      "파리바게뜨_뱅뱅사거리점.csv 파일이 성공적으로 수정되어 저장되었습니다.\n",
      "파스쿠찌_뱅뱅사거리점.csv 파일이 성공적으로 수정되어 저장되었습니다.\n",
      "판문점부대찌개_역삼점.csv 파일이 성공적으로 수정되어 저장되었습니다.\n",
      "한강수.csv 파일이 성공적으로 수정되어 저장되었습니다.\n",
      "해머스미스커피_뱅뱅사거리점.csv 파일이 성공적으로 수정되어 저장되었습니다.\n",
      "회춘식당.csv 파일이 성공적으로 수정되어 저장되었습니다.\n",
      "모든 파일 처리가 완료되었습니다!\n"
     ]
    }
   ],
   "source": [
    "import os\n",
    "import pandas as pd\n",
    "\n",
    "# 원본 파일이 있는 폴더 경로\n",
    "input_folder = r\"C:\\fintech_service\\final_project\\data\\리뷰추출\\업종정보\\수정전\"\n",
    "\n",
    "# 수정된 파일을 저장할 폴더 경로\n",
    "output_folder = r\"C:\\fintech_service\\final_project\\data\\리뷰추출\\업종정보\"\n",
    "\n",
    "# 출력 폴더가 존재하지 않으면 생성\n",
    "if not os.path.exists(output_folder):\n",
    "    os.makedirs(output_folder)\n",
    "\n",
    "# 폴더 내 모든 CSV 파일 확인\n",
    "files = [f for f in os.listdir(input_folder) if f.endswith('.csv')]\n",
    "\n",
    "# 각 파일 처리\n",
    "for file_name in files:\n",
    "    try:\n",
    "        # 원본 파일 경로\n",
    "        file_path = os.path.join(input_folder, file_name)\n",
    "        \n",
    "        # 파일 읽기\n",
    "        df = pd.read_csv(file_path)\n",
    "        \n",
    "        # 별점 컬럼만 \"방문자 리뷰\" 처리\n",
    "        if '별점' in df.columns:\n",
    "            df['별점'] = df['별점'].replace(r'방문자 리뷰 \\d+', '없음', regex=True)\n",
    "        \n",
    "        # 수정된 파일 저장 경로\n",
    "        output_file_path = os.path.join(output_folder, file_name)\n",
    "        \n",
    "        # 수정된 데이터 저장\n",
    "        df.to_csv(output_file_path, index=False)\n",
    "        print(f\"{file_name} 파일이 성공적으로 수정되어 저장되었습니다.\")\n",
    "    \n",
    "    except Exception as e:\n",
    "        print(f\"{file_name} 파일 처리 중 오류 발생: {e}\")\n",
    "\n",
    "print(\"모든 파일 처리가 완료되었습니다!\")\n"
   ]
  },
  {
   "cell_type": "code",
   "execution_count": null,
   "id": "4396b87a-7f11-4ce9-b9ff-fce9b7cd4460",
   "metadata": {},
   "outputs": [],
   "source": []
  },
  {
   "cell_type": "code",
   "execution_count": null,
   "id": "57462bbb-02ca-46f2-b0a8-c0ba39361022",
   "metadata": {},
   "outputs": [],
   "source": []
  },
  {
   "cell_type": "code",
   "execution_count": null,
   "id": "365d66ae-8f07-450f-9c83-210a31c463e3",
   "metadata": {},
   "outputs": [],
   "source": []
  },
  {
   "cell_type": "code",
   "execution_count": null,
   "id": "f4a2c5be-6ef6-4f64-876f-7c1408b939c5",
   "metadata": {},
   "outputs": [],
   "source": []
  },
  {
   "cell_type": "code",
   "execution_count": null,
   "id": "e0121191-585b-43c7-9769-48268b751704",
   "metadata": {},
   "outputs": [],
   "source": []
  }
 ],
 "metadata": {
  "kernelspec": {
   "display_name": "Python 3 (ipykernel)",
   "language": "python",
   "name": "python3"
  },
  "language_info": {
   "codemirror_mode": {
    "name": "ipython",
    "version": 3
   },
   "file_extension": ".py",
   "mimetype": "text/x-python",
   "name": "python",
   "nbconvert_exporter": "python",
   "pygments_lexer": "ipython3",
   "version": "3.10.14"
  }
 },
 "nbformat": 4,
 "nbformat_minor": 5
}
