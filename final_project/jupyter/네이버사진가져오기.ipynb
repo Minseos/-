{
 "cells": [
  {
   "cell_type": "code",
   "execution_count": 7,
   "id": "4d38fe20-05d0-4751-ab80-d7fcc6ce5933",
   "metadata": {},
   "outputs": [
    {
     "name": "stdout",
     "output_type": "stream",
     "text": [
      "가게 이름: 뱅뱅막국수\n",
      "업종 카테고리: 국수\n",
      "별점: 4.69\n",
      "방문자 리뷰: 3,881\n",
      "블로그 리뷰: 1,955\n",
      "사진 탭 클릭 완료\n",
      "사진 로딩 완료\n",
      "사진 1 URL: https://search.pstatic.net/common/?autoRotate=true&type=w560_sharpen&src=https%3A%2F%2Fldb-phinf.pstatic.net%2F20240814_240%2F1723564578931L49UB_JPEG%2FKakaoTalk_20240811_143205935_02.jpg\n",
      "사진 2 URL: https://search.pstatic.net/common/?autoRotate=true&type=w560_sharpen&src=https%3A%2F%2Fldb-phinf.pstatic.net%2F20240814_173%2F17235639811520TGyO_JPEG%2FKakaoTalk_20240813_112241814.jpg\n",
      "사진 3 URL: https://search.pstatic.net/common/?autoRotate=true&type=w560_sharpen&src=https%3A%2F%2Fldb-phinf.pstatic.net%2F20240814_5%2F1723564492502CaLUq_JPEG%2FKakaoTalk_20240813_135430257.jpg\n",
      "사진 4 URL: https://search.pstatic.net/common/?autoRotate=true&type=w560_sharpen&src=https%3A%2F%2Fvideo-phinf.pstatic.net%2F20241104_198%2F1730721926449uwxet_JPEG%2F02oTiI3R0p_03.jpg\n",
      "사진 5 URL: https://pup-review-phinf.pstatic.net/MjAyNDExMDVfMyAg/MDAxNzMwNzgyODczODM2.yUJGMMXSG1ZHH1nkpH7gNRmNbjdOw2GhiuZ8xSiTkBAg.qe8Yr27zWDqZ1g2PNclmLDYX8NeJdFEjJIbWpYCtyOAg.JPEG/7D6DCEBB-35EC-4D49-85DC-BF092A428061.jpeg?type=w560_sharpen\n"
     ]
    }
   ],
   "source": [
    "import re  # 정규 표현식 모듈 추가\n",
    "import pandas as pd  # CSV 저장을 위한 pandas 추가\n",
    "from selenium import webdriver\n",
    "from selenium.webdriver.chrome.service import Service as ChromeService\n",
    "from webdriver_manager.chrome import ChromeDriverManager\n",
    "from selenium.webdriver.common.by import By\n",
    "from selenium.webdriver.support.ui import WebDriverWait\n",
    "from selenium.webdriver.support import expected_conditions as EC\n",
    "from selenium.common.exceptions import NoSuchElementException, ElementClickInterceptedException, TimeoutException, StaleElementReferenceException\n",
    "import time\n",
    "\n",
    "# ChromeDriver 옵션 설정\n",
    "options = webdriver.ChromeOptions()\n",
    "options.add_argument(\"--disable-gpu\")\n",
    "options.add_argument(\"--window-size=1920,1080\")\n",
    "options.add_experimental_option(\"excludeSwitches\", [\"enable-logging\", \"enable-automation\"])\n",
    "options.add_argument(\"--disable-blink-features=AutomationControlled\")\n",
    "\n",
    "# ChromeDriver 초기화\n",
    "driver = webdriver.Chrome(service=ChromeService(ChromeDriverManager().install()), options=options)\n",
    "\n",
    "# 네이버 지도 웹사이트로 이동 (테스트 URL)\n",
    "driver.get('https://map.naver.com/p/search/%EB%B1%85%EB%B1%85%EB%A7%89%EA%B5%AD%EC%88%98/place/33964233?c=15.00,0,0,0,dh&placePath=%3Fentry%253Dbmp')\n",
    "\n",
    "# 페이지 로드 대기\n",
    "WebDriverWait(driver, 15).until(EC.presence_of_element_located((By.ID, \"entryIframe\")))\n",
    "\n",
    "try:\n",
    "    # entryIframe이 로드될 때까지 대기 후 전환\n",
    "    WebDriverWait(driver, 10).until(EC.frame_to_be_available_and_switch_to_it((By.ID, \"entryIframe\")))\n",
    "\n",
    "    # 가게 정보 가져오기\n",
    "    store_name_element = WebDriverWait(driver, 15).until(\n",
    "        EC.presence_of_element_located((By.XPATH, \"//*[@id='_title']/div/span[1]\"))\n",
    "    )\n",
    "    store_name = store_name_element.text\n",
    "\n",
    "    # 업종 카테고리 가져오기\n",
    "    category_element = WebDriverWait(driver, 15).until(\n",
    "        EC.presence_of_element_located((By.XPATH, \"//*[@id='_title']/div/span[2]\"))\n",
    "    )\n",
    "    category = category_element.text\n",
    "\n",
    "    # 별점 가져오기 (부모 요소의 텍스트 가져오기)\n",
    "    rating_element = WebDriverWait(driver, 15).until(\n",
    "        EC.presence_of_element_located((By.XPATH, \"/html/body/div[3]/div/div/div/div[2]/div[1]/div[2]/span[1]\"))\n",
    "    )\n",
    "    rating_text = rating_element.text\n",
    "    rating = rating_text.replace(\"별점\", \"\").strip()\n",
    "\n",
    "    # 방문자 리뷰 가져오기\n",
    "    visitor_review_element = WebDriverWait(driver, 15).until(\n",
    "        EC.presence_of_element_located((By.XPATH, \"//*[@id='app-root']/div/div/div/div[2]/div[1]/div[2]/span[2]/a\"))\n",
    "    )\n",
    "    visitor_review = visitor_review_element.text.split(\"리뷰\")[1].strip()\n",
    "\n",
    "    # 블로그 리뷰 가져오기\n",
    "    blog_review_element = WebDriverWait(driver, 15).until(\n",
    "        EC.presence_of_element_located((By.XPATH, \"//*[@id='app-root']/div/div/div/div[2]/div[1]/div[2]/span[3]/a\"))\n",
    "    )\n",
    "    blog_review = blog_review_element.text.split(\"리뷰\")[1].strip()\n",
    "\n",
    "    # 결과 출력\n",
    "    print(\"가게 이름:\", store_name)\n",
    "    print(\"업종 카테고리:\", category)\n",
    "    print(\"별점:\", rating)\n",
    "    print(\"방문자 리뷰:\", visitor_review)\n",
    "    print(\"블로그 리뷰:\", blog_review)\n",
    "\n",
    "    # '사진' 탭 클릭\n",
    "    review_tab_element = WebDriverWait(driver, 15).until(\n",
    "        EC.element_to_be_clickable((By.XPATH, \"//span[text()='사진']\"))\n",
    "    )\n",
    "    review_tab_element.click()\n",
    "    print(\"사진 탭 클릭 완료\")\n",
    "    \n",
    "    # 사진이 로딩될 때까지 대기\n",
    "    WebDriverWait(driver, 10).until(\n",
    "        EC.presence_of_all_elements_located((By.CLASS_NAME, \"wzrbN\"))\n",
    "    )\n",
    "    print(\"사진 로딩 완료\")\n",
    "    \n",
    "    # 다섯 개의 사진 URL 가져오기\n",
    "    photo_elements = driver.find_elements(By.CLASS_NAME, \"wzrbN\")[:5]\n",
    "    photo_urls = [photo.find_element(By.TAG_NAME, \"img\").get_attribute(\"src\") for photo in photo_elements]\n",
    "    \n",
    "    # 결과 출력\n",
    "    for i, url in enumerate(photo_urls, 1):\n",
    "        print(f\"사진 {i} URL:\", url)\n",
    "\n",
    "except Exception as e:\n",
    "    print(\"오류 발생:\", e)\n",
    "# finally:\n",
    "#     # 드라이버 닫기\n",
    "#     driver.quit()\n"
   ]
  },
  {
   "cell_type": "code",
   "execution_count": null,
   "id": "7d4b5231-e356-4c41-a821-355f16074efd",
   "metadata": {},
   "outputs": [],
   "source": []
  },
  {
   "cell_type": "code",
   "execution_count": 17,
   "id": "7e2e7fd7-4924-4781-b63e-e6622dd5ba30",
   "metadata": {
    "scrolled": true
   },
   "outputs": [
    {
     "name": "stdout",
     "output_type": "stream",
     "text": [
      "사진 탭 클릭 완료\n",
      "사진 로딩 완료\n",
      "사진 1 URL: https://search.pstatic.net/common/?autoRotate=true&type=w560_sharpen&src=https%3A%2F%2Fldb-phinf.pstatic.net%2F20240814_240%2F1723564578931L49UB_JPEG%2FKakaoTalk_20240811_143205935_02.jpg\n",
      "사진 2 URL: https://search.pstatic.net/common/?autoRotate=true&type=w560_sharpen&src=https%3A%2F%2Fldb-phinf.pstatic.net%2F20240814_173%2F17235639811520TGyO_JPEG%2FKakaoTalk_20240813_112241814.jpg\n",
      "사진 3 URL: https://search.pstatic.net/common/?autoRotate=true&type=w560_sharpen&src=https%3A%2F%2Fldb-phinf.pstatic.net%2F20240814_5%2F1723564492502CaLUq_JPEG%2FKakaoTalk_20240813_135430257.jpg\n",
      "사진 4 URL: https://search.pstatic.net/common/?autoRotate=true&type=w560_sharpen&src=https%3A%2F%2Fvideo-phinf.pstatic.net%2F20241104_198%2F1730721926449uwxet_JPEG%2F02oTiI3R0p_03.jpg\n",
      "사진 5 URL: https://pup-review-phinf.pstatic.net/MjAyNDExMDVfMyAg/MDAxNzMwNzgyODczODM2.yUJGMMXSG1ZHH1nkpH7gNRmNbjdOw2GhiuZ8xSiTkBAg.qe8Yr27zWDqZ1g2PNclmLDYX8NeJdFEjJIbWpYCtyOAg.JPEG/7D6DCEBB-35EC-4D49-85DC-BF092A428061.jpeg?type=w560_sharpen\n",
      "이미지 1 표시 중...\n"
     ]
    },
    {
     "data": {
      "text/html": [
       "<img src=\"https://search.pstatic.net/common/?autoRotate=true&type=w560_sharpen&src=https%3A%2F%2Fldb-phinf.pstatic.net%2F20240814_240%2F1723564578931L49UB_JPEG%2FKakaoTalk_20240811_143205935_02.jpg\"/>"
      ],
      "text/plain": [
       "<IPython.core.display.Image object>"
      ]
     },
     "metadata": {},
     "output_type": "display_data"
    },
    {
     "name": "stdout",
     "output_type": "stream",
     "text": [
      "이미지 2 표시 중...\n"
     ]
    },
    {
     "data": {
      "text/html": [
       "<img src=\"https://search.pstatic.net/common/?autoRotate=true&type=w560_sharpen&src=https%3A%2F%2Fldb-phinf.pstatic.net%2F20240814_173%2F17235639811520TGyO_JPEG%2FKakaoTalk_20240813_112241814.jpg\"/>"
      ],
      "text/plain": [
       "<IPython.core.display.Image object>"
      ]
     },
     "metadata": {},
     "output_type": "display_data"
    },
    {
     "name": "stdout",
     "output_type": "stream",
     "text": [
      "이미지 3 표시 중...\n"
     ]
    },
    {
     "data": {
      "text/html": [
       "<img src=\"https://search.pstatic.net/common/?autoRotate=true&type=w560_sharpen&src=https%3A%2F%2Fldb-phinf.pstatic.net%2F20240814_5%2F1723564492502CaLUq_JPEG%2FKakaoTalk_20240813_135430257.jpg\"/>"
      ],
      "text/plain": [
       "<IPython.core.display.Image object>"
      ]
     },
     "metadata": {},
     "output_type": "display_data"
    },
    {
     "name": "stdout",
     "output_type": "stream",
     "text": [
      "이미지 4 표시 중...\n"
     ]
    },
    {
     "data": {
      "text/html": [
       "<img src=\"https://search.pstatic.net/common/?autoRotate=true&type=w560_sharpen&src=https%3A%2F%2Fvideo-phinf.pstatic.net%2F20241104_198%2F1730721926449uwxet_JPEG%2F02oTiI3R0p_03.jpg\"/>"
      ],
      "text/plain": [
       "<IPython.core.display.Image object>"
      ]
     },
     "metadata": {},
     "output_type": "display_data"
    },
    {
     "name": "stdout",
     "output_type": "stream",
     "text": [
      "이미지 5 표시 중...\n"
     ]
    },
    {
     "data": {
      "text/html": [
       "<img src=\"https://pup-review-phinf.pstatic.net/MjAyNDExMDVfMyAg/MDAxNzMwNzgyODczODM2.yUJGMMXSG1ZHH1nkpH7gNRmNbjdOw2GhiuZ8xSiTkBAg.qe8Yr27zWDqZ1g2PNclmLDYX8NeJdFEjJIbWpYCtyOAg.JPEG/7D6DCEBB-35EC-4D49-85DC-BF092A428061.jpeg?type=w560_sharpen\"/>"
      ],
      "text/plain": [
       "<IPython.core.display.Image object>"
      ]
     },
     "metadata": {},
     "output_type": "display_data"
    }
   ],
   "source": [
    "import re\n",
    "import pandas as pd\n",
    "from IPython.display import Image, display\n",
    "from selenium import webdriver\n",
    "from selenium.webdriver.chrome.service import Service as ChromeService\n",
    "from webdriver_manager.chrome import ChromeDriverManager\n",
    "from selenium.webdriver.common.by import By\n",
    "from selenium.webdriver.support.ui import WebDriverWait\n",
    "from selenium.webdriver.support import expected_conditions as EC\n",
    "import time\n",
    "\n",
    "# ChromeDriver 옵션 설정\n",
    "options = webdriver.ChromeOptions()\n",
    "options.add_argument(\"--disable-gpu\")\n",
    "options.add_argument(\"--window-size=1920,1080\")\n",
    "options.add_experimental_option(\"excludeSwitches\", [\"enable-logging\", \"enable-automation\"])\n",
    "options.add_argument(\"--disable-blink-features=AutomationControlled\")\n",
    "\n",
    "# ChromeDriver 초기화\n",
    "driver = webdriver.Chrome(service=ChromeService(ChromeDriverManager().install()), options=options)\n",
    "\n",
    "# 네이버 지도 웹사이트로 이동\n",
    "driver.get('https://map.naver.com/p/search/%EB%B1%85%EB%B1%85%EB%A7%89%EA%B5%AD%EC%88%98/place/33964233?c=15.00,0,0,0,dh&placePath=%3Fentry%253Dbmp')\n",
    "\n",
    "# 페이지 로드 대기\n",
    "WebDriverWait(driver, 15).until(EC.presence_of_element_located((By.ID, \"entryIframe\")))\n",
    "\n",
    "try:\n",
    "    # entryIframe이 로드될 때까지 대기 후 전환\n",
    "    WebDriverWait(driver, 10).until(EC.frame_to_be_available_and_switch_to_it((By.ID, \"entryIframe\")))\n",
    "\n",
    "    # '사진' 탭 클릭\n",
    "    review_tab_element = WebDriverWait(driver, 15).until(\n",
    "        EC.element_to_be_clickable((By.XPATH, \"//span[text()='사진']\"))\n",
    "    )\n",
    "    review_tab_element.click()\n",
    "    print(\"사진 탭 클릭 완료\")\n",
    "    \n",
    "    # 사진이 로딩될 때까지 대기\n",
    "    WebDriverWait(driver, 10).until(\n",
    "        EC.presence_of_all_elements_located((By.CLASS_NAME, \"wzrbN\"))\n",
    "    )\n",
    "    print(\"사진 로딩 완료\")\n",
    "    \n",
    "    # 다섯 개의 사진 URL 가져오기\n",
    "    photo_elements = driver.find_elements(By.CLASS_NAME, \"wzrbN\")[:5]\n",
    "    photo_urls = [photo.find_element(By.TAG_NAME, \"img\").get_attribute(\"src\") for photo in photo_elements]\n",
    "    \n",
    "    # URL 5개 확인\n",
    "    for i, url in enumerate(photo_urls, 1):\n",
    "        print(f\"사진 {i} URL:\", url)\n",
    "\n",
    "    # Jupyter Notebook에서 이미지를 표시\n",
    "    for i, url in enumerate(photo_urls, 1):\n",
    "        print(f\"이미지 {i} 표시 중...\")\n",
    "        display(Image(url=url))\n",
    "        time.sleep(1)  # 각 이미지 표시 후 1초 대기\n",
    "\n",
    "except Exception as e:\n",
    "    print(\"오류 발생:\", e)\n",
    "\n",
    "finally:\n",
    "    # 드라이버 닫기\n",
    "    driver.quit()\n",
    "\n"
   ]
  },
  {
   "cell_type": "code",
   "execution_count": null,
   "id": "a89560cc-8d23-4733-84ed-a22202e8062a",
   "metadata": {},
   "outputs": [],
   "source": []
  },
  {
   "cell_type": "code",
   "execution_count": null,
   "id": "51f37dbe-a840-4f0c-b839-0e1a6d186808",
   "metadata": {},
   "outputs": [],
   "source": []
  },
  {
   "cell_type": "code",
   "execution_count": null,
   "id": "e2b41c78-052c-4179-b0e8-26ef8777ae76",
   "metadata": {},
   "outputs": [],
   "source": []
  }
 ],
 "metadata": {
  "kernelspec": {
   "display_name": "Python 3 (ipykernel)",
   "language": "python",
   "name": "python3"
  },
  "language_info": {
   "codemirror_mode": {
    "name": "ipython",
    "version": 3
   },
   "file_extension": ".py",
   "mimetype": "text/x-python",
   "name": "python",
   "nbconvert_exporter": "python",
   "pygments_lexer": "ipython3",
   "version": "3.10.15"
  }
 },
 "nbformat": 4,
 "nbformat_minor": 5
}
