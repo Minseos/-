{
 "cells": [
  {
   "cell_type": "code",
   "execution_count": 2,
   "id": "c99d4954-8ea8-4fa8-9f35-ed26aacfb1c5",
   "metadata": {},
   "outputs": [],
   "source": [
    "import pandas as pd\n",
    "import numpy as np\n",
    "import os"
   ]
  },
  {
   "cell_type": "code",
   "execution_count": 1,
   "id": "55c22ee3-d828-4fde-8245-32b6c01b44cd",
   "metadata": {},
   "outputs": [
    {
     "name": "stdout",
     "output_type": "stream",
     "text": [
      "병합 완료! 병합된 파일 저장 위치: C:\\fintech_service\\final_project\\data\\리뷰추출\\merged_reviews2.csv\n"
     ]
    }
   ],
   "source": [
    "import os\n",
    "import pandas as pd\n",
    "\n",
    "# 대상 폴더들\n",
    "base_dir = r\"C:\\fintech_service\\final_project\\data\\리뷰추출\"\n",
    "folders = [\"구글재분석3\", \"네이버최종\", \"카카오재분석3\"]\n",
    "\n",
    "# 병합 결과 저장할 리스트\n",
    "all_data = []\n",
    "\n",
    "for folder in folders:\n",
    "    folder_path = os.path.join(base_dir, folder)\n",
    "    # 폴더 내 CSV 파일 찾기\n",
    "    for file_name in os.listdir(folder_path):\n",
    "        if file_name.endswith('.csv'):\n",
    "            file_path = os.path.join(folder_path, file_name)\n",
    "            # CSV 읽기\n",
    "            df = pd.read_csv(file_path)\n",
    "            # 각 데이터에 원본 폴더명 추가 (구분 용도)\n",
    "            df['출처'] = folder\n",
    "            # 파일 이름에서 가게 이름 추출 (예: \"store1.csv\"에서 \"store1\")\n",
    "            store_name = os.path.splitext(file_name)[0]\n",
    "            df['가게이름'] = store_name\n",
    "            # 병합 리스트에 추가\n",
    "            all_data.append(df)\n",
    "\n",
    "# 모든 데이터 병합\n",
    "merged_data = pd.concat(all_data, ignore_index=True)\n",
    "\n",
    "# 병합된 결과 저장\n",
    "output_file = os.path.join(base_dir, \"merged_reviews2.csv\")\n",
    "merged_data.to_csv(output_file, index=False, encoding='utf-8-sig')\n",
    "\n",
    "print(f\"병합 완료! 병합된 파일 저장 위치: {output_file}\")\n"
   ]
  },
  {
   "cell_type": "code",
   "execution_count": null,
   "id": "0bac9828-030d-4b4c-a41c-cc3b5ea1e215",
   "metadata": {},
   "outputs": [],
   "source": []
  },
  {
   "cell_type": "code",
   "execution_count": 2,
   "id": "fcc258d0-e567-45da-ab14-1e469095010e",
   "metadata": {},
   "outputs": [
    {
     "name": "stdout",
     "output_type": "stream",
     "text": [
      "병합 완료! 병합된 파일 저장 위치: C:\\fintech_service\\final_project\\data\\리뷰추출\\merged_reviews3.csv\n"
     ]
    }
   ],
   "source": [
    "import os\n",
    "import pandas as pd\n",
    "\n",
    "# 대상 폴더들\n",
    "base_dir = r\"C:\\fintech_service\\final_project\\data\\리뷰추출\"\n",
    "folders = [\"구글최종전\", \"네이버최종전\", \"카카오최종전\"]\n",
    "\n",
    "# 병합 결과 저장할 리스트\n",
    "all_data = []\n",
    "\n",
    "for folder in folders:\n",
    "    folder_path = os.path.join(base_dir, folder)\n",
    "    # 폴더 내 CSV 파일 찾기\n",
    "    for file_name in os.listdir(folder_path):\n",
    "        if file_name.endswith('.csv'):\n",
    "            file_path = os.path.join(folder_path, file_name)\n",
    "            # CSV 읽기\n",
    "            df = pd.read_csv(file_path)\n",
    "            # 각 데이터에 원본 폴더명 추가 (구분 용도)\n",
    "            df['출처'] = folder\n",
    "            # 파일 이름에서 가게 이름 추출 (예: \"store1.csv\"에서 \"store1\")\n",
    "            store_name = os.path.splitext(file_name)[0]\n",
    "            df['가게이름'] = store_name\n",
    "            # 병합 리스트에 추가\n",
    "            all_data.append(df)\n",
    "\n",
    "# 모든 데이터 병합\n",
    "merged_data = pd.concat(all_data, ignore_index=True)\n",
    "\n",
    "# 병합된 결과 저장\n",
    "output_file = os.path.join(base_dir, \"merged_reviews3.csv\")\n",
    "merged_data.to_csv(output_file, index=False, encoding='utf-8-sig')\n",
    "\n",
    "print(f\"병합 완료! 병합된 파일 저장 위치: {output_file}\")\n"
   ]
  },
  {
   "cell_type": "code",
   "execution_count": null,
   "id": "c2dee623-feaa-4d69-a70f-bc7a633fda2d",
   "metadata": {},
   "outputs": [],
   "source": []
  },
  {
   "cell_type": "code",
   "execution_count": null,
   "id": "9d6b8b3c-dc9c-4e98-be81-0213ba10cc2f",
   "metadata": {},
   "outputs": [],
   "source": []
  },
  {
   "cell_type": "code",
   "execution_count": 4,
   "id": "46659735-6824-4a65-bee3-bd7407447238",
   "metadata": {},
   "outputs": [],
   "source": [
    "data = pd.read_csv('./data/리뷰추출/merged_reviews.csv')"
   ]
  },
  {
   "cell_type": "code",
   "execution_count": 6,
   "id": "bf9b1289-414f-4a75-9625-e2ad33750ce5",
   "metadata": {},
   "outputs": [
    {
     "data": {
      "text/plain": [
       "Date          0\n",
       "Review        0\n",
       "sentiment     0\n",
       "Sentiment2    0\n",
       "출처            0\n",
       "dtype: int64"
      ]
     },
     "execution_count": 6,
     "metadata": {},
     "output_type": "execute_result"
    }
   ],
   "source": [
    "data.isna().sum()"
   ]
  },
  {
   "cell_type": "code",
   "execution_count": null,
   "id": "f214a87c-ce32-49f5-b83c-a21fb6f973e4",
   "metadata": {},
   "outputs": [],
   "source": []
  },
  {
   "cell_type": "code",
   "execution_count": null,
   "id": "55f26ea2-5775-449d-a85e-9592aec69d3b",
   "metadata": {},
   "outputs": [],
   "source": []
  }
 ],
 "metadata": {
  "kernelspec": {
   "display_name": "Python 3 (ipykernel)",
   "language": "python",
   "name": "python3"
  },
  "language_info": {
   "codemirror_mode": {
    "name": "ipython",
    "version": 3
   },
   "file_extension": ".py",
   "mimetype": "text/x-python",
   "name": "python",
   "nbconvert_exporter": "python",
   "pygments_lexer": "ipython3",
   "version": "3.10.14"
  }
 },
 "nbformat": 4,
 "nbformat_minor": 5
}
