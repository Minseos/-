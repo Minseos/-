{
 "cells": [
  {
   "cell_type": "markdown",
   "metadata": {
    "id": "ppN-Gs56nkcC"
   },
   "source": [
    "# 1. 두 개의 숫자를 입력받아 합/차/곱/나눗셈을 출력하는 calculation 함수를 작성하라."
   ]
  },
  {
   "cell_type": "markdown",
   "metadata": {
    "id": "QokrCbXMn4gc"
   },
   "source": [
    "\n",
    "\n",
    "```\n",
    "calculation(3, 4)\n",
    "```\n",
    "\n"
   ]
  },
  {
   "cell_type": "markdown",
   "metadata": {
    "id": "ZXRrtm1rn6w7"
   },
   "source": [
    "\n",
    "\n",
    "```\n",
    "3 + 4 = 7\n",
    "3 - 4 = -1\n",
    "3 * 4 = 12\n",
    "3 / 4 = 0.75\n",
    "```\n",
    "\n"
   ]
  },
  {
   "cell_type": "code",
   "execution_count": 4,
   "metadata": {
    "id": "WbA2QsQepiQw"
   },
   "outputs": [],
   "source": [
    "def calculation(num1, num2):\n",
    "    print(num1, \"+\", num2, \"= \",num1 + num2)\n",
    "    print(num1, \"-\", num2, \"= \",num1 - num2)\n",
    "    print(num1, \"*\", num2, \"= \",num1 * num2)\n",
    "    print(num1, \"/\", num2, \"= \",num1 / num2)"
   ]
  },
  {
   "cell_type": "code",
   "execution_count": 5,
   "metadata": {},
   "outputs": [
    {
     "name": "stdout",
     "output_type": "stream",
     "text": [
      "3 + 4 =  7\n",
      "3 - 4 =  -1\n",
      "3 * 4 =  12\n",
      "3 / 4 =  0.75\n"
     ]
    }
   ],
   "source": [
    "calculation(3,4)"
   ]
  },
  {
   "cell_type": "markdown",
   "metadata": {
    "id": "iDUgQgVcog56"
   },
   "source": [
    "# 2. 입력된 문자열을 역순으로 출력하는 print_reverse 함수를 정의하라."
   ]
  },
  {
   "cell_type": "markdown",
   "metadata": {
    "id": "dTxuwuCEomuW"
   },
   "source": [
    "\n",
    "\n",
    "```\n",
    "print_reverse(\"Hello, World!\")\n",
    "```\n",
    "\n"
   ]
  },
  {
   "cell_type": "markdown",
   "metadata": {
    "id": "uAhNvgfQpYuG"
   },
   "source": [
    "```\n",
    "!dlroW ,olleH\n",
    "```"
   ]
  },
  {
   "cell_type": "code",
   "execution_count": 11,
   "metadata": {
    "id": "zULn4y9dpkn9"
   },
   "outputs": [],
   "source": [
    "def print_reverse(s):\n",
    "    print((s)[::-1])"
   ]
  },
  {
   "cell_type": "code",
   "execution_count": 12,
   "metadata": {},
   "outputs": [
    {
     "name": "stdout",
     "output_type": "stream",
     "text": [
      "dlrow olleH\n"
     ]
    }
   ],
   "source": [
    "print_reverse(\"Hello world\")"
   ]
  },
  {
   "cell_type": "markdown",
   "metadata": {
    "id": "h3GaAX1WplQI"
   },
   "source": [
    "# 3. 하나의 리스트를 입력받아 짝수만 화면에 출력하는 print_even 함수를 정의하라."
   ]
  },
  {
   "cell_type": "markdown",
   "metadata": {
    "id": "R-lTq_Hvpviw"
   },
   "source": [
    "\n",
    "\n",
    "```\n",
    "print_even ([1, 3, 2, 10, 12, 11, 15])\n",
    "```\n",
    "\n"
   ]
  },
  {
   "cell_type": "markdown",
   "metadata": {
    "id": "a54qrIi0p1Qe"
   },
   "source": [
    "\n",
    "\n",
    "```\n",
    "2\n",
    "10\n",
    "12\n",
    "```\n",
    "\n"
   ]
  },
  {
   "cell_type": "code",
   "execution_count": 13,
   "metadata": {
    "id": "3uL-WRiVpvAU"
   },
   "outputs": [],
   "source": [
    "def print_even(l):\n",
    "    for i in l:\n",
    "        if i % 2 ==0:\n",
    "            print(i)"
   ]
  },
  {
   "cell_type": "code",
   "execution_count": 14,
   "metadata": {},
   "outputs": [
    {
     "name": "stdout",
     "output_type": "stream",
     "text": [
      "2\n",
      "10\n",
      "12\n"
     ]
    }
   ],
   "source": [
    "print_even ([1, 3, 2, 10, 12, 11, 15])"
   ]
  },
  {
   "cell_type": "code",
   "execution_count": null,
   "metadata": {},
   "outputs": [],
   "source": []
  },
  {
   "cell_type": "markdown",
   "metadata": {
    "id": "ju7BlNETp_jy"
   },
   "source": [
    "# 4. 하나의 딕셔너리를 입력받아 딕셔너리의 key 값을 화면에 출력하는 print_keys 함수를 정의하라."
   ]
  },
  {
   "cell_type": "markdown",
   "metadata": {
    "id": "PVkob9cAqC_Y"
   },
   "source": [
    "\n",
    "\n",
    "```\n",
    "print_keys ({\"이름\":\"김말똥\", \"나이\":30, \"성별\":0})\n",
    "```\n",
    "\n"
   ]
  },
  {
   "cell_type": "markdown",
   "metadata": {
    "id": "LbCbcQdSqJIm"
   },
   "source": [
    "\n",
    "\n",
    "```\n",
    "이름\n",
    "나이\n",
    "성별\n",
    "```\n",
    "\n"
   ]
  },
  {
   "cell_type": "code",
   "execution_count": 22,
   "metadata": {
    "id": "8Wn9Nxu6qB9u"
   },
   "outputs": [],
   "source": [
    "def print_keys(d):\n",
    "    for i in d:\n",
    "        print(i)"
   ]
  },
  {
   "cell_type": "code",
   "execution_count": 23,
   "metadata": {},
   "outputs": [
    {
     "name": "stdout",
     "output_type": "stream",
     "text": [
      "이름\n",
      "나이\n",
      "성별\n"
     ]
    }
   ],
   "source": [
    "print_keys ({\"이름\":\"김말똥\", \"나이\":30, \"성별\":0})"
   ]
  },
  {
   "cell_type": "markdown",
   "metadata": {
    "id": "bbbIucNnqfUW"
   },
   "source": [
    "# 5. 문자열 하나를 입력받아 인터넷 주소를 반환하는 make_url 함수를 정의하라."
   ]
  },
  {
   "cell_type": "markdown",
   "metadata": {
    "id": "TtQ7E-CVqhZ2"
   },
   "source": [
    "\n",
    "\n",
    "```\n",
    "make_url(\"naver\")\n",
    "```\n",
    "\n"
   ]
  },
  {
   "cell_type": "markdown",
   "metadata": {
    "id": "6GxmZZKjqk5Z"
   },
   "source": [
    "\n",
    "\n",
    "```\n",
    "www.naver.com\n",
    "```\n",
    "\n"
   ]
  },
  {
   "cell_type": "code",
   "execution_count": 40,
   "metadata": {
    "id": "bsAdEYBeqpBz"
   },
   "outputs": [],
   "source": [
    "def make_url(s):\n",
    "    print(\"www.\",s,\".com\")"
   ]
  },
  {
   "cell_type": "code",
   "execution_count": 41,
   "metadata": {},
   "outputs": [
    {
     "name": "stdout",
     "output_type": "stream",
     "text": [
      "www. naver .com\n"
     ]
    }
   ],
   "source": [
    "make_url(\"naver\")"
   ]
  },
  {
   "cell_type": "markdown",
   "metadata": {
    "id": "mcVKGc-cqqCs"
   },
   "source": [
    "# 6. 숫자로 구성된 하나의 리스트를 입력받아, 짝수들을 추출하여 리스트로 반환하는 pickup_even 함수를 구현하라."
   ]
  },
  {
   "cell_type": "markdown",
   "metadata": {
    "id": "wMr9QjeBq0rB"
   },
   "source": [
    "\n",
    "\n",
    "```\n",
    "pickup_even([3, 4, 5, 6, 7, 8])\n",
    "```\n",
    "\n"
   ]
  },
  {
   "cell_type": "markdown",
   "metadata": {
    "id": "k79JZkbrq5OZ"
   },
   "source": [
    "\n",
    "\n",
    "```\n",
    "[4, 6, 8]\n",
    "```\n",
    "\n"
   ]
  },
  {
   "cell_type": "code",
   "execution_count": 28,
   "metadata": {
    "id": "4_jp8Lf0q9hX"
   },
   "outputs": [],
   "source": [
    "def pickup_even(l):\n",
    "    list2 = []\n",
    "    for i in l:\n",
    "        if i % 2 == 0:\n",
    "            list2.append(i)\n",
    "    print(list2)"
   ]
  },
  {
   "cell_type": "code",
   "execution_count": 29,
   "metadata": {},
   "outputs": [
    {
     "name": "stdout",
     "output_type": "stream",
     "text": [
      "[4, 6, 8]\n"
     ]
    }
   ],
   "source": [
    "pickup_even([3, 4, 5, 6, 7, 8])"
   ]
  },
  {
   "cell_type": "markdown",
   "metadata": {
    "id": "mFk45uEMq862"
   },
   "source": [
    "# 7. 콤마가 포함된 문자열 숫자를 입력받아 정수로 변환하는 convert_int 함수를 정의하라."
   ]
  },
  {
   "cell_type": "markdown",
   "metadata": {
    "id": "T36V4eJPrU_G"
   },
   "source": [
    "\n",
    "\n",
    "```\n",
    "convert_int(\"1,234,567\")\n",
    "```\n",
    "\n"
   ]
  },
  {
   "cell_type": "markdown",
   "metadata": {
    "id": "tTpbyvr5rX_e"
   },
   "source": [
    "\n",
    "\n",
    "```\n",
    "1234567\n",
    "```\n",
    "\n"
   ]
  },
  {
   "cell_type": "code",
   "execution_count": 42,
   "metadata": {
    "id": "bkUDdLQXrZ3m"
   },
   "outputs": [],
   "source": [
    "def convert_int(s):\n",
    "    print(int(s.replace(\",\",  \"\")))"
   ]
  },
  {
   "cell_type": "code",
   "execution_count": 43,
   "metadata": {},
   "outputs": [
    {
     "name": "stdout",
     "output_type": "stream",
     "text": [
      "1234567\n"
     ]
    }
   ],
   "source": [
    "convert_int(\"1,234,567\")"
   ]
  },
  {
   "cell_type": "code",
   "execution_count": null,
   "metadata": {},
   "outputs": [],
   "source": []
  },
  {
   "cell_type": "code",
   "execution_count": null,
   "metadata": {},
   "outputs": [],
   "source": []
  },
  {
   "cell_type": "code",
   "execution_count": null,
   "metadata": {},
   "outputs": [],
   "source": []
  }
 ],
 "metadata": {
  "colab": {
   "authorship_tag": "ABX9TyO3/xyE/j2nyq4gutbzgbkd",
   "collapsed_sections": [],
   "provenance": []
  },
  "kernelspec": {
   "display_name": "Python 3 (ipykernel)",
   "language": "python",
   "name": "python3"
  },
  "language_info": {
   "codemirror_mode": {
    "name": "ipython",
    "version": 3
   },
   "file_extension": ".py",
   "mimetype": "text/x-python",
   "name": "python",
   "nbconvert_exporter": "python",
   "pygments_lexer": "ipython3",
   "version": "3.10.14"
  }
 },
 "nbformat": 4,
 "nbformat_minor": 4
}
