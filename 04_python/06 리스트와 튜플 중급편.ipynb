{
 "cells": [
  {
   "cell_type": "markdown",
   "id": "f7db74bf-582b-450e-8b77-359aebde3af5",
   "metadata": {},
   "source": [
    "## 리스트와 튜플 중급편, 시퀀스 자료형 사용하기\n",
    "* 리스트와 튜플, 문자열의 공통점은 연속된 값이 들어있다는 점\n",
    "* 이런 연속적인 자료형을 시퀀스(Sequence) 자료형이라고 한다.\n",
    "* 모두 순서가 있고, 인덱스 번호가 부여되며, 인덱싱, 슬라이싱이 가능하다.\n",
    "* 반복문에 시퀀스 자료형을 그대로 넣어서 반복시키는 것이 가능하다."
   ]
  },
  {
   "cell_type": "markdown",
   "id": "f731cd87-aabf-4c88-87bc-cce0db73bd79",
   "metadata": {},
   "source": [
    "## 1. 특정 값이 있는지 확인하기\n",
    "* 값 in 시퀀스 객체\n",
    "* 값 not in 시퀀스 객체"
   ]
  },
  {
   "cell_type": "code",
   "execution_count": 1,
   "id": "24c9359a-08b4-4cc2-86af-251301e89064",
   "metadata": {},
   "outputs": [
    {
     "data": {
      "text/plain": [
       "[0, 10, 20, 30, 40, 50, 60, 70, 80, 90]"
      ]
     },
     "execution_count": 1,
     "metadata": {},
     "output_type": "execute_result"
    }
   ],
   "source": [
    "a = [0, 10, 20, 30, 40, 50, 60, 70, 80, 90]\n",
    "a"
   ]
  },
  {
   "cell_type": "code",
   "execution_count": 2,
   "id": "3e440da2-5468-4c7d-ab63-22102a1516b0",
   "metadata": {},
   "outputs": [
    {
     "data": {
      "text/plain": [
       "True"
      ]
     },
     "execution_count": 2,
     "metadata": {},
     "output_type": "execute_result"
    }
   ],
   "source": [
    "30 in a"
   ]
  },
  {
   "cell_type": "code",
   "execution_count": 3,
   "id": "1e5a2f7b-bff2-4369-8f40-177fcb1c3889",
   "metadata": {},
   "outputs": [
    {
     "data": {
      "text/plain": [
       "False"
      ]
     },
     "execution_count": 3,
     "metadata": {},
     "output_type": "execute_result"
    }
   ],
   "source": [
    "100 in a"
   ]
  },
  {
   "cell_type": "code",
   "execution_count": 4,
   "id": "c46d4496-53dd-489e-ba6a-0cae39cadad9",
   "metadata": {},
   "outputs": [
    {
     "data": {
      "text/plain": [
       "(0, 10, 20, 30, 40, 50, 60, 70, 80, 90)"
      ]
     },
     "execution_count": 4,
     "metadata": {},
     "output_type": "execute_result"
    }
   ],
   "source": [
    "b = tuple(a)\n",
    "b"
   ]
  },
  {
   "cell_type": "code",
   "execution_count": 5,
   "id": "f2d21a76-174c-4108-bdc7-1ffe069fa0ae",
   "metadata": {},
   "outputs": [
    {
     "data": {
      "text/plain": [
       "True"
      ]
     },
     "execution_count": 5,
     "metadata": {},
     "output_type": "execute_result"
    }
   ],
   "source": [
    "50 in b"
   ]
  },
  {
   "cell_type": "code",
   "execution_count": 6,
   "id": "1ecf2d35-56e1-4f04-904b-185be7c7f2f6",
   "metadata": {},
   "outputs": [
    {
     "data": {
      "text/plain": [
       "'python is easier than other languages'"
      ]
     },
     "execution_count": 6,
     "metadata": {},
     "output_type": "execute_result"
    }
   ],
   "source": [
    "s = 'python is easier than other languages'\n",
    "s"
   ]
  },
  {
   "cell_type": "code",
   "execution_count": 7,
   "id": "0a9867f0-8f49-40dc-a1f5-7747c1ff36cf",
   "metadata": {},
   "outputs": [
    {
     "data": {
      "text/plain": [
       "True"
      ]
     },
     "execution_count": 7,
     "metadata": {},
     "output_type": "execute_result"
    }
   ],
   "source": [
    "'other' in s"
   ]
  },
  {
   "cell_type": "code",
   "execution_count": 8,
   "id": "eb43d007-b047-44c6-b225-fa19d38a257d",
   "metadata": {},
   "outputs": [
    {
     "data": {
      "text/plain": [
       "True"
      ]
     },
     "execution_count": 8,
     "metadata": {},
     "output_type": "execute_result"
    }
   ],
   "source": [
    "'java' not in s"
   ]
  },
  {
   "cell_type": "code",
   "execution_count": null,
   "id": "6d1da312-5b8a-4c0d-bc6e-3ba36598eb62",
   "metadata": {},
   "outputs": [],
   "source": []
  },
  {
   "cell_type": "markdown",
   "id": "37c47a81-9dc2-4b87-8be1-1d65c09f8972",
   "metadata": {},
   "source": [
    "## 2. 시퀀스 객체 연결하기 + 연산자 사용"
   ]
  },
  {
   "cell_type": "code",
   "execution_count": 9,
   "id": "5597cada-2a7c-4591-903b-ea8fdb5a3302",
   "metadata": {},
   "outputs": [
    {
     "name": "stdout",
     "output_type": "stream",
     "text": [
      "python hello\n"
     ]
    }
   ],
   "source": [
    "a = \"python\"\n",
    "b = \"hello\"\n",
    "print(a,b)"
   ]
  },
  {
   "cell_type": "code",
   "execution_count": 10,
   "id": "a4d14f99-d21f-419a-9e5b-cd38fcba501d",
   "metadata": {},
   "outputs": [
    {
     "data": {
      "text/plain": [
       "'pythonhello'"
      ]
     },
     "execution_count": 10,
     "metadata": {},
     "output_type": "execute_result"
    }
   ],
   "source": [
    "a+b"
   ]
  },
  {
   "cell_type": "code",
   "execution_count": 12,
   "id": "d639ea54-127c-40b1-af55-b7b68293b43f",
   "metadata": {},
   "outputs": [
    {
     "name": "stdout",
     "output_type": "stream",
     "text": [
      "[0, 1, 2, 3, 4, 5, 6, 7, 8, 9, 10] [11, 12, 13, 14, 15, 16, 17, 18, 19, 20]\n"
     ]
    }
   ],
   "source": [
    "c = list(range(11))\n",
    "d = list(range(11,21))\n",
    "print(c,d)"
   ]
  },
  {
   "cell_type": "code",
   "execution_count": 14,
   "id": "220e1fa7-246e-4cd8-93f0-8bac7a2fb5aa",
   "metadata": {},
   "outputs": [
    {
     "data": {
      "text/plain": [
       "[0, 1, 2, 3, 4, 5, 6, 7, 8, 9, 10, 11, 12, 13, 14, 15, 16, 17, 18, 19, 20]"
      ]
     },
     "execution_count": 14,
     "metadata": {},
     "output_type": "execute_result"
    }
   ],
   "source": [
    "# list할 때 extend랑 같은 효과\n",
    "c + d"
   ]
  },
  {
   "cell_type": "code",
   "execution_count": 16,
   "id": "c86ebd33-8444-4347-ae7d-fa83e025ef24",
   "metadata": {},
   "outputs": [
    {
     "name": "stdout",
     "output_type": "stream",
     "text": [
      "(0, 1, 2, 3, 4, 5, 6, 7, 8, 9, 10) (11, 12, 13, 14, 15, 16, 17, 18, 19, 20)\n"
     ]
    }
   ],
   "source": [
    "f = tuple(range(11))\n",
    "g = tuple(range(11,21))\n",
    "print(f,g)"
   ]
  },
  {
   "cell_type": "code",
   "execution_count": 17,
   "id": "fea29bc1-faf4-4dd8-976f-345466a23148",
   "metadata": {},
   "outputs": [
    {
     "data": {
      "text/plain": [
       "(0, 1, 2, 3, 4, 5, 6, 7, 8, 9, 10, 11, 12, 13, 14, 15, 16, 17, 18, 19, 20)"
      ]
     },
     "execution_count": 17,
     "metadata": {},
     "output_type": "execute_result"
    }
   ],
   "source": [
    "f+g"
   ]
  },
  {
   "cell_type": "code",
   "execution_count": 18,
   "id": "7761e24f-035a-4e99-b8fc-e3b9b89a566e",
   "metadata": {},
   "outputs": [],
   "source": [
    "h = (1,2,3, \"튜플\", [4,5,6])"
   ]
  },
  {
   "cell_type": "code",
   "execution_count": 19,
   "id": "9001d583-c868-4421-9102-24e80ffb2f68",
   "metadata": {},
   "outputs": [
    {
     "data": {
      "text/plain": [
       "(0,\n",
       " 1,\n",
       " 2,\n",
       " 3,\n",
       " 4,\n",
       " 5,\n",
       " 6,\n",
       " 7,\n",
       " 8,\n",
       " 9,\n",
       " 10,\n",
       " 11,\n",
       " 12,\n",
       " 13,\n",
       " 14,\n",
       " 15,\n",
       " 16,\n",
       " 17,\n",
       " 18,\n",
       " 19,\n",
       " 20,\n",
       " 1,\n",
       " 2,\n",
       " 3,\n",
       " '튜플',\n",
       " [4, 5, 6])"
      ]
     },
     "execution_count": 19,
     "metadata": {},
     "output_type": "execute_result"
    }
   ],
   "source": [
    "f+g+h"
   ]
  },
  {
   "cell_type": "code",
   "execution_count": null,
   "id": "c7673265-22e6-4cb1-a0a5-b7feae46d9c8",
   "metadata": {},
   "outputs": [],
   "source": []
  },
  {
   "cell_type": "markdown",
   "id": "5305799b-552c-48c4-add9-cc39500a8fa8",
   "metadata": {},
   "source": [
    "## 3. 시퀀스 객체 반복하기 : * 연산자 사용 단, range는 불가"
   ]
  },
  {
   "cell_type": "code",
   "execution_count": 20,
   "id": "9a5e8a85-e311-4449-97e0-d6635a8b33e0",
   "metadata": {},
   "outputs": [
    {
     "data": {
      "text/plain": [
       "'pythonpythonpython'"
      ]
     },
     "execution_count": 20,
     "metadata": {},
     "output_type": "execute_result"
    }
   ],
   "source": [
    "a * 3"
   ]
  },
  {
   "cell_type": "code",
   "execution_count": 22,
   "id": "89ee026d-67ce-4f4d-8954-fdbb050e844c",
   "metadata": {},
   "outputs": [
    {
     "data": {
      "text/plain": [
       "'====================문자열===================='"
      ]
     },
     "execution_count": 22,
     "metadata": {},
     "output_type": "execute_result"
    }
   ],
   "source": [
    "\"=\"*20 + \"문자열\" + \"=\"*20"
   ]
  },
  {
   "cell_type": "code",
   "execution_count": 25,
   "id": "a1e9fcaf-9fe5-4bbe-9176-5158f95df681",
   "metadata": {},
   "outputs": [
    {
     "data": {
      "text/plain": [
       "[0, 1, 2, 3, 4, 5, 6, 7, 8, 9, 10, 0, 1, 2, 3, 4, 5, 6, 7, 8, 9, 10]"
      ]
     },
     "execution_count": 25,
     "metadata": {},
     "output_type": "execute_result"
    }
   ],
   "source": [
    "# 리스트 안에 요소가 2배로 복사됨\n",
    "c*2"
   ]
  },
  {
   "cell_type": "code",
   "execution_count": 26,
   "id": "1ecfed00-da7a-44d5-ad23-91e1c425d360",
   "metadata": {},
   "outputs": [
    {
     "data": {
      "text/plain": [
       "(1, 2, 3, '튜플', [4, 5, 6], 1, 2, 3, '튜플', [4, 5, 6])"
      ]
     },
     "execution_count": 26,
     "metadata": {},
     "output_type": "execute_result"
    }
   ],
   "source": [
    "# 튜플도 튜플 안의 요소가 2배로 복사 됨\n",
    "h * 2"
   ]
  },
  {
   "cell_type": "markdown",
   "id": "33b10647-e1dc-47d3-958e-a9f07f1f95fd",
   "metadata": {},
   "source": []
  },
  {
   "cell_type": "markdown",
   "id": "bffc750b-33c7-432e-88b9-f897756f3393",
   "metadata": {},
   "source": [
    "## 4. 시퀀스 객체는 길이를 계산할 수 있다. len()"
   ]
  },
  {
   "cell_type": "code",
   "execution_count": 27,
   "id": "913fda6d-0bc1-402c-bfb9-db234966f2e1",
   "metadata": {},
   "outputs": [
    {
     "data": {
      "text/plain": [
       "5"
      ]
     },
     "execution_count": 27,
     "metadata": {},
     "output_type": "execute_result"
    }
   ],
   "source": [
    "len(h)"
   ]
  },
  {
   "cell_type": "markdown",
   "id": "a48191b4-1aaa-48bf-8c44-798304a30882",
   "metadata": {},
   "source": [
    "## 5. 인덱스를 사용할 수 있다.\n",
    "* 인덱싱을 통한 자료 변경은 list만 가능"
   ]
  },
  {
   "cell_type": "code",
   "execution_count": 28,
   "id": "da58b1e0-9937-4fc3-b414-3996e2c23abb",
   "metadata": {},
   "outputs": [
    {
     "data": {
      "text/plain": [
       "'th'"
      ]
     },
     "execution_count": 28,
     "metadata": {},
     "output_type": "execute_result"
    }
   ],
   "source": [
    "a[2:4]"
   ]
  },
  {
   "cell_type": "code",
   "execution_count": 29,
   "id": "ec8c0c24-7d8f-4603-9656-f503f474641a",
   "metadata": {},
   "outputs": [
    {
     "data": {
      "text/plain": [
       "0"
      ]
     },
     "execution_count": 29,
     "metadata": {},
     "output_type": "execute_result"
    }
   ],
   "source": [
    "c[0]"
   ]
  },
  {
   "cell_type": "code",
   "execution_count": 30,
   "id": "82998d18-2ec1-4b37-8227-9a74781669fb",
   "metadata": {},
   "outputs": [
    {
     "data": {
      "text/plain": [
       "[4, 5, 6]"
      ]
     },
     "execution_count": 30,
     "metadata": {},
     "output_type": "execute_result"
    }
   ],
   "source": [
    "c[4:7]"
   ]
  },
  {
   "cell_type": "code",
   "execution_count": 32,
   "id": "bb234cd7-424b-4988-a44b-d7604fba6039",
   "metadata": {},
   "outputs": [],
   "source": [
    "c[0] = 7"
   ]
  },
  {
   "cell_type": "code",
   "execution_count": 33,
   "id": "07418e33-7a69-41c5-8e4f-01c278ec3398",
   "metadata": {},
   "outputs": [
    {
     "data": {
      "text/plain": [
       "9"
      ]
     },
     "execution_count": 33,
     "metadata": {},
     "output_type": "execute_result"
    }
   ],
   "source": [
    "c.index(9)"
   ]
  },
  {
   "cell_type": "code",
   "execution_count": 34,
   "id": "9612e9c3-92f2-45b4-9f1b-5ab1473b3431",
   "metadata": {},
   "outputs": [
    {
     "data": {
      "text/plain": [
       "[7, 1, 2, 3, 4, 5, 6, 7, 8, 90, 10]"
      ]
     },
     "execution_count": 34,
     "metadata": {},
     "output_type": "execute_result"
    }
   ],
   "source": [
    "c[9] = 90\n",
    "c"
   ]
  },
  {
   "cell_type": "code",
   "execution_count": 36,
   "id": "39fe0a3e-2c36-4c1e-8a7e-498bb2bcd739",
   "metadata": {},
   "outputs": [
    {
     "data": {
      "text/plain": [
       "'python'"
      ]
     },
     "execution_count": 36,
     "metadata": {},
     "output_type": "execute_result"
    }
   ],
   "source": [
    "a"
   ]
  },
  {
   "cell_type": "code",
   "execution_count": 37,
   "id": "d334872e-05e5-409f-90c2-3db08192dfaf",
   "metadata": {},
   "outputs": [
    {
     "ename": "TypeError",
     "evalue": "'str' object does not support item assignment",
     "output_type": "error",
     "traceback": [
      "\u001b[1;31m---------------------------------------------------------------------------\u001b[0m",
      "\u001b[1;31mTypeError\u001b[0m                                 Traceback (most recent call last)",
      "Cell \u001b[1;32mIn[37], line 1\u001b[0m\n\u001b[1;32m----> 1\u001b[0m \u001b[43ma\u001b[49m\u001b[43m[\u001b[49m\u001b[38;5;241;43m0\u001b[39;49m\u001b[43m]\u001b[49m \u001b[38;5;241m=\u001b[39m \u001b[38;5;124m'\u001b[39m\u001b[38;5;124mP\u001b[39m\u001b[38;5;124m'\u001b[39m\n\u001b[0;32m      2\u001b[0m a\n",
      "\u001b[1;31mTypeError\u001b[0m: 'str' object does not support item assignment"
     ]
    }
   ],
   "source": [
    "a[0] = 'P'\n",
    "a"
   ]
  },
  {
   "cell_type": "code",
   "execution_count": 38,
   "id": "cd78dbf3-2756-4979-972d-f53b4d1f77da",
   "metadata": {},
   "outputs": [
    {
     "name": "stdout",
     "output_type": "stream",
     "text": [
      "<class 'str'>\n"
     ]
    }
   ],
   "source": [
    "print(type(a))"
   ]
  },
  {
   "cell_type": "code",
   "execution_count": 42,
   "id": "9522a1d4-c661-4616-9012-8131e973294e",
   "metadata": {},
   "outputs": [],
   "source": [
    "a = list(a)"
   ]
  },
  {
   "cell_type": "code",
   "execution_count": 43,
   "id": "98b1e4cf-b019-4a18-b191-7b0a462d9b38",
   "metadata": {},
   "outputs": [
    {
     "data": {
      "text/plain": [
       "['P', 'y', 't', 'h', 'o', 'n']"
      ]
     },
     "execution_count": 43,
     "metadata": {},
     "output_type": "execute_result"
    }
   ],
   "source": [
    "a[0] = \"P\"\n",
    "a"
   ]
  },
  {
   "cell_type": "code",
   "execution_count": 44,
   "id": "309452c7-0011-42e2-b252-e400b9b84edd",
   "metadata": {},
   "outputs": [],
   "source": [
    "a = \"\".join(a)"
   ]
  },
  {
   "cell_type": "code",
   "execution_count": 45,
   "id": "9f788e06-cbe5-45a5-8fd0-2a2a5cb0337c",
   "metadata": {},
   "outputs": [
    {
     "data": {
      "text/plain": [
       "'Python'"
      ]
     },
     "execution_count": 45,
     "metadata": {},
     "output_type": "execute_result"
    }
   ],
   "source": [
    "a"
   ]
  },
  {
   "cell_type": "code",
   "execution_count": null,
   "id": "bf8cb3e0-8b3f-48ab-baa4-4d5d374790fe",
   "metadata": {},
   "outputs": [],
   "source": []
  },
  {
   "cell_type": "code",
   "execution_count": null,
   "id": "aab9bf35-7144-408b-9a77-6eb1410aeff5",
   "metadata": {},
   "outputs": [],
   "source": []
  },
  {
   "cell_type": "code",
   "execution_count": null,
   "id": "e722e285-e323-4453-99a1-1aae42394d63",
   "metadata": {},
   "outputs": [],
   "source": []
  },
  {
   "cell_type": "code",
   "execution_count": null,
   "id": "666352be-1ee8-4afa-b3f8-095b7d952533",
   "metadata": {},
   "outputs": [],
   "source": []
  },
  {
   "cell_type": "code",
   "execution_count": null,
   "id": "db037279-87d6-4439-b171-927e29e65bc2",
   "metadata": {},
   "outputs": [],
   "source": []
  },
  {
   "cell_type": "code",
   "execution_count": null,
   "id": "61937c8e-8a19-410e-a8e0-7bd174233b33",
   "metadata": {},
   "outputs": [],
   "source": []
  },
  {
   "cell_type": "code",
   "execution_count": null,
   "id": "6426a9cf-707f-499f-9372-43cc10108f4c",
   "metadata": {},
   "outputs": [],
   "source": []
  },
  {
   "cell_type": "code",
   "execution_count": null,
   "id": "3db98efb-99e5-4e1d-b4b8-2874955c7cc5",
   "metadata": {},
   "outputs": [],
   "source": []
  },
  {
   "cell_type": "code",
   "execution_count": null,
   "id": "2350971c-4b91-4581-aace-e95c47a635f3",
   "metadata": {},
   "outputs": [],
   "source": []
  },
  {
   "cell_type": "code",
   "execution_count": null,
   "id": "2e0b1288-a552-4b43-a82d-d1eb830324e4",
   "metadata": {},
   "outputs": [],
   "source": []
  },
  {
   "cell_type": "code",
   "execution_count": null,
   "id": "a36f04e0-d46f-4450-a589-9a039a1fa459",
   "metadata": {},
   "outputs": [],
   "source": []
  },
  {
   "cell_type": "code",
   "execution_count": null,
   "id": "7c80e2a9-3d12-4037-92f7-73f4a85413fe",
   "metadata": {},
   "outputs": [],
   "source": []
  },
  {
   "cell_type": "code",
   "execution_count": null,
   "id": "1849b30e-438b-4fbf-9e7a-e463655c76be",
   "metadata": {},
   "outputs": [],
   "source": []
  },
  {
   "cell_type": "code",
   "execution_count": null,
   "id": "c2cbe81b-69d1-452b-820e-122fa2e8238f",
   "metadata": {},
   "outputs": [],
   "source": []
  },
  {
   "cell_type": "code",
   "execution_count": null,
   "id": "740ce335-fe5d-4f7c-a8ca-83f945871017",
   "metadata": {},
   "outputs": [],
   "source": []
  },
  {
   "cell_type": "code",
   "execution_count": null,
   "id": "baf1b0b0-7485-40a3-ab56-b0f1224b42cb",
   "metadata": {},
   "outputs": [],
   "source": []
  }
 ],
 "metadata": {
  "kernelspec": {
   "display_name": "Python 3 (ipykernel)",
   "language": "python",
   "name": "python3"
  },
  "language_info": {
   "codemirror_mode": {
    "name": "ipython",
    "version": 3
   },
   "file_extension": ".py",
   "mimetype": "text/x-python",
   "name": "python",
   "nbconvert_exporter": "python",
   "pygments_lexer": "ipython3",
   "version": "3.10.14"
  }
 },
 "nbformat": 4,
 "nbformat_minor": 5
}
