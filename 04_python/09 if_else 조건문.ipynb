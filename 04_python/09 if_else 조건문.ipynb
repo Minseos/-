{
 "cells": [
  {
   "cell_type": "markdown",
   "id": "1b348cd7-00d1-4593-9f10-e2b2936afd33",
   "metadata": {},
   "source": [
    "if else 조건문"
   ]
  },
  {
   "cell_type": "markdown",
   "id": "9f436e58-a6b4-46f8-bdb2-fd9217fdddec",
   "metadata": {},
   "source": [
    "## 1. 조건문이란 특정 조건일 때 실행하는 문법\n",
    "if 조건식 : <br>\n",
    "__조건식이 참일 때 실행할 코드 <br>\n",
    "else:<br>\n",
    "__조건식이 거짓일 때 실행할 코드"
   ]
  },
  {
   "cell_type": "code",
   "execution_count": 3,
   "id": "dcb34fab-4587-43c3-9f6d-2e5ec31d36d0",
   "metadata": {},
   "outputs": [],
   "source": [
    "x = 10"
   ]
  },
  {
   "cell_type": "code",
   "execution_count": 4,
   "id": "e0f9a97e-b7e8-493f-ab96-badba7d08093",
   "metadata": {},
   "outputs": [
    {
     "name": "stdout",
     "output_type": "stream",
     "text": [
      "x는 10 입니다.\n"
     ]
    }
   ],
   "source": [
    "if x ==10:\n",
    "    print('x는', x, '입니다.')\n",
    "else:\n",
    "    print('x는 10이 아닌', x, '입니다.')"
   ]
  },
  {
   "cell_type": "code",
   "execution_count": 5,
   "id": "fff86ca8-0225-41b0-82b0-e1ecf7323d17",
   "metadata": {},
   "outputs": [],
   "source": [
    "L1 = ['파이썬', '조건문', 10, 15.3, True, [1,2,3], (4,5,6), {'key' : 'value'}]"
   ]
  },
  {
   "cell_type": "code",
   "execution_count": 6,
   "id": "eca91d81-34c3-450f-8227-6e79ee5de614",
   "metadata": {},
   "outputs": [
    {
     "name": "stdout",
     "output_type": "stream",
     "text": [
      "L1안에 파이썬이 있습니다.\n"
     ]
    }
   ],
   "source": [
    "if '파이썬' in L1:\n",
    "    print('L1안에 파이썬이 있습니다.')"
   ]
  },
  {
   "cell_type": "code",
   "execution_count": 7,
   "id": "88da8c27-6865-4a70-b211-50e2d5b278be",
   "metadata": {},
   "outputs": [
    {
     "name": "stdout",
     "output_type": "stream",
     "text": [
      "L1안에 hello가 없습니다. \n"
     ]
    }
   ],
   "source": [
    "if 'hello' in L1:\n",
    "    print('L1안에 hello가 있습니다.')\n",
    "else:\n",
    "    print('L1안에 hello가 없습니다. ')"
   ]
  },
  {
   "cell_type": "markdown",
   "id": "bb0baec6-7a26-4d92-9f73-cd9ba3d19351",
   "metadata": {},
   "source": [
    "* 숫자 값을 입력받아 홀수인지 짝수인지 판단하는 프로그램"
   ]
  },
  {
   "cell_type": "code",
   "execution_count": 9,
   "id": "bc9f0744-e25f-49d0-8c06-e8a8bcf86bf1",
   "metadata": {},
   "outputs": [
    {
     "name": "stdin",
     "output_type": "stream",
     "text": [
      "숫자를 입력하세요 :  5\n"
     ]
    },
    {
     "name": "stdout",
     "output_type": "stream",
     "text": [
      "입력한 숫자 5 는 홀수입니다.\n"
     ]
    }
   ],
   "source": [
    "x = int(input(\"숫자를 입력하세요 : \"))\n",
    "if x%2==0:\n",
    "    print('입력한 숫자', x, '는 짝수입니다.')\n",
    "else:\n",
    "    print('입력한 숫자', x, '는 홀수입니다.')"
   ]
  },
  {
   "cell_type": "markdown",
   "id": "272bdb15-d10c-4cf1-b13d-c27538ec1166",
   "metadata": {},
   "source": [
    "## 2. 다중 조건문 사용하기 elif\n",
    "if 조건식:\n",
    "____조건식이 참일 때 실행할 코드\n",
    "elif 조건식2:\n",
    "____조건식 2가 참일 때 실행할 코드\n",
    "elif 조건식3:\n",
    "____조건식 3가 참일 때 실행할 코드\n",
    "else:\n",
    "____조건식1,2,3이 모두 아닐 경우"
   ]
  },
  {
   "cell_type": "markdown",
   "id": "361afbe3-4252-4c21-bb34-780ac15baa2b",
   "metadata": {},
   "source": [
    "점수 학점이 81 ~ 100 A, 61 ~ 80 B, 41 ~ 60 C, 21 ~ 40 D, 0 ~ 20 F"
   ]
  },
  {
   "cell_type": "markdown",
   "id": "03308a22-0aff-470f-b051-3bb5deb71f6e",
   "metadata": {},
   "source": [
    "#### 점수를 입력받아서 학점을 출력하는 프로그램"
   ]
  },
  {
   "cell_type": "code",
   "execution_count": 10,
   "id": "beeb7620-e680-4dd2-9a8a-67294970a2b3",
   "metadata": {},
   "outputs": [
    {
     "name": "stdin",
     "output_type": "stream",
     "text": [
      "점수를 입력하세요 :  50\n"
     ]
    },
    {
     "name": "stdout",
     "output_type": "stream",
     "text": [
      "학점 : C\n"
     ]
    }
   ],
   "source": [
    "score = int(input(\"점수를 입력하세요 : \"))\n",
    "if 81 <= score <= 100 :\n",
    "    print('학점 : A')\n",
    "elif 61 <= score <= 80 :\n",
    "    print('학점 : B')\n",
    "elif 41 <= score <= 60 :\n",
    "    print('학점 : C')\n",
    "elif 21 <= score <= 40 :\n",
    "    print('학점 : D')\n",
    "else : \n",
    "    print('학점 : F')"
   ]
  },
  {
   "cell_type": "code",
   "execution_count": null,
   "id": "ae5527ad-c593-469d-944d-17149ef2e332",
   "metadata": {},
   "outputs": [],
   "source": []
  },
  {
   "cell_type": "markdown",
   "id": "1820e3c0-0306-4c31-af0f-fb0a87d05abd",
   "metadata": {},
   "source": [
    "국어, 영어, 수학, 과학 점수를 입력해서 평균 80점 이상이면 합격, 미만이면 불합격<br>\n",
    "단, 과목당 60점 미만이 있으면 과락으로 불합격 <br>\n",
    "입력 범위는 0 ~ 100이며 범위를 벗어나면 '입력범위 초과'를 출력"
   ]
  },
  {
   "cell_type": "code",
   "execution_count": 23,
   "id": "1dda1c20-7945-47bc-96f2-53bb95940be3",
   "metadata": {},
   "outputs": [
    {
     "name": "stdin",
     "output_type": "stream",
     "text": [
      "국어 점수를 입력하세요 50\n",
      "영어 점수를 입력하세요 800\n",
      "수학 점수를 입력하세요 45\n",
      "과학 점수를 입력하세요 10\n"
     ]
    },
    {
     "name": "stdout",
     "output_type": "stream",
     "text": [
      "잘못된 점수\n"
     ]
    }
   ],
   "source": [
    "kor = int(input(\"국어 점수를 입력하세요\"))\n",
    "eng = int(input(\"영어 점수를 입력하세요\"))\n",
    "math = int(input(\"수학 점수를 입력하세요\"))\n",
    "sci = int(input(\"과학 점수를 입력하세요\"))\n",
    "\n",
    "avg = (kor + eng + math + sci)//4\n",
    "\n",
    "if (kor >= 0 and kor <= 100) and (eng >= 0 and eng <= 100) and (math >= 0 and math <= 100) and (sci >= 0 and sci <= 100):\n",
    "    if kor >= 60 and eng >= 60 and math >= 60 and sci >= 60 :\n",
    "        if(avg >= 80) :\n",
    "            print(\"합격\")\n",
    "        else:\n",
    "            print(\"불합격\")\n",
    "    else : \n",
    "        print(\"과락\")\n",
    "else : \n",
    "    print(\"잘못된 점수\")\n"
   ]
  },
  {
   "cell_type": "code",
   "execution_count": 26,
   "id": "0efb5beb-2139-4950-8be3-afc4aa897d5c",
   "metadata": {},
   "outputs": [
    {
     "name": "stdin",
     "output_type": "stream",
     "text": [
      "국어, 영어, 수학, 과학 점수를 입력해주세요 10 50 80 100\n"
     ]
    },
    {
     "ename": "ValueError",
     "evalue": "invalid literal for int() with base 10: '10 50 80 100'",
     "output_type": "error",
     "traceback": [
      "\u001b[1;31m---------------------------------------------------------------------------\u001b[0m",
      "\u001b[1;31mValueError\u001b[0m                                Traceback (most recent call last)",
      "Cell \u001b[1;32mIn[26], line 1\u001b[0m\n\u001b[1;32m----> 1\u001b[0m (kor), (eng), (math), (sci) \u001b[38;5;241m=\u001b[39m \u001b[38;5;28mmap\u001b[39m(\u001b[38;5;28;43mint\u001b[39;49m\u001b[43m(\u001b[49m\u001b[38;5;28;43minput\u001b[39;49m\u001b[43m(\u001b[49m\u001b[38;5;124;43m\"\u001b[39;49m\u001b[38;5;124;43m국어, 영어, 수학, 과학 점수를 입력해주세요\u001b[39;49m\u001b[38;5;124;43m\"\u001b[39;49m\u001b[43m)\u001b[49m\u001b[43m)\u001b[49m)\u001b[38;5;241m.\u001b[39msplit()\n\u001b[0;32m      2\u001b[0m avg \u001b[38;5;241m=\u001b[39m \u001b[38;5;28mint\u001b[39m(kor \u001b[38;5;241m+\u001b[39m eng \u001b[38;5;241m+\u001b[39m math \u001b[38;5;241m+\u001b[39m sci)\u001b[38;5;241m/\u001b[39m\u001b[38;5;241m4\u001b[39m\n\u001b[0;32m      3\u001b[0m \u001b[38;5;28;01mif\u001b[39;00m \u001b[38;5;28mint\u001b[39m(kor) \u001b[38;5;241m>\u001b[39m\u001b[38;5;241m=\u001b[39m \u001b[38;5;241m60\u001b[39m \u001b[38;5;129;01mand\u001b[39;00m \u001b[38;5;28mint\u001b[39m(eng) \u001b[38;5;241m>\u001b[39m\u001b[38;5;241m=\u001b[39m \u001b[38;5;241m60\u001b[39m \u001b[38;5;129;01mand\u001b[39;00m \u001b[38;5;28mint\u001b[39m(math) \u001b[38;5;241m>\u001b[39m\u001b[38;5;241m=\u001b[39m \u001b[38;5;241m60\u001b[39m \u001b[38;5;129;01mand\u001b[39;00m \u001b[38;5;28mint\u001b[39m(sci) \u001b[38;5;241m>\u001b[39m\u001b[38;5;241m=\u001b[39m \u001b[38;5;241m60\u001b[39m :\n",
      "\u001b[1;31mValueError\u001b[0m: invalid literal for int() with base 10: '10 50 80 100'"
     ]
    }
   ],
   "source": [
    "(kor), (eng), (math), (sci) = map(int(input(\"국어, 영어, 수학, 과학 점수를 입력해주세요\"))).split()\n",
    "avg = int(kor + eng + math + sci)/4\n",
    "if (kor >= 0 and kor <= 100) and (eng >= 0 and eng <= 100) and (math >= 0 and math <= 100) and (sci >= 0 and sci <= 100):\n",
    "    if kor >= 60 and eng >= 60 and math >= 60 and sci >= 60 :\n",
    "        if(avg >= 80) :\n",
    "            print(\"합격\")\n",
    "        else:\n",
    "            print(\"불합격\")\n",
    "    else : \n",
    "        print(\"과락\")\n",
    "else : \n",
    "    print(\"잘못된 점수\")"
   ]
  },
  {
   "cell_type": "markdown",
   "id": "dbb642d1-f592-46ce-9772-d214927107d2",
   "metadata": {},
   "source": [
    "### map을 사용하면 한번에 다 변환할 수 있음"
   ]
  },
  {
   "cell_type": "code",
   "execution_count": 25,
   "id": "9d923610-461b-4f52-8f54-13f129c2621f",
   "metadata": {},
   "outputs": [
    {
     "data": {
      "text/plain": [
       "list"
      ]
     },
     "execution_count": 25,
     "metadata": {},
     "output_type": "execute_result"
    }
   ],
   "source": [
    "type(list(map(int, ['10','20','30','40'])))"
   ]
  },
  {
   "cell_type": "markdown",
   "id": "cfa2b453-f135-4743-9774-1df71802c969",
   "metadata": {},
   "source": [
    "1 ~ 50 사이의 숫자를 입력받아서 3의 3배수면 3의 배수입니다. 3의 배수가 아닙니다."
   ]
  },
  {
   "cell_type": "code",
   "execution_count": 30,
   "id": "a34e564c-cbeb-4add-bbf5-3a1793e7b675",
   "metadata": {},
   "outputs": [
    {
     "name": "stdin",
     "output_type": "stream",
     "text": [
      " 1~50 중 숫자를 입력하시오 51\n"
     ]
    },
    {
     "name": "stdout",
     "output_type": "stream",
     "text": [
      "숫자 범위가 잘못되었습니다.\n"
     ]
    }
   ],
   "source": [
    "num = int(input(\" 1~50 중 숫자를 입력하시오\"))\n",
    "if num > 0 and num <=50:\n",
    "    if num%3 == 0:\n",
    "        print(\"3의 배수입니다.\")\n",
    "    else : \n",
    "        print(\"3의 배수가 아닙니다.\")\n",
    "else:\n",
    "    print(\"숫자 범위가 잘못되었습니다.\")"
   ]
  },
  {
   "cell_type": "code",
   "execution_count": null,
   "id": "dc5814d2-c53e-4ee5-843a-e27b6e3974f4",
   "metadata": {},
   "outputs": [],
   "source": []
  },
  {
   "cell_type": "code",
   "execution_count": null,
   "id": "7f0db005-2f1d-4e6f-842b-c476b47b3bb7",
   "metadata": {},
   "outputs": [],
   "source": []
  },
  {
   "cell_type": "code",
   "execution_count": null,
   "id": "16ce621c-d264-4c24-8a91-3e938808e9ee",
   "metadata": {},
   "outputs": [],
   "source": []
  },
  {
   "cell_type": "code",
   "execution_count": null,
   "id": "f0e9d220-a689-439d-b21a-2ff100b482f4",
   "metadata": {},
   "outputs": [],
   "source": []
  },
  {
   "cell_type": "code",
   "execution_count": null,
   "id": "a7f5ab15-9c1c-45bf-87cc-38dd5b1f2c75",
   "metadata": {},
   "outputs": [],
   "source": []
  },
  {
   "cell_type": "code",
   "execution_count": null,
   "id": "01279596-1932-4186-bc65-9bc6a1b2536d",
   "metadata": {},
   "outputs": [],
   "source": []
  }
 ],
 "metadata": {
  "kernelspec": {
   "display_name": "Python 3 (ipykernel)",
   "language": "python",
   "name": "python3"
  },
  "language_info": {
   "codemirror_mode": {
    "name": "ipython",
    "version": 3
   },
   "file_extension": ".py",
   "mimetype": "text/x-python",
   "name": "python",
   "nbconvert_exporter": "python",
   "pygments_lexer": "ipython3",
   "version": "3.10.14"
  }
 },
 "nbformat": 4,
 "nbformat_minor": 5
}
