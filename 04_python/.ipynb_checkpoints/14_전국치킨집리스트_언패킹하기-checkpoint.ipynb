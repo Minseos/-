{
 "cells": [
  {
   "cell_type": "code",
   "execution_count": 1,
   "id": "464879c9-f5e3-4c42-84de-f1d4379445d8",
   "metadata": {},
   "outputs": [
    {
     "name": "stdout",
     "output_type": "stream",
     "text": [
      "<class 'str'>\n"
     ]
    }
   ],
   "source": [
    "with open('./04_python/data/전국치킨집리스트.json', 'r', encoding = 'utf-8')as f:\n",
    "    chicken_data = f.read()\n",
    "#print(chicken_data)\n",
    "print(type(chicken_data))"
   ]
  },
  {
   "cell_type": "code",
   "execution_count": 2,
   "id": "247d5011-320a-426b-ba92-94e1e516cd77",
   "metadata": {},
   "outputs": [
    {
     "data": {
      "text/plain": [
       "'[{\"header\": {\"description\": \"\\\\uc18c\\\\uc0c1\\\\uacf5\\\\uc778\\\\uc2dc\\\\uc7a5\\\\uc9c4\\\\ud765\\\\uacf5\\\\ub2e8 \\\\uc8fc\\\\uc6'"
      ]
     },
     "execution_count": 2,
     "metadata": {},
     "output_type": "execute_result"
    }
   ],
   "source": [
    "chicken_data[:100]"
   ]
  },
  {
   "cell_type": "code",
   "execution_count": 3,
   "id": "8a536e5b-d2cd-4fbd-8de9-e7c784ebd948",
   "metadata": {},
   "outputs": [],
   "source": [
    "import json"
   ]
  },
  {
   "cell_type": "code",
   "execution_count": 4,
   "id": "2131104b-45d7-40f5-aff8-302304725f11",
   "metadata": {},
   "outputs": [],
   "source": [
    "data = json.loads(chicken_data)"
   ]
  },
  {
   "cell_type": "code",
   "execution_count": 5,
   "id": "90fd78b7-041c-4d61-a159-6b167fa99b8d",
   "metadata": {},
   "outputs": [
    {
     "name": "stdout",
     "output_type": "stream",
     "text": [
      "37\n"
     ]
    }
   ],
   "source": [
    "print(len(data))"
   ]
  },
  {
   "cell_type": "code",
   "execution_count": 10,
   "id": "87fbe34e-552a-4e24-a2c5-9e4a91732e4d",
   "metadata": {},
   "outputs": [
    {
     "data": {
      "text/plain": [
       "2"
      ]
     },
     "execution_count": 10,
     "metadata": {},
     "output_type": "execute_result"
    }
   ],
   "source": [
    "# header, body여서 2임\n",
    "len(data[0])"
   ]
  },
  {
   "cell_type": "code",
   "execution_count": 9,
   "id": "4e22d8b5-2de2-4fd2-888e-738a9480fb76",
   "metadata": {},
   "outputs": [
    {
     "data": {
      "text/plain": [
       "1000"
      ]
     },
     "execution_count": 9,
     "metadata": {},
     "output_type": "execute_result"
    }
   ],
   "source": [
    "len(data[0]['body']['items'])"
   ]
  },
  {
   "cell_type": "code",
   "execution_count": null,
   "id": "de99ca08-3f6a-4391-be8b-9f8bc98ad2ee",
   "metadata": {},
   "outputs": [],
   "source": [
    "result = {}\n",
    "for key in list(data[0].keys"
   ]
  },
  {
   "cell_type": "code",
   "execution_count": 14,
   "id": "a5409d4d-996a-49f8-b24a-4fc8947149e5",
   "metadata": {},
   "outputs": [
    {
     "ename": "AttributeError",
     "evalue": "'list' object has no attribute 'keys'",
     "output_type": "error",
     "traceback": [
      "\u001b[1;31m---------------------------------------------------------------------------\u001b[0m",
      "\u001b[1;31mAttributeError\u001b[0m                            Traceback (most recent call last)",
      "Cell \u001b[1;32mIn[14], line 1\u001b[0m\n\u001b[1;32m----> 1\u001b[0m \u001b[43mdata\u001b[49m\u001b[38;5;241;43m.\u001b[39;49m\u001b[43mkeys\u001b[49m()\n",
      "\u001b[1;31mAttributeError\u001b[0m: 'list' object has no attribute 'keys'"
     ]
    }
   ],
   "source": [
    "data.keys()"
   ]
  },
  {
   "cell_type": "code",
   "execution_count": 16,
   "id": "97cc13ab-db12-4403-b766-3583a4a7edd1",
   "metadata": {},
   "outputs": [
    {
     "data": {
      "text/plain": [
       "{'header': 'body'}"
      ]
     },
     "execution_count": 16,
     "metadata": {},
     "output_type": "execute_result"
    }
   ],
   "source": [
    "dict(data)"
   ]
  },
  {
   "cell_type": "code",
   "execution_count": 33,
   "id": "f76d6d63-3ee1-42c4-be48-010186884685",
   "metadata": {},
   "outputs": [
    {
     "data": {
      "text/plain": [
       "dict_keys(['header'])"
      ]
     },
     "execution_count": 33,
     "metadata": {},
     "output_type": "execute_result"
    }
   ],
   "source": [
    "dict(data).keys()"
   ]
  },
  {
   "cell_type": "code",
   "execution_count": 20,
   "id": "1298fa9a-3c51-470a-9b77-0814d2df2dd2",
   "metadata": {},
   "outputs": [
    {
     "data": {
      "text/plain": [
       "dict_values(['body'])"
      ]
     },
     "execution_count": 20,
     "metadata": {},
     "output_type": "execute_result"
    }
   ],
   "source": [
    "dict(data).values()"
   ]
  },
  {
   "cell_type": "code",
   "execution_count": 24,
   "id": "23cc719d-a5c9-43d0-94b8-3aa6286f6bae",
   "metadata": {},
   "outputs": [],
   "source": [
    "hl = list(dict(data).keys())"
   ]
  },
  {
   "cell_type": "code",
   "execution_count": 28,
   "id": "0ce54abc-b139-46e6-bb3c-2988f5e17420",
   "metadata": {},
   "outputs": [
    {
     "data": {
      "text/plain": [
       "'e'"
      ]
     },
     "execution_count": 28,
     "metadata": {},
     "output_type": "execute_result"
    }
   ],
   "source": [
    "hl[0][1]"
   ]
  },
  {
   "cell_type": "code",
   "execution_count": 136,
   "id": "de5c4bad-c0ad-464e-9240-1c747fd838b3",
   "metadata": {},
   "outputs": [],
   "source": [
    "#data[0]"
   ]
  },
  {
   "cell_type": "code",
   "execution_count": 43,
   "id": "7f2dbf8f-0ff8-4f78-9fec-e4d9c973922a",
   "metadata": {},
   "outputs": [],
   "source": [
    "dd = dict(data[0])"
   ]
  },
  {
   "cell_type": "code",
   "execution_count": 44,
   "id": "295c0126-96a6-4202-9390-6a053a231347",
   "metadata": {},
   "outputs": [
    {
     "data": {
      "text/plain": [
       "dict_keys(['header', 'body'])"
      ]
     },
     "execution_count": 44,
     "metadata": {},
     "output_type": "execute_result"
    }
   ],
   "source": [
    "dd.keys()"
   ]
  },
  {
   "cell_type": "code",
   "execution_count": 49,
   "id": "094aa94b-937f-4c4e-b3f0-a4bb1070f5cf",
   "metadata": {},
   "outputs": [
    {
     "ename": "NameError",
     "evalue": "name 'item' is not defined",
     "output_type": "error",
     "traceback": [
      "\u001b[1;31m---------------------------------------------------------------------------\u001b[0m",
      "\u001b[1;31mNameError\u001b[0m                                 Traceback (most recent call last)",
      "Cell \u001b[1;32mIn[49], line 2\u001b[0m\n\u001b[0;32m      1\u001b[0m \u001b[38;5;28;01mfor\u001b[39;00m i \u001b[38;5;129;01min\u001b[39;00m data:\n\u001b[1;32m----> 2\u001b[0m     \u001b[38;5;28;01mfor\u001b[39;00m key \u001b[38;5;129;01min\u001b[39;00m \u001b[43mitem\u001b[49m\u001b[38;5;241m.\u001b[39mvalues():\n\u001b[0;32m      3\u001b[0m         \u001b[38;5;28mprint\u001b[39m(values)\n",
      "\u001b[1;31mNameError\u001b[0m: name 'item' is not defined"
     ]
    }
   ],
   "source": [
    "for i in data:\n",
    "    for key in item.values():\n",
    "        print(values)"
   ]
  },
  {
   "cell_type": "code",
   "execution_count": 138,
   "id": "4bb74bc8-1722-4c31-8b00-4a8e5105b2cf",
   "metadata": {},
   "outputs": [],
   "source": [
    "store = data[0]\n",
    "#print(store)"
   ]
  },
  {
   "cell_type": "code",
   "execution_count": 60,
   "id": "dbb0ac1b-6af7-4422-8a83-5a25b724e950",
   "metadata": {},
   "outputs": [],
   "source": [
    "s = dict(store)"
   ]
  },
  {
   "cell_type": "code",
   "execution_count": 139,
   "id": "12ad3e67-09d4-4245-af70-d59e267cecd5",
   "metadata": {},
   "outputs": [],
   "source": [
    "#print(s)"
   ]
  },
  {
   "cell_type": "code",
   "execution_count": 62,
   "id": "635d998a-847e-4865-adff-f2be1bcf6d61",
   "metadata": {},
   "outputs": [
    {
     "name": "stdout",
     "output_type": "stream",
     "text": [
      "header\n",
      "body\n"
     ]
    }
   ],
   "source": [
    "for i in store:\n",
    "    print(i)"
   ]
  },
  {
   "cell_type": "code",
   "execution_count": 74,
   "id": "8a2c6f0b-84ed-4dec-98c4-bf201cf11a0e",
   "metadata": {},
   "outputs": [
    {
     "name": "stdout",
     "output_type": "stream",
     "text": [
      "header\n"
     ]
    },
    {
     "ename": "AttributeError",
     "evalue": "'str' object has no attribute 'keys'",
     "output_type": "error",
     "traceback": [
      "\u001b[1;31m---------------------------------------------------------------------------\u001b[0m",
      "\u001b[1;31mAttributeError\u001b[0m                            Traceback (most recent call last)",
      "Cell \u001b[1;32mIn[74], line 3\u001b[0m\n\u001b[0;32m      1\u001b[0m \u001b[38;5;28;01mfor\u001b[39;00m i \u001b[38;5;129;01min\u001b[39;00m data[\u001b[38;5;241m0\u001b[39m]:\n\u001b[0;32m      2\u001b[0m     \u001b[38;5;28mprint\u001b[39m(i)\n\u001b[1;32m----> 3\u001b[0m     \u001b[38;5;28;01mfor\u001b[39;00m key \u001b[38;5;129;01min\u001b[39;00m \u001b[38;5;28mdict\u001b[39m(\u001b[43mi\u001b[49m\u001b[38;5;241;43m.\u001b[39;49m\u001b[43mkeys\u001b[49m()):\n\u001b[0;32m      4\u001b[0m         \u001b[38;5;28mprint\u001b[39m(key)\n",
      "\u001b[1;31mAttributeError\u001b[0m: 'str' object has no attribute 'keys'"
     ]
    }
   ],
   "source": [
    "for i in data[0]:\n",
    "    print(i)\n",
    "    for key in dict(i.keys()):\n",
    "        print(key)"
   ]
  },
  {
   "cell_type": "code",
   "execution_count": 81,
   "id": "ec68a300-5e96-427d-9b41-babcee9c0ba3",
   "metadata": {},
   "outputs": [
    {
     "name": "stdout",
     "output_type": "stream",
     "text": [
      "<class 'list'>\n",
      "<class 'dict'>\n",
      "<class 'dict'>\n"
     ]
    }
   ],
   "source": [
    "print(type(data))\n",
    "print(type(data[0]))\n",
    "print(type(data[1]))"
   ]
  },
  {
   "cell_type": "code",
   "execution_count": 82,
   "id": "8730ad3b-adc0-46d1-8d0d-bc5b989244dc",
   "metadata": {},
   "outputs": [
    {
     "name": "stdout",
     "output_type": "stream",
     "text": [
      "['header', 'body']\n"
     ]
    }
   ],
   "source": [
    "dl = list(data[0])\n",
    "print(dl)"
   ]
  },
  {
   "cell_type": "code",
   "execution_count": 87,
   "id": "0e5c17e7-ff32-42cc-92eb-d15f7ede7973",
   "metadata": {},
   "outputs": [
    {
     "name": "stdout",
     "output_type": "stream",
     "text": [
      "{'header': 'body'}\n",
      "<class 'dict'>\n"
     ]
    }
   ],
   "source": [
    "ddl = dict(data)\n",
    "print(ddl)\n",
    "print(type(ddl))"
   ]
  },
  {
   "cell_type": "code",
   "execution_count": 90,
   "id": "adc88b7f-83e2-4cf6-bb25-80bcda0c2754",
   "metadata": {
    "collapsed": true,
    "jupyter": {
     "outputs_hidden": true
    },
    "scrolled": true
   },
   "outputs": [
    {
     "data": {
      "text/plain": [
       "dict_values(['body'])"
      ]
     },
     "execution_count": 90,
     "metadata": {},
     "output_type": "execute_result"
    }
   ],
   "source": [
    "ddl.values()"
   ]
  },
  {
   "cell_type": "code",
   "execution_count": 93,
   "id": "db500f30-7aee-4197-b42b-91fb624a0ab2",
   "metadata": {},
   "outputs": [
    {
     "ename": "AttributeError",
     "evalue": "'str' object has no attribute 'items'",
     "output_type": "error",
     "traceback": [
      "\u001b[1;31m---------------------------------------------------------------------------\u001b[0m",
      "\u001b[1;31mAttributeError\u001b[0m                            Traceback (most recent call last)",
      "Cell \u001b[1;32mIn[93], line 2\u001b[0m\n\u001b[0;32m      1\u001b[0m \u001b[38;5;28;01mfor\u001b[39;00m i \u001b[38;5;129;01min\u001b[39;00m ddl:\n\u001b[1;32m----> 2\u001b[0m     \u001b[38;5;28;01mfor\u001b[39;00m key,value \u001b[38;5;129;01min\u001b[39;00m \u001b[38;5;28mlist\u001b[39m(\u001b[43mi\u001b[49m\u001b[38;5;241;43m.\u001b[39;49m\u001b[43mitems\u001b[49m()):\n\u001b[0;32m      3\u001b[0m         \u001b[38;5;28mprint\u001b[39m(key, value)\n",
      "\u001b[1;31mAttributeError\u001b[0m: 'str' object has no attribute 'items'"
     ]
    }
   ],
   "source": [
    "for i in ddl:\n",
    "    for key,value in list(i.items()):\n",
    "        print(key, value)"
   ]
  },
  {
   "cell_type": "code",
   "execution_count": 96,
   "id": "be0dba5b-cf3b-4268-918e-a33693a5655c",
   "metadata": {},
   "outputs": [
    {
     "ename": "AttributeError",
     "evalue": "'list' object has no attribute 'items'",
     "output_type": "error",
     "traceback": [
      "\u001b[1;31m---------------------------------------------------------------------------\u001b[0m",
      "\u001b[1;31mAttributeError\u001b[0m                            Traceback (most recent call last)",
      "Cell \u001b[1;32mIn[96], line 1\u001b[0m\n\u001b[1;32m----> 1\u001b[0m \u001b[38;5;28;01mfor\u001b[39;00m i,j \u001b[38;5;129;01min\u001b[39;00m \u001b[38;5;28mlist\u001b[39m[\u001b[43mdata\u001b[49m\u001b[38;5;241;43m.\u001b[39;49m\u001b[43mitems\u001b[49m()]:\n\u001b[0;32m      2\u001b[0m     \u001b[38;5;28mprint\u001b[39m(\u001b[38;5;124mf\u001b[39m\u001b[38;5;124m\"\u001b[39m\u001b[38;5;124mstore : \u001b[39m\u001b[38;5;132;01m{\u001b[39;00mi\u001b[38;5;132;01m}\u001b[39;00m\u001b[38;5;124m\"\u001b[39m)\n",
      "\u001b[1;31mAttributeError\u001b[0m: 'list' object has no attribute 'items'"
     ]
    }
   ],
   "source": [
    "for i,j in list[data.items()]:\n",
    "    print(f\"store : {i}\")"
   ]
  },
  {
   "cell_type": "code",
   "execution_count": 98,
   "id": "738d72bd-ef40-4d66-ad9f-67cd54674a83",
   "metadata": {},
   "outputs": [
    {
     "name": "stdout",
     "output_type": "stream",
     "text": [
      "Element is not a dictionary: header\n",
      "<class 'str'>\n"
     ]
    }
   ],
   "source": [
    "for i in ddl:\n",
    "    if isinstance(i, dict):  # 요소가 딕셔너리인지 확인\n",
    "        for key, value in i.items():\n",
    "            print(key, value)\n",
    "    else:\n",
    "        print(f\"Element is not a dictionary: {i}\")\n",
    "        print(type(i))\n"
   ]
  },
  {
   "cell_type": "code",
   "execution_count": 102,
   "id": "1c28b324-ebc2-457c-9f39-1466e3340162",
   "metadata": {
    "scrolled": true
   },
   "outputs": [
    {
     "ename": "ValueError",
     "evalue": "dictionary update sequence element #0 has length 1; 2 is required",
     "output_type": "error",
     "traceback": [
      "\u001b[1;31m---------------------------------------------------------------------------\u001b[0m",
      "\u001b[1;31mValueError\u001b[0m                                Traceback (most recent call last)",
      "Cell \u001b[1;32mIn[102], line 2\u001b[0m\n\u001b[0;32m      1\u001b[0m \u001b[38;5;28;01mfor\u001b[39;00m i \u001b[38;5;129;01min\u001b[39;00m ddl:\n\u001b[1;32m----> 2\u001b[0m     \u001b[38;5;28;01mfor\u001b[39;00m key,value \u001b[38;5;129;01min\u001b[39;00m \u001b[38;5;28;43mdict\u001b[39;49m\u001b[43m(\u001b[49m\u001b[43mi\u001b[49m\u001b[43m)\u001b[49m\u001b[38;5;241m.\u001b[39mitems():\n\u001b[0;32m      3\u001b[0m         prit(key, value)\n",
      "\u001b[1;31mValueError\u001b[0m: dictionary update sequence element #0 has length 1; 2 is required"
     ]
    }
   ],
   "source": [
    "for i in ddl:\n",
    "    for key,value in dict(i).items():\n",
    "        prit(key, value)\n",
    "    "
   ]
  },
  {
   "cell_type": "code",
   "execution_count": 103,
   "id": "fd1de78a-3823-43c4-9667-4c8a7a198686",
   "metadata": {},
   "outputs": [
    {
     "name": "stderr",
     "output_type": "stream",
     "text": [
      "IOPub data rate exceeded.\n",
      "The Jupyter server will temporarily stop sending output\n",
      "to the client in order to avoid crashing it.\n",
      "To change this limit, set the config variable\n",
      "`--ServerApp.iopub_data_rate_limit`.\n",
      "\n",
      "Current values:\n",
      "ServerApp.iopub_data_rate_limit=10000000.0 (bytes/sec)\n",
      "ServerApp.rate_limit_window=3.0 (secs)\n",
      "\n"
     ]
    }
   ],
   "source": [
    "for i in data:\n",
    "    for j in i:\n",
    "        print(j, i[j])"
   ]
  },
  {
   "cell_type": "code",
   "execution_count": 120,
   "id": "55055520-c539-4811-bda8-63a97fdab37c",
   "metadata": {},
   "outputs": [],
   "source": [
    "h1 = list(dict(data[0].items()))"
   ]
  },
  {
   "cell_type": "code",
   "execution_count": 121,
   "id": "8c9877d5-788f-4bb9-bce0-239772f47fa6",
   "metadata": {},
   "outputs": [
    {
     "data": {
      "text/plain": [
       "['header', 'body']"
      ]
     },
     "execution_count": 121,
     "metadata": {},
     "output_type": "execute_result"
    }
   ],
   "source": [
    "h1"
   ]
  },
  {
   "cell_type": "code",
   "execution_count": null,
   "id": "994f624d-8b20-4cb3-bd3e-d7da5018f782",
   "metadata": {},
   "outputs": [],
   "source": []
  },
  {
   "cell_type": "code",
   "execution_count": null,
   "id": "23f45ecf-de56-457c-9432-c38b2df5f1ba",
   "metadata": {},
   "outputs": [],
   "source": []
  },
  {
   "cell_type": "code",
   "execution_count": null,
   "id": "4e78923d-4363-4fd1-8ee6-b5ff065be5a9",
   "metadata": {},
   "outputs": [],
   "source": []
  },
  {
   "cell_type": "code",
   "execution_count": null,
   "id": "af92acac-fa61-44ba-8595-76937ffdbae5",
   "metadata": {},
   "outputs": [],
   "source": []
  },
  {
   "cell_type": "code",
   "execution_count": null,
   "id": "63a420fd-c8d9-4660-8fb4-400936f70433",
   "metadata": {},
   "outputs": [],
   "source": []
  },
  {
   "cell_type": "code",
   "execution_count": null,
   "id": "986b30dd-7d43-4ef1-aea7-62b2dd736d3b",
   "metadata": {},
   "outputs": [],
   "source": []
  },
  {
   "cell_type": "code",
   "execution_count": null,
   "id": "d0dd0c72-b368-4fed-a423-b8e928b451d6",
   "metadata": {},
   "outputs": [],
   "source": []
  },
  {
   "cell_type": "code",
   "execution_count": null,
   "id": "a90d0898-5153-43c3-9d20-e71f0dffbba7",
   "metadata": {},
   "outputs": [],
   "source": []
  },
  {
   "cell_type": "code",
   "execution_count": null,
   "id": "d24f3ae8-9f52-4c52-84de-5bf7af413ed9",
   "metadata": {},
   "outputs": [],
   "source": []
  },
  {
   "cell_type": "code",
   "execution_count": null,
   "id": "b54a58fe-87ed-4159-9345-100035fe03f7",
   "metadata": {},
   "outputs": [],
   "source": []
  },
  {
   "cell_type": "code",
   "execution_count": null,
   "id": "c71dc784-dfbd-4302-b1db-0ef5cde3fb2b",
   "metadata": {},
   "outputs": [],
   "source": []
  },
  {
   "cell_type": "code",
   "execution_count": null,
   "id": "bd7a0b8a-e419-4023-8285-223b8e0a3605",
   "metadata": {},
   "outputs": [],
   "source": []
  },
  {
   "cell_type": "code",
   "execution_count": null,
   "id": "4b96ef9b-1040-42ee-b987-17476373cb9f",
   "metadata": {},
   "outputs": [],
   "source": []
  },
  {
   "cell_type": "code",
   "execution_count": null,
   "id": "7b7ce3e9-2393-41c4-8421-93fbda9c4b07",
   "metadata": {},
   "outputs": [],
   "source": []
  },
  {
   "cell_type": "code",
   "execution_count": null,
   "id": "9208e569-e39a-4bc6-8197-a1fcaa8fe293",
   "metadata": {},
   "outputs": [],
   "source": []
  },
  {
   "cell_type": "code",
   "execution_count": null,
   "id": "a87788fb-4b58-4135-b37a-5a2f821394c4",
   "metadata": {},
   "outputs": [],
   "source": []
  },
  {
   "cell_type": "code",
   "execution_count": null,
   "id": "ce44c6ad-23d4-44e9-aa16-c215ecaca33f",
   "metadata": {},
   "outputs": [],
   "source": []
  },
  {
   "cell_type": "code",
   "execution_count": null,
   "id": "4646bad0-1613-409d-9999-d3a6665bc868",
   "metadata": {},
   "outputs": [],
   "source": []
  },
  {
   "cell_type": "code",
   "execution_count": null,
   "id": "538bb8ff-23a0-4f87-aace-687bfa269bc1",
   "metadata": {},
   "outputs": [],
   "source": []
  },
  {
   "cell_type": "code",
   "execution_count": null,
   "id": "2805f71c-51df-4dbb-8835-6c3ca570180d",
   "metadata": {},
   "outputs": [],
   "source": []
  },
  {
   "cell_type": "code",
   "execution_count": null,
   "id": "a50b3512-0597-41b5-9ce1-14f59746af99",
   "metadata": {},
   "outputs": [],
   "source": []
  },
  {
   "cell_type": "code",
   "execution_count": null,
   "id": "0c59ad7e-5d4a-4344-9ee0-6a285c0eb2d0",
   "metadata": {},
   "outputs": [],
   "source": []
  },
  {
   "cell_type": "code",
   "execution_count": null,
   "id": "420536df-990c-4f41-99e5-b8c5adb2f17d",
   "metadata": {},
   "outputs": [],
   "source": []
  },
  {
   "cell_type": "code",
   "execution_count": null,
   "id": "1836d1c2-263f-4372-b78e-ccacb9b5c682",
   "metadata": {},
   "outputs": [],
   "source": []
  },
  {
   "cell_type": "code",
   "execution_count": null,
   "id": "fac8d089-0d0b-40c2-b044-ca09b97b2b1d",
   "metadata": {},
   "outputs": [],
   "source": []
  },
  {
   "cell_type": "code",
   "execution_count": null,
   "id": "8423c14a-356d-4be1-b3fa-06c8daf6b2e8",
   "metadata": {},
   "outputs": [],
   "source": []
  },
  {
   "cell_type": "code",
   "execution_count": null,
   "id": "0ce8994f-a0ac-4b58-bcdd-bc722d9366e9",
   "metadata": {},
   "outputs": [],
   "source": []
  },
  {
   "cell_type": "code",
   "execution_count": null,
   "id": "a5059f70-1836-4b99-94ea-fc4b2a91ce9c",
   "metadata": {},
   "outputs": [],
   "source": []
  },
  {
   "cell_type": "code",
   "execution_count": null,
   "id": "6a8d5c3d-3d99-4f35-8e09-a5491d294ff1",
   "metadata": {},
   "outputs": [],
   "source": []
  },
  {
   "cell_type": "code",
   "execution_count": null,
   "id": "e6107cbd-57b7-4f8a-9b56-c9948b893040",
   "metadata": {},
   "outputs": [],
   "source": []
  },
  {
   "cell_type": "code",
   "execution_count": null,
   "id": "8ed718df-becc-41ae-8ae3-6ae670230283",
   "metadata": {},
   "outputs": [],
   "source": []
  },
  {
   "cell_type": "code",
   "execution_count": null,
   "id": "3ac06df3-dcc0-4de3-83ed-fa1d84b8d35e",
   "metadata": {},
   "outputs": [],
   "source": []
  },
  {
   "cell_type": "code",
   "execution_count": null,
   "id": "c333b985-fb1c-4fc5-9515-30bb3fdd2986",
   "metadata": {},
   "outputs": [],
   "source": []
  },
  {
   "cell_type": "code",
   "execution_count": null,
   "id": "9fa99d93-b404-47b1-9b57-358ea6a3474c",
   "metadata": {},
   "outputs": [],
   "source": []
  },
  {
   "cell_type": "code",
   "execution_count": null,
   "id": "e43c96e9-749a-4f2b-b161-01465a0afcc6",
   "metadata": {},
   "outputs": [],
   "source": []
  },
  {
   "cell_type": "code",
   "execution_count": null,
   "id": "4a736f1c-39a7-459f-b8ca-04b7324241bb",
   "metadata": {},
   "outputs": [],
   "source": []
  },
  {
   "cell_type": "code",
   "execution_count": null,
   "id": "effe7be6-acc5-4343-8614-e63edbe30481",
   "metadata": {},
   "outputs": [],
   "source": []
  },
  {
   "cell_type": "code",
   "execution_count": null,
   "id": "0ae17c5b-4336-4286-8522-418cd307dc7a",
   "metadata": {},
   "outputs": [],
   "source": []
  },
  {
   "cell_type": "code",
   "execution_count": null,
   "id": "d87bd484-49c5-4b88-8b96-94ac4ed36ba2",
   "metadata": {},
   "outputs": [],
   "source": []
  },
  {
   "cell_type": "code",
   "execution_count": null,
   "id": "e11fcaf5-2d83-4c31-9821-9ce70edc443a",
   "metadata": {},
   "outputs": [],
   "source": []
  },
  {
   "cell_type": "code",
   "execution_count": null,
   "id": "7629cc10-6375-40a5-97af-45c7230f31a5",
   "metadata": {},
   "outputs": [],
   "source": []
  },
  {
   "cell_type": "code",
   "execution_count": null,
   "id": "9e7f3e2a-7d91-4b73-9f33-4d599ff902a3",
   "metadata": {},
   "outputs": [],
   "source": []
  }
 ],
 "metadata": {
  "kernelspec": {
   "display_name": "Python 3 (ipykernel)",
   "language": "python",
   "name": "python3"
  },
  "language_info": {
   "codemirror_mode": {
    "name": "ipython",
    "version": 3
   },
   "file_extension": ".py",
   "mimetype": "text/x-python",
   "name": "python",
   "nbconvert_exporter": "python",
   "pygments_lexer": "ipython3",
   "version": "3.10.14"
  }
 },
 "nbformat": 4,
 "nbformat_minor": 5
}
