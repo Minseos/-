{
 "cells": [
  {
   "cell_type": "markdown",
   "id": "95f75ee8",
   "metadata": {},
   "source": [
    "# 클래스 만들기\n",
    "* 클래스는 객체지향 프로그래밍의 핵심\n",
    "* 클래스 하나에 여러개의 함수(매서드)를 포함\n",
    "* 클래스 = 커피머신 공장\n",
    "* 매서드 = 커피머신의 기능 (에스프레소, 아메리카노, 카페라떼, 카푸치노)\n"
   ]
  },
  {
   "cell_type": "markdown",
   "id": "3c68196c",
   "metadata": {},
   "source": [
    "더하기 함수 만들기"
   ]
  },
  {
   "cell_type": "code",
   "execution_count": 1,
   "id": "cd1fe87e",
   "metadata": {},
   "outputs": [],
   "source": [
    "def add(num1, num2):\n",
    "    result = num1 + num2\n",
    "    return result"
   ]
  },
  {
   "cell_type": "code",
   "execution_count": 2,
   "id": "95db093a",
   "metadata": {},
   "outputs": [
    {
     "data": {
      "text/plain": [
       "8"
      ]
     },
     "execution_count": 2,
     "metadata": {},
     "output_type": "execute_result"
    }
   ],
   "source": [
    "add(3, 5)"
   ]
  },
  {
   "cell_type": "code",
   "execution_count": null,
   "id": "88e47627",
   "metadata": {},
   "outputs": [],
   "source": []
  },
  {
   "cell_type": "code",
   "execution_count": 62,
   "id": "3d5a70c4",
   "metadata": {},
   "outputs": [],
   "source": [
    "result_cal = 0\n",
    "def add(num):\n",
    "    global result_cal\n",
    "    result_cal += num\n",
    "    return result_cal\n",
    "\n",
    "result_cal2 = 0\n",
    "def add2(num):\n",
    "    global result_cal2\n",
    "    result_cal2 += num\n",
    "    return result_cal2"
   ]
  },
  {
   "cell_type": "code",
   "execution_count": 69,
   "id": "2791fda4",
   "metadata": {},
   "outputs": [
    {
     "data": {
      "text/plain": [
       "3"
      ]
     },
     "execution_count": 69,
     "metadata": {},
     "output_type": "execute_result"
    }
   ],
   "source": [
    "add2(3)"
   ]
  },
  {
   "cell_type": "code",
   "execution_count": 34,
   "id": "204ebcac",
   "metadata": {},
   "outputs": [
    {
     "name": "stdout",
     "output_type": "stream",
     "text": [
      "45\n"
     ]
    }
   ],
   "source": [
    "result = 0\n",
    "for i in range(1,10):\n",
    "    result += i\n",
    "print(result)"
   ]
  },
  {
   "cell_type": "code",
   "execution_count": 15,
   "id": "f62ccd59",
   "metadata": {},
   "outputs": [],
   "source": [
    "result = 0\n",
    "def add2(num, result=0):\n",
    "    result += num\n",
    "    return result"
   ]
  },
  {
   "cell_type": "code",
   "execution_count": 31,
   "id": "abd4757f",
   "metadata": {},
   "outputs": [
    {
     "data": {
      "text/plain": [
       "3"
      ]
     },
     "execution_count": 31,
     "metadata": {},
     "output_type": "execute_result"
    }
   ],
   "source": [
    "add2(3)"
   ]
  },
  {
   "cell_type": "markdown",
   "id": "59b6be54",
   "metadata": {},
   "source": [
    "위의 방식으로 함수를 만들면 이전 데이터를 기억하게 할 수 있지만 초기화를 하거나 여러사람이 사용하면서 각기 다른 계산을 할 수 없다.<br>\n",
    "사용자가 늘어나면 변수와 함수를 따로 만들어야 한다.<br>\n",
    "여러 사람이 각자 다른 계산을 할 수 있고 이전 값을 기억할 수 있도록 만들려면 클래스를 이용해서 만들어야 한다."
   ]
  },
  {
   "cell_type": "markdown",
   "id": "81f83848",
   "metadata": {},
   "source": [
    "클래스로 계산기 만들기<br>\n",
    "class 클래스명ClassName:  # 클래스명을 만들때는 대문자로 시작하고 카멜 표기법을 사용<br>\n",
    "____def 매소드명():<br>\n",
    "________실행할 코드<br>\n",
    "________return<br>"
   ]
  },
  {
   "cell_type": "code",
   "execution_count": 71,
   "id": "d26eb855",
   "metadata": {},
   "outputs": [],
   "source": [
    "class Calculator():\n",
    "    def __init__(self):   # self는 Calculator()\n",
    "        self.result = 0\n",
    "    def add(self, num):    # self는 Calculator.add(num)\n",
    "        self.result += num\n",
    "        return self.result"
   ]
  },
  {
   "cell_type": "markdown",
   "id": "83882a2d",
   "metadata": {},
   "source": [
    "클래스 사용방법\n",
    "* 변수에 클래스를 담아서 인스턴스 생성\n",
    "* 인스턴스 변수명 = 클래스명()으로 생성할 수 있다.\n",
    "* 인스턴스를 생성하고 나면 인스턴스.매소드 형식으로 클래스에 정의한 매소드를 사용할 수 있다."
   ]
  },
  {
   "cell_type": "code",
   "execution_count": 78,
   "id": "93dd7f5a",
   "metadata": {},
   "outputs": [],
   "source": [
    "calc = (lambda x: x + 5)"
   ]
  },
  {
   "cell_type": "code",
   "execution_count": 79,
   "id": "7bbb424a",
   "metadata": {},
   "outputs": [
    {
     "data": {
      "text/plain": [
       "10"
      ]
     },
     "execution_count": 79,
     "metadata": {},
     "output_type": "execute_result"
    }
   ],
   "source": [
    "calc(5)"
   ]
  },
  {
   "cell_type": "code",
   "execution_count": 75,
   "id": "c71cacfb",
   "metadata": {},
   "outputs": [],
   "source": [
    "# cal1 변수에 Calculator() 클래스를 담아 인스턴스 생성\n",
    "cal1 = Calculator() "
   ]
  },
  {
   "cell_type": "code",
   "execution_count": 77,
   "id": "70af56d9",
   "metadata": {},
   "outputs": [
    {
     "name": "stdout",
     "output_type": "stream",
     "text": [
      "<__main__.Calculator object at 0x000001EFCA002DD0>\n",
      "<class '__main__.Calculator'>\n"
     ]
    }
   ],
   "source": [
    "print(cal1)\n",
    "print(type(cal1))"
   ]
  },
  {
   "cell_type": "code",
   "execution_count": 95,
   "id": "009baa32",
   "metadata": {},
   "outputs": [
    {
     "data": {
      "text/plain": [
       "24"
      ]
     },
     "execution_count": 95,
     "metadata": {},
     "output_type": "execute_result"
    }
   ],
   "source": [
    "cal1.add(2)"
   ]
  },
  {
   "cell_type": "code",
   "execution_count": 86,
   "id": "bbca6a22",
   "metadata": {},
   "outputs": [],
   "source": [
    "cal2 = Calculator() "
   ]
  },
  {
   "cell_type": "code",
   "execution_count": 94,
   "id": "e4b6d83e",
   "metadata": {},
   "outputs": [
    {
     "data": {
      "text/plain": [
       "11"
      ]
     },
     "execution_count": 94,
     "metadata": {},
     "output_type": "execute_result"
    }
   ],
   "source": [
    "cal2.add(1)"
   ]
  },
  {
   "cell_type": "code",
   "execution_count": 91,
   "id": "244c4dff",
   "metadata": {},
   "outputs": [],
   "source": [
    "cal3 = Calculator()"
   ]
  },
  {
   "cell_type": "code",
   "execution_count": 98,
   "id": "47a9dca6",
   "metadata": {},
   "outputs": [
    {
     "data": {
      "text/plain": [
       "205"
      ]
     },
     "execution_count": 98,
     "metadata": {},
     "output_type": "execute_result"
    }
   ],
   "source": [
    "cal3.add(6)"
   ]
  },
  {
   "cell_type": "code",
   "execution_count": 96,
   "id": "1609af94",
   "metadata": {},
   "outputs": [],
   "source": [
    "cal4 = Calculator()"
   ]
  },
  {
   "cell_type": "code",
   "execution_count": 97,
   "id": "ad6dc758",
   "metadata": {
    "scrolled": true
   },
   "outputs": [
    {
     "data": {
      "text/plain": [
       "5"
      ]
     },
     "execution_count": 97,
     "metadata": {},
     "output_type": "execute_result"
    }
   ],
   "source": [
    "cal4.add(5)"
   ]
  },
  {
   "cell_type": "markdown",
   "id": "1daf8916",
   "metadata": {},
   "source": [
    "* Calculator 클래스로 만들 별개의 계산기 cal1, cal2를 파이썬에서는 인스턴스(instance)혹은 객체(object)라고 부른다.\n",
    "* 각각의 인스턴스는 독립적으로 역할을 수행\n",
    "* 계산기 cal1과 cal2의 결과값은 서로 독립적으로 유지한다.\n",
    "* 클래스 = 커피머신 공장에서 만든 커피머신\n",
    "* 인스턴스 = 커피머신을 산 고객\n",
    "* 같은 기계를 가지고 있기 때문에 동일한 기능을 가짐\n",
    "* 사용자에 따라서 각기 다르게 사용 된다."
   ]
  },
  {
   "cell_type": "code",
   "execution_count": 99,
   "id": "3f33deb4",
   "metadata": {},
   "outputs": [],
   "source": [
    "class Calculator():\n",
    "    def __init__(self):   # self는 Calculator()\n",
    "        self.result = 0\n",
    "    \n",
    "    def add(self, num):    # self는 Calculator.add(num)\n",
    "        self.result += num\n",
    "        return self.result\n",
    "    \n",
    "    def sub(self, num):\n",
    "        self.result -= num\n",
    "        return self.result"
   ]
  },
  {
   "cell_type": "code",
   "execution_count": 100,
   "id": "c55d5369",
   "metadata": {},
   "outputs": [],
   "source": [
    "james = Calculator()"
   ]
  },
  {
   "cell_type": "code",
   "execution_count": 102,
   "id": "2bb0d4ee",
   "metadata": {},
   "outputs": [
    {
     "data": {
      "text/plain": [
       "8"
      ]
     },
     "execution_count": 102,
     "metadata": {},
     "output_type": "execute_result"
    }
   ],
   "source": [
    "james.add(5)"
   ]
  },
  {
   "cell_type": "code",
   "execution_count": 105,
   "id": "10f05a37",
   "metadata": {
    "scrolled": true
   },
   "outputs": [
    {
     "data": {
      "text/plain": [
       "-7"
      ]
     },
     "execution_count": 105,
     "metadata": {},
     "output_type": "execute_result"
    }
   ],
   "source": [
    "james.sub(7)"
   ]
  },
  {
   "cell_type": "code",
   "execution_count": 106,
   "id": "c9f55cb5",
   "metadata": {},
   "outputs": [],
   "source": [
    "susan = Calculator()"
   ]
  },
  {
   "cell_type": "code",
   "execution_count": 110,
   "id": "202943c0",
   "metadata": {},
   "outputs": [
    {
     "data": {
      "text/plain": [
       "24"
      ]
     },
     "execution_count": 110,
     "metadata": {},
     "output_type": "execute_result"
    }
   ],
   "source": [
    "susan.add(9)"
   ]
  },
  {
   "cell_type": "code",
   "execution_count": 111,
   "id": "6a5331c7",
   "metadata": {},
   "outputs": [
    {
     "data": {
      "text/plain": [
       "19"
      ]
     },
     "execution_count": 111,
     "metadata": {},
     "output_type": "execute_result"
    }
   ],
   "source": [
    "susan.sub(5)"
   ]
  },
  {
   "cell_type": "markdown",
   "id": "e167f091",
   "metadata": {},
   "source": [
    "## 매소드(method)\n",
    "* class안에 정의하는 함수\n",
    "* 클래스에 기능을 만들어 준다.<br>\n",
    "def 매소드명(self, 매개변수, num2):<br>\n",
    "____self.매개변수 = 매개변수<br>\n",
    "____self.num2 = num2"
   ]
  },
  {
   "cell_type": "markdown",
   "id": "85043a74",
   "metadata": {},
   "source": [
    "사칙연산이 가능한 FourCal 계산기 만들기"
   ]
  },
  {
   "cell_type": "code",
   "execution_count": 112,
   "id": "ca13a597",
   "metadata": {},
   "outputs": [],
   "source": [
    "# FourCal 이라는 클래스를 만들고 숫자를 입력받는 setdata 매소드 만들기\n",
    "class FourCal():\n",
    "    def setdata(self, num1, num2):\n",
    "        self.num1 = num1\n",
    "        self.num2 = num2\n",
    "        print(\"self.num1 :\", self.num1)\n",
    "        print(\"self.num2 :\", self.num2)"
   ]
  },
  {
   "cell_type": "code",
   "execution_count": 113,
   "id": "fed1f23d",
   "metadata": {},
   "outputs": [],
   "source": [
    "sam = FourCal()"
   ]
  },
  {
   "cell_type": "code",
   "execution_count": 114,
   "id": "1cf8d9cd",
   "metadata": {},
   "outputs": [
    {
     "name": "stdout",
     "output_type": "stream",
     "text": [
      "self.num1 : 4\n",
      "self.num2 : 2\n"
     ]
    }
   ],
   "source": [
    "sam.setdata(4, 2)"
   ]
  },
  {
   "cell_type": "code",
   "execution_count": 129,
   "id": "efcea664",
   "metadata": {},
   "outputs": [],
   "source": [
    "# FourCal 이라는 클래스를 만들고 숫자를 입력받는 setdata 매소드 만들기\n",
    "# add 기능 추가하기\n",
    "class FourCal():\n",
    "    def setdata(self, num1, num2):\n",
    "        self.num1 = num1\n",
    "        self.num2 = num2\n",
    "        print(\"self.num1 :\", self.num1)\n",
    "        print(\"self.num2 :\", self.num2)\n",
    "    \n",
    "    def add(self):\n",
    "        result = self.num1 + self.num2\n",
    "        return result\n",
    "    \n",
    "    def sub(self):\n",
    "        result = self.num1 - self.num2\n",
    "        return result\n",
    "    \n",
    "    def mul(self):\n",
    "        result = self.num1 * self.num2\n",
    "        return result\n",
    "    \n",
    "    def div(self):\n",
    "        result = self.num1 / self.num2\n",
    "        return result"
   ]
  },
  {
   "cell_type": "code",
   "execution_count": 150,
   "id": "a26e62a1",
   "metadata": {},
   "outputs": [],
   "source": [
    "sam = FourCal()"
   ]
  },
  {
   "cell_type": "code",
   "execution_count": 151,
   "id": "8b7dc4a8",
   "metadata": {},
   "outputs": [
    {
     "ename": "AttributeError",
     "evalue": "'FourCal' object has no attribute 'num1'",
     "output_type": "error",
     "traceback": [
      "\u001b[1;31m---------------------------------------------------------------------------\u001b[0m",
      "\u001b[1;31mAttributeError\u001b[0m                            Traceback (most recent call last)",
      "Cell \u001b[1;32mIn[151], line 1\u001b[0m\n\u001b[1;32m----> 1\u001b[0m \u001b[43msam\u001b[49m\u001b[38;5;241;43m.\u001b[39;49m\u001b[43madd\u001b[49m\u001b[43m(\u001b[49m\u001b[43m)\u001b[49m\n",
      "Cell \u001b[1;32mIn[129], line 11\u001b[0m, in \u001b[0;36mFourCal.add\u001b[1;34m(self)\u001b[0m\n\u001b[0;32m     10\u001b[0m \u001b[38;5;28;01mdef\u001b[39;00m \u001b[38;5;21madd\u001b[39m(\u001b[38;5;28mself\u001b[39m):\n\u001b[1;32m---> 11\u001b[0m     result \u001b[38;5;241m=\u001b[39m \u001b[38;5;28;43mself\u001b[39;49m\u001b[38;5;241;43m.\u001b[39;49m\u001b[43mnum1\u001b[49m \u001b[38;5;241m+\u001b[39m \u001b[38;5;28mself\u001b[39m\u001b[38;5;241m.\u001b[39mnum2\n\u001b[0;32m     12\u001b[0m     \u001b[38;5;28;01mreturn\u001b[39;00m result\n",
      "\u001b[1;31mAttributeError\u001b[0m: 'FourCal' object has no attribute 'num1'"
     ]
    }
   ],
   "source": [
    "sam.add()"
   ]
  },
  {
   "cell_type": "code",
   "execution_count": 152,
   "id": "320ba436",
   "metadata": {
    "scrolled": true
   },
   "outputs": [
    {
     "name": "stdout",
     "output_type": "stream",
     "text": [
      "self.num1 : 100\n",
      "self.num2 : 24\n"
     ]
    }
   ],
   "source": [
    "sam.setdata(100,24)"
   ]
  },
  {
   "cell_type": "code",
   "execution_count": 153,
   "id": "8043f796",
   "metadata": {},
   "outputs": [
    {
     "data": {
      "text/plain": [
       "124"
      ]
     },
     "execution_count": 153,
     "metadata": {},
     "output_type": "execute_result"
    }
   ],
   "source": [
    "sam.add()"
   ]
  },
  {
   "cell_type": "code",
   "execution_count": 154,
   "id": "254a0483",
   "metadata": {},
   "outputs": [
    {
     "data": {
      "text/plain": [
       "76"
      ]
     },
     "execution_count": 154,
     "metadata": {},
     "output_type": "execute_result"
    }
   ],
   "source": [
    "sam.sub()"
   ]
  },
  {
   "cell_type": "code",
   "execution_count": 155,
   "id": "0feba536",
   "metadata": {},
   "outputs": [
    {
     "data": {
      "text/plain": [
       "2400"
      ]
     },
     "execution_count": 155,
     "metadata": {},
     "output_type": "execute_result"
    }
   ],
   "source": [
    "sam.mul()"
   ]
  },
  {
   "cell_type": "code",
   "execution_count": 156,
   "id": "3a36e45d",
   "metadata": {},
   "outputs": [
    {
     "data": {
      "text/plain": [
       "4.166666666666667"
      ]
     },
     "execution_count": 156,
     "metadata": {},
     "output_type": "execute_result"
    }
   ],
   "source": [
    "sam.div()"
   ]
  },
  {
   "cell_type": "markdown",
   "id": "37c54167",
   "metadata": {},
   "source": [
    "## 생성자\n",
    "* 객체에 num1, num2와 같은 초기값을 설정해야 할 필요가 있을 때 setmethod와 같은 것을 호출해서 초기값을 설정하는 것보다 생성자를 만들어서 인스턴스를 생성할 때 값을 바로 받는 것이 더 좋다.\n",
    "* 생성자(consturctor)란 객체(인스턴스)가 생성될 때 자동으로 호출되는 매서드\n",
    "* class 내에서 매서드명으로 \\_\\_init\\_\\_ 를 사용하면 그것이 생성자가 된다."
   ]
  },
  {
   "cell_type": "code",
   "execution_count": 169,
   "id": "7a607434",
   "metadata": {},
   "outputs": [],
   "source": [
    "class FourCal2():\n",
    "    def __init__(self, num1, num2): # 생성자\n",
    "        self.num1 = num1   # self.num1 인스턴스 변수\n",
    "        self.num2 = num2   # self.num2 인스턴스 변수\n",
    "        \n",
    "    def add(self):\n",
    "        result = self.num1 + self.num2\n",
    "        return result\n",
    "    \n",
    "    def sub(self):\n",
    "        result = self.num1 - self.num2\n",
    "        return result\n",
    "    \n",
    "    def mul(self):\n",
    "        result = self.num1 * self.num2\n",
    "        return result\n",
    "    \n",
    "    def div(self):\n",
    "        result = self.num1 / self.num2\n",
    "        return result"
   ]
  },
  {
   "cell_type": "code",
   "execution_count": 171,
   "id": "87c2d0ab",
   "metadata": {},
   "outputs": [],
   "source": [
    "james = FourCal2(5,100)"
   ]
  },
  {
   "cell_type": "code",
   "execution_count": 172,
   "id": "b7ec3e0e",
   "metadata": {},
   "outputs": [
    {
     "data": {
      "text/plain": [
       "105"
      ]
     },
     "execution_count": 172,
     "metadata": {},
     "output_type": "execute_result"
    }
   ],
   "source": [
    "james.add()"
   ]
  },
  {
   "cell_type": "code",
   "execution_count": 173,
   "id": "9b72da00",
   "metadata": {},
   "outputs": [
    {
     "data": {
      "text/plain": [
       "-95"
      ]
     },
     "execution_count": 173,
     "metadata": {},
     "output_type": "execute_result"
    }
   ],
   "source": [
    "james.sub()"
   ]
  },
  {
   "cell_type": "code",
   "execution_count": 174,
   "id": "dbde1755",
   "metadata": {},
   "outputs": [
    {
     "data": {
      "text/plain": [
       "500"
      ]
     },
     "execution_count": 174,
     "metadata": {},
     "output_type": "execute_result"
    }
   ],
   "source": [
    "james.mul()"
   ]
  },
  {
   "cell_type": "code",
   "execution_count": 175,
   "id": "b67552c6",
   "metadata": {},
   "outputs": [
    {
     "data": {
      "text/plain": [
       "-95"
      ]
     },
     "execution_count": 175,
     "metadata": {},
     "output_type": "execute_result"
    }
   ],
   "source": [
    "james.sub()"
   ]
  },
  {
   "cell_type": "markdown",
   "id": "b0ccb5ad",
   "metadata": {},
   "source": [
    "## 클래스의 상속\n",
    "* 어떤 클래스를 만들 때 다른 클래스의 기능을 물려받는 것\n",
    "* 기존 클래스 + 기능을 추가할 때\n",
    "* A클래를 상속받아 B클래스를 생성한다고 할 때, B클래스는 A 클래스의 모든 기능을 사용할 수 있다."
   ]
  },
  {
   "cell_type": "markdown",
   "id": "64411336",
   "metadata": {},
   "source": [
    "FourCal2을 상속받아 제곱 기능을 추가한 MoreFourCal 만들기"
   ]
  },
  {
   "cell_type": "code",
   "execution_count": 182,
   "id": "9d3b1fda",
   "metadata": {},
   "outputs": [],
   "source": [
    "class MoreFourCal(FourCal2):\n",
    "    def pow(self):\n",
    "        result = self.num1 ** self.num2\n",
    "        return result"
   ]
  },
  {
   "cell_type": "code",
   "execution_count": 185,
   "id": "7f5383d4",
   "metadata": {},
   "outputs": [],
   "source": [
    "sally = MoreFourCal(100, 4)"
   ]
  },
  {
   "cell_type": "code",
   "execution_count": 186,
   "id": "3d846f4f",
   "metadata": {},
   "outputs": [
    {
     "data": {
      "text/plain": [
       "100000000"
      ]
     },
     "execution_count": 186,
     "metadata": {},
     "output_type": "execute_result"
    }
   ],
   "source": [
    "sally.pow()"
   ]
  },
  {
   "cell_type": "code",
   "execution_count": 187,
   "id": "b07b4a82",
   "metadata": {},
   "outputs": [
    {
     "data": {
      "text/plain": [
       "104"
      ]
     },
     "execution_count": 187,
     "metadata": {},
     "output_type": "execute_result"
    }
   ],
   "source": [
    "sally.add()"
   ]
  },
  {
   "cell_type": "code",
   "execution_count": 188,
   "id": "0331db69",
   "metadata": {},
   "outputs": [
    {
     "data": {
      "text/plain": [
       "96"
      ]
     },
     "execution_count": 188,
     "metadata": {},
     "output_type": "execute_result"
    }
   ],
   "source": [
    "sally.sub()"
   ]
  },
  {
   "cell_type": "code",
   "execution_count": 189,
   "id": "ded2d4e8",
   "metadata": {
    "scrolled": true
   },
   "outputs": [
    {
     "data": {
      "text/plain": [
       "400"
      ]
     },
     "execution_count": 189,
     "metadata": {},
     "output_type": "execute_result"
    }
   ],
   "source": [
    "sally.mul()"
   ]
  },
  {
   "cell_type": "code",
   "execution_count": 190,
   "id": "3f783924",
   "metadata": {
    "scrolled": true
   },
   "outputs": [
    {
     "data": {
      "text/plain": [
       "25.0"
      ]
     },
     "execution_count": 190,
     "metadata": {},
     "output_type": "execute_result"
    }
   ],
   "source": [
    "sally.div()"
   ]
  },
  {
   "cell_type": "code",
   "execution_count": 191,
   "id": "c1d5d949",
   "metadata": {},
   "outputs": [],
   "source": [
    "sally = FourCal2(100, 4)"
   ]
  },
  {
   "cell_type": "code",
   "execution_count": 192,
   "id": "70191734",
   "metadata": {},
   "outputs": [
    {
     "ename": "AttributeError",
     "evalue": "'FourCal2' object has no attribute 'pow'",
     "output_type": "error",
     "traceback": [
      "\u001b[1;31m---------------------------------------------------------------------------\u001b[0m",
      "\u001b[1;31mAttributeError\u001b[0m                            Traceback (most recent call last)",
      "Cell \u001b[1;32mIn[192], line 1\u001b[0m\n\u001b[1;32m----> 1\u001b[0m \u001b[43msally\u001b[49m\u001b[38;5;241;43m.\u001b[39;49m\u001b[43mpow\u001b[49m()\n",
      "\u001b[1;31mAttributeError\u001b[0m: 'FourCal2' object has no attribute 'pow'"
     ]
    }
   ],
   "source": [
    "sally.pow()"
   ]
  },
  {
   "cell_type": "markdown",
   "id": "a1117e21",
   "metadata": {},
   "source": [
    "## 매서드 오버라이딩\n",
    "* 부모클래스에서 상속한 매서드를 자식 클래스에서 동일한 이름으로 다시 재정의 \n",
    "* method overriding"
   ]
  },
  {
   "cell_type": "code",
   "execution_count": 194,
   "id": "15d4d3ea",
   "metadata": {},
   "outputs": [],
   "source": [
    "john = FourCal2(4, 0)"
   ]
  },
  {
   "cell_type": "code",
   "execution_count": 195,
   "id": "2e87feb4",
   "metadata": {},
   "outputs": [
    {
     "data": {
      "text/plain": [
       "4"
      ]
     },
     "execution_count": 195,
     "metadata": {},
     "output_type": "execute_result"
    }
   ],
   "source": [
    "john.add()"
   ]
  },
  {
   "cell_type": "code",
   "execution_count": 196,
   "id": "43eb34de",
   "metadata": {},
   "outputs": [
    {
     "data": {
      "text/plain": [
       "4"
      ]
     },
     "execution_count": 196,
     "metadata": {},
     "output_type": "execute_result"
    }
   ],
   "source": [
    "john.sub()"
   ]
  },
  {
   "cell_type": "code",
   "execution_count": 197,
   "id": "a458d519",
   "metadata": {},
   "outputs": [
    {
     "data": {
      "text/plain": [
       "0"
      ]
     },
     "execution_count": 197,
     "metadata": {},
     "output_type": "execute_result"
    }
   ],
   "source": [
    "john.mul()"
   ]
  },
  {
   "cell_type": "code",
   "execution_count": 198,
   "id": "5505af1a",
   "metadata": {},
   "outputs": [
    {
     "ename": "ZeroDivisionError",
     "evalue": "division by zero",
     "output_type": "error",
     "traceback": [
      "\u001b[1;31m---------------------------------------------------------------------------\u001b[0m",
      "\u001b[1;31mZeroDivisionError\u001b[0m                         Traceback (most recent call last)",
      "Cell \u001b[1;32mIn[198], line 1\u001b[0m\n\u001b[1;32m----> 1\u001b[0m \u001b[43mjohn\u001b[49m\u001b[38;5;241;43m.\u001b[39;49m\u001b[43mdiv\u001b[49m\u001b[43m(\u001b[49m\u001b[43m)\u001b[49m\n",
      "Cell \u001b[1;32mIn[169], line 19\u001b[0m, in \u001b[0;36mFourCal2.div\u001b[1;34m(self)\u001b[0m\n\u001b[0;32m     18\u001b[0m \u001b[38;5;28;01mdef\u001b[39;00m \u001b[38;5;21mdiv\u001b[39m(\u001b[38;5;28mself\u001b[39m):\n\u001b[1;32m---> 19\u001b[0m     result \u001b[38;5;241m=\u001b[39m \u001b[38;5;28;43mself\u001b[39;49m\u001b[38;5;241;43m.\u001b[39;49m\u001b[43mnum1\u001b[49m\u001b[43m \u001b[49m\u001b[38;5;241;43m/\u001b[39;49m\u001b[43m \u001b[49m\u001b[38;5;28;43mself\u001b[39;49m\u001b[38;5;241;43m.\u001b[39;49m\u001b[43mnum2\u001b[49m\n\u001b[0;32m     20\u001b[0m     \u001b[38;5;28;01mreturn\u001b[39;00m result\n",
      "\u001b[1;31mZeroDivisionError\u001b[0m: division by zero"
     ]
    }
   ],
   "source": [
    "john.div()"
   ]
  },
  {
   "cell_type": "markdown",
   "id": "297456d2",
   "metadata": {},
   "source": [
    "FourCal2는 num2에 0이 입력될 경우 나눗셈시 0을 나누게 되기 때문에 에러발생<br>\n",
    "SafeFourCal를 만들고 FourCal2를 상속받은 후 div 함수를 재정의 하여 에러를 없앰<br>"
   ]
  },
  {
   "cell_type": "code",
   "execution_count": 200,
   "id": "f9646c5c",
   "metadata": {},
   "outputs": [],
   "source": [
    "class SafeFourCal(FourCal2):\n",
    "    def div(self):\n",
    "        if self.num2 == 0:\n",
    "            return 0\n",
    "        else:\n",
    "            return self.num1 / self.num2"
   ]
  },
  {
   "cell_type": "code",
   "execution_count": 202,
   "id": "fba432d6",
   "metadata": {},
   "outputs": [],
   "source": [
    "john = SafeFourCal(4, 0)"
   ]
  },
  {
   "cell_type": "code",
   "execution_count": 203,
   "id": "c1471558",
   "metadata": {},
   "outputs": [
    {
     "data": {
      "text/plain": [
       "0"
      ]
     },
     "execution_count": 203,
     "metadata": {},
     "output_type": "execute_result"
    }
   ],
   "source": [
    "john.div()"
   ]
  },
  {
   "cell_type": "code",
   "execution_count": 204,
   "id": "f28766fd",
   "metadata": {},
   "outputs": [
    {
     "data": {
      "text/plain": [
       "4"
      ]
     },
     "execution_count": 204,
     "metadata": {},
     "output_type": "execute_result"
    }
   ],
   "source": [
    "john.add()"
   ]
  },
  {
   "cell_type": "code",
   "execution_count": 206,
   "id": "6b61e5eb",
   "metadata": {},
   "outputs": [
    {
     "data": {
      "text/plain": [
       "4"
      ]
     },
     "execution_count": 206,
     "metadata": {},
     "output_type": "execute_result"
    }
   ],
   "source": [
    "john.sub()"
   ]
  },
  {
   "cell_type": "markdown",
   "id": "c8c6462d-bdc2-4625-baa7-7e80cdc9d2af",
   "metadata": {},
   "source": [
    "### 메서드 오버로딩\n",
    "한 클래스 안에서 동일 메서드의 기능을 다르게 재정의 <br>\n",
    "동일한 이름의 메소드가 기능이 약간 변경된 채로 여러 개 존재\n",
    "* def add(num1, num2)\n",
    "* def add*(num1, num2, num3)\n",
    "* def add(num1, num2, num3, num4)"
   ]
  },
  {
   "cell_type": "code",
   "execution_count": 2,
   "id": "4a9f2ac8-7c37-44b1-a3bf-c97f9b9307ac",
   "metadata": {},
   "outputs": [],
   "source": [
    "class OverloadingEx():\n",
    "    def add(self, x, y):\n",
    "        return x + y\n",
    "        \n",
    "    def add(self, x, y, z):\n",
    "        return x + y + z\n",
    "\n",
    "    def add(self, x, y, z, a):\n",
    "        return x + y + z + a"
   ]
  },
  {
   "cell_type": "code",
   "execution_count": 3,
   "id": "0aaba2f8-ea51-406c-aae3-97cd5fe87f79",
   "metadata": {},
   "outputs": [],
   "source": [
    "sam = OverloadingEx()"
   ]
  },
  {
   "cell_type": "code",
   "execution_count": 4,
   "id": "2abeb967-5b35-4e43-b769-7be5e98d3e8e",
   "metadata": {},
   "outputs": [
    {
     "ename": "TypeError",
     "evalue": "OverloadingEx.add() missing 2 required positional arguments: 'z' and 'a'",
     "output_type": "error",
     "traceback": [
      "\u001b[1;31m---------------------------------------------------------------------------\u001b[0m",
      "\u001b[1;31mTypeError\u001b[0m                                 Traceback (most recent call last)",
      "Cell \u001b[1;32mIn[4], line 3\u001b[0m\n\u001b[0;32m      1\u001b[0m \u001b[38;5;66;03m# 파이썬에서는 기본적으로 매소드 오버로딩을 지원 X\u001b[39;00m\n\u001b[0;32m      2\u001b[0m \u001b[38;5;66;03m# 한 클래스에 같은 이름의 매소드가 여러개 있으면 가장 아래에 정의된 매소드만 실행 됨\u001b[39;00m\n\u001b[1;32m----> 3\u001b[0m \u001b[43msam\u001b[49m\u001b[38;5;241;43m.\u001b[39;49m\u001b[43madd\u001b[49m\u001b[43m(\u001b[49m\u001b[38;5;241;43m10\u001b[39;49m\u001b[43m,\u001b[49m\u001b[38;5;241;43m20\u001b[39;49m\u001b[43m)\u001b[49m\n",
      "\u001b[1;31mTypeError\u001b[0m: OverloadingEx.add() missing 2 required positional arguments: 'z' and 'a'"
     ]
    }
   ],
   "source": [
    "# 파이썬에서는 기본적으로 매소드 오버로딩을 지원 X\n",
    "# 한 클래스에 같은 이름의 매소드가 여러개 있으면 가장 아래에 정의된 매소드만 실행 됨\n",
    "sam.add(10,20)"
   ]
  },
  {
   "cell_type": "markdown",
   "id": "6b46671b-582c-4f7b-baf6-2b29e66b7bcb",
   "metadata": {},
   "source": [
    "### multipledispatch 패키지를 통한 매소드 오버로딩"
   ]
  },
  {
   "cell_type": "code",
   "execution_count": 5,
   "id": "e638fec8-b937-4b57-97ba-01a2a242049e",
   "metadata": {},
   "outputs": [],
   "source": [
    "from multipledispatch import dispatch"
   ]
  },
  {
   "cell_type": "code",
   "execution_count": 6,
   "id": "79528ec6-c2b1-4caa-9133-d9a8845c00f3",
   "metadata": {},
   "outputs": [],
   "source": [
    "class OverloadingEx2():\n",
    "    \n",
    "    @dispatch(int, int)\n",
    "    def add(self, x, y):\n",
    "        return x + y\n",
    "    @dispatch(int, int, int)    \n",
    "    def add(self, x, y, z):\n",
    "        return x + y + z\n",
    "\n",
    "    @dispatch(float, float, float, float)\n",
    "    def add(self, x, y, z, a):\n",
    "        return x + y + z - a\n",
    "\n",
    "    @dispatch(int, int, int, int)\n",
    "    def add(self, x, y, z, a):\n",
    "        return (x + y) + (z - a)"
   ]
  },
  {
   "cell_type": "code",
   "execution_count": null,
   "id": "496ab505-9c28-4713-9288-a9375342593d",
   "metadata": {},
   "outputs": [],
   "source": []
  },
  {
   "cell_type": "code",
   "execution_count": null,
   "id": "397ab6df-e899-4856-abbe-f1512d99143f",
   "metadata": {},
   "outputs": [],
   "source": []
  },
  {
   "cell_type": "code",
   "execution_count": null,
   "id": "5d7891a1-5afb-400a-95e8-edf87cb736f1",
   "metadata": {},
   "outputs": [],
   "source": []
  },
  {
   "cell_type": "code",
   "execution_count": null,
   "id": "32b97d3b-b9ff-4257-81f8-5860f95fea3d",
   "metadata": {},
   "outputs": [],
   "source": []
  },
  {
   "cell_type": "code",
   "execution_count": null,
   "id": "7367a8ce-eb54-4fb1-b623-ed818ea1c7a2",
   "metadata": {},
   "outputs": [],
   "source": []
  },
  {
   "cell_type": "code",
   "execution_count": null,
   "id": "42258931-a57f-43e6-93e5-1ca7f19603cb",
   "metadata": {},
   "outputs": [],
   "source": []
  },
  {
   "cell_type": "code",
   "execution_count": null,
   "id": "f3dc01ea-b013-43af-a6ed-430c8b893254",
   "metadata": {},
   "outputs": [],
   "source": []
  },
  {
   "cell_type": "code",
   "execution_count": null,
   "id": "4e7948a2-8400-4105-9372-60b9d4301309",
   "metadata": {},
   "outputs": [],
   "source": []
  },
  {
   "cell_type": "code",
   "execution_count": null,
   "id": "789ef97a-bf76-4e59-aa5c-c637610914ed",
   "metadata": {},
   "outputs": [],
   "source": []
  },
  {
   "cell_type": "code",
   "execution_count": null,
   "id": "e98b7c21-8c63-451d-901b-1cf6b905d100",
   "metadata": {},
   "outputs": [],
   "source": []
  },
  {
   "cell_type": "code",
   "execution_count": null,
   "id": "33059b0b-97bd-483d-847f-db2f76669493",
   "metadata": {},
   "outputs": [],
   "source": []
  },
  {
   "cell_type": "code",
   "execution_count": null,
   "id": "8a5a0336-9c9d-4de0-9b50-d03b0733f783",
   "metadata": {},
   "outputs": [],
   "source": []
  },
  {
   "cell_type": "code",
   "execution_count": null,
   "id": "b3332c8a-2b40-4c40-bc9f-4948f956f324",
   "metadata": {},
   "outputs": [],
   "source": []
  },
  {
   "cell_type": "code",
   "execution_count": null,
   "id": "f52be532-87ef-4bd7-aa36-71668a50cbd9",
   "metadata": {},
   "outputs": [],
   "source": []
  },
  {
   "cell_type": "code",
   "execution_count": null,
   "id": "76f77cc1-2ee6-4292-871b-96cd02a25ac1",
   "metadata": {},
   "outputs": [],
   "source": []
  }
 ],
 "metadata": {
  "kernelspec": {
   "display_name": "Python 3 (ipykernel)",
   "language": "python",
   "name": "python3"
  },
  "language_info": {
   "codemirror_mode": {
    "name": "ipython",
    "version": 3
   },
   "file_extension": ".py",
   "mimetype": "text/x-python",
   "name": "python",
   "nbconvert_exporter": "python",
   "pygments_lexer": "ipython3",
   "version": "3.10.14"
  }
 },
 "nbformat": 4,
 "nbformat_minor": 5
}
