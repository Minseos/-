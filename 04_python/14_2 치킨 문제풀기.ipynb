{
 "cells": [
  {
   "cell_type": "markdown",
   "id": "5df73413-ebd7-491f-89df-8acc3d649b19",
   "metadata": {},
   "source": [
    "전국치킨집리스트 JSON 파일 언패킹하기\n",
    "1. Json 파일의 구조 파악\n",
    "2. 가게 1곳의 정보를 추출한 후 반복문으로 추출\n",
    "3. 값이 없는 곳도 있으므로 예외처리 필요\n",
    "* 최종 데이터 형태: key : [value1, value2, value3]"
   ]
  },
  {
   "cell_type": "code",
   "execution_count": 3,
   "id": "23f6f489-eb48-4873-b29d-a77eb048057c",
   "metadata": {},
   "outputs": [
    {
     "name": "stdout",
     "output_type": "stream",
     "text": [
      "<class 'str'>\n"
     ]
    }
   ],
   "source": [
    "with open('./전국치킨집리스트.json', 'r', encoding = 'utf-8')as f:\n",
    "    chicken_data = f.read()\n",
    "#print(chicken_data)\n",
    "print(type(chicken_data))"
   ]
  },
  {
   "cell_type": "code",
   "execution_count": 4,
   "id": "b8bc76c3-5b02-4287-9ac6-23307d415d14",
   "metadata": {},
   "outputs": [
    {
     "data": {
      "text/plain": [
       "'[{\"header\": {\"description\": \"\\\\uc18c\\\\uc0c1\\\\uacf5\\\\uc778\\\\uc2dc\\\\uc7a5\\\\uc9c4\\\\ud765\\\\uacf5\\\\ub2e8 \\\\uc8fc\\\\uc6'"
      ]
     },
     "execution_count": 4,
     "metadata": {},
     "output_type": "execute_result"
    }
   ],
   "source": [
    "chicken_data[:100]"
   ]
  },
  {
   "cell_type": "code",
   "execution_count": 5,
   "id": "bef082ac-f699-44fa-9bea-57514fa90192",
   "metadata": {},
   "outputs": [],
   "source": [
    "import json"
   ]
  },
  {
   "cell_type": "code",
   "execution_count": 6,
   "id": "64615fe4-791c-4bf9-a845-061f0261d83f",
   "metadata": {},
   "outputs": [],
   "source": [
    "data = json.loads(chicken_data)"
   ]
  },
  {
   "cell_type": "code",
   "execution_count": 7,
   "id": "28c1d522-38d3-4638-a71d-77c8b06c9ff7",
   "metadata": {},
   "outputs": [
    {
     "name": "stdout",
     "output_type": "stream",
     "text": [
      "37\n"
     ]
    }
   ],
   "source": [
    "print(len(data))"
   ]
  },
  {
   "cell_type": "code",
   "execution_count": 8,
   "id": "331c59e5-3190-4c93-9bea-f6c8af091301",
   "metadata": {},
   "outputs": [
    {
     "data": {
      "text/plain": [
       "2"
      ]
     },
     "execution_count": 8,
     "metadata": {},
     "output_type": "execute_result"
    }
   ],
   "source": [
    "# header, body여서 2임\n",
    "len(data[0])"
   ]
  },
  {
   "cell_type": "code",
   "execution_count": 9,
   "id": "8c054aa5-a5c4-42d9-9428-8282a1c8e83a",
   "metadata": {},
   "outputs": [
    {
     "data": {
      "text/plain": [
       "1000"
      ]
     },
     "execution_count": 9,
     "metadata": {},
     "output_type": "execute_result"
    }
   ],
   "source": [
    "len(data[0]['body']['items'])"
   ]
  },
  {
   "cell_type": "code",
   "execution_count": 10,
   "id": "037cb58d-cc19-49bb-b341-3da921a7059b",
   "metadata": {},
   "outputs": [
    {
     "name": "stdout",
     "output_type": "stream",
     "text": [
      "<class 'list'>\n",
      "<class 'dict'>\n"
     ]
    }
   ],
   "source": [
    "print(type(data))\n",
    "print(type(data[0]))\n",
    "#print(type(data[0][0]))"
   ]
  },
  {
   "cell_type": "code",
   "execution_count": 11,
   "id": "6afa5b00-1890-4044-8c71-26c9772bcd9e",
   "metadata": {},
   "outputs": [],
   "source": [
    "#data[0]"
   ]
  },
  {
   "cell_type": "code",
   "execution_count": 12,
   "id": "e6a08777-bbb9-4d7d-813d-69adfa82d34a",
   "metadata": {},
   "outputs": [],
   "source": [
    "#data[0][\"body\"]"
   ]
  },
  {
   "cell_type": "code",
   "execution_count": 13,
   "id": "c243304d-bcd4-4c4a-b49f-ef669b8d484b",
   "metadata": {},
   "outputs": [],
   "source": [
    "#data[0][\"body\"][\"items\"]"
   ]
  },
  {
   "cell_type": "code",
   "execution_count": 14,
   "id": "1e7fa398-8a37-46a9-ba52-582bea4adc91",
   "metadata": {},
   "outputs": [],
   "source": [
    "test = (data[0][\"body\"][\"items\"])\n",
    "#print(type(test))\n",
    "#print(test)\n",
    "#dict(test)"
   ]
  },
  {
   "cell_type": "code",
   "execution_count": 46,
   "id": "2a63f8db-6f6a-4087-b81d-2ca34356a51d",
   "metadata": {},
   "outputs": [
    {
     "data": {
      "text/plain": [
       "{'bizesId': '10027626',\n",
       " 'bizesNm': '장모님치킨가창점',\n",
       " 'brchNm': '가창점',\n",
       " 'indsLclsCd': 'Q',\n",
       " 'indsLclsNm': '음식',\n",
       " 'indsMclsCd': 'Q05',\n",
       " 'indsMclsNm': '닭/오리요리',\n",
       " 'indsSclsCd': 'Q05A08',\n",
       " 'indsSclsNm': '후라이드/양념치킨',\n",
       " 'ksicCd': 'I56193',\n",
       " 'ksicNm': '치킨 전문점',\n",
       " 'ctprvnCd': '27',\n",
       " 'ctprvnNm': '대구광역시',\n",
       " 'signguCd': '27710',\n",
       " 'signguNm': '달성군',\n",
       " 'adongCd': '2771031000',\n",
       " 'adongNm': '가창면',\n",
       " 'ldongCd': '2771031024',\n",
       " 'ldongNm': '가창면',\n",
       " 'lnoCd': '2771031024101200001',\n",
       " 'plotSctCd': '1',\n",
       " 'plotSctNm': '대지',\n",
       " 'lnoMnno': 120,\n",
       " 'lnoSlno': 1,\n",
       " 'lnoAdr': '대구광역시 달성군 가창면 냉천리 120-1',\n",
       " 'rdnmCd': '277103148001',\n",
       " 'rdnm': '대구광역시 달성군 가창면 가창동로',\n",
       " 'bldMnno': 6,\n",
       " 'bldSlno': '',\n",
       " 'bldMngNo': '2771031024101200004036858',\n",
       " 'bldNm': '',\n",
       " 'rdnmAdr': '대구광역시 달성군 가창면 가창동로 6',\n",
       " 'oldZipcd': '711861',\n",
       " 'newZipcd': '42938',\n",
       " 'dongNo': '',\n",
       " 'flrNo': '1',\n",
       " 'hoNo': '',\n",
       " 'lon': 128.644458591419,\n",
       " 'lat': 35.7826625402814}"
      ]
     },
     "execution_count": 46,
     "metadata": {},
     "output_type": "execute_result"
    }
   ],
   "source": [
    "data[0][\"body\"][\"items\"][0]"
   ]
  },
  {
   "cell_type": "code",
   "execution_count": 47,
   "id": "5d6818c2-a157-49c0-994c-21956b9f394f",
   "metadata": {},
   "outputs": [
    {
     "data": {
      "text/plain": [
       "dict"
      ]
     },
     "execution_count": 47,
     "metadata": {},
     "output_type": "execute_result"
    }
   ],
   "source": [
    "type(data[0][\"body\"][\"items\"][0])"
   ]
  },
  {
   "cell_type": "code",
   "execution_count": 48,
   "id": "c2d54b76-9964-4fbe-8276-634dccc66f33",
   "metadata": {},
   "outputs": [
    {
     "name": "stdout",
     "output_type": "stream",
     "text": [
      "<class 'dict'>\n"
     ]
    },
    {
     "data": {
      "text/plain": [
       "dict_keys(['bizesId', 'bizesNm', 'brchNm', 'indsLclsCd', 'indsLclsNm', 'indsMclsCd', 'indsMclsNm', 'indsSclsCd', 'indsSclsNm', 'ksicCd', 'ksicNm', 'ctprvnCd', 'ctprvnNm', 'signguCd', 'signguNm', 'adongCd', 'adongNm', 'ldongCd', 'ldongNm', 'lnoCd', 'plotSctCd', 'plotSctNm', 'lnoMnno', 'lnoSlno', 'lnoAdr', 'rdnmCd', 'rdnm', 'bldMnno', 'bldSlno', 'bldMngNo', 'bldNm', 'rdnmAdr', 'oldZipcd', 'newZipcd', 'dongNo', 'flrNo', 'hoNo', 'lon', 'lat'])"
      ]
     },
     "execution_count": 48,
     "metadata": {},
     "output_type": "execute_result"
    }
   ],
   "source": [
    "test1 = data[0][\"body\"][\"items\"][0]\n",
    "print(type(test1))\n",
    "\n",
    "test1.keys()"
   ]
  },
  {
   "cell_type": "code",
   "execution_count": 49,
   "id": "d9194fdf-5b35-4a2c-9102-733738ba7483",
   "metadata": {},
   "outputs": [
    {
     "name": "stdout",
     "output_type": "stream",
     "text": [
      "10027626\n",
      "장모님치킨가창점\n",
      "가창점\n",
      "Q\n",
      "음식\n",
      "Q05\n",
      "닭/오리요리\n",
      "Q05A08\n",
      "후라이드/양념치킨\n",
      "I56193\n",
      "치킨 전문점\n",
      "27\n",
      "대구광역시\n",
      "27710\n",
      "달성군\n",
      "2771031000\n",
      "가창면\n",
      "2771031024\n",
      "가창면\n",
      "2771031024101200001\n",
      "1\n",
      "대지\n",
      "120\n",
      "1\n",
      "대구광역시 달성군 가창면 냉천리 120-1\n",
      "277103148001\n",
      "대구광역시 달성군 가창면 가창동로\n",
      "6\n",
      "\n",
      "2771031024101200004036858\n",
      "\n",
      "대구광역시 달성군 가창면 가창동로 6\n",
      "711861\n",
      "42938\n",
      "\n",
      "1\n",
      "\n",
      "128.644458591419\n",
      "35.7826625402814\n"
     ]
    }
   ],
   "source": [
    "for value in test1.values():\n",
    "    print(value)"
   ]
  },
  {
   "cell_type": "code",
   "execution_count": 2,
   "id": "c350167e-7eda-489b-a74a-421652012916",
   "metadata": {},
   "outputs": [],
   "source": [
    "#for key in test1.keys():\n",
    "   # print(key)"
   ]
  },
  {
   "cell_type": "code",
   "execution_count": 51,
   "id": "855c2c4d-6f7a-476d-a091-c92627df1576",
   "metadata": {},
   "outputs": [
    {
     "name": "stdout",
     "output_type": "stream",
     "text": [
      "10027626\n",
      "장모님치킨가창점\n",
      "가창점\n",
      "Q\n",
      "음식\n",
      "Q05\n",
      "닭/오리요리\n",
      "Q05A08\n",
      "후라이드/양념치킨\n",
      "I56193\n",
      "치킨 전문점\n",
      "27\n",
      "대구광역시\n",
      "27710\n",
      "달성군\n",
      "2771031000\n",
      "가창면\n",
      "2771031024\n",
      "가창면\n",
      "2771031024101200001\n",
      "1\n",
      "대지\n",
      "120\n",
      "1\n",
      "대구광역시 달성군 가창면 냉천리 120-1\n",
      "277103148001\n",
      "대구광역시 달성군 가창면 가창동로\n",
      "6\n",
      "\n",
      "2771031024101200004036858\n",
      "\n",
      "대구광역시 달성군 가창면 가창동로 6\n",
      "711861\n",
      "42938\n",
      "\n",
      "1\n",
      "\n",
      "128.644458591419\n",
      "35.7826625402814\n"
     ]
    }
   ],
   "source": [
    "for value in test1.values():\n",
    "    print(value)"
   ]
  },
  {
   "cell_type": "code",
   "execution_count": 52,
   "id": "45028e19-3912-4c6d-9518-e99b44d750ff",
   "metadata": {},
   "outputs": [
    {
     "name": "stdout",
     "output_type": "stream",
     "text": [
      "bizesId : 10027626\n",
      "bizesNm : 장모님치킨가창점\n",
      "brchNm : 가창점\n",
      "indsLclsCd : Q\n",
      "indsLclsNm : 음식\n",
      "indsMclsCd : Q05\n",
      "indsMclsNm : 닭/오리요리\n",
      "indsSclsCd : Q05A08\n",
      "indsSclsNm : 후라이드/양념치킨\n",
      "ksicCd : I56193\n",
      "ksicNm : 치킨 전문점\n",
      "ctprvnCd : 27\n",
      "ctprvnNm : 대구광역시\n",
      "signguCd : 27710\n",
      "signguNm : 달성군\n",
      "adongCd : 2771031000\n",
      "adongNm : 가창면\n",
      "ldongCd : 2771031024\n",
      "ldongNm : 가창면\n",
      "lnoCd : 2771031024101200001\n",
      "plotSctCd : 1\n",
      "plotSctNm : 대지\n",
      "lnoMnno : 120\n",
      "lnoSlno : 1\n",
      "lnoAdr : 대구광역시 달성군 가창면 냉천리 120-1\n",
      "rdnmCd : 277103148001\n",
      "rdnm : 대구광역시 달성군 가창면 가창동로\n",
      "bldMnno : 6\n",
      "bldSlno : \n",
      "bldMngNo : 2771031024101200004036858\n",
      "bldNm : \n",
      "rdnmAdr : 대구광역시 달성군 가창면 가창동로 6\n",
      "oldZipcd : 711861\n",
      "newZipcd : 42938\n",
      "dongNo : \n",
      "flrNo : 1\n",
      "hoNo : \n",
      "lon : 128.644458591419\n",
      "lat : 35.7826625402814\n"
     ]
    }
   ],
   "source": [
    "for key, value in test1.items():\n",
    "    print(f\"{key} : {value}\")\n",
    "    #print(key, value)"
   ]
  },
  {
   "cell_type": "code",
   "execution_count": 53,
   "id": "770ef995-70d6-40c5-84df-2fbee16874f0",
   "metadata": {},
   "outputs": [
    {
     "name": "stdout",
     "output_type": "stream",
     "text": [
      "{'bizesId': [], 'bizesNm': [], 'brchNm': [], 'indsLclsCd': [], 'indsLclsNm': [], 'indsMclsCd': [], 'indsMclsNm': [], 'indsSclsCd': [], 'indsSclsNm': [], 'ksicCd': [], 'ksicNm': [], 'ctprvnCd': [], 'ctprvnNm': [], 'signguCd': [], 'signguNm': [], 'adongCd': [], 'adongNm': [], 'ldongCd': [], 'ldongNm': [], 'lnoCd': [], 'plotSctCd': [], 'plotSctNm': [], 'lnoMnno': [], 'lnoSlno': [], 'lnoAdr': [], 'rdnmCd': [], 'rdnm': [], 'bldMnno': [], 'bldSlno': [], 'bldMngNo': [], 'bldNm': [], 'rdnmAdr': [], 'oldZipcd': [], 'newZipcd': [], 'dongNo': [], 'flrNo': [], 'hoNo': [], 'lon': [], 'lat': []}\n"
     ]
    }
   ],
   "source": [
    "result1 = {}\n",
    "for key in test1.keys():\n",
    "    result1[key] = []\n",
    "print(result1)"
   ]
  },
  {
   "cell_type": "markdown",
   "id": "696b2683-0ca1-45a2-84bb-20ed5ff0cc28",
   "metadata": {},
   "source": [
    "test1 = data[0][\"body\"][\"items\"]\n",
    "test_ = test1\n",
    "print(test_)"
   ]
  },
  {
   "cell_type": "code",
   "execution_count": null,
   "id": "7359169c-2747-4191-b4e1-bebe9f37660c",
   "metadata": {},
   "outputs": [],
   "source": []
  },
  {
   "cell_type": "code",
   "execution_count": 3,
   "id": "fe6af9a6-22ce-4cd6-b8a8-bd93ee255740",
   "metadata": {},
   "outputs": [],
   "source": [
    "# a = data[0][\"body\"][\"items\"]\n",
    "# b = {}\n",
    "# for items in a:\n",
    "#     #print(i)\n",
    "#     for key in items.keys():\n",
    "#         print(key)\n",
    "        "
   ]
  },
  {
   "cell_type": "markdown",
   "id": "e55117ae-311e-4db8-8cfd-d48df9b9050f",
   "metadata": {},
   "source": [
    "a = data[0][\"body\"][\"items\"]\n",
    "b = {}\n",
    "for item in a:\n",
    "    #print(i)\n",
    "    for key in item.keys():\n",
    "        #print(key)\n",
    "        if key not in b:\n",
    "            b[key] = []\n",
    "        b[key].append(item[key])\n",
    "\n",
    "print(b)"
   ]
  },
  {
   "cell_type": "code",
   "execution_count": null,
   "id": "e772ca9a-6d9f-4e11-81e6-6896f3287b0f",
   "metadata": {},
   "outputs": [],
   "source": []
  },
  {
   "cell_type": "code",
   "execution_count": 55,
   "id": "96b0442e-534c-49f7-b7f4-9c3bf3aa570a",
   "metadata": {},
   "outputs": [
    {
     "name": "stdout",
     "output_type": "stream",
     "text": [
      "39000\n"
     ]
    }
   ],
   "source": [
    "# 방법1\n",
    "test = data[0][\"body\"][\"items\"]\n",
    "\n",
    "result1 = {}\n",
    "count = 0\n",
    "for item in test:\n",
    "    for key in item.keys():\n",
    "        if key not in result1:\n",
    "            result1[key] = []\n",
    "        result1[key].append(item[key])\n",
    "        count += 1\n",
    "\n",
    "#print(result1)\n",
    "print(count)"
   ]
  },
  {
   "cell_type": "code",
   "execution_count": 56,
   "id": "cf4fb10b-0f25-4319-b93d-2ab5ccdfd7fa",
   "metadata": {},
   "outputs": [],
   "source": [
    "#방법2\n",
    "test2 = data[0][\"body\"][\"items\"]\n",
    "\n",
    "result2 = {}\n",
    "\n",
    "for item in test:\n",
    "    for key, value in item.items():\n",
    "        if key not in result2:\n",
    "            result2[key] = []\n",
    "        result2[key].append(value)\n",
    " \n",
    "#print(result2)\n"
   ]
  },
  {
   "cell_type": "markdown",
   "id": "44dab16e-b983-4e1f-b2e1-0e4ae6db1e61",
   "metadata": {},
   "source": [
    "setdefault 메서드는 파이썬의 딕셔너리 메서드 중 하나로, \n",
    "특정 키가 딕셔너리에 존재하지 않을 경우 해당 키를 추가하고 기본값을 설정합니다. \n",
    "이 메서드는 특히 딕셔너리의 값을 리스트, 집합 또는 다른 변경 가능한 타입으로 초기화할 때 유용합니다."
   ]
  },
  {
   "cell_type": "code",
   "execution_count": 57,
   "id": "cad6665f-8d98-44fb-a2e4-6ad3ca738ea1",
   "metadata": {},
   "outputs": [],
   "source": [
    "# 방법3\n",
    "test_ = data[0][\"body\"][\"items\"]\n",
    "\n",
    "result = {}\n",
    "for item in test_:\n",
    "    for key,value in item.items():\n",
    "        result.setdefault(key,[]).append(value)\n",
    "\n",
    "#print(result)"
   ]
  },
  {
   "cell_type": "code",
   "execution_count": null,
   "id": "aee1abba-d8b4-4f2d-80f1-29e44ea95ece",
   "metadata": {},
   "outputs": [],
   "source": []
  },
  {
   "cell_type": "code",
   "execution_count": null,
   "id": "bb8bce51-e347-451e-a15b-dbee558f7eab",
   "metadata": {},
   "outputs": [],
   "source": []
  },
  {
   "cell_type": "code",
   "execution_count": null,
   "id": "5dacf18a-16bc-44f2-b4b0-7a59392982ab",
   "metadata": {},
   "outputs": [],
   "source": []
  },
  {
   "cell_type": "code",
   "execution_count": 58,
   "id": "cb5c7840-d688-4c46-a605-c75ac41ac07a",
   "metadata": {},
   "outputs": [
    {
     "data": {
      "text/plain": [
       "39"
      ]
     },
     "execution_count": 58,
     "metadata": {},
     "output_type": "execute_result"
    }
   ],
   "source": [
    "len(result1.items())"
   ]
  },
  {
   "cell_type": "code",
   "execution_count": 59,
   "id": "16c0f4ae-bc9e-4fe9-a272-268e61acdff5",
   "metadata": {
    "scrolled": true
   },
   "outputs": [
    {
     "ename": "ValueError",
     "evalue": "dictionary update sequence element #0 has length 39; 2 is required",
     "output_type": "error",
     "traceback": [
      "\u001b[1;31m---------------------------------------------------------------------------\u001b[0m",
      "\u001b[1;31mValueError\u001b[0m                                Traceback (most recent call last)",
      "Cell \u001b[1;32mIn[59], line 1\u001b[0m\n\u001b[1;32m----> 1\u001b[0m test_ \u001b[38;5;241m=\u001b[39m \u001b[38;5;28;43mdict\u001b[39;49m\u001b[43m(\u001b[49m\u001b[43mtest\u001b[49m\u001b[43m)\u001b[49m\n\u001b[0;32m      2\u001b[0m result \u001b[38;5;241m=\u001b[39m {}\n\u001b[0;32m      3\u001b[0m \u001b[38;5;28;01mfor\u001b[39;00m key \u001b[38;5;129;01min\u001b[39;00m \u001b[38;5;28mdict\u001b[39m(test\u001b[38;5;241m.\u001b[39mkeys()):\n",
      "\u001b[1;31mValueError\u001b[0m: dictionary update sequence element #0 has length 39; 2 is required"
     ]
    }
   ],
   "source": [
    "test_ = dict(test)\n",
    "result = {}\n",
    "for key in dict(test.keys()):\n",
    "    result[key] = []\n",
    "print(result)"
   ]
  },
  {
   "cell_type": "code",
   "execution_count": 60,
   "id": "a092eca2-97a0-447d-b524-f58ffcc9ba71",
   "metadata": {},
   "outputs": [
    {
     "name": "stdout",
     "output_type": "stream",
     "text": [
      "{'bizesId': ['10027626'], 'bizesNm': ['장모님치킨가창점'], 'brchNm': ['가창점'], 'indsLclsCd': ['Q'], 'indsLclsNm': ['음식'], 'indsMclsCd': ['Q05'], 'indsMclsNm': ['닭/오리요리'], 'indsSclsCd': ['Q05A08'], 'indsSclsNm': ['후라이드/양념치킨'], 'ksicCd': ['I56193'], 'ksicNm': ['치킨 전문점'], 'ctprvnCd': ['27'], 'ctprvnNm': ['대구광역시'], 'signguCd': ['27710'], 'signguNm': ['달성군'], 'adongCd': ['2771031000'], 'adongNm': ['가창면'], 'ldongCd': ['2771031024'], 'ldongNm': ['가창면'], 'lnoCd': ['2771031024101200001'], 'plotSctCd': ['1'], 'plotSctNm': ['대지'], 'lnoMnno': [120], 'lnoSlno': [1], 'lnoAdr': ['대구광역시 달성군 가창면 냉천리 120-1'], 'rdnmCd': ['277103148001'], 'rdnm': ['대구광역시 달성군 가창면 가창동로'], 'bldMnno': [6], 'bldSlno': [''], 'bldMngNo': ['2771031024101200004036858'], 'bldNm': [''], 'rdnmAdr': ['대구광역시 달성군 가창면 가창동로 6'], 'oldZipcd': ['711861'], 'newZipcd': ['42938'], 'dongNo': [''], 'flrNo': ['1'], 'hoNo': [''], 'lon': [128.644458591419], 'lat': [35.7826625402814]}\n"
     ]
    }
   ],
   "source": [
    "result1 = {}\n",
    "for key in test1.keys():\n",
    "    item_list1 = []\n",
    "    item_list1.append(test1[key])\n",
    "    result1[key] = item_list1\n",
    "\n",
    "print(result1)"
   ]
  },
  {
   "cell_type": "code",
   "execution_count": 61,
   "id": "49ad9b09-f854-4e70-a217-42dd8add1462",
   "metadata": {},
   "outputs": [
    {
     "ename": "TypeError",
     "evalue": "string indices must be integers, not 'str'",
     "output_type": "error",
     "traceback": [
      "\u001b[1;31m---------------------------------------------------------------------------\u001b[0m",
      "\u001b[1;31mTypeError\u001b[0m                                 Traceback (most recent call last)",
      "Cell \u001b[1;32mIn[61], line 5\u001b[0m\n\u001b[0;32m      3\u001b[0m item_list1 \u001b[38;5;241m=\u001b[39m []\n\u001b[0;32m      4\u001b[0m \u001b[38;5;28;01mfor\u001b[39;00m items \u001b[38;5;129;01min\u001b[39;00m test1\u001b[38;5;241m.\u001b[39mvalues():  \u001b[38;5;66;03m# 여기서 test1.values()로 변경\u001b[39;00m\n\u001b[1;32m----> 5\u001b[0m     item_list1\u001b[38;5;241m.\u001b[39mappend(\u001b[38;5;28mlist\u001b[39m(\u001b[43mitems\u001b[49m\u001b[43m[\u001b[49m\u001b[43mkey\u001b[49m\u001b[43m]\u001b[49m))\n\u001b[0;32m      6\u001b[0m result1[key] \u001b[38;5;241m=\u001b[39m item_list1\n\u001b[0;32m      7\u001b[0m \u001b[38;5;28mprint\u001b[39m(key, item_list1)\n",
      "\u001b[1;31mTypeError\u001b[0m: string indices must be integers, not 'str'"
     ]
    }
   ],
   "source": [
    "result1 = {}\n",
    "for key in list(test1.keys()):\n",
    "    item_list1 = []\n",
    "    for items in test1.values():  # 여기서 test1.values()로 변경\n",
    "        item_list1.append(list(items[key]))\n",
    "    result1[key] = item_list1\n",
    "    print(key, item_list1)\n"
   ]
  },
  {
   "cell_type": "code",
   "execution_count": null,
   "id": "56818555-af51-492f-9876-2d5b3df1775a",
   "metadata": {},
   "outputs": [],
   "source": []
  },
  {
   "cell_type": "code",
   "execution_count": null,
   "id": "fe8890e0-7341-4a84-98ae-1af416503a68",
   "metadata": {},
   "outputs": [],
   "source": []
  },
  {
   "cell_type": "code",
   "execution_count": null,
   "id": "498cf455-eac6-4b31-b79b-7180f63256c1",
   "metadata": {},
   "outputs": [],
   "source": []
  },
  {
   "cell_type": "code",
   "execution_count": null,
   "id": "917b7661-3753-4d7c-a25d-404576b261eb",
   "metadata": {},
   "outputs": [],
   "source": []
  },
  {
   "cell_type": "code",
   "execution_count": null,
   "id": "5f1ab895-27a5-40d3-b369-91e45100ee7e",
   "metadata": {},
   "outputs": [],
   "source": []
  },
  {
   "cell_type": "code",
   "execution_count": 62,
   "id": "215d1de2-2320-431f-9d04-7fb880dc3aaf",
   "metadata": {},
   "outputs": [
    {
     "ename": "AttributeError",
     "evalue": "'str' object has no attribute 'values'",
     "output_type": "error",
     "traceback": [
      "\u001b[1;31m---------------------------------------------------------------------------\u001b[0m",
      "\u001b[1;31mAttributeError\u001b[0m                            Traceback (most recent call last)",
      "Cell \u001b[1;32mIn[62], line 2\u001b[0m\n\u001b[0;32m      1\u001b[0m \u001b[38;5;28;01mfor\u001b[39;00m i \u001b[38;5;129;01min\u001b[39;00m test1:\n\u001b[1;32m----> 2\u001b[0m     \u001b[38;5;28;01mfor\u001b[39;00m value \u001b[38;5;129;01min\u001b[39;00m \u001b[43mi\u001b[49m\u001b[38;5;241;43m.\u001b[39;49m\u001b[43mvalues\u001b[49m():\n\u001b[0;32m      3\u001b[0m         \u001b[38;5;28mprint\u001b[39m(value)\n",
      "\u001b[1;31mAttributeError\u001b[0m: 'str' object has no attribute 'values'"
     ]
    }
   ],
   "source": [
    "for i in test1:\n",
    "    for value in i.values():\n",
    "        print(value)"
   ]
  },
  {
   "cell_type": "code",
   "execution_count": null,
   "id": "834c7558-610d-4741-a8fe-c05347ad21f1",
   "metadata": {},
   "outputs": [],
   "source": []
  },
  {
   "cell_type": "code",
   "execution_count": null,
   "id": "053436af-402c-4ca5-b6d4-b5122e13e098",
   "metadata": {},
   "outputs": [],
   "source": []
  },
  {
   "cell_type": "code",
   "execution_count": 63,
   "id": "dbe852cc-d138-43c0-b65a-66a2545e5148",
   "metadata": {},
   "outputs": [
    {
     "data": {
      "text/plain": [
       "dict_values(['10027626', '장모님치킨가창점', '가창점', 'Q', '음식', 'Q05', '닭/오리요리', 'Q05A08', '후라이드/양념치킨', 'I56193', '치킨 전문점', '27', '대구광역시', '27710', '달성군', '2771031000', '가창면', '2771031024', '가창면', '2771031024101200001', '1', '대지', 120, 1, '대구광역시 달성군 가창면 냉천리 120-1', '277103148001', '대구광역시 달성군 가창면 가창동로', 6, '', '2771031024101200004036858', '', '대구광역시 달성군 가창면 가창동로 6', '711861', '42938', '', '1', '', 128.644458591419, 35.7826625402814])"
      ]
     },
     "execution_count": 63,
     "metadata": {},
     "output_type": "execute_result"
    }
   ],
   "source": [
    "test2 = data[0][\"body\"][\"items\"][0]\n",
    "test2.values()"
   ]
  },
  {
   "cell_type": "code",
   "execution_count": 64,
   "id": "358663f9-b6fb-4869-8e65-4f7fdd2ae49d",
   "metadata": {},
   "outputs": [
    {
     "data": {
      "text/plain": [
       "dict_items([('bizesId', '10027626'), ('bizesNm', '장모님치킨가창점'), ('brchNm', '가창점'), ('indsLclsCd', 'Q'), ('indsLclsNm', '음식'), ('indsMclsCd', 'Q05'), ('indsMclsNm', '닭/오리요리'), ('indsSclsCd', 'Q05A08'), ('indsSclsNm', '후라이드/양념치킨'), ('ksicCd', 'I56193'), ('ksicNm', '치킨 전문점'), ('ctprvnCd', '27'), ('ctprvnNm', '대구광역시'), ('signguCd', '27710'), ('signguNm', '달성군'), ('adongCd', '2771031000'), ('adongNm', '가창면'), ('ldongCd', '2771031024'), ('ldongNm', '가창면'), ('lnoCd', '2771031024101200001'), ('plotSctCd', '1'), ('plotSctNm', '대지'), ('lnoMnno', 120), ('lnoSlno', 1), ('lnoAdr', '대구광역시 달성군 가창면 냉천리 120-1'), ('rdnmCd', '277103148001'), ('rdnm', '대구광역시 달성군 가창면 가창동로'), ('bldMnno', 6), ('bldSlno', ''), ('bldMngNo', '2771031024101200004036858'), ('bldNm', ''), ('rdnmAdr', '대구광역시 달성군 가창면 가창동로 6'), ('oldZipcd', '711861'), ('newZipcd', '42938'), ('dongNo', ''), ('flrNo', '1'), ('hoNo', ''), ('lon', 128.644458591419), ('lat', 35.7826625402814)])"
      ]
     },
     "execution_count": 64,
     "metadata": {},
     "output_type": "execute_result"
    }
   ],
   "source": [
    "test3 = data[0][\"body\"][\"items\"][0]\n",
    "test3.items()"
   ]
  },
  {
   "cell_type": "code",
   "execution_count": 65,
   "id": "36007fa4-7f41-443e-8cb4-bfffeb18e227",
   "metadata": {},
   "outputs": [
    {
     "name": "stdout",
     "output_type": "stream",
     "text": [
      "bizesId\n"
     ]
    },
    {
     "ename": "AttributeError",
     "evalue": "'str' object has no attribute 'values'",
     "output_type": "error",
     "traceback": [
      "\u001b[1;31m---------------------------------------------------------------------------\u001b[0m",
      "\u001b[1;31mAttributeError\u001b[0m                            Traceback (most recent call last)",
      "Cell \u001b[1;32mIn[65], line 3\u001b[0m\n\u001b[0;32m      1\u001b[0m \u001b[38;5;28;01mfor\u001b[39;00m key \u001b[38;5;129;01min\u001b[39;00m test1:\n\u001b[0;32m      2\u001b[0m     \u001b[38;5;28mprint\u001b[39m(key)\n\u001b[1;32m----> 3\u001b[0m     \u001b[38;5;28;01mfor\u001b[39;00m value \u001b[38;5;129;01min\u001b[39;00m \u001b[43mkey\u001b[49m\u001b[38;5;241;43m.\u001b[39;49m\u001b[43mvalues\u001b[49m():\n\u001b[0;32m      4\u001b[0m         \u001b[38;5;28mprint\u001b[39m(value)\n",
      "\u001b[1;31mAttributeError\u001b[0m: 'str' object has no attribute 'values'"
     ]
    }
   ],
   "source": [
    "for key in test1:\n",
    "    print(key)\n",
    "    for value in key.values():\n",
    "        print(value)"
   ]
  },
  {
   "cell_type": "code",
   "execution_count": null,
   "id": "7179a7b5-7b59-4458-8775-4c681fa38796",
   "metadata": {},
   "outputs": [],
   "source": []
  },
  {
   "cell_type": "code",
   "execution_count": 66,
   "id": "74530ded-5ce8-43a3-9f36-35d4580e9603",
   "metadata": {},
   "outputs": [],
   "source": [
    "test = data[0][\"body\"][\"items\"]"
   ]
  },
  {
   "cell_type": "code",
   "execution_count": 67,
   "id": "a443d828-f4f3-4c84-bafc-012c8905474f",
   "metadata": {},
   "outputs": [
    {
     "data": {
      "text/plain": [
       "list"
      ]
     },
     "execution_count": 67,
     "metadata": {},
     "output_type": "execute_result"
    }
   ],
   "source": [
    "type(test)"
   ]
  },
  {
   "cell_type": "code",
   "execution_count": 68,
   "id": "cf858251-f742-4e9c-997e-afc4c25a242e",
   "metadata": {},
   "outputs": [
    {
     "ename": "SyntaxError",
     "evalue": "incomplete input (690404005.py, line 2)",
     "output_type": "error",
     "traceback": [
      "\u001b[1;36m  Cell \u001b[1;32mIn[68], line 2\u001b[1;36m\u001b[0m\n\u001b[1;33m    print(key,\u001b[0m\n\u001b[1;37m              ^\u001b[0m\n\u001b[1;31mSyntaxError\u001b[0m\u001b[1;31m:\u001b[0m incomplete input\n"
     ]
    }
   ],
   "source": [
    "for key, value in test.items():\n",
    "    print(key,"
   ]
  },
  {
   "cell_type": "code",
   "execution_count": null,
   "id": "af489662-efd6-4d8d-b4e1-f06c5b54fc1f",
   "metadata": {},
   "outputs": [],
   "source": []
  },
  {
   "cell_type": "code",
   "execution_count": 18,
   "id": "e3841cc4-9b19-421e-90f3-62094a71401b",
   "metadata": {},
   "outputs": [
    {
     "name": "stdout",
     "output_type": "stream",
     "text": [
      "39\n"
     ]
    }
   ],
   "source": [
    "chicken_stores = data[0]['body']['items']\n",
    "chicken_dict = {}\n",
    "\n",
    "for chicken_store in chicken_stores:\n",
    "    for k, v in chicken_store.items():\n",
    "        chicken_dict.setdefault(k, []).append(v)\n",
    "print(len(chicken_dict))"
   ]
  },
  {
   "cell_type": "code",
   "execution_count": null,
   "id": "326008b0-7c80-4df4-9454-f66d5b0391af",
   "metadata": {},
   "outputs": [],
   "source": []
  },
  {
   "cell_type": "code",
   "execution_count": null,
   "id": "a319e8a7-cbae-4071-97b4-a8e45cda97b1",
   "metadata": {},
   "outputs": [],
   "source": []
  },
  {
   "cell_type": "code",
   "execution_count": null,
   "id": "f2b43a41-46cc-4615-bbe8-34fa5b46caad",
   "metadata": {},
   "outputs": [],
   "source": []
  },
  {
   "cell_type": "code",
   "execution_count": null,
   "id": "4ce3a813-3ac5-4d49-a42e-b984a93dca3c",
   "metadata": {},
   "outputs": [],
   "source": []
  },
  {
   "cell_type": "code",
   "execution_count": 71,
   "id": "52a74661-c9e5-4fe5-8d32-a9279f43376d",
   "metadata": {},
   "outputs": [
    {
     "ename": "SyntaxError",
     "evalue": "invalid syntax (261825493.py, line 2)",
     "output_type": "error",
     "traceback": [
      "\u001b[1;36m  Cell \u001b[1;32mIn[71], line 2\u001b[1;36m\u001b[0m\n\u001b[1;33m    temp = pd.\u001b[0m\n\u001b[1;37m              ^\u001b[0m\n\u001b[1;31mSyntaxError\u001b[0m\u001b[1;31m:\u001b[0m invalid syntax\n"
     ]
    }
   ],
   "source": [
    "for item in data:\n",
    "    temp = pd."
   ]
  },
  {
   "cell_type": "code",
   "execution_count": null,
   "id": "cfab058c-b91d-4ef6-89e5-c0412d760aaf",
   "metadata": {},
   "outputs": [],
   "source": []
  },
  {
   "cell_type": "code",
   "execution_count": null,
   "id": "bc8f5ba5-7bc9-4cbf-8d9c-e70dca7b86e1",
   "metadata": {},
   "outputs": [],
   "source": []
  },
  {
   "cell_type": "code",
   "execution_count": null,
   "id": "6f6224b7-9142-44dd-9963-01e6a8001fe5",
   "metadata": {},
   "outputs": [],
   "source": []
  },
  {
   "cell_type": "code",
   "execution_count": null,
   "id": "0005e85b-d38a-4b37-a26e-3800eff52c81",
   "metadata": {},
   "outputs": [],
   "source": []
  },
  {
   "cell_type": "code",
   "execution_count": null,
   "id": "b3f494bb-08e3-4384-983a-31e20c110af3",
   "metadata": {},
   "outputs": [],
   "source": []
  },
  {
   "cell_type": "code",
   "execution_count": 3,
   "id": "cbef11bd-7494-4274-bed7-8af6f56e934f",
   "metadata": {},
   "outputs": [
    {
     "name": "stdout",
     "output_type": "stream",
     "text": [
      "Requirement already satisfied: pandas in c:\\users\\user\\miniforge3\\lib\\site-packages (2.2.2)\n",
      "Requirement already satisfied: numpy>=1.22.4 in c:\\users\\user\\miniforge3\\lib\\site-packages (from pandas) (2.0.0)\n",
      "Requirement already satisfied: python-dateutil>=2.8.2 in c:\\users\\user\\miniforge3\\lib\\site-packages (from pandas) (2.9.0)\n",
      "Requirement already satisfied: pytz>=2020.1 in c:\\users\\user\\miniforge3\\lib\\site-packages (from pandas) (2024.1)\n",
      "Requirement already satisfied: tzdata>=2022.7 in c:\\users\\user\\miniforge3\\lib\\site-packages (from pandas) (2024.1)\n",
      "Requirement already satisfied: six>=1.5 in c:\\users\\user\\miniforge3\\lib\\site-packages (from python-dateutil>=2.8.2->pandas) (1.16.0)\n"
     ]
    }
   ],
   "source": [
    "!pip install pandas"
   ]
  },
  {
   "cell_type": "code",
   "execution_count": 4,
   "id": "cca15583-8e7b-4a9a-866d-4f878418f862",
   "metadata": {},
   "outputs": [
    {
     "name": "stdout",
     "output_type": "stream",
     "text": [
      "Channels:\n",
      " - conda-forge\n",
      "Platform: win-64\n",
      "Collecting package metadata (repodata.json): ...working... done\n",
      "Solving environment: ...working... done\n",
      "\n",
      "# All requested packages already installed.\n",
      "\n"
     ]
    }
   ],
   "source": [
    "!conda install pandas"
   ]
  },
  {
   "cell_type": "code",
   "execution_count": 1,
   "id": "0dd5fa5d-6bef-42c7-9103-91e408cd91fd",
   "metadata": {},
   "outputs": [],
   "source": [
    "import pandas as pd"
   ]
  },
  {
   "cell_type": "code",
   "execution_count": 15,
   "id": "ba0df0a9-d515-43a0-b613-574c6fbf4b18",
   "metadata": {},
   "outputs": [],
   "source": [
    "df = pd.json_normalize(data[0]['body']['items'])"
   ]
  },
  {
   "cell_type": "code",
   "execution_count": 21,
   "id": "c760b022-48b0-41c6-9772-4e7269dfbcd0",
   "metadata": {},
   "outputs": [
    {
     "name": "stdout",
     "output_type": "stream",
     "text": [
      "     bizesId    bizesNm brchNm indsLclsCd indsLclsNm indsMclsCd indsMclsNm  \\\n",
      "0   10027626   장모님치킨가창점    가창점          Q         음식        Q05     닭/오리요리   \n",
      "1   10098244     짱구피자치킨                 Q         음식        Q05     닭/오리요리   \n",
      "2   10099459       쭈노치킨                 Q         음식        Q05     닭/오리요리   \n",
      "3   10136167       치킨뱅이                 Q         음식        Q05     닭/오리요리   \n",
      "4   10136346    치킨월드율량점    율량점          Q         음식        Q05     닭/오리요리   \n",
      "..       ...        ...    ...        ...        ...        ...        ...   \n",
      "59   9829515       아리치킨                 Q         음식        Q05     닭/오리요리   \n",
      "60   9851302       애니치킨                 Q         음식        Q05     닭/오리요리   \n",
      "61   9867543      에디슨치킨                 Q         음식        Q05     닭/오리요리   \n",
      "62   9918905  오븐에꾸운닭장유점    장유점          Q         음식        Q05     닭/오리요리   \n",
      "63   9967953       웰빙치킨                 Q         음식        Q05     닭/오리요리   \n",
      "\n",
      "   indsSclsCd indsSclsNm  ksicCd  ...                   bldMngNo       bldNm  \\\n",
      "0      Q05A08  후라이드/양념치킨  I56193  ...  2771031024101200004036858               \n",
      "1      Q05A08  후라이드/양념치킨  I56193  ...  4125010300102680011008557               \n",
      "2      Q05A08  후라이드/양념치킨  I56193  ...  4157025324105380008019970               \n",
      "3      Q05A08  후라이드/양념치킨  I56193  ...  4213011000108300006022278               \n",
      "4      Q05A08  후라이드/양념치킨  I56193  ...  4311111500108060000045239               \n",
      "..        ...        ...     ...  ...                        ...         ...   \n",
      "59     Q05A08  후라이드/양념치킨  I56193  ...  4125010200106740003008662               \n",
      "60     Q05A08  후라이드/양념치킨  I56193  ...  4785031036104090002008916               \n",
      "61     Q05A08  후라이드/양념치킨  I56193  ...  1135010600103590001010681  중계5단지주공아파트   \n",
      "62     Q05A08  후라이드/양념치킨  I56193  ...  4825031027103150002091993       재영프라자   \n",
      "63     Q05A08  후라이드/양념치킨  I56193  ...  4213011100101360002016167               \n",
      "\n",
      "                     rdnmAdr oldZipcd newZipcd dongNo flrNo hoNo         lon  \\\n",
      "0       대구광역시 달성군 가창면 가창동로 6   711861    42938            1       128.644459   \n",
      "1            경기도 동두천시 못골로 30   483030    11320                    127.065903   \n",
      "2     경기도 김포시 고촌읍 장차로13번길 18   415811    10126            1       126.769859   \n",
      "3             강원도 원주시 금불3길 5   220938    26423            1       127.932025   \n",
      "4   충청북도 청주시 청원구 공항로138번길 53   363818    28328            1       127.487586   \n",
      "..                       ...      ...      ...    ...   ...  ...         ...   \n",
      "59          경기도 동두천시 거북마루로 6   483020    11348            1       127.046713   \n",
      "60      경상북도 칠곡군 지천면 신동로 147   718821    39864                    128.488717   \n",
      "61         서울특별시 노원구 중계로 230   139781    01713            1       127.075031   \n",
      "62           경상남도 김해시 삼문로 26   621280    51004            1       128.803565   \n",
      "63           강원도 원주시 상지대길 43   220954    26342            1       127.937290   \n",
      "\n",
      "          lat  \n",
      "0   35.782663  \n",
      "1   37.901262  \n",
      "2   37.603752  \n",
      "3   37.348358  \n",
      "4   36.669816  \n",
      "..        ...  \n",
      "59  37.895702  \n",
      "60  35.956631  \n",
      "61  37.651004  \n",
      "62  35.192491  \n",
      "63  37.369591  \n",
      "\n",
      "[36064 rows x 39 columns]\n"
     ]
    }
   ],
   "source": [
    "result = pd.DataFrame()\n",
    "for item in data:\n",
    "    temp = pd.json_normalize(item['body']['items'])\n",
    "    result = pd.concat([result, temp])\n",
    "print(result)\n",
    "result.to_csv(\"chicken.csv\", encoding = \"cp949\")"
   ]
  },
  {
   "cell_type": "code",
   "execution_count": 20,
   "id": "6ab929fe-bdad-4376-a55d-fe7eda8a123f",
   "metadata": {},
   "outputs": [
    {
     "name": "stdout",
     "output_type": "stream",
     "text": [
      "      bizesId     bizesNm brchNm indsLclsCd indsLclsNm indsMclsCd indsMclsNm  \\\n",
      "0     9148230       맛꼬방치킨  남원1호점          Q         음식        Q05     닭/오리요리   \n",
      "1     9149048       맛있는파닭                 Q         음식        Q05     닭/오리요리   \n",
      "2     9150436        맥땡치킨                 Q         음식        Q05     닭/오리요리   \n",
      "3     9150630    맥시카나양념통닭                 Q         음식        Q05     닭/오리요리   \n",
      "4     9150653       멕시칸치킨                 Q         음식        Q05     닭/오리요리   \n",
      "..        ...         ...    ...        ...        ...        ...        ...   \n",
      "995  11927120     두두두마리치킨                 Q         음식        Q05     닭/오리요리   \n",
      "996  11927310    호식이두마리치킨                 Q         음식        Q05     닭/오리요리   \n",
      "997  11927491       또봉이치킨                 Q         음식        Q05     닭/오리요리   \n",
      "998  11927616  투마리치킨하늘도시점  하늘도시점          Q         음식        Q05     닭/오리요리   \n",
      "999  11927757        노랑통닭  구리수택점          Q         음식        Q05     닭/오리요리   \n",
      "\n",
      "    indsSclsCd indsSclsNm  ksicCd  ...                   bldMngNo       bldNm  \\\n",
      "0       Q05A08  후라이드/양념치킨  I56193  ...  4519011600105230001310219    맛꼬방치킨,호프   \n",
      "1       Q05A08  후라이드/양념치킨  I56193  ...  4159025324104960002035331  휴먼시아2단지아파트   \n",
      "2       Q05A08  후라이드/양념치킨  I56193  ...  4157010400120180001000001       강변프라자   \n",
      "3       Q05A08  후라이드/양념치킨  I56193  ...  4719025024100730000038423               \n",
      "4       Q05A08  후라이드/양념치킨  I56193  ...  4728034022100710001802828               \n",
      "..         ...        ...     ...  ...                        ...         ...   \n",
      "995     Q05A08  후라이드/양념치킨  I56193  ...  4719034028104640013062144               \n",
      "996     Q05A08  후라이드/양념치킨  I56193  ...  4272025029104520007040192               \n",
      "997     Q05A08  후라이드/양념치킨  I56193  ...  2820010200100690027020930               \n",
      "998     Q05A08  후라이드/양념치킨  I56193  ...  2811014600100330008000001               \n",
      "999     Q05A08  후라이드/양념치킨  I56193  ...  4131010500104480006008791    구리신성미소지움   \n",
      "\n",
      "                      rdnmAdr oldZipcd newZipcd dongNo flrNo hoNo         lon  \\\n",
      "0             전라북도 남원시 농고길 11   590984    55752                    127.393180   \n",
      "1        경기도 화성시 봉담읍 동화새터길 89   445797    18301            1       126.959170   \n",
      "2       경기도 김포시 김포한강2로23번길 14   415060    10090            1       126.678805   \n",
      "3    경상북도 구미시 선산읍 선산중앙로7길 9-8   730802    39131                    128.294540   \n",
      "4      경상북도 문경시 산북면 금천로 573-1   745831    36910                    128.258331   \n",
      "..                        ...      ...      ...    ...   ...  ...         ...   \n",
      "995     경상북도 구미시 해평면 강동로 1671   730873    39154            1       128.390989   \n",
      "996      강원도 홍천군 홍천읍 남산강변로 32   250930    25149            1       127.882012   \n",
      "997         인천광역시 남동구 풀무로 9-2   405230    21510            1       126.709187   \n",
      "998         인천광역시 중구 운중로 85-1   400811    22359            1       126.542880   \n",
      "999           경기도 구리시 이문안로 81   471030    11941    101     1       127.140380   \n",
      "\n",
      "           lat  \n",
      "0    35.415391  \n",
      "1    37.218350  \n",
      "2    37.642249  \n",
      "3    36.239957  \n",
      "4    36.655300  \n",
      "..         ...  \n",
      "995  36.199637  \n",
      "996  37.685865  \n",
      "997  37.469419  \n",
      "998  37.493596  \n",
      "999  37.592408  \n",
      "\n",
      "[36064 rows x 39 columns]\n"
     ]
    }
   ],
   "source": [
    "result = pd.DataFrame()\n",
    "for item in data:\n",
    "    temp = pd.json_normalize(item['body']['items'])\n",
    "    result = pd.concat([temp, result])\n",
    "print(result)\n",
    "result.to_csv(\"chicken.csv\", encoding = \"cp949\")"
   ]
  },
  {
   "cell_type": "code",
   "execution_count": 19,
   "id": "53db4d5a-8c5f-46d7-afc3-9c4faf9e5cac",
   "metadata": {},
   "outputs": [
    {
     "data": {
      "text/html": [
       "<div>\n",
       "<style scoped>\n",
       "    .dataframe tbody tr th:only-of-type {\n",
       "        vertical-align: middle;\n",
       "    }\n",
       "\n",
       "    .dataframe tbody tr th {\n",
       "        vertical-align: top;\n",
       "    }\n",
       "\n",
       "    .dataframe thead th {\n",
       "        text-align: right;\n",
       "    }\n",
       "</style>\n",
       "<table border=\"1\" class=\"dataframe\">\n",
       "  <thead>\n",
       "    <tr style=\"text-align: right;\">\n",
       "      <th></th>\n",
       "      <th>bizesId</th>\n",
       "      <th>bizesNm</th>\n",
       "      <th>brchNm</th>\n",
       "      <th>indsLclsCd</th>\n",
       "      <th>indsLclsNm</th>\n",
       "      <th>indsMclsCd</th>\n",
       "      <th>indsMclsNm</th>\n",
       "      <th>indsSclsCd</th>\n",
       "      <th>indsSclsNm</th>\n",
       "      <th>ksicCd</th>\n",
       "      <th>...</th>\n",
       "      <th>bldMngNo</th>\n",
       "      <th>bldNm</th>\n",
       "      <th>rdnmAdr</th>\n",
       "      <th>oldZipcd</th>\n",
       "      <th>newZipcd</th>\n",
       "      <th>dongNo</th>\n",
       "      <th>flrNo</th>\n",
       "      <th>hoNo</th>\n",
       "      <th>lon</th>\n",
       "      <th>lat</th>\n",
       "    </tr>\n",
       "  </thead>\n",
       "  <tbody>\n",
       "    <tr>\n",
       "      <th>0</th>\n",
       "      <td>10027626</td>\n",
       "      <td>장모님치킨가창점</td>\n",
       "      <td>가창점</td>\n",
       "      <td>Q</td>\n",
       "      <td>음식</td>\n",
       "      <td>Q05</td>\n",
       "      <td>닭/오리요리</td>\n",
       "      <td>Q05A08</td>\n",
       "      <td>후라이드/양념치킨</td>\n",
       "      <td>I56193</td>\n",
       "      <td>...</td>\n",
       "      <td>2771031024101200004036858</td>\n",
       "      <td></td>\n",
       "      <td>대구광역시 달성군 가창면 가창동로 6</td>\n",
       "      <td>711861</td>\n",
       "      <td>42938</td>\n",
       "      <td></td>\n",
       "      <td>1</td>\n",
       "      <td></td>\n",
       "      <td>128.644459</td>\n",
       "      <td>35.782663</td>\n",
       "    </tr>\n",
       "    <tr>\n",
       "      <th>1</th>\n",
       "      <td>10098244</td>\n",
       "      <td>짱구피자치킨</td>\n",
       "      <td></td>\n",
       "      <td>Q</td>\n",
       "      <td>음식</td>\n",
       "      <td>Q05</td>\n",
       "      <td>닭/오리요리</td>\n",
       "      <td>Q05A08</td>\n",
       "      <td>후라이드/양념치킨</td>\n",
       "      <td>I56193</td>\n",
       "      <td>...</td>\n",
       "      <td>4125010300102680011008557</td>\n",
       "      <td></td>\n",
       "      <td>경기도 동두천시 못골로 30</td>\n",
       "      <td>483030</td>\n",
       "      <td>11320</td>\n",
       "      <td></td>\n",
       "      <td></td>\n",
       "      <td></td>\n",
       "      <td>127.065903</td>\n",
       "      <td>37.901262</td>\n",
       "    </tr>\n",
       "    <tr>\n",
       "      <th>2</th>\n",
       "      <td>10099459</td>\n",
       "      <td>쭈노치킨</td>\n",
       "      <td></td>\n",
       "      <td>Q</td>\n",
       "      <td>음식</td>\n",
       "      <td>Q05</td>\n",
       "      <td>닭/오리요리</td>\n",
       "      <td>Q05A08</td>\n",
       "      <td>후라이드/양념치킨</td>\n",
       "      <td>I56193</td>\n",
       "      <td>...</td>\n",
       "      <td>4157025324105380008019970</td>\n",
       "      <td></td>\n",
       "      <td>경기도 김포시 고촌읍 장차로13번길 18</td>\n",
       "      <td>415811</td>\n",
       "      <td>10126</td>\n",
       "      <td></td>\n",
       "      <td>1</td>\n",
       "      <td></td>\n",
       "      <td>126.769859</td>\n",
       "      <td>37.603752</td>\n",
       "    </tr>\n",
       "    <tr>\n",
       "      <th>3</th>\n",
       "      <td>10136167</td>\n",
       "      <td>치킨뱅이</td>\n",
       "      <td></td>\n",
       "      <td>Q</td>\n",
       "      <td>음식</td>\n",
       "      <td>Q05</td>\n",
       "      <td>닭/오리요리</td>\n",
       "      <td>Q05A08</td>\n",
       "      <td>후라이드/양념치킨</td>\n",
       "      <td>I56193</td>\n",
       "      <td>...</td>\n",
       "      <td>4213011000108300006022278</td>\n",
       "      <td></td>\n",
       "      <td>강원도 원주시 금불3길 5</td>\n",
       "      <td>220938</td>\n",
       "      <td>26423</td>\n",
       "      <td></td>\n",
       "      <td>1</td>\n",
       "      <td></td>\n",
       "      <td>127.932025</td>\n",
       "      <td>37.348358</td>\n",
       "    </tr>\n",
       "    <tr>\n",
       "      <th>4</th>\n",
       "      <td>10136346</td>\n",
       "      <td>치킨월드율량점</td>\n",
       "      <td>율량점</td>\n",
       "      <td>Q</td>\n",
       "      <td>음식</td>\n",
       "      <td>Q05</td>\n",
       "      <td>닭/오리요리</td>\n",
       "      <td>Q05A08</td>\n",
       "      <td>후라이드/양념치킨</td>\n",
       "      <td>I56193</td>\n",
       "      <td>...</td>\n",
       "      <td>4311111500108060000045239</td>\n",
       "      <td></td>\n",
       "      <td>충청북도 청주시 청원구 공항로138번길 53</td>\n",
       "      <td>363818</td>\n",
       "      <td>28328</td>\n",
       "      <td></td>\n",
       "      <td>1</td>\n",
       "      <td></td>\n",
       "      <td>127.487586</td>\n",
       "      <td>36.669816</td>\n",
       "    </tr>\n",
       "    <tr>\n",
       "      <th>...</th>\n",
       "      <td>...</td>\n",
       "      <td>...</td>\n",
       "      <td>...</td>\n",
       "      <td>...</td>\n",
       "      <td>...</td>\n",
       "      <td>...</td>\n",
       "      <td>...</td>\n",
       "      <td>...</td>\n",
       "      <td>...</td>\n",
       "      <td>...</td>\n",
       "      <td>...</td>\n",
       "      <td>...</td>\n",
       "      <td>...</td>\n",
       "      <td>...</td>\n",
       "      <td>...</td>\n",
       "      <td>...</td>\n",
       "      <td>...</td>\n",
       "      <td>...</td>\n",
       "      <td>...</td>\n",
       "      <td>...</td>\n",
       "      <td>...</td>\n",
       "    </tr>\n",
       "    <tr>\n",
       "      <th>995</th>\n",
       "      <td>11927120</td>\n",
       "      <td>두두두마리치킨</td>\n",
       "      <td></td>\n",
       "      <td>Q</td>\n",
       "      <td>음식</td>\n",
       "      <td>Q05</td>\n",
       "      <td>닭/오리요리</td>\n",
       "      <td>Q05A08</td>\n",
       "      <td>후라이드/양념치킨</td>\n",
       "      <td>I56193</td>\n",
       "      <td>...</td>\n",
       "      <td>4719034028104640013062144</td>\n",
       "      <td></td>\n",
       "      <td>경상북도 구미시 해평면 강동로 1671</td>\n",
       "      <td>730873</td>\n",
       "      <td>39154</td>\n",
       "      <td></td>\n",
       "      <td>1</td>\n",
       "      <td></td>\n",
       "      <td>128.390989</td>\n",
       "      <td>36.199637</td>\n",
       "    </tr>\n",
       "    <tr>\n",
       "      <th>996</th>\n",
       "      <td>11927310</td>\n",
       "      <td>호식이두마리치킨</td>\n",
       "      <td></td>\n",
       "      <td>Q</td>\n",
       "      <td>음식</td>\n",
       "      <td>Q05</td>\n",
       "      <td>닭/오리요리</td>\n",
       "      <td>Q05A08</td>\n",
       "      <td>후라이드/양념치킨</td>\n",
       "      <td>I56193</td>\n",
       "      <td>...</td>\n",
       "      <td>4272025029104520007040192</td>\n",
       "      <td></td>\n",
       "      <td>강원도 홍천군 홍천읍 남산강변로 32</td>\n",
       "      <td>250930</td>\n",
       "      <td>25149</td>\n",
       "      <td></td>\n",
       "      <td>1</td>\n",
       "      <td></td>\n",
       "      <td>127.882012</td>\n",
       "      <td>37.685865</td>\n",
       "    </tr>\n",
       "    <tr>\n",
       "      <th>997</th>\n",
       "      <td>11927491</td>\n",
       "      <td>또봉이치킨</td>\n",
       "      <td></td>\n",
       "      <td>Q</td>\n",
       "      <td>음식</td>\n",
       "      <td>Q05</td>\n",
       "      <td>닭/오리요리</td>\n",
       "      <td>Q05A08</td>\n",
       "      <td>후라이드/양념치킨</td>\n",
       "      <td>I56193</td>\n",
       "      <td>...</td>\n",
       "      <td>2820010200100690027020930</td>\n",
       "      <td></td>\n",
       "      <td>인천광역시 남동구 풀무로 9-2</td>\n",
       "      <td>405230</td>\n",
       "      <td>21510</td>\n",
       "      <td></td>\n",
       "      <td>1</td>\n",
       "      <td></td>\n",
       "      <td>126.709187</td>\n",
       "      <td>37.469419</td>\n",
       "    </tr>\n",
       "    <tr>\n",
       "      <th>998</th>\n",
       "      <td>11927616</td>\n",
       "      <td>투마리치킨하늘도시점</td>\n",
       "      <td>하늘도시점</td>\n",
       "      <td>Q</td>\n",
       "      <td>음식</td>\n",
       "      <td>Q05</td>\n",
       "      <td>닭/오리요리</td>\n",
       "      <td>Q05A08</td>\n",
       "      <td>후라이드/양념치킨</td>\n",
       "      <td>I56193</td>\n",
       "      <td>...</td>\n",
       "      <td>2811014600100330008000001</td>\n",
       "      <td></td>\n",
       "      <td>인천광역시 중구 운중로 85-1</td>\n",
       "      <td>400811</td>\n",
       "      <td>22359</td>\n",
       "      <td></td>\n",
       "      <td>1</td>\n",
       "      <td></td>\n",
       "      <td>126.542880</td>\n",
       "      <td>37.493596</td>\n",
       "    </tr>\n",
       "    <tr>\n",
       "      <th>999</th>\n",
       "      <td>11927757</td>\n",
       "      <td>노랑통닭</td>\n",
       "      <td>구리수택점</td>\n",
       "      <td>Q</td>\n",
       "      <td>음식</td>\n",
       "      <td>Q05</td>\n",
       "      <td>닭/오리요리</td>\n",
       "      <td>Q05A08</td>\n",
       "      <td>후라이드/양념치킨</td>\n",
       "      <td>I56193</td>\n",
       "      <td>...</td>\n",
       "      <td>4131010500104480006008791</td>\n",
       "      <td>구리신성미소지움</td>\n",
       "      <td>경기도 구리시 이문안로 81</td>\n",
       "      <td>471030</td>\n",
       "      <td>11941</td>\n",
       "      <td>101</td>\n",
       "      <td>1</td>\n",
       "      <td></td>\n",
       "      <td>127.140380</td>\n",
       "      <td>37.592408</td>\n",
       "    </tr>\n",
       "  </tbody>\n",
       "</table>\n",
       "<p>1000 rows × 39 columns</p>\n",
       "</div>"
      ],
      "text/plain": [
       "      bizesId     bizesNm brchNm indsLclsCd indsLclsNm indsMclsCd indsMclsNm  \\\n",
       "0    10027626    장모님치킨가창점    가창점          Q         음식        Q05     닭/오리요리   \n",
       "1    10098244      짱구피자치킨                 Q         음식        Q05     닭/오리요리   \n",
       "2    10099459        쭈노치킨                 Q         음식        Q05     닭/오리요리   \n",
       "3    10136167        치킨뱅이                 Q         음식        Q05     닭/오리요리   \n",
       "4    10136346     치킨월드율량점    율량점          Q         음식        Q05     닭/오리요리   \n",
       "..        ...         ...    ...        ...        ...        ...        ...   \n",
       "995  11927120     두두두마리치킨                 Q         음식        Q05     닭/오리요리   \n",
       "996  11927310    호식이두마리치킨                 Q         음식        Q05     닭/오리요리   \n",
       "997  11927491       또봉이치킨                 Q         음식        Q05     닭/오리요리   \n",
       "998  11927616  투마리치킨하늘도시점  하늘도시점          Q         음식        Q05     닭/오리요리   \n",
       "999  11927757        노랑통닭  구리수택점          Q         음식        Q05     닭/오리요리   \n",
       "\n",
       "    indsSclsCd indsSclsNm  ksicCd  ...                   bldMngNo     bldNm  \\\n",
       "0       Q05A08  후라이드/양념치킨  I56193  ...  2771031024101200004036858             \n",
       "1       Q05A08  후라이드/양념치킨  I56193  ...  4125010300102680011008557             \n",
       "2       Q05A08  후라이드/양념치킨  I56193  ...  4157025324105380008019970             \n",
       "3       Q05A08  후라이드/양념치킨  I56193  ...  4213011000108300006022278             \n",
       "4       Q05A08  후라이드/양념치킨  I56193  ...  4311111500108060000045239             \n",
       "..         ...        ...     ...  ...                        ...       ...   \n",
       "995     Q05A08  후라이드/양념치킨  I56193  ...  4719034028104640013062144             \n",
       "996     Q05A08  후라이드/양념치킨  I56193  ...  4272025029104520007040192             \n",
       "997     Q05A08  후라이드/양념치킨  I56193  ...  2820010200100690027020930             \n",
       "998     Q05A08  후라이드/양념치킨  I56193  ...  2811014600100330008000001             \n",
       "999     Q05A08  후라이드/양념치킨  I56193  ...  4131010500104480006008791  구리신성미소지움   \n",
       "\n",
       "                      rdnmAdr oldZipcd newZipcd dongNo flrNo hoNo         lon  \\\n",
       "0        대구광역시 달성군 가창면 가창동로 6   711861    42938            1       128.644459   \n",
       "1             경기도 동두천시 못골로 30   483030    11320                    127.065903   \n",
       "2      경기도 김포시 고촌읍 장차로13번길 18   415811    10126            1       126.769859   \n",
       "3              강원도 원주시 금불3길 5   220938    26423            1       127.932025   \n",
       "4    충청북도 청주시 청원구 공항로138번길 53   363818    28328            1       127.487586   \n",
       "..                        ...      ...      ...    ...   ...  ...         ...   \n",
       "995     경상북도 구미시 해평면 강동로 1671   730873    39154            1       128.390989   \n",
       "996      강원도 홍천군 홍천읍 남산강변로 32   250930    25149            1       127.882012   \n",
       "997         인천광역시 남동구 풀무로 9-2   405230    21510            1       126.709187   \n",
       "998         인천광역시 중구 운중로 85-1   400811    22359            1       126.542880   \n",
       "999           경기도 구리시 이문안로 81   471030    11941    101     1       127.140380   \n",
       "\n",
       "           lat  \n",
       "0    35.782663  \n",
       "1    37.901262  \n",
       "2    37.603752  \n",
       "3    37.348358  \n",
       "4    36.669816  \n",
       "..         ...  \n",
       "995  36.199637  \n",
       "996  37.685865  \n",
       "997  37.469419  \n",
       "998  37.493596  \n",
       "999  37.592408  \n",
       "\n",
       "[1000 rows x 39 columns]"
      ]
     },
     "execution_count": 19,
     "metadata": {},
     "output_type": "execute_result"
    }
   ],
   "source": [
    "df2 = pd.DataFrame(chicken_dict)\n",
    "df2"
   ]
  },
  {
   "cell_type": "code",
   "execution_count": null,
   "id": "432e8678-3d6e-4df7-960e-ef4fa90c2a0b",
   "metadata": {},
   "outputs": [],
   "source": []
  },
  {
   "cell_type": "code",
   "execution_count": null,
   "id": "d372f213-acc4-4b01-b6ec-d8f229297d19",
   "metadata": {},
   "outputs": [],
   "source": []
  },
  {
   "cell_type": "code",
   "execution_count": null,
   "id": "7fb6b53b-bf0e-4769-9d6c-2f8b33580f62",
   "metadata": {},
   "outputs": [],
   "source": []
  },
  {
   "cell_type": "code",
   "execution_count": null,
   "id": "e3ca447e-afe6-490a-9431-af0ac6767c70",
   "metadata": {},
   "outputs": [],
   "source": [
    "df['bizesNm'].apply(lamda x : x+'$$')"
   ]
  },
  {
   "cell_type": "code",
   "execution_count": null,
   "id": "0fbf5ba2-c25d-442c-9bc5-c71f343253a6",
   "metadata": {},
   "outputs": [],
   "source": []
  },
  {
   "cell_type": "code",
   "execution_count": null,
   "id": "34a20238-96a0-44a7-89e1-3eb9277504cc",
   "metadata": {},
   "outputs": [],
   "source": []
  },
  {
   "cell_type": "code",
   "execution_count": null,
   "id": "4d9912ac-c5be-49be-b54e-8a0f163a0d92",
   "metadata": {},
   "outputs": [],
   "source": []
  },
  {
   "cell_type": "code",
   "execution_count": null,
   "id": "c185dc84-ebb5-42ef-b127-c4f833557f6b",
   "metadata": {},
   "outputs": [],
   "source": []
  },
  {
   "cell_type": "code",
   "execution_count": null,
   "id": "2d1aa3dc-ed47-465c-8330-10edb3aaa670",
   "metadata": {},
   "outputs": [],
   "source": []
  },
  {
   "cell_type": "code",
   "execution_count": null,
   "id": "06a16bb8-58bd-4327-a940-b83863fc4709",
   "metadata": {},
   "outputs": [],
   "source": []
  },
  {
   "cell_type": "code",
   "execution_count": null,
   "id": "f9f16ca6-c9da-475a-a44f-774458732890",
   "metadata": {},
   "outputs": [],
   "source": []
  },
  {
   "cell_type": "code",
   "execution_count": null,
   "id": "9727f355-5687-4f46-b347-baf0fa9cbd7f",
   "metadata": {},
   "outputs": [],
   "source": []
  },
  {
   "cell_type": "code",
   "execution_count": null,
   "id": "b008bdfd-c28c-4e7f-9b88-2597fe738716",
   "metadata": {},
   "outputs": [],
   "source": []
  },
  {
   "cell_type": "code",
   "execution_count": null,
   "id": "fae06700-19f1-44c7-9749-5347b42d31ca",
   "metadata": {},
   "outputs": [],
   "source": []
  },
  {
   "cell_type": "code",
   "execution_count": null,
   "id": "df1f22f9-260b-4de3-be6b-10bcee9f84dd",
   "metadata": {},
   "outputs": [],
   "source": []
  },
  {
   "cell_type": "code",
   "execution_count": null,
   "id": "a663226a-fb43-4dd0-a699-26a2619264b3",
   "metadata": {},
   "outputs": [],
   "source": []
  },
  {
   "cell_type": "code",
   "execution_count": null,
   "id": "a0ed0593-e0f2-4244-aa6e-b4528836ef57",
   "metadata": {},
   "outputs": [],
   "source": []
  },
  {
   "cell_type": "code",
   "execution_count": null,
   "id": "77fb2e79-325c-44d2-97b5-e0929eedf46a",
   "metadata": {},
   "outputs": [],
   "source": []
  },
  {
   "cell_type": "code",
   "execution_count": null,
   "id": "a7df9faa-e482-4792-a2b9-a1975608b6b7",
   "metadata": {},
   "outputs": [],
   "source": []
  },
  {
   "cell_type": "code",
   "execution_count": null,
   "id": "e724d9ed-9477-462f-8928-1e30d896ccd6",
   "metadata": {},
   "outputs": [],
   "source": []
  },
  {
   "cell_type": "code",
   "execution_count": null,
   "id": "47ecdde4-d8d7-4d14-ba3e-e7c3483241d1",
   "metadata": {},
   "outputs": [],
   "source": []
  },
  {
   "cell_type": "code",
   "execution_count": null,
   "id": "c6c6b92a-8195-43ac-b8e5-d2873cb3bdeb",
   "metadata": {},
   "outputs": [],
   "source": []
  },
  {
   "cell_type": "code",
   "execution_count": null,
   "id": "111d6d2d-453d-48e5-8f6a-8c0791042789",
   "metadata": {},
   "outputs": [],
   "source": []
  },
  {
   "cell_type": "code",
   "execution_count": null,
   "id": "6a40e43f-1c5e-4fc9-8ee5-8867df6f5be8",
   "metadata": {},
   "outputs": [],
   "source": []
  },
  {
   "cell_type": "code",
   "execution_count": null,
   "id": "72833465-1ed5-4746-8594-0bbf52e2d1d8",
   "metadata": {},
   "outputs": [],
   "source": []
  },
  {
   "cell_type": "code",
   "execution_count": null,
   "id": "accffaaa-148e-4489-99b0-d6c9ebc14167",
   "metadata": {},
   "outputs": [],
   "source": []
  },
  {
   "cell_type": "code",
   "execution_count": null,
   "id": "cc5fb339-1f25-4b3d-a73d-068e5da0fd4a",
   "metadata": {},
   "outputs": [],
   "source": []
  },
  {
   "cell_type": "code",
   "execution_count": null,
   "id": "96310462-29bd-4da0-9443-47f033fc7fe0",
   "metadata": {},
   "outputs": [],
   "source": []
  },
  {
   "cell_type": "code",
   "execution_count": null,
   "id": "a4b67ae4-b27a-4724-95fc-feaf760e730e",
   "metadata": {},
   "outputs": [],
   "source": []
  },
  {
   "cell_type": "code",
   "execution_count": null,
   "id": "1f320fa8-3b72-4c2c-9f74-89831f44b94b",
   "metadata": {},
   "outputs": [],
   "source": []
  },
  {
   "cell_type": "code",
   "execution_count": null,
   "id": "7e5cc782-b1d8-4424-a61c-04e960471a26",
   "metadata": {},
   "outputs": [],
   "source": []
  },
  {
   "cell_type": "code",
   "execution_count": null,
   "id": "83b269c7-dc05-4525-bcaa-a8e3dad135f6",
   "metadata": {},
   "outputs": [],
   "source": []
  },
  {
   "cell_type": "code",
   "execution_count": null,
   "id": "40fabc7f-9641-4c88-8040-e0bf9efa9051",
   "metadata": {},
   "outputs": [],
   "source": []
  },
  {
   "cell_type": "code",
   "execution_count": null,
   "id": "6ccb03c3-1b42-4404-b21c-d30553400a5a",
   "metadata": {},
   "outputs": [],
   "source": []
  },
  {
   "cell_type": "code",
   "execution_count": null,
   "id": "0a16dead-6d1e-46d6-93ef-7d1118ffe223",
   "metadata": {},
   "outputs": [],
   "source": []
  },
  {
   "cell_type": "code",
   "execution_count": null,
   "id": "6e4c7a92-971f-4c6c-a572-0e33a2f62f0e",
   "metadata": {},
   "outputs": [],
   "source": []
  },
  {
   "cell_type": "code",
   "execution_count": null,
   "id": "9235cf58-1574-469d-a564-0506c6703201",
   "metadata": {},
   "outputs": [],
   "source": []
  },
  {
   "cell_type": "code",
   "execution_count": null,
   "id": "d28d9ad8-5a8b-4d30-8db0-deb42d61e17c",
   "metadata": {},
   "outputs": [],
   "source": []
  },
  {
   "cell_type": "code",
   "execution_count": null,
   "id": "dac61f28-4382-4b39-9737-bb8992f59906",
   "metadata": {},
   "outputs": [],
   "source": []
  },
  {
   "cell_type": "code",
   "execution_count": null,
   "id": "8cb1bb88-660d-48eb-a802-7f999a2f6031",
   "metadata": {},
   "outputs": [],
   "source": []
  },
  {
   "cell_type": "code",
   "execution_count": null,
   "id": "e698144a-8cb8-4622-8b93-919ad231a7cc",
   "metadata": {},
   "outputs": [],
   "source": []
  },
  {
   "cell_type": "code",
   "execution_count": null,
   "id": "b00f5fec-69ab-43e3-a5e4-6ea11d97efcb",
   "metadata": {},
   "outputs": [],
   "source": []
  },
  {
   "cell_type": "code",
   "execution_count": null,
   "id": "167a252c-01b5-4f61-9ad1-2254c045d9d9",
   "metadata": {},
   "outputs": [],
   "source": []
  },
  {
   "cell_type": "code",
   "execution_count": null,
   "id": "f53ecf07-d8dd-43a2-8fad-4556cfc50528",
   "metadata": {},
   "outputs": [],
   "source": []
  },
  {
   "cell_type": "code",
   "execution_count": null,
   "id": "c85fc76e-964e-4676-a0bd-8e31d1505c61",
   "metadata": {},
   "outputs": [],
   "source": []
  },
  {
   "cell_type": "code",
   "execution_count": null,
   "id": "ee01655e-0f4c-413e-966a-1afd90237bb7",
   "metadata": {},
   "outputs": [],
   "source": []
  },
  {
   "cell_type": "code",
   "execution_count": null,
   "id": "d5a09e33-f99c-49fe-bb26-7d39c5327f8c",
   "metadata": {},
   "outputs": [],
   "source": []
  },
  {
   "cell_type": "code",
   "execution_count": null,
   "id": "3a53934c-8c27-4bd2-a5bc-a8d1bbea19b9",
   "metadata": {},
   "outputs": [],
   "source": []
  },
  {
   "cell_type": "code",
   "execution_count": null,
   "id": "dc2fde79-6bfb-414b-bc85-b191a6bbf26d",
   "metadata": {},
   "outputs": [],
   "source": []
  },
  {
   "cell_type": "code",
   "execution_count": null,
   "id": "be582105-44f0-4c50-940e-0cbcc2b8f5b0",
   "metadata": {},
   "outputs": [],
   "source": []
  },
  {
   "cell_type": "code",
   "execution_count": null,
   "id": "68b0a7e7-a0e6-4212-a969-ca4c09309e40",
   "metadata": {},
   "outputs": [],
   "source": []
  },
  {
   "cell_type": "code",
   "execution_count": null,
   "id": "0dffbc72-91f5-4a5e-b2e2-1aeb0ad8caea",
   "metadata": {},
   "outputs": [],
   "source": []
  },
  {
   "cell_type": "code",
   "execution_count": null,
   "id": "c0bc3bfd-f7f3-46b4-9796-dbe7554de7a2",
   "metadata": {},
   "outputs": [],
   "source": []
  },
  {
   "cell_type": "code",
   "execution_count": null,
   "id": "cb682071-970e-421a-8154-878615d29f1f",
   "metadata": {},
   "outputs": [],
   "source": []
  },
  {
   "cell_type": "code",
   "execution_count": null,
   "id": "84918974-be4a-403b-b3fb-d8b492761763",
   "metadata": {},
   "outputs": [],
   "source": []
  },
  {
   "cell_type": "code",
   "execution_count": null,
   "id": "6b72cb65-d1e5-41d8-8760-33025e7b6afa",
   "metadata": {},
   "outputs": [],
   "source": []
  },
  {
   "cell_type": "code",
   "execution_count": null,
   "id": "83a82fba-4309-46b1-adc0-6dd8c2c67c81",
   "metadata": {},
   "outputs": [],
   "source": []
  },
  {
   "cell_type": "code",
   "execution_count": null,
   "id": "9f86fdbd-a2f7-4cb7-a90b-b7c8d73a710f",
   "metadata": {},
   "outputs": [],
   "source": []
  },
  {
   "cell_type": "code",
   "execution_count": null,
   "id": "d16b9e06-7dc2-41fd-8324-e25b48a6edb5",
   "metadata": {},
   "outputs": [],
   "source": []
  },
  {
   "cell_type": "code",
   "execution_count": null,
   "id": "85e48f0d-d5bc-4b62-850a-6fc2fd8164ea",
   "metadata": {},
   "outputs": [],
   "source": []
  },
  {
   "cell_type": "code",
   "execution_count": null,
   "id": "8ec3d1ef-e520-4ebd-af8f-388d21a9abbf",
   "metadata": {},
   "outputs": [],
   "source": []
  },
  {
   "cell_type": "code",
   "execution_count": null,
   "id": "1aab687a-93fe-4c3a-be20-5ad8d9745c03",
   "metadata": {},
   "outputs": [],
   "source": []
  },
  {
   "cell_type": "code",
   "execution_count": null,
   "id": "c706f203-b443-47f4-94b3-6828ac67fe8e",
   "metadata": {},
   "outputs": [],
   "source": []
  },
  {
   "cell_type": "code",
   "execution_count": null,
   "id": "8fea357b-66b1-4e8a-a08c-4bece54ce2df",
   "metadata": {},
   "outputs": [],
   "source": []
  },
  {
   "cell_type": "code",
   "execution_count": null,
   "id": "3b33f615-2df2-4906-95b7-8fe5e1c6212e",
   "metadata": {},
   "outputs": [],
   "source": []
  },
  {
   "cell_type": "code",
   "execution_count": null,
   "id": "f721d514-cbd7-46cf-befe-664365e480e0",
   "metadata": {},
   "outputs": [],
   "source": []
  },
  {
   "cell_type": "code",
   "execution_count": null,
   "id": "95469b05-ab14-475a-8a99-84ff6ecb73b2",
   "metadata": {},
   "outputs": [],
   "source": []
  },
  {
   "cell_type": "code",
   "execution_count": null,
   "id": "01001ef3-0601-49bf-8312-e46a129f233a",
   "metadata": {},
   "outputs": [],
   "source": []
  },
  {
   "cell_type": "code",
   "execution_count": null,
   "id": "5c08287f-44e0-434c-9377-e197dd8e07d5",
   "metadata": {},
   "outputs": [],
   "source": []
  },
  {
   "cell_type": "code",
   "execution_count": null,
   "id": "fd952e21-c466-4f4b-9832-d220c99ae775",
   "metadata": {},
   "outputs": [],
   "source": []
  },
  {
   "cell_type": "code",
   "execution_count": null,
   "id": "8f532548-8309-43a9-afd7-854dbd3f469b",
   "metadata": {},
   "outputs": [],
   "source": []
  },
  {
   "cell_type": "code",
   "execution_count": null,
   "id": "9287609d-1ee3-43d2-b2a9-4a68956b766b",
   "metadata": {},
   "outputs": [],
   "source": []
  }
 ],
 "metadata": {
  "kernelspec": {
   "display_name": "Python 3 (ipykernel)",
   "language": "python",
   "name": "python3"
  },
  "language_info": {
   "codemirror_mode": {
    "name": "ipython",
    "version": 3
   },
   "file_extension": ".py",
   "mimetype": "text/x-python",
   "name": "python",
   "nbconvert_exporter": "python",
   "pygments_lexer": "ipython3",
   "version": "3.10.14"
  }
 },
 "nbformat": 4,
 "nbformat_minor": 5
}
