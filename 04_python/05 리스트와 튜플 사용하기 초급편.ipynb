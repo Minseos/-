{
 "cells": [
  {
   "cell_type": "markdown",
   "id": "5ae6383f-902b-4e81-b5ed-7f991d9837cb",
   "metadata": {},
   "source": [
    "### 리스트와 튜플 사용하기"
   ]
  },
  {
   "cell_type": "code",
   "execution_count": 1,
   "id": "023bb439-68ae-42a9-8cbf-af873b34262d",
   "metadata": {},
   "outputs": [],
   "source": [
    "a = 1\n",
    "b = 2\n",
    "c = 3\n",
    "d = 4\n",
    "e = 5"
   ]
  },
  {
   "cell_type": "code",
   "execution_count": 3,
   "id": "837b35e4-1f8c-4f73-b41b-a48f96e9c079",
   "metadata": {},
   "outputs": [
    {
     "data": {
      "text/plain": [
       "[1, 2, 3]"
      ]
     },
     "execution_count": 3,
     "metadata": {},
     "output_type": "execute_result"
    }
   ],
   "source": [
    "L1 = [1,2,3,4,5][:3]\n",
    "L1"
   ]
  },
  {
   "cell_type": "code",
   "execution_count": 4,
   "id": "b7184b63-1390-4acf-a91b-a9c26e23f1c0",
   "metadata": {
    "scrolled": true
   },
   "outputs": [
    {
     "data": {
      "text/plain": [
       "['파이썬', 2, 17.2, True]"
      ]
     },
     "execution_count": 4,
     "metadata": {},
     "output_type": "execute_result"
    }
   ],
   "source": [
    "L2 = ['파이썬', 2, 17.2, True]\n",
    "L2"
   ]
  },
  {
   "cell_type": "code",
   "execution_count": 5,
   "id": "03c066a0-5dd9-4a70-8216-61d9176cbeba",
   "metadata": {},
   "outputs": [
    {
     "data": {
      "text/plain": [
       "'파이썬'"
      ]
     },
     "execution_count": 5,
     "metadata": {},
     "output_type": "execute_result"
    }
   ],
   "source": [
    "L2[0]"
   ]
  },
  {
   "cell_type": "code",
   "execution_count": 7,
   "id": "a1d65eab-aa8b-492d-a10d-87c882ea4f3c",
   "metadata": {},
   "outputs": [
    {
     "data": {
      "text/plain": [
       "[2, 17.2]"
      ]
     },
     "execution_count": 7,
     "metadata": {},
     "output_type": "execute_result"
    }
   ],
   "source": [
    "L2[1:3]"
   ]
  },
  {
   "cell_type": "code",
   "execution_count": 8,
   "id": "8e3feb9d-b4e8-48f0-917d-70fd1aa63f49",
   "metadata": {
    "scrolled": true
   },
   "outputs": [
    {
     "name": "stdout",
     "output_type": "stream",
     "text": [
      "<class 'list'>\n"
     ]
    }
   ],
   "source": [
    "print(type(L2))"
   ]
  },
  {
   "cell_type": "markdown",
   "id": "eb392c37-f84e-4b77-8dc6-84346746957a",
   "metadata": {},
   "source": [
    "* 빈리스트 만들기"
   ]
  },
  {
   "cell_type": "code",
   "execution_count": 9,
   "id": "afee51fb-f615-4a78-93c0-4884043edd52",
   "metadata": {},
   "outputs": [
    {
     "data": {
      "text/plain": [
       "[]"
      ]
     },
     "execution_count": 9,
     "metadata": {},
     "output_type": "execute_result"
    }
   ],
   "source": [
    "L3 = []\n",
    "L3"
   ]
  },
  {
   "cell_type": "code",
   "execution_count": 10,
   "id": "a2188a7e-75eb-4357-85d2-b5db6bf898c7",
   "metadata": {},
   "outputs": [
    {
     "data": {
      "text/plain": [
       "[3]"
      ]
     },
     "execution_count": 10,
     "metadata": {},
     "output_type": "execute_result"
    }
   ],
   "source": [
    "L4 = [3]\n",
    "L4"
   ]
  },
  {
   "cell_type": "markdown",
   "id": "b84b1aa8-a851-4510-96ee-ab3edb9e3f1d",
   "metadata": {},
   "source": [
    "## list() 형변환"
   ]
  },
  {
   "cell_type": "code",
   "execution_count": 11,
   "id": "087c210b-e58d-4bcb-af65-c539b9505d0b",
   "metadata": {},
   "outputs": [
    {
     "name": "stdout",
     "output_type": "stream",
     "text": [
      "range(0, 10)\n"
     ]
    }
   ],
   "source": [
    "print(range(10))"
   ]
  },
  {
   "cell_type": "code",
   "execution_count": 13,
   "id": "68053092-3d2f-4d53-a673-2b75e99b0d2d",
   "metadata": {},
   "outputs": [
    {
     "name": "stdout",
     "output_type": "stream",
     "text": [
      "0\n",
      "1\n",
      "2\n",
      "3\n",
      "4\n",
      "5\n",
      "6\n",
      "7\n",
      "8\n",
      "9\n"
     ]
    }
   ],
   "source": [
    "for i in range(10):\n",
    "    print(i)"
   ]
  },
  {
   "cell_type": "code",
   "execution_count": 14,
   "id": "af5f2fc2-eb1a-4771-80cf-05356d632e5c",
   "metadata": {},
   "outputs": [
    {
     "data": {
      "text/plain": [
       "[0, 1, 2, 3, 4, 5, 6, 7, 8, 9]"
      ]
     },
     "execution_count": 14,
     "metadata": {},
     "output_type": "execute_result"
    }
   ],
   "source": [
    "L5 = list(range(10))\n",
    "L5"
   ]
  },
  {
   "cell_type": "markdown",
   "id": "6ba00c63-48fc-412a-a0fc-3b89ac0fa60d",
   "metadata": {},
   "source": [
    "## range() 함수\n",
    "* range(시작, 끝, 증가값)"
   ]
  },
  {
   "cell_type": "code",
   "execution_count": 16,
   "id": "10973594-11b5-4f09-814f-6a56e8f491f8",
   "metadata": {},
   "outputs": [
    {
     "data": {
      "text/plain": [
       "[0, 1, 2, 3, 4, 5, 6, 7, 8, 9]"
      ]
     },
     "execution_count": 16,
     "metadata": {},
     "output_type": "execute_result"
    }
   ],
   "source": [
    "list(range(10))"
   ]
  },
  {
   "cell_type": "code",
   "execution_count": 18,
   "id": "8506c621-5008-4e7f-8409-3c1c42c6a4d3",
   "metadata": {},
   "outputs": [
    {
     "data": {
      "text/plain": [
       "[1, 2, 3, 4, 5, 6, 7, 8, 9, 10]"
      ]
     },
     "execution_count": 18,
     "metadata": {},
     "output_type": "execute_result"
    }
   ],
   "source": [
    "list(range(1,11))"
   ]
  },
  {
   "cell_type": "code",
   "execution_count": 19,
   "id": "6f64178b-1022-49ad-ad71-b24c0fd6c49d",
   "metadata": {},
   "outputs": [
    {
     "data": {
      "text/plain": [
       "[1, 3, 5, 7, 9, 11, 13, 15, 17, 19]"
      ]
     },
     "execution_count": 19,
     "metadata": {},
     "output_type": "execute_result"
    }
   ],
   "source": [
    "list(range(1,20,2))"
   ]
  },
  {
   "cell_type": "code",
   "execution_count": 20,
   "id": "f4fb337e-8bd4-448f-b023-84289fce1782",
   "metadata": {},
   "outputs": [
    {
     "data": {
      "text/plain": [
       "[3,\n",
       " 6,\n",
       " 9,\n",
       " 12,\n",
       " 15,\n",
       " 18,\n",
       " 21,\n",
       " 24,\n",
       " 27,\n",
       " 30,\n",
       " 33,\n",
       " 36,\n",
       " 39,\n",
       " 42,\n",
       " 45,\n",
       " 48,\n",
       " 51,\n",
       " 54,\n",
       " 57,\n",
       " 60,\n",
       " 63,\n",
       " 66,\n",
       " 69,\n",
       " 72,\n",
       " 75,\n",
       " 78,\n",
       " 81,\n",
       " 84,\n",
       " 87,\n",
       " 90,\n",
       " 93,\n",
       " 96,\n",
       " 99]"
      ]
     },
     "execution_count": 20,
     "metadata": {},
     "output_type": "execute_result"
    }
   ],
   "source": [
    "list(range(3, 100, 3))"
   ]
  },
  {
   "cell_type": "code",
   "execution_count": 21,
   "id": "c4aa781d-a781-4f36-9a4a-73e7224c8a6f",
   "metadata": {},
   "outputs": [
    {
     "data": {
      "text/plain": [
       "[99,\n",
       " 96,\n",
       " 93,\n",
       " 90,\n",
       " 87,\n",
       " 84,\n",
       " 81,\n",
       " 78,\n",
       " 75,\n",
       " 72,\n",
       " 69,\n",
       " 66,\n",
       " 63,\n",
       " 60,\n",
       " 57,\n",
       " 54,\n",
       " 51,\n",
       " 48,\n",
       " 45,\n",
       " 42,\n",
       " 39,\n",
       " 36,\n",
       " 33,\n",
       " 30,\n",
       " 27,\n",
       " 24,\n",
       " 21,\n",
       " 18,\n",
       " 15,\n",
       " 12,\n",
       " 9,\n",
       " 6,\n",
       " 3]"
      ]
     },
     "execution_count": 21,
     "metadata": {},
     "output_type": "execute_result"
    }
   ],
   "source": [
    "list(range(99,1,-3))"
   ]
  },
  {
   "cell_type": "markdown",
   "id": "8f3500a5-7a9c-4ce1-9066-5b5bf97f23ac",
   "metadata": {},
   "source": [
    "### .append() 리스트의 끝에 자료 추가"
   ]
  },
  {
   "cell_type": "code",
   "execution_count": 22,
   "id": "ab5e0048-e8c8-4f5c-866d-bd64a6314167",
   "metadata": {},
   "outputs": [],
   "source": [
    "L2.append(3)"
   ]
  },
  {
   "cell_type": "code",
   "execution_count": 23,
   "id": "46dafe0e-eee6-48d1-a295-442dea7b32b9",
   "metadata": {},
   "outputs": [
    {
     "data": {
      "text/plain": [
       "['파이썬', 2, 17.2, True, 3]"
      ]
     },
     "execution_count": 23,
     "metadata": {},
     "output_type": "execute_result"
    }
   ],
   "source": [
    "L2"
   ]
  },
  {
   "cell_type": "code",
   "execution_count": 25,
   "id": "64e148bb-9253-40a1-ad7e-4f7f9cda2803",
   "metadata": {},
   "outputs": [
    {
     "data": {
      "text/plain": [
       "['파이썬', 2, 17.2, True, 3, [1, 2, 3], [1, 2, 3]]"
      ]
     },
     "execution_count": 25,
     "metadata": {},
     "output_type": "execute_result"
    }
   ],
   "source": [
    "L2.append([1,2,3])\n",
    "L2"
   ]
  },
  {
   "cell_type": "markdown",
   "id": "6a080e1e-0374-4478-b04d-eeb27714b79d",
   "metadata": {},
   "source": [
    "* 길이를 재는 함수 len()"
   ]
  },
  {
   "cell_type": "code",
   "execution_count": 26,
   "id": "63307ac8-2634-494d-a181-7ea42439f53b",
   "metadata": {},
   "outputs": [
    {
     "data": {
      "text/plain": [
       "7"
      ]
     },
     "execution_count": 26,
     "metadata": {},
     "output_type": "execute_result"
    }
   ],
   "source": [
    "len(L2)"
   ]
  },
  {
   "cell_type": "code",
   "execution_count": 27,
   "id": "a6400ca4-4def-4a25-b513-c75725acdfdd",
   "metadata": {},
   "outputs": [],
   "source": [
    "L2.append(list(range(100)))"
   ]
  },
  {
   "cell_type": "code",
   "execution_count": 28,
   "id": "196e5b4a-c267-4bf0-9a58-12800e2c6f48",
   "metadata": {},
   "outputs": [
    {
     "data": {
      "text/plain": [
       "8"
      ]
     },
     "execution_count": 28,
     "metadata": {},
     "output_type": "execute_result"
    }
   ],
   "source": [
    "len(L2)"
   ]
  },
  {
   "cell_type": "code",
   "execution_count": 30,
   "id": "1b656cc8-f4a9-463d-a9dc-2b35458fff60",
   "metadata": {},
   "outputs": [
    {
     "data": {
      "text/plain": [
       "[0,\n",
       " 1,\n",
       " 2,\n",
       " 3,\n",
       " 4,\n",
       " 5,\n",
       " 6,\n",
       " 7,\n",
       " 8,\n",
       " 9,\n",
       " 10,\n",
       " 11,\n",
       " 12,\n",
       " 13,\n",
       " 14,\n",
       " 15,\n",
       " 16,\n",
       " 17,\n",
       " 18,\n",
       " 19,\n",
       " 20,\n",
       " 21,\n",
       " 22,\n",
       " 23,\n",
       " 24,\n",
       " 25,\n",
       " 26,\n",
       " 27,\n",
       " 28,\n",
       " 29,\n",
       " 30,\n",
       " 31,\n",
       " 32,\n",
       " 33,\n",
       " 34,\n",
       " 35,\n",
       " 36,\n",
       " 37,\n",
       " 38,\n",
       " 39,\n",
       " 40,\n",
       " 41,\n",
       " 42,\n",
       " 43,\n",
       " 44,\n",
       " 45,\n",
       " 46,\n",
       " 47,\n",
       " 48,\n",
       " 49,\n",
       " 50,\n",
       " 51,\n",
       " 52,\n",
       " 53,\n",
       " 54,\n",
       " 55,\n",
       " 56,\n",
       " 57,\n",
       " 58,\n",
       " 59,\n",
       " 60,\n",
       " 61,\n",
       " 62,\n",
       " 63,\n",
       " 64,\n",
       " 65,\n",
       " 66,\n",
       " 67,\n",
       " 68,\n",
       " 69,\n",
       " 70,\n",
       " 71,\n",
       " 72,\n",
       " 73,\n",
       " 74,\n",
       " 75,\n",
       " 76,\n",
       " 77,\n",
       " 78,\n",
       " 79,\n",
       " 80,\n",
       " 81,\n",
       " 82,\n",
       " 83,\n",
       " 84,\n",
       " 85,\n",
       " 86,\n",
       " 87,\n",
       " 88,\n",
       " 89,\n",
       " 90,\n",
       " 91,\n",
       " 92,\n",
       " 93,\n",
       " 94,\n",
       " 95,\n",
       " 96,\n",
       " 97,\n",
       " 98,\n",
       " 99]"
      ]
     },
     "execution_count": 30,
     "metadata": {},
     "output_type": "execute_result"
    }
   ],
   "source": [
    "L2[7]"
   ]
  },
  {
   "cell_type": "code",
   "execution_count": 31,
   "id": "45dcd82c-c2d5-4d87-b180-ddced6febb12",
   "metadata": {},
   "outputs": [
    {
     "data": {
      "text/plain": [
       "100"
      ]
     },
     "execution_count": 31,
     "metadata": {},
     "output_type": "execute_result"
    }
   ],
   "source": [
    "len(L2[7])"
   ]
  },
  {
   "cell_type": "markdown",
   "id": "247f23a4-b6c6-4ecb-9763-e44f5639110f",
   "metadata": {},
   "source": [
    "## insert()\n",
    "* .insert(추가할 위치, 인덱스, 값)"
   ]
  },
  {
   "cell_type": "code",
   "execution_count": 33,
   "id": "5ce635fb-075e-41f3-a63f-cf8868720494",
   "metadata": {},
   "outputs": [],
   "source": [
    "del L2[7]"
   ]
  },
  {
   "cell_type": "code",
   "execution_count": 45,
   "id": "892912ed-291b-4d88-855b-82120bf14fdd",
   "metadata": {},
   "outputs": [],
   "source": [
    "del L2[6]"
   ]
  },
  {
   "cell_type": "code",
   "execution_count": 39,
   "id": "18f346a8-8f18-49ca-9ddd-1914727d6524",
   "metadata": {},
   "outputs": [],
   "source": [
    "L2.insert(2, \"리스트 함수\")"
   ]
  },
  {
   "cell_type": "code",
   "execution_count": 48,
   "id": "dd98865a-5720-4f5f-ac85-d7b2d295a628",
   "metadata": {},
   "outputs": [
    {
     "data": {
      "text/plain": [
       "['파이썬', 2, '리스트 함수', 17.2, True, 3, [1, 2, 3]]"
      ]
     },
     "execution_count": 48,
     "metadata": {},
     "output_type": "execute_result"
    }
   ],
   "source": [
    "L2"
   ]
  },
  {
   "cell_type": "code",
   "execution_count": 47,
   "id": "1d67edeb-c9ff-4090-a64b-5290cbce3bb5",
   "metadata": {},
   "outputs": [],
   "source": [
    "L2.append([1,2,3])"
   ]
  },
  {
   "cell_type": "markdown",
   "id": "4144a356-f8b4-4f92-84af-c55b7a3fbac4",
   "metadata": {},
   "source": [
    "## 리스트의 자료 삭제\n",
    "* del 변수명[인덱스 번호]\n",
    "* .pop(): 리스트의 가장 끝 자료가 출력되고 삭제됨\n",
    "* .remove(값) : 리스트의 앞부터 일치하는 값 1개를 찾아서 삭제"
   ]
  },
  {
   "cell_type": "code",
   "execution_count": 49,
   "id": "2ec3a516-4c6e-40e3-9a0e-28127b3792ac",
   "metadata": {},
   "outputs": [],
   "source": [
    "del L2[1]"
   ]
  },
  {
   "cell_type": "code",
   "execution_count": 50,
   "id": "d643e377-ed48-4fca-99e4-34bfd4e5281f",
   "metadata": {},
   "outputs": [
    {
     "data": {
      "text/plain": [
       "['파이썬', '리스트 함수', 17.2, True, 3, [1, 2, 3]]"
      ]
     },
     "execution_count": 50,
     "metadata": {},
     "output_type": "execute_result"
    }
   ],
   "source": [
    "L2"
   ]
  },
  {
   "cell_type": "code",
   "execution_count": 51,
   "id": "ebc90529-bc5c-462e-b666-4b4c53d9ce9d",
   "metadata": {},
   "outputs": [
    {
     "data": {
      "text/plain": [
       "[1, 2, 3]"
      ]
     },
     "execution_count": 51,
     "metadata": {},
     "output_type": "execute_result"
    }
   ],
   "source": [
    "L2.pop()"
   ]
  },
  {
   "cell_type": "code",
   "execution_count": 52,
   "id": "15e00c18-9503-48de-93d8-7e12fe45fb2c",
   "metadata": {},
   "outputs": [
    {
     "data": {
      "text/plain": [
       "['파이썬', '리스트 함수', 17.2, True, 3]"
      ]
     },
     "execution_count": 52,
     "metadata": {},
     "output_type": "execute_result"
    }
   ],
   "source": [
    "L2"
   ]
  },
  {
   "cell_type": "code",
   "execution_count": 53,
   "id": "fdfc075f-5a3b-4546-8f4e-02c864dd14c0",
   "metadata": {},
   "outputs": [],
   "source": [
    "L2.append(17.2)"
   ]
  },
  {
   "cell_type": "code",
   "execution_count": 54,
   "id": "c9074e69-d03b-44fe-b59c-e828554b3f77",
   "metadata": {},
   "outputs": [
    {
     "data": {
      "text/plain": [
       "['파이썬', '리스트 함수', 17.2, True, 3, 17.2]"
      ]
     },
     "execution_count": 54,
     "metadata": {},
     "output_type": "execute_result"
    }
   ],
   "source": [
    "L2"
   ]
  },
  {
   "cell_type": "code",
   "execution_count": 55,
   "id": "c2d109f4-d6ad-4f27-9a97-530241d2a373",
   "metadata": {},
   "outputs": [],
   "source": [
    "L2.remove(17.2)"
   ]
  },
  {
   "cell_type": "code",
   "execution_count": 56,
   "id": "658a4571-b55b-4962-8e2a-fc4ac04a1c57",
   "metadata": {},
   "outputs": [
    {
     "data": {
      "text/plain": [
       "['파이썬', '리스트 함수', True, 3, 17.2]"
      ]
     },
     "execution_count": 56,
     "metadata": {},
     "output_type": "execute_result"
    }
   ],
   "source": [
    "L2"
   ]
  },
  {
   "cell_type": "code",
   "execution_count": 57,
   "id": "1727d986-deaf-45f7-886f-a77b87e4b87e",
   "metadata": {},
   "outputs": [
    {
     "data": {
      "text/plain": [
       "['파이썬', '리스트 함수', [17.2, 3, '파이썬'], True, 3, 17.2]"
      ]
     },
     "execution_count": 57,
     "metadata": {},
     "output_type": "execute_result"
    }
   ],
   "source": [
    "L2.insert(2, [17.2, 3, '파이썬'])\n",
    "L2"
   ]
  },
  {
   "cell_type": "code",
   "execution_count": 58,
   "id": "bebe0619-16ee-40e5-8d25-fa985a8bf007",
   "metadata": {},
   "outputs": [],
   "source": [
    "L2.remove(17.2)"
   ]
  },
  {
   "cell_type": "code",
   "execution_count": 59,
   "id": "bc4db72e-9bed-4dbb-a15b-1684bf9d9f34",
   "metadata": {},
   "outputs": [
    {
     "data": {
      "text/plain": [
       "['파이썬', '리스트 함수', [17.2, 3, '파이썬'], True, 3]"
      ]
     },
     "execution_count": 59,
     "metadata": {},
     "output_type": "execute_result"
    }
   ],
   "source": [
    "L2"
   ]
  },
  {
   "cell_type": "code",
   "execution_count": 60,
   "id": "d8c8c936-9c5a-40df-952a-1f6365447984",
   "metadata": {},
   "outputs": [
    {
     "data": {
      "text/plain": [
       "['파이썬', '리스트 함수', [3, '파이썬'], True, 3]"
      ]
     },
     "execution_count": 60,
     "metadata": {},
     "output_type": "execute_result"
    }
   ],
   "source": [
    "L2[2].remove(17.2)\n",
    "L2"
   ]
  },
  {
   "cell_type": "markdown",
   "id": "07a8902c-4f2d-4699-bd21-5ce325ace838",
   "metadata": {},
   "source": []
  },
  {
   "cell_type": "code",
   "execution_count": null,
   "id": "8b35fe2a-d053-491a-a9ae-345a4c66ffcf",
   "metadata": {},
   "outputs": [],
   "source": []
  },
  {
   "cell_type": "code",
   "execution_count": null,
   "id": "ecd94b5a-2cb4-49d3-97ad-bc6ab44e62f5",
   "metadata": {},
   "outputs": [],
   "source": []
  },
  {
   "cell_type": "markdown",
   "id": "c0d28c47-f11f-4f54-9423-6589199303a4",
   "metadata": {},
   "source": [
    "### 리스트 확장하기 .extend()"
   ]
  },
  {
   "cell_type": "code",
   "execution_count": 1,
   "id": "e7f7da1c-959b-4ece-9d11-3160853fb02f",
   "metadata": {},
   "outputs": [
    {
     "data": {
      "text/plain": [
       "[10, 20, 30]"
      ]
     },
     "execution_count": 1,
     "metadata": {},
     "output_type": "execute_result"
    }
   ],
   "source": [
    "a = [10,20,30]\n",
    "a"
   ]
  },
  {
   "cell_type": "code",
   "execution_count": 3,
   "id": "ffc57904-cf20-4fe4-9ac5-41c5c9d45df7",
   "metadata": {},
   "outputs": [
    {
     "data": {
      "text/plain": [
       "[10, 20, 30, [4, 5, 6], [4, 5, 6]]"
      ]
     },
     "execution_count": 3,
     "metadata": {},
     "output_type": "execute_result"
    }
   ],
   "source": [
    "a.append([4,5,6])\n",
    "a"
   ]
  },
  {
   "cell_type": "code",
   "execution_count": 9,
   "id": "3a19c088-66d4-47c7-a09f-e82a227232b9",
   "metadata": {},
   "outputs": [],
   "source": [
    "del a[4]"
   ]
  },
  {
   "cell_type": "code",
   "execution_count": 6,
   "id": "fb24b82a-9fa5-4e46-be64-1019f5dde120",
   "metadata": {},
   "outputs": [],
   "source": [
    "a.extend([40,50,60])"
   ]
  },
  {
   "cell_type": "code",
   "execution_count": 10,
   "id": "a0a72ffd-fee9-4e21-9e97-255d698dea95",
   "metadata": {},
   "outputs": [
    {
     "data": {
      "text/plain": [
       "[10, 20, 30, [4, 5, 6], 40, 50, 60]"
      ]
     },
     "execution_count": 10,
     "metadata": {},
     "output_type": "execute_result"
    }
   ],
   "source": [
    "a"
   ]
  },
  {
   "cell_type": "code",
   "execution_count": null,
   "id": "4684d51e-9033-4062-8813-9d5fb51e5a0d",
   "metadata": {},
   "outputs": [],
   "source": []
  },
  {
   "cell_type": "markdown",
   "id": "4614d32e-66b2-4690-b4d1-9ee417476c99",
   "metadata": {},
   "source": [
    "## 리스트에서 특정 값의 인덱스 구하기 : .index(값)"
   ]
  },
  {
   "cell_type": "code",
   "execution_count": 11,
   "id": "eca416fb-cc81-4679-835d-5ba2b7ae1cd3",
   "metadata": {},
   "outputs": [
    {
     "data": {
      "text/plain": [
       "5"
      ]
     },
     "execution_count": 11,
     "metadata": {},
     "output_type": "execute_result"
    }
   ],
   "source": [
    "a.index(50)"
   ]
  },
  {
   "cell_type": "code",
   "execution_count": 12,
   "id": "0da68b3a-e0ee-4794-94b3-098292f07386",
   "metadata": {},
   "outputs": [],
   "source": [
    "a.insert(2,[40,50,60])"
   ]
  },
  {
   "cell_type": "code",
   "execution_count": 13,
   "id": "5e29a562-98c5-4e42-b539-c879b4643033",
   "metadata": {},
   "outputs": [
    {
     "data": {
      "text/plain": [
       "[10, 20, [40, 50, 60], 30, [4, 5, 6], 40, 50, 60]"
      ]
     },
     "execution_count": 13,
     "metadata": {},
     "output_type": "execute_result"
    }
   ],
   "source": [
    "a"
   ]
  },
  {
   "cell_type": "code",
   "execution_count": 14,
   "id": "0e129a4f-febc-4d93-bb71-0f030a765ff0",
   "metadata": {},
   "outputs": [
    {
     "data": {
      "text/plain": [
       "6"
      ]
     },
     "execution_count": 14,
     "metadata": {},
     "output_type": "execute_result"
    }
   ],
   "source": [
    "a.index(50)"
   ]
  },
  {
   "cell_type": "code",
   "execution_count": 15,
   "id": "1c0ea7ba-4eee-467a-9655-9fd9b80e886c",
   "metadata": {},
   "outputs": [
    {
     "data": {
      "text/plain": [
       "[10, 20, 50, [40, 50, 60], 30, [4, 5, 6], 40, 50, 60]"
      ]
     },
     "execution_count": 15,
     "metadata": {},
     "output_type": "execute_result"
    }
   ],
   "source": [
    "a.insert(2,50)\n",
    "a"
   ]
  },
  {
   "cell_type": "code",
   "execution_count": 16,
   "id": "ef18b682-f85c-4094-bd8d-88a607e12f5a",
   "metadata": {},
   "outputs": [
    {
     "data": {
      "text/plain": [
       "2"
      ]
     },
     "execution_count": 16,
     "metadata": {},
     "output_type": "execute_result"
    }
   ],
   "source": [
    "a.index(50)"
   ]
  },
  {
   "cell_type": "code",
   "execution_count": 18,
   "id": "b91a4433-7fb9-445f-ac0c-ebc38844676a",
   "metadata": {},
   "outputs": [
    {
     "data": {
      "text/plain": [
       "7"
      ]
     },
     "execution_count": 18,
     "metadata": {},
     "output_type": "execute_result"
    }
   ],
   "source": [
    "# 두번쨰 50의 인덱스를 구하시오\n",
    "# 항상 첫번 째만 나오기 때문에 번째부터 찾을 건지 선언해주기\n",
    "a.index(50,4)\n",
    "a[:3].index(50)"
   ]
  },
  {
   "cell_type": "code",
   "execution_count": null,
   "id": "3cd19765-1828-4003-9305-60344a46d74a",
   "metadata": {},
   "outputs": [],
   "source": []
  },
  {
   "cell_type": "markdown",
   "id": "28819014-d0b2-47d3-a523-44b1232ad4cf",
   "metadata": {},
   "source": [
    "## 리스트 안에서 특정 값의 개수 구하기 .count(값)"
   ]
  },
  {
   "cell_type": "code",
   "execution_count": 19,
   "id": "b38fea9e-3862-4ed3-85fb-6b29f4adc276",
   "metadata": {},
   "outputs": [
    {
     "name": "stdout",
     "output_type": "stream",
     "text": [
      "[10, 20, 50, [40, 50, 60], 30, [4, 5, 6], 40, 50, 60]\n"
     ]
    },
    {
     "data": {
      "text/plain": [
       "2"
      ]
     },
     "execution_count": 19,
     "metadata": {},
     "output_type": "execute_result"
    }
   ],
   "source": [
    "print(a)\n",
    "a.count(50)"
   ]
  },
  {
   "cell_type": "code",
   "execution_count": null,
   "id": "1d2c1c49-4d68-4bf5-b697-b418847c6b41",
   "metadata": {},
   "outputs": [],
   "source": []
  },
  {
   "cell_type": "markdown",
   "id": "d6929f03-347f-49e7-8453-e4db02d2dfca",
   "metadata": {},
   "source": [
    "## 리스트 순서 뒤집기 .reverse()\n",
    "* 실행 즉시 원본 데이터가 바뀜"
   ]
  },
  {
   "cell_type": "code",
   "execution_count": 20,
   "id": "ceec7f62-59fa-4397-8109-1d996f980e09",
   "metadata": {},
   "outputs": [
    {
     "data": {
      "text/plain": [
       "[60, 50, 40, [4, 5, 6], 30, [40, 50, 60], 50, 20, 10]"
      ]
     },
     "execution_count": 20,
     "metadata": {},
     "output_type": "execute_result"
    }
   ],
   "source": [
    "a.reverse()\n",
    "a"
   ]
  },
  {
   "cell_type": "code",
   "execution_count": 21,
   "id": "0f142f73-abe1-4928-a469-6bbf07a98c28",
   "metadata": {},
   "outputs": [
    {
     "data": {
      "text/plain": [
       "[10, 20, 50, [40, 50, 60], 30, [4, 5, 6], 40, 50, 60]"
      ]
     },
     "execution_count": 21,
     "metadata": {},
     "output_type": "execute_result"
    }
   ],
   "source": [
    "a.reverse()\n",
    "a"
   ]
  },
  {
   "cell_type": "code",
   "execution_count": null,
   "id": "9efd9c33-7909-4648-a6bd-2b7479e9bcd8",
   "metadata": {},
   "outputs": [],
   "source": []
  },
  {
   "cell_type": "markdown",
   "id": "b3e9fb9f-0e1c-43f5-90b3-c58c7bcad096",
   "metadata": {},
   "source": [
    "## 리스트 정렬 .sort() 오름차순,  .sort(reverse = True) 내림차순\n",
    "* 실행 즉시 원본데이터를 바꿈"
   ]
  },
  {
   "cell_type": "code",
   "execution_count": 26,
   "id": "eeb991c8-5296-4cc8-b3d7-ab70224cd7a8",
   "metadata": {},
   "outputs": [],
   "source": [
    "b = [1, 6, 7, 4, 5, 7, 9, 4, 5, 753, 6]\n",
    "#b.sort()"
   ]
  },
  {
   "cell_type": "code",
   "execution_count": 23,
   "id": "2c2c64d6-f6b7-4111-b1b7-e6c618dfb0dc",
   "metadata": {},
   "outputs": [
    {
     "data": {
      "text/plain": [
       "[1, 4, 4, 5, 5, 6, 6, 7, 7, 9, 753]"
      ]
     },
     "execution_count": 23,
     "metadata": {},
     "output_type": "execute_result"
    }
   ],
   "source": [
    "b"
   ]
  },
  {
   "cell_type": "code",
   "execution_count": 24,
   "id": "91d16a45-522d-4ec8-ab07-93862a844885",
   "metadata": {},
   "outputs": [],
   "source": [
    "b.sort(reverse=True)"
   ]
  },
  {
   "cell_type": "code",
   "execution_count": 25,
   "id": "d9cc4518-4fac-42e8-b388-91ec007bd7ed",
   "metadata": {},
   "outputs": [
    {
     "data": {
      "text/plain": [
       "[753, 9, 7, 7, 6, 6, 5, 5, 4, 4, 1]"
      ]
     },
     "execution_count": 25,
     "metadata": {},
     "output_type": "execute_result"
    }
   ],
   "source": [
    "b"
   ]
  },
  {
   "cell_type": "code",
   "execution_count": 27,
   "id": "2b820ba8-f0e5-458c-b3c5-a7234723373c",
   "metadata": {},
   "outputs": [
    {
     "data": {
      "text/plain": [
       "[1, 6, 7, 4, 5, 7, 9, 4, 5, 753, 6]"
      ]
     },
     "execution_count": 27,
     "metadata": {},
     "output_type": "execute_result"
    }
   ],
   "source": [
    "b"
   ]
  },
  {
   "cell_type": "code",
   "execution_count": null,
   "id": "8ab6eefd-ccbd-4525-af69-37cbd518a3c5",
   "metadata": {},
   "outputs": [],
   "source": []
  },
  {
   "cell_type": "markdown",
   "id": "9c68e357-6a68-431f-bd16-4a6d5607a291",
   "metadata": {},
   "source": [
    "## sorted 오름차순 정렬, sorted(reverse=True) 내림차순 정렬\n",
    "* 실행 후 결과만 출력, 원본은 그대로 유지"
   ]
  },
  {
   "cell_type": "code",
   "execution_count": 28,
   "id": "8d2f0fed-f0ac-4989-82eb-5180473ca789",
   "metadata": {},
   "outputs": [
    {
     "data": {
      "text/plain": [
       "[1, 4, 4, 5, 5, 6, 6, 7, 7, 9, 753]"
      ]
     },
     "execution_count": 28,
     "metadata": {},
     "output_type": "execute_result"
    }
   ],
   "source": [
    "sorted(b)"
   ]
  },
  {
   "cell_type": "code",
   "execution_count": 29,
   "id": "34b0f83f-c0f3-460f-9822-040116f0a2b1",
   "metadata": {},
   "outputs": [
    {
     "data": {
      "text/plain": [
       "[1, 6, 7, 4, 5, 7, 9, 4, 5, 753, 6]"
      ]
     },
     "execution_count": 29,
     "metadata": {},
     "output_type": "execute_result"
    }
   ],
   "source": [
    "b"
   ]
  },
  {
   "cell_type": "code",
   "execution_count": 31,
   "id": "2f140a13-a277-4aad-abb4-04f7d5b4090f",
   "metadata": {},
   "outputs": [
    {
     "data": {
      "text/plain": [
       "[753, 9, 7, 7, 6, 6, 5, 5, 4, 4, 1]"
      ]
     },
     "execution_count": 31,
     "metadata": {},
     "output_type": "execute_result"
    }
   ],
   "source": [
    "sorted(b, reverse=True)"
   ]
  },
  {
   "cell_type": "code",
   "execution_count": 32,
   "id": "429830a1-3546-41d3-9a62-044b83715fe9",
   "metadata": {},
   "outputs": [
    {
     "data": {
      "text/plain": [
       "[1, 6, 7, 4, 5, 7, 9, 4, 5, 753, 6]"
      ]
     },
     "execution_count": 32,
     "metadata": {},
     "output_type": "execute_result"
    }
   ],
   "source": [
    "b"
   ]
  },
  {
   "cell_type": "code",
   "execution_count": null,
   "id": "c31dd71d-f1d9-4e62-b473-5ce7267a9613",
   "metadata": {},
   "outputs": [],
   "source": []
  },
  {
   "cell_type": "markdown",
   "id": "6fbfbe51-0f88-4fb2-9f92-8b7ff4c5256e",
   "metadata": {},
   "source": [
    "## 순서 뒤집기 인덱싱[::-1] "
   ]
  },
  {
   "cell_type": "code",
   "execution_count": 33,
   "id": "3639e5a1-c4d7-4627-9740-d7404803a638",
   "metadata": {},
   "outputs": [
    {
     "data": {
      "text/plain": [
       "[10, 20, 50, [40, 50, 60], 30, [4, 5, 6], 40, 50, 60]"
      ]
     },
     "execution_count": 33,
     "metadata": {},
     "output_type": "execute_result"
    }
   ],
   "source": [
    "a"
   ]
  },
  {
   "cell_type": "code",
   "execution_count": 34,
   "id": "5641fb5b-7ff4-4f3e-b32d-d85015aa5bdb",
   "metadata": {},
   "outputs": [
    {
     "data": {
      "text/plain": [
       "[60, 50, 40, [4, 5, 6], 30, [40, 50, 60], 50, 20, 10]"
      ]
     },
     "execution_count": 34,
     "metadata": {},
     "output_type": "execute_result"
    }
   ],
   "source": [
    "a[::-1]"
   ]
  },
  {
   "cell_type": "code",
   "execution_count": null,
   "id": "592f1efb-0391-42f5-9bf7-3ac8a90fe35e",
   "metadata": {},
   "outputs": [],
   "source": []
  },
  {
   "cell_type": "markdown",
   "id": "ee9f3809-398d-4d43-9b50-eddc483ceccb",
   "metadata": {},
   "source": [
    "# tuple 사용하기()\n",
    "* 튜플은 리스트처럼 모든 자료형을 넣어서 만들 수 있다.\n",
    "* 순서가 있는 자료형, 인덱스가 있다\n",
    "* 인덱싱, 슬라이싱 가능\n",
    "* 리스트와 다르게 자료의 추가, 삭제가 안된다.\n",
    "* 튜플 형변환 함수는 tuple()이다."
   ]
  },
  {
   "cell_type": "markdown",
   "id": "8f5dcd12-d676-4008-9aef-547706bbf0d1",
   "metadata": {},
   "source": [
    "## 튜플 만들기"
   ]
  },
  {
   "cell_type": "code",
   "execution_count": 35,
   "id": "28e251d8-82ca-443f-9087-b1992a13f57c",
   "metadata": {},
   "outputs": [
    {
     "data": {
      "text/plain": [
       "(1, 2, 3, 4, '튜플', [5, 6, 7], 8, 5, (8, 9, 10))"
      ]
     },
     "execution_count": 35,
     "metadata": {},
     "output_type": "execute_result"
    }
   ],
   "source": [
    "t = (1,2,3,4, \"튜플\", [5,6,7], 8, 5, (8,9,10))\n",
    "t"
   ]
  },
  {
   "cell_type": "code",
   "execution_count": 36,
   "id": "bcba0739-3676-4188-929d-ffb6b2357481",
   "metadata": {},
   "outputs": [
    {
     "name": "stdout",
     "output_type": "stream",
     "text": [
      "<class 'tuple'>\n"
     ]
    }
   ],
   "source": [
    "print(type(t))"
   ]
  },
  {
   "cell_type": "code",
   "execution_count": null,
   "id": "2045abca-076b-4184-963b-6e08be7ef9fa",
   "metadata": {},
   "outputs": [],
   "source": []
  },
  {
   "cell_type": "markdown",
   "id": "9a5986e6-2bc0-436e-9f38-a27229d3cd79",
   "metadata": {},
   "source": [
    "## 튜플을 리스트로 만든 후 자료 추가하고 다시 튜플로 변환"
   ]
  },
  {
   "cell_type": "code",
   "execution_count": 37,
   "id": "6b24a794-9455-4916-813f-9a6fa78a7394",
   "metadata": {},
   "outputs": [
    {
     "data": {
      "text/plain": [
       "[1, 2, 3, 4, '튜플', [5, 6, 7], 8, 5, (8, 9, 10)]"
      ]
     },
     "execution_count": 37,
     "metadata": {},
     "output_type": "execute_result"
    }
   ],
   "source": [
    "t = list(t)\n",
    "t"
   ]
  },
  {
   "cell_type": "code",
   "execution_count": 38,
   "id": "bc915a05-869e-4f33-b1dd-334cdc118bc3",
   "metadata": {},
   "outputs": [
    {
     "name": "stdout",
     "output_type": "stream",
     "text": [
      "<class 'list'>\n"
     ]
    }
   ],
   "source": [
    "print(type(t))"
   ]
  },
  {
   "cell_type": "code",
   "execution_count": 39,
   "id": "58d9fbc4-ba0b-42fe-8c49-848f623e2c59",
   "metadata": {},
   "outputs": [
    {
     "data": {
      "text/plain": [
       "['리스트로 바꿈', 1, 2, 3, 4, '튜플', [5, 6, 7], 8, 5, (8, 9, 10)]"
      ]
     },
     "execution_count": 39,
     "metadata": {},
     "output_type": "execute_result"
    }
   ],
   "source": [
    "t.insert(0, \"리스트로 바꿈\")\n",
    "t"
   ]
  },
  {
   "cell_type": "code",
   "execution_count": 40,
   "id": "5393ae0f-6445-422f-b157-f537f4f52535",
   "metadata": {},
   "outputs": [
    {
     "data": {
      "text/plain": [
       "('리스트로 바꿈', 1, 2, 3, 4, '튜플', [5, 6, 7], 8, 5, (8, 9, 10))"
      ]
     },
     "execution_count": 40,
     "metadata": {},
     "output_type": "execute_result"
    }
   ],
   "source": [
    "t = tuple(t)\n",
    "t"
   ]
  },
  {
   "cell_type": "code",
   "execution_count": 41,
   "id": "afc34c8e-d7dc-4918-938d-afdcc84bd922",
   "metadata": {},
   "outputs": [
    {
     "name": "stdout",
     "output_type": "stream",
     "text": [
      "<class 'tuple'>\n"
     ]
    }
   ],
   "source": [
    "print(type(t))"
   ]
  },
  {
   "cell_type": "code",
   "execution_count": null,
   "id": "359cdf46-a222-4c5d-af23-b7cff375cd52",
   "metadata": {},
   "outputs": [],
   "source": []
  },
  {
   "cell_type": "markdown",
   "id": "2270a0c4-5d9b-4ad0-aec9-b2b8f7267e74",
   "metadata": {},
   "source": [
    "## 튜플에 자료를 1개만 넣고 만들 때"
   ]
  },
  {
   "cell_type": "code",
   "execution_count": 42,
   "id": "3b5a61f3-1870-4729-839a-0a9d5ee95700",
   "metadata": {},
   "outputs": [
    {
     "data": {
      "text/plain": [
       "2"
      ]
     },
     "execution_count": 42,
     "metadata": {},
     "output_type": "execute_result"
    }
   ],
   "source": [
    "t2 = (2)\n",
    "t2"
   ]
  },
  {
   "cell_type": "code",
   "execution_count": 43,
   "id": "255fb12c-7f51-45a1-84fd-5eed9c57e546",
   "metadata": {},
   "outputs": [
    {
     "name": "stdout",
     "output_type": "stream",
     "text": [
      "<class 'int'>\n"
     ]
    }
   ],
   "source": [
    "print(type(t2))"
   ]
  },
  {
   "cell_type": "code",
   "execution_count": 44,
   "id": "26c0f771-7dae-4f5c-b26c-98e873bb65cd",
   "metadata": {},
   "outputs": [
    {
     "name": "stdout",
     "output_type": "stream",
     "text": [
      "[2]\n",
      "<class 'list'>\n"
     ]
    }
   ],
   "source": [
    "l = [2]\n",
    "print(l)\n",
    "print(type(l))"
   ]
  },
  {
   "cell_type": "code",
   "execution_count": 45,
   "id": "10b61d82-ec3f-4872-b70e-02e2705e4463",
   "metadata": {},
   "outputs": [],
   "source": [
    "t3 = (3,)"
   ]
  },
  {
   "cell_type": "code",
   "execution_count": 46,
   "id": "0bfc9420-a9d0-417c-8bd9-8214ae7b7d64",
   "metadata": {},
   "outputs": [
    {
     "name": "stdout",
     "output_type": "stream",
     "text": [
      "<class 'tuple'>\n"
     ]
    },
    {
     "data": {
      "text/plain": [
       "(3,)"
      ]
     },
     "execution_count": 46,
     "metadata": {},
     "output_type": "execute_result"
    }
   ],
   "source": [
    "print(type(t3))\n",
    "t3"
   ]
  },
  {
   "cell_type": "code",
   "execution_count": null,
   "id": "270cca56-d616-416a-b9ac-4f6f34bda756",
   "metadata": {},
   "outputs": [],
   "source": []
  },
  {
   "cell_type": "code",
   "execution_count": null,
   "id": "5a9fe245-1544-4847-b757-655ab1685c8b",
   "metadata": {},
   "outputs": [],
   "source": []
  },
  {
   "cell_type": "code",
   "execution_count": null,
   "id": "09623cac-9e35-4c0e-8203-7de45c8bf058",
   "metadata": {},
   "outputs": [],
   "source": []
  },
  {
   "cell_type": "code",
   "execution_count": null,
   "id": "2d500663-a70a-48fb-8ad7-446821da22f7",
   "metadata": {},
   "outputs": [],
   "source": []
  },
  {
   "cell_type": "code",
   "execution_count": null,
   "id": "e5d4cdea-7660-4c5b-a06f-a797ec1822c2",
   "metadata": {},
   "outputs": [],
   "source": []
  }
 ],
 "metadata": {
  "kernelspec": {
   "display_name": "Python 3 (ipykernel)",
   "language": "python",
   "name": "python3"
  },
  "language_info": {
   "codemirror_mode": {
    "name": "ipython",
    "version": 3
   },
   "file_extension": ".py",
   "mimetype": "text/x-python",
   "name": "python",
   "nbconvert_exporter": "python",
   "pygments_lexer": "ipython3",
   "version": "3.10.14"
  }
 },
 "nbformat": 4,
 "nbformat_minor": 5
}
