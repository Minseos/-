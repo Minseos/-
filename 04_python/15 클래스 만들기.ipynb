{
 "cells": [
  {
   "cell_type": "markdown",
   "id": "9a14690e-1b6e-4f9c-a260-00ad6f58e9a7",
   "metadata": {},
   "source": [
    "### 클래스 만들기\n",
    "* 클래스는 객체지향 프로그래밍의 핵심\n",
    "* 클래스 하나에 여러 개의 함수(메서드)를 포함\n",
    "* 클래스 = 커피머신 공장\n",
    "* 메서드 = 커피머신의 기능(에스프레소, 아메리카노, 카페라떼, 카푸치노)"
   ]
  },
  {
   "cell_type": "markdown",
   "id": "d87d4a2c-9c31-478c-9f65-f72c20595f78",
   "metadata": {},
   "source": [
    "더하기 함수"
   ]
  },
  {
   "cell_type": "code",
   "execution_count": 2,
   "id": "cc21f9f6-f0dc-4a11-9350-268af9d6a729",
   "metadata": {},
   "outputs": [
    {
     "data": {
      "text/plain": [
       "8"
      ]
     },
     "execution_count": 2,
     "metadata": {},
     "output_type": "execute_result"
    }
   ],
   "source": [
    "result = 0\n",
    "def add(a,b):\n",
    "    result = a+b\n",
    "    return result\n",
    "add(3,5)"
   ]
  },
  {
   "cell_type": "code",
   "execution_count": 47,
   "id": "4d7a918f-7c0d-4c7a-b8e5-c2f4637fedf6",
   "metadata": {},
   "outputs": [],
   "source": [
    "result_cal = 0\n",
    "def add(num):\n",
    "    global result_cal\n",
    "    result_cal += num\n",
    "    return result_cal\n"
   ]
  },
  {
   "cell_type": "code",
   "execution_count": 56,
   "id": "9cb8d081-9922-4442-88a6-9f1b74cc60e0",
   "metadata": {},
   "outputs": [
    {
     "data": {
      "text/plain": [
       "27"
      ]
     },
     "execution_count": 56,
     "metadata": {},
     "output_type": "execute_result"
    }
   ],
   "source": [
    "add(3)"
   ]
  },
  {
   "cell_type": "code",
   "execution_count": 121,
   "id": "a8fcf993-19ef-47fb-9f4e-e35c9eaadc5f",
   "metadata": {},
   "outputs": [],
   "source": [
    "result_cal = 0\n",
    "def add(num):\n",
    "    global result_cal\n",
    "    result_cal += num\n",
    "    return result_cal\n",
    "\n",
    "result_cal2 = 0\n",
    "def add(num):\n",
    "    global result_cal2\n",
    "    result_cal2 += num\n",
    "    return result_cal\n",
    "\n"
   ]
  },
  {
   "cell_type": "code",
   "execution_count": 16,
   "id": "1441a710-8415-487b-9000-23996e5c7d1a",
   "metadata": {},
   "outputs": [
    {
     "name": "stdout",
     "output_type": "stream",
     "text": [
      "45\n"
     ]
    }
   ],
   "source": [
    "result = 0\n",
    "for i in range(1,10):\n",
    "    result += i\n",
    "print(result)"
   ]
  },
  {
   "cell_type": "code",
   "execution_count": 57,
   "id": "70f9374c-f65d-48a2-9ac9-0ebdb180b174",
   "metadata": {},
   "outputs": [],
   "source": [
    "result = 0\n",
    "def add2(num, result = 0):\n",
    "    result += num\n",
    "    return result\n"
   ]
  },
  {
   "cell_type": "code",
   "execution_count": 58,
   "id": "fb64ee40-3bf0-44e7-b38f-b542a8562b95",
   "metadata": {},
   "outputs": [
    {
     "data": {
      "text/plain": [
       "3"
      ]
     },
     "execution_count": 58,
     "metadata": {},
     "output_type": "execute_result"
    }
   ],
   "source": [
    "add2(3)"
   ]
  },
  {
   "cell_type": "code",
   "execution_count": null,
   "id": "da194e85-7524-484c-9e7a-cd6a77bdf5ed",
   "metadata": {},
   "outputs": [],
   "source": []
  },
  {
   "cell_type": "markdown",
   "id": "91a824a3-2664-44d1-9f1c-de5709b759e4",
   "metadata": {},
   "source": [
    "위의 방식으로 함수를 만들면 이전 데이터를 기억하게 할 수 있지만, <br>\n",
    "초기화를 하거나 여러 사람이 사용하면서 각기 다른 계산을 할 수 없다<br>\n",
    "사용자가 늘어나면 변수와 함수를 따로 만들어야 한다. <br>\n",
    "여러 사람이 각자 다른 계산을 할 수 있고 이전 값을 기억할 수 있도록 만들려면 클래스를 이용해서 만들어야 한다."
   ]
  },
  {
   "cell_type": "markdown",
   "id": "6eaa035a-a615-433d-b3f6-51c6f682e335",
   "metadata": {},
   "source": [
    "클래스로 계산기 만들기 <br>\n",
    "class 클래스명 :    # 클래스명을 만들 때는 대문자로 시작하고 카멜표기법(문자2개이면 대문자) <br>\n",
    "____def 메소드명(): <br>\n",
    "________실행할 코드 <br>\n",
    "________return\n"
   ]
  },
  {
   "cell_type": "code",
   "execution_count": 123,
   "id": "e9d4c29c-f526-4125-9b98-763f655de893",
   "metadata": {},
   "outputs": [],
   "source": [
    "class Calculator():\n",
    "    def __init__(self): # self는 Calculator()\n",
    "        self.result = 0\n",
    "    def add(self, num): # self는 Calculator.add(num)\n",
    "        self.result += num\n",
    "        return self.result"
   ]
  },
  {
   "cell_type": "markdown",
   "id": "e382781b-e0a9-4832-a4a4-97218dfa383d",
   "metadata": {},
   "source": [
    "클래스 사용방법\n",
    "* 변수에 클래스를 담아서 인스턴스 생성\n",
    "* 인스턴스 변수명 = 클래스명()으로 생성할 수 있다\n",
    "* 인스턴스를 생성하고 나면 인스턴스.메서드 형식으로 클래스에 정의한 매소드를 사용할 수 있다."
   ]
  },
  {
   "cell_type": "code",
   "execution_count": 62,
   "id": "52bfc990-eac9-497c-9e7e-d7cc44de183b",
   "metadata": {},
   "outputs": [],
   "source": [
    "# cal1 변수에 Calculator() 클래스를 담아 인스턴스 생성\n",
    "cal1 = Calculator()"
   ]
  },
  {
   "cell_type": "code",
   "execution_count": 66,
   "id": "f24f66e9-c65a-4503-a882-5dcb98ab3207",
   "metadata": {},
   "outputs": [],
   "source": [
    "calc = (lambda x: x+5)"
   ]
  },
  {
   "cell_type": "code",
   "execution_count": 67,
   "id": "0f49439e-74d5-4387-8774-d8009309001e",
   "metadata": {},
   "outputs": [
    {
     "data": {
      "text/plain": [
       "10"
      ]
     },
     "execution_count": 67,
     "metadata": {},
     "output_type": "execute_result"
    }
   ],
   "source": [
    "calc(5)"
   ]
  },
  {
   "cell_type": "code",
   "execution_count": 64,
   "id": "3c889465-7590-48a7-845f-61e645c6dc05",
   "metadata": {},
   "outputs": [
    {
     "name": "stdout",
     "output_type": "stream",
     "text": [
      "<__main__.Calculator object at 0x00000207210497E0>\n",
      "<class '__main__.Calculator'>\n"
     ]
    }
   ],
   "source": [
    "print(cal1)\n",
    "print(type(cal1))"
   ]
  },
  {
   "cell_type": "code",
   "execution_count": 72,
   "id": "cb90f2f9-fb12-4eab-9faa-e6dae3c72251",
   "metadata": {},
   "outputs": [
    {
     "data": {
      "text/plain": [
       "15"
      ]
     },
     "execution_count": 72,
     "metadata": {},
     "output_type": "execute_result"
    }
   ],
   "source": [
    "cal1.add(3)"
   ]
  },
  {
   "cell_type": "code",
   "execution_count": 73,
   "id": "0172ea7a-e1bd-4447-9358-8f98f086b031",
   "metadata": {},
   "outputs": [],
   "source": [
    "cal2 = Calculator()"
   ]
  },
  {
   "cell_type": "code",
   "execution_count": 77,
   "id": "73f04e7d-a183-42d8-a826-75a15658cf3c",
   "metadata": {},
   "outputs": [
    {
     "data": {
      "text/plain": [
       "28"
      ]
     },
     "execution_count": 77,
     "metadata": {},
     "output_type": "execute_result"
    }
   ],
   "source": [
    "cal2.add(7)"
   ]
  },
  {
   "cell_type": "code",
   "execution_count": null,
   "id": "5dfd9003-08f2-4b78-94dd-68fda8c5f44c",
   "metadata": {},
   "outputs": [],
   "source": []
  },
  {
   "cell_type": "markdown",
   "id": "73e67c33-fd49-427f-89ac-573484da2b40",
   "metadata": {},
   "source": [
    "* Calculator() 클래스로 만든 별개의 계산기 cal1, cal2는 파이썬에서는 인스턴스(instance) <br>\n",
    "혹은 객체(object)라고 부른다\n",
    "* 각각의 인스턴스는 독립적으로 역할을 수행\n",
    "* 계산기 cal1과 cal2의 결과값은 서로 독립적으로 유지한다.\n",
    "* 클래스 = 커피머신 공장에서 만든 커피머신\n",
    "* 인스턴스 = 커피머신을 산 고객\n",
    "* 같은 기계를 가지고 있기 때문에 동일한 기능을 가짐\n",
    "* 사용자에 따라서 각기 다르게 사용된다."
   ]
  },
  {
   "cell_type": "code",
   "execution_count": 102,
   "id": "54e77a43-7e00-4246-86f9-c0185e59b636",
   "metadata": {},
   "outputs": [],
   "source": [
    "class Calculator():\n",
    "    def __init__(self): # self는 Calculator()\n",
    "        # self.result는 result 변수를 생성\n",
    "        self.result = 0\n",
    "    def add(self, num): # self는 Calculator.add(num)\n",
    "        self.result += num\n",
    "        return self.result\n",
    "    def sub(self, num):\n",
    "        self.result -= num\n",
    "        return self.result"
   ]
  },
  {
   "cell_type": "code",
   "execution_count": 85,
   "id": "73374b96-25b2-41bc-8b63-620976b2705d",
   "metadata": {},
   "outputs": [],
   "source": [
    "james = Calculator()"
   ]
  },
  {
   "cell_type": "code",
   "execution_count": 88,
   "id": "d1f7f8e6-841c-487d-86b5-4e17ddd73f98",
   "metadata": {},
   "outputs": [
    {
     "data": {
      "text/plain": [
       "9"
      ]
     },
     "execution_count": 88,
     "metadata": {},
     "output_type": "execute_result"
    }
   ],
   "source": [
    "james.add(5)"
   ]
  },
  {
   "cell_type": "code",
   "execution_count": 91,
   "id": "33b2b5ed-32aa-4e40-9f35-b98870b268ac",
   "metadata": {},
   "outputs": [
    {
     "data": {
      "text/plain": [
       "-7"
      ]
     },
     "execution_count": 91,
     "metadata": {},
     "output_type": "execute_result"
    }
   ],
   "source": [
    "james.sub(14)"
   ]
  },
  {
   "cell_type": "code",
   "execution_count": 92,
   "id": "78949c16-ab7b-4584-80d0-d28b9e0a41b6",
   "metadata": {},
   "outputs": [],
   "source": [
    "susan = Calculator()"
   ]
  },
  {
   "cell_type": "code",
   "execution_count": 100,
   "id": "d24ce54a-7101-4779-a4a1-5d9cf1ae1f16",
   "metadata": {},
   "outputs": [
    {
     "data": {
      "text/plain": [
       "24"
      ]
     },
     "execution_count": 100,
     "metadata": {},
     "output_type": "execute_result"
    }
   ],
   "source": [
    "susan.add(3)"
   ]
  },
  {
   "cell_type": "code",
   "execution_count": 101,
   "id": "7b4332fe-5db4-4ae7-8bc7-b14c5c7bde09",
   "metadata": {},
   "outputs": [
    {
     "data": {
      "text/plain": [
       "19"
      ]
     },
     "execution_count": 101,
     "metadata": {},
     "output_type": "execute_result"
    }
   ],
   "source": [
    "susan.sub(5)"
   ]
  },
  {
   "cell_type": "markdown",
   "id": "b4eb2314-82e5-4067-a085-5b4394b34274",
   "metadata": {},
   "source": [
    "## 매소드(method)\n",
    "* class 안에 정의하는 함수\n",
    "* 클래스에 기능을 만들어 준다.\n",
    "* 매개변수 - 위치인수, ...\n",
    "def 매소드명(self, 매개변수, num2): <br>\n",
    "____self.매개변수 = 매개변수 <br>\n",
    "____self.num2 = num2"
   ]
  },
  {
   "cell_type": "markdown",
   "id": "4f54a5d8-66eb-4c33-bced-83dd13a726e3",
   "metadata": {},
   "source": [
    "사칙연산이 가능한 FourCal 계산기 만들기"
   ]
  },
  {
   "cell_type": "code",
   "execution_count": 103,
   "id": "545a6568-b9e5-44af-9852-4b69563d9153",
   "metadata": {},
   "outputs": [],
   "source": [
    "# FourCal 이라는 클래스를 만들고 숫자를 입력받는 setdata 메소드 만들기\n",
    "class FourCal():\n",
    "    def setdata(self, num1, num2):\n",
    "        self.num1 = num1\n",
    "        self.num2 = num2\n",
    "        print(\"self.num1 :\", self.num1)\n",
    "        print(\"self.num2 :\", self.num2)"
   ]
  },
  {
   "cell_type": "code",
   "execution_count": 116,
   "id": "0d1062cd-cae5-48ab-a4e1-a4aff29658ee",
   "metadata": {},
   "outputs": [],
   "source": [
    "sam = FourCal()"
   ]
  },
  {
   "cell_type": "code",
   "execution_count": 105,
   "id": "07776a9a-b869-4beb-9315-af20ec725fba",
   "metadata": {
    "scrolled": true
   },
   "outputs": [
    {
     "name": "stdout",
     "output_type": "stream",
     "text": [
      "self.num1 : 4\n",
      "self.num2 : 2\n"
     ]
    }
   ],
   "source": [
    "sam.setdata(4,2)"
   ]
  },
  {
   "cell_type": "code",
   "execution_count": 47,
   "id": "429f6317-0449-49f5-94a7-1826a30246b7",
   "metadata": {},
   "outputs": [],
   "source": [
    "result_cal = 0\n",
    "def add(num):\n",
    "    global result_cal\n",
    "    result_cal += num\n",
    "    return result_cal\n"
   ]
  },
  {
   "cell_type": "code",
   "execution_count": 47,
   "id": "843ad1e1-fc16-44d5-a9dd-3ead4385e4cd",
   "metadata": {},
   "outputs": [],
   "source": [
    "result_cal = 0\n",
    "def add(num):\n",
    "    global result_cal\n",
    "    result_cal += num\n",
    "    return result_cal\n"
   ]
  },
  {
   "cell_type": "code",
   "execution_count": 106,
   "id": "6d118c81-a582-4e14-beb3-8c851df85a19",
   "metadata": {},
   "outputs": [],
   "source": [
    "# FourCal 이라는 클래스를 만들고 숫자를 입력받는 setdata 메소드 만들기\n",
    "# add 기능 추가하기\n",
    "class FourCal():\n",
    "    def setdata(self, num1, num2):\n",
    "        self.num1 = num1\n",
    "        self.num2 = num2\n",
    "        print(\"self.num1 :\", self.num1)\n",
    "        print(\"self.num2 :\", self.num2)\n",
    "    def add(self):\n",
    "        result = self.num1 + self.num2\n",
    "        return result"
   ]
  },
  {
   "cell_type": "code",
   "execution_count": 118,
   "id": "c3955c83-ebf4-4103-813a-bf265906a022",
   "metadata": {},
   "outputs": [
    {
     "name": "stdout",
     "output_type": "stream",
     "text": [
      "self.num1 : 4\n",
      "self.num2 : 3\n"
     ]
    }
   ],
   "source": [
    "sam.setdata(4,3)"
   ]
  },
  {
   "cell_type": "code",
   "execution_count": 109,
   "id": "2a451908-a331-4de0-890c-57b1f684eb55",
   "metadata": {},
   "outputs": [],
   "source": [
    "# FourCal 이라는 클래스를 만들고 숫자를 입력받는 setdata 메소드 만들기\n",
    "# add 기능 추가하기\n",
    "class FourCal():\n",
    "    def setdata(self, num1, num2):\n",
    "        self.num1 = num1\n",
    "        self.num2 = num2\n",
    "        print(\"self.num1 :\", self.num1)\n",
    "        print(\"self.num2 :\", self.num2)\n",
    "    def add(self):\n",
    "        result = self.num1 + self.num2\n",
    "        return result\n",
    "    def sub(self):\n",
    "        result = self.num1 - self.num2\n",
    "        return result"
   ]
  },
  {
   "cell_type": "code",
   "execution_count": 119,
   "id": "8d92110e-fbe6-4e3c-b165-5da52da52299",
   "metadata": {},
   "outputs": [],
   "source": [
    "# FourCal 이라는 클래스를 만들고 숫자를 입력받는 setdata 메소드 만들기\n",
    "# add 기능 추가하기\n",
    "class FourCal():\n",
    "    def setdata(self, num1, num2):\n",
    "        self.num1 = num1\n",
    "        self.num2 = num2\n",
    "        print(\"self.num1 :\", self.num1)\n",
    "        print(\"self.num2 :\", self.num2)\n",
    "    def add(self):\n",
    "        result = self.num1 + self.num2\n",
    "        return result\n",
    "    def sub(self):\n",
    "        result = self.num1 - self.num2\n",
    "        return result\n",
    "\n",
    "    def mul(self):\n",
    "        result = self.num1 * self.num2\n",
    "        return result\n",
    "\n",
    "    def div(self):\n",
    "        result = self.num1 / self.num2\n",
    "        return result"
   ]
  },
  {
   "cell_type": "code",
   "execution_count": null,
   "id": "f2a7b322-dd2d-4e6d-a52f-3b7e510ad916",
   "metadata": {},
   "outputs": [],
   "source": []
  },
  {
   "cell_type": "code",
   "execution_count": 47,
   "id": "e30d073d-6dbd-4e7d-abed-bf5c2b10967d",
   "metadata": {},
   "outputs": [],
   "source": [
    "result_cal = 0\n",
    "def add(num):\n",
    "    global result_cal\n",
    "    result_cal += num\n",
    "    return result_cal\n"
   ]
  },
  {
   "cell_type": "code",
   "execution_count": 120,
   "id": "2d8710e3-6d11-4227-a8c2-ff2e4dbc694f",
   "metadata": {},
   "outputs": [
    {
     "data": {
      "text/plain": [
       "1.3333333333333333"
      ]
     },
     "execution_count": 120,
     "metadata": {},
     "output_type": "execute_result"
    }
   ],
   "source": [
    "sam.div()"
   ]
  },
  {
   "cell_type": "code",
   "execution_count": null,
   "id": "e5462ce1-91da-43c5-b0e6-4bc016447399",
   "metadata": {},
   "outputs": [],
   "source": []
  },
  {
   "cell_type": "markdown",
   "id": "c281293f-e159-424f-849c-e658d720a076",
   "metadata": {},
   "source": [
    "## 생성자\n",
    "* 객체에 num1, num2와 같은 초기값을 설정해야 할 필요가 있을 때 setmethod와 같은 것을 <br>\n",
    "  호출해서 설정하는 것보다 생성자를 만들어서 인스턴스를 생성할 때 값을 바로 받는 것이 더 좋다.\n",
    "* 생성자(constructor)란 객체가 생성될 때 자동으로 호출되는 메서드\n",
    "* class 내에서 메서드명으로 __init__을 사용하면 그것이 생성자가 된다."
   ]
  },
  {
   "cell_type": "code",
   "execution_count": 176,
   "id": "f08e32d4-4349-4041-876c-288dd65437a3",
   "metadata": {},
   "outputs": [],
   "source": [
    "class FourCal2():\n",
    "    def __init__(self, num1, num2): # 생성자\n",
    "        self.num1 = num1 # self.num1 인스턴스 변수\n",
    "        self.num2 = num2 # self.num2 인스턴스 변수\n",
    "    def add(self):\n",
    "        result = self.num1 + self.num2\n",
    "        return result\n",
    "    def sub(self):\n",
    "        result = self.num1 - self.num2\n",
    "        return result\n",
    "    def mul(self):\n",
    "        result = self.num1 * self.num2\n",
    "        return result\n",
    "    def div(self):\n",
    "        result = self.num1 / self.num2\n",
    "        return result\n",
    "     "
   ]
  },
  {
   "cell_type": "code",
   "execution_count": 177,
   "id": "c523824a-ae03-4955-9040-bd98293924d8",
   "metadata": {},
   "outputs": [],
   "source": [
    "james = FourCal2(100,27)"
   ]
  },
  {
   "cell_type": "code",
   "execution_count": 178,
   "id": "a86fc887-2c6f-4766-9267-2184c26d7a31",
   "metadata": {},
   "outputs": [
    {
     "data": {
      "text/plain": [
       "127"
      ]
     },
     "execution_count": 178,
     "metadata": {},
     "output_type": "execute_result"
    }
   ],
   "source": [
    "james.add()"
   ]
  },
  {
   "cell_type": "code",
   "execution_count": 179,
   "id": "43500445-91fb-4c14-8b93-3a8b7d0f7ac2",
   "metadata": {},
   "outputs": [
    {
     "data": {
      "text/plain": [
       "73"
      ]
     },
     "execution_count": 179,
     "metadata": {},
     "output_type": "execute_result"
    }
   ],
   "source": [
    "james.sub()"
   ]
  },
  {
   "cell_type": "markdown",
   "id": "69e607d6-d346-4e0e-8929-5075324ff99c",
   "metadata": {},
   "source": [
    "## 클래스의 상속\n",
    "* 어떤 클래스를 만들 때 다른 클래스의 기능을 물려받는 것\n",
    "* 기존 클래스 + 기능을 추가할 때\n",
    "* A클래스를 상속받아 B클래스를 생성한다고 할 때, B클래스는 A클래스의 모든 기능을 사용할 수 있다"
   ]
  },
  {
   "cell_type": "markdown",
   "id": "9a862409-6f6f-4f63-9ad3-5c80f85ed6bc",
   "metadata": {},
   "source": [
    "FourCal2을 상속받아 제곱 기능을 추가한 MoreFourCal 만들기"
   ]
  },
  {
   "cell_type": "code",
   "execution_count": 180,
   "id": "0d5d6c3b-3c3c-4124-bfb8-bcd7bd8544df",
   "metadata": {},
   "outputs": [],
   "source": [
    "class MoreFourCal(FourCal2):\n",
    "    def pow(self):\n",
    "        result = self.num1 ** self.num2\n",
    "        return result"
   ]
  },
  {
   "cell_type": "code",
   "execution_count": 153,
   "id": "f505423c-b99c-4074-ab95-410848187fc5",
   "metadata": {},
   "outputs": [
    {
     "ename": "TypeError",
     "evalue": "FourCal2.__init__() missing 2 required positional arguments: 'num1' and 'num2'",
     "output_type": "error",
     "traceback": [
      "\u001b[1;31m---------------------------------------------------------------------------\u001b[0m",
      "\u001b[1;31mTypeError\u001b[0m                                 Traceback (most recent call last)",
      "Cell \u001b[1;32mIn[153], line 1\u001b[0m\n\u001b[1;32m----> 1\u001b[0m sally \u001b[38;5;241m=\u001b[39m \u001b[43mMoreFourCal\u001b[49m\u001b[43m(\u001b[49m\u001b[43m)\u001b[49m\n",
      "\u001b[1;31mTypeError\u001b[0m: FourCal2.__init__() missing 2 required positional arguments: 'num1' and 'num2'"
     ]
    }
   ],
   "source": [
    "sally = MoreFourCal()"
   ]
  },
  {
   "cell_type": "markdown",
   "id": "fd433ac1-20ec-407e-a7f6-5c7ad0dfa341",
   "metadata": {},
   "source": [
    "FourCal2는 생성자가 있는데 MoreFourCal()을 할 때 값을 선언을 안해줘서 오류가 발생함"
   ]
  },
  {
   "cell_type": "code",
   "execution_count": 181,
   "id": "ec5d9d7a-0beb-4185-8134-ba262a4e4557",
   "metadata": {},
   "outputs": [],
   "source": [
    "sally = MoreFourCal(100,4)"
   ]
  },
  {
   "cell_type": "code",
   "execution_count": 182,
   "id": "a6ea18c1-1134-48ae-b3fd-1dc64df12d0b",
   "metadata": {},
   "outputs": [
    {
     "data": {
      "text/plain": [
       "100000000"
      ]
     },
     "execution_count": 182,
     "metadata": {},
     "output_type": "execute_result"
    }
   ],
   "source": [
    "sally.pow()"
   ]
  },
  {
   "cell_type": "code",
   "execution_count": 183,
   "id": "7a62a026-b81c-40e2-839b-0084e7fe7915",
   "metadata": {},
   "outputs": [
    {
     "data": {
      "text/plain": [
       "96"
      ]
     },
     "execution_count": 183,
     "metadata": {},
     "output_type": "execute_result"
    }
   ],
   "source": [
    "sally.sub()"
   ]
  },
  {
   "cell_type": "code",
   "execution_count": 184,
   "id": "0e48a580-b937-4573-8b49-afb7714c7d9c",
   "metadata": {},
   "outputs": [
    {
     "data": {
      "text/plain": [
       "104"
      ]
     },
     "execution_count": 184,
     "metadata": {},
     "output_type": "execute_result"
    }
   ],
   "source": [
    "sally.add()"
   ]
  },
  {
   "cell_type": "code",
   "execution_count": 186,
   "id": "6d31e16a-9b88-4e92-ad14-18ef92973f85",
   "metadata": {},
   "outputs": [
    {
     "data": {
      "text/plain": [
       "400"
      ]
     },
     "execution_count": 186,
     "metadata": {},
     "output_type": "execute_result"
    }
   ],
   "source": [
    "sally.mul()"
   ]
  },
  {
   "cell_type": "code",
   "execution_count": 187,
   "id": "470bc8d6-e0bf-4e9b-99d6-bf639fe01944",
   "metadata": {},
   "outputs": [
    {
     "data": {
      "text/plain": [
       "25.0"
      ]
     },
     "execution_count": 187,
     "metadata": {},
     "output_type": "execute_result"
    }
   ],
   "source": [
    "sally.div()"
   ]
  },
  {
   "cell_type": "markdown",
   "id": "346a6d44-cd7e-48da-b0ad-15d2f5ed4064",
   "metadata": {},
   "source": [
    "메서드 오버라이팅\n",
    "* 부모클래스에서 상속한 매서드 자식 클래스에서 동일한 이름으로 다시 재정의\n",
    "* method overriding"
   ]
  },
  {
   "cell_type": "code",
   "execution_count": 189,
   "id": "acd4459b-1faa-4291-a1f9-247471b8fef2",
   "metadata": {},
   "outputs": [],
   "source": [
    "john = FourCal2(4,0)"
   ]
  },
  {
   "cell_type": "code",
   "execution_count": 190,
   "id": "4078a34f-4617-4beb-80c2-c6fef4071f73",
   "metadata": {},
   "outputs": [
    {
     "data": {
      "text/plain": [
       "4"
      ]
     },
     "execution_count": 190,
     "metadata": {},
     "output_type": "execute_result"
    }
   ],
   "source": [
    "john.add()"
   ]
  },
  {
   "cell_type": "code",
   "execution_count": 191,
   "id": "4e2217a5-72ca-43ea-bdce-631cafd5ae76",
   "metadata": {},
   "outputs": [
    {
     "data": {
      "text/plain": [
       "4"
      ]
     },
     "execution_count": 191,
     "metadata": {},
     "output_type": "execute_result"
    }
   ],
   "source": [
    "john.sub()"
   ]
  },
  {
   "cell_type": "code",
   "execution_count": 192,
   "id": "339e5d6a-a9f8-44db-aa72-0e5ac2bc7e92",
   "metadata": {},
   "outputs": [
    {
     "data": {
      "text/plain": [
       "0"
      ]
     },
     "execution_count": 192,
     "metadata": {},
     "output_type": "execute_result"
    }
   ],
   "source": [
    "john.mul()"
   ]
  },
  {
   "cell_type": "code",
   "execution_count": 193,
   "id": "32e4eb4e-1aba-4be2-9699-77ee0bd4f5b8",
   "metadata": {},
   "outputs": [
    {
     "ename": "ZeroDivisionError",
     "evalue": "division by zero",
     "output_type": "error",
     "traceback": [
      "\u001b[1;31m---------------------------------------------------------------------------\u001b[0m",
      "\u001b[1;31mZeroDivisionError\u001b[0m                         Traceback (most recent call last)",
      "Cell \u001b[1;32mIn[193], line 1\u001b[0m\n\u001b[1;32m----> 1\u001b[0m \u001b[43mjohn\u001b[49m\u001b[38;5;241;43m.\u001b[39;49m\u001b[43mdiv\u001b[49m\u001b[43m(\u001b[49m\u001b[43m)\u001b[49m\n",
      "Cell \u001b[1;32mIn[176], line 15\u001b[0m, in \u001b[0;36mFourCal2.div\u001b[1;34m(self)\u001b[0m\n\u001b[0;32m     14\u001b[0m \u001b[38;5;28;01mdef\u001b[39;00m \u001b[38;5;21mdiv\u001b[39m(\u001b[38;5;28mself\u001b[39m):\n\u001b[1;32m---> 15\u001b[0m     result \u001b[38;5;241m=\u001b[39m \u001b[38;5;28;43mself\u001b[39;49m\u001b[38;5;241;43m.\u001b[39;49m\u001b[43mnum1\u001b[49m\u001b[43m \u001b[49m\u001b[38;5;241;43m/\u001b[39;49m\u001b[43m \u001b[49m\u001b[38;5;28;43mself\u001b[39;49m\u001b[38;5;241;43m.\u001b[39;49m\u001b[43mnum2\u001b[49m\n\u001b[0;32m     16\u001b[0m     \u001b[38;5;28;01mreturn\u001b[39;00m result\n",
      "\u001b[1;31mZeroDivisionError\u001b[0m: division by zero"
     ]
    }
   ],
   "source": [
    "john.div()"
   ]
  },
  {
   "cell_type": "markdown",
   "id": "0ec3e79e-4a2c-437b-bedb-c60bf713b52d",
   "metadata": {},
   "source": [
    "FourCal2는 num2에 0이 입력될 경우 나눗셈시 0을 나누게 되기 때문에 에러발생 <br>\n",
    "SafeFourCal를 만들고 FourCal2를 상속받은 후 div 함수를 재정의 하여 에러를 없앰<br>"
   ]
  },
  {
   "cell_type": "code",
   "execution_count": 194,
   "id": "90dd98b2-120d-4259-8346-db684865c6a8",
   "metadata": {},
   "outputs": [],
   "source": [
    "class SafeFourCal(FourCal2):\n",
    "    def div(self):\n",
    "        if self.num2 == 0:\n",
    "            return 0\n",
    "        else :\n",
    "            return self.num1 / self.num2"
   ]
  },
  {
   "cell_type": "code",
   "execution_count": 195,
   "id": "7785bd33-27b4-4401-b91a-6205c6b7c65a",
   "metadata": {},
   "outputs": [],
   "source": [
    "john = SafeFourCal(4,0)"
   ]
  },
  {
   "cell_type": "code",
   "execution_count": 197,
   "id": "dc735089-ad07-483c-987b-1737c797da3a",
   "metadata": {},
   "outputs": [
    {
     "data": {
      "text/plain": [
       "0"
      ]
     },
     "execution_count": 197,
     "metadata": {},
     "output_type": "execute_result"
    }
   ],
   "source": [
    "john.div()"
   ]
  },
  {
   "cell_type": "code",
   "execution_count": null,
   "id": "88f63eb0-1ae9-4442-8e83-58175197dd9c",
   "metadata": {},
   "outputs": [],
   "source": []
  }
 ],
 "metadata": {
  "kernelspec": {
   "display_name": "Python 3 (ipykernel)",
   "language": "python",
   "name": "python3"
  },
  "language_info": {
   "codemirror_mode": {
    "name": "ipython",
    "version": 3
   },
   "file_extension": ".py",
   "mimetype": "text/x-python",
   "name": "python",
   "nbconvert_exporter": "python",
   "pygments_lexer": "ipython3",
   "version": "3.10.14"
  }
 },
 "nbformat": 4,
 "nbformat_minor": 5
}
