{
 "cells": [
  {
   "cell_type": "markdown",
   "id": "9a14690e-1b6e-4f9c-a260-00ad6f58e9a7",
   "metadata": {},
   "source": [
    "### 클래스 만들기\n",
    "* 클래스는 객체지향 프로그래밍의 핵심\n",
    "* 클래스 하나에 여러 개의 함수(메서드)를 포함\n",
    "* 클래스 = 커피머신 공장\n",
    "* 메서드 = 커피머신의 기능(에스프레소, 아메리카노, 카페라떼, 카푸치노)"
   ]
  },
  {
   "cell_type": "markdown",
   "id": "d87d4a2c-9c31-478c-9f65-f72c20595f78",
   "metadata": {},
   "source": [
    "더하기 함수"
   ]
  },
  {
   "cell_type": "code",
   "execution_count": 62,
   "id": "cc21f9f6-f0dc-4a11-9350-268af9d6a729",
   "metadata": {},
   "outputs": [
    {
     "data": {
      "text/plain": [
       "8"
      ]
     },
     "execution_count": 62,
     "metadata": {},
     "output_type": "execute_result"
    }
   ],
   "source": [
    "result = 0\n",
    "def add(a,b):\n",
    "    result = a+b\n",
    "    return result\n",
    "add(3,5)"
   ]
  },
  {
   "cell_type": "code",
   "execution_count": 63,
   "id": "4d7a918f-7c0d-4c7a-b8e5-c2f4637fedf6",
   "metadata": {},
   "outputs": [],
   "source": [
    "result_cal = 0\n",
    "def add(num):\n",
    "    global result_cal\n",
    "    result_cal += num\n",
    "    return result_cal\n"
   ]
  },
  {
   "cell_type": "code",
   "execution_count": 64,
   "id": "9cb8d081-9922-4442-88a6-9f1b74cc60e0",
   "metadata": {},
   "outputs": [
    {
     "data": {
      "text/plain": [
       "3"
      ]
     },
     "execution_count": 64,
     "metadata": {},
     "output_type": "execute_result"
    }
   ],
   "source": [
    "add(3)"
   ]
  },
  {
   "cell_type": "code",
   "execution_count": 65,
   "id": "a8fcf993-19ef-47fb-9f4e-e35c9eaadc5f",
   "metadata": {},
   "outputs": [],
   "source": [
    "result_cal = 0\n",
    "def add(num):\n",
    "    global result_cal\n",
    "    result_cal += num\n",
    "    return result_cal\n",
    "\n",
    "result_cal2 = 0\n",
    "def add(num):\n",
    "    global result_cal2\n",
    "    result_cal2 += num\n",
    "    return result_cal\n",
    "\n"
   ]
  },
  {
   "cell_type": "code",
   "execution_count": 66,
   "id": "1441a710-8415-487b-9000-23996e5c7d1a",
   "metadata": {},
   "outputs": [
    {
     "name": "stdout",
     "output_type": "stream",
     "text": [
      "45\n"
     ]
    }
   ],
   "source": [
    "result = 0\n",
    "for i in range(1,10):\n",
    "    result += i\n",
    "print(result)"
   ]
  },
  {
   "cell_type": "code",
   "execution_count": 67,
   "id": "70f9374c-f65d-48a2-9ac9-0ebdb180b174",
   "metadata": {},
   "outputs": [],
   "source": [
    "result = 0\n",
    "def add2(num, result = 0):\n",
    "    result += num\n",
    "    return result\n"
   ]
  },
  {
   "cell_type": "code",
   "execution_count": 68,
   "id": "fb64ee40-3bf0-44e7-b38f-b542a8562b95",
   "metadata": {},
   "outputs": [
    {
     "data": {
      "text/plain": [
       "3"
      ]
     },
     "execution_count": 68,
     "metadata": {},
     "output_type": "execute_result"
    }
   ],
   "source": [
    "add2(3)"
   ]
  },
  {
   "cell_type": "code",
   "execution_count": null,
   "id": "da194e85-7524-484c-9e7a-cd6a77bdf5ed",
   "metadata": {},
   "outputs": [],
   "source": []
  },
  {
   "cell_type": "markdown",
   "id": "91a824a3-2664-44d1-9f1c-de5709b759e4",
   "metadata": {},
   "source": [
    "위의 방식으로 함수를 만들면 이전 데이터를 기억하게 할 수 있지만, <br>\n",
    "초기화를 하거나 여러 사람이 사용하면서 각기 다른 계산을 할 수 없다<br>\n",
    "사용자가 늘어나면 변수와 함수를 따로 만들어야 한다. <br>\n",
    "여러 사람이 각자 다른 계산을 할 수 있고 이전 값을 기억할 수 있도록 만들려면 클래스를 이용해서 만들어야 한다."
   ]
  },
  {
   "cell_type": "markdown",
   "id": "6eaa035a-a615-433d-b3f6-51c6f682e335",
   "metadata": {},
   "source": [
    "클래스로 계산기 만들기 <br>\n",
    "class 클래스명 :    # 클래스명을 만들 때는 대문자로 시작하고 카멜표기법(문자2개이면 대문자) <br>\n",
    "____def 메소드명(): <br>\n",
    "________실행할 코드 <br>\n",
    "________return\n"
   ]
  },
  {
   "cell_type": "code",
   "execution_count": 69,
   "id": "e9d4c29c-f526-4125-9b98-763f655de893",
   "metadata": {},
   "outputs": [],
   "source": [
    "class Calculator():\n",
    "    def __init__(self): # self는 Calculator()\n",
    "        self.result = 0\n",
    "    def add(self, num): # self는 Calculator.add(num)\n",
    "        self.result += num\n",
    "        return self.result"
   ]
  },
  {
   "cell_type": "markdown",
   "id": "e382781b-e0a9-4832-a4a4-97218dfa383d",
   "metadata": {},
   "source": [
    "클래스 사용방법\n",
    "* 변수에 클래스를 담아서 인스턴스 생성\n",
    "* 인스턴스 변수명 = 클래스명()으로 생성할 수 있다\n",
    "* 인스턴스를 생성하고 나면 인스턴스.메서드 형식으로 클래스에 정의한 매소드를 사용할 수 있다."
   ]
  },
  {
   "cell_type": "code",
   "execution_count": 70,
   "id": "52bfc990-eac9-497c-9e7e-d7cc44de183b",
   "metadata": {},
   "outputs": [],
   "source": [
    "# cal1 변수에 Calculator() 클래스를 담아 인스턴스 생성\n",
    "cal1 = Calculator()"
   ]
  },
  {
   "cell_type": "code",
   "execution_count": 71,
   "id": "f24f66e9-c65a-4503-a882-5dcb98ab3207",
   "metadata": {},
   "outputs": [],
   "source": [
    "calc = (lambda x: x+5)"
   ]
  },
  {
   "cell_type": "code",
   "execution_count": 72,
   "id": "0f49439e-74d5-4387-8774-d8009309001e",
   "metadata": {},
   "outputs": [
    {
     "data": {
      "text/plain": [
       "10"
      ]
     },
     "execution_count": 72,
     "metadata": {},
     "output_type": "execute_result"
    }
   ],
   "source": [
    "calc(5)"
   ]
  },
  {
   "cell_type": "code",
   "execution_count": 73,
   "id": "3c889465-7590-48a7-845f-61e645c6dc05",
   "metadata": {},
   "outputs": [
    {
     "name": "stdout",
     "output_type": "stream",
     "text": [
      "<__main__.Calculator object at 0x000001D3E7205A80>\n",
      "<class '__main__.Calculator'>\n"
     ]
    }
   ],
   "source": [
    "print(cal1)\n",
    "print(type(cal1))"
   ]
  },
  {
   "cell_type": "code",
   "execution_count": 74,
   "id": "cb90f2f9-fb12-4eab-9faa-e6dae3c72251",
   "metadata": {},
   "outputs": [
    {
     "data": {
      "text/plain": [
       "3"
      ]
     },
     "execution_count": 74,
     "metadata": {},
     "output_type": "execute_result"
    }
   ],
   "source": [
    "cal1.add(3)"
   ]
  },
  {
   "cell_type": "code",
   "execution_count": 75,
   "id": "0172ea7a-e1bd-4447-9358-8f98f086b031",
   "metadata": {},
   "outputs": [],
   "source": [
    "cal2 = Calculator()"
   ]
  },
  {
   "cell_type": "code",
   "execution_count": 76,
   "id": "73f04e7d-a183-42d8-a826-75a15658cf3c",
   "metadata": {},
   "outputs": [
    {
     "data": {
      "text/plain": [
       "7"
      ]
     },
     "execution_count": 76,
     "metadata": {},
     "output_type": "execute_result"
    }
   ],
   "source": [
    "cal2.add(7)"
   ]
  },
  {
   "cell_type": "code",
   "execution_count": null,
   "id": "5dfd9003-08f2-4b78-94dd-68fda8c5f44c",
   "metadata": {},
   "outputs": [],
   "source": []
  },
  {
   "cell_type": "markdown",
   "id": "73e67c33-fd49-427f-89ac-573484da2b40",
   "metadata": {},
   "source": [
    "* Calculator() 클래스로 만든 별개의 계산기 cal1, cal2는 파이썬에서는 인스턴스(instance) <br>\n",
    "혹은 객체(object)라고 부른다\n",
    "* 각각의 인스턴스는 독립적으로 역할을 수행\n",
    "* 계산기 cal1과 cal2의 결과값은 서로 독립적으로 유지한다.\n",
    "* 클래스 = 커피머신 공장에서 만든 커피머신\n",
    "* 인스턴스 = 커피머신을 산 고객\n",
    "* 같은 기계를 가지고 있기 때문에 동일한 기능을 가짐\n",
    "* 사용자에 따라서 각기 다르게 사용된다."
   ]
  },
  {
   "cell_type": "code",
   "execution_count": 77,
   "id": "54e77a43-7e00-4246-86f9-c0185e59b636",
   "metadata": {},
   "outputs": [],
   "source": [
    "class Calculator():\n",
    "    def __init__(self): # self는 Calculator()\n",
    "        # self.result는 result 변수를 생성\n",
    "        self.result = 0\n",
    "    def add(self, num): # self는 Calculator.add(num)\n",
    "        self.result += num\n",
    "        return self.result\n",
    "    def sub(self, num):\n",
    "        self.result -= num\n",
    "        return self.result"
   ]
  },
  {
   "cell_type": "code",
   "execution_count": 78,
   "id": "73374b96-25b2-41bc-8b63-620976b2705d",
   "metadata": {},
   "outputs": [],
   "source": [
    "james = Calculator()"
   ]
  },
  {
   "cell_type": "code",
   "execution_count": 79,
   "id": "d1f7f8e6-841c-487d-86b5-4e17ddd73f98",
   "metadata": {},
   "outputs": [
    {
     "data": {
      "text/plain": [
       "5"
      ]
     },
     "execution_count": 79,
     "metadata": {},
     "output_type": "execute_result"
    }
   ],
   "source": [
    "james.add(5)"
   ]
  },
  {
   "cell_type": "code",
   "execution_count": 80,
   "id": "33b2b5ed-32aa-4e40-9f35-b98870b268ac",
   "metadata": {},
   "outputs": [
    {
     "data": {
      "text/plain": [
       "-9"
      ]
     },
     "execution_count": 80,
     "metadata": {},
     "output_type": "execute_result"
    }
   ],
   "source": [
    "james.sub(14)"
   ]
  },
  {
   "cell_type": "code",
   "execution_count": 81,
   "id": "78949c16-ab7b-4584-80d0-d28b9e0a41b6",
   "metadata": {},
   "outputs": [],
   "source": [
    "susan = Calculator()"
   ]
  },
  {
   "cell_type": "code",
   "execution_count": 82,
   "id": "d24ce54a-7101-4779-a4a1-5d9cf1ae1f16",
   "metadata": {},
   "outputs": [
    {
     "data": {
      "text/plain": [
       "3"
      ]
     },
     "execution_count": 82,
     "metadata": {},
     "output_type": "execute_result"
    }
   ],
   "source": [
    "susan.add(3)"
   ]
  },
  {
   "cell_type": "code",
   "execution_count": 83,
   "id": "7b4332fe-5db4-4ae7-8bc7-b14c5c7bde09",
   "metadata": {},
   "outputs": [
    {
     "data": {
      "text/plain": [
       "-2"
      ]
     },
     "execution_count": 83,
     "metadata": {},
     "output_type": "execute_result"
    }
   ],
   "source": [
    "susan.sub(5)"
   ]
  },
  {
   "cell_type": "markdown",
   "id": "b4eb2314-82e5-4067-a085-5b4394b34274",
   "metadata": {},
   "source": [
    "## 매소드(method)\n",
    "* class 안에 정의하는 함수\n",
    "* 클래스에 기능을 만들어 준다.\n",
    "* 매개변수 - 위치인수, ...\n",
    "def 매소드명(self, 매개변수, num2): <br>\n",
    "____self.매개변수 = 매개변수 <br>\n",
    "____self.num2 = num2"
   ]
  },
  {
   "cell_type": "markdown",
   "id": "4f54a5d8-66eb-4c33-bced-83dd13a726e3",
   "metadata": {},
   "source": [
    "사칙연산이 가능한 FourCal 계산기 만들기"
   ]
  },
  {
   "cell_type": "code",
   "execution_count": 84,
   "id": "545a6568-b9e5-44af-9852-4b69563d9153",
   "metadata": {},
   "outputs": [],
   "source": [
    "# FourCal 이라는 클래스를 만들고 숫자를 입력받는 setdata 메소드 만들기\n",
    "class FourCal():\n",
    "    def setdata(self, num1, num2):\n",
    "        self.num1 = num1\n",
    "        self.num2 = num2\n",
    "        print(\"self.num1 :\", self.num1)\n",
    "        print(\"self.num2 :\", self.num2)"
   ]
  },
  {
   "cell_type": "code",
   "execution_count": 85,
   "id": "0d1062cd-cae5-48ab-a4e1-a4aff29658ee",
   "metadata": {},
   "outputs": [],
   "source": [
    "sam = FourCal()"
   ]
  },
  {
   "cell_type": "code",
   "execution_count": 86,
   "id": "07776a9a-b869-4beb-9315-af20ec725fba",
   "metadata": {
    "scrolled": true
   },
   "outputs": [
    {
     "name": "stdout",
     "output_type": "stream",
     "text": [
      "self.num1 : 4\n",
      "self.num2 : 2\n"
     ]
    }
   ],
   "source": [
    "sam.setdata(4,2)"
   ]
  },
  {
   "cell_type": "code",
   "execution_count": 87,
   "id": "429f6317-0449-49f5-94a7-1826a30246b7",
   "metadata": {},
   "outputs": [],
   "source": [
    "result_cal = 0\n",
    "def add(num):\n",
    "    global result_cal\n",
    "    result_cal += num\n",
    "    return result_cal\n"
   ]
  },
  {
   "cell_type": "code",
   "execution_count": 88,
   "id": "843ad1e1-fc16-44d5-a9dd-3ead4385e4cd",
   "metadata": {},
   "outputs": [],
   "source": [
    "result_cal = 0\n",
    "def add(num):\n",
    "    global result_cal\n",
    "    result_cal += num\n",
    "    return result_cal\n"
   ]
  },
  {
   "cell_type": "code",
   "execution_count": 89,
   "id": "6d118c81-a582-4e14-beb3-8c851df85a19",
   "metadata": {},
   "outputs": [],
   "source": [
    "# FourCal 이라는 클래스를 만들고 숫자를 입력받는 setdata 메소드 만들기\n",
    "# add 기능 추가하기\n",
    "class FourCal():\n",
    "    def setdata(self, num1, num2):\n",
    "        self.num1 = num1\n",
    "        self.num2 = num2\n",
    "        print(\"self.num1 :\", self.num1)\n",
    "        print(\"self.num2 :\", self.num2)\n",
    "    def add(self):\n",
    "        result = self.num1 + self.num2\n",
    "        return result"
   ]
  },
  {
   "cell_type": "code",
   "execution_count": 90,
   "id": "c3955c83-ebf4-4103-813a-bf265906a022",
   "metadata": {},
   "outputs": [
    {
     "name": "stdout",
     "output_type": "stream",
     "text": [
      "self.num1 : 4\n",
      "self.num2 : 3\n"
     ]
    }
   ],
   "source": [
    "sam.setdata(4,3)"
   ]
  },
  {
   "cell_type": "code",
   "execution_count": 91,
   "id": "2a451908-a331-4de0-890c-57b1f684eb55",
   "metadata": {},
   "outputs": [],
   "source": [
    "# FourCal 이라는 클래스를 만들고 숫자를 입력받는 setdata 메소드 만들기\n",
    "# add 기능 추가하기\n",
    "class FourCal():\n",
    "    def setdata(self, num1, num2):\n",
    "        self.num1 = num1\n",
    "        self.num2 = num2\n",
    "        print(\"self.num1 :\", self.num1)\n",
    "        print(\"self.num2 :\", self.num2)\n",
    "    def add(self):\n",
    "        result = self.num1 + self.num2\n",
    "        return result\n",
    "    def sub(self):\n",
    "        result = self.num1 - self.num2\n",
    "        return result"
   ]
  },
  {
   "cell_type": "code",
   "execution_count": 92,
   "id": "8d92110e-fbe6-4e3c-b165-5da52da52299",
   "metadata": {},
   "outputs": [],
   "source": [
    "# FourCal 이라는 클래스를 만들고 숫자를 입력받는 setdata 메소드 만들기\n",
    "# add 기능 추가하기\n",
    "class FourCal():\n",
    "    def setdata(self, num1, num2):\n",
    "        self.num1 = num1\n",
    "        self.num2 = num2\n",
    "        print(\"self.num1 :\", self.num1)\n",
    "        print(\"self.num2 :\", self.num2)\n",
    "    def add(self):\n",
    "        result = self.num1 + self.num2\n",
    "        return result\n",
    "    def sub(self):\n",
    "        result = self.num1 - self.num2\n",
    "        return result\n",
    "\n",
    "    def mul(self):\n",
    "        result = self.num1 * self.num2\n",
    "        return result\n",
    "\n",
    "    def div(self):\n",
    "        result = self.num1 / self.num2\n",
    "        return result"
   ]
  },
  {
   "cell_type": "code",
   "execution_count": null,
   "id": "f2a7b322-dd2d-4e6d-a52f-3b7e510ad916",
   "metadata": {},
   "outputs": [],
   "source": []
  },
  {
   "cell_type": "code",
   "execution_count": 93,
   "id": "e30d073d-6dbd-4e7d-abed-bf5c2b10967d",
   "metadata": {},
   "outputs": [],
   "source": [
    "result_cal = 0\n",
    "def add(num):\n",
    "    global result_cal\n",
    "    result_cal += num\n",
    "    return result_cal\n"
   ]
  },
  {
   "cell_type": "code",
   "execution_count": 94,
   "id": "2d8710e3-6d11-4227-a8c2-ff2e4dbc694f",
   "metadata": {},
   "outputs": [
    {
     "ename": "AttributeError",
     "evalue": "'FourCal' object has no attribute 'div'",
     "output_type": "error",
     "traceback": [
      "\u001b[1;31m---------------------------------------------------------------------------\u001b[0m",
      "\u001b[1;31mAttributeError\u001b[0m                            Traceback (most recent call last)",
      "Cell \u001b[1;32mIn[94], line 1\u001b[0m\n\u001b[1;32m----> 1\u001b[0m \u001b[43msam\u001b[49m\u001b[38;5;241;43m.\u001b[39;49m\u001b[43mdiv\u001b[49m()\n",
      "\u001b[1;31mAttributeError\u001b[0m: 'FourCal' object has no attribute 'div'"
     ]
    }
   ],
   "source": [
    "sam.div()"
   ]
  },
  {
   "cell_type": "code",
   "execution_count": null,
   "id": "e5462ce1-91da-43c5-b0e6-4bc016447399",
   "metadata": {},
   "outputs": [],
   "source": []
  },
  {
   "cell_type": "markdown",
   "id": "c281293f-e159-424f-849c-e658d720a076",
   "metadata": {},
   "source": [
    "## 생성자\n",
    "* 객체에 num1, num2와 같은 초기값을 설정해야 할 필요가 있을 때 setmethod와 같은 것을 <br>\n",
    "  호출해서 설정하는 것보다 생성자를 만들어서 인스턴스를 생성할 때 값을 바로 받는 것이 더 좋다.\n",
    "* 생성자(constructor)란 객체가 생성될 때 자동으로 호출되는 메서드\n",
    "* class 내에서 메서드명으로 __init__을 사용하면 그것이 생성자가 된다."
   ]
  },
  {
   "cell_type": "code",
   "execution_count": 95,
   "id": "f08e32d4-4349-4041-876c-288dd65437a3",
   "metadata": {},
   "outputs": [],
   "source": [
    "class FourCal2():\n",
    "    def __init__(self, num1, num2): # 생성자\n",
    "        self.num1 = num1 # self.num1 인스턴스 변수\n",
    "        self.num2 = num2 # self.num2 인스턴스 변수\n",
    "    def add(self):\n",
    "        result = self.num1 + self.num2\n",
    "        return result\n",
    "    def sub(self):\n",
    "        result = self.num1 - self.num2\n",
    "        return result\n",
    "    def mul(self):\n",
    "        result = self.num1 * self.num2\n",
    "        return result\n",
    "    def div(self):\n",
    "        result = self.num1 / self.num2\n",
    "        return result\n",
    "     "
   ]
  },
  {
   "cell_type": "code",
   "execution_count": 96,
   "id": "c523824a-ae03-4955-9040-bd98293924d8",
   "metadata": {},
   "outputs": [],
   "source": [
    "james = FourCal2(100,27)"
   ]
  },
  {
   "cell_type": "code",
   "execution_count": 97,
   "id": "a86fc887-2c6f-4766-9267-2184c26d7a31",
   "metadata": {},
   "outputs": [
    {
     "data": {
      "text/plain": [
       "127"
      ]
     },
     "execution_count": 97,
     "metadata": {},
     "output_type": "execute_result"
    }
   ],
   "source": [
    "james.add()"
   ]
  },
  {
   "cell_type": "code",
   "execution_count": 98,
   "id": "43500445-91fb-4c14-8b93-3a8b7d0f7ac2",
   "metadata": {},
   "outputs": [
    {
     "data": {
      "text/plain": [
       "73"
      ]
     },
     "execution_count": 98,
     "metadata": {},
     "output_type": "execute_result"
    }
   ],
   "source": [
    "james.sub()"
   ]
  },
  {
   "cell_type": "markdown",
   "id": "69e607d6-d346-4e0e-8929-5075324ff99c",
   "metadata": {},
   "source": [
    "## 클래스의 상속\n",
    "* 어떤 클래스를 만들 때 다른 클래스의 기능을 물려받는 것\n",
    "* 기존 클래스 + 기능을 추가할 때\n",
    "* A클래스를 상속받아 B클래스를 생성한다고 할 때, B클래스는 A클래스의 모든 기능을 사용할 수 있다"
   ]
  },
  {
   "cell_type": "markdown",
   "id": "9a862409-6f6f-4f63-9ad3-5c80f85ed6bc",
   "metadata": {},
   "source": [
    "FourCal2을 상속받아 제곱 기능을 추가한 MoreFourCal 만들기"
   ]
  },
  {
   "cell_type": "code",
   "execution_count": 99,
   "id": "0d5d6c3b-3c3c-4124-bfb8-bcd7bd8544df",
   "metadata": {},
   "outputs": [],
   "source": [
    "class MoreFourCal(FourCal2):\n",
    "    def pow(self):\n",
    "        result = self.num1 ** self.num2\n",
    "        return result"
   ]
  },
  {
   "cell_type": "code",
   "execution_count": 100,
   "id": "f505423c-b99c-4074-ab95-410848187fc5",
   "metadata": {},
   "outputs": [
    {
     "ename": "TypeError",
     "evalue": "FourCal2.__init__() missing 2 required positional arguments: 'num1' and 'num2'",
     "output_type": "error",
     "traceback": [
      "\u001b[1;31m---------------------------------------------------------------------------\u001b[0m",
      "\u001b[1;31mTypeError\u001b[0m                                 Traceback (most recent call last)",
      "Cell \u001b[1;32mIn[100], line 1\u001b[0m\n\u001b[1;32m----> 1\u001b[0m sally \u001b[38;5;241m=\u001b[39m \u001b[43mMoreFourCal\u001b[49m\u001b[43m(\u001b[49m\u001b[43m)\u001b[49m\n",
      "\u001b[1;31mTypeError\u001b[0m: FourCal2.__init__() missing 2 required positional arguments: 'num1' and 'num2'"
     ]
    }
   ],
   "source": [
    "sally = MoreFourCal()"
   ]
  },
  {
   "cell_type": "markdown",
   "id": "fd433ac1-20ec-407e-a7f6-5c7ad0dfa341",
   "metadata": {},
   "source": [
    "FourCal2는 생성자가 있는데 MoreFourCal()을 할 때 값을 선언을 안해줘서 오류가 발생함"
   ]
  },
  {
   "cell_type": "code",
   "execution_count": 101,
   "id": "ec5d9d7a-0beb-4185-8134-ba262a4e4557",
   "metadata": {},
   "outputs": [],
   "source": [
    "sally = MoreFourCal(100,4)"
   ]
  },
  {
   "cell_type": "code",
   "execution_count": 102,
   "id": "a6ea18c1-1134-48ae-b3fd-1dc64df12d0b",
   "metadata": {},
   "outputs": [
    {
     "data": {
      "text/plain": [
       "100000000"
      ]
     },
     "execution_count": 102,
     "metadata": {},
     "output_type": "execute_result"
    }
   ],
   "source": [
    "sally.pow()"
   ]
  },
  {
   "cell_type": "code",
   "execution_count": 103,
   "id": "7a62a026-b81c-40e2-839b-0084e7fe7915",
   "metadata": {},
   "outputs": [
    {
     "data": {
      "text/plain": [
       "96"
      ]
     },
     "execution_count": 103,
     "metadata": {},
     "output_type": "execute_result"
    }
   ],
   "source": [
    "sally.sub()"
   ]
  },
  {
   "cell_type": "code",
   "execution_count": 104,
   "id": "0e48a580-b937-4573-8b49-afb7714c7d9c",
   "metadata": {},
   "outputs": [
    {
     "data": {
      "text/plain": [
       "104"
      ]
     },
     "execution_count": 104,
     "metadata": {},
     "output_type": "execute_result"
    }
   ],
   "source": [
    "sally.add()"
   ]
  },
  {
   "cell_type": "code",
   "execution_count": 105,
   "id": "6d31e16a-9b88-4e92-ad14-18ef92973f85",
   "metadata": {},
   "outputs": [
    {
     "data": {
      "text/plain": [
       "400"
      ]
     },
     "execution_count": 105,
     "metadata": {},
     "output_type": "execute_result"
    }
   ],
   "source": [
    "sally.mul()"
   ]
  },
  {
   "cell_type": "code",
   "execution_count": 106,
   "id": "470bc8d6-e0bf-4e9b-99d6-bf639fe01944",
   "metadata": {},
   "outputs": [
    {
     "data": {
      "text/plain": [
       "25.0"
      ]
     },
     "execution_count": 106,
     "metadata": {},
     "output_type": "execute_result"
    }
   ],
   "source": [
    "sally.div()"
   ]
  },
  {
   "cell_type": "markdown",
   "id": "346a6d44-cd7e-48da-b0ad-15d2f5ed4064",
   "metadata": {},
   "source": [
    "메서드 오버라이팅\n",
    "* 부모클래스에서 상속한 매서드 자식 클래스에서 동일한 이름으로 다시 재정의\n",
    "* method overriding"
   ]
  },
  {
   "cell_type": "code",
   "execution_count": 107,
   "id": "acd4459b-1faa-4291-a1f9-247471b8fef2",
   "metadata": {},
   "outputs": [],
   "source": [
    "john = FourCal2(4,0)"
   ]
  },
  {
   "cell_type": "code",
   "execution_count": 108,
   "id": "4078a34f-4617-4beb-80c2-c6fef4071f73",
   "metadata": {},
   "outputs": [
    {
     "data": {
      "text/plain": [
       "4"
      ]
     },
     "execution_count": 108,
     "metadata": {},
     "output_type": "execute_result"
    }
   ],
   "source": [
    "john.add()"
   ]
  },
  {
   "cell_type": "code",
   "execution_count": 109,
   "id": "4e2217a5-72ca-43ea-bdce-631cafd5ae76",
   "metadata": {},
   "outputs": [
    {
     "data": {
      "text/plain": [
       "4"
      ]
     },
     "execution_count": 109,
     "metadata": {},
     "output_type": "execute_result"
    }
   ],
   "source": [
    "john.sub()"
   ]
  },
  {
   "cell_type": "code",
   "execution_count": 110,
   "id": "339e5d6a-a9f8-44db-aa72-0e5ac2bc7e92",
   "metadata": {},
   "outputs": [
    {
     "data": {
      "text/plain": [
       "0"
      ]
     },
     "execution_count": 110,
     "metadata": {},
     "output_type": "execute_result"
    }
   ],
   "source": [
    "john.mul()"
   ]
  },
  {
   "cell_type": "code",
   "execution_count": 111,
   "id": "32e4eb4e-1aba-4be2-9699-77ee0bd4f5b8",
   "metadata": {},
   "outputs": [
    {
     "ename": "ZeroDivisionError",
     "evalue": "division by zero",
     "output_type": "error",
     "traceback": [
      "\u001b[1;31m---------------------------------------------------------------------------\u001b[0m",
      "\u001b[1;31mZeroDivisionError\u001b[0m                         Traceback (most recent call last)",
      "Cell \u001b[1;32mIn[111], line 1\u001b[0m\n\u001b[1;32m----> 1\u001b[0m \u001b[43mjohn\u001b[49m\u001b[38;5;241;43m.\u001b[39;49m\u001b[43mdiv\u001b[49m\u001b[43m(\u001b[49m\u001b[43m)\u001b[49m\n",
      "Cell \u001b[1;32mIn[95], line 15\u001b[0m, in \u001b[0;36mFourCal2.div\u001b[1;34m(self)\u001b[0m\n\u001b[0;32m     14\u001b[0m \u001b[38;5;28;01mdef\u001b[39;00m \u001b[38;5;21mdiv\u001b[39m(\u001b[38;5;28mself\u001b[39m):\n\u001b[1;32m---> 15\u001b[0m     result \u001b[38;5;241m=\u001b[39m \u001b[38;5;28;43mself\u001b[39;49m\u001b[38;5;241;43m.\u001b[39;49m\u001b[43mnum1\u001b[49m\u001b[43m \u001b[49m\u001b[38;5;241;43m/\u001b[39;49m\u001b[43m \u001b[49m\u001b[38;5;28;43mself\u001b[39;49m\u001b[38;5;241;43m.\u001b[39;49m\u001b[43mnum2\u001b[49m\n\u001b[0;32m     16\u001b[0m     \u001b[38;5;28;01mreturn\u001b[39;00m result\n",
      "\u001b[1;31mZeroDivisionError\u001b[0m: division by zero"
     ]
    }
   ],
   "source": [
    "john.div()"
   ]
  },
  {
   "cell_type": "markdown",
   "id": "0ec3e79e-4a2c-437b-bedb-c60bf713b52d",
   "metadata": {},
   "source": [
    "FourCal2는 num2에 0이 입력될 경우 나눗셈시 0을 나누게 되기 때문에 에러발생 <br>\n",
    "SafeFourCal를 만들고 FourCal2를 상속받은 후 div 함수를 재정의 하여 에러를 없앰<br>"
   ]
  },
  {
   "cell_type": "code",
   "execution_count": 112,
   "id": "90dd98b2-120d-4259-8346-db684865c6a8",
   "metadata": {},
   "outputs": [],
   "source": [
    "class SafeFourCal(FourCal2):\n",
    "    def div(self):\n",
    "        if self.num2 == 0:\n",
    "            return 0\n",
    "        else :\n",
    "            return self.num1 / self.num2"
   ]
  },
  {
   "cell_type": "code",
   "execution_count": 113,
   "id": "7785bd33-27b4-4401-b91a-6205c6b7c65a",
   "metadata": {},
   "outputs": [],
   "source": [
    "john = SafeFourCal(4,0)"
   ]
  },
  {
   "cell_type": "code",
   "execution_count": 114,
   "id": "dc735089-ad07-483c-987b-1737c797da3a",
   "metadata": {},
   "outputs": [
    {
     "data": {
      "text/plain": [
       "0"
      ]
     },
     "execution_count": 114,
     "metadata": {},
     "output_type": "execute_result"
    }
   ],
   "source": [
    "john.div()"
   ]
  },
  {
   "cell_type": "code",
   "execution_count": null,
   "id": "88f63eb0-1ae9-4442-8e83-58175197dd9c",
   "metadata": {},
   "outputs": [],
   "source": []
  },
  {
   "cell_type": "markdown",
   "id": "d4c4cc2d-3c44-4fdb-b4d8-816825261727",
   "metadata": {},
   "source": [
    "## 메서드 오버로딩\n",
    "* 한 클래스 안에서 동일 메서드의 기능을 다르게 재정의\n",
    "* 동일한 이름의 메소드가 기능이 약간 변경된 채로 여러 개 존재\n",
    "* def add(num1, num2)\n",
    "* def add*(num1, num2, num3)\n",
    "* def add(num1, num2, num3, num4)"
   ]
  },
  {
   "cell_type": "code",
   "execution_count": 115,
   "id": "31a39fd7-2c20-4af8-83af-151823a3666a",
   "metadata": {},
   "outputs": [],
   "source": [
    "class OverloadingEx():\n",
    "    def add(self, x, y):\n",
    "        return x + y\n",
    "        \n",
    "    def add(self, x, y, z):\n",
    "        return x + y + z\n",
    "\n",
    "    def add(self, x, y, z, a):\n",
    "        return x + y + z + a\n",
    "    "
   ]
  },
  {
   "cell_type": "code",
   "execution_count": 116,
   "id": "f650d33c-067c-4278-b591-4a5dc1ee2277",
   "metadata": {},
   "outputs": [],
   "source": [
    "sam = OverloadingEx()"
   ]
  },
  {
   "cell_type": "code",
   "execution_count": 117,
   "id": "720ca864-d7f1-4efa-9948-ba947c201932",
   "metadata": {},
   "outputs": [
    {
     "ename": "TypeError",
     "evalue": "OverloadingEx.add() missing 2 required positional arguments: 'z' and 'a'",
     "output_type": "error",
     "traceback": [
      "\u001b[1;31m---------------------------------------------------------------------------\u001b[0m",
      "\u001b[1;31mTypeError\u001b[0m                                 Traceback (most recent call last)",
      "Cell \u001b[1;32mIn[117], line 3\u001b[0m\n\u001b[0;32m      1\u001b[0m \u001b[38;5;66;03m# 파이썬에서는 기본적으로 매소드 오버로딩을 지원 X\u001b[39;00m\n\u001b[0;32m      2\u001b[0m \u001b[38;5;66;03m# 한 클래스에 같은 이름의 매소드가 여러개 있으면 가장 아래에 정의된 매소드만 실행 됨\u001b[39;00m\n\u001b[1;32m----> 3\u001b[0m \u001b[43msam\u001b[49m\u001b[38;5;241;43m.\u001b[39;49m\u001b[43madd\u001b[49m\u001b[43m(\u001b[49m\u001b[38;5;241;43m10\u001b[39;49m\u001b[43m,\u001b[49m\u001b[38;5;241;43m20\u001b[39;49m\u001b[43m)\u001b[49m\n",
      "\u001b[1;31mTypeError\u001b[0m: OverloadingEx.add() missing 2 required positional arguments: 'z' and 'a'"
     ]
    }
   ],
   "source": [
    "# 파이썬에서는 기본적으로 매소드 오버로딩을 지원 X\n",
    "# 한 클래스에 같은 이름의 매소드가 여러개 있으면 가장 아래에 정의된 매소드만 실행 됨\n",
    "sam.add(10,20)"
   ]
  },
  {
   "cell_type": "code",
   "execution_count": null,
   "id": "8fb132aa-4f19-4b59-afcc-771a99f8db56",
   "metadata": {},
   "outputs": [],
   "source": []
  },
  {
   "cell_type": "markdown",
   "id": "67b3f61d-a05e-45d7-b0ec-5fccce05862d",
   "metadata": {},
   "source": [
    "## multipledispatch 패키지를 통한 매소드 오버로딩"
   ]
  },
  {
   "cell_type": "code",
   "execution_count": 118,
   "id": "8fd7701e-879a-4edf-b681-c485417e9263",
   "metadata": {},
   "outputs": [
    {
     "name": "stdout",
     "output_type": "stream",
     "text": [
      "Channels:\n",
      " - conda-forge\n",
      "Platform: win-64\n",
      "Collecting package metadata (repodata.json): ...working... done\n",
      "Solving environment: ...working... done\n",
      "\n",
      "# All requested packages already installed.\n",
      "\n"
     ]
    },
    {
     "name": "stderr",
     "output_type": "stream",
     "text": [
      "\n",
      "\n",
      "==> WARNING: A newer version of conda exists. <==\n",
      "    current version: 24.3.0\n",
      "    latest version: 24.5.0\n",
      "\n",
      "Please update conda by running\n",
      "\n",
      "    $ conda update -n base -c conda-forge conda\n",
      "\n",
      "\n"
     ]
    }
   ],
   "source": [
    "!conda install multipledispatch"
   ]
  },
  {
   "cell_type": "code",
   "execution_count": 119,
   "id": "cf307244-3a6c-421a-96e9-85953ae311a2",
   "metadata": {},
   "outputs": [],
   "source": [
    "from multipledispatch import dispatch"
   ]
  },
  {
   "cell_type": "code",
   "execution_count": 120,
   "id": "e8dae7d1-7c1b-41a4-9139-6aa335dbbfa1",
   "metadata": {},
   "outputs": [],
   "source": [
    "class OverloadingEx2():\n",
    "    \n",
    "    @dispatch(int, int)\n",
    "    def add(self, x, y):\n",
    "        return x + y\n",
    "    @dispatch(int, int, int)    \n",
    "    def add(self, x, y, z):\n",
    "        return x + y + z\n",
    "\n",
    "    @dispatch(float, float, float, float)\n",
    "    def add(self, x, y, z, a):\n",
    "        return x + y + z - a\n",
    "\n",
    "    @dispatch(int, int, int, int)\n",
    "    def add(self, x, y, z, a):\n",
    "        return (x + y) + (z - a)\n",
    "    "
   ]
  },
  {
   "cell_type": "code",
   "execution_count": 121,
   "id": "00f1beeb-7c4f-44ed-8240-2fd5d60426bc",
   "metadata": {},
   "outputs": [],
   "source": [
    "sally = OverloadingEx2()"
   ]
  },
  {
   "cell_type": "code",
   "execution_count": 122,
   "id": "426ae712-2526-4ee3-9387-87434adcb3e7",
   "metadata": {},
   "outputs": [
    {
     "data": {
      "text/plain": [
       "25"
      ]
     },
     "execution_count": 122,
     "metadata": {},
     "output_type": "execute_result"
    }
   ],
   "source": [
    "sally.add(10, 15)"
   ]
  },
  {
   "cell_type": "code",
   "execution_count": 123,
   "id": "1cf96c55-9a11-45a3-a60d-abdc0b3fd46e",
   "metadata": {},
   "outputs": [
    {
     "data": {
      "text/plain": [
       "16"
      ]
     },
     "execution_count": 123,
     "metadata": {},
     "output_type": "execute_result"
    }
   ],
   "source": [
    "sally.add(1,5,10)"
   ]
  },
  {
   "cell_type": "code",
   "execution_count": 124,
   "id": "21495a00-824e-40db-a719-aa5b227dc244",
   "metadata": {},
   "outputs": [
    {
     "data": {
      "text/plain": [
       "131.51"
      ]
     },
     "execution_count": 124,
     "metadata": {},
     "output_type": "execute_result"
    }
   ],
   "source": [
    "sally.add(20.21, 51.3, 100.1, 40.1)"
   ]
  },
  {
   "cell_type": "code",
   "execution_count": 125,
   "id": "a01957bb-b8b2-4b77-ac57-be9a4276b330",
   "metadata": {},
   "outputs": [
    {
     "data": {
      "text/plain": [
       "19"
      ]
     },
     "execution_count": 125,
     "metadata": {},
     "output_type": "execute_result"
    }
   ],
   "source": [
    "sally.add(5, 10, 9, 5)"
   ]
  },
  {
   "cell_type": "code",
   "execution_count": null,
   "id": "7bb48cd8-9452-4df9-9a29-ae0149910f58",
   "metadata": {},
   "outputs": [],
   "source": []
  },
  {
   "cell_type": "markdown",
   "id": "50bd3ad2-8f74-4d02-8625-c318908b4c6f",
   "metadata": {},
   "source": [
    "## 클래스 속성과 인스턴스 속성\n",
    "* 클래스 속성 : 클래스 전체에서 공유하는 속성, 모든 인스턴스에서 공유\n",
    "* 인스턴스 속성 : 인스턴스에서만 사용하는 속성, 인스턴스간 공유 안됨"
   ]
  },
  {
   "cell_type": "code",
   "execution_count": 126,
   "id": "10f1a2d7-f3a7-4bf1-a0b6-50f0a070dc45",
   "metadata": {},
   "outputs": [],
   "source": [
    "class Family:\n",
    "    lastname = \"김\" # 클래스 속성"
   ]
  },
  {
   "cell_type": "code",
   "execution_count": 127,
   "id": "7131c273-037f-4edc-b775-c33f6a7a19d7",
   "metadata": {},
   "outputs": [
    {
     "data": {
      "text/plain": [
       "'김'"
      ]
     },
     "execution_count": 127,
     "metadata": {},
     "output_type": "execute_result"
    }
   ],
   "source": [
    "Family.lastname"
   ]
  },
  {
   "cell_type": "code",
   "execution_count": 128,
   "id": "3b654218-7bd7-4236-9196-c44f6c821480",
   "metadata": {},
   "outputs": [
    {
     "data": {
      "text/plain": [
       "'김'"
      ]
     },
     "execution_count": 128,
     "metadata": {},
     "output_type": "execute_result"
    }
   ],
   "source": [
    "john = Family()\n",
    "john.lastname"
   ]
  },
  {
   "cell_type": "code",
   "execution_count": 129,
   "id": "eaa7a913-8aa2-45b9-bb64-9d8d4714b5b5",
   "metadata": {},
   "outputs": [
    {
     "data": {
      "text/plain": [
       "'김'"
      ]
     },
     "execution_count": 129,
     "metadata": {},
     "output_type": "execute_result"
    }
   ],
   "source": [
    "sally = Family()\n",
    "sally.lastname"
   ]
  },
  {
   "cell_type": "code",
   "execution_count": 130,
   "id": "40801335-111b-4aab-82d3-bd5a1d00dcd5",
   "metadata": {},
   "outputs": [],
   "source": [
    "# 인스턴스를 생성한 후 클래스 속성에 새로운 값을 할당 하면\n",
    "# 클래스 속성은 인스턴스 속성으로 변한다.\n",
    "john.lastname = \"박\""
   ]
  },
  {
   "cell_type": "code",
   "execution_count": 131,
   "id": "2f50ab57-002a-4a4a-94dc-fbb1fa0bc783",
   "metadata": {},
   "outputs": [
    {
     "data": {
      "text/plain": [
       "'박'"
      ]
     },
     "execution_count": 131,
     "metadata": {},
     "output_type": "execute_result"
    }
   ],
   "source": [
    "john.lastname"
   ]
  },
  {
   "cell_type": "code",
   "execution_count": 132,
   "id": "844af48f-8622-434a-8762-dea79fa1ec4c",
   "metadata": {},
   "outputs": [
    {
     "data": {
      "text/plain": [
       "'김'"
      ]
     },
     "execution_count": 132,
     "metadata": {},
     "output_type": "execute_result"
    }
   ],
   "source": [
    "sally.lastname"
   ]
  },
  {
   "cell_type": "code",
   "execution_count": null,
   "id": "d24e764a-ef82-40e6-aad1-9b860892e5ed",
   "metadata": {},
   "outputs": [],
   "source": []
  },
  {
   "cell_type": "code",
   "execution_count": 133,
   "id": "27b09b7b-5137-4423-90fd-977b005fb046",
   "metadata": {},
   "outputs": [],
   "source": [
    "# 클래스 속성 Failmy.lastname을 '최'로 변경\n",
    "Family.lastname = \"최\""
   ]
  },
  {
   "cell_type": "code",
   "execution_count": 134,
   "id": "e62f3e39-81af-4d03-a180-c97df36ca1c2",
   "metadata": {},
   "outputs": [
    {
     "name": "stdout",
     "output_type": "stream",
     "text": [
      "박\n",
      "최\n"
     ]
    }
   ],
   "source": [
    "print(john.lastname) # 인스턴스 속성으로 변경 되었기 때문에 클래스 속성에 영향 X\n",
    "print(sally.lastname) # 클래스 속성을 그대로 유지"
   ]
  },
  {
   "cell_type": "markdown",
   "id": "d171486d-65ac-4811-91b5-410a8c2ee41c",
   "metadata": {},
   "source": [
    "## 비공개 클래스 속성__(언더바 2개) 시작하면 비공개 속성\n",
    "* \\_\\_변수명\n",
    "* 보안이 필요해서 남들에게 정보를 노출하고 싶지 않을 때 사용"
   ]
  },
  {
   "cell_type": "code",
   "execution_count": 135,
   "id": "8f546a8c-8440-4c21-a79d-e60f7e21b062",
   "metadata": {},
   "outputs": [],
   "source": [
    "class PInfo():\n",
    "    lastname = \"홍\"\n",
    "    __first_name = \"길동\"\n",
    "    __wallet = 10000\n",
    "    \n",
    "    def print_name(self):\n",
    "        print(PInfo.__first_name)\n",
    "\n",
    "    def wallet(self):\n",
    "        print(PInfo.__wallet)"
   ]
  },
  {
   "cell_type": "code",
   "execution_count": 136,
   "id": "ab0639bc-abb7-44e7-b407-60543886b963",
   "metadata": {},
   "outputs": [],
   "source": [
    "sam = PInfo()"
   ]
  },
  {
   "cell_type": "code",
   "execution_count": 137,
   "id": "779004d8-c6e0-4b68-ad14-1890ef3dba32",
   "metadata": {},
   "outputs": [
    {
     "data": {
      "text/plain": [
       "'홍'"
      ]
     },
     "execution_count": 137,
     "metadata": {},
     "output_type": "execute_result"
    }
   ],
   "source": [
    "sam.lastname"
   ]
  },
  {
   "cell_type": "markdown",
   "id": "34a9f1f3-2a05-4561-8538-48055e5a2472",
   "metadata": {},
   "source": [
    "* 비공개 클래스 속성을 직접 출력하려고 하면 출력X\n",
    "* 클래스 내에서 함수를 만들어 출력하면 출력O"
   ]
  },
  {
   "cell_type": "code",
   "execution_count": 138,
   "id": "09e84f4b-091c-45ee-9f85-f4065e1a587a",
   "metadata": {},
   "outputs": [
    {
     "name": "stdout",
     "output_type": "stream",
     "text": [
      "10000\n"
     ]
    }
   ],
   "source": [
    "sam.wallet()"
   ]
  },
  {
   "cell_type": "code",
   "execution_count": 139,
   "id": "c88de102-b3ce-4c14-9328-6040b4d51b07",
   "metadata": {},
   "outputs": [
    {
     "name": "stdout",
     "output_type": "stream",
     "text": [
      "길동\n"
     ]
    }
   ],
   "source": [
    "sam.print_name()"
   ]
  },
  {
   "cell_type": "code",
   "execution_count": 141,
   "id": "c344c450-10a7-4475-a820-d988989db352",
   "metadata": {},
   "outputs": [
    {
     "data": {
      "text/plain": [
       "<__main__.SafeFourCal at 0x1d3e71eb340>"
      ]
     },
     "execution_count": 141,
     "metadata": {},
     "output_type": "execute_result"
    }
   ],
   "source": [
    "SafeFourCal(10,2)"
   ]
  },
  {
   "cell_type": "code",
   "execution_count": 142,
   "id": "fa33bf5e-f37a-4734-a5d7-8aebce7e93f7",
   "metadata": {},
   "outputs": [
    {
     "data": {
      "text/plain": [
       "8"
      ]
     },
     "execution_count": 142,
     "metadata": {},
     "output_type": "execute_result"
    }
   ],
   "source": [
    "SafeFourCal(10,2).sub()"
   ]
  },
  {
   "cell_type": "code",
   "execution_count": null,
   "id": "f1fd99e6-e3b4-4a1c-a89a-232ccc0ef66f",
   "metadata": {},
   "outputs": [],
   "source": []
  },
  {
   "cell_type": "markdown",
   "id": "ee10742b-2113-4b91-a625-8eade864a999",
   "metadata": {},
   "source": [
    "## 정적매서드 static method\n",
    "* 인스턴스를 만들지 않고도 클래스 매서드를 바로 사용할 수 있는 매서드\n",
    "* @staticmethod라는 데코레이터(@)를 붙여서 만든다.\n",
    "* staticmethod는 self를 받지 않으므로 인스턴스 속성, 인스턴스 메서드가 필요하지 않을 때 사용"
   ]
  },
  {
   "cell_type": "code",
   "execution_count": 144,
   "id": "8e69f427-b91a-48f4-8404-c60a75f10fb7",
   "metadata": {},
   "outputs": [],
   "source": [
    "class Cal():\n",
    "    @staticmethod\n",
    "    def add(a,b):\n",
    "        print(a + b)\n",
    "\n",
    "    @staticmethod\n",
    "    def sub(a,b):\n",
    "        print(a - b)\n",
    "    "
   ]
  },
  {
   "cell_type": "code",
   "execution_count": 145,
   "id": "c77b79cd-3a65-4baa-a244-46c21c5c3f73",
   "metadata": {},
   "outputs": [
    {
     "name": "stdout",
     "output_type": "stream",
     "text": [
      "7\n"
     ]
    }
   ],
   "source": [
    "Cal.add(3,4)"
   ]
  },
  {
   "cell_type": "code",
   "execution_count": 146,
   "id": "04ac5e25-bce5-410c-868e-108f7c67a48d",
   "metadata": {},
   "outputs": [
    {
     "name": "stdout",
     "output_type": "stream",
     "text": [
      "-1\n"
     ]
    }
   ],
   "source": [
    "Cal.sub(3,4)"
   ]
  },
  {
   "cell_type": "markdown",
   "id": "6df17077-ea36-426b-a870-ebac3ee528d5",
   "metadata": {},
   "source": [
    "## 클래스 매서드 class method\n",
    "* 메서드 위에 @classmethod를 붙여서 만든다.\n",
    "* 클래스 매서드의 첫 번쨰 매개변수에는 cls를 지정해야 한다.\n",
    "* 클래스 매서드도 정적 매서드처럼 인스턴스 생성 없이 호출이 가능하다.\n",
    "* 클래스 메서드는 메서드 안에서 클래스 속성, 클래스 매서드에 접근해야 할 때 사용한다."
   ]
  },
  {
   "cell_type": "code",
   "execution_count": 150,
   "id": "e58183ab-33ff-4a14-83a0-4dc7a296ba3d",
   "metadata": {},
   "outputs": [],
   "source": [
    "class Factory():\n",
    "    n_coffee_machine = 0 # 클래스 속성\n",
    "\n",
    "    def __init__(self):\n",
    "        Factory.n_coffee_machine += 1 # 인스턴스가 만들어질 때 클래스 속성에 1을 더함\n",
    "\n",
    "    @classmethod\n",
    "    def print_n_coffee_machine(cls):\n",
    "        print(f'{cls.n_coffee_machine}개 제조되었습니다') # cls로 클래스 속성에 접근\n"
   ]
  },
  {
   "cell_type": "code",
   "execution_count": 149,
   "id": "37cec3df-9220-4929-bac1-7fbea7a492c1",
   "metadata": {},
   "outputs": [
    {
     "data": {
      "text/plain": [
       "0"
      ]
     },
     "execution_count": 149,
     "metadata": {},
     "output_type": "execute_result"
    }
   ],
   "source": [
    "Factory.n_coffee_machine"
   ]
  },
  {
   "cell_type": "code",
   "execution_count": 166,
   "id": "820fea2a-b630-45f0-99fb-2349c437d637",
   "metadata": {},
   "outputs": [],
   "source": [
    "a1 = Factory()"
   ]
  },
  {
   "cell_type": "code",
   "execution_count": 167,
   "id": "9b4a25fb-1dd4-4f1e-b78f-6b59d779601b",
   "metadata": {},
   "outputs": [
    {
     "name": "stdout",
     "output_type": "stream",
     "text": [
      "10개 제조되었습니다\n"
     ]
    }
   ],
   "source": [
    "Factory.print_n_coffee_machine()"
   ]
  },
  {
   "cell_type": "code",
   "execution_count": null,
   "id": "eee15226-a65a-4d58-a317-9b22fdbb9e20",
   "metadata": {},
   "outputs": [],
   "source": []
  },
  {
   "cell_type": "markdown",
   "id": "5d8bc42a-9dbf-42d3-9537-565116c52b36",
   "metadata": {},
   "source": [
    "## 추상 클래스 abc(abstract base class) 모듈 필요\n",
    "* 추상클래스는 추상클래스를 상속받아 클래스르 만들 때 반드시 만들어야 하는 메소드를 지정해 주는 클래스\n",
    "* 규칙을 부여해서 그 규칙에 따라 클래스를 만들도록 함\n",
    "* 추상클래스를 상속받은 클래스는 반드시 추상클래스에서 정의한 매소드를 overriding으로 구현해야한다."
   ]
  },
  {
   "cell_type": "code",
   "execution_count": 168,
   "id": "17376be3-d2b4-44d8-aaec-16ba6330bf21",
   "metadata": {},
   "outputs": [],
   "source": [
    "from abc import *"
   ]
  },
  {
   "cell_type": "code",
   "execution_count": 181,
   "id": "b0e2fee7-8032-4df4-8eb7-f51532496129",
   "metadata": {},
   "outputs": [],
   "source": [
    "# 추상클래스\n",
    "class CoffeeBase(metaclass = ABCMeta):\n",
    "    @abstractmethod\n",
    "    def bean_input(self):\n",
    "        pass\n",
    "    @abstractmethod\n",
    "    def grind(self):\n",
    "        pass\n",
    "\n",
    "class CoffeeMachine(CoffeeBase):\n",
    "    def bean_input(self):\n",
    "        print('커피 원두 넣기')\n"
   ]
  },
  {
   "cell_type": "code",
   "execution_count": 182,
   "id": "288f52ec-e711-426e-a890-aa66e3962384",
   "metadata": {},
   "outputs": [],
   "source": [
    "# 추상클래스\n",
    "class CoffeeBase2(metaclass = ABCMeta):\n",
    "    @abstractmethod\n",
    "    def bean_input(self):\n",
    "        pass\n",
    "    @abstractmethod\n",
    "    def grind(self):\n",
    "        pass\n",
    "\n",
    "class CoffeeMachine2(CoffeeBase):\n",
    "    def bean_input(self):\n",
    "        print('커피 원두 넣기')\n",
    "\n",
    "    def grind(self):\n",
    "        print(\"커피 원두 분쇄하기\")"
   ]
  },
  {
   "cell_type": "code",
   "execution_count": 173,
   "id": "b4f9c91d-a049-4c24-9b65-8affbc755999",
   "metadata": {},
   "outputs": [
    {
     "ename": "TypeError",
     "evalue": "Can't instantiate abstract class CoffeeBase with abstract methods bean_input, grind",
     "output_type": "error",
     "traceback": [
      "\u001b[1;31m---------------------------------------------------------------------------\u001b[0m",
      "\u001b[1;31mTypeError\u001b[0m                                 Traceback (most recent call last)",
      "Cell \u001b[1;32mIn[173], line 2\u001b[0m\n\u001b[0;32m      1\u001b[0m \u001b[38;5;66;03m# 추상 클래스는 인스턴스 생성 불가\u001b[39;00m\n\u001b[1;32m----> 2\u001b[0m sam \u001b[38;5;241m=\u001b[39m \u001b[43mCoffeeBase\u001b[49m\u001b[43m(\u001b[49m\u001b[43m)\u001b[49m\n",
      "\u001b[1;31mTypeError\u001b[0m: Can't instantiate abstract class CoffeeBase with abstract methods bean_input, grind"
     ]
    }
   ],
   "source": [
    "# 추상 클래스는 인스턴스 생성 불가\n",
    "sam = CoffeeBase()"
   ]
  },
  {
   "cell_type": "code",
   "execution_count": 185,
   "id": "c01afa3e-be9d-446c-813f-20fa38c20e8c",
   "metadata": {},
   "outputs": [
    {
     "ename": "TypeError",
     "evalue": "Can't instantiate abstract class CoffeeMachine with abstract method grind",
     "output_type": "error",
     "traceback": [
      "\u001b[1;31m---------------------------------------------------------------------------\u001b[0m",
      "\u001b[1;31mTypeError\u001b[0m                                 Traceback (most recent call last)",
      "Cell \u001b[1;32mIn[185], line 1\u001b[0m\n\u001b[1;32m----> 1\u001b[0m sally \u001b[38;5;241m=\u001b[39m \u001b[43mCoffeeMachine\u001b[49m\u001b[43m(\u001b[49m\u001b[43m)\u001b[49m\n\u001b[0;32m      2\u001b[0m \u001b[38;5;66;03m# 틀린이유는 1은 추상클래스를 상속받았는데 함수가 다 포함되있지 않아서\u001b[39;00m\n",
      "\u001b[1;31mTypeError\u001b[0m: Can't instantiate abstract class CoffeeMachine with abstract method grind"
     ]
    }
   ],
   "source": [
    "sally = CoffeeMachine()\n",
    "# 틀린이유는 1은 추상클래스를 상속받았는데 함수가 다 포함되있지 않아서"
   ]
  },
  {
   "cell_type": "code",
   "execution_count": 186,
   "id": "a4d4376f-4508-4c32-9818-ef4d9131d7bc",
   "metadata": {},
   "outputs": [],
   "source": [
    "john = CoffeeMachine2()"
   ]
  },
  {
   "cell_type": "code",
   "execution_count": 187,
   "id": "159aef42-7bc0-4341-95fa-1a2ebde2b498",
   "metadata": {},
   "outputs": [
    {
     "name": "stdout",
     "output_type": "stream",
     "text": [
      "커피 원두 넣기\n"
     ]
    }
   ],
   "source": [
    "john.bean_input()"
   ]
  },
  {
   "cell_type": "code",
   "execution_count": 189,
   "id": "c532bce1-38b1-4877-bef3-7c51a680804c",
   "metadata": {},
   "outputs": [
    {
     "name": "stdout",
     "output_type": "stream",
     "text": [
      "커피 원두 분쇄하기\n"
     ]
    }
   ],
   "source": [
    "john.grind()"
   ]
  },
  {
   "cell_type": "code",
   "execution_count": null,
   "id": "f488f0c5-fa1c-4e16-bfcc-421c260386fd",
   "metadata": {},
   "outputs": [],
   "source": []
  },
  {
   "cell_type": "code",
   "execution_count": null,
   "id": "41cbf8d1-a6a9-4a24-891c-4ee017f061be",
   "metadata": {},
   "outputs": [],
   "source": []
  },
  {
   "cell_type": "code",
   "execution_count": null,
   "id": "b82ab3b7-b6e9-47ca-b7ff-42a400e333b9",
   "metadata": {},
   "outputs": [],
   "source": []
  },
  {
   "cell_type": "code",
   "execution_count": null,
   "id": "d34bc8de-e9c0-4209-a3d2-6cd029d3960d",
   "metadata": {},
   "outputs": [],
   "source": []
  },
  {
   "cell_type": "code",
   "execution_count": null,
   "id": "3e61b9ed-8d17-45fc-b713-31802267a5a4",
   "metadata": {},
   "outputs": [],
   "source": []
  },
  {
   "cell_type": "code",
   "execution_count": null,
   "id": "94a3fc6c-e497-4873-b194-4162818a8ada",
   "metadata": {},
   "outputs": [],
   "source": []
  },
  {
   "cell_type": "code",
   "execution_count": null,
   "id": "7c35916d-a29d-4029-9e3e-b2de086fa24a",
   "metadata": {},
   "outputs": [],
   "source": []
  },
  {
   "cell_type": "code",
   "execution_count": null,
   "id": "bb9fd6f2-2007-421b-bba9-b9ea84617f7a",
   "metadata": {},
   "outputs": [],
   "source": []
  },
  {
   "cell_type": "code",
   "execution_count": null,
   "id": "c2dc9d0f-df53-465f-9841-56915b147cf9",
   "metadata": {},
   "outputs": [],
   "source": []
  },
  {
   "cell_type": "code",
   "execution_count": null,
   "id": "056ac357-d727-443f-b3b5-047ed487a52f",
   "metadata": {},
   "outputs": [],
   "source": []
  },
  {
   "cell_type": "code",
   "execution_count": null,
   "id": "9e51c2b5-2abd-466b-878b-27e63f381a7e",
   "metadata": {},
   "outputs": [],
   "source": []
  },
  {
   "cell_type": "code",
   "execution_count": null,
   "id": "4e1cd0ce-501a-46b4-ad33-29bfdc363d5a",
   "metadata": {},
   "outputs": [],
   "source": []
  },
  {
   "cell_type": "code",
   "execution_count": null,
   "id": "a207679f-b24c-4659-9e53-e0802eecfc51",
   "metadata": {},
   "outputs": [],
   "source": []
  },
  {
   "cell_type": "code",
   "execution_count": null,
   "id": "e9390769-f466-47f8-8575-cc0b28ab3363",
   "metadata": {},
   "outputs": [],
   "source": []
  },
  {
   "cell_type": "code",
   "execution_count": null,
   "id": "8fbe94a0-49c1-4adc-81bb-2bec372340a4",
   "metadata": {},
   "outputs": [],
   "source": []
  }
 ],
 "metadata": {
  "kernelspec": {
   "display_name": "Python 3 (ipykernel)",
   "language": "python",
   "name": "python3"
  },
  "language_info": {
   "codemirror_mode": {
    "name": "ipython",
    "version": 3
   },
   "file_extension": ".py",
   "mimetype": "text/x-python",
   "name": "python",
   "nbconvert_exporter": "python",
   "pygments_lexer": "ipython3",
   "version": "3.10.14"
  }
 },
 "nbformat": 4,
 "nbformat_minor": 5
}
