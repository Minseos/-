{
 "cells": [
  {
   "cell_type": "markdown",
   "id": "f648a015-e417-493e-8eb3-c2013ce8cca9",
   "metadata": {},
   "source": [
    "# 딕셔너리 dict 사용하기\n",
    "* 딕셔너리형(dictionary) 변수 JSON형이라고도 함.\n",
    "* 웹상에서 가장 많이 사용되는 자료형\n",
    "* 딕셔너리를 잘 이해하면 pandas도 쉽게 이해 가능\n",
    "* key : value로 이루어진 자료형\n",
    "* key를 호출하면 value가 나온다"
   ]
  },
  {
   "cell_type": "markdown",
   "id": "dfd06cad-5ad1-44a8-9876-305fa4db01d6",
   "metadata": {},
   "source": [
    "## 딕셔너리 만들기 : {key : value, key : value}"
   ]
  },
  {
   "cell_type": "code",
   "execution_count": 1,
   "id": "d0f30659-1e9a-4e7c-9bc1-d86d4010d21f",
   "metadata": {},
   "outputs": [
    {
     "data": {
      "text/plain": [
       "{'년월': '20240710', '국가': '미국', '방문자수': 1000}"
      ]
     },
     "execution_count": 1,
     "metadata": {},
     "output_type": "execute_result"
    }
   ],
   "source": [
    "d = {'년월' : '20240710', '국가' : '미국', '방문자수': 1000}\n",
    "d"
   ]
  },
  {
   "cell_type": "code",
   "execution_count": 2,
   "id": "1a669c7f-a2ff-4d89-b5c2-637e8f85e91e",
   "metadata": {},
   "outputs": [
    {
     "data": {
      "text/plain": [
       "'20240710'"
      ]
     },
     "execution_count": 2,
     "metadata": {},
     "output_type": "execute_result"
    }
   ],
   "source": [
    "d['년월']"
   ]
  },
  {
   "cell_type": "code",
   "execution_count": 3,
   "id": "16025539-a3b1-4dc7-83c5-170dddccf89e",
   "metadata": {},
   "outputs": [
    {
     "data": {
      "text/plain": [
       "1000"
      ]
     },
     "execution_count": 3,
     "metadata": {},
     "output_type": "execute_result"
    }
   ],
   "source": [
    "d['방문자수']"
   ]
  },
  {
   "cell_type": "markdown",
   "id": "6c2548f7-4646-4bb0-a836-df1424d94581",
   "metadata": {},
   "source": [
    "### 딕셔너리 key의 자료형\n",
    "* 문자열, 정수, 실수, boolean(True, False), tuple\n",
    "* list, dict는 key가 될 수 없다."
   ]
  },
  {
   "cell_type": "code",
   "execution_count": 6,
   "id": "6c4c8af2-984e-4b9b-a459-85f98aff25a9",
   "metadata": {},
   "outputs": [],
   "source": [
    "e = {'백' : 100, 100 : '백', 3.5 : [3.6, 3.7], False : 0, (0,'서울') : \"종로구\",}\n"
   ]
  },
  {
   "cell_type": "code",
   "execution_count": 5,
   "id": "8d2bf664-b139-433a-bc8d-c275879c409c",
   "metadata": {},
   "outputs": [
    {
     "data": {
      "text/plain": [
       "{'백': 100, 100: '백', 3.5: [3.6, 3.7], False: 0, (0, '서울'): '종로구'}"
      ]
     },
     "execution_count": 5,
     "metadata": {},
     "output_type": "execute_result"
    }
   ],
   "source": [
    "e"
   ]
  },
  {
   "cell_type": "code",
   "execution_count": 7,
   "id": "934bca73-2f2b-4f6e-854b-3f3862234096",
   "metadata": {},
   "outputs": [
    {
     "data": {
      "text/plain": [
       "100"
      ]
     },
     "execution_count": 7,
     "metadata": {},
     "output_type": "execute_result"
    }
   ],
   "source": [
    "e['백']"
   ]
  },
  {
   "cell_type": "code",
   "execution_count": 9,
   "id": "11272823-e3a7-4572-94cf-132e36807d69",
   "metadata": {},
   "outputs": [
    {
     "data": {
      "text/plain": [
       "'백'"
      ]
     },
     "execution_count": 9,
     "metadata": {},
     "output_type": "execute_result"
    }
   ],
   "source": [
    "e[100]"
   ]
  },
  {
   "cell_type": "code",
   "execution_count": 10,
   "id": "734a180f-5324-44d3-91ff-818c133a84e9",
   "metadata": {},
   "outputs": [
    {
     "data": {
      "text/plain": [
       "[3.6, 3.7]"
      ]
     },
     "execution_count": 10,
     "metadata": {},
     "output_type": "execute_result"
    }
   ],
   "source": [
    "e[3.5]"
   ]
  },
  {
   "cell_type": "code",
   "execution_count": 12,
   "id": "6db6fc6d-5a29-48a7-bf7b-7399912e8c74",
   "metadata": {},
   "outputs": [
    {
     "data": {
      "text/plain": [
       "0"
      ]
     },
     "execution_count": 12,
     "metadata": {},
     "output_type": "execute_result"
    }
   ],
   "source": [
    "e[False]"
   ]
  },
  {
   "cell_type": "code",
   "execution_count": 13,
   "id": "69ce2fef-7998-4257-a96f-02c529de627a",
   "metadata": {},
   "outputs": [
    {
     "data": {
      "text/plain": [
       "'종로구'"
      ]
     },
     "execution_count": 13,
     "metadata": {},
     "output_type": "execute_result"
    }
   ],
   "source": [
    "e[(0, '서울')]"
   ]
  },
  {
   "cell_type": "code",
   "execution_count": null,
   "id": "09a5d39a-4315-42b6-9686-07d2bdf259b3",
   "metadata": {},
   "outputs": [],
   "source": []
  },
  {
   "cell_type": "markdown",
   "id": "e37e2b94-77ea-4d90-843b-62bd9dff4c7f",
   "metadata": {},
   "source": [
    "## 딕셔너리 value의 자료형\n",
    "* value는 모든 자료형이 올 수 있다."
   ]
  },
  {
   "cell_type": "code",
   "execution_count": 14,
   "id": "548cf5cb-240c-46c3-a4c5-30d7a93ab640",
   "metadata": {},
   "outputs": [
    {
     "data": {
      "text/plain": [
       "{'정수': 100,\n",
       " '실수': 13.5,\n",
       " '문자열': '딕셔너리의 값',\n",
       " '리스트': [1, 2, 3, 4],\n",
       " '튜플': (1, 2, 3, 4),\n",
       " '딕셔너리': {'key': 'value'},\n",
       " '블린': True}"
      ]
     },
     "execution_count": 14,
     "metadata": {},
     "output_type": "execute_result"
    }
   ],
   "source": [
    "f = {'정수' : 100, '실수' : 13.5, '문자열' : '딕셔너리의 값', '리스트' : [1,2,3,4], '튜플' : (1,2,3,4), '딕셔너리':{'key' : 'value'}, '블린' : True}\n",
    "f"
   ]
  },
  {
   "cell_type": "code",
   "execution_count": 18,
   "id": "7146c7af-58d4-41bf-b91c-6e3c19e85102",
   "metadata": {},
   "outputs": [
    {
     "data": {
      "text/plain": [
       "3"
      ]
     },
     "execution_count": 18,
     "metadata": {},
     "output_type": "execute_result"
    }
   ],
   "source": [
    "f['리스트'][2]"
   ]
  },
  {
   "cell_type": "code",
   "execution_count": 21,
   "id": "e667c45f-df76-4f5c-8909-5502593ae953",
   "metadata": {},
   "outputs": [
    {
     "data": {
      "text/plain": [
       "'value'"
      ]
     },
     "execution_count": 21,
     "metadata": {},
     "output_type": "execute_result"
    }
   ],
   "source": [
    "f['딕셔너리']['key']"
   ]
  },
  {
   "cell_type": "code",
   "execution_count": null,
   "id": "cbe0010e-4c74-405b-ae5a-2b1f174aa4ba",
   "metadata": {},
   "outputs": [],
   "source": []
  },
  {
   "cell_type": "markdown",
   "id": "6adfb265-3665-482e-b0f5-494f5b6bf252",
   "metadata": {},
   "source": [
    "## 빈 딕셔너리 만들기\n",
    "* {}\n",
    "* dict()"
   ]
  },
  {
   "cell_type": "code",
   "execution_count": 22,
   "id": "7489416c-d2c5-429f-959b-4d5b236eeac1",
   "metadata": {},
   "outputs": [
    {
     "data": {
      "text/plain": [
       "{}"
      ]
     },
     "execution_count": 22,
     "metadata": {},
     "output_type": "execute_result"
    }
   ],
   "source": [
    "g = {}\n",
    "g"
   ]
  },
  {
   "cell_type": "code",
   "execution_count": 23,
   "id": "0f8f3cfe-a5a5-4f26-827f-a4f2903fd1bd",
   "metadata": {},
   "outputs": [
    {
     "data": {
      "text/plain": [
       "{}"
      ]
     },
     "execution_count": 23,
     "metadata": {},
     "output_type": "execute_result"
    }
   ],
   "source": [
    "h = dict()\n",
    "h"
   ]
  },
  {
   "cell_type": "markdown",
   "id": "51060d33-dc45-4b1c-a8d7-4fd61cdad31a",
   "metadata": {},
   "source": [
    "## 딕셔너리에 자료 추가하기\n",
    "* 변수['key'] = value"
   ]
  },
  {
   "cell_type": "code",
   "execution_count": 24,
   "id": "e1b8e6a0-bfa0-4f16-83d2-66cbb7bab12e",
   "metadata": {},
   "outputs": [
    {
     "data": {
      "text/plain": [
       "{'번호': 0}"
      ]
     },
     "execution_count": 24,
     "metadata": {},
     "output_type": "execute_result"
    }
   ],
   "source": [
    "g['번호'] = 0\n",
    "g"
   ]
  },
  {
   "cell_type": "code",
   "execution_count": 25,
   "id": "153328dc-fffd-415a-8749-ba70281ba3e0",
   "metadata": {},
   "outputs": [
    {
     "data": {
      "text/plain": [
       "{'번호': 0, '이름': '홍길동'}"
      ]
     },
     "execution_count": 25,
     "metadata": {},
     "output_type": "execute_result"
    }
   ],
   "source": [
    "g['이름'] = '홍길동'\n",
    "g"
   ]
  },
  {
   "cell_type": "code",
   "execution_count": 26,
   "id": "5755cfa2-eed8-436f-9fca-a53539f88e76",
   "metadata": {},
   "outputs": [
    {
     "data": {
      "text/plain": [
       "{'번호': 0, '이름': '홍길동'}"
      ]
     },
     "execution_count": 26,
     "metadata": {},
     "output_type": "execute_result"
    }
   ],
   "source": [
    "g"
   ]
  },
  {
   "cell_type": "markdown",
   "id": "ffd7fa39-2741-4c0c-8c5b-e3025c26700f",
   "metadata": {},
   "source": [
    "## 딕셔너리 value 수정하기\n",
    "* g['key'] = 새 value"
   ]
  },
  {
   "cell_type": "code",
   "execution_count": 27,
   "id": "93be80c9-1cff-4571-ab6d-2e7b58aaad42",
   "metadata": {},
   "outputs": [
    {
     "data": {
      "text/plain": [
       "{'번호': 2, '이름': '홍길동'}"
      ]
     },
     "execution_count": 27,
     "metadata": {},
     "output_type": "execute_result"
    }
   ],
   "source": [
    "g['번호'] =  2\n",
    "g"
   ]
  },
  {
   "cell_type": "code",
   "execution_count": 28,
   "id": "86aa4d3c-af10-4605-906e-db46a9705419",
   "metadata": {},
   "outputs": [
    {
     "data": {
      "text/plain": [
       "{'번호': 2, '이름': '김삼순'}"
      ]
     },
     "execution_count": 28,
     "metadata": {},
     "output_type": "execute_result"
    }
   ],
   "source": [
    "g['이름'] = '김삼순'\n",
    "g"
   ]
  },
  {
   "cell_type": "markdown",
   "id": "1ca894a6-8ed0-4d54-b021-49999d07d4a8",
   "metadata": {},
   "source": [
    "## dict()로 딕셔너리 만들기"
   ]
  },
  {
   "cell_type": "markdown",
   "id": "e239d446-98be-4379-b6b0-2d4f70346d98",
   "metadata": {},
   "source": [
    "### 1) dict(key1 = value1, key2 = 'value2')\n",
    "* key에 '', \"\"를 사용하지 않는다.\n",
    "* key는 모두 문자로 변환된다.\n",
    "* value가 문자형 자료라면 반드시 \"\",\"가 필요하다"
   ]
  },
  {
   "cell_type": "code",
   "execution_count": 29,
   "id": "afff1694-25a5-450b-b497-bbf04a9b0d21",
   "metadata": {},
   "outputs": [],
   "source": [
    "d = dict(정수 = 100, 실수 = 13.5, 문자 = '문자열', 리스트 = [1,2,3], 튜플 = (4,5,6), 딕셔너리는 = {'key' : 'value'})"
   ]
  },
  {
   "cell_type": "code",
   "execution_count": 30,
   "id": "b43435c7-1742-4452-adef-7cd37c3064ff",
   "metadata": {},
   "outputs": [
    {
     "data": {
      "text/plain": [
       "{'정수': 100,\n",
       " '실수': 13.5,\n",
       " '문자': '문자열',\n",
       " '리스트': [1, 2, 3],\n",
       " '튜플': (4, 5, 6),\n",
       " '딕셔너리는': {'key': 'value'}}"
      ]
     },
     "execution_count": 30,
     "metadata": {},
     "output_type": "execute_result"
    }
   ],
   "source": [
    "d"
   ]
  },
  {
   "cell_type": "markdown",
   "id": "3b9f78f2-fc06-4789-8fbc-f05e7b91e3a2",
   "metadata": {},
   "source": [
    "### 2) dict([(key1, value1), (key2, value2)]) 형식으로 만들기\n",
    "* 리스트 안에 튜플을 나열해 만듦"
   ]
  },
  {
   "cell_type": "code",
   "execution_count": 32,
   "id": "3621c55f-2f3a-4f2b-a880-ad1f92716107",
   "metadata": {},
   "outputs": [
    {
     "data": {
      "text/plain": [
       "{'key1': 100, '실수': 3.14, '리스트': [1, 2, 3]}"
      ]
     },
     "execution_count": 32,
     "metadata": {},
     "output_type": "execute_result"
    }
   ],
   "source": [
    "d2 = dict([('key1', 100),('실수', 3.14), ('리스트',[1,2,3])])\n",
    "d2"
   ]
  },
  {
   "cell_type": "markdown",
   "id": "e784c853-d958-4e02-a7ac-a466ceabbdf4",
   "metadata": {},
   "source": [
    "### 3) dict(zip([key1,key2], [value1, value2])) 형식으로 만들기\n",
    "* key 묶음 리스트와 value 묶음 리스트를 zip 함수로 합친 후 dict로 만듦"
   ]
  },
  {
   "cell_type": "code",
   "execution_count": 34,
   "id": "babfa846-99fc-4952-8910-79b8aa589c63",
   "metadata": {},
   "outputs": [
    {
     "data": {
      "text/plain": [
       "{'문자열': '딕셔너리의 값',\n",
       " '리스트': [1, 2, 3, 4],\n",
       " '튜플': (5, 6, 7, 8),\n",
       " '딕셔너리': {'key': 'value'},\n",
       " '블린': True}"
      ]
     },
     "execution_count": 34,
     "metadata": {},
     "output_type": "execute_result"
    }
   ],
   "source": [
    "d3 = dict(zip(['문자열', '리스트', '튜플', '딕셔너리', '블린'],['딕셔너리의 값', [1,2,3,4], (5,6,7,8), {'key' : 'value'},True]))\n",
    "d3"
   ]
  },
  {
   "cell_type": "markdown",
   "id": "4de6aca3-7b33-4a52-8432-23cda57d9d2c",
   "metadata": {},
   "source": [
    "### 딕셔너리에서 값 삭제하기"
   ]
  },
  {
   "cell_type": "code",
   "execution_count": 35,
   "id": "a15e797a-c245-4953-b896-5bca600210b1",
   "metadata": {},
   "outputs": [
    {
     "data": {
      "text/plain": [
       "{'문자열': '딕셔너리의 값',\n",
       " '리스트': [1, 2, 3, 4],\n",
       " '튜플': (5, 6, 7, 8),\n",
       " '딕셔너리': {'key': 'value'},\n",
       " '블린': True}"
      ]
     },
     "execution_count": 35,
     "metadata": {},
     "output_type": "execute_result"
    }
   ],
   "source": [
    "d3"
   ]
  },
  {
   "cell_type": "code",
   "execution_count": 36,
   "id": "a3a78310-601e-4f6e-becf-75d70541e964",
   "metadata": {},
   "outputs": [],
   "source": [
    "d3['믄자열'] = '오타가 난 키값'"
   ]
  },
  {
   "cell_type": "code",
   "execution_count": 37,
   "id": "e8417410-b0c1-4a4a-b6bb-0782f1c8096f",
   "metadata": {},
   "outputs": [
    {
     "data": {
      "text/plain": [
       "{'문자열': '딕셔너리의 값',\n",
       " '리스트': [1, 2, 3, 4],\n",
       " '튜플': (5, 6, 7, 8),\n",
       " '딕셔너리': {'key': 'value'},\n",
       " '블린': True,\n",
       " '믄자열': '오타가 난 키값'}"
      ]
     },
     "execution_count": 37,
     "metadata": {},
     "output_type": "execute_result"
    }
   ],
   "source": [
    "d3"
   ]
  },
  {
   "cell_type": "code",
   "execution_count": null,
   "id": "e55dc775-c251-4731-a79d-5e9922faf3d4",
   "metadata": {},
   "outputs": [],
   "source": []
  },
  {
   "cell_type": "markdown",
   "id": "3c009025-4987-42bf-87de-7b75c14ca9bc",
   "metadata": {},
   "source": [
    "* del 변수명['key'] key와 value가 동시 삭제"
   ]
  },
  {
   "cell_type": "code",
   "execution_count": 38,
   "id": "e79f2bf5-0723-419b-ba0a-3a9be89a8afc",
   "metadata": {},
   "outputs": [
    {
     "data": {
      "text/plain": [
       "{'문자열': '딕셔너리의 값',\n",
       " '리스트': [1, 2, 3, 4],\n",
       " '튜플': (5, 6, 7, 8),\n",
       " '딕셔너리': {'key': 'value'},\n",
       " '블린': True}"
      ]
     },
     "execution_count": 38,
     "metadata": {},
     "output_type": "execute_result"
    }
   ],
   "source": [
    "del d3['믄자열']\n",
    "d3"
   ]
  },
  {
   "cell_type": "code",
   "execution_count": 39,
   "id": "68024c6a-3879-4846-bf50-c4b3e6461215",
   "metadata": {},
   "outputs": [
    {
     "data": {
      "text/plain": [
       "2"
      ]
     },
     "execution_count": 39,
     "metadata": {},
     "output_type": "execute_result"
    }
   ],
   "source": [
    "d3['리스트'][1]"
   ]
  },
  {
   "cell_type": "code",
   "execution_count": 40,
   "id": "9b3f3062-d600-4563-8ee1-16b087f1ae60",
   "metadata": {},
   "outputs": [
    {
     "data": {
      "text/plain": [
       "[1, 2, 3, 4]"
      ]
     },
     "execution_count": 40,
     "metadata": {},
     "output_type": "execute_result"
    }
   ],
   "source": [
    "d3['리스트']"
   ]
  },
  {
   "cell_type": "code",
   "execution_count": 41,
   "id": "f7a62e95-0915-4a4c-91af-15eddac876a7",
   "metadata": {},
   "outputs": [
    {
     "data": {
      "text/plain": [
       "4"
      ]
     },
     "execution_count": 41,
     "metadata": {},
     "output_type": "execute_result"
    }
   ],
   "source": [
    "d3['리스트'].pop()"
   ]
  },
  {
   "cell_type": "code",
   "execution_count": 42,
   "id": "5c413a73-9cd5-44f3-96b9-886d731f53e6",
   "metadata": {},
   "outputs": [
    {
     "data": {
      "text/plain": [
       "{'문자열': '딕셔너리의 값',\n",
       " '리스트': [1, 2, 3],\n",
       " '튜플': (5, 6, 7, 8),\n",
       " '딕셔너리': {'key': 'value'},\n",
       " '블린': True}"
      ]
     },
     "execution_count": 42,
     "metadata": {},
     "output_type": "execute_result"
    }
   ],
   "source": [
    "d3"
   ]
  },
  {
   "cell_type": "code",
   "execution_count": 45,
   "id": "de4557d4-c1bb-4345-8068-d496e7c18459",
   "metadata": {},
   "outputs": [],
   "source": [
    "d3['리스트'].insert(1, 2) #1의 자리에 2를 넣어라"
   ]
  },
  {
   "cell_type": "code",
   "execution_count": 46,
   "id": "89f6ab6a-fd46-48c5-8683-da46d55fa4ef",
   "metadata": {},
   "outputs": [
    {
     "data": {
      "text/plain": [
       "{'문자열': '딕셔너리의 값',\n",
       " '리스트': [1, 2, 2, 2, 3],\n",
       " '튜플': (5, 6, 7, 8),\n",
       " '딕셔너리': {'key': 'value'},\n",
       " '블린': True}"
      ]
     },
     "execution_count": 46,
     "metadata": {},
     "output_type": "execute_result"
    }
   ],
   "source": [
    "d3"
   ]
  },
  {
   "cell_type": "code",
   "execution_count": null,
   "id": "4c86cb2a-951b-4816-85de-930d74290279",
   "metadata": {},
   "outputs": [],
   "source": []
  },
  {
   "cell_type": "markdown",
   "id": "08f10c96-8ba2-494b-9242-14d449d63320",
   "metadata": {},
   "source": [
    "### 딕셔너리 안에 특정 key가 있는지 확인하기\n",
    "* in, not in 연산자 사용"
   ]
  },
  {
   "cell_type": "code",
   "execution_count": 47,
   "id": "a7a6b258-e078-4d1b-82a5-1ad59a459816",
   "metadata": {},
   "outputs": [
    {
     "data": {
      "text/plain": [
       "True"
      ]
     },
     "execution_count": 47,
     "metadata": {},
     "output_type": "execute_result"
    }
   ],
   "source": [
    "'리스트' in d3"
   ]
  },
  {
   "cell_type": "code",
   "execution_count": 48,
   "id": "76db786e-449f-4f90-a7f3-894792750f2d",
   "metadata": {},
   "outputs": [
    {
     "data": {
      "text/plain": [
       "True"
      ]
     },
     "execution_count": 48,
     "metadata": {},
     "output_type": "execute_result"
    }
   ],
   "source": [
    "'이름' not in d3"
   ]
  },
  {
   "cell_type": "markdown",
   "id": "aab80440-31ae-4229-aff8-8eb3e8cf2812",
   "metadata": {},
   "source": [
    "### len()로 딕셔너리 key 개수 구하기"
   ]
  },
  {
   "cell_type": "code",
   "execution_count": 49,
   "id": "7068923a-e0c3-4283-955e-a98fe66a6af1",
   "metadata": {},
   "outputs": [
    {
     "data": {
      "text/plain": [
       "5"
      ]
     },
     "execution_count": 49,
     "metadata": {},
     "output_type": "execute_result"
    }
   ],
   "source": [
    "len(d3)"
   ]
  },
  {
   "cell_type": "markdown",
   "id": "ac09e2ea-07f9-4035-a7bb-dff565bf6b31",
   "metadata": {},
   "source": [
    "### 딕셔너리 함수 사용하기"
   ]
  },
  {
   "cell_type": "markdown",
   "id": "63fc959a-5e33-44c5-a736-eee0a0cdb6f6",
   "metadata": {},
   "source": [
    "### 1) setdefault(key,value)\n",
    "* 딕셔너리에 key와 value를 추가\n",
    "* key만 지정하면 value는 'None'으로 입력 됨"
   ]
  },
  {
   "cell_type": "code",
   "execution_count": 50,
   "id": "04ee2033-5773-4e36-a199-779c09673725",
   "metadata": {},
   "outputs": [
    {
     "data": {
      "text/plain": [
       "{'문자열': '딕셔너리의 값',\n",
       " '리스트': [1, 2, 2, 2, 3],\n",
       " '튜플': (5, 6, 7, 8),\n",
       " '딕셔너리': {'key': 'value'},\n",
       " '블린': True}"
      ]
     },
     "execution_count": 50,
     "metadata": {},
     "output_type": "execute_result"
    }
   ],
   "source": [
    "d3"
   ]
  },
  {
   "cell_type": "code",
   "execution_count": 51,
   "id": "69d17f9f-7c1a-4164-9fbf-2160a87567fe",
   "metadata": {},
   "outputs": [
    {
     "data": {
      "text/plain": [
       "{'문자열': '딕셔너리의 값',\n",
       " '리스트': [1, 2, 2, 2, 3],\n",
       " '튜플': (5, 6, 7, 8),\n",
       " '딕셔너리': {'key': 'value'},\n",
       " '블린': True,\n",
       " 'd': None}"
      ]
     },
     "execution_count": 51,
     "metadata": {},
     "output_type": "execute_result"
    }
   ],
   "source": [
    "d3.setdefault('d')\n",
    "d3"
   ]
  },
  {
   "cell_type": "code",
   "execution_count": 52,
   "id": "b70f2c30-b9e2-4b80-8c59-0af34a643eaa",
   "metadata": {},
   "outputs": [
    {
     "data": {
      "text/plain": [
       "{'문자열': '딕셔너리의 값',\n",
       " '리스트': [1, 2, 2, 2, 3],\n",
       " '튜플': (5, 6, 7, 8),\n",
       " '딕셔너리': {'key': 'value'},\n",
       " '블린': True,\n",
       " 'd': None,\n",
       " 'e': 123}"
      ]
     },
     "execution_count": 52,
     "metadata": {},
     "output_type": "execute_result"
    }
   ],
   "source": [
    "d3.setdefault('e', 123)\n",
    "d3"
   ]
  },
  {
   "cell_type": "markdown",
   "id": "8d12a555-e8f8-492f-a078-0d82f6920104",
   "metadata": {},
   "source": [
    "#### 딕셔너리는 key를 중복할 수 없다.\n",
    "#### 만약 key가 중복되면 나중에 할당한 값으로 변한다."
   ]
  },
  {
   "cell_type": "code",
   "execution_count": 57,
   "id": "021d9248-089b-45e7-9f40-ddcb0126ec17",
   "metadata": {},
   "outputs": [
    {
     "data": {
      "text/plain": [
       "{'문자열': '딕셔너리의 값',\n",
       " '리스트': '리스트지',\n",
       " '튜플': (5, 6, 7, 8),\n",
       " '딕셔너리': {'key': 'value'},\n",
       " '블린': True,\n",
       " 'd': None,\n",
       " 'e': 123}"
      ]
     },
     "execution_count": 57,
     "metadata": {},
     "output_type": "execute_result"
    }
   ],
   "source": [
    "d4 = {'문자열': '딕셔너리의 값',\n",
    " '리스트': [1, 2, 2, 2, 3],\n",
    " '튜플': (5, 6, 7, 8),\n",
    " '딕셔너리': {'key': 'value'},\n",
    " '블린': True,\n",
    " 'd': None,\n",
    " 'e': 123, '리스트':'리스트지'}\n",
    "d4"
   ]
  },
  {
   "cell_type": "code",
   "execution_count": 58,
   "id": "0f365993-3505-409e-9d2a-d3c18b807005",
   "metadata": {},
   "outputs": [],
   "source": [
    "d4['리스트'] = '새로운 값'"
   ]
  },
  {
   "cell_type": "code",
   "execution_count": 59,
   "id": "95631de2-7794-435d-a6af-ccb3725f826f",
   "metadata": {},
   "outputs": [
    {
     "data": {
      "text/plain": [
       "{'문자열': '딕셔너리의 값',\n",
       " '리스트': '새로운 값',\n",
       " '튜플': (5, 6, 7, 8),\n",
       " '딕셔너리': {'key': 'value'},\n",
       " '블린': True,\n",
       " 'd': None,\n",
       " 'e': 123}"
      ]
     },
     "execution_count": 59,
     "metadata": {},
     "output_type": "execute_result"
    }
   ],
   "source": [
    "d4"
   ]
  },
  {
   "cell_type": "code",
   "execution_count": null,
   "id": "87f80f17-9ec8-4e98-a0b9-e792ff94b442",
   "metadata": {},
   "outputs": [],
   "source": []
  },
  {
   "cell_type": "markdown",
   "id": "724a42f8-04bf-46f2-ab7f-3d95660d4ca6",
   "metadata": {},
   "source": [
    "* setdefault는 기존에 key가 있는 경우 value를 업데이트 하지 않음"
   ]
  },
  {
   "cell_type": "code",
   "execution_count": 60,
   "id": "98550b6f-2f4a-4955-8f46-d6fa0f4047c9",
   "metadata": {},
   "outputs": [
    {
     "data": {
      "text/plain": [
       "{'문자열': '딕셔너리의 값',\n",
       " '리스트': '새로운 값',\n",
       " '튜플': (5, 6, 7, 8),\n",
       " '딕셔너리': {'key': 'value'},\n",
       " '블린': True,\n",
       " 'd': None,\n",
       " 'e': 123}"
      ]
     },
     "execution_count": 60,
     "metadata": {},
     "output_type": "execute_result"
    }
   ],
   "source": [
    "d4.setdefault('e', 'eeee')\n",
    "d4"
   ]
  },
  {
   "cell_type": "markdown",
   "id": "42b56680-d770-4814-adf6-b5fae26e1ae4",
   "metadata": {},
   "source": [
    "### 2) update(key = value)\n",
    "* key는 문자형 key라도 '', \"\"를 사용하지 않음\n",
    "* key를 문자형이 아니라 정수, 실수, 튜플로 넣을 경우에는  {key:value}형식으로 넣는다."
   ]
  },
  {
   "cell_type": "code",
   "execution_count": 61,
   "id": "c71c72b4-8cba-4631-bc35-af22ca427b9d",
   "metadata": {},
   "outputs": [
    {
     "data": {
      "text/plain": [
       "{'문자열': '딕셔너리의 값',\n",
       " '리스트': '새로운 값',\n",
       " '튜플': (5, 6, 7, 8),\n",
       " '딕셔너리': {'key': 'value'},\n",
       " '블린': True,\n",
       " 'd': None,\n",
       " 'e': 'eee'}"
      ]
     },
     "execution_count": 61,
     "metadata": {},
     "output_type": "execute_result"
    }
   ],
   "source": [
    "d4.update(e = \"eee\")\n",
    "d4"
   ]
  },
  {
   "cell_type": "code",
   "execution_count": 63,
   "id": "301e5ce7-ef82-4fd5-b740-893fcb18400f",
   "metadata": {},
   "outputs": [
    {
     "data": {
      "text/plain": [
       "{'문자열': '딕셔너리의 값',\n",
       " '리스트': '새로운 값',\n",
       " '튜플': (5, 6, 7, 8),\n",
       " '딕셔너리': {'key': 'value'},\n",
       " '블린': True,\n",
       " 'd': None,\n",
       " 'e': 'eee',\n",
       " 13: '십삼'}"
      ]
     },
     "execution_count": 63,
     "metadata": {},
     "output_type": "execute_result"
    }
   ],
   "source": [
    "d4.update({13 : \"십삼\"})\n",
    "d4"
   ]
  },
  {
   "cell_type": "code",
   "execution_count": 64,
   "id": "582058c1-0955-44cb-85c8-0377f45ba68a",
   "metadata": {},
   "outputs": [
    {
     "data": {
      "text/plain": [
       "{'문자열': '딕셔너리의 값',\n",
       " '리스트': '새로운 값',\n",
       " '튜플': (5, 6, 7, 8),\n",
       " '딕셔너리': {'key': 'value'},\n",
       " '블린': True,\n",
       " 'd': None,\n",
       " 'e': 'eee',\n",
       " 13: '십삼',\n",
       " (0, '도시'): '서울시'}"
      ]
     },
     "execution_count": 64,
     "metadata": {},
     "output_type": "execute_result"
    }
   ],
   "source": [
    "d4.update({(0,'도시') : '서울시'})\n",
    "d4"
   ]
  },
  {
   "cell_type": "code",
   "execution_count": 67,
   "id": "449005ed-6512-487a-90c3-fc559ab0adda",
   "metadata": {},
   "outputs": [
    {
     "data": {
      "text/plain": [
       "{'문자열': '딕셔너리의 값',\n",
       " '리스트': '새로운 값',\n",
       " '튜플': (5, 6, 7, 8),\n",
       " '딕셔너리': {'key': 'value'},\n",
       " '블린': True,\n",
       " 'd': None,\n",
       " 'e': 'eee',\n",
       " 13: '십삼',\n",
       " (0, '도시'): '서울시',\n",
       " 'a': '십',\n",
       " 'b': '이십',\n",
       " 'c': '삼십'}"
      ]
     },
     "execution_count": 67,
     "metadata": {},
     "output_type": "execute_result"
    }
   ],
   "source": [
    "d4.update([['a', '십'], ['b', '이십'], ['c', '삼십']])\n",
    "d4"
   ]
  },
  {
   "cell_type": "code",
   "execution_count": 68,
   "id": "d01dbbd4-f110-40cb-a029-3079e9e3e801",
   "metadata": {},
   "outputs": [
    {
     "data": {
      "text/plain": [
       "{'문자열': '딕셔너리의 값',\n",
       " '리스트': '새로운 값',\n",
       " '튜플': (5, 6, 7, 8),\n",
       " '딕셔너리': {'key': 'value'},\n",
       " '블린': True,\n",
       " 'd': '사십',\n",
       " 'e': '오십',\n",
       " 13: '십삼',\n",
       " (0, '도시'): '서울시',\n",
       " 'a': '십',\n",
       " 'b': '이십',\n",
       " 'c': '삼십',\n",
       " 'f': '육십'}"
      ]
     },
     "execution_count": 68,
     "metadata": {},
     "output_type": "execute_result"
    }
   ],
   "source": [
    "d4.update((('d', '사십'), ('e', '오십'), ('f', '육십')))\n",
    "d4"
   ]
  },
  {
   "cell_type": "code",
   "execution_count": 69,
   "id": "77f7c92d-bd63-4e75-a4e6-24d2f843c92b",
   "metadata": {},
   "outputs": [],
   "source": [
    "del d4['f']"
   ]
  },
  {
   "cell_type": "code",
   "execution_count": 70,
   "id": "5e337ef8-ea92-47ca-afef-62e3b163463c",
   "metadata": {},
   "outputs": [
    {
     "data": {
      "text/plain": [
       "{'문자열': '딕셔너리의 값',\n",
       " '리스트': '새로운 값',\n",
       " '튜플': (5, 6, 7, 8),\n",
       " '딕셔너리': {'key': 'value'},\n",
       " '블린': True,\n",
       " 'd': '사십',\n",
       " 'e': '오십',\n",
       " 13: '십삼',\n",
       " (0, '도시'): '서울시',\n",
       " 'a': '십',\n",
       " 'b': '이십',\n",
       " 'c': '삼십'}"
      ]
     },
     "execution_count": 70,
     "metadata": {},
     "output_type": "execute_result"
    }
   ],
   "source": [
    "d4"
   ]
  },
  {
   "cell_type": "code",
   "execution_count": 71,
   "id": "d2de20c2-5342-4882-bb8d-61acaf026b04",
   "metadata": {},
   "outputs": [
    {
     "data": {
      "text/plain": [
       "'삼십'"
      ]
     },
     "execution_count": 71,
     "metadata": {},
     "output_type": "execute_result"
    }
   ],
   "source": [
    "d4.pop('c')"
   ]
  },
  {
   "cell_type": "code",
   "execution_count": 72,
   "id": "56633175-2572-4301-929f-606141414d95",
   "metadata": {},
   "outputs": [
    {
     "data": {
      "text/plain": [
       "{'문자열': '딕셔너리의 값',\n",
       " '리스트': '새로운 값',\n",
       " '튜플': (5, 6, 7, 8),\n",
       " '딕셔너리': {'key': 'value'},\n",
       " '블린': True,\n",
       " 'd': '사십',\n",
       " 'e': '오십',\n",
       " 13: '십삼',\n",
       " (0, '도시'): '서울시',\n",
       " 'a': '십',\n",
       " 'b': '이십'}"
      ]
     },
     "execution_count": 72,
     "metadata": {},
     "output_type": "execute_result"
    }
   ],
   "source": [
    "d4"
   ]
  },
  {
   "cell_type": "code",
   "execution_count": 73,
   "id": "864f3fb1-2665-4252-a645-70475cdc0adc",
   "metadata": {},
   "outputs": [
    {
     "ename": "KeyError",
     "evalue": "'c'",
     "output_type": "error",
     "traceback": [
      "\u001b[1;31m---------------------------------------------------------------------------\u001b[0m",
      "\u001b[1;31mKeyError\u001b[0m                                  Traceback (most recent call last)",
      "Cell \u001b[1;32mIn[73], line 1\u001b[0m\n\u001b[1;32m----> 1\u001b[0m \u001b[38;5;28;01mdel\u001b[39;00m d4[\u001b[38;5;124m'\u001b[39m\u001b[38;5;124mc\u001b[39m\u001b[38;5;124m'\u001b[39m]\n",
      "\u001b[1;31mKeyError\u001b[0m: 'c'"
     ]
    }
   ],
   "source": [
    "del d4['c']"
   ]
  },
  {
   "cell_type": "code",
   "execution_count": 74,
   "id": "590b92cd-a904-40a6-af7e-f5bf4982203a",
   "metadata": {},
   "outputs": [
    {
     "data": {
      "text/plain": [
       "0"
      ]
     },
     "execution_count": 74,
     "metadata": {},
     "output_type": "execute_result"
    }
   ],
   "source": [
    "d4.pop('c',0)"
   ]
  },
  {
   "cell_type": "markdown",
   "id": "591c25bf-165b-467b-8807-bb10438b8810",
   "metadata": {},
   "source": [
    "### 딕셔너리에서 value 가져오는 함수.get()\n",
    "* .get(key, key가 없을 때 기본 값)\n",
    "* 오류를 방지하기 위해서 사용함"
   ]
  },
  {
   "cell_type": "code",
   "execution_count": 80,
   "id": "71640a74-d028-4116-a8d6-09dc0fbbfcd8",
   "metadata": {},
   "outputs": [
    {
     "ename": "SyntaxError",
     "evalue": "invalid syntax (1328846512.py, line 1)",
     "output_type": "error",
     "traceback": [
      "\u001b[1;36m  Cell \u001b[1;32mIn[80], line 1\u001b[1;36m\u001b[0m\n\u001b[1;33m    d4.('f')\u001b[0m\n\u001b[1;37m       ^\u001b[0m\n\u001b[1;31mSyntaxError\u001b[0m\u001b[1;31m:\u001b[0m invalid syntax\n"
     ]
    }
   ],
   "source": [
    "d4.('f')"
   ]
  },
  {
   "cell_type": "code",
   "execution_count": 76,
   "id": "ebd2a7bb-a618-4dc2-9acd-84f1e36132a0",
   "metadata": {},
   "outputs": [],
   "source": [
    "d4.get('f')"
   ]
  },
  {
   "cell_type": "code",
   "execution_count": 77,
   "id": "38846c4d-063c-4a27-9c5e-473d265f48d1",
   "metadata": {},
   "outputs": [
    {
     "data": {
      "text/plain": [
       "'없음'"
      ]
     },
     "execution_count": 77,
     "metadata": {},
     "output_type": "execute_result"
    }
   ],
   "source": [
    "d4.get('f', '없음')"
   ]
  },
  {
   "cell_type": "code",
   "execution_count": 78,
   "id": "38891791-7737-4ad4-9a3b-e915ac62e8cd",
   "metadata": {},
   "outputs": [
    {
     "name": "stdout",
     "output_type": "stream",
     "text": [
      "a: 없음\n"
     ]
    }
   ],
   "source": [
    "a = d4.get('f', '없음')\n",
    "print('a:', a)"
   ]
  },
  {
   "cell_type": "markdown",
   "id": "d6209bdb-5825-4a04-890a-6b228b800210",
   "metadata": {},
   "source": [
    "### 딕셔너리에서 key와 value, key, value를 가져오는 함수\n",
    "* items() : (key, value)\n",
    "* keys() : [key1, key2, key3]\n",
    "* values() : [value1, value2, value3]"
   ]
  },
  {
   "cell_type": "markdown",
   "id": "26a73444-f928-4ff6-9804-27c6da47883f",
   "metadata": {},
   "source": [
    "* items()"
   ]
  },
  {
   "cell_type": "code",
   "execution_count": 87,
   "id": "93073c7a-72c2-4a06-85b8-f3c1db7beb67",
   "metadata": {},
   "outputs": [],
   "source": [
    "# () : 튜플, [] : 리스트\n",
    "d4_items = d4.items()"
   ]
  },
  {
   "cell_type": "code",
   "execution_count": 89,
   "id": "cb7d4b50-4f26-4bb2-8181-82e3d1036c83",
   "metadata": {},
   "outputs": [
    {
     "name": "stdout",
     "output_type": "stream",
     "text": [
      "<class 'dict_items'>\n"
     ]
    }
   ],
   "source": [
    "print(type(d4_items))"
   ]
  },
  {
   "cell_type": "code",
   "execution_count": 90,
   "id": "c5d21800-1b15-41fe-abf2-e19031c76bfe",
   "metadata": {},
   "outputs": [
    {
     "name": "stdout",
     "output_type": "stream",
     "text": [
      "dict_items([('문자열', '딕셔너리의 값'), ('리스트', '새로운 값'), ('튜플', (5, 6, 7, 8)), ('딕셔너리', {'key': 'value'}), ('블린', True), ('d', '사십'), ('e', '오십'), (13, '십삼'), ((0, '도시'), '서울시'), ('a', '십'), ('b', '이십')])\n"
     ]
    }
   ],
   "source": [
    "print(d4_items)"
   ]
  },
  {
   "cell_type": "code",
   "execution_count": 91,
   "id": "f523f3a7-754c-41ca-add6-8930610fd749",
   "metadata": {},
   "outputs": [
    {
     "ename": "TypeError",
     "evalue": "'dict_items' object is not subscriptable",
     "output_type": "error",
     "traceback": [
      "\u001b[1;31m---------------------------------------------------------------------------\u001b[0m",
      "\u001b[1;31mTypeError\u001b[0m                                 Traceback (most recent call last)",
      "Cell \u001b[1;32mIn[91], line 1\u001b[0m\n\u001b[1;32m----> 1\u001b[0m \u001b[43md4_items\u001b[49m\u001b[43m[\u001b[49m\u001b[38;5;241;43m0\u001b[39;49m\u001b[43m]\u001b[49m\n",
      "\u001b[1;31mTypeError\u001b[0m: 'dict_items' object is not subscriptable"
     ]
    }
   ],
   "source": [
    "d4_items[0]"
   ]
  },
  {
   "cell_type": "code",
   "execution_count": 92,
   "id": "d5a21aa8-d93f-427a-948c-a254fcbd733e",
   "metadata": {},
   "outputs": [
    {
     "ename": "AttributeError",
     "evalue": "'dict_items' object has no attribute 'get'",
     "output_type": "error",
     "traceback": [
      "\u001b[1;31m---------------------------------------------------------------------------\u001b[0m",
      "\u001b[1;31mAttributeError\u001b[0m                            Traceback (most recent call last)",
      "Cell \u001b[1;32mIn[92], line 1\u001b[0m\n\u001b[1;32m----> 1\u001b[0m \u001b[43md4_items\u001b[49m\u001b[38;5;241;43m.\u001b[39;49m\u001b[43mget\u001b[49m()\n",
      "\u001b[1;31mAttributeError\u001b[0m: 'dict_items' object has no attribute 'get'"
     ]
    }
   ],
   "source": [
    "d4_items.get()"
   ]
  },
  {
   "cell_type": "code",
   "execution_count": 93,
   "id": "0df281aa-c7a5-4166-ad48-c311e7067ac9",
   "metadata": {},
   "outputs": [
    {
     "name": "stdout",
     "output_type": "stream",
     "text": [
      "('문자열', '딕셔너리의 값')\n",
      "('리스트', '새로운 값')\n",
      "('튜플', (5, 6, 7, 8))\n",
      "('딕셔너리', {'key': 'value'})\n",
      "('블린', True)\n",
      "('d', '사십')\n",
      "('e', '오십')\n",
      "(13, '십삼')\n",
      "((0, '도시'), '서울시')\n",
      "('a', '십')\n",
      "('b', '이십')\n"
     ]
    }
   ],
   "source": [
    "for i in d4_items:\n",
    "    print(i)"
   ]
  },
  {
   "cell_type": "code",
   "execution_count": 94,
   "id": "0c65e947-06e0-4faa-85ac-e9348914bb55",
   "metadata": {},
   "outputs": [
    {
     "data": {
      "text/plain": [
       "[('문자열', '딕셔너리의 값'),\n",
       " ('리스트', '새로운 값'),\n",
       " ('튜플', (5, 6, 7, 8)),\n",
       " ('딕셔너리', {'key': 'value'}),\n",
       " ('블린', True),\n",
       " ('d', '사십'),\n",
       " ('e', '오십'),\n",
       " (13, '십삼'),\n",
       " ((0, '도시'), '서울시'),\n",
       " ('a', '십'),\n",
       " ('b', '이십')]"
      ]
     },
     "execution_count": 94,
     "metadata": {},
     "output_type": "execute_result"
    }
   ],
   "source": [
    "d4_items_list = list(d4_items)\n",
    "d4_items_list"
   ]
  },
  {
   "cell_type": "code",
   "execution_count": 95,
   "id": "71812382-bec4-4ecd-a044-a5f088f11b2e",
   "metadata": {},
   "outputs": [
    {
     "name": "stdout",
     "output_type": "stream",
     "text": [
      "<class 'list'>\n"
     ]
    }
   ],
   "source": [
    "print(type(d4_items_list))"
   ]
  },
  {
   "cell_type": "code",
   "execution_count": 96,
   "id": "28c13503-788f-4ce5-9618-c733767a1344",
   "metadata": {},
   "outputs": [
    {
     "data": {
      "text/plain": [
       "[('문자열', '딕셔너리의 값'),\n",
       " ('리스트', '새로운 값'),\n",
       " ('튜플', (5, 6, 7, 8)),\n",
       " ('딕셔너리', {'key': 'value'}),\n",
       " ('블린', True)]"
      ]
     },
     "execution_count": 96,
     "metadata": {},
     "output_type": "execute_result"
    }
   ],
   "source": [
    "d4_items_list[:5]"
   ]
  },
  {
   "cell_type": "code",
   "execution_count": 97,
   "id": "93d08cfa-831b-41ee-a6b2-fab195a6caaf",
   "metadata": {},
   "outputs": [
    {
     "name": "stdout",
     "output_type": "stream",
     "text": [
      "('문자열', '딕셔너리의 값')\n",
      "('리스트', '새로운 값')\n",
      "('튜플', (5, 6, 7, 8))\n",
      "('딕셔너리', {'key': 'value'})\n",
      "('블린', True)\n",
      "('d', '사십')\n",
      "('e', '오십')\n",
      "(13, '십삼')\n",
      "((0, '도시'), '서울시')\n",
      "('a', '십')\n",
      "('b', '이십')\n"
     ]
    }
   ],
   "source": [
    "for i in d4_items_list:\n",
    "    print(i)"
   ]
  },
  {
   "cell_type": "code",
   "execution_count": null,
   "id": "f7f09817-61c0-43d9-8ab9-8fcb0431b320",
   "metadata": {},
   "outputs": [],
   "source": []
  },
  {
   "cell_type": "markdown",
   "id": "ebf17e7d-1e4d-421a-ad99-270d75df0ef3",
   "metadata": {},
   "source": [
    "### 딕셔너리 형태에서 반복문을 사용하면 key값만 나오게 됨\n",
    "### 리스트 형태로 변환 후 반복문을 사용하면 key값과 value값이 다 같이 나옴\n",
    "### items 형태로 "
   ]
  },
  {
   "cell_type": "code",
   "execution_count": 99,
   "id": "43a23470-93d5-4402-b53e-fa200fbdae4a",
   "metadata": {},
   "outputs": [
    {
     "name": "stdout",
     "output_type": "stream",
     "text": [
      "문자열\n",
      "리스트\n",
      "튜플\n",
      "딕셔너리\n",
      "블린\n",
      "d\n",
      "e\n",
      "13\n",
      "(0, '도시')\n",
      "a\n",
      "b\n"
     ]
    }
   ],
   "source": [
    "for i in d4:\n",
    "    print(i)"
   ]
  },
  {
   "cell_type": "code",
   "execution_count": 100,
   "id": "4ef7caac-0e00-4507-b97d-190835a3f4fe",
   "metadata": {},
   "outputs": [
    {
     "name": "stdout",
     "output_type": "stream",
     "text": [
      "('문자열', '딕셔너리의 값')\n",
      "('리스트', '새로운 값')\n",
      "('튜플', (5, 6, 7, 8))\n",
      "('딕셔너리', {'key': 'value'})\n",
      "('블린', True)\n",
      "('d', '사십')\n",
      "('e', '오십')\n",
      "(13, '십삼')\n",
      "((0, '도시'), '서울시')\n",
      "('a', '십')\n",
      "('b', '이십')\n"
     ]
    }
   ],
   "source": [
    "for i in d4_items_list:\n",
    "    print(i)"
   ]
  },
  {
   "cell_type": "code",
   "execution_count": null,
   "id": "9a7d46fd-d265-441e-8d80-caea7c0cf559",
   "metadata": {},
   "outputs": [],
   "source": []
  },
  {
   "cell_type": "code",
   "execution_count": null,
   "id": "88f1f8ed-4441-44af-93c5-82af287df23c",
   "metadata": {},
   "outputs": [],
   "source": [
    "# for key,value "
   ]
  },
  {
   "cell_type": "code",
   "execution_count": null,
   "id": "1b59144c-d620-47f2-8561-58306df020af",
   "metadata": {},
   "outputs": [],
   "source": []
  },
  {
   "cell_type": "markdown",
   "id": "c52a1f40-5063-414e-99e8-3508855f5fa2",
   "metadata": {},
   "source": [
    "* keys() : key만 출력"
   ]
  },
  {
   "cell_type": "code",
   "execution_count": 101,
   "id": "046d5a4f-1a22-437e-89f7-72684d44947d",
   "metadata": {},
   "outputs": [
    {
     "data": {
      "text/plain": [
       "dict_keys(['문자열', '리스트', '튜플', '딕셔너리', '블린', 'd', 'e', 13, (0, '도시'), 'a', 'b'])"
      ]
     },
     "execution_count": 101,
     "metadata": {},
     "output_type": "execute_result"
    }
   ],
   "source": [
    "d4.keys()"
   ]
  },
  {
   "cell_type": "code",
   "execution_count": 102,
   "id": "52bb1841-2868-49aa-9fd1-328323b8f3c4",
   "metadata": {},
   "outputs": [
    {
     "name": "stdout",
     "output_type": "stream",
     "text": [
      "<class 'dict_keys'>\n"
     ]
    }
   ],
   "source": [
    "print(type(d4.keys()))"
   ]
  },
  {
   "cell_type": "code",
   "execution_count": 104,
   "id": "f93cecc7-4643-4e16-bbc0-e5ee77e3d004",
   "metadata": {},
   "outputs": [
    {
     "data": {
      "text/plain": [
       "['문자열', '리스트', '튜플', '딕셔너리', '블린', 'd', 'e', 13, (0, '도시'), 'a', 'b']"
      ]
     },
     "execution_count": 104,
     "metadata": {},
     "output_type": "execute_result"
    }
   ],
   "source": [
    "d4_keys = list(d4.keys())\n",
    "d4_keys"
   ]
  },
  {
   "cell_type": "code",
   "execution_count": 105,
   "id": "e7162883-d123-457b-9fa8-73f0d1b4b013",
   "metadata": {},
   "outputs": [
    {
     "data": {
      "text/plain": [
       "'문자열'"
      ]
     },
     "execution_count": 105,
     "metadata": {},
     "output_type": "execute_result"
    }
   ],
   "source": [
    "d4_keys[0]"
   ]
  },
  {
   "cell_type": "code",
   "execution_count": 106,
   "id": "01bdaff9-1f69-44e6-aab5-4c6187bdf011",
   "metadata": {},
   "outputs": [
    {
     "data": {
      "text/plain": [
       "dict_values(['딕셔너리의 값', '새로운 값', (5, 6, 7, 8), {'key': 'value'}, True, '사십', '오십', '십삼', '서울시', '십', '이십'])"
      ]
     },
     "execution_count": 106,
     "metadata": {},
     "output_type": "execute_result"
    }
   ],
   "source": [
    "d4.values()"
   ]
  },
  {
   "cell_type": "code",
   "execution_count": 107,
   "id": "9776e10c-65df-443a-bc28-1ac9e2353bef",
   "metadata": {},
   "outputs": [
    {
     "name": "stdout",
     "output_type": "stream",
     "text": [
      "<class 'dict_values'>\n"
     ]
    }
   ],
   "source": [
    "print(type(d4.values()))"
   ]
  },
  {
   "cell_type": "code",
   "execution_count": 109,
   "id": "a5cc01e0-ea4a-4cb6-a7f1-d7585ba50621",
   "metadata": {},
   "outputs": [
    {
     "data": {
      "text/plain": [
       "('딕셔너리의 값',\n",
       " '새로운 값',\n",
       " (5, 6, 7, 8),\n",
       " {'key': 'value'},\n",
       " True,\n",
       " '사십',\n",
       " '오십',\n",
       " '십삼',\n",
       " '서울시',\n",
       " '십',\n",
       " '이십')"
      ]
     },
     "execution_count": 109,
     "metadata": {},
     "output_type": "execute_result"
    }
   ],
   "source": [
    "d4_tuple = tuple(d4.values())\n",
    "d4_tuple"
   ]
  },
  {
   "cell_type": "code",
   "execution_count": 110,
   "id": "b8c6e9be-469b-4f60-a75a-911a5ca4b377",
   "metadata": {},
   "outputs": [
    {
     "data": {
      "text/plain": [
       "('딕셔너리의 값', '새로운 값', (5, 6, 7, 8), {'key': 'value'})"
      ]
     },
     "execution_count": 110,
     "metadata": {},
     "output_type": "execute_result"
    }
   ],
   "source": [
    "d4_tuple[:4]"
   ]
  },
  {
   "cell_type": "code",
   "execution_count": null,
   "id": "8756affc-4205-4648-80c0-a54b48b2de58",
   "metadata": {},
   "outputs": [],
   "source": []
  },
  {
   "cell_type": "markdown",
   "id": "ffe7af07-6c0c-44d1-9966-545e9ed0153e",
   "metadata": {},
   "source": []
  },
  {
   "cell_type": "code",
   "execution_count": null,
   "id": "350e274f-9efd-4d9c-a3ec-5f1815a7c8a7",
   "metadata": {},
   "outputs": [],
   "source": []
  },
  {
   "cell_type": "code",
   "execution_count": null,
   "id": "cc7e584c-da05-49fe-b953-133c5d8359bb",
   "metadata": {},
   "outputs": [],
   "source": []
  },
  {
   "cell_type": "code",
   "execution_count": null,
   "id": "2af36b40-d6f3-4b5e-8131-01e0e61dfe33",
   "metadata": {},
   "outputs": [],
   "source": []
  },
  {
   "cell_type": "code",
   "execution_count": null,
   "id": "6f266196-b24b-47a2-859b-b2d416daf65b",
   "metadata": {},
   "outputs": [],
   "source": []
  },
  {
   "cell_type": "code",
   "execution_count": null,
   "id": "51930c23-917d-458c-9e63-cf9d448fd9a6",
   "metadata": {},
   "outputs": [],
   "source": []
  },
  {
   "cell_type": "code",
   "execution_count": null,
   "id": "8d58b0af-2804-4fd4-aefb-36835c77660c",
   "metadata": {},
   "outputs": [],
   "source": []
  },
  {
   "cell_type": "code",
   "execution_count": null,
   "id": "cb68a5b4-bc54-4562-b37e-3f39f2c71e44",
   "metadata": {},
   "outputs": [],
   "source": []
  },
  {
   "cell_type": "code",
   "execution_count": null,
   "id": "29ed03e9-5bb1-4197-9c90-356a358eb9ea",
   "metadata": {},
   "outputs": [],
   "source": []
  },
  {
   "cell_type": "code",
   "execution_count": null,
   "id": "796d8393-f9c7-40dc-ae08-27ffcfd58236",
   "metadata": {},
   "outputs": [],
   "source": []
  },
  {
   "cell_type": "code",
   "execution_count": null,
   "id": "5bdb7c27-fcd5-4919-92f9-465fb1a41289",
   "metadata": {},
   "outputs": [],
   "source": []
  },
  {
   "cell_type": "code",
   "execution_count": null,
   "id": "f4926150-0308-4a6a-814e-fbd4008df7e9",
   "metadata": {},
   "outputs": [],
   "source": []
  },
  {
   "cell_type": "code",
   "execution_count": null,
   "id": "7f422e78-a1c1-4740-ab68-264dfca8876e",
   "metadata": {},
   "outputs": [],
   "source": []
  },
  {
   "cell_type": "code",
   "execution_count": null,
   "id": "2a3b34b2-b8a4-4caa-84d6-fccbe754a9d1",
   "metadata": {},
   "outputs": [],
   "source": []
  },
  {
   "cell_type": "code",
   "execution_count": null,
   "id": "c4b62e2b-dce2-4e09-afd3-2de51c2d4c92",
   "metadata": {},
   "outputs": [],
   "source": []
  },
  {
   "cell_type": "code",
   "execution_count": null,
   "id": "b2e0c72b-07ca-43b2-b9fa-e73f51fe1a46",
   "metadata": {},
   "outputs": [],
   "source": []
  }
 ],
 "metadata": {
  "kernelspec": {
   "display_name": "Python 3 (ipykernel)",
   "language": "python",
   "name": "python3"
  },
  "language_info": {
   "codemirror_mode": {
    "name": "ipython",
    "version": 3
   },
   "file_extension": ".py",
   "mimetype": "text/x-python",
   "name": "python",
   "nbconvert_exporter": "python",
   "pygments_lexer": "ipython3",
   "version": "3.10.14"
  }
 },
 "nbformat": 4,
 "nbformat_minor": 5
}
