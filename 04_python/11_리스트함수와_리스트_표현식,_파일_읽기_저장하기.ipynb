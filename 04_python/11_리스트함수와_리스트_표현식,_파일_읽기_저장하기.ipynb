{
 "cells": [
  {
   "cell_type": "markdown",
   "metadata": {
    "id": "B6j3C6IfdSDV"
   },
   "source": [
    "### 리스트함수와 리스트 표현식, 파일 읽기_저장하기"
   ]
  },
  {
   "cell_type": "markdown",
   "metadata": {
    "id": "smkJThC6dV_c"
   },
   "source": [
    "## 리스트 함수\n",
    "* min() : 리스트 내에서 최소값을 찾아주는 함수\n",
    "* max() : 리스트 내에서 최대값을 찾아주는 함수\n",
    "* sum() : 리스트 내의 요소를 더해 합계를 구해주는 함수"
   ]
  },
  {
   "cell_type": "code",
   "execution_count": null,
   "metadata": {
    "colab": {
     "base_uri": "https://localhost:8080/"
    },
    "id": "gqi7wV0Tc0ij",
    "outputId": "a22b3036-13a6-46ab-fa00-80d06356f8f3"
   },
   "outputs": [
    {
     "data": {
      "text/plain": [
       "3"
      ]
     },
     "execution_count": 3,
     "metadata": {},
     "output_type": "execute_result"
    }
   ],
   "source": [
    "a = [38, 21, 53, 62, 19, 5, 78, 55, 42, 33]\n",
    "b = [77, 65, 4, 79, 5, 4, 35, 3, 99, 105]\n",
    "min(a+b)"
   ]
  },
  {
   "cell_type": "markdown",
   "metadata": {
    "id": "aW8vUlhUeSEx"
   },
   "source": [
    "* 정렬해서 가장 앞에 있는 숫자 추출\n",
    "* 모든 요소를 꺼내서 비교"
   ]
  },
  {
   "cell_type": "code",
   "execution_count": null,
   "metadata": {
    "colab": {
     "base_uri": "https://localhost:8080/"
    },
    "id": "0q0Clm4QdRuv",
    "outputId": "8601f962-64dd-4af5-fe63-1d72b61c12c1"
   },
   "outputs": [
    {
     "data": {
      "text/plain": [
       "78"
      ]
     },
     "execution_count": 4,
     "metadata": {},
     "output_type": "execute_result"
    }
   ],
   "source": [
    "sorted(a)[-1]"
   ]
  },
  {
   "cell_type": "code",
   "execution_count": null,
   "metadata": {
    "colab": {
     "base_uri": "https://localhost:8080/"
    },
    "id": "xbhEuWXwdRsl",
    "outputId": "daeb6ba6-a71a-4df7-c8ab-780c3468f7bc"
   },
   "outputs": [
    {
     "data": {
      "text/plain": [
       "5"
      ]
     },
     "execution_count": 6,
     "metadata": {},
     "output_type": "execute_result"
    }
   ],
   "source": [
    "sorted(a, reverse = True)[-1]"
   ]
  },
  {
   "cell_type": "code",
   "execution_count": null,
   "metadata": {
    "colab": {
     "base_uri": "https://localhost:8080/"
    },
    "id": "sa4-ljnCdRqv",
    "outputId": "e1f136d9-c8ec-488a-cb18-1cb874816b81"
   },
   "outputs": [
    {
     "name": "stdout",
     "output_type": "stream",
     "text": [
      "78\n"
     ]
    }
   ],
   "source": [
    "temp = a[0]\n",
    "for i in a:\n",
    "  if temp <= i:\n",
    "    temp = i\n",
    "  i += 1\n",
    "print(temp)"
   ]
  },
  {
   "cell_type": "markdown",
   "metadata": {
    "id": "MUXdPCIdlB8m"
   },
   "source": [
    "## 리스트 표현식(list comprehension) 사용하기\n",
    "* 리스트 안에 for 반복문과 if else 조건문을 한 번에 적는 방법\n",
    "* 여러 줄의 코드를 1줄로 줄일 수 있고\n",
    "* for, if else 문을 쓸 때보다 처리 속도가 빠르다\n",
    "* [실행할 명령 for 변수 in list, tuple]"
   ]
  },
  {
   "cell_type": "code",
   "execution_count": null,
   "metadata": {
    "colab": {
     "base_uri": "https://localhost:8080/"
    },
    "id": "vRzI4tBqdRov",
    "outputId": "cbcb7d25-f11a-491c-d745-cc59c13689d1"
   },
   "outputs": [
    {
     "data": {
      "text/plain": [
       "[1, 2, 3, 4, 5, 6, 7, 8, 9, 10]"
      ]
     },
     "execution_count": 9,
     "metadata": {},
     "output_type": "execute_result"
    }
   ],
   "source": [
    "a = []\n",
    "for i in range(1,11):\n",
    "  a.append(i)\n",
    "a"
   ]
  },
  {
   "cell_type": "code",
   "execution_count": null,
   "metadata": {
    "colab": {
     "base_uri": "https://localhost:8080/"
    },
    "id": "ivAyCj_hdRmz",
    "outputId": "218619f1-4c99-47a5-8b7e-31caf549a7d4"
   },
   "outputs": [
    {
     "data": {
      "text/plain": [
       "[1, 2, 3, 4, 5, 6, 7, 8, 9, 10]"
      ]
     },
     "execution_count": 12,
     "metadata": {},
     "output_type": "execute_result"
    }
   ],
   "source": [
    "b = [i for i in range(1,11)]\n",
    "b"
   ]
  },
  {
   "cell_type": "code",
   "execution_count": null,
   "metadata": {
    "id": "M3Gs34gAdRlK"
   },
   "outputs": [],
   "source": [
    "import time"
   ]
  },
  {
   "cell_type": "code",
   "execution_count": null,
   "metadata": {
    "colab": {
     "base_uri": "https://localhost:8080/"
    },
    "id": "X6EFZPeWdRjO",
    "outputId": "49bcc856-0954-4ddf-b7cb-2ac118ce7011"
   },
   "outputs": [
    {
     "name": "stdout",
     "output_type": "stream",
     "text": [
      "[6, 7, 8, 9, 10, 11, 12, 13, 14, 15]\n",
      "코드 실행 시간 :  3.92979097366333\n"
     ]
    }
   ],
   "source": [
    "start = time.time()\n",
    "a= []\n",
    "for i in range(1,20000000):\n",
    "  a.append(i + 5)\n",
    "print(a[:10])\n",
    "print('코드 실행 시간 : ', time.time() - start)"
   ]
  },
  {
   "cell_type": "code",
   "execution_count": null,
   "metadata": {
    "colab": {
     "base_uri": "https://localhost:8080/"
    },
    "id": "uQAQoo8edRhZ",
    "outputId": "85724aa3-2a03-4c71-f629-0dc7d389f5bb"
   },
   "outputs": [
    {
     "name": "stdout",
     "output_type": "stream",
     "text": [
      "[6, 7, 8, 9, 10, 11, 12, 13, 14, 15]\n",
      "코드 실행 시간 :  2.169462203979492\n"
     ]
    }
   ],
   "source": [
    "start = time.time()\n",
    "b= [i+5 for i in range(1,20000000)]\n",
    "print(b[:10])\n",
    "print('코드 실행 시간 : ', time.time() - start)"
   ]
  },
  {
   "cell_type": "code",
   "execution_count": null,
   "metadata": {
    "id": "5HphYZDydRfj"
   },
   "outputs": [],
   "source": []
  },
  {
   "cell_type": "code",
   "execution_count": null,
   "metadata": {
    "id": "zMwZeWX0dRdz"
   },
   "outputs": [],
   "source": [
    "import numpy as np"
   ]
  },
  {
   "cell_type": "code",
   "execution_count": null,
   "metadata": {
    "colab": {
     "base_uri": "https://localhost:8080/"
    },
    "id": "gdbNxqOgdRcC",
    "outputId": "560bf6cb-c587-4c78-d585-38603242044c"
   },
   "outputs": [
    {
     "name": "stdout",
     "output_type": "stream",
     "text": [
      "[ 6  7  8  9 10 11 12 13 14 15]\n",
      "코드 실행 시간 :  0.15180110931396484\n"
     ]
    }
   ],
   "source": [
    "start = time.time()\n",
    "c = np.arange(1,20000000)\n",
    "c = c+5\n",
    "print(c[:10])\n",
    "print('코드 실행 시간 : ', time.time() - start)"
   ]
  },
  {
   "cell_type": "code",
   "execution_count": null,
   "metadata": {
    "id": "PjVMQWbDdRaT"
   },
   "outputs": [],
   "source": []
  },
  {
   "cell_type": "code",
   "execution_count": null,
   "metadata": {},
   "outputs": [],
   "source": []
  },
  {
   "cell_type": "markdown",
   "metadata": {},
   "source": [
    "### 파일 읽기, 쓰기 open(), with open()"
   ]
  },
  {
   "cell_type": "markdown",
   "metadata": {},
   "source": [
    "## 1) 파일에 문자열을 쓸 때는 open함수로 파일을 열어서 파일 객체(file object)를 얻을 뒤에 write 메서드를 사용해 저장"
   ]
  },
  {
   "cell_type": "markdown",
   "metadata": {},
   "source": [
    "변수명 = open(파일이름, 파일모드(w:쓰기, r:읽기) <br>\n",
    "변수명.write('저장할 문자열')\n",
    "변수명.close() *close()을 안하면 계속 열려있음 - 과부하 발생"
   ]
  },
  {
   "cell_type": "code",
   "execution_count": 1,
   "metadata": {},
   "outputs": [],
   "source": [
    "file = open('test.txt', 'w') # test.txt로 파일 만들기 = copy con test.txt"
   ]
  },
  {
   "cell_type": "code",
   "execution_count": 2,
   "metadata": {},
   "outputs": [
    {
     "data": {
      "text/plain": [
       "9"
      ]
     },
     "execution_count": 2,
     "metadata": {},
     "output_type": "execute_result"
    }
   ],
   "source": [
    "file.write('파일 만들기 연습') # test.txt에 .write(내용)으로 내용쓰기"
   ]
  },
  {
   "cell_type": "code",
   "execution_count": 3,
   "metadata": {},
   "outputs": [],
   "source": [
    "file.close() # test.txt 파일 저장하고 닫기"
   ]
  },
  {
   "cell_type": "markdown",
   "metadata": {},
   "source": [
    "* (2) 파일 읽기 <br>\n",
    "변수명 = open(파일이름, 파일모드('r'읽기)) <br>\n",
    "변수명2 = 변수명.read() <br>\n",
    "변수명.close()"
   ]
  },
  {
   "cell_type": "code",
   "execution_count": 4,
   "metadata": {},
   "outputs": [
    {
     "name": "stdout",
     "output_type": "stream",
     "text": [
      "파일 만들기 연습\n"
     ]
    }
   ],
   "source": [
    "file2 = open('test.txt', 'r')\n",
    "my_file = file2.read()\n",
    "file2.close()\n",
    "print(my_file)"
   ]
  },
  {
   "cell_type": "markdown",
   "metadata": {},
   "source": [
    "## with 문으로 파일 자동으로 닫기\n",
    "* 파일을 만들려면 파일 만들기 => 내용 적기 => 파일닫기(저장) <br>\n",
    "* 이때 close()를 안하면 오류 발생 <br>\n",
    "* 이런 실수를 줄이기 위해서는 파일을 자동으로 닫아주는 with문을 사용하면 편리"
   ]
  },
  {
   "cell_type": "code",
   "execution_count": 5,
   "metadata": {},
   "outputs": [],
   "source": [
    "with open('test_with.txt','w') as file3:\n",
    "    file3.write('with open을 사용하면 파일을 자동으로 닫아주어서 편리하다')"
   ]
  },
  {
   "cell_type": "code",
   "execution_count": 6,
   "metadata": {},
   "outputs": [
    {
     "name": "stdout",
     "output_type": "stream",
     "text": [
      "with open을 사용하면 파일을 자동으로 닫아주어서 편리하다\n"
     ]
    }
   ],
   "source": [
    "with open('test_with.txt', 'r') as file4:\n",
    "    text = file4.read()\n",
    "print(text)"
   ]
  },
  {
   "cell_type": "markdown",
   "metadata": {},
   "source": [
    "## encoding에 따른 읽기 오류\n",
    "* 운영체제나(windows, linux, macOS), 한글/영어 windows에 따라서 인코딩 되는 포멧이 달라짐 <br>\n",
    "* 인코딩에 따른 오류가 발생할 수 있음\n",
    "* web 표준은 utf-8 이므로 인코딩은 utf-8로 하는 것이 좋다\n",
    "* windows의 경우 인코딩은 보통 cp949로 되므로 주의"
   ]
  },
  {
   "cell_type": "code",
   "execution_count": 7,
   "metadata": {},
   "outputs": [],
   "source": [
    "with open('test_with2.txt', 'w', encoding = 'utf-8') as file5:\n",
    "    file5.write(\"이것은 with open으로 만든 텍스트 파일이고 utf-8로 인코딩 함\")"
   ]
  },
  {
   "cell_type": "code",
   "execution_count": 10,
   "metadata": {},
   "outputs": [
    {
     "ename": "UnicodeDecodeError",
     "evalue": "'cp949' codec can't decode byte 0xec in position 0: illegal multibyte sequence",
     "output_type": "error",
     "traceback": [
      "\u001b[1;31m---------------------------------------------------------------------------\u001b[0m",
      "\u001b[1;31mUnicodeDecodeError\u001b[0m                        Traceback (most recent call last)",
      "Cell \u001b[1;32mIn[10], line 2\u001b[0m\n\u001b[0;32m      1\u001b[0m \u001b[38;5;28;01mwith\u001b[39;00m \u001b[38;5;28mopen\u001b[39m(\u001b[38;5;124m'\u001b[39m\u001b[38;5;124mtest_with2.txt\u001b[39m\u001b[38;5;124m'\u001b[39m, \u001b[38;5;124m'\u001b[39m\u001b[38;5;124mr\u001b[39m\u001b[38;5;124m'\u001b[39m) \u001b[38;5;28;01mas\u001b[39;00m file6:\n\u001b[1;32m----> 2\u001b[0m     file6_text \u001b[38;5;241m=\u001b[39m \u001b[43mfile6\u001b[49m\u001b[38;5;241;43m.\u001b[39;49m\u001b[43mread\u001b[49m\u001b[43m(\u001b[49m\u001b[43m)\u001b[49m\n\u001b[0;32m      3\u001b[0m \u001b[38;5;28mprint\u001b[39m(file6_text)\n",
      "\u001b[1;31mUnicodeDecodeError\u001b[0m: 'cp949' codec can't decode byte 0xec in position 0: illegal multibyte sequence"
     ]
    }
   ],
   "source": [
    "with open('test_with2.txt', 'r') as file6:\n",
    "    file6_text = file6.read()\n",
    "print(file6_text)"
   ]
  },
  {
   "cell_type": "code",
   "execution_count": 11,
   "metadata": {},
   "outputs": [
    {
     "name": "stdout",
     "output_type": "stream",
     "text": [
      "이것은 with open으로 만든 텍스트 파일이고 utf-8로 인코딩 함\n"
     ]
    }
   ],
   "source": [
    "with open('test_with2.txt', 'r', encoding = 'utf-8') as file6:\n",
    "    file6_text = file6.read()\n",
    "print(file6_text)"
   ]
  },
  {
   "cell_type": "code",
   "execution_count": 14,
   "metadata": {},
   "outputs": [
    {
     "ename": "ValueError",
     "evalue": "binary mode doesn't take an encoding argument",
     "output_type": "error",
     "traceback": [
      "\u001b[1;31m---------------------------------------------------------------------------\u001b[0m",
      "\u001b[1;31mValueError\u001b[0m                                Traceback (most recent call last)",
      "Cell \u001b[1;32mIn[14], line 1\u001b[0m\n\u001b[1;32m----> 1\u001b[0m \u001b[38;5;28;01mwith\u001b[39;00m \u001b[38;5;28;43mopen\u001b[39;49m\u001b[43m(\u001b[49m\u001b[38;5;124;43m'\u001b[39;49m\u001b[38;5;124;43mC:\u001b[39;49m\u001b[38;5;130;43;01m\\f\u001b[39;49;00m\u001b[38;5;124;43mintech_service\u001b[39;49m\u001b[38;5;124;43m'\u001b[39;49m\u001b[43m,\u001b[49m\u001b[43m \u001b[49m\u001b[38;5;124;43m'\u001b[39;49m\u001b[38;5;124;43mrb\u001b[39;49m\u001b[38;5;124;43m'\u001b[39;49m\u001b[43m,\u001b[49m\u001b[43m \u001b[49m\u001b[43mencoding\u001b[49m\u001b[43m \u001b[49m\u001b[38;5;241;43m=\u001b[39;49m\u001b[43m \u001b[49m\u001b[38;5;124;43m'\u001b[39;49m\u001b[38;5;124;43mutf-8\u001b[39;49m\u001b[38;5;124;43m'\u001b[39;49m\u001b[43m)\u001b[49m \u001b[38;5;28;01mas\u001b[39;00m file7:   \u001b[38;5;66;03m# a : append추가\u001b[39;00m\n\u001b[0;32m      2\u001b[0m     file7_text \u001b[38;5;241m=\u001b[39m file7\u001b[38;5;241m.\u001b[39mwrite()\n\u001b[0;32m      3\u001b[0m \u001b[38;5;28mprint\u001b[39m(file7_text)\n",
      "File \u001b[1;32m~\\miniforge3\\envs\\fintech\\lib\\site-packages\\IPython\\core\\interactiveshell.py:324\u001b[0m, in \u001b[0;36m_modified_open\u001b[1;34m(file, *args, **kwargs)\u001b[0m\n\u001b[0;32m    317\u001b[0m \u001b[38;5;28;01mif\u001b[39;00m file \u001b[38;5;129;01min\u001b[39;00m {\u001b[38;5;241m0\u001b[39m, \u001b[38;5;241m1\u001b[39m, \u001b[38;5;241m2\u001b[39m}:\n\u001b[0;32m    318\u001b[0m     \u001b[38;5;28;01mraise\u001b[39;00m \u001b[38;5;167;01mValueError\u001b[39;00m(\n\u001b[0;32m    319\u001b[0m         \u001b[38;5;124mf\u001b[39m\u001b[38;5;124m\"\u001b[39m\u001b[38;5;124mIPython won\u001b[39m\u001b[38;5;124m'\u001b[39m\u001b[38;5;124mt let you open fd=\u001b[39m\u001b[38;5;132;01m{\u001b[39;00mfile\u001b[38;5;132;01m}\u001b[39;00m\u001b[38;5;124m by default \u001b[39m\u001b[38;5;124m\"\u001b[39m\n\u001b[0;32m    320\u001b[0m         \u001b[38;5;124m\"\u001b[39m\u001b[38;5;124mas it is likely to crash IPython. If you know what you are doing, \u001b[39m\u001b[38;5;124m\"\u001b[39m\n\u001b[0;32m    321\u001b[0m         \u001b[38;5;124m\"\u001b[39m\u001b[38;5;124myou can use builtins\u001b[39m\u001b[38;5;124m'\u001b[39m\u001b[38;5;124m open.\u001b[39m\u001b[38;5;124m\"\u001b[39m\n\u001b[0;32m    322\u001b[0m     )\n\u001b[1;32m--> 324\u001b[0m \u001b[38;5;28;01mreturn\u001b[39;00m io_open(file, \u001b[38;5;241m*\u001b[39margs, \u001b[38;5;241m*\u001b[39m\u001b[38;5;241m*\u001b[39mkwargs)\n",
      "\u001b[1;31mValueError\u001b[0m: binary mode doesn't take an encoding argument"
     ]
    }
   ],
   "source": [
    "with open('C:\\fintech_service', 'rb', encoding = 'utf-8') as file7:   # a : append추가\n",
    "    file7_text = file7.write()\n",
    "print(file7_text)"
   ]
  },
  {
   "cell_type": "code",
   "execution_count": 5,
   "metadata": {},
   "outputs": [
    {
     "name": "stdout",
     "output_type": "stream",
     "text": [
      "[\n",
      "    {\n",
      "        \"ForNum\": 44722,\n",
      "        \"NatNum\": 75991,\n",
      "        \"addrCd\": 1111,\n",
      "        \"gungu\": \"종로구\",\n",
      "        \"resNm\": \"창덕궁\",\n",
      "        \"rnum\": 1,\n",
      "        \"sido\": \"서울특별시\",\n",
      "        \"yyyymm\": \"201112\"\n",
      "    },\n",
      "    {\n",
      "        \"ForNum\": 0,\n",
      "        \"NatNum\": 11017,\n",
      "        \"addrCd\": 1111,\n",
      "        \"gungu\": \"종로구\",\n",
      "        \"resNm\": \"운현궁\",\n",
      "        \"rnum\": 2,\n",
      "        \"sido\": \"서울특별시\",\n",
      "        \"yyyymm\": \"201112\"\n",
      "    },\n",
      "    {\n",
      "        \"ForNum\": 132399,\n",
      "        \"NatNum\": 237330,\n",
      "        \"addrCd\": 1111,\n",
      "        \"gungu\": \"종로구\",\n",
      "        \"resNm\": \"경복궁\",\n",
      "        \"rnum\": 3,\n",
      "        \"sido\": \"서울특별시\",\n",
      "        \"yyyymm\": \"201112\"\n",
      "    },\n",
      "    {\n",
      "        \"ForNum\": 3133,\n",
      "        \"NatNum\": 21267,\n",
      "        \"addrCd\": 1111,\n",
      "        \"gungu\": \"종로구\",\n",
      "        \"resNm\": \"창경궁\",\n",
      "        \"rnum\": 4,\n",
      "        \"sido\": \"서울특별시\",\n",
      "        \"yyyymm\": \"201112\"\n",
      "    },\n",
      "    {\n",
      "        \"ForNum\": 18226,\n",
      "        \"NatNum\": 24223,\n",
      "        \"addrCd\": 1111,\n",
      "        \"gungu\": \"종로구\",\n",
      "        \"resNm\": \"종묘\",\n",
      "        \"rnum\": 5,\n",
      "        \"sido\": \"서울특별시\",\n",
      "        \"yyyymm\": \"201112\"\n",
      "    },\n",
      "    {\n",
      "        \"ForNum\": 0,\n",
      "        \"NatNum\": 233828,\n",
      "        \"addrCd\": 1117,\n",
      "        \"gungu\": \"용산구\",\n",
      "        \"resNm\": \"국립중앙박물관\",\n",
      "        \"rnum\": 6,\n",
      "        \"sido\": \"서울특별시\",\n",
      "        \"yyyymm\": \"201112\"\n",
      "    },\n",
      "    {\n",
      "        \"ForNum\": 0,\n",
      "        \"NatNum\": 93554,\n",
      "        \"addrCd\": 1111,\n",
      "        \"gungu\": \"종로구\",\n",
      "        \"resNm\": \"서울역사박물관\",\n",
      "        \"rnum\": 7,\n",
      "        \"sido\": \"서울특별시\",\n",
      "        \"yyyymm\": \"201112\"\n",
      "    },\n",
      "    {\n",
      "        \"ForNum\": 13935,\n",
      "        \"NatNum\": 52140,\n",
      "        \"addrCd\": 1114,\n",
      "        \"gungu\": \"중구\",\n",
      "        \"resNm\": \"덕수궁\",\n",
      "        \"rnum\": 8,\n",
      "        \"sido\": \"서울특별시\",\n",
      "        \"yyyymm\": \"201112\"\n",
      "    },\n",
      "    {\n",
      "        \"ForNum\": 0,\n",
      "        \"NatNum\": 61115,\n",
      "        \"addrCd\": 1114,\n",
      "        \"gungu\": \"중구\",\n",
      "        \"resNm\": \"서울시립미술관 본관\",\n",
      "        \"rnum\": 9,\n",
      "        \"sido\": \"서울특별시\",\n",
      "        \"yyyymm\": \"201112\"\n",
      "    },\n",
      "    {\n",
      "        \"ForNum\": 10,\n",
      "        \"NatNum\": 1885,\n",
      "        \"addrCd\": 1135,\n",
      "        \"gungu\": \"노원구\",\n",
      "        \"resNm\": \"태릉 ·  강릉 · 조선왕릉전시관\",\n",
      "        \"rnum\": 10,\n",
      "        \"sido\": \"서울특별시\",\n",
      "        \"yyyymm\": \"201112\"\n",
      "    },\n",
      "    {\n",
      "        \"ForNum\": 0,\n",
      "        \"NatNum\": 32412,\n",
      "        \"addrCd\": 1141,\n",
      "        \"gungu\": \"서대문구\",\n",
      "        \"resNm\": \"서대문형무소역사관\",\n",
      "        \"rnum\": 11,\n",
      "        \"sido\": \"서울특별시\",\n",
      "        \"yyyymm\": \"201112\"\n",
      "    },\n",
      "    {\n",
      "        \"ForNum\": 0,\n",
      "        \"NatNum\": 19308,\n",
      "        \"addrCd\": 1141,\n",
      "        \"gungu\": \"서대문구\",\n",
      "        \"resNm\": \"서대문자연사박물관\",\n",
      "        \"rnum\": 12,\n",
      "        \"sido\": \"서울특별시\",\n",
      "        \"yyyymm\": \"201112\"\n",
      "    },\n",
      "    {\n",
      "        \"ForNum\": 5214,\n",
      "        \"NatNum\": 6956,\n",
      "        \"addrCd\": 1144,\n",
      "        \"gungu\": \"마포구\",\n",
      "        \"resNm\": \"트릭아이미술관\",\n",
      "        \"rnum\": 13,\n",
      "        \"sido\": \"서울특별시\",\n",
      "        \"yyyymm\": \"201112\"\n",
      "    },\n",
      "    {\n",
      "        \"ForNum\": 333,\n",
      "        \"NatNum\": 1823,\n",
      "        \"addrCd\": 1165,\n",
      "        \"gungu\": \"서초구\",\n",
      "        \"resNm\": \"헌릉ㆍ인릉\",\n",
      "        \"rnum\": 14,\n",
      "        \"sido\": \"서울특별시\",\n",
      "        \"yyyymm\": \"201112\"\n",
      "    },\n",
      "    {\n",
      "        \"ForNum\": 4704,\n",
      "        \"NatNum\": 16634,\n",
      "        \"addrCd\": 1168,\n",
      "        \"gungu\": \"강남구\",\n",
      "        \"resNm\": \"선릉·정릉\",\n",
      "        \"rnum\": 15,\n",
      "        \"sido\": \"서울특별시\",\n",
      "        \"yyyymm\": \"201112\"\n",
      "    },\n",
      "    {\n",
      "        \"ForNum\": 52484,\n",
      "        \"NatNum\": 642290,\n",
      "        \"addrCd\": 1171,\n",
      "        \"gungu\": \"송파구\",\n",
      "        \"resNm\": \"롯데월드\",\n",
      "        \"rnum\": 16,\n",
      "        \"sido\": \"서울특별시\",\n",
      "        \"yyyymm\": \"201112\"\n",
      "    },\n",
      "    {\n",
      "        \"ForNum\": 27814,\n",
      "        \"NatNum\": 28061,\n",
      "        \"addrCd\": 1111,\n",
      "        \"gungu\": \"종로구\",\n",
      "        \"resNm\": \"창덕궁\",\n",
      "        \"rnum\": 1,\n",
      "        \"sido\": \"서울특별시\",\n",
      "        \"yyyymm\": \"201212\"\n",
      "    },\n",
      "    {\n",
      "        \"ForNum\": 546,\n",
      "        \"NatNum\": 5978,\n",
      "        \"addrCd\": 1111,\n",
      "        \"gungu\": \"종로구\",\n",
      "        \"resNm\": \"운현궁\",\n",
      "        \"rnum\": 2,\n",
      "        \"sido\": \"서울특별시\",\n",
      "        \"yyyymm\": \"201212\"\n",
      "    },\n",
      "    {\n",
      "        \"ForNum\": 105370,\n",
      "        \"NatNum\": 133012,\n",
      "        \"addrCd\": 1111,\n",
      "        \"gungu\": \"종로구\",\n",
      "        \"resNm\": \"경복궁\",\n",
      "        \"rnum\": 3,\n",
      "        \"sido\": \"서울특별시\",\n",
      "        \"yyyymm\": \"201212\"\n",
      "    },\n",
      "    {\n",
      "        \"ForNum\": 1451,\n",
      "        \"NatNum\": 15722,\n",
      "        \"addrCd\": 1111,\n",
      "        \"gungu\": \"종로구\",\n",
      "        \"resNm\": \"창경궁\",\n",
      "        \"rnum\": 4,\n",
      "        \"sido\": \"서울특별시\",\n",
      "        \"yyyymm\": \"201212\"\n",
      "    },\n",
      "    {\n",
      "        \"ForNum\": 8817,\n",
      "        \"NatNum\": 8068,\n",
      "        \"addrCd\": 1111,\n",
      "        \"gungu\": \"종로구\",\n",
      "        \"resNm\": \"종묘\",\n",
      "        \"rnum\": 5,\n",
      "        \"sido\": \"서울특별시\",\n",
      "        \"yyyymm\": \"201212\"\n",
      "    },\n",
      "    {\n",
      "        \"ForNum\": 13033,\n",
      "        \"NatNum\": 227077,\n",
      "        \"addrCd\": 1117,\n",
      "        \"gungu\": \"용산구\",\n",
      "        \"resNm\": \"국립중앙박물관\",\n",
      "        \"rnum\": 6,\n",
      "        \"sido\": \"서울특별시\",\n",
      "        \"yyyymm\": \"201212\"\n",
      "    },\n",
      "    {\n",
      "        \"ForNum\": 1138,\n",
      "        \"NatNum\": 78179,\n",
      "        \"addrCd\": 1111,\n",
      "        \"gungu\": \"종로구\",\n",
      "        \"resNm\": \"서울역사박물관\",\n",
      "        \"rnum\": 7,\n",
      "        \"sido\": \"서울특별시\",\n",
      "        \"yyyymm\": \"201212\"\n",
      "    },\n",
      "    {\n",
      "        \"ForNum\": 11151,\n",
      "        \"NatNum\": 44855,\n",
      "        \"addrCd\": 1114,\n",
      "        \"gungu\": \"중구\",\n",
      "        \"resNm\": \"덕수궁\",\n",
      "        \"rnum\": 8,\n",
      "        \"sido\": \"서울특별시\",\n",
      "        \"yyyymm\": \"201212\"\n",
      "    },\n",
      "    {\n",
      "        \"ForNum\": 0,\n",
      "        \"NatNum\": 213467,\n",
      "        \"addrCd\": 1114,\n",
      "        \"gungu\": \"중구\",\n",
      "        \"resNm\": \"서울시립미술관 본관\",\n",
      "        \"rnum\": 9,\n",
      "        \"sido\": \"서울특별시\",\n",
      "        \"yyyymm\": \"201212\"\n",
      "    },\n",
      "    {\n",
      "        \"ForNum\": 15,\n",
      "        \"NatNum\": 1252,\n",
      "        \"addrCd\": 1135,\n",
      "        \"gungu\": \"노원구\",\n",
      "        \"resNm\": \"태릉 ·  강릉 · 조선왕릉전시관\",\n",
      "        \"rnum\": 10,\n",
      "        \"sido\": \"서울특별시\",\n",
      "        \"yyyymm\": \"201212\"\n",
      "    },\n",
      "    {\n",
      "        \"ForNum\": 6625,\n",
      "        \"NatNum\": 14090,\n",
      "        \"addrCd\": 1141,\n",
      "        \"gungu\": \"서대문구\",\n",
      "        \"resNm\": \"서대문형무소역사관\",\n",
      "        \"rnum\": 11,\n",
      "        \"sido\": \"서울특별시\",\n",
      "        \"yyyymm\": \"201212\"\n",
      "    },\n",
      "    {\n",
      "        \"ForNum\": 0,\n",
      "        \"NatNum\": 18881,\n",
      "        \"addrCd\": 1141,\n",
      "        \"gungu\": \"서대문구\",\n",
      "        \"resNm\": \"서대문자연사박물관\",\n",
      "        \"rnum\": 12,\n",
      "        \"sido\": \"서울특별시\",\n",
      "        \"yyyymm\": \"201212\"\n",
      "    },\n",
      "    {\n",
      "        \"ForNum\": 24492,\n",
      "        \"NatNum\": 9167,\n",
      "        \"addrCd\": 1144,\n",
      "        \"gungu\": \"마포구\",\n",
      "        \"resNm\": \"트릭아이미술관\",\n",
      "        \"rnum\": 13,\n",
      "        \"sido\": \"서울특별시\",\n",
      "        \"yyyymm\": \"201212\"\n",
      "    },\n",
      "    {\n",
      "        \"ForNum\": 62,\n",
      "        \"NatNum\": 860,\n",
      "        \"addrCd\": 1165,\n",
      "        \"gungu\": \"서초구\",\n",
      "        \"resNm\": \"헌릉ㆍ인릉\",\n",
      "        \"rnum\": 14,\n",
      "        \"sido\": \"서울특별시\",\n",
      "        \"yyyymm\": \"201212\"\n",
      "    },\n",
      "    {\n",
      "        \"ForNum\": 66868,\n",
      "        \"NatNum\": 670056,\n",
      "        \"addrCd\": 1171,\n",
      "        \"gungu\": \"송파구\",\n",
      "        \"resNm\": \"롯데월드\",\n",
      "        \"rnum\": 15,\n",
      "        \"sido\": \"서울특별시\",\n",
      "        \"yyyymm\": \"201212\"\n",
      "    },\n",
      "    {\n",
      "        \"ForNum\": 25550,\n",
      "        \"NatNum\": 38553,\n",
      "        \"addrCd\": 1111,\n",
      "        \"gungu\": \"종로구\",\n",
      "        \"resNm\": \"창덕궁\",\n",
      "        \"rnum\": 1,\n",
      "        \"sido\": \"서울특별시\",\n",
      "        \"yyyymm\": \"201312\"\n",
      "    },\n",
      "    {\n",
      "        \"ForNum\": 101942,\n",
      "        \"NatNum\": 145544,\n",
      "        \"addrCd\": 1111,\n",
      "        \"gungu\": \"종로구\",\n",
      "        \"resNm\": \"경복궁\",\n",
      "        \"rnum\": 2,\n",
      "        \"sido\": \"서울특별시\",\n",
      "        \"yyyymm\": \"201312\"\n",
      "    },\n",
      "    {\n",
      "        \"ForNum\": 1986,\n",
      "        \"NatNum\": 20035,\n",
      "        \"addrCd\": 1111,\n",
      "        \"gungu\": \"종로구\",\n",
      "        \"resNm\": \"창경궁\",\n",
      "        \"rnum\": 3,\n",
      "        \"sido\": \"서울특별시\",\n",
      "        \"yyyymm\": \"201312\"\n",
      "    },\n",
      "    {\n",
      "        \"ForNum\": 6048,\n",
      "        \"NatNum\": 13896,\n",
      "        \"addrCd\": 1111,\n",
      "        \"gungu\": \"종로구\",\n",
      "        \"resNm\": \"종묘\",\n",
      "        \"rnum\": 4,\n",
      "        \"sido\": \"서울특별시\",\n",
      "        \"yyyymm\": \"201312\"\n",
      "    },\n",
      "    {\n",
      "        \"ForNum\": 9083,\n",
      "        \"NatNum\": 286992,\n",
      "        \"addrCd\": 1117,\n",
      "        \"gungu\": \"용산구\",\n",
      "        \"resNm\": \"국립중앙박물관\",\n",
      "        \"rnum\": 5,\n",
      "        \"sido\": \"서울특별시\",\n",
      "        \"yyyymm\": \"201312\"\n",
      "    },\n",
      "    {\n",
      "        \"ForNum\": 13282,\n",
      "        \"NatNum\": 99301,\n",
      "        \"addrCd\": 1114,\n",
      "        \"gungu\": \"중구\",\n",
      "        \"resNm\": \"덕수궁\",\n",
      "        \"rnum\": 6,\n",
      "        \"sido\": \"서울특별시\",\n",
      "        \"yyyymm\": \"201312\"\n",
      "    },\n",
      "    {\n",
      "        \"ForNum\": 6,\n",
      "        \"NatNum\": 706,\n",
      "        \"addrCd\": 1135,\n",
      "        \"gungu\": \"노원구\",\n",
      "        \"resNm\": \"태릉 ·  강릉 · 조선왕릉전시관\",\n",
      "        \"rnum\": 7,\n",
      "        \"sido\": \"서울특별시\",\n",
      "        \"yyyymm\": \"201312\"\n",
      "    },\n",
      "    {\n",
      "        \"ForNum\": 6732,\n",
      "        \"NatNum\": 14607,\n",
      "        \"addrCd\": 1141,\n",
      "        \"gungu\": \"서대문구\",\n",
      "        \"resNm\": \"서대문형무소역사관\",\n",
      "        \"rnum\": 8,\n",
      "        \"sido\": \"서울특별시\",\n",
      "        \"yyyymm\": \"201312\"\n",
      "    },\n",
      "    {\n",
      "        \"ForNum\": 0,\n",
      "        \"NatNum\": 23245,\n",
      "        \"addrCd\": 1141,\n",
      "        \"gungu\": \"서대문구\",\n",
      "        \"resNm\": \"서대문자연사박물관\",\n",
      "        \"rnum\": 9,\n",
      "        \"sido\": \"서울특별시\",\n",
      "        \"yyyymm\": \"201312\"\n",
      "    },\n",
      "    {\n",
      "        \"ForNum\": 43129,\n",
      "        \"NatNum\": 11886,\n",
      "        \"addrCd\": 1144,\n",
      "        \"gungu\": \"마포구\",\n",
      "        \"resNm\": \"트릭아이미술관\",\n",
      "        \"rnum\": 10,\n",
      "        \"sido\": \"서울특별시\",\n",
      "        \"yyyymm\": \"201312\"\n",
      "    },\n",
      "    {\n",
      "        \"ForNum\": 16,\n",
      "        \"NatNum\": 1248,\n",
      "        \"addrCd\": 1165,\n",
      "        \"gungu\": \"서초구\",\n",
      "        \"resNm\": \"헌릉ㆍ인릉\",\n",
      "        \"rnum\": 11,\n",
      "        \"sido\": \"서울특별시\",\n",
      "        \"yyyymm\": \"201312\"\n",
      "    },\n",
      "    {\n",
      "        \"ForNum\": 1445,\n",
      "        \"NatNum\": 11890,\n",
      "        \"addrCd\": 1168,\n",
      "        \"gungu\": \"강남구\",\n",
      "        \"resNm\": \"선릉·정릉\",\n",
      "        \"rnum\": 12,\n",
      "        \"sido\": \"서울특별시\",\n",
      "        \"yyyymm\": \"201312\"\n",
      "    },\n",
      "    {\n",
      "        \"ForNum\": 29928,\n",
      "        \"NatNum\": 41561,\n",
      "        \"addrCd\": 1111,\n",
      "        \"gungu\": \"종로구\",\n",
      "        \"resNm\": \"창덕궁\",\n",
      "        \"rnum\": 1,\n",
      "        \"sido\": \"서울특별시\",\n",
      "        \"yyyymm\": \"201412\"\n",
      "    },\n",
      "    {\n",
      "        \"ForNum\": 129946,\n",
      "        \"NatNum\": 190501,\n",
      "        \"addrCd\": 1111,\n",
      "        \"gungu\": \"종로구\",\n",
      "        \"resNm\": \"경복궁\",\n",
      "        \"rnum\": 2,\n",
      "        \"sido\": \"서울특별시\",\n",
      "        \"yyyymm\": \"201412\"\n",
      "    },\n",
      "    {\n",
      "        \"ForNum\": 1693,\n",
      "        \"NatNum\": 19473,\n",
      "        \"addrCd\": 1111,\n",
      "        \"gungu\": \"종로구\",\n",
      "        \"resNm\": \"창경궁\",\n",
      "        \"rnum\": 3,\n",
      "        \"sido\": \"서울특별시\",\n",
      "        \"yyyymm\": \"201412\"\n",
      "    },\n",
      "    {\n",
      "        \"ForNum\": 3891,\n",
      "        \"NatNum\": 5951,\n",
      "        \"addrCd\": 1111,\n",
      "        \"gungu\": \"종로구\",\n",
      "        \"resNm\": \"종묘\",\n",
      "        \"rnum\": 4,\n",
      "        \"sido\": \"서울특별시\",\n",
      "        \"yyyymm\": \"201412\"\n",
      "    },\n",
      "    {\n",
      "        \"ForNum\": 7195,\n",
      "        \"NatNum\": 258781,\n",
      "        \"addrCd\": 1117,\n",
      "        \"gungu\": \"용산구\",\n",
      "        \"resNm\": \"국립중앙박물관\",\n",
      "        \"rnum\": 5,\n",
      "        \"sido\": \"서울특별시\",\n",
      "        \"yyyymm\": \"201412\"\n",
      "    },\n",
      "    {\n",
      "        \"ForNum\": 14723,\n",
      "        \"NatNum\": 44272,\n",
      "        \"addrCd\": 1114,\n",
      "        \"gungu\": \"중구\",\n",
      "        \"resNm\": \"덕수궁\",\n",
      "        \"rnum\": 6,\n",
      "        \"sido\": \"서울특별시\",\n",
      "        \"yyyymm\": \"201412\"\n",
      "    },\n",
      "    {\n",
      "        \"ForNum\": 12,\n",
      "        \"NatNum\": 486,\n",
      "        \"addrCd\": 1135,\n",
      "        \"gungu\": \"노원구\",\n",
      "        \"resNm\": \"태릉 ·  강릉 · 조선왕릉전시관\",\n",
      "        \"rnum\": 7,\n",
      "        \"sido\": \"서울특별시\",\n",
      "        \"yyyymm\": \"201412\"\n",
      "    },\n",
      "    {\n",
      "        \"ForNum\": 6263,\n",
      "        \"NatNum\": 27205,\n",
      "        \"addrCd\": 1141,\n",
      "        \"gungu\": \"서대문구\",\n",
      "        \"resNm\": \"서대문형무소역사관\",\n",
      "        \"rnum\": 8,\n",
      "        \"sido\": \"서울특별시\",\n",
      "        \"yyyymm\": \"201412\"\n",
      "    },\n",
      "    {\n",
      "        \"ForNum\": 0,\n",
      "        \"NatNum\": 24527,\n",
      "        \"addrCd\": 1141,\n",
      "        \"gungu\": \"서대문구\",\n",
      "        \"resNm\": \"서대문자연사박물관\",\n",
      "        \"rnum\": 9,\n",
      "        \"sido\": \"서울특별시\",\n",
      "        \"yyyymm\": \"201412\"\n",
      "    },\n",
      "    {\n",
      "        \"ForNum\": 42443,\n",
      "        \"NatNum\": 7478,\n",
      "        \"addrCd\": 1144,\n",
      "        \"gungu\": \"마포구\",\n",
      "        \"resNm\": \"트릭아이미술관\",\n",
      "        \"rnum\": 10,\n",
      "        \"sido\": \"서울특별시\",\n",
      "        \"yyyymm\": \"201412\"\n",
      "    },\n",
      "    {\n",
      "        \"ForNum\": 5,\n",
      "        \"NatNum\": 1036,\n",
      "        \"addrCd\": 1165,\n",
      "        \"gungu\": \"서초구\",\n",
      "        \"resNm\": \"헌릉ㆍ인릉\",\n",
      "        \"rnum\": 11,\n",
      "        \"sido\": \"서울특별시\",\n",
      "        \"yyyymm\": \"201412\"\n",
      "    },\n",
      "    {\n",
      "        \"ForNum\": 823,\n",
      "        \"NatNum\": 8869,\n",
      "        \"addrCd\": 1168,\n",
      "        \"gungu\": \"강남구\",\n",
      "        \"resNm\": \"선릉·정릉\",\n",
      "        \"rnum\": 12,\n",
      "        \"sido\": \"서울특별시\",\n",
      "        \"yyyymm\": \"201412\"\n",
      "    },\n",
      "    {\n",
      "        \"ForNum\": 33342,\n",
      "        \"NatNum\": 59738,\n",
      "        \"addrCd\": 1111,\n",
      "        \"gungu\": \"종로구\",\n",
      "        \"resNm\": \"창덕궁\",\n",
      "        \"rnum\": 1,\n",
      "        \"sido\": \"서울특별시\",\n",
      "        \"yyyymm\": \"201512\"\n",
      "    },\n",
      "    {\n",
      "        \"ForNum\": 170379,\n",
      "        \"NatNum\": 148961,\n",
      "        \"addrCd\": 1111,\n",
      "        \"gungu\": \"종로구\",\n",
      "        \"resNm\": \"경복궁\",\n",
      "        \"rnum\": 2,\n",
      "        \"sido\": \"서울특별시\",\n",
      "        \"yyyymm\": \"201512\"\n",
      "    },\n",
      "    {\n",
      "        \"ForNum\": 1783,\n",
      "        \"NatNum\": 27172,\n",
      "        \"addrCd\": 1111,\n",
      "        \"gungu\": \"종로구\",\n",
      "        \"resNm\": \"창경궁\",\n",
      "        \"rnum\": 3,\n",
      "        \"sido\": \"서울특별시\",\n",
      "        \"yyyymm\": \"201512\"\n",
      "    },\n",
      "    {\n",
      "        \"ForNum\": 3406,\n",
      "        \"NatNum\": 14936,\n",
      "        \"addrCd\": 1111,\n",
      "        \"gungu\": \"종로구\",\n",
      "        \"resNm\": \"종묘\",\n",
      "        \"rnum\": 4,\n",
      "        \"sido\": \"서울특별시\",\n",
      "        \"yyyymm\": \"201512\"\n",
      "    },\n",
      "    {\n",
      "        \"ForNum\": 13127,\n",
      "        \"NatNum\": 281457,\n",
      "        \"addrCd\": 1117,\n",
      "        \"gungu\": \"용산구\",\n",
      "        \"resNm\": \"국립중앙박물관\",\n",
      "        \"rnum\": 5,\n",
      "        \"sido\": \"서울특별시\",\n",
      "        \"yyyymm\": \"201512\"\n",
      "    },\n",
      "    {\n",
      "        \"ForNum\": 15197,\n",
      "        \"NatNum\": 68749,\n",
      "        \"addrCd\": 1114,\n",
      "        \"gungu\": \"중구\",\n",
      "        \"resNm\": \"덕수궁\",\n",
      "        \"rnum\": 6,\n",
      "        \"sido\": \"서울특별시\",\n",
      "        \"yyyymm\": \"201512\"\n",
      "    },\n",
      "    {\n",
      "        \"ForNum\": 16,\n",
      "        \"NatNum\": 2221,\n",
      "        \"addrCd\": 1135,\n",
      "        \"gungu\": \"노원구\",\n",
      "        \"resNm\": \"태릉 ·  강릉 · 조선왕릉전시관\",\n",
      "        \"rnum\": 7,\n",
      "        \"sido\": \"서울특별시\",\n",
      "        \"yyyymm\": \"201512\"\n",
      "    },\n",
      "    {\n",
      "        \"ForNum\": 5588,\n",
      "        \"NatNum\": 44232,\n",
      "        \"addrCd\": 1141,\n",
      "        \"gungu\": \"서대문구\",\n",
      "        \"resNm\": \"서대문형무소역사관\",\n",
      "        \"rnum\": 8,\n",
      "        \"sido\": \"서울특별시\",\n",
      "        \"yyyymm\": \"201512\"\n",
      "    },\n",
      "    {\n",
      "        \"ForNum\": 0,\n",
      "        \"NatNum\": 22587,\n",
      "        \"addrCd\": 1141,\n",
      "        \"gungu\": \"서대문구\",\n",
      "        \"resNm\": \"서대문자연사박물관\",\n",
      "        \"rnum\": 9,\n",
      "        \"sido\": \"서울특별시\",\n",
      "        \"yyyymm\": \"201512\"\n",
      "    },\n",
      "    {\n",
      "        \"ForNum\": 29520,\n",
      "        \"NatNum\": 8822,\n",
      "        \"addrCd\": 1144,\n",
      "        \"gungu\": \"마포구\",\n",
      "        \"resNm\": \"트릭아이미술관\",\n",
      "        \"rnum\": 10,\n",
      "        \"sido\": \"서울특별시\",\n",
      "        \"yyyymm\": \"201512\"\n",
      "    },\n",
      "    {\n",
      "        \"ForNum\": 3,\n",
      "        \"NatNum\": 1647,\n",
      "        \"addrCd\": 1165,\n",
      "        \"gungu\": \"서초구\",\n",
      "        \"resNm\": \"헌릉ㆍ인릉\",\n",
      "        \"rnum\": 11,\n",
      "        \"sido\": \"서울특별시\",\n",
      "        \"yyyymm\": \"201512\"\n",
      "    },\n",
      "    {\n",
      "        \"ForNum\": 492,\n",
      "        \"NatNum\": 14454,\n",
      "        \"addrCd\": 1168,\n",
      "        \"gungu\": \"강남구\",\n",
      "        \"resNm\": \"선릉·정릉\",\n",
      "        \"rnum\": 12,\n",
      "        \"sido\": \"서울특별시\",\n",
      "        \"yyyymm\": \"201512\"\n",
      "    }\n",
      "]\n"
     ]
    }
   ],
   "source": [
    "with open(\"./04_python/data/서울특별시_관광지입장정보_2011_2016.json\", 'r', encoding = 'utf-8') as f:\n",
    "    tour_data = f.read()\n",
    "print(tour_data)"
   ]
  },
  {
   "cell_type": "code",
   "execution_count": 6,
   "metadata": {},
   "outputs": [
    {
     "name": "stdout",
     "output_type": "stream",
     "text": [
      "<class 'str'>\n"
     ]
    }
   ],
   "source": [
    "print(type(tour_data))"
   ]
  },
  {
   "cell_type": "markdown",
   "metadata": {},
   "source": [
    "# with open으로 파일을 읽어오면 data type은 모두 str이 된다. <br>\n",
    "그래서 리스트나, 딕셔너리 처럼 사용하려면 변환이 필요 <br>\n",
    "변환에는 json 라이브러리를 사용하면 된다. <br>\n",
    "import json <br>\n",
    "변수명 = json.loads(변환할 자료가 담긴 변수)"
   ]
  },
  {
   "cell_type": "code",
   "execution_count": 7,
   "metadata": {},
   "outputs": [
    {
     "data": {
      "text/plain": [
       "'[\\n    {\\n        \"ForNum\": 44722,\\n        \"NatNum\": 75991,\\n        \"addrCd\": 1111,\\n        \"gungu\": \"종로구\",\\n        \"resNm\": \"창덕궁\",\\n        \"rnum\": 1,\\n        \"sido\": \"서울특별시\",\\n        \"yyyymm\": \"201112\"\\n    },\\n    {\\n        \"ForNum\": 0,\\n        \"NatNum\": 11017,\\n        \"addrCd\": 1111,\\n        \"gungu\": \"종로구\",\\n        \"resNm\": \"운현궁\",\\n        \"rnum\": 2,\\n        \"sido\": \"서울특별시\",\\n        \"yyyymm\": \"201112\"\\n    },\\n    {\\n        \"ForNum\": 132399,\\n        \"NatNum\": 237330,\\n        \"addrCd\": 1111,\\n        \"gungu\": \"종로구\",\\n        \"resNm\": \"경복궁\",\\n        \"rnum\": 3,\\n        \"sido\": \"서울특별시\",\\n        \"yyyymm\": \"201112\"\\n    },\\n    {\\n        \"ForNum\": 3133,\\n        \"NatNum\": 21267,\\n        \"addrCd\": 1111,\\n        \"gungu\": \"종로구\",\\n        \"resNm\": \"창경궁\",\\n        \"rnum\": 4,\\n        \"sido\": \"서울특별시\",\\n        \"yyyymm\": \"201112\"\\n    },\\n    {\\n        \"ForNum\": 18226,\\n        \"NatNum\": 24223,\\n        \"addrCd\": 1111,\\n        \"gungu\": \"종로구\",\\n        \"resNm\": \"종묘\",\\n        \"rnum\": 5,\\n        \"sido\": \"서울특별시\",\\n        \"yyyymm\": \"201112\"\\n    },\\n    {\\n        \"ForNum\": 0,\\n        \"NatNum\": 233828,\\n        \"addrCd\": 1117,\\n        \"gungu\": \"용산구\",\\n        \"resNm\": \"국립중앙박물관\",\\n        \"rnum\": 6,\\n        \"sido\": \"서울특별시\",\\n        \"yyyymm\": \"201112\"\\n    },\\n    {\\n        \"ForNum\": 0,\\n        \"NatNum\": 93554,\\n        \"addrCd\": 1111,\\n        \"gungu\": \"종로구\",\\n        \"resNm\": \"서울역사박물관\",\\n        \"rnum\": 7,\\n        \"sido\": \"서울특별시\",\\n        \"yyyymm\": \"201112\"\\n    },\\n    {\\n        \"ForNum\": 13935,\\n        \"NatNum\": 52140,\\n        \"addrCd\": 1114,\\n        \"gungu\": \"중구\",\\n        \"resNm\": \"덕수궁\",\\n        \"rnum\": 8,\\n        \"sido\": \"서울특별시\",\\n        \"yyyymm\": \"201112\"\\n    },\\n    {\\n        \"ForNum\": 0,\\n        \"NatNum\": 61115,\\n        \"addrCd\": 1114,\\n        \"gungu\": \"중구\",\\n        \"resNm\": \"서울시립미술관 본관\",\\n        \"rnum\": 9,\\n        \"sido\": \"서울특별시\",\\n        \"yyyymm\": \"201112\"\\n    },\\n    {\\n        \"ForNum\": 10,\\n        \"NatNum\": 1885,\\n        \"addrCd\": 1135,\\n        \"gungu\": \"노원구\",\\n        \"resNm\": \"태릉 ·  강릉 · 조선왕릉전시관\",\\n        \"rnum\": 10,\\n        \"sido\": \"서울특별시\",\\n        \"yyyymm\": \"201112\"\\n    },\\n    {\\n        \"ForNum\": 0,\\n        \"NatNum\": 32412,\\n        \"addrCd\": 1141,\\n        \"gungu\": \"서대문구\",\\n        \"resNm\": \"서대문형무소역사관\",\\n        \"rnum\": 11,\\n        \"sido\": \"서울특별시\",\\n        \"yyyymm\": \"201112\"\\n    },\\n    {\\n        \"ForNum\": 0,\\n        \"NatNum\": 19308,\\n        \"addrCd\": 1141,\\n        \"gungu\": \"서대문구\",\\n        \"resNm\": \"서대문자연사박물관\",\\n        \"rnum\": 12,\\n        \"sido\": \"서울특별시\",\\n        \"yyyymm\": \"201112\"\\n    },\\n    {\\n        \"ForNum\": 5214,\\n        \"NatNum\": 6956,\\n        \"addrCd\": 1144,\\n        \"gungu\": \"마포구\",\\n        \"resNm\": \"트릭아이미술관\",\\n        \"rnum\": 13,\\n        \"sido\": \"서울특별시\",\\n        \"yyyymm\": \"201112\"\\n    },\\n    {\\n        \"ForNum\": 333,\\n        \"NatNum\": 1823,\\n        \"addrCd\": 1165,\\n        \"gungu\": \"서초구\",\\n        \"resNm\": \"헌릉ㆍ인릉\",\\n        \"rnum\": 14,\\n        \"sido\": \"서울특별시\",\\n        \"yyyymm\": \"201112\"\\n    },\\n    {\\n        \"ForNum\": 4704,\\n        \"NatNum\": 16634,\\n        \"addrCd\": 1168,\\n        \"gungu\": \"강남구\",\\n        \"resNm\": \"선릉·정릉\",\\n        \"rnum\": 15,\\n        \"sido\": \"서울특별시\",\\n        \"yyyymm\": \"201112\"\\n    },\\n    {\\n        \"ForNum\": 52484,\\n        \"NatNum\": 642290,\\n        \"addrCd\": 1171,\\n        \"gungu\": \"송파구\",\\n        \"resNm\": \"롯데월드\",\\n        \"rnum\": 16,\\n        \"sido\": \"서울특별시\",\\n        \"yyyymm\": \"201112\"\\n    },\\n    {\\n        \"ForNum\": 27814,\\n        \"NatNum\": 28061,\\n        \"addrCd\": 1111,\\n        \"gungu\": \"종로구\",\\n        \"resNm\": \"창덕궁\",\\n        \"rnum\": 1,\\n        \"sido\": \"서울특별시\",\\n        \"yyyymm\": \"201212\"\\n    },\\n    {\\n        \"ForNum\": 546,\\n        \"NatNum\": 5978,\\n        \"addrCd\": 1111,\\n        \"gungu\": \"종로구\",\\n        \"resNm\": \"운현궁\",\\n        \"rnum\": 2,\\n        \"sido\": \"서울특별시\",\\n        \"yyyymm\": \"201212\"\\n    },\\n    {\\n        \"ForNum\": 105370,\\n        \"NatNum\": 133012,\\n        \"addrCd\": 1111,\\n        \"gungu\": \"종로구\",\\n        \"resNm\": \"경복궁\",\\n        \"rnum\": 3,\\n        \"sido\": \"서울특별시\",\\n        \"yyyymm\": \"201212\"\\n    },\\n    {\\n        \"ForNum\": 1451,\\n        \"NatNum\": 15722,\\n        \"addrCd\": 1111,\\n        \"gungu\": \"종로구\",\\n        \"resNm\": \"창경궁\",\\n        \"rnum\": 4,\\n        \"sido\": \"서울특별시\",\\n        \"yyyymm\": \"201212\"\\n    },\\n    {\\n        \"ForNum\": 8817,\\n        \"NatNum\": 8068,\\n        \"addrCd\": 1111,\\n        \"gungu\": \"종로구\",\\n        \"resNm\": \"종묘\",\\n        \"rnum\": 5,\\n        \"sido\": \"서울특별시\",\\n        \"yyyymm\": \"201212\"\\n    },\\n    {\\n        \"ForNum\": 13033,\\n        \"NatNum\": 227077,\\n        \"addrCd\": 1117,\\n        \"gungu\": \"용산구\",\\n        \"resNm\": \"국립중앙박물관\",\\n        \"rnum\": 6,\\n        \"sido\": \"서울특별시\",\\n        \"yyyymm\": \"201212\"\\n    },\\n    {\\n        \"ForNum\": 1138,\\n        \"NatNum\": 78179,\\n        \"addrCd\": 1111,\\n        \"gungu\": \"종로구\",\\n        \"resNm\": \"서울역사박물관\",\\n        \"rnum\": 7,\\n        \"sido\": \"서울특별시\",\\n        \"yyyymm\": \"201212\"\\n    },\\n    {\\n        \"ForNum\": 11151,\\n        \"NatNum\": 44855,\\n        \"addrCd\": 1114,\\n        \"gungu\": \"중구\",\\n        \"resNm\": \"덕수궁\",\\n        \"rnum\": 8,\\n        \"sido\": \"서울특별시\",\\n        \"yyyymm\": \"201212\"\\n    },\\n    {\\n        \"ForNum\": 0,\\n        \"NatNum\": 213467,\\n        \"addrCd\": 1114,\\n        \"gungu\": \"중구\",\\n        \"resNm\": \"서울시립미술관 본관\",\\n        \"rnum\": 9,\\n        \"sido\": \"서울특별시\",\\n        \"yyyymm\": \"201212\"\\n    },\\n    {\\n        \"ForNum\": 15,\\n        \"NatNum\": 1252,\\n        \"addrCd\": 1135,\\n        \"gungu\": \"노원구\",\\n        \"resNm\": \"태릉 ·  강릉 · 조선왕릉전시관\",\\n        \"rnum\": 10,\\n        \"sido\": \"서울특별시\",\\n        \"yyyymm\": \"201212\"\\n    },\\n    {\\n        \"ForNum\": 6625,\\n        \"NatNum\": 14090,\\n        \"addrCd\": 1141,\\n        \"gungu\": \"서대문구\",\\n        \"resNm\": \"서대문형무소역사관\",\\n        \"rnum\": 11,\\n        \"sido\": \"서울특별시\",\\n        \"yyyymm\": \"201212\"\\n    },\\n    {\\n        \"ForNum\": 0,\\n        \"NatNum\": 18881,\\n        \"addrCd\": 1141,\\n        \"gungu\": \"서대문구\",\\n        \"resNm\": \"서대문자연사박물관\",\\n        \"rnum\": 12,\\n        \"sido\": \"서울특별시\",\\n        \"yyyymm\": \"201212\"\\n    },\\n    {\\n        \"ForNum\": 24492,\\n        \"NatNum\": 9167,\\n        \"addrCd\": 1144,\\n        \"gungu\": \"마포구\",\\n        \"resNm\": \"트릭아이미술관\",\\n        \"rnum\": 13,\\n        \"sido\": \"서울특별시\",\\n        \"yyyymm\": \"201212\"\\n    },\\n    {\\n        \"ForNum\": 62,\\n        \"NatNum\": 860,\\n        \"addrCd\": 1165,\\n        \"gungu\": \"서초구\",\\n        \"resNm\": \"헌릉ㆍ인릉\",\\n        \"rnum\": 14,\\n        \"sido\": \"서울특별시\",\\n        \"yyyymm\": \"201212\"\\n    },\\n    {\\n        \"ForNum\": 66868,\\n        \"NatNum\": 670056,\\n        \"addrCd\": 1171,\\n        \"gungu\": \"송파구\",\\n        \"resNm\": \"롯데월드\",\\n        \"rnum\": 15,\\n        \"sido\": \"서울특별시\",\\n        \"yyyymm\": \"201212\"\\n    },\\n    {\\n        \"ForNum\": 25550,\\n        \"NatNum\": 38553,\\n        \"addrCd\": 1111,\\n        \"gungu\": \"종로구\",\\n        \"resNm\": \"창덕궁\",\\n        \"rnum\": 1,\\n        \"sido\": \"서울특별시\",\\n        \"yyyymm\": \"201312\"\\n    },\\n    {\\n        \"ForNum\": 101942,\\n        \"NatNum\": 145544,\\n        \"addrCd\": 1111,\\n        \"gungu\": \"종로구\",\\n        \"resNm\": \"경복궁\",\\n        \"rnum\": 2,\\n        \"sido\": \"서울특별시\",\\n        \"yyyymm\": \"201312\"\\n    },\\n    {\\n        \"ForNum\": 1986,\\n        \"NatNum\": 20035,\\n        \"addrCd\": 1111,\\n        \"gungu\": \"종로구\",\\n        \"resNm\": \"창경궁\",\\n        \"rnum\": 3,\\n        \"sido\": \"서울특별시\",\\n        \"yyyymm\": \"201312\"\\n    },\\n    {\\n        \"ForNum\": 6048,\\n        \"NatNum\": 13896,\\n        \"addrCd\": 1111,\\n        \"gungu\": \"종로구\",\\n        \"resNm\": \"종묘\",\\n        \"rnum\": 4,\\n        \"sido\": \"서울특별시\",\\n        \"yyyymm\": \"201312\"\\n    },\\n    {\\n        \"ForNum\": 9083,\\n        \"NatNum\": 286992,\\n        \"addrCd\": 1117,\\n        \"gungu\": \"용산구\",\\n        \"resNm\": \"국립중앙박물관\",\\n        \"rnum\": 5,\\n        \"sido\": \"서울특별시\",\\n        \"yyyymm\": \"201312\"\\n    },\\n    {\\n        \"ForNum\": 13282,\\n        \"NatNum\": 99301,\\n        \"addrCd\": 1114,\\n        \"gungu\": \"중구\",\\n        \"resNm\": \"덕수궁\",\\n        \"rnum\": 6,\\n        \"sido\": \"서울특별시\",\\n        \"yyyymm\": \"201312\"\\n    },\\n    {\\n        \"ForNum\": 6,\\n        \"NatNum\": 706,\\n        \"addrCd\": 1135,\\n        \"gungu\": \"노원구\",\\n        \"resNm\": \"태릉 ·  강릉 · 조선왕릉전시관\",\\n        \"rnum\": 7,\\n        \"sido\": \"서울특별시\",\\n        \"yyyymm\": \"201312\"\\n    },\\n    {\\n        \"ForNum\": 6732,\\n        \"NatNum\": 14607,\\n        \"addrCd\": 1141,\\n        \"gungu\": \"서대문구\",\\n        \"resNm\": \"서대문형무소역사관\",\\n        \"rnum\": 8,\\n        \"sido\": \"서울특별시\",\\n        \"yyyymm\": \"201312\"\\n    },\\n    {\\n        \"ForNum\": 0,\\n        \"NatNum\": 23245,\\n        \"addrCd\": 1141,\\n        \"gungu\": \"서대문구\",\\n        \"resNm\": \"서대문자연사박물관\",\\n        \"rnum\": 9,\\n        \"sido\": \"서울특별시\",\\n        \"yyyymm\": \"201312\"\\n    },\\n    {\\n        \"ForNum\": 43129,\\n        \"NatNum\": 11886,\\n        \"addrCd\": 1144,\\n        \"gungu\": \"마포구\",\\n        \"resNm\": \"트릭아이미술관\",\\n        \"rnum\": 10,\\n        \"sido\": \"서울특별시\",\\n        \"yyyymm\": \"201312\"\\n    },\\n    {\\n        \"ForNum\": 16,\\n        \"NatNum\": 1248,\\n        \"addrCd\": 1165,\\n        \"gungu\": \"서초구\",\\n        \"resNm\": \"헌릉ㆍ인릉\",\\n        \"rnum\": 11,\\n        \"sido\": \"서울특별시\",\\n        \"yyyymm\": \"201312\"\\n    },\\n    {\\n        \"ForNum\": 1445,\\n        \"NatNum\": 11890,\\n        \"addrCd\": 1168,\\n        \"gungu\": \"강남구\",\\n        \"resNm\": \"선릉·정릉\",\\n        \"rnum\": 12,\\n        \"sido\": \"서울특별시\",\\n        \"yyyymm\": \"201312\"\\n    },\\n    {\\n        \"ForNum\": 29928,\\n        \"NatNum\": 41561,\\n        \"addrCd\": 1111,\\n        \"gungu\": \"종로구\",\\n        \"resNm\": \"창덕궁\",\\n        \"rnum\": 1,\\n        \"sido\": \"서울특별시\",\\n        \"yyyymm\": \"201412\"\\n    },\\n    {\\n        \"ForNum\": 129946,\\n        \"NatNum\": 190501,\\n        \"addrCd\": 1111,\\n        \"gungu\": \"종로구\",\\n        \"resNm\": \"경복궁\",\\n        \"rnum\": 2,\\n        \"sido\": \"서울특별시\",\\n        \"yyyymm\": \"201412\"\\n    },\\n    {\\n        \"ForNum\": 1693,\\n        \"NatNum\": 19473,\\n        \"addrCd\": 1111,\\n        \"gungu\": \"종로구\",\\n        \"resNm\": \"창경궁\",\\n        \"rnum\": 3,\\n        \"sido\": \"서울특별시\",\\n        \"yyyymm\": \"201412\"\\n    },\\n    {\\n        \"ForNum\": 3891,\\n        \"NatNum\": 5951,\\n        \"addrCd\": 1111,\\n        \"gungu\": \"종로구\",\\n        \"resNm\": \"종묘\",\\n        \"rnum\": 4,\\n        \"sido\": \"서울특별시\",\\n        \"yyyymm\": \"201412\"\\n    },\\n    {\\n        \"ForNum\": 7195,\\n        \"NatNum\": 258781,\\n        \"addrCd\": 1117,\\n        \"gungu\": \"용산구\",\\n        \"resNm\": \"국립중앙박물관\",\\n        \"rnum\": 5,\\n        \"sido\": \"서울특별시\",\\n        \"yyyymm\": \"201412\"\\n    },\\n    {\\n        \"ForNum\": 14723,\\n        \"NatNum\": 44272,\\n        \"addrCd\": 1114,\\n        \"gungu\": \"중구\",\\n        \"resNm\": \"덕수궁\",\\n        \"rnum\": 6,\\n        \"sido\": \"서울특별시\",\\n        \"yyyymm\": \"201412\"\\n    },\\n    {\\n        \"ForNum\": 12,\\n        \"NatNum\": 486,\\n        \"addrCd\": 1135,\\n        \"gungu\": \"노원구\",\\n        \"resNm\": \"태릉 ·  강릉 · 조선왕릉전시관\",\\n        \"rnum\": 7,\\n        \"sido\": \"서울특별시\",\\n        \"yyyymm\": \"201412\"\\n    },\\n    {\\n        \"ForNum\": 6263,\\n        \"NatNum\": 27205,\\n        \"addrCd\": 1141,\\n        \"gungu\": \"서대문구\",\\n        \"resNm\": \"서대문형무소역사관\",\\n        \"rnum\": 8,\\n        \"sido\": \"서울특별시\",\\n        \"yyyymm\": \"201412\"\\n    },\\n    {\\n        \"ForNum\": 0,\\n        \"NatNum\": 24527,\\n        \"addrCd\": 1141,\\n        \"gungu\": \"서대문구\",\\n        \"resNm\": \"서대문자연사박물관\",\\n        \"rnum\": 9,\\n        \"sido\": \"서울특별시\",\\n        \"yyyymm\": \"201412\"\\n    },\\n    {\\n        \"ForNum\": 42443,\\n        \"NatNum\": 7478,\\n        \"addrCd\": 1144,\\n        \"gungu\": \"마포구\",\\n        \"resNm\": \"트릭아이미술관\",\\n        \"rnum\": 10,\\n        \"sido\": \"서울특별시\",\\n        \"yyyymm\": \"201412\"\\n    },\\n    {\\n        \"ForNum\": 5,\\n        \"NatNum\": 1036,\\n        \"addrCd\": 1165,\\n        \"gungu\": \"서초구\",\\n        \"resNm\": \"헌릉ㆍ인릉\",\\n        \"rnum\": 11,\\n        \"sido\": \"서울특별시\",\\n        \"yyyymm\": \"201412\"\\n    },\\n    {\\n        \"ForNum\": 823,\\n        \"NatNum\": 8869,\\n        \"addrCd\": 1168,\\n        \"gungu\": \"강남구\",\\n        \"resNm\": \"선릉·정릉\",\\n        \"rnum\": 12,\\n        \"sido\": \"서울특별시\",\\n        \"yyyymm\": \"201412\"\\n    },\\n    {\\n        \"ForNum\": 33342,\\n        \"NatNum\": 59738,\\n        \"addrCd\": 1111,\\n        \"gungu\": \"종로구\",\\n        \"resNm\": \"창덕궁\",\\n        \"rnum\": 1,\\n        \"sido\": \"서울특별시\",\\n        \"yyyymm\": \"201512\"\\n    },\\n    {\\n        \"ForNum\": 170379,\\n        \"NatNum\": 148961,\\n        \"addrCd\": 1111,\\n        \"gungu\": \"종로구\",\\n        \"resNm\": \"경복궁\",\\n        \"rnum\": 2,\\n        \"sido\": \"서울특별시\",\\n        \"yyyymm\": \"201512\"\\n    },\\n    {\\n        \"ForNum\": 1783,\\n        \"NatNum\": 27172,\\n        \"addrCd\": 1111,\\n        \"gungu\": \"종로구\",\\n        \"resNm\": \"창경궁\",\\n        \"rnum\": 3,\\n        \"sido\": \"서울특별시\",\\n        \"yyyymm\": \"201512\"\\n    },\\n    {\\n        \"ForNum\": 3406,\\n        \"NatNum\": 14936,\\n        \"addrCd\": 1111,\\n        \"gungu\": \"종로구\",\\n        \"resNm\": \"종묘\",\\n        \"rnum\": 4,\\n        \"sido\": \"서울특별시\",\\n        \"yyyymm\": \"201512\"\\n    },\\n    {\\n        \"ForNum\": 13127,\\n        \"NatNum\": 281457,\\n        \"addrCd\": 1117,\\n        \"gungu\": \"용산구\",\\n        \"resNm\": \"국립중앙박물관\",\\n        \"rnum\": 5,\\n        \"sido\": \"서울특별시\",\\n        \"yyyymm\": \"201512\"\\n    },\\n    {\\n        \"ForNum\": 15197,\\n        \"NatNum\": 68749,\\n        \"addrCd\": 1114,\\n        \"gungu\": \"중구\",\\n        \"resNm\": \"덕수궁\",\\n        \"rnum\": 6,\\n        \"sido\": \"서울특별시\",\\n        \"yyyymm\": \"201512\"\\n    },\\n    {\\n        \"ForNum\": 16,\\n        \"NatNum\": 2221,\\n        \"addrCd\": 1135,\\n        \"gungu\": \"노원구\",\\n        \"resNm\": \"태릉 ·  강릉 · 조선왕릉전시관\",\\n        \"rnum\": 7,\\n        \"sido\": \"서울특별시\",\\n        \"yyyymm\": \"201512\"\\n    },\\n    {\\n        \"ForNum\": 5588,\\n        \"NatNum\": 44232,\\n        \"addrCd\": 1141,\\n        \"gungu\": \"서대문구\",\\n        \"resNm\": \"서대문형무소역사관\",\\n        \"rnum\": 8,\\n        \"sido\": \"서울특별시\",\\n        \"yyyymm\": \"201512\"\\n    },\\n    {\\n        \"ForNum\": 0,\\n        \"NatNum\": 22587,\\n        \"addrCd\": 1141,\\n        \"gungu\": \"서대문구\",\\n        \"resNm\": \"서대문자연사박물관\",\\n        \"rnum\": 9,\\n        \"sido\": \"서울특별시\",\\n        \"yyyymm\": \"201512\"\\n    },\\n    {\\n        \"ForNum\": 29520,\\n        \"NatNum\": 8822,\\n        \"addrCd\": 1144,\\n        \"gungu\": \"마포구\",\\n        \"resNm\": \"트릭아이미술관\",\\n        \"rnum\": 10,\\n        \"sido\": \"서울특별시\",\\n        \"yyyymm\": \"201512\"\\n    },\\n    {\\n        \"ForNum\": 3,\\n        \"NatNum\": 1647,\\n        \"addrCd\": 1165,\\n        \"gungu\": \"서초구\",\\n        \"resNm\": \"헌릉ㆍ인릉\",\\n        \"rnum\": 11,\\n        \"sido\": \"서울특별시\",\\n        \"yyyymm\": \"201512\"\\n    },\\n    {\\n        \"ForNum\": 492,\\n        \"NatNum\": 14454,\\n        \"addrCd\": 1168,\\n        \"gungu\": \"강남구\",\\n        \"resNm\": \"선릉·정릉\",\\n        \"rnum\": 12,\\n        \"sido\": \"서울특별시\",\\n        \"yyyymm\": \"201512\"\\n    }\\n]'"
      ]
     },
     "execution_count": 7,
     "metadata": {},
     "output_type": "execute_result"
    }
   ],
   "source": [
    "tour_data"
   ]
  },
  {
   "cell_type": "code",
   "execution_count": 23,
   "metadata": {},
   "outputs": [
    {
     "ename": "NameError",
     "evalue": "name 'tour_data2' is not defined",
     "output_type": "error",
     "traceback": [
      "\u001b[1;31m---------------------------------------------------------------------------\u001b[0m",
      "\u001b[1;31mNameError\u001b[0m                                 Traceback (most recent call last)",
      "Cell \u001b[1;32mIn[23], line 1\u001b[0m\n\u001b[1;32m----> 1\u001b[0m \u001b[38;5;28;01mfor\u001b[39;00m item \u001b[38;5;129;01min\u001b[39;00m \u001b[43mtour_data2\u001b[49m[:\u001b[38;5;241m10\u001b[39m]:\n\u001b[0;32m      2\u001b[0m     \u001b[38;5;28mprint\u001b[39m(item)\n\u001b[0;32m      3\u001b[0m \u001b[38;5;66;03m# 읽은게 text이기 때문에 출력이 되지 않는다\u001b[39;00m\n",
      "\u001b[1;31mNameError\u001b[0m: name 'tour_data2' is not defined"
     ]
    }
   ],
   "source": [
    "for item in tour_data2[:10]:\n",
    "    print(item)\n",
    "# 읽은게 text이기 때문에 출력이 되지 않는다"
   ]
  },
  {
   "cell_type": "code",
   "execution_count": 9,
   "metadata": {},
   "outputs": [],
   "source": [
    "import json"
   ]
  },
  {
   "cell_type": "code",
   "execution_count": 10,
   "metadata": {},
   "outputs": [
    {
     "name": "stdout",
     "output_type": "stream",
     "text": [
      "<class 'list'>\n"
     ]
    }
   ],
   "source": [
    "data = json.loads(tour_data)\n",
    "print(type(data))"
   ]
  },
  {
   "cell_type": "code",
   "execution_count": 11,
   "metadata": {},
   "outputs": [
    {
     "name": "stdout",
     "output_type": "stream",
     "text": [
      "{'ForNum': 44722, 'NatNum': 75991, 'addrCd': 1111, 'gungu': '종로구', 'resNm': '창덕궁', 'rnum': 1, 'sido': '서울특별시', 'yyyymm': '201112'}\n",
      "{'ForNum': 0, 'NatNum': 11017, 'addrCd': 1111, 'gungu': '종로구', 'resNm': '운현궁', 'rnum': 2, 'sido': '서울특별시', 'yyyymm': '201112'}\n",
      "{'ForNum': 132399, 'NatNum': 237330, 'addrCd': 1111, 'gungu': '종로구', 'resNm': '경복궁', 'rnum': 3, 'sido': '서울특별시', 'yyyymm': '201112'}\n",
      "{'ForNum': 3133, 'NatNum': 21267, 'addrCd': 1111, 'gungu': '종로구', 'resNm': '창경궁', 'rnum': 4, 'sido': '서울특별시', 'yyyymm': '201112'}\n",
      "{'ForNum': 18226, 'NatNum': 24223, 'addrCd': 1111, 'gungu': '종로구', 'resNm': '종묘', 'rnum': 5, 'sido': '서울특별시', 'yyyymm': '201112'}\n",
      "{'ForNum': 0, 'NatNum': 233828, 'addrCd': 1117, 'gungu': '용산구', 'resNm': '국립중앙박물관', 'rnum': 6, 'sido': '서울특별시', 'yyyymm': '201112'}\n",
      "{'ForNum': 0, 'NatNum': 93554, 'addrCd': 1111, 'gungu': '종로구', 'resNm': '서울역사박물관', 'rnum': 7, 'sido': '서울특별시', 'yyyymm': '201112'}\n",
      "{'ForNum': 13935, 'NatNum': 52140, 'addrCd': 1114, 'gungu': '중구', 'resNm': '덕수궁', 'rnum': 8, 'sido': '서울특별시', 'yyyymm': '201112'}\n",
      "{'ForNum': 0, 'NatNum': 61115, 'addrCd': 1114, 'gungu': '중구', 'resNm': '서울시립미술관 본관', 'rnum': 9, 'sido': '서울특별시', 'yyyymm': '201112'}\n",
      "{'ForNum': 10, 'NatNum': 1885, 'addrCd': 1135, 'gungu': '노원구', 'resNm': '태릉 ·  강릉 · 조선왕릉전시관', 'rnum': 10, 'sido': '서울특별시', 'yyyymm': '201112'}\n"
     ]
    }
   ],
   "source": [
    "for item in data[:10]:\n",
    "    print(item)"
   ]
  },
  {
   "cell_type": "code",
   "execution_count": 12,
   "metadata": {},
   "outputs": [
    {
     "data": {
      "text/plain": [
       "67"
      ]
     },
     "execution_count": 12,
     "metadata": {},
     "output_type": "execute_result"
    }
   ],
   "source": [
    "len(data)"
   ]
  },
  {
   "cell_type": "code",
   "execution_count": 13,
   "metadata": {
    "collapsed": true,
    "jupyter": {
     "outputs_hidden": true
    },
    "scrolled": true
   },
   "outputs": [
    {
     "data": {
      "text/plain": [
       "{'ForNum': 44722,\n",
       " 'NatNum': 75991,\n",
       " 'addrCd': 1111,\n",
       " 'gungu': '종로구',\n",
       " 'resNm': '창덕궁',\n",
       " 'rnum': 1,\n",
       " 'sido': '서울특별시',\n",
       " 'yyyymm': '201112'}"
      ]
     },
     "execution_count": 13,
     "metadata": {},
     "output_type": "execute_result"
    }
   ],
   "source": [
    "data[0]"
   ]
  },
  {
   "cell_type": "code",
   "execution_count": 20,
   "metadata": {
    "scrolled": true
   },
   "outputs": [
    {
     "data": {
      "text/plain": [
       "dict"
      ]
     },
     "execution_count": 20,
     "metadata": {},
     "output_type": "execute_result"
    }
   ],
   "source": [
    "type(data[0])"
   ]
  },
  {
   "cell_type": "code",
   "execution_count": 14,
   "metadata": {},
   "outputs": [
    {
     "data": {
      "text/plain": [
       "{'ForNum': 0,\n",
       " 'NatNum': 11017,\n",
       " 'addrCd': 1111,\n",
       " 'gungu': '종로구',\n",
       " 'resNm': '운현궁',\n",
       " 'rnum': 2,\n",
       " 'sido': '서울특별시',\n",
       " 'yyyymm': '201112'}"
      ]
     },
     "execution_count": 14,
     "metadata": {},
     "output_type": "execute_result"
    }
   ],
   "source": [
    "data[1]"
   ]
  },
  {
   "cell_type": "code",
   "execution_count": 15,
   "metadata": {},
   "outputs": [
    {
     "name": "stdout",
     "output_type": "stream",
     "text": [
      "dict_values([44722, 75991, 1111, '종로구', '창덕궁', 1, '서울특별시', '201112'])\n",
      "dict_values([0, 11017, 1111, '종로구', '운현궁', 2, '서울특별시', '201112'])\n",
      "dict_values([132399, 237330, 1111, '종로구', '경복궁', 3, '서울특별시', '201112'])\n",
      "dict_values([3133, 21267, 1111, '종로구', '창경궁', 4, '서울특별시', '201112'])\n",
      "dict_values([18226, 24223, 1111, '종로구', '종묘', 5, '서울특별시', '201112'])\n",
      "dict_values([0, 233828, 1117, '용산구', '국립중앙박물관', 6, '서울특별시', '201112'])\n",
      "dict_values([0, 93554, 1111, '종로구', '서울역사박물관', 7, '서울특별시', '201112'])\n",
      "dict_values([13935, 52140, 1114, '중구', '덕수궁', 8, '서울특별시', '201112'])\n",
      "dict_values([0, 61115, 1114, '중구', '서울시립미술관 본관', 9, '서울특별시', '201112'])\n",
      "dict_values([10, 1885, 1135, '노원구', '태릉 ·  강릉 · 조선왕릉전시관', 10, '서울특별시', '201112'])\n",
      "dict_values([0, 32412, 1141, '서대문구', '서대문형무소역사관', 11, '서울특별시', '201112'])\n",
      "dict_values([0, 19308, 1141, '서대문구', '서대문자연사박물관', 12, '서울특별시', '201112'])\n",
      "dict_values([5214, 6956, 1144, '마포구', '트릭아이미술관', 13, '서울특별시', '201112'])\n",
      "dict_values([333, 1823, 1165, '서초구', '헌릉ㆍ인릉', 14, '서울특별시', '201112'])\n",
      "dict_values([4704, 16634, 1168, '강남구', '선릉·정릉', 15, '서울특별시', '201112'])\n",
      "dict_values([52484, 642290, 1171, '송파구', '롯데월드', 16, '서울특별시', '201112'])\n",
      "dict_values([27814, 28061, 1111, '종로구', '창덕궁', 1, '서울특별시', '201212'])\n",
      "dict_values([546, 5978, 1111, '종로구', '운현궁', 2, '서울특별시', '201212'])\n",
      "dict_values([105370, 133012, 1111, '종로구', '경복궁', 3, '서울특별시', '201212'])\n",
      "dict_values([1451, 15722, 1111, '종로구', '창경궁', 4, '서울특별시', '201212'])\n",
      "dict_values([8817, 8068, 1111, '종로구', '종묘', 5, '서울특별시', '201212'])\n",
      "dict_values([13033, 227077, 1117, '용산구', '국립중앙박물관', 6, '서울특별시', '201212'])\n",
      "dict_values([1138, 78179, 1111, '종로구', '서울역사박물관', 7, '서울특별시', '201212'])\n",
      "dict_values([11151, 44855, 1114, '중구', '덕수궁', 8, '서울특별시', '201212'])\n",
      "dict_values([0, 213467, 1114, '중구', '서울시립미술관 본관', 9, '서울특별시', '201212'])\n",
      "dict_values([15, 1252, 1135, '노원구', '태릉 ·  강릉 · 조선왕릉전시관', 10, '서울특별시', '201212'])\n",
      "dict_values([6625, 14090, 1141, '서대문구', '서대문형무소역사관', 11, '서울특별시', '201212'])\n",
      "dict_values([0, 18881, 1141, '서대문구', '서대문자연사박물관', 12, '서울특별시', '201212'])\n",
      "dict_values([24492, 9167, 1144, '마포구', '트릭아이미술관', 13, '서울특별시', '201212'])\n",
      "dict_values([62, 860, 1165, '서초구', '헌릉ㆍ인릉', 14, '서울특별시', '201212'])\n",
      "dict_values([66868, 670056, 1171, '송파구', '롯데월드', 15, '서울특별시', '201212'])\n",
      "dict_values([25550, 38553, 1111, '종로구', '창덕궁', 1, '서울특별시', '201312'])\n",
      "dict_values([101942, 145544, 1111, '종로구', '경복궁', 2, '서울특별시', '201312'])\n",
      "dict_values([1986, 20035, 1111, '종로구', '창경궁', 3, '서울특별시', '201312'])\n",
      "dict_values([6048, 13896, 1111, '종로구', '종묘', 4, '서울특별시', '201312'])\n",
      "dict_values([9083, 286992, 1117, '용산구', '국립중앙박물관', 5, '서울특별시', '201312'])\n",
      "dict_values([13282, 99301, 1114, '중구', '덕수궁', 6, '서울특별시', '201312'])\n",
      "dict_values([6, 706, 1135, '노원구', '태릉 ·  강릉 · 조선왕릉전시관', 7, '서울특별시', '201312'])\n",
      "dict_values([6732, 14607, 1141, '서대문구', '서대문형무소역사관', 8, '서울특별시', '201312'])\n",
      "dict_values([0, 23245, 1141, '서대문구', '서대문자연사박물관', 9, '서울특별시', '201312'])\n",
      "dict_values([43129, 11886, 1144, '마포구', '트릭아이미술관', 10, '서울특별시', '201312'])\n",
      "dict_values([16, 1248, 1165, '서초구', '헌릉ㆍ인릉', 11, '서울특별시', '201312'])\n",
      "dict_values([1445, 11890, 1168, '강남구', '선릉·정릉', 12, '서울특별시', '201312'])\n",
      "dict_values([29928, 41561, 1111, '종로구', '창덕궁', 1, '서울특별시', '201412'])\n",
      "dict_values([129946, 190501, 1111, '종로구', '경복궁', 2, '서울특별시', '201412'])\n",
      "dict_values([1693, 19473, 1111, '종로구', '창경궁', 3, '서울특별시', '201412'])\n",
      "dict_values([3891, 5951, 1111, '종로구', '종묘', 4, '서울특별시', '201412'])\n",
      "dict_values([7195, 258781, 1117, '용산구', '국립중앙박물관', 5, '서울특별시', '201412'])\n",
      "dict_values([14723, 44272, 1114, '중구', '덕수궁', 6, '서울특별시', '201412'])\n",
      "dict_values([12, 486, 1135, '노원구', '태릉 ·  강릉 · 조선왕릉전시관', 7, '서울특별시', '201412'])\n",
      "dict_values([6263, 27205, 1141, '서대문구', '서대문형무소역사관', 8, '서울특별시', '201412'])\n",
      "dict_values([0, 24527, 1141, '서대문구', '서대문자연사박물관', 9, '서울특별시', '201412'])\n",
      "dict_values([42443, 7478, 1144, '마포구', '트릭아이미술관', 10, '서울특별시', '201412'])\n",
      "dict_values([5, 1036, 1165, '서초구', '헌릉ㆍ인릉', 11, '서울특별시', '201412'])\n",
      "dict_values([823, 8869, 1168, '강남구', '선릉·정릉', 12, '서울특별시', '201412'])\n",
      "dict_values([33342, 59738, 1111, '종로구', '창덕궁', 1, '서울특별시', '201512'])\n",
      "dict_values([170379, 148961, 1111, '종로구', '경복궁', 2, '서울특별시', '201512'])\n",
      "dict_values([1783, 27172, 1111, '종로구', '창경궁', 3, '서울특별시', '201512'])\n",
      "dict_values([3406, 14936, 1111, '종로구', '종묘', 4, '서울특별시', '201512'])\n",
      "dict_values([13127, 281457, 1117, '용산구', '국립중앙박물관', 5, '서울특별시', '201512'])\n",
      "dict_values([15197, 68749, 1114, '중구', '덕수궁', 6, '서울특별시', '201512'])\n",
      "dict_values([16, 2221, 1135, '노원구', '태릉 ·  강릉 · 조선왕릉전시관', 7, '서울특별시', '201512'])\n",
      "dict_values([5588, 44232, 1141, '서대문구', '서대문형무소역사관', 8, '서울특별시', '201512'])\n",
      "dict_values([0, 22587, 1141, '서대문구', '서대문자연사박물관', 9, '서울특별시', '201512'])\n",
      "dict_values([29520, 8822, 1144, '마포구', '트릭아이미술관', 10, '서울특별시', '201512'])\n",
      "dict_values([3, 1647, 1165, '서초구', '헌릉ㆍ인릉', 11, '서울특별시', '201512'])\n",
      "dict_values([492, 14454, 1168, '강남구', '선릉·정릉', 12, '서울특별시', '201512'])\n"
     ]
    }
   ],
   "source": [
    "for item in data:\n",
    "    print(item.values())\n",
    "    "
   ]
  },
  {
   "cell_type": "code",
   "execution_count": 17,
   "metadata": {},
   "outputs": [
    {
     "name": "stdout",
     "output_type": "stream",
     "text": [
      "492\n",
      "14454\n",
      "1168\n",
      "강남구\n",
      "선릉·정릉\n",
      "12\n",
      "서울특별시\n",
      "201512\n",
      "492\n",
      "14454\n",
      "1168\n",
      "강남구\n",
      "선릉·정릉\n",
      "12\n",
      "서울특별시\n",
      "201512\n",
      "492\n",
      "14454\n",
      "1168\n",
      "강남구\n",
      "선릉·정릉\n",
      "12\n",
      "서울특별시\n",
      "201512\n"
     ]
    }
   ],
   "source": [
    "for i in data[:3]:\n",
    "    #print(list(item.items()))\n",
    "    for value in item.values():\n",
    "        print(value)"
   ]
  },
  {
   "cell_type": "code",
   "execution_count": 18,
   "metadata": {},
   "outputs": [
    {
     "name": "stdout",
     "output_type": "stream",
     "text": [
      "44722\n",
      "75991\n",
      "1111\n",
      "종로구\n",
      "창덕궁\n",
      "1\n",
      "서울특별시\n",
      "201112\n",
      "0\n",
      "11017\n",
      "1111\n",
      "종로구\n",
      "운현궁\n",
      "2\n",
      "서울특별시\n",
      "201112\n",
      "132399\n",
      "237330\n",
      "1111\n",
      "종로구\n",
      "경복궁\n",
      "3\n",
      "서울특별시\n",
      "201112\n"
     ]
    }
   ],
   "source": [
    "for i in data[:3]:\n",
    "    #print(list(item.items()))\n",
    "    for value in i.values():\n",
    "        print(value)"
   ]
  },
  {
   "cell_type": "code",
   "execution_count": 19,
   "metadata": {},
   "outputs": [
    {
     "name": "stdout",
     "output_type": "stream",
     "text": [
      "('ForNum', 44722)\n",
      "('NatNum', 75991)\n",
      "('addrCd', 1111)\n",
      "('gungu', '종로구')\n",
      "('resNm', '창덕궁')\n",
      "('rnum', 1)\n",
      "('sido', '서울특별시')\n",
      "('yyyymm', '201112')\n",
      "('ForNum', 0)\n",
      "('NatNum', 11017)\n",
      "('addrCd', 1111)\n",
      "('gungu', '종로구')\n",
      "('resNm', '운현궁')\n",
      "('rnum', 2)\n",
      "('sido', '서울특별시')\n",
      "('yyyymm', '201112')\n",
      "('ForNum', 132399)\n",
      "('NatNum', 237330)\n",
      "('addrCd', 1111)\n",
      "('gungu', '종로구')\n",
      "('resNm', '경복궁')\n",
      "('rnum', 3)\n",
      "('sido', '서울특별시')\n",
      "('yyyymm', '201112')\n"
     ]
    }
   ],
   "source": [
    "for i in data[:3]:\n",
    "    #print(list(item.items()))\n",
    "    for value in i.values():\n",
    "        print(value)"
   ]
  },
  {
   "cell_type": "code",
   "execution_count": 48,
   "metadata": {},
   "outputs": [
    {
     "name": "stdout",
     "output_type": "stream",
     "text": [
      "ForNum 44722\n",
      "NatNum 75991\n",
      "ForNum 0\n",
      "NatNum 11017\n",
      "ForNum 132399\n",
      "NatNum 237330\n",
      "ForNum 3133\n",
      "NatNum 21267\n",
      "ForNum 18226\n",
      "NatNum 24223\n",
      "ForNum 0\n",
      "NatNum 233828\n",
      "ForNum 0\n",
      "NatNum 93554\n",
      "ForNum 13935\n",
      "NatNum 52140\n",
      "ForNum 0\n",
      "NatNum 61115\n",
      "ForNum 10\n",
      "NatNum 1885\n",
      "ForNum 0\n",
      "NatNum 32412\n",
      "ForNum 0\n",
      "NatNum 19308\n",
      "ForNum 5214\n",
      "NatNum 6956\n",
      "ForNum 333\n",
      "NatNum 1823\n",
      "ForNum 4704\n",
      "NatNum 16634\n",
      "ForNum 52484\n",
      "NatNum 642290\n",
      "ForNum 27814\n",
      "NatNum 28061\n",
      "ForNum 546\n",
      "NatNum 5978\n",
      "ForNum 105370\n",
      "NatNum 133012\n",
      "ForNum 1451\n",
      "NatNum 15722\n",
      "ForNum 8817\n",
      "NatNum 8068\n",
      "ForNum 13033\n",
      "NatNum 227077\n",
      "ForNum 1138\n",
      "NatNum 78179\n",
      "ForNum 11151\n",
      "NatNum 44855\n",
      "ForNum 0\n",
      "NatNum 213467\n",
      "ForNum 15\n",
      "NatNum 1252\n",
      "ForNum 6625\n",
      "NatNum 14090\n",
      "ForNum 0\n",
      "NatNum 18881\n",
      "ForNum 24492\n",
      "NatNum 9167\n",
      "ForNum 62\n",
      "NatNum 860\n",
      "ForNum 66868\n",
      "NatNum 670056\n",
      "ForNum 25550\n",
      "NatNum 38553\n",
      "ForNum 101942\n",
      "NatNum 145544\n",
      "ForNum 1986\n",
      "NatNum 20035\n",
      "ForNum 6048\n",
      "NatNum 13896\n",
      "ForNum 9083\n",
      "NatNum 286992\n",
      "ForNum 13282\n",
      "NatNum 99301\n",
      "ForNum 6\n",
      "NatNum 706\n",
      "ForNum 6732\n",
      "NatNum 14607\n",
      "ForNum 0\n",
      "NatNum 23245\n",
      "ForNum 43129\n",
      "NatNum 11886\n",
      "ForNum 16\n",
      "NatNum 1248\n",
      "ForNum 1445\n",
      "NatNum 11890\n",
      "ForNum 29928\n",
      "NatNum 41561\n",
      "ForNum 129946\n",
      "NatNum 190501\n",
      "ForNum 1693\n",
      "NatNum 19473\n",
      "ForNum 3891\n",
      "NatNum 5951\n",
      "ForNum 7195\n",
      "NatNum 258781\n",
      "ForNum 14723\n",
      "NatNum 44272\n",
      "ForNum 12\n",
      "NatNum 486\n",
      "ForNum 6263\n",
      "NatNum 27205\n",
      "ForNum 0\n",
      "NatNum 24527\n",
      "ForNum 42443\n",
      "NatNum 7478\n",
      "ForNum 5\n",
      "NatNum 1036\n",
      "ForNum 823\n",
      "NatNum 8869\n",
      "ForNum 33342\n",
      "NatNum 59738\n",
      "ForNum 170379\n",
      "NatNum 148961\n",
      "ForNum 1783\n",
      "NatNum 27172\n",
      "ForNum 3406\n",
      "NatNum 14936\n",
      "ForNum 13127\n",
      "NatNum 281457\n",
      "ForNum 15197\n",
      "NatNum 68749\n",
      "ForNum 16\n",
      "NatNum 2221\n",
      "ForNum 5588\n",
      "NatNum 44232\n",
      "ForNum 0\n",
      "NatNum 22587\n",
      "ForNum 29520\n",
      "NatNum 8822\n",
      "ForNum 3\n",
      "NatNum 1647\n",
      "ForNum 492\n",
      "NatNum 14454\n"
     ]
    }
   ],
   "source": [
    "for item in data[:]:\n",
    "    for key, value in list(item.items())[:2]:\n",
    "        print(key,value)"
   ]
  },
  {
   "cell_type": "code",
   "execution_count": 53,
   "metadata": {},
   "outputs": [
    {
     "name": "stdout",
     "output_type": "stream",
     "text": [
      "ForNum 44722\n",
      "NatNum 75991\n",
      "addrCd 1111\n",
      "gungu 종로구\n",
      "resNm 창덕궁\n",
      "rnum 1\n",
      "sido 서울특별시\n",
      "yyyymm 201112\n",
      "ForNum 0\n",
      "NatNum 11017\n",
      "addrCd 1111\n",
      "gungu 종로구\n",
      "resNm 운현궁\n",
      "rnum 2\n",
      "sido 서울특별시\n",
      "yyyymm 201112\n"
     ]
    }
   ],
   "source": [
    "for items in data[:2]:\n",
    "    for i in items:\n",
    "        print(i, items[i])"
   ]
  },
  {
   "cell_type": "code",
   "execution_count": 147,
   "metadata": {},
   "outputs": [
    {
     "name": "stdout",
     "output_type": "stream",
     "text": [
      "ForNum : \n"
     ]
    },
    {
     "ename": "TypeError",
     "evalue": "insert expected 2 arguments, got 0",
     "output_type": "error",
     "traceback": [
      "\u001b[1;31m---------------------------------------------------------------------------\u001b[0m",
      "\u001b[1;31mTypeError\u001b[0m                                 Traceback (most recent call last)",
      "Cell \u001b[1;32mIn[147], line 8\u001b[0m\n\u001b[0;32m      6\u001b[0m \u001b[38;5;28mprint\u001b[39m(key, \u001b[38;5;124m\"\u001b[39m\u001b[38;5;124m: \u001b[39m\u001b[38;5;124m\"\u001b[39m)\n\u001b[0;32m      7\u001b[0m \u001b[38;5;28;01mfor\u001b[39;00m k, v \u001b[38;5;129;01min\u001b[39;00m \u001b[38;5;28mlist\u001b[39m(item\u001b[38;5;241m.\u001b[39mitems()):\n\u001b[1;32m----> 8\u001b[0m     \u001b[38;5;28mprint\u001b[39m(\u001b[38;5;28;43mlist\u001b[39;49m\u001b[43m(\u001b[49m\u001b[43mitem\u001b[49m\u001b[38;5;241;43m.\u001b[39;49m\u001b[43mitems\u001b[49m\u001b[43m(\u001b[49m\u001b[43m)\u001b[49m\u001b[43m)\u001b[49m\u001b[38;5;241;43m.\u001b[39;49m\u001b[43minsert\u001b[49m\u001b[43m(\u001b[49m\u001b[43m)\u001b[49m)\n\u001b[0;32m      9\u001b[0m     \u001b[38;5;28mprint\u001b[39m(v, end \u001b[38;5;241m=\u001b[39m \u001b[38;5;124m\"\u001b[39m\u001b[38;5;124m\"\u001b[39m)\n",
      "\u001b[1;31mTypeError\u001b[0m: insert expected 2 arguments, got 0"
     ]
    }
   ],
   "source": [
    "count = 0\n",
    "for item in data[:10]:\n",
    "    for key in item:\n",
    "        if count < 8 :\n",
    "            count += 1\n",
    "            print(key, \": \")\n",
    "            for k, v in list(item.items()):\n",
    "                print(list(item.items()).insert())\n",
    "                print(v, end = \"\")"
   ]
  },
  {
   "cell_type": "code",
   "execution_count": 124,
   "metadata": {},
   "outputs": [
    {
     "ename": "IndentationError",
     "evalue": "unexpected indent (2376829625.py, line 7)",
     "output_type": "error",
     "traceback": [
      "\u001b[1;36m  Cell \u001b[1;32mIn[124], line 7\u001b[1;36m\u001b[0m\n\u001b[1;33m    for value in list(item.items()):\u001b[0m\n\u001b[1;37m    ^\u001b[0m\n\u001b[1;31mIndentationError\u001b[0m\u001b[1;31m:\u001b[0m unexpected indent\n"
     ]
    }
   ],
   "source": [
    "count = 0\n",
    "for item in data[:]:\n",
    "        for key, value in list(item.items()):\n",
    "            if count < 8:\n",
    "                count += 1\n",
    "                print(key, \": \")\n",
    "                    for value in list(item.items()):\n",
    "                        print(j)\n",
    "                        #list(item.items()).append(value)"
   ]
  },
  {
   "cell_type": "code",
   "execution_count": 98,
   "metadata": {},
   "outputs": [
    {
     "name": "stdout",
     "output_type": "stream",
     "text": [
      "('ForNum', 44722)\n",
      "('NatNum', 75991)\n",
      "('addrCd', 1111)\n",
      "('gungu', '종로구')\n",
      "('resNm', '창덕궁')\n",
      "('rnum', 1)\n",
      "('sido', '서울특별시')\n",
      "('yyyymm', '201112')\n",
      "('ForNum', 0)\n",
      "('NatNum', 11017)\n",
      "('addrCd', 1111)\n",
      "('gungu', '종로구')\n",
      "('resNm', '운현궁')\n",
      "('rnum', 2)\n",
      "('sido', '서울특별시')\n",
      "('yyyymm', '201112')\n",
      "('ForNum', 132399)\n",
      "('NatNum', 237330)\n",
      "('addrCd', 1111)\n",
      "('gungu', '종로구')\n",
      "('resNm', '경복궁')\n",
      "('rnum', 3)\n",
      "('sido', '서울특별시')\n",
      "('yyyymm', '201112')\n",
      "('ForNum', 3133)\n",
      "('NatNum', 21267)\n",
      "('addrCd', 1111)\n",
      "('gungu', '종로구')\n",
      "('resNm', '창경궁')\n",
      "('rnum', 4)\n",
      "('sido', '서울특별시')\n",
      "('yyyymm', '201112')\n",
      "('ForNum', 18226)\n",
      "('NatNum', 24223)\n",
      "('addrCd', 1111)\n",
      "('gungu', '종로구')\n",
      "('resNm', '종묘')\n",
      "('rnum', 5)\n",
      "('sido', '서울특별시')\n",
      "('yyyymm', '201112')\n",
      "('ForNum', 0)\n",
      "('NatNum', 233828)\n",
      "('addrCd', 1117)\n",
      "('gungu', '용산구')\n",
      "('resNm', '국립중앙박물관')\n",
      "('rnum', 6)\n",
      "('sido', '서울특별시')\n",
      "('yyyymm', '201112')\n",
      "('ForNum', 0)\n",
      "('NatNum', 93554)\n",
      "('addrCd', 1111)\n",
      "('gungu', '종로구')\n",
      "('resNm', '서울역사박물관')\n",
      "('rnum', 7)\n",
      "('sido', '서울특별시')\n",
      "('yyyymm', '201112')\n",
      "('ForNum', 13935)\n",
      "('NatNum', 52140)\n",
      "('addrCd', 1114)\n",
      "('gungu', '중구')\n",
      "('resNm', '덕수궁')\n",
      "('rnum', 8)\n",
      "('sido', '서울특별시')\n",
      "('yyyymm', '201112')\n",
      "('ForNum', 0)\n",
      "('NatNum', 61115)\n",
      "('addrCd', 1114)\n",
      "('gungu', '중구')\n",
      "('resNm', '서울시립미술관 본관')\n",
      "('rnum', 9)\n",
      "('sido', '서울특별시')\n",
      "('yyyymm', '201112')\n",
      "('ForNum', 10)\n",
      "('NatNum', 1885)\n",
      "('addrCd', 1135)\n",
      "('gungu', '노원구')\n",
      "('resNm', '태릉 ·  강릉 · 조선왕릉전시관')\n",
      "('rnum', 10)\n",
      "('sido', '서울특별시')\n",
      "('yyyymm', '201112')\n",
      "('ForNum', 0)\n",
      "('NatNum', 32412)\n",
      "('addrCd', 1141)\n",
      "('gungu', '서대문구')\n",
      "('resNm', '서대문형무소역사관')\n",
      "('rnum', 11)\n",
      "('sido', '서울특별시')\n",
      "('yyyymm', '201112')\n",
      "('ForNum', 0)\n",
      "('NatNum', 19308)\n",
      "('addrCd', 1141)\n",
      "('gungu', '서대문구')\n",
      "('resNm', '서대문자연사박물관')\n",
      "('rnum', 12)\n",
      "('sido', '서울특별시')\n",
      "('yyyymm', '201112')\n",
      "('ForNum', 5214)\n",
      "('NatNum', 6956)\n",
      "('addrCd', 1144)\n",
      "('gungu', '마포구')\n",
      "('resNm', '트릭아이미술관')\n",
      "('rnum', 13)\n",
      "('sido', '서울특별시')\n",
      "('yyyymm', '201112')\n",
      "('ForNum', 333)\n",
      "('NatNum', 1823)\n",
      "('addrCd', 1165)\n",
      "('gungu', '서초구')\n",
      "('resNm', '헌릉ㆍ인릉')\n",
      "('rnum', 14)\n",
      "('sido', '서울특별시')\n",
      "('yyyymm', '201112')\n",
      "('ForNum', 4704)\n",
      "('NatNum', 16634)\n",
      "('addrCd', 1168)\n",
      "('gungu', '강남구')\n",
      "('resNm', '선릉·정릉')\n",
      "('rnum', 15)\n",
      "('sido', '서울특별시')\n",
      "('yyyymm', '201112')\n",
      "('ForNum', 52484)\n",
      "('NatNum', 642290)\n",
      "('addrCd', 1171)\n",
      "('gungu', '송파구')\n",
      "('resNm', '롯데월드')\n",
      "('rnum', 16)\n",
      "('sido', '서울특별시')\n",
      "('yyyymm', '201112')\n",
      "('ForNum', 27814)\n",
      "('NatNum', 28061)\n",
      "('addrCd', 1111)\n",
      "('gungu', '종로구')\n",
      "('resNm', '창덕궁')\n",
      "('rnum', 1)\n",
      "('sido', '서울특별시')\n",
      "('yyyymm', '201212')\n",
      "('ForNum', 546)\n",
      "('NatNum', 5978)\n",
      "('addrCd', 1111)\n",
      "('gungu', '종로구')\n",
      "('resNm', '운현궁')\n",
      "('rnum', 2)\n",
      "('sido', '서울특별시')\n",
      "('yyyymm', '201212')\n",
      "('ForNum', 105370)\n",
      "('NatNum', 133012)\n",
      "('addrCd', 1111)\n",
      "('gungu', '종로구')\n",
      "('resNm', '경복궁')\n",
      "('rnum', 3)\n",
      "('sido', '서울특별시')\n",
      "('yyyymm', '201212')\n",
      "('ForNum', 1451)\n",
      "('NatNum', 15722)\n",
      "('addrCd', 1111)\n",
      "('gungu', '종로구')\n",
      "('resNm', '창경궁')\n",
      "('rnum', 4)\n",
      "('sido', '서울특별시')\n",
      "('yyyymm', '201212')\n",
      "('ForNum', 8817)\n",
      "('NatNum', 8068)\n",
      "('addrCd', 1111)\n",
      "('gungu', '종로구')\n",
      "('resNm', '종묘')\n",
      "('rnum', 5)\n",
      "('sido', '서울특별시')\n",
      "('yyyymm', '201212')\n",
      "('ForNum', 13033)\n",
      "('NatNum', 227077)\n",
      "('addrCd', 1117)\n",
      "('gungu', '용산구')\n",
      "('resNm', '국립중앙박물관')\n",
      "('rnum', 6)\n",
      "('sido', '서울특별시')\n",
      "('yyyymm', '201212')\n",
      "('ForNum', 1138)\n",
      "('NatNum', 78179)\n",
      "('addrCd', 1111)\n",
      "('gungu', '종로구')\n",
      "('resNm', '서울역사박물관')\n",
      "('rnum', 7)\n",
      "('sido', '서울특별시')\n",
      "('yyyymm', '201212')\n",
      "('ForNum', 11151)\n",
      "('NatNum', 44855)\n",
      "('addrCd', 1114)\n",
      "('gungu', '중구')\n",
      "('resNm', '덕수궁')\n",
      "('rnum', 8)\n",
      "('sido', '서울특별시')\n",
      "('yyyymm', '201212')\n",
      "('ForNum', 0)\n",
      "('NatNum', 213467)\n",
      "('addrCd', 1114)\n",
      "('gungu', '중구')\n",
      "('resNm', '서울시립미술관 본관')\n",
      "('rnum', 9)\n",
      "('sido', '서울특별시')\n",
      "('yyyymm', '201212')\n",
      "('ForNum', 15)\n",
      "('NatNum', 1252)\n",
      "('addrCd', 1135)\n",
      "('gungu', '노원구')\n",
      "('resNm', '태릉 ·  강릉 · 조선왕릉전시관')\n",
      "('rnum', 10)\n",
      "('sido', '서울특별시')\n",
      "('yyyymm', '201212')\n",
      "('ForNum', 6625)\n",
      "('NatNum', 14090)\n",
      "('addrCd', 1141)\n",
      "('gungu', '서대문구')\n",
      "('resNm', '서대문형무소역사관')\n",
      "('rnum', 11)\n",
      "('sido', '서울특별시')\n",
      "('yyyymm', '201212')\n",
      "('ForNum', 0)\n",
      "('NatNum', 18881)\n",
      "('addrCd', 1141)\n",
      "('gungu', '서대문구')\n",
      "('resNm', '서대문자연사박물관')\n",
      "('rnum', 12)\n",
      "('sido', '서울특별시')\n",
      "('yyyymm', '201212')\n",
      "('ForNum', 24492)\n",
      "('NatNum', 9167)\n",
      "('addrCd', 1144)\n",
      "('gungu', '마포구')\n",
      "('resNm', '트릭아이미술관')\n",
      "('rnum', 13)\n",
      "('sido', '서울특별시')\n",
      "('yyyymm', '201212')\n",
      "('ForNum', 62)\n",
      "('NatNum', 860)\n",
      "('addrCd', 1165)\n",
      "('gungu', '서초구')\n",
      "('resNm', '헌릉ㆍ인릉')\n",
      "('rnum', 14)\n",
      "('sido', '서울특별시')\n",
      "('yyyymm', '201212')\n",
      "('ForNum', 66868)\n",
      "('NatNum', 670056)\n",
      "('addrCd', 1171)\n",
      "('gungu', '송파구')\n",
      "('resNm', '롯데월드')\n",
      "('rnum', 15)\n",
      "('sido', '서울특별시')\n",
      "('yyyymm', '201212')\n",
      "('ForNum', 25550)\n",
      "('NatNum', 38553)\n",
      "('addrCd', 1111)\n",
      "('gungu', '종로구')\n",
      "('resNm', '창덕궁')\n",
      "('rnum', 1)\n",
      "('sido', '서울특별시')\n",
      "('yyyymm', '201312')\n",
      "('ForNum', 101942)\n",
      "('NatNum', 145544)\n",
      "('addrCd', 1111)\n",
      "('gungu', '종로구')\n",
      "('resNm', '경복궁')\n",
      "('rnum', 2)\n",
      "('sido', '서울특별시')\n",
      "('yyyymm', '201312')\n",
      "('ForNum', 1986)\n",
      "('NatNum', 20035)\n",
      "('addrCd', 1111)\n",
      "('gungu', '종로구')\n",
      "('resNm', '창경궁')\n",
      "('rnum', 3)\n",
      "('sido', '서울특별시')\n",
      "('yyyymm', '201312')\n",
      "('ForNum', 6048)\n",
      "('NatNum', 13896)\n",
      "('addrCd', 1111)\n",
      "('gungu', '종로구')\n",
      "('resNm', '종묘')\n",
      "('rnum', 4)\n",
      "('sido', '서울특별시')\n",
      "('yyyymm', '201312')\n",
      "('ForNum', 9083)\n",
      "('NatNum', 286992)\n",
      "('addrCd', 1117)\n",
      "('gungu', '용산구')\n",
      "('resNm', '국립중앙박물관')\n",
      "('rnum', 5)\n",
      "('sido', '서울특별시')\n",
      "('yyyymm', '201312')\n",
      "('ForNum', 13282)\n",
      "('NatNum', 99301)\n",
      "('addrCd', 1114)\n",
      "('gungu', '중구')\n",
      "('resNm', '덕수궁')\n",
      "('rnum', 6)\n",
      "('sido', '서울특별시')\n",
      "('yyyymm', '201312')\n",
      "('ForNum', 6)\n",
      "('NatNum', 706)\n",
      "('addrCd', 1135)\n",
      "('gungu', '노원구')\n",
      "('resNm', '태릉 ·  강릉 · 조선왕릉전시관')\n",
      "('rnum', 7)\n",
      "('sido', '서울특별시')\n",
      "('yyyymm', '201312')\n",
      "('ForNum', 6732)\n",
      "('NatNum', 14607)\n",
      "('addrCd', 1141)\n",
      "('gungu', '서대문구')\n",
      "('resNm', '서대문형무소역사관')\n",
      "('rnum', 8)\n",
      "('sido', '서울특별시')\n",
      "('yyyymm', '201312')\n",
      "('ForNum', 0)\n",
      "('NatNum', 23245)\n",
      "('addrCd', 1141)\n",
      "('gungu', '서대문구')\n",
      "('resNm', '서대문자연사박물관')\n",
      "('rnum', 9)\n",
      "('sido', '서울특별시')\n",
      "('yyyymm', '201312')\n",
      "('ForNum', 43129)\n",
      "('NatNum', 11886)\n",
      "('addrCd', 1144)\n",
      "('gungu', '마포구')\n",
      "('resNm', '트릭아이미술관')\n",
      "('rnum', 10)\n",
      "('sido', '서울특별시')\n",
      "('yyyymm', '201312')\n",
      "('ForNum', 16)\n",
      "('NatNum', 1248)\n",
      "('addrCd', 1165)\n",
      "('gungu', '서초구')\n",
      "('resNm', '헌릉ㆍ인릉')\n",
      "('rnum', 11)\n",
      "('sido', '서울특별시')\n",
      "('yyyymm', '201312')\n",
      "('ForNum', 1445)\n",
      "('NatNum', 11890)\n",
      "('addrCd', 1168)\n",
      "('gungu', '강남구')\n",
      "('resNm', '선릉·정릉')\n",
      "('rnum', 12)\n",
      "('sido', '서울특별시')\n",
      "('yyyymm', '201312')\n",
      "('ForNum', 29928)\n",
      "('NatNum', 41561)\n",
      "('addrCd', 1111)\n",
      "('gungu', '종로구')\n",
      "('resNm', '창덕궁')\n",
      "('rnum', 1)\n",
      "('sido', '서울특별시')\n",
      "('yyyymm', '201412')\n",
      "('ForNum', 129946)\n",
      "('NatNum', 190501)\n",
      "('addrCd', 1111)\n",
      "('gungu', '종로구')\n",
      "('resNm', '경복궁')\n",
      "('rnum', 2)\n",
      "('sido', '서울특별시')\n",
      "('yyyymm', '201412')\n",
      "('ForNum', 1693)\n",
      "('NatNum', 19473)\n",
      "('addrCd', 1111)\n",
      "('gungu', '종로구')\n",
      "('resNm', '창경궁')\n",
      "('rnum', 3)\n",
      "('sido', '서울특별시')\n",
      "('yyyymm', '201412')\n",
      "('ForNum', 3891)\n",
      "('NatNum', 5951)\n",
      "('addrCd', 1111)\n",
      "('gungu', '종로구')\n",
      "('resNm', '종묘')\n",
      "('rnum', 4)\n",
      "('sido', '서울특별시')\n",
      "('yyyymm', '201412')\n",
      "('ForNum', 7195)\n",
      "('NatNum', 258781)\n",
      "('addrCd', 1117)\n",
      "('gungu', '용산구')\n",
      "('resNm', '국립중앙박물관')\n",
      "('rnum', 5)\n",
      "('sido', '서울특별시')\n",
      "('yyyymm', '201412')\n",
      "('ForNum', 14723)\n",
      "('NatNum', 44272)\n",
      "('addrCd', 1114)\n",
      "('gungu', '중구')\n",
      "('resNm', '덕수궁')\n",
      "('rnum', 6)\n",
      "('sido', '서울특별시')\n",
      "('yyyymm', '201412')\n",
      "('ForNum', 12)\n",
      "('NatNum', 486)\n",
      "('addrCd', 1135)\n",
      "('gungu', '노원구')\n",
      "('resNm', '태릉 ·  강릉 · 조선왕릉전시관')\n",
      "('rnum', 7)\n",
      "('sido', '서울특별시')\n",
      "('yyyymm', '201412')\n",
      "('ForNum', 6263)\n",
      "('NatNum', 27205)\n",
      "('addrCd', 1141)\n",
      "('gungu', '서대문구')\n",
      "('resNm', '서대문형무소역사관')\n",
      "('rnum', 8)\n",
      "('sido', '서울특별시')\n",
      "('yyyymm', '201412')\n",
      "('ForNum', 0)\n",
      "('NatNum', 24527)\n",
      "('addrCd', 1141)\n",
      "('gungu', '서대문구')\n",
      "('resNm', '서대문자연사박물관')\n",
      "('rnum', 9)\n",
      "('sido', '서울특별시')\n",
      "('yyyymm', '201412')\n",
      "('ForNum', 42443)\n",
      "('NatNum', 7478)\n",
      "('addrCd', 1144)\n",
      "('gungu', '마포구')\n",
      "('resNm', '트릭아이미술관')\n",
      "('rnum', 10)\n",
      "('sido', '서울특별시')\n",
      "('yyyymm', '201412')\n",
      "('ForNum', 5)\n",
      "('NatNum', 1036)\n",
      "('addrCd', 1165)\n",
      "('gungu', '서초구')\n",
      "('resNm', '헌릉ㆍ인릉')\n",
      "('rnum', 11)\n",
      "('sido', '서울특별시')\n",
      "('yyyymm', '201412')\n",
      "('ForNum', 823)\n",
      "('NatNum', 8869)\n",
      "('addrCd', 1168)\n",
      "('gungu', '강남구')\n",
      "('resNm', '선릉·정릉')\n",
      "('rnum', 12)\n",
      "('sido', '서울특별시')\n",
      "('yyyymm', '201412')\n",
      "('ForNum', 33342)\n",
      "('NatNum', 59738)\n",
      "('addrCd', 1111)\n",
      "('gungu', '종로구')\n",
      "('resNm', '창덕궁')\n",
      "('rnum', 1)\n",
      "('sido', '서울특별시')\n",
      "('yyyymm', '201512')\n",
      "('ForNum', 170379)\n",
      "('NatNum', 148961)\n",
      "('addrCd', 1111)\n",
      "('gungu', '종로구')\n",
      "('resNm', '경복궁')\n",
      "('rnum', 2)\n",
      "('sido', '서울특별시')\n",
      "('yyyymm', '201512')\n",
      "('ForNum', 1783)\n",
      "('NatNum', 27172)\n",
      "('addrCd', 1111)\n",
      "('gungu', '종로구')\n",
      "('resNm', '창경궁')\n",
      "('rnum', 3)\n",
      "('sido', '서울특별시')\n",
      "('yyyymm', '201512')\n",
      "('ForNum', 3406)\n",
      "('NatNum', 14936)\n",
      "('addrCd', 1111)\n",
      "('gungu', '종로구')\n",
      "('resNm', '종묘')\n",
      "('rnum', 4)\n",
      "('sido', '서울특별시')\n",
      "('yyyymm', '201512')\n",
      "('ForNum', 13127)\n",
      "('NatNum', 281457)\n",
      "('addrCd', 1117)\n",
      "('gungu', '용산구')\n",
      "('resNm', '국립중앙박물관')\n",
      "('rnum', 5)\n",
      "('sido', '서울특별시')\n",
      "('yyyymm', '201512')\n",
      "('ForNum', 15197)\n",
      "('NatNum', 68749)\n",
      "('addrCd', 1114)\n",
      "('gungu', '중구')\n",
      "('resNm', '덕수궁')\n",
      "('rnum', 6)\n",
      "('sido', '서울특별시')\n",
      "('yyyymm', '201512')\n",
      "('ForNum', 16)\n",
      "('NatNum', 2221)\n",
      "('addrCd', 1135)\n",
      "('gungu', '노원구')\n",
      "('resNm', '태릉 ·  강릉 · 조선왕릉전시관')\n",
      "('rnum', 7)\n",
      "('sido', '서울특별시')\n",
      "('yyyymm', '201512')\n",
      "('ForNum', 5588)\n",
      "('NatNum', 44232)\n",
      "('addrCd', 1141)\n",
      "('gungu', '서대문구')\n",
      "('resNm', '서대문형무소역사관')\n",
      "('rnum', 8)\n",
      "('sido', '서울특별시')\n",
      "('yyyymm', '201512')\n",
      "('ForNum', 0)\n",
      "('NatNum', 22587)\n",
      "('addrCd', 1141)\n",
      "('gungu', '서대문구')\n",
      "('resNm', '서대문자연사박물관')\n",
      "('rnum', 9)\n",
      "('sido', '서울특별시')\n",
      "('yyyymm', '201512')\n",
      "('ForNum', 29520)\n",
      "('NatNum', 8822)\n",
      "('addrCd', 1144)\n",
      "('gungu', '마포구')\n",
      "('resNm', '트릭아이미술관')\n",
      "('rnum', 10)\n",
      "('sido', '서울특별시')\n",
      "('yyyymm', '201512')\n",
      "('ForNum', 3)\n",
      "('NatNum', 1647)\n",
      "('addrCd', 1165)\n",
      "('gungu', '서초구')\n",
      "('resNm', '헌릉ㆍ인릉')\n",
      "('rnum', 11)\n",
      "('sido', '서울특별시')\n",
      "('yyyymm', '201512')\n",
      "('ForNum', 492)\n",
      "('NatNum', 14454)\n",
      "('addrCd', 1168)\n",
      "('gungu', '강남구')\n",
      "('resNm', '선릉·정릉')\n",
      "('rnum', 12)\n",
      "('sido', '서울특별시')\n",
      "('yyyymm', '201512')\n"
     ]
    }
   ],
   "source": [
    "for item in data[:]:\n",
    "    for value in list(item.items())[:8]:\n",
    "        print(value)"
   ]
  },
  {
   "cell_type": "code",
   "execution_count": 150,
   "metadata": {},
   "outputs": [
    {
     "name": "stdout",
     "output_type": "stream",
     "text": [
      "ForNum : [44722, 0, 132399, 3133, 18226, 0, 0, 13935, 0, 10, 0, 0, 5214, 333, 4704, 52484, 27814, 546, 105370, 1451, 8817, 13033, 1138, 11151, 0, 15, 6625, 0, 24492, 62, 66868, 25550, 101942, 1986, 6048, 9083, 13282, 6, 6732, 0, 43129, 16, 1445, 29928, 129946, 1693, 3891, 7195, 14723, 12, 6263, 0, 42443, 5, 823, 33342, 170379, 1783, 3406, 13127, 15197, 16, 5588, 0, 29520, 3, 492]\n",
      "NatNum : [75991, 11017, 237330, 21267, 24223, 233828, 93554, 52140, 61115, 1885, 32412, 19308, 6956, 1823, 16634, 642290, 28061, 5978, 133012, 15722, 8068, 227077, 78179, 44855, 213467, 1252, 14090, 18881, 9167, 860, 670056, 38553, 145544, 20035, 13896, 286992, 99301, 706, 14607, 23245, 11886, 1248, 11890, 41561, 190501, 19473, 5951, 258781, 44272, 486, 27205, 24527, 7478, 1036, 8869, 59738, 148961, 27172, 14936, 281457, 68749, 2221, 44232, 22587, 8822, 1647, 14454]\n",
      "addrCd : [1111, 1111, 1111, 1111, 1111, 1117, 1111, 1114, 1114, 1135, 1141, 1141, 1144, 1165, 1168, 1171, 1111, 1111, 1111, 1111, 1111, 1117, 1111, 1114, 1114, 1135, 1141, 1141, 1144, 1165, 1171, 1111, 1111, 1111, 1111, 1117, 1114, 1135, 1141, 1141, 1144, 1165, 1168, 1111, 1111, 1111, 1111, 1117, 1114, 1135, 1141, 1141, 1144, 1165, 1168, 1111, 1111, 1111, 1111, 1117, 1114, 1135, 1141, 1141, 1144, 1165, 1168]\n",
      "gungu : ['종로구', '종로구', '종로구', '종로구', '종로구', '용산구', '종로구', '중구', '중구', '노원구', '서대문구', '서대문구', '마포구', '서초구', '강남구', '송파구', '종로구', '종로구', '종로구', '종로구', '종로구', '용산구', '종로구', '중구', '중구', '노원구', '서대문구', '서대문구', '마포구', '서초구', '송파구', '종로구', '종로구', '종로구', '종로구', '용산구', '중구', '노원구', '서대문구', '서대문구', '마포구', '서초구', '강남구', '종로구', '종로구', '종로구', '종로구', '용산구', '중구', '노원구', '서대문구', '서대문구', '마포구', '서초구', '강남구', '종로구', '종로구', '종로구', '종로구', '용산구', '중구', '노원구', '서대문구', '서대문구', '마포구', '서초구', '강남구']\n",
      "resNm : ['창덕궁', '운현궁', '경복궁', '창경궁', '종묘', '국립중앙박물관', '서울역사박물관', '덕수궁', '서울시립미술관 본관', '태릉 ·  강릉 · 조선왕릉전시관', '서대문형무소역사관', '서대문자연사박물관', '트릭아이미술관', '헌릉ㆍ인릉', '선릉·정릉', '롯데월드', '창덕궁', '운현궁', '경복궁', '창경궁', '종묘', '국립중앙박물관', '서울역사박물관', '덕수궁', '서울시립미술관 본관', '태릉 ·  강릉 · 조선왕릉전시관', '서대문형무소역사관', '서대문자연사박물관', '트릭아이미술관', '헌릉ㆍ인릉', '롯데월드', '창덕궁', '경복궁', '창경궁', '종묘', '국립중앙박물관', '덕수궁', '태릉 ·  강릉 · 조선왕릉전시관', '서대문형무소역사관', '서대문자연사박물관', '트릭아이미술관', '헌릉ㆍ인릉', '선릉·정릉', '창덕궁', '경복궁', '창경궁', '종묘', '국립중앙박물관', '덕수궁', '태릉 ·  강릉 · 조선왕릉전시관', '서대문형무소역사관', '서대문자연사박물관', '트릭아이미술관', '헌릉ㆍ인릉', '선릉·정릉', '창덕궁', '경복궁', '창경궁', '종묘', '국립중앙박물관', '덕수궁', '태릉 ·  강릉 · 조선왕릉전시관', '서대문형무소역사관', '서대문자연사박물관', '트릭아이미술관', '헌릉ㆍ인릉', '선릉·정릉']\n",
      "rnum : [1, 2, 3, 4, 5, 6, 7, 8, 9, 10, 11, 12, 13, 14, 15, 16, 1, 2, 3, 4, 5, 6, 7, 8, 9, 10, 11, 12, 13, 14, 15, 1, 2, 3, 4, 5, 6, 7, 8, 9, 10, 11, 12, 1, 2, 3, 4, 5, 6, 7, 8, 9, 10, 11, 12, 1, 2, 3, 4, 5, 6, 7, 8, 9, 10, 11, 12]\n",
      "sido : ['서울특별시', '서울특별시', '서울특별시', '서울특별시', '서울특별시', '서울특별시', '서울특별시', '서울특별시', '서울특별시', '서울특별시', '서울특별시', '서울특별시', '서울특별시', '서울특별시', '서울특별시', '서울특별시', '서울특별시', '서울특별시', '서울특별시', '서울특별시', '서울특별시', '서울특별시', '서울특별시', '서울특별시', '서울특별시', '서울특별시', '서울특별시', '서울특별시', '서울특별시', '서울특별시', '서울특별시', '서울특별시', '서울특별시', '서울특별시', '서울특별시', '서울특별시', '서울특별시', '서울특별시', '서울특별시', '서울특별시', '서울특별시', '서울특별시', '서울특별시', '서울특별시', '서울특별시', '서울특별시', '서울특별시', '서울특별시', '서울특별시', '서울특별시', '서울특별시', '서울특별시', '서울특별시', '서울특별시', '서울특별시', '서울특별시', '서울특별시', '서울특별시', '서울특별시', '서울특별시', '서울특별시', '서울특별시', '서울특별시', '서울특별시', '서울특별시', '서울특별시', '서울특별시']\n",
      "yyyymm : ['201112', '201112', '201112', '201112', '201112', '201112', '201112', '201112', '201112', '201112', '201112', '201112', '201112', '201112', '201112', '201112', '201212', '201212', '201212', '201212', '201212', '201212', '201212', '201212', '201212', '201212', '201212', '201212', '201212', '201212', '201212', '201312', '201312', '201312', '201312', '201312', '201312', '201312', '201312', '201312', '201312', '201312', '201312', '201412', '201412', '201412', '201412', '201412', '201412', '201412', '201412', '201412', '201412', '201412', '201412', '201512', '201512', '201512', '201512', '201512', '201512', '201512', '201512', '201512', '201512', '201512', '201512']\n"
     ]
    }
   ],
   "source": [
    "result = {\n",
    "    \"ForNum\": [],\n",
    "    \"NatNum\": [],\n",
    "    \"addrCd\": [],\n",
    "    \"gungu\": [],\n",
    "    \"resNm\": [],\n",
    "    \"rnum\": [],\n",
    "    \"sido\": [],\n",
    "    \"yyyymm\": []\n",
    "}\n",
    "\n",
    "for item in data:\n",
    "    for key in result.keys():\n",
    "        result[key].append(item[key])\n",
    "\n",
    "# 결과 출력\n",
    "for key, values in result.items():\n",
    "    print(key, \":\", values)"
   ]
  },
  {
   "cell_type": "markdown",
   "metadata": {},
   "source": [
    "## 엑셀처럼 정리하기 위해 key 하나에 value를 list로 모아 담기"
   ]
  },
  {
   "cell_type": "code",
   "execution_count": 154,
   "metadata": {},
   "outputs": [
    {
     "data": {
      "text/plain": [
       "dict_keys(['ForNum', 'NatNum', 'addrCd', 'gungu', 'resNm', 'rnum', 'sido', 'yyyymm'])"
      ]
     },
     "execution_count": 154,
     "metadata": {},
     "output_type": "execute_result"
    }
   ],
   "source": [
    "data[0].keys()"
   ]
  },
  {
   "cell_type": "code",
   "execution_count": 155,
   "metadata": {},
   "outputs": [
    {
     "name": "stdout",
     "output_type": "stream",
     "text": [
      "44722\n",
      "75991\n",
      "1111\n",
      "종로구\n",
      "창덕궁\n",
      "1\n",
      "서울특별시\n",
      "201112\n",
      "0\n",
      "11017\n",
      "1111\n",
      "종로구\n",
      "운현궁\n",
      "2\n",
      "서울특별시\n",
      "201112\n",
      "132399\n",
      "237330\n",
      "1111\n",
      "종로구\n",
      "경복궁\n",
      "3\n",
      "서울특별시\n",
      "201112\n",
      "3133\n",
      "21267\n",
      "1111\n",
      "종로구\n",
      "창경궁\n",
      "4\n",
      "서울특별시\n",
      "201112\n",
      "18226\n",
      "24223\n",
      "1111\n",
      "종로구\n",
      "종묘\n",
      "5\n",
      "서울특별시\n",
      "201112\n",
      "0\n",
      "233828\n",
      "1117\n",
      "용산구\n",
      "국립중앙박물관\n",
      "6\n",
      "서울특별시\n",
      "201112\n",
      "0\n",
      "93554\n",
      "1111\n",
      "종로구\n",
      "서울역사박물관\n",
      "7\n",
      "서울특별시\n",
      "201112\n",
      "13935\n",
      "52140\n",
      "1114\n",
      "중구\n",
      "덕수궁\n",
      "8\n",
      "서울특별시\n",
      "201112\n",
      "0\n",
      "61115\n",
      "1114\n",
      "중구\n",
      "서울시립미술관 본관\n",
      "9\n",
      "서울특별시\n",
      "201112\n",
      "10\n",
      "1885\n",
      "1135\n",
      "노원구\n",
      "태릉 ·  강릉 · 조선왕릉전시관\n",
      "10\n",
      "서울특별시\n",
      "201112\n",
      "0\n",
      "32412\n",
      "1141\n",
      "서대문구\n",
      "서대문형무소역사관\n",
      "11\n",
      "서울특별시\n",
      "201112\n",
      "0\n",
      "19308\n",
      "1141\n",
      "서대문구\n",
      "서대문자연사박물관\n",
      "12\n",
      "서울특별시\n",
      "201112\n",
      "5214\n",
      "6956\n",
      "1144\n",
      "마포구\n",
      "트릭아이미술관\n",
      "13\n",
      "서울특별시\n",
      "201112\n",
      "333\n",
      "1823\n",
      "1165\n",
      "서초구\n",
      "헌릉ㆍ인릉\n",
      "14\n",
      "서울특별시\n",
      "201112\n",
      "4704\n",
      "16634\n",
      "1168\n",
      "강남구\n",
      "선릉·정릉\n",
      "15\n",
      "서울특별시\n",
      "201112\n",
      "52484\n",
      "642290\n",
      "1171\n",
      "송파구\n",
      "롯데월드\n",
      "16\n",
      "서울특별시\n",
      "201112\n",
      "27814\n",
      "28061\n",
      "1111\n",
      "종로구\n",
      "창덕궁\n",
      "1\n",
      "서울특별시\n",
      "201212\n",
      "546\n",
      "5978\n",
      "1111\n",
      "종로구\n",
      "운현궁\n",
      "2\n",
      "서울특별시\n",
      "201212\n",
      "105370\n",
      "133012\n",
      "1111\n",
      "종로구\n",
      "경복궁\n",
      "3\n",
      "서울특별시\n",
      "201212\n",
      "1451\n",
      "15722\n",
      "1111\n",
      "종로구\n",
      "창경궁\n",
      "4\n",
      "서울특별시\n",
      "201212\n",
      "8817\n",
      "8068\n",
      "1111\n",
      "종로구\n",
      "종묘\n",
      "5\n",
      "서울특별시\n",
      "201212\n",
      "13033\n",
      "227077\n",
      "1117\n",
      "용산구\n",
      "국립중앙박물관\n",
      "6\n",
      "서울특별시\n",
      "201212\n",
      "1138\n",
      "78179\n",
      "1111\n",
      "종로구\n",
      "서울역사박물관\n",
      "7\n",
      "서울특별시\n",
      "201212\n",
      "11151\n",
      "44855\n",
      "1114\n",
      "중구\n",
      "덕수궁\n",
      "8\n",
      "서울특별시\n",
      "201212\n",
      "0\n",
      "213467\n",
      "1114\n",
      "중구\n",
      "서울시립미술관 본관\n",
      "9\n",
      "서울특별시\n",
      "201212\n",
      "15\n",
      "1252\n",
      "1135\n",
      "노원구\n",
      "태릉 ·  강릉 · 조선왕릉전시관\n",
      "10\n",
      "서울특별시\n",
      "201212\n",
      "6625\n",
      "14090\n",
      "1141\n",
      "서대문구\n",
      "서대문형무소역사관\n",
      "11\n",
      "서울특별시\n",
      "201212\n",
      "0\n",
      "18881\n",
      "1141\n",
      "서대문구\n",
      "서대문자연사박물관\n",
      "12\n",
      "서울특별시\n",
      "201212\n",
      "24492\n",
      "9167\n",
      "1144\n",
      "마포구\n",
      "트릭아이미술관\n",
      "13\n",
      "서울특별시\n",
      "201212\n",
      "62\n",
      "860\n",
      "1165\n",
      "서초구\n",
      "헌릉ㆍ인릉\n",
      "14\n",
      "서울특별시\n",
      "201212\n",
      "66868\n",
      "670056\n",
      "1171\n",
      "송파구\n",
      "롯데월드\n",
      "15\n",
      "서울특별시\n",
      "201212\n",
      "25550\n",
      "38553\n",
      "1111\n",
      "종로구\n",
      "창덕궁\n",
      "1\n",
      "서울특별시\n",
      "201312\n",
      "101942\n",
      "145544\n",
      "1111\n",
      "종로구\n",
      "경복궁\n",
      "2\n",
      "서울특별시\n",
      "201312\n",
      "1986\n",
      "20035\n",
      "1111\n",
      "종로구\n",
      "창경궁\n",
      "3\n",
      "서울특별시\n",
      "201312\n",
      "6048\n",
      "13896\n",
      "1111\n",
      "종로구\n",
      "종묘\n",
      "4\n",
      "서울특별시\n",
      "201312\n",
      "9083\n",
      "286992\n",
      "1117\n",
      "용산구\n",
      "국립중앙박물관\n",
      "5\n",
      "서울특별시\n",
      "201312\n",
      "13282\n",
      "99301\n",
      "1114\n",
      "중구\n",
      "덕수궁\n",
      "6\n",
      "서울특별시\n",
      "201312\n",
      "6\n",
      "706\n",
      "1135\n",
      "노원구\n",
      "태릉 ·  강릉 · 조선왕릉전시관\n",
      "7\n",
      "서울특별시\n",
      "201312\n",
      "6732\n",
      "14607\n",
      "1141\n",
      "서대문구\n",
      "서대문형무소역사관\n",
      "8\n",
      "서울특별시\n",
      "201312\n",
      "0\n",
      "23245\n",
      "1141\n",
      "서대문구\n",
      "서대문자연사박물관\n",
      "9\n",
      "서울특별시\n",
      "201312\n",
      "43129\n",
      "11886\n",
      "1144\n",
      "마포구\n",
      "트릭아이미술관\n",
      "10\n",
      "서울특별시\n",
      "201312\n",
      "16\n",
      "1248\n",
      "1165\n",
      "서초구\n",
      "헌릉ㆍ인릉\n",
      "11\n",
      "서울특별시\n",
      "201312\n",
      "1445\n",
      "11890\n",
      "1168\n",
      "강남구\n",
      "선릉·정릉\n",
      "12\n",
      "서울특별시\n",
      "201312\n",
      "29928\n",
      "41561\n",
      "1111\n",
      "종로구\n",
      "창덕궁\n",
      "1\n",
      "서울특별시\n",
      "201412\n",
      "129946\n",
      "190501\n",
      "1111\n",
      "종로구\n",
      "경복궁\n",
      "2\n",
      "서울특별시\n",
      "201412\n",
      "1693\n",
      "19473\n",
      "1111\n",
      "종로구\n",
      "창경궁\n",
      "3\n",
      "서울특별시\n",
      "201412\n",
      "3891\n",
      "5951\n",
      "1111\n",
      "종로구\n",
      "종묘\n",
      "4\n",
      "서울특별시\n",
      "201412\n",
      "7195\n",
      "258781\n",
      "1117\n",
      "용산구\n",
      "국립중앙박물관\n",
      "5\n",
      "서울특별시\n",
      "201412\n",
      "14723\n",
      "44272\n",
      "1114\n",
      "중구\n",
      "덕수궁\n",
      "6\n",
      "서울특별시\n",
      "201412\n",
      "12\n",
      "486\n",
      "1135\n",
      "노원구\n",
      "태릉 ·  강릉 · 조선왕릉전시관\n",
      "7\n",
      "서울특별시\n",
      "201412\n",
      "6263\n",
      "27205\n",
      "1141\n",
      "서대문구\n",
      "서대문형무소역사관\n",
      "8\n",
      "서울특별시\n",
      "201412\n",
      "0\n",
      "24527\n",
      "1141\n",
      "서대문구\n",
      "서대문자연사박물관\n",
      "9\n",
      "서울특별시\n",
      "201412\n",
      "42443\n",
      "7478\n",
      "1144\n",
      "마포구\n",
      "트릭아이미술관\n",
      "10\n",
      "서울특별시\n",
      "201412\n",
      "5\n",
      "1036\n",
      "1165\n",
      "서초구\n",
      "헌릉ㆍ인릉\n",
      "11\n",
      "서울특별시\n",
      "201412\n",
      "823\n",
      "8869\n",
      "1168\n",
      "강남구\n",
      "선릉·정릉\n",
      "12\n",
      "서울특별시\n",
      "201412\n",
      "33342\n",
      "59738\n",
      "1111\n",
      "종로구\n",
      "창덕궁\n",
      "1\n",
      "서울특별시\n",
      "201512\n",
      "170379\n",
      "148961\n",
      "1111\n",
      "종로구\n",
      "경복궁\n",
      "2\n",
      "서울특별시\n",
      "201512\n",
      "1783\n",
      "27172\n",
      "1111\n",
      "종로구\n",
      "창경궁\n",
      "3\n",
      "서울특별시\n",
      "201512\n",
      "3406\n",
      "14936\n",
      "1111\n",
      "종로구\n",
      "종묘\n",
      "4\n",
      "서울특별시\n",
      "201512\n",
      "13127\n",
      "281457\n",
      "1117\n",
      "용산구\n",
      "국립중앙박물관\n",
      "5\n",
      "서울특별시\n",
      "201512\n",
      "15197\n",
      "68749\n",
      "1114\n",
      "중구\n",
      "덕수궁\n",
      "6\n",
      "서울특별시\n",
      "201512\n",
      "16\n",
      "2221\n",
      "1135\n",
      "노원구\n",
      "태릉 ·  강릉 · 조선왕릉전시관\n",
      "7\n",
      "서울특별시\n",
      "201512\n",
      "5588\n",
      "44232\n",
      "1141\n",
      "서대문구\n",
      "서대문형무소역사관\n",
      "8\n",
      "서울특별시\n",
      "201512\n",
      "0\n",
      "22587\n",
      "1141\n",
      "서대문구\n",
      "서대문자연사박물관\n",
      "9\n",
      "서울특별시\n",
      "201512\n",
      "29520\n",
      "8822\n",
      "1144\n",
      "마포구\n",
      "트릭아이미술관\n",
      "10\n",
      "서울특별시\n",
      "201512\n",
      "3\n",
      "1647\n",
      "1165\n",
      "서초구\n",
      "헌릉ㆍ인릉\n",
      "11\n",
      "서울특별시\n",
      "201512\n",
      "492\n",
      "14454\n",
      "1168\n",
      "강남구\n",
      "선릉·정릉\n",
      "12\n",
      "서울특별시\n",
      "201512\n"
     ]
    }
   ],
   "source": [
    "for item in data[:]:\n",
    "    for key in item:\n",
    "        print(item[key])"
   ]
  },
  {
   "cell_type": "code",
   "execution_count": 158,
   "metadata": {},
   "outputs": [
    {
     "name": "stdout",
     "output_type": "stream",
     "text": [
      "44722\n",
      "0\n",
      "132399\n",
      "3133\n",
      "18226\n",
      "0\n",
      "0\n",
      "13935\n",
      "0\n",
      "10\n",
      "0\n",
      "0\n",
      "5214\n",
      "333\n",
      "4704\n",
      "52484\n",
      "27814\n",
      "546\n",
      "105370\n",
      "1451\n",
      "8817\n",
      "13033\n",
      "1138\n",
      "11151\n",
      "0\n",
      "15\n",
      "6625\n",
      "0\n",
      "24492\n",
      "62\n",
      "66868\n",
      "25550\n",
      "101942\n",
      "1986\n",
      "6048\n",
      "9083\n",
      "13282\n",
      "6\n",
      "6732\n",
      "0\n",
      "43129\n",
      "16\n",
      "1445\n",
      "29928\n",
      "129946\n",
      "1693\n",
      "3891\n",
      "7195\n",
      "14723\n",
      "12\n",
      "6263\n",
      "0\n",
      "42443\n",
      "5\n",
      "823\n",
      "33342\n",
      "170379\n",
      "1783\n",
      "3406\n",
      "13127\n",
      "15197\n",
      "16\n",
      "5588\n",
      "0\n",
      "29520\n",
      "3\n",
      "492\n",
      "67\n"
     ]
    }
   ],
   "source": [
    "ForNum = []\n",
    "for item in data[:]:\n",
    "    print(item['ForNum'])\n",
    "    ForNum.append(items['ForNum'])\n",
    "print(len(ForNum))"
   ]
  },
  {
   "cell_type": "code",
   "execution_count": 172,
   "metadata": {},
   "outputs": [
    {
     "name": "stdout",
     "output_type": "stream",
     "text": [
      "67\n"
     ]
    }
   ],
   "source": [
    "ForNum = []\n",
    "NatNum = []\n",
    "addrCd = []\n",
    "gungu = []\n",
    "resNm = []\n",
    "rnum = []\n",
    "sido = []\n",
    "yyyymm = []\n",
    "\n",
    "for item in data:\n",
    "    ForNum.append(item['ForNum'])\n",
    "    NatNum.append(item['NatNum'])\n",
    "    addrCd.append(item['addrCd'])\n",
    "    gungu.append(item['gungu'])\n",
    "    resNm.append(item['resNm'])\n",
    "    rnum.append(item['rnum'])\n",
    "    sido.append(item['sido'])\n",
    "    yyyymm.append(item['yyyymm'])\n",
    "\n",
    "print(len(ForNum))\n"
   ]
  },
  {
   "cell_type": "code",
   "execution_count": 173,
   "metadata": {},
   "outputs": [
    {
     "data": {
      "text/plain": [
       "[44722,\n",
       " 0,\n",
       " 132399,\n",
       " 3133,\n",
       " 18226,\n",
       " 0,\n",
       " 0,\n",
       " 13935,\n",
       " 0,\n",
       " 10,\n",
       " 0,\n",
       " 0,\n",
       " 5214,\n",
       " 333,\n",
       " 4704,\n",
       " 52484,\n",
       " 27814,\n",
       " 546,\n",
       " 105370,\n",
       " 1451,\n",
       " 8817,\n",
       " 13033,\n",
       " 1138,\n",
       " 11151,\n",
       " 0,\n",
       " 15,\n",
       " 6625,\n",
       " 0,\n",
       " 24492,\n",
       " 62,\n",
       " 66868,\n",
       " 25550,\n",
       " 101942,\n",
       " 1986,\n",
       " 6048,\n",
       " 9083,\n",
       " 13282,\n",
       " 6,\n",
       " 6732,\n",
       " 0,\n",
       " 43129,\n",
       " 16,\n",
       " 1445,\n",
       " 29928,\n",
       " 129946,\n",
       " 1693,\n",
       " 3891,\n",
       " 7195,\n",
       " 14723,\n",
       " 12,\n",
       " 6263,\n",
       " 0,\n",
       " 42443,\n",
       " 5,\n",
       " 823,\n",
       " 33342,\n",
       " 170379,\n",
       " 1783,\n",
       " 3406,\n",
       " 13127,\n",
       " 15197,\n",
       " 16,\n",
       " 5588,\n",
       " 0,\n",
       " 29520,\n",
       " 3,\n",
       " 492]"
      ]
     },
     "execution_count": 173,
     "metadata": {},
     "output_type": "execute_result"
    }
   ],
   "source": [
    "ForNum"
   ]
  },
  {
   "cell_type": "code",
   "execution_count": 174,
   "metadata": {},
   "outputs": [
    {
     "name": "stdout",
     "output_type": "stream",
     "text": [
      "{'ForNum': [44722, 0, 132399, 3133, 18226, 0, 0, 13935, 0, 10, 0, 0, 5214, 333, 4704, 52484, 27814, 546, 105370, 1451, 8817, 13033, 1138, 11151, 0, 15, 6625, 0, 24492, 62, 66868, 25550, 101942, 1986, 6048, 9083, 13282, 6, 6732, 0, 43129, 16, 1445, 29928, 129946, 1693, 3891, 7195, 14723, 12, 6263, 0, 42443, 5, 823, 33342, 170379, 1783, 3406, 13127, 15197, 16, 5588, 0, 29520, 3, 492], 'addrCd': [1111, 1111, 1111, 1111, 1111, 1117, 1111, 1114, 1114, 1135, 1141, 1141, 1144, 1165, 1168, 1171, 1111, 1111, 1111, 1111, 1111, 1117, 1111, 1114, 1114, 1135, 1141, 1141, 1144, 1165, 1171, 1111, 1111, 1111, 1111, 1117, 1114, 1135, 1141, 1141, 1144, 1165, 1168, 1111, 1111, 1111, 1111, 1117, 1114, 1135, 1141, 1141, 1144, 1165, 1168, 1111, 1111, 1111, 1111, 1117, 1114, 1135, 1141, 1141, 1144, 1165, 1168], 'gungu': ['종로구', '종로구', '종로구', '종로구', '종로구', '용산구', '종로구', '중구', '중구', '노원구', '서대문구', '서대문구', '마포구', '서초구', '강남구', '송파구', '종로구', '종로구', '종로구', '종로구', '종로구', '용산구', '종로구', '중구', '중구', '노원구', '서대문구', '서대문구', '마포구', '서초구', '송파구', '종로구', '종로구', '종로구', '종로구', '용산구', '중구', '노원구', '서대문구', '서대문구', '마포구', '서초구', '강남구', '종로구', '종로구', '종로구', '종로구', '용산구', '중구', '노원구', '서대문구', '서대문구', '마포구', '서초구', '강남구', '종로구', '종로구', '종로구', '종로구', '용산구', '중구', '노원구', '서대문구', '서대문구', '마포구', '서초구', '강남구'], 'resNm': ['창덕궁', '운현궁', '경복궁', '창경궁', '종묘', '국립중앙박물관', '서울역사박물관', '덕수궁', '서울시립미술관 본관', '태릉 ·  강릉 · 조선왕릉전시관', '서대문형무소역사관', '서대문자연사박물관', '트릭아이미술관', '헌릉ㆍ인릉', '선릉·정릉', '롯데월드', '창덕궁', '운현궁', '경복궁', '창경궁', '종묘', '국립중앙박물관', '서울역사박물관', '덕수궁', '서울시립미술관 본관', '태릉 ·  강릉 · 조선왕릉전시관', '서대문형무소역사관', '서대문자연사박물관', '트릭아이미술관', '헌릉ㆍ인릉', '롯데월드', '창덕궁', '경복궁', '창경궁', '종묘', '국립중앙박물관', '덕수궁', '태릉 ·  강릉 · 조선왕릉전시관', '서대문형무소역사관', '서대문자연사박물관', '트릭아이미술관', '헌릉ㆍ인릉', '선릉·정릉', '창덕궁', '경복궁', '창경궁', '종묘', '국립중앙박물관', '덕수궁', '태릉 ·  강릉 · 조선왕릉전시관', '서대문형무소역사관', '서대문자연사박물관', '트릭아이미술관', '헌릉ㆍ인릉', '선릉·정릉', '창덕궁', '경복궁', '창경궁', '종묘', '국립중앙박물관', '덕수궁', '태릉 ·  강릉 · 조선왕릉전시관', '서대문형무소역사관', '서대문자연사박물관', '트릭아이미술관', '헌릉ㆍ인릉', '선릉·정릉'], 'rnum': [1, 2, 3, 4, 5, 6, 7, 8, 9, 10, 11, 12, 13, 14, 15, 16, 1, 2, 3, 4, 5, 6, 7, 8, 9, 10, 11, 12, 13, 14, 15, 1, 2, 3, 4, 5, 6, 7, 8, 9, 10, 11, 12, 1, 2, 3, 4, 5, 6, 7, 8, 9, 10, 11, 12, 1, 2, 3, 4, 5, 6, 7, 8, 9, 10, 11, 12], 'sido': ['서울특별시', '서울특별시', '서울특별시', '서울특별시', '서울특별시', '서울특별시', '서울특별시', '서울특별시', '서울특별시', '서울특별시', '서울특별시', '서울특별시', '서울특별시', '서울특별시', '서울특별시', '서울특별시', '서울특별시', '서울특별시', '서울특별시', '서울특별시', '서울특별시', '서울특별시', '서울특별시', '서울특별시', '서울특별시', '서울특별시', '서울특별시', '서울특별시', '서울특별시', '서울특별시', '서울특별시', '서울특별시', '서울특별시', '서울특별시', '서울특별시', '서울특별시', '서울특별시', '서울특별시', '서울특별시', '서울특별시', '서울특별시', '서울특별시', '서울특별시', '서울특별시', '서울특별시', '서울특별시', '서울특별시', '서울특별시', '서울특별시', '서울특별시', '서울특별시', '서울특별시', '서울특별시', '서울특별시', '서울특별시', '서울특별시', '서울특별시', '서울특별시', '서울특별시', '서울특별시', '서울특별시', '서울특별시', '서울특별시', '서울특별시', '서울특별시', '서울특별시', '서울특별시'], 'yyyymm': ['201112', '201112', '201112', '201112', '201112', '201112', '201112', '201112', '201112', '201112', '201112', '201112', '201112', '201112', '201112', '201112', '201212', '201212', '201212', '201212', '201212', '201212', '201212', '201212', '201212', '201212', '201212', '201212', '201212', '201212', '201212', '201312', '201312', '201312', '201312', '201312', '201312', '201312', '201312', '201312', '201312', '201312', '201312', '201412', '201412', '201412', '201412', '201412', '201412', '201412', '201412', '201412', '201412', '201412', '201412', '201512', '201512', '201512', '201512', '201512', '201512', '201512', '201512', '201512', '201512', '201512', '201512']}\n"
     ]
    }
   ],
   "source": [
    "result = dict(ForNum = ForNum, addrCd = addrCd, gungu = gungu, resNm = resNm, rnum = rnum, sido = sido, yyyymm = yyyymm)\n",
    "print(result)"
   ]
  },
  {
   "cell_type": "code",
   "execution_count": 182,
   "metadata": {},
   "outputs": [
    {
     "name": "stdout",
     "output_type": "stream",
     "text": [
      "ForNum [44722, 0, 132399]\n",
      "NatNum [75991, 11017, 237330]\n",
      "addrCd [1111, 1111, 1111]\n",
      "gungu ['종로구', '종로구', '종로구']\n",
      "resNm ['창덕궁', '운현궁', '경복궁']\n",
      "rnum [1, 2, 3]\n",
      "sido ['서울특별시', '서울특별시', '서울특별시']\n",
      "yyyymm ['201112', '201112', '201112']\n"
     ]
    }
   ],
   "source": [
    "result2 = {}\n",
    "for key in list(data[0].keys()):\n",
    "#    print(key)\n",
    "    item_list = []\n",
    "    for item in data[:3]:\n",
    "        item_list.append(item[key])\n",
    "    result2[key] = item_list\n",
    "    print(key, item_list)"
   ]
  },
  {
   "cell_type": "code",
   "execution_count": 180,
   "metadata": {},
   "outputs": [
    {
     "data": {
      "text/plain": [
       "['201112']"
      ]
     },
     "execution_count": 180,
     "metadata": {},
     "output_type": "execute_result"
    }
   ],
   "source": [
    "item_list"
   ]
  },
  {
   "cell_type": "code",
   "execution_count": 184,
   "metadata": {
    "scrolled": true
   },
   "outputs": [
    {
     "name": "stdout",
     "output_type": "stream",
     "text": [
      "{'ForNum': [44722, 0, 132399, 3133, 18226, 0, 0, 13935, 0, 10, 0, 0, 5214, 333, 4704, 52484, 27814, 546, 105370, 1451, 8817, 13033, 1138, 11151, 0, 15, 6625, 0, 24492, 62, 66868, 25550, 101942, 1986, 6048, 9083, 13282, 6, 6732, 0, 43129, 16, 1445, 29928, 129946, 1693, 3891, 7195, 14723, 12, 6263, 0, 42443, 5, 823, 33342, 170379, 1783, 3406, 13127, 15197, 16, 5588, 0, 29520, 3, 492]}\n",
      "{'ForNum': [44722, 0, 132399, 3133, 18226, 0, 0, 13935, 0, 10, 0, 0, 5214, 333, 4704, 52484, 27814, 546, 105370, 1451, 8817, 13033, 1138, 11151, 0, 15, 6625, 0, 24492, 62, 66868, 25550, 101942, 1986, 6048, 9083, 13282, 6, 6732, 0, 43129, 16, 1445, 29928, 129946, 1693, 3891, 7195, 14723, 12, 6263, 0, 42443, 5, 823, 33342, 170379, 1783, 3406, 13127, 15197, 16, 5588, 0, 29520, 3, 492], 'NatNum': [75991, 11017, 237330, 21267, 24223, 233828, 93554, 52140, 61115, 1885, 32412, 19308, 6956, 1823, 16634, 642290, 28061, 5978, 133012, 15722, 8068, 227077, 78179, 44855, 213467, 1252, 14090, 18881, 9167, 860, 670056, 38553, 145544, 20035, 13896, 286992, 99301, 706, 14607, 23245, 11886, 1248, 11890, 41561, 190501, 19473, 5951, 258781, 44272, 486, 27205, 24527, 7478, 1036, 8869, 59738, 148961, 27172, 14936, 281457, 68749, 2221, 44232, 22587, 8822, 1647, 14454]}\n",
      "{'ForNum': [44722, 0, 132399, 3133, 18226, 0, 0, 13935, 0, 10, 0, 0, 5214, 333, 4704, 52484, 27814, 546, 105370, 1451, 8817, 13033, 1138, 11151, 0, 15, 6625, 0, 24492, 62, 66868, 25550, 101942, 1986, 6048, 9083, 13282, 6, 6732, 0, 43129, 16, 1445, 29928, 129946, 1693, 3891, 7195, 14723, 12, 6263, 0, 42443, 5, 823, 33342, 170379, 1783, 3406, 13127, 15197, 16, 5588, 0, 29520, 3, 492], 'NatNum': [75991, 11017, 237330, 21267, 24223, 233828, 93554, 52140, 61115, 1885, 32412, 19308, 6956, 1823, 16634, 642290, 28061, 5978, 133012, 15722, 8068, 227077, 78179, 44855, 213467, 1252, 14090, 18881, 9167, 860, 670056, 38553, 145544, 20035, 13896, 286992, 99301, 706, 14607, 23245, 11886, 1248, 11890, 41561, 190501, 19473, 5951, 258781, 44272, 486, 27205, 24527, 7478, 1036, 8869, 59738, 148961, 27172, 14936, 281457, 68749, 2221, 44232, 22587, 8822, 1647, 14454], 'addrCd': [1111, 1111, 1111, 1111, 1111, 1117, 1111, 1114, 1114, 1135, 1141, 1141, 1144, 1165, 1168, 1171, 1111, 1111, 1111, 1111, 1111, 1117, 1111, 1114, 1114, 1135, 1141, 1141, 1144, 1165, 1171, 1111, 1111, 1111, 1111, 1117, 1114, 1135, 1141, 1141, 1144, 1165, 1168, 1111, 1111, 1111, 1111, 1117, 1114, 1135, 1141, 1141, 1144, 1165, 1168, 1111, 1111, 1111, 1111, 1117, 1114, 1135, 1141, 1141, 1144, 1165, 1168]}\n",
      "{'ForNum': [44722, 0, 132399, 3133, 18226, 0, 0, 13935, 0, 10, 0, 0, 5214, 333, 4704, 52484, 27814, 546, 105370, 1451, 8817, 13033, 1138, 11151, 0, 15, 6625, 0, 24492, 62, 66868, 25550, 101942, 1986, 6048, 9083, 13282, 6, 6732, 0, 43129, 16, 1445, 29928, 129946, 1693, 3891, 7195, 14723, 12, 6263, 0, 42443, 5, 823, 33342, 170379, 1783, 3406, 13127, 15197, 16, 5588, 0, 29520, 3, 492], 'NatNum': [75991, 11017, 237330, 21267, 24223, 233828, 93554, 52140, 61115, 1885, 32412, 19308, 6956, 1823, 16634, 642290, 28061, 5978, 133012, 15722, 8068, 227077, 78179, 44855, 213467, 1252, 14090, 18881, 9167, 860, 670056, 38553, 145544, 20035, 13896, 286992, 99301, 706, 14607, 23245, 11886, 1248, 11890, 41561, 190501, 19473, 5951, 258781, 44272, 486, 27205, 24527, 7478, 1036, 8869, 59738, 148961, 27172, 14936, 281457, 68749, 2221, 44232, 22587, 8822, 1647, 14454], 'addrCd': [1111, 1111, 1111, 1111, 1111, 1117, 1111, 1114, 1114, 1135, 1141, 1141, 1144, 1165, 1168, 1171, 1111, 1111, 1111, 1111, 1111, 1117, 1111, 1114, 1114, 1135, 1141, 1141, 1144, 1165, 1171, 1111, 1111, 1111, 1111, 1117, 1114, 1135, 1141, 1141, 1144, 1165, 1168, 1111, 1111, 1111, 1111, 1117, 1114, 1135, 1141, 1141, 1144, 1165, 1168, 1111, 1111, 1111, 1111, 1117, 1114, 1135, 1141, 1141, 1144, 1165, 1168], 'gungu': ['종로구', '종로구', '종로구', '종로구', '종로구', '용산구', '종로구', '중구', '중구', '노원구', '서대문구', '서대문구', '마포구', '서초구', '강남구', '송파구', '종로구', '종로구', '종로구', '종로구', '종로구', '용산구', '종로구', '중구', '중구', '노원구', '서대문구', '서대문구', '마포구', '서초구', '송파구', '종로구', '종로구', '종로구', '종로구', '용산구', '중구', '노원구', '서대문구', '서대문구', '마포구', '서초구', '강남구', '종로구', '종로구', '종로구', '종로구', '용산구', '중구', '노원구', '서대문구', '서대문구', '마포구', '서초구', '강남구', '종로구', '종로구', '종로구', '종로구', '용산구', '중구', '노원구', '서대문구', '서대문구', '마포구', '서초구', '강남구']}\n",
      "{'ForNum': [44722, 0, 132399, 3133, 18226, 0, 0, 13935, 0, 10, 0, 0, 5214, 333, 4704, 52484, 27814, 546, 105370, 1451, 8817, 13033, 1138, 11151, 0, 15, 6625, 0, 24492, 62, 66868, 25550, 101942, 1986, 6048, 9083, 13282, 6, 6732, 0, 43129, 16, 1445, 29928, 129946, 1693, 3891, 7195, 14723, 12, 6263, 0, 42443, 5, 823, 33342, 170379, 1783, 3406, 13127, 15197, 16, 5588, 0, 29520, 3, 492], 'NatNum': [75991, 11017, 237330, 21267, 24223, 233828, 93554, 52140, 61115, 1885, 32412, 19308, 6956, 1823, 16634, 642290, 28061, 5978, 133012, 15722, 8068, 227077, 78179, 44855, 213467, 1252, 14090, 18881, 9167, 860, 670056, 38553, 145544, 20035, 13896, 286992, 99301, 706, 14607, 23245, 11886, 1248, 11890, 41561, 190501, 19473, 5951, 258781, 44272, 486, 27205, 24527, 7478, 1036, 8869, 59738, 148961, 27172, 14936, 281457, 68749, 2221, 44232, 22587, 8822, 1647, 14454], 'addrCd': [1111, 1111, 1111, 1111, 1111, 1117, 1111, 1114, 1114, 1135, 1141, 1141, 1144, 1165, 1168, 1171, 1111, 1111, 1111, 1111, 1111, 1117, 1111, 1114, 1114, 1135, 1141, 1141, 1144, 1165, 1171, 1111, 1111, 1111, 1111, 1117, 1114, 1135, 1141, 1141, 1144, 1165, 1168, 1111, 1111, 1111, 1111, 1117, 1114, 1135, 1141, 1141, 1144, 1165, 1168, 1111, 1111, 1111, 1111, 1117, 1114, 1135, 1141, 1141, 1144, 1165, 1168], 'gungu': ['종로구', '종로구', '종로구', '종로구', '종로구', '용산구', '종로구', '중구', '중구', '노원구', '서대문구', '서대문구', '마포구', '서초구', '강남구', '송파구', '종로구', '종로구', '종로구', '종로구', '종로구', '용산구', '종로구', '중구', '중구', '노원구', '서대문구', '서대문구', '마포구', '서초구', '송파구', '종로구', '종로구', '종로구', '종로구', '용산구', '중구', '노원구', '서대문구', '서대문구', '마포구', '서초구', '강남구', '종로구', '종로구', '종로구', '종로구', '용산구', '중구', '노원구', '서대문구', '서대문구', '마포구', '서초구', '강남구', '종로구', '종로구', '종로구', '종로구', '용산구', '중구', '노원구', '서대문구', '서대문구', '마포구', '서초구', '강남구'], 'resNm': ['창덕궁', '운현궁', '경복궁', '창경궁', '종묘', '국립중앙박물관', '서울역사박물관', '덕수궁', '서울시립미술관 본관', '태릉 ·  강릉 · 조선왕릉전시관', '서대문형무소역사관', '서대문자연사박물관', '트릭아이미술관', '헌릉ㆍ인릉', '선릉·정릉', '롯데월드', '창덕궁', '운현궁', '경복궁', '창경궁', '종묘', '국립중앙박물관', '서울역사박물관', '덕수궁', '서울시립미술관 본관', '태릉 ·  강릉 · 조선왕릉전시관', '서대문형무소역사관', '서대문자연사박물관', '트릭아이미술관', '헌릉ㆍ인릉', '롯데월드', '창덕궁', '경복궁', '창경궁', '종묘', '국립중앙박물관', '덕수궁', '태릉 ·  강릉 · 조선왕릉전시관', '서대문형무소역사관', '서대문자연사박물관', '트릭아이미술관', '헌릉ㆍ인릉', '선릉·정릉', '창덕궁', '경복궁', '창경궁', '종묘', '국립중앙박물관', '덕수궁', '태릉 ·  강릉 · 조선왕릉전시관', '서대문형무소역사관', '서대문자연사박물관', '트릭아이미술관', '헌릉ㆍ인릉', '선릉·정릉', '창덕궁', '경복궁', '창경궁', '종묘', '국립중앙박물관', '덕수궁', '태릉 ·  강릉 · 조선왕릉전시관', '서대문형무소역사관', '서대문자연사박물관', '트릭아이미술관', '헌릉ㆍ인릉', '선릉·정릉']}\n",
      "{'ForNum': [44722, 0, 132399, 3133, 18226, 0, 0, 13935, 0, 10, 0, 0, 5214, 333, 4704, 52484, 27814, 546, 105370, 1451, 8817, 13033, 1138, 11151, 0, 15, 6625, 0, 24492, 62, 66868, 25550, 101942, 1986, 6048, 9083, 13282, 6, 6732, 0, 43129, 16, 1445, 29928, 129946, 1693, 3891, 7195, 14723, 12, 6263, 0, 42443, 5, 823, 33342, 170379, 1783, 3406, 13127, 15197, 16, 5588, 0, 29520, 3, 492], 'NatNum': [75991, 11017, 237330, 21267, 24223, 233828, 93554, 52140, 61115, 1885, 32412, 19308, 6956, 1823, 16634, 642290, 28061, 5978, 133012, 15722, 8068, 227077, 78179, 44855, 213467, 1252, 14090, 18881, 9167, 860, 670056, 38553, 145544, 20035, 13896, 286992, 99301, 706, 14607, 23245, 11886, 1248, 11890, 41561, 190501, 19473, 5951, 258781, 44272, 486, 27205, 24527, 7478, 1036, 8869, 59738, 148961, 27172, 14936, 281457, 68749, 2221, 44232, 22587, 8822, 1647, 14454], 'addrCd': [1111, 1111, 1111, 1111, 1111, 1117, 1111, 1114, 1114, 1135, 1141, 1141, 1144, 1165, 1168, 1171, 1111, 1111, 1111, 1111, 1111, 1117, 1111, 1114, 1114, 1135, 1141, 1141, 1144, 1165, 1171, 1111, 1111, 1111, 1111, 1117, 1114, 1135, 1141, 1141, 1144, 1165, 1168, 1111, 1111, 1111, 1111, 1117, 1114, 1135, 1141, 1141, 1144, 1165, 1168, 1111, 1111, 1111, 1111, 1117, 1114, 1135, 1141, 1141, 1144, 1165, 1168], 'gungu': ['종로구', '종로구', '종로구', '종로구', '종로구', '용산구', '종로구', '중구', '중구', '노원구', '서대문구', '서대문구', '마포구', '서초구', '강남구', '송파구', '종로구', '종로구', '종로구', '종로구', '종로구', '용산구', '종로구', '중구', '중구', '노원구', '서대문구', '서대문구', '마포구', '서초구', '송파구', '종로구', '종로구', '종로구', '종로구', '용산구', '중구', '노원구', '서대문구', '서대문구', '마포구', '서초구', '강남구', '종로구', '종로구', '종로구', '종로구', '용산구', '중구', '노원구', '서대문구', '서대문구', '마포구', '서초구', '강남구', '종로구', '종로구', '종로구', '종로구', '용산구', '중구', '노원구', '서대문구', '서대문구', '마포구', '서초구', '강남구'], 'resNm': ['창덕궁', '운현궁', '경복궁', '창경궁', '종묘', '국립중앙박물관', '서울역사박물관', '덕수궁', '서울시립미술관 본관', '태릉 ·  강릉 · 조선왕릉전시관', '서대문형무소역사관', '서대문자연사박물관', '트릭아이미술관', '헌릉ㆍ인릉', '선릉·정릉', '롯데월드', '창덕궁', '운현궁', '경복궁', '창경궁', '종묘', '국립중앙박물관', '서울역사박물관', '덕수궁', '서울시립미술관 본관', '태릉 ·  강릉 · 조선왕릉전시관', '서대문형무소역사관', '서대문자연사박물관', '트릭아이미술관', '헌릉ㆍ인릉', '롯데월드', '창덕궁', '경복궁', '창경궁', '종묘', '국립중앙박물관', '덕수궁', '태릉 ·  강릉 · 조선왕릉전시관', '서대문형무소역사관', '서대문자연사박물관', '트릭아이미술관', '헌릉ㆍ인릉', '선릉·정릉', '창덕궁', '경복궁', '창경궁', '종묘', '국립중앙박물관', '덕수궁', '태릉 ·  강릉 · 조선왕릉전시관', '서대문형무소역사관', '서대문자연사박물관', '트릭아이미술관', '헌릉ㆍ인릉', '선릉·정릉', '창덕궁', '경복궁', '창경궁', '종묘', '국립중앙박물관', '덕수궁', '태릉 ·  강릉 · 조선왕릉전시관', '서대문형무소역사관', '서대문자연사박물관', '트릭아이미술관', '헌릉ㆍ인릉', '선릉·정릉'], 'rnum': [1, 2, 3, 4, 5, 6, 7, 8, 9, 10, 11, 12, 13, 14, 15, 16, 1, 2, 3, 4, 5, 6, 7, 8, 9, 10, 11, 12, 13, 14, 15, 1, 2, 3, 4, 5, 6, 7, 8, 9, 10, 11, 12, 1, 2, 3, 4, 5, 6, 7, 8, 9, 10, 11, 12, 1, 2, 3, 4, 5, 6, 7, 8, 9, 10, 11, 12]}\n",
      "{'ForNum': [44722, 0, 132399, 3133, 18226, 0, 0, 13935, 0, 10, 0, 0, 5214, 333, 4704, 52484, 27814, 546, 105370, 1451, 8817, 13033, 1138, 11151, 0, 15, 6625, 0, 24492, 62, 66868, 25550, 101942, 1986, 6048, 9083, 13282, 6, 6732, 0, 43129, 16, 1445, 29928, 129946, 1693, 3891, 7195, 14723, 12, 6263, 0, 42443, 5, 823, 33342, 170379, 1783, 3406, 13127, 15197, 16, 5588, 0, 29520, 3, 492], 'NatNum': [75991, 11017, 237330, 21267, 24223, 233828, 93554, 52140, 61115, 1885, 32412, 19308, 6956, 1823, 16634, 642290, 28061, 5978, 133012, 15722, 8068, 227077, 78179, 44855, 213467, 1252, 14090, 18881, 9167, 860, 670056, 38553, 145544, 20035, 13896, 286992, 99301, 706, 14607, 23245, 11886, 1248, 11890, 41561, 190501, 19473, 5951, 258781, 44272, 486, 27205, 24527, 7478, 1036, 8869, 59738, 148961, 27172, 14936, 281457, 68749, 2221, 44232, 22587, 8822, 1647, 14454], 'addrCd': [1111, 1111, 1111, 1111, 1111, 1117, 1111, 1114, 1114, 1135, 1141, 1141, 1144, 1165, 1168, 1171, 1111, 1111, 1111, 1111, 1111, 1117, 1111, 1114, 1114, 1135, 1141, 1141, 1144, 1165, 1171, 1111, 1111, 1111, 1111, 1117, 1114, 1135, 1141, 1141, 1144, 1165, 1168, 1111, 1111, 1111, 1111, 1117, 1114, 1135, 1141, 1141, 1144, 1165, 1168, 1111, 1111, 1111, 1111, 1117, 1114, 1135, 1141, 1141, 1144, 1165, 1168], 'gungu': ['종로구', '종로구', '종로구', '종로구', '종로구', '용산구', '종로구', '중구', '중구', '노원구', '서대문구', '서대문구', '마포구', '서초구', '강남구', '송파구', '종로구', '종로구', '종로구', '종로구', '종로구', '용산구', '종로구', '중구', '중구', '노원구', '서대문구', '서대문구', '마포구', '서초구', '송파구', '종로구', '종로구', '종로구', '종로구', '용산구', '중구', '노원구', '서대문구', '서대문구', '마포구', '서초구', '강남구', '종로구', '종로구', '종로구', '종로구', '용산구', '중구', '노원구', '서대문구', '서대문구', '마포구', '서초구', '강남구', '종로구', '종로구', '종로구', '종로구', '용산구', '중구', '노원구', '서대문구', '서대문구', '마포구', '서초구', '강남구'], 'resNm': ['창덕궁', '운현궁', '경복궁', '창경궁', '종묘', '국립중앙박물관', '서울역사박물관', '덕수궁', '서울시립미술관 본관', '태릉 ·  강릉 · 조선왕릉전시관', '서대문형무소역사관', '서대문자연사박물관', '트릭아이미술관', '헌릉ㆍ인릉', '선릉·정릉', '롯데월드', '창덕궁', '운현궁', '경복궁', '창경궁', '종묘', '국립중앙박물관', '서울역사박물관', '덕수궁', '서울시립미술관 본관', '태릉 ·  강릉 · 조선왕릉전시관', '서대문형무소역사관', '서대문자연사박물관', '트릭아이미술관', '헌릉ㆍ인릉', '롯데월드', '창덕궁', '경복궁', '창경궁', '종묘', '국립중앙박물관', '덕수궁', '태릉 ·  강릉 · 조선왕릉전시관', '서대문형무소역사관', '서대문자연사박물관', '트릭아이미술관', '헌릉ㆍ인릉', '선릉·정릉', '창덕궁', '경복궁', '창경궁', '종묘', '국립중앙박물관', '덕수궁', '태릉 ·  강릉 · 조선왕릉전시관', '서대문형무소역사관', '서대문자연사박물관', '트릭아이미술관', '헌릉ㆍ인릉', '선릉·정릉', '창덕궁', '경복궁', '창경궁', '종묘', '국립중앙박물관', '덕수궁', '태릉 ·  강릉 · 조선왕릉전시관', '서대문형무소역사관', '서대문자연사박물관', '트릭아이미술관', '헌릉ㆍ인릉', '선릉·정릉'], 'rnum': [1, 2, 3, 4, 5, 6, 7, 8, 9, 10, 11, 12, 13, 14, 15, 16, 1, 2, 3, 4, 5, 6, 7, 8, 9, 10, 11, 12, 13, 14, 15, 1, 2, 3, 4, 5, 6, 7, 8, 9, 10, 11, 12, 1, 2, 3, 4, 5, 6, 7, 8, 9, 10, 11, 12, 1, 2, 3, 4, 5, 6, 7, 8, 9, 10, 11, 12], 'sido': ['서울특별시', '서울특별시', '서울특별시', '서울특별시', '서울특별시', '서울특별시', '서울특별시', '서울특별시', '서울특별시', '서울특별시', '서울특별시', '서울특별시', '서울특별시', '서울특별시', '서울특별시', '서울특별시', '서울특별시', '서울특별시', '서울특별시', '서울특별시', '서울특별시', '서울특별시', '서울특별시', '서울특별시', '서울특별시', '서울특별시', '서울특별시', '서울특별시', '서울특별시', '서울특별시', '서울특별시', '서울특별시', '서울특별시', '서울특별시', '서울특별시', '서울특별시', '서울특별시', '서울특별시', '서울특별시', '서울특별시', '서울특별시', '서울특별시', '서울특별시', '서울특별시', '서울특별시', '서울특별시', '서울특별시', '서울특별시', '서울특별시', '서울특별시', '서울특별시', '서울특별시', '서울특별시', '서울특별시', '서울특별시', '서울특별시', '서울특별시', '서울특별시', '서울특별시', '서울특별시', '서울특별시', '서울특별시', '서울특별시', '서울특별시', '서울특별시', '서울특별시', '서울특별시']}\n",
      "{'ForNum': [44722, 0, 132399, 3133, 18226, 0, 0, 13935, 0, 10, 0, 0, 5214, 333, 4704, 52484, 27814, 546, 105370, 1451, 8817, 13033, 1138, 11151, 0, 15, 6625, 0, 24492, 62, 66868, 25550, 101942, 1986, 6048, 9083, 13282, 6, 6732, 0, 43129, 16, 1445, 29928, 129946, 1693, 3891, 7195, 14723, 12, 6263, 0, 42443, 5, 823, 33342, 170379, 1783, 3406, 13127, 15197, 16, 5588, 0, 29520, 3, 492], 'NatNum': [75991, 11017, 237330, 21267, 24223, 233828, 93554, 52140, 61115, 1885, 32412, 19308, 6956, 1823, 16634, 642290, 28061, 5978, 133012, 15722, 8068, 227077, 78179, 44855, 213467, 1252, 14090, 18881, 9167, 860, 670056, 38553, 145544, 20035, 13896, 286992, 99301, 706, 14607, 23245, 11886, 1248, 11890, 41561, 190501, 19473, 5951, 258781, 44272, 486, 27205, 24527, 7478, 1036, 8869, 59738, 148961, 27172, 14936, 281457, 68749, 2221, 44232, 22587, 8822, 1647, 14454], 'addrCd': [1111, 1111, 1111, 1111, 1111, 1117, 1111, 1114, 1114, 1135, 1141, 1141, 1144, 1165, 1168, 1171, 1111, 1111, 1111, 1111, 1111, 1117, 1111, 1114, 1114, 1135, 1141, 1141, 1144, 1165, 1171, 1111, 1111, 1111, 1111, 1117, 1114, 1135, 1141, 1141, 1144, 1165, 1168, 1111, 1111, 1111, 1111, 1117, 1114, 1135, 1141, 1141, 1144, 1165, 1168, 1111, 1111, 1111, 1111, 1117, 1114, 1135, 1141, 1141, 1144, 1165, 1168], 'gungu': ['종로구', '종로구', '종로구', '종로구', '종로구', '용산구', '종로구', '중구', '중구', '노원구', '서대문구', '서대문구', '마포구', '서초구', '강남구', '송파구', '종로구', '종로구', '종로구', '종로구', '종로구', '용산구', '종로구', '중구', '중구', '노원구', '서대문구', '서대문구', '마포구', '서초구', '송파구', '종로구', '종로구', '종로구', '종로구', '용산구', '중구', '노원구', '서대문구', '서대문구', '마포구', '서초구', '강남구', '종로구', '종로구', '종로구', '종로구', '용산구', '중구', '노원구', '서대문구', '서대문구', '마포구', '서초구', '강남구', '종로구', '종로구', '종로구', '종로구', '용산구', '중구', '노원구', '서대문구', '서대문구', '마포구', '서초구', '강남구'], 'resNm': ['창덕궁', '운현궁', '경복궁', '창경궁', '종묘', '국립중앙박물관', '서울역사박물관', '덕수궁', '서울시립미술관 본관', '태릉 ·  강릉 · 조선왕릉전시관', '서대문형무소역사관', '서대문자연사박물관', '트릭아이미술관', '헌릉ㆍ인릉', '선릉·정릉', '롯데월드', '창덕궁', '운현궁', '경복궁', '창경궁', '종묘', '국립중앙박물관', '서울역사박물관', '덕수궁', '서울시립미술관 본관', '태릉 ·  강릉 · 조선왕릉전시관', '서대문형무소역사관', '서대문자연사박물관', '트릭아이미술관', '헌릉ㆍ인릉', '롯데월드', '창덕궁', '경복궁', '창경궁', '종묘', '국립중앙박물관', '덕수궁', '태릉 ·  강릉 · 조선왕릉전시관', '서대문형무소역사관', '서대문자연사박물관', '트릭아이미술관', '헌릉ㆍ인릉', '선릉·정릉', '창덕궁', '경복궁', '창경궁', '종묘', '국립중앙박물관', '덕수궁', '태릉 ·  강릉 · 조선왕릉전시관', '서대문형무소역사관', '서대문자연사박물관', '트릭아이미술관', '헌릉ㆍ인릉', '선릉·정릉', '창덕궁', '경복궁', '창경궁', '종묘', '국립중앙박물관', '덕수궁', '태릉 ·  강릉 · 조선왕릉전시관', '서대문형무소역사관', '서대문자연사박물관', '트릭아이미술관', '헌릉ㆍ인릉', '선릉·정릉'], 'rnum': [1, 2, 3, 4, 5, 6, 7, 8, 9, 10, 11, 12, 13, 14, 15, 16, 1, 2, 3, 4, 5, 6, 7, 8, 9, 10, 11, 12, 13, 14, 15, 1, 2, 3, 4, 5, 6, 7, 8, 9, 10, 11, 12, 1, 2, 3, 4, 5, 6, 7, 8, 9, 10, 11, 12, 1, 2, 3, 4, 5, 6, 7, 8, 9, 10, 11, 12], 'sido': ['서울특별시', '서울특별시', '서울특별시', '서울특별시', '서울특별시', '서울특별시', '서울특별시', '서울특별시', '서울특별시', '서울특별시', '서울특별시', '서울특별시', '서울특별시', '서울특별시', '서울특별시', '서울특별시', '서울특별시', '서울특별시', '서울특별시', '서울특별시', '서울특별시', '서울특별시', '서울특별시', '서울특별시', '서울특별시', '서울특별시', '서울특별시', '서울특별시', '서울특별시', '서울특별시', '서울특별시', '서울특별시', '서울특별시', '서울특별시', '서울특별시', '서울특별시', '서울특별시', '서울특별시', '서울특별시', '서울특별시', '서울특별시', '서울특별시', '서울특별시', '서울특별시', '서울특별시', '서울특별시', '서울특별시', '서울특별시', '서울특별시', '서울특별시', '서울특별시', '서울특별시', '서울특별시', '서울특별시', '서울특별시', '서울특별시', '서울특별시', '서울특별시', '서울특별시', '서울특별시', '서울특별시', '서울특별시', '서울특별시', '서울특별시', '서울특별시', '서울특별시', '서울특별시'], 'yyyymm': ['201112', '201112', '201112', '201112', '201112', '201112', '201112', '201112', '201112', '201112', '201112', '201112', '201112', '201112', '201112', '201112', '201212', '201212', '201212', '201212', '201212', '201212', '201212', '201212', '201212', '201212', '201212', '201212', '201212', '201212', '201212', '201312', '201312', '201312', '201312', '201312', '201312', '201312', '201312', '201312', '201312', '201312', '201312', '201412', '201412', '201412', '201412', '201412', '201412', '201412', '201412', '201412', '201412', '201412', '201412', '201512', '201512', '201512', '201512', '201512', '201512', '201512', '201512', '201512', '201512', '201512', '201512']}\n"
     ]
    }
   ],
   "source": [
    "result3 = {}\n",
    "for key in list(data[0].keys()):\n",
    "    result3[key] = [item[key] for item in data]\n",
    "    print(result3)"
   ]
  },
  {
   "cell_type": "code",
   "execution_count": null,
   "metadata": {},
   "outputs": [],
   "source": []
  },
  {
   "cell_type": "markdown",
   "metadata": {},
   "source": [
    "# 딕셔너리 표현식\n",
    "* []안에 반복문을 넣어서 딕셔너리를 만드는 방법\n",
    "* {key : value로 올 for문 key로 올 for문}\n",
    "* {key : value for value in data key for in keys}"
   ]
  },
  {
   "cell_type": "raw",
   "metadata": {},
   "source": [
    "print(i for i in range(10))"
   ]
  },
  {
   "cell_type": "code",
   "execution_count": 185,
   "metadata": {},
   "outputs": [
    {
     "data": {
      "text/plain": [
       "[0,\n",
       " 0,\n",
       " 0,\n",
       " 0,\n",
       " 0,\n",
       " 0,\n",
       " 0,\n",
       " 0,\n",
       " 0,\n",
       " 0,\n",
       " 1,\n",
       " 1,\n",
       " 1,\n",
       " 1,\n",
       " 1,\n",
       " 1,\n",
       " 1,\n",
       " 1,\n",
       " 1,\n",
       " 1,\n",
       " 2,\n",
       " 2,\n",
       " 2,\n",
       " 2,\n",
       " 2,\n",
       " 2,\n",
       " 2,\n",
       " 2,\n",
       " 2,\n",
       " 2,\n",
       " 3,\n",
       " 3,\n",
       " 3,\n",
       " 3,\n",
       " 3,\n",
       " 3,\n",
       " 3,\n",
       " 3,\n",
       " 3,\n",
       " 3,\n",
       " 4,\n",
       " 4,\n",
       " 4,\n",
       " 4,\n",
       " 4,\n",
       " 4,\n",
       " 4,\n",
       " 4,\n",
       " 4,\n",
       " 4,\n",
       " 5,\n",
       " 5,\n",
       " 5,\n",
       " 5,\n",
       " 5,\n",
       " 5,\n",
       " 5,\n",
       " 5,\n",
       " 5,\n",
       " 5,\n",
       " 6,\n",
       " 6,\n",
       " 6,\n",
       " 6,\n",
       " 6,\n",
       " 6,\n",
       " 6,\n",
       " 6,\n",
       " 6,\n",
       " 6,\n",
       " 7,\n",
       " 7,\n",
       " 7,\n",
       " 7,\n",
       " 7,\n",
       " 7,\n",
       " 7,\n",
       " 7,\n",
       " 7,\n",
       " 7,\n",
       " 8,\n",
       " 8,\n",
       " 8,\n",
       " 8,\n",
       " 8,\n",
       " 8,\n",
       " 8,\n",
       " 8,\n",
       " 8,\n",
       " 8,\n",
       " 9,\n",
       " 9,\n",
       " 9,\n",
       " 9,\n",
       " 9,\n",
       " 9,\n",
       " 9,\n",
       " 9,\n",
       " 9,\n",
       " 9]"
      ]
     },
     "execution_count": 185,
     "metadata": {},
     "output_type": "execute_result"
    }
   ],
   "source": [
    "# 이중 for문\n",
    "[j for j in range(10) for i in range(10)]"
   ]
  },
  {
   "cell_type": "code",
   "execution_count": 187,
   "metadata": {},
   "outputs": [
    {
     "name": "stdout",
     "output_type": "stream",
     "text": [
      "{'ForNum': [44722, 0, 132399, 3133, 18226, 0, 0, 13935, 0, 10, 0, 0, 5214, 333, 4704, 52484, 27814, 546, 105370, 1451, 8817, 13033, 1138, 11151, 0, 15, 6625, 0, 24492, 62, 66868, 25550, 101942, 1986, 6048, 9083, 13282, 6, 6732, 0, 43129, 16, 1445, 29928, 129946, 1693, 3891, 7195, 14723, 12, 6263, 0, 42443, 5, 823, 33342, 170379, 1783, 3406, 13127, 15197, 16, 5588, 0, 29520, 3, 492], 'addrCd': [1111, 1111, 1111, 1111, 1111, 1117, 1111, 1114, 1114, 1135, 1141, 1141, 1144, 1165, 1168, 1171, 1111, 1111, 1111, 1111, 1111, 1117, 1111, 1114, 1114, 1135, 1141, 1141, 1144, 1165, 1171, 1111, 1111, 1111, 1111, 1117, 1114, 1135, 1141, 1141, 1144, 1165, 1168, 1111, 1111, 1111, 1111, 1117, 1114, 1135, 1141, 1141, 1144, 1165, 1168, 1111, 1111, 1111, 1111, 1117, 1114, 1135, 1141, 1141, 1144, 1165, 1168], 'gungu': ['종로구', '종로구', '종로구', '종로구', '종로구', '용산구', '종로구', '중구', '중구', '노원구', '서대문구', '서대문구', '마포구', '서초구', '강남구', '송파구', '종로구', '종로구', '종로구', '종로구', '종로구', '용산구', '종로구', '중구', '중구', '노원구', '서대문구', '서대문구', '마포구', '서초구', '송파구', '종로구', '종로구', '종로구', '종로구', '용산구', '중구', '노원구', '서대문구', '서대문구', '마포구', '서초구', '강남구', '종로구', '종로구', '종로구', '종로구', '용산구', '중구', '노원구', '서대문구', '서대문구', '마포구', '서초구', '강남구', '종로구', '종로구', '종로구', '종로구', '용산구', '중구', '노원구', '서대문구', '서대문구', '마포구', '서초구', '강남구'], 'resNm': ['창덕궁', '운현궁', '경복궁', '창경궁', '종묘', '국립중앙박물관', '서울역사박물관', '덕수궁', '서울시립미술관 본관', '태릉 ·  강릉 · 조선왕릉전시관', '서대문형무소역사관', '서대문자연사박물관', '트릭아이미술관', '헌릉ㆍ인릉', '선릉·정릉', '롯데월드', '창덕궁', '운현궁', '경복궁', '창경궁', '종묘', '국립중앙박물관', '서울역사박물관', '덕수궁', '서울시립미술관 본관', '태릉 ·  강릉 · 조선왕릉전시관', '서대문형무소역사관', '서대문자연사박물관', '트릭아이미술관', '헌릉ㆍ인릉', '롯데월드', '창덕궁', '경복궁', '창경궁', '종묘', '국립중앙박물관', '덕수궁', '태릉 ·  강릉 · 조선왕릉전시관', '서대문형무소역사관', '서대문자연사박물관', '트릭아이미술관', '헌릉ㆍ인릉', '선릉·정릉', '창덕궁', '경복궁', '창경궁', '종묘', '국립중앙박물관', '덕수궁', '태릉 ·  강릉 · 조선왕릉전시관', '서대문형무소역사관', '서대문자연사박물관', '트릭아이미술관', '헌릉ㆍ인릉', '선릉·정릉', '창덕궁', '경복궁', '창경궁', '종묘', '국립중앙박물관', '덕수궁', '태릉 ·  강릉 · 조선왕릉전시관', '서대문형무소역사관', '서대문자연사박물관', '트릭아이미술관', '헌릉ㆍ인릉', '선릉·정릉'], 'rnum': [1, 2, 3, 4, 5, 6, 7, 8, 9, 10, 11, 12, 13, 14, 15, 16, 1, 2, 3, 4, 5, 6, 7, 8, 9, 10, 11, 12, 13, 14, 15, 1, 2, 3, 4, 5, 6, 7, 8, 9, 10, 11, 12, 1, 2, 3, 4, 5, 6, 7, 8, 9, 10, 11, 12, 1, 2, 3, 4, 5, 6, 7, 8, 9, 10, 11, 12], 'sido': ['서울특별시', '서울특별시', '서울특별시', '서울특별시', '서울특별시', '서울특별시', '서울특별시', '서울특별시', '서울특별시', '서울특별시', '서울특별시', '서울특별시', '서울특별시', '서울특별시', '서울특별시', '서울특별시', '서울특별시', '서울특별시', '서울특별시', '서울특별시', '서울특별시', '서울특별시', '서울특별시', '서울특별시', '서울특별시', '서울특별시', '서울특별시', '서울특별시', '서울특별시', '서울특별시', '서울특별시', '서울특별시', '서울특별시', '서울특별시', '서울특별시', '서울특별시', '서울특별시', '서울특별시', '서울특별시', '서울특별시', '서울특별시', '서울특별시', '서울특별시', '서울특별시', '서울특별시', '서울특별시', '서울특별시', '서울특별시', '서울특별시', '서울특별시', '서울특별시', '서울특별시', '서울특별시', '서울특별시', '서울특별시', '서울특별시', '서울특별시', '서울특별시', '서울특별시', '서울특별시', '서울특별시', '서울특별시', '서울특별시', '서울특별시', '서울특별시', '서울특별시', '서울특별시'], 'yyyymm': ['201112', '201112', '201112', '201112', '201112', '201112', '201112', '201112', '201112', '201112', '201112', '201112', '201112', '201112', '201112', '201112', '201212', '201212', '201212', '201212', '201212', '201212', '201212', '201212', '201212', '201212', '201212', '201212', '201212', '201212', '201212', '201312', '201312', '201312', '201312', '201312', '201312', '201312', '201312', '201312', '201312', '201312', '201312', '201412', '201412', '201412', '201412', '201412', '201412', '201412', '201412', '201412', '201412', '201412', '201412', '201512', '201512', '201512', '201512', '201512', '201512', '201512', '201512', '201512', '201512', '201512', '201512']}\n"
     ]
    }
   ],
   "source": [
    "result3 = [i for i in range(10)]\n",
    "print(result)\n",
    "    "
   ]
  },
  {
   "cell_type": "code",
   "execution_count": 191,
   "metadata": {},
   "outputs": [
    {
     "name": "stdout",
     "output_type": "stream",
     "text": [
      "[2, 3, 4, 5, 6, 7, 8, 9, 4, 6, 8, 10, 12, 14, 16, 18, 6, 9, 12, 15, 18, 21, 24, 27, 8, 12, 16, 20, 24, 28, 32, 36, 10, 15, 20, 25, 30, 35, 40, 45, 12, 18, 24, 30, 36, 42, 48, 54, 14, 21, 28, 35, 42, 49, 56, 63, 16, 24, 32, 40, 48, 56, 64, 72, 18, 27, 36, 45, 54, 63, 72, 81]\n"
     ]
    }
   ],
   "source": [
    "gugudan = [(i * j) for j in range(1,10) for i in range(2,10)]\n",
    "\n",
    "print(gugudan)"
   ]
  },
  {
   "cell_type": "code",
   "execution_count": null,
   "metadata": {},
   "outputs": [],
   "source": []
  },
  {
   "cell_type": "markdown",
   "metadata": {},
   "source": [
    "# 딕셔너리 표현식"
   ]
  },
  {
   "cell_type": "code",
   "execution_count": 193,
   "metadata": {},
   "outputs": [
    {
     "name": "stdout",
     "output_type": "stream",
     "text": [
      "{'ForNum': [44722, 0, 132399, 3133, 18226, 0, 0, 13935, 0, 10, 0, 0, 5214, 333, 4704, 52484, 27814, 546, 105370, 1451, 8817, 13033, 1138, 11151, 0, 15, 6625, 0, 24492, 62, 66868, 25550, 101942, 1986, 6048, 9083, 13282, 6, 6732, 0, 43129, 16, 1445, 29928, 129946, 1693, 3891, 7195, 14723, 12, 6263, 0, 42443, 5, 823, 33342, 170379, 1783, 3406, 13127, 15197, 16, 5588, 0, 29520, 3, 492], 'NatNum': [75991, 11017, 237330, 21267, 24223, 233828, 93554, 52140, 61115, 1885, 32412, 19308, 6956, 1823, 16634, 642290, 28061, 5978, 133012, 15722, 8068, 227077, 78179, 44855, 213467, 1252, 14090, 18881, 9167, 860, 670056, 38553, 145544, 20035, 13896, 286992, 99301, 706, 14607, 23245, 11886, 1248, 11890, 41561, 190501, 19473, 5951, 258781, 44272, 486, 27205, 24527, 7478, 1036, 8869, 59738, 148961, 27172, 14936, 281457, 68749, 2221, 44232, 22587, 8822, 1647, 14454], 'addrCd': [1111, 1111, 1111, 1111, 1111, 1117, 1111, 1114, 1114, 1135, 1141, 1141, 1144, 1165, 1168, 1171, 1111, 1111, 1111, 1111, 1111, 1117, 1111, 1114, 1114, 1135, 1141, 1141, 1144, 1165, 1171, 1111, 1111, 1111, 1111, 1117, 1114, 1135, 1141, 1141, 1144, 1165, 1168, 1111, 1111, 1111, 1111, 1117, 1114, 1135, 1141, 1141, 1144, 1165, 1168, 1111, 1111, 1111, 1111, 1117, 1114, 1135, 1141, 1141, 1144, 1165, 1168], 'gungu': ['종로구', '종로구', '종로구', '종로구', '종로구', '용산구', '종로구', '중구', '중구', '노원구', '서대문구', '서대문구', '마포구', '서초구', '강남구', '송파구', '종로구', '종로구', '종로구', '종로구', '종로구', '용산구', '종로구', '중구', '중구', '노원구', '서대문구', '서대문구', '마포구', '서초구', '송파구', '종로구', '종로구', '종로구', '종로구', '용산구', '중구', '노원구', '서대문구', '서대문구', '마포구', '서초구', '강남구', '종로구', '종로구', '종로구', '종로구', '용산구', '중구', '노원구', '서대문구', '서대문구', '마포구', '서초구', '강남구', '종로구', '종로구', '종로구', '종로구', '용산구', '중구', '노원구', '서대문구', '서대문구', '마포구', '서초구', '강남구'], 'resNm': ['창덕궁', '운현궁', '경복궁', '창경궁', '종묘', '국립중앙박물관', '서울역사박물관', '덕수궁', '서울시립미술관 본관', '태릉 ·  강릉 · 조선왕릉전시관', '서대문형무소역사관', '서대문자연사박물관', '트릭아이미술관', '헌릉ㆍ인릉', '선릉·정릉', '롯데월드', '창덕궁', '운현궁', '경복궁', '창경궁', '종묘', '국립중앙박물관', '서울역사박물관', '덕수궁', '서울시립미술관 본관', '태릉 ·  강릉 · 조선왕릉전시관', '서대문형무소역사관', '서대문자연사박물관', '트릭아이미술관', '헌릉ㆍ인릉', '롯데월드', '창덕궁', '경복궁', '창경궁', '종묘', '국립중앙박물관', '덕수궁', '태릉 ·  강릉 · 조선왕릉전시관', '서대문형무소역사관', '서대문자연사박물관', '트릭아이미술관', '헌릉ㆍ인릉', '선릉·정릉', '창덕궁', '경복궁', '창경궁', '종묘', '국립중앙박물관', '덕수궁', '태릉 ·  강릉 · 조선왕릉전시관', '서대문형무소역사관', '서대문자연사박물관', '트릭아이미술관', '헌릉ㆍ인릉', '선릉·정릉', '창덕궁', '경복궁', '창경궁', '종묘', '국립중앙박물관', '덕수궁', '태릉 ·  강릉 · 조선왕릉전시관', '서대문형무소역사관', '서대문자연사박물관', '트릭아이미술관', '헌릉ㆍ인릉', '선릉·정릉'], 'rnum': [1, 2, 3, 4, 5, 6, 7, 8, 9, 10, 11, 12, 13, 14, 15, 16, 1, 2, 3, 4, 5, 6, 7, 8, 9, 10, 11, 12, 13, 14, 15, 1, 2, 3, 4, 5, 6, 7, 8, 9, 10, 11, 12, 1, 2, 3, 4, 5, 6, 7, 8, 9, 10, 11, 12, 1, 2, 3, 4, 5, 6, 7, 8, 9, 10, 11, 12], 'sido': ['서울특별시', '서울특별시', '서울특별시', '서울특별시', '서울특별시', '서울특별시', '서울특별시', '서울특별시', '서울특별시', '서울특별시', '서울특별시', '서울특별시', '서울특별시', '서울특별시', '서울특별시', '서울특별시', '서울특별시', '서울특별시', '서울특별시', '서울특별시', '서울특별시', '서울특별시', '서울특별시', '서울특별시', '서울특별시', '서울특별시', '서울특별시', '서울특별시', '서울특별시', '서울특별시', '서울특별시', '서울특별시', '서울특별시', '서울특별시', '서울특별시', '서울특별시', '서울특별시', '서울특별시', '서울특별시', '서울특별시', '서울특별시', '서울특별시', '서울특별시', '서울특별시', '서울특별시', '서울특별시', '서울특별시', '서울특별시', '서울특별시', '서울특별시', '서울특별시', '서울특별시', '서울특별시', '서울특별시', '서울특별시', '서울특별시', '서울특별시', '서울특별시', '서울특별시', '서울특별시', '서울특별시', '서울특별시', '서울특별시', '서울특별시', '서울특별시', '서울특별시', '서울특별시'], 'yyyymm': ['201112', '201112', '201112', '201112', '201112', '201112', '201112', '201112', '201112', '201112', '201112', '201112', '201112', '201112', '201112', '201112', '201212', '201212', '201212', '201212', '201212', '201212', '201212', '201212', '201212', '201212', '201212', '201212', '201212', '201212', '201212', '201312', '201312', '201312', '201312', '201312', '201312', '201312', '201312', '201312', '201312', '201312', '201312', '201412', '201412', '201412', '201412', '201412', '201412', '201412', '201412', '201412', '201412', '201412', '201412', '201512', '201512', '201512', '201512', '201512', '201512', '201512', '201512', '201512', '201512', '201512', '201512']}\n"
     ]
    }
   ],
   "source": [
    "result4 = {key : [item[key] for item in data] for key in list(data[0].keys())}\n",
    "print(result4)"
   ]
  },
  {
   "cell_type": "code",
   "execution_count": null,
   "metadata": {},
   "outputs": [],
   "source": []
  },
  {
   "cell_type": "markdown",
   "metadata": {},
   "source": [
    "## 리스트 표현식에 조건문 포함하기"
   ]
  },
  {
   "cell_type": "code",
   "execution_count": 194,
   "metadata": {},
   "outputs": [
    {
     "data": {
      "text/plain": [
       "[0, 2, 4, 6, 8]"
      ]
     },
     "execution_count": 194,
     "metadata": {},
     "output_type": "execute_result"
    }
   ],
   "source": [
    "[i for i in range(10) if i % 2== 0]"
   ]
  },
  {
   "cell_type": "code",
   "execution_count": 195,
   "metadata": {},
   "outputs": [
    {
     "name": "stdout",
     "output_type": "stream",
     "text": [
      "0\n",
      "2\n",
      "4\n",
      "6\n",
      "8\n"
     ]
    }
   ],
   "source": [
    "for i in range(10):\n",
    "    if i % 2 ==0:\n",
    "        print(i)"
   ]
  },
  {
   "cell_type": "code",
   "execution_count": 196,
   "metadata": {},
   "outputs": [
    {
     "data": {
      "text/plain": [
       "[0, 2, 4, 6, 8]"
      ]
     },
     "execution_count": 196,
     "metadata": {},
     "output_type": "execute_result"
    }
   ],
   "source": [
    "# if문은 오른쪽, 반복문은 왼쪽\n",
    "[i for i in range(10) if i % 2 ==0]"
   ]
  },
  {
   "cell_type": "code",
   "execution_count": 199,
   "metadata": {},
   "outputs": [],
   "source": [
    "L = list(range(20))"
   ]
  },
  {
   "cell_type": "markdown",
   "metadata": {},
   "source": [
    "## if else 문 1줄로 표현하기\n",
    "참일 때 실행문 if 조건 else 거짓일 때 실행문"
   ]
  },
  {
   "cell_type": "code",
   "execution_count": 201,
   "metadata": {},
   "outputs": [
    {
     "name": "stdout",
     "output_type": "stream",
     "text": [
      "even\n",
      "odd\n",
      "even\n",
      "odd\n",
      "even\n",
      "odd\n",
      "even\n",
      "odd\n",
      "even\n",
      "odd\n",
      "even\n",
      "odd\n",
      "even\n",
      "odd\n",
      "even\n",
      "odd\n",
      "even\n",
      "odd\n",
      "even\n",
      "odd\n"
     ]
    }
   ],
   "source": [
    "for i in L:\n",
    "    if i % 2 == 1:\n",
    "        print(\"odd\")\n",
    "    else:\n",
    "        print(\"even\")"
   ]
  },
  {
   "cell_type": "code",
   "execution_count": null,
   "metadata": {},
   "outputs": [],
   "source": [
    "for i in L:\n",
    "    print(\"odd\") if i % 2 == 1 else print(\"even\")"
   ]
  },
  {
   "cell_type": "code",
   "execution_count": null,
   "metadata": {},
   "outputs": [],
   "source": []
  },
  {
   "cell_type": "code",
   "execution_count": 3,
   "metadata": {},
   "outputs": [
    {
     "ename": "NameError",
     "evalue": "name 'data' is not defined",
     "output_type": "error",
     "traceback": [
      "\u001b[1;31m---------------------------------------------------------------------------\u001b[0m",
      "\u001b[1;31mNameError\u001b[0m                                 Traceback (most recent call last)",
      "Cell \u001b[1;32mIn[3], line 2\u001b[0m\n\u001b[0;32m      1\u001b[0m dic \u001b[38;5;241m=\u001b[39m {}\n\u001b[1;32m----> 2\u001b[0m \u001b[38;5;28;01mfor\u001b[39;00m datum \u001b[38;5;129;01min\u001b[39;00m \u001b[43mdata\u001b[49m:\n\u001b[0;32m      3\u001b[0m     \u001b[38;5;28;01mfor\u001b[39;00m k,v \u001b[38;5;129;01min\u001b[39;00m datum\u001b[38;5;241m.\u001b[39mitems():\n\u001b[0;32m      4\u001b[0m         dic\u001b[38;5;241m.\u001b[39msetdefault(k, [])\u001b[38;5;241m.\u001b[39mappend(v)\n",
      "\u001b[1;31mNameError\u001b[0m: name 'data' is not defined"
     ]
    }
   ],
   "source": [
    "dic = {}\n",
    "for datum in data:\n",
    "    for k,v in datum.items():\n",
    "        dic.setdefault(k, []).append(v)\n",
    "print(dic)"
   ]
  },
  {
   "cell_type": "code",
   "execution_count": null,
   "metadata": {},
   "outputs": [],
   "source": []
  },
  {
   "cell_type": "code",
   "execution_count": null,
   "metadata": {},
   "outputs": [],
   "source": []
  },
  {
   "cell_type": "code",
   "execution_count": null,
   "metadata": {},
   "outputs": [],
   "source": []
  },
  {
   "cell_type": "code",
   "execution_count": null,
   "metadata": {},
   "outputs": [],
   "source": []
  },
  {
   "cell_type": "code",
   "execution_count": null,
   "metadata": {},
   "outputs": [],
   "source": []
  },
  {
   "cell_type": "code",
   "execution_count": null,
   "metadata": {},
   "outputs": [],
   "source": []
  },
  {
   "cell_type": "code",
   "execution_count": null,
   "metadata": {},
   "outputs": [],
   "source": []
  },
  {
   "cell_type": "code",
   "execution_count": null,
   "metadata": {},
   "outputs": [],
   "source": []
  },
  {
   "cell_type": "code",
   "execution_count": null,
   "metadata": {},
   "outputs": [],
   "source": []
  },
  {
   "cell_type": "code",
   "execution_count": null,
   "metadata": {},
   "outputs": [],
   "source": []
  },
  {
   "cell_type": "code",
   "execution_count": null,
   "metadata": {},
   "outputs": [],
   "source": []
  },
  {
   "cell_type": "code",
   "execution_count": null,
   "metadata": {},
   "outputs": [],
   "source": []
  },
  {
   "cell_type": "code",
   "execution_count": null,
   "metadata": {},
   "outputs": [],
   "source": []
  },
  {
   "cell_type": "code",
   "execution_count": null,
   "metadata": {},
   "outputs": [],
   "source": []
  },
  {
   "cell_type": "code",
   "execution_count": null,
   "metadata": {},
   "outputs": [],
   "source": []
  },
  {
   "cell_type": "code",
   "execution_count": null,
   "metadata": {},
   "outputs": [],
   "source": []
  },
  {
   "cell_type": "code",
   "execution_count": null,
   "metadata": {},
   "outputs": [],
   "source": []
  },
  {
   "cell_type": "code",
   "execution_count": null,
   "metadata": {},
   "outputs": [],
   "source": []
  },
  {
   "cell_type": "code",
   "execution_count": null,
   "metadata": {},
   "outputs": [],
   "source": []
  }
 ],
 "metadata": {
  "colab": {
   "provenance": []
  },
  "kernelspec": {
   "display_name": "Python 3 (ipykernel)",
   "language": "python",
   "name": "python3"
  },
  "language_info": {
   "codemirror_mode": {
    "name": "ipython",
    "version": 3
   },
   "file_extension": ".py",
   "mimetype": "text/x-python",
   "name": "python",
   "nbconvert_exporter": "python",
   "pygments_lexer": "ipython3",
   "version": "3.10.14"
  }
 },
 "nbformat": 4,
 "nbformat_minor": 4
}
