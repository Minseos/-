{
 "cells": [
  {
   "cell_type": "markdown",
   "id": "95f75ee8",
   "metadata": {},
   "source": [
    "# 클래스 만들기\n",
    "* 클래스는 객체지향 프로그래밍의 핵심\n",
    "* 클래스 하나에 여러개의 함수(매서드)를 포함\n",
    "* 클래스 = 커피머신 공장\n",
    "* 매서드 = 커피머신의 기능 (에스프레소, 아메리카노, 카페라떼, 카푸치노)\n"
   ]
  },
  {
   "cell_type": "markdown",
   "id": "3c68196c",
   "metadata": {},
   "source": [
    "더하기 함수 만들기"
   ]
  },
  {
   "cell_type": "code",
   "execution_count": 1,
   "id": "cd1fe87e",
   "metadata": {},
   "outputs": [],
   "source": [
    "def add(num1, num2):\n",
    "    result = num1 + num2\n",
    "    return result"
   ]
  },
  {
   "cell_type": "code",
   "execution_count": 2,
   "id": "95db093a",
   "metadata": {},
   "outputs": [
    {
     "data": {
      "text/plain": [
       "8"
      ]
     },
     "execution_count": 2,
     "metadata": {},
     "output_type": "execute_result"
    }
   ],
   "source": [
    "add(3, 5)"
   ]
  },
  {
   "cell_type": "code",
   "execution_count": null,
   "id": "88e47627",
   "metadata": {},
   "outputs": [],
   "source": []
  },
  {
   "cell_type": "code",
   "execution_count": 8,
   "id": "3d5a70c4",
   "metadata": {},
   "outputs": [],
   "source": [
    "result_cal = 0\n",
    "def add(num):\n",
    "    global result_cal\n",
    "    result_cal += num\n",
    "    return result_cal\n",
    "\n",
    "result_cal2 = 0\n",
    "def add2(num):\n",
    "    global result_cal2\n",
    "    result_cal2 += num\n",
    "    return result_cal2"
   ]
  },
  {
   "cell_type": "code",
   "execution_count": 9,
   "id": "6fcdcaca",
   "metadata": {},
   "outputs": [
    {
     "data": {
      "text/plain": [
       "1"
      ]
     },
     "execution_count": 9,
     "metadata": {},
     "output_type": "execute_result"
    }
   ],
   "source": [
    "add(1)"
   ]
  },
  {
   "cell_type": "code",
   "execution_count": 69,
   "id": "2791fda4",
   "metadata": {
    "scrolled": true
   },
   "outputs": [
    {
     "data": {
      "text/plain": [
       "3"
      ]
     },
     "execution_count": 69,
     "metadata": {},
     "output_type": "execute_result"
    }
   ],
   "source": [
    "add2(3)"
   ]
  },
  {
   "cell_type": "code",
   "execution_count": 34,
   "id": "204ebcac",
   "metadata": {},
   "outputs": [
    {
     "name": "stdout",
     "output_type": "stream",
     "text": [
      "45\n"
     ]
    }
   ],
   "source": [
    "result = 0\n",
    "for i in range(1,10):\n",
    "    result += i\n",
    "print(result)"
   ]
  },
  {
   "cell_type": "code",
   "execution_count": 10,
   "id": "f62ccd59",
   "metadata": {},
   "outputs": [],
   "source": [
    "result = 0\n",
    "def add_2(num, result=0):\n",
    "    result += num\n",
    "    return result"
   ]
  },
  {
   "cell_type": "code",
   "execution_count": 11,
   "id": "abd4757f",
   "metadata": {},
   "outputs": [
    {
     "data": {
      "text/plain": [
       "3"
      ]
     },
     "execution_count": 11,
     "metadata": {},
     "output_type": "execute_result"
    }
   ],
   "source": [
    "add_2(3)"
   ]
  },
  {
   "cell_type": "markdown",
   "id": "59b6be54",
   "metadata": {},
   "source": [
    "위의 방식으로 함수를 만들면 이전 데이터를 기억하게 할 수 있지만 초기화를 하거나 여러사람이 사용하면서 각기 다른 계산을 할 수 없다.<br>\n",
    "사용자가 늘어나면 변수와 함수를 따로 만들어야 한다.<br>\n",
    "여러 사람이 각자 다른 계산을 할 수 있고 이전 값을 기억할 수 있도록 만들려면 클래스를 이용해서 만들어야 한다."
   ]
  },
  {
   "cell_type": "markdown",
   "id": "81f83848",
   "metadata": {},
   "source": [
    "클래스로 계산기 만들기<br>\n",
    "class 클래스명ClassName:  # 클래스명을 만들때는 대문자로 시작하고 카멜 표기법을 사용<br>\n",
    "____def 매소드명():<br>\n",
    "________실행할 코드<br>\n",
    "________return<br>"
   ]
  },
  {
   "cell_type": "code",
   "execution_count": 16,
   "id": "d26eb855",
   "metadata": {},
   "outputs": [],
   "source": [
    "class Calculator():\n",
    "    def __init__(self):   # self는 Calculator()\n",
    "        self.result = 0\n",
    "    def add(self, num):    # self는 Calculator.add(num)\n",
    "        self.result += num\n",
    "        return self.result"
   ]
  },
  {
   "cell_type": "markdown",
   "id": "83882a2d",
   "metadata": {},
   "source": [
    "클래스 사용방법\n",
    "* 변수에 클래스를 담아서 인스턴스 생성\n",
    "* 인스턴스 변수명 = 클래스명()으로 생성할 수 있다.\n",
    "* 인스턴스를 생성하고 나면 인스턴스.매소드 형식으로 클래스에 정의한 매소드를 사용할 수 있다."
   ]
  },
  {
   "cell_type": "code",
   "execution_count": 19,
   "id": "93dd7f5a",
   "metadata": {},
   "outputs": [],
   "source": [
    "calc = (lambda x: x + 5)"
   ]
  },
  {
   "cell_type": "code",
   "execution_count": 20,
   "id": "7bbb424a",
   "metadata": {},
   "outputs": [
    {
     "data": {
      "text/plain": [
       "10"
      ]
     },
     "execution_count": 20,
     "metadata": {},
     "output_type": "execute_result"
    }
   ],
   "source": [
    "calc(5)"
   ]
  },
  {
   "cell_type": "code",
   "execution_count": 42,
   "id": "c71cacfb",
   "metadata": {},
   "outputs": [],
   "source": [
    "# cal1 변수에 Calculator() 클래스를 담아 인스턴스 생성\n",
    "sam = Calculator() "
   ]
  },
  {
   "cell_type": "code",
   "execution_count": 77,
   "id": "70af56d9",
   "metadata": {},
   "outputs": [
    {
     "name": "stdout",
     "output_type": "stream",
     "text": [
      "<__main__.Calculator object at 0x000001EFCA002DD0>\n",
      "<class '__main__.Calculator'>\n"
     ]
    }
   ],
   "source": [
    "print(cal1)\n",
    "print(type(cal1))"
   ]
  },
  {
   "cell_type": "code",
   "execution_count": 47,
   "id": "009baa32",
   "metadata": {},
   "outputs": [
    {
     "data": {
      "text/plain": [
       "10"
      ]
     },
     "execution_count": 47,
     "metadata": {},
     "output_type": "execute_result"
    }
   ],
   "source": [
    "sam.add(2)"
   ]
  },
  {
   "cell_type": "code",
   "execution_count": 48,
   "id": "bbca6a22",
   "metadata": {},
   "outputs": [],
   "source": [
    "sally = Calculator() "
   ]
  },
  {
   "cell_type": "code",
   "execution_count": 55,
   "id": "e4b6d83e",
   "metadata": {},
   "outputs": [
    {
     "data": {
      "text/plain": [
       "7"
      ]
     },
     "execution_count": 55,
     "metadata": {},
     "output_type": "execute_result"
    }
   ],
   "source": [
    "sally.add(1)"
   ]
  },
  {
   "cell_type": "code",
   "execution_count": 56,
   "id": "244c4dff",
   "metadata": {},
   "outputs": [],
   "source": [
    "john = Calculator()"
   ]
  },
  {
   "cell_type": "code",
   "execution_count": 61,
   "id": "47a9dca6",
   "metadata": {},
   "outputs": [
    {
     "data": {
      "text/plain": [
       "30"
      ]
     },
     "execution_count": 61,
     "metadata": {},
     "output_type": "execute_result"
    }
   ],
   "source": [
    "john.add(6)"
   ]
  },
  {
   "cell_type": "code",
   "execution_count": 96,
   "id": "1609af94",
   "metadata": {},
   "outputs": [],
   "source": [
    "cal4 = Calculator()"
   ]
  },
  {
   "cell_type": "code",
   "execution_count": 97,
   "id": "ad6dc758",
   "metadata": {
    "scrolled": true
   },
   "outputs": [
    {
     "data": {
      "text/plain": [
       "5"
      ]
     },
     "execution_count": 97,
     "metadata": {},
     "output_type": "execute_result"
    }
   ],
   "source": [
    "cal4.add(5)"
   ]
  },
  {
   "cell_type": "markdown",
   "id": "1daf8916",
   "metadata": {},
   "source": [
    "* Calculator 클래스로 만든 별개의 계산기 cal1, cal2를 파이썬에서는 인스턴스(instance)혹은 객체(object)라고 부른다.\n",
    "* 각각의 인스턴스는 독립적으로 역할을 수행\n",
    "* 계산기 cal1과 cal2의 결과값은 서로 독립적으로 유지한다.\n",
    "* 클래스 = 커피머신 공장에서 만든 커피머신\n",
    "* 인스턴스 = 커피머신을 산 고객\n",
    "* 같은 기계를 가지고 있기 때문에 동일한 기능을 가짐\n",
    "* 사용자에 따라서 각기 다르게 사용 된다."
   ]
  },
  {
   "cell_type": "code",
   "execution_count": 62,
   "id": "3f33deb4",
   "metadata": {},
   "outputs": [],
   "source": [
    "class Calculator():\n",
    "    def __init__(self):   # self는 Calculator()\n",
    "        self.result = 0\n",
    "    \n",
    "    def add(self, num):    # self는 Calculator.add(num)\n",
    "        self.result += num\n",
    "        return self.result\n",
    "    \n",
    "    def sub(self, num):\n",
    "        self.result -= num\n",
    "        return self.result"
   ]
  },
  {
   "cell_type": "code",
   "execution_count": 63,
   "id": "c55d5369",
   "metadata": {},
   "outputs": [],
   "source": [
    "james = Calculator()"
   ]
  },
  {
   "cell_type": "code",
   "execution_count": 92,
   "id": "2bb0d4ee",
   "metadata": {},
   "outputs": [
    {
     "data": {
      "text/plain": [
       "70"
      ]
     },
     "execution_count": 92,
     "metadata": {},
     "output_type": "execute_result"
    }
   ],
   "source": [
    "james.add(5)"
   ]
  },
  {
   "cell_type": "code",
   "execution_count": 96,
   "id": "10f05a37",
   "metadata": {
    "scrolled": true
   },
   "outputs": [
    {
     "data": {
      "text/plain": [
       "42"
      ]
     },
     "execution_count": 96,
     "metadata": {},
     "output_type": "execute_result"
    }
   ],
   "source": [
    "james.sub(7)"
   ]
  },
  {
   "cell_type": "code",
   "execution_count": 97,
   "id": "c9f55cb5",
   "metadata": {},
   "outputs": [],
   "source": [
    "susan = Calculator()"
   ]
  },
  {
   "cell_type": "code",
   "execution_count": 106,
   "id": "202943c0",
   "metadata": {},
   "outputs": [
    {
     "data": {
      "text/plain": [
       "81"
      ]
     },
     "execution_count": 106,
     "metadata": {},
     "output_type": "execute_result"
    }
   ],
   "source": [
    "susan.add(9)"
   ]
  },
  {
   "cell_type": "code",
   "execution_count": 111,
   "id": "6a5331c7",
   "metadata": {},
   "outputs": [
    {
     "data": {
      "text/plain": [
       "56"
      ]
     },
     "execution_count": 111,
     "metadata": {},
     "output_type": "execute_result"
    }
   ],
   "source": [
    "susan.sub(5)"
   ]
  },
  {
   "cell_type": "markdown",
   "id": "e167f091",
   "metadata": {},
   "source": [
    "## 매소드(method)\n",
    "* class안에 정의하는 함수\n",
    "* 클래스에 기능을 만들어 준다.<br>\n",
    "def 매소드명(self, 매개변수, num2):<br>\n",
    "____self.매개변수 = 매개변수<br>\n",
    "____self.num2 = num2"
   ]
  },
  {
   "cell_type": "markdown",
   "id": "85043a74",
   "metadata": {},
   "source": [
    "사칙연산이 가능한 FourCal 계산기 만들기"
   ]
  },
  {
   "cell_type": "code",
   "execution_count": 112,
   "id": "ca13a597",
   "metadata": {},
   "outputs": [],
   "source": [
    "# FourCal 이라는 클래스를 만들고 숫자를 입력받는 setdata 매소드 만들기\n",
    "class FourCal():\n",
    "    def setdata(self, num1, num2):\n",
    "        self.num1 = num1\n",
    "        self.num2 = num2\n",
    "        print(\"self.num1 :\", self.num1)\n",
    "        print(\"self.num2 :\", self.num2)"
   ]
  },
  {
   "cell_type": "code",
   "execution_count": 113,
   "id": "fed1f23d",
   "metadata": {},
   "outputs": [],
   "source": [
    "sam = FourCal()"
   ]
  },
  {
   "cell_type": "code",
   "execution_count": 114,
   "id": "1cf8d9cd",
   "metadata": {},
   "outputs": [
    {
     "name": "stdout",
     "output_type": "stream",
     "text": [
      "self.num1 : 4\n",
      "self.num2 : 2\n"
     ]
    }
   ],
   "source": [
    "sam.setdata(4, 2)"
   ]
  },
  {
   "cell_type": "code",
   "execution_count": 117,
   "id": "efcea664",
   "metadata": {},
   "outputs": [],
   "source": [
    "# FourCal 이라는 클래스를 만들고 숫자를 입력받는 setdata 매소드 만들기\n",
    "# add 기능 추가하기\n",
    "class FourCal():\n",
    "    def setdata(self, num1, num2):\n",
    "        self.num1 = num1\n",
    "        self.num2 = num2\n",
    "        print(\"self.num1 :\", self.num1)\n",
    "        print(\"self.num2 :\", self.num2)\n",
    "    \n",
    "    def add(self):\n",
    "        result = self.num1 + self.num2\n",
    "        return result\n",
    "    \n",
    "    def sub(self):\n",
    "        result = self.num1 - self.num2\n",
    "        return result\n",
    "    \n",
    "    def mul(self):\n",
    "        result = self.num1 * self.num2\n",
    "        return result\n",
    "    \n",
    "    def div(self):\n",
    "        result = self.num1 / self.num2\n",
    "        return result"
   ]
  },
  {
   "cell_type": "code",
   "execution_count": 118,
   "id": "a26e62a1",
   "metadata": {},
   "outputs": [],
   "source": [
    "sam = FourCal()"
   ]
  },
  {
   "cell_type": "code",
   "execution_count": 119,
   "id": "8b7dc4a8",
   "metadata": {},
   "outputs": [
    {
     "ename": "AttributeError",
     "evalue": "'FourCal' object has no attribute 'num1'",
     "output_type": "error",
     "traceback": [
      "\u001b[1;31m---------------------------------------------------------------------------\u001b[0m",
      "\u001b[1;31mAttributeError\u001b[0m                            Traceback (most recent call last)",
      "Cell \u001b[1;32mIn[119], line 1\u001b[0m\n\u001b[1;32m----> 1\u001b[0m \u001b[43msam\u001b[49m\u001b[38;5;241;43m.\u001b[39;49m\u001b[43madd\u001b[49m\u001b[43m(\u001b[49m\u001b[43m)\u001b[49m\n",
      "Cell \u001b[1;32mIn[117], line 11\u001b[0m, in \u001b[0;36mFourCal.add\u001b[1;34m(self)\u001b[0m\n\u001b[0;32m     10\u001b[0m \u001b[38;5;28;01mdef\u001b[39;00m \u001b[38;5;21madd\u001b[39m(\u001b[38;5;28mself\u001b[39m):\n\u001b[1;32m---> 11\u001b[0m     result \u001b[38;5;241m=\u001b[39m \u001b[38;5;28;43mself\u001b[39;49m\u001b[38;5;241;43m.\u001b[39;49m\u001b[43mnum1\u001b[49m \u001b[38;5;241m+\u001b[39m \u001b[38;5;28mself\u001b[39m\u001b[38;5;241m.\u001b[39mnum2\n\u001b[0;32m     12\u001b[0m     \u001b[38;5;28;01mreturn\u001b[39;00m result\n",
      "\u001b[1;31mAttributeError\u001b[0m: 'FourCal' object has no attribute 'num1'"
     ]
    }
   ],
   "source": [
    "sam.add()"
   ]
  },
  {
   "cell_type": "code",
   "execution_count": 120,
   "id": "320ba436",
   "metadata": {
    "scrolled": true
   },
   "outputs": [
    {
     "name": "stdout",
     "output_type": "stream",
     "text": [
      "self.num1 : 100\n",
      "self.num2 : 24\n"
     ]
    }
   ],
   "source": [
    "sam.setdata(100,24)"
   ]
  },
  {
   "cell_type": "code",
   "execution_count": 122,
   "id": "8043f796",
   "metadata": {},
   "outputs": [
    {
     "data": {
      "text/plain": [
       "124"
      ]
     },
     "execution_count": 122,
     "metadata": {},
     "output_type": "execute_result"
    }
   ],
   "source": [
    "sam.add()"
   ]
  },
  {
   "cell_type": "code",
   "execution_count": 123,
   "id": "254a0483",
   "metadata": {},
   "outputs": [
    {
     "data": {
      "text/plain": [
       "76"
      ]
     },
     "execution_count": 123,
     "metadata": {},
     "output_type": "execute_result"
    }
   ],
   "source": [
    "sam.sub()"
   ]
  },
  {
   "cell_type": "code",
   "execution_count": 124,
   "id": "0feba536",
   "metadata": {},
   "outputs": [
    {
     "data": {
      "text/plain": [
       "2400"
      ]
     },
     "execution_count": 124,
     "metadata": {},
     "output_type": "execute_result"
    }
   ],
   "source": [
    "sam.mul()"
   ]
  },
  {
   "cell_type": "code",
   "execution_count": 125,
   "id": "3a36e45d",
   "metadata": {},
   "outputs": [
    {
     "data": {
      "text/plain": [
       "4.166666666666667"
      ]
     },
     "execution_count": 125,
     "metadata": {},
     "output_type": "execute_result"
    }
   ],
   "source": [
    "sam.div()"
   ]
  },
  {
   "cell_type": "markdown",
   "id": "37c54167",
   "metadata": {},
   "source": [
    "## 생성자\n",
    "* 객체에 num1, num2와 같은 초기값을 설정해야 할 필요가 있을 때 setmethod와 같은 것을 호출해서 초기값을 설정하는 것보다 생성자를 만들어서 인스턴스를 생성할 때 값을 바로 받는 것이 더 좋다.\n",
    "* 생성자(consturctor)란 객체(인스턴스)가 생성될 때 자동으로 호출되는 매서드\n",
    "* class 내에서 매서드명으로 \\_\\_init\\_\\_ 를 사용하면 그것이 생성자가 된다."
   ]
  },
  {
   "cell_type": "code",
   "execution_count": 1,
   "id": "7a607434",
   "metadata": {},
   "outputs": [],
   "source": [
    "class FourCal2():\n",
    "    def __init__(self, num1, num2): # 생성자\n",
    "        self.num1 = num1   # self.num1 인스턴스 변수\n",
    "        self.num2 = num2   # self.num2 인스턴스 변수\n",
    "        \n",
    "    def add(self):\n",
    "        result = self.num1 + self.num2\n",
    "        return result\n",
    "    \n",
    "    def sub(self):\n",
    "        result = self.num1 - self.num2\n",
    "        return result\n",
    "    \n",
    "    def mul(self):\n",
    "        result = self.num1 * self.num2\n",
    "        return result\n",
    "    \n",
    "    def div(self):\n",
    "        result = self.num1 / self.num2\n",
    "        return result"
   ]
  },
  {
   "cell_type": "code",
   "execution_count": 2,
   "id": "1016db2a",
   "metadata": {},
   "outputs": [
    {
     "ename": "TypeError",
     "evalue": "FourCal2.__init__() missing 2 required positional arguments: 'num1' and 'num2'",
     "output_type": "error",
     "traceback": [
      "\u001b[1;31m---------------------------------------------------------------------------\u001b[0m",
      "\u001b[1;31mTypeError\u001b[0m                                 Traceback (most recent call last)",
      "Cell \u001b[1;32mIn[2], line 1\u001b[0m\n\u001b[1;32m----> 1\u001b[0m james \u001b[38;5;241m=\u001b[39m \u001b[43mFourCal2\u001b[49m\u001b[43m(\u001b[49m\u001b[43m)\u001b[49m\n",
      "\u001b[1;31mTypeError\u001b[0m: FourCal2.__init__() missing 2 required positional arguments: 'num1' and 'num2'"
     ]
    }
   ],
   "source": [
    "james = FourCal2()"
   ]
  },
  {
   "cell_type": "code",
   "execution_count": 3,
   "id": "87c2d0ab",
   "metadata": {},
   "outputs": [],
   "source": [
    "james = FourCal2(200, 45)"
   ]
  },
  {
   "cell_type": "code",
   "execution_count": 4,
   "id": "b7ec3e0e",
   "metadata": {},
   "outputs": [
    {
     "data": {
      "text/plain": [
       "245"
      ]
     },
     "execution_count": 4,
     "metadata": {},
     "output_type": "execute_result"
    }
   ],
   "source": [
    "james.add()"
   ]
  },
  {
   "cell_type": "code",
   "execution_count": 5,
   "id": "9b72da00",
   "metadata": {},
   "outputs": [
    {
     "data": {
      "text/plain": [
       "155"
      ]
     },
     "execution_count": 5,
     "metadata": {},
     "output_type": "execute_result"
    }
   ],
   "source": [
    "james.sub()"
   ]
  },
  {
   "cell_type": "code",
   "execution_count": 6,
   "id": "dbde1755",
   "metadata": {},
   "outputs": [
    {
     "data": {
      "text/plain": [
       "9000"
      ]
     },
     "execution_count": 6,
     "metadata": {},
     "output_type": "execute_result"
    }
   ],
   "source": [
    "james.mul()"
   ]
  },
  {
   "cell_type": "code",
   "execution_count": 7,
   "id": "b67552c6",
   "metadata": {},
   "outputs": [
    {
     "data": {
      "text/plain": [
       "155"
      ]
     },
     "execution_count": 7,
     "metadata": {},
     "output_type": "execute_result"
    }
   ],
   "source": [
    "james.sub()"
   ]
  },
  {
   "cell_type": "markdown",
   "id": "b0ccb5ad",
   "metadata": {},
   "source": [
    "## 클래스의 상속\n",
    "* 어떤 클래스를 만들 때 다른 클래스의 기능을 물려받는 것\n",
    "* 기존 클래스 + 기능을 추가할 때\n",
    "* A클래스를 상속받아 B클래스를 생성한다고 할 때, B클래스는 A 클래스의 모든 기능을 사용할 수 있다."
   ]
  },
  {
   "cell_type": "markdown",
   "id": "64411336",
   "metadata": {},
   "source": [
    "FourCal2을 상속받아 제곱 기능을 추가한 MoreFourCal 만들기"
   ]
  },
  {
   "cell_type": "code",
   "execution_count": 8,
   "id": "9d3b1fda",
   "metadata": {},
   "outputs": [],
   "source": [
    "class MoreFourCal(FourCal2):\n",
    "    def pow(self):\n",
    "        result = self.num1 ** self.num2\n",
    "        return result"
   ]
  },
  {
   "cell_type": "code",
   "execution_count": 9,
   "id": "9a7d730c",
   "metadata": {},
   "outputs": [
    {
     "ename": "TypeError",
     "evalue": "FourCal2.__init__() missing 2 required positional arguments: 'num1' and 'num2'",
     "output_type": "error",
     "traceback": [
      "\u001b[1;31m---------------------------------------------------------------------------\u001b[0m",
      "\u001b[1;31mTypeError\u001b[0m                                 Traceback (most recent call last)",
      "Cell \u001b[1;32mIn[9], line 1\u001b[0m\n\u001b[1;32m----> 1\u001b[0m sally \u001b[38;5;241m=\u001b[39m \u001b[43mMoreFourCal\u001b[49m\u001b[43m(\u001b[49m\u001b[43m)\u001b[49m\n",
      "\u001b[1;31mTypeError\u001b[0m: FourCal2.__init__() missing 2 required positional arguments: 'num1' and 'num2'"
     ]
    }
   ],
   "source": [
    "sally = MoreFourCal()"
   ]
  },
  {
   "cell_type": "code",
   "execution_count": 10,
   "id": "7f5383d4",
   "metadata": {},
   "outputs": [],
   "source": [
    "sally = MoreFourCal(150, 35)"
   ]
  },
  {
   "cell_type": "code",
   "execution_count": 11,
   "id": "3d846f4f",
   "metadata": {},
   "outputs": [
    {
     "data": {
      "text/plain": [
       "14561096060497135331388562917709350585937500000000000000000000000000000000000"
      ]
     },
     "execution_count": 11,
     "metadata": {},
     "output_type": "execute_result"
    }
   ],
   "source": [
    "sally.pow()"
   ]
  },
  {
   "cell_type": "code",
   "execution_count": 12,
   "id": "b07b4a82",
   "metadata": {},
   "outputs": [
    {
     "data": {
      "text/plain": [
       "185"
      ]
     },
     "execution_count": 12,
     "metadata": {},
     "output_type": "execute_result"
    }
   ],
   "source": [
    "sally.add()"
   ]
  },
  {
   "cell_type": "code",
   "execution_count": 13,
   "id": "0331db69",
   "metadata": {},
   "outputs": [
    {
     "data": {
      "text/plain": [
       "115"
      ]
     },
     "execution_count": 13,
     "metadata": {},
     "output_type": "execute_result"
    }
   ],
   "source": [
    "sally.sub()"
   ]
  },
  {
   "cell_type": "code",
   "execution_count": 14,
   "id": "ded2d4e8",
   "metadata": {
    "scrolled": true
   },
   "outputs": [
    {
     "data": {
      "text/plain": [
       "5250"
      ]
     },
     "execution_count": 14,
     "metadata": {},
     "output_type": "execute_result"
    }
   ],
   "source": [
    "sally.mul()"
   ]
  },
  {
   "cell_type": "code",
   "execution_count": 15,
   "id": "3f783924",
   "metadata": {
    "scrolled": true
   },
   "outputs": [
    {
     "data": {
      "text/plain": [
       "4.285714285714286"
      ]
     },
     "execution_count": 15,
     "metadata": {},
     "output_type": "execute_result"
    }
   ],
   "source": [
    "sally.div()"
   ]
  },
  {
   "cell_type": "code",
   "execution_count": 16,
   "id": "c1d5d949",
   "metadata": {},
   "outputs": [],
   "source": [
    "sally = FourCal2(100, 4)"
   ]
  },
  {
   "cell_type": "code",
   "execution_count": 17,
   "id": "70191734",
   "metadata": {},
   "outputs": [
    {
     "ename": "AttributeError",
     "evalue": "'FourCal2' object has no attribute 'pow'",
     "output_type": "error",
     "traceback": [
      "\u001b[1;31m---------------------------------------------------------------------------\u001b[0m",
      "\u001b[1;31mAttributeError\u001b[0m                            Traceback (most recent call last)",
      "Cell \u001b[1;32mIn[17], line 1\u001b[0m\n\u001b[1;32m----> 1\u001b[0m \u001b[43msally\u001b[49m\u001b[38;5;241;43m.\u001b[39;49m\u001b[43mpow\u001b[49m()\n",
      "\u001b[1;31mAttributeError\u001b[0m: 'FourCal2' object has no attribute 'pow'"
     ]
    }
   ],
   "source": [
    "sally.pow()"
   ]
  },
  {
   "cell_type": "markdown",
   "id": "a1117e21",
   "metadata": {},
   "source": [
    "## 매서드 오버라이딩\n",
    "* 부모클래스에서 상속한 매서드를 자식 클래스에서 동일한 이름으로 다시 재정의 \n",
    "* method overriding"
   ]
  },
  {
   "cell_type": "code",
   "execution_count": 18,
   "id": "15d4d3ea",
   "metadata": {},
   "outputs": [],
   "source": [
    "john = FourCal2(4, 0)"
   ]
  },
  {
   "cell_type": "code",
   "execution_count": 19,
   "id": "2e87feb4",
   "metadata": {},
   "outputs": [
    {
     "data": {
      "text/plain": [
       "4"
      ]
     },
     "execution_count": 19,
     "metadata": {},
     "output_type": "execute_result"
    }
   ],
   "source": [
    "john.add()"
   ]
  },
  {
   "cell_type": "code",
   "execution_count": 20,
   "id": "43eb34de",
   "metadata": {},
   "outputs": [
    {
     "data": {
      "text/plain": [
       "4"
      ]
     },
     "execution_count": 20,
     "metadata": {},
     "output_type": "execute_result"
    }
   ],
   "source": [
    "john.sub()"
   ]
  },
  {
   "cell_type": "code",
   "execution_count": 21,
   "id": "a458d519",
   "metadata": {},
   "outputs": [
    {
     "data": {
      "text/plain": [
       "0"
      ]
     },
     "execution_count": 21,
     "metadata": {},
     "output_type": "execute_result"
    }
   ],
   "source": [
    "john.mul()"
   ]
  },
  {
   "cell_type": "code",
   "execution_count": 22,
   "id": "5505af1a",
   "metadata": {},
   "outputs": [
    {
     "ename": "ZeroDivisionError",
     "evalue": "division by zero",
     "output_type": "error",
     "traceback": [
      "\u001b[1;31m---------------------------------------------------------------------------\u001b[0m",
      "\u001b[1;31mZeroDivisionError\u001b[0m                         Traceback (most recent call last)",
      "Cell \u001b[1;32mIn[22], line 1\u001b[0m\n\u001b[1;32m----> 1\u001b[0m \u001b[43mjohn\u001b[49m\u001b[38;5;241;43m.\u001b[39;49m\u001b[43mdiv\u001b[49m\u001b[43m(\u001b[49m\u001b[43m)\u001b[49m\n",
      "Cell \u001b[1;32mIn[1], line 19\u001b[0m, in \u001b[0;36mFourCal2.div\u001b[1;34m(self)\u001b[0m\n\u001b[0;32m     18\u001b[0m \u001b[38;5;28;01mdef\u001b[39;00m \u001b[38;5;21mdiv\u001b[39m(\u001b[38;5;28mself\u001b[39m):\n\u001b[1;32m---> 19\u001b[0m     result \u001b[38;5;241m=\u001b[39m \u001b[38;5;28;43mself\u001b[39;49m\u001b[38;5;241;43m.\u001b[39;49m\u001b[43mnum1\u001b[49m\u001b[43m \u001b[49m\u001b[38;5;241;43m/\u001b[39;49m\u001b[43m \u001b[49m\u001b[38;5;28;43mself\u001b[39;49m\u001b[38;5;241;43m.\u001b[39;49m\u001b[43mnum2\u001b[49m\n\u001b[0;32m     20\u001b[0m     \u001b[38;5;28;01mreturn\u001b[39;00m result\n",
      "\u001b[1;31mZeroDivisionError\u001b[0m: division by zero"
     ]
    }
   ],
   "source": [
    "john.div()"
   ]
  },
  {
   "cell_type": "markdown",
   "id": "297456d2",
   "metadata": {},
   "source": [
    "FourCal2는 num2에 0이 입력될 경우 나눗셈시 0으로 나누게 되기 때문에 에러발생<br>\n",
    "SafeFourCal를 만들고 FourCal2를 상속받은 후 div 함수를 재정의 하여 에러를 없앰<br>"
   ]
  },
  {
   "cell_type": "code",
   "execution_count": 23,
   "id": "f9646c5c",
   "metadata": {
    "scrolled": false
   },
   "outputs": [],
   "source": [
    "class SafeFourCal(MoreFourCal):\n",
    "    def div(self):\n",
    "        if self.num2 == 0:\n",
    "            return 0\n",
    "        else:\n",
    "            return self.num1 / self.num2"
   ]
  },
  {
   "cell_type": "code",
   "execution_count": 24,
   "id": "fba432d6",
   "metadata": {},
   "outputs": [],
   "source": [
    "john = SafeFourCal(4, 0)"
   ]
  },
  {
   "cell_type": "code",
   "execution_count": 25,
   "id": "c1471558",
   "metadata": {},
   "outputs": [
    {
     "data": {
      "text/plain": [
       "0"
      ]
     },
     "execution_count": 25,
     "metadata": {},
     "output_type": "execute_result"
    }
   ],
   "source": [
    "john.div()"
   ]
  },
  {
   "cell_type": "code",
   "execution_count": 26,
   "id": "f28766fd",
   "metadata": {},
   "outputs": [
    {
     "data": {
      "text/plain": [
       "4"
      ]
     },
     "execution_count": 26,
     "metadata": {},
     "output_type": "execute_result"
    }
   ],
   "source": [
    "john.add()"
   ]
  },
  {
   "cell_type": "code",
   "execution_count": 27,
   "id": "6b61e5eb",
   "metadata": {},
   "outputs": [
    {
     "data": {
      "text/plain": [
       "4"
      ]
     },
     "execution_count": 27,
     "metadata": {},
     "output_type": "execute_result"
    }
   ],
   "source": [
    "john.sub()"
   ]
  },
  {
   "cell_type": "code",
   "execution_count": 28,
   "id": "06b5bba4",
   "metadata": {},
   "outputs": [
    {
     "data": {
      "text/plain": [
       "0"
      ]
     },
     "execution_count": 28,
     "metadata": {},
     "output_type": "execute_result"
    }
   ],
   "source": [
    "john.mul()"
   ]
  },
  {
   "cell_type": "code",
   "execution_count": 29,
   "id": "08715b64",
   "metadata": {
    "scrolled": true
   },
   "outputs": [
    {
     "data": {
      "text/plain": [
       "1"
      ]
     },
     "execution_count": 29,
     "metadata": {},
     "output_type": "execute_result"
    }
   ],
   "source": [
    "john.pow()"
   ]
  },
  {
   "cell_type": "markdown",
   "id": "5cd09ccf",
   "metadata": {},
   "source": [
    "## 매서드 오버로딩\n",
    "* 한 클래스 안에서 동일 매소드의 기능을 다르게 재정의\n",
    "* 동일한 이름의 매소드가 기능이 약간 변경된 채로 여러 개 존재\n",
    "* def add(num1, num2)\n",
    "* def add(num1, num2, num3)\n",
    "* def add(num1, num2, num3, num4)"
   ]
  },
  {
   "cell_type": "code",
   "execution_count": 30,
   "id": "566fe97f",
   "metadata": {},
   "outputs": [],
   "source": [
    "class OverloadingEx():\n",
    "    def add(self, x, y):\n",
    "        return x + y\n",
    "    \n",
    "    def add(self, x, y, z):\n",
    "        return x + y + z\n",
    "    \n",
    "    def add(self, x, y, z, a):\n",
    "        return x + y + z + a"
   ]
  },
  {
   "cell_type": "code",
   "execution_count": 31,
   "id": "7956c09f",
   "metadata": {},
   "outputs": [],
   "source": [
    "sam = OverloadingEx()"
   ]
  },
  {
   "cell_type": "code",
   "execution_count": 34,
   "id": "1f47a6d9",
   "metadata": {},
   "outputs": [
    {
     "ename": "TypeError",
     "evalue": "OverloadingEx.add() missing 2 required positional arguments: 'z' and 'a'",
     "output_type": "error",
     "traceback": [
      "\u001b[1;31m---------------------------------------------------------------------------\u001b[0m",
      "\u001b[1;31mTypeError\u001b[0m                                 Traceback (most recent call last)",
      "Cell \u001b[1;32mIn[34], line 3\u001b[0m\n\u001b[0;32m      1\u001b[0m \u001b[38;5;66;03m# 파이썬에서는 기본적으로 매소드 오버로딩을 지원 X\u001b[39;00m\n\u001b[0;32m      2\u001b[0m \u001b[38;5;66;03m# 한 클래스에 같은 이름의 매소드가 여러 개 있으면 가장 아래에 정의된 매소드만 실행 됨.\u001b[39;00m\n\u001b[1;32m----> 3\u001b[0m \u001b[43msam\u001b[49m\u001b[38;5;241;43m.\u001b[39;49m\u001b[43madd\u001b[49m\u001b[43m(\u001b[49m\u001b[38;5;241;43m10\u001b[39;49m\u001b[43m,\u001b[49m\u001b[43m \u001b[49m\u001b[38;5;241;43m20\u001b[39;49m\u001b[43m)\u001b[49m\n",
      "\u001b[1;31mTypeError\u001b[0m: OverloadingEx.add() missing 2 required positional arguments: 'z' and 'a'"
     ]
    }
   ],
   "source": [
    "# 파이썬에서는 기본적으로 매소드 오버로딩을 지원 X\n",
    "# 한 클래스에 같은 이름의 매소드가 여러 개 있으면 가장 아래에 정의된 매소드만 실행 됨.\n",
    "sam.add(10, 20)"
   ]
  },
  {
   "cell_type": "markdown",
   "id": "ec7e0452",
   "metadata": {},
   "source": [
    "### multipledispatch 패키지를 통한 매소드 오버로딩"
   ]
  },
  {
   "cell_type": "code",
   "execution_count": 171,
   "id": "1f196f1f",
   "metadata": {},
   "outputs": [
    {
     "name": "stdout",
     "output_type": "stream",
     "text": [
      "^C\n"
     ]
    }
   ],
   "source": [
    "# !conda install multipledispatch"
   ]
  },
  {
   "cell_type": "code",
   "execution_count": 36,
   "id": "6641f104",
   "metadata": {
    "scrolled": true
   },
   "outputs": [],
   "source": [
    "from multipledispatch import dispatch"
   ]
  },
  {
   "cell_type": "code",
   "execution_count": 37,
   "id": "bdb1fe3f",
   "metadata": {},
   "outputs": [],
   "source": [
    "class OverloadingEx2():\n",
    "    \n",
    "    @dispatch(int, int)\n",
    "    def add(self, x, y):\n",
    "        return x + y\n",
    "    \n",
    "    @dispatch(int, int, int)\n",
    "    def add(self, x, y, z):\n",
    "        return x + y + z\n",
    "    \n",
    "    @dispatch(float, float, float, float)\n",
    "    def add(self, x, y, z, a):\n",
    "        return x + y + z - a\n",
    "    \n",
    "    @dispatch(int, int, int, int)\n",
    "    def add(self, x, y, z, a):\n",
    "        return (x + y) - (z + a)"
   ]
  },
  {
   "cell_type": "code",
   "execution_count": 38,
   "id": "ae505301",
   "metadata": {},
   "outputs": [],
   "source": [
    "sally = OverloadingEx2()"
   ]
  },
  {
   "cell_type": "code",
   "execution_count": 39,
   "id": "a153f020",
   "metadata": {
    "scrolled": true
   },
   "outputs": [
    {
     "data": {
      "text/plain": [
       "25"
      ]
     },
     "execution_count": 39,
     "metadata": {},
     "output_type": "execute_result"
    }
   ],
   "source": [
    "sally.add(10, 15)"
   ]
  },
  {
   "cell_type": "code",
   "execution_count": 40,
   "id": "8700c9d1",
   "metadata": {},
   "outputs": [
    {
     "data": {
      "text/plain": [
       "60"
      ]
     },
     "execution_count": 40,
     "metadata": {},
     "output_type": "execute_result"
    }
   ],
   "source": [
    "sally.add(10, 15, 35)"
   ]
  },
  {
   "cell_type": "code",
   "execution_count": 41,
   "id": "ce61de60",
   "metadata": {},
   "outputs": [
    {
     "data": {
      "text/plain": [
       "7.800000000000001"
      ]
     },
     "execution_count": 41,
     "metadata": {},
     "output_type": "execute_result"
    }
   ],
   "source": [
    "sally.add(3.5, 5.6, 7.2, 8.5)"
   ]
  },
  {
   "cell_type": "code",
   "execution_count": 42,
   "id": "af475ed9",
   "metadata": {},
   "outputs": [
    {
     "data": {
      "text/plain": [
       "-7"
      ]
     },
     "execution_count": 42,
     "metadata": {},
     "output_type": "execute_result"
    }
   ],
   "source": [
    "sally.add(3, 5, 7, 8)"
   ]
  },
  {
   "cell_type": "markdown",
   "id": "4152ea2d",
   "metadata": {},
   "source": [
    "## 클래스 속성과 인스턴스 속성\n",
    "* 클래스 속성: 클래스 전체에서 공유하는 속성, 모든 인스턴스에서 공유\n",
    "* 인스턴스 속성: 인스턴스에서만 사용하는 속성, 인스턴간 공유 안됨"
   ]
  },
  {
   "cell_type": "code",
   "execution_count": 43,
   "id": "037629a4",
   "metadata": {},
   "outputs": [],
   "source": [
    "class Family():\n",
    "    lastname = \"김\"  # 클래스 속성"
   ]
  },
  {
   "cell_type": "code",
   "execution_count": 44,
   "id": "22afcfbe",
   "metadata": {},
   "outputs": [
    {
     "data": {
      "text/plain": [
       "'김'"
      ]
     },
     "execution_count": 44,
     "metadata": {},
     "output_type": "execute_result"
    }
   ],
   "source": [
    "Family.lastname"
   ]
  },
  {
   "cell_type": "code",
   "execution_count": 45,
   "id": "bc463f6f",
   "metadata": {},
   "outputs": [
    {
     "data": {
      "text/plain": [
       "'김'"
      ]
     },
     "execution_count": 45,
     "metadata": {},
     "output_type": "execute_result"
    }
   ],
   "source": [
    "john = Family()\n",
    "john.lastname"
   ]
  },
  {
   "cell_type": "code",
   "execution_count": 46,
   "id": "47315aa1",
   "metadata": {},
   "outputs": [
    {
     "data": {
      "text/plain": [
       "'김'"
      ]
     },
     "execution_count": 46,
     "metadata": {},
     "output_type": "execute_result"
    }
   ],
   "source": [
    "sally = Family()\n",
    "sally.lastname"
   ]
  },
  {
   "cell_type": "code",
   "execution_count": 47,
   "id": "935f19d9",
   "metadata": {},
   "outputs": [],
   "source": [
    "# 인스턴스를 생성한 후 클래스 속성에 새로운 값을 할당 하면\n",
    "# 클래스 속성은 인스턴스 속성으로 변한다.\n",
    "john.lastname = \"박\" "
   ]
  },
  {
   "cell_type": "code",
   "execution_count": 48,
   "id": "17546a3a",
   "metadata": {},
   "outputs": [
    {
     "data": {
      "text/plain": [
       "'박'"
      ]
     },
     "execution_count": 48,
     "metadata": {},
     "output_type": "execute_result"
    }
   ],
   "source": [
    "john.lastname"
   ]
  },
  {
   "cell_type": "code",
   "execution_count": 49,
   "id": "6a55050a",
   "metadata": {},
   "outputs": [
    {
     "data": {
      "text/plain": [
       "'김'"
      ]
     },
     "execution_count": 49,
     "metadata": {},
     "output_type": "execute_result"
    }
   ],
   "source": [
    "sally.lastname"
   ]
  },
  {
   "cell_type": "code",
   "execution_count": 50,
   "id": "7b36339c",
   "metadata": {},
   "outputs": [],
   "source": [
    "# 클래스 속성 Family.lastname 을 '최' 로 변경\n",
    "Family.lastname = '최'"
   ]
  },
  {
   "cell_type": "code",
   "execution_count": 51,
   "id": "7f374f29",
   "metadata": {},
   "outputs": [
    {
     "name": "stdout",
     "output_type": "stream",
     "text": [
      "박\n",
      "최\n"
     ]
    }
   ],
   "source": [
    "print(john.lastname)   # 인스턴스 속성으로 변경 되었기 때문에 클래스 속성에 영향 X\n",
    "print(sally.lastname)  # 클래스 속성을 그대로 유지"
   ]
  },
  {
   "cell_type": "markdown",
   "id": "70924316",
   "metadata": {},
   "source": [
    "## 비공개 클래스 속성 __(언더바 2개)시작하면 비공개 속성\n",
    "* \\_\\_변수명\n",
    "* 보안이 필요해서 남들에게 정보를 노출하고 싶지 않을 때 사용"
   ]
  },
  {
   "cell_type": "code",
   "execution_count": 52,
   "id": "f493b999",
   "metadata": {},
   "outputs": [],
   "source": [
    "class PInfo():\n",
    "    lastname = '홍'\n",
    "    __first_name = '길동'\n",
    "    __wallet = 10000\n",
    "    \n",
    "    def print_name(self):\n",
    "        print(PInfo.__first_name)\n",
    "        \n",
    "    def wallet(self):\n",
    "        print(PInfo.__wallet)"
   ]
  },
  {
   "cell_type": "code",
   "execution_count": 53,
   "id": "bc288356",
   "metadata": {},
   "outputs": [],
   "source": [
    "sam = PInfo()"
   ]
  },
  {
   "cell_type": "code",
   "execution_count": 54,
   "id": "ed450ff1",
   "metadata": {},
   "outputs": [
    {
     "data": {
      "text/plain": [
       "'홍'"
      ]
     },
     "execution_count": 54,
     "metadata": {},
     "output_type": "execute_result"
    }
   ],
   "source": [
    "sam.lastname"
   ]
  },
  {
   "cell_type": "code",
   "execution_count": 55,
   "id": "d08f0967",
   "metadata": {},
   "outputs": [
    {
     "ename": "AttributeError",
     "evalue": "'PInfo' object has no attribute '__first_name'",
     "output_type": "error",
     "traceback": [
      "\u001b[1;31m---------------------------------------------------------------------------\u001b[0m",
      "\u001b[1;31mAttributeError\u001b[0m                            Traceback (most recent call last)",
      "Cell \u001b[1;32mIn[55], line 1\u001b[0m\n\u001b[1;32m----> 1\u001b[0m \u001b[43msam\u001b[49m\u001b[38;5;241;43m.\u001b[39;49m\u001b[43m__first_name\u001b[49m\n",
      "\u001b[1;31mAttributeError\u001b[0m: 'PInfo' object has no attribute '__first_name'"
     ]
    }
   ],
   "source": [
    "sam.__first_name"
   ]
  },
  {
   "cell_type": "code",
   "execution_count": 56,
   "id": "5f00c6f1",
   "metadata": {},
   "outputs": [
    {
     "ename": "AttributeError",
     "evalue": "'PInfo' object has no attribute '__wallet'",
     "output_type": "error",
     "traceback": [
      "\u001b[1;31m---------------------------------------------------------------------------\u001b[0m",
      "\u001b[1;31mAttributeError\u001b[0m                            Traceback (most recent call last)",
      "Cell \u001b[1;32mIn[56], line 1\u001b[0m\n\u001b[1;32m----> 1\u001b[0m \u001b[43msam\u001b[49m\u001b[38;5;241;43m.\u001b[39;49m\u001b[43m__wallet\u001b[49m\n",
      "\u001b[1;31mAttributeError\u001b[0m: 'PInfo' object has no attribute '__wallet'"
     ]
    }
   ],
   "source": [
    "sam.__wallet"
   ]
  },
  {
   "cell_type": "markdown",
   "id": "8736c8d3",
   "metadata": {},
   "source": [
    "* 비공개 클래스 속성을 직접 출력하려고 하면 출력 X\n",
    "* 클래스 내에서 함수를 만들어 출력하면 출력 O"
   ]
  },
  {
   "cell_type": "code",
   "execution_count": 57,
   "id": "e9db8082",
   "metadata": {},
   "outputs": [
    {
     "name": "stdout",
     "output_type": "stream",
     "text": [
      "길동\n"
     ]
    }
   ],
   "source": [
    "sam.print_name()"
   ]
  },
  {
   "cell_type": "code",
   "execution_count": 58,
   "id": "b4ebe50e",
   "metadata": {},
   "outputs": [
    {
     "name": "stdout",
     "output_type": "stream",
     "text": [
      "10000\n"
     ]
    }
   ],
   "source": [
    "sam.wallet()"
   ]
  },
  {
   "cell_type": "code",
   "execution_count": 61,
   "id": "d4396836",
   "metadata": {},
   "outputs": [
    {
     "data": {
      "text/plain": [
       "7"
      ]
     },
     "execution_count": 61,
     "metadata": {},
     "output_type": "execute_result"
    }
   ],
   "source": [
    "SafeFourCal(3,4).add()"
   ]
  },
  {
   "cell_type": "code",
   "execution_count": 60,
   "id": "bff3fce2",
   "metadata": {},
   "outputs": [
    {
     "data": {
      "text/plain": [
       "12"
      ]
     },
     "execution_count": 60,
     "metadata": {},
     "output_type": "execute_result"
    }
   ],
   "source": [
    "sam = SafeFourCal(10, 2)\n",
    "sam.add()"
   ]
  },
  {
   "cell_type": "markdown",
   "id": "f8d251bd",
   "metadata": {},
   "source": [
    "## 정적매서드 static method\n",
    "* 인스턴스를 만들지 않고도 클래스의 매서드를 바로 사용할 수 있는 매서드\n",
    "* @staticmethod라는 데코레이터를 붙여서 만든다.\n",
    "* staticmethod는 self를 받지 않으므로 인스턴스 속성, 인스턴스 메서드가 필요하지 않을 때 사용"
   ]
  },
  {
   "cell_type": "code",
   "execution_count": 62,
   "id": "ca3a0bc1",
   "metadata": {},
   "outputs": [],
   "source": [
    "class Cal():\n",
    "    @staticmethod\n",
    "    def add(a, b):\n",
    "        print(a + b)\n",
    "    \n",
    "    @staticmethod\n",
    "    def sub(a, b):\n",
    "        print(a - b)"
   ]
  },
  {
   "cell_type": "code",
   "execution_count": 63,
   "id": "9c7ac39b",
   "metadata": {},
   "outputs": [
    {
     "name": "stdout",
     "output_type": "stream",
     "text": [
      "9\n"
     ]
    }
   ],
   "source": [
    "sam = Cal()\n",
    "sam.add(4,5)"
   ]
  },
  {
   "cell_type": "code",
   "execution_count": 64,
   "id": "15f0fe30",
   "metadata": {},
   "outputs": [
    {
     "name": "stdout",
     "output_type": "stream",
     "text": [
      "7\n"
     ]
    }
   ],
   "source": [
    "Cal.add(3,4)"
   ]
  },
  {
   "cell_type": "code",
   "execution_count": 65,
   "id": "946f6686",
   "metadata": {},
   "outputs": [
    {
     "name": "stdout",
     "output_type": "stream",
     "text": [
      "-1\n"
     ]
    }
   ],
   "source": [
    "Cal.sub(3,4)"
   ]
  },
  {
   "cell_type": "markdown",
   "id": "ad0f4ddb",
   "metadata": {},
   "source": [
    "## 클래스 매서드 class method\n",
    "* 매서드 위에 @classmethod를 붙여서 만든다.\n",
    "* 클래스 매서드의 첫 번째 매개변수에는 cls를 지정해야 한다.\n",
    "* 클래스 매서드도 정적 매서드처럼 인스턴스 생성 없이 호출이 가능하다.\n",
    "* 클래스 매서드는 매서드 안에서 클래스 속성, 클래스 매서드에 접근해야 할 때 사용한다."
   ]
  },
  {
   "cell_type": "code",
   "execution_count": 66,
   "id": "3df49685",
   "metadata": {},
   "outputs": [],
   "source": [
    "class Factory():\n",
    "    n_coffee_machine = 0 # 클래스 속성\n",
    "    \n",
    "    def __init__(self):\n",
    "        Factory.n_coffee_machine += 1 # 인스턴스가 만들어질 때 클래스 속성에 1을 더함\n",
    "        \n",
    "    @classmethod\n",
    "    def print_n_coffee_machine(cls):\n",
    "        print(f'{cls.n_coffee_machine}개 제조되었습니다.')  # cls로 클래스 속성에 접근"
   ]
  },
  {
   "cell_type": "code",
   "execution_count": 67,
   "id": "a381c4f9",
   "metadata": {},
   "outputs": [],
   "source": [
    "a1 = Factory()"
   ]
  },
  {
   "cell_type": "code",
   "execution_count": 74,
   "id": "335686cd",
   "metadata": {},
   "outputs": [
    {
     "name": "stdout",
     "output_type": "stream",
     "text": [
      "2개 제조되었습니다.\n"
     ]
    }
   ],
   "source": [
    "Factory.print_n_coffee_machine()"
   ]
  },
  {
   "cell_type": "code",
   "execution_count": 75,
   "id": "9286a820",
   "metadata": {},
   "outputs": [],
   "source": [
    "a2 = Factory()"
   ]
  },
  {
   "cell_type": "code",
   "execution_count": 76,
   "id": "2f12a1f1",
   "metadata": {},
   "outputs": [
    {
     "name": "stdout",
     "output_type": "stream",
     "text": [
      "3개 제조되었습니다.\n"
     ]
    }
   ],
   "source": [
    "Factory.print_n_coffee_machine()"
   ]
  },
  {
   "cell_type": "markdown",
   "id": "77f01b61",
   "metadata": {},
   "source": [
    "## 추상 클래스 abc(abstract base class) 모듈 필요\n",
    "* 추상클래스는 추상클래스를 상속받아 클래스를 만들 때 반드시 만들어야 하는 메소드를 지정해 주는 클래스\n",
    "* 규칙을 부여해서 그 규칙에 따라 클래스를 만들도록 함\n",
    "* 추상클래스를 상속받은 클래스는 반드시 추상클래스에서 정의한 매소드를 overriding으로 구현해야 한다."
   ]
  },
  {
   "cell_type": "code",
   "execution_count": 78,
   "id": "f10e841e",
   "metadata": {},
   "outputs": [],
   "source": [
    "from abc import *"
   ]
  },
  {
   "cell_type": "code",
   "execution_count": 79,
   "id": "d42ead28",
   "metadata": {},
   "outputs": [],
   "source": [
    "# 추상클래스\n",
    "class CoffeeBase(metaclass=ABCMeta):\n",
    "    @abstractmethod\n",
    "    def bean_input(self):\n",
    "        pass\n",
    "    \n",
    "    @abstractmethod\n",
    "    def grind(self):\n",
    "        pass\n",
    "    \n",
    "class CoffeeMachine(CoffeeBase):\n",
    "    def bean_input(self):\n",
    "        print('커피 원두 넣기')"
   ]
  },
  {
   "cell_type": "code",
   "execution_count": 80,
   "id": "a215f898",
   "metadata": {},
   "outputs": [
    {
     "ename": "TypeError",
     "evalue": "Can't instantiate abstract class CoffeeBase with abstract methods bean_input, grind",
     "output_type": "error",
     "traceback": [
      "\u001b[1;31m---------------------------------------------------------------------------\u001b[0m",
      "\u001b[1;31mTypeError\u001b[0m                                 Traceback (most recent call last)",
      "Cell \u001b[1;32mIn[80], line 2\u001b[0m\n\u001b[0;32m      1\u001b[0m \u001b[38;5;66;03m# 추상 클래스는 인스턴스 생성 불가\u001b[39;00m\n\u001b[1;32m----> 2\u001b[0m sam \u001b[38;5;241m=\u001b[39m \u001b[43mCoffeeBase\u001b[49m\u001b[43m(\u001b[49m\u001b[43m)\u001b[49m\n",
      "\u001b[1;31mTypeError\u001b[0m: Can't instantiate abstract class CoffeeBase with abstract methods bean_input, grind"
     ]
    }
   ],
   "source": [
    "# 추상 클래스는 인스턴스 생성 불가\n",
    "sam = CoffeeBase()"
   ]
  },
  {
   "cell_type": "code",
   "execution_count": 81,
   "id": "f1cac6a7",
   "metadata": {},
   "outputs": [
    {
     "ename": "TypeError",
     "evalue": "Can't instantiate abstract class CoffeeMachine with abstract method grind",
     "output_type": "error",
     "traceback": [
      "\u001b[1;31m---------------------------------------------------------------------------\u001b[0m",
      "\u001b[1;31mTypeError\u001b[0m                                 Traceback (most recent call last)",
      "Cell \u001b[1;32mIn[81], line 1\u001b[0m\n\u001b[1;32m----> 1\u001b[0m sally \u001b[38;5;241m=\u001b[39m \u001b[43mCoffeeMachine\u001b[49m\u001b[43m(\u001b[49m\u001b[43m)\u001b[49m\n",
      "\u001b[1;31mTypeError\u001b[0m: Can't instantiate abstract class CoffeeMachine with abstract method grind"
     ]
    }
   ],
   "source": [
    "sally = CoffeeMachine()"
   ]
  },
  {
   "cell_type": "code",
   "execution_count": 82,
   "id": "9e4bce1e",
   "metadata": {},
   "outputs": [],
   "source": [
    "# 추상클래스\n",
    "class CoffeeBase2(metaclass=ABCMeta):\n",
    "    @abstractmethod\n",
    "    def bean_input(self):\n",
    "        pass\n",
    "    \n",
    "    @abstractmethod\n",
    "    def grind(self):\n",
    "        pass\n",
    "    \n",
    "class CoffeeMachine2(CoffeeBase2):\n",
    "    def bean_input(self):\n",
    "        print('커피 원두 넣기')\n",
    "    \n",
    "    def grind(self):\n",
    "        print('커피 원두 분쇄하기')"
   ]
  },
  {
   "cell_type": "code",
   "execution_count": 83,
   "id": "c126aa0c",
   "metadata": {},
   "outputs": [],
   "source": [
    "john = CoffeeMachine2()"
   ]
  },
  {
   "cell_type": "code",
   "execution_count": 84,
   "id": "db012857",
   "metadata": {
    "scrolled": true
   },
   "outputs": [
    {
     "name": "stdout",
     "output_type": "stream",
     "text": [
      "커피 원두 넣기\n"
     ]
    }
   ],
   "source": [
    "john.bean_input()"
   ]
  },
  {
   "cell_type": "code",
   "execution_count": 85,
   "id": "96d063e2",
   "metadata": {},
   "outputs": [
    {
     "name": "stdout",
     "output_type": "stream",
     "text": [
      "커피 원두 분쇄하기\n"
     ]
    }
   ],
   "source": [
    "john.grind()"
   ]
  },
  {
   "cell_type": "code",
   "execution_count": null,
   "id": "f65b16ef",
   "metadata": {},
   "outputs": [],
   "source": []
  },
  {
   "cell_type": "code",
   "execution_count": null,
   "id": "c829027a",
   "metadata": {},
   "outputs": [],
   "source": []
  }
 ],
 "metadata": {
  "kernelspec": {
   "display_name": "Python 3 (ipykernel)",
   "language": "python",
   "name": "python3"
  },
  "language_info": {
   "codemirror_mode": {
    "name": "ipython",
    "version": 3
   },
   "file_extension": ".py",
   "mimetype": "text/x-python",
   "name": "python",
   "nbconvert_exporter": "python",
   "pygments_lexer": "ipython3",
   "version": "3.10.14"
  }
 },
 "nbformat": 4,
 "nbformat_minor": 5
}
