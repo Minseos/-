{
<<<<<<< HEAD
 "cells": [
  {
   "cell_type": "markdown",
   "metadata": {
    "id": "t3LM78_aLpcr"
   },
   "source": [
    "#### 반복문 for, while\n",
    "* 반복문은 동일한 작업을 여러 번 반복해야 할 경우 사용하는 명령\n",
    "* for while 두 종류의 반복문이 있음\n",
    "* for는 반복 횟수가 정해져 있는 경우에 사용\n",
    "* while은 반복 횟수가 정해지지 않은 경우에 사용"
   ]
  },
  {
   "cell_type": "markdown",
   "metadata": {
    "id": "cxm8iegxLulI"
   },
   "source": [
    "####for 반복문 : 반복할 횟수가 정해져 있는 경우\n",
    "for 변수 in 반복할 객체, 자료: <br>\n",
    "____반복할 코드"
   ]
  },
  {
   "cell_type": "code",
   "execution_count": null,
   "metadata": {
    "colab": {
     "base_uri": "https://localhost:8080/"
    },
    "id": "etDib53OMxYM",
    "outputId": "9deb3d1c-2b42-4b14-887a-6f605a0810f7"
   },
   "outputs": [
    {
     "data": {
      "text/plain": [
       "[1, 2, 3, 4, 5, 6, 7, 8, 9, 10]"
      ]
     },
     "execution_count": 2,
     "metadata": {},
     "output_type": "execute_result"
    }
   ],
   "source": [
    "list(range(1,11))"
   ]
  },
  {
   "cell_type": "code",
   "execution_count": null,
   "metadata": {
    "colab": {
     "base_uri": "https://localhost:8080/"
    },
    "id": "FDpOAuZBLcVZ",
    "outputId": "f5543653-8c8a-4dd8-a05c-b4d1bc9fee7d"
   },
   "outputs": [
    {
     "name": "stdout",
     "output_type": "stream",
     "text": [
      "1 2 3 4 5 6 7 8 9 10 "
     ]
    }
   ],
   "source": [
    "# for 문을 이요해서 1 - 10숫자 출력\n",
    "for num in range(1,11):\n",
    "  print(num, end = \" \")\n"
   ]
  },
  {
   "cell_type": "markdown",
   "metadata": {
    "id": "q0GHSJLjNSfX"
   },
   "source": [
    "* 순서가 있는 자료형은 모두 for문에 사용 가능\n",
    " * 문자열, list, tuple"
   ]
  },
  {
   "cell_type": "code",
   "execution_count": null,
   "metadata": {
    "colab": {
     "base_uri": "https://localhost:8080/"
    },
    "id": "O_HC-UhELjCZ",
    "outputId": "aaa59626-2b66-48a7-faae-e0ee67be5d8e"
   },
   "outputs": [
    {
     "name": "stdout",
     "output_type": "stream",
     "text": [
      "파 이 썬 은   문 자 열 을   반 복 문 에   넣 어   출 력 가 능 "
     ]
    }
   ],
   "source": [
    "for char in \"파이썬은 문자열을 반복문에 넣어 출력가능\":\n",
    "  print(char, end = \" \")"
   ]
  },
  {
   "cell_type": "code",
   "execution_count": null,
   "metadata": {
    "colab": {
     "base_uri": "https://localhost:8080/"
    },
    "id": "gqdLt5inLh02",
    "outputId": "b4774ed4-4daf-4e62-eeaa-00473dc191da"
   },
   "outputs": [
    {
     "name": "stdout",
     "output_type": "stream",
     "text": [
      "1 2 3 4 5 "
     ]
    }
   ],
   "source": [
    "for item in [1,2,3,4,5]:\n",
    "  print(item, end = \" \")"
   ]
  },
  {
   "cell_type": "code",
   "execution_count": null,
   "metadata": {
    "id": "XDLIR4qlLjW2"
   },
   "outputs": [],
   "source": [
    "L = [1, 2.3, 3, \"문자열\", [1,2,3], (4,5,6), {'반복문':'for'}]"
   ]
  },
  {
   "cell_type": "code",
   "execution_count": null,
   "metadata": {
    "colab": {
     "base_uri": "https://localhost:8080/"
    },
    "id": "ZF2H8WovLjvP",
    "outputId": "8e6d896f-5726-4fdc-a568-ae9f493957a5"
   },
   "outputs": [
    {
     "name": "stdout",
     "output_type": "stream",
     "text": [
      "1 2.3 3 문자열 [1, 2, 3] (4, 5, 6) {'반복문': 'for'} "
     ]
    }
   ],
   "source": [
    "for item in L:\n",
    "  print(item, end = \" \")"
   ]
  },
  {
   "cell_type": "code",
   "execution_count": null,
   "metadata": {
    "colab": {
     "base_uri": "https://localhost:8080/"
    },
    "id": "25qIrwS2LmGq",
    "outputId": "4729403e-d19b-48f3-abfd-e244e8a9a61e"
   },
   "outputs": [
    {
     "data": {
      "text/plain": [
       "(1, 2.3, 3, '문자열', [1, 2, 3], (4, 5, 6), {'반복문': 'for'})"
      ]
     },
     "execution_count": 14,
     "metadata": {},
     "output_type": "execute_result"
    }
   ],
   "source": [
    "t = tuple(L)\n",
    "t"
   ]
  },
  {
   "cell_type": "code",
   "execution_count": null,
   "metadata": {
    "colab": {
     "base_uri": "https://localhost:8080/"
    },
    "id": "qbAepVmOLmnJ",
    "outputId": "83240a39-c0f9-45a7-ca00-e8e4267733cd"
   },
   "outputs": [
    {
     "name": "stdout",
     "output_type": "stream",
     "text": [
      "1 2.3 3 문자열 [1, 2, 3] (4, 5, 6) {'반복문': 'for'} "
     ]
    }
   ],
   "source": [
    "for item in t:\n",
    "  print(item, end = \" \")"
   ]
  },
  {
   "cell_type": "code",
   "execution_count": null,
   "metadata": {
    "colab": {
     "base_uri": "https://localhost:8080/"
    },
    "id": "m4ZSX7B2Lmv7",
    "outputId": "93d4f055-2bdb-4fde-900a-5f3904f83de7"
   },
   "outputs": [
    {
     "data": {
      "text/plain": [
       "{'번호': 1, '주소': '서울', '전화번호': '010-1111-2222', '이름': '홍길동'}"
      ]
     },
     "execution_count": 17,
     "metadata": {},
     "output_type": "execute_result"
    }
   ],
   "source": [
    "d = dict(번호 = 1, 주소 = '서울', 전화번호 = '010-1111-2222', 이름 = '홍길동')\n",
    "d"
   ]
  },
  {
   "cell_type": "markdown",
   "metadata": {
    "id": "G__onlP3PykB"
   },
   "source": [
    "* 딕셔너리는 반복문에 넣었을 때 key만 출력된다"
   ]
  },
  {
   "cell_type": "code",
   "execution_count": null,
   "metadata": {
    "colab": {
     "base_uri": "https://localhost:8080/"
    },
    "id": "shPs8JUBLm2n",
    "outputId": "79c9e355-8e06-4be0-d568-80c975233a81"
   },
   "outputs": [
    {
     "name": "stdout",
     "output_type": "stream",
     "text": [
      "번호 주소 전화번호 이름 "
     ]
    }
   ],
   "source": [
    "for item in d:\n",
    "  print(item, end = \" \")"
   ]
  },
  {
   "cell_type": "code",
   "execution_count": null,
   "metadata": {
    "colab": {
     "base_uri": "https://localhost:8080/"
    },
    "id": "IJMgK_Q8Lm8B",
    "outputId": "251f0620-af24-475c-c730-4aa98c894f17"
   },
   "outputs": [
    {
     "name": "stdout",
     "output_type": "stream",
     "text": [
      "1 서울 010-1111-2222 홍길동 "
     ]
    }
   ],
   "source": [
    "for value in d:\n",
    "  print(d[value], end = \" \")"
   ]
  },
  {
   "cell_type": "code",
   "execution_count": null,
   "metadata": {
    "colab": {
     "base_uri": "https://localhost:8080/"
    },
    "id": "oyyQdoMgLnHO",
    "outputId": "45d01176-2dfa-4c7b-9fc4-df6d2394d45e"
   },
   "outputs": [
    {
     "name": "stdout",
     "output_type": "stream",
     "text": [
      "1 서울 010-1111-2222 홍길동 "
     ]
    }
   ],
   "source": [
    "# value값이 있으면 value값이 출력되고 없으면 0이 출력됨\n",
    "for key in d:\n",
    "  print(d.get(key,0), end = \" \")"
   ]
  },
  {
   "cell_type": "markdown",
   "metadata": {
    "id": "4x6zmG56Reae"
   },
   "source": [
    "for 반복문을 이용해서 1부터 10까지의 정수를 더한 합을 출력하세요\n",
    "* 1부터 10까지 숫자를 만들어 반복문에 넣는다.\n",
    "* 1부터 10까지 누적 덧셈을 한다.\n",
    "* 누적 덧셈을 한 결과를 출력한다."
   ]
  },
  {
   "cell_type": "code",
   "execution_count": null,
   "metadata": {
    "colab": {
     "base_uri": "https://localhost:8080/"
    },
    "id": "PdB3NsuqLnKn",
    "outputId": "eb18818b-23e0-4dac-8f20-e26909f00564"
   },
   "outputs": [
    {
     "name": "stdout",
     "output_type": "stream",
     "text": [
      "55\n"
     ]
    }
   ],
   "source": [
    "sum = 0\n",
    "for i in range(1,11):\n",
    "  sum += i\n",
    "print(sum)"
   ]
  },
  {
   "cell_type": "markdown",
   "metadata": {
    "id": "zoIQrWbMZfT4"
   },
   "source": [
    "1-100까지 곱한 값을 출력하세요"
   ]
  },
  {
   "cell_type": "code",
   "execution_count": null,
   "metadata": {
    "colab": {
     "base_uri": "https://localhost:8080/"
    },
    "id": "t3WZl2utQqNi",
    "outputId": "9daf116f-fb5f-4641-82bb-c17124b22901"
   },
   "outputs": [
    {
     "name": "stdout",
     "output_type": "stream",
     "text": [
      "93326215443944152681699238856266700490715968264381621468592963895217599993229915608941463976156518286253697920827223758251185210916864000000000000000000000000\n"
     ]
    }
   ],
   "source": [
    "result = 1\n",
    "for num in range(1,101):\n",
    "  result *= num\n",
    "print(result)"
   ]
  },
  {
   "cell_type": "markdown",
   "metadata": {
    "id": "kkquBv07b0b4"
   },
   "source": [
    "1부터 50까지 수 중에서 짝수인 수의 합을 구하시오.\n",
    "* 1 - 50 수를 만들기\n",
    "* 홀짝구분 if else    ,% 2 == 0 짝, % 2 ==1 홀\n",
    "* 짝수면 덧셈 누적합\n",
    "* print()\n"
   ]
  },
  {
   "cell_type": "code",
   "execution_count": null,
   "metadata": {
    "colab": {
     "base_uri": "https://localhost:8080/"
    },
    "id": "36nEWw2VQqLc",
    "outputId": "44600494-c798-4ea0-995d-36bc51bd0ed8"
   },
   "outputs": [
    {
     "name": "stdout",
     "output_type": "stream",
     "text": [
      "650\n",
      "짝수\n"
     ]
    }
   ],
   "source": [
    "result2 = 0\n",
    "answer = \"\"\n",
    "for num in range(1,51):\n",
    "  if num % 2 == 0:\n",
    "    result2 += num\n",
    "    answer = \"짝수\"\n",
    "  elif num % 2 == 1:\n",
    "    answer = \"홀수\"\n",
    "print(result2)\n",
    "print(answer)"
   ]
  },
  {
   "cell_type": "code",
   "execution_count": null,
   "metadata": {
    "colab": {
     "base_uri": "https://localhost:8080/"
    },
    "id": "kqF1LgmxQqJZ",
    "outputId": "3862819f-7591-40f8-ff52-56c95569059c"
   },
   "outputs": [
    {
     "name": "stdout",
     "output_type": "stream",
     "text": [
      "650\n"
     ]
    }
   ],
   "source": [
    "result3 = 0\n",
    "for num in range(0,51,2):\n",
    "  result3 += num\n",
    "print(result3)"
   ]
  },
  {
   "cell_type": "markdown",
   "metadata": {
    "id": "yRjttKOJgebS"
   },
   "source": [
    "1부터 100까지의 수 중에서 7의 배수만 찾아 곱한 값을 출력하세요.\n",
    "* 숫자만들기 1 ~ 100\n",
    "* 7의 배수 찾기 % 7 == 0\n",
    "* 누적곱\n",
    "* print()"
   ]
  },
  {
   "cell_type": "code",
   "execution_count": null,
   "metadata": {
    "colab": {
     "base_uri": "https://localhost:8080/"
    },
    "id": "a1zYSBmAgdu7",
    "outputId": "911baae7-608a-440b-8436-ad3493ea20f3"
   },
   "outputs": [
    {
     "name": "stdout",
     "output_type": "stream",
     "text": [
      "59126328543388935628800\n"
     ]
    }
   ],
   "source": [
    "result4 = 1\n",
    "for num in range(1,101):\n",
    "  if num % 7 == 0:\n",
    "    result4 *= num\n",
    "print(result4)"
   ]
  },
  {
   "cell_type": "markdown",
   "metadata": {
    "id": "kQnHrwotg6ff"
   },
   "source": [
    "1부터 100까지 수를 만들고 그중 30 ~ 70까지만 더해서 출력하세요."
   ]
  },
  {
   "cell_type": "code",
   "execution_count": null,
   "metadata": {
    "colab": {
     "base_uri": "https://localhost:8080/"
    },
    "id": "fPabciwxQqHM",
    "outputId": "95c73888-8a4c-43d0-efc7-f6f9005c3404"
   },
   "outputs": [
    {
     "name": "stdout",
     "output_type": "stream",
     "text": [
      "2050\n"
     ]
    }
   ],
   "source": [
    "result5 = 0\n",
    "for num in range(1,101):\n",
    "  if  30 <= num <= 70:\n",
    "    result5 += num\n",
    "print(result5)"
   ]
  },
  {
   "cell_type": "code",
   "execution_count": null,
   "metadata": {
    "colab": {
     "base_uri": "https://localhost:8080/"
    },
    "id": "ic7773cYQqFM",
    "outputId": "406a5dcd-230e-440b-8d99-160bd70feef5"
   },
   "outputs": [
    {
     "name": "stdout",
     "output_type": "stream",
     "text": [
      "2050\n"
     ]
    }
   ],
   "source": [
    "result6 = 0\n",
    "for num in range(1,101):\n",
    "  if num in range(30,71):\n",
    "    result6 += num\n",
    "print(result6)"
   ]
  },
  {
   "cell_type": "code",
   "execution_count": null,
   "metadata": {
    "colab": {
     "base_uri": "https://localhost:8080/"
    },
    "id": "evfJqLPUQqDK",
    "outputId": "d85b2131-8eca-4181-fccb-4860d8740919"
   },
   "outputs": [
    {
     "name": "stdout",
     "output_type": "stream",
     "text": [
      "2050\n"
     ]
    }
   ],
   "source": [
    "result7 = 0\n",
    "for num in range(1,101)[29:70]:\n",
    "  result7 += num\n",
    "print(result7)"
   ]
  },
  {
   "cell_type": "code",
   "execution_count": null,
   "metadata": {
    "colab": {
     "base_uri": "https://localhost:8080/"
    },
    "id": "sGis8diTQqA4",
    "outputId": "32c9ce5d-af13-4f7e-f4b3-3a96504d6ecb"
   },
   "outputs": [
    {
     "data": {
      "text/plain": [
       "[30,\n",
       " 31,\n",
       " 32,\n",
       " 33,\n",
       " 34,\n",
       " 35,\n",
       " 36,\n",
       " 37,\n",
       " 38,\n",
       " 39,\n",
       " 40,\n",
       " 41,\n",
       " 42,\n",
       " 43,\n",
       " 44,\n",
       " 45,\n",
       " 46,\n",
       " 47,\n",
       " 48,\n",
       " 49,\n",
       " 50,\n",
       " 51,\n",
       " 52,\n",
       " 53,\n",
       " 54,\n",
       " 55,\n",
       " 56,\n",
       " 57,\n",
       " 58,\n",
       " 59,\n",
       " 60,\n",
       " 61,\n",
       " 62,\n",
       " 63,\n",
       " 64,\n",
       " 65,\n",
       " 66,\n",
       " 67,\n",
       " 68,\n",
       " 69,\n",
       " 70]"
      ]
     },
     "execution_count": 52,
     "metadata": {},
     "output_type": "execute_result"
    }
   ],
   "source": [
    "list(range(1,101))[29:70]"
   ]
  },
  {
   "cell_type": "code",
   "execution_count": null,
   "metadata": {
    "colab": {
     "base_uri": "https://localhost:8080/"
    },
    "id": "WS8xiiTuQp-3",
    "outputId": "ab9faf7e-82e0-485e-a7a9-a1631837ea64"
   },
   "outputs": [
    {
     "name": "stdout",
     "output_type": "stream",
     "text": [
      "L1 [1, 3, 5, 7, 9]\n",
      "L2 [0, 2, 4, 6, 8]\n"
     ]
    }
   ],
   "source": [
    "L1 = list(range(1,10, 2))\n",
    "print('L1', L1)\n",
    "L2 = list(range(0, 10, 2))\n",
    "print('L2', L2)"
   ]
  },
  {
   "cell_type": "code",
   "execution_count": null,
   "metadata": {
    "colab": {
     "base_uri": "https://localhost:8080/"
    },
    "id": "WGLj770MQp6k",
    "outputId": "0de0acfd-559c-49dd-aa65-c04fe0bbbe20"
   },
   "outputs": [
    {
     "data": {
      "text/plain": [
       "[0, 1, 2]"
      ]
     },
     "execution_count": 58,
     "metadata": {},
     "output_type": "execute_result"
    }
   ],
   "source": [
    "L3 = list(range(0,3))\n",
    "L3"
   ]
  },
  {
   "cell_type": "code",
   "execution_count": null,
   "metadata": {
    "colab": {
     "base_uri": "https://localhost:8080/"
    },
    "id": "K_6uk-z_Qp81",
    "outputId": "894e28d8-6bcb-4d98-ea62-ea598abe3434"
   },
   "outputs": [
    {
     "name": "stdout",
     "output_type": "stream",
     "text": [
      "1 0 0 1\n",
      "3 2 1 6\n",
      "5 4 2 11\n"
     ]
    }
   ],
   "source": [
    "temp = 0\n",
    "for num, num2, num3 in zip(L1,L2, L3):\n",
    "  temp = num + num2 + num3\n",
    "  print(num, num2, num3, temp)"
   ]
  },
  {
   "cell_type": "markdown",
   "metadata": {
    "id": "NxNdAdyRpsWH"
   },
   "source": [
    "enumerate(): index를 만들어주는 함수"
   ]
  },
  {
   "cell_type": "code",
   "execution_count": null,
   "metadata": {
    "colab": {
     "base_uri": "https://localhost:8080/"
    },
    "id": "XBvHvymeQp1R",
    "outputId": "32ed3c2e-2130-4c1c-fad8-e8af1a866032"
   },
   "outputs": [
    {
     "name": "stdout",
     "output_type": "stream",
     "text": [
      "파\n",
      "이\n",
      "썬\n",
      "은\n",
      " \n",
      "문\n",
      "자\n",
      "열\n",
      "을\n",
      " \n",
      "반\n",
      "복\n",
      "문\n",
      "에\n",
      " \n",
      "넣\n",
      "어\n",
      " \n",
      "출\n",
      "력\n",
      "가\n",
      "능\n"
     ]
    }
   ],
   "source": [
    "for char in \"파이썬은 문자열을 반복문에 넣어 출력가능\":\n",
    "  print(char)"
   ]
  },
  {
   "cell_type": "code",
   "execution_count": null,
   "metadata": {
    "colab": {
     "base_uri": "https://localhost:8080/"
    },
    "id": "uYgETipSQpvB",
    "outputId": "24f3f34d-394e-4e30-a5af-f6cae72dac7c"
   },
   "outputs": [
    {
     "name": "stdout",
     "output_type": "stream",
     "text": [
      "(0, '파')\n",
      "(1, '이')\n",
      "(2, '썬')\n",
      "(3, '은')\n",
      "(4, ' ')\n",
      "(5, '문')\n",
      "(6, '자')\n",
      "(7, '열')\n",
      "(8, '을')\n",
      "(9, ' ')\n",
      "(10, '반')\n",
      "(11, '복')\n",
      "(12, '문')\n",
      "(13, '에')\n",
      "(14, ' ')\n",
      "(15, '넣')\n",
      "(16, '어')\n",
      "(17, ' ')\n",
      "(18, '출')\n",
      "(19, '력')\n",
      "(20, '가')\n",
      "(21, '능')\n"
     ]
    }
   ],
   "source": [
    "for char in enumerate(\"파이썬은 문자열을 반복문에 넣어 출력가능\"):\n",
    "  print(char)"
   ]
  },
  {
   "cell_type": "code",
   "execution_count": null,
   "metadata": {
    "colab": {
     "base_uri": "https://localhost:8080/"
    },
    "id": "yLgB6K9rTBvF",
    "outputId": "c4ca8661-f030-4a05-be0d-80ef4bbe83ca"
   },
   "outputs": [
    {
     "name": "stdout",
     "output_type": "stream",
     "text": [
      "0 파\n",
      "1 이\n",
      "2 썬\n",
      "3 은\n",
      "4  \n",
      "5 문\n",
      "6 자\n",
      "7 열\n",
      "8 을\n",
      "9  \n",
      "10 반\n",
      "11 복\n",
      "12 문\n",
      "13 에\n",
      "14  \n",
      "15 넣\n",
      "16 어\n",
      "17  \n",
      "18 출\n",
      "19 력\n",
      "20 가\n",
      "21 능\n"
     ]
    }
   ],
   "source": [
    "for index, char in enumerate(\"파이썬은 문자열을 반복문에 넣어 출력가능\"):\n",
    "  print(index, char)"
   ]
  },
  {
   "cell_type": "code",
   "execution_count": null,
   "metadata": {
    "colab": {
     "base_uri": "https://localhost:8080/"
    },
    "id": "oEzERpjRrOz3",
    "outputId": "4aa2e85c-5895-48da-a05c-6d9d8e9ea40a"
   },
   "outputs": [
    {
     "name": "stdout",
     "output_type": "stream",
     "text": [
      "[1, 3, 5, 7, 9]\n",
      "[0, 2, 4, 6, 8]\n",
      "[0, 1, 2]\n"
     ]
    }
   ],
   "source": [
    "print(L1)\n",
    "print(L2)\n",
    "print(L3)"
   ]
  },
  {
   "cell_type": "code",
   "execution_count": null,
   "metadata": {
    "colab": {
     "base_uri": "https://localhost:8080/"
    },
    "id": "ns2h1UVkTBs6",
    "outputId": "7a2df52b-6262-4ec5-ec57-c897461f8ef1"
   },
   "outputs": [
    {
     "name": "stdout",
     "output_type": "stream",
     "text": [
      "(0, (1, 0, 0))\n",
      "(1, (3, 2, 1))\n",
      "(2, (5, 4, 2))\n"
     ]
    }
   ],
   "source": [
    "for num1 in enumerate(zip(L1,L2, L3)):\n",
    "  print(num1)"
   ]
  },
  {
   "cell_type": "code",
   "execution_count": null,
   "metadata": {
    "colab": {
     "base_uri": "https://localhost:8080/"
    },
    "id": "txXanoz1TBqz",
    "outputId": "6d0b41f6-dcba-4cef-bfd5-4a54aace13b9"
   },
   "outputs": [
    {
     "name": "stdout",
     "output_type": "stream",
     "text": [
      "index :  0 L1 : 1 L2 : 0 L3 : 0\n",
      "index :  1 L1 : 3 L2 : 2 L3 : 1\n",
      "index :  2 L1 : 5 L2 : 4 L3 : 2\n"
     ]
    }
   ],
   "source": [
    "for index, (num) in enumerate(zip(L1,L2, L3)):\n",
    "  print(\"index : \",index,\"L1 :\", num[0], \"L2 :\",num[1], \"L3 :\", num[2])"
   ]
  },
  {
   "cell_type": "code",
   "execution_count": null,
   "metadata": {
    "colab": {
     "base_uri": "https://localhost:8080/",
     "height": 166
    },
    "id": "UzRdnBJ7TBpC",
    "outputId": "804026e5-b4ff-42b7-8eb8-b6c1a876bec7"
   },
   "outputs": [
    {
     "ename": "ValueError",
     "evalue": "not enough values to unpack (expected 4, got 2)",
     "output_type": "error",
     "traceback": [
      "\u001b[0;31m---------------------------------------------------------------------------\u001b[0m",
      "\u001b[0;31mValueError\u001b[0m                                Traceback (most recent call last)",
      "\u001b[0;32m<ipython-input-73-376c29e81e0a>\u001b[0m in \u001b[0;36m<cell line: 1>\u001b[0;34m()\u001b[0m\n\u001b[0;32m----> 1\u001b[0;31m \u001b[0;32mfor\u001b[0m \u001b[0mindex\u001b[0m\u001b[0;34m,\u001b[0m \u001b[0mnum1\u001b[0m\u001b[0;34m,\u001b[0m \u001b[0mnum2\u001b[0m\u001b[0;34m,\u001b[0m \u001b[0mnum3\u001b[0m \u001b[0;32min\u001b[0m \u001b[0menumerate\u001b[0m\u001b[0;34m(\u001b[0m\u001b[0mzip\u001b[0m\u001b[0;34m(\u001b[0m\u001b[0mL1\u001b[0m\u001b[0;34m,\u001b[0m\u001b[0mL2\u001b[0m\u001b[0;34m,\u001b[0m \u001b[0mL3\u001b[0m\u001b[0;34m)\u001b[0m\u001b[0;34m)\u001b[0m\u001b[0;34m:\u001b[0m\u001b[0;34m\u001b[0m\u001b[0;34m\u001b[0m\u001b[0m\n\u001b[0m\u001b[1;32m      2\u001b[0m   \u001b[0mprint\u001b[0m\u001b[0;34m(\u001b[0m\u001b[0mindex\u001b[0m\u001b[0;34m,\u001b[0m \u001b[0mnum1\u001b[0m\u001b[0;34m,\u001b[0m \u001b[0mnum2\u001b[0m\u001b[0;34m,\u001b[0m \u001b[0mnum3\u001b[0m\u001b[0;34m)\u001b[0m\u001b[0;34m\u001b[0m\u001b[0;34m\u001b[0m\u001b[0m\n",
      "\u001b[0;31mValueError\u001b[0m: not enough values to unpack (expected 4, got 2)"
     ]
    }
   ],
   "source": [
    "for index, num1, num2, num3 in enumerate(zip(L1,L2, L3)):\n",
    "  print(index, num1, num2, num3)"
   ]
  },
  {
   "cell_type": "markdown",
   "metadata": {
    "id": "1Hf3sDaMtv9l"
   },
   "source": [
    "1 ~ 10까지 숫자를 만들고 역순으로 출력하세요"
   ]
  },
  {
   "cell_type": "code",
   "execution_count": null,
   "metadata": {
    "colab": {
     "base_uri": "https://localhost:8080/"
    },
    "id": "6HLEupkOTBm1",
    "outputId": "0c84a602-c5ff-4b82-a18b-ee62c64a9e9e"
   },
   "outputs": [
    {
     "name": "stdout",
     "output_type": "stream",
     "text": [
      "[10, 9, 8, 7, 6, 5, 4, 3, 2, 1]\n"
     ]
    }
   ],
   "source": [
    "L3 = list(range(1,11))\n",
    "L3.reverse()\n",
    "print(L3)"
   ]
  },
  {
   "cell_type": "code",
   "execution_count": null,
   "metadata": {
    "colab": {
     "base_uri": "https://localhost:8080/"
    },
    "id": "uUbB1n98TBk7",
    "outputId": "1cf7d24c-c2d4-4818-e37b-82b3c3157fd5"
   },
   "outputs": [
    {
     "name": "stdout",
     "output_type": "stream",
     "text": [
      "10 9 8 7 6 5 4 3 2 1 "
     ]
    }
   ],
   "source": [
    "for num in reversed(range(1,11)):\n",
    "  print(num, end = \" \")"
   ]
  },
  {
   "cell_type": "code",
   "execution_count": null,
   "metadata": {
    "colab": {
     "base_uri": "https://localhost:8080/"
    },
    "id": "afQ3xFhITBgq",
    "outputId": "e34ac13e-21e9-42a2-a0f6-8627a8ffd2dd"
   },
   "outputs": [
    {
     "name": "stdout",
     "output_type": "stream",
     "text": [
      "1 2 3 4 5 6 7 8 9 10 "
     ]
    }
   ],
   "source": [
    "for num in reversed(range(10,0,-1)):\n",
    "  print(num, end = \" \")"
   ]
  },
  {
   "cell_type": "code",
   "execution_count": null,
   "metadata": {
    "colab": {
     "base_uri": "https://localhost:8080/"
    },
    "id": "aSwkwZSzTBeH",
    "outputId": "81b89d1e-e37c-475c-f547-59c51be144ef"
   },
   "outputs": [
    {
     "name": "stdout",
     "output_type": "stream",
     "text": [
      "10 9 8 7 6 5 4 3 2 1 "
     ]
    }
   ],
   "source": [
    "for num in range(1,11)[::-1]:\n",
    "  print(num, end = \" \")"
   ]
  },
  {
   "cell_type": "code",
   "execution_count": null,
   "metadata": {
    "colab": {
     "base_uri": "https://localhost:8080/"
    },
    "id": "w_y7Rtc4qxNv",
    "outputId": "07917a28-6bd6-46bf-c0b1-7e759a57e93f"
   },
   "outputs": [
    {
     "name": "stdout",
     "output_type": "stream",
     "text": [
      "1 3 5 7 9 "
     ]
    }
   ],
   "source": [
    "for num in range(1,11)[0::2]:\n",
    "  print(num, end = \" \")"
   ]
  },
  {
   "cell_type": "code",
   "execution_count": null,
   "metadata": {
    "id": "FlrFlz28wYER"
   },
   "outputs": [],
   "source": []
  },
  {
   "cell_type": "code",
   "execution_count": null,
   "metadata": {
    "id": "2oTy-CaYwYCH"
   },
   "outputs": [],
   "source": []
  },
  {
   "cell_type": "markdown",
   "metadata": {
    "id": "6GDBJYUWwYxr"
   },
   "source": [
    "# while 반복할 횟수가 정해지지 않은 경우\n",
    "* 무한 반복 가능\n",
    "* 무한 반복이 되지 않도록 조건식을 잘 짜주는 것이 중요 <br>\n",
    "변수 선언 및 초기화 <br>\n",
    "while 조건식 : <br>\n",
    "____반복할 코드\n",
    "____변수 증가/감소 로직"
   ]
  },
  {
   "cell_type": "markdown",
   "metadata": {
    "id": "RsS4J6EY0sp-"
   },
   "source": [
    "while문으로 1 ~ 10까지 출력하기"
   ]
  },
  {
   "cell_type": "code",
   "execution_count": null,
   "metadata": {
    "colab": {
     "base_uri": "https://localhost:8080/"
    },
    "id": "RC4mGJcywX_i",
    "outputId": "969b2866-c412-4919-d616-60434d40e632"
   },
   "outputs": [
    {
     "name": "stdout",
     "output_type": "stream",
     "text": [
      "1 2 3 4 5 6 7 8 9 10 "
     ]
    }
   ],
   "source": [
    "i = 1\n",
    "while i <= 10:\n",
    "  print(i, end = \" \")\n",
    "  i += 1"
   ]
  },
  {
   "cell_type": "markdown",
   "metadata": {
    "id": "xqfIvIsf11Ok"
   },
   "source": [
    "while문을 이용해서 1 ~ 10까지 더해서 결과를 출력하세요"
   ]
  },
  {
   "cell_type": "code",
   "execution_count": null,
   "metadata": {
    "colab": {
     "base_uri": "https://localhost:8080/"
    },
    "id": "mHK4RgRr1ibu",
    "outputId": "c5a305e9-ba7d-4187-c20d-f886ffeddedd"
   },
   "outputs": [
    {
     "name": "stdout",
     "output_type": "stream",
     "text": [
      "55\n"
     ]
    }
   ],
   "source": [
    "sum = 0\n",
    "num = 0\n",
    "while num <= 10:\n",
    "  sum += num\n",
    "  num += 1\n",
    "print(sum)"
   ]
  },
  {
   "cell_type": "markdown",
   "metadata": {
    "id": "MAYGPDvH4QCG"
   },
   "source": [
    "20에서 1까지 숫자를 더한 값을 출력하세요"
   ]
  },
  {
   "cell_type": "code",
   "execution_count": null,
   "metadata": {
    "colab": {
     "base_uri": "https://localhost:8080/"
    },
    "id": "iyd4HYCRwX9b",
    "outputId": "6c0ee419-83e7-454a-9b47-3592794139c6"
   },
   "outputs": [
    {
     "name": "stdout",
     "output_type": "stream",
     "text": [
      "210\n"
     ]
    }
   ],
   "source": [
    "sum2 = 0\n",
    "num2 = 20\n",
    "while num2 >= 1:\n",
    "  sum2 += num2\n",
    "  num2 -= 1\n",
    "print(sum2)"
   ]
  },
  {
   "cell_type": "markdown",
   "metadata": {
    "id": "AeiRDH3n5UYm"
   },
   "source": [
    "1 ~ 50 까지 수 중에서 3의 배수이고, 짝수인 수를 찾아서 더한 값을 출력하시오."
   ]
  },
  {
   "cell_type": "code",
   "execution_count": null,
   "metadata": {
    "colab": {
     "base_uri": "https://localhost:8080/"
    },
    "id": "Pfy_7jsNwX68",
    "outputId": "2180a837-6b7f-40f3-9ab2-fa3306a4346f"
   },
   "outputs": [
    {
     "name": "stdout",
     "output_type": "stream",
     "text": [
      "216\n"
     ]
    }
   ],
   "source": [
    "sum3 = 0\n",
    "num3 = 1\n",
    "while num3 <= 50:\n",
    "  if num3 % 3 ==0 and num3 % 2 == 0:\n",
    "    sum3 += num3\n",
    "  num3 += 1\n",
    "print(sum3)"
   ]
  },
  {
   "cell_type": "markdown",
   "metadata": {
    "id": "XeqSslGi7LXr"
   },
   "source": [
    "반복 횟수가 정해지지 않은 경우 : 무한반복"
   ]
  },
  {
   "cell_type": "code",
   "execution_count": null,
   "metadata": {
    "id": "OKNz-ZgYwX4-"
   },
   "outputs": [],
   "source": [
    "while True:\n",
    "  print(\"무한반복\")"
   ]
  },
  {
   "cell_type": "markdown",
   "metadata": {
    "id": "vv6GsqRv8md_"
   },
   "source": [
    "무한 반복을 하다가 숫자가 100이 되는 시점까지 숫자를 더해서 합을 구하세요"
   ]
  },
  {
   "cell_type": "code",
   "execution_count": null,
   "metadata": {
    "colab": {
     "base_uri": "https://localhost:8080/"
    },
    "id": "-zR1V8xZwX2R",
    "outputId": "a2d6856d-0dc2-4ea2-991f-9ddd4722bf18"
   },
   "outputs": [
    {
     "name": "stdout",
     "output_type": "stream",
     "text": [
      "5050\n"
     ]
    }
   ],
   "source": [
    "i = 0\n",
    "hap = 0\n",
    "while True:\n",
    "  if i == 101:\n",
    "    break\n",
    "  else:\n",
    "    hap += i\n",
    "    i += 1\n",
    "print(hap)"
   ]
  },
  {
   "cell_type": "markdown",
   "metadata": {
    "id": "YKjUstfy9zkp"
   },
   "source": [
    "* True가 되는 경우 : 1, 정수, 실수 , 문자열, list, tuple, dict, True\n",
    "* False가 되는 경우 0, 0.0, '', \"\", [], (), {}"
   ]
  },
  {
   "cell_type": "code",
   "execution_count": null,
   "metadata": {
    "id": "hz-V7MZ7wXz5"
   },
   "outputs": [],
   "source": []
  },
  {
   "cell_type": "markdown",
   "metadata": {
    "id": "n0ec_lOsbGXr"
   },
   "source": []
  },
  {
   "cell_type": "code",
   "execution_count": null,
   "metadata": {
    "id": "a7xkwVNFwXxG"
   },
   "outputs": [],
   "source": []
  },
  {
   "cell_type": "markdown",
   "metadata": {
    "id": "D-2A-9M9bHK2"
   },
   "source": [
    "7/12"
   ]
  },
  {
   "cell_type": "markdown",
   "metadata": {
    "id": "zd-lcGEvZ51q"
   },
   "source": [
    "반복문에서 아무일도 하지 않고 건너뛰기 : pass\n",
    "* 우선 반복할 코드가 들어가야 하는 곳을 만들고 나중에 작업하기"
   ]
  },
  {
   "cell_type": "code",
   "execution_count": 1,
   "metadata": {
    "colab": {
     "base_uri": "https://localhost:8080/"
    },
    "id": "q5rd4mTSZ5lX",
    "outputId": "ae66ec11-3116-461c-e19c-e4ab5805b482"
   },
   "outputs": [
    {
     "name": "stdout",
     "output_type": "stream",
     "text": [
      "0 1 2 3 4 5 6 7 8 9 "
     ]
    }
   ],
   "source": [
    "for i in range(10):\n",
    "  print(i, end = \" \")"
   ]
  },
  {
   "cell_type": "code",
   "execution_count": 2,
   "metadata": {
    "id": "AfUYzCUtwXus"
   },
   "outputs": [],
   "source": [
    "for i in range(10):\n",
    "  pass"
   ]
  },
  {
   "cell_type": "code",
   "execution_count": 3,
   "metadata": {
    "id": "aRtsv74-qxLo"
   },
   "outputs": [],
   "source": [
    "i = 1\n",
    "while i <=10:\n",
    "  pass\n",
    "  i += 1"
   ]
  },
  {
   "cell_type": "markdown",
   "metadata": {
    "id": "ahkkEmtwdbor"
   },
   "source": [
    "### break 반복문을 정지시키는 명령"
   ]
  },
  {
   "cell_type": "code",
   "execution_count": 4,
   "metadata": {
    "colab": {
     "base_uri": "https://localhost:8080/"
    },
    "id": "BAYNU-SQqxJU",
    "outputId": "36ea0ea1-e435-4fab-e40d-0335e5f9b7c1"
   },
   "outputs": [
    {
     "name": "stdout",
     "output_type": "stream",
     "text": [
      "1 2 3 4 5 6 7 8 9 10 11 12 13 14 15 16 17 18 19 20 21 22 23 24 25 26 27 28 29 30 31 32 33 34 35 36 37 38 39 40 41 42 43 44 45 46 47 48 49 50 "
     ]
    }
   ],
   "source": [
    "for i in range(1,101):\n",
    "  if i > 50:\n",
    "    break\n",
    "  else:\n",
    "    print(i, end = \" \")"
   ]
  },
  {
   "cell_type": "code",
   "execution_count": null,
   "metadata": {
    "id": "htIFAdkxqxGz"
   },
   "outputs": [],
   "source": [
    "i =  1\n",
    "while i <= 100:\n",
    "  if i > 50:\n",
    "    break\n",
    "  else:\n",
    "      print(i, end = \" \")\n",
    "  i += 1"
   ]
  },
  {
   "cell_type": "code",
   "execution_count": null,
   "metadata": {
    "id": "t4nbVd_iqxBk"
   },
   "outputs": [],
   "source": []
  },
  {
   "cell_type": "markdown",
   "metadata": {
    "id": "2BmJUBUleceV"
   },
   "source": [
    "### contiune : 특정 조건에서 코드 실행 건너뛰기"
   ]
  },
  {
   "cell_type": "code",
   "execution_count": 7,
   "metadata": {
    "colab": {
     "base_uri": "https://localhost:8080/"
    },
    "id": "pqGnUBCKTBWI",
    "outputId": "c8f6c00a-f00a-4614-f07b-47b66387f956"
   },
   "outputs": [
    {
     "name": "stdout",
     "output_type": "stream",
     "text": [
      "2550\n"
     ]
    }
   ],
   "source": [
    "# 1~100 까지 수 중에서 짝수면 더하고 홀수면 건너뛰기\n",
    "sum = 0\n",
    "\n",
    "for i in range(1,101):\n",
    "  if i % 2 == 1:\n",
    "    pass\n",
    "  else:\n",
    "    sum += i\n",
    "print(sum)"
   ]
  },
  {
   "cell_type": "code",
   "execution_count": 18,
   "metadata": {
    "colab": {
     "base_uri": "https://localhost:8080/"
    },
    "id": "XlctB__Yfalm",
    "outputId": "17ff0177-92cf-4b8b-eda1-76b86a174781"
   },
   "outputs": [
    {
     "name": "stdout",
     "output_type": "stream",
     "text": [
      "2550\n"
     ]
    }
   ],
   "source": [
    "# # 1~100 까지 수 중에서 짝수면 더하고 홀수면 건너뛰기\n",
    "sum = 0\n",
    "i = 1\n",
    "while i <= 100:\n",
    "  if i % 2 == 0:\n",
    "    sum += i\n",
    "  else:\n",
    "    pass\n",
    "  i += 1\n",
    "print(sum)"
   ]
  },
  {
   "cell_type": "markdown",
   "metadata": {
    "id": "SBB5izwhj82R"
   },
   "source": [
    "## 중첩반복문\n",
    "* 반복문 2개 이상을 겹쳐서 사용\n",
    "* 바늘 시계의 원리와 같음\n",
    "* 안쪽 반복이 끝난 후 바깥쪽 반복문이 실행\n",
    "* 분침 0 ~ 59, 시침이 1"
   ]
  },
  {
   "cell_type": "code",
   "execution_count": 27,
   "metadata": {
    "colab": {
     "base_uri": "https://localhost:8080/"
    },
    "id": "ES73Z11Hfaji",
    "outputId": "ddd80f4f-dd85-4ca5-a139-4ba5edf3c156"
   },
   "outputs": [
    {
     "name": "stdout",
     "output_type": "stream",
     "text": [
      "23 59 59\n"
     ]
    }
   ],
   "source": [
    "# 시계 만들기\n",
    "import time\n",
    "for hour in range(0,24):\n",
    "  for minute in range(0,60):\n",
    "    for second in range(0,60):\n",
    "      #time.sleep(0.1)\n",
    "      pass\n",
    "print(hour, minute, second )\n"
   ]
  },
  {
   "cell_type": "markdown",
   "metadata": {
    "id": "Lto7N5gErH4k"
   },
   "source": [
    "## 구구단 만들기"
   ]
  },
  {
   "cell_type": "code",
   "execution_count": null,
   "metadata": {
    "id": "SedQDphBfahb"
   },
   "outputs": [],
   "source": [
    "for i in range()"
   ]
  },
  {
   "cell_type": "code",
   "execution_count": null,
   "metadata": {
    "id": "qa1daIV_fafp"
   },
   "outputs": [],
   "source": [
    "for i in range(2,)"
   ]
  },
  {
   "cell_type": "markdown",
   "metadata": {
    "id": "iPWEaDyOrTk9"
   },
   "source": [
    "df"
   ]
  },
  {
   "cell_type": "code",
   "execution_count": 31,
   "metadata": {
    "colab": {
     "base_uri": "https://localhost:8080/"
    },
    "id": "7pSsl51-rTWB",
    "outputId": "a947fd2c-2aa2-45ec-fdd6-4e943c438a0f"
   },
   "outputs": [
    {
     "name": "stdout",
     "output_type": "stream",
     "text": [
      "\n",
      "구구단  2 단\n",
      "2 * 1 = 2\n",
      "2 * 2 = 4\n",
      "2 * 3 = 6\n",
      "2 * 4 = 8\n",
      "2 * 5 = 10\n",
      "2 * 6 = 12\n",
      "2 * 7 = 14\n",
      "2 * 8 = 16\n",
      "2 * 9 = 18\n",
      "\n",
      "구구단  3 단\n",
      "3 * 1 = 3\n",
      "3 * 2 = 6\n",
      "3 * 3 = 9\n",
      "3 * 4 = 12\n",
      "3 * 5 = 15\n",
      "3 * 6 = 18\n",
      "3 * 7 = 21\n",
      "3 * 8 = 24\n",
      "3 * 9 = 27\n",
      "\n",
      "구구단  4 단\n",
      "4 * 1 = 4\n",
      "4 * 2 = 8\n",
      "4 * 3 = 12\n",
      "4 * 4 = 16\n",
      "4 * 5 = 20\n",
      "4 * 6 = 24\n",
      "4 * 7 = 28\n",
      "4 * 8 = 32\n",
      "4 * 9 = 36\n",
      "\n",
      "구구단  5 단\n",
      "5 * 1 = 5\n",
      "5 * 2 = 10\n",
      "5 * 3 = 15\n",
      "5 * 4 = 20\n",
      "5 * 5 = 25\n",
      "5 * 6 = 30\n",
      "5 * 7 = 35\n",
      "5 * 8 = 40\n",
      "5 * 9 = 45\n",
      "\n",
      "구구단  6 단\n",
      "6 * 1 = 6\n",
      "6 * 2 = 12\n",
      "6 * 3 = 18\n",
      "6 * 4 = 24\n",
      "6 * 5 = 30\n",
      "6 * 6 = 36\n",
      "6 * 7 = 42\n",
      "6 * 8 = 48\n",
      "6 * 9 = 54\n",
      "\n",
      "구구단  7 단\n",
      "7 * 1 = 7\n",
      "7 * 2 = 14\n",
      "7 * 3 = 21\n",
      "7 * 4 = 28\n",
      "7 * 5 = 35\n",
      "7 * 6 = 42\n",
      "7 * 7 = 49\n",
      "7 * 8 = 56\n",
      "7 * 9 = 63\n",
      "\n",
      "구구단  8 단\n",
      "8 * 1 = 8\n",
      "8 * 2 = 16\n",
      "8 * 3 = 24\n",
      "8 * 4 = 32\n",
      "8 * 5 = 40\n",
      "8 * 6 = 48\n",
      "8 * 7 = 56\n",
      "8 * 8 = 64\n",
      "8 * 9 = 72\n",
      "\n",
      "구구단  9 단\n",
      "9 * 1 = 9\n",
      "9 * 2 = 18\n",
      "9 * 3 = 27\n",
      "9 * 4 = 36\n",
      "9 * 5 = 45\n",
      "9 * 6 = 54\n",
      "9 * 7 = 63\n",
      "9 * 8 = 72\n",
      "9 * 9 = 81\n"
     ]
    }
   ],
   "source": [
    "for i in range(2,10):\n",
    "  print(\"\\n구구단 \",i,\"단\")\n",
    "  for j in range(1,10):\n",
    "    print(i, \"*\", j, \"=\", i*j)"
   ]
  },
  {
   "cell_type": "markdown",
   "metadata": {
    "id": "6x0EbNf2soF0"
   },
   "source": [
    "## 중첩 반복문을 사용해서 다중 리스트 출력하기"
   ]
  },
  {
   "cell_type": "code",
   "execution_count": 32,
   "metadata": {
    "id": "dsf0sVLyfadw"
   },
   "outputs": [],
   "source": [
    "L1 = []"
   ]
  },
  {
   "cell_type": "code",
   "execution_count": 38,
   "metadata": {
    "id": "UBoh8434fabS"
   },
   "outputs": [],
   "source": [
    "L1.append(list(range(1,6)))"
   ]
  },
  {
   "cell_type": "code",
   "execution_count": 40,
   "metadata": {
    "colab": {
     "base_uri": "https://localhost:8080/"
    },
    "id": "e8ZhSsY0faZh",
    "outputId": "1bd4cd77-f742-4c05-88b6-c917ef545ba0"
   },
   "outputs": [
    {
     "data": {
      "text/plain": [
       "[1, 2, 3, 4, 5]"
      ]
     },
     "execution_count": 40,
     "metadata": {},
     "output_type": "execute_result"
    }
   ],
   "source": [
    "L1[0]"
   ]
  },
  {
   "cell_type": "code",
   "execution_count": 46,
   "metadata": {
    "colab": {
     "base_uri": "https://localhost:8080/"
    },
    "id": "CLG1ClB4faXn",
    "outputId": "62081529-75c1-456c-a694-9504b4cf7d1d"
   },
   "outputs": [
    {
     "data": {
      "text/plain": [
       "[[1, 2, 3, 4, 5],\n",
       " [1, 2, 3, 4, 5],\n",
       " [1, 2, 3, 4, 5],\n",
       " [1, 2, 3, 4, 5],\n",
       " [1, 2, 3, 4, 5]]"
      ]
     },
     "execution_count": 46,
     "metadata": {},
     "output_type": "execute_result"
    }
   ],
   "source": [
    "L1"
   ]
  },
  {
   "cell_type": "code",
   "execution_count": 51,
   "metadata": {
    "colab": {
     "base_uri": "https://localhost:8080/"
    },
    "id": "3DznaqZ3faVl",
    "outputId": "474d41df-bb06-46aa-ba7c-b11fb095a378"
   },
   "outputs": [
    {
     "name": "stdout",
     "output_type": "stream",
     "text": [
      "[1, 2, 3, 4, 5]\n",
      "리스트 안에 값 :  1\n",
      "리스트 안에 값 :  2\n",
      "리스트 안에 값 :  3\n",
      "리스트 안에 값 :  4\n",
      "리스트 안에 값 :  5\n",
      "[1, 2, 3, 4, 5]\n",
      "리스트 안에 값 :  1\n",
      "리스트 안에 값 :  2\n",
      "리스트 안에 값 :  3\n",
      "리스트 안에 값 :  4\n",
      "리스트 안에 값 :  5\n",
      "[1, 2, 3, 4, 5]\n",
      "리스트 안에 값 :  1\n",
      "리스트 안에 값 :  2\n",
      "리스트 안에 값 :  3\n",
      "리스트 안에 값 :  4\n",
      "리스트 안에 값 :  5\n",
      "[1, 2, 3, 4, 5]\n",
      "리스트 안에 값 :  1\n",
      "리스트 안에 값 :  2\n",
      "리스트 안에 값 :  3\n",
      "리스트 안에 값 :  4\n",
      "리스트 안에 값 :  5\n",
      "[1, 2, 3, 4, 5]\n",
      "리스트 안에 값 :  1\n",
      "리스트 안에 값 :  2\n",
      "리스트 안에 값 :  3\n",
      "리스트 안에 값 :  4\n",
      "리스트 안에 값 :  5\n"
     ]
    }
   ],
   "source": [
    "for i in L1:\n",
    "  print(i)\n",
    "  for j in i:\n",
    "    print(\"리스트 안에 값 : \", j)"
   ]
  },
  {
   "cell_type": "markdown",
   "metadata": {
    "id": "flWnoIbdukZp"
   },
   "source": [
    "1. 리스트에 동물 이름이 저장되어 있다. <br>\n",
    "  리스트 = ['dog', 'cat', 'parrot'] <br>\n",
    "  for문을 사용해서 동물 이름의 첫 글자만 출력하시오 <br>\n",
    "  d c p"
   ]
  },
  {
   "cell_type": "code",
   "execution_count": 66,
   "metadata": {
    "colab": {
     "base_uri": "https://localhost:8080/"
    },
    "id": "ofCykGgvuiAL",
    "outputId": "6139ab27-b9c0-41d3-f38a-c5be8e3b8506"
   },
   "outputs": [
    {
     "name": "stdout",
     "output_type": "stream",
     "text": [
      "d c p "
     ]
    }
   ],
   "source": [
    "L2 = ['dog', 'cat', 'parrot']\n",
    "for i in L2 :\n",
    "  print(i[0], end = \" \")\n"
   ]
  },
  {
   "cell_type": "markdown",
   "metadata": {
    "id": "qog0a9lPzFl0"
   },
   "source": [
    "2. 리스트에서 세 글자 이상의 문자를 화면에 출력하라 <br>\n",
    "L3 = [\"I\", \"study\", \"python\",\"language,\"!\"]<br>\n",
    "  study <br>\n",
    "  python <br>\n",
    "  language <br>"
   ]
  },
  {
   "cell_type": "code",
   "execution_count": 72,
   "metadata": {
    "colab": {
     "base_uri": "https://localhost:8080/"
    },
    "id": "sok-XCuNtyVM",
    "outputId": "7fc8bbf2-1a98-435c-cfe8-db071aef0dec"
   },
   "outputs": [
    {
     "name": "stdout",
     "output_type": "stream",
     "text": [
      "study\n",
      "python\n",
      "language\n"
     ]
    }
   ],
   "source": [
    "L3 = [\"I\", \"study\", \"python\",\"language\",\"!\"]\n",
    "for i in L3:\n",
    "  if len(i) >= 3 :\n",
    "      print(i)"
   ]
  },
  {
   "cell_type": "markdown",
   "metadata": {
    "id": "NKI9jZai0pbI"
   },
   "source": [
    "리스트에 저장된 데이터를 아래와 같이 출력하세요. <br>\n",
    "101호 <br>\n",
    "102호 <br>\n",
    "201호 <br>\n",
    "202호 <br>\n",
    "301호 <br>\n",
    "302호"
   ]
  },
  {
   "cell_type": "code",
   "execution_count": 76,
   "metadata": {
    "colab": {
     "base_uri": "https://localhost:8080/"
    },
    "id": "saF8muintyTL",
    "outputId": "f6ebf878-4e32-4913-d5dd-380754b18ac6"
   },
   "outputs": [
    {
     "name": "stdout",
     "output_type": "stream",
     "text": [
      "101 호\n",
      "102 호\n",
      "201 호\n",
      "202 호\n",
      "301 호\n",
      "302 호\n"
     ]
    }
   ],
   "source": [
    "apart = [[101, 102], [201, 202], [301, 302]]\n",
    "for i in apart:\n",
    "  for j in i:\n",
    "    print(j,\"호\")"
   ]
  },
  {
   "cell_type": "code",
   "execution_count": 94,
   "metadata": {
    "colab": {
     "base_uri": "https://localhost:8080/"
    },
    "id": "dLVlbCSC74uW",
    "outputId": "8359a16b-9396-4924-bf58-57fc6dbcca21"
   },
   "outputs": [
    {
     "name": "stdout",
     "output_type": "stream",
     "text": [
      "101\n",
      "102\n",
      "201\n",
      "202\n",
      "301\n",
      "302\n"
     ]
    }
   ],
   "source": [
    "for i in range(3):\n",
    "  for j in range(2):\n",
    "    print(apart[i][j])"
   ]
  },
  {
   "cell_type": "code",
   "execution_count": 97,
   "metadata": {
    "colab": {
     "base_uri": "https://localhost:8080/"
    },
    "id": "KHtQdrgH9Biv",
    "outputId": "0f22452c-be7e-4d62-994e-40ba6f4049fc"
   },
   "outputs": [
    {
     "name": "stdout",
     "output_type": "stream",
     "text": [
      "[101, 102]\n",
      "[101, 102]\n",
      "[201, 202]\n",
      "[201, 202]\n",
      "[301, 302]\n",
      "[301, 302]\n"
     ]
    }
   ],
   "source": [
    "for i in range(len(apart)):\n",
    "  for j in range(len(apart[i])):\n",
    "    print(apart[i])"
   ]
  },
  {
   "cell_type": "markdown",
   "metadata": {
    "id": "rP8r_CRe-W3C"
   },
   "source": [
    "출력하기\n",
    "301호 <br>\n",
    "302호 <br>\n",
    "201호 <br>\n",
    "202호 <br>\n",
    "101호 <br>\n",
    "102호 <br>"
   ]
  },
  {
   "cell_type": "code",
   "execution_count": 92,
   "metadata": {
    "colab": {
     "base_uri": "https://localhost:8080/"
    },
    "id": "nOXV1SJLtyRJ",
    "outputId": "3dad2b95-f50f-4296-d51a-17e2a5b185ac"
   },
   "outputs": [
    {
     "name": "stdout",
     "output_type": "stream",
     "text": [
      "301 호\n",
      "302 호\n",
      "201 호\n",
      "202 호\n",
      "101 호\n",
      "102 호\n"
     ]
    }
   ],
   "source": [
    "apart2 = [[101, 102], [201, 202], [301, 302]]\n",
    "for i in apart2[::-1]:\n",
    "  for j in i:\n",
    "    print(j,\"호\")\n"
   ]
  },
  {
   "cell_type": "code",
   "execution_count": null,
   "metadata": {
    "id": "wdmz5u0EtyO-"
   },
   "outputs": [],
   "source": []
  },
  {
   "cell_type": "code",
   "execution_count": null,
   "metadata": {
    "id": "5MI1URrytyNL"
   },
   "outputs": [],
   "source": []
  },
  {
   "cell_type": "code",
   "execution_count": null,
   "metadata": {
    "id": "ZuScObdHtyK6"
   },
   "outputs": [],
   "source": []
  },
  {
   "cell_type": "code",
   "execution_count": null,
   "metadata": {
    "id": "qrsAS7DqtyIo"
   },
   "outputs": [],
   "source": []
  },
  {
   "cell_type": "code",
   "execution_count": null,
   "metadata": {
    "id": "kEHRt4DPtyGd"
   },
   "outputs": [],
   "source": []
  },
  {
   "cell_type": "code",
   "execution_count": null,
   "metadata": {
    "id": "3J-0iv6NtyEq"
   },
   "outputs": [],
   "source": []
  },
  {
   "cell_type": "code",
   "execution_count": null,
   "metadata": {
    "id": "3aH1n0yStyCF"
   },
   "outputs": [],
   "source": []
  },
  {
   "cell_type": "code",
   "execution_count": null,
   "metadata": {
    "id": "ggm2lH-YtyAR"
   },
   "outputs": [],
   "source": []
  },
  {
   "cell_type": "code",
   "execution_count": null,
   "metadata": {
    "id": "qxNkiQqNtx90"
   },
   "outputs": [],
   "source": []
  },
  {
   "cell_type": "code",
   "execution_count": null,
   "metadata": {
    "id": "34ow5RZAtx77"
   },
   "outputs": [],
   "source": []
  },
  {
   "cell_type": "code",
   "execution_count": null,
   "metadata": {
    "id": "3m2mkN32tx51"
   },
   "outputs": [],
   "source": []
  },
  {
   "cell_type": "code",
   "execution_count": null,
   "metadata": {
    "id": "-FMBgO8Qtx3f"
   },
   "outputs": [],
   "source": []
  },
  {
   "cell_type": "code",
   "execution_count": null,
   "metadata": {
    "id": "1nOgOLM1tx1H"
   },
   "outputs": [],
   "source": []
  },
  {
   "cell_type": "code",
   "execution_count": null,
   "metadata": {
    "id": "qOx4TlCVtxyb"
   },
   "outputs": [],
   "source": []
  },
  {
   "cell_type": "code",
   "execution_count": null,
   "metadata": {
    "id": "CXnMYfZVtxvj"
   },
   "outputs": [],
   "source": []
  }
 ],
 "metadata": {
  "colab": {
   "provenance": []
  },
  "kernelspec": {
   "display_name": "Python 3 (ipykernel)",
   "language": "python",
   "name": "python3"
  },
  "language_info": {
   "codemirror_mode": {
    "name": "ipython",
    "version": 3
   },
   "file_extension": ".py",
   "mimetype": "text/x-python",
   "name": "python",
   "nbconvert_exporter": "python",
   "pygments_lexer": "ipython3",
   "version": "3.10.14"
  }
 },
 "nbformat": 4,
 "nbformat_minor": 4
}
=======
  "nbformat": 4,
  "nbformat_minor": 0,
  "metadata": {
    "colab": {
      "provenance": []
    },
    "kernelspec": {
      "name": "python3",
      "display_name": "Python 3"
    },
    "language_info": {
      "name": "python"
    }
  },
  "cells": [
    {
      "cell_type": "markdown",
      "source": [
        "#### 반복문 for, while\n",
        "* 반복문은 동일한 작업을 여러 번 반복해야 할 경우 사용하는 명령\n",
        "* for while 두 종류의 반복문이 있음\n",
        "* for는 반복 횟수가 정해져 있는 경우에 사용\n",
        "* while은 반복 횟수가 정해지지 않은 경우에 사용"
      ],
      "metadata": {
        "id": "t3LM78_aLpcr"
      }
    },
    {
      "cell_type": "markdown",
      "source": [
        "####for 반복문 : 반복할 횟수가 정해져 있는 경우\n",
        "for 변수 in 반복할 객체, 자료: <br>\n",
        "____반복할 코드"
      ],
      "metadata": {
        "id": "cxm8iegxLulI"
      }
    },
    {
      "cell_type": "code",
      "source": [
        "list(range(1,11))"
      ],
      "metadata": {
        "colab": {
          "base_uri": "https://localhost:8080/"
        },
        "id": "etDib53OMxYM",
        "outputId": "9deb3d1c-2b42-4b14-887a-6f605a0810f7"
      },
      "execution_count": null,
      "outputs": [
        {
          "output_type": "execute_result",
          "data": {
            "text/plain": [
              "[1, 2, 3, 4, 5, 6, 7, 8, 9, 10]"
            ]
          },
          "metadata": {},
          "execution_count": 2
        }
      ]
    },
    {
      "cell_type": "code",
      "execution_count": null,
      "metadata": {
        "colab": {
          "base_uri": "https://localhost:8080/"
        },
        "id": "FDpOAuZBLcVZ",
        "outputId": "f5543653-8c8a-4dd8-a05c-b4d1bc9fee7d"
      },
      "outputs": [
        {
          "output_type": "stream",
          "name": "stdout",
          "text": [
            "1 2 3 4 5 6 7 8 9 10 "
          ]
        }
      ],
      "source": [
        "# for 문을 이요해서 1 - 10숫자 출력\n",
        "for num in range(1,11):\n",
        "  print(num, end = \" \")\n"
      ]
    },
    {
      "cell_type": "markdown",
      "source": [
        "* 순서가 있는 자료형은 모두 for문에 사용 가능\n",
        " * 문자열, list, tuple"
      ],
      "metadata": {
        "id": "q0GHSJLjNSfX"
      }
    },
    {
      "cell_type": "code",
      "source": [
        "for char in \"파이썬은 문자열을 반복문에 넣어 출력가능\":\n",
        "  print(char, end = \" \")"
      ],
      "metadata": {
        "colab": {
          "base_uri": "https://localhost:8080/"
        },
        "id": "O_HC-UhELjCZ",
        "outputId": "aaa59626-2b66-48a7-faae-e0ee67be5d8e"
      },
      "execution_count": null,
      "outputs": [
        {
          "output_type": "stream",
          "name": "stdout",
          "text": [
            "파 이 썬 은   문 자 열 을   반 복 문 에   넣 어   출 력 가 능 "
          ]
        }
      ]
    },
    {
      "cell_type": "code",
      "source": [
        "for item in [1,2,3,4,5]:\n",
        "  print(item, end = \" \")"
      ],
      "metadata": {
        "colab": {
          "base_uri": "https://localhost:8080/"
        },
        "id": "gqdLt5inLh02",
        "outputId": "b4774ed4-4daf-4e62-eeaa-00473dc191da"
      },
      "execution_count": null,
      "outputs": [
        {
          "output_type": "stream",
          "name": "stdout",
          "text": [
            "1 2 3 4 5 "
          ]
        }
      ]
    },
    {
      "cell_type": "code",
      "source": [
        "L = [1, 2.3, 3, \"문자열\", [1,2,3], (4,5,6), {'반복문':'for'}]"
      ],
      "metadata": {
        "id": "XDLIR4qlLjW2"
      },
      "execution_count": null,
      "outputs": []
    },
    {
      "cell_type": "code",
      "source": [
        "for item in L:\n",
        "  print(item, end = \" \")"
      ],
      "metadata": {
        "colab": {
          "base_uri": "https://localhost:8080/"
        },
        "id": "ZF2H8WovLjvP",
        "outputId": "8e6d896f-5726-4fdc-a568-ae9f493957a5"
      },
      "execution_count": null,
      "outputs": [
        {
          "output_type": "stream",
          "name": "stdout",
          "text": [
            "1 2.3 3 문자열 [1, 2, 3] (4, 5, 6) {'반복문': 'for'} "
          ]
        }
      ]
    },
    {
      "cell_type": "code",
      "source": [
        "t = tuple(L)\n",
        "t"
      ],
      "metadata": {
        "colab": {
          "base_uri": "https://localhost:8080/"
        },
        "id": "25qIrwS2LmGq",
        "outputId": "4729403e-d19b-48f3-abfd-e244e8a9a61e"
      },
      "execution_count": null,
      "outputs": [
        {
          "output_type": "execute_result",
          "data": {
            "text/plain": [
              "(1, 2.3, 3, '문자열', [1, 2, 3], (4, 5, 6), {'반복문': 'for'})"
            ]
          },
          "metadata": {},
          "execution_count": 14
        }
      ]
    },
    {
      "cell_type": "code",
      "source": [
        "for item in t:\n",
        "  print(item, end = \" \")"
      ],
      "metadata": {
        "colab": {
          "base_uri": "https://localhost:8080/"
        },
        "id": "qbAepVmOLmnJ",
        "outputId": "83240a39-c0f9-45a7-ca00-e8e4267733cd"
      },
      "execution_count": null,
      "outputs": [
        {
          "output_type": "stream",
          "name": "stdout",
          "text": [
            "1 2.3 3 문자열 [1, 2, 3] (4, 5, 6) {'반복문': 'for'} "
          ]
        }
      ]
    },
    {
      "cell_type": "code",
      "source": [
        "d = dict(번호 = 1, 주소 = '서울', 전화번호 = '010-1111-2222', 이름 = '홍길동')\n",
        "d"
      ],
      "metadata": {
        "colab": {
          "base_uri": "https://localhost:8080/"
        },
        "id": "m4ZSX7B2Lmv7",
        "outputId": "93d4f055-2bdb-4fde-900a-5f3904f83de7"
      },
      "execution_count": null,
      "outputs": [
        {
          "output_type": "execute_result",
          "data": {
            "text/plain": [
              "{'번호': 1, '주소': '서울', '전화번호': '010-1111-2222', '이름': '홍길동'}"
            ]
          },
          "metadata": {},
          "execution_count": 17
        }
      ]
    },
    {
      "cell_type": "markdown",
      "source": [
        "* 딕셔너리는 반복문에 넣었을 때 key만 출력된다"
      ],
      "metadata": {
        "id": "G__onlP3PykB"
      }
    },
    {
      "cell_type": "code",
      "source": [
        "for item in d:\n",
        "  print(item, end = \" \")"
      ],
      "metadata": {
        "colab": {
          "base_uri": "https://localhost:8080/"
        },
        "id": "shPs8JUBLm2n",
        "outputId": "79c9e355-8e06-4be0-d568-80c975233a81"
      },
      "execution_count": null,
      "outputs": [
        {
          "output_type": "stream",
          "name": "stdout",
          "text": [
            "번호 주소 전화번호 이름 "
          ]
        }
      ]
    },
    {
      "cell_type": "code",
      "source": [
        "for value in d:\n",
        "  print(d[value], end = \" \")"
      ],
      "metadata": {
        "colab": {
          "base_uri": "https://localhost:8080/"
        },
        "id": "IJMgK_Q8Lm8B",
        "outputId": "251f0620-af24-475c-c730-4aa98c894f17"
      },
      "execution_count": null,
      "outputs": [
        {
          "output_type": "stream",
          "name": "stdout",
          "text": [
            "1 서울 010-1111-2222 홍길동 "
          ]
        }
      ]
    },
    {
      "cell_type": "code",
      "source": [
        "# value값이 있으면 value값이 출력되고 없으면 0이 출력됨\n",
        "for key in d:\n",
        "  print(d.get(key,0), end = \" \")"
      ],
      "metadata": {
        "colab": {
          "base_uri": "https://localhost:8080/"
        },
        "id": "oyyQdoMgLnHO",
        "outputId": "45d01176-2dfa-4c7b-9fc4-df6d2394d45e"
      },
      "execution_count": null,
      "outputs": [
        {
          "output_type": "stream",
          "name": "stdout",
          "text": [
            "1 서울 010-1111-2222 홍길동 "
          ]
        }
      ]
    },
    {
      "cell_type": "markdown",
      "source": [
        "for 반복문을 이용해서 1부터 10까지의 정수를 더한 합을 출력하세요\n",
        "* 1부터 10까지 숫자를 만들어 반복문에 넣는다.\n",
        "* 1부터 10까지 누적 덧셈을 한다.\n",
        "* 누적 덧셈을 한 결과를 출력한다."
      ],
      "metadata": {
        "id": "4x6zmG56Reae"
      }
    },
    {
      "cell_type": "code",
      "source": [
        "sum = 0\n",
        "for i in range(1,11):\n",
        "  sum += i\n",
        "print(sum)"
      ],
      "metadata": {
        "colab": {
          "base_uri": "https://localhost:8080/"
        },
        "id": "PdB3NsuqLnKn",
        "outputId": "eb18818b-23e0-4dac-8f20-e26909f00564"
      },
      "execution_count": null,
      "outputs": [
        {
          "output_type": "stream",
          "name": "stdout",
          "text": [
            "55\n"
          ]
        }
      ]
    },
    {
      "cell_type": "markdown",
      "source": [
        "1-100까지 곱한 값을 출력하세요"
      ],
      "metadata": {
        "id": "zoIQrWbMZfT4"
      }
    },
    {
      "cell_type": "code",
      "source": [
        "result = 1\n",
        "for num in range(1,101):\n",
        "  result *= num\n",
        "print(result)"
      ],
      "metadata": {
        "colab": {
          "base_uri": "https://localhost:8080/"
        },
        "id": "t3WZl2utQqNi",
        "outputId": "9daf116f-fb5f-4641-82bb-c17124b22901"
      },
      "execution_count": null,
      "outputs": [
        {
          "output_type": "stream",
          "name": "stdout",
          "text": [
            "93326215443944152681699238856266700490715968264381621468592963895217599993229915608941463976156518286253697920827223758251185210916864000000000000000000000000\n"
          ]
        }
      ]
    },
    {
      "cell_type": "markdown",
      "source": [
        "1부터 50까지 수 중에서 짝수인 수의 합을 구하시오.\n",
        "* 1 - 50 수를 만들기\n",
        "* 홀짝구분 if else    ,% 2 == 0 짝, % 2 ==1 홀\n",
        "* 짝수면 덧셈 누적합\n",
        "* print()\n"
      ],
      "metadata": {
        "id": "kkquBv07b0b4"
      }
    },
    {
      "cell_type": "code",
      "source": [
        "result2 = 0\n",
        "answer = \"\"\n",
        "for num in range(1,51):\n",
        "  if num % 2 == 0:\n",
        "    result2 += num\n",
        "    answer = \"짝수\"\n",
        "  elif num % 2 == 1:\n",
        "    answer = \"홀수\"\n",
        "print(result2)\n",
        "print(answer)"
      ],
      "metadata": {
        "colab": {
          "base_uri": "https://localhost:8080/"
        },
        "id": "36nEWw2VQqLc",
        "outputId": "44600494-c798-4ea0-995d-36bc51bd0ed8"
      },
      "execution_count": null,
      "outputs": [
        {
          "output_type": "stream",
          "name": "stdout",
          "text": [
            "650\n",
            "짝수\n"
          ]
        }
      ]
    },
    {
      "cell_type": "code",
      "source": [
        "result3 = 0\n",
        "for num in range(0,51,2):\n",
        "  result3 += num\n",
        "print(result3)"
      ],
      "metadata": {
        "colab": {
          "base_uri": "https://localhost:8080/"
        },
        "id": "kqF1LgmxQqJZ",
        "outputId": "3862819f-7591-40f8-ff52-56c95569059c"
      },
      "execution_count": null,
      "outputs": [
        {
          "output_type": "stream",
          "name": "stdout",
          "text": [
            "650\n"
          ]
        }
      ]
    },
    {
      "cell_type": "markdown",
      "source": [
        "1부터 100까지의 수 중에서 7의 배수만 찾아 곱한 값을 출력하세요.\n",
        "* 숫자만들기 1 ~ 100\n",
        "* 7의 배수 찾기 % 7 == 0\n",
        "* 누적곱\n",
        "* print()"
      ],
      "metadata": {
        "id": "yRjttKOJgebS"
      }
    },
    {
      "cell_type": "code",
      "source": [
        "result4 = 1\n",
        "for num in range(1,101):\n",
        "  if num % 7 == 0:\n",
        "    result4 *= num\n",
        "print(result4)"
      ],
      "metadata": {
        "colab": {
          "base_uri": "https://localhost:8080/"
        },
        "id": "a1zYSBmAgdu7",
        "outputId": "911baae7-608a-440b-8436-ad3493ea20f3"
      },
      "execution_count": null,
      "outputs": [
        {
          "output_type": "stream",
          "name": "stdout",
          "text": [
            "59126328543388935628800\n"
          ]
        }
      ]
    },
    {
      "cell_type": "markdown",
      "source": [
        "1부터 100까지 수를 만들고 그중 30 ~ 70까지만 더해서 출력하세요."
      ],
      "metadata": {
        "id": "kQnHrwotg6ff"
      }
    },
    {
      "cell_type": "code",
      "source": [
        "result5 = 0\n",
        "for num in range(1,101):\n",
        "  if  30 <= num <= 70:\n",
        "    result5 += num\n",
        "print(result5)"
      ],
      "metadata": {
        "colab": {
          "base_uri": "https://localhost:8080/"
        },
        "id": "fPabciwxQqHM",
        "outputId": "95c73888-8a4c-43d0-efc7-f6f9005c3404"
      },
      "execution_count": null,
      "outputs": [
        {
          "output_type": "stream",
          "name": "stdout",
          "text": [
            "2050\n"
          ]
        }
      ]
    },
    {
      "cell_type": "code",
      "source": [
        "result6 = 0\n",
        "for num in range(1,101):\n",
        "  if num in range(30,71):\n",
        "    result6 += num\n",
        "print(result6)"
      ],
      "metadata": {
        "colab": {
          "base_uri": "https://localhost:8080/"
        },
        "id": "ic7773cYQqFM",
        "outputId": "406a5dcd-230e-440b-8d99-160bd70feef5"
      },
      "execution_count": null,
      "outputs": [
        {
          "output_type": "stream",
          "name": "stdout",
          "text": [
            "2050\n"
          ]
        }
      ]
    },
    {
      "cell_type": "code",
      "source": [
        "result7 = 0\n",
        "for num in range(1,101)[29:70]:\n",
        "  result7 += num\n",
        "print(result7)"
      ],
      "metadata": {
        "colab": {
          "base_uri": "https://localhost:8080/"
        },
        "id": "evfJqLPUQqDK",
        "outputId": "d85b2131-8eca-4181-fccb-4860d8740919"
      },
      "execution_count": null,
      "outputs": [
        {
          "output_type": "stream",
          "name": "stdout",
          "text": [
            "2050\n"
          ]
        }
      ]
    },
    {
      "cell_type": "code",
      "source": [
        "list(range(1,101))[29:70]"
      ],
      "metadata": {
        "colab": {
          "base_uri": "https://localhost:8080/"
        },
        "id": "sGis8diTQqA4",
        "outputId": "32c9ce5d-af13-4f7e-f4b3-3a96504d6ecb"
      },
      "execution_count": null,
      "outputs": [
        {
          "output_type": "execute_result",
          "data": {
            "text/plain": [
              "[30,\n",
              " 31,\n",
              " 32,\n",
              " 33,\n",
              " 34,\n",
              " 35,\n",
              " 36,\n",
              " 37,\n",
              " 38,\n",
              " 39,\n",
              " 40,\n",
              " 41,\n",
              " 42,\n",
              " 43,\n",
              " 44,\n",
              " 45,\n",
              " 46,\n",
              " 47,\n",
              " 48,\n",
              " 49,\n",
              " 50,\n",
              " 51,\n",
              " 52,\n",
              " 53,\n",
              " 54,\n",
              " 55,\n",
              " 56,\n",
              " 57,\n",
              " 58,\n",
              " 59,\n",
              " 60,\n",
              " 61,\n",
              " 62,\n",
              " 63,\n",
              " 64,\n",
              " 65,\n",
              " 66,\n",
              " 67,\n",
              " 68,\n",
              " 69,\n",
              " 70]"
            ]
          },
          "metadata": {},
          "execution_count": 52
        }
      ]
    },
    {
      "cell_type": "code",
      "source": [
        "L1 = list(range(1,10, 2))\n",
        "print('L1', L1)\n",
        "L2 = list(range(0, 10, 2))\n",
        "print('L2', L2)"
      ],
      "metadata": {
        "colab": {
          "base_uri": "https://localhost:8080/"
        },
        "id": "WS8xiiTuQp-3",
        "outputId": "ab9faf7e-82e0-485e-a7a9-a1631837ea64"
      },
      "execution_count": null,
      "outputs": [
        {
          "output_type": "stream",
          "name": "stdout",
          "text": [
            "L1 [1, 3, 5, 7, 9]\n",
            "L2 [0, 2, 4, 6, 8]\n"
          ]
        }
      ]
    },
    {
      "cell_type": "code",
      "source": [
        "L3 = list(range(0,3))\n",
        "L3"
      ],
      "metadata": {
        "colab": {
          "base_uri": "https://localhost:8080/"
        },
        "id": "WGLj770MQp6k",
        "outputId": "0de0acfd-559c-49dd-aa65-c04fe0bbbe20"
      },
      "execution_count": null,
      "outputs": [
        {
          "output_type": "execute_result",
          "data": {
            "text/plain": [
              "[0, 1, 2]"
            ]
          },
          "metadata": {},
          "execution_count": 58
        }
      ]
    },
    {
      "cell_type": "code",
      "source": [
        "temp = 0\n",
        "for num, num2, num3 in zip(L1,L2, L3):\n",
        "  temp = num + num2 + num3\n",
        "  print(num, num2, num3, temp)"
      ],
      "metadata": {
        "colab": {
          "base_uri": "https://localhost:8080/"
        },
        "id": "K_6uk-z_Qp81",
        "outputId": "894e28d8-6bcb-4d98-ea62-ea598abe3434"
      },
      "execution_count": null,
      "outputs": [
        {
          "output_type": "stream",
          "name": "stdout",
          "text": [
            "1 0 0 1\n",
            "3 2 1 6\n",
            "5 4 2 11\n"
          ]
        }
      ]
    },
    {
      "cell_type": "markdown",
      "source": [
        "enumerate(): index를 만들어주는 함수"
      ],
      "metadata": {
        "id": "NxNdAdyRpsWH"
      }
    },
    {
      "cell_type": "code",
      "source": [
        "for char in \"파이썬은 문자열을 반복문에 넣어 출력가능\":\n",
        "  print(char)"
      ],
      "metadata": {
        "colab": {
          "base_uri": "https://localhost:8080/"
        },
        "id": "XBvHvymeQp1R",
        "outputId": "32ed3c2e-2130-4c1c-fad8-e8af1a866032"
      },
      "execution_count": null,
      "outputs": [
        {
          "output_type": "stream",
          "name": "stdout",
          "text": [
            "파\n",
            "이\n",
            "썬\n",
            "은\n",
            " \n",
            "문\n",
            "자\n",
            "열\n",
            "을\n",
            " \n",
            "반\n",
            "복\n",
            "문\n",
            "에\n",
            " \n",
            "넣\n",
            "어\n",
            " \n",
            "출\n",
            "력\n",
            "가\n",
            "능\n"
          ]
        }
      ]
    },
    {
      "cell_type": "code",
      "source": [
        "for char in enumerate(\"파이썬은 문자열을 반복문에 넣어 출력가능\"):\n",
        "  print(char)"
      ],
      "metadata": {
        "colab": {
          "base_uri": "https://localhost:8080/"
        },
        "id": "uYgETipSQpvB",
        "outputId": "24f3f34d-394e-4e30-a5af-f6cae72dac7c"
      },
      "execution_count": null,
      "outputs": [
        {
          "output_type": "stream",
          "name": "stdout",
          "text": [
            "(0, '파')\n",
            "(1, '이')\n",
            "(2, '썬')\n",
            "(3, '은')\n",
            "(4, ' ')\n",
            "(5, '문')\n",
            "(6, '자')\n",
            "(7, '열')\n",
            "(8, '을')\n",
            "(9, ' ')\n",
            "(10, '반')\n",
            "(11, '복')\n",
            "(12, '문')\n",
            "(13, '에')\n",
            "(14, ' ')\n",
            "(15, '넣')\n",
            "(16, '어')\n",
            "(17, ' ')\n",
            "(18, '출')\n",
            "(19, '력')\n",
            "(20, '가')\n",
            "(21, '능')\n"
          ]
        }
      ]
    },
    {
      "cell_type": "code",
      "source": [
        "for index, char in enumerate(\"파이썬은 문자열을 반복문에 넣어 출력가능\"):\n",
        "  print(index, char)"
      ],
      "metadata": {
        "colab": {
          "base_uri": "https://localhost:8080/"
        },
        "id": "yLgB6K9rTBvF",
        "outputId": "c4ca8661-f030-4a05-be0d-80ef4bbe83ca"
      },
      "execution_count": null,
      "outputs": [
        {
          "output_type": "stream",
          "name": "stdout",
          "text": [
            "0 파\n",
            "1 이\n",
            "2 썬\n",
            "3 은\n",
            "4  \n",
            "5 문\n",
            "6 자\n",
            "7 열\n",
            "8 을\n",
            "9  \n",
            "10 반\n",
            "11 복\n",
            "12 문\n",
            "13 에\n",
            "14  \n",
            "15 넣\n",
            "16 어\n",
            "17  \n",
            "18 출\n",
            "19 력\n",
            "20 가\n",
            "21 능\n"
          ]
        }
      ]
    },
    {
      "cell_type": "code",
      "source": [
        "print(L1)\n",
        "print(L2)\n",
        "print(L3)"
      ],
      "metadata": {
        "colab": {
          "base_uri": "https://localhost:8080/"
        },
        "id": "oEzERpjRrOz3",
        "outputId": "4aa2e85c-5895-48da-a05c-6d9d8e9ea40a"
      },
      "execution_count": null,
      "outputs": [
        {
          "output_type": "stream",
          "name": "stdout",
          "text": [
            "[1, 3, 5, 7, 9]\n",
            "[0, 2, 4, 6, 8]\n",
            "[0, 1, 2]\n"
          ]
        }
      ]
    },
    {
      "cell_type": "code",
      "source": [
        "for num1 in enumerate(zip(L1,L2, L3)):\n",
        "  print(num1)"
      ],
      "metadata": {
        "colab": {
          "base_uri": "https://localhost:8080/"
        },
        "id": "ns2h1UVkTBs6",
        "outputId": "7a2df52b-6262-4ec5-ec57-c897461f8ef1"
      },
      "execution_count": null,
      "outputs": [
        {
          "output_type": "stream",
          "name": "stdout",
          "text": [
            "(0, (1, 0, 0))\n",
            "(1, (3, 2, 1))\n",
            "(2, (5, 4, 2))\n"
          ]
        }
      ]
    },
    {
      "cell_type": "code",
      "source": [
        "for index, (num) in enumerate(zip(L1,L2, L3)):\n",
        "  print(\"index : \",index,\"L1 :\", num[0], \"L2 :\",num[1], \"L3 :\", num[2])"
      ],
      "metadata": {
        "colab": {
          "base_uri": "https://localhost:8080/"
        },
        "id": "txXanoz1TBqz",
        "outputId": "6d0b41f6-dcba-4cef-bfd5-4a54aace13b9"
      },
      "execution_count": null,
      "outputs": [
        {
          "output_type": "stream",
          "name": "stdout",
          "text": [
            "index :  0 L1 : 1 L2 : 0 L3 : 0\n",
            "index :  1 L1 : 3 L2 : 2 L3 : 1\n",
            "index :  2 L1 : 5 L2 : 4 L3 : 2\n"
          ]
        }
      ]
    },
    {
      "cell_type": "code",
      "source": [
        "for index, num1, num2, num3 in enumerate(zip(L1,L2, L3)):\n",
        "  print(index, num1, num2, num3)"
      ],
      "metadata": {
        "colab": {
          "base_uri": "https://localhost:8080/",
          "height": 166
        },
        "id": "UzRdnBJ7TBpC",
        "outputId": "804026e5-b4ff-42b7-8eb8-b6c1a876bec7"
      },
      "execution_count": null,
      "outputs": [
        {
          "output_type": "error",
          "ename": "ValueError",
          "evalue": "not enough values to unpack (expected 4, got 2)",
          "traceback": [
            "\u001b[0;31m---------------------------------------------------------------------------\u001b[0m",
            "\u001b[0;31mValueError\u001b[0m                                Traceback (most recent call last)",
            "\u001b[0;32m<ipython-input-73-376c29e81e0a>\u001b[0m in \u001b[0;36m<cell line: 1>\u001b[0;34m()\u001b[0m\n\u001b[0;32m----> 1\u001b[0;31m \u001b[0;32mfor\u001b[0m \u001b[0mindex\u001b[0m\u001b[0;34m,\u001b[0m \u001b[0mnum1\u001b[0m\u001b[0;34m,\u001b[0m \u001b[0mnum2\u001b[0m\u001b[0;34m,\u001b[0m \u001b[0mnum3\u001b[0m \u001b[0;32min\u001b[0m \u001b[0menumerate\u001b[0m\u001b[0;34m(\u001b[0m\u001b[0mzip\u001b[0m\u001b[0;34m(\u001b[0m\u001b[0mL1\u001b[0m\u001b[0;34m,\u001b[0m\u001b[0mL2\u001b[0m\u001b[0;34m,\u001b[0m \u001b[0mL3\u001b[0m\u001b[0;34m)\u001b[0m\u001b[0;34m)\u001b[0m\u001b[0;34m:\u001b[0m\u001b[0;34m\u001b[0m\u001b[0;34m\u001b[0m\u001b[0m\n\u001b[0m\u001b[1;32m      2\u001b[0m   \u001b[0mprint\u001b[0m\u001b[0;34m(\u001b[0m\u001b[0mindex\u001b[0m\u001b[0;34m,\u001b[0m \u001b[0mnum1\u001b[0m\u001b[0;34m,\u001b[0m \u001b[0mnum2\u001b[0m\u001b[0;34m,\u001b[0m \u001b[0mnum3\u001b[0m\u001b[0;34m)\u001b[0m\u001b[0;34m\u001b[0m\u001b[0;34m\u001b[0m\u001b[0m\n",
            "\u001b[0;31mValueError\u001b[0m: not enough values to unpack (expected 4, got 2)"
          ]
        }
      ]
    },
    {
      "cell_type": "markdown",
      "source": [
        "1 ~ 10까지 숫자를 만들고 역순으로 출력하세요"
      ],
      "metadata": {
        "id": "1Hf3sDaMtv9l"
      }
    },
    {
      "cell_type": "code",
      "source": [
        "L3 = list(range(1,11))\n",
        "L3.reverse()\n",
        "print(L3)"
      ],
      "metadata": {
        "colab": {
          "base_uri": "https://localhost:8080/"
        },
        "id": "6HLEupkOTBm1",
        "outputId": "0c84a602-c5ff-4b82-a18b-ee62c64a9e9e"
      },
      "execution_count": null,
      "outputs": [
        {
          "output_type": "stream",
          "name": "stdout",
          "text": [
            "[10, 9, 8, 7, 6, 5, 4, 3, 2, 1]\n"
          ]
        }
      ]
    },
    {
      "cell_type": "code",
      "source": [
        "for num in reversed(range(1,11)):\n",
        "  print(num, end = \" \")"
      ],
      "metadata": {
        "colab": {
          "base_uri": "https://localhost:8080/"
        },
        "id": "uUbB1n98TBk7",
        "outputId": "1cf7d24c-c2d4-4818-e37b-82b3c3157fd5"
      },
      "execution_count": null,
      "outputs": [
        {
          "output_type": "stream",
          "name": "stdout",
          "text": [
            "10 9 8 7 6 5 4 3 2 1 "
          ]
        }
      ]
    },
    {
      "cell_type": "code",
      "source": [
        "for num in reversed(range(10,0,-1)):\n",
        "  print(num, end = \" \")"
      ],
      "metadata": {
        "colab": {
          "base_uri": "https://localhost:8080/"
        },
        "id": "afQ3xFhITBgq",
        "outputId": "e34ac13e-21e9-42a2-a0f6-8627a8ffd2dd"
      },
      "execution_count": null,
      "outputs": [
        {
          "output_type": "stream",
          "name": "stdout",
          "text": [
            "1 2 3 4 5 6 7 8 9 10 "
          ]
        }
      ]
    },
    {
      "cell_type": "code",
      "source": [
        "for num in range(1,11)[::-1]:\n",
        "  print(num, end = \" \")"
      ],
      "metadata": {
        "colab": {
          "base_uri": "https://localhost:8080/"
        },
        "id": "aSwkwZSzTBeH",
        "outputId": "81b89d1e-e37c-475c-f547-59c51be144ef"
      },
      "execution_count": null,
      "outputs": [
        {
          "output_type": "stream",
          "name": "stdout",
          "text": [
            "10 9 8 7 6 5 4 3 2 1 "
          ]
        }
      ]
    },
    {
      "cell_type": "code",
      "source": [
        "for num in range(1,11)[0::2]:\n",
        "  print(num, end = \" \")"
      ],
      "metadata": {
        "colab": {
          "base_uri": "https://localhost:8080/"
        },
        "id": "w_y7Rtc4qxNv",
        "outputId": "07917a28-6bd6-46bf-c0b1-7e759a57e93f"
      },
      "execution_count": null,
      "outputs": [
        {
          "output_type": "stream",
          "name": "stdout",
          "text": [
            "1 3 5 7 9 "
          ]
        }
      ]
    },
    {
      "cell_type": "code",
      "source": [],
      "metadata": {
        "id": "FlrFlz28wYER"
      },
      "execution_count": null,
      "outputs": []
    },
    {
      "cell_type": "code",
      "source": [],
      "metadata": {
        "id": "2oTy-CaYwYCH"
      },
      "execution_count": null,
      "outputs": []
    },
    {
      "cell_type": "markdown",
      "source": [
        "# while 반복할 횟수가 정해지지 않은 경우\n",
        "* 무한 반복 가능\n",
        "* 무한 반복이 되지 않도록 조건식을 잘 짜주는 것이 중요 <br>\n",
        "변수 선언 및 초기화 <br>\n",
        "while 조건식 : <br>\n",
        "____반복할 코드\n",
        "____변수 증가/감소 로직"
      ],
      "metadata": {
        "id": "6GDBJYUWwYxr"
      }
    },
    {
      "cell_type": "markdown",
      "source": [
        "while문으로 1 ~ 10까지 출력하기"
      ],
      "metadata": {
        "id": "RsS4J6EY0sp-"
      }
    },
    {
      "cell_type": "code",
      "source": [
        "i = 1\n",
        "while i <= 10:\n",
        "  print(i, end = \" \")\n",
        "  i += 1"
      ],
      "metadata": {
        "colab": {
          "base_uri": "https://localhost:8080/"
        },
        "id": "RC4mGJcywX_i",
        "outputId": "969b2866-c412-4919-d616-60434d40e632"
      },
      "execution_count": null,
      "outputs": [
        {
          "output_type": "stream",
          "name": "stdout",
          "text": [
            "1 2 3 4 5 6 7 8 9 10 "
          ]
        }
      ]
    },
    {
      "cell_type": "markdown",
      "source": [
        "while문을 이용해서 1 ~ 10까지 더해서 결과를 출력하세요"
      ],
      "metadata": {
        "id": "xqfIvIsf11Ok"
      }
    },
    {
      "cell_type": "code",
      "source": [
        "sum = 0\n",
        "num = 0\n",
        "while num <= 10:\n",
        "  sum += num\n",
        "  num += 1\n",
        "print(sum)"
      ],
      "metadata": {
        "colab": {
          "base_uri": "https://localhost:8080/"
        },
        "id": "mHK4RgRr1ibu",
        "outputId": "c5a305e9-ba7d-4187-c20d-f886ffeddedd"
      },
      "execution_count": null,
      "outputs": [
        {
          "output_type": "stream",
          "name": "stdout",
          "text": [
            "55\n"
          ]
        }
      ]
    },
    {
      "cell_type": "markdown",
      "source": [
        "20에서 1까지 숫자를 더한 값을 출력하세요"
      ],
      "metadata": {
        "id": "MAYGPDvH4QCG"
      }
    },
    {
      "cell_type": "code",
      "source": [
        "sum2 = 0\n",
        "num2 = 20\n",
        "while num2 >= 1:\n",
        "  sum2 += num2\n",
        "  num2 -= 1\n",
        "print(sum2)"
      ],
      "metadata": {
        "colab": {
          "base_uri": "https://localhost:8080/"
        },
        "id": "iyd4HYCRwX9b",
        "outputId": "6c0ee419-83e7-454a-9b47-3592794139c6"
      },
      "execution_count": null,
      "outputs": [
        {
          "output_type": "stream",
          "name": "stdout",
          "text": [
            "210\n"
          ]
        }
      ]
    },
    {
      "cell_type": "markdown",
      "source": [
        "1 ~ 50 까지 수 중에서 3의 배수이고, 짝수인 수를 찾아서 더한 값을 출력하시오."
      ],
      "metadata": {
        "id": "AeiRDH3n5UYm"
      }
    },
    {
      "cell_type": "code",
      "source": [
        "sum3 = 0\n",
        "num3 = 1\n",
        "while num3 <= 50:\n",
        "  if num3 % 3 ==0 and num3 % 2 == 0:\n",
        "    sum3 += num3\n",
        "  num3 += 1\n",
        "print(sum3)"
      ],
      "metadata": {
        "colab": {
          "base_uri": "https://localhost:8080/"
        },
        "id": "Pfy_7jsNwX68",
        "outputId": "2180a837-6b7f-40f3-9ab2-fa3306a4346f"
      },
      "execution_count": null,
      "outputs": [
        {
          "output_type": "stream",
          "name": "stdout",
          "text": [
            "216\n"
          ]
        }
      ]
    },
    {
      "cell_type": "markdown",
      "source": [
        "반복 횟수가 정해지지 않은 경우 : 무한반복"
      ],
      "metadata": {
        "id": "XeqSslGi7LXr"
      }
    },
    {
      "cell_type": "code",
      "source": [
        "while True:\n",
        "  print(\"무한반복\")"
      ],
      "metadata": {
        "id": "OKNz-ZgYwX4-"
      },
      "execution_count": null,
      "outputs": []
    },
    {
      "cell_type": "markdown",
      "source": [
        "무한 반복을 하다가 숫자가 100이 되는 시점까지 숫자를 더해서 합을 구하세요"
      ],
      "metadata": {
        "id": "vv6GsqRv8md_"
      }
    },
    {
      "cell_type": "code",
      "source": [
        "i = 0\n",
        "hap = 0\n",
        "while True:\n",
        "  if i == 101:\n",
        "    break\n",
        "  else:\n",
        "    hap += i\n",
        "    i += 1\n",
        "print(hap)"
      ],
      "metadata": {
        "colab": {
          "base_uri": "https://localhost:8080/"
        },
        "id": "-zR1V8xZwX2R",
        "outputId": "a2d6856d-0dc2-4ea2-991f-9ddd4722bf18"
      },
      "execution_count": null,
      "outputs": [
        {
          "output_type": "stream",
          "name": "stdout",
          "text": [
            "5050\n"
          ]
        }
      ]
    },
    {
      "cell_type": "markdown",
      "source": [
        "* True가 되는 경우 : 1, 정수, 실수 , 문자열, list, tuple, dict, True\n",
        "* False가 되는 경우 0, 0.0, '', \"\", [], (), {}"
      ],
      "metadata": {
        "id": "YKjUstfy9zkp"
      }
    },
    {
      "cell_type": "code",
      "source": [],
      "metadata": {
        "id": "hz-V7MZ7wXz5"
      },
      "execution_count": null,
      "outputs": []
    },
    {
      "cell_type": "markdown",
      "source": [],
      "metadata": {
        "id": "n0ec_lOsbGXr"
      }
    },
    {
      "cell_type": "code",
      "source": [],
      "metadata": {
        "id": "a7xkwVNFwXxG"
      },
      "execution_count": null,
      "outputs": []
    },
    {
      "cell_type": "markdown",
      "source": [
        "7/12"
      ],
      "metadata": {
        "id": "D-2A-9M9bHK2"
      }
    },
    {
      "cell_type": "markdown",
      "source": [
        "반복문에서 아무일도 하지 않고 건너뛰기 : pass\n",
        "* 우선 반복할 코드가 들어가야 하는 곳을 만들고 나중에 작업하기"
      ],
      "metadata": {
        "id": "zd-lcGEvZ51q"
      }
    },
    {
      "cell_type": "code",
      "source": [
        "for i in range(10):\n",
        "  print(i, end = \" \")"
      ],
      "metadata": {
        "colab": {
          "base_uri": "https://localhost:8080/"
        },
        "id": "q5rd4mTSZ5lX",
        "outputId": "ae66ec11-3116-461c-e19c-e4ab5805b482"
      },
      "execution_count": 1,
      "outputs": [
        {
          "output_type": "stream",
          "name": "stdout",
          "text": [
            "0 1 2 3 4 5 6 7 8 9 "
          ]
        }
      ]
    },
    {
      "cell_type": "code",
      "source": [
        "for i in range(10):\n",
        "  pass"
      ],
      "metadata": {
        "id": "AfUYzCUtwXus"
      },
      "execution_count": 2,
      "outputs": []
    },
    {
      "cell_type": "code",
      "source": [
        "i = 1\n",
        "while i <=10:\n",
        "  pass\n",
        "  i += 1"
      ],
      "metadata": {
        "id": "aRtsv74-qxLo"
      },
      "execution_count": 3,
      "outputs": []
    },
    {
      "cell_type": "markdown",
      "source": [
        "### break 반복문을 정지시키는 명령"
      ],
      "metadata": {
        "id": "ahkkEmtwdbor"
      }
    },
    {
      "cell_type": "code",
      "source": [
        "for i in range(1,101):\n",
        "  if i > 50:\n",
        "    break\n",
        "  else:\n",
        "    print(i, end = \" \")"
      ],
      "metadata": {
        "id": "BAYNU-SQqxJU",
        "colab": {
          "base_uri": "https://localhost:8080/"
        },
        "outputId": "36ea0ea1-e435-4fab-e40d-0335e5f9b7c1"
      },
      "execution_count": 4,
      "outputs": [
        {
          "output_type": "stream",
          "name": "stdout",
          "text": [
            "1 2 3 4 5 6 7 8 9 10 11 12 13 14 15 16 17 18 19 20 21 22 23 24 25 26 27 28 29 30 31 32 33 34 35 36 37 38 39 40 41 42 43 44 45 46 47 48 49 50 "
          ]
        }
      ]
    },
    {
      "cell_type": "code",
      "source": [
        "i =  1\n",
        "while i <= 100:\n",
        "  if i > 50:\n",
        "    break\n",
        "  else:\n",
        "      print(i, end = \" \")\n",
        "  i += 1"
      ],
      "metadata": {
        "id": "htIFAdkxqxGz"
      },
      "execution_count": null,
      "outputs": []
    },
    {
      "cell_type": "code",
      "source": [],
      "metadata": {
        "id": "t4nbVd_iqxBk"
      },
      "execution_count": null,
      "outputs": []
    },
    {
      "cell_type": "markdown",
      "source": [
        "### contiune : 특정 조건에서 코드 실행 건너뛰기"
      ],
      "metadata": {
        "id": "2BmJUBUleceV"
      }
    },
    {
      "cell_type": "code",
      "source": [
        "# 1~100 까지 수 중에서 짝수면 더하고 홀수면 건너뛰기\n",
        "sum = 0\n",
        "\n",
        "for i in range(1,101):\n",
        "  if i % 2 == 1:\n",
        "    pass\n",
        "  else:\n",
        "    sum += i\n",
        "print(sum)"
      ],
      "metadata": {
        "id": "pqGnUBCKTBWI",
        "colab": {
          "base_uri": "https://localhost:8080/"
        },
        "outputId": "c8f6c00a-f00a-4614-f07b-47b66387f956"
      },
      "execution_count": 7,
      "outputs": [
        {
          "output_type": "stream",
          "name": "stdout",
          "text": [
            "2550\n"
          ]
        }
      ]
    },
    {
      "cell_type": "code",
      "source": [
        "# # 1~100 까지 수 중에서 짝수면 더하고 홀수면 건너뛰기\n",
        "sum = 0\n",
        "i = 1\n",
        "while i <= 100:\n",
        "  if i % 2 == 0:\n",
        "    sum += i\n",
        "  else:\n",
        "    pass\n",
        "  i += 1\n",
        "print(sum)"
      ],
      "metadata": {
        "colab": {
          "base_uri": "https://localhost:8080/"
        },
        "id": "XlctB__Yfalm",
        "outputId": "17ff0177-92cf-4b8b-eda1-76b86a174781"
      },
      "execution_count": 18,
      "outputs": [
        {
          "output_type": "stream",
          "name": "stdout",
          "text": [
            "2550\n"
          ]
        }
      ]
    },
    {
      "cell_type": "markdown",
      "source": [
        "## 중첩반복문\n",
        "* 반복문 2개 이상을 겹쳐서 사용\n",
        "* 바늘 시계의 원리와 같음\n",
        "* 안쪽 반복이 끝난 후 바깥쪽 반복문이 실행\n",
        "* 분침 0 ~ 59, 시침이 1"
      ],
      "metadata": {
        "id": "SBB5izwhj82R"
      }
    },
    {
      "cell_type": "code",
      "source": [
        "# 시계 만들기\n",
        "import time\n",
        "for hour in range(0,24):\n",
        "  for minute in range(0,60):\n",
        "    for second in range(0,60):\n",
        "      #time.sleep(0.1)\n",
        "      pass\n",
        "print(hour, minute, second )\n"
      ],
      "metadata": {
        "colab": {
          "base_uri": "https://localhost:8080/"
        },
        "id": "ES73Z11Hfaji",
        "outputId": "ddd80f4f-dd85-4ca5-a139-4ba5edf3c156"
      },
      "execution_count": 27,
      "outputs": [
        {
          "output_type": "stream",
          "name": "stdout",
          "text": [
            "23 59 59\n"
          ]
        }
      ]
    },
    {
      "cell_type": "markdown",
      "source": [
        "## 구구단 만들기"
      ],
      "metadata": {
        "id": "Lto7N5gErH4k"
      }
    },
    {
      "cell_type": "code",
      "source": [
        "for i in range()"
      ],
      "metadata": {
        "id": "SedQDphBfahb"
      },
      "execution_count": null,
      "outputs": []
    },
    {
      "cell_type": "code",
      "source": [
        "for i in range(2,)"
      ],
      "metadata": {
        "id": "qa1daIV_fafp"
      },
      "execution_count": null,
      "outputs": []
    },
    {
      "cell_type": "markdown",
      "source": [
        "df"
      ],
      "metadata": {
        "id": "iPWEaDyOrTk9"
      }
    },
    {
      "cell_type": "code",
      "source": [
        "for i in range(2,10):\n",
        "  print(\"\\n구구단 \",i,\"단\")\n",
        "  for j in range(1,10):\n",
        "    print(i, \"*\", j, \"=\", i*j)"
      ],
      "metadata": {
        "colab": {
          "base_uri": "https://localhost:8080/"
        },
        "id": "7pSsl51-rTWB",
        "outputId": "a947fd2c-2aa2-45ec-fdd6-4e943c438a0f"
      },
      "execution_count": 31,
      "outputs": [
        {
          "output_type": "stream",
          "name": "stdout",
          "text": [
            "\n",
            "구구단  2 단\n",
            "2 * 1 = 2\n",
            "2 * 2 = 4\n",
            "2 * 3 = 6\n",
            "2 * 4 = 8\n",
            "2 * 5 = 10\n",
            "2 * 6 = 12\n",
            "2 * 7 = 14\n",
            "2 * 8 = 16\n",
            "2 * 9 = 18\n",
            "\n",
            "구구단  3 단\n",
            "3 * 1 = 3\n",
            "3 * 2 = 6\n",
            "3 * 3 = 9\n",
            "3 * 4 = 12\n",
            "3 * 5 = 15\n",
            "3 * 6 = 18\n",
            "3 * 7 = 21\n",
            "3 * 8 = 24\n",
            "3 * 9 = 27\n",
            "\n",
            "구구단  4 단\n",
            "4 * 1 = 4\n",
            "4 * 2 = 8\n",
            "4 * 3 = 12\n",
            "4 * 4 = 16\n",
            "4 * 5 = 20\n",
            "4 * 6 = 24\n",
            "4 * 7 = 28\n",
            "4 * 8 = 32\n",
            "4 * 9 = 36\n",
            "\n",
            "구구단  5 단\n",
            "5 * 1 = 5\n",
            "5 * 2 = 10\n",
            "5 * 3 = 15\n",
            "5 * 4 = 20\n",
            "5 * 5 = 25\n",
            "5 * 6 = 30\n",
            "5 * 7 = 35\n",
            "5 * 8 = 40\n",
            "5 * 9 = 45\n",
            "\n",
            "구구단  6 단\n",
            "6 * 1 = 6\n",
            "6 * 2 = 12\n",
            "6 * 3 = 18\n",
            "6 * 4 = 24\n",
            "6 * 5 = 30\n",
            "6 * 6 = 36\n",
            "6 * 7 = 42\n",
            "6 * 8 = 48\n",
            "6 * 9 = 54\n",
            "\n",
            "구구단  7 단\n",
            "7 * 1 = 7\n",
            "7 * 2 = 14\n",
            "7 * 3 = 21\n",
            "7 * 4 = 28\n",
            "7 * 5 = 35\n",
            "7 * 6 = 42\n",
            "7 * 7 = 49\n",
            "7 * 8 = 56\n",
            "7 * 9 = 63\n",
            "\n",
            "구구단  8 단\n",
            "8 * 1 = 8\n",
            "8 * 2 = 16\n",
            "8 * 3 = 24\n",
            "8 * 4 = 32\n",
            "8 * 5 = 40\n",
            "8 * 6 = 48\n",
            "8 * 7 = 56\n",
            "8 * 8 = 64\n",
            "8 * 9 = 72\n",
            "\n",
            "구구단  9 단\n",
            "9 * 1 = 9\n",
            "9 * 2 = 18\n",
            "9 * 3 = 27\n",
            "9 * 4 = 36\n",
            "9 * 5 = 45\n",
            "9 * 6 = 54\n",
            "9 * 7 = 63\n",
            "9 * 8 = 72\n",
            "9 * 9 = 81\n"
          ]
        }
      ]
    },
    {
      "cell_type": "markdown",
      "source": [
        "## 중첩 반복문을 사용해서 다중 리스트 출력하기"
      ],
      "metadata": {
        "id": "6x0EbNf2soF0"
      }
    },
    {
      "cell_type": "code",
      "source": [
        "L1 = []"
      ],
      "metadata": {
        "id": "dsf0sVLyfadw"
      },
      "execution_count": 32,
      "outputs": []
    },
    {
      "cell_type": "code",
      "source": [
        "L1.append(list(range(1,6)))"
      ],
      "metadata": {
        "id": "UBoh8434fabS"
      },
      "execution_count": 38,
      "outputs": []
    },
    {
      "cell_type": "code",
      "source": [
        "L1[0]"
      ],
      "metadata": {
        "colab": {
          "base_uri": "https://localhost:8080/"
        },
        "id": "e8ZhSsY0faZh",
        "outputId": "1bd4cd77-f742-4c05-88b6-c917ef545ba0"
      },
      "execution_count": 40,
      "outputs": [
        {
          "output_type": "execute_result",
          "data": {
            "text/plain": [
              "[1, 2, 3, 4, 5]"
            ]
          },
          "metadata": {},
          "execution_count": 40
        }
      ]
    },
    {
      "cell_type": "code",
      "source": [
        "L1"
      ],
      "metadata": {
        "colab": {
          "base_uri": "https://localhost:8080/"
        },
        "id": "CLG1ClB4faXn",
        "outputId": "62081529-75c1-456c-a694-9504b4cf7d1d"
      },
      "execution_count": 46,
      "outputs": [
        {
          "output_type": "execute_result",
          "data": {
            "text/plain": [
              "[[1, 2, 3, 4, 5],\n",
              " [1, 2, 3, 4, 5],\n",
              " [1, 2, 3, 4, 5],\n",
              " [1, 2, 3, 4, 5],\n",
              " [1, 2, 3, 4, 5]]"
            ]
          },
          "metadata": {},
          "execution_count": 46
        }
      ]
    },
    {
      "cell_type": "code",
      "source": [
        "for i in L1:\n",
        "  print(i)\n",
        "  for j in i:\n",
        "    print(\"리스트 안에 값 : \", j)"
      ],
      "metadata": {
        "colab": {
          "base_uri": "https://localhost:8080/"
        },
        "id": "3DznaqZ3faVl",
        "outputId": "474d41df-bb06-46aa-ba7c-b11fb095a378"
      },
      "execution_count": 51,
      "outputs": [
        {
          "output_type": "stream",
          "name": "stdout",
          "text": [
            "[1, 2, 3, 4, 5]\n",
            "리스트 안에 값 :  1\n",
            "리스트 안에 값 :  2\n",
            "리스트 안에 값 :  3\n",
            "리스트 안에 값 :  4\n",
            "리스트 안에 값 :  5\n",
            "[1, 2, 3, 4, 5]\n",
            "리스트 안에 값 :  1\n",
            "리스트 안에 값 :  2\n",
            "리스트 안에 값 :  3\n",
            "리스트 안에 값 :  4\n",
            "리스트 안에 값 :  5\n",
            "[1, 2, 3, 4, 5]\n",
            "리스트 안에 값 :  1\n",
            "리스트 안에 값 :  2\n",
            "리스트 안에 값 :  3\n",
            "리스트 안에 값 :  4\n",
            "리스트 안에 값 :  5\n",
            "[1, 2, 3, 4, 5]\n",
            "리스트 안에 값 :  1\n",
            "리스트 안에 값 :  2\n",
            "리스트 안에 값 :  3\n",
            "리스트 안에 값 :  4\n",
            "리스트 안에 값 :  5\n",
            "[1, 2, 3, 4, 5]\n",
            "리스트 안에 값 :  1\n",
            "리스트 안에 값 :  2\n",
            "리스트 안에 값 :  3\n",
            "리스트 안에 값 :  4\n",
            "리스트 안에 값 :  5\n"
          ]
        }
      ]
    },
    {
      "cell_type": "markdown",
      "source": [
        "1. 리스트에 동물 이름이 저장되어 있다. <br>\n",
        "  리스트 = ['dog', 'cat', 'parrot'] <br>\n",
        "  for문을 사용해서 동물 이름의 첫 글자만 출력하시오 <br>\n",
        "  d c p"
      ],
      "metadata": {
        "id": "flWnoIbdukZp"
      }
    },
    {
      "cell_type": "code",
      "source": [
        "L2 = ['dog', 'cat', 'parrot']\n",
        "for i in L2 :\n",
        "  print(i[0], end = \" \")\n"
      ],
      "metadata": {
        "colab": {
          "base_uri": "https://localhost:8080/"
        },
        "id": "ofCykGgvuiAL",
        "outputId": "6139ab27-b9c0-41d3-f38a-c5be8e3b8506"
      },
      "execution_count": 66,
      "outputs": [
        {
          "output_type": "stream",
          "name": "stdout",
          "text": [
            "d c p "
          ]
        }
      ]
    },
    {
      "cell_type": "markdown",
      "source": [
        "2. 리스트에서 세 글자 이상의 문자를 화면에 출력하라 <br>\n",
        "L3 = [\"I\", \"study\", \"python\",\"language,\"!\"]<br>\n",
        "  study <br>\n",
        "  python <br>\n",
        "  language <br>"
      ],
      "metadata": {
        "id": "qog0a9lPzFl0"
      }
    },
    {
      "cell_type": "code",
      "source": [
        "L3 = [\"I\", \"study\", \"python\",\"language\",\"!\"]\n",
        "for i in L3:\n",
        "  if len(i) >= 3 :\n",
        "      print(i)"
      ],
      "metadata": {
        "colab": {
          "base_uri": "https://localhost:8080/"
        },
        "id": "sok-XCuNtyVM",
        "outputId": "7fc8bbf2-1a98-435c-cfe8-db071aef0dec"
      },
      "execution_count": 72,
      "outputs": [
        {
          "output_type": "stream",
          "name": "stdout",
          "text": [
            "study\n",
            "python\n",
            "language\n"
          ]
        }
      ]
    },
    {
      "cell_type": "markdown",
      "source": [
        "리스트에 저장된 데이터를 아래와 같이 출력하세요. <br>\n",
        "101호 <br>\n",
        "102호 <br>\n",
        "201호 <br>\n",
        "202호 <br>\n",
        "301호 <br>\n",
        "302호"
      ],
      "metadata": {
        "id": "NKI9jZai0pbI"
      }
    },
    {
      "cell_type": "code",
      "source": [
        "apart = [[101, 102], [201, 202], [301, 302]]\n",
        "for i in apart:\n",
        "  for j in i:\n",
        "    print(j,\"호\")"
      ],
      "metadata": {
        "colab": {
          "base_uri": "https://localhost:8080/"
        },
        "id": "saF8muintyTL",
        "outputId": "f6ebf878-4e32-4913-d5dd-380754b18ac6"
      },
      "execution_count": 76,
      "outputs": [
        {
          "output_type": "stream",
          "name": "stdout",
          "text": [
            "101 호\n",
            "102 호\n",
            "201 호\n",
            "202 호\n",
            "301 호\n",
            "302 호\n"
          ]
        }
      ]
    },
    {
      "cell_type": "code",
      "source": [
        "for i in range(3):\n",
        "  for j in range(2):\n",
        "    print(apart[i][j])"
      ],
      "metadata": {
        "colab": {
          "base_uri": "https://localhost:8080/"
        },
        "id": "dLVlbCSC74uW",
        "outputId": "8359a16b-9396-4924-bf58-57fc6dbcca21"
      },
      "execution_count": 94,
      "outputs": [
        {
          "output_type": "stream",
          "name": "stdout",
          "text": [
            "101\n",
            "102\n",
            "201\n",
            "202\n",
            "301\n",
            "302\n"
          ]
        }
      ]
    },
    {
      "cell_type": "code",
      "source": [
        "for i in range(len(apart)):\n",
        "  for j in range(len(apart[i])):\n",
        "    print(apart[i])"
      ],
      "metadata": {
        "colab": {
          "base_uri": "https://localhost:8080/"
        },
        "id": "KHtQdrgH9Biv",
        "outputId": "0f22452c-be7e-4d62-994e-40ba6f4049fc"
      },
      "execution_count": 97,
      "outputs": [
        {
          "output_type": "stream",
          "name": "stdout",
          "text": [
            "[101, 102]\n",
            "[101, 102]\n",
            "[201, 202]\n",
            "[201, 202]\n",
            "[301, 302]\n",
            "[301, 302]\n"
          ]
        }
      ]
    },
    {
      "cell_type": "markdown",
      "source": [
        "출력하기\n",
        "301호 <br>\n",
        "302호 <br>\n",
        "201호 <br>\n",
        "202호 <br>\n",
        "101호 <br>\n",
        "102호 <br>"
      ],
      "metadata": {
        "id": "rP8r_CRe-W3C"
      }
    },
    {
      "cell_type": "code",
      "source": [
        "apart2 = [[101, 102], [201, 202], [301, 302]]\n",
        "for i in apart2[::-1]:\n",
        "  for j in i:\n",
        "    print(j,\"호\")\n",
        ""
      ],
      "metadata": {
        "colab": {
          "base_uri": "https://localhost:8080/"
        },
        "id": "nOXV1SJLtyRJ",
        "outputId": "3dad2b95-f50f-4296-d51a-17e2a5b185ac"
      },
      "execution_count": 92,
      "outputs": [
        {
          "output_type": "stream",
          "name": "stdout",
          "text": [
            "301 호\n",
            "302 호\n",
            "201 호\n",
            "202 호\n",
            "101 호\n",
            "102 호\n"
          ]
        }
      ]
    },
    {
      "cell_type": "code",
      "source": [],
      "metadata": {
        "id": "wdmz5u0EtyO-"
      },
      "execution_count": null,
      "outputs": []
    },
    {
      "cell_type": "code",
      "source": [],
      "metadata": {
        "id": "5MI1URrytyNL"
      },
      "execution_count": null,
      "outputs": []
    },
    {
      "cell_type": "code",
      "source": [],
      "metadata": {
        "id": "ZuScObdHtyK6"
      },
      "execution_count": null,
      "outputs": []
    },
    {
      "cell_type": "code",
      "source": [],
      "metadata": {
        "id": "qrsAS7DqtyIo"
      },
      "execution_count": null,
      "outputs": []
    },
    {
      "cell_type": "code",
      "source": [],
      "metadata": {
        "id": "kEHRt4DPtyGd"
      },
      "execution_count": null,
      "outputs": []
    },
    {
      "cell_type": "code",
      "source": [],
      "metadata": {
        "id": "3J-0iv6NtyEq"
      },
      "execution_count": null,
      "outputs": []
    },
    {
      "cell_type": "code",
      "source": [],
      "metadata": {
        "id": "3aH1n0yStyCF"
      },
      "execution_count": null,
      "outputs": []
    },
    {
      "cell_type": "code",
      "source": [],
      "metadata": {
        "id": "ggm2lH-YtyAR"
      },
      "execution_count": null,
      "outputs": []
    },
    {
      "cell_type": "code",
      "source": [],
      "metadata": {
        "id": "qxNkiQqNtx90"
      },
      "execution_count": null,
      "outputs": []
    },
    {
      "cell_type": "code",
      "source": [],
      "metadata": {
        "id": "34ow5RZAtx77"
      },
      "execution_count": null,
      "outputs": []
    },
    {
      "cell_type": "code",
      "source": [],
      "metadata": {
        "id": "3m2mkN32tx51"
      },
      "execution_count": null,
      "outputs": []
    },
    {
      "cell_type": "code",
      "source": [],
      "metadata": {
        "id": "-FMBgO8Qtx3f"
      },
      "execution_count": null,
      "outputs": []
    },
    {
      "cell_type": "code",
      "source": [],
      "metadata": {
        "id": "1nOgOLM1tx1H"
      },
      "execution_count": null,
      "outputs": []
    },
    {
      "cell_type": "code",
      "source": [],
      "metadata": {
        "id": "qOx4TlCVtxyb"
      },
      "execution_count": null,
      "outputs": []
    },
    {
      "cell_type": "code",
      "source": [],
      "metadata": {
        "id": "CXnMYfZVtxvj"
      },
      "execution_count": null,
      "outputs": []
    }
  ]
}
>>>>>>> d57100b5a08f544ff3ab44815fab733c7e1fc99d
